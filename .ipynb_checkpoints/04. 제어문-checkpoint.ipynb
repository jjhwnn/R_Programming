{
 "cells": [
  {
   "cell_type": "code",
   "execution_count": 1,
   "id": "3692ae34",
   "metadata": {},
   "outputs": [
    {
     "name": "stdout",
     "output_type": "stream",
     "text": [
      "[1] \"--- End ---\"\n"
     ]
    }
   ],
   "source": [
    "x <- 10\n",
    "y <- runif(1) * 100\n",
    "\n",
    "if(x > y){\n",
    "    print(\"x> runif()\")\n",
    "}\n",
    "print(\"--- End ---\")"
   ]
  },
  {
   "cell_type": "code",
   "execution_count": 2,
   "id": "d1d5a53f",
   "metadata": {},
   "outputs": [
    {
     "name": "stdout",
     "output_type": "stream",
     "text": [
      "[1] \"x < runif()\"\n"
     ]
    }
   ],
   "source": [
    "x <- 10\n",
    "y <- runif(1) * 100\n",
    "\n",
    "if(x > y){\n",
    "    print(\"x> runif()\")\n",
    "}else if(x < y){\n",
    "    print(\"x < runif()\")\n",
    "}else {\n",
    "    print(\"x <= runif()\")\n",
    "}"
   ]
  },
  {
   "cell_type": "code",
   "execution_count": 3,
   "id": "0ef3b177",
   "metadata": {},
   "outputs": [
    {
     "name": "stderr",
     "output_type": "stream",
     "text": [
      "Warning message in if (a%%2 == 0) {:\n",
      "“length > 1 이라는 조건이 있고, 첫번째 요소만이 사용될 것입니다”"
     ]
    },
    {
     "data": {
      "text/html": [
       "<ol class=list-inline>\n",
       "\t<li>'8는 짝수입니다.'</li>\n",
       "\t<li>'7는 짝수입니다.'</li>\n",
       "\t<li>'6는 짝수입니다.'</li>\n",
       "</ol>\n"
      ],
      "text/latex": [
       "\\begin{enumerate*}\n",
       "\\item '8는 짝수입니다.'\n",
       "\\item '7는 짝수입니다.'\n",
       "\\item '6는 짝수입니다.'\n",
       "\\end{enumerate*}\n"
      ],
      "text/markdown": [
       "1. '8는 짝수입니다.'\n",
       "2. '7는 짝수입니다.'\n",
       "3. '6는 짝수입니다.'\n",
       "\n",
       "\n"
      ],
      "text/plain": [
       "[1] \"8는 짝수입니다.\" \"7는 짝수입니다.\" \"6는 짝수입니다.\""
      ]
     },
     "metadata": {},
     "output_type": "display_data"
    }
   ],
   "source": [
    "# 홀수 짝수 구분\n",
    "# 출력 함수 : sprintf, print, cat ,...\n",
    "\n",
    "a <- c(8,7,6)\n",
    "\n",
    "if(a %% 2 == 0){\n",
    "    sprintf(\"%i는 짝수입니다.\", a)\n",
    "}else{\n",
    "    cat(a,\"홀수입니다.\")\n",
    "}"
   ]
  },
  {
   "cell_type": "code",
   "execution_count": 4,
   "id": "b3b3eb07",
   "metadata": {
    "scrolled": true
   },
   "outputs": [
    {
     "data": {
      "text/html": [
       "<ol class=list-inline>\n",
       "\t<li><span style=white-space:pre-wrap>'8  : 짝수'</span></li>\n",
       "\t<li>'7 : 홀수'</li>\n",
       "\t<li><span style=white-space:pre-wrap>'6  : 짝수'</span></li>\n",
       "</ol>\n"
      ],
      "text/latex": [
       "\\begin{enumerate*}\n",
       "\\item '8  : 짝수'\n",
       "\\item '7 : 홀수'\n",
       "\\item '6  : 짝수'\n",
       "\\end{enumerate*}\n"
      ],
      "text/markdown": [
       "1. <span style=white-space:pre-wrap>'8  : 짝수'</span>\n",
       "2. '7 : 홀수'\n",
       "3. <span style=white-space:pre-wrap>'6  : 짝수'</span>\n",
       "\n",
       "\n"
      ],
      "text/plain": [
       "[1] \"8  : 짝수\" \"7 : 홀수\"  \"6  : 짝수\""
      ]
     },
     "metadata": {},
     "output_type": "display_data"
    }
   ],
   "source": [
    "# 벡터 처리가 가능한 조건문(== 삼항 연산자와 비슷)\n",
    "\n",
    "a <- c(8,7,6)\n",
    "\n",
    "ifelse(a %% 2 == 0, paste(a,\" : 짝수\"), sprintf(\"%i : 홀수\",a)) "
   ]
  },
  {
   "cell_type": "code",
   "execution_count": 5,
   "id": "bd25f2f6",
   "metadata": {},
   "outputs": [
    {
     "name": "stdout",
     "output_type": "stream",
     "text": [
      "숫자를 입력하세요 :12\n"
     ]
    }
   ],
   "source": [
    "# 사용자로 부터 data를 입력 받아 입력한 숫자가 홀수인지 짝수인지 판단하여 출력하기 Scanner\n",
    "readline(\"숫자를 입력하세요 :\")\n"
   ]
  },
  {
   "cell_type": "code",
   "execution_count": 13,
   "id": "d1ee499d",
   "metadata": {},
   "outputs": [
    {
     "name": "stdout",
     "output_type": "stream",
     "text": [
      "수 입력:12\n"
     ]
    }
   ],
   "source": [
    "# 입력하신 숫자는 12이고 짝수 입니다.\n",
    "\n",
    "num1 <- as.integer(readline(\"수 입력:\"))"
   ]
  },
  {
   "cell_type": "code",
   "execution_count": 19,
   "id": "5d5408b7",
   "metadata": {},
   "outputs": [
    {
     "data": {
      "text/html": [
       "<span style=white-space:pre-wrap>'입력하신 숫자는  12 이고 짝수입니다.'</span>"
      ],
      "text/latex": [
       "'입력하신 숫자는  12 이고 짝수입니다.'"
      ],
      "text/markdown": [
       "<span style=white-space:pre-wrap>'입력하신 숫자는  12 이고 짝수입니다.'</span>"
      ],
      "text/plain": [
       "[1] \"입력하신 숫자는  12 이고 짝수입니다.\""
      ]
     },
     "metadata": {},
     "output_type": "display_data"
    }
   ],
   "source": [
    "ifelse(num1%%2==0, paste(\"입력하신 숫자는 \",num1,\"이고 짝수입니다.\"),\n",
    "       paste(\"입력하신 숫자는 \",num1,\"이고 홀수입니다.\"))\n",
    "    \n",
    "    \n",
    "\n"
   ]
  },
  {
   "cell_type": "code",
   "execution_count": 35,
   "id": "ad29aec8",
   "metadata": {},
   "outputs": [
    {
     "name": "stdout",
     "output_type": "stream",
     "text": [
      "점수를 입력하세요 : 77\n",
      "[1] \"C학점입니다.\"\n"
     ]
    }
   ],
   "source": [
    "score <- as.numeric(readline(\"점수를 입력하세요 : \"))\n",
    "if(score >= 80){\n",
    "    print(\"B학점입니다.\")\n",
    "}else if(score >= 70){\n",
    "    print(\"C학점입니다.\")\n",
    "}else{\n",
    "    print(\"F학점입니다.\")\n",
    "}"
   ]
  },
  {
   "cell_type": "markdown",
   "id": "87e26002",
   "metadata": {},
   "source": [
    "---\n",
    "### csv file을 불러서 사용하기"
   ]
  },
  {
   "cell_type": "code",
   "execution_count": 38,
   "id": "5d3fce3b",
   "metadata": {},
   "outputs": [
    {
     "data": {
      "text/html": [
       "<table>\n",
       "<thead><tr><th scope=col>q1</th><th scope=col>q2</th><th scope=col>q3</th><th scope=col>q4</th><th scope=col>q5</th></tr></thead>\n",
       "<tbody>\n",
       "\t<tr><td>2</td><td>4</td><td>4</td><td>2</td><td>2</td></tr>\n",
       "\t<tr><td>1</td><td>2</td><td>2</td><td>2</td><td>2</td></tr>\n",
       "\t<tr><td>2</td><td>3</td><td>4</td><td>3</td><td>3</td></tr>\n",
       "\t<tr><td>3</td><td>5</td><td>5</td><td>3</td><td>3</td></tr>\n",
       "\t<tr><td>3</td><td>2</td><td>4</td><td>4</td><td>4</td></tr>\n",
       "\t<tr><td>4</td><td>3</td><td>3</td><td>4</td><td>2</td></tr>\n",
       "</tbody>\n",
       "</table>\n"
      ],
      "text/latex": [
       "\\begin{tabular}{r|lllll}\n",
       " q1 & q2 & q3 & q4 & q5\\\\\n",
       "\\hline\n",
       "\t 2 & 4 & 4 & 2 & 2\\\\\n",
       "\t 1 & 2 & 2 & 2 & 2\\\\\n",
       "\t 2 & 3 & 4 & 3 & 3\\\\\n",
       "\t 3 & 5 & 5 & 3 & 3\\\\\n",
       "\t 3 & 2 & 4 & 4 & 4\\\\\n",
       "\t 4 & 3 & 3 & 4 & 2\\\\\n",
       "\\end{tabular}\n"
      ],
      "text/markdown": [
       "\n",
       "| q1 | q2 | q3 | q4 | q5 |\n",
       "|---|---|---|---|---|\n",
       "| 2 | 4 | 4 | 2 | 2 |\n",
       "| 1 | 2 | 2 | 2 | 2 |\n",
       "| 2 | 3 | 4 | 3 | 3 |\n",
       "| 3 | 5 | 5 | 3 | 3 |\n",
       "| 3 | 2 | 4 | 4 | 4 |\n",
       "| 4 | 3 | 3 | 4 | 2 |\n",
       "\n"
      ],
      "text/plain": [
       "  q1 q2 q3 q4 q5\n",
       "1 2  4  4  2  2 \n",
       "2 1  2  2  2  2 \n",
       "3 2  3  4  3  3 \n",
       "4 3  5  5  3  3 \n",
       "5 3  2  4  4  4 \n",
       "6 4  3  3  4  2 "
      ]
     },
     "metadata": {},
     "output_type": "display_data"
    }
   ],
   "source": [
    "excel <- read.csv(\"../Data//excel.csv\")\n",
    "head(excel)"
   ]
  },
  {
   "cell_type": "code",
   "execution_count": 41,
   "id": "f6564de0",
   "metadata": {},
   "outputs": [
    {
     "data": {
      "text/html": [
       "<table>\n",
       "<thead><tr><th></th><th scope=col>q1</th><th scope=col>q2</th><th scope=col>q3</th><th scope=col>q4</th><th scope=col>q5</th></tr></thead>\n",
       "<tbody>\n",
       "\t<tr><th scope=row>397</th><td>2</td><td>3</td><td>5</td><td>2</td><td>4</td></tr>\n",
       "\t<tr><th scope=row>398</th><td>4</td><td>3</td><td>3</td><td>2</td><td>4</td></tr>\n",
       "\t<tr><th scope=row>399</th><td>2</td><td>4</td><td>4</td><td>2</td><td>3</td></tr>\n",
       "\t<tr><th scope=row>400</th><td>2</td><td>2</td><td>5</td><td>2</td><td>4</td></tr>\n",
       "\t<tr><th scope=row>401</th><td>2</td><td>3</td><td>4</td><td>2</td><td>4</td></tr>\n",
       "\t<tr><th scope=row>402</th><td>2</td><td>2</td><td>4</td><td>2</td><td>4</td></tr>\n",
       "</tbody>\n",
       "</table>\n"
      ],
      "text/latex": [
       "\\begin{tabular}{r|lllll}\n",
       "  & q1 & q2 & q3 & q4 & q5\\\\\n",
       "\\hline\n",
       "\t397 & 2 & 3 & 5 & 2 & 4\\\\\n",
       "\t398 & 4 & 3 & 3 & 2 & 4\\\\\n",
       "\t399 & 2 & 4 & 4 & 2 & 3\\\\\n",
       "\t400 & 2 & 2 & 5 & 2 & 4\\\\\n",
       "\t401 & 2 & 3 & 4 & 2 & 4\\\\\n",
       "\t402 & 2 & 2 & 4 & 2 & 4\\\\\n",
       "\\end{tabular}\n"
      ],
      "text/markdown": [
       "\n",
       "| <!--/--> | q1 | q2 | q3 | q4 | q5 |\n",
       "|---|---|---|---|---|---|\n",
       "| 397 | 2 | 3 | 5 | 2 | 4 |\n",
       "| 398 | 4 | 3 | 3 | 2 | 4 |\n",
       "| 399 | 2 | 4 | 4 | 2 | 3 |\n",
       "| 400 | 2 | 2 | 5 | 2 | 4 |\n",
       "| 401 | 2 | 3 | 4 | 2 | 4 |\n",
       "| 402 | 2 | 2 | 4 | 2 | 4 |\n",
       "\n"
      ],
      "text/plain": [
       "    q1 q2 q3 q4 q5\n",
       "397 2  3  5  2  4 \n",
       "398 4  3  3  2  4 \n",
       "399 2  4  4  2  3 \n",
       "400 2  2  5  2  4 \n",
       "401 2  3  4  2  4 \n",
       "402 2  2  4  2  4 "
      ]
     },
     "metadata": {},
     "output_type": "display_data"
    },
    {
     "name": "stdout",
     "output_type": "stream",
     "text": [
      "'data.frame':\t402 obs. of  5 variables:\n",
      " $ q1: int  2 1 2 3 3 4 3 4 4 4 ...\n",
      " $ q2: int  4 2 3 5 2 3 4 2 4 2 ...\n",
      " $ q3: int  4 2 4 5 4 3 4 4 5 4 ...\n",
      " $ q4: int  2 2 3 3 4 4 2 4 3 2 ...\n",
      " $ q5: int  2 2 3 3 4 2 2 4 4 3 ...\n"
     ]
    },
    {
     "data": {
      "text/html": [
       "'data.frame'"
      ],
      "text/latex": [
       "'data.frame'"
      ],
      "text/markdown": [
       "'data.frame'"
      ],
      "text/plain": [
       "[1] \"data.frame\""
      ]
     },
     "metadata": {},
     "output_type": "display_data"
    }
   ],
   "source": [
    "tail(excel)\n",
    "str(excel)\n",
    "class(excel)"
   ]
  },
  {
   "cell_type": "code",
   "execution_count": 47,
   "id": "d349cbb9",
   "metadata": {},
   "outputs": [
    {
     "data": {
      "text/html": [
       "402"
      ],
      "text/latex": [
       "402"
      ],
      "text/markdown": [
       "402"
      ],
      "text/plain": [
       "[1] 402"
      ]
     },
     "metadata": {},
     "output_type": "display_data"
    },
    {
     "name": "stdout",
     "output_type": "stream",
     "text": [
      "  [1] 2.000000 1.000000 2.000000 1.732051 1.732051 2.000000 1.732051 2.000000\n",
      "  [9] 2.000000 2.000000 2.000000 1.732051 1.732051 1.732051 1.000000 1.732051\n",
      " [17] 1.732051 1.732051 2.000000 1.732051 1.732051 2.000000 2.000000 2.000000\n",
      " [25] 1.732051 2.000000 2.000000 2.000000 1.732051 1.732051 1.000000 1.732051\n",
      " [33] 1.732051 1.732051 2.000000 1.732051 2.000000 2.000000 1.732051 2.000000\n",
      " [41] 2.000000 2.000000 1.732051 1.732051 2.000000 2.000000 2.000000 1.000000\n",
      " [49] 2.000000 1.732051 2.000000 2.000000 1.732051 2.000000 1.732051 2.000000\n",
      " [57] 2.000000 2.000000 2.000000 1.732051 2.000000 2.000000 2.000000 1.732051\n",
      " [65] 1.732051 1.732051 1.732051 2.000000 1.000000 2.000000 1.732051 1.732051\n",
      " [73] 1.732051 2.000000 2.000000 2.000000 1.000000 1.732051 1.732051 2.000000\n",
      " [81] 2.000000 2.000000 1.732051 2.000000 1.732051 1.732051 2.000000 1.732051\n",
      " [89] 2.000000 2.000000 2.000000 2.000000 2.000000 2.000000 1.000000 2.000000\n",
      " [97] 2.000000 2.000000 2.000000 2.000000 1.732051 1.732051 2.000000 1.732051\n",
      "[105] 1.732051 2.000000 2.000000 2.000000 2.000000 2.000000 2.000000 2.000000\n",
      "[113] 1.732051 2.000000 2.000000 2.000000 1.732051 1.732051 1.732051 2.000000\n",
      "[121] 1.000000 1.732051 2.000000 1.732051 1.732051 2.000000 1.732051 1.732051\n",
      "[129] 1.732051 2.000000 2.000000 2.000000 1.000000 1.732051 1.732051 2.000000\n",
      "[137] 1.732051 2.000000 1.732051 1.000000 2.000000 1.732051 2.236068 2.000000\n",
      "[145] 1.732051 1.732051 2.000000 2.000000 1.732051 2.000000 1.732051 1.732051\n",
      "[153] 1.000000 1.732051 2.000000 2.000000 1.732051 1.732051 2.000000 2.000000\n",
      "[161] 2.000000 2.000000 2.000000 2.000000 1.732051 1.732051 1.732051 2.000000\n",
      "[169] 2.000000 2.000000 1.000000 1.732051 1.732051 2.000000 1.732051 2.000000\n",
      "[177] 1.732051 1.000000 2.000000 1.732051 2.236068 2.000000 1.732051 1.732051\n",
      "[185] 2.000000 2.000000 1.732051 2.000000 1.732051 1.732051 1.000000 1.732051\n",
      "[193] 2.000000 2.000000 2.000000 2.000000 2.000000 2.000000 2.000000 1.732051\n",
      "[201] 2.000000 2.000000 2.000000 1.732051 1.732051 1.732051 2.000000 1.000000\n",
      "[209] 1.732051 2.000000 1.732051 1.732051 2.000000 1.732051 1.732051 1.000000\n",
      "[217] 1.732051 1.732051 2.000000 1.732051 2.000000 1.732051 1.000000 2.000000\n",
      "[225] 1.732051 2.236068 2.000000 1.732051 1.732051 2.000000 2.000000 1.732051\n",
      "[233] 2.000000 1.732051 1.732051 1.000000 1.732051 2.000000 2.000000 1.732051\n",
      "[241] 1.732051 2.000000 2.000000 2.000000 2.000000 2.000000 2.000000 1.732051\n",
      "[249] 1.000000 1.732051 2.000000 2.000000 2.000000 2.000000 2.000000 2.000000\n",
      "[257] 2.000000 1.732051 2.000000 2.000000 2.000000 1.732051 1.732051 1.732051\n",
      "[265] 2.000000 1.000000 1.732051 2.000000 1.732051 1.732051 2.000000 2.000000\n",
      "[273] 1.732051 2.000000 1.732051 1.732051 1.000000 1.732051 2.000000 2.000000\n",
      "[281] 1.732051 1.732051 2.000000 2.000000 2.000000 2.000000 2.000000 2.000000\n",
      "[289] 1.732051 1.000000 1.732051 2.000000 2.000000 2.000000 2.000000 2.000000\n",
      "[297] 2.000000 2.000000 1.732051 2.000000 2.000000 2.000000 1.732051 1.732051\n",
      "[305] 1.732051 2.000000 1.000000 1.732051 1.732051 2.000000 2.000000 1.732051\n",
      "[313] 2.000000 1.732051 1.732051 1.000000 1.732051 2.000000 2.000000 1.732051\n",
      "[321] 1.732051 2.000000 2.000000 2.000000 2.000000 2.000000 2.000000 1.732051\n",
      "[329] 1.000000 1.732051 2.000000 2.000000 2.000000 2.000000 2.000000 2.000000\n",
      "[337] 2.000000 1.732051 2.000000 2.000000 2.000000 1.732051 1.732051 1.732051\n",
      "[345] 2.000000 1.000000 2.000000 1.732051 1.732051 1.000000 1.732051 2.000000\n",
      "[353] 2.000000 1.732051 1.732051 2.000000 2.000000 2.000000 2.000000 2.000000\n",
      "[361] 2.000000 1.732051 1.000000 1.732051 2.000000 2.000000 2.000000 2.000000\n",
      "[369] 2.000000 2.000000 2.000000 1.732051 2.000000 2.000000 2.000000 1.732051\n",
      "[377] 1.732051 1.732051 2.000000 1.000000 1.732051 2.000000 1.732051 1.732051\n",
      "[385] 2.000000 2.000000 1.732051 2.000000 1.732051 1.732051 1.000000 1.732051\n",
      "[393] 2.000000 2.000000 1.732051 1.732051 2.000000 2.000000 2.000000 2.000000\n",
      "[401] 2.000000 2.000000\n"
     ]
    }
   ],
   "source": [
    "# q1컬럼에서 Data가 3보다 크거나 같으면 data의 제곱근을 구하고 아니면 원래 Data를 출력하기\n",
    "\n",
    "q1 <- excel$q1\n",
    "length(q1)\n",
    "\n",
    "print(ifelse(q1 >= 3, sqrt(q1), q1))"
   ]
  },
  {
   "cell_type": "code",
   "execution_count": 56,
   "id": "ec182fb5",
   "metadata": {},
   "outputs": [
    {
     "data": {
      "text/html": [
       "<table>\n",
       "<thead><tr><th scope=col>q1</th><th scope=col>q2</th><th scope=col>q3</th><th scope=col>q4</th><th scope=col>q5</th><th scope=col>q6</th></tr></thead>\n",
       "<tbody>\n",
       "\t<tr><td>2   </td><td>4   </td><td>4   </td><td>2   </td><td>2   </td><td>2.00</td></tr>\n",
       "\t<tr><td>1   </td><td>2   </td><td>2   </td><td>2   </td><td>2   </td><td>1.00</td></tr>\n",
       "\t<tr><td>2   </td><td>3   </td><td>4   </td><td>3   </td><td>3   </td><td>2.00</td></tr>\n",
       "\t<tr><td>3   </td><td>5   </td><td>5   </td><td>3   </td><td>3   </td><td>1.73</td></tr>\n",
       "\t<tr><td>3   </td><td>2   </td><td>4   </td><td>4   </td><td>4   </td><td>1.73</td></tr>\n",
       "\t<tr><td>4   </td><td>3   </td><td>3   </td><td>4   </td><td>2   </td><td>2.00</td></tr>\n",
       "</tbody>\n",
       "</table>\n"
      ],
      "text/latex": [
       "\\begin{tabular}{r|llllll}\n",
       " q1 & q2 & q3 & q4 & q5 & q6\\\\\n",
       "\\hline\n",
       "\t 2    & 4    & 4    & 2    & 2    & 2.00\\\\\n",
       "\t 1    & 2    & 2    & 2    & 2    & 1.00\\\\\n",
       "\t 2    & 3    & 4    & 3    & 3    & 2.00\\\\\n",
       "\t 3    & 5    & 5    & 3    & 3    & 1.73\\\\\n",
       "\t 3    & 2    & 4    & 4    & 4    & 1.73\\\\\n",
       "\t 4    & 3    & 3    & 4    & 2    & 2.00\\\\\n",
       "\\end{tabular}\n"
      ],
      "text/markdown": [
       "\n",
       "| q1 | q2 | q3 | q4 | q5 | q6 |\n",
       "|---|---|---|---|---|---|\n",
       "| 2    | 4    | 4    | 2    | 2    | 2.00 |\n",
       "| 1    | 2    | 2    | 2    | 2    | 1.00 |\n",
       "| 2    | 3    | 4    | 3    | 3    | 2.00 |\n",
       "| 3    | 5    | 5    | 3    | 3    | 1.73 |\n",
       "| 3    | 2    | 4    | 4    | 4    | 1.73 |\n",
       "| 4    | 3    | 3    | 4    | 2    | 2.00 |\n",
       "\n"
      ],
      "text/plain": [
       "  q1 q2 q3 q4 q5 q6  \n",
       "1 2  4  4  2  2  2.00\n",
       "2 1  2  2  2  2  1.00\n",
       "3 2  3  4  3  3  2.00\n",
       "4 3  5  5  3  3  1.73\n",
       "5 3  2  4  4  4  1.73\n",
       "6 4  3  3  4  2  2.00"
      ]
     },
     "metadata": {},
     "output_type": "display_data"
    }
   ],
   "source": [
    "# q1컬럼에서 Data가 3보다 크거나 같으면 data의 제곱근을 구하고 아니면 Data를 q6라는 컬럼을 만들어 추가하기\n",
    "\n",
    "head(excel)\n",
    "\n",
    "excel$q6 <- ifelse(q1 >= 3, round(sqrt(excel$q1),2), q1)"
   ]
  },
  {
   "cell_type": "code",
   "execution_count": null,
   "id": "489935ca",
   "metadata": {},
   "outputs": [],
   "source": []
  },
  {
   "cell_type": "code",
   "execution_count": null,
   "id": "1c5e211b",
   "metadata": {},
   "outputs": [],
   "source": []
  }
 ],
 "metadata": {
  "kernelspec": {
   "display_name": "R",
   "language": "R",
   "name": "ir"
  },
  "language_info": {
   "codemirror_mode": "r",
   "file_extension": ".r",
   "mimetype": "text/x-r-source",
   "name": "R",
   "pygments_lexer": "r",
   "version": "3.6.1"
  }
 },
 "nbformat": 4,
 "nbformat_minor": 5
}
