{
 "cells": [
  {
   "cell_type": "code",
   "execution_count": 1,
   "id": "df8d1684",
   "metadata": {},
   "outputs": [
    {
     "name": "stdout",
     "output_type": "stream",
     "text": [
      "[1] \"--- End ---\"\n"
     ]
    }
   ],
   "source": [
    "x <- 10\n",
    "y <- runif(1) * 100\n",
    "\n",
    "if(x > y){\n",
    "    print(\"x> runif()\")\n",
    "}\n",
    "print(\"--- End ---\")"
   ]
  },
  {
   "cell_type": "code",
   "execution_count": 2,
   "id": "1a650a3c",
   "metadata": {},
   "outputs": [
    {
     "name": "stdout",
     "output_type": "stream",
     "text": [
      "[1] \"x < runif()\"\n"
     ]
    }
   ],
   "source": [
    "x <- 10\n",
    "y <- runif(1) * 100\n",
    "\n",
    "if(x > y){\n",
    "    print(\"x> runif()\")\n",
    "}else if(x < y){\n",
    "    print(\"x < runif()\")\n",
    "}else {\n",
    "    print(\"x <= runif()\")\n",
    "}"
   ]
  },
  {
   "cell_type": "code",
   "execution_count": 3,
   "id": "b298b4a9",
   "metadata": {},
   "outputs": [
    {
     "name": "stderr",
     "output_type": "stream",
     "text": [
      "Warning message in if (a%%2 == 0) {:\n",
      "“length > 1 이라는 조건이 있고, 첫번째 요소만이 사용될 것입니다”"
     ]
    },
    {
     "data": {
      "text/html": [
       "<ol class=list-inline>\n",
       "\t<li>'8는 짝수입니다.'</li>\n",
       "\t<li>'7는 짝수입니다.'</li>\n",
       "\t<li>'6는 짝수입니다.'</li>\n",
       "</ol>\n"
      ],
      "text/latex": [
       "\\begin{enumerate*}\n",
       "\\item '8는 짝수입니다.'\n",
       "\\item '7는 짝수입니다.'\n",
       "\\item '6는 짝수입니다.'\n",
       "\\end{enumerate*}\n"
      ],
      "text/markdown": [
       "1. '8는 짝수입니다.'\n",
       "2. '7는 짝수입니다.'\n",
       "3. '6는 짝수입니다.'\n",
       "\n",
       "\n"
      ],
      "text/plain": [
       "[1] \"8는 짝수입니다.\" \"7는 짝수입니다.\" \"6는 짝수입니다.\""
      ]
     },
     "metadata": {},
     "output_type": "display_data"
    }
   ],
   "source": [
    "# 홀수 짝수 구분\n",
    "# 출력 함수 : sprintf, print, cat ,...\n",
    "\n",
    "a <- c(8,7,6)\n",
    "\n",
    "if(a %% 2 == 0){\n",
    "    sprintf(\"%i는 짝수입니다.\", a)\n",
    "}else{\n",
    "    cat(a,\"홀수입니다.\")\n",
    "}"
   ]
  },
  {
   "cell_type": "code",
   "execution_count": 4,
   "id": "a3da0b51",
   "metadata": {
    "scrolled": true
   },
   "outputs": [
    {
     "data": {
      "text/html": [
       "<ol class=list-inline>\n",
       "\t<li><span style=white-space:pre-wrap>'8  : 짝수'</span></li>\n",
       "\t<li>'7 : 홀수'</li>\n",
       "\t<li><span style=white-space:pre-wrap>'6  : 짝수'</span></li>\n",
       "</ol>\n"
      ],
      "text/latex": [
       "\\begin{enumerate*}\n",
       "\\item '8  : 짝수'\n",
       "\\item '7 : 홀수'\n",
       "\\item '6  : 짝수'\n",
       "\\end{enumerate*}\n"
      ],
      "text/markdown": [
       "1. <span style=white-space:pre-wrap>'8  : 짝수'</span>\n",
       "2. '7 : 홀수'\n",
       "3. <span style=white-space:pre-wrap>'6  : 짝수'</span>\n",
       "\n",
       "\n"
      ],
      "text/plain": [
       "[1] \"8  : 짝수\" \"7 : 홀수\"  \"6  : 짝수\""
      ]
     },
     "metadata": {},
     "output_type": "display_data"
    }
   ],
   "source": [
    "# 벡터 처리가 가능한 조건문(== 삼항 연산자와 비슷)\n",
    "\n",
    "a <- c(8,7,6)\n",
    "\n",
    "ifelse(a %% 2 == 0, paste(a,\" : 짝수\"), sprintf(\"%i : 홀수\",a)) "
   ]
  },
  {
   "cell_type": "code",
   "execution_count": null,
   "id": "a4b0d928",
   "metadata": {},
   "outputs": [],
   "source": [
    "# 사용자로 부터 data를 입력 받아 입력한 숫자가 홀수인지 짝수인지 판단하여 출력하기 Scanner\n",
    "readline(\"숫자를 입력하세요 :\")\n"
   ]
  },
  {
   "cell_type": "code",
   "execution_count": null,
   "id": "1028fb68",
   "metadata": {},
   "outputs": [],
   "source": [
    "print(num1)"
   ]
  },
  {
   "cell_type": "code",
   "execution_count": null,
   "id": "4a178e6c",
   "metadata": {},
   "outputs": [],
   "source": [
    "# 입력하신 숫자는 12이고 짝수 입니다.\n",
    "\n",
    "readline(\"수 입력:\")"
   ]
  },
  {
   "cell_type": "code",
   "execution_count": null,
   "id": "f9c1c91a",
   "metadata": {},
   "outputs": [],
   "source": []
  },
  {
   "cell_type": "code",
   "execution_count": null,
   "id": "9f417d10",
   "metadata": {},
   "outputs": [],
   "source": []
  },
  {
   "cell_type": "code",
   "execution_count": null,
   "id": "0621fd7e",
   "metadata": {},
   "outputs": [],
   "source": []
  },
  {
   "cell_type": "code",
   "execution_count": null,
   "id": "96e34abd",
   "metadata": {},
   "outputs": [],
   "source": []
  },
  {
   "cell_type": "code",
   "execution_count": null,
   "id": "83af601f",
   "metadata": {},
   "outputs": [],
   "source": []
  },
  {
   "cell_type": "code",
   "execution_count": null,
   "id": "8bee8bf7",
   "metadata": {},
   "outputs": [],
   "source": []
  },
  {
   "cell_type": "code",
   "execution_count": null,
   "id": "81f453ba",
   "metadata": {},
   "outputs": [],
   "source": []
  }
 ],
 "metadata": {
  "kernelspec": {
   "display_name": "R",
   "language": "R",
   "name": "ir"
  },
  "language_info": {
   "codemirror_mode": "r",
   "file_extension": ".r",
   "mimetype": "text/x-r-source",
   "name": "R",
   "pygments_lexer": "r",
   "version": "3.6.1"
  }
 },
 "nbformat": 4,
 "nbformat_minor": 5
}
