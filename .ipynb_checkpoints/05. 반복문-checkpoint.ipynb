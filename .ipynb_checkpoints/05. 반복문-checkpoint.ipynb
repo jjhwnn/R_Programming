{
 "cells": [
  {
   "cell_type": "markdown",
   "id": "64bc2a73",
   "metadata": {},
   "source": [
    "## for문"
   ]
  },
  {
   "cell_type": "code",
   "execution_count": 2,
   "id": "73d532f9",
   "metadata": {},
   "outputs": [
    {
     "name": "stdout",
     "output_type": "stream",
     "text": [
      "[1] 1\n",
      "[1] 2\n",
      "[1] 3\n",
      "[1] 4\n",
      "[1] 5\n",
      "[1] 6\n",
      "[1] 7\n",
      "[1] 8\n",
      "[1] 9\n",
      "[1] 10\n"
     ]
    }
   ],
   "source": [
    "# 1~10까지의 숫자 출력\n",
    "\n",
    "for (i in 1:10){\n",
    "    print(i)\n",
    "}"
   ]
  },
  {
   "cell_type": "code",
   "execution_count": 4,
   "id": "6083c246",
   "metadata": {},
   "outputs": [
    {
     "name": "stdout",
     "output_type": "stream",
     "text": [
      "[1] 1\n",
      "[1] 3\n",
      "[1] 5\n"
     ]
    }
   ],
   "source": [
    "for (i in c(1,3,5)){\n",
    "    print(i)\n",
    "}"
   ]
  },
  {
   "cell_type": "code",
   "execution_count": 5,
   "id": "6094ebbc",
   "metadata": {},
   "outputs": [
    {
     "name": "stdout",
     "output_type": "stream",
     "text": [
      "[1] 1\n",
      "[1] 3\n",
      "[1] 5\n",
      "[1] 7\n",
      "[1] 9\n"
     ]
    }
   ],
   "source": [
    "for (i in seq(1,10,2)){\n",
    "    print(i)\n",
    "}"
   ]
  },
  {
   "cell_type": "code",
   "execution_count": 8,
   "id": "70bfc0fe",
   "metadata": {},
   "outputs": [
    {
     "name": "stdout",
     "output_type": "stream",
     "text": [
      "[1] 1\n"
     ]
    },
    {
     "data": {
      "text/html": [
       "1.4142135623731"
      ],
      "text/latex": [
       "1.4142135623731"
      ],
      "text/markdown": [
       "1.4142135623731"
      ],
      "text/plain": [
       "[1] 1.414214"
      ]
     },
     "metadata": {},
     "output_type": "display_data"
    }
   ],
   "source": [
    "# 1~10까지의 제곱근 구하기\n",
    "\n",
    "print(sqrt(1))\n",
    "sqrt(2)\n"
   ]
  },
  {
   "cell_type": "code",
   "execution_count": 17,
   "id": "072068c2",
   "metadata": {},
   "outputs": [
    {
     "name": "stdout",
     "output_type": "stream",
     "text": [
      "1 => 1 \n",
      "2 => 1.414214 \n",
      "3 => 1.732051 \n",
      "4 => 2 \n",
      "5 => 2.236068 \n",
      "6 => 2.44949 \n",
      "7 => 2.645751 \n",
      "8 => 2.828427 \n",
      "9 => 3 \n",
      "10 => 3.162278 \n"
     ]
    }
   ],
   "source": [
    "for(i in 1:10){\n",
    "    cat(i,\"=>\", sqrt(i),\"\\n\")\n",
    "}"
   ]
  },
  {
   "cell_type": "code",
   "execution_count": 25,
   "id": "01ffb04f",
   "metadata": {},
   "outputs": [
    {
     "name": "stdout",
     "output_type": "stream",
     "text": [
      "1 => 1 \n",
      "2 => 1.4142135623731 \n",
      "3 => 1.73205080756888 \n",
      "4 => 2 \n",
      "5 => 2.23606797749979 \n",
      "6 => 2.44948974278318 \n",
      "7 => 2.64575131106459 \n",
      "8 => 2.82842712474619 \n",
      "9 => 3 \n",
      "10 => 3.16227766016838 \n"
     ]
    }
   ],
   "source": [
    "for(i in 1:10){\n",
    "    cat(paste(i,\"=>\", sqrt(i),\"\\n\"))\n",
    "}"
   ]
  },
  {
   "cell_type": "code",
   "execution_count": 50,
   "id": "7588e0d5",
   "metadata": {},
   "outputs": [
    {
     "data": {
      "text/html": [
       "'홀수의 합은 604이고 짝수의 합은 852 입니다.'"
      ],
      "text/latex": [
       "'홀수의 합은 604이고 짝수의 합은 852 입니다.'"
      ],
      "text/markdown": [
       "'홀수의 합은 604이고 짝수의 합은 852 입니다.'"
      ],
      "text/plain": [
       "[1] \"홀수의 합은 604이고 짝수의 합은 852 입니다.\""
      ]
     },
     "metadata": {},
     "output_type": "display_data"
    }
   ],
   "source": [
    "# excel에서 q3 컬럼 데이터의 홀수의 합과 짝수의 합 구하기\n",
    "\n",
    "# 홀수의 합은 604이고 짝수의 합은 852 입니다.\n",
    "excel <- read.csv(\"../Data//excel.csv\")\n",
    "sum1 <- 0\n",
    "sum2 <- 0\n",
    "\n",
    "for(i in excel$q3){\n",
    "    if(i %% 2 == 0){\n",
    "       sum1 <- sum1+sum(i)\n",
    "    }\n",
    "    if(i %% 2 == 1){\n",
    "       sum2 <- sum2+sum(i)\n",
    "    }\n",
    "    \n",
    "}\n",
    "sprintf(\"홀수의 합은 %i이고 짝수의 합은 %i 입니다.\", sum2, sum1)"
   ]
  },
  {
   "cell_type": "code",
   "execution_count": 52,
   "id": "f82cc92a",
   "metadata": {},
   "outputs": [
    {
     "name": "stdout",
     "output_type": "stream",
     "text": [
      "[1] 216\n"
     ]
    }
   ],
   "source": [
    "# excel에서 q3 컬럼 데이터 중 3의 배수의 합계 구하기\n",
    "sum3 <- 0\n",
    "\n",
    "for(i in excel$q3){\n",
    "    \n",
    "    if(i %% 3 == 0){\n",
    "        sum3 <- sum3 + sum(i)\n",
    "    }\n",
    "    \n",
    "}\n",
    "\n",
    "print(sum3)"
   ]
  },
  {
   "cell_type": "code",
   "execution_count": 54,
   "id": "58c2ffb2",
   "metadata": {},
   "outputs": [
    {
     "name": "stdout",
     "output_type": "stream",
     "text": [
      "합계는  0 입니다."
     ]
    }
   ],
   "source": [
    "# excel에서 q3 컬럼 데이터 중 3의 배수도 되고 4의 배수도 되는 수의 합계를 구하시오\n",
    "\n",
    "sum3 <- 0\n",
    "for(i in excel$q3){\n",
    "    \n",
    "    if(i %% 3 == 0 & i %% 4 == 0){\n",
    "        sum3 <- sum3 + sum(i)\n",
    "    }\n",
    "    \n",
    "}\n",
    "\n",
    "cat(\"합계는 \", sum3, \"입니다.\")\n"
   ]
  },
  {
   "cell_type": "code",
   "execution_count": 56,
   "id": "d1c8f15c",
   "metadata": {},
   "outputs": [
    {
     "name": "stdout",
     "output_type": "stream",
     "text": [
      "2  X  1 = 2 \n",
      "2  X  2 = 4 \n",
      "2  X  3 = 6 \n",
      "2  X  4 = 8 \n",
      "2  X  5 = 10 \n",
      "2  X  6 = 12 \n",
      "2  X  7 = 14 \n",
      "2  X  8 = 16 \n",
      "2  X  9 = 18 \n"
     ]
    }
   ],
   "source": [
    "# 구구단 출력하기 1\n",
    "\n",
    "for(i in 1:9){\n",
    "    cat(2, \" X \", i, \"=\", 2*i, \"\\n\")\n",
    "}"
   ]
  },
  {
   "cell_type": "code",
   "execution_count": 69,
   "id": "6f5ae1de",
   "metadata": {
    "scrolled": true
   },
   "outputs": [],
   "source": [
    "# 구구단 출력하기 2\n",
    "# 구구단 함수 만들기 -1 \n",
    "\n",
    "gugu <- function(){\n",
    "    dan <- as.numeric(readline(\"단을 입력하세요!\"))\n",
    "    for(i in 1:9){\n",
    "        cat(dan, \" X \", i, \"=\", dan*i, \"\\n\")\n",
    "    }\n",
    "}"
   ]
  },
  {
   "cell_type": "code",
   "execution_count": 70,
   "id": "1828b2a7",
   "metadata": {},
   "outputs": [
    {
     "name": "stdout",
     "output_type": "stream",
     "text": [
      "단을 입력하세요!5\n",
      "5  X  1 = 5 \n",
      "5  X  2 = 10 \n",
      "5  X  3 = 15 \n",
      "5  X  4 = 20 \n",
      "5  X  5 = 25 \n",
      "5  X  6 = 30 \n",
      "5  X  7 = 35 \n",
      "5  X  8 = 40 \n",
      "5  X  9 = 45 \n"
     ]
    }
   ],
   "source": [
    "gugu()"
   ]
  },
  {
   "cell_type": "code",
   "execution_count": 71,
   "id": "fc1ec8a3",
   "metadata": {},
   "outputs": [],
   "source": [
    "# 구구단 함수 만들기 - 2\n",
    "gugu <- function(x){    # 파라미터 넣기\n",
    "    for(i in 1:9){\n",
    "        cat(x, \"X\", i, \"=\", x*i, \"\\n\")\n",
    "    }\n",
    "}"
   ]
  },
  {
   "cell_type": "code",
   "execution_count": 73,
   "id": "df485d91",
   "metadata": {},
   "outputs": [
    {
     "name": "stdout",
     "output_type": "stream",
     "text": [
      "6 X 1 = 6 \n",
      "6 X 2 = 12 \n",
      "6 X 3 = 18 \n",
      "6 X 4 = 24 \n",
      "6 X 5 = 30 \n",
      "6 X 6 = 36 \n",
      "6 X 7 = 42 \n",
      "6 X 8 = 48 \n",
      "6 X 9 = 54 \n"
     ]
    }
   ],
   "source": [
    "gugu(6)"
   ]
  },
  {
   "cell_type": "code",
   "execution_count": 74,
   "id": "af11981b",
   "metadata": {},
   "outputs": [],
   "source": [
    "# 구구단 함수 만들기 - 3\n",
    "gugu <- function(x, y){    # 파라미터 넣기\n",
    "    for(i in 1:y){\n",
    "        cat(x, \"X\", i, \"=\", x*i, \"\\n\")\n",
    "    }\n",
    "}"
   ]
  },
  {
   "cell_type": "code",
   "execution_count": 75,
   "id": "468c6519",
   "metadata": {},
   "outputs": [
    {
     "name": "stdout",
     "output_type": "stream",
     "text": [
      "2 X 1 = 2 \n",
      "2 X 2 = 4 \n",
      "2 X 3 = 6 \n",
      "2 X 4 = 8 \n",
      "2 X 5 = 10 \n",
      "2 X 6 = 12 \n",
      "2 X 7 = 14 \n",
      "2 X 8 = 16 \n",
      "2 X 9 = 18 \n",
      "2 X 10 = 20 \n",
      "2 X 11 = 22 \n",
      "2 X 12 = 24 \n"
     ]
    }
   ],
   "source": [
    "gugu(2,12)"
   ]
  },
  {
   "cell_type": "code",
   "execution_count": 77,
   "id": "94ced555",
   "metadata": {},
   "outputs": [
    {
     "name": "stdout",
     "output_type": "stream",
     "text": [
      "2 X 1 = 2 \n",
      "2 X 2 = 4 \n",
      "2 X 3 = 6 \n",
      "2 X 4 = 8 \n",
      "2 X 5 = 10 \n",
      "2 X 6 = 12 \n",
      "2 X 7 = 14 \n",
      "2 X 8 = 16 \n",
      "2 X 9 = 18 \n",
      "-----------------\n",
      "3 X 1 = 3 \n",
      "3 X 2 = 6 \n",
      "3 X 3 = 9 \n",
      "3 X 4 = 12 \n",
      "3 X 5 = 15 \n",
      "3 X 6 = 18 \n",
      "3 X 7 = 21 \n",
      "3 X 8 = 24 \n",
      "3 X 9 = 27 \n",
      "-----------------\n",
      "4 X 1 = 4 \n",
      "4 X 2 = 8 \n",
      "4 X 3 = 12 \n",
      "4 X 4 = 16 \n",
      "4 X 5 = 20 \n",
      "4 X 6 = 24 \n",
      "4 X 7 = 28 \n",
      "4 X 8 = 32 \n",
      "4 X 9 = 36 \n",
      "-----------------\n",
      "5 X 1 = 5 \n",
      "5 X 2 = 10 \n",
      "5 X 3 = 15 \n",
      "5 X 4 = 20 \n",
      "5 X 5 = 25 \n",
      "5 X 6 = 30 \n",
      "5 X 7 = 35 \n",
      "5 X 8 = 40 \n",
      "5 X 9 = 45 \n",
      "-----------------\n",
      "6 X 1 = 6 \n",
      "6 X 2 = 12 \n",
      "6 X 3 = 18 \n",
      "6 X 4 = 24 \n",
      "6 X 5 = 30 \n",
      "6 X 6 = 36 \n",
      "6 X 7 = 42 \n",
      "6 X 8 = 48 \n",
      "6 X 9 = 54 \n",
      "-----------------\n",
      "7 X 1 = 7 \n",
      "7 X 2 = 14 \n",
      "7 X 3 = 21 \n",
      "7 X 4 = 28 \n",
      "7 X 5 = 35 \n",
      "7 X 6 = 42 \n",
      "7 X 7 = 49 \n",
      "7 X 8 = 56 \n",
      "7 X 9 = 63 \n",
      "-----------------\n",
      "8 X 1 = 8 \n",
      "8 X 2 = 16 \n",
      "8 X 3 = 24 \n",
      "8 X 4 = 32 \n",
      "8 X 5 = 40 \n",
      "8 X 6 = 48 \n",
      "8 X 7 = 56 \n",
      "8 X 8 = 64 \n",
      "8 X 9 = 72 \n",
      "-----------------\n",
      "9 X 1 = 9 \n",
      "9 X 2 = 18 \n",
      "9 X 3 = 27 \n",
      "9 X 4 = 36 \n",
      "9 X 5 = 45 \n",
      "9 X 6 = 54 \n",
      "9 X 7 = 63 \n",
      "9 X 8 = 72 \n",
      "9 X 9 = 81 \n",
      "-----------------\n"
     ]
    }
   ],
   "source": [
    "# 구구단 전체 출력하기\n",
    "\n",
    "for(i in 2:9){\n",
    "    for(j in 1:9){\n",
    "        cat(i, \"X\", j, \"=\", i*j, \"\\n\")\n",
    "    }\n",
    "    cat(\"-----------------\\n\")\n",
    "}"
   ]
  },
  {
   "cell_type": "code",
   "execution_count": 80,
   "id": "c2b87188",
   "metadata": {},
   "outputs": [
    {
     "name": "stdout",
     "output_type": "stream",
     "text": [
      "2 X 2 = 4 \n",
      "2 X 4 = 8 \n",
      "2 X 6 = 12 \n",
      "2 X 8 = 16 \n",
      "-----------------\n",
      "4 X 2 = 8 \n",
      "4 X 4 = 16 \n",
      "4 X 6 = 24 \n",
      "4 X 8 = 32 \n",
      "-----------------\n",
      "6 X 2 = 12 \n",
      "6 X 4 = 24 \n",
      "6 X 6 = 36 \n",
      "6 X 8 = 48 \n",
      "-----------------\n",
      "8 X 2 = 16 \n",
      "8 X 4 = 32 \n",
      "8 X 6 = 48 \n",
      "8 X 8 = 64 \n",
      "-----------------\n"
     ]
    }
   ],
   "source": [
    "for(i in seq(2,8,2)){\n",
    "    for(j in seq(2,8,2)){\n",
    "        \n",
    "        cat(i, \"X\", j, \"=\", i*j, \"\\n\")\n",
    "    }\n",
    "    cat(\"-----------------\\n\")\n",
    "}"
   ]
  },
  {
   "cell_type": "code",
   "execution_count": 95,
   "id": "0648a824",
   "metadata": {},
   "outputs": [
    {
     "name": "stdout",
     "output_type": "stream",
     "text": [
      "85  :  유비 \n",
      "95  :  관우 \n",
      "89  :  장비 \n"
     ]
    }
   ],
   "source": [
    "# 2개의 벡터 자료를 함께 출력하기\n",
    "\n",
    "score <- c(85, 95, 89)\n",
    "name <- c(\"유비\", \"관우\", \"장비\")\n",
    "\n",
    "for(i in 1:length(score)){\n",
    "    cat(score[i], \" : \", name[i],\"\\n\")\n",
    "}\n",
    "\n",
    "\n"
   ]
  },
  {
   "cell_type": "code",
   "execution_count": 102,
   "id": "b57a5c3b",
   "metadata": {
    "scrolled": true
   },
   "outputs": [
    {
     "name": "stdout",
     "output_type": "stream",
     "text": [
      "유비  :  85 \n",
      "관우  :  95 \n",
      "장비  :  89 \n"
     ]
    }
   ],
   "source": [
    "j <- 1\n",
    "\n",
    "for(i in score){\n",
    "    \n",
    "    cat(name[j] , \" : \", i, \"\\n\")\n",
    "    j = j + 1\n",
    "    \n",
    "}\n"
   ]
  },
  {
   "cell_type": "code",
   "execution_count": 114,
   "id": "3f9bb638",
   "metadata": {
    "scrolled": true
   },
   "outputs": [
    {
     "name": "stdout",
     "output_type": "stream",
     "text": [
      "유비 : 85 \n",
      "관우 : 95 \n",
      "장비 : 89 \n"
     ]
    }
   ],
   "source": [
    "cat(paste(name, \":\", score, \"\\n\"), sep=\"\")"
   ]
  },
  {
   "cell_type": "markdown",
   "id": "3de477df",
   "metadata": {},
   "source": [
    "# while"
   ]
  },
  {
   "cell_type": "code",
   "execution_count": 115,
   "id": "aefb8f56",
   "metadata": {},
   "outputs": [
    {
     "name": "stdout",
     "output_type": "stream",
     "text": [
      "[1] 1\n",
      "[1] 2\n",
      "[1] 3\n",
      "[1] 4\n",
      "[1] 5\n",
      "[1] 6\n",
      "[1] 7\n",
      "[1] 8\n",
      "[1] 9\n",
      "[1] 10\n"
     ]
    }
   ],
   "source": [
    "i <- 0\n",
    "while(i < 10){\n",
    "    \n",
    "    i = i + 1\n",
    "    print(i)\n",
    "}"
   ]
  },
  {
   "cell_type": "markdown",
   "id": "288ab0a9",
   "metadata": {},
   "source": [
    "### repeat"
   ]
  },
  {
   "cell_type": "code",
   "execution_count": 118,
   "id": "a0feb2d3",
   "metadata": {},
   "outputs": [
    {
     "name": "stdout",
     "output_type": "stream",
     "text": [
      "[1] 1\n",
      "[1] 2\n",
      "[1] 3\n",
      "[1] 4\n",
      "[1] 5\n",
      "[1] 6\n",
      "[1] 7\n",
      "[1] 8\n",
      "[1] 9\n",
      "[1] 10\n"
     ]
    }
   ],
   "source": [
    "i <- 0\n",
    "repeat{        # 조건이 들어가야 함수 종료\n",
    "    i = i + 1\n",
    "    if(i > 10){\n",
    "        break\n",
    "    }\n",
    "    print(i)\n",
    "}"
   ]
  },
  {
   "cell_type": "code",
   "execution_count": null,
   "id": "288efc12",
   "metadata": {},
   "outputs": [],
   "source": []
  }
 ],
 "metadata": {
  "kernelspec": {
   "display_name": "R",
   "language": "R",
   "name": "ir"
  },
  "language_info": {
   "codemirror_mode": "r",
   "file_extension": ".r",
   "mimetype": "text/x-r-source",
   "name": "R",
   "pygments_lexer": "r",
   "version": "3.6.1"
  }
 },
 "nbformat": 4,
 "nbformat_minor": 5
}
