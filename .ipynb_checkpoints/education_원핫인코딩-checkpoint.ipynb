{
 "cells": [
  {
   "cell_type": "code",
   "execution_count": 1,
   "metadata": {
    "vscode": {
     "languageId": "r"
    }
   },
   "outputs": [
    {
     "name": "stderr",
     "output_type": "stream",
     "text": [
      "Loading required package: lattice\n",
      "Loading required package: ggplot2\n",
      "Registered S3 methods overwritten by 'ggplot2':\n",
      "  method         from \n",
      "  [.quosures     rlang\n",
      "  c.quosures     rlang\n",
      "  print.quosures rlang\n",
      "\n",
      "Attaching package: 'dplyr'\n",
      "\n",
      "The following objects are masked from 'package:stats':\n",
      "\n",
      "    filter, lag\n",
      "\n",
      "The following objects are masked from 'package:base':\n",
      "\n",
      "    intersect, setdiff, setequal, union\n",
      "\n",
      "randomForest 4.6-14\n",
      "Type rfNews() to see new features/changes/bug fixes.\n",
      "\n",
      "Attaching package: 'randomForest'\n",
      "\n",
      "The following object is masked from 'package:dplyr':\n",
      "\n",
      "    combine\n",
      "\n",
      "The following object is masked from 'package:ggplot2':\n",
      "\n",
      "    margin\n",
      "\n",
      "Loading required package: grid\n",
      "Loading required package: mvtnorm\n",
      "Loading required package: modeltools\n",
      "Loading required package: stats4\n",
      "Loading required package: strucchange\n",
      "Loading required package: zoo\n",
      "\n",
      "Attaching package: 'zoo'\n",
      "\n",
      "The following objects are masked from 'package:base':\n",
      "\n",
      "    as.Date, as.Date.numeric\n",
      "\n",
      "Loading required package: sandwich\n"
     ]
    }
   ],
   "source": [
    "library(caret)\n",
    "library(dplyr)\n",
    "options(warn = -1)\n",
    "library(caret)\n",
    "library(nnet)\n",
    "library(e1071)\n",
    "library(randomForest)\n",
    "library(party)\n",
    "# library(NbClust)\n",
    "library(class)"
   ]
  },
  {
   "cell_type": "code",
   "execution_count": 2,
   "metadata": {
    "vscode": {
     "languageId": "r"
    }
   },
   "outputs": [
    {
     "data": {
      "text/html": [
       "<table>\n",
       "<thead><tr><th scope=col>날짜</th><th scope=col>일차</th><th scope=col>출발시간</th><th scope=col>소요시간</th></tr></thead>\n",
       "<tbody>\n",
       "\t<tr><td>2013-02-08</td><td>0         </td><td>0         </td><td> 91       </td></tr>\n",
       "\t<tr><td>2013-02-09</td><td>1         </td><td>0         </td><td>132       </td></tr>\n",
       "\t<tr><td>2013-02-10</td><td>2         </td><td>0         </td><td> 83       </td></tr>\n",
       "\t<tr><td>2013-02-11</td><td>3         </td><td>0         </td><td> 87       </td></tr>\n",
       "\t<tr><td>2013-02-12</td><td>4         </td><td>0         </td><td> 84       </td></tr>\n",
       "\t<tr><td>2013-02-08</td><td>0         </td><td>1         </td><td> 88       </td></tr>\n",
       "</tbody>\n",
       "</table>\n"
      ],
      "text/latex": [
       "\\begin{tabular}{r|llll}\n",
       " 날짜 & 일차 & 출발시간 & 소요시간\\\\\n",
       "\\hline\n",
       "\t 2013-02-08 & 0          & 0          &  91       \\\\\n",
       "\t 2013-02-09 & 1          & 0          & 132       \\\\\n",
       "\t 2013-02-10 & 2          & 0          &  83       \\\\\n",
       "\t 2013-02-11 & 3          & 0          &  87       \\\\\n",
       "\t 2013-02-12 & 4          & 0          &  84       \\\\\n",
       "\t 2013-02-08 & 0          & 1          &  88       \\\\\n",
       "\\end{tabular}\n"
      ],
      "text/markdown": [
       "\n",
       "| 날짜 | 일차 | 출발시간 | 소요시간 |\n",
       "|---|---|---|---|\n",
       "| 2013-02-08 | 0          | 0          |  91        |\n",
       "| 2013-02-09 | 1          | 0          | 132        |\n",
       "| 2013-02-10 | 2          | 0          |  83        |\n",
       "| 2013-02-11 | 3          | 0          |  87        |\n",
       "| 2013-02-12 | 4          | 0          |  84        |\n",
       "| 2013-02-08 | 0          | 1          |  88        |\n",
       "\n"
      ],
      "text/plain": [
       "  날짜       일차 출발시간 소요시간\n",
       "1 2013-02-08 0    0         91     \n",
       "2 2013-02-09 1    0        132     \n",
       "3 2013-02-10 2    0         83     \n",
       "4 2013-02-11 3    0         87     \n",
       "5 2013-02-12 4    0         84     \n",
       "6 2013-02-08 0    1         88     "
      ]
     },
     "metadata": {},
     "output_type": "display_data"
    }
   ],
   "source": [
    "서울대전앞뒤2일 <- read.csv('../Data_Project/alldata.csv', fileEncoding = \"utf-8\")[,-c(5:9)]\n",
    "서울대전앞뒤2일[,1] <- as.Date(서울대전앞뒤2일[,1])\n",
    "head(서울대전앞뒤2일)\n"
   ]
  },
  {
   "cell_type": "code",
   "execution_count": 3,
   "metadata": {
    "vscode": {
     "languageId": "r"
    }
   },
   "outputs": [
    {
     "data": {
      "text/html": [
       "82.2245614035088"
      ],
      "text/latex": [
       "82.2245614035088"
      ],
      "text/markdown": [
       "82.2245614035088"
      ],
      "text/plain": [
       "[1] 82.22456"
      ]
     },
     "metadata": {},
     "output_type": "display_data"
    }
   ],
   "source": [
    "sum <- 0\n",
    "\n",
    "for (i in 1:100){\n",
    "  samp <- createDataPartition(서울대전앞뒤2일$소요시간, p=0.7, list=F)\n",
    "  data.tr <- 서울대전앞뒤2일[samp,]\n",
    "  data.test <- 서울대전앞뒤2일[-samp,]\n",
    "\n",
    "  x <- subset(data.test, select = -소요시간)\n",
    "  y <- data.test$소요시간\n",
    "\n",
    "  model_rf <- randomForest(소요시간 ~ . , data = data.tr, ntree = 100)\n",
    "  pred_rf <- predict(model_rf, x)\n",
    "  예측력_rf <- mean((pred_rf*0.85 < y) & (pred_rf*1.15 > y)) \n",
    "  sum <- sum + 예측력_rf\n",
    "}\n",
    "\n",
    "sum"
   ]
  },
  {
   "cell_type": "code",
   "execution_count": 4,
   "metadata": {
    "vscode": {
     "languageId": "r"
    }
   },
   "outputs": [],
   "source": [
    "## 다 : 66.8\n",
    "## 1:4 : 68.3"
   ]
  },
  {
   "cell_type": "code",
   "execution_count": 5,
   "metadata": {
    "vscode": {
     "languageId": "r"
    }
   },
   "outputs": [
    {
     "data": {
      "text/html": [
       "<table>\n",
       "<thead><tr><th scope=col>소요시간</th><th scope=col>일차</th><th scope=col>출발시간</th><th scope=col>연휴길이</th></tr></thead>\n",
       "<tbody>\n",
       "\t<tr><td>91</td><td>0 </td><td>0 </td><td>3 </td></tr>\n",
       "\t<tr><td>88</td><td>0 </td><td>1 </td><td>3 </td></tr>\n",
       "\t<tr><td>88</td><td>0 </td><td>2 </td><td>3 </td></tr>\n",
       "\t<tr><td>87</td><td>0 </td><td>3 </td><td>3 </td></tr>\n",
       "\t<tr><td>91</td><td>0 </td><td>4 </td><td>3 </td></tr>\n",
       "\t<tr><td>97</td><td>0 </td><td>5 </td><td>3 </td></tr>\n",
       "</tbody>\n",
       "</table>\n"
      ],
      "text/latex": [
       "\\begin{tabular}{r|llll}\n",
       " 소요시간 & 일차 & 출발시간 & 연휴길이\\\\\n",
       "\\hline\n",
       "\t 91 & 0  & 0  & 3 \\\\\n",
       "\t 88 & 0  & 1  & 3 \\\\\n",
       "\t 88 & 0  & 2  & 3 \\\\\n",
       "\t 87 & 0  & 3  & 3 \\\\\n",
       "\t 91 & 0  & 4  & 3 \\\\\n",
       "\t 97 & 0  & 5  & 3 \\\\\n",
       "\\end{tabular}\n"
      ],
      "text/markdown": [
       "\n",
       "| 소요시간 | 일차 | 출발시간 | 연휴길이 |\n",
       "|---|---|---|---|\n",
       "| 91 | 0  | 0  | 3  |\n",
       "| 88 | 0  | 1  | 3  |\n",
       "| 88 | 0  | 2  | 3  |\n",
       "| 87 | 0  | 3  | 3  |\n",
       "| 91 | 0  | 4  | 3  |\n",
       "| 97 | 0  | 5  | 3  |\n",
       "\n"
      ],
      "text/plain": [
       "  소요시간 일차 출발시간 연휴길이\n",
       "1 91       0    0        3       \n",
       "2 88       0    1        3       \n",
       "3 88       0    2        3       \n",
       "4 87       0    3        3       \n",
       "5 91       0    4        3       \n",
       "6 97       0    5        3       "
      ]
     },
     "metadata": {},
     "output_type": "display_data"
    },
    {
     "data": {
      "text/html": [
       "1008"
      ],
      "text/latex": [
       "1008"
      ],
      "text/markdown": [
       "1008"
      ],
      "text/plain": [
       "[1] 1008"
      ]
     },
     "metadata": {},
     "output_type": "display_data"
    }
   ],
   "source": [
    "sd22 <- read.csv(\"../Data_Project/진짜최종.csv\", fileEncoding = \"UTF-8\")\n",
    "\n",
    "head(sd22)\n",
    "nrow(sd22)"
   ]
  },
  {
   "cell_type": "code",
   "execution_count": 6,
   "metadata": {},
   "outputs": [
    {
     "data": {
      "text/html": [
       "83.7333333333334"
      ],
      "text/latex": [
       "83.7333333333334"
      ],
      "text/markdown": [
       "83.7333333333334"
      ],
      "text/plain": [
       "[1] 83.73333"
      ]
     },
     "metadata": {},
     "output_type": "display_data"
    }
   ],
   "source": [
    "sum <- 0\n",
    "\n",
    "for (i in 1:100){\n",
    "  samp <- createDataPartition(sd22$소요시간, p=0.7, list=F)\n",
    "  data.tr <- sd22[samp,]\n",
    "  data.test <- sd22[-samp,]\n",
    "\n",
    "  x <- subset(data.test, select = -소요시간)\n",
    "  y <- data.test$소요시간\n",
    "\n",
    "  model_rf <- randomForest(소요시간 ~ . , data = data.tr, ntree = 100)\n",
    "  pred_rf <- predict(model_rf, x)\n",
    "  예측력_rf <- mean((pred_rf*0.80< y) & (pred_rf*1.2 > y)) \n",
    "  sum <- sum + 예측력_rf\n",
    "}\n",
    "\n",
    "sum"
   ]
  },
  {
   "cell_type": "code",
   "execution_count": 7,
   "metadata": {},
   "outputs": [
    {
     "data": {
      "text/html": [
       "<table>\n",
       "<thead><tr><th scope=col>출발시간</th><th scope=col>소요시간</th></tr></thead>\n",
       "<tbody>\n",
       "\t<tr><td> 0       </td><td> 94.14286</td></tr>\n",
       "\t<tr><td> 1       </td><td> 93.76190</td></tr>\n",
       "\t<tr><td> 2       </td><td> 94.45238</td></tr>\n",
       "\t<tr><td> 3       </td><td> 95.54762</td></tr>\n",
       "\t<tr><td> 4       </td><td> 94.47619</td></tr>\n",
       "\t<tr><td> 5       </td><td> 95.47619</td></tr>\n",
       "\t<tr><td> 6       </td><td> 96.69048</td></tr>\n",
       "\t<tr><td> 7       </td><td> 98.02381</td></tr>\n",
       "\t<tr><td> 8       </td><td> 97.64286</td></tr>\n",
       "\t<tr><td> 9       </td><td> 99.69048</td></tr>\n",
       "\t<tr><td>10       </td><td>102.69048</td></tr>\n",
       "\t<tr><td>11       </td><td>105.30952</td></tr>\n",
       "\t<tr><td>12       </td><td>111.04762</td></tr>\n",
       "\t<tr><td>13       </td><td>115.23810</td></tr>\n",
       "\t<tr><td>14       </td><td>118.45238</td></tr>\n",
       "\t<tr><td>15       </td><td>120.92857</td></tr>\n",
       "\t<tr><td>16       </td><td>120.95238</td></tr>\n",
       "\t<tr><td>17       </td><td>125.69048</td></tr>\n",
       "\t<tr><td>18       </td><td>127.19048</td></tr>\n",
       "\t<tr><td>19       </td><td>127.07143</td></tr>\n",
       "\t<tr><td>20       </td><td>124.90476</td></tr>\n",
       "\t<tr><td>21       </td><td>120.73810</td></tr>\n",
       "\t<tr><td>22       </td><td>115.61905</td></tr>\n",
       "\t<tr><td>23       </td><td>111.02381</td></tr>\n",
       "</tbody>\n",
       "</table>\n"
      ],
      "text/latex": [
       "\\begin{tabular}{r|ll}\n",
       " 출발시간 & 소요시간\\\\\n",
       "\\hline\n",
       "\t  0        &  94.14286\\\\\n",
       "\t  1        &  93.76190\\\\\n",
       "\t  2        &  94.45238\\\\\n",
       "\t  3        &  95.54762\\\\\n",
       "\t  4        &  94.47619\\\\\n",
       "\t  5        &  95.47619\\\\\n",
       "\t  6        &  96.69048\\\\\n",
       "\t  7        &  98.02381\\\\\n",
       "\t  8        &  97.64286\\\\\n",
       "\t  9        &  99.69048\\\\\n",
       "\t 10        & 102.69048\\\\\n",
       "\t 11        & 105.30952\\\\\n",
       "\t 12        & 111.04762\\\\\n",
       "\t 13        & 115.23810\\\\\n",
       "\t 14        & 118.45238\\\\\n",
       "\t 15        & 120.92857\\\\\n",
       "\t 16        & 120.95238\\\\\n",
       "\t 17        & 125.69048\\\\\n",
       "\t 18        & 127.19048\\\\\n",
       "\t 19        & 127.07143\\\\\n",
       "\t 20        & 124.90476\\\\\n",
       "\t 21        & 120.73810\\\\\n",
       "\t 22        & 115.61905\\\\\n",
       "\t 23        & 111.02381\\\\\n",
       "\\end{tabular}\n"
      ],
      "text/markdown": [
       "\n",
       "| 출발시간 | 소요시간 |\n",
       "|---|---|\n",
       "|  0        |  94.14286 |\n",
       "|  1        |  93.76190 |\n",
       "|  2        |  94.45238 |\n",
       "|  3        |  95.54762 |\n",
       "|  4        |  94.47619 |\n",
       "|  5        |  95.47619 |\n",
       "|  6        |  96.69048 |\n",
       "|  7        |  98.02381 |\n",
       "|  8        |  97.64286 |\n",
       "|  9        |  99.69048 |\n",
       "| 10        | 102.69048 |\n",
       "| 11        | 105.30952 |\n",
       "| 12        | 111.04762 |\n",
       "| 13        | 115.23810 |\n",
       "| 14        | 118.45238 |\n",
       "| 15        | 120.92857 |\n",
       "| 16        | 120.95238 |\n",
       "| 17        | 125.69048 |\n",
       "| 18        | 127.19048 |\n",
       "| 19        | 127.07143 |\n",
       "| 20        | 124.90476 |\n",
       "| 21        | 120.73810 |\n",
       "| 22        | 115.61905 |\n",
       "| 23        | 111.02381 |\n",
       "\n"
      ],
      "text/plain": [
       "   출발시간 소요시간 \n",
       "1   0        94.14286\n",
       "2   1        93.76190\n",
       "3   2        94.45238\n",
       "4   3        95.54762\n",
       "5   4        94.47619\n",
       "6   5        95.47619\n",
       "7   6        96.69048\n",
       "8   7        98.02381\n",
       "9   8        97.64286\n",
       "10  9        99.69048\n",
       "11 10       102.69048\n",
       "12 11       105.30952\n",
       "13 12       111.04762\n",
       "14 13       115.23810\n",
       "15 14       118.45238\n",
       "16 15       120.92857\n",
       "17 16       120.95238\n",
       "18 17       125.69048\n",
       "19 18       127.19048\n",
       "20 19       127.07143\n",
       "21 20       124.90476\n",
       "22 21       120.73810\n",
       "23 22       115.61905\n",
       "24 23       111.02381"
      ]
     },
     "metadata": {},
     "output_type": "display_data"
    }
   ],
   "source": [
    "sdTime <- aggregate(소요시간 ~ 출발시간, sd22, mean)\n",
    "sdTime"
   ]
  },
  {
   "cell_type": "code",
   "execution_count": 8,
   "metadata": {},
   "outputs": [
    {
     "data": {
      "text/plain": [
       "\n",
       "  0   1   2   3   4   5 \n",
       "192 192 192 192 168  72 "
      ]
     },
     "metadata": {},
     "output_type": "display_data"
    }
   ],
   "source": [
    "table(sd22$일차)"
   ]
  },
  {
   "cell_type": "code",
   "execution_count": 9,
   "metadata": {},
   "outputs": [],
   "source": [
    "sd222 <- read.csv(\"../Data_Project/진짜최종_날짜포함.csv\", fileEncoding = \"utf-8\")"
   ]
  },
  {
   "cell_type": "code",
   "execution_count": 10,
   "metadata": {},
   "outputs": [
    {
     "data": {
      "text/html": [
       "<table>\n",
       "<thead><tr><th scope=col>소요시간</th><th scope=col>일차</th><th scope=col>출발시간</th><th scope=col>연휴길이</th><th scope=col>날짜</th></tr></thead>\n",
       "<tbody>\n",
       "\t<tr><td>91        </td><td>0         </td><td>0         </td><td>2013      </td><td>2013-02-08</td></tr>\n",
       "\t<tr><td>88        </td><td>1         </td><td>0         </td><td>2013      </td><td>2013-02-08</td></tr>\n",
       "\t<tr><td>88        </td><td>2         </td><td>0         </td><td>2013      </td><td>2013-02-08</td></tr>\n",
       "\t<tr><td>87        </td><td>3         </td><td>0         </td><td>2013      </td><td>2013-02-08</td></tr>\n",
       "\t<tr><td>91        </td><td>4         </td><td>0         </td><td>2013      </td><td>2013-02-08</td></tr>\n",
       "\t<tr><td>97        </td><td>5         </td><td>0         </td><td>2013      </td><td>2013-02-08</td></tr>\n",
       "</tbody>\n",
       "</table>\n"
      ],
      "text/latex": [
       "\\begin{tabular}{r|lllll}\n",
       " 소요시간 & 일차 & 출발시간 & 연휴길이 & 날짜\\\\\n",
       "\\hline\n",
       "\t 91         & 0          & 0          & 2013       & 2013-02-08\\\\\n",
       "\t 88         & 1          & 0          & 2013       & 2013-02-08\\\\\n",
       "\t 88         & 2          & 0          & 2013       & 2013-02-08\\\\\n",
       "\t 87         & 3          & 0          & 2013       & 2013-02-08\\\\\n",
       "\t 91         & 4          & 0          & 2013       & 2013-02-08\\\\\n",
       "\t 97         & 5          & 0          & 2013       & 2013-02-08\\\\\n",
       "\\end{tabular}\n"
      ],
      "text/markdown": [
       "\n",
       "| 소요시간 | 일차 | 출발시간 | 연휴길이 | 날짜 |\n",
       "|---|---|---|---|---|\n",
       "| 91         | 0          | 0          | 2013       | 2013-02-08 |\n",
       "| 88         | 1          | 0          | 2013       | 2013-02-08 |\n",
       "| 88         | 2          | 0          | 2013       | 2013-02-08 |\n",
       "| 87         | 3          | 0          | 2013       | 2013-02-08 |\n",
       "| 91         | 4          | 0          | 2013       | 2013-02-08 |\n",
       "| 97         | 5          | 0          | 2013       | 2013-02-08 |\n",
       "\n"
      ],
      "text/plain": [
       "  소요시간 일차 출발시간 연휴길이 날짜      \n",
       "1 91       0    0        2013     2013-02-08\n",
       "2 88       1    0        2013     2013-02-08\n",
       "3 88       2    0        2013     2013-02-08\n",
       "4 87       3    0        2013     2013-02-08\n",
       "5 91       4    0        2013     2013-02-08\n",
       "6 97       5    0        2013     2013-02-08"
      ]
     },
     "metadata": {},
     "output_type": "display_data"
    }
   ],
   "source": [
    "head(sd222)"
   ]
  },
  {
   "cell_type": "code",
   "execution_count": 11,
   "metadata": {},
   "outputs": [
    {
     "data": {
      "text/html": [
       "<table>\n",
       "<thead><tr><th scope=col>X</th><th scope=col>년도</th><th scope=col>서울인구수</th><th scope=col>승용차</th><th scope=col>승합차</th><th scope=col>차합계</th></tr></thead>\n",
       "<tbody>\n",
       "\t<tr><td> 1      </td><td>2013    </td><td>10388055</td><td>2462515 </td><td>156871  </td><td>2619386 </td></tr>\n",
       "\t<tr><td> 6      </td><td>2014    </td><td>10369593</td><td>2510742 </td><td>149991  </td><td>2660733 </td></tr>\n",
       "\t<tr><td>11      </td><td>2015    </td><td>10297138</td><td>2560154 </td><td>141927  </td><td>2702081 </td></tr>\n",
       "\t<tr><td>16      </td><td>2016    </td><td>10204057</td><td>2598344 </td><td>134309  </td><td>2732653 </td></tr>\n",
       "\t<tr><td>21      </td><td>2017    </td><td>10124579</td><td>2641190 </td><td>127564  </td><td>2768754 </td></tr>\n",
       "\t<tr><td>26      </td><td>2018    </td><td>10049607</td><td>2658637 </td><td>120780  </td><td>2779417 </td></tr>\n",
       "\t<tr><td>31      </td><td>2019    </td><td>10010983</td><td>2670803 </td><td>114310  </td><td>2785113 </td></tr>\n",
       "\t<tr><td>37      </td><td>2020    </td><td> 9911088</td><td>2711984 </td><td>106504  </td><td>2818488 </td></tr>\n",
       "</tbody>\n",
       "</table>\n"
      ],
      "text/latex": [
       "\\begin{tabular}{r|llllll}\n",
       " X & 년도 & 서울인구수 & 승용차 & 승합차 & 차합계\\\\\n",
       "\\hline\n",
       "\t  1       & 2013     & 10388055 & 2462515  & 156871   & 2619386 \\\\\n",
       "\t  6       & 2014     & 10369593 & 2510742  & 149991   & 2660733 \\\\\n",
       "\t 11       & 2015     & 10297138 & 2560154  & 141927   & 2702081 \\\\\n",
       "\t 16       & 2016     & 10204057 & 2598344  & 134309   & 2732653 \\\\\n",
       "\t 21       & 2017     & 10124579 & 2641190  & 127564   & 2768754 \\\\\n",
       "\t 26       & 2018     & 10049607 & 2658637  & 120780   & 2779417 \\\\\n",
       "\t 31       & 2019     & 10010983 & 2670803  & 114310   & 2785113 \\\\\n",
       "\t 37       & 2020     &  9911088 & 2711984  & 106504   & 2818488 \\\\\n",
       "\\end{tabular}\n"
      ],
      "text/markdown": [
       "\n",
       "| X | 년도 | 서울인구수 | 승용차 | 승합차 | 차합계 |\n",
       "|---|---|---|---|---|---|\n",
       "|  1       | 2013     | 10388055 | 2462515  | 156871   | 2619386  |\n",
       "|  6       | 2014     | 10369593 | 2510742  | 149991   | 2660733  |\n",
       "| 11       | 2015     | 10297138 | 2560154  | 141927   | 2702081  |\n",
       "| 16       | 2016     | 10204057 | 2598344  | 134309   | 2732653  |\n",
       "| 21       | 2017     | 10124579 | 2641190  | 127564   | 2768754  |\n",
       "| 26       | 2018     | 10049607 | 2658637  | 120780   | 2779417  |\n",
       "| 31       | 2019     | 10010983 | 2670803  | 114310   | 2785113  |\n",
       "| 37       | 2020     |  9911088 | 2711984  | 106504   | 2818488  |\n",
       "\n"
      ],
      "text/plain": [
       "  X  년도 서울인구수 승용차  승합차 차합계 \n",
       "1  1 2013 10388055   2462515 156871 2619386\n",
       "2  6 2014 10369593   2510742 149991 2660733\n",
       "3 11 2015 10297138   2560154 141927 2702081\n",
       "4 16 2016 10204057   2598344 134309 2732653\n",
       "5 21 2017 10124579   2641190 127564 2768754\n",
       "6 26 2018 10049607   2658637 120780 2779417\n",
       "7 31 2019 10010983   2670803 114310 2785113\n",
       "8 37 2020  9911088   2711984 106504 2818488"
      ]
     },
     "metadata": {},
     "output_type": "display_data"
    }
   ],
   "source": [
    "popCar <- read.csv(\"../Data_Project/인구수자동차수.csv\", fileEncoding = \"utf-8\")\n",
    "popCar"
   ]
  },
  {
   "cell_type": "code",
   "execution_count": 12,
   "metadata": {},
   "outputs": [
    {
     "data": {
      "text/html": [
       "1056"
      ],
      "text/latex": [
       "1056"
      ],
      "text/markdown": [
       "1056"
      ],
      "text/plain": [
       "[1] 1056"
      ]
     },
     "metadata": {},
     "output_type": "display_data"
    }
   ],
   "source": [
    "nrow(sd222)"
   ]
  },
  {
   "cell_type": "code",
   "execution_count": 13,
   "metadata": {},
   "outputs": [
    {
     "data": {
      "text/plain": [
       "\n",
       " 0  1  2  3  4  5  6  7  8  9 10 11 12 13 14 15 16 17 18 19 20 21 22 23 \n",
       "44 44 44 44 44 44 44 44 44 44 44 44 44 44 44 44 44 44 44 44 44 44 44 44 "
      ]
     },
     "metadata": {},
     "output_type": "display_data"
    }
   ],
   "source": [
    "table(sd222$일차)"
   ]
  },
  {
   "cell_type": "code",
   "execution_count": 14,
   "metadata": {},
   "outputs": [
    {
     "data": {
      "text/plain": [
       "\n",
       "  0   1   2   3   4   5   6 \n",
       "192 192 192 192 192  72  24 "
      ]
     },
     "metadata": {},
     "output_type": "display_data"
    }
   ],
   "source": [
    "table(sd222$출발시간)"
   ]
  },
  {
   "cell_type": "code",
   "execution_count": 98,
   "metadata": {},
   "outputs": [],
   "source": [
    "sd555 <- read.csv(\"../Data_Project/AI프로젝트22.csv\", fileEncoding = 'utf-8')"
   ]
  },
  {
   "cell_type": "code",
   "execution_count": 99,
   "metadata": {},
   "outputs": [
    {
     "data": {
      "text/html": [
       "<table>\n",
       "<thead><tr><th scope=col>X1종.교통량</th><th scope=col>X2종.교통량</th><th scope=col>서울인구수</th></tr></thead>\n",
       "<tbody>\n",
       "\t<tr><td>3793419 </td><td>229419  </td><td>10388055</td></tr>\n",
       "\t<tr><td>2514790 </td><td>203047  </td><td>10388055</td></tr>\n",
       "\t<tr><td>1846564 </td><td>235137  </td><td>10388055</td></tr>\n",
       "\t<tr><td>1632415 </td><td>305994  </td><td>10388055</td></tr>\n",
       "\t<tr><td>2247045 </td><td>444384  </td><td>10388055</td></tr>\n",
       "\t<tr><td>5186824 </td><td>774325  </td><td>10388055</td></tr>\n",
       "</tbody>\n",
       "</table>\n"
      ],
      "text/latex": [
       "\\begin{tabular}{r|lll}\n",
       " X1종.교통량 & X2종.교통량 & 서울인구수\\\\\n",
       "\\hline\n",
       "\t 3793419  & 229419   & 10388055\\\\\n",
       "\t 2514790  & 203047   & 10388055\\\\\n",
       "\t 1846564  & 235137   & 10388055\\\\\n",
       "\t 1632415  & 305994   & 10388055\\\\\n",
       "\t 2247045  & 444384   & 10388055\\\\\n",
       "\t 5186824  & 774325   & 10388055\\\\\n",
       "\\end{tabular}\n"
      ],
      "text/markdown": [
       "\n",
       "| X1종.교통량 | X2종.교통량 | 서울인구수 |\n",
       "|---|---|---|\n",
       "| 3793419  | 229419   | 10388055 |\n",
       "| 2514790  | 203047   | 10388055 |\n",
       "| 1846564  | 235137   | 10388055 |\n",
       "| 1632415  | 305994   | 10388055 |\n",
       "| 2247045  | 444384   | 10388055 |\n",
       "| 5186824  | 774325   | 10388055 |\n",
       "\n"
      ],
      "text/plain": [
       "  X1종.교통량 X2종.교통량 서울인구수\n",
       "1 3793419     229419      10388055  \n",
       "2 2514790     203047      10388055  \n",
       "3 1846564     235137      10388055  \n",
       "4 1632415     305994      10388055  \n",
       "5 2247045     444384      10388055  \n",
       "6 5186824     774325      10388055  "
      ]
     },
     "metadata": {},
     "output_type": "display_data"
    },
    {
     "data": {
      "text/html": [
       "<table>\n",
       "<thead><tr><th scope=col>X1종.교통량</th><th scope=col>X2종.교통량</th><th scope=col>서울인구수</th></tr></thead>\n",
       "<tbody>\n",
       "\t<tr><td>-0.7736980</td><td>-0.7304996</td><td>1.406826  </td></tr>\n",
       "\t<tr><td>-0.8754301</td><td>-0.7805927</td><td>1.406826  </td></tr>\n",
       "\t<tr><td>-0.9285965</td><td>-0.7196384</td><td>1.406826  </td></tr>\n",
       "\t<tr><td>-0.9456349</td><td>-0.5850469</td><td>1.406826  </td></tr>\n",
       "\t<tr><td>-0.8967328</td><td>-0.3221779</td><td>1.406826  </td></tr>\n",
       "\t<tr><td>-0.6628339</td><td> 0.3045384</td><td>1.406826  </td></tr>\n",
       "</tbody>\n",
       "</table>\n"
      ],
      "text/latex": [
       "\\begin{tabular}{lll}\n",
       " X1종.교통량 & X2종.교통량 & 서울인구수\\\\\n",
       "\\hline\n",
       "\t -0.7736980 & -0.7304996 & 1.406826  \\\\\n",
       "\t -0.8754301 & -0.7805927 & 1.406826  \\\\\n",
       "\t -0.9285965 & -0.7196384 & 1.406826  \\\\\n",
       "\t -0.9456349 & -0.5850469 & 1.406826  \\\\\n",
       "\t -0.8967328 & -0.3221779 & 1.406826  \\\\\n",
       "\t -0.6628339 &  0.3045384 & 1.406826  \\\\\n",
       "\\end{tabular}\n"
      ],
      "text/markdown": [
       "\n",
       "| X1종.교통량 | X2종.교통량 | 서울인구수 |\n",
       "|---|---|---|\n",
       "| -0.7736980 | -0.7304996 | 1.406826   |\n",
       "| -0.8754301 | -0.7805927 | 1.406826   |\n",
       "| -0.9285965 | -0.7196384 | 1.406826   |\n",
       "| -0.9456349 | -0.5850469 | 1.406826   |\n",
       "| -0.8967328 | -0.3221779 | 1.406826   |\n",
       "| -0.6628339 |  0.3045384 | 1.406826   |\n",
       "\n"
      ],
      "text/plain": [
       "     X1종.교통량 X2종.교통량 서울인구수\n",
       "[1,] -0.7736980  -0.7304996  1.406826  \n",
       "[2,] -0.8754301  -0.7805927  1.406826  \n",
       "[3,] -0.9285965  -0.7196384  1.406826  \n",
       "[4,] -0.9456349  -0.5850469  1.406826  \n",
       "[5,] -0.8967328  -0.3221779  1.406826  \n",
       "[6,] -0.6628339   0.3045384  1.406826  "
      ]
     },
     "metadata": {},
     "output_type": "display_data"
    }
   ],
   "source": [
    "sd555 <- sd555[,-5]\n",
    "sd12 <- sd555[,6:8]\n",
    "head(sd12)\n",
    "sd12 <- scale(sd12)\n",
    "head(sd12)"
   ]
  },
  {
   "cell_type": "code",
   "execution_count": 100,
   "metadata": {},
   "outputs": [],
   "source": [
    "sdScale <- cbind(sd555[,1:5], sd12)"
   ]
  },
  {
   "cell_type": "code",
   "execution_count": 101,
   "metadata": {},
   "outputs": [
    {
     "data": {
      "text/html": [
       "1008"
      ],
      "text/latex": [
       "1008"
      ],
      "text/markdown": [
       "1008"
      ],
      "text/plain": [
       "[1] 1008"
      ]
     },
     "metadata": {},
     "output_type": "display_data"
    },
    {
     "data": {
      "text/html": [
       "<table>\n",
       "<thead><tr><th scope=col>소요시간</th><th scope=col>출발시간</th><th scope=col>일차</th><th scope=col>연휴길이</th><th scope=col>눈비</th><th scope=col>X1종.교통량</th><th scope=col>X2종.교통량</th><th scope=col>서울인구수</th></tr></thead>\n",
       "<tbody>\n",
       "\t<tr><td>91      </td><td>0       </td><td>0       </td><td>3       </td><td>TRUE    </td><td>3793419 </td><td>229419  </td><td>10388055</td></tr>\n",
       "\t<tr><td>88      </td><td>1       </td><td>0       </td><td>3       </td><td>TRUE    </td><td>2514790 </td><td>203047  </td><td>10388055</td></tr>\n",
       "\t<tr><td>88      </td><td>2       </td><td>0       </td><td>3       </td><td>TRUE    </td><td>1846564 </td><td>235137  </td><td>10388055</td></tr>\n",
       "\t<tr><td>87      </td><td>3       </td><td>0       </td><td>3       </td><td>TRUE    </td><td>1632415 </td><td>305994  </td><td>10388055</td></tr>\n",
       "\t<tr><td>91      </td><td>4       </td><td>0       </td><td>3       </td><td>TRUE    </td><td>2247045 </td><td>444384  </td><td>10388055</td></tr>\n",
       "\t<tr><td>97      </td><td>5       </td><td>0       </td><td>3       </td><td>TRUE    </td><td>5186824 </td><td>774325  </td><td>10388055</td></tr>\n",
       "</tbody>\n",
       "</table>\n"
      ],
      "text/latex": [
       "\\begin{tabular}{r|llllllll}\n",
       " 소요시간 & 출발시간 & 일차 & 연휴길이 & 눈비 & X1종.교통량 & X2종.교통량 & 서울인구수\\\\\n",
       "\\hline\n",
       "\t 91       & 0        & 0        & 3        & TRUE     & 3793419  & 229419   & 10388055\\\\\n",
       "\t 88       & 1        & 0        & 3        & TRUE     & 2514790  & 203047   & 10388055\\\\\n",
       "\t 88       & 2        & 0        & 3        & TRUE     & 1846564  & 235137   & 10388055\\\\\n",
       "\t 87       & 3        & 0        & 3        & TRUE     & 1632415  & 305994   & 10388055\\\\\n",
       "\t 91       & 4        & 0        & 3        & TRUE     & 2247045  & 444384   & 10388055\\\\\n",
       "\t 97       & 5        & 0        & 3        & TRUE     & 5186824  & 774325   & 10388055\\\\\n",
       "\\end{tabular}\n"
      ],
      "text/markdown": [
       "\n",
       "| 소요시간 | 출발시간 | 일차 | 연휴길이 | 눈비 | X1종.교통량 | X2종.교통량 | 서울인구수 |\n",
       "|---|---|---|---|---|---|---|---|\n",
       "| 91       | 0        | 0        | 3        | TRUE     | 3793419  | 229419   | 10388055 |\n",
       "| 88       | 1        | 0        | 3        | TRUE     | 2514790  | 203047   | 10388055 |\n",
       "| 88       | 2        | 0        | 3        | TRUE     | 1846564  | 235137   | 10388055 |\n",
       "| 87       | 3        | 0        | 3        | TRUE     | 1632415  | 305994   | 10388055 |\n",
       "| 91       | 4        | 0        | 3        | TRUE     | 2247045  | 444384   | 10388055 |\n",
       "| 97       | 5        | 0        | 3        | TRUE     | 5186824  | 774325   | 10388055 |\n",
       "\n"
      ],
      "text/plain": [
       "  소요시간 출발시간 일차 연휴길이 눈비 X1종.교통량 X2종.교통량 서울인구수\n",
       "1 91       0        0    3        TRUE 3793419     229419      10388055  \n",
       "2 88       1        0    3        TRUE 2514790     203047      10388055  \n",
       "3 88       2        0    3        TRUE 1846564     235137      10388055  \n",
       "4 87       3        0    3        TRUE 1632415     305994      10388055  \n",
       "5 91       4        0    3        TRUE 2247045     444384      10388055  \n",
       "6 97       5        0    3        TRUE 5186824     774325      10388055  "
      ]
     },
     "metadata": {},
     "output_type": "display_data"
    },
    {
     "data": {
      "text/html": [
       "<table>\n",
       "<thead><tr><th scope=col>소요시간</th><th scope=col>출발시간</th><th scope=col>일차</th><th scope=col>연휴길이</th><th scope=col>눈비</th><th scope=col>X1종.교통량</th><th scope=col>X2종.교통량</th><th scope=col>서울인구수</th></tr></thead>\n",
       "<tbody>\n",
       "\t<tr><td>91        </td><td>0         </td><td>0         </td><td>3         </td><td>TRUE      </td><td>-0.7736980</td><td>-0.7304996</td><td>1.406826  </td></tr>\n",
       "\t<tr><td>88        </td><td>1         </td><td>0         </td><td>3         </td><td>TRUE      </td><td>-0.8754301</td><td>-0.7805927</td><td>1.406826  </td></tr>\n",
       "\t<tr><td>88        </td><td>2         </td><td>0         </td><td>3         </td><td>TRUE      </td><td>-0.9285965</td><td>-0.7196384</td><td>1.406826  </td></tr>\n",
       "\t<tr><td>87        </td><td>3         </td><td>0         </td><td>3         </td><td>TRUE      </td><td>-0.9456349</td><td>-0.5850469</td><td>1.406826  </td></tr>\n",
       "\t<tr><td>91        </td><td>4         </td><td>0         </td><td>3         </td><td>TRUE      </td><td>-0.8967328</td><td>-0.3221779</td><td>1.406826  </td></tr>\n",
       "\t<tr><td>97        </td><td>5         </td><td>0         </td><td>3         </td><td>TRUE      </td><td>-0.6628339</td><td> 0.3045384</td><td>1.406826  </td></tr>\n",
       "</tbody>\n",
       "</table>\n"
      ],
      "text/latex": [
       "\\begin{tabular}{r|llllllll}\n",
       " 소요시간 & 출발시간 & 일차 & 연휴길이 & 눈비 & X1종.교통량 & X2종.교통량 & 서울인구수\\\\\n",
       "\\hline\n",
       "\t 91         & 0          & 0          & 3          & TRUE       & -0.7736980 & -0.7304996 & 1.406826  \\\\\n",
       "\t 88         & 1          & 0          & 3          & TRUE       & -0.8754301 & -0.7805927 & 1.406826  \\\\\n",
       "\t 88         & 2          & 0          & 3          & TRUE       & -0.9285965 & -0.7196384 & 1.406826  \\\\\n",
       "\t 87         & 3          & 0          & 3          & TRUE       & -0.9456349 & -0.5850469 & 1.406826  \\\\\n",
       "\t 91         & 4          & 0          & 3          & TRUE       & -0.8967328 & -0.3221779 & 1.406826  \\\\\n",
       "\t 97         & 5          & 0          & 3          & TRUE       & -0.6628339 &  0.3045384 & 1.406826  \\\\\n",
       "\\end{tabular}\n"
      ],
      "text/markdown": [
       "\n",
       "| 소요시간 | 출발시간 | 일차 | 연휴길이 | 눈비 | X1종.교통량 | X2종.교통량 | 서울인구수 |\n",
       "|---|---|---|---|---|---|---|---|\n",
       "| 91         | 0          | 0          | 3          | TRUE       | -0.7736980 | -0.7304996 | 1.406826   |\n",
       "| 88         | 1          | 0          | 3          | TRUE       | -0.8754301 | -0.7805927 | 1.406826   |\n",
       "| 88         | 2          | 0          | 3          | TRUE       | -0.9285965 | -0.7196384 | 1.406826   |\n",
       "| 87         | 3          | 0          | 3          | TRUE       | -0.9456349 | -0.5850469 | 1.406826   |\n",
       "| 91         | 4          | 0          | 3          | TRUE       | -0.8967328 | -0.3221779 | 1.406826   |\n",
       "| 97         | 5          | 0          | 3          | TRUE       | -0.6628339 |  0.3045384 | 1.406826   |\n",
       "\n"
      ],
      "text/plain": [
       "  소요시간 출발시간 일차 연휴길이 눈비 X1종.교통량 X2종.교통량 서울인구수\n",
       "1 91       0        0    3        TRUE -0.7736980  -0.7304996  1.406826  \n",
       "2 88       1        0    3        TRUE -0.8754301  -0.7805927  1.406826  \n",
       "3 88       2        0    3        TRUE -0.9285965  -0.7196384  1.406826  \n",
       "4 87       3        0    3        TRUE -0.9456349  -0.5850469  1.406826  \n",
       "5 91       4        0    3        TRUE -0.8967328  -0.3221779  1.406826  \n",
       "6 97       5        0    3        TRUE -0.6628339   0.3045384  1.406826  "
      ]
     },
     "metadata": {},
     "output_type": "display_data"
    }
   ],
   "source": [
    "\n",
    "nrow(sd555)\n",
    "head(sd555)\n",
    "head(sdScale)"
   ]
  },
  {
   "cell_type": "code",
   "execution_count": 103,
   "metadata": {
    "scrolled": true
   },
   "outputs": [
    {
     "data": {
      "text/html": [
       "72.2166666666666"
      ],
      "text/latex": [
       "72.2166666666666"
      ],
      "text/markdown": [
       "72.2166666666666"
      ],
      "text/plain": [
       "[1] 72.21667"
      ]
     },
     "metadata": {},
     "output_type": "display_data"
    }
   ],
   "source": [
    "sum <- 0\n",
    "\n",
    "for (i in 1:100){\n",
    "  samp <- createDataPartition(sd555[,1:4]$소요시간, p=0.7, list=F)\n",
    "  data.tr <- sd555[,1:4][samp,]\n",
    "  data.test <- sd555[,1:4][-samp,]\n",
    "\n",
    "  x <- subset(data.test, select = -소요시간)\n",
    "  y <- data.test$소요시간\n",
    "\n",
    "  model_rf <- randomForest(소요시간 ~ . , data = data.tr, ntree = 100)\n",
    "  pred_rf <- predict(model_rf, x)\n",
    "  예측력_rf <- mean((pred_rf*0.85 < y) & (pred_rf*1.15 > y)) \n",
    "  sum <- sum + 예측력_rf\n",
    "}\n",
    "\n",
    "sum"
   ]
  },
  {
   "cell_type": "code",
   "execution_count": null,
   "metadata": {},
   "outputs": [],
   "source": [
    "nrow(sd555)"
   ]
  },
  {
   "cell_type": "code",
   "execution_count": null,
   "metadata": {},
   "outputs": [],
   "source": []
  },
  {
   "cell_type": "code",
   "execution_count": null,
   "metadata": {},
   "outputs": [],
   "source": []
  },
  {
   "cell_type": "code",
   "execution_count": null,
   "metadata": {},
   "outputs": [],
   "source": []
  },
  {
   "cell_type": "code",
   "execution_count": null,
   "metadata": {},
   "outputs": [],
   "source": []
  },
  {
   "cell_type": "code",
   "execution_count": null,
   "metadata": {},
   "outputs": [],
   "source": []
  },
  {
   "cell_type": "code",
   "execution_count": null,
   "metadata": {},
   "outputs": [],
   "source": []
  },
  {
   "cell_type": "code",
   "execution_count": null,
   "metadata": {},
   "outputs": [],
   "source": []
  },
  {
   "cell_type": "code",
   "execution_count": null,
   "metadata": {},
   "outputs": [],
   "source": []
  },
  {
   "cell_type": "code",
   "execution_count": null,
   "metadata": {},
   "outputs": [],
   "source": []
  }
 ],
 "metadata": {
  "kernelspec": {
   "display_name": "R",
   "language": "R",
   "name": "ir"
  },
  "language_info": {
   "codemirror_mode": "r",
   "file_extension": ".r",
   "mimetype": "text/x-r-source",
   "name": "R",
   "pygments_lexer": "r",
   "version": "3.6.1"
  }
 },
 "nbformat": 4,
 "nbformat_minor": 2
}
