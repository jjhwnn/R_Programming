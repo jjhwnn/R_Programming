{
 "cells": [
  {
   "cell_type": "code",
   "execution_count": 20,
   "metadata": {
    "vscode": {
     "languageId": "r"
    }
   },
   "outputs": [],
   "source": [
    "library(caret)\n",
    "library(dplyr)\n",
    "options(warn = -1)\n",
    "library(caret)\n",
    "library(nnet)\n",
    "library(e1071)\n",
    "library(randomForest)\n",
    "library(party)\n",
    "# library(NbClust)\n",
    "library(class)"
   ]
  },
  {
   "cell_type": "code",
   "execution_count": 18,
   "metadata": {
    "vscode": {
     "languageId": "r"
    }
   },
   "outputs": [
    {
     "data": {
      "text/html": [
       "<table>\n",
       "<thead><tr><th scope=col>날짜</th><th scope=col>일차</th><th scope=col>출발시간</th><th scope=col>소요시간</th></tr></thead>\n",
       "<tbody>\n",
       "\t<tr><td>2013-02-08</td><td>0         </td><td>0         </td><td> 91       </td></tr>\n",
       "\t<tr><td>2013-02-09</td><td>1         </td><td>0         </td><td>132       </td></tr>\n",
       "\t<tr><td>2013-02-10</td><td>2         </td><td>0         </td><td> 83       </td></tr>\n",
       "\t<tr><td>2013-02-11</td><td>3         </td><td>0         </td><td> 87       </td></tr>\n",
       "\t<tr><td>2013-02-12</td><td>4         </td><td>0         </td><td> 84       </td></tr>\n",
       "\t<tr><td>2013-02-08</td><td>0         </td><td>1         </td><td> 88       </td></tr>\n",
       "</tbody>\n",
       "</table>\n"
      ],
      "text/latex": [
       "\\begin{tabular}{r|llll}\n",
       " 날짜 & 일차 & 출발시간 & 소요시간\\\\\n",
       "\\hline\n",
       "\t 2013-02-08 & 0          & 0          &  91       \\\\\n",
       "\t 2013-02-09 & 1          & 0          & 132       \\\\\n",
       "\t 2013-02-10 & 2          & 0          &  83       \\\\\n",
       "\t 2013-02-11 & 3          & 0          &  87       \\\\\n",
       "\t 2013-02-12 & 4          & 0          &  84       \\\\\n",
       "\t 2013-02-08 & 0          & 1          &  88       \\\\\n",
       "\\end{tabular}\n"
      ],
      "text/markdown": [
       "\n",
       "| 날짜 | 일차 | 출발시간 | 소요시간 |\n",
       "|---|---|---|---|\n",
       "| 2013-02-08 | 0          | 0          |  91        |\n",
       "| 2013-02-09 | 1          | 0          | 132        |\n",
       "| 2013-02-10 | 2          | 0          |  83        |\n",
       "| 2013-02-11 | 3          | 0          |  87        |\n",
       "| 2013-02-12 | 4          | 0          |  84        |\n",
       "| 2013-02-08 | 0          | 1          |  88        |\n",
       "\n"
      ],
      "text/plain": [
       "  날짜       일차 출발시간 소요시간\n",
       "1 2013-02-08 0    0         91     \n",
       "2 2013-02-09 1    0        132     \n",
       "3 2013-02-10 2    0         83     \n",
       "4 2013-02-11 3    0         87     \n",
       "5 2013-02-12 4    0         84     \n",
       "6 2013-02-08 0    1         88     "
      ]
     },
     "metadata": {},
     "output_type": "display_data"
    }
   ],
   "source": [
    "서울대전앞뒤2일 <- read.csv('../Data_Project/alldata.csv')[,-c(5:9)]\n",
    "서울대전앞뒤2일[,1] <- as.Date(서울대전앞뒤2일[,1])\n",
    "head(서울대전앞뒤2일)\n"
   ]
  },
  {
   "cell_type": "code",
   "execution_count": 19,
   "metadata": {
    "vscode": {
     "languageId": "r"
    }
   },
   "outputs": [
    {
     "data": {
      "text/html": [
       "81.9859649122807"
      ],
      "text/latex": [
       "81.9859649122807"
      ],
      "text/markdown": [
       "81.9859649122807"
      ],
      "text/plain": [
       "[1] 81.98596"
      ]
     },
     "metadata": {},
     "output_type": "display_data"
    }
   ],
   "source": [
    "sum <- 0\n",
    "\n",
    "for (i in 1:100){\n",
    "  samp <- createDataPartition(서울대전앞뒤2일$소요시간, p=0.7, list=F)\n",
    "  data.tr <- 서울대전앞뒤2일[samp,]\n",
    "  data.test <- 서울대전앞뒤2일[-samp,]\n",
    "\n",
    "  x <- subset(data.test, select = -소요시간)\n",
    "  y <- data.test$소요시간\n",
    "\n",
    "  model_rf <- randomForest(소요시간 ~ . , data = data.tr, ntree = 100)\n",
    "  pred_rf <- predict(model_rf, x)\n",
    "  knn_pred <- knn(train=data.tr, test=data.test, cl=st_train_label, k=21)\n",
    "  예측력_rf <- mean((pred_rf*0.85 < y) & (pred_rf*1.15 > y)) \n",
    "  sum <- sum + 예측력_rf\n",
    "}\n",
    "\n",
    "sum"
   ]
  },
  {
   "cell_type": "code",
   "execution_count": 23,
   "metadata": {
    "vscode": {
     "languageId": "r"
    }
   },
   "outputs": [],
   "source": [
    "## 다 : 66.8\n",
    "## 1:4 : 68.3"
   ]
  },
  {
   "cell_type": "code",
   "execution_count": 27,
   "metadata": {
    "vscode": {
     "languageId": "r"
    }
   },
   "outputs": [
    {
     "data": {
      "text/html": [
       "<table>\n",
       "<thead><tr><th scope=col>소요시간</th><th scope=col>일차</th><th scope=col>출발시간</th><th scope=col>연휴길이</th></tr></thead>\n",
       "<tbody>\n",
       "\t<tr><td>91</td><td>0 </td><td>0 </td><td>3 </td></tr>\n",
       "\t<tr><td>88</td><td>0 </td><td>1 </td><td>3 </td></tr>\n",
       "\t<tr><td>88</td><td>0 </td><td>2 </td><td>3 </td></tr>\n",
       "\t<tr><td>87</td><td>0 </td><td>3 </td><td>3 </td></tr>\n",
       "\t<tr><td>91</td><td>0 </td><td>4 </td><td>3 </td></tr>\n",
       "\t<tr><td>97</td><td>0 </td><td>5 </td><td>3 </td></tr>\n",
       "</tbody>\n",
       "</table>\n"
      ],
      "text/latex": [
       "\\begin{tabular}{r|llll}\n",
       " 소요시간 & 일차 & 출발시간 & 연휴길이\\\\\n",
       "\\hline\n",
       "\t 91 & 0  & 0  & 3 \\\\\n",
       "\t 88 & 0  & 1  & 3 \\\\\n",
       "\t 88 & 0  & 2  & 3 \\\\\n",
       "\t 87 & 0  & 3  & 3 \\\\\n",
       "\t 91 & 0  & 4  & 3 \\\\\n",
       "\t 97 & 0  & 5  & 3 \\\\\n",
       "\\end{tabular}\n"
      ],
      "text/markdown": [
       "\n",
       "| 소요시간 | 일차 | 출발시간 | 연휴길이 |\n",
       "|---|---|---|---|\n",
       "| 91 | 0  | 0  | 3  |\n",
       "| 88 | 0  | 1  | 3  |\n",
       "| 88 | 0  | 2  | 3  |\n",
       "| 87 | 0  | 3  | 3  |\n",
       "| 91 | 0  | 4  | 3  |\n",
       "| 97 | 0  | 5  | 3  |\n",
       "\n"
      ],
      "text/plain": [
       "  소요시간 일차 출발시간 연휴길이\n",
       "1 91       0    0        3       \n",
       "2 88       0    1        3       \n",
       "3 88       0    2        3       \n",
       "4 87       0    3        3       \n",
       "5 91       0    4        3       \n",
       "6 97       0    5        3       "
      ]
     },
     "metadata": {},
     "output_type": "display_data"
    },
    {
     "data": {
      "text/html": [
       "1008"
      ],
      "text/latex": [
       "1008"
      ],
      "text/markdown": [
       "1008"
      ],
      "text/plain": [
       "[1] 1008"
      ]
     },
     "metadata": {},
     "output_type": "display_data"
    }
   ],
   "source": [
    "sd22 <- read.csv(\"../Data_Project/진짜최종.csv\")\n",
    "\n",
    "head(sd22)\n",
    "nrow(sd22)"
   ]
  },
  {
   "cell_type": "code",
   "execution_count": 38,
   "metadata": {},
   "outputs": [
    {
     "data": {
      "text/html": [
       "83.7133333333333"
      ],
      "text/latex": [
       "83.7133333333333"
      ],
      "text/markdown": [
       "83.7133333333333"
      ],
      "text/plain": [
       "[1] 83.71333"
      ]
     },
     "metadata": {},
     "output_type": "display_data"
    }
   ],
   "source": [
    "sum <- 0\n",
    "\n",
    "for (i in 1:100){\n",
    "  samp <- createDataPartition(sd22$소요시간, p=0.7, list=F)\n",
    "  data.tr <- sd22[samp,]\n",
    "  data.test <- sd22[-samp,]\n",
    "\n",
    "  x <- subset(data.test, select = -소요시간)\n",
    "  y <- data.test$소요시간\n",
    "\n",
    "  model_rf <- randomForest(소요시간 ~ . , data = data.tr, ntree = 100)\n",
    "  pred_rf <- predict(model_rf, x)\n",
    "  예측력_rf <- mean((pred_rf*0.80< y) & (pred_rf*1.2 > y)) \n",
    "  sum <- sum + 예측력_rf\n",
    "}\n",
    "\n",
    "sum"
   ]
  },
  {
   "cell_type": "code",
   "execution_count": 40,
   "metadata": {},
   "outputs": [
    {
     "data": {
      "text/html": [
       "<table>\n",
       "<thead><tr><th scope=col>출발시간</th><th scope=col>소요시간</th></tr></thead>\n",
       "<tbody>\n",
       "\t<tr><td> 0       </td><td> 94.14286</td></tr>\n",
       "\t<tr><td> 1       </td><td> 93.76190</td></tr>\n",
       "\t<tr><td> 2       </td><td> 94.45238</td></tr>\n",
       "\t<tr><td> 3       </td><td> 95.54762</td></tr>\n",
       "\t<tr><td> 4       </td><td> 94.47619</td></tr>\n",
       "\t<tr><td> 5       </td><td> 95.47619</td></tr>\n",
       "\t<tr><td> 6       </td><td> 96.69048</td></tr>\n",
       "\t<tr><td> 7       </td><td> 98.02381</td></tr>\n",
       "\t<tr><td> 8       </td><td> 97.64286</td></tr>\n",
       "\t<tr><td> 9       </td><td> 99.69048</td></tr>\n",
       "\t<tr><td>10       </td><td>102.69048</td></tr>\n",
       "\t<tr><td>11       </td><td>105.30952</td></tr>\n",
       "\t<tr><td>12       </td><td>111.04762</td></tr>\n",
       "\t<tr><td>13       </td><td>115.23810</td></tr>\n",
       "\t<tr><td>14       </td><td>118.45238</td></tr>\n",
       "\t<tr><td>15       </td><td>120.92857</td></tr>\n",
       "\t<tr><td>16       </td><td>120.95238</td></tr>\n",
       "\t<tr><td>17       </td><td>125.69048</td></tr>\n",
       "\t<tr><td>18       </td><td>127.19048</td></tr>\n",
       "\t<tr><td>19       </td><td>127.07143</td></tr>\n",
       "\t<tr><td>20       </td><td>124.90476</td></tr>\n",
       "\t<tr><td>21       </td><td>120.73810</td></tr>\n",
       "\t<tr><td>22       </td><td>115.61905</td></tr>\n",
       "\t<tr><td>23       </td><td>111.02381</td></tr>\n",
       "</tbody>\n",
       "</table>\n"
      ],
      "text/latex": [
       "\\begin{tabular}{r|ll}\n",
       " 출발시간 & 소요시간\\\\\n",
       "\\hline\n",
       "\t  0        &  94.14286\\\\\n",
       "\t  1        &  93.76190\\\\\n",
       "\t  2        &  94.45238\\\\\n",
       "\t  3        &  95.54762\\\\\n",
       "\t  4        &  94.47619\\\\\n",
       "\t  5        &  95.47619\\\\\n",
       "\t  6        &  96.69048\\\\\n",
       "\t  7        &  98.02381\\\\\n",
       "\t  8        &  97.64286\\\\\n",
       "\t  9        &  99.69048\\\\\n",
       "\t 10        & 102.69048\\\\\n",
       "\t 11        & 105.30952\\\\\n",
       "\t 12        & 111.04762\\\\\n",
       "\t 13        & 115.23810\\\\\n",
       "\t 14        & 118.45238\\\\\n",
       "\t 15        & 120.92857\\\\\n",
       "\t 16        & 120.95238\\\\\n",
       "\t 17        & 125.69048\\\\\n",
       "\t 18        & 127.19048\\\\\n",
       "\t 19        & 127.07143\\\\\n",
       "\t 20        & 124.90476\\\\\n",
       "\t 21        & 120.73810\\\\\n",
       "\t 22        & 115.61905\\\\\n",
       "\t 23        & 111.02381\\\\\n",
       "\\end{tabular}\n"
      ],
      "text/markdown": [
       "\n",
       "| 출발시간 | 소요시간 |\n",
       "|---|---|\n",
       "|  0        |  94.14286 |\n",
       "|  1        |  93.76190 |\n",
       "|  2        |  94.45238 |\n",
       "|  3        |  95.54762 |\n",
       "|  4        |  94.47619 |\n",
       "|  5        |  95.47619 |\n",
       "|  6        |  96.69048 |\n",
       "|  7        |  98.02381 |\n",
       "|  8        |  97.64286 |\n",
       "|  9        |  99.69048 |\n",
       "| 10        | 102.69048 |\n",
       "| 11        | 105.30952 |\n",
       "| 12        | 111.04762 |\n",
       "| 13        | 115.23810 |\n",
       "| 14        | 118.45238 |\n",
       "| 15        | 120.92857 |\n",
       "| 16        | 120.95238 |\n",
       "| 17        | 125.69048 |\n",
       "| 18        | 127.19048 |\n",
       "| 19        | 127.07143 |\n",
       "| 20        | 124.90476 |\n",
       "| 21        | 120.73810 |\n",
       "| 22        | 115.61905 |\n",
       "| 23        | 111.02381 |\n",
       "\n"
      ],
      "text/plain": [
       "   출발시간 소요시간 \n",
       "1   0        94.14286\n",
       "2   1        93.76190\n",
       "3   2        94.45238\n",
       "4   3        95.54762\n",
       "5   4        94.47619\n",
       "6   5        95.47619\n",
       "7   6        96.69048\n",
       "8   7        98.02381\n",
       "9   8        97.64286\n",
       "10  9        99.69048\n",
       "11 10       102.69048\n",
       "12 11       105.30952\n",
       "13 12       111.04762\n",
       "14 13       115.23810\n",
       "15 14       118.45238\n",
       "16 15       120.92857\n",
       "17 16       120.95238\n",
       "18 17       125.69048\n",
       "19 18       127.19048\n",
       "20 19       127.07143\n",
       "21 20       124.90476\n",
       "22 21       120.73810\n",
       "23 22       115.61905\n",
       "24 23       111.02381"
      ]
     },
     "metadata": {},
     "output_type": "display_data"
    }
   ],
   "source": [
    "sdTime <- aggregate(소요시간 ~ 출발시간, sd22, mean)\n",
    "sdTime"
   ]
  },
  {
   "cell_type": "code",
   "execution_count": 48,
   "metadata": {},
   "outputs": [
    {
     "data": {
      "image/png": "[encoded data removed]",
      "text/plain": [
       "Plot with title “소요시간”"
      ]
     },
     "metadata": {},
     "output_type": "display_data"
    }
   ],
   "source": [
    "par(family = \"AppleGothic\")\n",
    "\n",
    "barplot(\n",
    "    t(sdTime[,-1]),\n",
    "    main = '소요시간',\n",
    "    ylim = c(0, 140),\n",
    "\n",
    ")"
   ]
  },
  {
   "cell_type": "code",
   "execution_count": 49,
   "metadata": {},
   "outputs": [
    {
     "data": {
      "text/plain": [
       "\n",
       "  0   1   2   3   4   5 \n",
       "192 192 192 192 168  72 "
      ]
     },
     "metadata": {},
     "output_type": "display_data"
    }
   ],
   "source": [
    "table(sd22$일차)"
   ]
  },
  {
   "cell_type": "code",
   "execution_count": null,
   "metadata": {},
   "outputs": [],
   "source": []
  },
  {
   "cell_type": "code",
   "execution_count": null,
   "metadata": {},
   "outputs": [],
   "source": []
  },
  {
   "cell_type": "code",
   "execution_count": null,
   "metadata": {},
   "outputs": [],
   "source": []
  },
  {
   "cell_type": "code",
   "execution_count": null,
   "metadata": {},
   "outputs": [],
   "source": []
  },
  {
   "cell_type": "code",
   "execution_count": null,
   "metadata": {},
   "outputs": [],
   "source": []
  },
  {
   "cell_type": "code",
   "execution_count": null,
   "metadata": {},
   "outputs": [],
   "source": []
  }
 ],
 "metadata": {
  "kernelspec": {
   "display_name": "R",
   "language": "R",
   "name": "ir"
  },
  "language_info": {
   "codemirror_mode": "r",
   "file_extension": ".r",
   "mimetype": "text/x-r-source",
   "name": "R",
   "pygments_lexer": "r",
   "version": "3.6.1"
  }
 },
 "nbformat": 4,
 "nbformat_minor": 2
}
