{
 "cells": [
  {
   "cell_type": "code",
   "execution_count": 1,
   "id": "84033776",
   "metadata": {},
   "outputs": [],
   "source": [
    "no <- 1:4\n",
    "name <- c(\"Apple\", \"Banana\", \"Peach\", \"Berry\")\n",
    "price <- c(500, 200, 200, 50)\n",
    "qty <- c(5,4,3,2)"
   ]
  },
  {
   "cell_type": "code",
   "execution_count": 2,
   "id": "1237253a",
   "metadata": {},
   "outputs": [
    {
     "data": {
      "text/html": [
       "<table>\n",
       "<thead><tr><th scope=col>번호</th><th scope=col>제품</th><th scope=col>금액</th><th scope=col>수량</th></tr></thead>\n",
       "<tbody>\n",
       "\t<tr><td>1     </td><td>Apple </td><td>500   </td><td>5     </td></tr>\n",
       "\t<tr><td>2     </td><td>Banana</td><td>200   </td><td>4     </td></tr>\n",
       "\t<tr><td>3     </td><td>Peach </td><td>200   </td><td>3     </td></tr>\n",
       "\t<tr><td>4     </td><td>Berry </td><td> 50   </td><td>2     </td></tr>\n",
       "</tbody>\n",
       "</table>\n"
      ],
      "text/latex": [
       "\\begin{tabular}{r|llll}\n",
       " 번호 & 제품 & 금액 & 수량\\\\\n",
       "\\hline\n",
       "\t 1      & Apple  & 500    & 5     \\\\\n",
       "\t 2      & Banana & 200    & 4     \\\\\n",
       "\t 3      & Peach  & 200    & 3     \\\\\n",
       "\t 4      & Berry  &  50    & 2     \\\\\n",
       "\\end{tabular}\n"
      ],
      "text/markdown": [
       "\n",
       "| 번호 | 제품 | 금액 | 수량 |\n",
       "|---|---|---|---|\n",
       "| 1      | Apple  | 500    | 5      |\n",
       "| 2      | Banana | 200    | 4      |\n",
       "| 3      | Peach  | 200    | 3      |\n",
       "| 4      | Berry  |  50    | 2      |\n",
       "\n"
      ],
      "text/plain": [
       "  번호 제품   금액 수량\n",
       "1 1    Apple  500  5   \n",
       "2 2    Banana 200  4   \n",
       "3 3    Peach  200  3   \n",
       "4 4    Berry   50  2   "
      ]
     },
     "metadata": {},
     "output_type": "display_data"
    }
   ],
   "source": [
    "# 벡터를 이용하여 데이터 프레임 만들기\n",
    "fruit <- data.frame(번호=no, 제품=name, 금액=price, 수량=qty)\n",
    "fruit"
   ]
  },
  {
   "cell_type": "code",
   "execution_count": 3,
   "id": "478b237c",
   "metadata": {},
   "outputs": [
    {
     "data": {
      "text/html": [
       "<ol class=list-inline>\n",
       "\t<li>'fruit'</li>\n",
       "\t<li>'name'</li>\n",
       "\t<li>'no'</li>\n",
       "\t<li>'price'</li>\n",
       "\t<li>'qty'</li>\n",
       "</ol>\n"
      ],
      "text/latex": [
       "\\begin{enumerate*}\n",
       "\\item 'fruit'\n",
       "\\item 'name'\n",
       "\\item 'no'\n",
       "\\item 'price'\n",
       "\\item 'qty'\n",
       "\\end{enumerate*}\n"
      ],
      "text/markdown": [
       "1. 'fruit'\n",
       "2. 'name'\n",
       "3. 'no'\n",
       "4. 'price'\n",
       "5. 'qty'\n",
       "\n",
       "\n"
      ],
      "text/plain": [
       "[1] \"fruit\" \"name\"  \"no\"    \"price\" \"qty\"  "
      ]
     },
     "metadata": {},
     "output_type": "display_data"
    }
   ],
   "source": [
    "# 현재 메모리에 있는 변수 보기\n",
    "\n",
    "ls()"
   ]
  },
  {
   "cell_type": "code",
   "execution_count": 4,
   "id": "489c0d6e",
   "metadata": {},
   "outputs": [],
   "source": [
    "# 메모리 형태로 파일 보관\n",
    "\n",
    "save(no, fruit, name, file = \"../Data/testFruit.txt\")"
   ]
  },
  {
   "cell_type": "code",
   "execution_count": 5,
   "id": "cc91be74",
   "metadata": {},
   "outputs": [],
   "source": [
    "# fruit"
   ]
  },
  {
   "cell_type": "code",
   "execution_count": 6,
   "id": "ce9637a9",
   "metadata": {},
   "outputs": [],
   "source": [
    "# 메모리로 불러오기 \n",
    "load(\"../Data//testFruit.txt\")"
   ]
  },
  {
   "cell_type": "code",
   "execution_count": 7,
   "id": "74882dc8",
   "metadata": {},
   "outputs": [
    {
     "data": {
      "text/html": [
       "<table>\n",
       "<thead><tr><th scope=col>번호</th><th scope=col>제품</th><th scope=col>금액</th><th scope=col>수량</th></tr></thead>\n",
       "<tbody>\n",
       "\t<tr><td>1     </td><td>Apple </td><td>500   </td><td>5     </td></tr>\n",
       "\t<tr><td>2     </td><td>Banana</td><td>200   </td><td>4     </td></tr>\n",
       "\t<tr><td>3     </td><td>Peach </td><td>200   </td><td>3     </td></tr>\n",
       "\t<tr><td>4     </td><td>Berry </td><td> 50   </td><td>2     </td></tr>\n",
       "</tbody>\n",
       "</table>\n"
      ],
      "text/latex": [
       "\\begin{tabular}{r|llll}\n",
       " 번호 & 제품 & 금액 & 수량\\\\\n",
       "\\hline\n",
       "\t 1      & Apple  & 500    & 5     \\\\\n",
       "\t 2      & Banana & 200    & 4     \\\\\n",
       "\t 3      & Peach  & 200    & 3     \\\\\n",
       "\t 4      & Berry  &  50    & 2     \\\\\n",
       "\\end{tabular}\n"
      ],
      "text/markdown": [
       "\n",
       "| 번호 | 제품 | 금액 | 수량 |\n",
       "|---|---|---|---|\n",
       "| 1      | Apple  | 500    | 5      |\n",
       "| 2      | Banana | 200    | 4      |\n",
       "| 3      | Peach  | 200    | 3      |\n",
       "| 4      | Berry  |  50    | 2      |\n",
       "\n"
      ],
      "text/plain": [
       "  번호 제품   금액 수량\n",
       "1 1    Apple  500  5   \n",
       "2 2    Banana 200  4   \n",
       "3 3    Peach  200  3   \n",
       "4 4    Berry   50  2   "
      ]
     },
     "metadata": {},
     "output_type": "display_data"
    }
   ],
   "source": [
    "fruit"
   ]
  },
  {
   "cell_type": "code",
   "execution_count": 8,
   "id": "4c818bb9",
   "metadata": {},
   "outputs": [],
   "source": [
    "# fruit를 csv로 저장하기\n",
    "\n",
    "write.csv(fruit, \"../Data/fruit.csv\")"
   ]
  },
  {
   "cell_type": "code",
   "execution_count": 9,
   "id": "ba57328f",
   "metadata": {},
   "outputs": [],
   "source": [
    "fruit2 <- read.csv(\"../Data//fruit.csv\")\n",
    "# x : rownames"
   ]
  },
  {
   "cell_type": "code",
   "execution_count": 10,
   "id": "e83eb2dc",
   "metadata": {},
   "outputs": [],
   "source": [
    "write.csv(fruit2, \"../Data/fruit2.csv\")"
   ]
  },
  {
   "cell_type": "code",
   "execution_count": 11,
   "id": "d96496e8",
   "metadata": {},
   "outputs": [
    {
     "data": {
      "text/html": [
       "<table>\n",
       "<thead><tr><th scope=col>X.1</th><th scope=col>X</th><th scope=col>번호</th><th scope=col>제품</th><th scope=col>금액</th><th scope=col>수량</th></tr></thead>\n",
       "<tbody>\n",
       "\t<tr><td>1     </td><td>1     </td><td>1     </td><td>Apple </td><td>500   </td><td>5     </td></tr>\n",
       "\t<tr><td>2     </td><td>2     </td><td>2     </td><td>Banana</td><td>200   </td><td>4     </td></tr>\n",
       "\t<tr><td>3     </td><td>3     </td><td>3     </td><td>Peach </td><td>200   </td><td>3     </td></tr>\n",
       "\t<tr><td>4     </td><td>4     </td><td>4     </td><td>Berry </td><td> 50   </td><td>2     </td></tr>\n",
       "</tbody>\n",
       "</table>\n"
      ],
      "text/latex": [
       "\\begin{tabular}{r|llllll}\n",
       " X.1 & X & 번호 & 제품 & 금액 & 수량\\\\\n",
       "\\hline\n",
       "\t 1      & 1      & 1      & Apple  & 500    & 5     \\\\\n",
       "\t 2      & 2      & 2      & Banana & 200    & 4     \\\\\n",
       "\t 3      & 3      & 3      & Peach  & 200    & 3     \\\\\n",
       "\t 4      & 4      & 4      & Berry  &  50    & 2     \\\\\n",
       "\\end{tabular}\n"
      ],
      "text/markdown": [
       "\n",
       "| X.1 | X | 번호 | 제품 | 금액 | 수량 |\n",
       "|---|---|---|---|---|---|\n",
       "| 1      | 1      | 1      | Apple  | 500    | 5      |\n",
       "| 2      | 2      | 2      | Banana | 200    | 4      |\n",
       "| 3      | 3      | 3      | Peach  | 200    | 3      |\n",
       "| 4      | 4      | 4      | Berry  |  50    | 2      |\n",
       "\n"
      ],
      "text/plain": [
       "  X.1 X 번호 제품   금액 수량\n",
       "1 1   1 1    Apple  500  5   \n",
       "2 2   2 2    Banana 200  4   \n",
       "3 3   3 3    Peach  200  3   \n",
       "4 4   4 4    Berry   50  2   "
      ]
     },
     "metadata": {},
     "output_type": "display_data"
    }
   ],
   "source": [
    "read.csv(\"../Data//fruit2.csv\")"
   ]
  },
  {
   "cell_type": "code",
   "execution_count": 12,
   "id": "8d1a9658",
   "metadata": {},
   "outputs": [],
   "source": [
    "# 저장시 주의 사항 : row names가 필요치 않으면 저장하지 말아야 한다.\n",
    "# row.names=F**\n",
    "\n",
    "write.csv(fruit, \"../Data/fruit.csv\", row.names=F)"
   ]
  },
  {
   "cell_type": "code",
   "execution_count": 13,
   "id": "bdfe2af5",
   "metadata": {},
   "outputs": [
    {
     "data": {
      "text/html": [
       "<table>\n",
       "<thead><tr><th scope=col>번호</th><th scope=col>제품</th><th scope=col>금액</th><th scope=col>수량</th></tr></thead>\n",
       "<tbody>\n",
       "\t<tr><td>1     </td><td>Apple </td><td>500   </td><td>5     </td></tr>\n",
       "\t<tr><td>2     </td><td>Banana</td><td>200   </td><td>4     </td></tr>\n",
       "\t<tr><td>3     </td><td>Peach </td><td>200   </td><td>3     </td></tr>\n",
       "\t<tr><td>4     </td><td>Berry </td><td> 50   </td><td>2     </td></tr>\n",
       "</tbody>\n",
       "</table>\n"
      ],
      "text/latex": [
       "\\begin{tabular}{r|llll}\n",
       " 번호 & 제품 & 금액 & 수량\\\\\n",
       "\\hline\n",
       "\t 1      & Apple  & 500    & 5     \\\\\n",
       "\t 2      & Banana & 200    & 4     \\\\\n",
       "\t 3      & Peach  & 200    & 3     \\\\\n",
       "\t 4      & Berry  &  50    & 2     \\\\\n",
       "\\end{tabular}\n"
      ],
      "text/markdown": [
       "\n",
       "| 번호 | 제품 | 금액 | 수량 |\n",
       "|---|---|---|---|\n",
       "| 1      | Apple  | 500    | 5      |\n",
       "| 2      | Banana | 200    | 4      |\n",
       "| 3      | Peach  | 200    | 3      |\n",
       "| 4      | Berry  |  50    | 2      |\n",
       "\n"
      ],
      "text/plain": [
       "  번호 제품   금액 수량\n",
       "1 1    Apple  500  5   \n",
       "2 2    Banana 200  4   \n",
       "3 3    Peach  200  3   \n",
       "4 4    Berry   50  2   "
      ]
     },
     "metadata": {},
     "output_type": "display_data"
    }
   ],
   "source": [
    "read.csv(\"../Data//fruit.csv\")"
   ]
  },
  {
   "cell_type": "markdown",
   "id": "b692e07e",
   "metadata": {},
   "source": [
    "---\n",
    "# 세계 GDP 순위 데이터 정제 및 차트 만들기"
   ]
  },
  {
   "cell_type": "code",
   "execution_count": 14,
   "id": "0c8301a4",
   "metadata": {},
   "outputs": [
    {
     "data": {
      "text/html": [
       "<table>\n",
       "<thead><tr><th scope=col>X</th><th scope=col>Gross.domestic.product.2018</th><th scope=col>X.1</th><th scope=col>X.2</th><th scope=col>X.3</th><th scope=col>X.4</th></tr></thead>\n",
       "<tbody>\n",
       "\t<tr><td>                  </td><td>                  </td><td>NA                </td><td>                  </td><td>                  </td><td>                  </td></tr>\n",
       "\t<tr><td>                  </td><td>                  </td><td>NA                </td><td>                  </td><td>(millions of      </td><td>                  </td></tr>\n",
       "\t<tr><td>                  </td><td>Ranking           </td><td>NA                </td><td>Economy           </td><td>US dollars)       </td><td>                  </td></tr>\n",
       "\t<tr><td>                  </td><td>                  </td><td>NA                </td><td>                  </td><td>                  </td><td>                  </td></tr>\n",
       "\t<tr><td>USA               </td><td>1                 </td><td>NA                </td><td>United States     </td><td> 20,494,100       </td><td>                  </td></tr>\n",
       "\t<tr><td>CHN               </td><td>2                 </td><td>NA                </td><td>China             </td><td> 13,608,152       </td><td>                  </td></tr>\n",
       "\t<tr><td>JPN               </td><td>3                 </td><td>NA                </td><td>Japan             </td><td> 4,970,916        </td><td>                  </td></tr>\n",
       "\t<tr><td>DEU               </td><td>4                 </td><td>NA                </td><td>Germany           </td><td> 3,996,759        </td><td>                  </td></tr>\n",
       "\t<tr><td>GBR               </td><td>5                 </td><td>NA                </td><td>United Kingdom    </td><td> 2,825,208        </td><td>                  </td></tr>\n",
       "\t<tr><td>FRA               </td><td>6                 </td><td>NA                </td><td>France            </td><td> 2,777,535        </td><td>                  </td></tr>\n",
       "\t<tr><td>IND               </td><td>7                 </td><td>NA                </td><td>India             </td><td> 2,726,323        </td><td>                  </td></tr>\n",
       "\t<tr><td>ITA               </td><td>8                 </td><td>NA                </td><td>Italy             </td><td> 2,073,902        </td><td>                  </td></tr>\n",
       "\t<tr><td>BRA               </td><td>9                 </td><td>NA                </td><td>Brazil            </td><td> 1,868,626        </td><td>                  </td></tr>\n",
       "\t<tr><td>CAN               </td><td>10                </td><td>NA                </td><td>Canada            </td><td> 1,712,510        </td><td>                  </td></tr>\n",
       "\t<tr><td>RUS               </td><td>11                </td><td>NA                </td><td>Russian Federation</td><td> 1,657,554        </td><td>a                 </td></tr>\n",
       "\t<tr><td>KOR               </td><td>12                </td><td>NA                </td><td>Korea, Rep.       </td><td> 1,619,424        </td><td>                  </td></tr>\n",
       "\t<tr><td>AUS               </td><td>13                </td><td>NA                </td><td>Australia         </td><td> 1,432,195        </td><td>                  </td></tr>\n",
       "\t<tr><td>ESP               </td><td>14                </td><td>NA                </td><td>Spain             </td><td> 1,426,189        </td><td>                  </td></tr>\n",
       "\t<tr><td>MEX               </td><td>15                </td><td>NA                </td><td>Mexico            </td><td> 1,223,809        </td><td>                  </td></tr>\n",
       "\t<tr><td>IDN               </td><td>16                </td><td>NA                </td><td>Indonesia         </td><td> 1,042,173        </td><td>                  </td></tr>\n",
       "\t<tr><td>NLD               </td><td>17                </td><td>NA                </td><td>Netherlands       </td><td> 913,658          </td><td>                  </td></tr>\n",
       "\t<tr><td>SAU               </td><td>18                </td><td>NA                </td><td>Saudi Arabia      </td><td> 782,483          </td><td>                  </td></tr>\n",
       "\t<tr><td>TUR               </td><td>19                </td><td>NA                </td><td>Turkey            </td><td> 766,509          </td><td>                  </td></tr>\n",
       "\t<tr><td>CHE               </td><td>20                </td><td>NA                </td><td>Switzerland       </td><td> 705,501          </td><td>                  </td></tr>\n",
       "\t<tr><td>POL               </td><td>21                </td><td>NA                </td><td>Poland            </td><td> 585,783          </td><td>                  </td></tr>\n",
       "\t<tr><td>SWE               </td><td>22                </td><td>NA                </td><td>Sweden            </td><td> 551,032          </td><td>                  </td></tr>\n",
       "\t<tr><td>BEL               </td><td>23                </td><td>NA                </td><td>Belgium           </td><td> 531,767          </td><td>                  </td></tr>\n",
       "\t<tr><td>ARG               </td><td>24                </td><td>NA                </td><td>Argentina         </td><td> 518,475          </td><td>b                 </td></tr>\n",
       "\t<tr><td>THA               </td><td>25                </td><td>NA                </td><td>Thailand          </td><td> 504,993          </td><td>                  </td></tr>\n",
       "\t<tr><td>AUT               </td><td>26                </td><td>NA                </td><td>Austria           </td><td> 455,737          </td><td>                  </td></tr>\n",
       "\t<tr><td>...</td><td>...</td><td>...</td><td>...</td><td>...</td><td>...</td></tr>\n",
       "\t<tr><td>  </td><td>  </td><td>NA</td><td>  </td><td>  </td><td>  </td></tr>\n",
       "\t<tr><td>  </td><td>  </td><td>NA</td><td>  </td><td>  </td><td>  </td></tr>\n",
       "\t<tr><td>  </td><td>  </td><td>NA</td><td>  </td><td>  </td><td>  </td></tr>\n",
       "\t<tr><td>  </td><td>  </td><td>NA</td><td>  </td><td>  </td><td>  </td></tr>\n",
       "\t<tr><td>  </td><td>  </td><td>NA</td><td>  </td><td>  </td><td>  </td></tr>\n",
       "\t<tr><td>  </td><td>  </td><td>NA</td><td>  </td><td>  </td><td>  </td></tr>\n",
       "\t<tr><td>  </td><td>  </td><td>NA</td><td>  </td><td>  </td><td>  </td></tr>\n",
       "\t<tr><td>  </td><td>  </td><td>NA</td><td>  </td><td>  </td><td>  </td></tr>\n",
       "\t<tr><td>  </td><td>  </td><td>NA</td><td>  </td><td>  </td><td>  </td></tr>\n",
       "\t<tr><td>  </td><td>  </td><td>NA</td><td>  </td><td>  </td><td>  </td></tr>\n",
       "\t<tr><td>  </td><td>  </td><td>NA</td><td>  </td><td>  </td><td>  </td></tr>\n",
       "\t<tr><td>  </td><td>  </td><td>NA</td><td>  </td><td>  </td><td>  </td></tr>\n",
       "\t<tr><td>  </td><td>  </td><td>NA</td><td>  </td><td>  </td><td>  </td></tr>\n",
       "\t<tr><td>  </td><td>  </td><td>NA</td><td>  </td><td>  </td><td>  </td></tr>\n",
       "\t<tr><td>  </td><td>  </td><td>NA</td><td>  </td><td>  </td><td>  </td></tr>\n",
       "\t<tr><td>  </td><td>  </td><td>NA</td><td>  </td><td>  </td><td>  </td></tr>\n",
       "\t<tr><td>  </td><td>  </td><td>NA</td><td>  </td><td>  </td><td>  </td></tr>\n",
       "\t<tr><td>  </td><td>  </td><td>NA</td><td>  </td><td>  </td><td>  </td></tr>\n",
       "\t<tr><td>  </td><td>  </td><td>NA</td><td>  </td><td>  </td><td>  </td></tr>\n",
       "\t<tr><td>  </td><td>  </td><td>NA</td><td>  </td><td>  </td><td>  </td></tr>\n",
       "\t<tr><td>  </td><td>  </td><td>NA</td><td>  </td><td>  </td><td>  </td></tr>\n",
       "\t<tr><td>  </td><td>  </td><td>NA</td><td>  </td><td>  </td><td>  </td></tr>\n",
       "\t<tr><td>  </td><td>  </td><td>NA</td><td>  </td><td>  </td><td>  </td></tr>\n",
       "\t<tr><td>  </td><td>  </td><td>NA</td><td>  </td><td>  </td><td>  </td></tr>\n",
       "\t<tr><td>  </td><td>  </td><td>NA</td><td>  </td><td>  </td><td>  </td></tr>\n",
       "\t<tr><td>  </td><td>  </td><td>NA</td><td>  </td><td>  </td><td>  </td></tr>\n",
       "\t<tr><td>  </td><td>  </td><td>NA</td><td>  </td><td>  </td><td>  </td></tr>\n",
       "\t<tr><td>  </td><td>  </td><td>NA</td><td>  </td><td>  </td><td>  </td></tr>\n",
       "\t<tr><td>  </td><td>  </td><td>NA</td><td>  </td><td>  </td><td>  </td></tr>\n",
       "\t<tr><td>  </td><td>  </td><td>NA</td><td>  </td><td>  </td><td>  </td></tr>\n",
       "</tbody>\n",
       "</table>\n"
      ],
      "text/latex": [
       "\\begin{tabular}{r|llllll}\n",
       " X & Gross.domestic.product.2018 & X.1 & X.2 & X.3 & X.4\\\\\n",
       "\\hline\n",
       "\t                    &                    & NA                 &                    &                    &                   \\\\\n",
       "\t                    &                    & NA                 &                    & (millions of       &                   \\\\\n",
       "\t                    & Ranking            & NA                 & Economy            & US dollars)        &                   \\\\\n",
       "\t                    &                    & NA                 &                    &                    &                   \\\\\n",
       "\t USA                & 1                  & NA                 & United States      &  20,494,100        &                   \\\\\n",
       "\t CHN                & 2                  & NA                 & China              &  13,608,152        &                   \\\\\n",
       "\t JPN                & 3                  & NA                 & Japan              &  4,970,916         &                   \\\\\n",
       "\t DEU                & 4                  & NA                 & Germany            &  3,996,759         &                   \\\\\n",
       "\t GBR                & 5                  & NA                 & United Kingdom     &  2,825,208         &                   \\\\\n",
       "\t FRA                & 6                  & NA                 & France             &  2,777,535         &                   \\\\\n",
       "\t IND                & 7                  & NA                 & India              &  2,726,323         &                   \\\\\n",
       "\t ITA                & 8                  & NA                 & Italy              &  2,073,902         &                   \\\\\n",
       "\t BRA                & 9                  & NA                 & Brazil             &  1,868,626         &                   \\\\\n",
       "\t CAN                & 10                 & NA                 & Canada             &  1,712,510         &                   \\\\\n",
       "\t RUS                & 11                 & NA                 & Russian Federation &  1,657,554         & a                 \\\\\n",
       "\t KOR                & 12                 & NA                 & Korea, Rep.        &  1,619,424         &                   \\\\\n",
       "\t AUS                & 13                 & NA                 & Australia          &  1,432,195         &                   \\\\\n",
       "\t ESP                & 14                 & NA                 & Spain              &  1,426,189         &                   \\\\\n",
       "\t MEX                & 15                 & NA                 & Mexico             &  1,223,809         &                   \\\\\n",
       "\t IDN                & 16                 & NA                 & Indonesia          &  1,042,173         &                   \\\\\n",
       "\t NLD                & 17                 & NA                 & Netherlands        &  913,658           &                   \\\\\n",
       "\t SAU                & 18                 & NA                 & Saudi Arabia       &  782,483           &                   \\\\\n",
       "\t TUR                & 19                 & NA                 & Turkey             &  766,509           &                   \\\\\n",
       "\t CHE                & 20                 & NA                 & Switzerland        &  705,501           &                   \\\\\n",
       "\t POL                & 21                 & NA                 & Poland             &  585,783           &                   \\\\\n",
       "\t SWE                & 22                 & NA                 & Sweden             &  551,032           &                   \\\\\n",
       "\t BEL                & 23                 & NA                 & Belgium            &  531,767           &                   \\\\\n",
       "\t ARG                & 24                 & NA                 & Argentina          &  518,475           & b                 \\\\\n",
       "\t THA                & 25                 & NA                 & Thailand           &  504,993           &                   \\\\\n",
       "\t AUT                & 26                 & NA                 & Austria            &  455,737           &                   \\\\\n",
       "\t ... & ... & ... & ... & ... & ...\\\\\n",
       "\t    &    & NA &    &    &   \\\\\n",
       "\t    &    & NA &    &    &   \\\\\n",
       "\t    &    & NA &    &    &   \\\\\n",
       "\t    &    & NA &    &    &   \\\\\n",
       "\t    &    & NA &    &    &   \\\\\n",
       "\t    &    & NA &    &    &   \\\\\n",
       "\t    &    & NA &    &    &   \\\\\n",
       "\t    &    & NA &    &    &   \\\\\n",
       "\t    &    & NA &    &    &   \\\\\n",
       "\t    &    & NA &    &    &   \\\\\n",
       "\t    &    & NA &    &    &   \\\\\n",
       "\t    &    & NA &    &    &   \\\\\n",
       "\t    &    & NA &    &    &   \\\\\n",
       "\t    &    & NA &    &    &   \\\\\n",
       "\t    &    & NA &    &    &   \\\\\n",
       "\t    &    & NA &    &    &   \\\\\n",
       "\t    &    & NA &    &    &   \\\\\n",
       "\t    &    & NA &    &    &   \\\\\n",
       "\t    &    & NA &    &    &   \\\\\n",
       "\t    &    & NA &    &    &   \\\\\n",
       "\t    &    & NA &    &    &   \\\\\n",
       "\t    &    & NA &    &    &   \\\\\n",
       "\t    &    & NA &    &    &   \\\\\n",
       "\t    &    & NA &    &    &   \\\\\n",
       "\t    &    & NA &    &    &   \\\\\n",
       "\t    &    & NA &    &    &   \\\\\n",
       "\t    &    & NA &    &    &   \\\\\n",
       "\t    &    & NA &    &    &   \\\\\n",
       "\t    &    & NA &    &    &   \\\\\n",
       "\t    &    & NA &    &    &   \\\\\n",
       "\\end{tabular}\n"
      ],
      "text/markdown": [
       "\n",
       "| X | Gross.domestic.product.2018 | X.1 | X.2 | X.3 | X.4 |\n",
       "|---|---|---|---|---|---|\n",
       "|                    |                    | NA                 |                    |                    |                    |\n",
       "|                    |                    | NA                 |                    | (millions of       |                    |\n",
       "|                    | Ranking            | NA                 | Economy            | US dollars)        |                    |\n",
       "|                    |                    | NA                 |                    |                    |                    |\n",
       "| USA                | 1                  | NA                 | United States      |  20,494,100        |                    |\n",
       "| CHN                | 2                  | NA                 | China              |  13,608,152        |                    |\n",
       "| JPN                | 3                  | NA                 | Japan              |  4,970,916         |                    |\n",
       "| DEU                | 4                  | NA                 | Germany            |  3,996,759         |                    |\n",
       "| GBR                | 5                  | NA                 | United Kingdom     |  2,825,208         |                    |\n",
       "| FRA                | 6                  | NA                 | France             |  2,777,535         |                    |\n",
       "| IND                | 7                  | NA                 | India              |  2,726,323         |                    |\n",
       "| ITA                | 8                  | NA                 | Italy              |  2,073,902         |                    |\n",
       "| BRA                | 9                  | NA                 | Brazil             |  1,868,626         |                    |\n",
       "| CAN                | 10                 | NA                 | Canada             |  1,712,510         |                    |\n",
       "| RUS                | 11                 | NA                 | Russian Federation |  1,657,554         | a                  |\n",
       "| KOR                | 12                 | NA                 | Korea, Rep.        |  1,619,424         |                    |\n",
       "| AUS                | 13                 | NA                 | Australia          |  1,432,195         |                    |\n",
       "| ESP                | 14                 | NA                 | Spain              |  1,426,189         |                    |\n",
       "| MEX                | 15                 | NA                 | Mexico             |  1,223,809         |                    |\n",
       "| IDN                | 16                 | NA                 | Indonesia          |  1,042,173         |                    |\n",
       "| NLD                | 17                 | NA                 | Netherlands        |  913,658           |                    |\n",
       "| SAU                | 18                 | NA                 | Saudi Arabia       |  782,483           |                    |\n",
       "| TUR                | 19                 | NA                 | Turkey             |  766,509           |                    |\n",
       "| CHE                | 20                 | NA                 | Switzerland        |  705,501           |                    |\n",
       "| POL                | 21                 | NA                 | Poland             |  585,783           |                    |\n",
       "| SWE                | 22                 | NA                 | Sweden             |  551,032           |                    |\n",
       "| BEL                | 23                 | NA                 | Belgium            |  531,767           |                    |\n",
       "| ARG                | 24                 | NA                 | Argentina          |  518,475           | b                  |\n",
       "| THA                | 25                 | NA                 | Thailand           |  504,993           |                    |\n",
       "| AUT                | 26                 | NA                 | Austria            |  455,737           |                    |\n",
       "| ... | ... | ... | ... | ... | ... |\n",
       "|    |    | NA |    |    |    |\n",
       "|    |    | NA |    |    |    |\n",
       "|    |    | NA |    |    |    |\n",
       "|    |    | NA |    |    |    |\n",
       "|    |    | NA |    |    |    |\n",
       "|    |    | NA |    |    |    |\n",
       "|    |    | NA |    |    |    |\n",
       "|    |    | NA |    |    |    |\n",
       "|    |    | NA |    |    |    |\n",
       "|    |    | NA |    |    |    |\n",
       "|    |    | NA |    |    |    |\n",
       "|    |    | NA |    |    |    |\n",
       "|    |    | NA |    |    |    |\n",
       "|    |    | NA |    |    |    |\n",
       "|    |    | NA |    |    |    |\n",
       "|    |    | NA |    |    |    |\n",
       "|    |    | NA |    |    |    |\n",
       "|    |    | NA |    |    |    |\n",
       "|    |    | NA |    |    |    |\n",
       "|    |    | NA |    |    |    |\n",
       "|    |    | NA |    |    |    |\n",
       "|    |    | NA |    |    |    |\n",
       "|    |    | NA |    |    |    |\n",
       "|    |    | NA |    |    |    |\n",
       "|    |    | NA |    |    |    |\n",
       "|    |    | NA |    |    |    |\n",
       "|    |    | NA |    |    |    |\n",
       "|    |    | NA |    |    |    |\n",
       "|    |    | NA |    |    |    |\n",
       "|    |    | NA |    |    |    |\n",
       "\n"
      ],
      "text/plain": [
       "    X   Gross.domestic.product.2018 X.1 X.2                X.3          X.4\n",
       "1                                   NA                                     \n",
       "2                                   NA                     (millions of    \n",
       "3       Ranking                     NA  Economy            US dollars)     \n",
       "4                                   NA                                     \n",
       "5   USA 1                           NA  United States       20,494,100     \n",
       "6   CHN 2                           NA  China               13,608,152     \n",
       "7   JPN 3                           NA  Japan               4,970,916      \n",
       "8   DEU 4                           NA  Germany             3,996,759      \n",
       "9   GBR 5                           NA  United Kingdom      2,825,208      \n",
       "10  FRA 6                           NA  France              2,777,535      \n",
       "11  IND 7                           NA  India               2,726,323      \n",
       "12  ITA 8                           NA  Italy               2,073,902      \n",
       "13  BRA 9                           NA  Brazil              1,868,626      \n",
       "14  CAN 10                          NA  Canada              1,712,510      \n",
       "15  RUS 11                          NA  Russian Federation  1,657,554   a  \n",
       "16  KOR 12                          NA  Korea, Rep.         1,619,424      \n",
       "17  AUS 13                          NA  Australia           1,432,195      \n",
       "18  ESP 14                          NA  Spain               1,426,189      \n",
       "19  MEX 15                          NA  Mexico              1,223,809      \n",
       "20  IDN 16                          NA  Indonesia           1,042,173      \n",
       "21  NLD 17                          NA  Netherlands         913,658        \n",
       "22  SAU 18                          NA  Saudi Arabia        782,483        \n",
       "23  TUR 19                          NA  Turkey              766,509        \n",
       "24  CHE 20                          NA  Switzerland         705,501        \n",
       "25  POL 21                          NA  Poland              585,783        \n",
       "26  SWE 22                          NA  Sweden              551,032        \n",
       "27  BEL 23                          NA  Belgium             531,767        \n",
       "28  ARG 24                          NA  Argentina           518,475     b  \n",
       "29  THA 25                          NA  Thailand            504,993        \n",
       "30  AUT 26                          NA  Austria             455,737        \n",
       "... ... ...                         ... ...                ...          ...\n",
       "299                                 NA                                     \n",
       "300                                 NA                                     \n",
       "301                                 NA                                     \n",
       "302                                 NA                                     \n",
       "303                                 NA                                     \n",
       "304                                 NA                                     \n",
       "305                                 NA                                     \n",
       "306                                 NA                                     \n",
       "307                                 NA                                     \n",
       "308                                 NA                                     \n",
       "309                                 NA                                     \n",
       "310                                 NA                                     \n",
       "311                                 NA                                     \n",
       "312                                 NA                                     \n",
       "313                                 NA                                     \n",
       "314                                 NA                                     \n",
       "315                                 NA                                     \n",
       "316                                 NA                                     \n",
       "317                                 NA                                     \n",
       "318                                 NA                                     \n",
       "319                                 NA                                     \n",
       "320                                 NA                                     \n",
       "321                                 NA                                     \n",
       "322                                 NA                                     \n",
       "323                                 NA                                     \n",
       "324                                 NA                                     \n",
       "325                                 NA                                     \n",
       "326                                 NA                                     \n",
       "327                                 NA                                     \n",
       "328                                 NA                                     "
      ]
     },
     "metadata": {},
     "output_type": "display_data"
    },
    {
     "name": "stdout",
     "output_type": "stream",
     "text": [
      "'data.frame':\t328 obs. of  6 variables:\n",
      " $ X                          : Factor w/ 230 levels \"\",\"ABW\",\"AFG\",..: 1 1 1 1 216 38 103 52 72 68 ...\n",
      " $ Gross.domestic.product.2018: Factor w/ 212 levels \"\",\".. Not available.  \",..: 1 1 212 1 3 114 131 142 153 164 ...\n",
      " $ X.1                        : logi  NA NA NA NA NA NA ...\n",
      " $ X.2                        : Factor w/ 231 levels \"\",\"Afghanistan\",..: 1 1 60 1 219 43 104 78 218 73 ...\n",
      " $ X.3                        : Factor w/ 220 levels \"\",\" .. \",\" 1,022 \",..: 1 207 220 1 78 44 137 113 77 75 ...\n",
      " $ X.4                        : Factor w/ 8 levels \"\",\"a\",\"b\",\"c\",..: 1 1 1 1 1 1 1 1 1 1 ...\n"
     ]
    },
    {
     "data": {
      "text/plain": [
       "       X            Gross.domestic.product.2018   X.1         \n",
       "        : 99                      :117          Mode:logical  \n",
       " ABW    :  1   .. Not available.  :  1          NA's:328      \n",
       " AFG    :  1   1                  :  1                        \n",
       " AGO    :  1   10                 :  1                        \n",
       " ALB    :  1   100                :  1                        \n",
       " AND    :  1   101                :  1                        \n",
       " (Other):224   (Other)            :206                        \n",
       "             X.2               X.3           X.4     \n",
       "               : 98              : 97          :320  \n",
       " Afghanistan   :  1    ..        : 12   a      :  2  \n",
       " Albania       :  1    1,624     :  2   b      :  1  \n",
       " Algeria       :  1    1,022     :  1   c      :  1  \n",
       " American Samoa:  1    1,040     :  1   d      :  1  \n",
       " Andorra       :  1    1,042,173 :  1   e      :  1  \n",
       " (Other)       :225   (Other)    :214   (Other):  2  "
      ]
     },
     "metadata": {},
     "output_type": "display_data"
    }
   ],
   "source": [
    "GDP_ranking <- read.csv(\"../Data//GDP.csv\")\n",
    "GDP_ranking\n",
    "str(GDP_ranking)\n",
    "summary(GDP_ranking)"
   ]
  },
  {
   "cell_type": "code",
   "execution_count": 15,
   "id": "468aacfe",
   "metadata": {},
   "outputs": [
    {
     "data": {
      "text/html": [
       "<table>\n",
       "<thead><tr><th></th><th scope=col>X</th><th scope=col>Gross.domestic.product.2018</th><th scope=col>X.2</th><th scope=col>X.3</th></tr></thead>\n",
       "<tbody>\n",
       "\t<tr><th scope=row>5</th><td>USA           </td><td>1             </td><td>United States </td><td> 20,494,100   </td></tr>\n",
       "\t<tr><th scope=row>6</th><td>CHN           </td><td>2             </td><td>China         </td><td> 13,608,152   </td></tr>\n",
       "\t<tr><th scope=row>7</th><td>JPN           </td><td>3             </td><td>Japan         </td><td> 4,970,916    </td></tr>\n",
       "\t<tr><th scope=row>8</th><td>DEU           </td><td>4             </td><td>Germany       </td><td> 3,996,759    </td></tr>\n",
       "\t<tr><th scope=row>9</th><td>GBR           </td><td>5             </td><td>United Kingdom</td><td> 2,825,208    </td></tr>\n",
       "\t<tr><th scope=row>10</th><td>FRA           </td><td>6             </td><td>France        </td><td> 2,777,535    </td></tr>\n",
       "</tbody>\n",
       "</table>\n"
      ],
      "text/latex": [
       "\\begin{tabular}{r|llll}\n",
       "  & X & Gross.domestic.product.2018 & X.2 & X.3\\\\\n",
       "\\hline\n",
       "\t5 & USA            & 1              & United States  &  20,494,100   \\\\\n",
       "\t6 & CHN            & 2              & China          &  13,608,152   \\\\\n",
       "\t7 & JPN            & 3              & Japan          &  4,970,916    \\\\\n",
       "\t8 & DEU            & 4              & Germany        &  3,996,759    \\\\\n",
       "\t9 & GBR            & 5              & United Kingdom &  2,825,208    \\\\\n",
       "\t10 & FRA            & 6              & France         &  2,777,535    \\\\\n",
       "\\end{tabular}\n"
      ],
      "text/markdown": [
       "\n",
       "| <!--/--> | X | Gross.domestic.product.2018 | X.2 | X.3 |\n",
       "|---|---|---|---|---|\n",
       "| 5 | USA            | 1              | United States  |  20,494,100    |\n",
       "| 6 | CHN            | 2              | China          |  13,608,152    |\n",
       "| 7 | JPN            | 3              | Japan          |  4,970,916     |\n",
       "| 8 | DEU            | 4              | Germany        |  3,996,759     |\n",
       "| 9 | GBR            | 5              | United Kingdom |  2,825,208     |\n",
       "| 10 | FRA            | 6              | France         |  2,777,535     |\n",
       "\n"
      ],
      "text/plain": [
       "   X   Gross.domestic.product.2018 X.2            X.3         \n",
       "5  USA 1                           United States   20,494,100 \n",
       "6  CHN 2                           China           13,608,152 \n",
       "7  JPN 3                           Japan           4,970,916  \n",
       "8  DEU 4                           Germany         3,996,759  \n",
       "9  GBR 5                           United Kingdom  2,825,208  \n",
       "10 FRA 6                           France          2,777,535  "
      ]
     },
     "metadata": {},
     "output_type": "display_data"
    }
   ],
   "source": [
    "# 1~4줄 삭제, (1,2,4,5) 컬럼만 발췌\n",
    "GDP_ranking2 <- GDP_ranking[-c(1:4),-c(3,6)]\n",
    "head(GDP_ranking2)"
   ]
  },
  {
   "cell_type": "code",
   "execution_count": 16,
   "id": "52f1e2e9",
   "metadata": {},
   "outputs": [
    {
     "data": {
      "text/html": [
       "<table>\n",
       "<thead><tr><th></th><th scope=col>X</th><th scope=col>Gross.domestic.product.2018</th><th scope=col>X.2</th><th scope=col>X.3</th></tr></thead>\n",
       "<tbody>\n",
       "\t<tr><th scope=row>5</th><td>USA           </td><td>1             </td><td>United States </td><td> 20,494,100   </td></tr>\n",
       "\t<tr><th scope=row>6</th><td>CHN           </td><td>2             </td><td>China         </td><td> 13,608,152   </td></tr>\n",
       "\t<tr><th scope=row>7</th><td>JPN           </td><td>3             </td><td>Japan         </td><td> 4,970,916    </td></tr>\n",
       "\t<tr><th scope=row>8</th><td>DEU           </td><td>4             </td><td>Germany       </td><td> 3,996,759    </td></tr>\n",
       "\t<tr><th scope=row>9</th><td>GBR           </td><td>5             </td><td>United Kingdom</td><td> 2,825,208    </td></tr>\n",
       "\t<tr><th scope=row>10</th><td>FRA           </td><td>6             </td><td>France        </td><td> 2,777,535    </td></tr>\n",
       "</tbody>\n",
       "</table>\n"
      ],
      "text/latex": [
       "\\begin{tabular}{r|llll}\n",
       "  & X & Gross.domestic.product.2018 & X.2 & X.3\\\\\n",
       "\\hline\n",
       "\t5 & USA            & 1              & United States  &  20,494,100   \\\\\n",
       "\t6 & CHN            & 2              & China          &  13,608,152   \\\\\n",
       "\t7 & JPN            & 3              & Japan          &  4,970,916    \\\\\n",
       "\t8 & DEU            & 4              & Germany        &  3,996,759    \\\\\n",
       "\t9 & GBR            & 5              & United Kingdom &  2,825,208    \\\\\n",
       "\t10 & FRA            & 6              & France         &  2,777,535    \\\\\n",
       "\\end{tabular}\n"
      ],
      "text/markdown": [
       "\n",
       "| <!--/--> | X | Gross.domestic.product.2018 | X.2 | X.3 |\n",
       "|---|---|---|---|---|\n",
       "| 5 | USA            | 1              | United States  |  20,494,100    |\n",
       "| 6 | CHN            | 2              | China          |  13,608,152    |\n",
       "| 7 | JPN            | 3              | Japan          |  4,970,916     |\n",
       "| 8 | DEU            | 4              | Germany        |  3,996,759     |\n",
       "| 9 | GBR            | 5              | United Kingdom |  2,825,208     |\n",
       "| 10 | FRA            | 6              | France         |  2,777,535     |\n",
       "\n"
      ],
      "text/plain": [
       "   X   Gross.domestic.product.2018 X.2            X.3         \n",
       "5  USA 1                           United States   20,494,100 \n",
       "6  CHN 2                           China           13,608,152 \n",
       "7  JPN 3                           Japan           4,970,916  \n",
       "8  DEU 4                           Germany         3,996,759  \n",
       "9  GBR 5                           United Kingdom  2,825,208  \n",
       "10 FRA 6                           France          2,777,535  "
      ]
     },
     "metadata": {},
     "output_type": "display_data"
    }
   ],
   "source": [
    "# 상위 15개국만 선별한다.\n",
    "\n",
    "GDP_ranking15 <- GDP_ranking2[1:15,]\n",
    "# GDP_ranking15 <- head(GDP_ranking2, 15) 도 가능\n",
    "head(GDP_ranking15)"
   ]
  },
  {
   "cell_type": "code",
   "execution_count": 17,
   "id": "68c57753",
   "metadata": {},
   "outputs": [
    {
     "data": {
      "text/html": [
       "<table>\n",
       "<thead><tr><th></th><th scope=col>Code</th><th scope=col>Ranking</th><th scope=col>Nation</th><th scope=col>GDP</th></tr></thead>\n",
       "<tbody>\n",
       "\t<tr><th scope=row>5</th><td>USA               </td><td>1                 </td><td>United States     </td><td> 20,494,100       </td></tr>\n",
       "\t<tr><th scope=row>6</th><td>CHN               </td><td>2                 </td><td>China             </td><td> 13,608,152       </td></tr>\n",
       "\t<tr><th scope=row>7</th><td>JPN               </td><td>3                 </td><td>Japan             </td><td> 4,970,916        </td></tr>\n",
       "\t<tr><th scope=row>8</th><td>DEU               </td><td>4                 </td><td>Germany           </td><td> 3,996,759        </td></tr>\n",
       "\t<tr><th scope=row>9</th><td>GBR               </td><td>5                 </td><td>United Kingdom    </td><td> 2,825,208        </td></tr>\n",
       "\t<tr><th scope=row>10</th><td>FRA               </td><td>6                 </td><td>France            </td><td> 2,777,535        </td></tr>\n",
       "\t<tr><th scope=row>11</th><td>IND               </td><td>7                 </td><td>India             </td><td> 2,726,323        </td></tr>\n",
       "\t<tr><th scope=row>12</th><td>ITA               </td><td>8                 </td><td>Italy             </td><td> 2,073,902        </td></tr>\n",
       "\t<tr><th scope=row>13</th><td>BRA               </td><td>9                 </td><td>Brazil            </td><td> 1,868,626        </td></tr>\n",
       "\t<tr><th scope=row>14</th><td>CAN               </td><td>10                </td><td>Canada            </td><td> 1,712,510        </td></tr>\n",
       "\t<tr><th scope=row>15</th><td>RUS               </td><td>11                </td><td>Russian Federation</td><td> 1,657,554        </td></tr>\n",
       "\t<tr><th scope=row>16</th><td>KOR               </td><td>12                </td><td>Korea, Rep.       </td><td> 1,619,424        </td></tr>\n",
       "\t<tr><th scope=row>17</th><td>AUS               </td><td>13                </td><td>Australia         </td><td> 1,432,195        </td></tr>\n",
       "\t<tr><th scope=row>18</th><td>ESP               </td><td>14                </td><td>Spain             </td><td> 1,426,189        </td></tr>\n",
       "\t<tr><th scope=row>19</th><td>MEX               </td><td>15                </td><td>Mexico            </td><td> 1,223,809        </td></tr>\n",
       "</tbody>\n",
       "</table>\n"
      ],
      "text/latex": [
       "\\begin{tabular}{r|llll}\n",
       "  & Code & Ranking & Nation & GDP\\\\\n",
       "\\hline\n",
       "\t5 & USA                & 1                  & United States      &  20,494,100       \\\\\n",
       "\t6 & CHN                & 2                  & China              &  13,608,152       \\\\\n",
       "\t7 & JPN                & 3                  & Japan              &  4,970,916        \\\\\n",
       "\t8 & DEU                & 4                  & Germany            &  3,996,759        \\\\\n",
       "\t9 & GBR                & 5                  & United Kingdom     &  2,825,208        \\\\\n",
       "\t10 & FRA                & 6                  & France             &  2,777,535        \\\\\n",
       "\t11 & IND                & 7                  & India              &  2,726,323        \\\\\n",
       "\t12 & ITA                & 8                  & Italy              &  2,073,902        \\\\\n",
       "\t13 & BRA                & 9                  & Brazil             &  1,868,626        \\\\\n",
       "\t14 & CAN                & 10                 & Canada             &  1,712,510        \\\\\n",
       "\t15 & RUS                & 11                 & Russian Federation &  1,657,554        \\\\\n",
       "\t16 & KOR                & 12                 & Korea, Rep.        &  1,619,424        \\\\\n",
       "\t17 & AUS                & 13                 & Australia          &  1,432,195        \\\\\n",
       "\t18 & ESP                & 14                 & Spain              &  1,426,189        \\\\\n",
       "\t19 & MEX                & 15                 & Mexico             &  1,223,809        \\\\\n",
       "\\end{tabular}\n"
      ],
      "text/markdown": [
       "\n",
       "| <!--/--> | Code | Ranking | Nation | GDP |\n",
       "|---|---|---|---|---|\n",
       "| 5 | USA                | 1                  | United States      |  20,494,100        |\n",
       "| 6 | CHN                | 2                  | China              |  13,608,152        |\n",
       "| 7 | JPN                | 3                  | Japan              |  4,970,916         |\n",
       "| 8 | DEU                | 4                  | Germany            |  3,996,759         |\n",
       "| 9 | GBR                | 5                  | United Kingdom     |  2,825,208         |\n",
       "| 10 | FRA                | 6                  | France             |  2,777,535         |\n",
       "| 11 | IND                | 7                  | India              |  2,726,323         |\n",
       "| 12 | ITA                | 8                  | Italy              |  2,073,902         |\n",
       "| 13 | BRA                | 9                  | Brazil             |  1,868,626         |\n",
       "| 14 | CAN                | 10                 | Canada             |  1,712,510         |\n",
       "| 15 | RUS                | 11                 | Russian Federation |  1,657,554         |\n",
       "| 16 | KOR                | 12                 | Korea, Rep.        |  1,619,424         |\n",
       "| 17 | AUS                | 13                 | Australia          |  1,432,195         |\n",
       "| 18 | ESP                | 14                 | Spain              |  1,426,189         |\n",
       "| 19 | MEX                | 15                 | Mexico             |  1,223,809         |\n",
       "\n"
      ],
      "text/plain": [
       "   Code Ranking Nation             GDP         \n",
       "5  USA  1       United States       20,494,100 \n",
       "6  CHN  2       China               13,608,152 \n",
       "7  JPN  3       Japan               4,970,916  \n",
       "8  DEU  4       Germany             3,996,759  \n",
       "9  GBR  5       United Kingdom      2,825,208  \n",
       "10 FRA  6       France              2,777,535  \n",
       "11 IND  7       India               2,726,323  \n",
       "12 ITA  8       Italy               2,073,902  \n",
       "13 BRA  9       Brazil              1,868,626  \n",
       "14 CAN  10      Canada              1,712,510  \n",
       "15 RUS  11      Russian Federation  1,657,554  \n",
       "16 KOR  12      Korea, Rep.         1,619,424  \n",
       "17 AUS  13      Australia           1,432,195  \n",
       "18 ESP  14      Spain               1,426,189  \n",
       "19 MEX  15      Mexico              1,223,809  "
      ]
     },
     "metadata": {},
     "output_type": "display_data"
    }
   ],
   "source": [
    "# 컬럼 이름 정의 : Code, Ranking, Nation, GDP\n",
    "\n",
    "colnames(GDP_ranking15) <- c(\"Code\", \"Ranking\", \"Nation\", \"GDP\")\n",
    "\n",
    "GDP_ranking15"
   ]
  },
  {
   "cell_type": "code",
   "execution_count": 18,
   "id": "155df1e6",
   "metadata": {},
   "outputs": [
    {
     "name": "stdout",
     "output_type": "stream",
     "text": [
      "   Code Ranking             Nation          GDP\n",
      "1   USA       1      United States  20,494,100 \n",
      "2   CHN       2              China  13,608,152 \n",
      "3   JPN       3              Japan   4,970,916 \n",
      "4   DEU       4            Germany   3,996,759 \n",
      "5   GBR       5     United Kingdom   2,825,208 \n",
      "6   FRA       6             France   2,777,535 \n",
      "7   IND       7              India   2,726,323 \n",
      "8   ITA       8              Italy   2,073,902 \n",
      "9   BRA       9             Brazil   1,868,626 \n",
      "10  CAN      10             Canada   1,712,510 \n",
      "11  RUS      11 Russian Federation   1,657,554 \n",
      "12  KOR      12        Korea, Rep.   1,619,424 \n",
      "13  AUS      13          Australia   1,432,195 \n",
      "14  ESP      14              Spain   1,426,189 \n",
      "15  MEX      15             Mexico   1,223,809 \n"
     ]
    }
   ],
   "source": [
    "# rownames 새로 구성하기\n",
    "\n",
    "rownames(GDP_ranking15) <- c()\n",
    "print(GDP_ranking15)"
   ]
  },
  {
   "cell_type": "code",
   "execution_count": 19,
   "id": "93b5e814",
   "metadata": {},
   "outputs": [
    {
     "name": "stdout",
     "output_type": "stream",
     "text": [
      "'data.frame':\t15 obs. of  4 variables:\n",
      " $ Code   : Factor w/ 230 levels \"\",\"ABW\",\"AFG\",..: 216 38 103 52 72 68 94 100 28 34 ...\n",
      " $ Ranking: Factor w/ 212 levels \"\",\".. Not available.  \",..: 3 114 131 142 153 164 175 186 197 4 ...\n",
      " $ Nation : Factor w/ 231 levels \"\",\"Afghanistan\",..: 219 43 104 78 218 73 95 102 28 37 ...\n",
      " $ GDP    : Factor w/ 220 levels \"\",\" .. \",\" 1,022 \",..: 78 44 137 113 77 75 74 67 20 19 ...\n"
     ]
    }
   ],
   "source": [
    "# 구조 확인하기\n",
    "# 초기 데이터값을 그대로 가지고 있음\n",
    "str(GDP_ranking15)"
   ]
  },
  {
   "cell_type": "code",
   "execution_count": 20,
   "id": "b1b887c7",
   "metadata": {},
   "outputs": [],
   "source": [
    "# Factor의 갯수가 15개가 정상일텐데 이상하다 <- 재구성\n",
    "\n",
    "GDP_ranking15$Code <- factor(GDP_ranking15$Code)"
   ]
  },
  {
   "cell_type": "code",
   "execution_count": 39,
   "id": "67e55fba",
   "metadata": {},
   "outputs": [
    {
     "name": "stdout",
     "output_type": "stream",
     "text": [
      "'data.frame':\t15 obs. of  4 variables:\n",
      " $ Code   : Factor w/ 15 levels \"AUS\",\"BRA\",\"CAN\",..: 15 4 11 5 8 7 9 10 2 3 ...\n",
      " $ Ranking: Factor w/ 15 levels \"1\",\"10\",\"11\",..: 1 8 9 10 11 12 13 14 15 2 ...\n",
      " $ Nation : Factor w/ 15 levels \"Australia\",\"Brazil\",..: 15 4 9 6 14 5 7 8 2 3 ...\n",
      " $ GDP    : Factor w/ 15 levels \"1223809\",\"1426189\",..: 15 14 13 12 11 10 9 8 7 6 ...\n"
     ]
    }
   ],
   "source": [
    "# for문을 이용한 factor 조정\n",
    "\n",
    "for(i in 1:ncol(GDP_ranking15)){\n",
    "    \n",
    "    GDP_ranking15[,i] <- factor(GDP_ranking15[,i])\n",
    "}\n",
    "str(GDP_ranking15)"
   ]
  },
  {
   "cell_type": "code",
   "execution_count": 40,
   "id": "b5f0fb50",
   "metadata": {},
   "outputs": [
    {
     "name": "stdout",
     "output_type": "stream",
     "text": [
      "'data.frame':\t15 obs. of  4 variables:\n",
      " $ Code   : Factor w/ 15 levels \"AUS\",\"BRA\",\"CAN\",..: 15 4 11 5 8 7 9 10 2 3 ...\n",
      " $ Ranking: Factor w/ 15 levels \"1\",\"10\",\"11\",..: 1 8 9 10 11 12 13 14 15 2 ...\n",
      " $ Nation : Factor w/ 15 levels \"Australia\",\"Brazil\",..: 15 4 9 6 14 5 7 8 2 3 ...\n",
      " $ GDP    : num  20494100 13608152 4970916 3996759 2825208 ...\n"
     ]
    }
   ],
   "source": [
    "library(stringr)\n",
    "\n",
    "GDP_ranking15$GDP <- as.numeric(str_remove_all(GDP_ranking15$GDP, \",\"))\n",
    "str(GDP_ranking15)"
   ]
  },
  {
   "cell_type": "code",
   "execution_count": null,
   "id": "8c89e860",
   "metadata": {},
   "outputs": [],
   "source": []
  },
  {
   "cell_type": "code",
   "execution_count": null,
   "id": "9f04a035",
   "metadata": {},
   "outputs": [],
   "source": []
  },
  {
   "cell_type": "code",
   "execution_count": null,
   "id": "c91d67c1",
   "metadata": {},
   "outputs": [],
   "source": []
  },
  {
   "cell_type": "code",
   "execution_count": null,
   "id": "cb559074",
   "metadata": {},
   "outputs": [],
   "source": []
  }
 ],
 "metadata": {
  "kernelspec": {
   "display_name": "R",
   "language": "R",
   "name": "ir"
  },
  "language_info": {
   "codemirror_mode": "r",
   "file_extension": ".r",
   "mimetype": "text/x-r-source",
   "name": "R",
   "pygments_lexer": "r",
   "version": "3.6.1"
  }
 },
 "nbformat": 4,
 "nbformat_minor": 5
}
