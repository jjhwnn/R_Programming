{
 "cells": [
  {
   "cell_type": "markdown",
   "id": "f882791f",
   "metadata": {},
   "source": [
    "# 기술 통계량을 계산하는 함수 정의"
   ]
  },
  {
   "cell_type": "code",
   "execution_count": 2,
   "id": "fc8e2fe9",
   "metadata": {},
   "outputs": [
    {
     "data": {
      "text/html": [
       "<table>\n",
       "<thead><tr><th scope=col>A</th><th scope=col>B</th><th scope=col>C</th><th scope=col>D</th><th scope=col>E</th></tr></thead>\n",
       "<tbody>\n",
       "\t<tr><td>2</td><td>4</td><td>4</td><td>2</td><td>2</td></tr>\n",
       "\t<tr><td>1</td><td>2</td><td>2</td><td>2</td><td>2</td></tr>\n",
       "\t<tr><td>2</td><td>3</td><td>4</td><td>3</td><td>3</td></tr>\n",
       "\t<tr><td>3</td><td>5</td><td>5</td><td>3</td><td>3</td></tr>\n",
       "\t<tr><td>3</td><td>2</td><td>4</td><td>4</td><td>4</td></tr>\n",
       "\t<tr><td>4</td><td>3</td><td>3</td><td>4</td><td>2</td></tr>\n",
       "</tbody>\n",
       "</table>\n"
      ],
      "text/latex": [
       "\\begin{tabular}{r|lllll}\n",
       " A & B & C & D & E\\\\\n",
       "\\hline\n",
       "\t 2 & 4 & 4 & 2 & 2\\\\\n",
       "\t 1 & 2 & 2 & 2 & 2\\\\\n",
       "\t 2 & 3 & 4 & 3 & 3\\\\\n",
       "\t 3 & 5 & 5 & 3 & 3\\\\\n",
       "\t 3 & 2 & 4 & 4 & 4\\\\\n",
       "\t 4 & 3 & 3 & 4 & 2\\\\\n",
       "\\end{tabular}\n"
      ],
      "text/markdown": [
       "\n",
       "| A | B | C | D | E |\n",
       "|---|---|---|---|---|\n",
       "| 2 | 4 | 4 | 2 | 2 |\n",
       "| 1 | 2 | 2 | 2 | 2 |\n",
       "| 2 | 3 | 4 | 3 | 3 |\n",
       "| 3 | 5 | 5 | 3 | 3 |\n",
       "| 3 | 2 | 4 | 4 | 4 |\n",
       "| 4 | 3 | 3 | 4 | 2 |\n",
       "\n"
      ],
      "text/plain": [
       "  A B C D E\n",
       "1 2 4 4 2 2\n",
       "2 1 2 2 2 2\n",
       "3 2 3 4 3 3\n",
       "4 3 5 5 3 3\n",
       "5 3 2 4 4 4\n",
       "6 4 3 3 4 2"
      ]
     },
     "metadata": {},
     "output_type": "display_data"
    }
   ],
   "source": [
    "test <- read.csv(\"../Data//test.csv\")\n",
    "head(test)"
   ]
  },
  {
   "cell_type": "code",
   "execution_count": 3,
   "id": "f6c959fc",
   "metadata": {},
   "outputs": [
    {
     "data": {
      "text/html": [
       "<table>\n",
       "<thead><tr><th></th><th scope=col>A</th><th scope=col>B</th><th scope=col>C</th><th scope=col>D</th><th scope=col>E</th></tr></thead>\n",
       "<tbody>\n",
       "\t<tr><th scope=row>397</th><td>2</td><td>3</td><td>5</td><td>2</td><td>4</td></tr>\n",
       "\t<tr><th scope=row>398</th><td>4</td><td>3</td><td>3</td><td>2</td><td>4</td></tr>\n",
       "\t<tr><th scope=row>399</th><td>2</td><td>4</td><td>4</td><td>2</td><td>3</td></tr>\n",
       "\t<tr><th scope=row>400</th><td>2</td><td>2</td><td>5</td><td>2</td><td>4</td></tr>\n",
       "\t<tr><th scope=row>401</th><td>2</td><td>3</td><td>4</td><td>2</td><td>4</td></tr>\n",
       "\t<tr><th scope=row>402</th><td>2</td><td>2</td><td>4</td><td>2</td><td>4</td></tr>\n",
       "</tbody>\n",
       "</table>\n"
      ],
      "text/latex": [
       "\\begin{tabular}{r|lllll}\n",
       "  & A & B & C & D & E\\\\\n",
       "\\hline\n",
       "\t397 & 2 & 3 & 5 & 2 & 4\\\\\n",
       "\t398 & 4 & 3 & 3 & 2 & 4\\\\\n",
       "\t399 & 2 & 4 & 4 & 2 & 3\\\\\n",
       "\t400 & 2 & 2 & 5 & 2 & 4\\\\\n",
       "\t401 & 2 & 3 & 4 & 2 & 4\\\\\n",
       "\t402 & 2 & 2 & 4 & 2 & 4\\\\\n",
       "\\end{tabular}\n"
      ],
      "text/markdown": [
       "\n",
       "| <!--/--> | A | B | C | D | E |\n",
       "|---|---|---|---|---|---|\n",
       "| 397 | 2 | 3 | 5 | 2 | 4 |\n",
       "| 398 | 4 | 3 | 3 | 2 | 4 |\n",
       "| 399 | 2 | 4 | 4 | 2 | 3 |\n",
       "| 400 | 2 | 2 | 5 | 2 | 4 |\n",
       "| 401 | 2 | 3 | 4 | 2 | 4 |\n",
       "| 402 | 2 | 2 | 4 | 2 | 4 |\n",
       "\n"
      ],
      "text/plain": [
       "    A B C D E\n",
       "397 2 3 5 2 4\n",
       "398 4 3 3 2 4\n",
       "399 2 4 4 2 3\n",
       "400 2 2 5 2 4\n",
       "401 2 3 4 2 4\n",
       "402 2 2 4 2 4"
      ]
     },
     "metadata": {},
     "output_type": "display_data"
    }
   ],
   "source": [
    "tail(test)"
   ]
  },
  {
   "cell_type": "code",
   "execution_count": 4,
   "id": "c0fc68fe",
   "metadata": {},
   "outputs": [
    {
     "name": "stdout",
     "output_type": "stream",
     "text": [
      "'data.frame':\t402 obs. of  5 variables:\n",
      " $ A: int  2 1 2 3 3 4 3 4 4 4 ...\n",
      " $ B: int  4 2 3 5 2 3 4 2 4 2 ...\n",
      " $ C: int  4 2 4 5 4 3 4 4 5 4 ...\n",
      " $ D: int  2 2 3 3 4 4 2 4 3 2 ...\n",
      " $ E: int  2 2 3 3 4 2 2 4 4 3 ...\n"
     ]
    }
   ],
   "source": [
    "str(test)"
   ]
  },
  {
   "cell_type": "code",
   "execution_count": 5,
   "id": "fc77678b",
   "metadata": {},
   "outputs": [
    {
     "data": {
      "text/plain": [
       "       A               B               C               D              E        \n",
       " Min.   :1.000   Min.   :1.000   Min.   :1.000   Min.   :1.00   Min.   :1.000  \n",
       " 1st Qu.:2.000   1st Qu.:2.000   1st Qu.:3.000   1st Qu.:2.00   1st Qu.:3.000  \n",
       " Median :3.000   Median :3.000   Median :4.000   Median :2.00   Median :4.000  \n",
       " Mean   :2.734   Mean   :2.908   Mean   :3.622   Mean   :2.51   Mean   :3.386  \n",
       " 3rd Qu.:3.000   3rd Qu.:4.000   3rd Qu.:4.000   3rd Qu.:3.00   3rd Qu.:4.000  \n",
       " Max.   :5.000   Max.   :5.000   Max.   :5.000   Max.   :4.00   Max.   :5.000  "
      ]
     },
     "metadata": {},
     "output_type": "display_data"
    }
   ],
   "source": [
    "summary(test)"
   ]
  },
  {
   "cell_type": "code",
   "execution_count": 10,
   "id": "f06cec31",
   "metadata": {},
   "outputs": [
    {
     "data": {
      "text/html": [
       "5"
      ],
      "text/latex": [
       "5"
      ],
      "text/markdown": [
       "5"
      ],
      "text/plain": [
       "[1] 5"
      ]
     },
     "metadata": {},
     "output_type": "display_data"
    },
    {
     "data": {
      "text/html": [
       "1"
      ],
      "text/latex": [
       "1"
      ],
      "text/markdown": [
       "1"
      ],
      "text/plain": [
       "[1] 1"
      ]
     },
     "metadata": {},
     "output_type": "display_data"
    },
    {
     "name": "stdout",
     "output_type": "stream",
     "text": [
      "\n",
      "  1   2   3   4   5 \n",
      " 30 133 156  80   3 \n"
     ]
    }
   ],
   "source": [
    "# A 컬럼의 최대값, 최소값, 빈도수 구하기\n",
    "\n",
    "max(test$A)\n",
    "min(test$A)\n",
    "print(table(test$A))"
   ]
  },
  {
   "cell_type": "code",
   "execution_count": 45,
   "id": "aa6d303d",
   "metadata": {},
   "outputs": [
    {
     "data": {
      "text/html": [
       "5"
      ],
      "text/latex": [
       "5"
      ],
      "text/markdown": [
       "5"
      ],
      "text/plain": [
       "[1] 5"
      ]
     },
     "metadata": {},
     "output_type": "display_data"
    },
    {
     "name": "stdout",
     "output_type": "stream",
     "text": [
      "A 번째 컬럼의 빈도 분석 결과\n",
      "  1   2   3   4   5 \n",
      " 30 133 156  80   3 \n",
      "--------------------------\n",
      "B 번째 컬럼의 빈도 분석 결과\n",
      "  1   2   3   4   5 \n",
      " 16 150  98 131   7 \n",
      "--------------------------\n",
      "C 번째 컬럼의 빈도 분석 결과\n",
      "  1   2   3   4   5 \n",
      "  3  74  72 176  77 \n",
      "--------------------------\n",
      "D 번째 컬럼의 빈도 분석 결과\n",
      "  1   2   3   4 \n",
      " 30 178 153  41 \n",
      "--------------------------\n",
      "E 번째 컬럼의 빈도 분석 결과\n",
      "  1   2   3   4   5 \n",
      "  8  81 107 160  46 \n",
      "--------------------------\n"
     ]
    },
    {
     "data": {
      "text/html": [
       "'data.frame'"
      ],
      "text/latex": [
       "'data.frame'"
      ],
      "text/markdown": [
       "'data.frame'"
      ],
      "text/plain": [
       "[1] \"data.frame\""
      ]
     },
     "metadata": {},
     "output_type": "display_data"
    }
   ],
   "source": [
    "# 각 컬럼의 빈도수 구하기\n",
    "length(test) # ???\n",
    "for(i in 1:ncol(test)){\n",
    "    \n",
    "    cat(colnames(test)[i],\"번째 컬럼의 빈도 분석 결과\")\n",
    "    print(table(test[,i]))\n",
    "    cat(\"--------------------------\\n\")\n",
    "}"
   ]
  },
  {
   "cell_type": "code",
   "execution_count": 27,
   "id": "312fd549",
   "metadata": {},
   "outputs": [
    {
     "data": {
      "text/html": [
       "<ol class=list-inline>\n",
       "\t<li>'A'</li>\n",
       "\t<li>'B'</li>\n",
       "\t<li>'C'</li>\n",
       "\t<li>'D'</li>\n",
       "\t<li>'E'</li>\n",
       "</ol>\n"
      ],
      "text/latex": [
       "\\begin{enumerate*}\n",
       "\\item 'A'\n",
       "\\item 'B'\n",
       "\\item 'C'\n",
       "\\item 'D'\n",
       "\\item 'E'\n",
       "\\end{enumerate*}\n"
      ],
      "text/markdown": [
       "1. 'A'\n",
       "2. 'B'\n",
       "3. 'C'\n",
       "4. 'D'\n",
       "5. 'E'\n",
       "\n",
       "\n"
      ],
      "text/plain": [
       "[1] \"A\" \"B\" \"C\" \"D\" \"E\""
      ]
     },
     "metadata": {},
     "output_type": "display_data"
    }
   ],
   "source": [
    "colnames(test)"
   ]
  },
  {
   "cell_type": "code",
   "execution_count": 47,
   "id": "353981b7",
   "metadata": {},
   "outputs": [
    {
     "name": "stdout",
     "output_type": "stream",
     "text": [
      "A 번째 컬럼의 빈도 분석 결과\n",
      " 최대값:  156 , 최소값:  3 \n",
      " --------------------------\n",
      "B 번째 컬럼의 빈도 분석 결과\n",
      " 최대값:  150 , 최소값:  7 \n",
      " --------------------------\n",
      "C 번째 컬럼의 빈도 분석 결과\n",
      " 최대값:  176 , 최소값:  3 \n",
      " --------------------------\n",
      "D 번째 컬럼의 빈도 분석 결과\n",
      " 최대값:  178 , 최소값:  30 \n",
      " --------------------------\n",
      "E 번째 컬럼의 빈도 분석 결과\n",
      " 최대값:  160 , 최소값:  8 \n",
      " --------------------------\n"
     ]
    }
   ],
   "source": [
    "# 각 컬럼의 빈도수의 최대값 , 최소값 구하기\n",
    "\n",
    "for(i in 1:ncol(test)){\n",
    "    table <- table(test[,i])\n",
    "    \n",
    "    cat(colnames(test)[i],\"번째 컬럼의 빈도 분석 결과\\n\",\n",
    "    \"최대값: \", max(table), \", 최소값: \", min(table), \"\\n\",\n",
    "    \"--------------------------\\n\")\n",
    "}"
   ]
  },
  {
   "cell_type": "code",
   "execution_count": 48,
   "id": "9279cc92",
   "metadata": {},
   "outputs": [],
   "source": [
    "# 각 컬럼의 빈도수 구하기 각 컬럼의 빈도수의 최대값, 최소값 구하는 함수 만들기\n",
    "\n",
    "tableMaxMin <- function(){\n",
    "    for(i in 1:ncol(test)){\n",
    "    \n",
    "    cat(colnames(test)[i],\"번째 컬럼의 빈도 분석 결과\")\n",
    "    print(table(test[,i]))\n",
    "    cat(\"--------------------------\\n\")\n",
    "    }\n",
    "}"
   ]
  },
  {
   "cell_type": "code",
   "execution_count": null,
   "id": "b8904899",
   "metadata": {},
   "outputs": [],
   "source": []
  }
 ],
 "metadata": {
  "kernelspec": {
   "display_name": "R",
   "language": "R",
   "name": "ir"
  },
  "language_info": {
   "codemirror_mode": "r",
   "file_extension": ".r",
   "mimetype": "text/x-r-source",
   "name": "R",
   "pygments_lexer": "r",
   "version": "3.6.1"
  }
 },
 "nbformat": 4,
 "nbformat_minor": 5
}
