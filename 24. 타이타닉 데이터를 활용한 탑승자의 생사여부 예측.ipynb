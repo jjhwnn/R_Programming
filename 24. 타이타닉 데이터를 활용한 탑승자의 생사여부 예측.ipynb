{
 "cells": [
  {
   "cell_type": "code",
   "execution_count": 1,
   "id": "c8426642",
   "metadata": {},
   "outputs": [
    {
     "data": {
      "text/html": [
       "<table>\n",
       "<thead><tr><th scope=col>癤풮assengerId</th><th scope=col>Survived</th><th scope=col>Pclass</th><th scope=col>Name</th><th scope=col>Sex</th><th scope=col>Age</th><th scope=col>SibSp</th><th scope=col>Parch</th><th scope=col>Ticket</th><th scope=col>Fare</th><th scope=col>Cabin</th><th scope=col>Embarked</th></tr></thead>\n",
       "<tbody>\n",
       "\t<tr><td>1                                                  </td><td>0                                                  </td><td>3                                                  </td><td>Braund, Mr. Owen Harris                            </td><td>male                                               </td><td>22                                                 </td><td>1                                                  </td><td>0                                                  </td><td>A/5 21171                                          </td><td> 7.2500                                            </td><td>                                                   </td><td>S                                                  </td></tr>\n",
       "\t<tr><td>2                                                  </td><td>1                                                  </td><td>1                                                  </td><td>Cumings, Mrs. John Bradley (Florence Briggs Thayer)</td><td>female                                             </td><td>38                                                 </td><td>1                                                  </td><td>0                                                  </td><td>PC 17599                                           </td><td>71.2833                                            </td><td>C85                                                </td><td>C                                                  </td></tr>\n",
       "\t<tr><td>3                                                  </td><td>1                                                  </td><td>3                                                  </td><td>Heikkinen, Miss. Laina                             </td><td>female                                             </td><td>26                                                 </td><td>0                                                  </td><td>0                                                  </td><td>STON/O2. 3101282                                   </td><td> 7.9250                                            </td><td>                                                   </td><td>S                                                  </td></tr>\n",
       "\t<tr><td>4                                                  </td><td>1                                                  </td><td>1                                                  </td><td>Futrelle, Mrs. Jacques Heath (Lily May Peel)       </td><td>female                                             </td><td>35                                                 </td><td>1                                                  </td><td>0                                                  </td><td>113803                                             </td><td>53.1000                                            </td><td>C123                                               </td><td>S                                                  </td></tr>\n",
       "\t<tr><td>5                                                  </td><td>0                                                  </td><td>3                                                  </td><td>Allen, Mr. William Henry                           </td><td>male                                               </td><td>35                                                 </td><td>0                                                  </td><td>0                                                  </td><td>373450                                             </td><td> 8.0500                                            </td><td>                                                   </td><td>S                                                  </td></tr>\n",
       "\t<tr><td>6                                                  </td><td>0                                                  </td><td>3                                                  </td><td>Moran, Mr. James                                   </td><td>male                                               </td><td>NA                                                 </td><td>0                                                  </td><td>0                                                  </td><td>330877                                             </td><td> 8.4583                                            </td><td>                                                   </td><td>Q                                                  </td></tr>\n",
       "</tbody>\n",
       "</table>\n"
      ],
      "text/latex": [
       "\\begin{tabular}{r|llllllllllll}\n",
       " 癤풮assengerId & Survived & Pclass & Name & Sex & Age & SibSp & Parch & Ticket & Fare & Cabin & Embarked\\\\\n",
       "\\hline\n",
       "\t 1                                                   & 0                                                   & 3                                                   & Braund, Mr. Owen Harris                             & male                                                & 22                                                  & 1                                                   & 0                                                   & A/5 21171                                           &  7.2500                                             &                                                     & S                                                  \\\\\n",
       "\t 2                                                   & 1                                                   & 1                                                   & Cumings, Mrs. John Bradley (Florence Briggs Thayer) & female                                              & 38                                                  & 1                                                   & 0                                                   & PC 17599                                            & 71.2833                                             & C85                                                 & C                                                  \\\\\n",
       "\t 3                                                   & 1                                                   & 3                                                   & Heikkinen, Miss. Laina                              & female                                              & 26                                                  & 0                                                   & 0                                                   & STON/O2. 3101282                                    &  7.9250                                             &                                                     & S                                                  \\\\\n",
       "\t 4                                                   & 1                                                   & 1                                                   & Futrelle, Mrs. Jacques Heath (Lily May Peel)        & female                                              & 35                                                  & 1                                                   & 0                                                   & 113803                                              & 53.1000                                             & C123                                                & S                                                  \\\\\n",
       "\t 5                                                   & 0                                                   & 3                                                   & Allen, Mr. William Henry                            & male                                                & 35                                                  & 0                                                   & 0                                                   & 373450                                              &  8.0500                                             &                                                     & S                                                  \\\\\n",
       "\t 6                                                   & 0                                                   & 3                                                   & Moran, Mr. James                                    & male                                                & NA                                                  & 0                                                   & 0                                                   & 330877                                              &  8.4583                                             &                                                     & Q                                                  \\\\\n",
       "\\end{tabular}\n"
      ],
      "text/markdown": [
       "\n",
       "| 癤풮assengerId | Survived | Pclass | Name | Sex | Age | SibSp | Parch | Ticket | Fare | Cabin | Embarked |\n",
       "|---|---|---|---|---|---|---|---|---|---|---|---|\n",
       "| 1                                                   | 0                                                   | 3                                                   | Braund, Mr. Owen Harris                             | male                                                | 22                                                  | 1                                                   | 0                                                   | A/5 21171                                           |  7.2500                                             |                                                     | S                                                   |\n",
       "| 2                                                   | 1                                                   | 1                                                   | Cumings, Mrs. John Bradley (Florence Briggs Thayer) | female                                              | 38                                                  | 1                                                   | 0                                                   | PC 17599                                            | 71.2833                                             | C85                                                 | C                                                   |\n",
       "| 3                                                   | 1                                                   | 3                                                   | Heikkinen, Miss. Laina                              | female                                              | 26                                                  | 0                                                   | 0                                                   | STON/O2. 3101282                                    |  7.9250                                             |                                                     | S                                                   |\n",
       "| 4                                                   | 1                                                   | 1                                                   | Futrelle, Mrs. Jacques Heath (Lily May Peel)        | female                                              | 35                                                  | 1                                                   | 0                                                   | 113803                                              | 53.1000                                             | C123                                                | S                                                   |\n",
       "| 5                                                   | 0                                                   | 3                                                   | Allen, Mr. William Henry                            | male                                                | 35                                                  | 0                                                   | 0                                                   | 373450                                              |  8.0500                                             |                                                     | S                                                   |\n",
       "| 6                                                   | 0                                                   | 3                                                   | Moran, Mr. James                                    | male                                                | NA                                                  | 0                                                   | 0                                                   | 330877                                              |  8.4583                                             |                                                     | Q                                                   |\n",
       "\n"
      ],
      "text/plain": [
       "  癤풮assengerId Survived Pclass\n",
       "1 1              0        3     \n",
       "2 2              1        1     \n",
       "3 3              1        3     \n",
       "4 4              1        1     \n",
       "5 5              0        3     \n",
       "6 6              0        3     \n",
       "  Name                                                Sex    Age SibSp Parch\n",
       "1 Braund, Mr. Owen Harris                             male   22  1     0    \n",
       "2 Cumings, Mrs. John Bradley (Florence Briggs Thayer) female 38  1     0    \n",
       "3 Heikkinen, Miss. Laina                              female 26  0     0    \n",
       "4 Futrelle, Mrs. Jacques Heath (Lily May Peel)        female 35  1     0    \n",
       "5 Allen, Mr. William Henry                            male   35  0     0    \n",
       "6 Moran, Mr. James                                    male   NA  0     0    \n",
       "  Ticket           Fare    Cabin Embarked\n",
       "1 A/5 21171         7.2500       S       \n",
       "2 PC 17599         71.2833 C85   C       \n",
       "3 STON/O2. 3101282  7.9250       S       \n",
       "4 113803           53.1000 C123  S       \n",
       "5 373450            8.0500       S       \n",
       "6 330877            8.4583       Q       "
      ]
     },
     "metadata": {},
     "output_type": "display_data"
    }
   ],
   "source": [
    "train_df <- read.csv(\"../Data//Titanic_train.csv\")\n",
    "head(train_df)\n",
    "\n"
   ]
  },
  {
   "cell_type": "code",
   "execution_count": 2,
   "id": "ea28163a",
   "metadata": {},
   "outputs": [
    {
     "data": {
      "text/html": [
       "<table>\n",
       "<thead><tr><th></th><th scope=col>癤풮assengerId</th><th scope=col>Survived</th><th scope=col>Pclass</th><th scope=col>Name</th><th scope=col>Sex</th><th scope=col>Age</th><th scope=col>SibSp</th><th scope=col>Parch</th><th scope=col>Ticket</th><th scope=col>Fare</th><th scope=col>Cabin</th><th scope=col>Embarked</th></tr></thead>\n",
       "<tbody>\n",
       "\t<tr><th scope=row>886</th><td>886                                     </td><td>0                                       </td><td>3                                       </td><td>Rice, Mrs. William (Margaret Norton)    </td><td>female                                  </td><td>39                                      </td><td>0                                       </td><td>5                                       </td><td>382652                                  </td><td>29.125                                  </td><td>                                        </td><td>Q                                       </td></tr>\n",
       "\t<tr><th scope=row>887</th><td>887                                     </td><td>0                                       </td><td>2                                       </td><td>Montvila, Rev. Juozas                   </td><td>male                                    </td><td>27                                      </td><td>0                                       </td><td>0                                       </td><td>211536                                  </td><td>13.000                                  </td><td>                                        </td><td>S                                       </td></tr>\n",
       "\t<tr><th scope=row>888</th><td>888                                     </td><td>1                                       </td><td>1                                       </td><td>Graham, Miss. Margaret Edith            </td><td>female                                  </td><td>19                                      </td><td>0                                       </td><td>0                                       </td><td>112053                                  </td><td>30.000                                  </td><td>B42                                     </td><td>S                                       </td></tr>\n",
       "\t<tr><th scope=row>889</th><td>889                                     </td><td>0                                       </td><td>3                                       </td><td>Johnston, Miss. Catherine Helen \"Carrie\"</td><td>female                                  </td><td>NA                                      </td><td>1                                       </td><td>2                                       </td><td>W./C. 6607                              </td><td>23.450                                  </td><td>                                        </td><td>S                                       </td></tr>\n",
       "\t<tr><th scope=row>890</th><td>890                                     </td><td>1                                       </td><td>1                                       </td><td>Behr, Mr. Karl Howell                   </td><td>male                                    </td><td>26                                      </td><td>0                                       </td><td>0                                       </td><td>111369                                  </td><td>30.000                                  </td><td>C148                                    </td><td>C                                       </td></tr>\n",
       "\t<tr><th scope=row>891</th><td>891                                     </td><td>0                                       </td><td>3                                       </td><td>Dooley, Mr. Patrick                     </td><td>male                                    </td><td>32                                      </td><td>0                                       </td><td>0                                       </td><td>370376                                  </td><td> 7.750                                  </td><td>                                        </td><td>Q                                       </td></tr>\n",
       "</tbody>\n",
       "</table>\n"
      ],
      "text/latex": [
       "\\begin{tabular}{r|llllllllllll}\n",
       "  & 癤풮assengerId & Survived & Pclass & Name & Sex & Age & SibSp & Parch & Ticket & Fare & Cabin & Embarked\\\\\n",
       "\\hline\n",
       "\t886 & 886                                      & 0                                        & 3                                        & Rice, Mrs. William (Margaret Norton)     & female                                   & 39                                       & 0                                        & 5                                        & 382652                                   & 29.125                                   &                                          & Q                                       \\\\\n",
       "\t887 & 887                                      & 0                                        & 2                                        & Montvila, Rev. Juozas                    & male                                     & 27                                       & 0                                        & 0                                        & 211536                                   & 13.000                                   &                                          & S                                       \\\\\n",
       "\t888 & 888                                      & 1                                        & 1                                        & Graham, Miss. Margaret Edith             & female                                   & 19                                       & 0                                        & 0                                        & 112053                                   & 30.000                                   & B42                                      & S                                       \\\\\n",
       "\t889 & 889                                      & 0                                        & 3                                        & Johnston, Miss. Catherine Helen \"Carrie\" & female                                   & NA                                       & 1                                        & 2                                        & W./C. 6607                               & 23.450                                   &                                          & S                                       \\\\\n",
       "\t890 & 890                                      & 1                                        & 1                                        & Behr, Mr. Karl Howell                    & male                                     & 26                                       & 0                                        & 0                                        & 111369                                   & 30.000                                   & C148                                     & C                                       \\\\\n",
       "\t891 & 891                                      & 0                                        & 3                                        & Dooley, Mr. Patrick                      & male                                     & 32                                       & 0                                        & 0                                        & 370376                                   &  7.750                                   &                                          & Q                                       \\\\\n",
       "\\end{tabular}\n"
      ],
      "text/markdown": [
       "\n",
       "| <!--/--> | 癤풮assengerId | Survived | Pclass | Name | Sex | Age | SibSp | Parch | Ticket | Fare | Cabin | Embarked |\n",
       "|---|---|---|---|---|---|---|---|---|---|---|---|---|\n",
       "| 886 | 886                                      | 0                                        | 3                                        | Rice, Mrs. William (Margaret Norton)     | female                                   | 39                                       | 0                                        | 5                                        | 382652                                   | 29.125                                   |                                          | Q                                        |\n",
       "| 887 | 887                                      | 0                                        | 2                                        | Montvila, Rev. Juozas                    | male                                     | 27                                       | 0                                        | 0                                        | 211536                                   | 13.000                                   |                                          | S                                        |\n",
       "| 888 | 888                                      | 1                                        | 1                                        | Graham, Miss. Margaret Edith             | female                                   | 19                                       | 0                                        | 0                                        | 112053                                   | 30.000                                   | B42                                      | S                                        |\n",
       "| 889 | 889                                      | 0                                        | 3                                        | Johnston, Miss. Catherine Helen \"Carrie\" | female                                   | NA                                       | 1                                        | 2                                        | W./C. 6607                               | 23.450                                   |                                          | S                                        |\n",
       "| 890 | 890                                      | 1                                        | 1                                        | Behr, Mr. Karl Howell                    | male                                     | 26                                       | 0                                        | 0                                        | 111369                                   | 30.000                                   | C148                                     | C                                        |\n",
       "| 891 | 891                                      | 0                                        | 3                                        | Dooley, Mr. Patrick                      | male                                     | 32                                       | 0                                        | 0                                        | 370376                                   |  7.750                                   |                                          | Q                                        |\n",
       "\n"
      ],
      "text/plain": [
       "    癤풮assengerId Survived Pclass Name                                    \n",
       "886 886            0        3      Rice, Mrs. William (Margaret Norton)    \n",
       "887 887            0        2      Montvila, Rev. Juozas                   \n",
       "888 888            1        1      Graham, Miss. Margaret Edith            \n",
       "889 889            0        3      Johnston, Miss. Catherine Helen \"Carrie\"\n",
       "890 890            1        1      Behr, Mr. Karl Howell                   \n",
       "891 891            0        3      Dooley, Mr. Patrick                     \n",
       "    Sex    Age SibSp Parch Ticket     Fare   Cabin Embarked\n",
       "886 female 39  0     5     382652     29.125       Q       \n",
       "887 male   27  0     0     211536     13.000       S       \n",
       "888 female 19  0     0     112053     30.000 B42   S       \n",
       "889 female NA  1     2     W./C. 6607 23.450       S       \n",
       "890 male   26  0     0     111369     30.000 C148  C       \n",
       "891 male   32  0     0     370376      7.750       Q       "
      ]
     },
     "metadata": {},
     "output_type": "display_data"
    }
   ],
   "source": [
    "tail(train_df)"
   ]
  },
  {
   "cell_type": "code",
   "execution_count": 3,
   "id": "70a6d281",
   "metadata": {},
   "outputs": [
    {
     "name": "stdout",
     "output_type": "stream",
     "text": [
      "'data.frame':\t891 obs. of  12 variables:\n",
      " $ 癤풮assengerId: int  1 2 3 4 5 6 7 8 9 10 ...\n",
      " $ Survived      : int  0 1 1 1 0 0 0 0 1 1 ...\n",
      " $ Pclass        : int  3 1 3 1 3 3 1 3 3 2 ...\n",
      " $ Name          : Factor w/ 891 levels \"Abbing, Mr. Anthony\",..: 109 191 358 277 16 559 520 629 417 581 ...\n",
      " $ Sex           : Factor w/ 2 levels \"female\",\"male\": 2 1 1 1 2 2 2 2 1 1 ...\n",
      " $ Age           : num  22 38 26 35 35 NA 54 2 27 14 ...\n",
      " $ SibSp         : int  1 1 0 1 0 0 0 3 0 1 ...\n",
      " $ Parch         : int  0 0 0 0 0 0 0 1 2 0 ...\n",
      " $ Ticket        : Factor w/ 681 levels \"110152\",\"110413\",..: 524 597 670 50 473 276 86 396 345 133 ...\n",
      " $ Fare          : num  7.25 71.28 7.92 53.1 8.05 ...\n",
      " $ Cabin         : Factor w/ 148 levels \"\",\"A10\",\"A14\",..: 1 83 1 57 1 1 131 1 1 1 ...\n",
      " $ Embarked      : Factor w/ 4 levels \"\",\"C\",\"Q\",\"S\": 4 2 4 4 4 3 4 4 4 2 ...\n"
     ]
    }
   ],
   "source": [
    "str(train_df)"
   ]
  },
  {
   "cell_type": "markdown",
   "id": "068c4a52",
   "metadata": {},
   "source": [
    "### 컬럼 내용 확인\n",
    "- Survived : 생존여부, 0=사망, 1=생존\n",
    "- Pclass : 티켓등급, 1=1등급, 2=2등급, 3=3등급\n",
    "- Sibsp : 함께 탑승한 형제, 자매, 배우자의 수\n",
    "- Parch : 함께 탑승한 부모, 자식의 수\n",
    "- Fare : 운임 \n",
    "- Cabin : 객실번호\n",
    "- Embarked : 탑승항구, C=Chersbourg, Q=Queenstown, S=Southampton"
   ]
  },
  {
   "cell_type": "code",
   "execution_count": 4,
   "id": "4a03fc89",
   "metadata": {},
   "outputs": [
    {
     "data": {
      "text/html": [
       "177"
      ],
      "text/latex": [
       "177"
      ],
      "text/markdown": [
       "177"
      ],
      "text/plain": [
       "[1] 177"
      ]
     },
     "metadata": {},
     "output_type": "display_data"
    },
    {
     "data": {
      "text/html": [
       "<dl class=dl-horizontal>\n",
       "\t<dt>癤풮assengerId</dt>\n",
       "\t\t<dd>0</dd>\n",
       "\t<dt>Survived</dt>\n",
       "\t\t<dd>0</dd>\n",
       "\t<dt>Pclass</dt>\n",
       "\t\t<dd>0</dd>\n",
       "\t<dt>Name</dt>\n",
       "\t\t<dd>0</dd>\n",
       "\t<dt>Sex</dt>\n",
       "\t\t<dd>0</dd>\n",
       "\t<dt>Age</dt>\n",
       "\t\t<dd>177</dd>\n",
       "\t<dt>SibSp</dt>\n",
       "\t\t<dd>0</dd>\n",
       "\t<dt>Parch</dt>\n",
       "\t\t<dd>0</dd>\n",
       "\t<dt>Ticket</dt>\n",
       "\t\t<dd>0</dd>\n",
       "\t<dt>Fare</dt>\n",
       "\t\t<dd>0</dd>\n",
       "\t<dt>Cabin</dt>\n",
       "\t\t<dd>0</dd>\n",
       "\t<dt>Embarked</dt>\n",
       "\t\t<dd>0</dd>\n",
       "</dl>\n"
      ],
      "text/latex": [
       "\\begin{description*}\n",
       "\\item[癤풮assengerId] 0\n",
       "\\item[Survived] 0\n",
       "\\item[Pclass] 0\n",
       "\\item[Name] 0\n",
       "\\item[Sex] 0\n",
       "\\item[Age] 177\n",
       "\\item[SibSp] 0\n",
       "\\item[Parch] 0\n",
       "\\item[Ticket] 0\n",
       "\\item[Fare] 0\n",
       "\\item[Cabin] 0\n",
       "\\item[Embarked] 0\n",
       "\\end{description*}\n"
      ],
      "text/markdown": [
       "癤풮assengerId\n",
       ":   0Survived\n",
       ":   0Pclass\n",
       ":   0Name\n",
       ":   0Sex\n",
       ":   0Age\n",
       ":   177SibSp\n",
       ":   0Parch\n",
       ":   0Ticket\n",
       ":   0Fare\n",
       ":   0Cabin\n",
       ":   0Embarked\n",
       ":   0\n",
       "\n"
      ],
      "text/plain": [
       "癤풮assengerId       Survived         Pclass           Name            Sex \n",
       "             0              0              0              0              0 \n",
       "           Age          SibSp          Parch         Ticket           Fare \n",
       "           177              0              0              0              0 \n",
       "         Cabin       Embarked \n",
       "             0              0 "
      ]
     },
     "metadata": {},
     "output_type": "display_data"
    }
   ],
   "source": [
    "# 각 컬럼별 NA 확인\n",
    "sum(is.na(train_df))\n",
    "colSums(is.na(train_df)) # 컬럼별 합계"
   ]
  },
  {
   "cell_type": "code",
   "execution_count": 5,
   "id": "0af78a30",
   "metadata": {},
   "outputs": [
    {
     "data": {
      "text/html": [
       "0.198653198653199"
      ],
      "text/latex": [
       "0.198653198653199"
      ],
      "text/markdown": [
       "0.198653198653199"
      ],
      "text/plain": [
       "[1] 0.1986532"
      ]
     },
     "metadata": {},
     "output_type": "display_data"
    }
   ],
   "source": [
    "177/891 # na 30% 이하이므로 사용가치 있음"
   ]
  },
  {
   "cell_type": "code",
   "execution_count": 6,
   "id": "c61d040f",
   "metadata": {},
   "outputs": [
    {
     "data": {
      "text/html": [
       "<table>\n",
       "<thead><tr><th></th><th scope=col>癤풮assengerId</th><th scope=col>Survived</th><th scope=col>Pclass</th><th scope=col>Name</th><th scope=col>Sex</th><th scope=col>Age</th><th scope=col>SibSp</th><th scope=col>Parch</th><th scope=col>Ticket</th><th scope=col>Fare</th><th scope=col>Cabin</th><th scope=col>Embarked</th></tr></thead>\n",
       "<tbody>\n",
       "\t<tr><th scope=row>1</th><td>1                                                  </td><td>0                                                  </td><td>3                                                  </td><td>Braund, Mr. Owen Harris                            </td><td>male                                               </td><td>22                                                 </td><td>1                                                  </td><td>0                                                  </td><td>A/5 21171                                          </td><td> 7.2500                                            </td><td>                                                   </td><td>S                                                  </td></tr>\n",
       "\t<tr><th scope=row>2</th><td>2                                                  </td><td>1                                                  </td><td>1                                                  </td><td>Cumings, Mrs. John Bradley (Florence Briggs Thayer)</td><td>female                                             </td><td>38                                                 </td><td>1                                                  </td><td>0                                                  </td><td>PC 17599                                           </td><td>71.2833                                            </td><td>C85                                                </td><td>C                                                  </td></tr>\n",
       "\t<tr><th scope=row>3</th><td>3                                                  </td><td>1                                                  </td><td>3                                                  </td><td>Heikkinen, Miss. Laina                             </td><td>female                                             </td><td>26                                                 </td><td>0                                                  </td><td>0                                                  </td><td>STON/O2. 3101282                                   </td><td> 7.9250                                            </td><td>                                                   </td><td>S                                                  </td></tr>\n",
       "\t<tr><th scope=row>4</th><td>4                                                  </td><td>1                                                  </td><td>1                                                  </td><td>Futrelle, Mrs. Jacques Heath (Lily May Peel)       </td><td>female                                             </td><td>35                                                 </td><td>1                                                  </td><td>0                                                  </td><td>113803                                             </td><td>53.1000                                            </td><td>C123                                               </td><td>S                                                  </td></tr>\n",
       "\t<tr><th scope=row>5</th><td>5                                                  </td><td>0                                                  </td><td>3                                                  </td><td>Allen, Mr. William Henry                           </td><td>male                                               </td><td>35                                                 </td><td>0                                                  </td><td>0                                                  </td><td>373450                                             </td><td> 8.0500                                            </td><td>                                                   </td><td>S                                                  </td></tr>\n",
       "\t<tr><th scope=row>7</th><td>7                                                  </td><td>0                                                  </td><td>1                                                  </td><td>McCarthy, Mr. Timothy J                            </td><td>male                                               </td><td>54                                                 </td><td>0                                                  </td><td>0                                                  </td><td>17463                                              </td><td>51.8625                                            </td><td>E46                                                </td><td>S                                                  </td></tr>\n",
       "</tbody>\n",
       "</table>\n"
      ],
      "text/latex": [
       "\\begin{tabular}{r|llllllllllll}\n",
       "  & 癤풮assengerId & Survived & Pclass & Name & Sex & Age & SibSp & Parch & Ticket & Fare & Cabin & Embarked\\\\\n",
       "\\hline\n",
       "\t1 & 1                                                   & 0                                                   & 3                                                   & Braund, Mr. Owen Harris                             & male                                                & 22                                                  & 1                                                   & 0                                                   & A/5 21171                                           &  7.2500                                             &                                                     & S                                                  \\\\\n",
       "\t2 & 2                                                   & 1                                                   & 1                                                   & Cumings, Mrs. John Bradley (Florence Briggs Thayer) & female                                              & 38                                                  & 1                                                   & 0                                                   & PC 17599                                            & 71.2833                                             & C85                                                 & C                                                  \\\\\n",
       "\t3 & 3                                                   & 1                                                   & 3                                                   & Heikkinen, Miss. Laina                              & female                                              & 26                                                  & 0                                                   & 0                                                   & STON/O2. 3101282                                    &  7.9250                                             &                                                     & S                                                  \\\\\n",
       "\t4 & 4                                                   & 1                                                   & 1                                                   & Futrelle, Mrs. Jacques Heath (Lily May Peel)        & female                                              & 35                                                  & 1                                                   & 0                                                   & 113803                                              & 53.1000                                             & C123                                                & S                                                  \\\\\n",
       "\t5 & 5                                                   & 0                                                   & 3                                                   & Allen, Mr. William Henry                            & male                                                & 35                                                  & 0                                                   & 0                                                   & 373450                                              &  8.0500                                             &                                                     & S                                                  \\\\\n",
       "\t7 & 7                                                   & 0                                                   & 1                                                   & McCarthy, Mr. Timothy J                             & male                                                & 54                                                  & 0                                                   & 0                                                   & 17463                                               & 51.8625                                             & E46                                                 & S                                                  \\\\\n",
       "\\end{tabular}\n"
      ],
      "text/markdown": [
       "\n",
       "| <!--/--> | 癤풮assengerId | Survived | Pclass | Name | Sex | Age | SibSp | Parch | Ticket | Fare | Cabin | Embarked |\n",
       "|---|---|---|---|---|---|---|---|---|---|---|---|---|\n",
       "| 1 | 1                                                   | 0                                                   | 3                                                   | Braund, Mr. Owen Harris                             | male                                                | 22                                                  | 1                                                   | 0                                                   | A/5 21171                                           |  7.2500                                             |                                                     | S                                                   |\n",
       "| 2 | 2                                                   | 1                                                   | 1                                                   | Cumings, Mrs. John Bradley (Florence Briggs Thayer) | female                                              | 38                                                  | 1                                                   | 0                                                   | PC 17599                                            | 71.2833                                             | C85                                                 | C                                                   |\n",
       "| 3 | 3                                                   | 1                                                   | 3                                                   | Heikkinen, Miss. Laina                              | female                                              | 26                                                  | 0                                                   | 0                                                   | STON/O2. 3101282                                    |  7.9250                                             |                                                     | S                                                   |\n",
       "| 4 | 4                                                   | 1                                                   | 1                                                   | Futrelle, Mrs. Jacques Heath (Lily May Peel)        | female                                              | 35                                                  | 1                                                   | 0                                                   | 113803                                              | 53.1000                                             | C123                                                | S                                                   |\n",
       "| 5 | 5                                                   | 0                                                   | 3                                                   | Allen, Mr. William Henry                            | male                                                | 35                                                  | 0                                                   | 0                                                   | 373450                                              |  8.0500                                             |                                                     | S                                                   |\n",
       "| 7 | 7                                                   | 0                                                   | 1                                                   | McCarthy, Mr. Timothy J                             | male                                                | 54                                                  | 0                                                   | 0                                                   | 17463                                               | 51.8625                                             | E46                                                 | S                                                   |\n",
       "\n"
      ],
      "text/plain": [
       "  癤풮assengerId Survived Pclass\n",
       "1 1              0        3     \n",
       "2 2              1        1     \n",
       "3 3              1        3     \n",
       "4 4              1        1     \n",
       "5 5              0        3     \n",
       "7 7              0        1     \n",
       "  Name                                                Sex    Age SibSp Parch\n",
       "1 Braund, Mr. Owen Harris                             male   22  1     0    \n",
       "2 Cumings, Mrs. John Bradley (Florence Briggs Thayer) female 38  1     0    \n",
       "3 Heikkinen, Miss. Laina                              female 26  0     0    \n",
       "4 Futrelle, Mrs. Jacques Heath (Lily May Peel)        female 35  1     0    \n",
       "5 Allen, Mr. William Henry                            male   35  0     0    \n",
       "7 McCarthy, Mr. Timothy J                             male   54  0     0    \n",
       "  Ticket           Fare    Cabin Embarked\n",
       "1 A/5 21171         7.2500       S       \n",
       "2 PC 17599         71.2833 C85   C       \n",
       "3 STON/O2. 3101282  7.9250       S       \n",
       "4 113803           53.1000 C123  S       \n",
       "5 373450            8.0500       S       \n",
       "7 17463            51.8625 E46   S       "
      ]
     },
     "metadata": {},
     "output_type": "display_data"
    },
    {
     "data": {
      "text/html": [
       "714"
      ],
      "text/latex": [
       "714"
      ],
      "text/markdown": [
       "714"
      ],
      "text/plain": [
       "[1] 714"
      ]
     },
     "metadata": {},
     "output_type": "display_data"
    }
   ],
   "source": [
    "# train_df$Age가 NA인 것 빼고 데이터셋 만들기\n",
    "\n",
    "head(subset(train_df, Age != 'NA'))\n",
    "nrow(subset(train_df, Age != 'NA'))"
   ]
  },
  {
   "cell_type": "code",
   "execution_count": 7,
   "id": "71bfbdbe",
   "metadata": {
    "scrolled": true
   },
   "outputs": [
    {
     "name": "stderr",
     "output_type": "stream",
     "text": [
      "\n",
      "Attaching package: 'dplyr'\n",
      "\n",
      "The following objects are masked from 'package:stats':\n",
      "\n",
      "    filter, lag\n",
      "\n",
      "The following objects are masked from 'package:base':\n",
      "\n",
      "    intersect, setdiff, setequal, union\n",
      "\n"
     ]
    },
    {
     "data": {
      "text/plain": [
       "\n",
       "  0   1 \n",
       "549 342 "
      ]
     },
     "metadata": {},
     "output_type": "display_data"
    },
    {
     "name": "stdout",
     "output_type": "stream",
     "text": [
      "  癤풮assengerId Survived Pclass                           Name  Sex Age SibSp\n",
      "1              1        0      3        Braund, Mr. Owen Harris male  22     1\n",
      "2              5        0      3       Allen, Mr. William Henry male  35     0\n",
      "3              6        0      3               Moran, Mr. James male  NA     0\n",
      "4              7        0      1        McCarthy, Mr. Timothy J male  54     0\n",
      "5              8        0      3 Palsson, Master. Gosta Leonard male   2     3\n",
      "6             13        0      3 Saundercock, Mr. William Henry male  20     0\n",
      "  Parch    Ticket    Fare Cabin Embarked\n",
      "1     0 A/5 21171  7.2500              S\n",
      "2     0    373450  8.0500              S\n",
      "3     0    330877  8.4583              Q\n",
      "4     0     17463 51.8625   E46        S\n",
      "5     1    349909 21.0750              S\n",
      "6     0 A/5. 2151  8.0500              S\n"
     ]
    }
   ],
   "source": [
    "# Survived 기준으로 Dataset 정렬\n",
    "\n",
    "library(dplyr)\n",
    "\n",
    "table(train_df$Survived)\n",
    "\n",
    "train_df <- arrange(train_df, Survived)\n",
    "\n",
    "print(head(train_df))"
   ]
  },
  {
   "cell_type": "code",
   "execution_count": 8,
   "id": "1ee38ac3",
   "metadata": {},
   "outputs": [
    {
     "data": {
      "text/html": [
       "<table>\n",
       "<thead><tr><th></th><th scope=col>癤풮assengerId</th><th scope=col>Survived</th><th scope=col>Pclass</th><th scope=col>Name</th><th scope=col>Sex</th><th scope=col>Age</th><th scope=col>SibSp</th><th scope=col>Parch</th><th scope=col>Ticket</th><th scope=col>Fare</th><th scope=col>Cabin</th><th scope=col>Embarked</th></tr></thead>\n",
       "<tbody>\n",
       "\t<tr><th scope=row>886</th><td>875                                          </td><td>1                                            </td><td>2                                            </td><td>Abelson, Mrs. Samuel (Hannah Wizosky)        </td><td>female                                       </td><td>28                                           </td><td>1                                            </td><td>0                                            </td><td>P/PP 3381                                    </td><td>24.0000                                      </td><td>                                             </td><td>C                                            </td></tr>\n",
       "\t<tr><th scope=row>887</th><td>876                                          </td><td>1                                            </td><td>3                                            </td><td>Najib, Miss. Adele Kiamie \"Jane\"             </td><td>female                                       </td><td>15                                           </td><td>0                                            </td><td>0                                            </td><td>2667                                         </td><td> 7.2250                                      </td><td>                                             </td><td>C                                            </td></tr>\n",
       "\t<tr><th scope=row>888</th><td>880                                          </td><td>1                                            </td><td>1                                            </td><td>Potter, Mrs. Thomas Jr (Lily Alexenia Wilson)</td><td>female                                       </td><td>56                                           </td><td>0                                            </td><td>1                                            </td><td>11767                                        </td><td>83.1583                                      </td><td>C50                                          </td><td>C                                            </td></tr>\n",
       "\t<tr><th scope=row>889</th><td>881                                          </td><td>1                                            </td><td>2                                            </td><td>Shelley, Mrs. William (Imanita Parrish Hall) </td><td>female                                       </td><td>25                                           </td><td>0                                            </td><td>1                                            </td><td>230433                                       </td><td>26.0000                                      </td><td>                                             </td><td>S                                            </td></tr>\n",
       "\t<tr><th scope=row>890</th><td>888                                          </td><td>1                                            </td><td>1                                            </td><td>Graham, Miss. Margaret Edith                 </td><td>female                                       </td><td>19                                           </td><td>0                                            </td><td>0                                            </td><td>112053                                       </td><td>30.0000                                      </td><td>B42                                          </td><td>S                                            </td></tr>\n",
       "\t<tr><th scope=row>891</th><td>890                                          </td><td>1                                            </td><td>1                                            </td><td>Behr, Mr. Karl Howell                        </td><td>male                                         </td><td>26                                           </td><td>0                                            </td><td>0                                            </td><td>111369                                       </td><td>30.0000                                      </td><td>C148                                         </td><td>C                                            </td></tr>\n",
       "</tbody>\n",
       "</table>\n"
      ],
      "text/latex": [
       "\\begin{tabular}{r|llllllllllll}\n",
       "  & 癤풮assengerId & Survived & Pclass & Name & Sex & Age & SibSp & Parch & Ticket & Fare & Cabin & Embarked\\\\\n",
       "\\hline\n",
       "\t886 & 875                                           & 1                                             & 2                                             & Abelson, Mrs. Samuel (Hannah Wizosky)         & female                                        & 28                                            & 1                                             & 0                                             & P/PP 3381                                     & 24.0000                                       &                                               & C                                            \\\\\n",
       "\t887 & 876                                           & 1                                             & 3                                             & Najib, Miss. Adele Kiamie \"Jane\"              & female                                        & 15                                            & 0                                             & 0                                             & 2667                                          &  7.2250                                       &                                               & C                                            \\\\\n",
       "\t888 & 880                                           & 1                                             & 1                                             & Potter, Mrs. Thomas Jr (Lily Alexenia Wilson) & female                                        & 56                                            & 0                                             & 1                                             & 11767                                         & 83.1583                                       & C50                                           & C                                            \\\\\n",
       "\t889 & 881                                           & 1                                             & 2                                             & Shelley, Mrs. William (Imanita Parrish Hall)  & female                                        & 25                                            & 0                                             & 1                                             & 230433                                        & 26.0000                                       &                                               & S                                            \\\\\n",
       "\t890 & 888                                           & 1                                             & 1                                             & Graham, Miss. Margaret Edith                  & female                                        & 19                                            & 0                                             & 0                                             & 112053                                        & 30.0000                                       & B42                                           & S                                            \\\\\n",
       "\t891 & 890                                           & 1                                             & 1                                             & Behr, Mr. Karl Howell                         & male                                          & 26                                            & 0                                             & 0                                             & 111369                                        & 30.0000                                       & C148                                          & C                                            \\\\\n",
       "\\end{tabular}\n"
      ],
      "text/markdown": [
       "\n",
       "| <!--/--> | 癤풮assengerId | Survived | Pclass | Name | Sex | Age | SibSp | Parch | Ticket | Fare | Cabin | Embarked |\n",
       "|---|---|---|---|---|---|---|---|---|---|---|---|---|\n",
       "| 886 | 875                                           | 1                                             | 2                                             | Abelson, Mrs. Samuel (Hannah Wizosky)         | female                                        | 28                                            | 1                                             | 0                                             | P/PP 3381                                     | 24.0000                                       |                                               | C                                             |\n",
       "| 887 | 876                                           | 1                                             | 3                                             | Najib, Miss. Adele Kiamie \"Jane\"              | female                                        | 15                                            | 0                                             | 0                                             | 2667                                          |  7.2250                                       |                                               | C                                             |\n",
       "| 888 | 880                                           | 1                                             | 1                                             | Potter, Mrs. Thomas Jr (Lily Alexenia Wilson) | female                                        | 56                                            | 0                                             | 1                                             | 11767                                         | 83.1583                                       | C50                                           | C                                             |\n",
       "| 889 | 881                                           | 1                                             | 2                                             | Shelley, Mrs. William (Imanita Parrish Hall)  | female                                        | 25                                            | 0                                             | 1                                             | 230433                                        | 26.0000                                       |                                               | S                                             |\n",
       "| 890 | 888                                           | 1                                             | 1                                             | Graham, Miss. Margaret Edith                  | female                                        | 19                                            | 0                                             | 0                                             | 112053                                        | 30.0000                                       | B42                                           | S                                             |\n",
       "| 891 | 890                                           | 1                                             | 1                                             | Behr, Mr. Karl Howell                         | male                                          | 26                                            | 0                                             | 0                                             | 111369                                        | 30.0000                                       | C148                                          | C                                             |\n",
       "\n"
      ],
      "text/plain": [
       "    癤풮assengerId Survived Pclass\n",
       "886 875            1        2     \n",
       "887 876            1        3     \n",
       "888 880            1        1     \n",
       "889 881            1        2     \n",
       "890 888            1        1     \n",
       "891 890            1        1     \n",
       "    Name                                          Sex    Age SibSp Parch\n",
       "886 Abelson, Mrs. Samuel (Hannah Wizosky)         female 28  1     0    \n",
       "887 Najib, Miss. Adele Kiamie \"Jane\"              female 15  0     0    \n",
       "888 Potter, Mrs. Thomas Jr (Lily Alexenia Wilson) female 56  0     1    \n",
       "889 Shelley, Mrs. William (Imanita Parrish Hall)  female 25  0     1    \n",
       "890 Graham, Miss. Margaret Edith                  female 19  0     0    \n",
       "891 Behr, Mr. Karl Howell                         male   26  0     0    \n",
       "    Ticket    Fare    Cabin Embarked\n",
       "886 P/PP 3381 24.0000       C       \n",
       "887 2667       7.2250       C       \n",
       "888 11767     83.1583 C50   C       \n",
       "889 230433    26.0000       S       \n",
       "890 112053    30.0000 B42   S       \n",
       "891 111369    30.0000 C148  C       "
      ]
     },
     "metadata": {},
     "output_type": "display_data"
    }
   ],
   "source": [
    "tail(train_df)"
   ]
  },
  {
   "cell_type": "code",
   "execution_count": 9,
   "id": "1667b63e",
   "metadata": {},
   "outputs": [
    {
     "data": {
      "text/html": [
       "<ol class=list-inline>\n",
       "\t<li>891</li>\n",
       "\t<li>12</li>\n",
       "</ol>\n"
      ],
      "text/latex": [
       "\\begin{enumerate*}\n",
       "\\item 891\n",
       "\\item 12\n",
       "\\end{enumerate*}\n"
      ],
      "text/markdown": [
       "1. 891\n",
       "2. 12\n",
       "\n",
       "\n"
      ],
      "text/plain": [
       "[1] 891  12"
      ]
     },
     "metadata": {},
     "output_type": "display_data"
    }
   ],
   "source": [
    "# 정렬된 크기 확인하기\n",
    "dim(train_df)"
   ]
  },
  {
   "cell_type": "markdown",
   "id": "31ebb490",
   "metadata": {},
   "source": [
    "---\n",
    "# Target Column : Survived 분석 및 확인"
   ]
  },
  {
   "cell_type": "code",
   "execution_count": 10,
   "id": "29d1f049",
   "metadata": {},
   "outputs": [
    {
     "data": {
      "text/plain": [
       "\n",
       "  0   1 \n",
       "549 342 "
      ]
     },
     "metadata": {},
     "output_type": "display_data"
    }
   ],
   "source": [
    "table(train_df$Survived)"
   ]
  },
  {
   "cell_type": "code",
   "execution_count": 11,
   "id": "7e480a08",
   "metadata": {},
   "outputs": [
    {
     "data": {
      "text/html": [
       "<table>\n",
       "<tbody>\n",
       "\t<tr><th scope=row>사망</th><td>61.62</td></tr>\n",
       "\t<tr><th scope=row>생존</th><td>38.38</td></tr>\n",
       "</tbody>\n",
       "</table>\n"
      ],
      "text/latex": [
       "\\begin{tabular}{r|l}\n",
       "\t사망 & 61.62\\\\\n",
       "\t생존 & 38.38\\\\\n",
       "\\end{tabular}\n"
      ],
      "text/markdown": [
       "\n",
       "| 사망 | 61.62 |\n",
       "| 생존 | 38.38 |\n",
       "\n"
      ],
      "text/plain": [
       "     [,1] \n",
       "사망 61.62\n",
       "생존 38.38"
      ]
     },
     "metadata": {},
     "output_type": "display_data"
    }
   ],
   "source": [
    "# Survived의 생존과 사망 Count 확인 및 비율 계산하기\n",
    "\n",
    "\n",
    "# 사망자수\n",
    "dCount <- nrow(subset(train_df, Survived == 0))\n",
    "# 생존자수\n",
    "sCount <- nrow(subset(train_df, Survived == 1))\n",
    "# 생존자수의 비율 \n",
    "s <- round(nrow(subset(train_df, Survived == 1)) / nrow(train_df)*100,2)\n",
    "# 사망자수의 비율\n",
    "d <- round(nrow(subset(train_df, Survived == 0)) / nrow(train_df)*100,2)\n",
    "surDie <- data.frame(사망=d, 생존=s)\n",
    "t(surDie)\n"
   ]
  },
  {
   "cell_type": "code",
   "execution_count": 12,
   "id": "84c79fca",
   "metadata": {},
   "outputs": [
    {
     "data": {
      "image/png": "[encoded data removed]",
      "text/plain": [
       "Plot with title \"타이타닉호 생존율\""
      ]
     },
     "metadata": {},
     "output_type": "display_data"
    }
   ],
   "source": [
    "library(plotrix)\n",
    "\n",
    "par(family = \"AppleGothic\")\n",
    "options(warn = -1)\n",
    "pie3D(\n",
    "   t(surDie),\n",
    "    main = \"타이타닉호 생존율\",\n",
    "    labels = paste(colnames(surDie), \"\\n\" ,surDie, \"%\"),\n",
    "    explod = 0.05\n",
    ")"
   ]
  },
  {
   "cell_type": "code",
   "execution_count": 13,
   "id": "60eba80c",
   "metadata": {},
   "outputs": [
    {
     "data": {
      "text/html": [
       "<table>\n",
       "<thead><tr><th scope=col>사망</th><th scope=col>생존</th></tr></thead>\n",
       "<tbody>\n",
       "\t<tr><td>549</td><td>342</td></tr>\n",
       "</tbody>\n",
       "</table>\n"
      ],
      "text/latex": [
       "\\begin{tabular}{r|ll}\n",
       " 사망 & 생존\\\\\n",
       "\\hline\n",
       "\t 549 & 342\\\\\n",
       "\\end{tabular}\n"
      ],
      "text/markdown": [
       "\n",
       "| 사망 | 생존 |\n",
       "|---|---|\n",
       "| 549 | 342 |\n",
       "\n"
      ],
      "text/plain": [
       "  사망 생존\n",
       "1 549  342 "
      ]
     },
     "metadata": {},
     "output_type": "display_data"
    }
   ],
   "source": [
    "sdCount <- data.frame(사망=dCount, 생존=sCount)\n",
    "sdCount"
   ]
  },
  {
   "cell_type": "code",
   "execution_count": 14,
   "id": "e6625345",
   "metadata": {},
   "outputs": [
    {
     "data": {
      "image/png": "[encoded data removed]",
      "text/plain": [
       "Plot with title \"타이타닉호 생존수와 사망수\""
      ]
     },
     "metadata": {},
     "output_type": "display_data"
    }
   ],
   "source": [
    "par(family = \"AppleGothic\")\n",
    "options(warn = -1)\n",
    "\n",
    "barplot(\n",
    "    t(sdCount),\n",
    "    main = \"타이타닉호 생존수와 사망수\",\n",
    "    beside = T,\n",
    "    ylim = c(0, 600),\n",
    "    col = c('red', 'blue'),\n",
    "    space = 0.2,\n",
    "    ylab = '인원수',\n",
    "    names = colnames(sdCount)\n",
    "    \n",
    ")"
   ]
  },
  {
   "cell_type": "markdown",
   "id": "cf98eae8",
   "metadata": {},
   "source": [
    "> Target Column으로 Survived를 선정"
   ]
  },
  {
   "cell_type": "markdown",
   "id": "ef28dd09",
   "metadata": {},
   "source": [
    "---\n",
    "# Feature column 찾기"
   ]
  },
  {
   "cell_type": "code",
   "execution_count": 15,
   "id": "2df2c536",
   "metadata": {},
   "outputs": [
    {
     "data": {
      "text/html": [
       "<table>\n",
       "<thead><tr><th scope=col>癤풮assengerId</th><th scope=col>Survived</th><th scope=col>Pclass</th><th scope=col>Name</th><th scope=col>Sex</th><th scope=col>Age</th><th scope=col>SibSp</th><th scope=col>Parch</th><th scope=col>Ticket</th><th scope=col>Fare</th><th scope=col>Cabin</th><th scope=col>Embarked</th></tr></thead>\n",
       "<tbody>\n",
       "\t<tr><td> 1                            </td><td>0                             </td><td>3                             </td><td>Braund, Mr. Owen Harris       </td><td>male                          </td><td>22                            </td><td>1                             </td><td>0                             </td><td>A/5 21171                     </td><td> 7.2500                       </td><td>                              </td><td>S                             </td></tr>\n",
       "\t<tr><td> 5                            </td><td>0                             </td><td>3                             </td><td>Allen, Mr. William Henry      </td><td>male                          </td><td>35                            </td><td>0                             </td><td>0                             </td><td>373450                        </td><td> 8.0500                       </td><td>                              </td><td>S                             </td></tr>\n",
       "\t<tr><td> 6                            </td><td>0                             </td><td>3                             </td><td>Moran, Mr. James              </td><td>male                          </td><td>NA                            </td><td>0                             </td><td>0                             </td><td>330877                        </td><td> 8.4583                       </td><td>                              </td><td>Q                             </td></tr>\n",
       "\t<tr><td> 7                            </td><td>0                             </td><td>1                             </td><td>McCarthy, Mr. Timothy J       </td><td>male                          </td><td>54                            </td><td>0                             </td><td>0                             </td><td>17463                         </td><td>51.8625                       </td><td>E46                           </td><td>S                             </td></tr>\n",
       "\t<tr><td> 8                            </td><td>0                             </td><td>3                             </td><td>Palsson, Master. Gosta Leonard</td><td>male                          </td><td> 2                            </td><td>3                             </td><td>1                             </td><td>349909                        </td><td>21.0750                       </td><td>                              </td><td>S                             </td></tr>\n",
       "\t<tr><td>13                            </td><td>0                             </td><td>3                             </td><td>Saundercock, Mr. William Henry</td><td>male                          </td><td>20                            </td><td>0                             </td><td>0                             </td><td>A/5. 2151                     </td><td> 8.0500                       </td><td>                              </td><td>S                             </td></tr>\n",
       "</tbody>\n",
       "</table>\n"
      ],
      "text/latex": [
       "\\begin{tabular}{r|llllllllllll}\n",
       " 癤풮assengerId & Survived & Pclass & Name & Sex & Age & SibSp & Parch & Ticket & Fare & Cabin & Embarked\\\\\n",
       "\\hline\n",
       "\t  1                             & 0                              & 3                              & Braund, Mr. Owen Harris        & male                           & 22                             & 1                              & 0                              & A/5 21171                      &  7.2500                        &                                & S                             \\\\\n",
       "\t  5                             & 0                              & 3                              & Allen, Mr. William Henry       & male                           & 35                             & 0                              & 0                              & 373450                         &  8.0500                        &                                & S                             \\\\\n",
       "\t  6                             & 0                              & 3                              & Moran, Mr. James               & male                           & NA                             & 0                              & 0                              & 330877                         &  8.4583                        &                                & Q                             \\\\\n",
       "\t  7                             & 0                              & 1                              & McCarthy, Mr. Timothy J        & male                           & 54                             & 0                              & 0                              & 17463                          & 51.8625                        & E46                            & S                             \\\\\n",
       "\t  8                             & 0                              & 3                              & Palsson, Master. Gosta Leonard & male                           &  2                             & 3                              & 1                              & 349909                         & 21.0750                        &                                & S                             \\\\\n",
       "\t 13                             & 0                              & 3                              & Saundercock, Mr. William Henry & male                           & 20                             & 0                              & 0                              & A/5. 2151                      &  8.0500                        &                                & S                             \\\\\n",
       "\\end{tabular}\n"
      ],
      "text/markdown": [
       "\n",
       "| 癤풮assengerId | Survived | Pclass | Name | Sex | Age | SibSp | Parch | Ticket | Fare | Cabin | Embarked |\n",
       "|---|---|---|---|---|---|---|---|---|---|---|---|\n",
       "|  1                             | 0                              | 3                              | Braund, Mr. Owen Harris        | male                           | 22                             | 1                              | 0                              | A/5 21171                      |  7.2500                        |                                | S                              |\n",
       "|  5                             | 0                              | 3                              | Allen, Mr. William Henry       | male                           | 35                             | 0                              | 0                              | 373450                         |  8.0500                        |                                | S                              |\n",
       "|  6                             | 0                              | 3                              | Moran, Mr. James               | male                           | NA                             | 0                              | 0                              | 330877                         |  8.4583                        |                                | Q                              |\n",
       "|  7                             | 0                              | 1                              | McCarthy, Mr. Timothy J        | male                           | 54                             | 0                              | 0                              | 17463                          | 51.8625                        | E46                            | S                              |\n",
       "|  8                             | 0                              | 3                              | Palsson, Master. Gosta Leonard | male                           |  2                             | 3                              | 1                              | 349909                         | 21.0750                        |                                | S                              |\n",
       "| 13                             | 0                              | 3                              | Saundercock, Mr. William Henry | male                           | 20                             | 0                              | 0                              | A/5. 2151                      |  8.0500                        |                                | S                              |\n",
       "\n"
      ],
      "text/plain": [
       "  癤풮assengerId Survived Pclass Name                           Sex  Age SibSp\n",
       "1  1             0        3      Braund, Mr. Owen Harris        male 22  1    \n",
       "2  5             0        3      Allen, Mr. William Henry       male 35  0    \n",
       "3  6             0        3      Moran, Mr. James               male NA  0    \n",
       "4  7             0        1      McCarthy, Mr. Timothy J        male 54  0    \n",
       "5  8             0        3      Palsson, Master. Gosta Leonard male  2  3    \n",
       "6 13             0        3      Saundercock, Mr. William Henry male 20  0    \n",
       "  Parch Ticket    Fare    Cabin Embarked\n",
       "1 0     A/5 21171  7.2500       S       \n",
       "2 0     373450     8.0500       S       \n",
       "3 0     330877     8.4583       Q       \n",
       "4 0     17463     51.8625 E46   S       \n",
       "5 1     349909    21.0750       S       \n",
       "6 0     A/5. 2151  8.0500       S       "
      ]
     },
     "metadata": {},
     "output_type": "display_data"
    }
   ],
   "source": [
    "head(train_df)"
   ]
  },
  {
   "cell_type": "markdown",
   "id": "b555a57e",
   "metadata": {},
   "source": [
    "# Sex컬럼 확인"
   ]
  },
  {
   "cell_type": "code",
   "execution_count": 16,
   "id": "7778cee3",
   "metadata": {},
   "outputs": [
    {
     "data": {
      "text/html": [
       "<ol class=list-inline>\n",
       "\t<li>male</li>\n",
       "\t<li>female</li>\n",
       "</ol>\n",
       "\n",
       "<details>\n",
       "\t<summary style=display:list-item;cursor:pointer>\n",
       "\t\t<strong>Levels</strong>:\n",
       "\t</summary>\n",
       "\t<ol class=list-inline>\n",
       "\t\t<li>'female'</li>\n",
       "\t\t<li>'male'</li>\n",
       "\t</ol>\n",
       "</details>"
      ],
      "text/latex": [
       "\\begin{enumerate*}\n",
       "\\item male\n",
       "\\item female\n",
       "\\end{enumerate*}\n",
       "\n",
       "\\emph{Levels}: \\begin{enumerate*}\n",
       "\\item 'female'\n",
       "\\item 'male'\n",
       "\\end{enumerate*}\n"
      ],
      "text/markdown": [
       "1. male\n",
       "2. female\n",
       "\n",
       "\n",
       "\n",
       "**Levels**: 1. 'female'\n",
       "2. 'male'\n",
       "\n",
       "\n"
      ],
      "text/plain": [
       "[1] male   female\n",
       "Levels: female male"
      ]
     },
     "metadata": {},
     "output_type": "display_data"
    }
   ],
   "source": [
    "# Sex컬럼 분류 확안\n",
    "unique(train_df$Sex)"
   ]
  },
  {
   "cell_type": "code",
   "execution_count": 17,
   "id": "59017a8c",
   "metadata": {},
   "outputs": [
    {
     "data": {
      "text/html": [
       "314"
      ],
      "text/latex": [
       "314"
      ],
      "text/markdown": [
       "314"
      ],
      "text/plain": [
       "[1] 314"
      ]
     },
     "metadata": {},
     "output_type": "display_data"
    },
    {
     "data": {
      "text/html": [
       "577"
      ],
      "text/latex": [
       "577"
      ],
      "text/markdown": [
       "577"
      ],
      "text/plain": [
       "[1] 577"
      ]
     },
     "metadata": {},
     "output_type": "display_data"
    }
   ],
   "source": [
    "# 여성과 남성의 인원 확인\n",
    "femaleCount <- nrow(subset(train_df, Sex == 'female'))\n",
    "maleCount <- nrow(subset(train_df, Sex == 'male'))\n",
    "\n",
    "femaleCount\n",
    "maleCount"
   ]
  },
  {
   "cell_type": "code",
   "execution_count": 18,
   "id": "2bfaf631",
   "metadata": {},
   "outputs": [
    {
     "data": {
      "text/html": [
       "233"
      ],
      "text/latex": [
       "233"
      ],
      "text/markdown": [
       "233"
      ],
      "text/plain": [
       "[1] 233"
      ]
     },
     "metadata": {},
     "output_type": "display_data"
    },
    {
     "data": {
      "text/html": [
       "81"
      ],
      "text/latex": [
       "81"
      ],
      "text/markdown": [
       "81"
      ],
      "text/plain": [
       "[1] 81"
      ]
     },
     "metadata": {},
     "output_type": "display_data"
    }
   ],
   "source": [
    "# 여성의 생존수와 사망수\n",
    "female <- subset(train_df, Sex == 'female')\n",
    "\n",
    "femaleDie <- nrow(subset(female, Survived == 0))\n",
    "femaleSur <- nrow(subset(female, Survived == 1))\n",
    "\n",
    "femaleSur\n",
    "femaleDie"
   ]
  },
  {
   "cell_type": "code",
   "execution_count": 19,
   "id": "ed90984b",
   "metadata": {},
   "outputs": [
    {
     "data": {
      "text/html": [
       "109"
      ],
      "text/latex": [
       "109"
      ],
      "text/markdown": [
       "109"
      ],
      "text/plain": [
       "[1] 109"
      ]
     },
     "metadata": {},
     "output_type": "display_data"
    },
    {
     "data": {
      "text/html": [
       "468"
      ],
      "text/latex": [
       "468"
      ],
      "text/markdown": [
       "468"
      ],
      "text/plain": [
       "[1] 468"
      ]
     },
     "metadata": {},
     "output_type": "display_data"
    }
   ],
   "source": [
    "# 남성의 생존수와 사망수\n",
    "male <- subset(train_df, Sex == 'male');\n",
    "\n",
    "maleDie <- nrow(subset(male, Survived == 0))\n",
    "maleSur <- nrow(subset(male, Survived == 1))\n",
    "\n",
    "maleSur\n",
    "maleDie"
   ]
  },
  {
   "cell_type": "code",
   "execution_count": 20,
   "id": "695d33b4",
   "metadata": {},
   "outputs": [
    {
     "name": "stdout",
     "output_type": "stream",
     "text": [
      "남성의 생존율 :  18.89 \n",
      "남성의 사망율 :  81.11"
     ]
    }
   ],
   "source": [
    "# 남성의 생존율과 사망율\n",
    "\n",
    "cat(\"남성의 생존율 : \", round(maleSur/nrow(male)*100,2), \"\\n\")\n",
    "cat(\"남성의 사망율 : \", round(maleDie/nrow(male)*100,2))"
   ]
  },
  {
   "cell_type": "code",
   "execution_count": 21,
   "id": "a08018a3",
   "metadata": {},
   "outputs": [
    {
     "name": "stdout",
     "output_type": "stream",
     "text": [
      "여성의 생존율 :  74.2 \n",
      "여성의 사망율 :  25.8"
     ]
    }
   ],
   "source": [
    "# 여성의 생존율과 사망율\n",
    "\n",
    "cat(\"여성의 생존율 : \", round(femaleSur/nrow(female)*100,2), \"\\n\")\n",
    "cat(\"여성의 사망율 : \", round(femaleDie/nrow(female)*100,2))"
   ]
  },
  {
   "cell_type": "markdown",
   "id": "0f3b8882",
   "metadata": {},
   "source": [
    "> Sex 컬럼은 Feature로 적합 <br>\n",
    "> [Survived] <- [sex]"
   ]
  },
  {
   "cell_type": "code",
   "execution_count": 22,
   "id": "3b1248f1",
   "metadata": {},
   "outputs": [
    {
     "data": {
      "text/html": [
       "<table>\n",
       "<thead><tr><th scope=col>사망</th><th scope=col>생존</th></tr></thead>\n",
       "<tbody>\n",
       "\t<tr><td>81.11</td><td>18.89</td></tr>\n",
       "</tbody>\n",
       "</table>\n"
      ],
      "text/latex": [
       "\\begin{tabular}{r|ll}\n",
       " 사망 & 생존\\\\\n",
       "\\hline\n",
       "\t 81.11 & 18.89\\\\\n",
       "\\end{tabular}\n"
      ],
      "text/markdown": [
       "\n",
       "| 사망 | 생존 |\n",
       "|---|---|\n",
       "| 81.11 | 18.89 |\n",
       "\n"
      ],
      "text/plain": [
       "  사망  생존 \n",
       "1 81.11 18.89"
      ]
     },
     "metadata": {},
     "output_type": "display_data"
    }
   ],
   "source": [
    "# 남성 생존율\n",
    "male <- data.frame(사망=round(maleDie/nrow(male)*100,2) , 생존=round(maleSur/nrow(male)*100,2)); male"
   ]
  },
  {
   "cell_type": "code",
   "execution_count": 23,
   "id": "5fd2f6f0",
   "metadata": {},
   "outputs": [
    {
     "data": {
      "image/png": "[encoded data removed]",
      "text/plain": [
       "Plot with title \"타이타닉호 남성 생존율\""
      ]
     },
     "metadata": {},
     "output_type": "display_data"
    }
   ],
   "source": [
    "par(family = \"AppleGothic\")\n",
    "\n",
    "pie3D(\n",
    "    t(male),\n",
    "    main = \"타이타닉호 남성 생존율\",\n",
    "    explode = 0.05,\n",
    "    labels = paste(colnames(male), \"\\n\", male)\n",
    ")"
   ]
  },
  {
   "cell_type": "code",
   "execution_count": 24,
   "id": "97ff29e9",
   "metadata": {},
   "outputs": [
    {
     "data": {
      "text/html": [
       "<table>\n",
       "<thead><tr><th scope=col>사망</th><th scope=col>생존</th></tr></thead>\n",
       "<tbody>\n",
       "\t<tr><td>25.8</td><td>74.2</td></tr>\n",
       "</tbody>\n",
       "</table>\n"
      ],
      "text/latex": [
       "\\begin{tabular}{r|ll}\n",
       " 사망 & 생존\\\\\n",
       "\\hline\n",
       "\t 25.8 & 74.2\\\\\n",
       "\\end{tabular}\n"
      ],
      "text/markdown": [
       "\n",
       "| 사망 | 생존 |\n",
       "|---|---|\n",
       "| 25.8 | 74.2 |\n",
       "\n"
      ],
      "text/plain": [
       "  사망 생존\n",
       "1 25.8 74.2"
      ]
     },
     "metadata": {},
     "output_type": "display_data"
    }
   ],
   "source": [
    "# 여성 생존율\n",
    "female <- data.frame(사망=round(femaleDie/nrow(female)*100,2) , 생존=round(femaleSur/nrow(female)*100,2)); female"
   ]
  },
  {
   "cell_type": "code",
   "execution_count": 25,
   "id": "159d2f3f",
   "metadata": {},
   "outputs": [
    {
     "data": {
      "image/png": "[encoded data removed]",
      "text/plain": [
       "Plot with title \"타이타닉호 여성 생존율\""
      ]
     },
     "metadata": {},
     "output_type": "display_data"
    }
   ],
   "source": [
    "par(family = \"AppleGothic\")\n",
    "\n",
    "pie3D(\n",
    "    t(female),\n",
    "    main = \"타이타닉호 여성 생존율\",\n",
    "    explode = 0.05,\n",
    "    labels = paste(colnames(female), \"\\n\", female)\n",
    ")"
   ]
  },
  {
   "cell_type": "code",
   "execution_count": 26,
   "id": "244f691d",
   "metadata": {},
   "outputs": [
    {
     "data": {
      "text/plain": [
       "\n",
       "female   male \n",
       "   314    577 "
      ]
     },
     "metadata": {},
     "output_type": "display_data"
    },
    {
     "data": {
      "image/png": "[encoded data removed]",
      "text/plain": [
       "Plot with title \"성별 승선 인원수\""
      ]
     },
     "metadata": {},
     "output_type": "display_data"
    }
   ],
   "source": [
    "# 성별 승선 인원수\n",
    "\n",
    "table(train_df$Sex)\n",
    "\n",
    "par(family = \"AppleGothic\")\n",
    "\n",
    "barplot(\n",
    "        table(train_df$Sex),\n",
    "        main = \"성별 승선 인원수\",\n",
    "        col = c('red', 'blue'),\n",
    "        ylim = c(0, 600),\n",
    "        names = c('여성', '남성')\n",
    "        \n",
    ")\n",
    "\n",
    "text(0.7, sum(train_df$Sex==\"female\")+15, sum(train_df$Sex==\"female\"))\n",
    "text(0.7+1.2, sum(train_df$Sex==\"male\")+15, sum(train_df$Sex==\"male\"))\n",
    "\n",
    "# 글자 쓰기 text(x축, y축, 내용, str = 기울기)\n"
   ]
  },
  {
   "cell_type": "code",
   "execution_count": 27,
   "id": "7efc4241",
   "metadata": {},
   "outputs": [
    {
     "data": {
      "image/png": "[encoded data removed]",
      "text/plain": [
       "Plot with title \"성별 승선 인원수\""
      ]
     },
     "metadata": {},
     "output_type": "display_data"
    }
   ],
   "source": [
    "par(family = \"AppleGothic\")\n",
    "par(mfrow = c(2,2))\n",
    "pie3D(\n",
    "    t(male),\n",
    "    main = \"타이타닉호 남성 생존율\",\n",
    "    explode = 0.05,\n",
    "    labels = paste(colnames(male), \"\\n\", male),\n",
    "    labelcex = 0.6\n",
    ")\n",
    "pie3D(\n",
    "    t(female),\n",
    "    main = \"타이타닉호 여성 생존율\",\n",
    "    explode = 0.05,\n",
    "    labels = paste(colnames(female), \"\\n\", female),\n",
    "    labelcex = 0.6\n",
    ")\n",
    "barplot(\n",
    "        table(train_df$Sex),\n",
    "        main = \"성별 승선 인원수\",\n",
    "        col = c('red', 'blue'),\n",
    "        ylim = c(0, 600),\n",
    "        labelcex = 0.6,\n",
    "        names = c('여성', '남성')\n",
    "        \n",
    ")\n"
   ]
  },
  {
   "cell_type": "code",
   "execution_count": 28,
   "id": "ae4caaed",
   "metadata": {},
   "outputs": [
    {
     "data": {
      "text/html": [
       "<table>\n",
       "<thead><tr><th scope=col>癤풮assengerId</th><th scope=col>Survived</th><th scope=col>Pclass</th><th scope=col>Name</th><th scope=col>Sex</th><th scope=col>Age</th><th scope=col>SibSp</th><th scope=col>Parch</th><th scope=col>Ticket</th><th scope=col>Fare</th><th scope=col>Cabin</th><th scope=col>Embarked</th></tr></thead>\n",
       "<tbody>\n",
       "\t<tr><td> 1                            </td><td>0                             </td><td>3                             </td><td>Braund, Mr. Owen Harris       </td><td>male                          </td><td>22                            </td><td>1                             </td><td>0                             </td><td>A/5 21171                     </td><td> 7.2500                       </td><td>                              </td><td>S                             </td></tr>\n",
       "\t<tr><td> 5                            </td><td>0                             </td><td>3                             </td><td>Allen, Mr. William Henry      </td><td>male                          </td><td>35                            </td><td>0                             </td><td>0                             </td><td>373450                        </td><td> 8.0500                       </td><td>                              </td><td>S                             </td></tr>\n",
       "\t<tr><td> 6                            </td><td>0                             </td><td>3                             </td><td>Moran, Mr. James              </td><td>male                          </td><td>NA                            </td><td>0                             </td><td>0                             </td><td>330877                        </td><td> 8.4583                       </td><td>                              </td><td>Q                             </td></tr>\n",
       "\t<tr><td> 7                            </td><td>0                             </td><td>1                             </td><td>McCarthy, Mr. Timothy J       </td><td>male                          </td><td>54                            </td><td>0                             </td><td>0                             </td><td>17463                         </td><td>51.8625                       </td><td>E46                           </td><td>S                             </td></tr>\n",
       "\t<tr><td> 8                            </td><td>0                             </td><td>3                             </td><td>Palsson, Master. Gosta Leonard</td><td>male                          </td><td> 2                            </td><td>3                             </td><td>1                             </td><td>349909                        </td><td>21.0750                       </td><td>                              </td><td>S                             </td></tr>\n",
       "\t<tr><td>13                            </td><td>0                             </td><td>3                             </td><td>Saundercock, Mr. William Henry</td><td>male                          </td><td>20                            </td><td>0                             </td><td>0                             </td><td>A/5. 2151                     </td><td> 8.0500                       </td><td>                              </td><td>S                             </td></tr>\n",
       "</tbody>\n",
       "</table>\n"
      ],
      "text/latex": [
       "\\begin{tabular}{r|llllllllllll}\n",
       " 癤풮assengerId & Survived & Pclass & Name & Sex & Age & SibSp & Parch & Ticket & Fare & Cabin & Embarked\\\\\n",
       "\\hline\n",
       "\t  1                             & 0                              & 3                              & Braund, Mr. Owen Harris        & male                           & 22                             & 1                              & 0                              & A/5 21171                      &  7.2500                        &                                & S                             \\\\\n",
       "\t  5                             & 0                              & 3                              & Allen, Mr. William Henry       & male                           & 35                             & 0                              & 0                              & 373450                         &  8.0500                        &                                & S                             \\\\\n",
       "\t  6                             & 0                              & 3                              & Moran, Mr. James               & male                           & NA                             & 0                              & 0                              & 330877                         &  8.4583                        &                                & Q                             \\\\\n",
       "\t  7                             & 0                              & 1                              & McCarthy, Mr. Timothy J        & male                           & 54                             & 0                              & 0                              & 17463                          & 51.8625                        & E46                            & S                             \\\\\n",
       "\t  8                             & 0                              & 3                              & Palsson, Master. Gosta Leonard & male                           &  2                             & 3                              & 1                              & 349909                         & 21.0750                        &                                & S                             \\\\\n",
       "\t 13                             & 0                              & 3                              & Saundercock, Mr. William Henry & male                           & 20                             & 0                              & 0                              & A/5. 2151                      &  8.0500                        &                                & S                             \\\\\n",
       "\\end{tabular}\n"
      ],
      "text/markdown": [
       "\n",
       "| 癤풮assengerId | Survived | Pclass | Name | Sex | Age | SibSp | Parch | Ticket | Fare | Cabin | Embarked |\n",
       "|---|---|---|---|---|---|---|---|---|---|---|---|\n",
       "|  1                             | 0                              | 3                              | Braund, Mr. Owen Harris        | male                           | 22                             | 1                              | 0                              | A/5 21171                      |  7.2500                        |                                | S                              |\n",
       "|  5                             | 0                              | 3                              | Allen, Mr. William Henry       | male                           | 35                             | 0                              | 0                              | 373450                         |  8.0500                        |                                | S                              |\n",
       "|  6                             | 0                              | 3                              | Moran, Mr. James               | male                           | NA                             | 0                              | 0                              | 330877                         |  8.4583                        |                                | Q                              |\n",
       "|  7                             | 0                              | 1                              | McCarthy, Mr. Timothy J        | male                           | 54                             | 0                              | 0                              | 17463                          | 51.8625                        | E46                            | S                              |\n",
       "|  8                             | 0                              | 3                              | Palsson, Master. Gosta Leonard | male                           |  2                             | 3                              | 1                              | 349909                         | 21.0750                        |                                | S                              |\n",
       "| 13                             | 0                              | 3                              | Saundercock, Mr. William Henry | male                           | 20                             | 0                              | 0                              | A/5. 2151                      |  8.0500                        |                                | S                              |\n",
       "\n"
      ],
      "text/plain": [
       "  癤풮assengerId Survived Pclass Name                           Sex  Age SibSp\n",
       "1  1             0        3      Braund, Mr. Owen Harris        male 22  1    \n",
       "2  5             0        3      Allen, Mr. William Henry       male 35  0    \n",
       "3  6             0        3      Moran, Mr. James               male NA  0    \n",
       "4  7             0        1      McCarthy, Mr. Timothy J        male 54  0    \n",
       "5  8             0        3      Palsson, Master. Gosta Leonard male  2  3    \n",
       "6 13             0        3      Saundercock, Mr. William Henry male 20  0    \n",
       "  Parch Ticket    Fare    Cabin Embarked\n",
       "1 0     A/5 21171  7.2500       S       \n",
       "2 0     373450     8.0500       S       \n",
       "3 0     330877     8.4583       Q       \n",
       "4 0     17463     51.8625 E46   S       \n",
       "5 1     349909    21.0750       S       \n",
       "6 0     A/5. 2151  8.0500       S       "
      ]
     },
     "metadata": {},
     "output_type": "display_data"
    }
   ],
   "source": [
    "head(train_df)"
   ]
  },
  {
   "cell_type": "markdown",
   "id": "8a2425d4",
   "metadata": {},
   "source": [
    "---\n",
    "### 티켓 등급 분석"
   ]
  },
  {
   "cell_type": "code",
   "execution_count": 29,
   "id": "aba060ce",
   "metadata": {},
   "outputs": [
    {
     "data": {
      "text/plain": [
       "\n",
       "  1   2   3 \n",
       "216 184 491 "
      ]
     },
     "metadata": {},
     "output_type": "display_data"
    }
   ],
   "source": [
    "table(train_df$Pclass)"
   ]
  },
  {
   "cell_type": "code",
   "execution_count": 30,
   "id": "e525996b",
   "metadata": {},
   "outputs": [
    {
     "name": "stdout",
     "output_type": "stream",
     "text": [
      "1등 객실의 여성 생존율은 91 / 94 , 96.81 %"
     ]
    }
   ],
   "source": [
    "# 1등 객실의 여성 생존율\n",
    "\n",
    "women <- nrow(subset(train_df, Pclass == 1 & Sex == \"female\"))\n",
    "wSur <- nrow(subset(train_df, Pclass == 1 & Sex == \"female\"& Survived == 1))\n",
    "\n",
    "cat(\"1등 객실의 여성 생존율은\", wSur, \"/\", women, \",\", round(wSur/women*100,2), \"%\")"
   ]
  },
  {
   "cell_type": "code",
   "execution_count": 31,
   "id": "821da550",
   "metadata": {},
   "outputs": [
    {
     "name": "stdout",
     "output_type": "stream",
     "text": [
      "1 등 객실의 여성 생존율은 91 / 94 , 96.81 % \n",
      "2 등 객실의 여성 생존율은 70 / 76 , 92.11 % \n",
      "3 등 객실의 여성 생존율은 72 / 144 , 50 % \n"
     ]
    }
   ],
   "source": [
    "# 1~3등 객실의 여성 생존율\n",
    "\n",
    "for(i in 1:3){\n",
    "    women <- nrow(subset(train_df, Pclass == i & Sex == \"female\"))\n",
    "    wSur <- nrow(subset(train_df, Pclass == i & Sex == \"female\"& Survived == 1))\n",
    "\n",
    "    cat(i, \"등 객실의 여성 생존율은\", wSur, \"/\", women, \",\", round(wSur/women*100,2), \"%\", \"\\n\")\n",
    "    \n",
    "}"
   ]
  },
  {
   "cell_type": "code",
   "execution_count": 32,
   "id": "05b6961d",
   "metadata": {},
   "outputs": [
    {
     "name": "stdout",
     "output_type": "stream",
     "text": [
      "1 등 객실의 여성 생존율은 91 / 94 , 96.81 % \n",
      "2 등 객실의 여성 생존율은 70 / 76 , 92.11 % \n",
      "3 등 객실의 여성 생존율은 72 / 144 , 50 % \n",
      "------------------------------------ \n",
      "1 등 객실의 남성 생존율은 45 / 122 , 36.89 % \n",
      "2 등 객실의 남성 생존율은 17 / 108 , 15.74 % \n",
      "3 등 객실의 남성 생존율은 47 / 347 , 13.54 % \n",
      "------------------------------------ \n"
     ]
    }
   ],
   "source": [
    "# 1~3등 객실의 여성,남성 생존율\n",
    "sex <- c('female', 'male')\n",
    "sex2 <- c('여성', '남성')\n",
    "\n",
    "surFemale <- rep(0,0,3)\n",
    "surMale <- rep(0,0,3)\n",
    "\n",
    "for(j in 1:length(sex)){\n",
    "    for(i in 1:3){\n",
    "        \n",
    "        maleFemale <- nrow(subset(train_df, Pclass == i & Sex == sex[j]))\n",
    "        survived <- nrow(subset(train_df, Pclass == i & Sex == sex[j]& Survived == 1))\n",
    "        perSur <- round(survived/maleFemale*100,2)\n",
    "        \n",
    "        cat(i, \"등 객실의\", sex2[j],\"생존율은\", survived, \"/\", maleFemale, \",\", perSur, \"%\", \"\\n\")\n",
    "        \n",
    "        ifelse(j == 1,\n",
    "               surFemale[i] <- surFemale[i] + perSur, surMale[i] <- surMale[i] + perSur)\n",
    "    }\n",
    "   cat(\"------------------------------------\", \"\\n\")\n",
    "}"
   ]
  },
  {
   "cell_type": "code",
   "execution_count": 33,
   "id": "672a10fe",
   "metadata": {},
   "outputs": [
    {
     "data": {
      "image/png": "[encoded data removed]",
      "text/plain": [
       "Plot with title \"객실 등급별 생존율\""
      ]
     },
     "metadata": {},
     "output_type": "display_data"
    }
   ],
   "source": [
    "# 남녀 생존률 합치기\n",
    "sur <- c(surFemale, surMale)\n",
    "\n",
    "\n",
    "\n",
    "par(family = \"AppleGothic\")\n",
    "\n",
    "barplot(\n",
    "    sur,\n",
    "    main = \"객실 등급별 생존율\",\n",
    "    ylim= c(0, 100),\n",
    "    xlab = \"객실 등급\",\n",
    "    ylab = \"생존율\",\n",
    "    border = c(rep('red',3),rep('blue',3)),\n",
    "    density = c(rep(10,3),rep(100,3))\n",
    ")\n",
    "\n",
    "for(i in 0:5){\n",
    "    text(i*1.2+0.7, sur[i+1]-5, paste(sur[i+1],\"%\"))\n",
    "}"
   ]
  },
  {
   "cell_type": "markdown",
   "id": "a4ac03a8",
   "metadata": {},
   "source": [
    "> [Survived] <- [Sex, Pclass]"
   ]
  },
  {
   "cell_type": "markdown",
   "id": "186abfa4",
   "metadata": {},
   "source": [
    "---\n",
    "### Embarked(항구의 위치)"
   ]
  },
  {
   "cell_type": "code",
   "execution_count": 34,
   "id": "494e885b",
   "metadata": {},
   "outputs": [
    {
     "name": "stdout",
     "output_type": "stream",
     "text": [
      "'data.frame':\t891 obs. of  12 variables:\n",
      " $ 癤풮assengerId: int  1 5 6 7 8 13 14 15 17 19 ...\n",
      " $ Survived      : int  0 0 0 0 0 0 0 0 0 0 ...\n",
      " $ Pclass        : int  3 3 3 1 3 3 3 3 3 3 ...\n",
      " $ Name          : Factor w/ 891 levels \"Abbing, Mr. Anthony\",..: 109 16 559 520 629 734 29 847 687 846 ...\n",
      " $ Sex           : Factor w/ 2 levels \"female\",\"male\": 2 2 2 2 2 2 2 1 2 1 ...\n",
      " $ Age           : num  22 35 NA 54 2 20 39 14 2 31 ...\n",
      " $ SibSp         : int  1 0 0 0 3 0 1 0 4 1 ...\n",
      " $ Parch         : int  0 0 0 0 1 0 5 0 1 0 ...\n",
      " $ Ticket        : Factor w/ 681 levels \"110152\",\"110413\",..: 524 473 276 86 396 536 334 414 481 302 ...\n",
      " $ Fare          : num  7.25 8.05 8.46 51.86 21.07 ...\n",
      " $ Cabin         : Factor w/ 148 levels \"\",\"A10\",\"A14\",..: 1 1 1 131 1 1 1 1 1 1 ...\n",
      " $ Embarked      : Factor w/ 4 levels \"\",\"C\",\"Q\",\"S\": 4 4 3 4 4 4 4 4 3 4 ...\n"
     ]
    }
   ],
   "source": [
    "str(train_df)"
   ]
  },
  {
   "cell_type": "code",
   "execution_count": 35,
   "id": "8d4d0f95",
   "metadata": {},
   "outputs": [
    {
     "data": {
      "text/plain": [
       "\n",
       "      C   Q   S \n",
       "  2 168  77 644 "
      ]
     },
     "metadata": {},
     "output_type": "display_data"
    }
   ],
   "source": [
    "table(train_df$Embarked)"
   ]
  },
  {
   "cell_type": "code",
   "execution_count": 36,
   "id": "3686bb93",
   "metadata": {},
   "outputs": [
    {
     "data": {
      "text/html": [
       "<ol class=list-inline>\n",
       "\t<li>S</li>\n",
       "\t<li>Q</li>\n",
       "\t<li>C</li>\n",
       "\t<li></li>\n",
       "</ol>\n",
       "\n",
       "<details>\n",
       "\t<summary style=display:list-item;cursor:pointer>\n",
       "\t\t<strong>Levels</strong>:\n",
       "\t</summary>\n",
       "\t<ol class=list-inline>\n",
       "\t\t<li>''</li>\n",
       "\t\t<li>'C'</li>\n",
       "\t\t<li>'Q'</li>\n",
       "\t\t<li>'S'</li>\n",
       "\t</ol>\n",
       "</details>"
      ],
      "text/latex": [
       "\\begin{enumerate*}\n",
       "\\item S\n",
       "\\item Q\n",
       "\\item C\n",
       "\\item \n",
       "\\end{enumerate*}\n",
       "\n",
       "\\emph{Levels}: \\begin{enumerate*}\n",
       "\\item ''\n",
       "\\item 'C'\n",
       "\\item 'Q'\n",
       "\\item 'S'\n",
       "\\end{enumerate*}\n"
      ],
      "text/markdown": [
       "1. S\n",
       "2. Q\n",
       "3. C\n",
       "4. \n",
       "\n",
       "\n",
       "\n",
       "**Levels**: 1. ''\n",
       "2. 'C'\n",
       "3. 'Q'\n",
       "4. 'S'\n",
       "\n",
       "\n"
      ],
      "text/plain": [
       "[1] S Q C  \n",
       "Levels:  C Q S"
      ]
     },
     "metadata": {},
     "output_type": "display_data"
    },
    {
     "data": {
      "text/html": [
       "<table>\n",
       "<thead><tr><th></th><th scope=col>癤풮assengerId</th><th scope=col>Survived</th><th scope=col>Pclass</th><th scope=col>Name</th><th scope=col>Sex</th><th scope=col>Age</th><th scope=col>SibSp</th><th scope=col>Parch</th><th scope=col>Ticket</th><th scope=col>Fare</th><th scope=col>Cabin</th><th scope=col>Embarked</th></tr></thead>\n",
       "<tbody>\n",
       "\t<tr><th scope=row>577</th><td> 62                                      </td><td>1                                        </td><td>1                                        </td><td>Icard, Miss. Amelie                      </td><td>female                                   </td><td>38                                       </td><td>0                                        </td><td>0                                        </td><td>113572                                   </td><td>80                                       </td><td>B28                                      </td><td>                                         </td></tr>\n",
       "\t<tr><th scope=row>868</th><td>830                                      </td><td>1                                        </td><td>1                                        </td><td>Stone, Mrs. George Nelson (Martha Evelyn)</td><td>female                                   </td><td>62                                       </td><td>0                                        </td><td>0                                        </td><td>113572                                   </td><td>80                                       </td><td>B28                                      </td><td>                                         </td></tr>\n",
       "</tbody>\n",
       "</table>\n"
      ],
      "text/latex": [
       "\\begin{tabular}{r|llllllllllll}\n",
       "  & 癤풮assengerId & Survived & Pclass & Name & Sex & Age & SibSp & Parch & Ticket & Fare & Cabin & Embarked\\\\\n",
       "\\hline\n",
       "\t577 &  62                                       & 1                                         & 1                                         & Icard, Miss. Amelie                       & female                                    & 38                                        & 0                                         & 0                                         & 113572                                    & 80                                        & B28                                       &                                          \\\\\n",
       "\t868 & 830                                       & 1                                         & 1                                         & Stone, Mrs. George Nelson (Martha Evelyn) & female                                    & 62                                        & 0                                         & 0                                         & 113572                                    & 80                                        & B28                                       &                                          \\\\\n",
       "\\end{tabular}\n"
      ],
      "text/markdown": [
       "\n",
       "| <!--/--> | 癤풮assengerId | Survived | Pclass | Name | Sex | Age | SibSp | Parch | Ticket | Fare | Cabin | Embarked |\n",
       "|---|---|---|---|---|---|---|---|---|---|---|---|---|\n",
       "| 577 |  62                                       | 1                                         | 1                                         | Icard, Miss. Amelie                       | female                                    | 38                                        | 0                                         | 0                                         | 113572                                    | 80                                        | B28                                       |                                           |\n",
       "| 868 | 830                                       | 1                                         | 1                                         | Stone, Mrs. George Nelson (Martha Evelyn) | female                                    | 62                                        | 0                                         | 0                                         | 113572                                    | 80                                        | B28                                       |                                           |\n",
       "\n"
      ],
      "text/plain": [
       "    癤풮assengerId Survived Pclass Name                                     \n",
       "577  62            1        1      Icard, Miss. Amelie                      \n",
       "868 830            1        1      Stone, Mrs. George Nelson (Martha Evelyn)\n",
       "    Sex    Age SibSp Parch Ticket Fare Cabin Embarked\n",
       "577 female 38  0     0     113572 80   B28           \n",
       "868 female 62  0     0     113572 80   B28           "
      ]
     },
     "metadata": {},
     "output_type": "display_data"
    }
   ],
   "source": [
    "# 빈 칸의 데이터 찾기\n",
    "unique(train_df$Embarked)\n",
    "\n",
    "subset(train_df, Embarked==\"\")"
   ]
  },
  {
   "cell_type": "code",
   "execution_count": 37,
   "id": "f36a8754",
   "metadata": {},
   "outputs": [
    {
     "data": {
      "text/html": [
       "<table>\n",
       "<thead><tr><th scope=col>癤풮assengerId</th><th scope=col>Survived</th><th scope=col>Pclass</th><th scope=col>Name</th><th scope=col>Sex</th><th scope=col>Age</th><th scope=col>SibSp</th><th scope=col>Parch</th><th scope=col>Ticket</th><th scope=col>Fare</th><th scope=col>Cabin</th><th scope=col>Embarked</th></tr></thead>\n",
       "<tbody>\n",
       "\t<tr><td>259                               </td><td>1                                 </td><td>1                                 </td><td>Ward, Miss. Anna                  </td><td>female                            </td><td>35                                </td><td>0                                 </td><td>0                                 </td><td>PC 17755                          </td><td>512.3292                          </td><td>                                  </td><td>C                                 </td></tr>\n",
       "\t<tr><td>680                               </td><td>1                                 </td><td>1                                 </td><td>Cardeza, Mr. Thomas Drake Martinez</td><td>male                              </td><td>36                                </td><td>0                                 </td><td>1                                 </td><td>PC 17755                          </td><td>512.3292                          </td><td>B51 B53 B55                       </td><td>C                                 </td></tr>\n",
       "\t<tr><td>738                               </td><td>1                                 </td><td>1                                 </td><td>Lesurer, Mr. Gustave J            </td><td>male                              </td><td>35                                </td><td>0                                 </td><td>0                                 </td><td>PC 17755                          </td><td>512.3292                          </td><td>B101                              </td><td>C                                 </td></tr>\n",
       "\t<tr><td> 28                               </td><td>0                                 </td><td>1                                 </td><td>Fortune, Mr. Charles Alexander    </td><td>male                              </td><td>19                                </td><td>3                                 </td><td>2                                 </td><td>19950                             </td><td>263.0000                          </td><td>C23 C25 C27                       </td><td>S                                 </td></tr>\n",
       "\t<tr><td>439                               </td><td>0                                 </td><td>1                                 </td><td>Fortune, Mr. Mark                 </td><td>male                              </td><td>64                                </td><td>1                                 </td><td>4                                 </td><td>19950                             </td><td>263.0000                          </td><td>C23 C25 C27                       </td><td>S                                 </td></tr>\n",
       "</tbody>\n",
       "</table>\n"
      ],
      "text/latex": [
       "\\begin{tabular}{r|llllllllllll}\n",
       " 癤풮assengerId & Survived & Pclass & Name & Sex & Age & SibSp & Parch & Ticket & Fare & Cabin & Embarked\\\\\n",
       "\\hline\n",
       "\t 259                                & 1                                  & 1                                  & Ward, Miss. Anna                   & female                             & 35                                 & 0                                  & 0                                  & PC 17755                           & 512.3292                           &                                    & C                                 \\\\\n",
       "\t 680                                & 1                                  & 1                                  & Cardeza, Mr. Thomas Drake Martinez & male                               & 36                                 & 0                                  & 1                                  & PC 17755                           & 512.3292                           & B51 B53 B55                        & C                                 \\\\\n",
       "\t 738                                & 1                                  & 1                                  & Lesurer, Mr. Gustave J             & male                               & 35                                 & 0                                  & 0                                  & PC 17755                           & 512.3292                           & B101                               & C                                 \\\\\n",
       "\t  28                                & 0                                  & 1                                  & Fortune, Mr. Charles Alexander     & male                               & 19                                 & 3                                  & 2                                  & 19950                              & 263.0000                           & C23 C25 C27                        & S                                 \\\\\n",
       "\t 439                                & 0                                  & 1                                  & Fortune, Mr. Mark                  & male                               & 64                                 & 1                                  & 4                                  & 19950                              & 263.0000                           & C23 C25 C27                        & S                                 \\\\\n",
       "\\end{tabular}\n"
      ],
      "text/markdown": [
       "\n",
       "| 癤풮assengerId | Survived | Pclass | Name | Sex | Age | SibSp | Parch | Ticket | Fare | Cabin | Embarked |\n",
       "|---|---|---|---|---|---|---|---|---|---|---|---|\n",
       "| 259                                | 1                                  | 1                                  | Ward, Miss. Anna                   | female                             | 35                                 | 0                                  | 0                                  | PC 17755                           | 512.3292                           |                                    | C                                  |\n",
       "| 680                                | 1                                  | 1                                  | Cardeza, Mr. Thomas Drake Martinez | male                               | 36                                 | 0                                  | 1                                  | PC 17755                           | 512.3292                           | B51 B53 B55                        | C                                  |\n",
       "| 738                                | 1                                  | 1                                  | Lesurer, Mr. Gustave J             | male                               | 35                                 | 0                                  | 0                                  | PC 17755                           | 512.3292                           | B101                               | C                                  |\n",
       "|  28                                | 0                                  | 1                                  | Fortune, Mr. Charles Alexander     | male                               | 19                                 | 3                                  | 2                                  | 19950                              | 263.0000                           | C23 C25 C27                        | S                                  |\n",
       "| 439                                | 0                                  | 1                                  | Fortune, Mr. Mark                  | male                               | 64                                 | 1                                  | 4                                  | 19950                              | 263.0000                           | C23 C25 C27                        | S                                  |\n",
       "\n"
      ],
      "text/plain": [
       "  癤풮assengerId Survived Pclass Name                               Sex    Age\n",
       "1 259            1        1      Ward, Miss. Anna                   female 35 \n",
       "2 680            1        1      Cardeza, Mr. Thomas Drake Martinez male   36 \n",
       "3 738            1        1      Lesurer, Mr. Gustave J             male   35 \n",
       "4  28            0        1      Fortune, Mr. Charles Alexander     male   19 \n",
       "5 439            0        1      Fortune, Mr. Mark                  male   64 \n",
       "  SibSp Parch Ticket   Fare     Cabin       Embarked\n",
       "1 0     0     PC 17755 512.3292             C       \n",
       "2 0     1     PC 17755 512.3292 B51 B53 B55 C       \n",
       "3 0     0     PC 17755 512.3292 B101        C       \n",
       "4 3     2     19950    263.0000 C23 C25 C27 S       \n",
       "5 1     4     19950    263.0000 C23 C25 C27 S       "
      ]
     },
     "metadata": {},
     "output_type": "display_data"
    }
   ],
   "source": [
    "# 제일 많은 운임을 지불한 사람\n",
    "\n",
    "head(arrange(train_df, desc(Fare)),5)"
   ]
  },
  {
   "cell_type": "code",
   "execution_count": 38,
   "id": "f24a6d03",
   "metadata": {},
   "outputs": [
    {
     "data": {
      "text/html": [
       "32.2042079685746"
      ],
      "text/latex": [
       "32.2042079685746"
      ],
      "text/markdown": [
       "32.2042079685746"
      ],
      "text/plain": [
       "[1] 32.20421"
      ]
     },
     "metadata": {},
     "output_type": "display_data"
    }
   ],
   "source": [
    "mean(train_df$Fare)"
   ]
  },
  {
   "cell_type": "code",
   "execution_count": 39,
   "id": "96758747",
   "metadata": {},
   "outputs": [
    {
     "data": {
      "text/html": [
       "644"
      ],
      "text/latex": [
       "644"
      ],
      "text/markdown": [
       "644"
      ],
      "text/plain": [
       "[1] 644"
      ]
     },
     "metadata": {},
     "output_type": "display_data"
    },
    {
     "data": {
      "text/html": [
       "168"
      ],
      "text/latex": [
       "168"
      ],
      "text/markdown": [
       "168"
      ],
      "text/plain": [
       "[1] 168"
      ]
     },
     "metadata": {},
     "output_type": "display_data"
    },
    {
     "data": {
      "text/html": [
       "77"
      ],
      "text/latex": [
       "77"
      ],
      "text/markdown": [
       "77"
      ],
      "text/plain": [
       "[1] 77"
      ]
     },
     "metadata": {},
     "output_type": "display_data"
    }
   ],
   "source": [
    "# 항구별 탑승인원을 구하여 가장 많은 탑승인원의 항구로 결정\n",
    "\n",
    "# S항구 탑승인원\n",
    "sum(train_df$Embarked == 'S')\n",
    "# C항구 탑승인원\n",
    "sum(train_df$Embarked == 'C')\n",
    "# Q항구 탑승인원\n",
    "sum(train_df$Embarked == 'Q')"
   ]
  },
  {
   "cell_type": "code",
   "execution_count": 40,
   "id": "fc8d3914",
   "metadata": {},
   "outputs": [],
   "source": [
    "# 연습을 위한 데이터셋 복제\n",
    "train_df_T <- train_df"
   ]
  },
  {
   "cell_type": "code",
   "execution_count": 41,
   "id": "0dd04796",
   "metadata": {},
   "outputs": [
    {
     "data": {
      "text/html": [
       "<table>\n",
       "<thead><tr><th></th><th scope=col>癤풮assengerId</th><th scope=col>Survived</th><th scope=col>Pclass</th><th scope=col>Name</th><th scope=col>Sex</th><th scope=col>Age</th><th scope=col>SibSp</th><th scope=col>Parch</th><th scope=col>Ticket</th><th scope=col>Fare</th><th scope=col>Cabin</th><th scope=col>Embarked</th></tr></thead>\n",
       "<tbody>\n",
       "\t<tr><th scope=row>577</th><td> 62                                      </td><td>1                                        </td><td>1                                        </td><td>Icard, Miss. Amelie                      </td><td>female                                   </td><td>38                                       </td><td>0                                        </td><td>0                                        </td><td>113572                                   </td><td>80                                       </td><td>B28                                      </td><td>                                         </td></tr>\n",
       "\t<tr><th scope=row>868</th><td>830                                      </td><td>1                                        </td><td>1                                        </td><td>Stone, Mrs. George Nelson (Martha Evelyn)</td><td>female                                   </td><td>62                                       </td><td>0                                        </td><td>0                                        </td><td>113572                                   </td><td>80                                       </td><td>B28                                      </td><td>                                         </td></tr>\n",
       "</tbody>\n",
       "</table>\n"
      ],
      "text/latex": [
       "\\begin{tabular}{r|llllllllllll}\n",
       "  & 癤풮assengerId & Survived & Pclass & Name & Sex & Age & SibSp & Parch & Ticket & Fare & Cabin & Embarked\\\\\n",
       "\\hline\n",
       "\t577 &  62                                       & 1                                         & 1                                         & Icard, Miss. Amelie                       & female                                    & 38                                        & 0                                         & 0                                         & 113572                                    & 80                                        & B28                                       &                                          \\\\\n",
       "\t868 & 830                                       & 1                                         & 1                                         & Stone, Mrs. George Nelson (Martha Evelyn) & female                                    & 62                                        & 0                                         & 0                                         & 113572                                    & 80                                        & B28                                       &                                          \\\\\n",
       "\\end{tabular}\n"
      ],
      "text/markdown": [
       "\n",
       "| <!--/--> | 癤풮assengerId | Survived | Pclass | Name | Sex | Age | SibSp | Parch | Ticket | Fare | Cabin | Embarked |\n",
       "|---|---|---|---|---|---|---|---|---|---|---|---|---|\n",
       "| 577 |  62                                       | 1                                         | 1                                         | Icard, Miss. Amelie                       | female                                    | 38                                        | 0                                         | 0                                         | 113572                                    | 80                                        | B28                                       |                                           |\n",
       "| 868 | 830                                       | 1                                         | 1                                         | Stone, Mrs. George Nelson (Martha Evelyn) | female                                    | 62                                        | 0                                         | 0                                         | 113572                                    | 80                                        | B28                                       |                                           |\n",
       "\n"
      ],
      "text/plain": [
       "    癤풮assengerId Survived Pclass Name                                     \n",
       "577  62            1        1      Icard, Miss. Amelie                      \n",
       "868 830            1        1      Stone, Mrs. George Nelson (Martha Evelyn)\n",
       "    Sex    Age SibSp Parch Ticket Fare Cabin Embarked\n",
       "577 female 38  0     0     113572 80   B28           \n",
       "868 female 62  0     0     113572 80   B28           "
      ]
     },
     "metadata": {},
     "output_type": "display_data"
    }
   ],
   "source": [
    "# 빈칸 항구 찾기 - 1\n",
    "subset(train_df, Embarked==\"\")"
   ]
  },
  {
   "cell_type": "code",
   "execution_count": 42,
   "id": "489668d0",
   "metadata": {},
   "outputs": [],
   "source": [
    "# 빈칸 항구를 S항구로 변경 -1\n",
    "\n",
    "train_df_T$Embarked <- ifelse(train_df_T$Embarked == \"\", 'S', train_df_T$Embarked)"
   ]
  },
  {
   "cell_type": "code",
   "execution_count": null,
   "id": "61780aea",
   "metadata": {},
   "outputs": [],
   "source": []
  },
  {
   "cell_type": "code",
   "execution_count": 43,
   "id": "4697faf4",
   "metadata": {},
   "outputs": [
    {
     "data": {
      "text/html": [
       "<table>\n",
       "<thead><tr><th scope=col>癤풮assengerId</th><th scope=col>Survived</th><th scope=col>Pclass</th><th scope=col>Name</th><th scope=col>Sex</th><th scope=col>Age</th><th scope=col>SibSp</th><th scope=col>Parch</th><th scope=col>Ticket</th><th scope=col>Fare</th><th scope=col>Cabin</th><th scope=col>Embarked</th></tr></thead>\n",
       "<tbody>\n",
       "</tbody>\n",
       "</table>\n"
      ],
      "text/latex": [
       "\\begin{tabular}{r|llllllllllll}\n",
       " 癤풮assengerId & Survived & Pclass & Name & Sex & Age & SibSp & Parch & Ticket & Fare & Cabin & Embarked\\\\\n",
       "\\hline\n",
       "\\end{tabular}\n"
      ],
      "text/markdown": [
       "\n",
       "| 癤풮assengerId | Survived | Pclass | Name | Sex | Age | SibSp | Parch | Ticket | Fare | Cabin | Embarked |\n",
       "|---|---|---|---|---|---|---|---|---|---|---|---|\n",
       "\n"
      ],
      "text/plain": [
       "     癤풮assengerId Survived Pclass Name Sex Age SibSp Parch Ticket Fare Cabin\n",
       "     Embarked"
      ]
     },
     "metadata": {},
     "output_type": "display_data"
    }
   ],
   "source": [
    "subset(train_df_T, Embarked==\"\")"
   ]
  },
  {
   "cell_type": "code",
   "execution_count": 44,
   "id": "674924b2",
   "metadata": {},
   "outputs": [],
   "source": [
    "# 빈칸 항구를 S항구로 변경 -2\n",
    "train_df_T <- train_df"
   ]
  },
  {
   "cell_type": "code",
   "execution_count": 45,
   "id": "f5d0ee76",
   "metadata": {},
   "outputs": [
    {
     "data": {
      "text/html": [
       "<table>\n",
       "<thead><tr><th></th><th scope=col>癤풮assengerId</th><th scope=col>Survived</th><th scope=col>Pclass</th><th scope=col>Name</th><th scope=col>Sex</th><th scope=col>Age</th><th scope=col>SibSp</th><th scope=col>Parch</th><th scope=col>Ticket</th><th scope=col>Fare</th><th scope=col>Cabin</th><th scope=col>Embarked</th></tr></thead>\n",
       "<tbody>\n",
       "\t<tr><th scope=row>577</th><td> 62                                      </td><td>1                                        </td><td>1                                        </td><td>Icard, Miss. Amelie                      </td><td>female                                   </td><td>38                                       </td><td>0                                        </td><td>0                                        </td><td>113572                                   </td><td>80                                       </td><td>B28                                      </td><td>                                         </td></tr>\n",
       "\t<tr><th scope=row>868</th><td>830                                      </td><td>1                                        </td><td>1                                        </td><td>Stone, Mrs. George Nelson (Martha Evelyn)</td><td>female                                   </td><td>62                                       </td><td>0                                        </td><td>0                                        </td><td>113572                                   </td><td>80                                       </td><td>B28                                      </td><td>                                         </td></tr>\n",
       "</tbody>\n",
       "</table>\n"
      ],
      "text/latex": [
       "\\begin{tabular}{r|llllllllllll}\n",
       "  & 癤풮assengerId & Survived & Pclass & Name & Sex & Age & SibSp & Parch & Ticket & Fare & Cabin & Embarked\\\\\n",
       "\\hline\n",
       "\t577 &  62                                       & 1                                         & 1                                         & Icard, Miss. Amelie                       & female                                    & 38                                        & 0                                         & 0                                         & 113572                                    & 80                                        & B28                                       &                                          \\\\\n",
       "\t868 & 830                                       & 1                                         & 1                                         & Stone, Mrs. George Nelson (Martha Evelyn) & female                                    & 62                                        & 0                                         & 0                                         & 113572                                    & 80                                        & B28                                       &                                          \\\\\n",
       "\\end{tabular}\n"
      ],
      "text/markdown": [
       "\n",
       "| <!--/--> | 癤풮assengerId | Survived | Pclass | Name | Sex | Age | SibSp | Parch | Ticket | Fare | Cabin | Embarked |\n",
       "|---|---|---|---|---|---|---|---|---|---|---|---|---|\n",
       "| 577 |  62                                       | 1                                         | 1                                         | Icard, Miss. Amelie                       | female                                    | 38                                        | 0                                         | 0                                         | 113572                                    | 80                                        | B28                                       |                                           |\n",
       "| 868 | 830                                       | 1                                         | 1                                         | Stone, Mrs. George Nelson (Martha Evelyn) | female                                    | 62                                        | 0                                         | 0                                         | 113572                                    | 80                                        | B28                                       |                                           |\n",
       "\n"
      ],
      "text/plain": [
       "    癤풮assengerId Survived Pclass Name                                     \n",
       "577  62            1        1      Icard, Miss. Amelie                      \n",
       "868 830            1        1      Stone, Mrs. George Nelson (Martha Evelyn)\n",
       "    Sex    Age SibSp Parch Ticket Fare Cabin Embarked\n",
       "577 female 38  0     0     113572 80   B28           \n",
       "868 female 62  0     0     113572 80   B28           "
      ]
     },
     "metadata": {},
     "output_type": "display_data"
    }
   ],
   "source": [
    "subset(train_df_T, Embarked==\"\")"
   ]
  },
  {
   "cell_type": "code",
   "execution_count": 46,
   "id": "17010176",
   "metadata": {},
   "outputs": [],
   "source": [
    "train_df_T[train_df_T$Embarked == \"\", ]$Embarked <- \"S\""
   ]
  },
  {
   "cell_type": "code",
   "execution_count": 47,
   "id": "5cad6639",
   "metadata": {},
   "outputs": [],
   "source": [
    "# 빈칸 항구를 S항구로 변경 -3\n",
    "train_df_T <- train_df"
   ]
  },
  {
   "cell_type": "code",
   "execution_count": 48,
   "id": "8244c2ee",
   "metadata": {},
   "outputs": [],
   "source": [
    "train_df_T$Embarked[train_df_T$Embarked == \"\"] <- \"S\""
   ]
  },
  {
   "cell_type": "markdown",
   "id": "d1ed9645",
   "metadata": {},
   "source": [
    "---"
   ]
  },
  {
   "cell_type": "code",
   "execution_count": 49,
   "id": "7f5f5c6a",
   "metadata": {},
   "outputs": [],
   "source": [
    "train_df$Embarked[train_df$Embarked == \"\"] <- \"S\""
   ]
  },
  {
   "cell_type": "code",
   "execution_count": 50,
   "id": "5e59f5e5",
   "metadata": {},
   "outputs": [
    {
     "data": {
      "text/html": [
       "646"
      ],
      "text/latex": [
       "646"
      ],
      "text/markdown": [
       "646"
      ],
      "text/plain": [
       "[1] 646"
      ]
     },
     "metadata": {},
     "output_type": "display_data"
    }
   ],
   "source": [
    "sum(train_df$Embarked == 'S')"
   ]
  },
  {
   "cell_type": "code",
   "execution_count": 51,
   "id": "364f375a",
   "metadata": {},
   "outputs": [
    {
     "name": "stdout",
     "output_type": "stream",
     "text": [
      "'data.frame':\t891 obs. of  12 variables:\n",
      " $ 癤풮assengerId: int  1 5 6 7 8 13 14 15 17 19 ...\n",
      " $ Survived      : int  0 0 0 0 0 0 0 0 0 0 ...\n",
      " $ Pclass        : int  3 3 3 1 3 3 3 3 3 3 ...\n",
      " $ Name          : Factor w/ 891 levels \"Abbing, Mr. Anthony\",..: 109 16 559 520 629 734 29 847 687 846 ...\n",
      " $ Sex           : Factor w/ 2 levels \"female\",\"male\": 2 2 2 2 2 2 2 1 2 1 ...\n",
      " $ Age           : num  22 35 NA 54 2 20 39 14 2 31 ...\n",
      " $ SibSp         : int  1 0 0 0 3 0 1 0 4 1 ...\n",
      " $ Parch         : int  0 0 0 0 1 0 5 0 1 0 ...\n",
      " $ Ticket        : Factor w/ 681 levels \"110152\",\"110413\",..: 524 473 276 86 396 536 334 414 481 302 ...\n",
      " $ Fare          : num  7.25 8.05 8.46 51.86 21.07 ...\n",
      " $ Cabin         : Factor w/ 148 levels \"\",\"A10\",\"A14\",..: 1 1 1 131 1 1 1 1 1 1 ...\n",
      " $ Embarked      : Factor w/ 3 levels \"C\",\"Q\",\"S\": 3 3 2 3 3 3 3 3 2 3 ...\n"
     ]
    }
   ],
   "source": [
    "train_df$Embarked <- factor(train_df$Embarked)\n",
    "str(train_df)"
   ]
  },
  {
   "cell_type": "code",
   "execution_count": 52,
   "id": "1e2deea6",
   "metadata": {},
   "outputs": [
    {
     "data": {
      "image/png": "[encoded data removed]",
      "text/plain": [
       "Plot with title \"항구별 승선 인원\""
      ]
     },
     "metadata": {},
     "output_type": "display_data"
    }
   ],
   "source": [
    "# 항구별 승선 인원\n",
    "\n",
    "par(family = \"AppleGothic\")\n",
    "\n",
    "barplot(\n",
    "        table(train_df$Embarked),\n",
    "        main = \"항구별 승선 인원\",\n",
    "        xlab = \"항구별\",\n",
    "        ylab = \"인원수\",\n",
    "        ylim = c(0, 700),\n",
    "        col = c('blue', 'red', 'yellow')\n",
    "    \n",
    ")\n",
    "\n"
   ]
  },
  {
   "cell_type": "code",
   "execution_count": 53,
   "id": "99d3c45b",
   "metadata": {},
   "outputs": [
    {
     "data": {
      "image/png": "[encoded data removed]",
      "text/plain": [
       "plot without title"
      ]
     },
     "metadata": {},
     "output_type": "display_data"
    }
   ],
   "source": [
    "# 항구별 성별 승선 인원\n",
    "\n",
    "par(family = \"AppleGothic\")\n",
    "\n",
    "barplot(\n",
    "    table(train_df$Sex, train_df$Embarked),\n",
    "    beside= T,\n",
    "    ylim = c(0, 500),\n",
    "    ylab = \"인원수\",\n",
    "    xlab = \"항구별/성별\",\n",
    "    col = c('red','blue')\n",
    "    \n",
    "    )\n",
    "\n",
    "legend(\n",
    "        1,450,\n",
    "        c('female', 'male'),\n",
    "        fill = c('red', 'blue')\n",
    "\n",
    ")"
   ]
  },
  {
   "cell_type": "markdown",
   "id": "fdb47b51",
   "metadata": {},
   "source": [
    "> s 값이 너무 많아서 s의 특징에 따라 다른 항구에도 영향을 미칠 수 있음 "
   ]
  },
  {
   "cell_type": "code",
   "execution_count": 54,
   "id": "06777837",
   "metadata": {},
   "outputs": [
    {
     "data": {
      "text/plain": [
       "   \n",
       "      C   Q   S\n",
       "  0  75  47 427\n",
       "  1  93  30 219"
      ]
     },
     "metadata": {},
     "output_type": "display_data"
    },
    {
     "data": {
      "image/png": "[encoded data removed]",
      "text/plain": [
       "Plot with title \"항구별 생존 인원\""
      ]
     },
     "metadata": {},
     "output_type": "display_data"
    }
   ],
   "source": [
    "# 항구별 승선 인원\n",
    "# 항구별 생존 인원\n",
    "\n",
    "table(train_df$Survived, train_df$Embarked)\n",
    "\n",
    "par(family = \"AppleGothic\")\n",
    "\n",
    "barplot(\n",
    "    table(train_df$Survived, train_df$Embarked),\n",
    "    beside= T,\n",
    "    main = '항구별 생존 인원',\n",
    "    ylim = c(0, 500),\n",
    "    ylab = \"인원수\",\n",
    "    xlab = \"항구별/생존여부\",\n",
    "    col = c('red','blue')\n",
    "    \n",
    "    )\n",
    "\n",
    "legend(\n",
    "        1,450,\n",
    "        c('death', 'survive'),\n",
    "        fill = c('red', 'blue')\n",
    "\n",
    ")"
   ]
  },
  {
   "cell_type": "code",
   "execution_count": 55,
   "id": "eb5f836a",
   "metadata": {},
   "outputs": [
    {
     "data": {
      "text/plain": [
       "   \n",
       "      C   Q   S\n",
       "  1  85   2 129\n",
       "  2  17   3 164\n",
       "  3  66  72 353"
      ]
     },
     "metadata": {},
     "output_type": "display_data"
    },
    {
     "data": {
      "image/png": "[encoded data removed]",
      "text/plain": [
       "plot without title"
      ]
     },
     "metadata": {},
     "output_type": "display_data"
    }
   ],
   "source": [
    "# 항구별 객실 등급별 인원\n",
    "\n",
    "table(train_df$Pclass, train_df$Embarked)\n",
    "\n",
    "par(family = \"AppleGothic\")\n",
    "\n",
    "barplot(\n",
    "    table(train_df$Pclass, train_df$Embarked),\n",
    "    beside = T,\n",
    "    ylim = c(0, 500),\n",
    "    ylab = \"인원수\",\n",
    "    xlab = \"항구별 / 객실 등급\",\n",
    "    col = c('red', 'blue', 'yellow'),\n",
    "    \n",
    ")\n",
    "\n",
    "legend(\n",
    "        1,450,\n",
    "        c(1:3),\n",
    "        fill = c('red', 'blue', 'yellow')\n",
    ")"
   ]
  },
  {
   "cell_type": "code",
   "execution_count": 56,
   "id": "9ef1d9c5",
   "metadata": {},
   "outputs": [
    {
     "data": {
      "image/png": "[encoded data removed]",
      "text/plain": [
       "Plot with title \"항구별 객실 등급별 인원\""
      ]
     },
     "metadata": {},
     "output_type": "display_data"
    }
   ],
   "source": [
    "par(family = \"AppleGothic\")\n",
    "par(mfrow = c(2,2))\n",
    "\n",
    "barplot(\n",
    "        table(train_df$Embarked),\n",
    "        main = \"항구별 승선 인원\",\n",
    "        xlab = \"항구별\",\n",
    "        ylab = \"인원수\",\n",
    "        ylim = c(0, 700),\n",
    "        col = c('blue', 'red', 'yellow')\n",
    "    \n",
    ")\n",
    "\n",
    "barplot(\n",
    "    table(train_df$Sex, train_df$Embarked),\n",
    "    main = \"항구별 성별 승선 인원\",\n",
    "    beside= T,\n",
    "    ylim = c(0, 500),\n",
    "    ylab = \"인원수\",\n",
    "    xlab = \"항구별/성별\",\n",
    "    col = c('red','blue')\n",
    "    \n",
    "    )\n",
    "legend(\n",
    "        1,450,\n",
    "        c('female', 'male'),\n",
    "        fill = c('red', 'blue')\n",
    "\n",
    ")\n",
    "\n",
    "barplot(\n",
    "    table(train_df$Survived, train_df$Embarked),\n",
    "    beside= T,\n",
    "    main = '항구별 생존 인원',\n",
    "    ylim = c(0, 500),\n",
    "    ylab = \"인원수\",\n",
    "    xlab = \"항구별/생존여부\",\n",
    "    col = c('red','blue')\n",
    "    \n",
    "    )\n",
    "legend(\n",
    "        1,450,\n",
    "        c('death', 'survive'),\n",
    "        fill = c('red', 'blue')\n",
    "\n",
    ")\n",
    "\n",
    "barplot(\n",
    "    table(train_df$Pclass, train_df$Embarked),\n",
    "    main = \"항구별 객실 등급별 인원\",\n",
    "    beside = T,\n",
    "    ylim = c(0, 500),\n",
    "    ylab = \"인원수\",\n",
    "    xlab = \"항구별 / 객실 등급\",\n",
    "    col = c('red', 'blue', 'yellow'),\n",
    "    \n",
    ")\n",
    "legend(\n",
    "        1,450,\n",
    "        c(1:3),\n",
    "        fill = c('red', 'blue', 'yellow')\n",
    ")"
   ]
  },
  {
   "cell_type": "markdown",
   "id": "d4497ee6",
   "metadata": {},
   "source": [
    "---\n",
    "# RandomForest로 예측모델 생성"
   ]
  },
  {
   "cell_type": "code",
   "execution_count": 57,
   "id": "2a3ee74a",
   "metadata": {},
   "outputs": [],
   "source": [
    "# 복사본\n",
    "train_df_T <- train_df"
   ]
  },
  {
   "cell_type": "code",
   "execution_count": 58,
   "id": "622d500e",
   "metadata": {},
   "outputs": [
    {
     "data": {
      "text/html": [
       "<table>\n",
       "<thead><tr><th scope=col>Survived</th><th scope=col>Sex</th><th scope=col>Pclass</th><th scope=col>Embarked</th></tr></thead>\n",
       "<tbody>\n",
       "\t<tr><td>0   </td><td>male</td><td>3   </td><td>S   </td></tr>\n",
       "\t<tr><td>0   </td><td>male</td><td>3   </td><td>S   </td></tr>\n",
       "\t<tr><td>0   </td><td>male</td><td>3   </td><td>Q   </td></tr>\n",
       "\t<tr><td>0   </td><td>male</td><td>1   </td><td>S   </td></tr>\n",
       "\t<tr><td>0   </td><td>male</td><td>3   </td><td>S   </td></tr>\n",
       "\t<tr><td>0   </td><td>male</td><td>3   </td><td>S   </td></tr>\n",
       "</tbody>\n",
       "</table>\n"
      ],
      "text/latex": [
       "\\begin{tabular}{r|llll}\n",
       " Survived & Sex & Pclass & Embarked\\\\\n",
       "\\hline\n",
       "\t 0    & male & 3    & S   \\\\\n",
       "\t 0    & male & 3    & S   \\\\\n",
       "\t 0    & male & 3    & Q   \\\\\n",
       "\t 0    & male & 1    & S   \\\\\n",
       "\t 0    & male & 3    & S   \\\\\n",
       "\t 0    & male & 3    & S   \\\\\n",
       "\\end{tabular}\n"
      ],
      "text/markdown": [
       "\n",
       "| Survived | Sex | Pclass | Embarked |\n",
       "|---|---|---|---|\n",
       "| 0    | male | 3    | S    |\n",
       "| 0    | male | 3    | S    |\n",
       "| 0    | male | 3    | Q    |\n",
       "| 0    | male | 1    | S    |\n",
       "| 0    | male | 3    | S    |\n",
       "| 0    | male | 3    | S    |\n",
       "\n"
      ],
      "text/plain": [
       "  Survived Sex  Pclass Embarked\n",
       "1 0        male 3      S       \n",
       "2 0        male 3      S       \n",
       "3 0        male 3      Q       \n",
       "4 0        male 1      S       \n",
       "5 0        male 3      S       \n",
       "6 0        male 3      S       "
      ]
     },
     "metadata": {},
     "output_type": "display_data"
    }
   ],
   "source": [
    "# 예측을 위한 컬럼 확인\n",
    "target_col <- c(\"Survived\", \"Sex\", \"Pclass\", \"Embarked\")\n",
    "head(train_df_T[,target_col])"
   ]
  },
  {
   "cell_type": "code",
   "execution_count": 59,
   "id": "6d4f1f64",
   "metadata": {},
   "outputs": [],
   "source": [
    "# Sex 컬럼을 숫자로 전환\n",
    "train_df_T$SexCode[train_df_T$Sex == \"male\"] <- 0\n",
    "train_df_T$SexCode[train_df_T$Sex == \"female\"] <- 1"
   ]
  },
  {
   "cell_type": "code",
   "execution_count": 60,
   "id": "7495c6e8",
   "metadata": {},
   "outputs": [
    {
     "data": {
      "text/html": [
       "<table>\n",
       "<thead><tr><th scope=col>癤풮assengerId</th><th scope=col>Survived</th><th scope=col>Pclass</th><th scope=col>Name</th><th scope=col>Sex</th><th scope=col>Age</th><th scope=col>SibSp</th><th scope=col>Parch</th><th scope=col>Ticket</th><th scope=col>Fare</th><th scope=col>Cabin</th><th scope=col>Embarked</th><th scope=col>SexCode</th></tr></thead>\n",
       "<tbody>\n",
       "\t<tr><td> 1                            </td><td>0                             </td><td>3                             </td><td>Braund, Mr. Owen Harris       </td><td>male                          </td><td>22                            </td><td>1                             </td><td>0                             </td><td>A/5 21171                     </td><td> 7.2500                       </td><td>                              </td><td>S                             </td><td>0                             </td></tr>\n",
       "\t<tr><td> 5                            </td><td>0                             </td><td>3                             </td><td>Allen, Mr. William Henry      </td><td>male                          </td><td>35                            </td><td>0                             </td><td>0                             </td><td>373450                        </td><td> 8.0500                       </td><td>                              </td><td>S                             </td><td>0                             </td></tr>\n",
       "\t<tr><td> 6                            </td><td>0                             </td><td>3                             </td><td>Moran, Mr. James              </td><td>male                          </td><td>NA                            </td><td>0                             </td><td>0                             </td><td>330877                        </td><td> 8.4583                       </td><td>                              </td><td>Q                             </td><td>0                             </td></tr>\n",
       "\t<tr><td> 7                            </td><td>0                             </td><td>1                             </td><td>McCarthy, Mr. Timothy J       </td><td>male                          </td><td>54                            </td><td>0                             </td><td>0                             </td><td>17463                         </td><td>51.8625                       </td><td>E46                           </td><td>S                             </td><td>0                             </td></tr>\n",
       "\t<tr><td> 8                            </td><td>0                             </td><td>3                             </td><td>Palsson, Master. Gosta Leonard</td><td>male                          </td><td> 2                            </td><td>3                             </td><td>1                             </td><td>349909                        </td><td>21.0750                       </td><td>                              </td><td>S                             </td><td>0                             </td></tr>\n",
       "\t<tr><td>13                            </td><td>0                             </td><td>3                             </td><td>Saundercock, Mr. William Henry</td><td>male                          </td><td>20                            </td><td>0                             </td><td>0                             </td><td>A/5. 2151                     </td><td> 8.0500                       </td><td>                              </td><td>S                             </td><td>0                             </td></tr>\n",
       "</tbody>\n",
       "</table>\n"
      ],
      "text/latex": [
       "\\begin{tabular}{r|lllllllllllll}\n",
       " 癤풮assengerId & Survived & Pclass & Name & Sex & Age & SibSp & Parch & Ticket & Fare & Cabin & Embarked & SexCode\\\\\n",
       "\\hline\n",
       "\t  1                             & 0                              & 3                              & Braund, Mr. Owen Harris        & male                           & 22                             & 1                              & 0                              & A/5 21171                      &  7.2500                        &                                & S                              & 0                             \\\\\n",
       "\t  5                             & 0                              & 3                              & Allen, Mr. William Henry       & male                           & 35                             & 0                              & 0                              & 373450                         &  8.0500                        &                                & S                              & 0                             \\\\\n",
       "\t  6                             & 0                              & 3                              & Moran, Mr. James               & male                           & NA                             & 0                              & 0                              & 330877                         &  8.4583                        &                                & Q                              & 0                             \\\\\n",
       "\t  7                             & 0                              & 1                              & McCarthy, Mr. Timothy J        & male                           & 54                             & 0                              & 0                              & 17463                          & 51.8625                        & E46                            & S                              & 0                             \\\\\n",
       "\t  8                             & 0                              & 3                              & Palsson, Master. Gosta Leonard & male                           &  2                             & 3                              & 1                              & 349909                         & 21.0750                        &                                & S                              & 0                             \\\\\n",
       "\t 13                             & 0                              & 3                              & Saundercock, Mr. William Henry & male                           & 20                             & 0                              & 0                              & A/5. 2151                      &  8.0500                        &                                & S                              & 0                             \\\\\n",
       "\\end{tabular}\n"
      ],
      "text/markdown": [
       "\n",
       "| 癤풮assengerId | Survived | Pclass | Name | Sex | Age | SibSp | Parch | Ticket | Fare | Cabin | Embarked | SexCode |\n",
       "|---|---|---|---|---|---|---|---|---|---|---|---|---|\n",
       "|  1                             | 0                              | 3                              | Braund, Mr. Owen Harris        | male                           | 22                             | 1                              | 0                              | A/5 21171                      |  7.2500                        |                                | S                              | 0                              |\n",
       "|  5                             | 0                              | 3                              | Allen, Mr. William Henry       | male                           | 35                             | 0                              | 0                              | 373450                         |  8.0500                        |                                | S                              | 0                              |\n",
       "|  6                             | 0                              | 3                              | Moran, Mr. James               | male                           | NA                             | 0                              | 0                              | 330877                         |  8.4583                        |                                | Q                              | 0                              |\n",
       "|  7                             | 0                              | 1                              | McCarthy, Mr. Timothy J        | male                           | 54                             | 0                              | 0                              | 17463                          | 51.8625                        | E46                            | S                              | 0                              |\n",
       "|  8                             | 0                              | 3                              | Palsson, Master. Gosta Leonard | male                           |  2                             | 3                              | 1                              | 349909                         | 21.0750                        |                                | S                              | 0                              |\n",
       "| 13                             | 0                              | 3                              | Saundercock, Mr. William Henry | male                           | 20                             | 0                              | 0                              | A/5. 2151                      |  8.0500                        |                                | S                              | 0                              |\n",
       "\n"
      ],
      "text/plain": [
       "  癤풮assengerId Survived Pclass Name                           Sex  Age SibSp\n",
       "1  1             0        3      Braund, Mr. Owen Harris        male 22  1    \n",
       "2  5             0        3      Allen, Mr. William Henry       male 35  0    \n",
       "3  6             0        3      Moran, Mr. James               male NA  0    \n",
       "4  7             0        1      McCarthy, Mr. Timothy J        male 54  0    \n",
       "5  8             0        3      Palsson, Master. Gosta Leonard male  2  3    \n",
       "6 13             0        3      Saundercock, Mr. William Henry male 20  0    \n",
       "  Parch Ticket    Fare    Cabin Embarked SexCode\n",
       "1 0     A/5 21171  7.2500       S        0      \n",
       "2 0     373450     8.0500       S        0      \n",
       "3 0     330877     8.4583       Q        0      \n",
       "4 0     17463     51.8625 E46   S        0      \n",
       "5 1     349909    21.0750       S        0      \n",
       "6 0     A/5. 2151  8.0500       S        0      "
      ]
     },
     "metadata": {},
     "output_type": "display_data"
    },
    {
     "data": {
      "text/html": [
       "<table>\n",
       "<thead><tr><th></th><th scope=col>癤풮assengerId</th><th scope=col>Survived</th><th scope=col>Pclass</th><th scope=col>Name</th><th scope=col>Sex</th><th scope=col>Age</th><th scope=col>SibSp</th><th scope=col>Parch</th><th scope=col>Ticket</th><th scope=col>Fare</th><th scope=col>Cabin</th><th scope=col>Embarked</th><th scope=col>SexCode</th></tr></thead>\n",
       "<tbody>\n",
       "\t<tr><th scope=row>886</th><td>875                                          </td><td>1                                            </td><td>2                                            </td><td>Abelson, Mrs. Samuel (Hannah Wizosky)        </td><td>female                                       </td><td>28                                           </td><td>1                                            </td><td>0                                            </td><td>P/PP 3381                                    </td><td>24.0000                                      </td><td>                                             </td><td>C                                            </td><td>1                                            </td></tr>\n",
       "\t<tr><th scope=row>887</th><td>876                                          </td><td>1                                            </td><td>3                                            </td><td>Najib, Miss. Adele Kiamie \"Jane\"             </td><td>female                                       </td><td>15                                           </td><td>0                                            </td><td>0                                            </td><td>2667                                         </td><td> 7.2250                                      </td><td>                                             </td><td>C                                            </td><td>1                                            </td></tr>\n",
       "\t<tr><th scope=row>888</th><td>880                                          </td><td>1                                            </td><td>1                                            </td><td>Potter, Mrs. Thomas Jr (Lily Alexenia Wilson)</td><td>female                                       </td><td>56                                           </td><td>0                                            </td><td>1                                            </td><td>11767                                        </td><td>83.1583                                      </td><td>C50                                          </td><td>C                                            </td><td>1                                            </td></tr>\n",
       "\t<tr><th scope=row>889</th><td>881                                          </td><td>1                                            </td><td>2                                            </td><td>Shelley, Mrs. William (Imanita Parrish Hall) </td><td>female                                       </td><td>25                                           </td><td>0                                            </td><td>1                                            </td><td>230433                                       </td><td>26.0000                                      </td><td>                                             </td><td>S                                            </td><td>1                                            </td></tr>\n",
       "\t<tr><th scope=row>890</th><td>888                                          </td><td>1                                            </td><td>1                                            </td><td>Graham, Miss. Margaret Edith                 </td><td>female                                       </td><td>19                                           </td><td>0                                            </td><td>0                                            </td><td>112053                                       </td><td>30.0000                                      </td><td>B42                                          </td><td>S                                            </td><td>1                                            </td></tr>\n",
       "\t<tr><th scope=row>891</th><td>890                                          </td><td>1                                            </td><td>1                                            </td><td>Behr, Mr. Karl Howell                        </td><td>male                                         </td><td>26                                           </td><td>0                                            </td><td>0                                            </td><td>111369                                       </td><td>30.0000                                      </td><td>C148                                         </td><td>C                                            </td><td>0                                            </td></tr>\n",
       "</tbody>\n",
       "</table>\n"
      ],
      "text/latex": [
       "\\begin{tabular}{r|lllllllllllll}\n",
       "  & 癤풮assengerId & Survived & Pclass & Name & Sex & Age & SibSp & Parch & Ticket & Fare & Cabin & Embarked & SexCode\\\\\n",
       "\\hline\n",
       "\t886 & 875                                           & 1                                             & 2                                             & Abelson, Mrs. Samuel (Hannah Wizosky)         & female                                        & 28                                            & 1                                             & 0                                             & P/PP 3381                                     & 24.0000                                       &                                               & C                                             & 1                                            \\\\\n",
       "\t887 & 876                                           & 1                                             & 3                                             & Najib, Miss. Adele Kiamie \"Jane\"              & female                                        & 15                                            & 0                                             & 0                                             & 2667                                          &  7.2250                                       &                                               & C                                             & 1                                            \\\\\n",
       "\t888 & 880                                           & 1                                             & 1                                             & Potter, Mrs. Thomas Jr (Lily Alexenia Wilson) & female                                        & 56                                            & 0                                             & 1                                             & 11767                                         & 83.1583                                       & C50                                           & C                                             & 1                                            \\\\\n",
       "\t889 & 881                                           & 1                                             & 2                                             & Shelley, Mrs. William (Imanita Parrish Hall)  & female                                        & 25                                            & 0                                             & 1                                             & 230433                                        & 26.0000                                       &                                               & S                                             & 1                                            \\\\\n",
       "\t890 & 888                                           & 1                                             & 1                                             & Graham, Miss. Margaret Edith                  & female                                        & 19                                            & 0                                             & 0                                             & 112053                                        & 30.0000                                       & B42                                           & S                                             & 1                                            \\\\\n",
       "\t891 & 890                                           & 1                                             & 1                                             & Behr, Mr. Karl Howell                         & male                                          & 26                                            & 0                                             & 0                                             & 111369                                        & 30.0000                                       & C148                                          & C                                             & 0                                            \\\\\n",
       "\\end{tabular}\n"
      ],
      "text/markdown": [
       "\n",
       "| <!--/--> | 癤풮assengerId | Survived | Pclass | Name | Sex | Age | SibSp | Parch | Ticket | Fare | Cabin | Embarked | SexCode |\n",
       "|---|---|---|---|---|---|---|---|---|---|---|---|---|---|\n",
       "| 886 | 875                                           | 1                                             | 2                                             | Abelson, Mrs. Samuel (Hannah Wizosky)         | female                                        | 28                                            | 1                                             | 0                                             | P/PP 3381                                     | 24.0000                                       |                                               | C                                             | 1                                             |\n",
       "| 887 | 876                                           | 1                                             | 3                                             | Najib, Miss. Adele Kiamie \"Jane\"              | female                                        | 15                                            | 0                                             | 0                                             | 2667                                          |  7.2250                                       |                                               | C                                             | 1                                             |\n",
       "| 888 | 880                                           | 1                                             | 1                                             | Potter, Mrs. Thomas Jr (Lily Alexenia Wilson) | female                                        | 56                                            | 0                                             | 1                                             | 11767                                         | 83.1583                                       | C50                                           | C                                             | 1                                             |\n",
       "| 889 | 881                                           | 1                                             | 2                                             | Shelley, Mrs. William (Imanita Parrish Hall)  | female                                        | 25                                            | 0                                             | 1                                             | 230433                                        | 26.0000                                       |                                               | S                                             | 1                                             |\n",
       "| 890 | 888                                           | 1                                             | 1                                             | Graham, Miss. Margaret Edith                  | female                                        | 19                                            | 0                                             | 0                                             | 112053                                        | 30.0000                                       | B42                                           | S                                             | 1                                             |\n",
       "| 891 | 890                                           | 1                                             | 1                                             | Behr, Mr. Karl Howell                         | male                                          | 26                                            | 0                                             | 0                                             | 111369                                        | 30.0000                                       | C148                                          | C                                             | 0                                             |\n",
       "\n"
      ],
      "text/plain": [
       "    癤풮assengerId Survived Pclass\n",
       "886 875            1        2     \n",
       "887 876            1        3     \n",
       "888 880            1        1     \n",
       "889 881            1        2     \n",
       "890 888            1        1     \n",
       "891 890            1        1     \n",
       "    Name                                          Sex    Age SibSp Parch\n",
       "886 Abelson, Mrs. Samuel (Hannah Wizosky)         female 28  1     0    \n",
       "887 Najib, Miss. Adele Kiamie \"Jane\"              female 15  0     0    \n",
       "888 Potter, Mrs. Thomas Jr (Lily Alexenia Wilson) female 56  0     1    \n",
       "889 Shelley, Mrs. William (Imanita Parrish Hall)  female 25  0     1    \n",
       "890 Graham, Miss. Margaret Edith                  female 19  0     0    \n",
       "891 Behr, Mr. Karl Howell                         male   26  0     0    \n",
       "    Ticket    Fare    Cabin Embarked SexCode\n",
       "886 P/PP 3381 24.0000       C        1      \n",
       "887 2667       7.2250       C        1      \n",
       "888 11767     83.1583 C50   C        1      \n",
       "889 230433    26.0000       S        1      \n",
       "890 112053    30.0000 B42   S        1      \n",
       "891 111369    30.0000 C148  C        0      "
      ]
     },
     "metadata": {},
     "output_type": "display_data"
    }
   ],
   "source": [
    "head(train_df_T)\n",
    "tail(train_df_T)"
   ]
  },
  {
   "cell_type": "code",
   "execution_count": 61,
   "id": "ed7ac252",
   "metadata": {},
   "outputs": [
    {
     "data": {
      "text/html": [
       "<table>\n",
       "<thead><tr><th scope=col>癤풮assengerId</th><th scope=col>Survived</th><th scope=col>Pclass</th><th scope=col>Name</th><th scope=col>Age</th><th scope=col>SibSp</th><th scope=col>Parch</th><th scope=col>Ticket</th><th scope=col>Fare</th><th scope=col>Cabin</th><th scope=col>Embarked</th><th scope=col>SexCode</th></tr></thead>\n",
       "<tbody>\n",
       "\t<tr><td> 1                            </td><td>0                             </td><td>3                             </td><td>Braund, Mr. Owen Harris       </td><td>22                            </td><td>1                             </td><td>0                             </td><td>A/5 21171                     </td><td> 7.2500                       </td><td>                              </td><td>S                             </td><td>0                             </td></tr>\n",
       "\t<tr><td> 5                            </td><td>0                             </td><td>3                             </td><td>Allen, Mr. William Henry      </td><td>35                            </td><td>0                             </td><td>0                             </td><td>373450                        </td><td> 8.0500                       </td><td>                              </td><td>S                             </td><td>0                             </td></tr>\n",
       "\t<tr><td> 6                            </td><td>0                             </td><td>3                             </td><td>Moran, Mr. James              </td><td>NA                            </td><td>0                             </td><td>0                             </td><td>330877                        </td><td> 8.4583                       </td><td>                              </td><td>Q                             </td><td>0                             </td></tr>\n",
       "\t<tr><td> 7                            </td><td>0                             </td><td>1                             </td><td>McCarthy, Mr. Timothy J       </td><td>54                            </td><td>0                             </td><td>0                             </td><td>17463                         </td><td>51.8625                       </td><td>E46                           </td><td>S                             </td><td>0                             </td></tr>\n",
       "\t<tr><td> 8                            </td><td>0                             </td><td>3                             </td><td>Palsson, Master. Gosta Leonard</td><td> 2                            </td><td>3                             </td><td>1                             </td><td>349909                        </td><td>21.0750                       </td><td>                              </td><td>S                             </td><td>0                             </td></tr>\n",
       "\t<tr><td>13                            </td><td>0                             </td><td>3                             </td><td>Saundercock, Mr. William Henry</td><td>20                            </td><td>0                             </td><td>0                             </td><td>A/5. 2151                     </td><td> 8.0500                       </td><td>                              </td><td>S                             </td><td>0                             </td></tr>\n",
       "</tbody>\n",
       "</table>\n"
      ],
      "text/latex": [
       "\\begin{tabular}{r|llllllllllll}\n",
       " 癤풮assengerId & Survived & Pclass & Name & Age & SibSp & Parch & Ticket & Fare & Cabin & Embarked & SexCode\\\\\n",
       "\\hline\n",
       "\t  1                             & 0                              & 3                              & Braund, Mr. Owen Harris        & 22                             & 1                              & 0                              & A/5 21171                      &  7.2500                        &                                & S                              & 0                             \\\\\n",
       "\t  5                             & 0                              & 3                              & Allen, Mr. William Henry       & 35                             & 0                              & 0                              & 373450                         &  8.0500                        &                                & S                              & 0                             \\\\\n",
       "\t  6                             & 0                              & 3                              & Moran, Mr. James               & NA                             & 0                              & 0                              & 330877                         &  8.4583                        &                                & Q                              & 0                             \\\\\n",
       "\t  7                             & 0                              & 1                              & McCarthy, Mr. Timothy J        & 54                             & 0                              & 0                              & 17463                          & 51.8625                        & E46                            & S                              & 0                             \\\\\n",
       "\t  8                             & 0                              & 3                              & Palsson, Master. Gosta Leonard &  2                             & 3                              & 1                              & 349909                         & 21.0750                        &                                & S                              & 0                             \\\\\n",
       "\t 13                             & 0                              & 3                              & Saundercock, Mr. William Henry & 20                             & 0                              & 0                              & A/5. 2151                      &  8.0500                        &                                & S                              & 0                             \\\\\n",
       "\\end{tabular}\n"
      ],
      "text/markdown": [
       "\n",
       "| 癤풮assengerId | Survived | Pclass | Name | Age | SibSp | Parch | Ticket | Fare | Cabin | Embarked | SexCode |\n",
       "|---|---|---|---|---|---|---|---|---|---|---|---|\n",
       "|  1                             | 0                              | 3                              | Braund, Mr. Owen Harris        | 22                             | 1                              | 0                              | A/5 21171                      |  7.2500                        |                                | S                              | 0                              |\n",
       "|  5                             | 0                              | 3                              | Allen, Mr. William Henry       | 35                             | 0                              | 0                              | 373450                         |  8.0500                        |                                | S                              | 0                              |\n",
       "|  6                             | 0                              | 3                              | Moran, Mr. James               | NA                             | 0                              | 0                              | 330877                         |  8.4583                        |                                | Q                              | 0                              |\n",
       "|  7                             | 0                              | 1                              | McCarthy, Mr. Timothy J        | 54                             | 0                              | 0                              | 17463                          | 51.8625                        | E46                            | S                              | 0                              |\n",
       "|  8                             | 0                              | 3                              | Palsson, Master. Gosta Leonard |  2                             | 3                              | 1                              | 349909                         | 21.0750                        |                                | S                              | 0                              |\n",
       "| 13                             | 0                              | 3                              | Saundercock, Mr. William Henry | 20                             | 0                              | 0                              | A/5. 2151                      |  8.0500                        |                                | S                              | 0                              |\n",
       "\n"
      ],
      "text/plain": [
       "  癤풮assengerId Survived Pclass Name                           Age SibSp Parch\n",
       "1  1             0        3      Braund, Mr. Owen Harris        22  1     0    \n",
       "2  5             0        3      Allen, Mr. William Henry       35  0     0    \n",
       "3  6             0        3      Moran, Mr. James               NA  0     0    \n",
       "4  7             0        1      McCarthy, Mr. Timothy J        54  0     0    \n",
       "5  8             0        3      Palsson, Master. Gosta Leonard  2  3     1    \n",
       "6 13             0        3      Saundercock, Mr. William Henry 20  0     0    \n",
       "  Ticket    Fare    Cabin Embarked SexCode\n",
       "1 A/5 21171  7.2500       S        0      \n",
       "2 373450     8.0500       S        0      \n",
       "3 330877     8.4583       Q        0      \n",
       "4 17463     51.8625 E46   S        0      \n",
       "5 349909    21.0750       S        0      \n",
       "6 A/5. 2151  8.0500       S        0      "
      ]
     },
     "metadata": {},
     "output_type": "display_data"
    }
   ],
   "source": [
    "# Sex컬럼 삭제\n",
    "train_df_T <- subset(train_df_T, select = -Sex)\n",
    "head(train_df_T)"
   ]
  },
  {
   "cell_type": "code",
   "execution_count": 62,
   "id": "34495ea2",
   "metadata": {},
   "outputs": [
    {
     "data": {
      "text/html": [
       "<table>\n",
       "<thead><tr><th scope=col>Survived</th><th scope=col>SexCode</th><th scope=col>Pclass</th><th scope=col>Embarked</th></tr></thead>\n",
       "<tbody>\n",
       "\t<tr><td>0</td><td>0</td><td>3</td><td>S</td></tr>\n",
       "\t<tr><td>0</td><td>0</td><td>3</td><td>S</td></tr>\n",
       "\t<tr><td>0</td><td>0</td><td>3</td><td>Q</td></tr>\n",
       "\t<tr><td>0</td><td>0</td><td>1</td><td>S</td></tr>\n",
       "\t<tr><td>0</td><td>0</td><td>3</td><td>S</td></tr>\n",
       "\t<tr><td>0</td><td>0</td><td>3</td><td>S</td></tr>\n",
       "</tbody>\n",
       "</table>\n"
      ],
      "text/latex": [
       "\\begin{tabular}{r|llll}\n",
       " Survived & SexCode & Pclass & Embarked\\\\\n",
       "\\hline\n",
       "\t 0 & 0 & 3 & S\\\\\n",
       "\t 0 & 0 & 3 & S\\\\\n",
       "\t 0 & 0 & 3 & Q\\\\\n",
       "\t 0 & 0 & 1 & S\\\\\n",
       "\t 0 & 0 & 3 & S\\\\\n",
       "\t 0 & 0 & 3 & S\\\\\n",
       "\\end{tabular}\n"
      ],
      "text/markdown": [
       "\n",
       "| Survived | SexCode | Pclass | Embarked |\n",
       "|---|---|---|---|\n",
       "| 0 | 0 | 3 | S |\n",
       "| 0 | 0 | 3 | S |\n",
       "| 0 | 0 | 3 | Q |\n",
       "| 0 | 0 | 1 | S |\n",
       "| 0 | 0 | 3 | S |\n",
       "| 0 | 0 | 3 | S |\n",
       "\n"
      ],
      "text/plain": [
       "  Survived SexCode Pclass Embarked\n",
       "1 0        0       3      S       \n",
       "2 0        0       3      S       \n",
       "3 0        0       3      Q       \n",
       "4 0        0       1      S       \n",
       "5 0        0       3      S       \n",
       "6 0        0       3      S       "
      ]
     },
     "metadata": {},
     "output_type": "display_data"
    }
   ],
   "source": [
    "target_col <- c(\"Survived\", \"SexCode\", \"Pclass\", \"Embarked\")\n",
    "head(train_df_T[target_col])"
   ]
  },
  {
   "cell_type": "markdown",
   "id": "a49c2a1f",
   "metadata": {},
   "source": [
    "# Embarked를 숫자로 변환\n",
    "C = 0, S = 1, Q = 2 -> 맞긴 맞지만 좋은 생각이 아니다.\n",
    "2 * S = Q ? <br>\n",
    "S + S = Q ? <br>\n",
    "\n",
    "### One-HOt Encoding방법\n",
    "C == [1,0,0] <br>\n",
    "S == [0,1,0] <br>\n",
    "Q == [0,0,1] <br>\n",
    "처럼 행렬로 만들면 덧셈과 뺄셈에 대해 각 계산이 매우 안전해 진다.\n",
    "R은 내부적으로 1은 True, 0은 False."
   ]
  },
  {
   "cell_type": "code",
   "execution_count": 63,
   "id": "4b01daca",
   "metadata": {},
   "outputs": [
    {
     "data": {
      "text/html": [
       "<table>\n",
       "<thead><tr><th scope=col>Embarked</th><th scope=col>Embarked_C</th><th scope=col>Embarked_S</th><th scope=col>Embarked_Q</th></tr></thead>\n",
       "<tbody>\n",
       "\t<tr><td>S    </td><td>FALSE</td><td> TRUE</td><td>FALSE</td></tr>\n",
       "\t<tr><td>S    </td><td>FALSE</td><td> TRUE</td><td>FALSE</td></tr>\n",
       "\t<tr><td>Q    </td><td>FALSE</td><td>FALSE</td><td> TRUE</td></tr>\n",
       "\t<tr><td>S    </td><td>FALSE</td><td> TRUE</td><td>FALSE</td></tr>\n",
       "\t<tr><td>S    </td><td>FALSE</td><td> TRUE</td><td>FALSE</td></tr>\n",
       "\t<tr><td>S    </td><td>FALSE</td><td> TRUE</td><td>FALSE</td></tr>\n",
       "</tbody>\n",
       "</table>\n"
      ],
      "text/latex": [
       "\\begin{tabular}{r|llll}\n",
       " Embarked & Embarked\\_C & Embarked\\_S & Embarked\\_Q\\\\\n",
       "\\hline\n",
       "\t S     & FALSE &  TRUE & FALSE\\\\\n",
       "\t S     & FALSE &  TRUE & FALSE\\\\\n",
       "\t Q     & FALSE & FALSE &  TRUE\\\\\n",
       "\t S     & FALSE &  TRUE & FALSE\\\\\n",
       "\t S     & FALSE &  TRUE & FALSE\\\\\n",
       "\t S     & FALSE &  TRUE & FALSE\\\\\n",
       "\\end{tabular}\n"
      ],
      "text/markdown": [
       "\n",
       "| Embarked | Embarked_C | Embarked_S | Embarked_Q |\n",
       "|---|---|---|---|\n",
       "| S     | FALSE |  TRUE | FALSE |\n",
       "| S     | FALSE |  TRUE | FALSE |\n",
       "| Q     | FALSE | FALSE |  TRUE |\n",
       "| S     | FALSE |  TRUE | FALSE |\n",
       "| S     | FALSE |  TRUE | FALSE |\n",
       "| S     | FALSE |  TRUE | FALSE |\n",
       "\n"
      ],
      "text/plain": [
       "  Embarked Embarked_C Embarked_S Embarked_Q\n",
       "1 S        FALSE       TRUE      FALSE     \n",
       "2 S        FALSE       TRUE      FALSE     \n",
       "3 Q        FALSE      FALSE       TRUE     \n",
       "4 S        FALSE       TRUE      FALSE     \n",
       "5 S        FALSE       TRUE      FALSE     \n",
       "6 S        FALSE       TRUE      FALSE     "
      ]
     },
     "metadata": {},
     "output_type": "display_data"
    }
   ],
   "source": [
    "train_df_T$Embarked_C = train_df_T$Embarked == 'C'\n",
    "train_df_T$Embarked_S = train_df_T$Embarked == 'S'\n",
    "train_df_T$Embarked_Q = train_df_T$Embarked == 'Q'\n",
    "\n",
    "head(train_df_T[c('Embarked', 'Embarked_C', 'Embarked_S', 'Embarked_Q')])"
   ]
  },
  {
   "cell_type": "code",
   "execution_count": 64,
   "id": "6dd69884",
   "metadata": {},
   "outputs": [
    {
     "data": {
      "text/html": [
       "<table>\n",
       "<thead><tr><th scope=col>Survived</th><th scope=col>Pclass</th><th scope=col>SexCode</th><th scope=col>Embarked_C</th><th scope=col>Embarked_S</th><th scope=col>Embarked_Q</th></tr></thead>\n",
       "<tbody>\n",
       "\t<tr><td>0    </td><td>3    </td><td>0    </td><td>FALSE</td><td> TRUE</td><td>FALSE</td></tr>\n",
       "\t<tr><td>0    </td><td>3    </td><td>0    </td><td>FALSE</td><td> TRUE</td><td>FALSE</td></tr>\n",
       "\t<tr><td>0    </td><td>3    </td><td>0    </td><td>FALSE</td><td>FALSE</td><td> TRUE</td></tr>\n",
       "\t<tr><td>0    </td><td>1    </td><td>0    </td><td>FALSE</td><td> TRUE</td><td>FALSE</td></tr>\n",
       "\t<tr><td>0    </td><td>3    </td><td>0    </td><td>FALSE</td><td> TRUE</td><td>FALSE</td></tr>\n",
       "\t<tr><td>0    </td><td>3    </td><td>0    </td><td>FALSE</td><td> TRUE</td><td>FALSE</td></tr>\n",
       "</tbody>\n",
       "</table>\n"
      ],
      "text/latex": [
       "\\begin{tabular}{r|llllll}\n",
       " Survived & Pclass & SexCode & Embarked\\_C & Embarked\\_S & Embarked\\_Q\\\\\n",
       "\\hline\n",
       "\t 0     & 3     & 0     & FALSE &  TRUE & FALSE\\\\\n",
       "\t 0     & 3     & 0     & FALSE &  TRUE & FALSE\\\\\n",
       "\t 0     & 3     & 0     & FALSE & FALSE &  TRUE\\\\\n",
       "\t 0     & 1     & 0     & FALSE &  TRUE & FALSE\\\\\n",
       "\t 0     & 3     & 0     & FALSE &  TRUE & FALSE\\\\\n",
       "\t 0     & 3     & 0     & FALSE &  TRUE & FALSE\\\\\n",
       "\\end{tabular}\n"
      ],
      "text/markdown": [
       "\n",
       "| Survived | Pclass | SexCode | Embarked_C | Embarked_S | Embarked_Q |\n",
       "|---|---|---|---|---|---|\n",
       "| 0     | 3     | 0     | FALSE |  TRUE | FALSE |\n",
       "| 0     | 3     | 0     | FALSE |  TRUE | FALSE |\n",
       "| 0     | 3     | 0     | FALSE | FALSE |  TRUE |\n",
       "| 0     | 1     | 0     | FALSE |  TRUE | FALSE |\n",
       "| 0     | 3     | 0     | FALSE |  TRUE | FALSE |\n",
       "| 0     | 3     | 0     | FALSE |  TRUE | FALSE |\n",
       "\n"
      ],
      "text/plain": [
       "  Survived Pclass SexCode Embarked_C Embarked_S Embarked_Q\n",
       "1 0        3      0       FALSE       TRUE      FALSE     \n",
       "2 0        3      0       FALSE       TRUE      FALSE     \n",
       "3 0        3      0       FALSE      FALSE       TRUE     \n",
       "4 0        1      0       FALSE       TRUE      FALSE     \n",
       "5 0        3      0       FALSE       TRUE      FALSE     \n",
       "6 0        3      0       FALSE       TRUE      FALSE     "
      ]
     },
     "metadata": {},
     "output_type": "display_data"
    }
   ],
   "source": [
    "target_col = c(\"Survived\", \"Pclass\", \"SexCode\", \n",
    "               \"Embarked_C\", \"Embarked_S\", \"Embarked_Q\")\n",
    "\n",
    "head(train_df_T[,target_col])"
   ]
  },
  {
   "cell_type": "code",
   "execution_count": 65,
   "id": "f3ec1706",
   "metadata": {},
   "outputs": [],
   "source": [
    "train_data <- train_df_T[,target_col]"
   ]
  },
  {
   "cell_type": "code",
   "execution_count": 66,
   "id": "56fcf40f",
   "metadata": {},
   "outputs": [
    {
     "data": {
      "text/html": [
       "<table>\n",
       "<thead><tr><th scope=col>Survived</th><th scope=col>Pclass</th><th scope=col>SexCode</th><th scope=col>Embarked_C</th><th scope=col>Embarked_S</th><th scope=col>Embarked_Q</th></tr></thead>\n",
       "<tbody>\n",
       "\t<tr><td>0    </td><td>3    </td><td>0    </td><td>FALSE</td><td> TRUE</td><td>FALSE</td></tr>\n",
       "\t<tr><td>0    </td><td>3    </td><td>0    </td><td>FALSE</td><td> TRUE</td><td>FALSE</td></tr>\n",
       "\t<tr><td>0    </td><td>3    </td><td>0    </td><td>FALSE</td><td>FALSE</td><td> TRUE</td></tr>\n",
       "\t<tr><td>0    </td><td>1    </td><td>0    </td><td>FALSE</td><td> TRUE</td><td>FALSE</td></tr>\n",
       "\t<tr><td>0    </td><td>3    </td><td>0    </td><td>FALSE</td><td> TRUE</td><td>FALSE</td></tr>\n",
       "\t<tr><td>0    </td><td>3    </td><td>0    </td><td>FALSE</td><td> TRUE</td><td>FALSE</td></tr>\n",
       "</tbody>\n",
       "</table>\n"
      ],
      "text/latex": [
       "\\begin{tabular}{r|llllll}\n",
       " Survived & Pclass & SexCode & Embarked\\_C & Embarked\\_S & Embarked\\_Q\\\\\n",
       "\\hline\n",
       "\t 0     & 3     & 0     & FALSE &  TRUE & FALSE\\\\\n",
       "\t 0     & 3     & 0     & FALSE &  TRUE & FALSE\\\\\n",
       "\t 0     & 3     & 0     & FALSE & FALSE &  TRUE\\\\\n",
       "\t 0     & 1     & 0     & FALSE &  TRUE & FALSE\\\\\n",
       "\t 0     & 3     & 0     & FALSE &  TRUE & FALSE\\\\\n",
       "\t 0     & 3     & 0     & FALSE &  TRUE & FALSE\\\\\n",
       "\\end{tabular}\n"
      ],
      "text/markdown": [
       "\n",
       "| Survived | Pclass | SexCode | Embarked_C | Embarked_S | Embarked_Q |\n",
       "|---|---|---|---|---|---|\n",
       "| 0     | 3     | 0     | FALSE |  TRUE | FALSE |\n",
       "| 0     | 3     | 0     | FALSE |  TRUE | FALSE |\n",
       "| 0     | 3     | 0     | FALSE | FALSE |  TRUE |\n",
       "| 0     | 1     | 0     | FALSE |  TRUE | FALSE |\n",
       "| 0     | 3     | 0     | FALSE |  TRUE | FALSE |\n",
       "| 0     | 3     | 0     | FALSE |  TRUE | FALSE |\n",
       "\n"
      ],
      "text/plain": [
       "  Survived Pclass SexCode Embarked_C Embarked_S Embarked_Q\n",
       "1 0        3      0       FALSE       TRUE      FALSE     \n",
       "2 0        3      0       FALSE       TRUE      FALSE     \n",
       "3 0        3      0       FALSE      FALSE       TRUE     \n",
       "4 0        1      0       FALSE       TRUE      FALSE     \n",
       "5 0        3      0       FALSE       TRUE      FALSE     \n",
       "6 0        3      0       FALSE       TRUE      FALSE     "
      ]
     },
     "metadata": {},
     "output_type": "display_data"
    }
   ],
   "source": [
    "head(train_data)"
   ]
  },
  {
   "cell_type": "code",
   "execution_count": 67,
   "id": "196ee3ae",
   "metadata": {},
   "outputs": [
    {
     "name": "stdout",
     "output_type": "stream",
     "text": [
      "'data.frame':\t891 obs. of  6 variables:\n",
      " $ Survived  : int  0 0 0 0 0 0 0 0 0 0 ...\n",
      " $ Pclass    : int  3 3 3 1 3 3 3 3 3 3 ...\n",
      " $ SexCode   : num  0 0 0 0 0 0 0 1 0 1 ...\n",
      " $ Embarked_C: logi  FALSE FALSE FALSE FALSE FALSE FALSE ...\n",
      " $ Embarked_S: logi  TRUE TRUE FALSE TRUE TRUE TRUE ...\n",
      " $ Embarked_Q: logi  FALSE FALSE TRUE FALSE FALSE FALSE ...\n"
     ]
    }
   ],
   "source": [
    "str(train_data)"
   ]
  },
  {
   "cell_type": "code",
   "execution_count": 68,
   "id": "0f1a7802",
   "metadata": {},
   "outputs": [
    {
     "name": "stderr",
     "output_type": "stream",
     "text": [
      "randomForest 4.6-14\n",
      "Type rfNews() to see new features/changes/bug fixes.\n",
      "\n",
      "Attaching package: 'randomForest'\n",
      "\n",
      "The following object is masked from 'package:dplyr':\n",
      "\n",
      "    combine\n",
      "\n",
      "Loading required package: lattice\n",
      "Loading required package: ggplot2\n",
      "Registered S3 methods overwritten by 'ggplot2':\n",
      "  method         from \n",
      "  [.quosures     rlang\n",
      "  c.quosures     rlang\n",
      "  print.quosures rlang\n",
      "\n",
      "Attaching package: 'ggplot2'\n",
      "\n",
      "The following object is masked from 'package:randomForest':\n",
      "\n",
      "    margin\n",
      "\n"
     ]
    },
    {
     "data": {
      "text/html": [
       "<table>\n",
       "<thead><tr><th scope=col>Resample1</th></tr></thead>\n",
       "<tbody>\n",
       "\t<tr><td> 1</td></tr>\n",
       "\t<tr><td> 2</td></tr>\n",
       "\t<tr><td> 3</td></tr>\n",
       "\t<tr><td> 4</td></tr>\n",
       "\t<tr><td>10</td></tr>\n",
       "\t<tr><td>11</td></tr>\n",
       "</tbody>\n",
       "</table>\n"
      ],
      "text/latex": [
       "\\begin{tabular}{l}\n",
       " Resample1\\\\\n",
       "\\hline\n",
       "\t  1\\\\\n",
       "\t  2\\\\\n",
       "\t  3\\\\\n",
       "\t  4\\\\\n",
       "\t 10\\\\\n",
       "\t 11\\\\\n",
       "\\end{tabular}\n"
      ],
      "text/markdown": [
       "\n",
       "| Resample1 |\n",
       "|---|\n",
       "|  1 |\n",
       "|  2 |\n",
       "|  3 |\n",
       "|  4 |\n",
       "| 10 |\n",
       "| 11 |\n",
       "\n"
      ],
      "text/plain": [
       "     Resample1\n",
       "[1,]  1       \n",
       "[2,]  2       \n",
       "[3,]  3       \n",
       "[4,]  4       \n",
       "[5,] 10       \n",
       "[6,] 11       "
      ]
     },
     "metadata": {},
     "output_type": "display_data"
    }
   ],
   "source": [
    "# Sampling\n",
    "library(randomForest)\n",
    "library(caret)\n",
    "\n",
    "set.seed(1234)\n",
    "\n",
    "samp <- createDataPartition(train_data$Survived, p=0.7, list=F)\n",
    "head(samp)"
   ]
  },
  {
   "cell_type": "code",
   "execution_count": 69,
   "id": "416e91bf",
   "metadata": {},
   "outputs": [
    {
     "name": "stdout",
     "output_type": "stream",
     "text": [
      "'data.frame':\t624 obs. of  6 variables:\n",
      " $ Survived  : int  0 0 0 0 0 0 0 0 0 0 ...\n",
      " $ Pclass    : int  3 3 3 1 3 2 3 3 1 3 ...\n",
      " $ SexCode   : num  0 0 0 0 1 0 1 0 0 0 ...\n",
      " $ Embarked_C: logi  FALSE FALSE FALSE FALSE FALSE FALSE ...\n",
      " $ Embarked_S: logi  TRUE TRUE FALSE TRUE TRUE TRUE ...\n",
      " $ Embarked_Q: logi  FALSE FALSE TRUE FALSE FALSE FALSE ...\n"
     ]
    }
   ],
   "source": [
    "# 학습용\n",
    "\n",
    "data.train <- train_data[samp,]\n",
    "str(data.train)"
   ]
  },
  {
   "cell_type": "code",
   "execution_count": 70,
   "id": "3d7bd542",
   "metadata": {},
   "outputs": [
    {
     "name": "stdout",
     "output_type": "stream",
     "text": [
      "'data.frame':\t267 obs. of  6 variables:\n",
      " $ Survived  : int  0 0 0 0 0 0 0 0 0 0 ...\n",
      " $ Pclass    : int  3 3 3 3 3 1 1 3 3 3 ...\n",
      " $ SexCode   : num  0 0 0 1 0 0 0 0 0 0 ...\n",
      " $ Embarked_C: logi  FALSE FALSE FALSE FALSE FALSE TRUE ...\n",
      " $ Embarked_S: logi  TRUE TRUE TRUE TRUE FALSE FALSE ...\n",
      " $ Embarked_Q: logi  FALSE FALSE FALSE FALSE TRUE FALSE ...\n"
     ]
    }
   ],
   "source": [
    "# 검증용\n",
    "\n",
    "data.test <- train_data[-samp,]\n",
    "str(data.test)"
   ]
  },
  {
   "cell_type": "code",
   "execution_count": 71,
   "id": "d294efcf",
   "metadata": {},
   "outputs": [],
   "source": [
    "# 학습시키기\n",
    "\n",
    "rf <- randomForest(Survived ~ ., data=data.train, ntree=100)"
   ]
  },
  {
   "cell_type": "code",
   "execution_count": 72,
   "id": "4797c9ee",
   "metadata": {},
   "outputs": [],
   "source": [
    "# 문제와 정답\n",
    "x <- subset(data.test, select = -Survived)\n",
    "y <- data.test$Survived"
   ]
  },
  {
   "cell_type": "code",
   "execution_count": 73,
   "id": "7c588d7f",
   "metadata": {},
   "outputs": [
    {
     "data": {
      "text/html": [
       "<dl class=dl-horizontal>\n",
       "\t<dt>5</dt>\n",
       "\t\t<dd>0.214258438655153</dd>\n",
       "\t<dt>6</dt>\n",
       "\t\t<dd>0.214258438655153</dd>\n",
       "\t<dt>7</dt>\n",
       "\t\t<dd>0.214258438655153</dd>\n",
       "\t<dt>8</dt>\n",
       "\t\t<dd>0.381342291475005</dd>\n",
       "\t<dt>9</dt>\n",
       "\t\t<dd>0.231116973094979</dd>\n",
       "\t<dt>16</dt>\n",
       "\t\t<dd>0.448923102083669</dd>\n",
       "</dl>\n"
      ],
      "text/latex": [
       "\\begin{description*}\n",
       "\\item[5] 0.214258438655153\n",
       "\\item[6] 0.214258438655153\n",
       "\\item[7] 0.214258438655153\n",
       "\\item[8] 0.381342291475005\n",
       "\\item[9] 0.231116973094979\n",
       "\\item[16] 0.448923102083669\n",
       "\\end{description*}\n"
      ],
      "text/markdown": [
       "5\n",
       ":   0.2142584386551536\n",
       ":   0.2142584386551537\n",
       ":   0.2142584386551538\n",
       ":   0.3813422914750059\n",
       ":   0.23111697309497916\n",
       ":   0.448923102083669\n",
       "\n"
      ],
      "text/plain": [
       "        5         6         7         8         9        16 \n",
       "0.2142584 0.2142584 0.2142584 0.3813423 0.2311170 0.4489231 "
      ]
     },
     "metadata": {},
     "output_type": "display_data"
    }
   ],
   "source": [
    "# 검증하기\n",
    "pred <- predict(rf, x)\n",
    "head(pred)"
   ]
  },
  {
   "cell_type": "code",
   "execution_count": 74,
   "id": "3cb7e552",
   "metadata": {},
   "outputs": [],
   "source": [
    "pred[pred <= 0.5] <- 0\n",
    "pred[pred >= 0.5] <- 1"
   ]
  },
  {
   "cell_type": "code",
   "execution_count": 75,
   "id": "bb303512",
   "metadata": {},
   "outputs": [
    {
     "data": {
      "text/html": [
       "0.779026217228464"
      ],
      "text/latex": [
       "0.779026217228464"
      ],
      "text/markdown": [
       "0.779026217228464"
      ],
      "text/plain": [
       "[1] 0.7790262"
      ]
     },
     "metadata": {},
     "output_type": "display_data"
    }
   ],
   "source": [
    "mean(pred == y)"
   ]
  },
  {
   "cell_type": "markdown",
   "id": "a5be9948",
   "metadata": {},
   "source": [
    "---\n",
    "### Survived를 factor로 변환후에 randomForest 실행\n"
   ]
  },
  {
   "cell_type": "code",
   "execution_count": 76,
   "id": "045edacf",
   "metadata": {},
   "outputs": [],
   "source": [
    "data.train$Survived <- as.factor(data.train$Survived)\n",
    "data.test$Survived <- as.factor(data.test$Survived)"
   ]
  },
  {
   "cell_type": "code",
   "execution_count": 77,
   "id": "9143d56c",
   "metadata": {},
   "outputs": [],
   "source": [
    "rf <- randomForest(Survived ~ ., data=data.train, ntree=100)"
   ]
  },
  {
   "cell_type": "code",
   "execution_count": 78,
   "id": "61921d94",
   "metadata": {},
   "outputs": [],
   "source": [
    "x <- subset(data.test, select = -Survived)\n",
    "y <- data.test$Survived"
   ]
  },
  {
   "cell_type": "code",
   "execution_count": 79,
   "id": "8156f213",
   "metadata": {},
   "outputs": [
    {
     "data": {
      "text/html": [
       "<dl class=dl-horizontal>\n",
       "\t<dt>5</dt>\n",
       "\t\t<dd>0</dd>\n",
       "\t<dt>6</dt>\n",
       "\t\t<dd>0</dd>\n",
       "\t<dt>7</dt>\n",
       "\t\t<dd>0</dd>\n",
       "\t<dt>8</dt>\n",
       "\t\t<dd>0</dd>\n",
       "\t<dt>9</dt>\n",
       "\t\t<dd>0</dd>\n",
       "\t<dt>16</dt>\n",
       "\t\t<dd>0</dd>\n",
       "</dl>\n",
       "\n",
       "<details>\n",
       "\t<summary style=display:list-item;cursor:pointer>\n",
       "\t\t<strong>Levels</strong>:\n",
       "\t</summary>\n",
       "\t<ol class=list-inline>\n",
       "\t\t<li>'0'</li>\n",
       "\t\t<li>'1'</li>\n",
       "\t</ol>\n",
       "</details>"
      ],
      "text/latex": [
       "\\begin{description*}\n",
       "\\item[5] 0\n",
       "\\item[6] 0\n",
       "\\item[7] 0\n",
       "\\item[8] 0\n",
       "\\item[9] 0\n",
       "\\item[16] 0\n",
       "\\end{description*}\n",
       "\n",
       "\\emph{Levels}: \\begin{enumerate*}\n",
       "\\item '0'\n",
       "\\item '1'\n",
       "\\end{enumerate*}\n"
      ],
      "text/markdown": [
       "5\n",
       ":   06\n",
       ":   07\n",
       ":   08\n",
       ":   09\n",
       ":   016\n",
       ":   0\n",
       "\n",
       "\n",
       "**Levels**: 1. '0'\n",
       "2. '1'\n",
       "\n",
       "\n"
      ],
      "text/plain": [
       " 5  6  7  8  9 16 \n",
       " 0  0  0  0  0  0 \n",
       "Levels: 0 1"
      ]
     },
     "metadata": {},
     "output_type": "display_data"
    }
   ],
   "source": [
    "pred <- predict(rf, x)\n",
    "head(pred)"
   ]
  },
  {
   "cell_type": "code",
   "execution_count": 80,
   "id": "3800976b",
   "metadata": {},
   "outputs": [
    {
     "data": {
      "text/html": [
       "0.779026217228464"
      ],
      "text/latex": [
       "0.779026217228464"
      ],
      "text/markdown": [
       "0.779026217228464"
      ],
      "text/plain": [
       "[1] 0.7790262"
      ]
     },
     "metadata": {},
     "output_type": "display_data"
    },
    {
     "data": {
      "text/plain": [
       "    y\n",
       "pred   0   1\n",
       "   0 156  49\n",
       "   1  10  52"
      ]
     },
     "metadata": {},
     "output_type": "display_data"
    }
   ],
   "source": [
    "mean(pred == y)\n",
    "table(pred, y)"
   ]
  },
  {
   "cell_type": "code",
   "execution_count": 81,
   "id": "a951e645",
   "metadata": {},
   "outputs": [
    {
     "name": "stdout",
     "output_type": "stream",
     "text": [
      "# weights:  22\n",
      "initial  value 427.825740 \n",
      "iter  10 value 294.250115\n",
      "iter  20 value 259.763176\n",
      "iter  30 value 258.132133\n",
      "iter  40 value 258.027269\n",
      "iter  50 value 257.959894\n",
      "iter  60 value 257.880570\n",
      "iter  70 value 257.667377\n",
      "iter  80 value 257.593717\n",
      "iter  90 value 257.546649\n",
      "iter 100 value 257.543365\n",
      "final  value 257.543365 \n",
      "stopped after 100 iterations\n"
     ]
    },
    {
     "data": {
      "text/html": [
       "0.779026217228464"
      ],
      "text/latex": [
       "0.779026217228464"
      ],
      "text/markdown": [
       "0.779026217228464"
      ],
      "text/plain": [
       "[1] 0.7790262"
      ]
     },
     "metadata": {},
     "output_type": "display_data"
    }
   ],
   "source": [
    "# 인공신경망\n",
    "\n",
    "library(nnet)\n",
    "\n",
    "model.nnet <- function(x){\n",
    "\n",
    "    model.nnet <- nnet(Survived ~ ., data=data.train, size=3) \n",
    "\n",
    "    pred <- predict(model.nnet, x, type = \"class\")\n",
    "\n",
    "    per = mean(pred == y)\n",
    "    \n",
    "    return (per)\n",
    "}\n",
    "\n",
    "model.nnet(x)"
   ]
  },
  {
   "cell_type": "code",
   "execution_count": 82,
   "id": "5db0c824",
   "metadata": {},
   "outputs": [
    {
     "data": {
      "text/html": [
       "<table>\n",
       "<thead><tr><th scope=col>癤풮assengerId</th><th scope=col>Survived</th><th scope=col>Pclass</th><th scope=col>Name</th><th scope=col>Sex</th><th scope=col>Age</th><th scope=col>SibSp</th><th scope=col>Parch</th><th scope=col>Ticket</th><th scope=col>Fare</th><th scope=col>Cabin</th><th scope=col>Embarked</th></tr></thead>\n",
       "<tbody>\n",
       "\t<tr><td> 1                            </td><td>0                             </td><td>3                             </td><td>Braund, Mr. Owen Harris       </td><td>male                          </td><td>22                            </td><td>1                             </td><td>0                             </td><td>A/5 21171                     </td><td> 7.2500                       </td><td>                              </td><td>S                             </td></tr>\n",
       "\t<tr><td> 5                            </td><td>0                             </td><td>3                             </td><td>Allen, Mr. William Henry      </td><td>male                          </td><td>35                            </td><td>0                             </td><td>0                             </td><td>373450                        </td><td> 8.0500                       </td><td>                              </td><td>S                             </td></tr>\n",
       "\t<tr><td> 6                            </td><td>0                             </td><td>3                             </td><td>Moran, Mr. James              </td><td>male                          </td><td>NA                            </td><td>0                             </td><td>0                             </td><td>330877                        </td><td> 8.4583                       </td><td>                              </td><td>Q                             </td></tr>\n",
       "\t<tr><td> 7                            </td><td>0                             </td><td>1                             </td><td>McCarthy, Mr. Timothy J       </td><td>male                          </td><td>54                            </td><td>0                             </td><td>0                             </td><td>17463                         </td><td>51.8625                       </td><td>E46                           </td><td>S                             </td></tr>\n",
       "\t<tr><td> 8                            </td><td>0                             </td><td>3                             </td><td>Palsson, Master. Gosta Leonard</td><td>male                          </td><td> 2                            </td><td>3                             </td><td>1                             </td><td>349909                        </td><td>21.0750                       </td><td>                              </td><td>S                             </td></tr>\n",
       "\t<tr><td>13                            </td><td>0                             </td><td>3                             </td><td>Saundercock, Mr. William Henry</td><td>male                          </td><td>20                            </td><td>0                             </td><td>0                             </td><td>A/5. 2151                     </td><td> 8.0500                       </td><td>                              </td><td>S                             </td></tr>\n",
       "</tbody>\n",
       "</table>\n"
      ],
      "text/latex": [
       "\\begin{tabular}{r|llllllllllll}\n",
       " 癤풮assengerId & Survived & Pclass & Name & Sex & Age & SibSp & Parch & Ticket & Fare & Cabin & Embarked\\\\\n",
       "\\hline\n",
       "\t  1                             & 0                              & 3                              & Braund, Mr. Owen Harris        & male                           & 22                             & 1                              & 0                              & A/5 21171                      &  7.2500                        &                                & S                             \\\\\n",
       "\t  5                             & 0                              & 3                              & Allen, Mr. William Henry       & male                           & 35                             & 0                              & 0                              & 373450                         &  8.0500                        &                                & S                             \\\\\n",
       "\t  6                             & 0                              & 3                              & Moran, Mr. James               & male                           & NA                             & 0                              & 0                              & 330877                         &  8.4583                        &                                & Q                             \\\\\n",
       "\t  7                             & 0                              & 1                              & McCarthy, Mr. Timothy J        & male                           & 54                             & 0                              & 0                              & 17463                          & 51.8625                        & E46                            & S                             \\\\\n",
       "\t  8                             & 0                              & 3                              & Palsson, Master. Gosta Leonard & male                           &  2                             & 3                              & 1                              & 349909                         & 21.0750                        &                                & S                             \\\\\n",
       "\t 13                             & 0                              & 3                              & Saundercock, Mr. William Henry & male                           & 20                             & 0                              & 0                              & A/5. 2151                      &  8.0500                        &                                & S                             \\\\\n",
       "\\end{tabular}\n"
      ],
      "text/markdown": [
       "\n",
       "| 癤풮assengerId | Survived | Pclass | Name | Sex | Age | SibSp | Parch | Ticket | Fare | Cabin | Embarked |\n",
       "|---|---|---|---|---|---|---|---|---|---|---|---|\n",
       "|  1                             | 0                              | 3                              | Braund, Mr. Owen Harris        | male                           | 22                             | 1                              | 0                              | A/5 21171                      |  7.2500                        |                                | S                              |\n",
       "|  5                             | 0                              | 3                              | Allen, Mr. William Henry       | male                           | 35                             | 0                              | 0                              | 373450                         |  8.0500                        |                                | S                              |\n",
       "|  6                             | 0                              | 3                              | Moran, Mr. James               | male                           | NA                             | 0                              | 0                              | 330877                         |  8.4583                        |                                | Q                              |\n",
       "|  7                             | 0                              | 1                              | McCarthy, Mr. Timothy J        | male                           | 54                             | 0                              | 0                              | 17463                          | 51.8625                        | E46                            | S                              |\n",
       "|  8                             | 0                              | 3                              | Palsson, Master. Gosta Leonard | male                           |  2                             | 3                              | 1                              | 349909                         | 21.0750                        |                                | S                              |\n",
       "| 13                             | 0                              | 3                              | Saundercock, Mr. William Henry | male                           | 20                             | 0                              | 0                              | A/5. 2151                      |  8.0500                        |                                | S                              |\n",
       "\n"
      ],
      "text/plain": [
       "  癤풮assengerId Survived Pclass Name                           Sex  Age SibSp\n",
       "1  1             0        3      Braund, Mr. Owen Harris        male 22  1    \n",
       "2  5             0        3      Allen, Mr. William Henry       male 35  0    \n",
       "3  6             0        3      Moran, Mr. James               male NA  0    \n",
       "4  7             0        1      McCarthy, Mr. Timothy J        male 54  0    \n",
       "5  8             0        3      Palsson, Master. Gosta Leonard male  2  3    \n",
       "6 13             0        3      Saundercock, Mr. William Henry male 20  0    \n",
       "  Parch Ticket    Fare    Cabin Embarked\n",
       "1 0     A/5 21171  7.2500       S       \n",
       "2 0     373450     8.0500       S       \n",
       "3 0     330877     8.4583       Q       \n",
       "4 0     17463     51.8625 E46   S       \n",
       "5 1     349909    21.0750       S       \n",
       "6 0     A/5. 2151  8.0500       S       "
      ]
     },
     "metadata": {},
     "output_type": "display_data"
    },
    {
     "data": {
      "text/plain": [
       "\n",
       "0.42 0.67 0.75 0.83 0.92    1    2    3    4    5    6    7    8    9   10   11 \n",
       "   1    1    2    2    1    7   10    6   10    4    3    3    4    8    2    4 \n",
       "  12   13   14 14.5   15   16   17   18   19   20 20.5   21   22   23 23.5   24 \n",
       "   1    2    6    1    5   17   13   26   25   15    1   24   27   15    1   30 \n",
       "24.5   25   26   27   28 28.5   29   30 30.5   31   32 32.5   33   34 34.5   35 \n",
       "   1   23   18   18   25    2   20   25    2   17   18    2   15   15    1   18 \n",
       "  36 36.5   37   38   39   40 40.5   41   42   43   44   45 45.5   46   47   48 \n",
       "  22    1    6   11   14   13    2    6   13    5    9   12    2    3    9    9 \n",
       "  49   50   51   52   53   54   55 55.5   56   57   58   59   60   61   62   63 \n",
       "   6   10    7    6    1    8    2    1    4    2    5    2    4    3    4    2 \n",
       "  64   65   66   70 70.5   71   74   80 \n",
       "   2    3    1    2    1    2    1    1 "
      ]
     },
     "metadata": {},
     "output_type": "display_data"
    }
   ],
   "source": [
    "# 나이 컬럼 추가\n",
    "\n",
    "head(train_df)\n",
    "table(train_df$Age)\n",
    "\n",
    "# 18세 기준\n",
    "\n"
   ]
  },
  {
   "cell_type": "code",
   "execution_count": 83,
   "id": "224ed641",
   "metadata": {},
   "outputs": [
    {
     "data": {
      "text/html": [
       "<table>\n",
       "<thead><tr><th></th><th scope=col>癤풮assengerId</th><th scope=col>Survived</th><th scope=col>Pclass</th><th scope=col>Name</th><th scope=col>Sex</th><th scope=col>Age</th><th scope=col>SibSp</th><th scope=col>Parch</th><th scope=col>Ticket</th><th scope=col>Fare</th><th scope=col>Cabin</th><th scope=col>Embarked</th></tr></thead>\n",
       "<tbody>\n",
       "\t<tr><th scope=row>1</th><td> 1                            </td><td>0                             </td><td>3                             </td><td>Braund, Mr. Owen Harris       </td><td>male                          </td><td>22                            </td><td>1                             </td><td>0                             </td><td>A/5 21171                     </td><td> 7.2500                       </td><td>                              </td><td>S                             </td></tr>\n",
       "\t<tr><th scope=row>2</th><td> 5                            </td><td>0                             </td><td>3                             </td><td>Allen, Mr. William Henry      </td><td>male                          </td><td>35                            </td><td>0                             </td><td>0                             </td><td>373450                        </td><td> 8.0500                       </td><td>                              </td><td>S                             </td></tr>\n",
       "\t<tr><th scope=row>4</th><td> 7                            </td><td>0                             </td><td>1                             </td><td>McCarthy, Mr. Timothy J       </td><td>male                          </td><td>54                            </td><td>0                             </td><td>0                             </td><td>17463                         </td><td>51.8625                       </td><td>E46                           </td><td>S                             </td></tr>\n",
       "\t<tr><th scope=row>5</th><td> 8                            </td><td>0                             </td><td>3                             </td><td>Palsson, Master. Gosta Leonard</td><td>male                          </td><td> 2                            </td><td>3                             </td><td>1                             </td><td>349909                        </td><td>21.0750                       </td><td>                              </td><td>S                             </td></tr>\n",
       "\t<tr><th scope=row>6</th><td>13                            </td><td>0                             </td><td>3                             </td><td>Saundercock, Mr. William Henry</td><td>male                          </td><td>20                            </td><td>0                             </td><td>0                             </td><td>A/5. 2151                     </td><td> 8.0500                       </td><td>                              </td><td>S                             </td></tr>\n",
       "\t<tr><th scope=row>7</th><td>14                            </td><td>0                             </td><td>3                             </td><td>Andersson, Mr. Anders Johan   </td><td>male                          </td><td>39                            </td><td>1                             </td><td>5                             </td><td>347082                        </td><td>31.2750                       </td><td>                              </td><td>S                             </td></tr>\n",
       "</tbody>\n",
       "</table>\n"
      ],
      "text/latex": [
       "\\begin{tabular}{r|llllllllllll}\n",
       "  & 癤풮assengerId & Survived & Pclass & Name & Sex & Age & SibSp & Parch & Ticket & Fare & Cabin & Embarked\\\\\n",
       "\\hline\n",
       "\t1 &  1                             & 0                              & 3                              & Braund, Mr. Owen Harris        & male                           & 22                             & 1                              & 0                              & A/5 21171                      &  7.2500                        &                                & S                             \\\\\n",
       "\t2 &  5                             & 0                              & 3                              & Allen, Mr. William Henry       & male                           & 35                             & 0                              & 0                              & 373450                         &  8.0500                        &                                & S                             \\\\\n",
       "\t4 &  7                             & 0                              & 1                              & McCarthy, Mr. Timothy J        & male                           & 54                             & 0                              & 0                              & 17463                          & 51.8625                        & E46                            & S                             \\\\\n",
       "\t5 &  8                             & 0                              & 3                              & Palsson, Master. Gosta Leonard & male                           &  2                             & 3                              & 1                              & 349909                         & 21.0750                        &                                & S                             \\\\\n",
       "\t6 & 13                             & 0                              & 3                              & Saundercock, Mr. William Henry & male                           & 20                             & 0                              & 0                              & A/5. 2151                      &  8.0500                        &                                & S                             \\\\\n",
       "\t7 & 14                             & 0                              & 3                              & Andersson, Mr. Anders Johan    & male                           & 39                             & 1                              & 5                              & 347082                         & 31.2750                        &                                & S                             \\\\\n",
       "\\end{tabular}\n"
      ],
      "text/markdown": [
       "\n",
       "| <!--/--> | 癤풮assengerId | Survived | Pclass | Name | Sex | Age | SibSp | Parch | Ticket | Fare | Cabin | Embarked |\n",
       "|---|---|---|---|---|---|---|---|---|---|---|---|---|\n",
       "| 1 |  1                             | 0                              | 3                              | Braund, Mr. Owen Harris        | male                           | 22                             | 1                              | 0                              | A/5 21171                      |  7.2500                        |                                | S                              |\n",
       "| 2 |  5                             | 0                              | 3                              | Allen, Mr. William Henry       | male                           | 35                             | 0                              | 0                              | 373450                         |  8.0500                        |                                | S                              |\n",
       "| 4 |  7                             | 0                              | 1                              | McCarthy, Mr. Timothy J        | male                           | 54                             | 0                              | 0                              | 17463                          | 51.8625                        | E46                            | S                              |\n",
       "| 5 |  8                             | 0                              | 3                              | Palsson, Master. Gosta Leonard | male                           |  2                             | 3                              | 1                              | 349909                         | 21.0750                        |                                | S                              |\n",
       "| 6 | 13                             | 0                              | 3                              | Saundercock, Mr. William Henry | male                           | 20                             | 0                              | 0                              | A/5. 2151                      |  8.0500                        |                                | S                              |\n",
       "| 7 | 14                             | 0                              | 3                              | Andersson, Mr. Anders Johan    | male                           | 39                             | 1                              | 5                              | 347082                         | 31.2750                        |                                | S                              |\n",
       "\n"
      ],
      "text/plain": [
       "  癤풮assengerId Survived Pclass Name                           Sex  Age SibSp\n",
       "1  1             0        3      Braund, Mr. Owen Harris        male 22  1    \n",
       "2  5             0        3      Allen, Mr. William Henry       male 35  0    \n",
       "4  7             0        1      McCarthy, Mr. Timothy J        male 54  0    \n",
       "5  8             0        3      Palsson, Master. Gosta Leonard male  2  3    \n",
       "6 13             0        3      Saundercock, Mr. William Henry male 20  0    \n",
       "7 14             0        3      Andersson, Mr. Anders Johan    male 39  1    \n",
       "  Parch Ticket    Fare    Cabin Embarked\n",
       "1 0     A/5 21171  7.2500       S       \n",
       "2 0     373450     8.0500       S       \n",
       "4 0     17463     51.8625 E46   S       \n",
       "5 1     349909    21.0750       S       \n",
       "6 0     A/5. 2151  8.0500       S       \n",
       "7 5     347082    31.2750       S       "
      ]
     },
     "metadata": {},
     "output_type": "display_data"
    },
    {
     "data": {
      "text/html": [
       "<table>\n",
       "<thead><tr><th></th><th scope=col>癤풮assengerId</th><th scope=col>Survived</th><th scope=col>Pclass</th><th scope=col>Name</th><th scope=col>Sex</th><th scope=col>Age</th><th scope=col>SibSp</th><th scope=col>Parch</th><th scope=col>Ticket</th><th scope=col>Fare</th><th scope=col>Cabin</th><th scope=col>Embarked</th></tr></thead>\n",
       "<tbody>\n",
       "\t<tr><th scope=row>886</th><td>875                                          </td><td>1                                            </td><td>2                                            </td><td>Abelson, Mrs. Samuel (Hannah Wizosky)        </td><td>female                                       </td><td>28                                           </td><td>1                                            </td><td>0                                            </td><td>P/PP 3381                                    </td><td>24.0000                                      </td><td>                                             </td><td>C                                            </td></tr>\n",
       "\t<tr><th scope=row>887</th><td>876                                          </td><td>1                                            </td><td>3                                            </td><td>Najib, Miss. Adele Kiamie \"Jane\"             </td><td>female                                       </td><td>15                                           </td><td>0                                            </td><td>0                                            </td><td>2667                                         </td><td> 7.2250                                      </td><td>                                             </td><td>C                                            </td></tr>\n",
       "\t<tr><th scope=row>888</th><td>880                                          </td><td>1                                            </td><td>1                                            </td><td>Potter, Mrs. Thomas Jr (Lily Alexenia Wilson)</td><td>female                                       </td><td>56                                           </td><td>0                                            </td><td>1                                            </td><td>11767                                        </td><td>83.1583                                      </td><td>C50                                          </td><td>C                                            </td></tr>\n",
       "\t<tr><th scope=row>889</th><td>881                                          </td><td>1                                            </td><td>2                                            </td><td>Shelley, Mrs. William (Imanita Parrish Hall) </td><td>female                                       </td><td>25                                           </td><td>0                                            </td><td>1                                            </td><td>230433                                       </td><td>26.0000                                      </td><td>                                             </td><td>S                                            </td></tr>\n",
       "\t<tr><th scope=row>890</th><td>888                                          </td><td>1                                            </td><td>1                                            </td><td>Graham, Miss. Margaret Edith                 </td><td>female                                       </td><td>19                                           </td><td>0                                            </td><td>0                                            </td><td>112053                                       </td><td>30.0000                                      </td><td>B42                                          </td><td>S                                            </td></tr>\n",
       "\t<tr><th scope=row>891</th><td>890                                          </td><td>1                                            </td><td>1                                            </td><td>Behr, Mr. Karl Howell                        </td><td>male                                         </td><td>26                                           </td><td>0                                            </td><td>0                                            </td><td>111369                                       </td><td>30.0000                                      </td><td>C148                                         </td><td>C                                            </td></tr>\n",
       "</tbody>\n",
       "</table>\n"
      ],
      "text/latex": [
       "\\begin{tabular}{r|llllllllllll}\n",
       "  & 癤풮assengerId & Survived & Pclass & Name & Sex & Age & SibSp & Parch & Ticket & Fare & Cabin & Embarked\\\\\n",
       "\\hline\n",
       "\t886 & 875                                           & 1                                             & 2                                             & Abelson, Mrs. Samuel (Hannah Wizosky)         & female                                        & 28                                            & 1                                             & 0                                             & P/PP 3381                                     & 24.0000                                       &                                               & C                                            \\\\\n",
       "\t887 & 876                                           & 1                                             & 3                                             & Najib, Miss. Adele Kiamie \"Jane\"              & female                                        & 15                                            & 0                                             & 0                                             & 2667                                          &  7.2250                                       &                                               & C                                            \\\\\n",
       "\t888 & 880                                           & 1                                             & 1                                             & Potter, Mrs. Thomas Jr (Lily Alexenia Wilson) & female                                        & 56                                            & 0                                             & 1                                             & 11767                                         & 83.1583                                       & C50                                           & C                                            \\\\\n",
       "\t889 & 881                                           & 1                                             & 2                                             & Shelley, Mrs. William (Imanita Parrish Hall)  & female                                        & 25                                            & 0                                             & 1                                             & 230433                                        & 26.0000                                       &                                               & S                                            \\\\\n",
       "\t890 & 888                                           & 1                                             & 1                                             & Graham, Miss. Margaret Edith                  & female                                        & 19                                            & 0                                             & 0                                             & 112053                                        & 30.0000                                       & B42                                           & S                                            \\\\\n",
       "\t891 & 890                                           & 1                                             & 1                                             & Behr, Mr. Karl Howell                         & male                                          & 26                                            & 0                                             & 0                                             & 111369                                        & 30.0000                                       & C148                                          & C                                            \\\\\n",
       "\\end{tabular}\n"
      ],
      "text/markdown": [
       "\n",
       "| <!--/--> | 癤풮assengerId | Survived | Pclass | Name | Sex | Age | SibSp | Parch | Ticket | Fare | Cabin | Embarked |\n",
       "|---|---|---|---|---|---|---|---|---|---|---|---|---|\n",
       "| 886 | 875                                           | 1                                             | 2                                             | Abelson, Mrs. Samuel (Hannah Wizosky)         | female                                        | 28                                            | 1                                             | 0                                             | P/PP 3381                                     | 24.0000                                       |                                               | C                                             |\n",
       "| 887 | 876                                           | 1                                             | 3                                             | Najib, Miss. Adele Kiamie \"Jane\"              | female                                        | 15                                            | 0                                             | 0                                             | 2667                                          |  7.2250                                       |                                               | C                                             |\n",
       "| 888 | 880                                           | 1                                             | 1                                             | Potter, Mrs. Thomas Jr (Lily Alexenia Wilson) | female                                        | 56                                            | 0                                             | 1                                             | 11767                                         | 83.1583                                       | C50                                           | C                                             |\n",
       "| 889 | 881                                           | 1                                             | 2                                             | Shelley, Mrs. William (Imanita Parrish Hall)  | female                                        | 25                                            | 0                                             | 1                                             | 230433                                        | 26.0000                                       |                                               | S                                             |\n",
       "| 890 | 888                                           | 1                                             | 1                                             | Graham, Miss. Margaret Edith                  | female                                        | 19                                            | 0                                             | 0                                             | 112053                                        | 30.0000                                       | B42                                           | S                                             |\n",
       "| 891 | 890                                           | 1                                             | 1                                             | Behr, Mr. Karl Howell                         | male                                          | 26                                            | 0                                             | 0                                             | 111369                                        | 30.0000                                       | C148                                          | C                                             |\n",
       "\n"
      ],
      "text/plain": [
       "    癤풮assengerId Survived Pclass\n",
       "886 875            1        2     \n",
       "887 876            1        3     \n",
       "888 880            1        1     \n",
       "889 881            1        2     \n",
       "890 888            1        1     \n",
       "891 890            1        1     \n",
       "    Name                                          Sex    Age SibSp Parch\n",
       "886 Abelson, Mrs. Samuel (Hannah Wizosky)         female 28  1     0    \n",
       "887 Najib, Miss. Adele Kiamie \"Jane\"              female 15  0     0    \n",
       "888 Potter, Mrs. Thomas Jr (Lily Alexenia Wilson) female 56  0     1    \n",
       "889 Shelley, Mrs. William (Imanita Parrish Hall)  female 25  0     1    \n",
       "890 Graham, Miss. Margaret Edith                  female 19  0     0    \n",
       "891 Behr, Mr. Karl Howell                         male   26  0     0    \n",
       "    Ticket    Fare    Cabin Embarked\n",
       "886 P/PP 3381 24.0000       C       \n",
       "887 2667       7.2250       C       \n",
       "888 11767     83.1583 C50   C       \n",
       "889 230433    26.0000       S       \n",
       "890 112053    30.0000 B42   S       \n",
       "891 111369    30.0000 C148  C       "
      ]
     },
     "metadata": {},
     "output_type": "display_data"
    },
    {
     "data": {
      "text/html": [
       "0"
      ],
      "text/latex": [
       "0"
      ],
      "text/markdown": [
       "0"
      ],
      "text/plain": [
       "[1] 0"
      ]
     },
     "metadata": {},
     "output_type": "display_data"
    }
   ],
   "source": [
    "train_df_T <- train_df[!is.na(train_df_T$Age),]\n",
    "\n",
    "head(train_df_T)\n",
    "tail(train_df_T)\n",
    "sum(is.na(train_df_T))\n"
   ]
  },
  {
   "cell_type": "code",
   "execution_count": 122,
   "id": "9603cab0",
   "metadata": {
    "scrolled": true
   },
   "outputs": [
    {
     "data": {
      "text/plain": [
       "\n",
       "  0   1 \n",
       " 68 646 "
      ]
     },
     "metadata": {},
     "output_type": "display_data"
    },
    {
     "data": {
      "text/plain": [
       "\n",
       "FALSE  TRUE \n",
       "  629    85 "
      ]
     },
     "metadata": {},
     "output_type": "display_data"
    },
    {
     "data": {
      "text/plain": [
       "\n",
       "FALSE  TRUE \n",
       "  640    74 "
      ]
     },
     "metadata": {},
     "output_type": "display_data"
    },
    {
     "data": {
      "text/plain": [
       "\n",
       "FALSE  TRUE \n",
       "  612   102 "
      ]
     },
     "metadata": {},
     "output_type": "display_data"
    },
    {
     "data": {
      "text/html": [
       "<table>\n",
       "<thead><tr><th></th><th scope=col>Survived</th><th scope=col>SexCode</th><th scope=col>Embarked_C</th><th scope=col>Embarked_S</th><th scope=col>Embarked_Q</th><th scope=col>AgeCode</th><th scope=col>P1Female</th><th scope=col>P2Female</th><th scope=col>P3Female</th><th scope=col>P1Child</th><th scope=col>P2Child</th><th scope=col>P3Child</th></tr></thead>\n",
       "<tbody>\n",
       "\t<tr><th scope=row>1</th><td>0    </td><td>0    </td><td>FALSE</td><td>TRUE </td><td>FALSE</td><td>1    </td><td>FALSE</td><td>FALSE</td><td>FALSE</td><td>FALSE</td><td>FALSE</td><td>FALSE</td></tr>\n",
       "\t<tr><th scope=row>2</th><td>0    </td><td>0    </td><td>FALSE</td><td>TRUE </td><td>FALSE</td><td>1    </td><td>FALSE</td><td>FALSE</td><td>FALSE</td><td>FALSE</td><td>FALSE</td><td>FALSE</td></tr>\n",
       "\t<tr><th scope=row>4</th><td>0    </td><td>0    </td><td>FALSE</td><td>TRUE </td><td>FALSE</td><td>1    </td><td>FALSE</td><td>FALSE</td><td>FALSE</td><td>FALSE</td><td>FALSE</td><td>FALSE</td></tr>\n",
       "\t<tr><th scope=row>5</th><td>0    </td><td>0    </td><td>FALSE</td><td>TRUE </td><td>FALSE</td><td>0    </td><td>FALSE</td><td>FALSE</td><td>FALSE</td><td>FALSE</td><td>FALSE</td><td> TRUE</td></tr>\n",
       "\t<tr><th scope=row>6</th><td>0    </td><td>0    </td><td>FALSE</td><td>TRUE </td><td>FALSE</td><td>1    </td><td>FALSE</td><td>FALSE</td><td>FALSE</td><td>FALSE</td><td>FALSE</td><td>FALSE</td></tr>\n",
       "\t<tr><th scope=row>7</th><td>0    </td><td>0    </td><td>FALSE</td><td>TRUE </td><td>FALSE</td><td>1    </td><td>FALSE</td><td>FALSE</td><td>FALSE</td><td>FALSE</td><td>FALSE</td><td>FALSE</td></tr>\n",
       "</tbody>\n",
       "</table>\n"
      ],
      "text/latex": [
       "\\begin{tabular}{r|llllllllllll}\n",
       "  & Survived & SexCode & Embarked\\_C & Embarked\\_S & Embarked\\_Q & AgeCode & P1Female & P2Female & P3Female & P1Child & P2Child & P3Child\\\\\n",
       "\\hline\n",
       "\t1 & 0     & 0     & FALSE & TRUE  & FALSE & 1     & FALSE & FALSE & FALSE & FALSE & FALSE & FALSE\\\\\n",
       "\t2 & 0     & 0     & FALSE & TRUE  & FALSE & 1     & FALSE & FALSE & FALSE & FALSE & FALSE & FALSE\\\\\n",
       "\t4 & 0     & 0     & FALSE & TRUE  & FALSE & 1     & FALSE & FALSE & FALSE & FALSE & FALSE & FALSE\\\\\n",
       "\t5 & 0     & 0     & FALSE & TRUE  & FALSE & 0     & FALSE & FALSE & FALSE & FALSE & FALSE &  TRUE\\\\\n",
       "\t6 & 0     & 0     & FALSE & TRUE  & FALSE & 1     & FALSE & FALSE & FALSE & FALSE & FALSE & FALSE\\\\\n",
       "\t7 & 0     & 0     & FALSE & TRUE  & FALSE & 1     & FALSE & FALSE & FALSE & FALSE & FALSE & FALSE\\\\\n",
       "\\end{tabular}\n"
      ],
      "text/markdown": [
       "\n",
       "| <!--/--> | Survived | SexCode | Embarked_C | Embarked_S | Embarked_Q | AgeCode | P1Female | P2Female | P3Female | P1Child | P2Child | P3Child |\n",
       "|---|---|---|---|---|---|---|---|---|---|---|---|---|\n",
       "| 1 | 0     | 0     | FALSE | TRUE  | FALSE | 1     | FALSE | FALSE | FALSE | FALSE | FALSE | FALSE |\n",
       "| 2 | 0     | 0     | FALSE | TRUE  | FALSE | 1     | FALSE | FALSE | FALSE | FALSE | FALSE | FALSE |\n",
       "| 4 | 0     | 0     | FALSE | TRUE  | FALSE | 1     | FALSE | FALSE | FALSE | FALSE | FALSE | FALSE |\n",
       "| 5 | 0     | 0     | FALSE | TRUE  | FALSE | 0     | FALSE | FALSE | FALSE | FALSE | FALSE |  TRUE |\n",
       "| 6 | 0     | 0     | FALSE | TRUE  | FALSE | 1     | FALSE | FALSE | FALSE | FALSE | FALSE | FALSE |\n",
       "| 7 | 0     | 0     | FALSE | TRUE  | FALSE | 1     | FALSE | FALSE | FALSE | FALSE | FALSE | FALSE |\n",
       "\n"
      ],
      "text/plain": [
       "  Survived SexCode Embarked_C Embarked_S Embarked_Q AgeCode P1Female P2Female\n",
       "1 0        0       FALSE      TRUE       FALSE      1       FALSE    FALSE   \n",
       "2 0        0       FALSE      TRUE       FALSE      1       FALSE    FALSE   \n",
       "4 0        0       FALSE      TRUE       FALSE      1       FALSE    FALSE   \n",
       "5 0        0       FALSE      TRUE       FALSE      0       FALSE    FALSE   \n",
       "6 0        0       FALSE      TRUE       FALSE      1       FALSE    FALSE   \n",
       "7 0        0       FALSE      TRUE       FALSE      1       FALSE    FALSE   \n",
       "  P3Female P1Child P2Child P3Child\n",
       "1 FALSE    FALSE   FALSE   FALSE  \n",
       "2 FALSE    FALSE   FALSE   FALSE  \n",
       "4 FALSE    FALSE   FALSE   FALSE  \n",
       "5 FALSE    FALSE   FALSE    TRUE  \n",
       "6 FALSE    FALSE   FALSE   FALSE  \n",
       "7 FALSE    FALSE   FALSE   FALSE  "
      ]
     },
     "metadata": {},
     "output_type": "display_data"
    },
    {
     "data": {
      "text/html": [
       "<table>\n",
       "<thead><tr><th></th><th scope=col>Survived</th><th scope=col>SexCode</th><th scope=col>Embarked_C</th><th scope=col>Embarked_S</th><th scope=col>Embarked_Q</th><th scope=col>AgeCode</th><th scope=col>P1Female</th><th scope=col>P2Female</th><th scope=col>P3Female</th><th scope=col>P1Child</th><th scope=col>P2Child</th><th scope=col>P3Child</th></tr></thead>\n",
       "<tbody>\n",
       "\t<tr><th scope=row>886</th><td>1    </td><td>1    </td><td> TRUE</td><td>FALSE</td><td>FALSE</td><td>1    </td><td>FALSE</td><td> TRUE</td><td>FALSE</td><td>FALSE</td><td>FALSE</td><td>FALSE</td></tr>\n",
       "\t<tr><th scope=row>887</th><td>1    </td><td>1    </td><td> TRUE</td><td>FALSE</td><td>FALSE</td><td>1    </td><td>FALSE</td><td>FALSE</td><td> TRUE</td><td>FALSE</td><td>FALSE</td><td>FALSE</td></tr>\n",
       "\t<tr><th scope=row>888</th><td>1    </td><td>1    </td><td> TRUE</td><td>FALSE</td><td>FALSE</td><td>1    </td><td> TRUE</td><td>FALSE</td><td>FALSE</td><td>FALSE</td><td>FALSE</td><td>FALSE</td></tr>\n",
       "\t<tr><th scope=row>889</th><td>1    </td><td>1    </td><td>FALSE</td><td> TRUE</td><td>FALSE</td><td>1    </td><td>FALSE</td><td> TRUE</td><td>FALSE</td><td>FALSE</td><td>FALSE</td><td>FALSE</td></tr>\n",
       "\t<tr><th scope=row>890</th><td>1    </td><td>1    </td><td>FALSE</td><td> TRUE</td><td>FALSE</td><td>1    </td><td> TRUE</td><td>FALSE</td><td>FALSE</td><td>FALSE</td><td>FALSE</td><td>FALSE</td></tr>\n",
       "\t<tr><th scope=row>891</th><td>1    </td><td>0    </td><td> TRUE</td><td>FALSE</td><td>FALSE</td><td>1    </td><td>FALSE</td><td>FALSE</td><td>FALSE</td><td>FALSE</td><td>FALSE</td><td>FALSE</td></tr>\n",
       "</tbody>\n",
       "</table>\n"
      ],
      "text/latex": [
       "\\begin{tabular}{r|llllllllllll}\n",
       "  & Survived & SexCode & Embarked\\_C & Embarked\\_S & Embarked\\_Q & AgeCode & P1Female & P2Female & P3Female & P1Child & P2Child & P3Child\\\\\n",
       "\\hline\n",
       "\t886 & 1     & 1     &  TRUE & FALSE & FALSE & 1     & FALSE &  TRUE & FALSE & FALSE & FALSE & FALSE\\\\\n",
       "\t887 & 1     & 1     &  TRUE & FALSE & FALSE & 1     & FALSE & FALSE &  TRUE & FALSE & FALSE & FALSE\\\\\n",
       "\t888 & 1     & 1     &  TRUE & FALSE & FALSE & 1     &  TRUE & FALSE & FALSE & FALSE & FALSE & FALSE\\\\\n",
       "\t889 & 1     & 1     & FALSE &  TRUE & FALSE & 1     & FALSE &  TRUE & FALSE & FALSE & FALSE & FALSE\\\\\n",
       "\t890 & 1     & 1     & FALSE &  TRUE & FALSE & 1     &  TRUE & FALSE & FALSE & FALSE & FALSE & FALSE\\\\\n",
       "\t891 & 1     & 0     &  TRUE & FALSE & FALSE & 1     & FALSE & FALSE & FALSE & FALSE & FALSE & FALSE\\\\\n",
       "\\end{tabular}\n"
      ],
      "text/markdown": [
       "\n",
       "| <!--/--> | Survived | SexCode | Embarked_C | Embarked_S | Embarked_Q | AgeCode | P1Female | P2Female | P3Female | P1Child | P2Child | P3Child |\n",
       "|---|---|---|---|---|---|---|---|---|---|---|---|---|\n",
       "| 886 | 1     | 1     |  TRUE | FALSE | FALSE | 1     | FALSE |  TRUE | FALSE | FALSE | FALSE | FALSE |\n",
       "| 887 | 1     | 1     |  TRUE | FALSE | FALSE | 1     | FALSE | FALSE |  TRUE | FALSE | FALSE | FALSE |\n",
       "| 888 | 1     | 1     |  TRUE | FALSE | FALSE | 1     |  TRUE | FALSE | FALSE | FALSE | FALSE | FALSE |\n",
       "| 889 | 1     | 1     | FALSE |  TRUE | FALSE | 1     | FALSE |  TRUE | FALSE | FALSE | FALSE | FALSE |\n",
       "| 890 | 1     | 1     | FALSE |  TRUE | FALSE | 1     |  TRUE | FALSE | FALSE | FALSE | FALSE | FALSE |\n",
       "| 891 | 1     | 0     |  TRUE | FALSE | FALSE | 1     | FALSE | FALSE | FALSE | FALSE | FALSE | FALSE |\n",
       "\n"
      ],
      "text/plain": [
       "    Survived SexCode Embarked_C Embarked_S Embarked_Q AgeCode P1Female P2Female\n",
       "886 1        1        TRUE      FALSE      FALSE      1       FALSE     TRUE   \n",
       "887 1        1        TRUE      FALSE      FALSE      1       FALSE    FALSE   \n",
       "888 1        1        TRUE      FALSE      FALSE      1        TRUE    FALSE   \n",
       "889 1        1       FALSE       TRUE      FALSE      1       FALSE     TRUE   \n",
       "890 1        1       FALSE       TRUE      FALSE      1        TRUE    FALSE   \n",
       "891 1        0        TRUE      FALSE      FALSE      1       FALSE    FALSE   \n",
       "    P3Female P1Child P2Child P3Child\n",
       "886 FALSE    FALSE   FALSE   FALSE  \n",
       "887  TRUE    FALSE   FALSE   FALSE  \n",
       "888 FALSE    FALSE   FALSE   FALSE  \n",
       "889 FALSE    FALSE   FALSE   FALSE  \n",
       "890 FALSE    FALSE   FALSE   FALSE  \n",
       "891 FALSE    FALSE   FALSE   FALSE  "
      ]
     },
     "metadata": {},
     "output_type": "display_data"
    }
   ],
   "source": [
    "# Pclass 1~3 계층의 여성\n",
    "\n",
    "# 과대적합 : 트레이닝 데이터의 적중률 보다 테스트 데이터 데이터의 적중률이 10%이상 낮을 시 과대적합이라고 한다.\n",
    "\n",
    "# Sex 컬럼을 숫자로 전환\n",
    "train_df_T$AgeCode[train_df_T$Age > 11] <- 1\n",
    "train_df_T$AgeCode[train_df_T$Age <= 11] <- 0\n",
    "\n",
    "train_df_T$SexCode[train_df_T$Sex == \"male\"] <- 0\n",
    "train_df_T$SexCode[train_df_T$Sex == \"female\"] <- 1\n",
    "\n",
    "train_df_T$Embarked_C = train_df_T$Embarked == 'C'\n",
    "train_df_T$Embarked_S = train_df_T$Embarked == 'S'\n",
    "train_df_T$Embarked_Q = train_df_T$Embarked == 'Q'\n",
    "\n",
    "# Pclass별 여성, 아동 컬럼\n",
    "# Pclass 1 female\n",
    "train_df_T$P1Female = train_df_T$Pclass == 1 & train_df_T$SexCode == 1\n",
    "# Pclass 2 female\n",
    "train_df_T$P2Female = train_df_T$Pclass == 2 & train_df_T$SexCode == 1\n",
    "# Pclass 3 female\n",
    "train_df_T$P3Female = train_df_T$Pclass == 3 & train_df_T$SexCode == 1\n",
    "\n",
    "# Pclass 1 어린이(11세이하)\n",
    "train_df_T$P1Child = train_df_T$Pclass == 1 & train_df_T$AgeCode == 0\n",
    "# Pclass 2 어린이(11세이하)\n",
    "train_df_T$P2Child = train_df_T$Pclass == 2 & train_df_T$AgeCode == 0\n",
    "# Pclass 3 어린이(11세이하)\n",
    "train_df_T$P3Child = train_df_T$Pclass == 3 & train_df_T$AgeCode == 0\n",
    "\n",
    "\n",
    "target_col = c(\"Survived\", \"SexCode\", \n",
    "               \"Embarked_C\", \"Embarked_S\", \"Embarked_Q\", \"AgeCode\",\n",
    "               \"P1Female\", \"P2Female\", \"P3Female\",\n",
    "               \"P1Child\", \"P2Child\", \"P3Child\")\n",
    "\n",
    "# 18세 이상은 1로 이하는 0으로 바꾸기\n",
    "\n",
    "train_data <- train_df_T[,target_col]\n",
    "table(train_df_T$AgeCode)\n",
    "table(train_df_T$P1Female)\n",
    "table(train_df_T$P2Female)\n",
    "table(train_df_T$P3Female)\n",
    "head(train_data)\n",
    "tail(train_data)\n"
   ]
  },
  {
   "cell_type": "code",
   "execution_count": 85,
   "id": "fb0c299b",
   "metadata": {},
   "outputs": [
    {
     "data": {
      "text/plain": [
       "\n",
       "  0   1 \n",
       "424 290 "
      ]
     },
     "metadata": {},
     "output_type": "display_data"
    },
    {
     "name": "stdout",
     "output_type": "stream",
     "text": [
      "'data.frame':\t500 obs. of  12 variables:\n",
      " $ Survived  : int  0 0 0 0 0 0 0 0 0 0 ...\n",
      " $ SexCode   : num  0 0 0 0 1 0 0 0 0 1 ...\n",
      " $ Embarked_C: logi  FALSE FALSE FALSE FALSE FALSE FALSE ...\n",
      " $ Embarked_S: logi  TRUE TRUE TRUE TRUE TRUE TRUE ...\n",
      " $ Embarked_Q: logi  FALSE FALSE FALSE FALSE FALSE FALSE ...\n",
      " $ AgeCode   : num  1 1 0 1 0 1 1 1 1 1 ...\n",
      " $ P1Female  : logi  FALSE FALSE FALSE FALSE FALSE FALSE ...\n",
      " $ P2Female  : logi  FALSE FALSE FALSE FALSE FALSE FALSE ...\n",
      " $ P3Female  : logi  FALSE FALSE FALSE FALSE TRUE FALSE ...\n",
      " $ P1Child   : logi  FALSE FALSE FALSE FALSE FALSE FALSE ...\n",
      " $ P2Child   : logi  FALSE FALSE FALSE FALSE FALSE FALSE ...\n",
      " $ P3Child   : logi  FALSE FALSE TRUE FALSE TRUE FALSE ...\n",
      "'data.frame':\t214 obs. of  12 variables:\n",
      " $ Survived  : int  0 0 0 0 0 0 0 0 0 0 ...\n",
      " $ SexCode   : num  0 0 0 1 0 1 0 0 1 1 ...\n",
      " $ Embarked_C: logi  FALSE FALSE FALSE FALSE FALSE FALSE ...\n",
      " $ Embarked_S: logi  TRUE TRUE TRUE TRUE FALSE TRUE ...\n",
      " $ Embarked_Q: logi  FALSE FALSE FALSE FALSE TRUE FALSE ...\n",
      " $ AgeCode   : num  1 1 1 1 0 1 1 1 1 1 ...\n",
      " $ P1Female  : logi  FALSE FALSE FALSE FALSE FALSE FALSE ...\n",
      " $ P2Female  : logi  FALSE FALSE FALSE FALSE FALSE FALSE ...\n",
      " $ P3Female  : logi  FALSE FALSE FALSE TRUE FALSE TRUE ...\n",
      " $ P1Child   : logi  FALSE FALSE FALSE FALSE FALSE FALSE ...\n",
      " $ P2Child   : logi  FALSE FALSE FALSE FALSE FALSE FALSE ...\n",
      " $ P3Child   : logi  FALSE FALSE FALSE FALSE TRUE FALSE ...\n"
     ]
    }
   ],
   "source": [
    "set.seed(1234)\n",
    "\n",
    "table(train_data$Survived)\n",
    "samp <- createDataPartition(train_data$Survived, p=0.7, list=F)\n",
    "\n",
    "data.train <- train_data[samp,]\n",
    "str(data.train)\n",
    "\n",
    "data.test <- train_data[-samp,]\n",
    "str(data.test)\n",
    "\n",
    "data.train$Survived <- as.factor(data.train$Survived)\n",
    "data.test$Survived <- as.factor(data.test$Survived)"
   ]
  },
  {
   "cell_type": "code",
   "execution_count": 127,
   "id": "13ce1cfa",
   "metadata": {},
   "outputs": [
    {
     "name": "stdout",
     "output_type": "stream",
     "text": [
      "# weights:  40\n",
      "initial  value 362.252436 \n",
      "iter  10 value 243.212223\n",
      "iter  20 value 220.285733\n",
      "iter  30 value 217.491198\n",
      "iter  40 value 216.087433\n",
      "iter  50 value 215.989056\n",
      "iter  60 value 215.925488\n",
      "iter  70 value 215.864770\n",
      "iter  80 value 215.823909\n",
      "iter  90 value 215.818683\n",
      "iter 100 value 215.812729\n",
      "final  value 215.812729 \n",
      "stopped after 100 iterations\n",
      "# weights:  40\n",
      "initial  value 368.519925 \n",
      "iter  10 value 221.105507\n",
      "iter  20 value 213.817071\n",
      "iter  30 value 211.705449\n",
      "iter  40 value 211.268260\n",
      "iter  50 value 211.096218\n",
      "iter  60 value 210.999306\n",
      "iter  70 value 210.939301\n",
      "iter  80 value 210.915055\n",
      "iter  90 value 210.912893\n",
      "iter 100 value 210.908662\n",
      "final  value 210.908662 \n",
      "stopped after 100 iterations\n",
      "# weights:  40\n",
      "initial  value 340.136553 \n",
      "iter  10 value 224.402820\n",
      "iter  20 value 213.228135\n",
      "iter  30 value 211.631513\n",
      "iter  40 value 211.045296\n",
      "iter  50 value 210.823407\n",
      "iter  60 value 210.800925\n",
      "iter  70 value 210.791765\n",
      "iter  80 value 210.789316\n",
      "final  value 210.789170 \n",
      "converged\n",
      "# weights:  40\n",
      "initial  value 421.314292 \n",
      "iter  10 value 282.537255\n",
      "iter  20 value 222.693904\n",
      "iter  30 value 218.175059\n",
      "iter  40 value 215.702609\n",
      "iter  50 value 215.467024\n",
      "iter  60 value 215.460369\n",
      "iter  70 value 215.459516\n",
      "final  value 215.459456 \n",
      "converged\n",
      "# weights:  40\n",
      "initial  value 354.868154 \n",
      "iter  10 value 228.824471\n",
      "iter  20 value 218.893837\n",
      "iter  30 value 215.902486\n",
      "iter  40 value 214.470384\n",
      "iter  50 value 213.965330\n",
      "iter  60 value 213.872245\n",
      "iter  70 value 213.860101\n",
      "iter  80 value 213.859300\n",
      "final  value 213.859269 \n",
      "converged\n",
      "# weights:  40\n",
      "initial  value 337.767600 \n",
      "iter  10 value 221.571378\n",
      "iter  20 value 216.303348\n",
      "iter  30 value 213.922541\n",
      "iter  40 value 213.563453\n",
      "iter  50 value 213.074658\n",
      "iter  60 value 212.968212\n",
      "iter  70 value 212.943386\n",
      "iter  80 value 212.934516\n",
      "iter  90 value 212.932532\n",
      "final  value 212.932328 \n",
      "converged\n",
      "# weights:  40\n",
      "initial  value 341.556213 \n",
      "iter  10 value 226.299510\n",
      "iter  20 value 216.418926\n",
      "iter  30 value 215.415267\n",
      "iter  40 value 214.962384\n",
      "iter  50 value 212.555010\n",
      "iter  60 value 211.330196\n",
      "iter  70 value 211.261506\n",
      "iter  80 value 210.885723\n",
      "iter  90 value 210.472412\n",
      "iter 100 value 210.424519\n",
      "final  value 210.424519 \n",
      "stopped after 100 iterations\n",
      "# weights:  40\n",
      "initial  value 338.772653 \n",
      "iter  10 value 221.750396\n",
      "iter  20 value 217.308878\n",
      "iter  30 value 215.017845\n",
      "iter  40 value 214.097318\n",
      "iter  50 value 213.876235\n",
      "iter  60 value 213.412926\n",
      "iter  70 value 213.087632\n",
      "iter  80 value 213.034070\n",
      "iter  90 value 213.008499\n",
      "iter 100 value 212.926278\n",
      "final  value 212.926278 \n",
      "stopped after 100 iterations\n",
      "# weights:  40\n",
      "initial  value 364.738692 \n",
      "iter  10 value 221.583938\n",
      "iter  20 value 216.539236\n",
      "iter  30 value 215.790575\n",
      "iter  40 value 215.555601\n",
      "iter  50 value 215.516510\n",
      "iter  60 value 215.384333\n",
      "iter  70 value 215.253389\n",
      "iter  80 value 215.221207\n",
      "iter  90 value 215.219469\n",
      "iter 100 value 215.214137\n",
      "final  value 215.214137 \n",
      "stopped after 100 iterations\n",
      "# weights:  40\n",
      "initial  value 340.178608 \n",
      "iter  10 value 220.199081\n",
      "iter  20 value 215.560442\n",
      "iter  30 value 214.543966\n",
      "iter  40 value 214.192222\n",
      "iter  50 value 214.166690\n",
      "iter  60 value 214.160981\n",
      "iter  70 value 214.160172\n",
      "iter  80 value 214.155158\n",
      "iter  90 value 214.118311\n",
      "final  value 214.111864 \n",
      "converged\n"
     ]
    },
    {
     "data": {
      "text/html": [
       "0.845794392523365"
      ],
      "text/latex": [
       "0.845794392523365"
      ],
      "text/markdown": [
       "0.845794392523365"
      ],
      "text/plain": [
       "[1] 0.8457944"
      ]
     },
     "metadata": {},
     "output_type": "display_data"
    }
   ],
   "source": [
    "# 인공신경망\n",
    "\n",
    "x <- subset(data.test, select = -Survived)\n",
    "y <- data.test$Survived\n",
    "\n",
    "library(nnet)\n",
    "\n",
    "model.nnet <- function(x){\n",
    "    model.nnet <- nnet(Survived ~ ., data=data.train, size=3) \n",
    "\n",
    "    pred <- predict(model.nnet, x, type = \"class\")\n",
    "\n",
    "    per <- c(mean(pred == y), table(pred, y))\n",
    "    \n",
    "    return (per)\n",
    "}\n",
    "\n",
    "sum1 <- rep(0,0,5)\n",
    "for(i in 1:5){\n",
    "    sum1[i] <- sum1[i] + model.nnet(x)[1]\n",
    "    \n",
    "}\n",
    "\n",
    "mean(sum1)model.nnet(x)[2]\n",
    "\n",
    "\n",
    "\n",
    "\n"
   ]
  },
  {
   "cell_type": "code",
   "execution_count": 94,
   "id": "da112122",
   "metadata": {},
   "outputs": [
    {
     "data": {
      "text/html": [
       "0.794392523364486"
      ],
      "text/latex": [
       "0.794392523364486"
      ],
      "text/markdown": [
       "0.794392523364486"
      ],
      "text/plain": [
       "[1] 0.7943925"
      ]
     },
     "metadata": {},
     "output_type": "display_data"
    }
   ],
   "source": [
    "# 의사결정나무\n",
    "library(party)\n",
    "\n",
    "model.ctree <- function(x) {\n",
    "    model.ctree <- ctree(Survived ~ ., data=data.train)\n",
    "   \n",
    "    \n",
    "    pred2 <- predict(model.ctree, x)\n",
    "\n",
    "    per = mean(pred2 == y)\n",
    "    \n",
    "    return (per)\n",
    "}\n",
    "\n",
    "sum2 <- rep(0,0,5)\n",
    "\n",
    "for(i in 1:5){\n",
    "    sum2[i] <- sum2[i] + model.ctree(x)\n",
    "}\n",
    "\n",
    "mean(sum2)\n"
   ]
  },
  {
   "cell_type": "code",
   "execution_count": 119,
   "id": "893c06c5",
   "metadata": {},
   "outputs": [
    {
     "data": {
      "text/html": [
       "0.794392523364486"
      ],
      "text/latex": [
       "0.794392523364486"
      ],
      "text/markdown": [
       "0.794392523364486"
      ],
      "text/plain": [
       "[1] 0.7943925"
      ]
     },
     "metadata": {},
     "output_type": "display_data"
    },
    {
     "data": {
      "text/plain": [
       "     y\n",
       "pred4   0   1\n",
       "    0 110  20\n",
       "    1  24  60"
      ]
     },
     "metadata": {},
     "output_type": "display_data"
    }
   ],
   "source": [
    "# SVM\n",
    "\n",
    "library(e1071)\n",
    "\n",
    "model.svm <- svm(Survived ~ ., data=data.train)\n",
    "\n",
    "pred4 <- predict(model.svm, x, type=\"class\")\n",
    "\n",
    "mean(pred4 == y)\n",
    "table(pred4, y)\n"
   ]
  },
  {
   "cell_type": "code",
   "execution_count": 111,
   "id": "069fb505",
   "metadata": {},
   "outputs": [
    {
     "name": "stdout",
     "output_type": "stream",
     "text": [
      "# weights:  13 (12 variable)\n",
      "initial  value 346.573590 \n",
      "iter  10 value 222.967219\n",
      "iter  20 value 222.642059\n",
      "final  value 222.641138 \n",
      "converged\n"
     ]
    },
    {
     "data": {
      "text/html": [
       "0.831775700934579"
      ],
      "text/latex": [
       "0.831775700934579"
      ],
      "text/markdown": [
       "0.831775700934579"
      ],
      "text/plain": [
       "[1] 0.8317757"
      ]
     },
     "metadata": {},
     "output_type": "display_data"
    },
    {
     "data": {
      "text/plain": [
       "     y\n",
       "pred5   0   1\n",
       "    0 126  28\n",
       "    1   8  52"
      ]
     },
     "metadata": {},
     "output_type": "display_data"
    }
   ],
   "source": [
    "# 다항 로지스틱 회귀분석\n",
    "\n",
    "model <- multinom(Survived ~., data=data.train)\n",
    "\n",
    "pred5 <- predict(model, x, type=\"class\")\n",
    "\n",
    "mean(pred5 == y)\n",
    "table(pred5, y)"
   ]
  },
  {
   "cell_type": "code",
   "execution_count": 120,
   "id": "789e77f2",
   "metadata": {},
   "outputs": [
    {
     "data": {
      "text/html": [
       "0.803738317757009"
      ],
      "text/latex": [
       "0.803738317757009"
      ],
      "text/markdown": [
       "0.803738317757009"
      ],
      "text/plain": [
       "[1] 0.8037383"
      ]
     },
     "metadata": {},
     "output_type": "display_data"
    }
   ],
   "source": [
    "# RandomForest\n",
    "\n",
    "model.rf <- function(x){\n",
    "    model.rf <- randomForest(Survived ~ ., data = data.train, ntree = 100)\n",
    "\n",
    "    pred3 <- predict(model.rf, x)\n",
    "\n",
    "    per <- mean(pred3 == y)\n",
    "    \n",
    "    return (per)\n",
    "}\n",
    "\n",
    "model.rf(x)\n"
   ]
  },
  {
   "cell_type": "code",
   "execution_count": 117,
   "id": "81717261",
   "metadata": {},
   "outputs": [
    {
     "data": {
      "text/plain": [
       "\n",
       "  1   2   3 \n",
       "216 184 491 "
      ]
     },
     "metadata": {},
     "output_type": "display_data"
    }
   ],
   "source": [
    "table(train_df$Pclass)\n",
    "\n",
    "# 부모 자식, 형제 자매 배우자"
   ]
  },
  {
   "cell_type": "code",
   "execution_count": null,
   "id": "a78f7dd4",
   "metadata": {},
   "outputs": [],
   "source": []
  },
  {
   "cell_type": "code",
   "execution_count": null,
   "id": "73d25ca9",
   "metadata": {},
   "outputs": [],
   "source": []
  }
 ],
 "metadata": {
  "kernelspec": {
   "display_name": "R",
   "language": "R",
   "name": "ir"
  },
  "language_info": {
   "codemirror_mode": "r",
   "file_extension": ".r",
   "mimetype": "text/x-r-source",
   "name": "R",
   "pygments_lexer": "r",
   "version": "3.6.1"
  }
 },
 "nbformat": 4,
 "nbformat_minor": 5
}
