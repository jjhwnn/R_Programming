{
 "cells": [
  {
   "cell_type": "code",
   "execution_count": 1,
   "id": "7caa6b10",
   "metadata": {},
   "outputs": [
    {
     "data": {
      "text/html": [
       "<table>\n",
       "<thead><tr><th scope=col>년도</th><th scope=col>서울인구수</th><th scope=col>승용차</th><th scope=col>승합차</th><th scope=col>차합계</th></tr></thead>\n",
       "<tbody>\n",
       "\t<tr><td>2013    </td><td>10388055</td><td>2462515 </td><td>156871  </td><td>2619386 </td></tr>\n",
       "\t<tr><td>2014    </td><td>10369593</td><td>2510742 </td><td>149991  </td><td>2660733 </td></tr>\n",
       "\t<tr><td>2015    </td><td>10297138</td><td>2560154 </td><td>141927  </td><td>2702081 </td></tr>\n",
       "\t<tr><td>2016    </td><td>10204057</td><td>2598344 </td><td>134309  </td><td>2732653 </td></tr>\n",
       "\t<tr><td>2017    </td><td>10124579</td><td>2641190 </td><td>127564  </td><td>2768754 </td></tr>\n",
       "\t<tr><td>2018    </td><td>10049607</td><td>2658637 </td><td>120780  </td><td>2779417 </td></tr>\n",
       "\t<tr><td>2019    </td><td>10010983</td><td>2670803 </td><td>114310  </td><td>2785113 </td></tr>\n",
       "\t<tr><td>2020    </td><td> 9911088</td><td>2711984 </td><td>106504  </td><td>2818488 </td></tr>\n",
       "</tbody>\n",
       "</table>\n"
      ],
      "text/latex": [
       "\\begin{tabular}{r|lllll}\n",
       " 년도 & 서울인구수 & 승용차 & 승합차 & 차합계\\\\\n",
       "\\hline\n",
       "\t 2013     & 10388055 & 2462515  & 156871   & 2619386 \\\\\n",
       "\t 2014     & 10369593 & 2510742  & 149991   & 2660733 \\\\\n",
       "\t 2015     & 10297138 & 2560154  & 141927   & 2702081 \\\\\n",
       "\t 2016     & 10204057 & 2598344  & 134309   & 2732653 \\\\\n",
       "\t 2017     & 10124579 & 2641190  & 127564   & 2768754 \\\\\n",
       "\t 2018     & 10049607 & 2658637  & 120780   & 2779417 \\\\\n",
       "\t 2019     & 10010983 & 2670803  & 114310   & 2785113 \\\\\n",
       "\t 2020     &  9911088 & 2711984  & 106504   & 2818488 \\\\\n",
       "\\end{tabular}\n"
      ],
      "text/markdown": [
       "\n",
       "| 년도 | 서울인구수 | 승용차 | 승합차 | 차합계 |\n",
       "|---|---|---|---|---|\n",
       "| 2013     | 10388055 | 2462515  | 156871   | 2619386  |\n",
       "| 2014     | 10369593 | 2510742  | 149991   | 2660733  |\n",
       "| 2015     | 10297138 | 2560154  | 141927   | 2702081  |\n",
       "| 2016     | 10204057 | 2598344  | 134309   | 2732653  |\n",
       "| 2017     | 10124579 | 2641190  | 127564   | 2768754  |\n",
       "| 2018     | 10049607 | 2658637  | 120780   | 2779417  |\n",
       "| 2019     | 10010983 | 2670803  | 114310   | 2785113  |\n",
       "| 2020     |  9911088 | 2711984  | 106504   | 2818488  |\n",
       "\n"
      ],
      "text/plain": [
       "  년도 서울인구수 승용차  승합차 차합계 \n",
       "1 2013 10388055   2462515 156871 2619386\n",
       "2 2014 10369593   2510742 149991 2660733\n",
       "3 2015 10297138   2560154 141927 2702081\n",
       "4 2016 10204057   2598344 134309 2732653\n",
       "5 2017 10124579   2641190 127564 2768754\n",
       "6 2018 10049607   2658637 120780 2779417\n",
       "7 2019 10010983   2670803 114310 2785113\n",
       "8 2020  9911088   2711984 106504 2818488"
      ]
     },
     "metadata": {},
     "output_type": "display_data"
    },
    {
     "data": {
      "text/html": [
       "<table>\n",
       "<thead><tr><th scope=col>일차</th><th scope=col>출발시간</th><th scope=col>소요시간</th><th scope=col>날짜</th><th scope=col>눈비</th><th scope=col>X1종출구교통량합계</th><th scope=col>X2종출구교통량합계</th><th scope=col>전국총지수</th></tr></thead>\n",
       "<tbody>\n",
       "\t<tr><td>0         </td><td>0         </td><td> 91       </td><td>2013-02-08</td><td>TRUE      </td><td>11369763  </td><td>523201    </td><td>93.038    </td></tr>\n",
       "\t<tr><td>1         </td><td>0         </td><td>132       </td><td>2013-02-09</td><td>TRUE      </td><td>11369763  </td><td>523201    </td><td>93.038    </td></tr>\n",
       "\t<tr><td>2         </td><td>0         </td><td> 83       </td><td>2013-02-10</td><td>TRUE      </td><td>11369763  </td><td>523201    </td><td>93.038    </td></tr>\n",
       "\t<tr><td>3         </td><td>0         </td><td> 87       </td><td>2013-02-11</td><td>TRUE      </td><td>11369763  </td><td>523201    </td><td>93.038    </td></tr>\n",
       "\t<tr><td>4         </td><td>0         </td><td> 84       </td><td>2013-02-12</td><td>TRUE      </td><td>11369763  </td><td>523201    </td><td>93.038    </td></tr>\n",
       "\t<tr><td>0         </td><td>1         </td><td> 88       </td><td>2013-02-08</td><td>TRUE      </td><td> 7518962  </td><td>470000    </td><td>93.038    </td></tr>\n",
       "</tbody>\n",
       "</table>\n"
      ],
      "text/latex": [
       "\\begin{tabular}{r|llllllll}\n",
       " 일차 & 출발시간 & 소요시간 & 날짜 & 눈비 & X1종출구교통량합계 & X2종출구교통량합계 & 전국총지수\\\\\n",
       "\\hline\n",
       "\t 0          & 0          &  91        & 2013-02-08 & TRUE       & 11369763   & 523201     & 93.038    \\\\\n",
       "\t 1          & 0          & 132        & 2013-02-09 & TRUE       & 11369763   & 523201     & 93.038    \\\\\n",
       "\t 2          & 0          &  83        & 2013-02-10 & TRUE       & 11369763   & 523201     & 93.038    \\\\\n",
       "\t 3          & 0          &  87        & 2013-02-11 & TRUE       & 11369763   & 523201     & 93.038    \\\\\n",
       "\t 4          & 0          &  84        & 2013-02-12 & TRUE       & 11369763   & 523201     & 93.038    \\\\\n",
       "\t 0          & 1          &  88        & 2013-02-08 & TRUE       &  7518962   & 470000     & 93.038    \\\\\n",
       "\\end{tabular}\n"
      ],
      "text/markdown": [
       "\n",
       "| 일차 | 출발시간 | 소요시간 | 날짜 | 눈비 | X1종출구교통량합계 | X2종출구교통량합계 | 전국총지수 |\n",
       "|---|---|---|---|---|---|---|---|\n",
       "| 0          | 0          |  91        | 2013-02-08 | TRUE       | 11369763   | 523201     | 93.038     |\n",
       "| 1          | 0          | 132        | 2013-02-09 | TRUE       | 11369763   | 523201     | 93.038     |\n",
       "| 2          | 0          |  83        | 2013-02-10 | TRUE       | 11369763   | 523201     | 93.038     |\n",
       "| 3          | 0          |  87        | 2013-02-11 | TRUE       | 11369763   | 523201     | 93.038     |\n",
       "| 4          | 0          |  84        | 2013-02-12 | TRUE       | 11369763   | 523201     | 93.038     |\n",
       "| 0          | 1          |  88        | 2013-02-08 | TRUE       |  7518962   | 470000     | 93.038     |\n",
       "\n"
      ],
      "text/plain": [
       "  일차 출발시간 소요시간 날짜       눈비 X1종출구교통량합계 X2종출구교통량합계\n",
       "1 0    0         91      2013-02-08 TRUE 11369763           523201            \n",
       "2 1    0        132      2013-02-09 TRUE 11369763           523201            \n",
       "3 2    0         83      2013-02-10 TRUE 11369763           523201            \n",
       "4 3    0         87      2013-02-11 TRUE 11369763           523201            \n",
       "5 4    0         84      2013-02-12 TRUE 11369763           523201            \n",
       "6 0    1         88      2013-02-08 TRUE  7518962           470000            \n",
       "  전국총지수\n",
       "1 93.038    \n",
       "2 93.038    \n",
       "3 93.038    \n",
       "4 93.038    \n",
       "5 93.038    \n",
       "6 93.038    "
      ]
     },
     "metadata": {},
     "output_type": "display_data"
    },
    {
     "data": {
      "text/html": [
       "<table>\n",
       "<thead><tr><th scope=col>일차</th><th scope=col>출발시간</th><th scope=col>소요시간</th><th scope=col>날짜</th><th scope=col>전국총지수</th></tr></thead>\n",
       "<tbody>\n",
       "\t<tr><td>0         </td><td>0         </td><td> 91       </td><td>2013-02-08</td><td>93.038    </td></tr>\n",
       "\t<tr><td>1         </td><td>0         </td><td>132       </td><td>2013-02-09</td><td>93.038    </td></tr>\n",
       "\t<tr><td>2         </td><td>0         </td><td> 83       </td><td>2013-02-10</td><td>93.038    </td></tr>\n",
       "\t<tr><td>3         </td><td>0         </td><td> 87       </td><td>2013-02-11</td><td>93.038    </td></tr>\n",
       "\t<tr><td>4         </td><td>0         </td><td> 84       </td><td>2013-02-12</td><td>93.038    </td></tr>\n",
       "\t<tr><td>0         </td><td>1         </td><td> 88       </td><td>2013-02-08</td><td>93.038    </td></tr>\n",
       "</tbody>\n",
       "</table>\n"
      ],
      "text/latex": [
       "\\begin{tabular}{r|lllll}\n",
       " 일차 & 출발시간 & 소요시간 & 날짜 & 전국총지수\\\\\n",
       "\\hline\n",
       "\t 0          & 0          &  91        & 2013-02-08 & 93.038    \\\\\n",
       "\t 1          & 0          & 132        & 2013-02-09 & 93.038    \\\\\n",
       "\t 2          & 0          &  83        & 2013-02-10 & 93.038    \\\\\n",
       "\t 3          & 0          &  87        & 2013-02-11 & 93.038    \\\\\n",
       "\t 4          & 0          &  84        & 2013-02-12 & 93.038    \\\\\n",
       "\t 0          & 1          &  88        & 2013-02-08 & 93.038    \\\\\n",
       "\\end{tabular}\n"
      ],
      "text/markdown": [
       "\n",
       "| 일차 | 출발시간 | 소요시간 | 날짜 | 전국총지수 |\n",
       "|---|---|---|---|---|\n",
       "| 0          | 0          |  91        | 2013-02-08 | 93.038     |\n",
       "| 1          | 0          | 132        | 2013-02-09 | 93.038     |\n",
       "| 2          | 0          |  83        | 2013-02-10 | 93.038     |\n",
       "| 3          | 0          |  87        | 2013-02-11 | 93.038     |\n",
       "| 4          | 0          |  84        | 2013-02-12 | 93.038     |\n",
       "| 0          | 1          |  88        | 2013-02-08 | 93.038     |\n",
       "\n"
      ],
      "text/plain": [
       "  일차 출발시간 소요시간 날짜       전국총지수\n",
       "1 0    0         91      2013-02-08 93.038    \n",
       "2 1    0        132      2013-02-09 93.038    \n",
       "3 2    0         83      2013-02-10 93.038    \n",
       "4 3    0         87      2013-02-11 93.038    \n",
       "5 4    0         84      2013-02-12 93.038    \n",
       "6 0    1         88      2013-02-08 93.038    "
      ]
     },
     "metadata": {},
     "output_type": "display_data"
    },
    {
     "name": "stdout",
     "output_type": "stream",
     "text": [
      "'data.frame':\t960 obs. of  8 variables:\n",
      " $ 일차              : int  0 1 2 3 4 0 1 2 3 4 ...\n",
      " $ 출발시간          : int  0 0 0 0 0 1 1 1 1 1 ...\n",
      " $ 소요시간          : int  91 132 83 87 84 88 129 82 85 82 ...\n",
      " $ 날짜              : Date, format: \"2013-02-08\" \"2013-02-09\" ...\n",
      " $ 눈비              : logi  TRUE TRUE TRUE TRUE TRUE TRUE ...\n",
      " $ X1종출구교통량합계: int  11369763 11369763 11369763 11369763 11369763 7518962 7518962 7518962 7518962 7518962 ...\n",
      " $ X2종출구교통량합계: int  523201 523201 523201 523201 523201 470000 470000 470000 470000 470000 ...\n",
      " $ 전국총지수        : num  93 93 93 93 93 ...\n"
     ]
    }
   ],
   "source": [
    "sd<-read.csv(\"../Data_Project/서울대전5일(연휴앞뒤2일)_날짜.csv\")\n",
    "traffic <- read.csv(\"../Data_Project/서울대전+1-2종출구교통량.csv\")\n",
    "popCar <- read.csv(\"../Data_Project/인구수자동차수.csv\")\n",
    "price <- read.csv(\"../Data_Project/서울대전설날_소비자물가지수.csv\")\n",
    "\n",
    "popCar <- popCar[,-1]\n",
    "popCar\n",
    "\n",
    "sd <- cbind(sd, traffic[,5:6]) \n",
    "sd$날짜 <- as.Date(sd$날짜)\n",
    "# sd <- sd[,-(5:7)]\n",
    "\n",
    "sd$전국총지수 <- price$전국총지수\n",
    "\n",
    "head(sd)\n",
    "head(price)\n",
    "str(sd)"
   ]
  },
  {
   "cell_type": "code",
   "execution_count": 2,
   "id": "e04a32ab",
   "metadata": {},
   "outputs": [
    {
     "data": {
      "text/plain": [
       "\n",
       "  0   1   2   3   4 \n",
       "192 192 192 192 192 "
      ]
     },
     "metadata": {},
     "output_type": "display_data"
    }
   ],
   "source": [
    "table(sd$일차)"
   ]
  },
  {
   "cell_type": "code",
   "execution_count": 3,
   "id": "8305d42f",
   "metadata": {},
   "outputs": [
    {
     "data": {
      "text/plain": [
       "\n",
       " 0  1  2  3  4  5  6  7  8  9 10 11 12 13 14 15 16 17 18 19 20 21 22 23 \n",
       "40 40 40 40 40 40 40 40 40 40 40 40 40 40 40 40 40 40 40 40 40 40 40 40 "
      ]
     },
     "metadata": {},
     "output_type": "display_data"
    }
   ],
   "source": [
    "table(sd$출발시간)"
   ]
  },
  {
   "cell_type": "code",
   "execution_count": 4,
   "id": "dff34cfc",
   "metadata": {},
   "outputs": [
    {
     "data": {
      "text/plain": [
       "\n",
       " 73  75  76  77  78  79  80  81  82  83  84  85  86  87  88  89  90  91  92  93 \n",
       "  1   4   3   5   9  21  25  30  34  31  44  36  33  49  32  41  31  34  25  34 \n",
       " 94  95  96  97  98  99 100 101 102 103 104 105 106 107 108 109 110 111 112 113 \n",
       " 24  14   9  14   8  10   7   5  14   6   7   4   5   7   6   3   3   6   6   6 \n",
       "114 115 116 117 118 119 120 121 122 123 124 125 126 127 128 129 130 131 132 133 \n",
       "  4   4   4   3   8   4   2   6   2   5   5   4   2   6   4   5   1   4   2   8 \n",
       "134 135 136 137 138 139 140 141 142 143 144 145 146 147 148 149 150 151 152 153 \n",
       "  3   2   2   2   2   7   1   4   3   4   6   4   4   4   4   5   5   1   3   3 \n",
       "154 155 156 157 158 159 160 161 162 163 164 165 166 167 168 169 170 171 172 173 \n",
       "  3   4   5   3   4   1   5   1   3   2   2   3   3   3   3   1   3   2   2   1 \n",
       "174 176 177 178 179 180 181 182 183 184 185 186 187 188 191 192 194 195 196 200 \n",
       "  1   2   3   1   1   2   2   2   3   1   2   1   4   2   2   4   2   2   2   1 \n",
       "201 202 203 205 206 207 211 212 215 216 219 222 225 227 229 239 242 243 246 249 \n",
       "  1   1   3   2   2   1   1   2   1   1   1   2   1   1   1   1   1   2   1   1 \n",
       "251 \n",
       "  1 "
      ]
     },
     "metadata": {},
     "output_type": "display_data"
    }
   ],
   "source": [
    "table(sd$소요시간)"
   ]
  },
  {
   "cell_type": "code",
   "execution_count": 5,
   "id": "ef977ecb",
   "metadata": {},
   "outputs": [
    {
     "name": "stdout",
     "output_type": "stream",
     "text": [
      "'data.frame':\t960 obs. of  8 variables:\n",
      " $ 일차              : int  0 1 2 3 4 0 1 2 3 4 ...\n",
      " $ 출발시간          : int  0 0 0 0 0 1 1 1 1 1 ...\n",
      " $ 소요시간          : int  91 132 83 87 84 88 129 82 85 82 ...\n",
      " $ 날짜              : Date, format: \"2013-02-08\" \"2013-02-09\" ...\n",
      " $ 눈비              : logi  TRUE TRUE TRUE TRUE TRUE TRUE ...\n",
      " $ X1종출구교통량합계: int  11369763 11369763 11369763 11369763 11369763 7518962 7518962 7518962 7518962 7518962 ...\n",
      " $ X2종출구교통량합계: int  523201 523201 523201 523201 523201 470000 470000 470000 470000 470000 ...\n",
      " $ 전국총지수        : num  93 93 93 93 93 ...\n"
     ]
    },
    {
     "data": {
      "text/plain": [
       "      일차      출발시간        소요시간          날짜           \n",
       " Min.   :0   Min.   : 0.00   Min.   : 73.0   Min.   :2013-02-08  \n",
       " 1st Qu.:1   1st Qu.: 5.75   1st Qu.: 85.0   1st Qu.:2014-11-14  \n",
       " Median :2   Median :11.50   Median : 92.0   Median :2016-08-03  \n",
       " Mean   :2   Mean   :11.50   Mean   :108.3   Mean   :2016-08-07  \n",
       " 3rd Qu.:3   3rd Qu.:17.25   3rd Qu.:121.0   3rd Qu.:2018-05-16  \n",
       " Max.   :4   Max.   :23.00   Max.   :251.0   Max.   :2020-01-27  \n",
       "    눈비         X1종출구교통량합계  X2종출구교통량합계   전국총지수    \n",
       " Mode :logical   Min.   :  2580075   Min.   : 113501    Min.   : 93.04  \n",
       " FALSE:766       1st Qu.: 12580932   1st Qu.: 487433    1st Qu.: 94.44  \n",
       " TRUE :194       Median : 31836282   Median :1130798    Median : 96.50  \n",
       "                 Mean   : 35221511   Mean   :1504996    Mean   : 96.59  \n",
       "                 3rd Qu.: 43657415   3rd Qu.:2154046    3rd Qu.: 98.97  \n",
       "                 Max.   :159476871   Max.   :5104871    Max.   :100.09  "
      ]
     },
     "metadata": {},
     "output_type": "display_data"
    }
   ],
   "source": [
    "str(sd)\n",
    "summary(sd)\n",
    "#소요시간 0인 데이터 어떻게 처리할지 "
   ]
  },
  {
   "cell_type": "code",
   "execution_count": 6,
   "id": "97c0eb3a",
   "metadata": {},
   "outputs": [
    {
     "data": {
      "image/png": "[encoded data removed]",
      "text/plain": [
       "Plot with title “Histogram of sd$소요시간”"
      ]
     },
     "metadata": {},
     "output_type": "display_data"
    }
   ],
   "source": [
    "options(warn = -1)\n",
    "par(family = \"AppleGothic\")\n",
    "hist(sd$소요시간,\n",
    "    ylim=c(0,600))"
   ]
  },
  {
   "cell_type": "code",
   "execution_count": 7,
   "id": "ae907722",
   "metadata": {},
   "outputs": [
    {
     "data": {
      "text/html": [
       "<table>\n",
       "<thead><tr><th scope=col>일차</th><th scope=col>출발시간</th><th scope=col>소요시간</th><th scope=col>날짜</th><th scope=col>눈비</th><th scope=col>X1종출구교통량합계</th><th scope=col>X2종출구교통량합계</th><th scope=col>전국총지수</th></tr></thead>\n",
       "<tbody>\n",
       "\t<tr><td>0         </td><td>0         </td><td> 91       </td><td>2013-02-08</td><td>TRUE      </td><td>11369763  </td><td>523201    </td><td>93.038    </td></tr>\n",
       "\t<tr><td>1         </td><td>0         </td><td>132       </td><td>2013-02-09</td><td>TRUE      </td><td>11369763  </td><td>523201    </td><td>93.038    </td></tr>\n",
       "\t<tr><td>2         </td><td>0         </td><td> 83       </td><td>2013-02-10</td><td>TRUE      </td><td>11369763  </td><td>523201    </td><td>93.038    </td></tr>\n",
       "\t<tr><td>3         </td><td>0         </td><td> 87       </td><td>2013-02-11</td><td>TRUE      </td><td>11369763  </td><td>523201    </td><td>93.038    </td></tr>\n",
       "\t<tr><td>4         </td><td>0         </td><td> 84       </td><td>2013-02-12</td><td>TRUE      </td><td>11369763  </td><td>523201    </td><td>93.038    </td></tr>\n",
       "\t<tr><td>0         </td><td>1         </td><td> 88       </td><td>2013-02-08</td><td>TRUE      </td><td> 7518962  </td><td>470000    </td><td>93.038    </td></tr>\n",
       "</tbody>\n",
       "</table>\n"
      ],
      "text/latex": [
       "\\begin{tabular}{r|llllllll}\n",
       " 일차 & 출발시간 & 소요시간 & 날짜 & 눈비 & X1종출구교통량합계 & X2종출구교통량합계 & 전국총지수\\\\\n",
       "\\hline\n",
       "\t 0          & 0          &  91        & 2013-02-08 & TRUE       & 11369763   & 523201     & 93.038    \\\\\n",
       "\t 1          & 0          & 132        & 2013-02-09 & TRUE       & 11369763   & 523201     & 93.038    \\\\\n",
       "\t 2          & 0          &  83        & 2013-02-10 & TRUE       & 11369763   & 523201     & 93.038    \\\\\n",
       "\t 3          & 0          &  87        & 2013-02-11 & TRUE       & 11369763   & 523201     & 93.038    \\\\\n",
       "\t 4          & 0          &  84        & 2013-02-12 & TRUE       & 11369763   & 523201     & 93.038    \\\\\n",
       "\t 0          & 1          &  88        & 2013-02-08 & TRUE       &  7518962   & 470000     & 93.038    \\\\\n",
       "\\end{tabular}\n"
      ],
      "text/markdown": [
       "\n",
       "| 일차 | 출발시간 | 소요시간 | 날짜 | 눈비 | X1종출구교통량합계 | X2종출구교통량합계 | 전국총지수 |\n",
       "|---|---|---|---|---|---|---|---|\n",
       "| 0          | 0          |  91        | 2013-02-08 | TRUE       | 11369763   | 523201     | 93.038     |\n",
       "| 1          | 0          | 132        | 2013-02-09 | TRUE       | 11369763   | 523201     | 93.038     |\n",
       "| 2          | 0          |  83        | 2013-02-10 | TRUE       | 11369763   | 523201     | 93.038     |\n",
       "| 3          | 0          |  87        | 2013-02-11 | TRUE       | 11369763   | 523201     | 93.038     |\n",
       "| 4          | 0          |  84        | 2013-02-12 | TRUE       | 11369763   | 523201     | 93.038     |\n",
       "| 0          | 1          |  88        | 2013-02-08 | TRUE       |  7518962   | 470000     | 93.038     |\n",
       "\n"
      ],
      "text/plain": [
       "  일차 출발시간 소요시간 날짜       눈비 X1종출구교통량합계 X2종출구교통량합계\n",
       "1 0    0         91      2013-02-08 TRUE 11369763           523201            \n",
       "2 1    0        132      2013-02-09 TRUE 11369763           523201            \n",
       "3 2    0         83      2013-02-10 TRUE 11369763           523201            \n",
       "4 3    0         87      2013-02-11 TRUE 11369763           523201            \n",
       "5 4    0         84      2013-02-12 TRUE 11369763           523201            \n",
       "6 0    1         88      2013-02-08 TRUE  7518962           470000            \n",
       "  전국총지수\n",
       "1 93.038    \n",
       "2 93.038    \n",
       "3 93.038    \n",
       "4 93.038    \n",
       "5 93.038    \n",
       "6 93.038    "
      ]
     },
     "metadata": {},
     "output_type": "display_data"
    }
   ],
   "source": [
    "train<-sd\n",
    "head(train)"
   ]
  },
  {
   "cell_type": "code",
   "execution_count": 8,
   "id": "d228a06b",
   "metadata": {},
   "outputs": [
    {
     "name": "stderr",
     "output_type": "stream",
     "text": [
      "Loading required package: lattice\n",
      "Loading required package: ggplot2\n",
      "Registered S3 methods overwritten by 'ggplot2':\n",
      "  method         from \n",
      "  [.quosures     rlang\n",
      "  c.quosures     rlang\n",
      "  print.quosures rlang\n"
     ]
    }
   ],
   "source": [
    "library(caret)"
   ]
  },
  {
   "cell_type": "code",
   "execution_count": 9,
   "id": "9d5f3028",
   "metadata": {},
   "outputs": [],
   "source": [
    "samp<-createDataPartition(train$소요시간,p=0.7,list=F)"
   ]
  },
  {
   "cell_type": "code",
   "execution_count": 10,
   "id": "757eb17c",
   "metadata": {},
   "outputs": [
    {
     "name": "stdout",
     "output_type": "stream",
     "text": [
      "'data.frame':\t675 obs. of  8 variables:\n",
      " $ 일차              : int  0 1 2 3 4 0 2 3 4 0 ...\n",
      " $ 출발시간          : int  0 0 0 0 0 1 1 1 1 2 ...\n",
      " $ 소요시간          : int  91 132 83 87 84 88 82 85 82 88 ...\n",
      " $ 날짜              : Date, format: \"2013-02-08\" \"2013-02-09\" ...\n",
      " $ 눈비              : logi  TRUE TRUE TRUE TRUE TRUE TRUE ...\n",
      " $ X1종출구교통량합계: int  11369763 11369763 11369763 11369763 11369763 7518962 7518962 7518962 7518962 5250235 ...\n",
      " $ X2종출구교통량합계: int  523201 523201 523201 523201 523201 470000 470000 470000 470000 496078 ...\n",
      " $ 전국총지수        : num  93 93 93 93 93 ...\n"
     ]
    }
   ],
   "source": [
    "data.train<-train[samp,]\n",
    "str(data.train)"
   ]
  },
  {
   "cell_type": "code",
   "execution_count": 11,
   "id": "7d4dfd0c",
   "metadata": {},
   "outputs": [
    {
     "name": "stdout",
     "output_type": "stream",
     "text": [
      "'data.frame':\t285 obs. of  8 variables:\n",
      " $ 일차              : int  1 1 2 3 4 0 3 2 3 0 ...\n",
      " $ 출발시간          : int  1 2 2 2 2 4 4 5 5 6 ...\n",
      " $ 소요시간          : int  129 121 102 89 78 91 85 106 81 96 ...\n",
      " $ 날짜              : Date, format: \"2013-02-09\" \"2013-02-09\" ...\n",
      " $ 눈비              : logi  TRUE TRUE TRUE FALSE FALSE TRUE ...\n",
      " $ X1종출구교통량합계: int  7518962 5250235 5250235 5250235 5250235 4975804 4975804 10667595 10667595 23601930 ...\n",
      " $ X2종출구교통량합계: int  470000 496078 496078 496078 496078 874748 874748 1498576 1498576 2654556 ...\n",
      " $ 전국총지수        : num  93 93 93 93 93 ...\n"
     ]
    }
   ],
   "source": [
    "data.test<-train[-samp,]\n",
    "str(data.test)"
   ]
  },
  {
   "cell_type": "code",
   "execution_count": 12,
   "id": "6683619f",
   "metadata": {},
   "outputs": [
    {
     "name": "stderr",
     "output_type": "stream",
     "text": [
      "randomForest 4.6-14\n",
      "Type rfNews() to see new features/changes/bug fixes.\n",
      "\n",
      "Attaching package: ‘randomForest’\n",
      "\n",
      "The following object is masked from ‘package:ggplot2’:\n",
      "\n",
      "    margin\n",
      "\n"
     ]
    }
   ],
   "source": [
    "library(randomForest)"
   ]
  },
  {
   "cell_type": "code",
   "execution_count": 13,
   "id": "aabd2402",
   "metadata": {},
   "outputs": [],
   "source": [
    "rf<- randomForest(소요시간~.,data=data.train,ntree=500)"
   ]
  },
  {
   "cell_type": "code",
   "execution_count": 14,
   "id": "0e665e61",
   "metadata": {},
   "outputs": [],
   "source": [
    "x<-subset(data.test,select=-소요시간)\n",
    "y<-data.test$소요시간"
   ]
  },
  {
   "cell_type": "code",
   "execution_count": 15,
   "id": "e7e03bde",
   "metadata": {},
   "outputs": [],
   "source": [
    "pred<-predict(rf,x)\n",
    "test<-data.frame(data.test$일차,data.test$출발시간,pred,y,ifelse((pred-pred*0.15<y&y<pred+pred*0.15),\"true\",\"false\"))"
   ]
  },
  {
   "cell_type": "code",
   "execution_count": 16,
   "id": "0cabe79c",
   "metadata": {},
   "outputs": [
    {
     "data": {
      "text/html": [
       "<table>\n",
       "<thead><tr><th></th><th scope=col>data.test.일차</th><th scope=col>data.test.출발시간</th><th scope=col>pred</th><th scope=col>y</th><th scope=col>ifelse..pred...pred...0.15...y...y...pred...pred...0.15....true...</th></tr></thead>\n",
       "<tbody>\n",
       "\t<tr><th scope=row>7</th><td>1        </td><td>1        </td><td>119.90686</td><td>129      </td><td>true     </td></tr>\n",
       "\t<tr><th scope=row>12</th><td>1        </td><td>2        </td><td>118.41035</td><td>121      </td><td>true     </td></tr>\n",
       "\t<tr><th scope=row>13</th><td>2        </td><td>2        </td><td> 88.99115</td><td>102      </td><td>true     </td></tr>\n",
       "\t<tr><th scope=row>14</th><td>3        </td><td>2        </td><td> 85.82734</td><td> 89      </td><td>true     </td></tr>\n",
       "\t<tr><th scope=row>15</th><td>4        </td><td>2        </td><td> 84.63377</td><td> 78      </td><td>true     </td></tr>\n",
       "\t<tr><th scope=row>21</th><td>0        </td><td>4        </td><td> 94.31061</td><td> 91      </td><td>true     </td></tr>\n",
       "</tbody>\n",
       "</table>\n"
      ],
      "text/latex": [
       "\\begin{tabular}{r|lllll}\n",
       "  & data.test.일차 & data.test.출발시간 & pred & y & ifelse..pred...pred...0.15...y...y...pred...pred...0.15....true...\\\\\n",
       "\\hline\n",
       "\t7 & 1         & 1         & 119.90686 & 129       & true     \\\\\n",
       "\t12 & 1         & 2         & 118.41035 & 121       & true     \\\\\n",
       "\t13 & 2         & 2         &  88.99115 & 102       & true     \\\\\n",
       "\t14 & 3         & 2         &  85.82734 &  89       & true     \\\\\n",
       "\t15 & 4         & 2         &  84.63377 &  78       & true     \\\\\n",
       "\t21 & 0         & 4         &  94.31061 &  91       & true     \\\\\n",
       "\\end{tabular}\n"
      ],
      "text/markdown": [
       "\n",
       "| <!--/--> | data.test.일차 | data.test.출발시간 | pred | y | ifelse..pred...pred...0.15...y...y...pred...pred...0.15....true... |\n",
       "|---|---|---|---|---|---|\n",
       "| 7 | 1         | 1         | 119.90686 | 129       | true      |\n",
       "| 12 | 1         | 2         | 118.41035 | 121       | true      |\n",
       "| 13 | 2         | 2         |  88.99115 | 102       | true      |\n",
       "| 14 | 3         | 2         |  85.82734 |  89       | true      |\n",
       "| 15 | 4         | 2         |  84.63377 |  78       | true      |\n",
       "| 21 | 0         | 4         |  94.31061 |  91       | true      |\n",
       "\n"
      ],
      "text/plain": [
       "   data.test.일차 data.test.출발시간 pred      y  \n",
       "7  1              1                  119.90686 129\n",
       "12 1              2                  118.41035 121\n",
       "13 2              2                   88.99115 102\n",
       "14 3              2                   85.82734  89\n",
       "15 4              2                   84.63377  78\n",
       "21 0              4                   94.31061  91\n",
       "   ifelse..pred...pred...0.15...y...y...pred...pred...0.15....true...\n",
       "7  true                                                              \n",
       "12 true                                                              \n",
       "13 true                                                              \n",
       "14 true                                                              \n",
       "15 true                                                              \n",
       "21 true                                                              "
      ]
     },
     "metadata": {},
     "output_type": "display_data"
    }
   ],
   "source": [
    "head(test)"
   ]
  },
  {
   "cell_type": "code",
   "execution_count": 17,
   "id": "9fdb9e46",
   "metadata": {
    "scrolled": true
   },
   "outputs": [
    {
     "data": {
      "text/html": [
       "<table>\n",
       "<thead><tr><th></th><th scope=col>일자</th><th scope=col>출발시간</th><th scope=col>pred</th><th scope=col>y</th><th scope=col>bool</th></tr></thead>\n",
       "<tbody>\n",
       "\t<tr><th scope=row>7</th><td>1        </td><td>1        </td><td>119.90686</td><td>129      </td><td>true     </td></tr>\n",
       "\t<tr><th scope=row>12</th><td>1        </td><td>2        </td><td>118.41035</td><td>121      </td><td>true     </td></tr>\n",
       "\t<tr><th scope=row>13</th><td>2        </td><td>2        </td><td> 88.99115</td><td>102      </td><td>true     </td></tr>\n",
       "\t<tr><th scope=row>14</th><td>3        </td><td>2        </td><td> 85.82734</td><td> 89      </td><td>true     </td></tr>\n",
       "\t<tr><th scope=row>15</th><td>4        </td><td>2        </td><td> 84.63377</td><td> 78      </td><td>true     </td></tr>\n",
       "\t<tr><th scope=row>21</th><td>0        </td><td>4        </td><td> 94.31061</td><td> 91      </td><td>true     </td></tr>\n",
       "</tbody>\n",
       "</table>\n"
      ],
      "text/latex": [
       "\\begin{tabular}{r|lllll}\n",
       "  & 일자 & 출발시간 & pred & y & bool\\\\\n",
       "\\hline\n",
       "\t7 & 1         & 1         & 119.90686 & 129       & true     \\\\\n",
       "\t12 & 1         & 2         & 118.41035 & 121       & true     \\\\\n",
       "\t13 & 2         & 2         &  88.99115 & 102       & true     \\\\\n",
       "\t14 & 3         & 2         &  85.82734 &  89       & true     \\\\\n",
       "\t15 & 4         & 2         &  84.63377 &  78       & true     \\\\\n",
       "\t21 & 0         & 4         &  94.31061 &  91       & true     \\\\\n",
       "\\end{tabular}\n"
      ],
      "text/markdown": [
       "\n",
       "| <!--/--> | 일자 | 출발시간 | pred | y | bool |\n",
       "|---|---|---|---|---|---|\n",
       "| 7 | 1         | 1         | 119.90686 | 129       | true      |\n",
       "| 12 | 1         | 2         | 118.41035 | 121       | true      |\n",
       "| 13 | 2         | 2         |  88.99115 | 102       | true      |\n",
       "| 14 | 3         | 2         |  85.82734 |  89       | true      |\n",
       "| 15 | 4         | 2         |  84.63377 |  78       | true      |\n",
       "| 21 | 0         | 4         |  94.31061 |  91       | true      |\n",
       "\n"
      ],
      "text/plain": [
       "   일자 출발시간 pred      y   bool\n",
       "7  1    1        119.90686 129 true\n",
       "12 1    2        118.41035 121 true\n",
       "13 2    2         88.99115 102 true\n",
       "14 3    2         85.82734  89 true\n",
       "15 4    2         84.63377  78 true\n",
       "21 0    4         94.31061  91 true"
      ]
     },
     "metadata": {},
     "output_type": "display_data"
    },
    {
     "data": {
      "text/plain": [
       "\n",
       "false  true \n",
       "   56   229 "
      ]
     },
     "metadata": {},
     "output_type": "display_data"
    }
   ],
   "source": [
    "colnames(test)<-c(\"일자\",\"출발시간\",\"pred\",\"y\",\"bool\")\n",
    "head(test)\n",
    "table(test$bool)"
   ]
  },
  {
   "cell_type": "code",
   "execution_count": 18,
   "id": "fca23a73",
   "metadata": {},
   "outputs": [
    {
     "data": {
      "text/html": [
       "285"
      ],
      "text/latex": [
       "285"
      ],
      "text/markdown": [
       "285"
      ],
      "text/plain": [
       "[1] 285"
      ]
     },
     "metadata": {},
     "output_type": "display_data"
    }
   ],
   "source": [
    "#총 row 갯수\n",
    "nrow(test)"
   ]
  },
  {
   "cell_type": "code",
   "execution_count": 19,
   "id": "b5a3c047",
   "metadata": {},
   "outputs": [
    {
     "data": {
      "text/html": [
       "229"
      ],
      "text/latex": [
       "229"
      ],
      "text/markdown": [
       "229"
      ],
      "text/plain": [
       "[1] 229"
      ]
     },
     "metadata": {},
     "output_type": "display_data"
    }
   ],
   "source": [
    "#맞춘 row 갯수\n",
    "sum(test$bool==\"true\")"
   ]
  },
  {
   "cell_type": "code",
   "execution_count": 20,
   "id": "13977aaa",
   "metadata": {},
   "outputs": [
    {
     "data": {
      "text/html": [
       "0.803508771929825"
      ],
      "text/latex": [
       "0.803508771929825"
      ],
      "text/markdown": [
       "0.803508771929825"
      ],
      "text/plain": [
       "[1] 0.8035088"
      ]
     },
     "metadata": {},
     "output_type": "display_data"
    }
   ],
   "source": [
    "#예측률 \n",
    "sum(test$bool==\"true\")/nrow(test)"
   ]
  },
  {
   "cell_type": "code",
   "execution_count": 21,
   "id": "818c247e",
   "metadata": {
    "scrolled": true
   },
   "outputs": [],
   "source": [
    "# table(test)"
   ]
  },
  {
   "cell_type": "code",
   "execution_count": null,
   "id": "623b144b",
   "metadata": {},
   "outputs": [],
   "source": []
  },
  {
   "cell_type": "code",
   "execution_count": null,
   "id": "40a80c67",
   "metadata": {},
   "outputs": [],
   "source": []
  }
 ],
 "metadata": {
  "kernelspec": {
   "display_name": "R",
   "language": "R",
   "name": "ir"
  },
  "language_info": {
   "codemirror_mode": "r",
   "file_extension": ".r",
   "mimetype": "text/x-r-source",
   "name": "R",
   "pygments_lexer": "r",
   "version": "3.6.1"
  }
 },
 "nbformat": 4,
 "nbformat_minor": 5
}
