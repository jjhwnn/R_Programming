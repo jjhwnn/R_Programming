{
 "cells": [
  {
   "cell_type": "code",
   "execution_count": 1,
   "metadata": {
    "vscode": {
     "languageId": "r"
    }
   },
   "outputs": [
    {
     "name": "stderr",
     "output_type": "stream",
     "text": [
      "Loading required package: lattice\n",
      "Loading required package: ggplot2\n",
      "Registered S3 methods overwritten by 'ggplot2':\n",
      "  method         from \n",
      "  [.quosures     rlang\n",
      "  c.quosures     rlang\n",
      "  print.quosures rlang\n",
      "\n",
      "Attaching package: ‘dplyr’\n",
      "\n",
      "The following objects are masked from ‘package:stats’:\n",
      "\n",
      "    filter, lag\n",
      "\n",
      "The following objects are masked from ‘package:base’:\n",
      "\n",
      "    intersect, setdiff, setequal, union\n",
      "\n",
      "randomForest 4.6-14\n",
      "Type rfNews() to see new features/changes/bug fixes.\n",
      "\n",
      "Attaching package: ‘randomForest’\n",
      "\n",
      "The following object is masked from ‘package:dplyr’:\n",
      "\n",
      "    combine\n",
      "\n",
      "The following object is masked from ‘package:ggplot2’:\n",
      "\n",
      "    margin\n",
      "\n",
      "Loading required package: grid\n",
      "Loading required package: mvtnorm\n",
      "Loading required package: modeltools\n",
      "Loading required package: stats4\n",
      "Loading required package: strucchange\n",
      "Loading required package: zoo\n",
      "\n",
      "Attaching package: ‘zoo’\n",
      "\n",
      "The following objects are masked from ‘package:base’:\n",
      "\n",
      "    as.Date, as.Date.numeric\n",
      "\n",
      "Loading required package: sandwich\n"
     ]
    }
   ],
   "source": [
    "library(caret)\n",
    "library(dplyr)\n",
    "options(warn = -1)\n",
    "library(nnet)\n",
    "library(e1071)\n",
    "library(randomForest)\n",
    "library(party)\n",
    "# library(NbClust)\n",
    "library(class)"
   ]
  },
  {
   "cell_type": "code",
   "execution_count": 2,
   "metadata": {
    "vscode": {
     "languageId": "r"
    }
   },
   "outputs": [
    {
     "data": {
      "text/html": [
       "<table>\n",
       "<thead><tr><th scope=col>날짜</th><th scope=col>일차</th><th scope=col>출발시간</th><th scope=col>소요시간</th></tr></thead>\n",
       "<tbody>\n",
       "\t<tr><td>2013-02-08</td><td>0         </td><td>0         </td><td> 91       </td></tr>\n",
       "\t<tr><td>2013-02-09</td><td>1         </td><td>0         </td><td>132       </td></tr>\n",
       "\t<tr><td>2013-02-10</td><td>2         </td><td>0         </td><td> 83       </td></tr>\n",
       "\t<tr><td>2013-02-11</td><td>3         </td><td>0         </td><td> 87       </td></tr>\n",
       "\t<tr><td>2013-02-12</td><td>4         </td><td>0         </td><td> 84       </td></tr>\n",
       "\t<tr><td>2013-02-08</td><td>0         </td><td>1         </td><td> 88       </td></tr>\n",
       "</tbody>\n",
       "</table>\n"
      ],
      "text/latex": [
       "\\begin{tabular}{r|llll}\n",
       " 날짜 & 일차 & 출발시간 & 소요시간\\\\\n",
       "\\hline\n",
       "\t 2013-02-08 & 0          & 0          &  91       \\\\\n",
       "\t 2013-02-09 & 1          & 0          & 132       \\\\\n",
       "\t 2013-02-10 & 2          & 0          &  83       \\\\\n",
       "\t 2013-02-11 & 3          & 0          &  87       \\\\\n",
       "\t 2013-02-12 & 4          & 0          &  84       \\\\\n",
       "\t 2013-02-08 & 0          & 1          &  88       \\\\\n",
       "\\end{tabular}\n"
      ],
      "text/markdown": [
       "\n",
       "| 날짜 | 일차 | 출발시간 | 소요시간 |\n",
       "|---|---|---|---|\n",
       "| 2013-02-08 | 0          | 0          |  91        |\n",
       "| 2013-02-09 | 1          | 0          | 132        |\n",
       "| 2013-02-10 | 2          | 0          |  83        |\n",
       "| 2013-02-11 | 3          | 0          |  87        |\n",
       "| 2013-02-12 | 4          | 0          |  84        |\n",
       "| 2013-02-08 | 0          | 1          |  88        |\n",
       "\n"
      ],
      "text/plain": [
       "  날짜       일차 출발시간 소요시간\n",
       "1 2013-02-08 0    0         91     \n",
       "2 2013-02-09 1    0        132     \n",
       "3 2013-02-10 2    0         83     \n",
       "4 2013-02-11 3    0         87     \n",
       "5 2013-02-12 4    0         84     \n",
       "6 2013-02-08 0    1         88     "
      ]
     },
     "metadata": {},
     "output_type": "display_data"
    }
   ],
   "source": [
    "서울대전앞뒤2일 <- read.csv('../Data_Project/alldata.csv', fileEncoding = \"utf-8\")[,-c(5:9)]\n",
    "서울대전앞뒤2일[,1] <- as.Date(서울대전앞뒤2일[,1])\n",
    "head(서울대전앞뒤2일)\n"
   ]
  },
  {
   "cell_type": "code",
   "execution_count": 3,
   "metadata": {
    "vscode": {
     "languageId": "r"
    }
   },
   "outputs": [
    {
     "data": {
      "text/html": [
       "81.919298245614"
      ],
      "text/latex": [
       "81.919298245614"
      ],
      "text/markdown": [
       "81.919298245614"
      ],
      "text/plain": [
       "[1] 81.9193"
      ]
     },
     "metadata": {},
     "output_type": "display_data"
    }
   ],
   "source": [
    "sum <- 0\n",
    "\n",
    "for (i in 1:100){\n",
    "  samp <- createDataPartition(서울대전앞뒤2일$소요시간, p=0.7, list=F)\n",
    "  data.tr <- 서울대전앞뒤2일[samp,]\n",
    "  data.test <- 서울대전앞뒤2일[-samp,]\n",
    "\n",
    "  x <- subset(data.test, select = -소요시간)\n",
    "  y <- data.test$소요시간\n",
    "\n",
    "  model_rf <- randomForest(소요시간 ~ . , data = data.tr, ntree = 100)\n",
    "  pred_rf <- predict(model_rf, x)\n",
    "  예측력_rf <- mean((pred_rf*0.85 < y) & (pred_rf*1.15 > y)) \n",
    "  sum <- sum + 예측력_rf\n",
    "}\n",
    "\n",
    "sum"
   ]
  },
  {
   "cell_type": "code",
   "execution_count": 4,
   "metadata": {
    "vscode": {
     "languageId": "r"
    }
   },
   "outputs": [],
   "source": [
    "## 다 : 66.8\n",
    "## 1:4 : 68.3"
   ]
  },
  {
   "cell_type": "code",
   "execution_count": 5,
   "metadata": {
    "vscode": {
     "languageId": "r"
    }
   },
   "outputs": [
    {
     "data": {
      "text/html": [
       "<table>\n",
       "<thead><tr><th scope=col>소요시간</th><th scope=col>일차</th><th scope=col>출발시간</th><th scope=col>연휴길이</th></tr></thead>\n",
       "<tbody>\n",
       "\t<tr><td>91</td><td>0 </td><td>0 </td><td>3 </td></tr>\n",
       "\t<tr><td>88</td><td>0 </td><td>1 </td><td>3 </td></tr>\n",
       "\t<tr><td>88</td><td>0 </td><td>2 </td><td>3 </td></tr>\n",
       "\t<tr><td>87</td><td>0 </td><td>3 </td><td>3 </td></tr>\n",
       "\t<tr><td>91</td><td>0 </td><td>4 </td><td>3 </td></tr>\n",
       "\t<tr><td>97</td><td>0 </td><td>5 </td><td>3 </td></tr>\n",
       "</tbody>\n",
       "</table>\n"
      ],
      "text/latex": [
       "\\begin{tabular}{r|llll}\n",
       " 소요시간 & 일차 & 출발시간 & 연휴길이\\\\\n",
       "\\hline\n",
       "\t 91 & 0  & 0  & 3 \\\\\n",
       "\t 88 & 0  & 1  & 3 \\\\\n",
       "\t 88 & 0  & 2  & 3 \\\\\n",
       "\t 87 & 0  & 3  & 3 \\\\\n",
       "\t 91 & 0  & 4  & 3 \\\\\n",
       "\t 97 & 0  & 5  & 3 \\\\\n",
       "\\end{tabular}\n"
      ],
      "text/markdown": [
       "\n",
       "| 소요시간 | 일차 | 출발시간 | 연휴길이 |\n",
       "|---|---|---|---|\n",
       "| 91 | 0  | 0  | 3  |\n",
       "| 88 | 0  | 1  | 3  |\n",
       "| 88 | 0  | 2  | 3  |\n",
       "| 87 | 0  | 3  | 3  |\n",
       "| 91 | 0  | 4  | 3  |\n",
       "| 97 | 0  | 5  | 3  |\n",
       "\n"
      ],
      "text/plain": [
       "  소요시간 일차 출발시간 연휴길이\n",
       "1 91       0    0        3       \n",
       "2 88       0    1        3       \n",
       "3 88       0    2        3       \n",
       "4 87       0    3        3       \n",
       "5 91       0    4        3       \n",
       "6 97       0    5        3       "
      ]
     },
     "metadata": {},
     "output_type": "display_data"
    },
    {
     "data": {
      "text/html": [
       "1008"
      ],
      "text/latex": [
       "1008"
      ],
      "text/markdown": [
       "1008"
      ],
      "text/plain": [
       "[1] 1008"
      ]
     },
     "metadata": {},
     "output_type": "display_data"
    }
   ],
   "source": [
    "sd22 <- read.csv(\"../Data_Project/진짜최종.csv\", fileEncoding = \"UTF-8\")\n",
    "\n",
    "head(sd22)\n",
    "nrow(sd22)"
   ]
  },
  {
   "cell_type": "code",
   "execution_count": 6,
   "metadata": {},
   "outputs": [
    {
     "data": {
      "text/html": [
       "83.9533333333333"
      ],
      "text/latex": [
       "83.9533333333333"
      ],
      "text/markdown": [
       "83.9533333333333"
      ],
      "text/plain": [
       "[1] 83.95333"
      ]
     },
     "metadata": {},
     "output_type": "display_data"
    }
   ],
   "source": [
    "sum <- 0\n",
    "\n",
    "for (i in 1:100){\n",
    "  samp <- createDataPartition(sd22$소요시간, p=0.7, list=F)\n",
    "  data.tr <- sd22[samp,]\n",
    "  data.test <- sd22[-samp,]\n",
    "\n",
    "  x <- subset(data.test, select = -소요시간)\n",
    "  y <- data.test$소요시간\n",
    "\n",
    "  model_rf <- randomForest(소요시간 ~ . , data = data.tr, ntree = 100)\n",
    "  pred_rf <- predict(model_rf, x)\n",
    "  예측력_rf <- mean((pred_rf*0.80< y) & (pred_rf*1.2 > y)) \n",
    "  sum <- sum + 예측력_rf\n",
    "}\n",
    "\n",
    "sum"
   ]
  },
  {
   "cell_type": "code",
   "execution_count": 7,
   "metadata": {},
   "outputs": [
    {
     "data": {
      "text/html": [
       "<table>\n",
       "<thead><tr><th scope=col>출발시간</th><th scope=col>소요시간</th></tr></thead>\n",
       "<tbody>\n",
       "\t<tr><td> 0       </td><td> 94.14286</td></tr>\n",
       "\t<tr><td> 1       </td><td> 93.76190</td></tr>\n",
       "\t<tr><td> 2       </td><td> 94.45238</td></tr>\n",
       "\t<tr><td> 3       </td><td> 95.54762</td></tr>\n",
       "\t<tr><td> 4       </td><td> 94.47619</td></tr>\n",
       "\t<tr><td> 5       </td><td> 95.47619</td></tr>\n",
       "\t<tr><td> 6       </td><td> 96.69048</td></tr>\n",
       "\t<tr><td> 7       </td><td> 98.02381</td></tr>\n",
       "\t<tr><td> 8       </td><td> 97.64286</td></tr>\n",
       "\t<tr><td> 9       </td><td> 99.69048</td></tr>\n",
       "\t<tr><td>10       </td><td>102.69048</td></tr>\n",
       "\t<tr><td>11       </td><td>105.30952</td></tr>\n",
       "\t<tr><td>12       </td><td>111.04762</td></tr>\n",
       "\t<tr><td>13       </td><td>115.23810</td></tr>\n",
       "\t<tr><td>14       </td><td>118.45238</td></tr>\n",
       "\t<tr><td>15       </td><td>120.92857</td></tr>\n",
       "\t<tr><td>16       </td><td>120.95238</td></tr>\n",
       "\t<tr><td>17       </td><td>125.69048</td></tr>\n",
       "\t<tr><td>18       </td><td>127.19048</td></tr>\n",
       "\t<tr><td>19       </td><td>127.07143</td></tr>\n",
       "\t<tr><td>20       </td><td>124.90476</td></tr>\n",
       "\t<tr><td>21       </td><td>120.73810</td></tr>\n",
       "\t<tr><td>22       </td><td>115.61905</td></tr>\n",
       "\t<tr><td>23       </td><td>111.02381</td></tr>\n",
       "</tbody>\n",
       "</table>\n"
      ],
      "text/latex": [
       "\\begin{tabular}{r|ll}\n",
       " 출발시간 & 소요시간\\\\\n",
       "\\hline\n",
       "\t  0        &  94.14286\\\\\n",
       "\t  1        &  93.76190\\\\\n",
       "\t  2        &  94.45238\\\\\n",
       "\t  3        &  95.54762\\\\\n",
       "\t  4        &  94.47619\\\\\n",
       "\t  5        &  95.47619\\\\\n",
       "\t  6        &  96.69048\\\\\n",
       "\t  7        &  98.02381\\\\\n",
       "\t  8        &  97.64286\\\\\n",
       "\t  9        &  99.69048\\\\\n",
       "\t 10        & 102.69048\\\\\n",
       "\t 11        & 105.30952\\\\\n",
       "\t 12        & 111.04762\\\\\n",
       "\t 13        & 115.23810\\\\\n",
       "\t 14        & 118.45238\\\\\n",
       "\t 15        & 120.92857\\\\\n",
       "\t 16        & 120.95238\\\\\n",
       "\t 17        & 125.69048\\\\\n",
       "\t 18        & 127.19048\\\\\n",
       "\t 19        & 127.07143\\\\\n",
       "\t 20        & 124.90476\\\\\n",
       "\t 21        & 120.73810\\\\\n",
       "\t 22        & 115.61905\\\\\n",
       "\t 23        & 111.02381\\\\\n",
       "\\end{tabular}\n"
      ],
      "text/markdown": [
       "\n",
       "| 출발시간 | 소요시간 |\n",
       "|---|---|\n",
       "|  0        |  94.14286 |\n",
       "|  1        |  93.76190 |\n",
       "|  2        |  94.45238 |\n",
       "|  3        |  95.54762 |\n",
       "|  4        |  94.47619 |\n",
       "|  5        |  95.47619 |\n",
       "|  6        |  96.69048 |\n",
       "|  7        |  98.02381 |\n",
       "|  8        |  97.64286 |\n",
       "|  9        |  99.69048 |\n",
       "| 10        | 102.69048 |\n",
       "| 11        | 105.30952 |\n",
       "| 12        | 111.04762 |\n",
       "| 13        | 115.23810 |\n",
       "| 14        | 118.45238 |\n",
       "| 15        | 120.92857 |\n",
       "| 16        | 120.95238 |\n",
       "| 17        | 125.69048 |\n",
       "| 18        | 127.19048 |\n",
       "| 19        | 127.07143 |\n",
       "| 20        | 124.90476 |\n",
       "| 21        | 120.73810 |\n",
       "| 22        | 115.61905 |\n",
       "| 23        | 111.02381 |\n",
       "\n"
      ],
      "text/plain": [
       "   출발시간 소요시간 \n",
       "1   0        94.14286\n",
       "2   1        93.76190\n",
       "3   2        94.45238\n",
       "4   3        95.54762\n",
       "5   4        94.47619\n",
       "6   5        95.47619\n",
       "7   6        96.69048\n",
       "8   7        98.02381\n",
       "9   8        97.64286\n",
       "10  9        99.69048\n",
       "11 10       102.69048\n",
       "12 11       105.30952\n",
       "13 12       111.04762\n",
       "14 13       115.23810\n",
       "15 14       118.45238\n",
       "16 15       120.92857\n",
       "17 16       120.95238\n",
       "18 17       125.69048\n",
       "19 18       127.19048\n",
       "20 19       127.07143\n",
       "21 20       124.90476\n",
       "22 21       120.73810\n",
       "23 22       115.61905\n",
       "24 23       111.02381"
      ]
     },
     "metadata": {},
     "output_type": "display_data"
    }
   ],
   "source": [
    "sdTime <- aggregate(소요시간 ~ 출발시간, sd22, mean)\n",
    "sdTime"
   ]
  },
  {
   "cell_type": "code",
   "execution_count": 8,
   "metadata": {},
   "outputs": [
    {
     "data": {
      "text/plain": [
       "\n",
       "  0   1   2   3   4   5 \n",
       "192 192 192 192 168  72 "
      ]
     },
     "metadata": {},
     "output_type": "display_data"
    }
   ],
   "source": [
    "table(sd22$일차)"
   ]
  },
  {
   "cell_type": "code",
   "execution_count": 9,
   "metadata": {},
   "outputs": [],
   "source": [
    "sd222 <- read.csv(\"../Data_Project/진짜최종_날짜포함.csv\", fileEncoding = \"utf-8\")"
   ]
  },
  {
   "cell_type": "code",
   "execution_count": 10,
   "metadata": {},
   "outputs": [
    {
     "data": {
      "text/html": [
       "<table>\n",
       "<thead><tr><th scope=col>소요시간</th><th scope=col>일차</th><th scope=col>출발시간</th><th scope=col>연휴길이</th><th scope=col>날짜</th></tr></thead>\n",
       "<tbody>\n",
       "\t<tr><td>91        </td><td>0         </td><td>0         </td><td>2013      </td><td>2013-02-08</td></tr>\n",
       "\t<tr><td>88        </td><td>1         </td><td>0         </td><td>2013      </td><td>2013-02-08</td></tr>\n",
       "\t<tr><td>88        </td><td>2         </td><td>0         </td><td>2013      </td><td>2013-02-08</td></tr>\n",
       "\t<tr><td>87        </td><td>3         </td><td>0         </td><td>2013      </td><td>2013-02-08</td></tr>\n",
       "\t<tr><td>91        </td><td>4         </td><td>0         </td><td>2013      </td><td>2013-02-08</td></tr>\n",
       "\t<tr><td>97        </td><td>5         </td><td>0         </td><td>2013      </td><td>2013-02-08</td></tr>\n",
       "</tbody>\n",
       "</table>\n"
      ],
      "text/latex": [
       "\\begin{tabular}{r|lllll}\n",
       " 소요시간 & 일차 & 출발시간 & 연휴길이 & 날짜\\\\\n",
       "\\hline\n",
       "\t 91         & 0          & 0          & 2013       & 2013-02-08\\\\\n",
       "\t 88         & 1          & 0          & 2013       & 2013-02-08\\\\\n",
       "\t 88         & 2          & 0          & 2013       & 2013-02-08\\\\\n",
       "\t 87         & 3          & 0          & 2013       & 2013-02-08\\\\\n",
       "\t 91         & 4          & 0          & 2013       & 2013-02-08\\\\\n",
       "\t 97         & 5          & 0          & 2013       & 2013-02-08\\\\\n",
       "\\end{tabular}\n"
      ],
      "text/markdown": [
       "\n",
       "| 소요시간 | 일차 | 출발시간 | 연휴길이 | 날짜 |\n",
       "|---|---|---|---|---|\n",
       "| 91         | 0          | 0          | 2013       | 2013-02-08 |\n",
       "| 88         | 1          | 0          | 2013       | 2013-02-08 |\n",
       "| 88         | 2          | 0          | 2013       | 2013-02-08 |\n",
       "| 87         | 3          | 0          | 2013       | 2013-02-08 |\n",
       "| 91         | 4          | 0          | 2013       | 2013-02-08 |\n",
       "| 97         | 5          | 0          | 2013       | 2013-02-08 |\n",
       "\n"
      ],
      "text/plain": [
       "  소요시간 일차 출발시간 연휴길이 날짜      \n",
       "1 91       0    0        2013     2013-02-08\n",
       "2 88       1    0        2013     2013-02-08\n",
       "3 88       2    0        2013     2013-02-08\n",
       "4 87       3    0        2013     2013-02-08\n",
       "5 91       4    0        2013     2013-02-08\n",
       "6 97       5    0        2013     2013-02-08"
      ]
     },
     "metadata": {},
     "output_type": "display_data"
    }
   ],
   "source": [
    "head(sd222)"
   ]
  },
  {
   "cell_type": "code",
   "execution_count": 11,
   "metadata": {},
   "outputs": [
    {
     "data": {
      "text/html": [
       "<table>\n",
       "<thead><tr><th scope=col>X</th><th scope=col>년도</th><th scope=col>서울인구수</th><th scope=col>승용차</th><th scope=col>승합차</th><th scope=col>차합계</th></tr></thead>\n",
       "<tbody>\n",
       "\t<tr><td> 1      </td><td>2013    </td><td>10388055</td><td>2462515 </td><td>156871  </td><td>2619386 </td></tr>\n",
       "\t<tr><td> 6      </td><td>2014    </td><td>10369593</td><td>2510742 </td><td>149991  </td><td>2660733 </td></tr>\n",
       "\t<tr><td>11      </td><td>2015    </td><td>10297138</td><td>2560154 </td><td>141927  </td><td>2702081 </td></tr>\n",
       "\t<tr><td>16      </td><td>2016    </td><td>10204057</td><td>2598344 </td><td>134309  </td><td>2732653 </td></tr>\n",
       "\t<tr><td>21      </td><td>2017    </td><td>10124579</td><td>2641190 </td><td>127564  </td><td>2768754 </td></tr>\n",
       "\t<tr><td>26      </td><td>2018    </td><td>10049607</td><td>2658637 </td><td>120780  </td><td>2779417 </td></tr>\n",
       "\t<tr><td>31      </td><td>2019    </td><td>10010983</td><td>2670803 </td><td>114310  </td><td>2785113 </td></tr>\n",
       "\t<tr><td>37      </td><td>2020    </td><td> 9911088</td><td>2711984 </td><td>106504  </td><td>2818488 </td></tr>\n",
       "</tbody>\n",
       "</table>\n"
      ],
      "text/latex": [
       "\\begin{tabular}{r|llllll}\n",
       " X & 년도 & 서울인구수 & 승용차 & 승합차 & 차합계\\\\\n",
       "\\hline\n",
       "\t  1       & 2013     & 10388055 & 2462515  & 156871   & 2619386 \\\\\n",
       "\t  6       & 2014     & 10369593 & 2510742  & 149991   & 2660733 \\\\\n",
       "\t 11       & 2015     & 10297138 & 2560154  & 141927   & 2702081 \\\\\n",
       "\t 16       & 2016     & 10204057 & 2598344  & 134309   & 2732653 \\\\\n",
       "\t 21       & 2017     & 10124579 & 2641190  & 127564   & 2768754 \\\\\n",
       "\t 26       & 2018     & 10049607 & 2658637  & 120780   & 2779417 \\\\\n",
       "\t 31       & 2019     & 10010983 & 2670803  & 114310   & 2785113 \\\\\n",
       "\t 37       & 2020     &  9911088 & 2711984  & 106504   & 2818488 \\\\\n",
       "\\end{tabular}\n"
      ],
      "text/markdown": [
       "\n",
       "| X | 년도 | 서울인구수 | 승용차 | 승합차 | 차합계 |\n",
       "|---|---|---|---|---|---|\n",
       "|  1       | 2013     | 10388055 | 2462515  | 156871   | 2619386  |\n",
       "|  6       | 2014     | 10369593 | 2510742  | 149991   | 2660733  |\n",
       "| 11       | 2015     | 10297138 | 2560154  | 141927   | 2702081  |\n",
       "| 16       | 2016     | 10204057 | 2598344  | 134309   | 2732653  |\n",
       "| 21       | 2017     | 10124579 | 2641190  | 127564   | 2768754  |\n",
       "| 26       | 2018     | 10049607 | 2658637  | 120780   | 2779417  |\n",
       "| 31       | 2019     | 10010983 | 2670803  | 114310   | 2785113  |\n",
       "| 37       | 2020     |  9911088 | 2711984  | 106504   | 2818488  |\n",
       "\n"
      ],
      "text/plain": [
       "  X  년도 서울인구수 승용차  승합차 차합계 \n",
       "1  1 2013 10388055   2462515 156871 2619386\n",
       "2  6 2014 10369593   2510742 149991 2660733\n",
       "3 11 2015 10297138   2560154 141927 2702081\n",
       "4 16 2016 10204057   2598344 134309 2732653\n",
       "5 21 2017 10124579   2641190 127564 2768754\n",
       "6 26 2018 10049607   2658637 120780 2779417\n",
       "7 31 2019 10010983   2670803 114310 2785113\n",
       "8 37 2020  9911088   2711984 106504 2818488"
      ]
     },
     "metadata": {},
     "output_type": "display_data"
    }
   ],
   "source": [
    "popCar <- read.csv(\"../Data_Project/인구수자동차수.csv\", fileEncoding = \"utf-8\")\n",
    "popCar"
   ]
  },
  {
   "cell_type": "code",
   "execution_count": 12,
   "metadata": {},
   "outputs": [
    {
     "data": {
      "text/html": [
       "1056"
      ],
      "text/latex": [
       "1056"
      ],
      "text/markdown": [
       "1056"
      ],
      "text/plain": [
       "[1] 1056"
      ]
     },
     "metadata": {},
     "output_type": "display_data"
    }
   ],
   "source": [
    "nrow(sd222)"
   ]
  },
  {
   "cell_type": "code",
   "execution_count": 13,
   "metadata": {},
   "outputs": [
    {
     "data": {
      "text/plain": [
       "\n",
       " 0  1  2  3  4  5  6  7  8  9 10 11 12 13 14 15 16 17 18 19 20 21 22 23 \n",
       "44 44 44 44 44 44 44 44 44 44 44 44 44 44 44 44 44 44 44 44 44 44 44 44 "
      ]
     },
     "metadata": {},
     "output_type": "display_data"
    }
   ],
   "source": [
    "table(sd222$일차)"
   ]
  },
  {
   "cell_type": "code",
   "execution_count": 14,
   "metadata": {},
   "outputs": [
    {
     "data": {
      "text/plain": [
       "\n",
       "  0   1   2   3   4   5   6 \n",
       "192 192 192 192 192  72  24 "
      ]
     },
     "metadata": {},
     "output_type": "display_data"
    }
   ],
   "source": [
    "table(sd222$출발시간)"
   ]
  },
  {
   "cell_type": "code",
   "execution_count": 15,
   "metadata": {},
   "outputs": [],
   "source": [
    "sd555 <- read.csv(\"../Data_Project/AI프로젝트22.csv\", fileEncoding = 'utf-8')"
   ]
  },
  {
   "cell_type": "code",
   "execution_count": 16,
   "metadata": {},
   "outputs": [
    {
     "data": {
      "text/html": [
       "<table>\n",
       "<thead><tr><th scope=col>X1종.교통량</th><th scope=col>X2종.교통량</th><th scope=col>서울인구수</th></tr></thead>\n",
       "<tbody>\n",
       "\t<tr><td>3793419 </td><td>229419  </td><td>10388055</td></tr>\n",
       "\t<tr><td>2514790 </td><td>203047  </td><td>10388055</td></tr>\n",
       "\t<tr><td>1846564 </td><td>235137  </td><td>10388055</td></tr>\n",
       "\t<tr><td>1632415 </td><td>305994  </td><td>10388055</td></tr>\n",
       "\t<tr><td>2247045 </td><td>444384  </td><td>10388055</td></tr>\n",
       "\t<tr><td>5186824 </td><td>774325  </td><td>10388055</td></tr>\n",
       "</tbody>\n",
       "</table>\n"
      ],
      "text/latex": [
       "\\begin{tabular}{r|lll}\n",
       " X1종.교통량 & X2종.교통량 & 서울인구수\\\\\n",
       "\\hline\n",
       "\t 3793419  & 229419   & 10388055\\\\\n",
       "\t 2514790  & 203047   & 10388055\\\\\n",
       "\t 1846564  & 235137   & 10388055\\\\\n",
       "\t 1632415  & 305994   & 10388055\\\\\n",
       "\t 2247045  & 444384   & 10388055\\\\\n",
       "\t 5186824  & 774325   & 10388055\\\\\n",
       "\\end{tabular}\n"
      ],
      "text/markdown": [
       "\n",
       "| X1종.교통량 | X2종.교통량 | 서울인구수 |\n",
       "|---|---|---|\n",
       "| 3793419  | 229419   | 10388055 |\n",
       "| 2514790  | 203047   | 10388055 |\n",
       "| 1846564  | 235137   | 10388055 |\n",
       "| 1632415  | 305994   | 10388055 |\n",
       "| 2247045  | 444384   | 10388055 |\n",
       "| 5186824  | 774325   | 10388055 |\n",
       "\n"
      ],
      "text/plain": [
       "  X1종.교통량 X2종.교통량 서울인구수\n",
       "1 3793419     229419      10388055  \n",
       "2 2514790     203047      10388055  \n",
       "3 1846564     235137      10388055  \n",
       "4 1632415     305994      10388055  \n",
       "5 2247045     444384      10388055  \n",
       "6 5186824     774325      10388055  "
      ]
     },
     "metadata": {},
     "output_type": "display_data"
    },
    {
     "data": {
      "text/html": [
       "<table>\n",
       "<thead><tr><th scope=col>X1종.교통량</th><th scope=col>X2종.교통량</th><th scope=col>서울인구수</th></tr></thead>\n",
       "<tbody>\n",
       "\t<tr><td>-0.7736980</td><td>-0.7304996</td><td>1.406826  </td></tr>\n",
       "\t<tr><td>-0.8754301</td><td>-0.7805927</td><td>1.406826  </td></tr>\n",
       "\t<tr><td>-0.9285965</td><td>-0.7196384</td><td>1.406826  </td></tr>\n",
       "\t<tr><td>-0.9456349</td><td>-0.5850469</td><td>1.406826  </td></tr>\n",
       "\t<tr><td>-0.8967328</td><td>-0.3221779</td><td>1.406826  </td></tr>\n",
       "\t<tr><td>-0.6628339</td><td> 0.3045384</td><td>1.406826  </td></tr>\n",
       "</tbody>\n",
       "</table>\n"
      ],
      "text/latex": [
       "\\begin{tabular}{lll}\n",
       " X1종.교통량 & X2종.교통량 & 서울인구수\\\\\n",
       "\\hline\n",
       "\t -0.7736980 & -0.7304996 & 1.406826  \\\\\n",
       "\t -0.8754301 & -0.7805927 & 1.406826  \\\\\n",
       "\t -0.9285965 & -0.7196384 & 1.406826  \\\\\n",
       "\t -0.9456349 & -0.5850469 & 1.406826  \\\\\n",
       "\t -0.8967328 & -0.3221779 & 1.406826  \\\\\n",
       "\t -0.6628339 &  0.3045384 & 1.406826  \\\\\n",
       "\\end{tabular}\n"
      ],
      "text/markdown": [
       "\n",
       "| X1종.교통량 | X2종.교통량 | 서울인구수 |\n",
       "|---|---|---|\n",
       "| -0.7736980 | -0.7304996 | 1.406826   |\n",
       "| -0.8754301 | -0.7805927 | 1.406826   |\n",
       "| -0.9285965 | -0.7196384 | 1.406826   |\n",
       "| -0.9456349 | -0.5850469 | 1.406826   |\n",
       "| -0.8967328 | -0.3221779 | 1.406826   |\n",
       "| -0.6628339 |  0.3045384 | 1.406826   |\n",
       "\n"
      ],
      "text/plain": [
       "     X1종.교통량 X2종.교통량 서울인구수\n",
       "[1,] -0.7736980  -0.7304996  1.406826  \n",
       "[2,] -0.8754301  -0.7805927  1.406826  \n",
       "[3,] -0.9285965  -0.7196384  1.406826  \n",
       "[4,] -0.9456349  -0.5850469  1.406826  \n",
       "[5,] -0.8967328  -0.3221779  1.406826  \n",
       "[6,] -0.6628339   0.3045384  1.406826  "
      ]
     },
     "metadata": {},
     "output_type": "display_data"
    }
   ],
   "source": [
    "sd555 <- sd555[,-5]\n",
    "sd12 <- sd555[,6:8]\n",
    "head(sd12)\n",
    "sd12 <- scale(sd12)\n",
    "head(sd12)"
   ]
  },
  {
   "cell_type": "code",
   "execution_count": 17,
   "metadata": {},
   "outputs": [],
   "source": [
    "sdScale <- cbind(sd555[,1:5], sd12)"
   ]
  },
  {
   "cell_type": "code",
   "execution_count": 18,
   "metadata": {},
   "outputs": [
    {
     "data": {
      "text/html": [
       "1008"
      ],
      "text/latex": [
       "1008"
      ],
      "text/markdown": [
       "1008"
      ],
      "text/plain": [
       "[1] 1008"
      ]
     },
     "metadata": {},
     "output_type": "display_data"
    },
    {
     "data": {
      "text/html": [
       "<table>\n",
       "<thead><tr><th scope=col>소요시간</th><th scope=col>출발시간</th><th scope=col>일차</th><th scope=col>연휴길이</th><th scope=col>눈비</th><th scope=col>X1종.교통량</th><th scope=col>X2종.교통량</th><th scope=col>서울인구수</th></tr></thead>\n",
       "<tbody>\n",
       "\t<tr><td>91      </td><td>0       </td><td>0       </td><td>3       </td><td>TRUE    </td><td>3793419 </td><td>229419  </td><td>10388055</td></tr>\n",
       "\t<tr><td>88      </td><td>1       </td><td>0       </td><td>3       </td><td>TRUE    </td><td>2514790 </td><td>203047  </td><td>10388055</td></tr>\n",
       "\t<tr><td>88      </td><td>2       </td><td>0       </td><td>3       </td><td>TRUE    </td><td>1846564 </td><td>235137  </td><td>10388055</td></tr>\n",
       "\t<tr><td>87      </td><td>3       </td><td>0       </td><td>3       </td><td>TRUE    </td><td>1632415 </td><td>305994  </td><td>10388055</td></tr>\n",
       "\t<tr><td>91      </td><td>4       </td><td>0       </td><td>3       </td><td>TRUE    </td><td>2247045 </td><td>444384  </td><td>10388055</td></tr>\n",
       "\t<tr><td>97      </td><td>5       </td><td>0       </td><td>3       </td><td>TRUE    </td><td>5186824 </td><td>774325  </td><td>10388055</td></tr>\n",
       "</tbody>\n",
       "</table>\n"
      ],
      "text/latex": [
       "\\begin{tabular}{r|llllllll}\n",
       " 소요시간 & 출발시간 & 일차 & 연휴길이 & 눈비 & X1종.교통량 & X2종.교통량 & 서울인구수\\\\\n",
       "\\hline\n",
       "\t 91       & 0        & 0        & 3        & TRUE     & 3793419  & 229419   & 10388055\\\\\n",
       "\t 88       & 1        & 0        & 3        & TRUE     & 2514790  & 203047   & 10388055\\\\\n",
       "\t 88       & 2        & 0        & 3        & TRUE     & 1846564  & 235137   & 10388055\\\\\n",
       "\t 87       & 3        & 0        & 3        & TRUE     & 1632415  & 305994   & 10388055\\\\\n",
       "\t 91       & 4        & 0        & 3        & TRUE     & 2247045  & 444384   & 10388055\\\\\n",
       "\t 97       & 5        & 0        & 3        & TRUE     & 5186824  & 774325   & 10388055\\\\\n",
       "\\end{tabular}\n"
      ],
      "text/markdown": [
       "\n",
       "| 소요시간 | 출발시간 | 일차 | 연휴길이 | 눈비 | X1종.교통량 | X2종.교통량 | 서울인구수 |\n",
       "|---|---|---|---|---|---|---|---|\n",
       "| 91       | 0        | 0        | 3        | TRUE     | 3793419  | 229419   | 10388055 |\n",
       "| 88       | 1        | 0        | 3        | TRUE     | 2514790  | 203047   | 10388055 |\n",
       "| 88       | 2        | 0        | 3        | TRUE     | 1846564  | 235137   | 10388055 |\n",
       "| 87       | 3        | 0        | 3        | TRUE     | 1632415  | 305994   | 10388055 |\n",
       "| 91       | 4        | 0        | 3        | TRUE     | 2247045  | 444384   | 10388055 |\n",
       "| 97       | 5        | 0        | 3        | TRUE     | 5186824  | 774325   | 10388055 |\n",
       "\n"
      ],
      "text/plain": [
       "  소요시간 출발시간 일차 연휴길이 눈비 X1종.교통량 X2종.교통량 서울인구수\n",
       "1 91       0        0    3        TRUE 3793419     229419      10388055  \n",
       "2 88       1        0    3        TRUE 2514790     203047      10388055  \n",
       "3 88       2        0    3        TRUE 1846564     235137      10388055  \n",
       "4 87       3        0    3        TRUE 1632415     305994      10388055  \n",
       "5 91       4        0    3        TRUE 2247045     444384      10388055  \n",
       "6 97       5        0    3        TRUE 5186824     774325      10388055  "
      ]
     },
     "metadata": {},
     "output_type": "display_data"
    },
    {
     "data": {
      "text/html": [
       "<table>\n",
       "<thead><tr><th scope=col>소요시간</th><th scope=col>출발시간</th><th scope=col>일차</th><th scope=col>연휴길이</th><th scope=col>눈비</th><th scope=col>X1종.교통량</th><th scope=col>X2종.교통량</th><th scope=col>서울인구수</th></tr></thead>\n",
       "<tbody>\n",
       "\t<tr><td>91        </td><td>0         </td><td>0         </td><td>3         </td><td>TRUE      </td><td>-0.7736980</td><td>-0.7304996</td><td>1.406826  </td></tr>\n",
       "\t<tr><td>88        </td><td>1         </td><td>0         </td><td>3         </td><td>TRUE      </td><td>-0.8754301</td><td>-0.7805927</td><td>1.406826  </td></tr>\n",
       "\t<tr><td>88        </td><td>2         </td><td>0         </td><td>3         </td><td>TRUE      </td><td>-0.9285965</td><td>-0.7196384</td><td>1.406826  </td></tr>\n",
       "\t<tr><td>87        </td><td>3         </td><td>0         </td><td>3         </td><td>TRUE      </td><td>-0.9456349</td><td>-0.5850469</td><td>1.406826  </td></tr>\n",
       "\t<tr><td>91        </td><td>4         </td><td>0         </td><td>3         </td><td>TRUE      </td><td>-0.8967328</td><td>-0.3221779</td><td>1.406826  </td></tr>\n",
       "\t<tr><td>97        </td><td>5         </td><td>0         </td><td>3         </td><td>TRUE      </td><td>-0.6628339</td><td> 0.3045384</td><td>1.406826  </td></tr>\n",
       "</tbody>\n",
       "</table>\n"
      ],
      "text/latex": [
       "\\begin{tabular}{r|llllllll}\n",
       " 소요시간 & 출발시간 & 일차 & 연휴길이 & 눈비 & X1종.교통량 & X2종.교통량 & 서울인구수\\\\\n",
       "\\hline\n",
       "\t 91         & 0          & 0          & 3          & TRUE       & -0.7736980 & -0.7304996 & 1.406826  \\\\\n",
       "\t 88         & 1          & 0          & 3          & TRUE       & -0.8754301 & -0.7805927 & 1.406826  \\\\\n",
       "\t 88         & 2          & 0          & 3          & TRUE       & -0.9285965 & -0.7196384 & 1.406826  \\\\\n",
       "\t 87         & 3          & 0          & 3          & TRUE       & -0.9456349 & -0.5850469 & 1.406826  \\\\\n",
       "\t 91         & 4          & 0          & 3          & TRUE       & -0.8967328 & -0.3221779 & 1.406826  \\\\\n",
       "\t 97         & 5          & 0          & 3          & TRUE       & -0.6628339 &  0.3045384 & 1.406826  \\\\\n",
       "\\end{tabular}\n"
      ],
      "text/markdown": [
       "\n",
       "| 소요시간 | 출발시간 | 일차 | 연휴길이 | 눈비 | X1종.교통량 | X2종.교통량 | 서울인구수 |\n",
       "|---|---|---|---|---|---|---|---|\n",
       "| 91         | 0          | 0          | 3          | TRUE       | -0.7736980 | -0.7304996 | 1.406826   |\n",
       "| 88         | 1          | 0          | 3          | TRUE       | -0.8754301 | -0.7805927 | 1.406826   |\n",
       "| 88         | 2          | 0          | 3          | TRUE       | -0.9285965 | -0.7196384 | 1.406826   |\n",
       "| 87         | 3          | 0          | 3          | TRUE       | -0.9456349 | -0.5850469 | 1.406826   |\n",
       "| 91         | 4          | 0          | 3          | TRUE       | -0.8967328 | -0.3221779 | 1.406826   |\n",
       "| 97         | 5          | 0          | 3          | TRUE       | -0.6628339 |  0.3045384 | 1.406826   |\n",
       "\n"
      ],
      "text/plain": [
       "  소요시간 출발시간 일차 연휴길이 눈비 X1종.교통량 X2종.교통량 서울인구수\n",
       "1 91       0        0    3        TRUE -0.7736980  -0.7304996  1.406826  \n",
       "2 88       1        0    3        TRUE -0.8754301  -0.7805927  1.406826  \n",
       "3 88       2        0    3        TRUE -0.9285965  -0.7196384  1.406826  \n",
       "4 87       3        0    3        TRUE -0.9456349  -0.5850469  1.406826  \n",
       "5 91       4        0    3        TRUE -0.8967328  -0.3221779  1.406826  \n",
       "6 97       5        0    3        TRUE -0.6628339   0.3045384  1.406826  "
      ]
     },
     "metadata": {},
     "output_type": "display_data"
    }
   ],
   "source": [
    "nrow(sd555)\n",
    "head(sd555)\n",
    "head(sdScale)"
   ]
  },
  {
   "cell_type": "code",
   "execution_count": 19,
   "metadata": {
    "scrolled": false
   },
   "outputs": [
    {
     "data": {
      "text/html": [
       "75.22"
      ],
      "text/latex": [
       "75.22"
      ],
      "text/markdown": [
       "75.22"
      ],
      "text/plain": [
       "[1] 75.22"
      ]
     },
     "metadata": {},
     "output_type": "display_data"
    },
    {
     "data": {
      "text/html": [
       "62.8033333333333"
      ],
      "text/latex": [
       "62.8033333333333"
      ],
      "text/markdown": [
       "62.8033333333333"
      ],
      "text/plain": [
       "[1] 62.80333"
      ]
     },
     "metadata": {},
     "output_type": "display_data"
    },
    {
     "data": {
      "text/html": [
       "75.3866666666667"
      ],
      "text/latex": [
       "75.3866666666667"
      ],
      "text/markdown": [
       "75.3866666666667"
      ],
      "text/plain": [
       "[1] 75.38667"
      ]
     },
     "metadata": {},
     "output_type": "display_data"
    },
    {
     "data": {
      "text/html": [
       "89.957627118644"
      ],
      "text/latex": [
       "89.957627118644"
      ],
      "text/markdown": [
       "89.957627118644"
      ],
      "text/plain": [
       "[1] 89.95763"
      ]
     },
     "metadata": {},
     "output_type": "display_data"
    },
    {
     "data": {
      "text/html": [
       "64.7005649717514"
      ],
      "text/latex": [
       "64.7005649717514"
      ],
      "text/markdown": [
       "64.7005649717514"
      ],
      "text/plain": [
       "[1] 64.70056"
      ]
     },
     "metadata": {},
     "output_type": "display_data"
    },
    {
     "data": {
      "text/html": [
       "77.4985875706215"
      ],
      "text/latex": [
       "77.4985875706215"
      ],
      "text/markdown": [
       "77.4985875706215"
      ],
      "text/plain": [
       "[1] 77.49859"
      ]
     },
     "metadata": {},
     "output_type": "display_data"
    }
   ],
   "source": [
    "sum_rf <- 0\n",
    "# sum_nnet <- 0\n",
    "sum_ctree <- 0\n",
    "# sum_multi <- 0\n",
    "sum_svm <- 0\n",
    "\n",
    "sum_rf_tr <- 0\n",
    "sum_ctree_tr <- 0\n",
    "sum_svm_tr <- 0\n",
    "\n",
    "for (i in 1:100){\n",
    "  samp <- createDataPartition(sdScale$소요시간, p=0.7, list=F)\n",
    "  data.tr <- sdScale[samp,]\n",
    "  data.test <- sdScale[-samp,]\n",
    "    \n",
    "  # 트레이닝 데이터 훈련\n",
    "  x_tr <- subset(data.tr, select = -소요시간)\n",
    "  y_tr <- data.tr$소요시간\n",
    "    \n",
    "  # 테스트 데이터 훈련  \n",
    "  x_test <- subset(data.test, select = -소요시간)\n",
    "  y_test <- data.test$소요시간\n",
    "    \n",
    "  # RF\n",
    "  model_rf <- randomForest(소요시간 ~ . , data = data.tr, ntree = 100)\n",
    "  pred_rf <- predict(model_rf, x_test)\n",
    "  예측력_rf <- mean((pred_rf*0.85 < y_test) & (pred_rf*1.15 > y_test)) \n",
    "  # RF train\n",
    "  model_rf_tr <- randomForest(소요시간 ~ . , data = data.tr, ntree = 100)\n",
    "  pred_rf_tr <- predict(model_rf_tr, x_tr)\n",
    "  예측력_rf_tr <- mean((pred_rf_tr*0.85 < y_tr) & (pred_rf_tr*1.15 > y_tr))\n",
    "\n",
    "  \n",
    "  # 인공신경망\n",
    "  # model_nnet <- nnet(소요시간 ~ ., data=data.tr, size=3)\n",
    "  # pred_nnet <- predict(model_nnet, x, type=\"class\")\n",
    "  # 예측력_nnet <- mean((pred_nnet*0.85 < y) & (pred_nnet*1.15 > y)) \n",
    " \n",
    "  # 의사결정나무\n",
    "  model_ctree <- ctree(소요시간 ~ ., data=data.tr)\n",
    "  pred_ctree <- predict(model_ctree, x_test)\n",
    "  예측력_nnet <- mean((pred_ctree*0.85 < y_test) & (pred_ctree*1.15 > y_test))\n",
    "  # 의사결정나무 train\n",
    "  model_ctree_tr <- ctree(소요시간 ~ ., data=data.tr)\n",
    "  pred_ctree_tr <- predict(model_ctree_tr, x_tr)\n",
    "  예측력_ctree_tr <- mean((pred_ctree_tr*0.85 < y_tr) & (pred_ctree_tr*1.15 > y_tr))\n",
    "    \n",
    "  # SVM test\n",
    "  model_svm <- svm(소요시간 ~ ., data=data.tr)\n",
    "  pred_svm <- predict(model_svm, x_test, type = \"class\")\n",
    "  예측력_svm <- mean((pred_svm*0.85 < y_test) & (pred_svm*1.15 > y_test))\n",
    "  # SVM train\n",
    "   model_svm_tr <- svm(소요시간 ~ ., data=data.tr)\n",
    "   pred_svm_tr <- predict(model_svm_tr, x_tr, type = \"class\")\n",
    "   예측력_svm_tr <- mean((pred_svm_tr*0.85 < y_tr) & (pred_svm_tr*1.15 > y_tr))\n",
    "    \n",
    "  # 다항 로지스틱 회귀분석\n",
    "  # model_multinom <- multinom(소요시간 ~ ., data=data.tr)\n",
    "  # pred_multinom <- predict(model_multinom, x, type=\"class\")\n",
    "  # 예측력_multinom <- mean((pred_multinom*0.85 < y) & (pred_multinom*1.15 > y)) \n",
    "    \n",
    "  sum_rf <- sum_rf + 예측력_rf\n",
    "  sum_ctree <- sum_ctree + 예측력_nnet\n",
    "  sum_svm <- sum_svm + 예측력_svm\n",
    "  # sum_multi <- sum_multi + 예측력_multinom\n",
    "  # sum_nnet <- sum_nnet + 예측력_nnet\n",
    "    \n",
    "  sum_svm_tr <- sum_svm_tr + 예측력_svm_tr\n",
    "  sum_rf_tr <- sum_rf_tr + 예측력_rf_tr\n",
    "  sum_ctree_tr <- sum_ctree_tr + 예측력_ctree_tr\n",
    "}\n",
    "\n",
    "sum_rf\n",
    "sum_ctree\n",
    "sum_svm\n",
    "# sum_multi\n",
    "# sum_ctree\n",
    "\n",
    "sum_rf_tr\n",
    "sum_ctree_tr\n",
    "sum_svm_tr"
   ]
  },
  {
   "cell_type": "code",
   "execution_count": 20,
   "metadata": {},
   "outputs": [
    {
     "data": {
      "text/html": [
       "1008"
      ],
      "text/latex": [
       "1008"
      ],
      "text/markdown": [
       "1008"
      ],
      "text/plain": [
       "[1] 1008"
      ]
     },
     "metadata": {},
     "output_type": "display_data"
    }
   ],
   "source": [
    "nrow(sd555)"
   ]
  },
  {
   "cell_type": "code",
   "execution_count": 21,
   "metadata": {
    "scrolled": true
   },
   "outputs": [
    {
     "data": {
      "text/html": [
       "0.681147207884725"
      ],
      "text/latex": [
       "0.681147207884725"
      ],
      "text/markdown": [
       "0.681147207884725"
      ],
      "text/plain": [
       "[1] 0.6811472"
      ]
     },
     "metadata": {},
     "output_type": "display_data"
    }
   ],
   "source": [
    "# 정확도\n",
    "r <- 0\n",
    "\n",
    "# for (i in 1:100){\n",
    "samp <- createDataPartition(sdScale$소요시간, p=0.7, list=F)\n",
    "  data.tr <- sdScale[samp,]\n",
    "  data.test <- sdScale[-samp,]\n",
    "\n",
    "  x <- subset(data.test, select = -소요시간)\n",
    "  y <- data.test$소요시간\n",
    "    \n",
    "  model_rf <- randomForest(소요시간 ~ . , data = data.tr, ntree = 100)\n",
    "  pred_rf <- predict(model_rf, x)\n",
    "  예측력_rf <- mean((pred_rf*0.85 < y) & (pred_rf*1.15 > y)) \n",
    "  r <- 1 - sum((y - pred_rf)^2) / sum((y - mean(y))^2)\n",
    "    \n",
    "# }   \n",
    "r"
   ]
  },
  {
   "cell_type": "code",
   "execution_count": 22,
   "metadata": {},
   "outputs": [
    {
     "name": "stderr",
     "output_type": "stream",
     "text": [
      "\n",
      "Attaching package: ‘Metrics’\n",
      "\n",
      "The following objects are masked from ‘package:caret’:\n",
      "\n",
      "    precision, recall\n",
      "\n"
     ]
    }
   ],
   "source": [
    "library(Metrics)"
   ]
  },
  {
   "cell_type": "code",
   "execution_count": null,
   "metadata": {},
   "outputs": [],
   "source": []
  },
  {
   "cell_type": "code",
   "execution_count": null,
   "metadata": {},
   "outputs": [],
   "source": []
  },
  {
   "cell_type": "code",
   "execution_count": null,
   "metadata": {},
   "outputs": [],
   "source": []
  },
  {
   "cell_type": "code",
   "execution_count": null,
   "metadata": {},
   "outputs": [],
   "source": []
  },
  {
   "cell_type": "code",
   "execution_count": null,
   "metadata": {},
   "outputs": [],
   "source": []
  },
  {
   "cell_type": "code",
   "execution_count": 23,
   "metadata": {},
   "outputs": [
    {
     "data": {
      "text/plain": [
       "K-means clustering with 3 clusters of sizes 336, 336, 336\n",
       "\n",
       "Cluster means:\n",
       "  [,1]\n",
       "1  3.5\n",
       "2 19.5\n",
       "3 11.5\n",
       "\n",
       "Clustering vector:\n",
       "   [1] 1 1 1 1 1 1 1 1 3 3 3 3 3 3 3 3 2 2 2 2 2 2 2 2 1 1 1 1 1 1 1 1 3 3 3 3 3\n",
       "  [38] 3 3 3 2 2 2 2 2 2 2 2 1 1 1 1 1 1 1 1 3 3 3 3 3 3 3 3 2 2 2 2 2 2 2 2 1 1\n",
       "  [75] 1 1 1 1 1 1 3 3 3 3 3 3 3 3 2 2 2 2 2 2 2 2 1 1 1 1 1 1 1 1 3 3 3 3 3 3 3\n",
       " [112] 3 2 2 2 2 2 2 2 2 1 1 1 1 1 1 1 1 3 3 3 3 3 3 3 3 2 2 2 2 2 2 2 2 1 1 1 1\n",
       " [149] 1 1 1 1 3 3 3 3 3 3 3 3 2 2 2 2 2 2 2 2 1 1 1 1 1 1 1 1 3 3 3 3 3 3 3 3 2\n",
       " [186] 2 2 2 2 2 2 2 1 1 1 1 1 1 1 1 3 3 3 3 3 3 3 3 2 2 2 2 2 2 2 2 1 1 1 1 1 1\n",
       " [223] 1 1 3 3 3 3 3 3 3 3 2 2 2 2 2 2 2 2 1 1 1 1 1 1 1 1 3 3 3 3 3 3 3 3 2 2 2\n",
       " [260] 2 2 2 2 2 1 1 1 1 1 1 1 1 3 3 3 3 3 3 3 3 2 2 2 2 2 2 2 2 1 1 1 1 1 1 1 1\n",
       " [297] 3 3 3 3 3 3 3 3 2 2 2 2 2 2 2 2 1 1 1 1 1 1 1 1 3 3 3 3 3 3 3 3 2 2 2 2 2\n",
       " [334] 2 2 2 1 1 1 1 1 1 1 1 3 3 3 3 3 3 3 3 2 2 2 2 2 2 2 2 1 1 1 1 1 1 1 1 3 3\n",
       " [371] 3 3 3 3 3 3 2 2 2 2 2 2 2 2 1 1 1 1 1 1 1 1 3 3 3 3 3 3 3 3 2 2 2 2 2 2 2\n",
       " [408] 2 1 1 1 1 1 1 1 1 3 3 3 3 3 3 3 3 2 2 2 2 2 2 2 2 1 1 1 1 1 1 1 1 3 3 3 3\n",
       " [445] 3 3 3 3 2 2 2 2 2 2 2 2 1 1 1 1 1 1 1 1 3 3 3 3 3 3 3 3 2 2 2 2 2 2 2 2 1\n",
       " [482] 1 1 1 1 1 1 1 3 3 3 3 3 3 3 3 2 2 2 2 2 2 2 2 1 1 1 1 1 1 1 1 3 3 3 3 3 3\n",
       " [519] 3 3 2 2 2 2 2 2 2 2 1 1 1 1 1 1 1 1 3 3 3 3 3 3 3 3 2 2 2 2 2 2 2 2 1 1 1\n",
       " [556] 1 1 1 1 1 3 3 3 3 3 3 3 3 2 2 2 2 2 2 2 2 1 1 1 1 1 1 1 1 3 3 3 3 3 3 3 3\n",
       " [593] 2 2 2 2 2 2 2 2 1 1 1 1 1 1 1 1 3 3 3 3 3 3 3 3 2 2 2 2 2 2 2 2 1 1 1 1 1\n",
       " [630] 1 1 1 3 3 3 3 3 3 3 3 2 2 2 2 2 2 2 2 1 1 1 1 1 1 1 1 3 3 3 3 3 3 3 3 2 2\n",
       " [667] 2 2 2 2 2 2 1 1 1 1 1 1 1 1 3 3 3 3 3 3 3 3 2 2 2 2 2 2 2 2 1 1 1 1 1 1 1\n",
       " [704] 1 3 3 3 3 3 3 3 3 2 2 2 2 2 2 2 2 1 1 1 1 1 1 1 1 3 3 3 3 3 3 3 3 2 2 2 2\n",
       " [741] 2 2 2 2 1 1 1 1 1 1 1 1 3 3 3 3 3 3 3 3 2 2 2 2 2 2 2 2 1 1 1 1 1 1 1 1 3\n",
       " [778] 3 3 3 3 3 3 3 2 2 2 2 2 2 2 2 1 1 1 1 1 1 1 1 3 3 3 3 3 3 3 3 2 2 2 2 2 2\n",
       " [815] 2 2 1 1 1 1 1 1 1 1 3 3 3 3 3 3 3 3 2 2 2 2 2 2 2 2 1 1 1 1 1 1 1 1 3 3 3\n",
       " [852] 3 3 3 3 3 2 2 2 2 2 2 2 2 1 1 1 1 1 1 1 1 3 3 3 3 3 3 3 3 2 2 2 2 2 2 2 2\n",
       " [889] 1 1 1 1 1 1 1 1 3 3 3 3 3 3 3 3 2 2 2 2 2 2 2 2 1 1 1 1 1 1 1 1 3 3 3 3 3\n",
       " [926] 3 3 3 2 2 2 2 2 2 2 2 1 1 1 1 1 1 1 1 3 3 3 3 3 3 3 3 2 2 2 2 2 2 2 2 1 1\n",
       " [963] 1 1 1 1 1 1 3 3 3 3 3 3 3 3 2 2 2 2 2 2 2 2 1 1 1 1 1 1 1 1 3 3 3 3 3 3 3\n",
       "[1000] 3 2 2 2 2 2 2 2 2\n",
       "\n",
       "Within cluster sum of squares by cluster:\n",
       "[1] 1764 1764 1764\n",
       " (between_SS / total_SS =  89.0 %)\n",
       "\n",
       "Available components:\n",
       "\n",
       "[1] \"cluster\"      \"centers\"      \"totss\"        \"withinss\"     \"tot.withinss\"\n",
       "[6] \"betweenss\"    \"size\"         \"iter\"         \"ifault\"      "
      ]
     },
     "metadata": {},
     "output_type": "display_data"
    }
   ],
   "source": [
    "kmeans(sdScale$출발시간, 3)"
   ]
  },
  {
   "cell_type": "code",
   "execution_count": 24,
   "metadata": {},
   "outputs": [
    {
     "data": {
      "image/png": "[encoded data removed]",
      "text/plain": [
       "plot without title"
      ]
     },
     "metadata": {},
     "output_type": "display_data"
    }
   ],
   "source": [
    "boxplot(sdScale$소요시간)"
   ]
  },
  {
   "cell_type": "code",
   "execution_count": 25,
   "metadata": {},
   "outputs": [
    {
     "data": {
      "text/plain": [
       "\n",
       "  0   1   2   3   4   5 \n",
       "192 192 192 192 168  72 "
      ]
     },
     "metadata": {},
     "output_type": "display_data"
    }
   ],
   "source": [
    "table(sdScale$일차)"
   ]
  },
  {
   "cell_type": "code",
   "execution_count": 26,
   "metadata": {},
   "outputs": [],
   "source": [
    "# 일차별 데이터셋 분류\n",
    "sd1 <- subset(sdScale, 일차 == 0)\n",
    "sd2 <- subset(sdScale, 일차 == 1)\n",
    "sd3 <- subset(sdScale, 일차 == 2)\n",
    "sd4 <- subset(sdScale, 일차 == 3)\n",
    "sd5 <- subset(sdScale, 일차 == 4)\n",
    "sd6 <- subset(sdScale, 일차 == 5)"
   ]
  },
  {
   "cell_type": "code",
   "execution_count": 27,
   "metadata": {},
   "outputs": [
    {
     "data": {
      "text/plain": [
       "K-means clustering with 3 clusters of sizes 44, 114, 34\n",
       "\n",
       "Cluster means:\n",
       "       [,1]\n",
       "1 129.86364\n",
       "2  89.23684\n",
       "3 197.00000\n",
       "\n",
       "Clustering vector:\n",
       "  [1] 2 2 2 2 2 2 2 2 2 2 2 2 2 1 1 1 1 1 3 3 3 3 3 3 2 2 2 2 2 2 2 2 2 2 2 2 2\n",
       " [38] 1 1 1 1 1 3 3 3 3 3 3 2 2 2 2 2 2 2 2 2 2 2 2 1 1 1 1 1 3 3 3 3 3 3 3 2 2\n",
       " [75] 2 2 2 2 2 2 2 2 2 2 2 2 2 1 1 1 1 1 1 1 1 1 2 2 2 2 2 2 2 2 2 2 2 2 2 1 1\n",
       "[112] 1 1 3 3 3 3 3 3 3 2 2 2 2 2 2 2 2 2 2 2 2 2 2 1 1 1 1 1 3 1 3 3 3 2 2 2 2\n",
       "[149] 2 2 2 2 2 2 2 2 2 1 2 2 2 2 1 1 1 2 2 2 2 2 2 2 2 2 2 2 2 2 2 2 2 2 1 1 1\n",
       "[186] 1 1 1 3 3 3 3\n",
       "\n",
       "Within cluster sum of squares by cluster:\n",
       "[1] 10031.182  5568.605 21062.000\n",
       " (between_SS / total_SS =  89.5 %)\n",
       "\n",
       "Available components:\n",
       "\n",
       "[1] \"cluster\"      \"centers\"      \"totss\"        \"withinss\"     \"tot.withinss\"\n",
       "[6] \"betweenss\"    \"size\"         \"iter\"         \"ifault\"      "
      ]
     },
     "metadata": {},
     "output_type": "display_data"
    }
   ],
   "source": [
    "kmeans(sd1$소요시간, 3)"
   ]
  },
  {
   "cell_type": "code",
   "execution_count": 28,
   "metadata": {},
   "outputs": [
    {
     "data": {
      "text/plain": [
       "K-means clustering with 3 clusters of sizes 30, 88, 74\n",
       "\n",
       "Cluster means:\n",
       "      [,1]\n",
       "1 200.4333\n",
       "2 105.4432\n",
       "3 151.1351\n",
       "\n",
       "Clustering vector:\n",
       "  [1] 3 3 2 2 2 2 2 3 3 3 3 3 3 3 3 2 2 2 2 2 2 2 2 2 3 3 3 3 3 3 3 3 3 1 1 1 1\n",
       " [38] 1 1 1 3 3 3 3 2 2 2 2 1 1 1 3 1 3 3 1 3 1 1 1 1 1 1 1 1 1 3 3 3 2 2 2 2 2\n",
       " [75] 2 2 2 2 2 2 2 2 2 2 2 2 2 2 2 2 2 2 2 2 2 2 3 3 3 3 3 3 3 3 3 3 3 3 3 3 3\n",
       "[112] 3 2 3 2 2 2 2 2 2 2 3 3 3 3 3 3 3 3 3 3 1 1 1 1 1 3 3 3 3 2 2 2 2 2 2 2 2\n",
       "[149] 2 2 2 2 2 2 2 2 2 2 2 2 2 2 2 2 2 2 2 2 2 2 3 3 3 3 3 3 3 3 1 1 1 1 3 3 3\n",
       "[186] 3 3 2 2 2 2 2\n",
       "\n",
       "Within cluster sum of squares by cluster:\n",
       "[1] 11557.37 14647.72 11964.65\n",
       " (between_SS / total_SS =  85.4 %)\n",
       "\n",
       "Available components:\n",
       "\n",
       "[1] \"cluster\"      \"centers\"      \"totss\"        \"withinss\"     \"tot.withinss\"\n",
       "[6] \"betweenss\"    \"size\"         \"iter\"         \"ifault\"      "
      ]
     },
     "metadata": {},
     "output_type": "display_data"
    }
   ],
   "source": [
    "kmeans(sd2$소요시간, 3)"
   ]
  },
  {
   "cell_type": "code",
   "execution_count": 29,
   "metadata": {},
   "outputs": [
    {
     "data": {
      "text/plain": [
       "K-means clustering with 3 clusters of sizes 37, 57, 98\n",
       "\n",
       "Cluster means:\n",
       "       [,1]\n",
       "1 155.94595\n",
       "2 116.54386\n",
       "3  90.65306\n",
       "\n",
       "Clustering vector:\n",
       "  [1] 3 3 3 3 3 2 3 3 3 3 3 3 3 2 2 2 2 1 1 1 1 2 2 2 3 3 3 3 3 3 3 3 3 3 3 3 3\n",
       " [38] 2 2 2 1 2 1 1 1 1 2 2 3 3 3 3 3 3 3 3 3 3 3 3 2 2 1 1 1 1 1 1 1 1 1 1 3 3\n",
       " [75] 3 3 3 3 3 3 3 2 3 2 2 2 2 2 2 2 2 2 2 3 3 3 3 3 3 3 3 3 3 3 3 3 3 3 3 2 2\n",
       "[112] 1 1 1 1 1 1 2 2 2 3 3 3 3 3 3 3 3 3 3 3 3 2 2 2 2 1 1 1 1 2 2 2 3 3 3 3 3\n",
       "[149] 3 3 3 2 3 3 2 2 2 2 2 1 2 1 1 1 2 2 2 2 3 3 3 3 3 3 3 3 3 3 3 3 2 2 2 2 1\n",
       "[186] 1 1 1 2 2 2 3\n",
       "\n",
       "Within cluster sum of squares by cluster:\n",
       "[1] 10125.892  5112.140  4174.204\n",
       " (between_SS / total_SS =  85.8 %)\n",
       "\n",
       "Available components:\n",
       "\n",
       "[1] \"cluster\"      \"centers\"      \"totss\"        \"withinss\"     \"tot.withinss\"\n",
       "[6] \"betweenss\"    \"size\"         \"iter\"         \"ifault\"      "
      ]
     },
     "metadata": {},
     "output_type": "display_data"
    }
   ],
   "source": [
    "kmeans(sd3$소요시간, 3)"
   ]
  },
  {
   "cell_type": "code",
   "execution_count": 30,
   "metadata": {},
   "outputs": [
    {
     "data": {
      "text/plain": [
       "K-means clustering with 3 clusters of sizes 38, 146, 8\n",
       "\n",
       "Cluster means:\n",
       "       [,1]\n",
       "1 104.63158\n",
       "2  87.05479\n",
       "3 168.50000\n",
       "\n",
       "Clustering vector:\n",
       "  [1] 2 2 2 2 2 2 2 2 2 2 2 2 2 2 2 2 2 2 2 2 2 2 2 2 2 2 2 2 2 2 2 2 2 2 2 2 2\n",
       " [38] 2 2 2 2 2 2 1 1 2 1 2 1 2 2 2 2 2 2 2 2 2 2 2 2 1 1 1 1 2 2 2 2 2 2 2 2 2\n",
       " [75] 2 2 2 2 2 2 2 2 2 2 1 1 1 3 3 3 3 3 3 3 3 1 2 2 2 2 2 2 2 2 2 2 2 2 2 2 2\n",
       "[112] 2 1 1 1 1 1 1 2 2 2 2 2 2 2 2 2 2 2 2 2 2 2 2 2 2 2 1 2 2 2 2 2 2 2 2 2 2\n",
       "[149] 2 2 2 1 1 1 1 1 1 1 1 1 1 1 1 1 2 2 2 2 2 2 2 2 2 2 2 2 2 2 2 2 2 2 1 1 1\n",
       "[186] 1 1 1 2 2 2 2\n",
       "\n",
       "Within cluster sum of squares by cluster:\n",
       "[1] 3334.842 2967.562 3400.000\n",
       " (between_SS / total_SS =  85.2 %)\n",
       "\n",
       "Available components:\n",
       "\n",
       "[1] \"cluster\"      \"centers\"      \"totss\"        \"withinss\"     \"tot.withinss\"\n",
       "[6] \"betweenss\"    \"size\"         \"iter\"         \"ifault\"      "
      ]
     },
     "metadata": {},
     "output_type": "display_data"
    }
   ],
   "source": [
    "kmeans(sd4$소요시간, 3)"
   ]
  },
  {
   "cell_type": "code",
   "execution_count": 31,
   "metadata": {},
   "outputs": [
    {
     "data": {
      "text/plain": [
       "K-means clustering with 3 clusters of sizes 79, 10, 79\n",
       "\n",
       "Cluster means:\n",
       "       [,1]\n",
       "1  82.46835\n",
       "2 124.90000\n",
       "3  91.46835\n",
       "\n",
       "Clustering vector:\n",
       "  [1] 1 1 1 1 1 3 1 1 1 1 1 1 3 3 3 3 3 3 3 3 1 3 3 1 1 1 1 1 1 1 1 1 1 1 1 1 3\n",
       " [38] 3 3 3 3 3 3 3 3 3 3 3 1 1 1 1 3 3 3 1 1 1 1 1 1 3 3 3 3 3 3 1 1 3 1 1 1 3\n",
       " [75] 3 3 3 3 3 1 1 3 1 3 1 1 3 3 3 3 3 3 1 1 1 1 1 1 1 3 3 1 1 1 1 1 1 1 1 3 3\n",
       "[112] 3 3 3 3 3 3 3 3 3 3 3 1 1 1 1 1 3 3 3 3 3 2 2 2 2 2 2 2 2 2 2 3 3 1 1 3 1\n",
       "[149] 1 1 1 1 1 1 1 1 1 1 3 3 1 3 3 3 3 3 3 3\n",
       "\n",
       "Within cluster sum of squares by cluster:\n",
       "[1]  469.6709 1208.9000 1055.6709\n",
       " (between_SS / total_SS =  86.0 %)\n",
       "\n",
       "Available components:\n",
       "\n",
       "[1] \"cluster\"      \"centers\"      \"totss\"        \"withinss\"     \"tot.withinss\"\n",
       "[6] \"betweenss\"    \"size\"         \"iter\"         \"ifault\"      "
      ]
     },
     "metadata": {},
     "output_type": "display_data"
    }
   ],
   "source": [
    "kmeans(sd5$소요시간, 3)"
   ]
  },
  {
   "cell_type": "code",
   "execution_count": 32,
   "metadata": {},
   "outputs": [
    {
     "data": {
      "text/plain": [
       "K-means clustering with 3 clusters of sizes 13, 34, 25\n",
       "\n",
       "Cluster means:\n",
       "      [,1]\n",
       "1 93.15385\n",
       "2 85.61765\n",
       "3 79.20000\n",
       "\n",
       "Clustering vector:\n",
       " [1] 3 3 3 2 2 2 2 3 3 3 3 3 2 2 2 2 2 2 2 2 2 2 2 3 1 1 1 3 3 3 3 2 2 2 2 2 2 2\n",
       "[39] 2 2 2 2 2 2 2 2 2 2 3 3 3 3 1 3 3 3 3 3 3 3 3 2 1 1 1 1 1 1 1 1 1 2\n",
       "\n",
       "Within cluster sum of squares by cluster:\n",
       "[1]  73.69231  94.02941 150.00000\n",
       " (between_SS / total_SS =  84.4 %)\n",
       "\n",
       "Available components:\n",
       "\n",
       "[1] \"cluster\"      \"centers\"      \"totss\"        \"withinss\"     \"tot.withinss\"\n",
       "[6] \"betweenss\"    \"size\"         \"iter\"         \"ifault\"      "
      ]
     },
     "metadata": {},
     "output_type": "display_data"
    }
   ],
   "source": [
    "kmeans(sd6$소요시간, 3)"
   ]
  },
  {
   "cell_type": "code",
   "execution_count": 33,
   "metadata": {},
   "outputs": [],
   "source": [
    "# 출발시간별 데이터셋 분류\n",
    "sd <- subset(sdScale, 출발시간 == 0)"
   ]
  },
  {
   "cell_type": "code",
   "execution_count": 34,
   "metadata": {},
   "outputs": [
    {
     "data": {
      "text/plain": [
       "K-means clustering with 3 clusters of sizes 5, 36, 1\n",
       "\n",
       "Cluster means:\n",
       "       [,1]\n",
       "1 137.00000\n",
       "2  84.72222\n",
       "3 219.00000\n",
       "\n",
       "Clustering vector:\n",
       " [1] 2 1 2 2 2 1 2 2 2 2 3 2 2 2 2 2 2 2 2 2 2 2 1 2 2 2 2 1 2 2 2 2 2 2 2 2 2 2\n",
       "[39] 1 2 2 2\n",
       "\n",
       "Within cluster sum of squares by cluster:\n",
       "[1] 1090.000 1105.222    0.000\n",
       " (between_SS / total_SS =  92.7 %)\n",
       "\n",
       "Available components:\n",
       "\n",
       "[1] \"cluster\"      \"centers\"      \"totss\"        \"withinss\"     \"tot.withinss\"\n",
       "[6] \"betweenss\"    \"size\"         \"iter\"         \"ifault\"      "
      ]
     },
     "metadata": {},
     "output_type": "display_data"
    }
   ],
   "source": [
    "kmeans(subset(sdScale, 출발시간 == 0)$소요시간, 3)"
   ]
  },
  {
   "cell_type": "code",
   "execution_count": 35,
   "metadata": {
    "scrolled": true
   },
   "outputs": [
    {
     "data": {
      "text/plain": [
       "\n",
       " 73  75  76  77  78  79  80  81  82  83  84  85  86  87  88  89  90  91  92  93 \n",
       "  1   4   3   4   8  19  23  29  32  29  42  38  34  48  32  41  31  31  29  38 \n",
       " 94  95  96  97  98  99 100 101 102 103 104 105 106 107 108 109 110 111 112 113 \n",
       " 26  17  12  14   9  13   8   7  15   8  11   7   6   8   7   3   6   9  10   6 \n",
       "114 115 116 117 118 119 120 121 122 123 124 125 126 127 128 129 130 131 132 133 \n",
       "  6   4   4   5   9   4   2   7   3   5   6   5   2   7   4   6   1   4   2   9 \n",
       "134 135 136 137 138 139 140 141 142 143 144 145 146 147 148 149 150 151 152 153 \n",
       "  3   2   2   2   2   7   1   4   4   4   8   4   4   4   5   5   5   1   3   3 \n",
       "154 155 156 157 158 159 160 161 162 163 164 165 166 167 168 169 170 171 172 173 \n",
       "  3   4   5   3   4   1   5   1   3   2   2   3   3   3   3   1   3   2   2   1 \n",
       "174 176 177 178 179 180 181 182 183 184 185 186 187 188 191 192 194 195 196 200 \n",
       "  1   2   3   1   1   2   2   2   3   1   2   1   4   2   2   4   2   2   2   1 \n",
       "201 202 203 205 206 207 211 212 215 216 219 222 225 227 229 239 242 243 246 249 \n",
       "  1   1   3   2   2   1   1   2   1   1   1   2   1   1   1   1   1   2   1   1 \n",
       "251 \n",
       "  1 "
      ]
     },
     "metadata": {},
     "output_type": "display_data"
    }
   ],
   "source": [
    "table(sdScale$소요시간)"
   ]
  },
  {
   "cell_type": "code",
   "execution_count": 36,
   "metadata": {},
   "outputs": [],
   "source": [
    "library(dplyr)\n",
    "sdScaleArr <- arrange(sdScale, 소요시간)"
   ]
  },
  {
   "cell_type": "code",
   "execution_count": 37,
   "metadata": {},
   "outputs": [
    {
     "data": {
      "text/html": [
       "194"
      ],
      "text/latex": [
       "194"
      ],
      "text/markdown": [
       "194"
      ],
      "text/plain": [
       "[1] 194"
      ]
     },
     "metadata": {},
     "output_type": "display_data"
    },
    {
     "data": {
      "text/html": [
       "193"
      ],
      "text/latex": [
       "193"
      ],
      "text/markdown": [
       "193"
      ],
      "text/plain": [
       "[1] 193"
      ]
     },
     "metadata": {},
     "output_type": "display_data"
    },
    {
     "data": {
      "text/html": [
       "331"
      ],
      "text/latex": [
       "331"
      ],
      "text/markdown": [
       "331"
      ],
      "text/plain": [
       "[1] 331"
      ]
     },
     "metadata": {},
     "output_type": "display_data"
    },
    {
     "data": {
      "text/html": [
       "216"
      ],
      "text/latex": [
       "216"
      ],
      "text/markdown": [
       "216"
      ],
      "text/plain": [
       "[1] 216"
      ]
     },
     "metadata": {},
     "output_type": "display_data"
    },
    {
     "data": {
      "text/html": [
       "68"
      ],
      "text/latex": [
       "68"
      ],
      "text/markdown": [
       "68"
      ],
      "text/plain": [
       "[1] 68"
      ]
     },
     "metadata": {},
     "output_type": "display_data"
    }
   ],
   "source": [
    "nrow(sdScaleArr[sdScaleArr$소요시간 <= 84,])\n",
    "nrow(sdScaleArr[sdScaleArr$소요시간 > 84 & sdScaleArr$소요시간 <= 89,])\n",
    "nrow(sdScaleArr[sdScaleArr$소요시간 > 89 & sdScaleArr$소요시간 <= 113,])\n",
    "nrow(sdScaleArr[sdScaleArr$소요시간 > 114 & sdScaleArr$소요시간 <= 173,])\n",
    "nrow(sdScaleArr[sdScaleArr$소요시간 > 173,])\n"
   ]
  },
  {
   "cell_type": "code",
   "execution_count": 39,
   "metadata": {},
   "outputs": [
    {
     "data": {
      "text/html": [
       "<table>\n",
       "<thead><tr><th scope=col>소요시간</th><th scope=col>출발시간</th><th scope=col>일차</th><th scope=col>연휴길이</th><th scope=col>날짜</th><th scope=col>눈비</th><th scope=col>X1종.교통량</th><th scope=col>X2종.교통량</th><th scope=col>서울인구수</th><th scope=col>디데이</th></tr></thead>\n",
       "<tbody>\n",
       "\t<tr><td>91        </td><td>0         </td><td>0         </td><td>3         </td><td>2013-02-08</td><td>TRUE      </td><td>3793419   </td><td>229419    </td><td>10388055  </td><td>전전날    </td></tr>\n",
       "\t<tr><td>88        </td><td>1         </td><td>0         </td><td>3         </td><td>2013-02-08</td><td>TRUE      </td><td>2514790   </td><td>203047    </td><td>10388055  </td><td>전전날    </td></tr>\n",
       "\t<tr><td>88        </td><td>2         </td><td>0         </td><td>3         </td><td>2013-02-08</td><td>TRUE      </td><td>1846564   </td><td>235137    </td><td>10388055  </td><td>전전날    </td></tr>\n",
       "\t<tr><td>87        </td><td>3         </td><td>0         </td><td>3         </td><td>2013-02-08</td><td>TRUE      </td><td>1632415   </td><td>305994    </td><td>10388055  </td><td>전전날    </td></tr>\n",
       "\t<tr><td>91        </td><td>4         </td><td>0         </td><td>3         </td><td>2013-02-08</td><td>TRUE      </td><td>2247045   </td><td>444384    </td><td>10388055  </td><td>전전날    </td></tr>\n",
       "\t<tr><td>97        </td><td>5         </td><td>0         </td><td>3         </td><td>2013-02-08</td><td>TRUE      </td><td>5186824   </td><td>774325    </td><td>10388055  </td><td>전전날    </td></tr>\n",
       "</tbody>\n",
       "</table>\n"
      ],
      "text/latex": [
       "\\begin{tabular}{r|llllllllll}\n",
       " 소요시간 & 출발시간 & 일차 & 연휴길이 & 날짜 & 눈비 & X1종.교통량 & X2종.교통량 & 서울인구수 & 디데이\\\\\n",
       "\\hline\n",
       "\t 91         & 0          & 0          & 3          & 2013-02-08 & TRUE       & 3793419    & 229419     & 10388055   & 전전날    \\\\\n",
       "\t 88         & 1          & 0          & 3          & 2013-02-08 & TRUE       & 2514790    & 203047     & 10388055   & 전전날    \\\\\n",
       "\t 88         & 2          & 0          & 3          & 2013-02-08 & TRUE       & 1846564    & 235137     & 10388055   & 전전날    \\\\\n",
       "\t 87         & 3          & 0          & 3          & 2013-02-08 & TRUE       & 1632415    & 305994     & 10388055   & 전전날    \\\\\n",
       "\t 91         & 4          & 0          & 3          & 2013-02-08 & TRUE       & 2247045    & 444384     & 10388055   & 전전날    \\\\\n",
       "\t 97         & 5          & 0          & 3          & 2013-02-08 & TRUE       & 5186824    & 774325     & 10388055   & 전전날    \\\\\n",
       "\\end{tabular}\n"
      ],
      "text/markdown": [
       "\n",
       "| 소요시간 | 출발시간 | 일차 | 연휴길이 | 날짜 | 눈비 | X1종.교통량 | X2종.교통량 | 서울인구수 | 디데이 |\n",
       "|---|---|---|---|---|---|---|---|---|---|\n",
       "| 91         | 0          | 0          | 3          | 2013-02-08 | TRUE       | 3793419    | 229419     | 10388055   | 전전날     |\n",
       "| 88         | 1          | 0          | 3          | 2013-02-08 | TRUE       | 2514790    | 203047     | 10388055   | 전전날     |\n",
       "| 88         | 2          | 0          | 3          | 2013-02-08 | TRUE       | 1846564    | 235137     | 10388055   | 전전날     |\n",
       "| 87         | 3          | 0          | 3          | 2013-02-08 | TRUE       | 1632415    | 305994     | 10388055   | 전전날     |\n",
       "| 91         | 4          | 0          | 3          | 2013-02-08 | TRUE       | 2247045    | 444384     | 10388055   | 전전날     |\n",
       "| 97         | 5          | 0          | 3          | 2013-02-08 | TRUE       | 5186824    | 774325     | 10388055   | 전전날     |\n",
       "\n"
      ],
      "text/plain": [
       "  소요시간 출발시간 일차 연휴길이 날짜       눈비 X1종.교통량 X2종.교통량\n",
       "1 91       0        0    3        2013-02-08 TRUE 3793419     229419     \n",
       "2 88       1        0    3        2013-02-08 TRUE 2514790     203047     \n",
       "3 88       2        0    3        2013-02-08 TRUE 1846564     235137     \n",
       "4 87       3        0    3        2013-02-08 TRUE 1632415     305994     \n",
       "5 91       4        0    3        2013-02-08 TRUE 2247045     444384     \n",
       "6 97       5        0    3        2013-02-08 TRUE 5186824     774325     \n",
       "  서울인구수 디데이\n",
       "1 10388055   전전날\n",
       "2 10388055   전전날\n",
       "3 10388055   전전날\n",
       "4 10388055   전전날\n",
       "5 10388055   전전날\n",
       "6 10388055   전전날"
      ]
     },
     "metadata": {},
     "output_type": "display_data"
    },
    {
     "data": {
      "text/html": [
       "432"
      ],
      "text/latex": [
       "432"
      ],
      "text/markdown": [
       "432"
      ],
      "text/plain": [
       "[1] 432"
      ]
     },
     "metadata": {},
     "output_type": "display_data"
    }
   ],
   "source": [
    "sd일차 <- read.csv(\"../Data_Project/일단최종6월13일.csv\")\n",
    "head(sd일차)\n",
    "nrow(sd일차)"
   ]
  },
  {
   "cell_type": "code",
   "execution_count": 40,
   "metadata": {
    "scrolled": true
   },
   "outputs": [
    {
     "data": {
      "text/html": [
       "144"
      ],
      "text/latex": [
       "144"
      ],
      "text/markdown": [
       "144"
      ],
      "text/plain": [
       "[1] 144"
      ]
     },
     "metadata": {},
     "output_type": "display_data"
    },
    {
     "data": {
      "text/html": [
       "144"
      ],
      "text/latex": [
       "144"
      ],
      "text/markdown": [
       "144"
      ],
      "text/plain": [
       "[1] 144"
      ]
     },
     "metadata": {},
     "output_type": "display_data"
    },
    {
     "data": {
      "text/html": [
       "144"
      ],
      "text/latex": [
       "144"
      ],
      "text/markdown": [
       "144"
      ],
      "text/plain": [
       "[1] 144"
      ]
     },
     "metadata": {},
     "output_type": "display_data"
    }
   ],
   "source": [
    "sd일차0 <- subset(sd일차, 일차 == 0)\n",
    "nrow(sd일차0)\n",
    "sd일차1 <- subset(sd일차, 일차 == 1)\n",
    "nrow(sd일차1)\n",
    "sd일차2 <- subset(sd일차, 일차 == 2)\n",
    "nrow(sd일차2)"
   ]
  },
  {
   "cell_type": "code",
   "execution_count": 41,
   "metadata": {},
   "outputs": [
    {
     "data": {
      "image/png": "[encoded data removed]",
      "text/plain": [
       "plot without title"
      ]
     },
     "metadata": {},
     "output_type": "display_data"
    }
   ],
   "source": [
    "par(mfrow = c(2,2))\n",
    "boxplot(sd일차0$소요시간)\n",
    "boxplot(sd일차1$소요시간)\n",
    "boxplot(sd일차2$소요시간)"
   ]
  },
  {
   "cell_type": "code",
   "execution_count": 160,
   "metadata": {
    "scrolled": false
   },
   "outputs": [
    {
     "data": {
      "text/plain": [
       "\n",
       " A  B  C  D \n",
       "35 37 36 36 "
      ]
     },
     "metadata": {},
     "output_type": "display_data"
    },
    {
     "data": {
      "text/plain": [
       "\n",
       " A  B  C  D \n",
       "37 38 31 38 "
      ]
     },
     "metadata": {},
     "output_type": "display_data"
    },
    {
     "data": {
      "text/html": [
       "<table>\n",
       "<thead><tr><th scope=col>X1종.교통량</th><th scope=col>X2종.교통량</th><th scope=col>서울인구수</th></tr></thead>\n",
       "<tbody>\n",
       "\t<tr><td>-0.8192102 </td><td>-0.86871839</td><td>1.124724   </td></tr>\n",
       "\t<tr><td>-0.9097371 </td><td>-0.91451260</td><td>1.124724   </td></tr>\n",
       "\t<tr><td>-0.9570474 </td><td>-0.85878925</td><td>1.124724   </td></tr>\n",
       "\t<tr><td>-0.9722092 </td><td>-0.73574812</td><td>1.124724   </td></tr>\n",
       "\t<tr><td>-0.9286934 </td><td>-0.49543791</td><td>1.124724   </td></tr>\n",
       "\t<tr><td>-0.7205572 </td><td> 0.07749504</td><td>1.124724   </td></tr>\n",
       "</tbody>\n",
       "</table>\n"
      ],
      "text/latex": [
       "\\begin{tabular}{lll}\n",
       " X1종.교통량 & X2종.교통량 & 서울인구수\\\\\n",
       "\\hline\n",
       "\t -0.8192102  & -0.86871839 & 1.124724   \\\\\n",
       "\t -0.9097371  & -0.91451260 & 1.124724   \\\\\n",
       "\t -0.9570474  & -0.85878925 & 1.124724   \\\\\n",
       "\t -0.9722092  & -0.73574812 & 1.124724   \\\\\n",
       "\t -0.9286934  & -0.49543791 & 1.124724   \\\\\n",
       "\t -0.7205572  &  0.07749504 & 1.124724   \\\\\n",
       "\\end{tabular}\n"
      ],
      "text/markdown": [
       "\n",
       "| X1종.교통량 | X2종.교통량 | 서울인구수 |\n",
       "|---|---|---|\n",
       "| -0.8192102  | -0.86871839 | 1.124724    |\n",
       "| -0.9097371  | -0.91451260 | 1.124724    |\n",
       "| -0.9570474  | -0.85878925 | 1.124724    |\n",
       "| -0.9722092  | -0.73574812 | 1.124724    |\n",
       "| -0.9286934  | -0.49543791 | 1.124724    |\n",
       "| -0.7205572  |  0.07749504 | 1.124724    |\n",
       "\n"
      ],
      "text/plain": [
       "     X1종.교통량 X2종.교통량 서울인구수\n",
       "[1,] -0.8192102  -0.86871839 1.124724  \n",
       "[2,] -0.9097371  -0.91451260 1.124724  \n",
       "[3,] -0.9570474  -0.85878925 1.124724  \n",
       "[4,] -0.9722092  -0.73574812 1.124724  \n",
       "[5,] -0.9286934  -0.49543791 1.124724  \n",
       "[6,] -0.7205572   0.07749504 1.124724  "
      ]
     },
     "metadata": {},
     "output_type": "display_data"
    },
    {
     "data": {
      "text/html": [
       "<table>\n",
       "<thead><tr><th scope=col>소요시간범위</th><th scope=col>출발시간</th><th scope=col>연휴길이</th><th scope=col>눈비</th><th scope=col>X1종.교통량</th><th scope=col>X2종.교통량</th><th scope=col>서울인구수</th></tr></thead>\n",
       "<tbody>\n",
       "\t<tr><td>B       </td><td>0       </td><td>3       </td><td>TRUE    </td><td>3793419 </td><td>229419  </td><td>10388055</td></tr>\n",
       "\t<tr><td>B       </td><td>1       </td><td>3       </td><td>TRUE    </td><td>2514790 </td><td>203047  </td><td>10388055</td></tr>\n",
       "\t<tr><td>B       </td><td>2       </td><td>3       </td><td>TRUE    </td><td>1846564 </td><td>235137  </td><td>10388055</td></tr>\n",
       "\t<tr><td>A       </td><td>3       </td><td>3       </td><td>TRUE    </td><td>1632415 </td><td>305994  </td><td>10388055</td></tr>\n",
       "\t<tr><td>B       </td><td>4       </td><td>3       </td><td>TRUE    </td><td>2247045 </td><td>444384  </td><td>10388055</td></tr>\n",
       "\t<tr><td>B       </td><td>5       </td><td>3       </td><td>TRUE    </td><td>5186824 </td><td>774325  </td><td>10388055</td></tr>\n",
       "</tbody>\n",
       "</table>\n"
      ],
      "text/latex": [
       "\\begin{tabular}{r|lllllll}\n",
       " 소요시간범위 & 출발시간 & 연휴길이 & 눈비 & X1종.교통량 & X2종.교통량 & 서울인구수\\\\\n",
       "\\hline\n",
       "\t B        & 0        & 3        & TRUE     & 3793419  & 229419   & 10388055\\\\\n",
       "\t B        & 1        & 3        & TRUE     & 2514790  & 203047   & 10388055\\\\\n",
       "\t B        & 2        & 3        & TRUE     & 1846564  & 235137   & 10388055\\\\\n",
       "\t A        & 3        & 3        & TRUE     & 1632415  & 305994   & 10388055\\\\\n",
       "\t B        & 4        & 3        & TRUE     & 2247045  & 444384   & 10388055\\\\\n",
       "\t B        & 5        & 3        & TRUE     & 5186824  & 774325   & 10388055\\\\\n",
       "\\end{tabular}\n"
      ],
      "text/markdown": [
       "\n",
       "| 소요시간범위 | 출발시간 | 연휴길이 | 눈비 | X1종.교통량 | X2종.교통량 | 서울인구수 |\n",
       "|---|---|---|---|---|---|---|\n",
       "| B        | 0        | 3        | TRUE     | 3793419  | 229419   | 10388055 |\n",
       "| B        | 1        | 3        | TRUE     | 2514790  | 203047   | 10388055 |\n",
       "| B        | 2        | 3        | TRUE     | 1846564  | 235137   | 10388055 |\n",
       "| A        | 3        | 3        | TRUE     | 1632415  | 305994   | 10388055 |\n",
       "| B        | 4        | 3        | TRUE     | 2247045  | 444384   | 10388055 |\n",
       "| B        | 5        | 3        | TRUE     | 5186824  | 774325   | 10388055 |\n",
       "\n"
      ],
      "text/plain": [
       "  소요시간범위 출발시간 연휴길이 눈비 X1종.교통량 X2종.교통량 서울인구수\n",
       "1 B            0        3        TRUE 3793419     229419      10388055  \n",
       "2 B            1        3        TRUE 2514790     203047      10388055  \n",
       "3 B            2        3        TRUE 1846564     235137      10388055  \n",
       "4 A            3        3        TRUE 1632415     305994      10388055  \n",
       "5 B            4        3        TRUE 2247045     444384      10388055  \n",
       "6 B            5        3        TRUE 5186824     774325      10388055  "
      ]
     },
     "metadata": {},
     "output_type": "display_data"
    },
    {
     "data": {
      "text/html": [
       "<table>\n",
       "<thead><tr><th scope=col>소요시간범위</th><th scope=col>출발시간</th><th scope=col>연휴길이</th><th scope=col>눈비</th><th scope=col>X1종.교통량</th><th scope=col>X2종.교통량</th><th scope=col>서울인구수</th></tr></thead>\n",
       "<tbody>\n",
       "\t<tr><td>B       </td><td>0       </td><td>3       </td><td>TRUE    </td><td>3793419 </td><td>229419  </td><td>10388055</td></tr>\n",
       "\t<tr><td>B       </td><td>1       </td><td>3       </td><td>TRUE    </td><td>2514790 </td><td>203047  </td><td>10388055</td></tr>\n",
       "\t<tr><td>A       </td><td>2       </td><td>3       </td><td>TRUE    </td><td>1846564 </td><td>235137  </td><td>10388055</td></tr>\n",
       "\t<tr><td>A       </td><td>3       </td><td>3       </td><td>TRUE    </td><td>1632415 </td><td>305994  </td><td>10388055</td></tr>\n",
       "\t<tr><td>A       </td><td>4       </td><td>3       </td><td>TRUE    </td><td>2247045 </td><td>444384  </td><td>10388055</td></tr>\n",
       "\t<tr><td>A       </td><td>5       </td><td>3       </td><td>TRUE    </td><td>5186824 </td><td>774325  </td><td>10388055</td></tr>\n",
       "</tbody>\n",
       "</table>\n"
      ],
      "text/latex": [
       "\\begin{tabular}{r|lllllll}\n",
       " 소요시간범위 & 출발시간 & 연휴길이 & 눈비 & X1종.교통량 & X2종.교통량 & 서울인구수\\\\\n",
       "\\hline\n",
       "\t B        & 0        & 3        & TRUE     & 3793419  & 229419   & 10388055\\\\\n",
       "\t B        & 1        & 3        & TRUE     & 2514790  & 203047   & 10388055\\\\\n",
       "\t A        & 2        & 3        & TRUE     & 1846564  & 235137   & 10388055\\\\\n",
       "\t A        & 3        & 3        & TRUE     & 1632415  & 305994   & 10388055\\\\\n",
       "\t A        & 4        & 3        & TRUE     & 2247045  & 444384   & 10388055\\\\\n",
       "\t A        & 5        & 3        & TRUE     & 5186824  & 774325   & 10388055\\\\\n",
       "\\end{tabular}\n"
      ],
      "text/markdown": [
       "\n",
       "| 소요시간범위 | 출발시간 | 연휴길이 | 눈비 | X1종.교통량 | X2종.교통량 | 서울인구수 |\n",
       "|---|---|---|---|---|---|---|\n",
       "| B        | 0        | 3        | TRUE     | 3793419  | 229419   | 10388055 |\n",
       "| B        | 1        | 3        | TRUE     | 2514790  | 203047   | 10388055 |\n",
       "| A        | 2        | 3        | TRUE     | 1846564  | 235137   | 10388055 |\n",
       "| A        | 3        | 3        | TRUE     | 1632415  | 305994   | 10388055 |\n",
       "| A        | 4        | 3        | TRUE     | 2247045  | 444384   | 10388055 |\n",
       "| A        | 5        | 3        | TRUE     | 5186824  | 774325   | 10388055 |\n",
       "\n"
      ],
      "text/plain": [
       "  소요시간범위 출발시간 연휴길이 눈비 X1종.교통량 X2종.교통량 서울인구수\n",
       "1 B            0        3        TRUE 3793419     229419      10388055  \n",
       "2 B            1        3        TRUE 2514790     203047      10388055  \n",
       "3 A            2        3        TRUE 1846564     235137      10388055  \n",
       "4 A            3        3        TRUE 1632415     305994      10388055  \n",
       "5 A            4        3        TRUE 2247045     444384      10388055  \n",
       "6 A            5        3        TRUE 5186824     774325      10388055  "
      ]
     },
     "metadata": {},
     "output_type": "display_data"
    },
    {
     "data": {
      "text/html": [
       "<table>\n",
       "<thead><tr><th scope=col>소요시간범위</th><th scope=col>출발시간</th><th scope=col>연휴길이</th><th scope=col>눈비</th><th scope=col>X1종.교통량</th><th scope=col>X2종.교통량</th><th scope=col>서울인구수</th></tr></thead>\n",
       "<tbody>\n",
       "\t<tr><td>B          </td><td>0          </td><td>3          </td><td>TRUE       </td><td>-0.8192102 </td><td>-0.86871839</td><td>1.124724   </td></tr>\n",
       "\t<tr><td>B          </td><td>1          </td><td>3          </td><td>TRUE       </td><td>-0.9097371 </td><td>-0.91451260</td><td>1.124724   </td></tr>\n",
       "\t<tr><td>B          </td><td>2          </td><td>3          </td><td>TRUE       </td><td>-0.9570474 </td><td>-0.85878925</td><td>1.124724   </td></tr>\n",
       "\t<tr><td>A          </td><td>3          </td><td>3          </td><td>TRUE       </td><td>-0.9722092 </td><td>-0.73574812</td><td>1.124724   </td></tr>\n",
       "\t<tr><td>B          </td><td>4          </td><td>3          </td><td>TRUE       </td><td>-0.9286934 </td><td>-0.49543791</td><td>1.124724   </td></tr>\n",
       "\t<tr><td>B          </td><td>5          </td><td>3          </td><td>TRUE       </td><td>-0.7205572 </td><td> 0.07749504</td><td>1.124724   </td></tr>\n",
       "</tbody>\n",
       "</table>\n"
      ],
      "text/latex": [
       "\\begin{tabular}{r|lllllll}\n",
       " 소요시간범위 & 출발시간 & 연휴길이 & 눈비 & X1종.교통량 & X2종.교통량 & 서울인구수\\\\\n",
       "\\hline\n",
       "\t B           & 0           & 3           & TRUE        & -0.8192102  & -0.86871839 & 1.124724   \\\\\n",
       "\t B           & 1           & 3           & TRUE        & -0.9097371  & -0.91451260 & 1.124724   \\\\\n",
       "\t B           & 2           & 3           & TRUE        & -0.9570474  & -0.85878925 & 1.124724   \\\\\n",
       "\t A           & 3           & 3           & TRUE        & -0.9722092  & -0.73574812 & 1.124724   \\\\\n",
       "\t B           & 4           & 3           & TRUE        & -0.9286934  & -0.49543791 & 1.124724   \\\\\n",
       "\t B           & 5           & 3           & TRUE        & -0.7205572  &  0.07749504 & 1.124724   \\\\\n",
       "\\end{tabular}\n"
      ],
      "text/markdown": [
       "\n",
       "| 소요시간범위 | 출발시간 | 연휴길이 | 눈비 | X1종.교통량 | X2종.교통량 | 서울인구수 |\n",
       "|---|---|---|---|---|---|---|\n",
       "| B           | 0           | 3           | TRUE        | -0.8192102  | -0.86871839 | 1.124724    |\n",
       "| B           | 1           | 3           | TRUE        | -0.9097371  | -0.91451260 | 1.124724    |\n",
       "| B           | 2           | 3           | TRUE        | -0.9570474  | -0.85878925 | 1.124724    |\n",
       "| A           | 3           | 3           | TRUE        | -0.9722092  | -0.73574812 | 1.124724    |\n",
       "| B           | 4           | 3           | TRUE        | -0.9286934  | -0.49543791 | 1.124724    |\n",
       "| B           | 5           | 3           | TRUE        | -0.7205572  |  0.07749504 | 1.124724    |\n",
       "\n"
      ],
      "text/plain": [
       "  소요시간범위 출발시간 연휴길이 눈비 X1종.교통량 X2종.교통량 서울인구수\n",
       "1 B            0        3        TRUE -0.8192102  -0.86871839 1.124724  \n",
       "2 B            1        3        TRUE -0.9097371  -0.91451260 1.124724  \n",
       "3 B            2        3        TRUE -0.9570474  -0.85878925 1.124724  \n",
       "4 A            3        3        TRUE -0.9722092  -0.73574812 1.124724  \n",
       "5 B            4        3        TRUE -0.9286934  -0.49543791 1.124724  \n",
       "6 B            5        3        TRUE -0.7205572   0.07749504 1.124724  "
      ]
     },
     "metadata": {},
     "output_type": "display_data"
    },
    {
     "data": {
      "text/html": [
       "<table>\n",
       "<thead><tr><th scope=col>소요시간범위</th><th scope=col>출발시간</th><th scope=col>연휴길이</th><th scope=col>눈비</th><th scope=col>X1종.교통량</th><th scope=col>X2종.교통량</th></tr></thead>\n",
       "<tbody>\n",
       "\t<tr><td>B      </td><td>0      </td><td>3      </td><td>TRUE   </td><td>3793419</td><td>229419 </td></tr>\n",
       "\t<tr><td>B      </td><td>1      </td><td>3      </td><td>TRUE   </td><td>2514790</td><td>203047 </td></tr>\n",
       "\t<tr><td>A      </td><td>2      </td><td>3      </td><td>TRUE   </td><td>1846564</td><td>235137 </td></tr>\n",
       "\t<tr><td>A      </td><td>3      </td><td>3      </td><td>TRUE   </td><td>1632415</td><td>305994 </td></tr>\n",
       "\t<tr><td>A      </td><td>4      </td><td>3      </td><td>TRUE   </td><td>2247045</td><td>444384 </td></tr>\n",
       "\t<tr><td>A      </td><td>5      </td><td>3      </td><td>TRUE   </td><td>5186824</td><td>774325 </td></tr>\n",
       "</tbody>\n",
       "</table>\n"
      ],
      "text/latex": [
       "\\begin{tabular}{r|llllll}\n",
       " 소요시간범위 & 출발시간 & 연휴길이 & 눈비 & X1종.교통량 & X2종.교통량\\\\\n",
       "\\hline\n",
       "\t B       & 0       & 3       & TRUE    & 3793419 & 229419 \\\\\n",
       "\t B       & 1       & 3       & TRUE    & 2514790 & 203047 \\\\\n",
       "\t A       & 2       & 3       & TRUE    & 1846564 & 235137 \\\\\n",
       "\t A       & 3       & 3       & TRUE    & 1632415 & 305994 \\\\\n",
       "\t A       & 4       & 3       & TRUE    & 2247045 & 444384 \\\\\n",
       "\t A       & 5       & 3       & TRUE    & 5186824 & 774325 \\\\\n",
       "\\end{tabular}\n"
      ],
      "text/markdown": [
       "\n",
       "| 소요시간범위 | 출발시간 | 연휴길이 | 눈비 | X1종.교통량 | X2종.교통량 |\n",
       "|---|---|---|---|---|---|\n",
       "| B       | 0       | 3       | TRUE    | 3793419 | 229419  |\n",
       "| B       | 1       | 3       | TRUE    | 2514790 | 203047  |\n",
       "| A       | 2       | 3       | TRUE    | 1846564 | 235137  |\n",
       "| A       | 3       | 3       | TRUE    | 1632415 | 305994  |\n",
       "| A       | 4       | 3       | TRUE    | 2247045 | 444384  |\n",
       "| A       | 5       | 3       | TRUE    | 5186824 | 774325  |\n",
       "\n"
      ],
      "text/plain": [
       "  소요시간범위 출발시간 연휴길이 눈비 X1종.교통량 X2종.교통량\n",
       "1 B            0        3        TRUE 3793419     229419     \n",
       "2 B            1        3        TRUE 2514790     203047     \n",
       "3 A            2        3        TRUE 1846564     235137     \n",
       "4 A            3        3        TRUE 1632415     305994     \n",
       "5 A            4        3        TRUE 2247045     444384     \n",
       "6 A            5        3        TRUE 5186824     774325     "
      ]
     },
     "metadata": {},
     "output_type": "display_data"
    }
   ],
   "source": [
    "# \n",
    "\n",
    "sdd2 <- read.csv(\"../Data_Project/AI프로젝트 - D-2-2.csv\")\n",
    "sdd1 <- read.csv(\"../Data_Project/AI프로젝트 - D-1.csv\")\n",
    "\n",
    "table(sdd2$소요시간범위)\n",
    "table(sdd1$소요시간범위)\n",
    "\n",
    "sdd2Scale <- sdd2[,6:8]\n",
    "\n",
    "sdd2Scale <- scale(sdd2Scale)\n",
    "head(sdd2Scale)\n",
    "\n",
    "sdd2 <- sdd2[,-c(4,9)]\n",
    "sdd1 <- sdd1[,-c(4,9)]\n",
    "head(sdd2)\n",
    "head(sdd1)\n",
    "sdd2Scale <- cbind(sdd2[,1:4], sdd2Scale)\n",
    "head(sdd2Scale)\n",
    "head(sdd1[,c(1:6)])"
   ]
  },
  {
   "cell_type": "code",
   "execution_count": 169,
   "metadata": {
    "scrolled": false
   },
   "outputs": [
    {
     "name": "stdout",
     "output_type": "stream",
     "text": [
      "Test Data \n",
      "랜덤 포레스트 :  0.596 \n",
      "의사결정나무 :  0.528 \n",
      "SVM :   0.624 \n",
      "다항 로지스틱 :   0.62 \n",
      "인공신경망 :   0.528 \n",
      "------------------------ \n",
      "Training Data \n",
      "랜덤 포레스트 :  1 \n",
      "의사결정나무 :  0.598 \n",
      "SVM :   0.656 \n",
      "다항 로지스틱 :   0.636 \n",
      "인공신경망 :   0.252 \n"
     ]
    }
   ],
   "source": [
    "sum_rf <- 0\n",
    "sum_nnet <- 0\n",
    "sum_ctree <- 0\n",
    "sum_multi <- 0\n",
    "sum_svm <- 0\n",
    "\n",
    "sum_rf_tr <- 0\n",
    "sum_ctree_tr <- 0\n",
    "sum_svm_tr <- 0\n",
    "sum_multi_tr <- 0\n",
    "sum_nnet_tr <- 0\n",
    "\n",
    "for (i in 1:5){\n",
    "  samp <- createDataPartition(sdd1[,c(1:6)]$소요시간범위, p=0.7, list=F)\n",
    "  data.tr <- sdd1[,c(1:6)][samp,]\n",
    "  data.test <- sdd1[,c(1:6)][-samp,]\n",
    "    \n",
    "  # 트레이닝 데이터 훈련\n",
    "  x_tr <- subset(data.tr, select = -소요시간범위)\n",
    "  y_tr <- data.tr$소요시간범위\n",
    "    \n",
    "  # 테스트 데이터 훈련  \n",
    "  x_test <- subset(data.test, select = -소요시간범위)\n",
    "  y_test <- data.test$소요시간범위\n",
    "    \n",
    "  # RF\n",
    "  model_rf <- randomForest(소요시간범위 ~ . , data = data.tr, ntree = 100)\n",
    "  pred_rf <- predict(model_rf, x_test)\n",
    "  예측력_rf <- mean(pred_rf == y_test)\n",
    "  # RF train\n",
    "  model_rf_tr <- randomForest(소요시간범위 ~ . , data = data.tr, ntree = 100)\n",
    "  pred_rf_tr <- predict(model_rf_tr, x_tr)\n",
    "  예측력_rf_tr <- mean(pred_rf_tr == y_tr)\n",
    "\n",
    "  \n",
    "  # 인공신경망\n",
    "  model_nnet <- nnet(소요시간범위 ~ ., data=data.tr, size=3, trace=FALSE)\n",
    "  pred_nnet <- predict(model_nnet, x_test, type=\"class\")\n",
    "  예측력_nnet <- mean(pred_nnet == y_test)\n",
    "  # 인공신경망 train\n",
    "  model_nnet_tr <- nnet(소요시간범위 ~ ., data=data.tr, size=3, trace=FALSE)\n",
    "  pred_nnet_tr <- predict(model_nnet_tr, x_tr, type=\"class\")\n",
    "  예측력_nnet_tr <- mean(pred_nnet_tr == y_tr)\n",
    " \n",
    "  # 의사결정나무\n",
    "  model_ctree <- ctree(소요시간범위 ~ ., data=data.tr)\n",
    "  pred_ctree <- predict(model_ctree, x_test)\n",
    "  예측력_nnet <- mean(pred_ctree == y_test)\n",
    "  # 의사결정나무 train\n",
    "  model_ctree_tr <- ctree(소요시간범위 ~ ., data=data.tr)\n",
    "  pred_ctree_tr <- predict(model_ctree_tr, x_tr)\n",
    "  예측력_ctree_tr <- mean(pred_ctree_tr == y_tr)\n",
    "    \n",
    "  # SVM test\n",
    "  model_svm <- svm(소요시간범위 ~ ., data=data.tr)\n",
    "  pred_svm <- predict(model_svm, x_test, type = \"class\")\n",
    "  예측력_svm <- mean(pred_svm == y_test)\n",
    "  # SVM train\n",
    "   model_svm_tr <- svm(소요시간범위 ~ ., data=data.tr)\n",
    "   pred_svm_tr <- predict(model_svm_tr, x_tr, type = \"class\")\n",
    "   예측력_svm_tr <- mean(pred_svm_tr == y_tr)\n",
    "    \n",
    "  # 다항 로지스틱 회귀분석\n",
    "   model_multinom <- multinom(소요시간범위 ~ ., data=data.tr, trace=FALSE)\n",
    "   pred_multinom <- predict(model_multinom, x_test, type=\"class\")\n",
    "   예측력_multinom <- mean(pred_multinom == y_test)\n",
    "  # 다항 로지스틱 회귀분석 train\n",
    "    model_multinom_tr <- multinom(소요시간범위 ~ ., data=data.tr, trace=FALSE)\n",
    "    pred_multinom_tr <- predict(model_multinom_tr, x_tr, type=\"class\")\n",
    "    예측력_multinom_tr <- mean(pred_multinom_tr == y_tr)\n",
    "    \n",
    "  sum_rf <- sum_rf + 예측력_rf\n",
    "  sum_ctree <- sum_ctree + 예측력_nnet\n",
    "  sum_svm <- sum_svm + 예측력_svm\n",
    "  sum_multi <- sum_multi + 예측력_multinom\n",
    "  sum_nnet <- sum_nnet + 예측력_nnet\n",
    "    \n",
    "  sum_svm_tr <- sum_svm_tr + 예측력_svm_tr\n",
    "  sum_rf_tr <- sum_rf_tr + 예측력_rf_tr\n",
    "  sum_ctree_tr <- sum_ctree_tr + 예측력_ctree_tr\n",
    "  sum_multi_tr <- sum_multi_tr + 예측력_multinom_tr\n",
    "  sum_nnet_tr <- sum_nnet_tr + 예측력_nnet_tr\n",
    "}\n",
    "cat(\"Test Data \\n\")\n",
    "cat(\"랜덤 포레스트 : \", (round(sum_rf,2)/5), \"\\n\")\n",
    "cat(\"의사결정나무 : \", (round(sum_ctree,2)/5), \"\\n\")\n",
    "cat(\"SVM :  \", (round(sum_svm,2)/5), \"\\n\")\n",
    "cat(\"다항 로지스틱 :  \", (round(sum_multi,2)/5), \"\\n\")\n",
    "cat(\"인공신경망 :  \", (round(sum_nnet,2)/5), \"\\n\")\n",
    "# sum_ctree\n",
    "cat(\"------------------------\", \"\\n\")\n",
    "cat(\"Training Data \\n\")\n",
    "cat(\"랜덤 포레스트 : \", (round(sum_rf_tr,2)/5), \"\\n\")\n",
    "cat(\"의사결정나무 : \", (round(sum_ctree_tr,2)/5), \"\\n\")\n",
    "cat(\"SVM :  \", (round(sum_svm_tr,2)/5), \"\\n\")\n",
    "cat(\"다항 로지스틱 :  \", (round(sum_multi_tr,2)/5), \"\\n\")\n",
    "cat(\"인공신경망 :  \", (round(sum_nnet_tr,2)/5), \"\\n\")"
   ]
  },
  {
   "cell_type": "code",
   "execution_count": 154,
   "metadata": {},
   "outputs": [],
   "source": [
    "popCar <- read.csv(\"../Data_Project/인구수자동차수.csv\")"
   ]
  },
  {
   "cell_type": "code",
   "execution_count": 74,
   "metadata": {},
   "outputs": [
    {
     "data": {
      "text/html": [
       "<table>\n",
       "<thead><tr><th scope=col>X</th><th scope=col>년도</th><th scope=col>서울인구수</th><th scope=col>승용차</th><th scope=col>승합차</th><th scope=col>차합계</th></tr></thead>\n",
       "<tbody>\n",
       "\t<tr><td> 1      </td><td>2013    </td><td>10388055</td><td>2462515 </td><td>156871  </td><td>2619386 </td></tr>\n",
       "\t<tr><td> 6      </td><td>2014    </td><td>10369593</td><td>2510742 </td><td>149991  </td><td>2660733 </td></tr>\n",
       "\t<tr><td>11      </td><td>2015    </td><td>10297138</td><td>2560154 </td><td>141927  </td><td>2702081 </td></tr>\n",
       "\t<tr><td>16      </td><td>2016    </td><td>10204057</td><td>2598344 </td><td>134309  </td><td>2732653 </td></tr>\n",
       "\t<tr><td>21      </td><td>2017    </td><td>10124579</td><td>2641190 </td><td>127564  </td><td>2768754 </td></tr>\n",
       "\t<tr><td>26      </td><td>2018    </td><td>10049607</td><td>2658637 </td><td>120780  </td><td>2779417 </td></tr>\n",
       "\t<tr><td>31      </td><td>2019    </td><td>10010983</td><td>2670803 </td><td>114310  </td><td>2785113 </td></tr>\n",
       "\t<tr><td>37      </td><td>2020    </td><td> 9911088</td><td>2711984 </td><td>106504  </td><td>2818488 </td></tr>\n",
       "</tbody>\n",
       "</table>\n"
      ],
      "text/latex": [
       "\\begin{tabular}{r|llllll}\n",
       " X & 년도 & 서울인구수 & 승용차 & 승합차 & 차합계\\\\\n",
       "\\hline\n",
       "\t  1       & 2013     & 10388055 & 2462515  & 156871   & 2619386 \\\\\n",
       "\t  6       & 2014     & 10369593 & 2510742  & 149991   & 2660733 \\\\\n",
       "\t 11       & 2015     & 10297138 & 2560154  & 141927   & 2702081 \\\\\n",
       "\t 16       & 2016     & 10204057 & 2598344  & 134309   & 2732653 \\\\\n",
       "\t 21       & 2017     & 10124579 & 2641190  & 127564   & 2768754 \\\\\n",
       "\t 26       & 2018     & 10049607 & 2658637  & 120780   & 2779417 \\\\\n",
       "\t 31       & 2019     & 10010983 & 2670803  & 114310   & 2785113 \\\\\n",
       "\t 37       & 2020     &  9911088 & 2711984  & 106504   & 2818488 \\\\\n",
       "\\end{tabular}\n"
      ],
      "text/markdown": [
       "\n",
       "| X | 년도 | 서울인구수 | 승용차 | 승합차 | 차합계 |\n",
       "|---|---|---|---|---|---|\n",
       "|  1       | 2013     | 10388055 | 2462515  | 156871   | 2619386  |\n",
       "|  6       | 2014     | 10369593 | 2510742  | 149991   | 2660733  |\n",
       "| 11       | 2015     | 10297138 | 2560154  | 141927   | 2702081  |\n",
       "| 16       | 2016     | 10204057 | 2598344  | 134309   | 2732653  |\n",
       "| 21       | 2017     | 10124579 | 2641190  | 127564   | 2768754  |\n",
       "| 26       | 2018     | 10049607 | 2658637  | 120780   | 2779417  |\n",
       "| 31       | 2019     | 10010983 | 2670803  | 114310   | 2785113  |\n",
       "| 37       | 2020     |  9911088 | 2711984  | 106504   | 2818488  |\n",
       "\n"
      ],
      "text/plain": [
       "  X  년도 서울인구수 승용차  승합차 차합계 \n",
       "1  1 2013 10388055   2462515 156871 2619386\n",
       "2  6 2014 10369593   2510742 149991 2660733\n",
       "3 11 2015 10297138   2560154 141927 2702081\n",
       "4 16 2016 10204057   2598344 134309 2732653\n",
       "5 21 2017 10124579   2641190 127564 2768754\n",
       "6 26 2018 10049607   2658637 120780 2779417\n",
       "7 31 2019 10010983   2670803 114310 2785113\n",
       "8 37 2020  9911088   2711984 106504 2818488"
      ]
     },
     "metadata": {},
     "output_type": "display_data"
    }
   ],
   "source": [
    "popCar"
   ]
  },
  {
   "cell_type": "code",
   "execution_count": 117,
   "metadata": {},
   "outputs": [
    {
     "data": {
      "image/png": "[encoded data removed]",
      "text/plain": [
       "Plot with title “2013~2020 서울 인구수”"
      ]
     },
     "metadata": {},
     "output_type": "display_data"
    }
   ],
   "source": [
    "par(family = \"AppleGothic\")\n",
    "options(scipen = 100)\n",
    "\n",
    "barplot(\n",
    "    popCar$서울인구수,\n",
    "    type = 'o',\n",
    "    main = '2013~2020 서울 인구수',\n",
    "    ylim = c(0, 12000000),\n",
    "    ylab = c('서울인구수 (단위: 명)'),\n",
    "    xlab = c('년도'),\n",
    "    names = popCar$년도,\n",
    "    col= 'lavender',\n",
    "    \n",
    ")"
   ]
  },
  {
   "cell_type": "code",
   "execution_count": 143,
   "metadata": {},
   "outputs": [
    {
     "data": {
      "text/html": [
       "<table>\n",
       "<thead><tr><th scope=col>소요시간범위</th><th scope=col>출발시간</th><th scope=col>연휴길이</th><th scope=col>날짜</th><th scope=col>눈비</th><th scope=col>X1종.교통량</th><th scope=col>X2종.교통량</th><th scope=col>서울인구수</th><th scope=col>소요시간</th></tr></thead>\n",
       "<tbody>\n",
       "\t<tr><td>B         </td><td>0         </td><td>3         </td><td>2013-02-09</td><td>TRUE      </td><td>3793419   </td><td>229419    </td><td>10388055  </td><td>132       </td></tr>\n",
       "\t<tr><td>B         </td><td>1         </td><td>3         </td><td>2013-02-09</td><td>TRUE      </td><td>2514790   </td><td>203047    </td><td>10388055  </td><td>129       </td></tr>\n",
       "\t<tr><td>A         </td><td>2         </td><td>3         </td><td>2013-02-09</td><td>TRUE      </td><td>1846564   </td><td>235137    </td><td>10388055  </td><td>121       </td></tr>\n",
       "\t<tr><td>A         </td><td>3         </td><td>3         </td><td>2013-02-09</td><td>TRUE      </td><td>1632415   </td><td>305994    </td><td>10388055  </td><td>124       </td></tr>\n",
       "\t<tr><td>A         </td><td>4         </td><td>3         </td><td>2013-02-09</td><td>TRUE      </td><td>2247045   </td><td>444384    </td><td>10388055  </td><td>119       </td></tr>\n",
       "\t<tr><td>A         </td><td>5         </td><td>3         </td><td>2013-02-09</td><td>TRUE      </td><td>5186824   </td><td>774325    </td><td>10388055  </td><td>118       </td></tr>\n",
       "</tbody>\n",
       "</table>\n"
      ],
      "text/latex": [
       "\\begin{tabular}{r|lllllllll}\n",
       " 소요시간범위 & 출발시간 & 연휴길이 & 날짜 & 눈비 & X1종.교통량 & X2종.교통량 & 서울인구수 & 소요시간\\\\\n",
       "\\hline\n",
       "\t B          & 0          & 3          & 2013-02-09 & TRUE       & 3793419    & 229419     & 10388055   & 132       \\\\\n",
       "\t B          & 1          & 3          & 2013-02-09 & TRUE       & 2514790    & 203047     & 10388055   & 129       \\\\\n",
       "\t A          & 2          & 3          & 2013-02-09 & TRUE       & 1846564    & 235137     & 10388055   & 121       \\\\\n",
       "\t A          & 3          & 3          & 2013-02-09 & TRUE       & 1632415    & 305994     & 10388055   & 124       \\\\\n",
       "\t A          & 4          & 3          & 2013-02-09 & TRUE       & 2247045    & 444384     & 10388055   & 119       \\\\\n",
       "\t A          & 5          & 3          & 2013-02-09 & TRUE       & 5186824    & 774325     & 10388055   & 118       \\\\\n",
       "\\end{tabular}\n"
      ],
      "text/markdown": [
       "\n",
       "| 소요시간범위 | 출발시간 | 연휴길이 | 날짜 | 눈비 | X1종.교통량 | X2종.교통량 | 서울인구수 | 소요시간 |\n",
       "|---|---|---|---|---|---|---|---|---|\n",
       "| B          | 0          | 3          | 2013-02-09 | TRUE       | 3793419    | 229419     | 10388055   | 132        |\n",
       "| B          | 1          | 3          | 2013-02-09 | TRUE       | 2514790    | 203047     | 10388055   | 129        |\n",
       "| A          | 2          | 3          | 2013-02-09 | TRUE       | 1846564    | 235137     | 10388055   | 121        |\n",
       "| A          | 3          | 3          | 2013-02-09 | TRUE       | 1632415    | 305994     | 10388055   | 124        |\n",
       "| A          | 4          | 3          | 2013-02-09 | TRUE       | 2247045    | 444384     | 10388055   | 119        |\n",
       "| A          | 5          | 3          | 2013-02-09 | TRUE       | 5186824    | 774325     | 10388055   | 118        |\n",
       "\n"
      ],
      "text/plain": [
       "  소요시간범위 출발시간 연휴길이 날짜       눈비 X1종.교통량 X2종.교통량\n",
       "1 B            0        3        2013-02-09 TRUE 3793419     229419     \n",
       "2 B            1        3        2013-02-09 TRUE 2514790     203047     \n",
       "3 A            2        3        2013-02-09 TRUE 1846564     235137     \n",
       "4 A            3        3        2013-02-09 TRUE 1632415     305994     \n",
       "5 A            4        3        2013-02-09 TRUE 2247045     444384     \n",
       "6 A            5        3        2013-02-09 TRUE 5186824     774325     \n",
       "  서울인구수 소요시간\n",
       "1 10388055   132     \n",
       "2 10388055   129     \n",
       "3 10388055   121     \n",
       "4 10388055   124     \n",
       "5 10388055   119     \n",
       "6 10388055   118     "
      ]
     },
     "metadata": {},
     "output_type": "display_data"
    }
   ],
   "source": []
  },
  {
   "cell_type": "code",
   "execution_count": null,
   "metadata": {},
   "outputs": [],
   "source": []
  },
  {
   "cell_type": "code",
   "execution_count": null,
   "metadata": {},
   "outputs": [],
   "source": []
  },
  {
   "cell_type": "code",
   "execution_count": null,
   "metadata": {},
   "outputs": [],
   "source": []
  },
  {
   "cell_type": "code",
   "execution_count": null,
   "metadata": {},
   "outputs": [],
   "source": []
  },
  {
   "cell_type": "code",
   "execution_count": null,
   "metadata": {},
   "outputs": [],
   "source": []
  },
  {
   "cell_type": "code",
   "execution_count": null,
   "metadata": {},
   "outputs": [],
   "source": []
  },
  {
   "cell_type": "code",
   "execution_count": null,
   "metadata": {},
   "outputs": [],
   "source": []
  },
  {
   "cell_type": "code",
   "execution_count": null,
   "metadata": {},
   "outputs": [],
   "source": []
  },
  {
   "cell_type": "code",
   "execution_count": null,
   "metadata": {},
   "outputs": [],
   "source": []
  }
 ],
 "metadata": {
  "kernelspec": {
   "display_name": "R",
   "language": "R",
   "name": "ir"
  },
  "language_info": {
   "codemirror_mode": "r",
   "file_extension": ".r",
   "mimetype": "text/x-r-source",
   "name": "R",
   "pygments_lexer": "r",
   "version": "3.6.1"
  }
 },
 "nbformat": 4,
 "nbformat_minor": 2
}
