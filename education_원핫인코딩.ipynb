{
 "cells": [
  {
   "cell_type": "code",
   "execution_count": 1,
   "metadata": {
    "vscode": {
     "languageId": "r"
    }
   },
   "outputs": [
    {
     "name": "stderr",
     "output_type": "stream",
     "text": [
      "Loading required package: lattice\n",
      "Loading required package: ggplot2\n",
      "Registered S3 methods overwritten by 'ggplot2':\n",
      "  method         from \n",
      "  [.quosures     rlang\n",
      "  c.quosures     rlang\n",
      "  print.quosures rlang\n",
      "\n",
      "Attaching package: ‘dplyr’\n",
      "\n",
      "The following objects are masked from ‘package:stats’:\n",
      "\n",
      "    filter, lag\n",
      "\n",
      "The following objects are masked from ‘package:base’:\n",
      "\n",
      "    intersect, setdiff, setequal, union\n",
      "\n",
      "randomForest 4.6-14\n",
      "Type rfNews() to see new features/changes/bug fixes.\n",
      "\n",
      "Attaching package: ‘randomForest’\n",
      "\n",
      "The following object is masked from ‘package:dplyr’:\n",
      "\n",
      "    combine\n",
      "\n",
      "The following object is masked from ‘package:ggplot2’:\n",
      "\n",
      "    margin\n",
      "\n",
      "Loading required package: grid\n",
      "Loading required package: mvtnorm\n",
      "Loading required package: modeltools\n",
      "Loading required package: stats4\n",
      "Loading required package: strucchange\n",
      "Loading required package: zoo\n",
      "\n",
      "Attaching package: ‘zoo’\n",
      "\n",
      "The following objects are masked from ‘package:base’:\n",
      "\n",
      "    as.Date, as.Date.numeric\n",
      "\n",
      "Loading required package: sandwich\n"
     ]
    }
   ],
   "source": [
    "library(caret)\n",
    "library(dplyr)\n",
    "options(warn = -1)\n",
    "library(nnet)\n",
    "library(e1071)\n",
    "library(randomForest)\n",
    "library(party)\n",
    "# library(NbClust)\n",
    "library(class)"
   ]
  },
  {
   "cell_type": "code",
   "execution_count": 2,
   "metadata": {
    "vscode": {
     "languageId": "r"
    }
   },
   "outputs": [
    {
     "data": {
      "text/html": [
       "<table>\n",
       "<thead><tr><th scope=col>날짜</th><th scope=col>일차</th><th scope=col>출발시간</th><th scope=col>소요시간</th></tr></thead>\n",
       "<tbody>\n",
       "\t<tr><td>2013-02-08</td><td>0         </td><td>0         </td><td> 91       </td></tr>\n",
       "\t<tr><td>2013-02-09</td><td>1         </td><td>0         </td><td>132       </td></tr>\n",
       "\t<tr><td>2013-02-10</td><td>2         </td><td>0         </td><td> 83       </td></tr>\n",
       "\t<tr><td>2013-02-11</td><td>3         </td><td>0         </td><td> 87       </td></tr>\n",
       "\t<tr><td>2013-02-12</td><td>4         </td><td>0         </td><td> 84       </td></tr>\n",
       "\t<tr><td>2013-02-08</td><td>0         </td><td>1         </td><td> 88       </td></tr>\n",
       "</tbody>\n",
       "</table>\n"
      ],
      "text/latex": [
       "\\begin{tabular}{r|llll}\n",
       " 날짜 & 일차 & 출발시간 & 소요시간\\\\\n",
       "\\hline\n",
       "\t 2013-02-08 & 0          & 0          &  91       \\\\\n",
       "\t 2013-02-09 & 1          & 0          & 132       \\\\\n",
       "\t 2013-02-10 & 2          & 0          &  83       \\\\\n",
       "\t 2013-02-11 & 3          & 0          &  87       \\\\\n",
       "\t 2013-02-12 & 4          & 0          &  84       \\\\\n",
       "\t 2013-02-08 & 0          & 1          &  88       \\\\\n",
       "\\end{tabular}\n"
      ],
      "text/markdown": [
       "\n",
       "| 날짜 | 일차 | 출발시간 | 소요시간 |\n",
       "|---|---|---|---|\n",
       "| 2013-02-08 | 0          | 0          |  91        |\n",
       "| 2013-02-09 | 1          | 0          | 132        |\n",
       "| 2013-02-10 | 2          | 0          |  83        |\n",
       "| 2013-02-11 | 3          | 0          |  87        |\n",
       "| 2013-02-12 | 4          | 0          |  84        |\n",
       "| 2013-02-08 | 0          | 1          |  88        |\n",
       "\n"
      ],
      "text/plain": [
       "  날짜       일차 출발시간 소요시간\n",
       "1 2013-02-08 0    0         91     \n",
       "2 2013-02-09 1    0        132     \n",
       "3 2013-02-10 2    0         83     \n",
       "4 2013-02-11 3    0         87     \n",
       "5 2013-02-12 4    0         84     \n",
       "6 2013-02-08 0    1         88     "
      ]
     },
     "metadata": {},
     "output_type": "display_data"
    }
   ],
   "source": [
    "서울대전앞뒤2일 <- read.csv('../Data_Project/alldata.csv', fileEncoding = \"utf-8\")[,-c(5:9)]\n",
    "서울대전앞뒤2일[,1] <- as.Date(서울대전앞뒤2일[,1])\n",
    "head(서울대전앞뒤2일)\n"
   ]
  },
  {
   "cell_type": "code",
   "execution_count": 3,
   "metadata": {
    "vscode": {
     "languageId": "r"
    }
   },
   "outputs": [
    {
     "data": {
      "text/html": [
       "81.740350877193"
      ],
      "text/latex": [
       "81.740350877193"
      ],
      "text/markdown": [
       "81.740350877193"
      ],
      "text/plain": [
       "[1] 81.74035"
      ]
     },
     "metadata": {},
     "output_type": "display_data"
    }
   ],
   "source": [
    "sum <- 0\n",
    "\n",
    "for (i in 1:100){\n",
    "  samp <- createDataPartition(서울대전앞뒤2일$소요시간, p=0.7, list=F)\n",
    "  data.tr <- 서울대전앞뒤2일[samp,]\n",
    "  data.test <- 서울대전앞뒤2일[-samp,]\n",
    "\n",
    "  x <- subset(data.test, select = -소요시간)\n",
    "  y <- data.test$소요시간\n",
    "\n",
    "  model_rf <- randomForest(소요시간 ~ . , data = data.tr, ntree = 100)\n",
    "  pred_rf <- predict(model_rf, x)\n",
    "  예측력_rf <- mean((pred_rf*0.85 < y) & (pred_rf*1.15 > y)) \n",
    "  sum <- sum + 예측력_rf\n",
    "}\n",
    "\n",
    "sum"
   ]
  },
  {
   "cell_type": "code",
   "execution_count": 4,
   "metadata": {
    "vscode": {
     "languageId": "r"
    }
   },
   "outputs": [],
   "source": [
    "## 다 : 66.8\n",
    "## 1:4 : 68.3"
   ]
  },
  {
   "cell_type": "code",
   "execution_count": 5,
   "metadata": {
    "vscode": {
     "languageId": "r"
    }
   },
   "outputs": [
    {
     "data": {
      "text/html": [
       "<table>\n",
       "<thead><tr><th scope=col>소요시간</th><th scope=col>일차</th><th scope=col>출발시간</th><th scope=col>연휴길이</th></tr></thead>\n",
       "<tbody>\n",
       "\t<tr><td>91</td><td>0 </td><td>0 </td><td>3 </td></tr>\n",
       "\t<tr><td>88</td><td>0 </td><td>1 </td><td>3 </td></tr>\n",
       "\t<tr><td>88</td><td>0 </td><td>2 </td><td>3 </td></tr>\n",
       "\t<tr><td>87</td><td>0 </td><td>3 </td><td>3 </td></tr>\n",
       "\t<tr><td>91</td><td>0 </td><td>4 </td><td>3 </td></tr>\n",
       "\t<tr><td>97</td><td>0 </td><td>5 </td><td>3 </td></tr>\n",
       "</tbody>\n",
       "</table>\n"
      ],
      "text/latex": [
       "\\begin{tabular}{r|llll}\n",
       " 소요시간 & 일차 & 출발시간 & 연휴길이\\\\\n",
       "\\hline\n",
       "\t 91 & 0  & 0  & 3 \\\\\n",
       "\t 88 & 0  & 1  & 3 \\\\\n",
       "\t 88 & 0  & 2  & 3 \\\\\n",
       "\t 87 & 0  & 3  & 3 \\\\\n",
       "\t 91 & 0  & 4  & 3 \\\\\n",
       "\t 97 & 0  & 5  & 3 \\\\\n",
       "\\end{tabular}\n"
      ],
      "text/markdown": [
       "\n",
       "| 소요시간 | 일차 | 출발시간 | 연휴길이 |\n",
       "|---|---|---|---|\n",
       "| 91 | 0  | 0  | 3  |\n",
       "| 88 | 0  | 1  | 3  |\n",
       "| 88 | 0  | 2  | 3  |\n",
       "| 87 | 0  | 3  | 3  |\n",
       "| 91 | 0  | 4  | 3  |\n",
       "| 97 | 0  | 5  | 3  |\n",
       "\n"
      ],
      "text/plain": [
       "  소요시간 일차 출발시간 연휴길이\n",
       "1 91       0    0        3       \n",
       "2 88       0    1        3       \n",
       "3 88       0    2        3       \n",
       "4 87       0    3        3       \n",
       "5 91       0    4        3       \n",
       "6 97       0    5        3       "
      ]
     },
     "metadata": {},
     "output_type": "display_data"
    },
    {
     "data": {
      "text/html": [
       "1008"
      ],
      "text/latex": [
       "1008"
      ],
      "text/markdown": [
       "1008"
      ],
      "text/plain": [
       "[1] 1008"
      ]
     },
     "metadata": {},
     "output_type": "display_data"
    }
   ],
   "source": [
    "sd22 <- read.csv(\"../Data_Project/진짜최종.csv\", fileEncoding = \"UTF-8\")\n",
    "\n",
    "head(sd22)\n",
    "nrow(sd22)"
   ]
  },
  {
   "cell_type": "code",
   "execution_count": 6,
   "metadata": {},
   "outputs": [
    {
     "data": {
      "text/html": [
       "83.4933333333333"
      ],
      "text/latex": [
       "83.4933333333333"
      ],
      "text/markdown": [
       "83.4933333333333"
      ],
      "text/plain": [
       "[1] 83.49333"
      ]
     },
     "metadata": {},
     "output_type": "display_data"
    }
   ],
   "source": [
    "sum <- 0\n",
    "\n",
    "for (i in 1:100){\n",
    "  samp <- createDataPartition(sd22$소요시간, p=0.7, list=F)\n",
    "  data.tr <- sd22[samp,]\n",
    "  data.test <- sd22[-samp,]\n",
    "\n",
    "  x <- subset(data.test, select = -소요시간)\n",
    "  y <- data.test$소요시간\n",
    "\n",
    "  model_rf <- randomForest(소요시간 ~ . , data = data.tr, ntree = 100)\n",
    "  pred_rf <- predict(model_rf, x)\n",
    "  예측력_rf <- mean((pred_rf*0.80< y) & (pred_rf*1.2 > y)) \n",
    "  sum <- sum + 예측력_rf\n",
    "}\n",
    "\n",
    "sum"
   ]
  },
  {
   "cell_type": "code",
   "execution_count": 7,
   "metadata": {},
   "outputs": [
    {
     "data": {
      "text/html": [
       "<table>\n",
       "<thead><tr><th scope=col>출발시간</th><th scope=col>소요시간</th></tr></thead>\n",
       "<tbody>\n",
       "\t<tr><td> 0       </td><td> 94.14286</td></tr>\n",
       "\t<tr><td> 1       </td><td> 93.76190</td></tr>\n",
       "\t<tr><td> 2       </td><td> 94.45238</td></tr>\n",
       "\t<tr><td> 3       </td><td> 95.54762</td></tr>\n",
       "\t<tr><td> 4       </td><td> 94.47619</td></tr>\n",
       "\t<tr><td> 5       </td><td> 95.47619</td></tr>\n",
       "\t<tr><td> 6       </td><td> 96.69048</td></tr>\n",
       "\t<tr><td> 7       </td><td> 98.02381</td></tr>\n",
       "\t<tr><td> 8       </td><td> 97.64286</td></tr>\n",
       "\t<tr><td> 9       </td><td> 99.69048</td></tr>\n",
       "\t<tr><td>10       </td><td>102.69048</td></tr>\n",
       "\t<tr><td>11       </td><td>105.30952</td></tr>\n",
       "\t<tr><td>12       </td><td>111.04762</td></tr>\n",
       "\t<tr><td>13       </td><td>115.23810</td></tr>\n",
       "\t<tr><td>14       </td><td>118.45238</td></tr>\n",
       "\t<tr><td>15       </td><td>120.92857</td></tr>\n",
       "\t<tr><td>16       </td><td>120.95238</td></tr>\n",
       "\t<tr><td>17       </td><td>125.69048</td></tr>\n",
       "\t<tr><td>18       </td><td>127.19048</td></tr>\n",
       "\t<tr><td>19       </td><td>127.07143</td></tr>\n",
       "\t<tr><td>20       </td><td>124.90476</td></tr>\n",
       "\t<tr><td>21       </td><td>120.73810</td></tr>\n",
       "\t<tr><td>22       </td><td>115.61905</td></tr>\n",
       "\t<tr><td>23       </td><td>111.02381</td></tr>\n",
       "</tbody>\n",
       "</table>\n"
      ],
      "text/latex": [
       "\\begin{tabular}{r|ll}\n",
       " 출발시간 & 소요시간\\\\\n",
       "\\hline\n",
       "\t  0        &  94.14286\\\\\n",
       "\t  1        &  93.76190\\\\\n",
       "\t  2        &  94.45238\\\\\n",
       "\t  3        &  95.54762\\\\\n",
       "\t  4        &  94.47619\\\\\n",
       "\t  5        &  95.47619\\\\\n",
       "\t  6        &  96.69048\\\\\n",
       "\t  7        &  98.02381\\\\\n",
       "\t  8        &  97.64286\\\\\n",
       "\t  9        &  99.69048\\\\\n",
       "\t 10        & 102.69048\\\\\n",
       "\t 11        & 105.30952\\\\\n",
       "\t 12        & 111.04762\\\\\n",
       "\t 13        & 115.23810\\\\\n",
       "\t 14        & 118.45238\\\\\n",
       "\t 15        & 120.92857\\\\\n",
       "\t 16        & 120.95238\\\\\n",
       "\t 17        & 125.69048\\\\\n",
       "\t 18        & 127.19048\\\\\n",
       "\t 19        & 127.07143\\\\\n",
       "\t 20        & 124.90476\\\\\n",
       "\t 21        & 120.73810\\\\\n",
       "\t 22        & 115.61905\\\\\n",
       "\t 23        & 111.02381\\\\\n",
       "\\end{tabular}\n"
      ],
      "text/markdown": [
       "\n",
       "| 출발시간 | 소요시간 |\n",
       "|---|---|\n",
       "|  0        |  94.14286 |\n",
       "|  1        |  93.76190 |\n",
       "|  2        |  94.45238 |\n",
       "|  3        |  95.54762 |\n",
       "|  4        |  94.47619 |\n",
       "|  5        |  95.47619 |\n",
       "|  6        |  96.69048 |\n",
       "|  7        |  98.02381 |\n",
       "|  8        |  97.64286 |\n",
       "|  9        |  99.69048 |\n",
       "| 10        | 102.69048 |\n",
       "| 11        | 105.30952 |\n",
       "| 12        | 111.04762 |\n",
       "| 13        | 115.23810 |\n",
       "| 14        | 118.45238 |\n",
       "| 15        | 120.92857 |\n",
       "| 16        | 120.95238 |\n",
       "| 17        | 125.69048 |\n",
       "| 18        | 127.19048 |\n",
       "| 19        | 127.07143 |\n",
       "| 20        | 124.90476 |\n",
       "| 21        | 120.73810 |\n",
       "| 22        | 115.61905 |\n",
       "| 23        | 111.02381 |\n",
       "\n"
      ],
      "text/plain": [
       "   출발시간 소요시간 \n",
       "1   0        94.14286\n",
       "2   1        93.76190\n",
       "3   2        94.45238\n",
       "4   3        95.54762\n",
       "5   4        94.47619\n",
       "6   5        95.47619\n",
       "7   6        96.69048\n",
       "8   7        98.02381\n",
       "9   8        97.64286\n",
       "10  9        99.69048\n",
       "11 10       102.69048\n",
       "12 11       105.30952\n",
       "13 12       111.04762\n",
       "14 13       115.23810\n",
       "15 14       118.45238\n",
       "16 15       120.92857\n",
       "17 16       120.95238\n",
       "18 17       125.69048\n",
       "19 18       127.19048\n",
       "20 19       127.07143\n",
       "21 20       124.90476\n",
       "22 21       120.73810\n",
       "23 22       115.61905\n",
       "24 23       111.02381"
      ]
     },
     "metadata": {},
     "output_type": "display_data"
    }
   ],
   "source": [
    "sdTime <- aggregate(소요시간 ~ 출발시간, sd22, mean)\n",
    "sdTime"
   ]
  },
  {
   "cell_type": "code",
   "execution_count": 8,
   "metadata": {},
   "outputs": [
    {
     "data": {
      "text/plain": [
       "\n",
       "  0   1   2   3   4   5 \n",
       "192 192 192 192 168  72 "
      ]
     },
     "metadata": {},
     "output_type": "display_data"
    }
   ],
   "source": [
    "table(sd22$일차)"
   ]
  },
  {
   "cell_type": "code",
   "execution_count": 9,
   "metadata": {},
   "outputs": [],
   "source": [
    "sd222 <- read.csv(\"../Data_Project/진짜최종_날짜포함.csv\", fileEncoding = \"utf-8\")"
   ]
  },
  {
   "cell_type": "code",
   "execution_count": 10,
   "metadata": {},
   "outputs": [
    {
     "data": {
      "text/html": [
       "<table>\n",
       "<thead><tr><th scope=col>소요시간</th><th scope=col>일차</th><th scope=col>출발시간</th><th scope=col>연휴길이</th><th scope=col>날짜</th></tr></thead>\n",
       "<tbody>\n",
       "\t<tr><td>91        </td><td>0         </td><td>0         </td><td>2013      </td><td>2013-02-08</td></tr>\n",
       "\t<tr><td>88        </td><td>1         </td><td>0         </td><td>2013      </td><td>2013-02-08</td></tr>\n",
       "\t<tr><td>88        </td><td>2         </td><td>0         </td><td>2013      </td><td>2013-02-08</td></tr>\n",
       "\t<tr><td>87        </td><td>3         </td><td>0         </td><td>2013      </td><td>2013-02-08</td></tr>\n",
       "\t<tr><td>91        </td><td>4         </td><td>0         </td><td>2013      </td><td>2013-02-08</td></tr>\n",
       "\t<tr><td>97        </td><td>5         </td><td>0         </td><td>2013      </td><td>2013-02-08</td></tr>\n",
       "</tbody>\n",
       "</table>\n"
      ],
      "text/latex": [
       "\\begin{tabular}{r|lllll}\n",
       " 소요시간 & 일차 & 출발시간 & 연휴길이 & 날짜\\\\\n",
       "\\hline\n",
       "\t 91         & 0          & 0          & 2013       & 2013-02-08\\\\\n",
       "\t 88         & 1          & 0          & 2013       & 2013-02-08\\\\\n",
       "\t 88         & 2          & 0          & 2013       & 2013-02-08\\\\\n",
       "\t 87         & 3          & 0          & 2013       & 2013-02-08\\\\\n",
       "\t 91         & 4          & 0          & 2013       & 2013-02-08\\\\\n",
       "\t 97         & 5          & 0          & 2013       & 2013-02-08\\\\\n",
       "\\end{tabular}\n"
      ],
      "text/markdown": [
       "\n",
       "| 소요시간 | 일차 | 출발시간 | 연휴길이 | 날짜 |\n",
       "|---|---|---|---|---|\n",
       "| 91         | 0          | 0          | 2013       | 2013-02-08 |\n",
       "| 88         | 1          | 0          | 2013       | 2013-02-08 |\n",
       "| 88         | 2          | 0          | 2013       | 2013-02-08 |\n",
       "| 87         | 3          | 0          | 2013       | 2013-02-08 |\n",
       "| 91         | 4          | 0          | 2013       | 2013-02-08 |\n",
       "| 97         | 5          | 0          | 2013       | 2013-02-08 |\n",
       "\n"
      ],
      "text/plain": [
       "  소요시간 일차 출발시간 연휴길이 날짜      \n",
       "1 91       0    0        2013     2013-02-08\n",
       "2 88       1    0        2013     2013-02-08\n",
       "3 88       2    0        2013     2013-02-08\n",
       "4 87       3    0        2013     2013-02-08\n",
       "5 91       4    0        2013     2013-02-08\n",
       "6 97       5    0        2013     2013-02-08"
      ]
     },
     "metadata": {},
     "output_type": "display_data"
    }
   ],
   "source": [
    "head(sd222)"
   ]
  },
  {
   "cell_type": "code",
   "execution_count": 11,
   "metadata": {},
   "outputs": [
    {
     "data": {
      "text/html": [
       "<table>\n",
       "<thead><tr><th scope=col>X</th><th scope=col>년도</th><th scope=col>서울인구수</th><th scope=col>승용차</th><th scope=col>승합차</th><th scope=col>차합계</th></tr></thead>\n",
       "<tbody>\n",
       "\t<tr><td> 1      </td><td>2013    </td><td>10388055</td><td>2462515 </td><td>156871  </td><td>2619386 </td></tr>\n",
       "\t<tr><td> 6      </td><td>2014    </td><td>10369593</td><td>2510742 </td><td>149991  </td><td>2660733 </td></tr>\n",
       "\t<tr><td>11      </td><td>2015    </td><td>10297138</td><td>2560154 </td><td>141927  </td><td>2702081 </td></tr>\n",
       "\t<tr><td>16      </td><td>2016    </td><td>10204057</td><td>2598344 </td><td>134309  </td><td>2732653 </td></tr>\n",
       "\t<tr><td>21      </td><td>2017    </td><td>10124579</td><td>2641190 </td><td>127564  </td><td>2768754 </td></tr>\n",
       "\t<tr><td>26      </td><td>2018    </td><td>10049607</td><td>2658637 </td><td>120780  </td><td>2779417 </td></tr>\n",
       "\t<tr><td>31      </td><td>2019    </td><td>10010983</td><td>2670803 </td><td>114310  </td><td>2785113 </td></tr>\n",
       "\t<tr><td>37      </td><td>2020    </td><td> 9911088</td><td>2711984 </td><td>106504  </td><td>2818488 </td></tr>\n",
       "</tbody>\n",
       "</table>\n"
      ],
      "text/latex": [
       "\\begin{tabular}{r|llllll}\n",
       " X & 년도 & 서울인구수 & 승용차 & 승합차 & 차합계\\\\\n",
       "\\hline\n",
       "\t  1       & 2013     & 10388055 & 2462515  & 156871   & 2619386 \\\\\n",
       "\t  6       & 2014     & 10369593 & 2510742  & 149991   & 2660733 \\\\\n",
       "\t 11       & 2015     & 10297138 & 2560154  & 141927   & 2702081 \\\\\n",
       "\t 16       & 2016     & 10204057 & 2598344  & 134309   & 2732653 \\\\\n",
       "\t 21       & 2017     & 10124579 & 2641190  & 127564   & 2768754 \\\\\n",
       "\t 26       & 2018     & 10049607 & 2658637  & 120780   & 2779417 \\\\\n",
       "\t 31       & 2019     & 10010983 & 2670803  & 114310   & 2785113 \\\\\n",
       "\t 37       & 2020     &  9911088 & 2711984  & 106504   & 2818488 \\\\\n",
       "\\end{tabular}\n"
      ],
      "text/markdown": [
       "\n",
       "| X | 년도 | 서울인구수 | 승용차 | 승합차 | 차합계 |\n",
       "|---|---|---|---|---|---|\n",
       "|  1       | 2013     | 10388055 | 2462515  | 156871   | 2619386  |\n",
       "|  6       | 2014     | 10369593 | 2510742  | 149991   | 2660733  |\n",
       "| 11       | 2015     | 10297138 | 2560154  | 141927   | 2702081  |\n",
       "| 16       | 2016     | 10204057 | 2598344  | 134309   | 2732653  |\n",
       "| 21       | 2017     | 10124579 | 2641190  | 127564   | 2768754  |\n",
       "| 26       | 2018     | 10049607 | 2658637  | 120780   | 2779417  |\n",
       "| 31       | 2019     | 10010983 | 2670803  | 114310   | 2785113  |\n",
       "| 37       | 2020     |  9911088 | 2711984  | 106504   | 2818488  |\n",
       "\n"
      ],
      "text/plain": [
       "  X  년도 서울인구수 승용차  승합차 차합계 \n",
       "1  1 2013 10388055   2462515 156871 2619386\n",
       "2  6 2014 10369593   2510742 149991 2660733\n",
       "3 11 2015 10297138   2560154 141927 2702081\n",
       "4 16 2016 10204057   2598344 134309 2732653\n",
       "5 21 2017 10124579   2641190 127564 2768754\n",
       "6 26 2018 10049607   2658637 120780 2779417\n",
       "7 31 2019 10010983   2670803 114310 2785113\n",
       "8 37 2020  9911088   2711984 106504 2818488"
      ]
     },
     "metadata": {},
     "output_type": "display_data"
    }
   ],
   "source": [
    "popCar <- read.csv(\"../Data_Project/인구수자동차수.csv\", fileEncoding = \"utf-8\")\n",
    "popCar"
   ]
  },
  {
   "cell_type": "code",
   "execution_count": 12,
   "metadata": {},
   "outputs": [
    {
     "data": {
      "text/html": [
       "1056"
      ],
      "text/latex": [
       "1056"
      ],
      "text/markdown": [
       "1056"
      ],
      "text/plain": [
       "[1] 1056"
      ]
     },
     "metadata": {},
     "output_type": "display_data"
    }
   ],
   "source": [
    "nrow(sd222)"
   ]
  },
  {
   "cell_type": "code",
   "execution_count": 13,
   "metadata": {},
   "outputs": [
    {
     "data": {
      "text/plain": [
       "\n",
       " 0  1  2  3  4  5  6  7  8  9 10 11 12 13 14 15 16 17 18 19 20 21 22 23 \n",
       "44 44 44 44 44 44 44 44 44 44 44 44 44 44 44 44 44 44 44 44 44 44 44 44 "
      ]
     },
     "metadata": {},
     "output_type": "display_data"
    }
   ],
   "source": [
    "table(sd222$일차)"
   ]
  },
  {
   "cell_type": "code",
   "execution_count": 14,
   "metadata": {},
   "outputs": [
    {
     "data": {
      "text/plain": [
       "\n",
       "  0   1   2   3   4   5   6 \n",
       "192 192 192 192 192  72  24 "
      ]
     },
     "metadata": {},
     "output_type": "display_data"
    }
   ],
   "source": [
    "table(sd222$출발시간)"
   ]
  },
  {
   "cell_type": "code",
   "execution_count": 15,
   "metadata": {},
   "outputs": [],
   "source": [
    "sd555 <- read.csv(\"../Data_Project/AI프로젝트22.csv\", fileEncoding = 'utf-8')"
   ]
  },
  {
   "cell_type": "code",
   "execution_count": 16,
   "metadata": {},
   "outputs": [
    {
     "data": {
      "text/html": [
       "<table>\n",
       "<thead><tr><th scope=col>X1종.교통량</th><th scope=col>X2종.교통량</th><th scope=col>서울인구수</th></tr></thead>\n",
       "<tbody>\n",
       "\t<tr><td>3793419 </td><td>229419  </td><td>10388055</td></tr>\n",
       "\t<tr><td>2514790 </td><td>203047  </td><td>10388055</td></tr>\n",
       "\t<tr><td>1846564 </td><td>235137  </td><td>10388055</td></tr>\n",
       "\t<tr><td>1632415 </td><td>305994  </td><td>10388055</td></tr>\n",
       "\t<tr><td>2247045 </td><td>444384  </td><td>10388055</td></tr>\n",
       "\t<tr><td>5186824 </td><td>774325  </td><td>10388055</td></tr>\n",
       "</tbody>\n",
       "</table>\n"
      ],
      "text/latex": [
       "\\begin{tabular}{r|lll}\n",
       " X1종.교통량 & X2종.교통량 & 서울인구수\\\\\n",
       "\\hline\n",
       "\t 3793419  & 229419   & 10388055\\\\\n",
       "\t 2514790  & 203047   & 10388055\\\\\n",
       "\t 1846564  & 235137   & 10388055\\\\\n",
       "\t 1632415  & 305994   & 10388055\\\\\n",
       "\t 2247045  & 444384   & 10388055\\\\\n",
       "\t 5186824  & 774325   & 10388055\\\\\n",
       "\\end{tabular}\n"
      ],
      "text/markdown": [
       "\n",
       "| X1종.교통량 | X2종.교통량 | 서울인구수 |\n",
       "|---|---|---|\n",
       "| 3793419  | 229419   | 10388055 |\n",
       "| 2514790  | 203047   | 10388055 |\n",
       "| 1846564  | 235137   | 10388055 |\n",
       "| 1632415  | 305994   | 10388055 |\n",
       "| 2247045  | 444384   | 10388055 |\n",
       "| 5186824  | 774325   | 10388055 |\n",
       "\n"
      ],
      "text/plain": [
       "  X1종.교통량 X2종.교통량 서울인구수\n",
       "1 3793419     229419      10388055  \n",
       "2 2514790     203047      10388055  \n",
       "3 1846564     235137      10388055  \n",
       "4 1632415     305994      10388055  \n",
       "5 2247045     444384      10388055  \n",
       "6 5186824     774325      10388055  "
      ]
     },
     "metadata": {},
     "output_type": "display_data"
    },
    {
     "data": {
      "text/html": [
       "<table>\n",
       "<thead><tr><th scope=col>X1종.교통량</th><th scope=col>X2종.교통량</th><th scope=col>서울인구수</th></tr></thead>\n",
       "<tbody>\n",
       "\t<tr><td>-0.7736980</td><td>-0.7304996</td><td>1.406826  </td></tr>\n",
       "\t<tr><td>-0.8754301</td><td>-0.7805927</td><td>1.406826  </td></tr>\n",
       "\t<tr><td>-0.9285965</td><td>-0.7196384</td><td>1.406826  </td></tr>\n",
       "\t<tr><td>-0.9456349</td><td>-0.5850469</td><td>1.406826  </td></tr>\n",
       "\t<tr><td>-0.8967328</td><td>-0.3221779</td><td>1.406826  </td></tr>\n",
       "\t<tr><td>-0.6628339</td><td> 0.3045384</td><td>1.406826  </td></tr>\n",
       "</tbody>\n",
       "</table>\n"
      ],
      "text/latex": [
       "\\begin{tabular}{lll}\n",
       " X1종.교통량 & X2종.교통량 & 서울인구수\\\\\n",
       "\\hline\n",
       "\t -0.7736980 & -0.7304996 & 1.406826  \\\\\n",
       "\t -0.8754301 & -0.7805927 & 1.406826  \\\\\n",
       "\t -0.9285965 & -0.7196384 & 1.406826  \\\\\n",
       "\t -0.9456349 & -0.5850469 & 1.406826  \\\\\n",
       "\t -0.8967328 & -0.3221779 & 1.406826  \\\\\n",
       "\t -0.6628339 &  0.3045384 & 1.406826  \\\\\n",
       "\\end{tabular}\n"
      ],
      "text/markdown": [
       "\n",
       "| X1종.교통량 | X2종.교통량 | 서울인구수 |\n",
       "|---|---|---|\n",
       "| -0.7736980 | -0.7304996 | 1.406826   |\n",
       "| -0.8754301 | -0.7805927 | 1.406826   |\n",
       "| -0.9285965 | -0.7196384 | 1.406826   |\n",
       "| -0.9456349 | -0.5850469 | 1.406826   |\n",
       "| -0.8967328 | -0.3221779 | 1.406826   |\n",
       "| -0.6628339 |  0.3045384 | 1.406826   |\n",
       "\n"
      ],
      "text/plain": [
       "     X1종.교통량 X2종.교통량 서울인구수\n",
       "[1,] -0.7736980  -0.7304996  1.406826  \n",
       "[2,] -0.8754301  -0.7805927  1.406826  \n",
       "[3,] -0.9285965  -0.7196384  1.406826  \n",
       "[4,] -0.9456349  -0.5850469  1.406826  \n",
       "[5,] -0.8967328  -0.3221779  1.406826  \n",
       "[6,] -0.6628339   0.3045384  1.406826  "
      ]
     },
     "metadata": {},
     "output_type": "display_data"
    }
   ],
   "source": [
    "sd555 <- sd555[,-5]\n",
    "sd12 <- sd555[,6:8]\n",
    "head(sd12)\n",
    "sd12 <- scale(sd12)\n",
    "head(sd12)"
   ]
  },
  {
   "cell_type": "code",
   "execution_count": 17,
   "metadata": {},
   "outputs": [],
   "source": [
    "sdScale <- cbind(sd555[,1:5], sd12)"
   ]
  },
  {
   "cell_type": "code",
   "execution_count": 18,
   "metadata": {},
   "outputs": [
    {
     "data": {
      "text/html": [
       "1008"
      ],
      "text/latex": [
       "1008"
      ],
      "text/markdown": [
       "1008"
      ],
      "text/plain": [
       "[1] 1008"
      ]
     },
     "metadata": {},
     "output_type": "display_data"
    },
    {
     "data": {
      "text/html": [
       "<table>\n",
       "<thead><tr><th scope=col>소요시간</th><th scope=col>출발시간</th><th scope=col>일차</th><th scope=col>연휴길이</th><th scope=col>눈비</th><th scope=col>X1종.교통량</th><th scope=col>X2종.교통량</th><th scope=col>서울인구수</th></tr></thead>\n",
       "<tbody>\n",
       "\t<tr><td>91      </td><td>0       </td><td>0       </td><td>3       </td><td>TRUE    </td><td>3793419 </td><td>229419  </td><td>10388055</td></tr>\n",
       "\t<tr><td>88      </td><td>1       </td><td>0       </td><td>3       </td><td>TRUE    </td><td>2514790 </td><td>203047  </td><td>10388055</td></tr>\n",
       "\t<tr><td>88      </td><td>2       </td><td>0       </td><td>3       </td><td>TRUE    </td><td>1846564 </td><td>235137  </td><td>10388055</td></tr>\n",
       "\t<tr><td>87      </td><td>3       </td><td>0       </td><td>3       </td><td>TRUE    </td><td>1632415 </td><td>305994  </td><td>10388055</td></tr>\n",
       "\t<tr><td>91      </td><td>4       </td><td>0       </td><td>3       </td><td>TRUE    </td><td>2247045 </td><td>444384  </td><td>10388055</td></tr>\n",
       "\t<tr><td>97      </td><td>5       </td><td>0       </td><td>3       </td><td>TRUE    </td><td>5186824 </td><td>774325  </td><td>10388055</td></tr>\n",
       "</tbody>\n",
       "</table>\n"
      ],
      "text/latex": [
       "\\begin{tabular}{r|llllllll}\n",
       " 소요시간 & 출발시간 & 일차 & 연휴길이 & 눈비 & X1종.교통량 & X2종.교통량 & 서울인구수\\\\\n",
       "\\hline\n",
       "\t 91       & 0        & 0        & 3        & TRUE     & 3793419  & 229419   & 10388055\\\\\n",
       "\t 88       & 1        & 0        & 3        & TRUE     & 2514790  & 203047   & 10388055\\\\\n",
       "\t 88       & 2        & 0        & 3        & TRUE     & 1846564  & 235137   & 10388055\\\\\n",
       "\t 87       & 3        & 0        & 3        & TRUE     & 1632415  & 305994   & 10388055\\\\\n",
       "\t 91       & 4        & 0        & 3        & TRUE     & 2247045  & 444384   & 10388055\\\\\n",
       "\t 97       & 5        & 0        & 3        & TRUE     & 5186824  & 774325   & 10388055\\\\\n",
       "\\end{tabular}\n"
      ],
      "text/markdown": [
       "\n",
       "| 소요시간 | 출발시간 | 일차 | 연휴길이 | 눈비 | X1종.교통량 | X2종.교통량 | 서울인구수 |\n",
       "|---|---|---|---|---|---|---|---|\n",
       "| 91       | 0        | 0        | 3        | TRUE     | 3793419  | 229419   | 10388055 |\n",
       "| 88       | 1        | 0        | 3        | TRUE     | 2514790  | 203047   | 10388055 |\n",
       "| 88       | 2        | 0        | 3        | TRUE     | 1846564  | 235137   | 10388055 |\n",
       "| 87       | 3        | 0        | 3        | TRUE     | 1632415  | 305994   | 10388055 |\n",
       "| 91       | 4        | 0        | 3        | TRUE     | 2247045  | 444384   | 10388055 |\n",
       "| 97       | 5        | 0        | 3        | TRUE     | 5186824  | 774325   | 10388055 |\n",
       "\n"
      ],
      "text/plain": [
       "  소요시간 출발시간 일차 연휴길이 눈비 X1종.교통량 X2종.교통량 서울인구수\n",
       "1 91       0        0    3        TRUE 3793419     229419      10388055  \n",
       "2 88       1        0    3        TRUE 2514790     203047      10388055  \n",
       "3 88       2        0    3        TRUE 1846564     235137      10388055  \n",
       "4 87       3        0    3        TRUE 1632415     305994      10388055  \n",
       "5 91       4        0    3        TRUE 2247045     444384      10388055  \n",
       "6 97       5        0    3        TRUE 5186824     774325      10388055  "
      ]
     },
     "metadata": {},
     "output_type": "display_data"
    },
    {
     "data": {
      "text/html": [
       "<table>\n",
       "<thead><tr><th scope=col>소요시간</th><th scope=col>출발시간</th><th scope=col>일차</th><th scope=col>연휴길이</th><th scope=col>눈비</th><th scope=col>X1종.교통량</th><th scope=col>X2종.교통량</th><th scope=col>서울인구수</th></tr></thead>\n",
       "<tbody>\n",
       "\t<tr><td>91        </td><td>0         </td><td>0         </td><td>3         </td><td>TRUE      </td><td>-0.7736980</td><td>-0.7304996</td><td>1.406826  </td></tr>\n",
       "\t<tr><td>88        </td><td>1         </td><td>0         </td><td>3         </td><td>TRUE      </td><td>-0.8754301</td><td>-0.7805927</td><td>1.406826  </td></tr>\n",
       "\t<tr><td>88        </td><td>2         </td><td>0         </td><td>3         </td><td>TRUE      </td><td>-0.9285965</td><td>-0.7196384</td><td>1.406826  </td></tr>\n",
       "\t<tr><td>87        </td><td>3         </td><td>0         </td><td>3         </td><td>TRUE      </td><td>-0.9456349</td><td>-0.5850469</td><td>1.406826  </td></tr>\n",
       "\t<tr><td>91        </td><td>4         </td><td>0         </td><td>3         </td><td>TRUE      </td><td>-0.8967328</td><td>-0.3221779</td><td>1.406826  </td></tr>\n",
       "\t<tr><td>97        </td><td>5         </td><td>0         </td><td>3         </td><td>TRUE      </td><td>-0.6628339</td><td> 0.3045384</td><td>1.406826  </td></tr>\n",
       "</tbody>\n",
       "</table>\n"
      ],
      "text/latex": [
       "\\begin{tabular}{r|llllllll}\n",
       " 소요시간 & 출발시간 & 일차 & 연휴길이 & 눈비 & X1종.교통량 & X2종.교통량 & 서울인구수\\\\\n",
       "\\hline\n",
       "\t 91         & 0          & 0          & 3          & TRUE       & -0.7736980 & -0.7304996 & 1.406826  \\\\\n",
       "\t 88         & 1          & 0          & 3          & TRUE       & -0.8754301 & -0.7805927 & 1.406826  \\\\\n",
       "\t 88         & 2          & 0          & 3          & TRUE       & -0.9285965 & -0.7196384 & 1.406826  \\\\\n",
       "\t 87         & 3          & 0          & 3          & TRUE       & -0.9456349 & -0.5850469 & 1.406826  \\\\\n",
       "\t 91         & 4          & 0          & 3          & TRUE       & -0.8967328 & -0.3221779 & 1.406826  \\\\\n",
       "\t 97         & 5          & 0          & 3          & TRUE       & -0.6628339 &  0.3045384 & 1.406826  \\\\\n",
       "\\end{tabular}\n"
      ],
      "text/markdown": [
       "\n",
       "| 소요시간 | 출발시간 | 일차 | 연휴길이 | 눈비 | X1종.교통량 | X2종.교통량 | 서울인구수 |\n",
       "|---|---|---|---|---|---|---|---|\n",
       "| 91         | 0          | 0          | 3          | TRUE       | -0.7736980 | -0.7304996 | 1.406826   |\n",
       "| 88         | 1          | 0          | 3          | TRUE       | -0.8754301 | -0.7805927 | 1.406826   |\n",
       "| 88         | 2          | 0          | 3          | TRUE       | -0.9285965 | -0.7196384 | 1.406826   |\n",
       "| 87         | 3          | 0          | 3          | TRUE       | -0.9456349 | -0.5850469 | 1.406826   |\n",
       "| 91         | 4          | 0          | 3          | TRUE       | -0.8967328 | -0.3221779 | 1.406826   |\n",
       "| 97         | 5          | 0          | 3          | TRUE       | -0.6628339 |  0.3045384 | 1.406826   |\n",
       "\n"
      ],
      "text/plain": [
       "  소요시간 출발시간 일차 연휴길이 눈비 X1종.교통량 X2종.교통량 서울인구수\n",
       "1 91       0        0    3        TRUE -0.7736980  -0.7304996  1.406826  \n",
       "2 88       1        0    3        TRUE -0.8754301  -0.7805927  1.406826  \n",
       "3 88       2        0    3        TRUE -0.9285965  -0.7196384  1.406826  \n",
       "4 87       3        0    3        TRUE -0.9456349  -0.5850469  1.406826  \n",
       "5 91       4        0    3        TRUE -0.8967328  -0.3221779  1.406826  \n",
       "6 97       5        0    3        TRUE -0.6628339   0.3045384  1.406826  "
      ]
     },
     "metadata": {},
     "output_type": "display_data"
    }
   ],
   "source": [
    "nrow(sd555)\n",
    "head(sd555)\n",
    "head(sdScale)"
   ]
  },
  {
   "cell_type": "code",
   "execution_count": 19,
   "metadata": {
    "scrolled": false
   },
   "outputs": [
    {
     "data": {
      "text/html": [
       "74.9233333333334"
      ],
      "text/latex": [
       "74.9233333333334"
      ],
      "text/markdown": [
       "74.9233333333334"
      ],
      "text/plain": [
       "[1] 74.92333"
      ]
     },
     "metadata": {},
     "output_type": "display_data"
    },
    {
     "data": {
      "text/html": [
       "61.8966666666667"
      ],
      "text/latex": [
       "61.8966666666667"
      ],
      "text/markdown": [
       "61.8966666666667"
      ],
      "text/plain": [
       "[1] 61.89667"
      ]
     },
     "metadata": {},
     "output_type": "display_data"
    },
    {
     "data": {
      "text/html": [
       "75.21"
      ],
      "text/latex": [
       "75.21"
      ],
      "text/markdown": [
       "75.21"
      ],
      "text/plain": [
       "[1] 75.21"
      ]
     },
     "metadata": {},
     "output_type": "display_data"
    },
    {
     "data": {
      "text/html": [
       "90.2980225988701"
      ],
      "text/latex": [
       "90.2980225988701"
      ],
      "text/markdown": [
       "90.2980225988701"
      ],
      "text/plain": [
       "[1] 90.29802"
      ]
     },
     "metadata": {},
     "output_type": "display_data"
    },
    {
     "data": {
      "text/html": [
       "64.3319209039548"
      ],
      "text/latex": [
       "64.3319209039548"
      ],
      "text/markdown": [
       "64.3319209039548"
      ],
      "text/plain": [
       "[1] 64.33192"
      ]
     },
     "metadata": {},
     "output_type": "display_data"
    },
    {
     "data": {
      "text/html": [
       "77.6016949152543"
      ],
      "text/latex": [
       "77.6016949152543"
      ],
      "text/markdown": [
       "77.6016949152543"
      ],
      "text/plain": [
       "[1] 77.60169"
      ]
     },
     "metadata": {},
     "output_type": "display_data"
    }
   ],
   "source": [
    "sum_rf <- 0\n",
    "# sum_nnet <- 0\n",
    "sum_ctree <- 0\n",
    "# sum_multi <- 0\n",
    "sum_svm <- 0\n",
    "\n",
    "sum_rf_tr <- 0\n",
    "sum_ctree_tr <- 0\n",
    "sum_svm_tr <- 0\n",
    "\n",
    "for (i in 1:100){\n",
    "  samp <- createDataPartition(sdScale$소요시간, p=0.7, list=F)\n",
    "  data.tr <- sdScale[samp,]\n",
    "  data.test <- sdScale[-samp,]\n",
    "    \n",
    "  # 트레이닝 데이터 훈련\n",
    "  x_tr <- subset(data.tr, select = -소요시간)\n",
    "  y_tr <- data.tr$소요시간\n",
    "    \n",
    "  # 테스트 데이터 훈련  \n",
    "  x_test <- subset(data.test, select = -소요시간)\n",
    "  y_test <- data.test$소요시간\n",
    "    \n",
    "  # RF\n",
    "  model_rf <- randomForest(소요시간 ~ . , data = data.tr, ntree = 100)\n",
    "  pred_rf <- predict(model_rf, x_test)\n",
    "  예측력_rf <- mean((pred_rf*0.85 < y_test) & (pred_rf*1.15 > y_test)) \n",
    "  # RF train\n",
    "  model_rf_tr <- randomForest(소요시간 ~ . , data = data.tr, ntree = 100)\n",
    "  pred_rf_tr <- predict(model_rf_tr, x_tr)\n",
    "  예측력_rf_tr <- mean((pred_rf_tr*0.85 < y_tr) & (pred_rf_tr*1.15 > y_tr))\n",
    "\n",
    "  \n",
    "  # 인공신경망\n",
    "  # model_nnet <- nnet(소요시간 ~ ., data=data.tr, size=3)\n",
    "  # pred_nnet <- predict(model_nnet, x, type=\"class\")\n",
    "  # 예측력_nnet <- mean((pred_nnet*0.85 < y) & (pred_nnet*1.15 > y)) \n",
    " \n",
    "  # 의사결정나무\n",
    "  model_ctree <- ctree(소요시간 ~ ., data=data.tr)\n",
    "  pred_ctree <- predict(model_ctree, x_test)\n",
    "  예측력_nnet <- mean((pred_ctree*0.85 < y_test) & (pred_ctree*1.15 > y_test))\n",
    "  # 의사결정나무 train\n",
    "  model_ctree_tr <- ctree(소요시간 ~ ., data=data.tr)\n",
    "  pred_ctree_tr <- predict(model_ctree_tr, x_tr)\n",
    "  예측력_ctree_tr <- mean((pred_ctree_tr*0.85 < y_tr) & (pred_ctree_tr*1.15 > y_tr))\n",
    "    \n",
    "  # SVM test\n",
    "  model_svm <- svm(소요시간 ~ ., data=data.tr)\n",
    "  pred_svm <- predict(model_svm, x_test, type = \"class\")\n",
    "  예측력_svm <- mean((pred_svm*0.85 < y_test) & (pred_svm*1.15 > y_test))\n",
    "  # SVM train\n",
    "   model_svm_tr <- svm(소요시간 ~ ., data=data.tr)\n",
    "   pred_svm_tr <- predict(model_svm_tr, x_tr, type = \"class\")\n",
    "   예측력_svm_tr <- mean((pred_svm_tr*0.85 < y_tr) & (pred_svm_tr*1.15 > y_tr))\n",
    "    \n",
    "  # 다항 로지스틱 회귀분석\n",
    "  # model_multinom <- multinom(소요시간 ~ ., data=data.tr)\n",
    "  # pred_multinom <- predict(model_multinom, x, type=\"class\")\n",
    "  # 예측력_multinom <- mean((pred_multinom*0.85 < y) & (pred_multinom*1.15 > y)) \n",
    "    \n",
    "  sum_rf <- sum_rf + 예측력_rf\n",
    "  sum_ctree <- sum_ctree + 예측력_nnet\n",
    "  sum_svm <- sum_svm + 예측력_svm\n",
    "  # sum_multi <- sum_multi + 예측력_multinom\n",
    "  # sum_nnet <- sum_nnet + 예측력_nnet\n",
    "    \n",
    "  sum_svm_tr <- sum_svm_tr + 예측력_svm_tr\n",
    "  sum_rf_tr <- sum_rf_tr + 예측력_rf_tr\n",
    "  sum_ctree_tr <- sum_ctree_tr + 예측력_ctree_tr\n",
    "}\n",
    "\n",
    "sum_rf\n",
    "sum_ctree\n",
    "sum_svm\n",
    "# sum_multi\n",
    "# sum_ctree\n",
    "\n",
    "sum_rf_tr\n",
    "sum_ctree_tr\n",
    "sum_svm_tr"
   ]
  },
  {
   "cell_type": "code",
   "execution_count": 20,
   "metadata": {},
   "outputs": [
    {
     "data": {
      "text/html": [
       "1008"
      ],
      "text/latex": [
       "1008"
      ],
      "text/markdown": [
       "1008"
      ],
      "text/plain": [
       "[1] 1008"
      ]
     },
     "metadata": {},
     "output_type": "display_data"
    }
   ],
   "source": [
    "nrow(sd555)"
   ]
  },
  {
   "cell_type": "code",
   "execution_count": 21,
   "metadata": {
    "scrolled": true
   },
   "outputs": [
    {
     "data": {
      "text/html": [
       "0.663010992961569"
      ],
      "text/latex": [
       "0.663010992961569"
      ],
      "text/markdown": [
       "0.663010992961569"
      ],
      "text/plain": [
       "[1] 0.663011"
      ]
     },
     "metadata": {},
     "output_type": "display_data"
    }
   ],
   "source": [
    "# 정확도\n",
    "r <- 0\n",
    "\n",
    "# for (i in 1:100){\n",
    "samp <- createDataPartition(sdScale$소요시간, p=0.7, list=F)\n",
    "  data.tr <- sdScale[samp,]\n",
    "  data.test <- sdScale[-samp,]\n",
    "\n",
    "  x <- subset(data.test, select = -소요시간)\n",
    "  y <- data.test$소요시간\n",
    "    \n",
    "  model_rf <- randomForest(소요시간 ~ . , data = data.tr, ntree = 100)\n",
    "  pred_rf <- predict(model_rf, x)\n",
    "  예측력_rf <- mean((pred_rf*0.85 < y) & (pred_rf*1.15 > y)) \n",
    "  r <- 1 - sum((y - pred_rf)^2) / sum((y - mean(y))^2)\n",
    "    \n",
    "# }   \n",
    "r"
   ]
  },
  {
   "cell_type": "code",
   "execution_count": 22,
   "metadata": {},
   "outputs": [
    {
     "name": "stderr",
     "output_type": "stream",
     "text": [
      "\n",
      "Attaching package: ‘Metrics’\n",
      "\n",
      "The following objects are masked from ‘package:caret’:\n",
      "\n",
      "    precision, recall\n",
      "\n"
     ]
    }
   ],
   "source": [
    "library(Metrics)"
   ]
  },
  {
   "cell_type": "code",
   "execution_count": null,
   "metadata": {},
   "outputs": [],
   "source": []
  },
  {
   "cell_type": "code",
   "execution_count": null,
   "metadata": {},
   "outputs": [],
   "source": []
  },
  {
   "cell_type": "code",
   "execution_count": null,
   "metadata": {},
   "outputs": [],
   "source": []
  },
  {
   "cell_type": "code",
   "execution_count": null,
   "metadata": {},
   "outputs": [],
   "source": []
  },
  {
   "cell_type": "code",
   "execution_count": null,
   "metadata": {},
   "outputs": [],
   "source": []
  },
  {
   "cell_type": "code",
   "execution_count": 23,
   "metadata": {},
   "outputs": [
    {
     "data": {
      "text/plain": [
       "K-means clustering with 3 clusters of sizes 336, 378, 294\n",
       "\n",
       "Cluster means:\n",
       "  [,1]\n",
       "1 10.5\n",
       "2 19.0\n",
       "3  3.0\n",
       "\n",
       "Clustering vector:\n",
       "   [1] 3 3 3 3 3 3 3 1 1 1 1 1 1 1 1 2 2 2 2 2 2 2 2 2 3 3 3 3 3 3 3 1 1 1 1 1 1\n",
       "  [38] 1 1 2 2 2 2 2 2 2 2 2 3 3 3 3 3 3 3 1 1 1 1 1 1 1 1 2 2 2 2 2 2 2 2 2 3 3\n",
       "  [75] 3 3 3 3 3 1 1 1 1 1 1 1 1 2 2 2 2 2 2 2 2 2 3 3 3 3 3 3 3 1 1 1 1 1 1 1 1\n",
       " [112] 2 2 2 2 2 2 2 2 2 3 3 3 3 3 3 3 1 1 1 1 1 1 1 1 2 2 2 2 2 2 2 2 2 3 3 3 3\n",
       " [149] 3 3 3 1 1 1 1 1 1 1 1 2 2 2 2 2 2 2 2 2 3 3 3 3 3 3 3 1 1 1 1 1 1 1 1 2 2\n",
       " [186] 2 2 2 2 2 2 2 3 3 3 3 3 3 3 1 1 1 1 1 1 1 1 2 2 2 2 2 2 2 2 2 3 3 3 3 3 3\n",
       " [223] 3 1 1 1 1 1 1 1 1 2 2 2 2 2 2 2 2 2 3 3 3 3 3 3 3 1 1 1 1 1 1 1 1 2 2 2 2\n",
       " [260] 2 2 2 2 2 3 3 3 3 3 3 3 1 1 1 1 1 1 1 1 2 2 2 2 2 2 2 2 2 3 3 3 3 3 3 3 1\n",
       " [297] 1 1 1 1 1 1 1 2 2 2 2 2 2 2 2 2 3 3 3 3 3 3 3 1 1 1 1 1 1 1 1 2 2 2 2 2 2\n",
       " [334] 2 2 2 3 3 3 3 3 3 3 1 1 1 1 1 1 1 1 2 2 2 2 2 2 2 2 2 3 3 3 3 3 3 3 1 1 1\n",
       " [371] 1 1 1 1 1 2 2 2 2 2 2 2 2 2 3 3 3 3 3 3 3 1 1 1 1 1 1 1 1 2 2 2 2 2 2 2 2\n",
       " [408] 2 3 3 3 3 3 3 3 1 1 1 1 1 1 1 1 2 2 2 2 2 2 2 2 2 3 3 3 3 3 3 3 1 1 1 1 1\n",
       " [445] 1 1 1 2 2 2 2 2 2 2 2 2 3 3 3 3 3 3 3 1 1 1 1 1 1 1 1 2 2 2 2 2 2 2 2 2 3\n",
       " [482] 3 3 3 3 3 3 1 1 1 1 1 1 1 1 2 2 2 2 2 2 2 2 2 3 3 3 3 3 3 3 1 1 1 1 1 1 1\n",
       " [519] 1 2 2 2 2 2 2 2 2 2 3 3 3 3 3 3 3 1 1 1 1 1 1 1 1 2 2 2 2 2 2 2 2 2 3 3 3\n",
       " [556] 3 3 3 3 1 1 1 1 1 1 1 1 2 2 2 2 2 2 2 2 2 3 3 3 3 3 3 3 1 1 1 1 1 1 1 1 2\n",
       " [593] 2 2 2 2 2 2 2 2 3 3 3 3 3 3 3 1 1 1 1 1 1 1 1 2 2 2 2 2 2 2 2 2 3 3 3 3 3\n",
       " [630] 3 3 1 1 1 1 1 1 1 1 2 2 2 2 2 2 2 2 2 3 3 3 3 3 3 3 1 1 1 1 1 1 1 1 2 2 2\n",
       " [667] 2 2 2 2 2 2 3 3 3 3 3 3 3 1 1 1 1 1 1 1 1 2 2 2 2 2 2 2 2 2 3 3 3 3 3 3 3\n",
       " [704] 1 1 1 1 1 1 1 1 2 2 2 2 2 2 2 2 2 3 3 3 3 3 3 3 1 1 1 1 1 1 1 1 2 2 2 2 2\n",
       " [741] 2 2 2 2 3 3 3 3 3 3 3 1 1 1 1 1 1 1 1 2 2 2 2 2 2 2 2 2 3 3 3 3 3 3 3 1 1\n",
       " [778] 1 1 1 1 1 1 2 2 2 2 2 2 2 2 2 3 3 3 3 3 3 3 1 1 1 1 1 1 1 1 2 2 2 2 2 2 2\n",
       " [815] 2 2 3 3 3 3 3 3 3 1 1 1 1 1 1 1 1 2 2 2 2 2 2 2 2 2 3 3 3 3 3 3 3 1 1 1 1\n",
       " [852] 1 1 1 1 2 2 2 2 2 2 2 2 2 3 3 3 3 3 3 3 1 1 1 1 1 1 1 1 2 2 2 2 2 2 2 2 2\n",
       " [889] 3 3 3 3 3 3 3 1 1 1 1 1 1 1 1 2 2 2 2 2 2 2 2 2 3 3 3 3 3 3 3 1 1 1 1 1 1\n",
       " [926] 1 1 2 2 2 2 2 2 2 2 2 3 3 3 3 3 3 3 1 1 1 1 1 1 1 1 2 2 2 2 2 2 2 2 2 3 3\n",
       " [963] 3 3 3 3 3 1 1 1 1 1 1 1 1 2 2 2 2 2 2 2 2 2 3 3 3 3 3 3 3 1 1 1 1 1 1 1 1\n",
       "[1000] 2 2 2 2 2 2 2 2 2\n",
       "\n",
       "Within cluster sum of squares by cluster:\n",
       "[1] 1764 2520 1176\n",
       " (between_SS / total_SS =  88.7 %)\n",
       "\n",
       "Available components:\n",
       "\n",
       "[1] \"cluster\"      \"centers\"      \"totss\"        \"withinss\"     \"tot.withinss\"\n",
       "[6] \"betweenss\"    \"size\"         \"iter\"         \"ifault\"      "
      ]
     },
     "metadata": {},
     "output_type": "display_data"
    }
   ],
   "source": [
    "kmeans(sdScale$출발시간, 3)"
   ]
  },
  {
   "cell_type": "code",
   "execution_count": 24,
   "metadata": {},
   "outputs": [
    {
     "data": {
      "image/png": "[encoded data removed]",
      "text/plain": [
       "plot without title"
      ]
     },
     "metadata": {},
     "output_type": "display_data"
    }
   ],
   "source": [
    "boxplot(sdScale$소요시간)"
   ]
  },
  {
   "cell_type": "code",
   "execution_count": 25,
   "metadata": {},
   "outputs": [
    {
     "data": {
      "text/plain": [
       "\n",
       "  0   1   2   3   4   5 \n",
       "192 192 192 192 168  72 "
      ]
     },
     "metadata": {},
     "output_type": "display_data"
    }
   ],
   "source": [
    "table(sdScale$일차)"
   ]
  },
  {
   "cell_type": "code",
   "execution_count": 26,
   "metadata": {},
   "outputs": [],
   "source": [
    "# 일차별 데이터셋 분류\n",
    "sd1 <- subset(sdScale, 일차 == 0)\n",
    "sd2 <- subset(sdScale, 일차 == 1)\n",
    "sd3 <- subset(sdScale, 일차 == 2)\n",
    "sd4 <- subset(sdScale, 일차 == 3)\n",
    "sd5 <- subset(sdScale, 일차 == 4)\n",
    "sd6 <- subset(sdScale, 일차 == 5)"
   ]
  },
  {
   "cell_type": "code",
   "execution_count": 27,
   "metadata": {},
   "outputs": [
    {
     "data": {
      "text/plain": [
       "K-means clustering with 3 clusters of sizes 34, 44, 114\n",
       "\n",
       "Cluster means:\n",
       "       [,1]\n",
       "1 197.00000\n",
       "2 129.86364\n",
       "3  89.23684\n",
       "\n",
       "Clustering vector:\n",
       "  [1] 3 3 3 3 3 3 3 3 3 3 3 3 3 2 2 2 2 2 1 1 1 1 1 1 3 3 3 3 3 3 3 3 3 3 3 3 3\n",
       " [38] 2 2 2 2 2 1 1 1 1 1 1 3 3 3 3 3 3 3 3 3 3 3 3 2 2 2 2 2 1 1 1 1 1 1 1 3 3\n",
       " [75] 3 3 3 3 3 3 3 3 3 3 3 3 3 2 2 2 2 2 2 2 2 2 3 3 3 3 3 3 3 3 3 3 3 3 3 2 2\n",
       "[112] 2 2 1 1 1 1 1 1 1 3 3 3 3 3 3 3 3 3 3 3 3 3 3 2 2 2 2 2 1 2 1 1 1 3 3 3 3\n",
       "[149] 3 3 3 3 3 3 3 3 3 2 3 3 3 3 2 2 2 3 3 3 3 3 3 3 3 3 3 3 3 3 3 3 3 3 2 2 2\n",
       "[186] 2 2 2 1 1 1 1\n",
       "\n",
       "Within cluster sum of squares by cluster:\n",
       "[1] 21062.000 10031.182  5568.605\n",
       " (between_SS / total_SS =  89.5 %)\n",
       "\n",
       "Available components:\n",
       "\n",
       "[1] \"cluster\"      \"centers\"      \"totss\"        \"withinss\"     \"tot.withinss\"\n",
       "[6] \"betweenss\"    \"size\"         \"iter\"         \"ifault\"      "
      ]
     },
     "metadata": {},
     "output_type": "display_data"
    }
   ],
   "source": [
    "kmeans(sd1$소요시간, 3)"
   ]
  },
  {
   "cell_type": "code",
   "execution_count": 28,
   "metadata": {},
   "outputs": [
    {
     "data": {
      "text/plain": [
       "K-means clustering with 3 clusters of sizes 74, 30, 88\n",
       "\n",
       "Cluster means:\n",
       "      [,1]\n",
       "1 151.1351\n",
       "2 200.4333\n",
       "3 105.4432\n",
       "\n",
       "Clustering vector:\n",
       "  [1] 1 1 3 3 3 3 3 1 1 1 1 1 1 1 1 3 3 3 3 3 3 3 3 3 1 1 1 1 1 1 1 1 1 2 2 2 2\n",
       " [38] 2 2 2 1 1 1 1 3 3 3 3 2 2 2 1 2 1 1 2 1 2 2 2 2 2 2 2 2 2 1 1 1 3 3 3 3 3\n",
       " [75] 3 3 3 3 3 3 3 3 3 3 3 3 3 3 3 3 3 3 3 3 3 3 1 1 1 1 1 1 1 1 1 1 1 1 1 1 1\n",
       "[112] 1 3 1 3 3 3 3 3 3 3 1 1 1 1 1 1 1 1 1 1 2 2 2 2 2 1 1 1 1 3 3 3 3 3 3 3 3\n",
       "[149] 3 3 3 3 3 3 3 3 3 3 3 3 3 3 3 3 3 3 3 3 3 3 1 1 1 1 1 1 1 1 2 2 2 2 1 1 1\n",
       "[186] 1 1 3 3 3 3 3\n",
       "\n",
       "Within cluster sum of squares by cluster:\n",
       "[1] 11964.65 11557.37 14647.72\n",
       " (between_SS / total_SS =  85.4 %)\n",
       "\n",
       "Available components:\n",
       "\n",
       "[1] \"cluster\"      \"centers\"      \"totss\"        \"withinss\"     \"tot.withinss\"\n",
       "[6] \"betweenss\"    \"size\"         \"iter\"         \"ifault\"      "
      ]
     },
     "metadata": {},
     "output_type": "display_data"
    }
   ],
   "source": [
    "kmeans(sd2$소요시간, 3)"
   ]
  },
  {
   "cell_type": "code",
   "execution_count": 29,
   "metadata": {},
   "outputs": [
    {
     "data": {
      "text/plain": [
       "K-means clustering with 3 clusters of sizes 98, 37, 57\n",
       "\n",
       "Cluster means:\n",
       "       [,1]\n",
       "1  90.65306\n",
       "2 155.94595\n",
       "3 116.54386\n",
       "\n",
       "Clustering vector:\n",
       "  [1] 1 1 1 1 1 3 1 1 1 1 1 1 1 3 3 3 3 2 2 2 2 3 3 3 1 1 1 1 1 1 1 1 1 1 1 1 1\n",
       " [38] 3 3 3 2 3 2 2 2 2 3 3 1 1 1 1 1 1 1 1 1 1 1 1 3 3 2 2 2 2 2 2 2 2 2 2 1 1\n",
       " [75] 1 1 1 1 1 1 1 3 1 3 3 3 3 3 3 3 3 3 3 1 1 1 1 1 1 1 1 1 1 1 1 1 1 1 1 3 3\n",
       "[112] 2 2 2 2 2 2 3 3 3 1 1 1 1 1 1 1 1 1 1 1 1 3 3 3 3 2 2 2 2 3 3 3 1 1 1 1 1\n",
       "[149] 1 1 1 3 1 1 3 3 3 3 3 2 3 2 2 2 3 3 3 3 1 1 1 1 1 1 1 1 1 1 1 1 3 3 3 3 2\n",
       "[186] 2 2 2 3 3 3 1\n",
       "\n",
       "Within cluster sum of squares by cluster:\n",
       "[1]  4174.204 10125.892  5112.140\n",
       " (between_SS / total_SS =  85.8 %)\n",
       "\n",
       "Available components:\n",
       "\n",
       "[1] \"cluster\"      \"centers\"      \"totss\"        \"withinss\"     \"tot.withinss\"\n",
       "[6] \"betweenss\"    \"size\"         \"iter\"         \"ifault\"      "
      ]
     },
     "metadata": {},
     "output_type": "display_data"
    }
   ],
   "source": [
    "kmeans(sd3$소요시간, 3)"
   ]
  },
  {
   "cell_type": "code",
   "execution_count": 30,
   "metadata": {},
   "outputs": [
    {
     "data": {
      "text/plain": [
       "K-means clustering with 3 clusters of sizes 146, 38, 8\n",
       "\n",
       "Cluster means:\n",
       "       [,1]\n",
       "1  87.05479\n",
       "2 104.63158\n",
       "3 168.50000\n",
       "\n",
       "Clustering vector:\n",
       "  [1] 1 1 1 1 1 1 1 1 1 1 1 1 1 1 1 1 1 1 1 1 1 1 1 1 1 1 1 1 1 1 1 1 1 1 1 1 1\n",
       " [38] 1 1 1 1 1 1 2 2 1 2 1 2 1 1 1 1 1 1 1 1 1 1 1 1 2 2 2 2 1 1 1 1 1 1 1 1 1\n",
       " [75] 1 1 1 1 1 1 1 1 1 1 2 2 2 3 3 3 3 3 3 3 3 2 1 1 1 1 1 1 1 1 1 1 1 1 1 1 1\n",
       "[112] 1 2 2 2 2 2 2 1 1 1 1 1 1 1 1 1 1 1 1 1 1 1 1 1 1 1 2 1 1 1 1 1 1 1 1 1 1\n",
       "[149] 1 1 1 2 2 2 2 2 2 2 2 2 2 2 2 2 1 1 1 1 1 1 1 1 1 1 1 1 1 1 1 1 1 1 2 2 2\n",
       "[186] 2 2 2 1 1 1 1\n",
       "\n",
       "Within cluster sum of squares by cluster:\n",
       "[1] 2967.562 3334.842 3400.000\n",
       " (between_SS / total_SS =  85.2 %)\n",
       "\n",
       "Available components:\n",
       "\n",
       "[1] \"cluster\"      \"centers\"      \"totss\"        \"withinss\"     \"tot.withinss\"\n",
       "[6] \"betweenss\"    \"size\"         \"iter\"         \"ifault\"      "
      ]
     },
     "metadata": {},
     "output_type": "display_data"
    }
   ],
   "source": [
    "kmeans(sd4$소요시간, 3)"
   ]
  },
  {
   "cell_type": "code",
   "execution_count": 31,
   "metadata": {},
   "outputs": [
    {
     "data": {
      "text/plain": [
       "K-means clustering with 3 clusters of sizes 79, 10, 79\n",
       "\n",
       "Cluster means:\n",
       "       [,1]\n",
       "1  82.46835\n",
       "2 124.90000\n",
       "3  91.46835\n",
       "\n",
       "Clustering vector:\n",
       "  [1] 1 1 1 1 1 3 1 1 1 1 1 1 3 3 3 3 3 3 3 3 1 3 3 1 1 1 1 1 1 1 1 1 1 1 1 1 3\n",
       " [38] 3 3 3 3 3 3 3 3 3 3 3 1 1 1 1 3 3 3 1 1 1 1 1 1 3 3 3 3 3 3 1 1 3 1 1 1 3\n",
       " [75] 3 3 3 3 3 1 1 3 1 3 1 1 3 3 3 3 3 3 1 1 1 1 1 1 1 3 3 1 1 1 1 1 1 1 1 3 3\n",
       "[112] 3 3 3 3 3 3 3 3 3 3 3 1 1 1 1 1 3 3 3 3 3 2 2 2 2 2 2 2 2 2 2 3 3 1 1 3 1\n",
       "[149] 1 1 1 1 1 1 1 1 1 1 3 3 1 3 3 3 3 3 3 3\n",
       "\n",
       "Within cluster sum of squares by cluster:\n",
       "[1]  469.6709 1208.9000 1055.6709\n",
       " (between_SS / total_SS =  86.0 %)\n",
       "\n",
       "Available components:\n",
       "\n",
       "[1] \"cluster\"      \"centers\"      \"totss\"        \"withinss\"     \"tot.withinss\"\n",
       "[6] \"betweenss\"    \"size\"         \"iter\"         \"ifault\"      "
      ]
     },
     "metadata": {},
     "output_type": "display_data"
    }
   ],
   "source": [
    "kmeans(sd5$소요시간, 3)"
   ]
  },
  {
   "cell_type": "code",
   "execution_count": 32,
   "metadata": {},
   "outputs": [
    {
     "data": {
      "text/plain": [
       "K-means clustering with 3 clusters of sizes 21, 15, 36\n",
       "\n",
       "Cluster means:\n",
       "      [,1]\n",
       "1 78.66667\n",
       "2 92.60000\n",
       "3 85.02778\n",
       "\n",
       "Clustering vector:\n",
       " [1] 3 1 1 3 3 3 3 3 1 3 1 1 3 3 3 3 3 3 3 3 3 3 3 1 2 2 2 1 1 1 1 3 3 3 3 3 3 3\n",
       "[39] 3 2 2 3 3 3 3 3 3 3 1 1 1 1 2 1 1 1 1 1 1 1 3 3 2 2 2 2 2 2 2 2 2 3\n",
       "\n",
       "Within cluster sum of squares by cluster:\n",
       "[1] 112.6667 103.6000 110.9722\n",
       " (between_SS / total_SS =  83.9 %)\n",
       "\n",
       "Available components:\n",
       "\n",
       "[1] \"cluster\"      \"centers\"      \"totss\"        \"withinss\"     \"tot.withinss\"\n",
       "[6] \"betweenss\"    \"size\"         \"iter\"         \"ifault\"      "
      ]
     },
     "metadata": {},
     "output_type": "display_data"
    }
   ],
   "source": [
    "kmeans(sd6$소요시간, 3)"
   ]
  },
  {
   "cell_type": "code",
   "execution_count": 33,
   "metadata": {},
   "outputs": [],
   "source": [
    "# 출발시간별 데이터셋 분류\n",
    "sd <- subset(sdScale, 출발시간 == 0)"
   ]
  },
  {
   "cell_type": "code",
   "execution_count": 34,
   "metadata": {},
   "outputs": [
    {
     "data": {
      "text/plain": [
       "K-means clustering with 3 clusters of sizes 1, 36, 5\n",
       "\n",
       "Cluster means:\n",
       "       [,1]\n",
       "1 219.00000\n",
       "2  84.72222\n",
       "3 137.00000\n",
       "\n",
       "Clustering vector:\n",
       " [1] 2 3 2 2 2 3 2 2 2 2 1 2 2 2 2 2 2 2 2 2 2 2 3 2 2 2 2 3 2 2 2 2 2 2 2 2 2 2\n",
       "[39] 3 2 2 2\n",
       "\n",
       "Within cluster sum of squares by cluster:\n",
       "[1]    0.000 1105.222 1090.000\n",
       " (between_SS / total_SS =  92.7 %)\n",
       "\n",
       "Available components:\n",
       "\n",
       "[1] \"cluster\"      \"centers\"      \"totss\"        \"withinss\"     \"tot.withinss\"\n",
       "[6] \"betweenss\"    \"size\"         \"iter\"         \"ifault\"      "
      ]
     },
     "metadata": {},
     "output_type": "display_data"
    }
   ],
   "source": [
    "kmeans(subset(sdScale, 출발시간 == 0)$소요시간, 3)"
   ]
  },
  {
   "cell_type": "code",
   "execution_count": 35,
   "metadata": {
    "scrolled": true
   },
   "outputs": [
    {
     "data": {
      "text/plain": [
       "\n",
       " 73  75  76  77  78  79  80  81  82  83  84  85  86  87  88  89  90  91  92  93 \n",
       "  1   4   3   4   8  19  23  29  32  29  42  38  34  48  32  41  31  31  29  38 \n",
       " 94  95  96  97  98  99 100 101 102 103 104 105 106 107 108 109 110 111 112 113 \n",
       " 26  17  12  14   9  13   8   7  15   8  11   7   6   8   7   3   6   9  10   6 \n",
       "114 115 116 117 118 119 120 121 122 123 124 125 126 127 128 129 130 131 132 133 \n",
       "  6   4   4   5   9   4   2   7   3   5   6   5   2   7   4   6   1   4   2   9 \n",
       "134 135 136 137 138 139 140 141 142 143 144 145 146 147 148 149 150 151 152 153 \n",
       "  3   2   2   2   2   7   1   4   4   4   8   4   4   4   5   5   5   1   3   3 \n",
       "154 155 156 157 158 159 160 161 162 163 164 165 166 167 168 169 170 171 172 173 \n",
       "  3   4   5   3   4   1   5   1   3   2   2   3   3   3   3   1   3   2   2   1 \n",
       "174 176 177 178 179 180 181 182 183 184 185 186 187 188 191 192 194 195 196 200 \n",
       "  1   2   3   1   1   2   2   2   3   1   2   1   4   2   2   4   2   2   2   1 \n",
       "201 202 203 205 206 207 211 212 215 216 219 222 225 227 229 239 242 243 246 249 \n",
       "  1   1   3   2   2   1   1   2   1   1   1   2   1   1   1   1   1   2   1   1 \n",
       "251 \n",
       "  1 "
      ]
     },
     "metadata": {},
     "output_type": "display_data"
    }
   ],
   "source": [
    "table(sdScale$소요시간)"
   ]
  },
  {
   "cell_type": "code",
   "execution_count": 36,
   "metadata": {},
   "outputs": [],
   "source": [
    "library(dplyr)\n",
    "sdScaleArr <- arrange(sdScale, 소요시간)"
   ]
  },
  {
   "cell_type": "code",
   "execution_count": 37,
   "metadata": {},
   "outputs": [
    {
     "data": {
      "text/html": [
       "194"
      ],
      "text/latex": [
       "194"
      ],
      "text/markdown": [
       "194"
      ],
      "text/plain": [
       "[1] 194"
      ]
     },
     "metadata": {},
     "output_type": "display_data"
    },
    {
     "data": {
      "text/html": [
       "193"
      ],
      "text/latex": [
       "193"
      ],
      "text/markdown": [
       "193"
      ],
      "text/plain": [
       "[1] 193"
      ]
     },
     "metadata": {},
     "output_type": "display_data"
    },
    {
     "data": {
      "text/html": [
       "331"
      ],
      "text/latex": [
       "331"
      ],
      "text/markdown": [
       "331"
      ],
      "text/plain": [
       "[1] 331"
      ]
     },
     "metadata": {},
     "output_type": "display_data"
    },
    {
     "data": {
      "text/html": [
       "216"
      ],
      "text/latex": [
       "216"
      ],
      "text/markdown": [
       "216"
      ],
      "text/plain": [
       "[1] 216"
      ]
     },
     "metadata": {},
     "output_type": "display_data"
    },
    {
     "data": {
      "text/html": [
       "68"
      ],
      "text/latex": [
       "68"
      ],
      "text/markdown": [
       "68"
      ],
      "text/plain": [
       "[1] 68"
      ]
     },
     "metadata": {},
     "output_type": "display_data"
    }
   ],
   "source": [
    "nrow(sdScaleArr[sdScaleArr$소요시간 <= 84,])\n",
    "nrow(sdScaleArr[sdScaleArr$소요시간 > 84 & sdScaleArr$소요시간 <= 89,])\n",
    "nrow(sdScaleArr[sdScaleArr$소요시간 > 89 & sdScaleArr$소요시간 <= 113,])\n",
    "nrow(sdScaleArr[sdScaleArr$소요시간 > 114 & sdScaleArr$소요시간 <= 173,])\n",
    "nrow(sdScaleArr[sdScaleArr$소요시간 > 173,])\n"
   ]
  },
  {
   "cell_type": "code",
   "execution_count": 38,
   "metadata": {},
   "outputs": [
    {
     "data": {
      "text/html": [
       "<table>\n",
       "<thead><tr><th scope=col>소요시간</th><th scope=col>출발시간</th><th scope=col>일차</th><th scope=col>연휴길이</th><th scope=col>날짜</th><th scope=col>눈비</th><th scope=col>X1종.교통량</th><th scope=col>X2종.교통량</th><th scope=col>서울인구수</th><th scope=col>디데이</th></tr></thead>\n",
       "<tbody>\n",
       "\t<tr><td>91        </td><td>0         </td><td>0         </td><td>3         </td><td>2013-02-08</td><td>TRUE      </td><td>3793419   </td><td>229419    </td><td>10388055  </td><td>전전날    </td></tr>\n",
       "\t<tr><td>88        </td><td>1         </td><td>0         </td><td>3         </td><td>2013-02-08</td><td>TRUE      </td><td>2514790   </td><td>203047    </td><td>10388055  </td><td>전전날    </td></tr>\n",
       "\t<tr><td>88        </td><td>2         </td><td>0         </td><td>3         </td><td>2013-02-08</td><td>TRUE      </td><td>1846564   </td><td>235137    </td><td>10388055  </td><td>전전날    </td></tr>\n",
       "\t<tr><td>87        </td><td>3         </td><td>0         </td><td>3         </td><td>2013-02-08</td><td>TRUE      </td><td>1632415   </td><td>305994    </td><td>10388055  </td><td>전전날    </td></tr>\n",
       "\t<tr><td>91        </td><td>4         </td><td>0         </td><td>3         </td><td>2013-02-08</td><td>TRUE      </td><td>2247045   </td><td>444384    </td><td>10388055  </td><td>전전날    </td></tr>\n",
       "\t<tr><td>97        </td><td>5         </td><td>0         </td><td>3         </td><td>2013-02-08</td><td>TRUE      </td><td>5186824   </td><td>774325    </td><td>10388055  </td><td>전전날    </td></tr>\n",
       "</tbody>\n",
       "</table>\n"
      ],
      "text/latex": [
       "\\begin{tabular}{r|llllllllll}\n",
       " 소요시간 & 출발시간 & 일차 & 연휴길이 & 날짜 & 눈비 & X1종.교통량 & X2종.교통량 & 서울인구수 & 디데이\\\\\n",
       "\\hline\n",
       "\t 91         & 0          & 0          & 3          & 2013-02-08 & TRUE       & 3793419    & 229419     & 10388055   & 전전날    \\\\\n",
       "\t 88         & 1          & 0          & 3          & 2013-02-08 & TRUE       & 2514790    & 203047     & 10388055   & 전전날    \\\\\n",
       "\t 88         & 2          & 0          & 3          & 2013-02-08 & TRUE       & 1846564    & 235137     & 10388055   & 전전날    \\\\\n",
       "\t 87         & 3          & 0          & 3          & 2013-02-08 & TRUE       & 1632415    & 305994     & 10388055   & 전전날    \\\\\n",
       "\t 91         & 4          & 0          & 3          & 2013-02-08 & TRUE       & 2247045    & 444384     & 10388055   & 전전날    \\\\\n",
       "\t 97         & 5          & 0          & 3          & 2013-02-08 & TRUE       & 5186824    & 774325     & 10388055   & 전전날    \\\\\n",
       "\\end{tabular}\n"
      ],
      "text/markdown": [
       "\n",
       "| 소요시간 | 출발시간 | 일차 | 연휴길이 | 날짜 | 눈비 | X1종.교통량 | X2종.교통량 | 서울인구수 | 디데이 |\n",
       "|---|---|---|---|---|---|---|---|---|---|\n",
       "| 91         | 0          | 0          | 3          | 2013-02-08 | TRUE       | 3793419    | 229419     | 10388055   | 전전날     |\n",
       "| 88         | 1          | 0          | 3          | 2013-02-08 | TRUE       | 2514790    | 203047     | 10388055   | 전전날     |\n",
       "| 88         | 2          | 0          | 3          | 2013-02-08 | TRUE       | 1846564    | 235137     | 10388055   | 전전날     |\n",
       "| 87         | 3          | 0          | 3          | 2013-02-08 | TRUE       | 1632415    | 305994     | 10388055   | 전전날     |\n",
       "| 91         | 4          | 0          | 3          | 2013-02-08 | TRUE       | 2247045    | 444384     | 10388055   | 전전날     |\n",
       "| 97         | 5          | 0          | 3          | 2013-02-08 | TRUE       | 5186824    | 774325     | 10388055   | 전전날     |\n",
       "\n"
      ],
      "text/plain": [
       "  소요시간 출발시간 일차 연휴길이 날짜       눈비 X1종.교통량 X2종.교통량\n",
       "1 91       0        0    3        2013-02-08 TRUE 3793419     229419     \n",
       "2 88       1        0    3        2013-02-08 TRUE 2514790     203047     \n",
       "3 88       2        0    3        2013-02-08 TRUE 1846564     235137     \n",
       "4 87       3        0    3        2013-02-08 TRUE 1632415     305994     \n",
       "5 91       4        0    3        2013-02-08 TRUE 2247045     444384     \n",
       "6 97       5        0    3        2013-02-08 TRUE 5186824     774325     \n",
       "  서울인구수 디데이\n",
       "1 10388055   전전날\n",
       "2 10388055   전전날\n",
       "3 10388055   전전날\n",
       "4 10388055   전전날\n",
       "5 10388055   전전날\n",
       "6 10388055   전전날"
      ]
     },
     "metadata": {},
     "output_type": "display_data"
    },
    {
     "data": {
      "text/html": [
       "432"
      ],
      "text/latex": [
       "432"
      ],
      "text/markdown": [
       "432"
      ],
      "text/plain": [
       "[1] 432"
      ]
     },
     "metadata": {},
     "output_type": "display_data"
    }
   ],
   "source": [
    "sd일차 <- read.csv(\"../Data_Project/일단최종6월13일.csv\")\n",
    "head(sd일차)\n",
    "nrow(sd일차)"
   ]
  },
  {
   "cell_type": "code",
   "execution_count": 39,
   "metadata": {
    "scrolled": true
   },
   "outputs": [
    {
     "data": {
      "text/html": [
       "144"
      ],
      "text/latex": [
       "144"
      ],
      "text/markdown": [
       "144"
      ],
      "text/plain": [
       "[1] 144"
      ]
     },
     "metadata": {},
     "output_type": "display_data"
    },
    {
     "data": {
      "text/html": [
       "144"
      ],
      "text/latex": [
       "144"
      ],
      "text/markdown": [
       "144"
      ],
      "text/plain": [
       "[1] 144"
      ]
     },
     "metadata": {},
     "output_type": "display_data"
    },
    {
     "data": {
      "text/html": [
       "144"
      ],
      "text/latex": [
       "144"
      ],
      "text/markdown": [
       "144"
      ],
      "text/plain": [
       "[1] 144"
      ]
     },
     "metadata": {},
     "output_type": "display_data"
    }
   ],
   "source": [
    "sd일차0 <- subset(sd일차, 일차 == 0)\n",
    "nrow(sd일차0)\n",
    "sd일차1 <- subset(sd일차, 일차 == 1)\n",
    "nrow(sd일차1)\n",
    "sd일차2 <- subset(sd일차, 일차 == 2)\n",
    "nrow(sd일차2)"
   ]
  },
  {
   "cell_type": "code",
   "execution_count": 40,
   "metadata": {},
   "outputs": [
    {
     "data": {
      "image/png": "[encoded data removed]",
      "text/plain": [
       "plot without title"
      ]
     },
     "metadata": {},
     "output_type": "display_data"
    }
   ],
   "source": [
    "par(mfrow = c(2,2))\n",
    "boxplot(sd일차0$소요시간)\n",
    "boxplot(sd일차1$소요시간)\n",
    "boxplot(sd일차2$소요시간)"
   ]
  },
  {
   "cell_type": "code",
   "execution_count": 41,
   "metadata": {
    "scrolled": false
   },
   "outputs": [
    {
     "data": {
      "text/plain": [
       "\n",
       " A  B  C  D \n",
       "35 37 36 36 "
      ]
     },
     "metadata": {},
     "output_type": "display_data"
    },
    {
     "data": {
      "text/plain": [
       "\n",
       " A  B  C  D \n",
       "37 38 31 38 "
      ]
     },
     "metadata": {},
     "output_type": "display_data"
    },
    {
     "data": {
      "text/html": [
       "<table>\n",
       "<thead><tr><th scope=col>X1종.교통량</th><th scope=col>X2종.교통량</th><th scope=col>서울인구수</th></tr></thead>\n",
       "<tbody>\n",
       "\t<tr><td>-0.8192102 </td><td>-0.86871839</td><td>1.124724   </td></tr>\n",
       "\t<tr><td>-0.9097371 </td><td>-0.91451260</td><td>1.124724   </td></tr>\n",
       "\t<tr><td>-0.9570474 </td><td>-0.85878925</td><td>1.124724   </td></tr>\n",
       "\t<tr><td>-0.9722092 </td><td>-0.73574812</td><td>1.124724   </td></tr>\n",
       "\t<tr><td>-0.9286934 </td><td>-0.49543791</td><td>1.124724   </td></tr>\n",
       "\t<tr><td>-0.7205572 </td><td> 0.07749504</td><td>1.124724   </td></tr>\n",
       "</tbody>\n",
       "</table>\n"
      ],
      "text/latex": [
       "\\begin{tabular}{lll}\n",
       " X1종.교통량 & X2종.교통량 & 서울인구수\\\\\n",
       "\\hline\n",
       "\t -0.8192102  & -0.86871839 & 1.124724   \\\\\n",
       "\t -0.9097371  & -0.91451260 & 1.124724   \\\\\n",
       "\t -0.9570474  & -0.85878925 & 1.124724   \\\\\n",
       "\t -0.9722092  & -0.73574812 & 1.124724   \\\\\n",
       "\t -0.9286934  & -0.49543791 & 1.124724   \\\\\n",
       "\t -0.7205572  &  0.07749504 & 1.124724   \\\\\n",
       "\\end{tabular}\n"
      ],
      "text/markdown": [
       "\n",
       "| X1종.교통량 | X2종.교통량 | 서울인구수 |\n",
       "|---|---|---|\n",
       "| -0.8192102  | -0.86871839 | 1.124724    |\n",
       "| -0.9097371  | -0.91451260 | 1.124724    |\n",
       "| -0.9570474  | -0.85878925 | 1.124724    |\n",
       "| -0.9722092  | -0.73574812 | 1.124724    |\n",
       "| -0.9286934  | -0.49543791 | 1.124724    |\n",
       "| -0.7205572  |  0.07749504 | 1.124724    |\n",
       "\n"
      ],
      "text/plain": [
       "     X1종.교통량 X2종.교통량 서울인구수\n",
       "[1,] -0.8192102  -0.86871839 1.124724  \n",
       "[2,] -0.9097371  -0.91451260 1.124724  \n",
       "[3,] -0.9570474  -0.85878925 1.124724  \n",
       "[4,] -0.9722092  -0.73574812 1.124724  \n",
       "[5,] -0.9286934  -0.49543791 1.124724  \n",
       "[6,] -0.7205572   0.07749504 1.124724  "
      ]
     },
     "metadata": {},
     "output_type": "display_data"
    },
    {
     "data": {
      "text/html": [
       "<table>\n",
       "<thead><tr><th scope=col>소요시간범위</th><th scope=col>출발시간</th><th scope=col>연휴길이</th><th scope=col>눈비</th><th scope=col>X1종.교통량</th><th scope=col>X2종.교통량</th><th scope=col>서울인구수</th></tr></thead>\n",
       "<tbody>\n",
       "\t<tr><td>B       </td><td>0       </td><td>3       </td><td>TRUE    </td><td>3793419 </td><td>229419  </td><td>10388055</td></tr>\n",
       "\t<tr><td>B       </td><td>1       </td><td>3       </td><td>TRUE    </td><td>2514790 </td><td>203047  </td><td>10388055</td></tr>\n",
       "\t<tr><td>B       </td><td>2       </td><td>3       </td><td>TRUE    </td><td>1846564 </td><td>235137  </td><td>10388055</td></tr>\n",
       "\t<tr><td>A       </td><td>3       </td><td>3       </td><td>TRUE    </td><td>1632415 </td><td>305994  </td><td>10388055</td></tr>\n",
       "\t<tr><td>B       </td><td>4       </td><td>3       </td><td>TRUE    </td><td>2247045 </td><td>444384  </td><td>10388055</td></tr>\n",
       "\t<tr><td>B       </td><td>5       </td><td>3       </td><td>TRUE    </td><td>5186824 </td><td>774325  </td><td>10388055</td></tr>\n",
       "</tbody>\n",
       "</table>\n"
      ],
      "text/latex": [
       "\\begin{tabular}{r|lllllll}\n",
       " 소요시간범위 & 출발시간 & 연휴길이 & 눈비 & X1종.교통량 & X2종.교통량 & 서울인구수\\\\\n",
       "\\hline\n",
       "\t B        & 0        & 3        & TRUE     & 3793419  & 229419   & 10388055\\\\\n",
       "\t B        & 1        & 3        & TRUE     & 2514790  & 203047   & 10388055\\\\\n",
       "\t B        & 2        & 3        & TRUE     & 1846564  & 235137   & 10388055\\\\\n",
       "\t A        & 3        & 3        & TRUE     & 1632415  & 305994   & 10388055\\\\\n",
       "\t B        & 4        & 3        & TRUE     & 2247045  & 444384   & 10388055\\\\\n",
       "\t B        & 5        & 3        & TRUE     & 5186824  & 774325   & 10388055\\\\\n",
       "\\end{tabular}\n"
      ],
      "text/markdown": [
       "\n",
       "| 소요시간범위 | 출발시간 | 연휴길이 | 눈비 | X1종.교통량 | X2종.교통량 | 서울인구수 |\n",
       "|---|---|---|---|---|---|---|\n",
       "| B        | 0        | 3        | TRUE     | 3793419  | 229419   | 10388055 |\n",
       "| B        | 1        | 3        | TRUE     | 2514790  | 203047   | 10388055 |\n",
       "| B        | 2        | 3        | TRUE     | 1846564  | 235137   | 10388055 |\n",
       "| A        | 3        | 3        | TRUE     | 1632415  | 305994   | 10388055 |\n",
       "| B        | 4        | 3        | TRUE     | 2247045  | 444384   | 10388055 |\n",
       "| B        | 5        | 3        | TRUE     | 5186824  | 774325   | 10388055 |\n",
       "\n"
      ],
      "text/plain": [
       "  소요시간범위 출발시간 연휴길이 눈비 X1종.교통량 X2종.교통량 서울인구수\n",
       "1 B            0        3        TRUE 3793419     229419      10388055  \n",
       "2 B            1        3        TRUE 2514790     203047      10388055  \n",
       "3 B            2        3        TRUE 1846564     235137      10388055  \n",
       "4 A            3        3        TRUE 1632415     305994      10388055  \n",
       "5 B            4        3        TRUE 2247045     444384      10388055  \n",
       "6 B            5        3        TRUE 5186824     774325      10388055  "
      ]
     },
     "metadata": {},
     "output_type": "display_data"
    },
    {
     "data": {
      "text/html": [
       "<table>\n",
       "<thead><tr><th scope=col>소요시간범위</th><th scope=col>출발시간</th><th scope=col>연휴길이</th><th scope=col>눈비</th><th scope=col>X1종.교통량</th><th scope=col>X2종.교통량</th><th scope=col>서울인구수</th></tr></thead>\n",
       "<tbody>\n",
       "\t<tr><td>B       </td><td>0       </td><td>3       </td><td>TRUE    </td><td>3793419 </td><td>229419  </td><td>10388055</td></tr>\n",
       "\t<tr><td>B       </td><td>1       </td><td>3       </td><td>TRUE    </td><td>2514790 </td><td>203047  </td><td>10388055</td></tr>\n",
       "\t<tr><td>A       </td><td>2       </td><td>3       </td><td>TRUE    </td><td>1846564 </td><td>235137  </td><td>10388055</td></tr>\n",
       "\t<tr><td>A       </td><td>3       </td><td>3       </td><td>TRUE    </td><td>1632415 </td><td>305994  </td><td>10388055</td></tr>\n",
       "\t<tr><td>A       </td><td>4       </td><td>3       </td><td>TRUE    </td><td>2247045 </td><td>444384  </td><td>10388055</td></tr>\n",
       "\t<tr><td>A       </td><td>5       </td><td>3       </td><td>TRUE    </td><td>5186824 </td><td>774325  </td><td>10388055</td></tr>\n",
       "</tbody>\n",
       "</table>\n"
      ],
      "text/latex": [
       "\\begin{tabular}{r|lllllll}\n",
       " 소요시간범위 & 출발시간 & 연휴길이 & 눈비 & X1종.교통량 & X2종.교통량 & 서울인구수\\\\\n",
       "\\hline\n",
       "\t B        & 0        & 3        & TRUE     & 3793419  & 229419   & 10388055\\\\\n",
       "\t B        & 1        & 3        & TRUE     & 2514790  & 203047   & 10388055\\\\\n",
       "\t A        & 2        & 3        & TRUE     & 1846564  & 235137   & 10388055\\\\\n",
       "\t A        & 3        & 3        & TRUE     & 1632415  & 305994   & 10388055\\\\\n",
       "\t A        & 4        & 3        & TRUE     & 2247045  & 444384   & 10388055\\\\\n",
       "\t A        & 5        & 3        & TRUE     & 5186824  & 774325   & 10388055\\\\\n",
       "\\end{tabular}\n"
      ],
      "text/markdown": [
       "\n",
       "| 소요시간범위 | 출발시간 | 연휴길이 | 눈비 | X1종.교통량 | X2종.교통량 | 서울인구수 |\n",
       "|---|---|---|---|---|---|---|\n",
       "| B        | 0        | 3        | TRUE     | 3793419  | 229419   | 10388055 |\n",
       "| B        | 1        | 3        | TRUE     | 2514790  | 203047   | 10388055 |\n",
       "| A        | 2        | 3        | TRUE     | 1846564  | 235137   | 10388055 |\n",
       "| A        | 3        | 3        | TRUE     | 1632415  | 305994   | 10388055 |\n",
       "| A        | 4        | 3        | TRUE     | 2247045  | 444384   | 10388055 |\n",
       "| A        | 5        | 3        | TRUE     | 5186824  | 774325   | 10388055 |\n",
       "\n"
      ],
      "text/plain": [
       "  소요시간범위 출발시간 연휴길이 눈비 X1종.교통량 X2종.교통량 서울인구수\n",
       "1 B            0        3        TRUE 3793419     229419      10388055  \n",
       "2 B            1        3        TRUE 2514790     203047      10388055  \n",
       "3 A            2        3        TRUE 1846564     235137      10388055  \n",
       "4 A            3        3        TRUE 1632415     305994      10388055  \n",
       "5 A            4        3        TRUE 2247045     444384      10388055  \n",
       "6 A            5        3        TRUE 5186824     774325      10388055  "
      ]
     },
     "metadata": {},
     "output_type": "display_data"
    },
    {
     "data": {
      "text/html": [
       "<table>\n",
       "<thead><tr><th scope=col>소요시간범위</th><th scope=col>출발시간</th><th scope=col>연휴길이</th><th scope=col>눈비</th><th scope=col>X1종.교통량</th><th scope=col>X2종.교통량</th><th scope=col>서울인구수</th></tr></thead>\n",
       "<tbody>\n",
       "\t<tr><td>B          </td><td>0          </td><td>3          </td><td>TRUE       </td><td>-0.8192102 </td><td>-0.86871839</td><td>1.124724   </td></tr>\n",
       "\t<tr><td>B          </td><td>1          </td><td>3          </td><td>TRUE       </td><td>-0.9097371 </td><td>-0.91451260</td><td>1.124724   </td></tr>\n",
       "\t<tr><td>B          </td><td>2          </td><td>3          </td><td>TRUE       </td><td>-0.9570474 </td><td>-0.85878925</td><td>1.124724   </td></tr>\n",
       "\t<tr><td>A          </td><td>3          </td><td>3          </td><td>TRUE       </td><td>-0.9722092 </td><td>-0.73574812</td><td>1.124724   </td></tr>\n",
       "\t<tr><td>B          </td><td>4          </td><td>3          </td><td>TRUE       </td><td>-0.9286934 </td><td>-0.49543791</td><td>1.124724   </td></tr>\n",
       "\t<tr><td>B          </td><td>5          </td><td>3          </td><td>TRUE       </td><td>-0.7205572 </td><td> 0.07749504</td><td>1.124724   </td></tr>\n",
       "</tbody>\n",
       "</table>\n"
      ],
      "text/latex": [
       "\\begin{tabular}{r|lllllll}\n",
       " 소요시간범위 & 출발시간 & 연휴길이 & 눈비 & X1종.교통량 & X2종.교통량 & 서울인구수\\\\\n",
       "\\hline\n",
       "\t B           & 0           & 3           & TRUE        & -0.8192102  & -0.86871839 & 1.124724   \\\\\n",
       "\t B           & 1           & 3           & TRUE        & -0.9097371  & -0.91451260 & 1.124724   \\\\\n",
       "\t B           & 2           & 3           & TRUE        & -0.9570474  & -0.85878925 & 1.124724   \\\\\n",
       "\t A           & 3           & 3           & TRUE        & -0.9722092  & -0.73574812 & 1.124724   \\\\\n",
       "\t B           & 4           & 3           & TRUE        & -0.9286934  & -0.49543791 & 1.124724   \\\\\n",
       "\t B           & 5           & 3           & TRUE        & -0.7205572  &  0.07749504 & 1.124724   \\\\\n",
       "\\end{tabular}\n"
      ],
      "text/markdown": [
       "\n",
       "| 소요시간범위 | 출발시간 | 연휴길이 | 눈비 | X1종.교통량 | X2종.교통량 | 서울인구수 |\n",
       "|---|---|---|---|---|---|---|\n",
       "| B           | 0           | 3           | TRUE        | -0.8192102  | -0.86871839 | 1.124724    |\n",
       "| B           | 1           | 3           | TRUE        | -0.9097371  | -0.91451260 | 1.124724    |\n",
       "| B           | 2           | 3           | TRUE        | -0.9570474  | -0.85878925 | 1.124724    |\n",
       "| A           | 3           | 3           | TRUE        | -0.9722092  | -0.73574812 | 1.124724    |\n",
       "| B           | 4           | 3           | TRUE        | -0.9286934  | -0.49543791 | 1.124724    |\n",
       "| B           | 5           | 3           | TRUE        | -0.7205572  |  0.07749504 | 1.124724    |\n",
       "\n"
      ],
      "text/plain": [
       "  소요시간범위 출발시간 연휴길이 눈비 X1종.교통량 X2종.교통량 서울인구수\n",
       "1 B            0        3        TRUE -0.8192102  -0.86871839 1.124724  \n",
       "2 B            1        3        TRUE -0.9097371  -0.91451260 1.124724  \n",
       "3 B            2        3        TRUE -0.9570474  -0.85878925 1.124724  \n",
       "4 A            3        3        TRUE -0.9722092  -0.73574812 1.124724  \n",
       "5 B            4        3        TRUE -0.9286934  -0.49543791 1.124724  \n",
       "6 B            5        3        TRUE -0.7205572   0.07749504 1.124724  "
      ]
     },
     "metadata": {},
     "output_type": "display_data"
    },
    {
     "data": {
      "text/html": [
       "<table>\n",
       "<thead><tr><th scope=col>소요시간범위</th><th scope=col>출발시간</th><th scope=col>연휴길이</th><th scope=col>눈비</th><th scope=col>X1종.교통량</th><th scope=col>X2종.교통량</th></tr></thead>\n",
       "<tbody>\n",
       "\t<tr><td>B      </td><td>0      </td><td>3      </td><td>TRUE   </td><td>3793419</td><td>229419 </td></tr>\n",
       "\t<tr><td>B      </td><td>1      </td><td>3      </td><td>TRUE   </td><td>2514790</td><td>203047 </td></tr>\n",
       "\t<tr><td>A      </td><td>2      </td><td>3      </td><td>TRUE   </td><td>1846564</td><td>235137 </td></tr>\n",
       "\t<tr><td>A      </td><td>3      </td><td>3      </td><td>TRUE   </td><td>1632415</td><td>305994 </td></tr>\n",
       "\t<tr><td>A      </td><td>4      </td><td>3      </td><td>TRUE   </td><td>2247045</td><td>444384 </td></tr>\n",
       "\t<tr><td>A      </td><td>5      </td><td>3      </td><td>TRUE   </td><td>5186824</td><td>774325 </td></tr>\n",
       "</tbody>\n",
       "</table>\n"
      ],
      "text/latex": [
       "\\begin{tabular}{r|llllll}\n",
       " 소요시간범위 & 출발시간 & 연휴길이 & 눈비 & X1종.교통량 & X2종.교통량\\\\\n",
       "\\hline\n",
       "\t B       & 0       & 3       & TRUE    & 3793419 & 229419 \\\\\n",
       "\t B       & 1       & 3       & TRUE    & 2514790 & 203047 \\\\\n",
       "\t A       & 2       & 3       & TRUE    & 1846564 & 235137 \\\\\n",
       "\t A       & 3       & 3       & TRUE    & 1632415 & 305994 \\\\\n",
       "\t A       & 4       & 3       & TRUE    & 2247045 & 444384 \\\\\n",
       "\t A       & 5       & 3       & TRUE    & 5186824 & 774325 \\\\\n",
       "\\end{tabular}\n"
      ],
      "text/markdown": [
       "\n",
       "| 소요시간범위 | 출발시간 | 연휴길이 | 눈비 | X1종.교통량 | X2종.교통량 |\n",
       "|---|---|---|---|---|---|\n",
       "| B       | 0       | 3       | TRUE    | 3793419 | 229419  |\n",
       "| B       | 1       | 3       | TRUE    | 2514790 | 203047  |\n",
       "| A       | 2       | 3       | TRUE    | 1846564 | 235137  |\n",
       "| A       | 3       | 3       | TRUE    | 1632415 | 305994  |\n",
       "| A       | 4       | 3       | TRUE    | 2247045 | 444384  |\n",
       "| A       | 5       | 3       | TRUE    | 5186824 | 774325  |\n",
       "\n"
      ],
      "text/plain": [
       "  소요시간범위 출발시간 연휴길이 눈비 X1종.교통량 X2종.교통량\n",
       "1 B            0        3        TRUE 3793419     229419     \n",
       "2 B            1        3        TRUE 2514790     203047     \n",
       "3 A            2        3        TRUE 1846564     235137     \n",
       "4 A            3        3        TRUE 1632415     305994     \n",
       "5 A            4        3        TRUE 2247045     444384     \n",
       "6 A            5        3        TRUE 5186824     774325     "
      ]
     },
     "metadata": {},
     "output_type": "display_data"
    }
   ],
   "source": [
    "# \n",
    "\n",
    "sdd2 <- read.csv(\"../Data_Project/AI프로젝트 - D-2-2.csv\")\n",
    "sdd1 <- read.csv(\"../Data_Project/AI프로젝트 - D-1.csv\")\n",
    "\n",
    "table(sdd2$소요시간범위)\n",
    "table(sdd1$소요시간범위)\n",
    "\n",
    "sdd2Scale <- sdd2[,6:8]\n",
    "\n",
    "sdd2Scale <- scale(sdd2Scale)\n",
    "head(sdd2Scale)\n",
    "\n",
    "sdd2 <- sdd2[,-c(4,9)]\n",
    "sdd1 <- sdd1[,-c(4,9)]\n",
    "head(sdd2)\n",
    "head(sdd1)\n",
    "sdd2Scale <- cbind(sdd2[,1:4], sdd2Scale)\n",
    "head(sdd2Scale)\n",
    "head(sdd1[,c(1:6)])"
   ]
  },
  {
   "cell_type": "code",
   "execution_count": 62,
   "metadata": {
    "scrolled": false
   },
   "outputs": [
    {
     "name": "stdout",
     "output_type": "stream",
     "text": [
      "Test Data \n",
      "랜덤 포레스트 :  0.7902439 \n",
      "의사결정나무 :  0.6585366 \n",
      "SVM :   0.7804878 \n",
      "다항 로지스틱 :   0.8780488 \n",
      "인공신경망 :   0.6585366 \n",
      "------------------------ \n",
      "Training Data \n",
      "랜덤 포레스트 :  1 \n",
      "의사결정나무 :  0.7087379 \n",
      "SVM :   0.8543689 \n",
      "다항 로지스틱 :   0.8737864 \n",
      "인공신경망 :   0.2427184 \n"
     ]
    }
   ],
   "source": [
    "sum_rf <- 0\n",
    "sum_nnet <- 0\n",
    "sum_ctree <- 0\n",
    "sum_multi <- 0\n",
    "sum_svm <- 0\n",
    "\n",
    "sum_rf_tr <- 0\n",
    "sum_ctree_tr <- 0\n",
    "sum_svm_tr <- 0\n",
    "sum_multi_tr <- 0\n",
    "sum_nnet_tr <- 0\n",
    "\n",
    "  samp <- createDataPartition(sdd2[,c(1:4,6)]$소요시간범위, p=0.7, list=F)\n",
    "  data.tr <- sdd2[,c(1:4,6)][samp,]\n",
    "  data.test <- sdd2[,c(1:4,6)][-samp,]\n",
    "    \n",
    "  # 트레이닝 데이터 훈련\n",
    "  x_tr <- subset(data.tr, select = -소요시간범위)\n",
    "  y_tr <- data.tr$소요시간범위\n",
    "    \n",
    "  # 테스트 데이터 훈련  \n",
    "  x_test <- subset(data.test, select = -소요시간범위)\n",
    "  y_test <- data.test$소요시간범위\n",
    "\n",
    "for (i in 1:5){\n",
    "  # RF\n",
    "  model_rf <- randomForest(소요시간범위 ~ . , data = data.tr, ntree = 100)\n",
    "  pred_rf <- predict(model_rf, x_test)\n",
    "  예측력_rf <- mean(pred_rf == y_test)\n",
    "  # RF train\n",
    "  model_rf_tr <- randomForest(소요시간범위 ~ . , data = data.tr, ntree = 100)\n",
    "  pred_rf_tr <- predict(model_rf_tr, x_tr)\n",
    "  예측력_rf_tr <- mean(pred_rf_tr == y_tr)\n",
    "  \n",
    "  # 인공신경망\n",
    "  model_nnet <- nnet(소요시간범위 ~ ., data=data.tr, size=3, trace=FALSE)\n",
    "  pred_nnet <- predict(model_nnet, x_test, type=\"class\")\n",
    "  예측력_nnet <- mean(pred_nnet == y_test)\n",
    "  # 인공신경망 train\n",
    "  model_nnet_tr <- nnet(소요시간범위 ~ ., data=data.tr, size=3, trace=FALSE)\n",
    "  pred_nnet_tr <- predict(model_nnet_tr, x_tr, type=\"class\")\n",
    "  예측력_nnet_tr <- mean(pred_nnet_tr == y_tr)\n",
    " \n",
    "  # 의사결정나무\n",
    "  model_ctree <- ctree(소요시간범위 ~ ., data=data.tr)\n",
    "  pred_ctree <- predict(model_ctree, x_test)\n",
    "  예측력_nnet <- mean(pred_ctree == y_test)\n",
    "  # 의사결정나무 train\n",
    "  model_ctree_tr <- ctree(소요시간범위 ~ ., data=data.tr)\n",
    "  pred_ctree_tr <- predict(model_ctree_tr, x_tr)\n",
    "  예측력_ctree_tr <- mean(pred_ctree_tr == y_tr)\n",
    "    \n",
    "  # SVM test\n",
    "  model_svm <- svm(소요시간범위 ~ ., data=data.tr)\n",
    "  pred_svm <- predict(model_svm, x_test, type = \"class\")\n",
    "  예측력_svm <- mean(pred_svm == y_test)\n",
    "  # SVM train\n",
    "   model_svm_tr <- svm(소요시간범위 ~ ., data=data.tr)\n",
    "   pred_svm_tr <- predict(model_svm_tr, x_tr, type = \"class\")\n",
    "   예측력_svm_tr <- mean(pred_svm_tr == y_tr)\n",
    "    \n",
    "  # 다항 로지스틱 회귀분석\n",
    "   model_multinom <- multinom(소요시간범위 ~ ., data=data.tr, trace=FALSE)\n",
    "   pred_multinom <- predict(model_multinom, x_test, type=\"class\")\n",
    "   예측력_multinom <- mean(pred_multinom == y_test)\n",
    "  # 다항 로지스틱 회귀분석 train\n",
    "    model_multinom_tr <- multinom(소요시간범위 ~ ., data=data.tr, trace=FALSE)\n",
    "    pred_multinom_tr <- predict(model_multinom_tr, x_tr, type=\"class\")\n",
    "    예측력_multinom_tr <- mean(pred_multinom_tr == y_tr)\n",
    "    \n",
    "  sum_rf <- sum_rf + 예측력_rf\n",
    "  sum_ctree <- sum_ctree + 예측력_nnet\n",
    "  sum_svm <- sum_svm + 예측력_svm\n",
    "  sum_multi <- sum_multi + 예측력_multinom\n",
    "  sum_nnet <- sum_nnet + 예측력_nnet\n",
    "    \n",
    "  sum_svm_tr <- sum_svm_tr + 예측력_svm_tr\n",
    "  sum_rf_tr <- sum_rf_tr + 예측력_rf_tr\n",
    "  sum_ctree_tr <- sum_ctree_tr + 예측력_ctree_tr\n",
    "  sum_multi_tr <- sum_multi_tr + 예측력_multinom_tr\n",
    "  sum_nnet_tr <- sum_nnet_tr + 예측력_nnet_tr\n",
    "}\n",
    "cat(\"Test Data \\n\")\n",
    "cat(\"랜덤 포레스트 : \", sum_rf/5, \"\\n\")\n",
    "cat(\"의사결정나무 : \", sum_ctree/5, \"\\n\")\n",
    "cat(\"SVM :  \", sum_svm/5, \"\\n\")\n",
    "cat(\"다항 로지스틱 :  \", sum_multi/5, \"\\n\")\n",
    "cat(\"인공신경망 :  \", sum_nnet/5, \"\\n\")\n",
    "# sum_ctree\n",
    "cat(\"------------------------\", \"\\n\")\n",
    "cat(\"Training Data \\n\")\n",
    "cat(\"랜덤 포레스트 : \", sum_rf_tr/5, \"\\n\")\n",
    "cat(\"의사결정나무 : \", sum_ctree_tr/5, \"\\n\")\n",
    "cat(\"SVM :  \", sum_svm_tr/5, \"\\n\")\n",
    "cat(\"다항 로지스틱 :  \", sum_multi_tr/5, \"\\n\")\n",
    "cat(\"인공신경망 :  \", sum_nnet_tr/5, \"\\n\")"
   ]
  },
  {
   "cell_type": "code",
   "execution_count": 43,
   "metadata": {},
   "outputs": [],
   "source": [
    "popCar <- read.csv(\"../Data_Project/인구수자동차수.csv\")"
   ]
  },
  {
   "cell_type": "code",
   "execution_count": 44,
   "metadata": {},
   "outputs": [
    {
     "data": {
      "text/html": [
       "<table>\n",
       "<thead><tr><th scope=col>X</th><th scope=col>년도</th><th scope=col>서울인구수</th><th scope=col>승용차</th><th scope=col>승합차</th><th scope=col>차합계</th></tr></thead>\n",
       "<tbody>\n",
       "\t<tr><td> 1      </td><td>2013    </td><td>10388055</td><td>2462515 </td><td>156871  </td><td>2619386 </td></tr>\n",
       "\t<tr><td> 6      </td><td>2014    </td><td>10369593</td><td>2510742 </td><td>149991  </td><td>2660733 </td></tr>\n",
       "\t<tr><td>11      </td><td>2015    </td><td>10297138</td><td>2560154 </td><td>141927  </td><td>2702081 </td></tr>\n",
       "\t<tr><td>16      </td><td>2016    </td><td>10204057</td><td>2598344 </td><td>134309  </td><td>2732653 </td></tr>\n",
       "\t<tr><td>21      </td><td>2017    </td><td>10124579</td><td>2641190 </td><td>127564  </td><td>2768754 </td></tr>\n",
       "\t<tr><td>26      </td><td>2018    </td><td>10049607</td><td>2658637 </td><td>120780  </td><td>2779417 </td></tr>\n",
       "\t<tr><td>31      </td><td>2019    </td><td>10010983</td><td>2670803 </td><td>114310  </td><td>2785113 </td></tr>\n",
       "\t<tr><td>37      </td><td>2020    </td><td> 9911088</td><td>2711984 </td><td>106504  </td><td>2818488 </td></tr>\n",
       "</tbody>\n",
       "</table>\n"
      ],
      "text/latex": [
       "\\begin{tabular}{r|llllll}\n",
       " X & 년도 & 서울인구수 & 승용차 & 승합차 & 차합계\\\\\n",
       "\\hline\n",
       "\t  1       & 2013     & 10388055 & 2462515  & 156871   & 2619386 \\\\\n",
       "\t  6       & 2014     & 10369593 & 2510742  & 149991   & 2660733 \\\\\n",
       "\t 11       & 2015     & 10297138 & 2560154  & 141927   & 2702081 \\\\\n",
       "\t 16       & 2016     & 10204057 & 2598344  & 134309   & 2732653 \\\\\n",
       "\t 21       & 2017     & 10124579 & 2641190  & 127564   & 2768754 \\\\\n",
       "\t 26       & 2018     & 10049607 & 2658637  & 120780   & 2779417 \\\\\n",
       "\t 31       & 2019     & 10010983 & 2670803  & 114310   & 2785113 \\\\\n",
       "\t 37       & 2020     &  9911088 & 2711984  & 106504   & 2818488 \\\\\n",
       "\\end{tabular}\n"
      ],
      "text/markdown": [
       "\n",
       "| X | 년도 | 서울인구수 | 승용차 | 승합차 | 차합계 |\n",
       "|---|---|---|---|---|---|\n",
       "|  1       | 2013     | 10388055 | 2462515  | 156871   | 2619386  |\n",
       "|  6       | 2014     | 10369593 | 2510742  | 149991   | 2660733  |\n",
       "| 11       | 2015     | 10297138 | 2560154  | 141927   | 2702081  |\n",
       "| 16       | 2016     | 10204057 | 2598344  | 134309   | 2732653  |\n",
       "| 21       | 2017     | 10124579 | 2641190  | 127564   | 2768754  |\n",
       "| 26       | 2018     | 10049607 | 2658637  | 120780   | 2779417  |\n",
       "| 31       | 2019     | 10010983 | 2670803  | 114310   | 2785113  |\n",
       "| 37       | 2020     |  9911088 | 2711984  | 106504   | 2818488  |\n",
       "\n"
      ],
      "text/plain": [
       "  X  년도 서울인구수 승용차  승합차 차합계 \n",
       "1  1 2013 10388055   2462515 156871 2619386\n",
       "2  6 2014 10369593   2510742 149991 2660733\n",
       "3 11 2015 10297138   2560154 141927 2702081\n",
       "4 16 2016 10204057   2598344 134309 2732653\n",
       "5 21 2017 10124579   2641190 127564 2768754\n",
       "6 26 2018 10049607   2658637 120780 2779417\n",
       "7 31 2019 10010983   2670803 114310 2785113\n",
       "8 37 2020  9911088   2711984 106504 2818488"
      ]
     },
     "metadata": {},
     "output_type": "display_data"
    }
   ],
   "source": [
    "popCar"
   ]
  },
  {
   "cell_type": "code",
   "execution_count": 45,
   "metadata": {},
   "outputs": [
    {
     "data": {
      "image/png": "[encoded data removed]",
      "text/plain": [
       "Plot with title “2013~2020 서울 인구수”"
      ]
     },
     "metadata": {},
     "output_type": "display_data"
    }
   ],
   "source": [
    "par(family = \"AppleGothic\")\n",
    "options(scipen = 100)\n",
    "\n",
    "barplot(\n",
    "    popCar$서울인구수,\n",
    "    type = 'o',\n",
    "    main = '2013~2020 서울 인구수',\n",
    "    ylim = c(0, 12000000),\n",
    "    ylab = c('서울인구수 (단위: 명)'),\n",
    "    xlab = c('년도'),\n",
    "    names = popCar$년도,\n",
    "    col= 'lavender',\n",
    "    \n",
    ")"
   ]
  },
  {
   "cell_type": "code",
   "execution_count": 97,
   "metadata": {
    "scrolled": true
   },
   "outputs": [
    {
     "name": "stdout",
     "output_type": "stream",
     "text": [
      "Test Data \n",
      "랜덤 포레스트 :  78.39024 \n",
      "의사결정나무 :  78.04878 \n",
      "SVM :   75.60976 \n",
      "다항 로지스틱 :   78.04878 \n",
      "인공신경망 :   78.04878 \n",
      "------------------------ \n",
      "Training Data \n",
      "랜덤 포레스트 :  81.38835 \n",
      "의사결정나무 :  80.58252 \n",
      "SVM :   80.58252 \n",
      "다항 로지스틱 :   82.52427 \n",
      "인공신경망 :   82.04854 \n"
     ]
    }
   ],
   "source": [
    "sum_rf <- 0\n",
    "sum_nnet <- 0\n",
    "sum_ctree <- 0\n",
    "sum_multi <- 0\n",
    "sum_svm <- 0\n",
    "\n",
    "sum_rf_tr <- 0\n",
    "sum_ctree_tr <- 0\n",
    "sum_svm_tr <- 0\n",
    "sum_multi_tr <- 0\n",
    "sum_nnet_tr <- 0\n",
    "\n",
    "samp <- createDataPartition(sdd2[,1:4]$소요시간범위, p=0.7, list=F)\n",
    "data.tr <- sdd2[,1:4][samp,]\n",
    "data.test <- sdd2[,1:4][-samp,]\n",
    "\n",
    "for (i in 1:100){\n",
    "   # 트레이닝 데이터 훈련\n",
    "  x_tr <- subset(data.tr, select = -소요시간범위)\n",
    "  y_tr <- data.tr$소요시간범위\n",
    "    \n",
    "  # 테스트 데이터 훈련  \n",
    "  x_test <- subset(data.test, select = -소요시간범위)\n",
    "  y_test <- data.test$소요시간범위  \n",
    "    \n",
    "  # RF\n",
    "  model_rf <- randomForest(소요시간범위 ~ . , data = data.tr, ntree = 100)\n",
    "  pred_rf <- predict(model_rf, x_test)\n",
    "  예측력_rf <- mean(pred_rf == y_test)\n",
    "  # RF train\n",
    "  model_rf_tr <- randomForest(소요시간범위 ~ . , data = data.tr, ntree = 100)\n",
    "  pred_rf_tr <- predict(model_rf_tr, x_tr)\n",
    "  예측력_rf_tr <- mean(pred_rf_tr == y_tr)\n",
    "  \n",
    "  # 인공신경망\n",
    "  model_nnet <- nnet(소요시간범위 ~ ., data=data.tr, size=3, trace=FALSE)\n",
    "  pred_nnet <- predict(model_nnet, x_test, type=\"class\")\n",
    "  예측력_nnet <- mean(pred_nnet == y_test)\n",
    "  # 인공신경망 train\n",
    "  model_nnet_tr <- nnet(소요시간범위 ~ ., data=data.tr, size=3, trace=FALSE)\n",
    "  pred_nnet_tr <- predict(model_nnet_tr, x_tr, type=\"class\")\n",
    "  예측력_nnet_tr <- mean(pred_nnet_tr == y_tr)\n",
    " \n",
    "  # 의사결정나무\n",
    "  model_ctree <- ctree(소요시간범위 ~ ., data=data.tr)\n",
    "  pred_ctree <- predict(model_ctree, x_test)\n",
    "  예측력_nnet <- mean(pred_ctree == y_test)\n",
    "  # 의사결정나무 train\n",
    "  model_ctree_tr <- ctree(소요시간범위 ~ ., data=data.tr)\n",
    "  pred_ctree_tr <- predict(model_ctree_tr, x_tr)\n",
    "  예측력_ctree_tr <- mean(pred_ctree_tr == y_tr)\n",
    "    \n",
    "  # SVM test\n",
    "  model_svm <- svm(소요시간범위 ~ ., data=data.tr)\n",
    "  pred_svm <- predict(model_svm, x_test, type = \"class\")\n",
    "  예측력_svm <- mean(pred_svm == y_test)\n",
    "  # SVM train\n",
    "   model_svm_tr <- svm(소요시간범위 ~ ., data=data.tr)\n",
    "   pred_svm_tr <- predict(model_svm_tr, x_tr, type = \"class\")\n",
    "   예측력_svm_tr <- mean(pred_svm_tr == y_tr)\n",
    "    \n",
    "  # 다항 로지스틱 회귀분석\n",
    "   model_multinom <- multinom(소요시간범위 ~ ., data=data.tr, trace=FALSE)\n",
    "   pred_multinom <- predict(model_multinom, x_test, type=\"class\")\n",
    "   예측력_multinom <- mean(pred_multinom == y_test)\n",
    "  # 다항 로지스틱 회귀분석 train\n",
    "    model_multinom_tr <- multinom(소요시간범위 ~ ., data=data.tr, trace=FALSE)\n",
    "    pred_multinom_tr <- predict(model_multinom_tr, x_tr, type=\"class\")\n",
    "    예측력_multinom_tr <- mean(pred_multinom_tr == y_tr)\n",
    "    \n",
    "  sum_rf <- sum_rf + 예측력_rf\n",
    "  sum_ctree <- sum_ctree + 예측력_nnet\n",
    "  sum_svm <- sum_svm + 예측력_svm\n",
    "  sum_multi <- sum_multi + 예측력_multinom\n",
    "  sum_nnet <- sum_nnet + 예측력_nnet\n",
    "    \n",
    "  sum_svm_tr <- sum_svm_tr + 예측력_svm_tr\n",
    "  sum_rf_tr <- sum_rf_tr + 예측력_rf_tr\n",
    "  sum_ctree_tr <- sum_ctree_tr + 예측력_ctree_tr\n",
    "  sum_multi_tr <- sum_multi_tr + 예측력_multinom_tr\n",
    "  sum_nnet_tr <- sum_nnet_tr + 예측력_nnet_tr\n",
    "}\n",
    "cat(\"Test Data \\n\")\n",
    "cat(\"랜덤 포레스트 : \", sum_rf, \"\\n\")\n",
    "cat(\"의사결정나무 : \", sum_ctree, \"\\n\")\n",
    "cat(\"SVM :  \", sum_svm, \"\\n\")\n",
    "cat(\"다항 로지스틱 :  \", sum_multi, \"\\n\")\n",
    "cat(\"인공신경망 :  \", sum_nnet, \"\\n\")\n",
    "# sum_ctree\n",
    "cat(\"------------------------\", \"\\n\")\n",
    "cat(\"Training Data \\n\")\n",
    "cat(\"랜덤 포레스트 : \", sum_rf_tr, \"\\n\")\n",
    "cat(\"의사결정나무 : \", sum_ctree_tr, \"\\n\")\n",
    "cat(\"SVM :  \", sum_svm_tr, \"\\n\")\n",
    "cat(\"다항 로지스틱 :  \", sum_multi_tr, \"\\n\")\n",
    "cat(\"인공신경망 :  \", sum_nnet_tr, \"\\n\")"
   ]
  },
  {
   "cell_type": "code",
   "execution_count": null,
   "metadata": {},
   "outputs": [],
   "source": [
    "# 기본\n",
    "\n",
    "Test Data \n",
    "랜덤 포레스트 :  75.53659 \n",
    "의사결정나무 :  65.85366 \n",
    "SVM :   75.60976 \n",
    "다항 로지스틱 :   75.60976 \n",
    "인공신경망 :   65.85366 \n",
    "------------------------ \n",
    "Training Data \n",
    "랜덤 포레스트 :  84.87379 \n",
    "의사결정나무 :  72.81553 \n",
    "SVM :   80.58252 \n",
    "다항 로지스틱 :   74.75728 \n",
    "인공신경망 :   78.73786 \n",
    "\n",
    "가장 높은 모델 : SVM\n",
    "=============================\n",
    "\n",
    "Test Data \n",
    "랜덤 포레스트 :  75.2439 \n",
    "의사결정나무 :  70.73171 \n",
    "SVM :   75.60976 \n",
    "다항 로지스틱 :   73.17073 \n",
    "인공신경망 :   70.73171 \n",
    "------------------------ \n",
    "Training Data \n",
    "랜덤 포레스트 :  85.30097 \n",
    "의사결정나무 :  71.84466 \n",
    "SVM :   82.52427 \n",
    "다항 로지스틱 :   76.69903 \n",
    "인공신경망 :   76.58252 \n",
    "\n",
    "가장 높은 모델 : SVM\n",
    "==============================\n",
    "\n",
    "Test Data \n",
    "랜덤 포레스트 :  73.31707 \n",
    "의사결정나무 :  70.73171 \n",
    "SVM :   73.17073 \n",
    "다항 로지스틱 :   78.04878 \n",
    "인공신경망 :   70.73171 \n",
    "------------------------ \n",
    "Training Data \n",
    "랜덤 포레스트 :  86.99029 \n",
    "의사결정나무 :  70.87379 \n",
    "SVM :   83.49515 \n",
    "다항 로지스틱 :   75.72816 \n",
    "인공신경망 :   80.40777 \n",
    "\n",
    "가장 높은 모델 : 다항 로지스틱 78.04878 \n",
    "==============================\n",
    "\n",
    "Test Data \n",
    "랜덤 포레스트 :  77.82927 \n",
    "의사결정나무 :  70.73171 \n",
    "SVM :   75.60976 \n",
    "다항 로지스틱 :   70.73171 \n",
    "인공신경망 :   70.73171 \n",
    "------------------------ \n",
    "Training Data \n",
    "랜덤 포레스트 :  83.97087 \n",
    "의사결정나무 :  70.87379 \n",
    "SVM :   84.46602 \n",
    "다항 로지스틱 :   77.6699 \n",
    "인공신경망 :   78.58252 \n",
    "\n",
    "가장 높은 모델 : 랜덤 포레스트 77.82927 \n",
    "==============================\n",
    "\n",
    "Test Data \n",
    "랜덤 포레스트 :  74.90244 \n",
    "의사결정나무 :  68.29268 \n",
    "SVM :   75.60976 \n",
    "다항 로지스틱 :   75.60976 \n",
    "인공신경망 :   68.29268 \n",
    "------------------------ \n",
    "Training Data \n",
    "랜덤 포레스트 :  87.84466 \n",
    "의사결정나무 :  71.84466 \n",
    "SVM :   81.5534 \n",
    "다항 로지스틱 :   76.69903 \n",
    "인공신경망 :   78.75728 \n",
    "\n",
    "가장 높은 모델 : SVM 81.5534 \n",
    "================================\n",
    "\n",
    "Test Data \n",
    "랜덤 포레스트 :  75.29268 \n",
    "의사결정나무 :  60.97561 \n",
    "SVM :   73.17073 \n",
    "다항 로지스틱 :   78.04878 \n",
    "인공신경망 :   60.97561 \n",
    "------------------------ \n",
    "Training Data \n",
    "랜덤 포레스트 :  85.7767 \n",
    "의사결정나무 :  73.78641 \n",
    "SVM :   82.52427 \n",
    "다항 로지스틱 :   84.46602 \n",
    "인공신경망 :   81.80583 \n",
    "\n",
    "가장 높은 모델 : 다항 로지스틱 78.04878 "
   ]
  },
  {
   "cell_type": "code",
   "execution_count": null,
   "metadata": {},
   "outputs": [],
   "source": [
    "# 기본 + 눈비\n",
    "\n",
    "Test Data \n",
    "랜덤 포레스트 :  72.14634 \n",
    "의사결정나무 :  73.17073 \n",
    "SVM :   73.17073 \n",
    "다항 로지스틱 :   78.04878 \n",
    "인공신경망 :   73.17073 \n",
    "------------------------ \n",
    "Training Data \n",
    "랜덤 포레스트 :  86.41748 \n",
    "의사결정나무 :  82.52427 \n",
    "SVM :   85.43689 \n",
    "다항 로지스틱 :   87.37864 \n",
    "인공신경망 :   82.45631 \n",
    "\n",
    "가장 높은 모델 : 다항 로지스틱 78.04878 \n",
    "=============================\n",
    "\n",
    "Test Data \n",
    "랜덤 포레스트 :  85.43902 \n",
    "의사결정나무 :  70.73171 \n",
    "SVM :   82.92683 \n",
    "다항 로지스틱 :   80.4878 \n",
    "인공신경망 :   70.73171 \n",
    "------------------------ \n",
    "Training Data \n",
    "랜덤 포레스트 :  80.81553 \n",
    "의사결정나무 :  70.87379 \n",
    "SVM :   78.64078 \n",
    "다항 로지스틱 :   81.5534 \n",
    "인공신경망 :   80.53398 \n",
    "\n",
    "가장 높은 모델 : 랜덤 포레스트 85.43902\n",
    "=============================\n",
    "\n",
    "Test Data \n",
    "랜덤 포레스트 :  68.4878 \n",
    "의사결정나무 :  68.29268 \n",
    "SVM :   73.17073 \n",
    "다항 로지스틱 :   70.73171 \n",
    "인공신경망 :   68.29268 \n",
    "------------------------ \n",
    "Training Data \n",
    "랜덤 포레스트 :  81.52427 \n",
    "의사결정나무 :  82.52427 \n",
    "SVM :   83.49515 \n",
    "다항 로지스틱 :   83.49515 \n",
    "인공신경망 :   80.27184 \n",
    "\n",
    "가장 높은 모델 : SVM 73.17073 \n",
    "=============================\n",
    "\n",
    "Test Data \n",
    "랜덤 포레스트 :  77.7561 \n",
    "의사결정나무 :  73.17073 \n",
    "SVM :   75.60976 \n",
    "다항 로지스틱 :   70.73171 \n",
    "인공신경망 :   73.17073 \n",
    "------------------------ \n",
    "Training Data \n",
    "랜덤 포레스트 :  83.35922 \n",
    "의사결정나무 :  84.46602 \n",
    "SVM :   82.52427 \n",
    "다항 로지스틱 :   83.49515 \n",
    "인공신경망 :   81.61165 \n",
    "\n",
    "가장 높은 모델 : 랜덤 포레스트 77.7561\n",
    "=============================\n",
    "\n",
    "Test Data \n",
    "랜덤 포레스트 :  78.39024 \n",
    "의사결정나무 :  78.04878 \n",
    "SVM :   75.60976 \n",
    "다항 로지스틱 :   78.04878 \n",
    "인공신경망 :   78.04878 \n",
    "------------------------ \n",
    "Training Data \n",
    "랜덤 포레스트 :  81.38835 \n",
    "의사결정나무 :  80.58252 \n",
    "SVM :   80.58252 \n",
    "다항 로지스틱 :   82.52427 \n",
    "인공신경망 :   82.04854 \n",
    "\n",
    "가장 높은 모델 : 랜덤 포레스트 78.39024"
   ]
  },
  {
   "cell_type": "code",
   "execution_count": null,
   "metadata": {},
   "outputs": [],
   "source": []
  },
  {
   "cell_type": "code",
   "execution_count": null,
   "metadata": {},
   "outputs": [],
   "source": [
    "# for100\n",
    "# 눈비 + 2종\n",
    "Test Data \n",
    "랜덤 포레스트 :  79.92683 \n",
    "의사결정나무 :  80.4878 \n",
    "SVM :   85.36585 \n",
    "다항 로지스틱 :   78.04878 \n",
    "인공신경망 :   80.4878 \n",
    "------------------------ \n",
    "Training Data \n",
    "랜덤 포레스트 :  99.96117 \n",
    "의사결정나무 :  79.61165 \n",
    "SVM :   83.49515 \n",
    "다항 로지스틱 :   85.43689 \n",
    "인공신경망 :   25.56311 \n",
    "\n",
    "\n",
    "==========================\n",
    "\n",
    "Test Data \n",
    "랜덤 포레스트 :  83.90244 \n",
    "의사결정나무 :  70.73171 \n",
    "SVM :   78.04878 \n",
    "다항 로지스틱 :   82.92683 \n",
    "인공신경망 :   70.73171 \n",
    "------------------------ \n",
    "Training Data \n",
    "랜덤 포레스트 :  100 \n",
    "의사결정나무 :  71.84466 \n",
    "SVM :   86.40777 \n",
    "다항 로지스틱 :   86.40777 \n",
    "인공신경망 :   25.03883 \n",
    "\n",
    "==========================\n",
    "\n",
    "Test Data \n",
    "랜덤 포레스트 :  80.36585 \n",
    "의사결정나무 :  75.60976 \n",
    "SVM :   80.4878 \n",
    "다항 로지스틱 :   80.4878 \n",
    "인공신경망 :   75.60976 \n",
    "------------------------ \n",
    "Training Data \n",
    "랜덤 포레스트 :  99.99029 \n",
    "의사결정나무 :  81.5534 \n",
    "SVM :   87.37864 \n",
    "다항 로지스틱 :   86.40777 \n",
    "인공신경망 :   25.3301 \n",
    "\n",
    "===========================\n",
    "\n",
    "Test Data \n",
    "랜덤 포레스트 :  80.29268 \n",
    "의사결정나무 :  65.85366 \n",
    "SVM :   82.92683 \n",
    "다항 로지스틱 :   85.36585 \n",
    "인공신경망 :   65.85366 \n",
    "------------------------ \n",
    "Training Data \n",
    "랜덤 포레스트 :  99.97087 \n",
    "의사결정나무 :  73.78641 \n",
    "SVM :   82.52427 \n",
    "다항 로지스틱 :   86.40777 \n",
    "인공신경망 :   24.92233 \n",
    "\n",
    "===========================\n",
    "\n",
    "Test Data \n",
    "랜덤 포레스트 :  75.85366 \n",
    "의사결정나무 :  80.4878 \n",
    "SVM :   78.04878 \n",
    "다항 로지스틱 :   82.92683 \n",
    "인공신경망 :   80.4878 \n",
    "------------------------ \n",
    "Training Data \n",
    "랜덤 포레스트 :  99.96117 \n",
    "의사결정나무 :  86.40777 \n",
    "SVM :   85.43689 \n",
    "다항 로지스틱 :   89.32039 \n",
    "인공신경망 :   25.07767 "
   ]
  },
  {
   "cell_type": "code",
   "execution_count": null,
   "metadata": {},
   "outputs": [],
   "source": [
    "# 눈비 + 1종\n",
    "\n",
    "Test Data \n",
    "랜덤 포레스트 :  85.04878 \n",
    "의사결정나무 :  75.60976 \n",
    "SVM :   75.60976 \n",
    "다항 로지스틱 :   80.4878 \n",
    "인공신경망 :   75.60976 \n",
    "------------------------ \n",
    "Training Data \n",
    "랜덤 포레스트 :  99.72816 \n",
    "의사결정나무 :  81.5534 \n",
    "SVM :   81.5534 \n",
    "다항 로지스틱 :   88.34951 \n",
    "인공신경망 :   25.02913 \n",
    "\n",
    "============================\n",
    "\n",
    "Test Data \n",
    "랜덤 포레스트 :  81.02439 \n",
    "의사결정나무 :  65.85366 \n",
    "SVM :   85.36585 \n",
    "다항 로지스틱 :   82.92683 \n",
    "인공신경망 :   65.85366 \n",
    "------------------------ \n",
    "Training Data \n",
    "랜덤 포레스트 :  99.93204 \n",
    "의사결정나무 :  71.84466 \n",
    "SVM :   79.61165 \n",
    "다항 로지스틱 :   84.46602 \n",
    "인공신경망 :   25.43689 \n",
    "\n",
    "=============================\n",
    "\n",
    "Test Data \n",
    "랜덤 포레스트 :  86.43902 \n",
    "의사결정나무 :  75.60976 \n",
    "SVM :   70.73171 \n",
    "다항 로지스틱 :   80.4878 \n",
    "인공신경망 :   75.60976 \n",
    "------------------------ \n",
    "Training Data \n",
    "랜덤 포레스트 :  99.02913 \n",
    "의사결정나무 :  81.5534 \n",
    "SVM :   82.52427 \n",
    "다항 로지스틱 :   88.34951 \n",
    "인공신경망 :   25.51456 \n",
    "\n",
    "==============================\n",
    "\n",
    "Test Data \n",
    "랜덤 포레스트 :  76.73171 \n",
    "의사결정나무 :  82.92683 \n",
    "SVM :   78.04878 \n",
    "다항 로지스틱 :   80.4878 \n",
    "인공신경망 :   82.92683 \n",
    "------------------------ \n",
    "Training Data \n",
    "랜덤 포레스트 :  99.57282 \n",
    "의사결정나무 :  84.46602 \n",
    "SVM :   82.52427 \n",
    "다항 로지스틱 :   86.40777 \n",
    "인공신경망 :   25.31068 \n",
    "\n",
    "=============================\n",
    "\n",
    "Test Data \n",
    "랜덤 포레스트 :  79.14634 \n",
    "의사결정나무 :  78.04878 \n",
    "SVM :   63.41463 \n",
    "다항 로지스틱 :   80.4878 \n",
    "인공신경망 :   78.04878 \n",
    "------------------------ \n",
    "Training Data \n",
    "랜덤 포레스트 :  99.07767 \n",
    "의사결정나무 :  87.37864 \n",
    "SVM :   84.46602 \n",
    "다항 로지스틱 :   89.32039 \n",
    "인공신경망 :   25.17476 "
   ]
  },
  {
   "cell_type": "code",
   "execution_count": null,
   "metadata": {},
   "outputs": [],
   "source": [
    "# 1종\n",
    "\n",
    "Test Data \n",
    "랜덤 포레스트 :  83.73171 \n",
    "의사결정나무 :  73.17073 \n",
    "SVM :   75.60976 \n",
    "다항 로지스틱 :   78.04878 \n",
    "인공신경망 :   73.17073 \n",
    "------------------------ \n",
    "Training Data \n",
    "랜덤 포레스트 :  94.76699 \n",
    "의사결정나무 :  69.90291 \n",
    "SVM :   85.43689 \n",
    "다항 로지스틱 :   78.64078 \n",
    "인공신경망 :   24.99029 \n",
    "\n",
    "===========================\n",
    "\n",
    "Test Data \n",
    "랜덤 포레스트 :  84.53659 \n",
    "의사결정나무 :  68.29268 \n",
    "SVM :   80.4878 \n",
    "다항 로지스틱 :   78.04878 \n",
    "인공신경망 :   68.29268 \n",
    "------------------------ \n",
    "Training Data \n",
    "랜덤 포레스트 :  93.16505 \n",
    "의사결정나무 :  71.84466 \n",
    "SVM :   79.61165 \n",
    "다항 로지스틱 :   77.6699 \n",
    "인공신경망 :   25.1068 \n",
    "\n",
    "==========================\n",
    "\n",
    "Test Data \n",
    "랜덤 포레스트 :  86.97561 \n",
    "의사결정나무 :  68.29268 \n",
    "SVM :   80.4878 \n",
    "다항 로지스틱 :   80.4878 \n",
    "인공신경망 :   68.29268 \n",
    "------------------------ \n",
    "Training Data \n",
    "랜덤 포레스트 :  94.24272 \n",
    "의사결정나무 :  69.90291 \n",
    "SVM :   81.5534 \n",
    "다항 로지스틱 :   82.52427 \n",
    "인공신경망 :   25.53398 \n",
    "\n",
    "===========================\n",
    "\n",
    "Test Data \n",
    "랜덤 포레스트 :  82.87805 \n",
    "의사결정나무 :  70.73171 \n",
    "SVM :   85.36585 \n",
    "다항 로지스틱 :   78.04878 \n",
    "인공신경망 :   70.73171 \n",
    "------------------------ \n",
    "Training Data \n",
    "랜덤 포레스트 :  96.94175 \n",
    "의사결정나무 :  70.87379 \n",
    "SVM :   82.52427 \n",
    "다항 로지스틱 :   79.61165 \n",
    "인공신경망 :   25.38835 \n",
    "\n",
    "===========================\n",
    "\n",
    "Test Data \n",
    "랜덤 포레스트 :  75.02439 \n",
    "의사결정나무 :  68.29268 \n",
    "SVM :   75.60976 \n",
    "다항 로지스틱 :   70.73171 \n",
    "인공신경망 :   68.29268 \n",
    "------------------------ \n",
    "Training Data \n",
    "랜덤 포레스트 :  96 \n",
    "의사결정나무 :  84.46602 \n",
    "SVM :   86.40777 \n",
    "다항 로지스틱 :   84.46602 \n",
    "인공신경망 :   25.42718 "
   ]
  },
  {
   "cell_type": "code",
   "execution_count": null,
   "metadata": {},
   "outputs": [],
   "source": [
    "# 2종\n",
    "\n",
    "Test Data \n",
    "랜덤 포레스트 :  72.36585 \n",
    "의사결정나무 :  68.29268 \n",
    "SVM :   73.17073 \n",
    "다항 로지스틱 :   70.73171 \n",
    "인공신경망 :   68.29268 \n",
    "------------------------ \n",
    "Training Data \n",
    "랜덤 포레스트 :  95.34951 \n",
    "의사결정나무 :  71.84466 \n",
    "SVM :   82.52427 \n",
    "다항 로지스틱 :   79.61165 \n",
    "인공신경망 :   24.82524 \n",
    "\n",
    "=============================\n",
    "\n",
    "Test Data \n",
    "랜덤 포레스트 :  81.4878 \n",
    "의사결정나무 :  68.29268 \n",
    "SVM :   73.17073 \n",
    "다항 로지스틱 :   68.29268 \n",
    "인공신경망 :   68.29268 \n",
    "------------------------ \n",
    "Training Data \n",
    "랜덤 포레스트 :  94.93204 \n",
    "의사결정나무 :  71.84466 \n",
    "SVM :   82.52427 \n",
    "다항 로지스틱 :   82.52427 \n",
    "인공신경망 :   25.65049 \n",
    "\n",
    "==============================\n",
    "\n",
    "Test Data \n",
    "랜덤 포레스트 :  73.65854 \n",
    "의사결정나무 :  68.29268 \n",
    "SVM :   75.60976 \n",
    "다항 로지스틱 :   70.73171 \n",
    "인공신경망 :   68.29268 \n",
    "------------------------ \n",
    "Training Data \n",
    "랜덤 포레스트 :  96.51456 \n",
    "의사결정나무 :  71.84466 \n",
    "SVM :   85.43689 \n",
    "다항 로지스틱 :   83.49515 \n",
    "인공신경망 :   25.4466 \n",
    "\n",
    "==============================\n",
    "\n",
    "Test Data \n",
    "랜덤 포레스트 :  80.09756 \n",
    "의사결정나무 :  70.73171 \n",
    "SVM :   82.92683 \n",
    "다항 로지스틱 :   78.04878 \n",
    "인공신경망 :   70.73171 \n",
    "------------------------ \n",
    "Training Data \n",
    "랜덤 포레스트 :  96.79612 \n",
    "의사결정나무 :  70.87379 \n",
    "SVM :   82.52427 \n",
    "다항 로지스틱 :   81.5534 \n",
    "인공신경망 :   25.26214 \n",
    "\n",
    "===============================\n",
    "\n",
    "Test Data \n",
    "랜덤 포레스트 :  71.09756 \n",
    "의사결정나무 :  65.85366 \n",
    "SVM :   75.60976 \n",
    "다항 로지스틱 :   78.04878 \n",
    "인공신경망 :   65.85366 \n",
    "------------------------ \n",
    "Training Data \n",
    "랜덤 포레스트 :  96.6699 \n",
    "의사결정나무 :  70.87379 \n",
    "SVM :   84.46602 \n",
    "다항 로지스틱 :   79.61165 \n",
    "인공신경망 :   24.69903 "
   ]
  },
  {
   "cell_type": "code",
   "execution_count": null,
   "metadata": {},
   "outputs": [],
   "source": []
  },
  {
   "cell_type": "code",
   "execution_count": 333,
   "metadata": {},
   "outputs": [
    {
     "data": {
      "text/html": [
       "<table>\n",
       "<thead><tr><th scope=col>소요시간범위</th><th scope=col>출발시간</th><th scope=col>연휴길이</th><th scope=col>날짜</th><th scope=col>눈비</th><th scope=col>X1종.교통량</th><th scope=col>X2종.교통량</th><th scope=col>서울인구수</th><th scope=col>소요시간</th></tr></thead>\n",
       "<tbody>\n",
       "\t<tr><td>B         </td><td>0         </td><td>3         </td><td>2013-02-08</td><td>TRUE      </td><td>3793419   </td><td>229419    </td><td>10388055  </td><td>91        </td></tr>\n",
       "\t<tr><td>B         </td><td>1         </td><td>3         </td><td>2013-02-08</td><td>TRUE      </td><td>2514790   </td><td>203047    </td><td>10388055  </td><td>88        </td></tr>\n",
       "\t<tr><td>B         </td><td>2         </td><td>3         </td><td>2013-02-08</td><td>TRUE      </td><td>1846564   </td><td>235137    </td><td>10388055  </td><td>88        </td></tr>\n",
       "\t<tr><td>A         </td><td>3         </td><td>3         </td><td>2013-02-08</td><td>TRUE      </td><td>1632415   </td><td>305994    </td><td>10388055  </td><td>87        </td></tr>\n",
       "\t<tr><td>B         </td><td>4         </td><td>3         </td><td>2013-02-08</td><td>TRUE      </td><td>2247045   </td><td>444384    </td><td>10388055  </td><td>91        </td></tr>\n",
       "\t<tr><td>B         </td><td>5         </td><td>3         </td><td>2013-02-08</td><td>TRUE      </td><td>5186824   </td><td>774325    </td><td>10388055  </td><td>97        </td></tr>\n",
       "</tbody>\n",
       "</table>\n"
      ],
      "text/latex": [
       "\\begin{tabular}{r|lllllllll}\n",
       " 소요시간범위 & 출발시간 & 연휴길이 & 날짜 & 눈비 & X1종.교통량 & X2종.교통량 & 서울인구수 & 소요시간\\\\\n",
       "\\hline\n",
       "\t B          & 0          & 3          & 2013-02-08 & TRUE       & 3793419    & 229419     & 10388055   & 91        \\\\\n",
       "\t B          & 1          & 3          & 2013-02-08 & TRUE       & 2514790    & 203047     & 10388055   & 88        \\\\\n",
       "\t B          & 2          & 3          & 2013-02-08 & TRUE       & 1846564    & 235137     & 10388055   & 88        \\\\\n",
       "\t A          & 3          & 3          & 2013-02-08 & TRUE       & 1632415    & 305994     & 10388055   & 87        \\\\\n",
       "\t B          & 4          & 3          & 2013-02-08 & TRUE       & 2247045    & 444384     & 10388055   & 91        \\\\\n",
       "\t B          & 5          & 3          & 2013-02-08 & TRUE       & 5186824    & 774325     & 10388055   & 97        \\\\\n",
       "\\end{tabular}\n"
      ],
      "text/markdown": [
       "\n",
       "| 소요시간범위 | 출발시간 | 연휴길이 | 날짜 | 눈비 | X1종.교통량 | X2종.교통량 | 서울인구수 | 소요시간 |\n",
       "|---|---|---|---|---|---|---|---|---|\n",
       "| B          | 0          | 3          | 2013-02-08 | TRUE       | 3793419    | 229419     | 10388055   | 91         |\n",
       "| B          | 1          | 3          | 2013-02-08 | TRUE       | 2514790    | 203047     | 10388055   | 88         |\n",
       "| B          | 2          | 3          | 2013-02-08 | TRUE       | 1846564    | 235137     | 10388055   | 88         |\n",
       "| A          | 3          | 3          | 2013-02-08 | TRUE       | 1632415    | 305994     | 10388055   | 87         |\n",
       "| B          | 4          | 3          | 2013-02-08 | TRUE       | 2247045    | 444384     | 10388055   | 91         |\n",
       "| B          | 5          | 3          | 2013-02-08 | TRUE       | 5186824    | 774325     | 10388055   | 97         |\n",
       "\n"
      ],
      "text/plain": [
       "  소요시간범위 출발시간 연휴길이 날짜       눈비 X1종.교통량 X2종.교통량\n",
       "1 B            0        3        2013-02-08 TRUE 3793419     229419     \n",
       "2 B            1        3        2013-02-08 TRUE 2514790     203047     \n",
       "3 B            2        3        2013-02-08 TRUE 1846564     235137     \n",
       "4 A            3        3        2013-02-08 TRUE 1632415     305994     \n",
       "5 B            4        3        2013-02-08 TRUE 2247045     444384     \n",
       "6 B            5        3        2013-02-08 TRUE 5186824     774325     \n",
       "  서울인구수 소요시간\n",
       "1 10388055   91      \n",
       "2 10388055   88      \n",
       "3 10388055   88      \n",
       "4 10388055   87      \n",
       "5 10388055   91      \n",
       "6 10388055   97      "
      ]
     },
     "metadata": {},
     "output_type": "display_data"
    },
    {
     "data": {
      "text/html": [
       "135"
      ],
      "text/latex": [
       "135"
      ],
      "text/markdown": [
       "135"
      ],
      "text/plain": [
       "[1] 135"
      ]
     },
     "metadata": {},
     "output_type": "display_data"
    },
    {
     "data": {
      "text/html": [
       "<table>\n",
       "<thead><tr><th scope=col>소요시간범위</th><th scope=col>출발시간</th><th scope=col>연휴길이</th><th scope=col>X1종.교통량</th></tr></thead>\n",
       "<tbody>\n",
       "\t<tr><td>B      </td><td>0      </td><td>3      </td><td>3793419</td></tr>\n",
       "\t<tr><td>B      </td><td>1      </td><td>3      </td><td>2514790</td></tr>\n",
       "\t<tr><td>B      </td><td>2      </td><td>3      </td><td>1846564</td></tr>\n",
       "\t<tr><td>A      </td><td>3      </td><td>3      </td><td>1632415</td></tr>\n",
       "\t<tr><td>B      </td><td>4      </td><td>3      </td><td>2247045</td></tr>\n",
       "\t<tr><td>B      </td><td>5      </td><td>3      </td><td>5186824</td></tr>\n",
       "</tbody>\n",
       "</table>\n"
      ],
      "text/latex": [
       "\\begin{tabular}{r|llll}\n",
       " 소요시간범위 & 출발시간 & 연휴길이 & X1종.교통량\\\\\n",
       "\\hline\n",
       "\t B       & 0       & 3       & 3793419\\\\\n",
       "\t B       & 1       & 3       & 2514790\\\\\n",
       "\t B       & 2       & 3       & 1846564\\\\\n",
       "\t A       & 3       & 3       & 1632415\\\\\n",
       "\t B       & 4       & 3       & 2247045\\\\\n",
       "\t B       & 5       & 3       & 5186824\\\\\n",
       "\\end{tabular}\n"
      ],
      "text/markdown": [
       "\n",
       "| 소요시간범위 | 출발시간 | 연휴길이 | X1종.교통량 |\n",
       "|---|---|---|---|\n",
       "| B       | 0       | 3       | 3793419 |\n",
       "| B       | 1       | 3       | 2514790 |\n",
       "| B       | 2       | 3       | 1846564 |\n",
       "| A       | 3       | 3       | 1632415 |\n",
       "| B       | 4       | 3       | 2247045 |\n",
       "| B       | 5       | 3       | 5186824 |\n",
       "\n"
      ],
      "text/plain": [
       "  소요시간범위 출발시간 연휴길이 X1종.교통량\n",
       "1 B            0        3        3793419    \n",
       "2 B            1        3        2514790    \n",
       "3 B            2        3        1846564    \n",
       "4 A            3        3        1632415    \n",
       "5 B            4        3        2247045    \n",
       "6 B            5        3        5186824    "
      ]
     },
     "metadata": {},
     "output_type": "display_data"
    },
    {
     "data": {
      "text/plain": [
       "\n",
       " A  B  C  D \n",
       "35 36 36 28 "
      ]
     },
     "metadata": {},
     "output_type": "display_data"
    }
   ],
   "source": [
    "sdd22 <- read.csv(\"../Data_Project/AI프로젝트 - D-2-2.csv\")\n",
    "sdd22 <- subset(sdd22, 소요시간 <= 220 & !(출발시간 == 0 & 소요시간 == 97))\n",
    "head(sdd22)\n",
    "nrow(sdd22)\n",
    "head(sdd22[,c(1:3,6)])\n",
    "table(sdd22$소요시간범위)"
   ]
  },
  {
   "cell_type": "code",
   "execution_count": 223,
   "metadata": {
    "scrolled": true
   },
   "outputs": [
    {
     "name": "stdout",
     "output_type": "stream",
     "text": [
      "Test Data \n",
      "랜덤 포레스트 :  81.23684 \n",
      "의사결정나무 :  68.42105 \n",
      "SVM :   78.94737 \n",
      "다항 로지스틱 :   73.68421 \n",
      "인공신경망 :   68.42105 \n",
      "------------------------ \n",
      "Training Data \n",
      "랜덤 포레스트 :  96.69072 \n",
      "의사결정나무 :  70.10309 \n",
      "SVM :   80.41237 \n",
      "다항 로지스틱 :   81.4433 \n",
      "인공신경망 :   26.50515 \n"
     ]
    }
   ],
   "source": [
    "sum_rf <- 0\n",
    "sum_nnet <- 0\n",
    "sum_ctree <- 0\n",
    "sum_multi <- 0\n",
    "sum_svm <- 0\n",
    "\n",
    "sum_rf_tr <- 0\n",
    "sum_ctree_tr <- 0\n",
    "sum_svm_tr <- 0\n",
    "sum_multi_tr <- 0\n",
    "sum_nnet_tr <- 0\n",
    "\n",
    "samp <- createDataPartition(sdd22[,c(1:3,7)]$소요시간범위, p=0.7, list=F)\n",
    "data.tr <- sdd22[,c(1:3,7)][samp,]\n",
    "data.test <- sdd22[,c(1:3,7)][-samp,]\n",
    "\n",
    "for (i in 1:100){\n",
    "   # 트레이닝 데이터 훈련\n",
    "  x_tr <- subset(data.tr, select = -소요시간범위)\n",
    "  y_tr <- data.tr$소요시간범위\n",
    "    \n",
    "  # 테스트 데이터 훈련  \n",
    "  x_test <- subset(data.test, select = -소요시간범위)\n",
    "  y_test <- data.test$소요시간범위  \n",
    "    \n",
    "  # RF\n",
    "  model_rf <- randomForest(소요시간범위 ~ . , data = data.tr, ntree = 100)\n",
    "  pred_rf <- predict(model_rf, x_test)\n",
    "  예측력_rf <- mean(pred_rf == y_test)\n",
    "  # RF train\n",
    "  model_rf_tr <- randomForest(소요시간범위 ~ . , data = data.tr, ntree = 100)\n",
    "  pred_rf_tr <- predict(model_rf_tr, x_tr)\n",
    "  예측력_rf_tr <- mean(pred_rf_tr == y_tr)\n",
    "  \n",
    "  # 인공신경망\n",
    "  model_nnet <- nnet(소요시간범위 ~ ., data=data.tr, size=3, trace=FALSE)\n",
    "  pred_nnet <- predict(model_nnet, x_test, type=\"class\")\n",
    "  예측력_nnet <- mean(pred_nnet == y_test)\n",
    "  # 인공신경망 train\n",
    "  model_nnet_tr <- nnet(소요시간범위 ~ ., data=data.tr, size=3, trace=FALSE)\n",
    "  pred_nnet_tr <- predict(model_nnet_tr, x_tr, type=\"class\")\n",
    "  예측력_nnet_tr <- mean(pred_nnet_tr == y_tr)\n",
    " \n",
    "  # 의사결정나무\n",
    "  model_ctree <- ctree(소요시간범위 ~ ., data=data.tr)\n",
    "  pred_ctree <- predict(model_ctree, x_test)\n",
    "  예측력_nnet <- mean(pred_ctree == y_test)\n",
    "  # 의사결정나무 train\n",
    "  model_ctree_tr <- ctree(소요시간범위 ~ ., data=data.tr)\n",
    "  pred_ctree_tr <- predict(model_ctree_tr, x_tr)\n",
    "  예측력_ctree_tr <- mean(pred_ctree_tr == y_tr)\n",
    "    \n",
    "  # SVM test\n",
    "  model_svm <- svm(소요시간범위 ~ ., data=data.tr)\n",
    "  pred_svm <- predict(model_svm, x_test, type = \"class\")\n",
    "  예측력_svm <- mean(pred_svm == y_test)\n",
    "  # SVM train\n",
    "   model_svm_tr <- svm(소요시간범위 ~ ., data=data.tr)\n",
    "   pred_svm_tr <- predict(model_svm_tr, x_tr, type = \"class\")\n",
    "   예측력_svm_tr <- mean(pred_svm_tr == y_tr)\n",
    "    \n",
    "  # 다항 로지스틱 회귀분석\n",
    "   model_multinom <- multinom(소요시간범위 ~ ., data=data.tr, trace=FALSE)\n",
    "   pred_multinom <- predict(model_multinom, x_test, type=\"class\")\n",
    "   예측력_multinom <- mean(pred_multinom == y_test)\n",
    "  # 다항 로지스틱 회귀분석 train\n",
    "    model_multinom_tr <- multinom(소요시간범위 ~ ., data=data.tr, trace=FALSE)\n",
    "    pred_multinom_tr <- predict(model_multinom_tr, x_tr, type=\"class\")\n",
    "    예측력_multinom_tr <- mean(pred_multinom_tr == y_tr)\n",
    "    \n",
    "  sum_rf <- sum_rf + 예측력_rf\n",
    "  sum_ctree <- sum_ctree + 예측력_nnet\n",
    "  sum_svm <- sum_svm + 예측력_svm\n",
    "  sum_multi <- sum_multi + 예측력_multinom\n",
    "  sum_nnet <- sum_nnet + 예측력_nnet\n",
    "    \n",
    "  sum_svm_tr <- sum_svm_tr + 예측력_svm_tr\n",
    "  sum_rf_tr <- sum_rf_tr + 예측력_rf_tr\n",
    "  sum_ctree_tr <- sum_ctree_tr + 예측력_ctree_tr\n",
    "  sum_multi_tr <- sum_multi_tr + 예측력_multinom_tr\n",
    "  sum_nnet_tr <- sum_nnet_tr + 예측력_nnet_tr\n",
    "}\n",
    "cat(\"Test Data \\n\")\n",
    "cat(\"랜덤 포레스트 : \", sum_rf, \"\\n\")\n",
    "cat(\"의사결정나무 : \", sum_ctree, \"\\n\")\n",
    "cat(\"SVM :  \", sum_svm, \"\\n\")\n",
    "cat(\"다항 로지스틱 :  \", sum_multi, \"\\n\")\n",
    "cat(\"인공신경망 :  \", sum_nnet, \"\\n\")\n",
    "\n",
    "cat(\"------------------------\", \"\\n\")\n",
    "cat(\"Training Data \\n\")\n",
    "cat(\"랜덤 포레스트 : \", sum_rf_tr, \"\\n\")\n",
    "cat(\"의사결정나무 : \", sum_ctree_tr, \"\\n\")\n",
    "cat(\"SVM :  \", sum_svm_tr, \"\\n\")\n",
    "cat(\"다항 로지스틱 :  \", sum_multi_tr, \"\\n\")\n",
    "cat(\"인공신경망 :  \", sum_nnet_tr, \"\\n\")"
   ]
  },
  {
   "cell_type": "code",
   "execution_count": 332,
   "metadata": {},
   "outputs": [
    {
     "data": {
      "image/png": "[encoded data removed]",
      "text/plain": [
       "plot without title"
      ]
     },
     "metadata": {},
     "output_type": "display_data"
    }
   ],
   "source": [
    "par(bg = 'white' , family = 'AppleGothic' , mfrow = c(2,2))\n",
    "plot( sdd22$출발시간, sdd22$소요시간 , ylim=c(0,250))\n",
    "r <- lm(sdd22$소요시간 ~ sdd22$출발시간) # 수식 , W = Y, H = X\n",
    "abline(r, col='red')\n",
    "\n",
    "#plot( day1$출발시간, sdd22$소요시간)\n",
    "#r <- lm(day1$소요시간 ~ day1$출발시간) # 수식 , W = Y, H = X\n",
    "#abline(r, col='red')\n",
    "\n",
    "#plot( dday$출발시간, dday$소요시간)\n",
    "#r <- lm(dday$소요시간 ~ dday$출발시간) # 수식 , W = Y, H = X\n",
    "#abline(r, col='red')"
   ]
  },
  {
   "cell_type": "code",
   "execution_count": 261,
   "metadata": {},
   "outputs": [],
   "source": [
    "sdd222 <- sdd22[,c(2:3,5:9)]\n",
    "\n",
    "samp <- createDataPartition(sdd222$소요시간, p=0.7, list=F)\n",
    "data.tr <- sdd222[samp,]\n",
    "data.test <- sdd222[-samp,]"
   ]
  },
  {
   "cell_type": "code",
   "execution_count": 262,
   "metadata": {},
   "outputs": [
    {
     "data": {
      "text/plain": [
       "\n",
       "Call:\n",
       "lm(formula = 소요시간 ~ ., data = data.tr)\n",
       "\n",
       "Coefficients:\n",
       "   (Intercept)        출발시간        연휴길이        눈비TRUE     X1종.교통량  \n",
       "-274.973963424     5.351866202    -1.463420593     4.092506529     0.000000446  \n",
       "   X2종.교통량      서울인구수  \n",
       "  -0.000026178     0.000034463  \n"
      ]
     },
     "metadata": {},
     "output_type": "display_data"
    },
    {
     "data": {
      "text/plain": [
       "\n",
       "Call:\n",
       "lm(formula = 소요시간 ~ ., data = data.test)\n",
       "\n",
       "Coefficients:\n",
       "   (Intercept)        출발시간        연휴길이        눈비TRUE     X1종.교통량  \n",
       "-252.882342854     4.229320600    -2.981081819    -7.239206535     0.000001371  \n",
       "   X2종.교통량      서울인구수  \n",
       "  -0.000037834     0.000034271  \n"
      ]
     },
     "metadata": {},
     "output_type": "display_data"
    }
   ],
   "source": [
    "# training\n",
    "model_tr <- lm(소요시간 ~ ., data=data.tr)\n",
    "model_tr\n",
    "\n",
    "# test\n",
    "model_test <- lm(소요시간 ~ ., data=data.test)\n",
    "model_test"
   ]
  },
  {
   "cell_type": "code",
   "execution_count": 263,
   "metadata": {},
   "outputs": [
    {
     "data": {
      "text/html": [
       "<table>\n",
       "<thead><tr><th></th><th scope=col>출발시간</th><th scope=col>연휴길이</th><th scope=col>눈비</th><th scope=col>X1종.교통량</th><th scope=col>X2종.교통량</th><th scope=col>서울인구수</th><th scope=col>소요시간</th></tr></thead>\n",
       "<tbody>\n",
       "\t<tr><th scope=row>출발시간</th><td> 1.00000000 </td><td>-0.061632903</td><td>-0.03694823 </td><td> 0.326662077</td><td> 0.05725295 </td><td>-0.06864429 </td><td> 0.89298169 </td></tr>\n",
       "\t<tr><th scope=row>연휴길이</th><td>-0.06163290 </td><td> 1.000000000</td><td>-0.50776074 </td><td>-0.006256513</td><td>-0.09100884 </td><td>-0.20525382 </td><td>-0.08628695 </td></tr>\n",
       "\t<tr><th scope=row>눈비</th><td>-0.03694823 </td><td>-0.507760736</td><td> 1.00000000 </td><td>-0.216265497</td><td>-0.09872634 </td><td> 0.27555100 </td><td> 0.03710757 </td></tr>\n",
       "\t<tr><th scope=row>X1종.교통량</th><td> 0.32666208 </td><td>-0.006256513</td><td>-0.21626550 </td><td> 1.000000000</td><td> 0.71768746 </td><td>-0.33712191 </td><td> 0.10600612 </td></tr>\n",
       "\t<tr><th scope=row>X2종.교통량</th><td> 0.05725295 </td><td>-0.091008838</td><td>-0.09872634 </td><td> 0.717687458</td><td> 1.00000000 </td><td> 0.13539844 </td><td>-0.22012812 </td></tr>\n",
       "\t<tr><th scope=row>서울인구수</th><td>-0.06864429 </td><td>-0.205253821</td><td> 0.27555100 </td><td>-0.337121908</td><td> 0.13539844 </td><td> 1.00000000 </td><td>-0.01216095 </td></tr>\n",
       "\t<tr><th scope=row>소요시간</th><td> 0.89298169 </td><td>-0.086286952</td><td> 0.03710757 </td><td> 0.106006120</td><td>-0.22012812 </td><td>-0.01216095 </td><td> 1.00000000 </td></tr>\n",
       "</tbody>\n",
       "</table>\n"
      ],
      "text/latex": [
       "\\begin{tabular}{r|lllllll}\n",
       "  & 출발시간 & 연휴길이 & 눈비 & X1종.교통량 & X2종.교통량 & 서울인구수 & 소요시간\\\\\n",
       "\\hline\n",
       "\t출발시간 &  1.00000000  & -0.061632903 & -0.03694823  &  0.326662077 &  0.05725295  & -0.06864429  &  0.89298169 \\\\\n",
       "\t연휴길이 & -0.06163290  &  1.000000000 & -0.50776074  & -0.006256513 & -0.09100884  & -0.20525382  & -0.08628695 \\\\\n",
       "\t눈비 & -0.03694823  & -0.507760736 &  1.00000000  & -0.216265497 & -0.09872634  &  0.27555100  &  0.03710757 \\\\\n",
       "\tX1종.교통량 &  0.32666208  & -0.006256513 & -0.21626550  &  1.000000000 &  0.71768746  & -0.33712191  &  0.10600612 \\\\\n",
       "\tX2종.교통량 &  0.05725295  & -0.091008838 & -0.09872634  &  0.717687458 &  1.00000000  &  0.13539844  & -0.22012812 \\\\\n",
       "\t서울인구수 & -0.06864429  & -0.205253821 &  0.27555100  & -0.337121908 &  0.13539844  &  1.00000000  & -0.01216095 \\\\\n",
       "\t소요시간 &  0.89298169  & -0.086286952 &  0.03710757  &  0.106006120 & -0.22012812  & -0.01216095  &  1.00000000 \\\\\n",
       "\\end{tabular}\n"
      ],
      "text/markdown": [
       "\n",
       "| <!--/--> | 출발시간 | 연휴길이 | 눈비 | X1종.교통량 | X2종.교통량 | 서울인구수 | 소요시간 |\n",
       "|---|---|---|---|---|---|---|---|\n",
       "| 출발시간 |  1.00000000  | -0.061632903 | -0.03694823  |  0.326662077 |  0.05725295  | -0.06864429  |  0.89298169  |\n",
       "| 연휴길이 | -0.06163290  |  1.000000000 | -0.50776074  | -0.006256513 | -0.09100884  | -0.20525382  | -0.08628695  |\n",
       "| 눈비 | -0.03694823  | -0.507760736 |  1.00000000  | -0.216265497 | -0.09872634  |  0.27555100  |  0.03710757  |\n",
       "| X1종.교통량 |  0.32666208  | -0.006256513 | -0.21626550  |  1.000000000 |  0.71768746  | -0.33712191  |  0.10600612  |\n",
       "| X2종.교통량 |  0.05725295  | -0.091008838 | -0.09872634  |  0.717687458 |  1.00000000  |  0.13539844  | -0.22012812  |\n",
       "| 서울인구수 | -0.06864429  | -0.205253821 |  0.27555100  | -0.337121908 |  0.13539844  |  1.00000000  | -0.01216095  |\n",
       "| 소요시간 |  0.89298169  | -0.086286952 |  0.03710757  |  0.106006120 | -0.22012812  | -0.01216095  |  1.00000000  |\n",
       "\n"
      ],
      "text/plain": [
       "            출발시간    연휴길이     눈비        X1종.교통량  X2종.교통량\n",
       "출발시간     1.00000000 -0.061632903 -0.03694823  0.326662077  0.05725295\n",
       "연휴길이    -0.06163290  1.000000000 -0.50776074 -0.006256513 -0.09100884\n",
       "눈비        -0.03694823 -0.507760736  1.00000000 -0.216265497 -0.09872634\n",
       "X1종.교통량  0.32666208 -0.006256513 -0.21626550  1.000000000  0.71768746\n",
       "X2종.교통량  0.05725295 -0.091008838 -0.09872634  0.717687458  1.00000000\n",
       "서울인구수  -0.06864429 -0.205253821  0.27555100 -0.337121908  0.13539844\n",
       "소요시간     0.89298169 -0.086286952  0.03710757  0.106006120 -0.22012812\n",
       "            서울인구수  소요시간   \n",
       "출발시간    -0.06864429  0.89298169\n",
       "연휴길이    -0.20525382 -0.08628695\n",
       "눈비         0.27555100  0.03710757\n",
       "X1종.교통량 -0.33712191  0.10600612\n",
       "X2종.교통량  0.13539844 -0.22012812\n",
       "서울인구수   1.00000000 -0.01216095\n",
       "소요시간    -0.01216095  1.00000000"
      ]
     },
     "metadata": {},
     "output_type": "display_data"
    }
   ],
   "source": [
    "cor(sdd222)"
   ]
  },
  {
   "cell_type": "code",
   "execution_count": 264,
   "metadata": {
    "scrolled": false
   },
   "outputs": [
    {
     "name": "stdout",
     "output_type": "stream",
     "text": [
      "Start:  AIC=501.42\n",
      "소요시간 ~ 출발시간 + 연휴길이 + 눈비 + X1종.교통량 + \n",
      "    X2종.교통량 + 서울인구수\n",
      "\n",
      "              Df Sum of Sq    RSS    AIC\n",
      "- 연휴길이     1        50  15443 499.74\n",
      "- 눈비         1       236  15629 500.89\n",
      "<none>                      15393 501.42\n",
      "- X1종.교통량  1       978  16371 505.34\n",
      "- 서울인구수   1      1743  17136 509.72\n",
      "- X2종.교통량  1      6448  21841 533.01\n",
      "- 출발시간     1     85058 100451 679.50\n",
      "\n",
      "Step:  AIC=499.74\n",
      "소요시간 ~ 출발시간 + 눈비 + X1종.교통량 + X2종.교통량 + \n",
      "    서울인구수\n",
      "\n",
      "              Df Sum of Sq    RSS    AIC\n",
      "<none>                      15443 499.74\n",
      "- 눈비         1       478  15921 500.66\n",
      "- X1종.교통량  1      1022  16465 503.89\n",
      "- 서울인구수   1      1836  17279 508.52\n",
      "- X2종.교통량  1      6424  21867 531.13\n",
      "- 출발시간     1     86809 102253 679.20\n",
      "Start:  AIC=210.44\n",
      "소요시간 ~ 출발시간 + 연휴길이 + 눈비 + X1종.교통량 + \n",
      "    X2종.교통량 + 서울인구수\n",
      "\n",
      "              Df Sum of Sq     RSS    AIC\n",
      "- 연휴길이     1      53.7  6059.3 208.79\n",
      "<none>                      6005.6 210.44\n",
      "- 눈비         1     317.3  6322.9 210.45\n",
      "- 서울인구수   1     823.6  6829.2 213.45\n",
      "- X1종.교통량  1     961.3  6966.8 214.23\n",
      "- X2종.교통량  1    3565.3  9570.9 226.61\n",
      "- 출발시간     1   16424.6 22430.2 259.83\n",
      "\n",
      "Step:  AIC=208.79\n",
      "소요시간 ~ 출발시간 + 눈비 + X1종.교통량 + X2종.교통량 + \n",
      "    서울인구수\n",
      "\n",
      "              Df Sum of Sq     RSS    AIC\n",
      "- 눈비         1     268.1  6327.4 208.47\n",
      "<none>                      6059.3 208.79\n",
      "- 서울인구수   1     802.5  6861.7 211.64\n",
      "- X1종.교통량  1     917.3  6976.6 212.28\n",
      "- X2종.교통량  1    3539.2  9598.5 224.73\n",
      "- 출발시간     1   16424.1 22483.4 257.92\n",
      "\n",
      "Step:  AIC=208.47\n",
      "소요시간 ~ 출발시간 + X1종.교통량 + X2종.교통량 + \n",
      "    서울인구수\n",
      "\n",
      "              Df Sum of Sq     RSS    AIC\n",
      "<none>                      6327.4 208.47\n",
      "- 서울인구수   1     701.3  7028.7 210.57\n",
      "- X1종.교통량  1     862.3  7189.7 211.46\n",
      "- X2종.교통량  1    3545.8  9873.1 223.83\n",
      "- 출발시간     1   16966.9 23294.3 257.30\n"
     ]
    }
   ],
   "source": [
    "reduced_tr <- step(model_tr, direction = \"backward\")\n",
    "reduced_test <- step(model_test, direction = \"backward\")"
   ]
  },
  {
   "cell_type": "code",
   "execution_count": 265,
   "metadata": {},
   "outputs": [
    {
     "data": {
      "text/plain": [
       "\n",
       "Call:\n",
       "lm(formula = 소요시간 ~ 출발시간 + 눈비 + X1종.교통량 + \n",
       "    X2종.교통량 + 서울인구수, data = data.tr)\n",
       "\n",
       "Coefficients:\n",
       "    (Intercept)         출발시간         눈비TRUE      X1종.교통량  \n",
       "-288.3015088827     5.3674960855     5.0367239974     0.0000004543  \n",
       "    X2종.교통량       서울인구수  \n",
       "  -0.0000261208     0.0000351354  \n"
      ]
     },
     "metadata": {},
     "output_type": "display_data"
    },
    {
     "data": {
      "text/plain": [
       "\n",
       "Call:\n",
       "lm(formula = 소요시간 ~ 출발시간 + X1종.교통량 + \n",
       "    X2종.교통량 + 서울인구수, data = data.test)\n",
       "\n",
       "Coefficients:\n",
       "   (Intercept)        출발시간     X1종.교통량     X2종.교통량      서울인구수  \n",
       "-237.243437238     4.279755628     0.000001284    -0.000036898     0.000031324  \n"
      ]
     },
     "metadata": {},
     "output_type": "display_data"
    }
   ],
   "source": [
    "reduced_tr\n",
    "reduced_test"
   ]
  },
  {
   "cell_type": "code",
   "execution_count": 266,
   "metadata": {},
   "outputs": [
    {
     "data": {
      "text/plain": [
       "\n",
       "Call:\n",
       "lm(formula = 소요시간 ~ 출발시간 + 눈비 + X1종.교통량 + \n",
       "    X2종.교통량 + 서울인구수, data = data.tr)\n",
       "\n",
       "Residuals:\n",
       "    Min      1Q  Median      3Q     Max \n",
       "-26.871  -7.126  -1.399   7.341  24.620 \n",
       "\n",
       "Coefficients:\n",
       "                   Estimate      Std. Error t value             Pr(>|t|)    \n",
       "(Intercept) -288.3015088827  108.6586354530  -2.653              0.00942 ** \n",
       "출발시간       5.3674960855    0.2386358579  22.492 < 0.0000000000000002 ***\n",
       "눈비TRUE       5.0367239974    3.0187847705   1.668              0.09870 .  \n",
       "X1종.교통량    0.0000004543    0.0000001862   2.440              0.01663 *  \n",
       "X2종.교통량   -0.0000261208    0.0000042691  -6.119         0.0000000241 ***\n",
       "서울인구수     0.0000351354    0.0000107408   3.271              0.00152 ** \n",
       "---\n",
       "Signif. codes:  0 ‘***’ 0.001 ‘**’ 0.01 ‘*’ 0.05 ‘.’ 0.1 ‘ ’ 1\n",
       "\n",
       "Residual standard error: 13.1 on 90 degrees of freedom\n",
       "Multiple R-squared:  0.8961,\tAdjusted R-squared:  0.8903 \n",
       "F-statistic: 155.2 on 5 and 90 DF,  p-value: < 0.00000000000000022\n"
      ]
     },
     "metadata": {},
     "output_type": "display_data"
    }
   ],
   "source": [
    "summary(reduced_tr)"
   ]
  },
  {
   "cell_type": "code",
   "execution_count": 267,
   "metadata": {},
   "outputs": [
    {
     "data": {
      "text/plain": [
       "\n",
       "Call:\n",
       "lm(formula = 소요시간 ~ 출발시간 + X1종.교통량 + \n",
       "    X2종.교통량 + 서울인구수, data = data.test)\n",
       "\n",
       "Residuals:\n",
       "     Min       1Q   Median       3Q      Max \n",
       "-25.0188  -8.8223   0.6443   7.4918  25.6900 \n",
       "\n",
       "Coefficients:\n",
       "                   Estimate      Std. Error t value        Pr(>|t|)    \n",
       "(Intercept) -237.2434372379  162.6973512985  -1.458        0.153965    \n",
       "출발시간       4.2797556276    0.4482187552   9.548 0.0000000000376 ***\n",
       "X1종.교통량    0.0000012842    0.0000005966   2.153        0.038536 *  \n",
       "X2종.교통량   -0.0000368981    0.0000084532  -4.365        0.000112 ***\n",
       "서울인구수     0.0000313238    0.0000161357   1.941        0.060551 .  \n",
       "---\n",
       "Signif. codes:  0 ‘***’ 0.001 ‘**’ 0.01 ‘*’ 0.05 ‘.’ 0.1 ‘ ’ 1\n",
       "\n",
       "Residual standard error: 13.64 on 34 degrees of freedom\n",
       "Multiple R-squared:  0.8891,\tAdjusted R-squared:  0.8761 \n",
       "F-statistic: 68.15 on 4 and 34 DF,  p-value: 0.0000000000000009341\n"
      ]
     },
     "metadata": {},
     "output_type": "display_data"
    }
   ],
   "source": [
    "summary(reduced_test)"
   ]
  },
  {
   "cell_type": "code",
   "execution_count": 269,
   "metadata": {},
   "outputs": [
    {
     "name": "stdout",
     "output_type": "stream",
     "text": [
      "Start:  AIC=505.29\n",
      "소요시간 ~ 출발시간 + 연휴길이 + 눈비 + X1종.교통량 + \n",
      "    X2종.교통량 + 서울인구수\n",
      "\n",
      "              Df Sum of Sq    RSS    AIC\n",
      "- 눈비         1       227  16254 504.64\n",
      "<none>                      16026 505.29\n",
      "- 연휴길이     1       602  16628 506.83\n",
      "- X1종.교통량  1       997  17023 509.09\n",
      "- 서울인구수   1      1663  17689 512.77\n",
      "- X2종.교통량  1      7634  23660 540.69\n",
      "- 출발시간     1     89384 105410 684.12\n",
      "\n",
      "Step:  AIC=504.64\n",
      "소요시간 ~ 출발시간 + 연휴길이 + X1종.교통량 + \n",
      "    X2종.교통량 + 서울인구수\n",
      "\n",
      "              Df Sum of Sq    RSS    AIC\n",
      "<none>                      16254 504.64\n",
      "- 연휴길이     1       383  16637 504.88\n",
      "- X1종.교통량  1       991  17244 508.33\n",
      "- 서울인구수   1      1501  17755 511.13\n",
      "- X2종.교통량  1      7413  23667 538.72\n",
      "- 출발시간     1     90053 106306 682.93\n"
     ]
    }
   ],
   "source": [
    "samp <- createDataPartition(sdd222$출발시간, p=0.7, list=F)\n",
    "data.tr <- sdd222[samp,]\n",
    "data.test <- sdd222[-samp,]\n",
    "\n",
    "x <- subset(data.test, select = -소요시간)\n",
    "y <- data.test$소요시간\n",
    "\n",
    "x.tr <- subset(data.tr, select = -소요시간)\n",
    "y.tr <- data.tr$소요시간\n",
    "\n",
    "model <- lm(소요시간 ~ . , data = data.tr)\n",
    "model <- step(model, direction = 'backward')\n",
    "\n",
    "pred <- predict(model, x)\n",
    "pred.tr <- predict(model, x.tr)\n"
   ]
  },
  {
   "cell_type": "code",
   "execution_count": 270,
   "metadata": {},
   "outputs": [
    {
     "data": {
      "text/plain": [
       "\n",
       "Call:\n",
       "lm(formula = 소요시간 ~ 출발시간 + 연휴길이 + X1종.교통량 + \n",
       "    X2종.교통량 + 서울인구수, data = data.tr)\n",
       "\n",
       "Residuals:\n",
       "    Min      1Q  Median      3Q     Max \n",
       "-27.952  -9.195  -1.262   8.547  22.891 \n",
       "\n",
       "Coefficients:\n",
       "                   Estimate      Std. Error t value             Pr(>|t|)    \n",
       "(Intercept) -210.2665984868  106.1018845702  -1.982              0.05056 .  \n",
       "출발시간       5.0952355561    0.2281750299  22.330 < 0.0000000000000002 ***\n",
       "연휴길이      -3.4970546327    2.4003817541  -1.457              0.14863    \n",
       "X1종.교통량    0.0000004948    0.0000002112   2.342              0.02137 *  \n",
       "X2종.교통량   -0.0000296046    0.0000046207  -6.407        0.00000000664 ***\n",
       "서울인구수     0.0000297192    0.0000103077   2.883              0.00492 ** \n",
       "---\n",
       "Signif. codes:  0 ‘***’ 0.001 ‘**’ 0.01 ‘*’ 0.05 ‘.’ 0.1 ‘ ’ 1\n",
       "\n",
       "Residual standard error: 13.44 on 90 degrees of freedom\n",
       "Multiple R-squared:  0.8948,\tAdjusted R-squared:  0.889 \n",
       "F-statistic: 153.1 on 5 and 90 DF,  p-value: < 0.00000000000000022\n"
      ]
     },
     "metadata": {},
     "output_type": "display_data"
    }
   ],
   "source": [
    "summary(model)"
   ]
  },
  {
   "cell_type": "markdown",
   "metadata": {},
   "source": [
    "# 진짜 머신러닝"
   ]
  },
  {
   "cell_type": "code",
   "execution_count": 373,
   "metadata": {},
   "outputs": [
    {
     "data": {
      "text/html": [
       "135"
      ],
      "text/latex": [
       "135"
      ],
      "text/markdown": [
       "135"
      ],
      "text/plain": [
       "[1] 135"
      ]
     },
     "metadata": {},
     "output_type": "display_data"
    },
    {
     "data": {
      "text/plain": [
       "\n",
       " A  B  C  D \n",
       "35 36 36 28 "
      ]
     },
     "metadata": {},
     "output_type": "display_data"
    }
   ],
   "source": [
    "sdd22 <- read.csv(\"../Data_Project/AI프로젝트 - D-2-2.csv\")\n",
    "sdd22 <- subset(sdd22, 소요시간 <= 220 & !(출발시간 == 0 & 소요시간 == 97))\n",
    "nrow(sdd22)\n",
    "table(sdd22$소요시간범위)"
   ]
  },
  {
   "cell_type": "code",
   "execution_count": 374,
   "metadata": {
    "scrolled": true
   },
   "outputs": [
    {
     "data": {
      "text/html": [
       "<table>\n",
       "<thead><tr><th scope=col>소요시간범위</th><th scope=col>출발시간</th><th scope=col>연휴길이</th><th scope=col>눈비</th><th scope=col>X1종.교통량</th><th scope=col>X2종.교통량</th><th scope=col>서울인구수</th><th scope=col>소요시간</th></tr></thead>\n",
       "<tbody>\n",
       "\t<tr><td>B       </td><td>0       </td><td>3       </td><td>TRUE    </td><td>3793419 </td><td>229419  </td><td>10388055</td><td>91      </td></tr>\n",
       "\t<tr><td>B       </td><td>1       </td><td>3       </td><td>TRUE    </td><td>2514790 </td><td>203047  </td><td>10388055</td><td>88      </td></tr>\n",
       "\t<tr><td>B       </td><td>2       </td><td>3       </td><td>TRUE    </td><td>1846564 </td><td>235137  </td><td>10388055</td><td>88      </td></tr>\n",
       "\t<tr><td>A       </td><td>3       </td><td>3       </td><td>TRUE    </td><td>1632415 </td><td>305994  </td><td>10388055</td><td>87      </td></tr>\n",
       "\t<tr><td>B       </td><td>4       </td><td>3       </td><td>TRUE    </td><td>2247045 </td><td>444384  </td><td>10388055</td><td>91      </td></tr>\n",
       "\t<tr><td>B       </td><td>5       </td><td>3       </td><td>TRUE    </td><td>5186824 </td><td>774325  </td><td>10388055</td><td>97      </td></tr>\n",
       "</tbody>\n",
       "</table>\n"
      ],
      "text/latex": [
       "\\begin{tabular}{r|llllllll}\n",
       " 소요시간범위 & 출발시간 & 연휴길이 & 눈비 & X1종.교통량 & X2종.교통량 & 서울인구수 & 소요시간\\\\\n",
       "\\hline\n",
       "\t B        & 0        & 3        & TRUE     & 3793419  & 229419   & 10388055 & 91      \\\\\n",
       "\t B        & 1        & 3        & TRUE     & 2514790  & 203047   & 10388055 & 88      \\\\\n",
       "\t B        & 2        & 3        & TRUE     & 1846564  & 235137   & 10388055 & 88      \\\\\n",
       "\t A        & 3        & 3        & TRUE     & 1632415  & 305994   & 10388055 & 87      \\\\\n",
       "\t B        & 4        & 3        & TRUE     & 2247045  & 444384   & 10388055 & 91      \\\\\n",
       "\t B        & 5        & 3        & TRUE     & 5186824  & 774325   & 10388055 & 97      \\\\\n",
       "\\end{tabular}\n"
      ],
      "text/markdown": [
       "\n",
       "| 소요시간범위 | 출발시간 | 연휴길이 | 눈비 | X1종.교통량 | X2종.교통량 | 서울인구수 | 소요시간 |\n",
       "|---|---|---|---|---|---|---|---|\n",
       "| B        | 0        | 3        | TRUE     | 3793419  | 229419   | 10388055 | 91       |\n",
       "| B        | 1        | 3        | TRUE     | 2514790  | 203047   | 10388055 | 88       |\n",
       "| B        | 2        | 3        | TRUE     | 1846564  | 235137   | 10388055 | 88       |\n",
       "| A        | 3        | 3        | TRUE     | 1632415  | 305994   | 10388055 | 87       |\n",
       "| B        | 4        | 3        | TRUE     | 2247045  | 444384   | 10388055 | 91       |\n",
       "| B        | 5        | 3        | TRUE     | 5186824  | 774325   | 10388055 | 97       |\n",
       "\n"
      ],
      "text/plain": [
       "  소요시간범위 출발시간 연휴길이 눈비 X1종.교통량 X2종.교통량 서울인구수\n",
       "1 B            0        3        TRUE 3793419     229419      10388055  \n",
       "2 B            1        3        TRUE 2514790     203047      10388055  \n",
       "3 B            2        3        TRUE 1846564     235137      10388055  \n",
       "4 A            3        3        TRUE 1632415     305994      10388055  \n",
       "5 B            4        3        TRUE 2247045     444384      10388055  \n",
       "6 B            5        3        TRUE 5186824     774325      10388055  \n",
       "  소요시간\n",
       "1 91      \n",
       "2 88      \n",
       "3 88      \n",
       "4 87      \n",
       "5 91      \n",
       "6 97      "
      ]
     },
     "metadata": {},
     "output_type": "display_data"
    }
   ],
   "source": [
    "\n",
    "\n",
    "sdd22 <- sdd22[,-4]\n",
    "head(sdd22)"
   ]
  },
  {
   "cell_type": "code",
   "execution_count": 364,
   "metadata": {},
   "outputs": [
    {
     "name": "stdout",
     "output_type": "stream",
     "text": [
      "Start:  AIC=708.04\n",
      "소요시간 ~ 출발시간 + 연휴길이 + 눈비 + X1종.교통량 + \n",
      "    X2종.교통량 + 서울인구수\n",
      "\n",
      "              Df Sum of Sq    RSS    AIC\n",
      "- 눈비         1         4  23074 706.06\n",
      "- 연휴길이     1       184  23254 707.11\n",
      "<none>                      23070 708.04\n",
      "- X1종.교통량  1      1515  24585 714.63\n",
      "- 서울인구수   1      2661  25731 720.77\n",
      "- X2종.교통량  1     10301  33371 755.87\n",
      "- 출발시간     1    119331 142401 951.75\n",
      "\n",
      "Step:  AIC=706.06\n",
      "소요시간 ~ 출발시간 + 연휴길이 + X1종.교통량 + \n",
      "    X2종.교통량 + 서울인구수\n",
      "\n",
      "              Df Sum of Sq    RSS    AIC\n",
      "- 연휴길이     1       281  23355 705.69\n",
      "<none>                      23074 706.06\n",
      "- X1종.교통량  1      1512  24585 712.63\n",
      "- 서울인구수   1      2743  25817 719.23\n",
      "- X2종.교통량  1     10373  33446 754.18\n",
      "- 출발시간     1    119368 142442 949.79\n",
      "\n",
      "Step:  AIC=705.69\n",
      "소요시간 ~ 출발시간 + X1종.교통량 + X2종.교통량 + \n",
      "    서울인구수\n",
      "\n",
      "              Df Sum of Sq    RSS    AIC\n",
      "<none>                      23355 705.69\n",
      "- X1종.교통량  1      1535  24890 712.29\n",
      "- 서울인구수   1      3122  26477 720.63\n",
      "- X2종.교통량  1     10316  33670 753.08\n",
      "- 출발시간     1    120417 143772 949.05\n"
     ]
    },
    {
     "data": {
      "text/plain": [
       "\n",
       "Call:\n",
       "lm(formula = 소요시간 ~ 출발시간 + X1종.교통량 + \n",
       "    X2종.교통량 + 서울인구수, data = sdd22[, -1])\n",
       "\n",
       "Residuals:\n",
       "    Min      1Q  Median      3Q     Max \n",
       "-27.812  -8.507  -1.409   8.735  26.505 \n",
       "\n",
       "Coefficients:\n",
       "                   Estimate      Std. Error t value             Pr(>|t|)    \n",
       "(Intercept) -295.7972648266   88.5699667097  -3.340              0.00109 ** \n",
       "출발시간       5.1242125100    0.1979238524  25.890 < 0.0000000000000002 ***\n",
       "X1종.교통량    0.0000004903    0.0000001677   2.923              0.00409 ** \n",
       "X2종.교통량   -0.0000284931    0.0000037602  -7.578     0.00000000000585 ***\n",
       "서울인구수     0.0000364797    0.0000087507   4.169     0.00005552664500 ***\n",
       "---\n",
       "Signif. codes:  0 ‘***’ 0.001 ‘**’ 0.01 ‘*’ 0.05 ‘.’ 0.1 ‘ ’ 1\n",
       "\n",
       "Residual standard error: 13.4 on 130 degrees of freedom\n",
       "Multiple R-squared:  0.8865,\tAdjusted R-squared:  0.883 \n",
       "F-statistic: 253.8 on 4 and 130 DF,  p-value: < 0.00000000000000022\n"
      ]
     },
     "metadata": {},
     "output_type": "display_data"
    },
    {
     "data": {
      "text/plain": [
       "\n",
       "Call:\n",
       "lm(formula = 소요시간 ~ 출발시간 + X1종.교통량 + \n",
       "    X2종.교통량 + 서울인구수, data = sdd22[, -1])\n",
       "\n",
       "Coefficients:\n",
       "    (Intercept)         출발시간      X1종.교통량      X2종.교통량  \n",
       "-295.7972648266     5.1242125100     0.0000004903    -0.0000284931  \n",
       "     서울인구수  \n",
       "   0.0000364797  \n"
      ]
     },
     "metadata": {},
     "output_type": "display_data"
    }
   ],
   "source": [
    "# 다중 회귀\n",
    "model <- lm(소요시간 ~ ., data = sdd22[,-1])       # 전체 컬럼으로 모델 생성, 소요시간범위,날짜 컬럼은 제거해야함@\n",
    "reduced <- step(model, direction = \"backward\")   # 예측력을 높이기 위해 상대적으로 기여도가 낮은 변수를 제거\n",
    "summary(reduced)\n",
    "reduced                                          # 얘가 알려주는 컬럼으로 분석하면 된다\n"
   ]
  },
  {
   "cell_type": "code",
   "execution_count": 365,
   "metadata": {},
   "outputs": [
    {
     "data": {
      "text/html": [
       "<table>\n",
       "<thead><tr><th scope=col>소요시간범위</th><th scope=col>출발시간</th><th scope=col>X1종.교통량</th><th scope=col>X2종.교통량</th><th scope=col>서울인구수</th><th scope=col>소요시간</th></tr></thead>\n",
       "<tbody>\n",
       "\t<tr><td>B       </td><td>0       </td><td>3793419 </td><td>229419  </td><td>10388055</td><td>91      </td></tr>\n",
       "\t<tr><td>B       </td><td>1       </td><td>2514790 </td><td>203047  </td><td>10388055</td><td>88      </td></tr>\n",
       "\t<tr><td>B       </td><td>2       </td><td>1846564 </td><td>235137  </td><td>10388055</td><td>88      </td></tr>\n",
       "\t<tr><td>A       </td><td>3       </td><td>1632415 </td><td>305994  </td><td>10388055</td><td>87      </td></tr>\n",
       "\t<tr><td>B       </td><td>4       </td><td>2247045 </td><td>444384  </td><td>10388055</td><td>91      </td></tr>\n",
       "\t<tr><td>B       </td><td>5       </td><td>5186824 </td><td>774325  </td><td>10388055</td><td>97      </td></tr>\n",
       "</tbody>\n",
       "</table>\n"
      ],
      "text/latex": [
       "\\begin{tabular}{r|llllll}\n",
       " 소요시간범위 & 출발시간 & X1종.교통량 & X2종.교통량 & 서울인구수 & 소요시간\\\\\n",
       "\\hline\n",
       "\t B        & 0        & 3793419  & 229419   & 10388055 & 91      \\\\\n",
       "\t B        & 1        & 2514790  & 203047   & 10388055 & 88      \\\\\n",
       "\t B        & 2        & 1846564  & 235137   & 10388055 & 88      \\\\\n",
       "\t A        & 3        & 1632415  & 305994   & 10388055 & 87      \\\\\n",
       "\t B        & 4        & 2247045  & 444384   & 10388055 & 91      \\\\\n",
       "\t B        & 5        & 5186824  & 774325   & 10388055 & 97      \\\\\n",
       "\\end{tabular}\n"
      ],
      "text/markdown": [
       "\n",
       "| 소요시간범위 | 출발시간 | X1종.교통량 | X2종.교통량 | 서울인구수 | 소요시간 |\n",
       "|---|---|---|---|---|---|\n",
       "| B        | 0        | 3793419  | 229419   | 10388055 | 91       |\n",
       "| B        | 1        | 2514790  | 203047   | 10388055 | 88       |\n",
       "| B        | 2        | 1846564  | 235137   | 10388055 | 88       |\n",
       "| A        | 3        | 1632415  | 305994   | 10388055 | 87       |\n",
       "| B        | 4        | 2247045  | 444384   | 10388055 | 91       |\n",
       "| B        | 5        | 5186824  | 774325   | 10388055 | 97       |\n",
       "\n"
      ],
      "text/plain": [
       "  소요시간범위 출발시간 X1종.교통량 X2종.교통량 서울인구수 소요시간\n",
       "1 B            0        3793419     229419      10388055   91      \n",
       "2 B            1        2514790     203047      10388055   88      \n",
       "3 B            2        1846564     235137      10388055   88      \n",
       "4 A            3        1632415     305994      10388055   87      \n",
       "5 B            4        2247045     444384      10388055   91      \n",
       "6 B            5        5186824     774325      10388055   97      "
      ]
     },
     "metadata": {},
     "output_type": "display_data"
    }
   ],
   "source": [
    "day2amL <- sdd22[,c(1:2,5:8)]                     # 원 데이터 day1am에서 reduced가 알려준 컬럼만 추리기\n",
    "head(day2amL)"
   ]
  },
  {
   "cell_type": "code",
   "execution_count": 366,
   "metadata": {},
   "outputs": [
    {
     "data": {
      "text/html": [
       "<table>\n",
       "<thead><tr><th scope=col>출발시간</th><th scope=col>X1종.교통량</th><th scope=col>X2종.교통량</th><th scope=col>서울인구수</th><th scope=col>소요시간</th></tr></thead>\n",
       "<tbody>\n",
       "\t<tr><td>0       </td><td>3793419 </td><td>229419  </td><td>10388055</td><td>91      </td></tr>\n",
       "\t<tr><td>1       </td><td>2514790 </td><td>203047  </td><td>10388055</td><td>88      </td></tr>\n",
       "\t<tr><td>2       </td><td>1846564 </td><td>235137  </td><td>10388055</td><td>88      </td></tr>\n",
       "\t<tr><td>3       </td><td>1632415 </td><td>305994  </td><td>10388055</td><td>87      </td></tr>\n",
       "\t<tr><td>4       </td><td>2247045 </td><td>444384  </td><td>10388055</td><td>91      </td></tr>\n",
       "\t<tr><td>5       </td><td>5186824 </td><td>774325  </td><td>10388055</td><td>97      </td></tr>\n",
       "</tbody>\n",
       "</table>\n"
      ],
      "text/latex": [
       "\\begin{tabular}{r|lllll}\n",
       " 출발시간 & X1종.교통량 & X2종.교통량 & 서울인구수 & 소요시간\\\\\n",
       "\\hline\n",
       "\t 0        & 3793419  & 229419   & 10388055 & 91      \\\\\n",
       "\t 1        & 2514790  & 203047   & 10388055 & 88      \\\\\n",
       "\t 2        & 1846564  & 235137   & 10388055 & 88      \\\\\n",
       "\t 3        & 1632415  & 305994   & 10388055 & 87      \\\\\n",
       "\t 4        & 2247045  & 444384   & 10388055 & 91      \\\\\n",
       "\t 5        & 5186824  & 774325   & 10388055 & 97      \\\\\n",
       "\\end{tabular}\n"
      ],
      "text/markdown": [
       "\n",
       "| 출발시간 | X1종.교통량 | X2종.교통량 | 서울인구수 | 소요시간 |\n",
       "|---|---|---|---|---|\n",
       "| 0        | 3793419  | 229419   | 10388055 | 91       |\n",
       "| 1        | 2514790  | 203047   | 10388055 | 88       |\n",
       "| 2        | 1846564  | 235137   | 10388055 | 88       |\n",
       "| 3        | 1632415  | 305994   | 10388055 | 87       |\n",
       "| 4        | 2247045  | 444384   | 10388055 | 91       |\n",
       "| 5        | 5186824  | 774325   | 10388055 | 97       |\n",
       "\n"
      ],
      "text/plain": [
       "  출발시간 X1종.교통량 X2종.교통량 서울인구수 소요시간\n",
       "1 0        3793419     229419      10388055   91      \n",
       "2 1        2514790     203047      10388055   88      \n",
       "3 2        1846564     235137      10388055   88      \n",
       "4 3        1632415     305994      10388055   87      \n",
       "5 4        2247045     444384      10388055   91      \n",
       "6 5        5186824     774325      10388055   97      "
      ]
     },
     "metadata": {},
     "output_type": "display_data"
    },
    {
     "data": {
      "text/html": [
       "<table>\n",
       "<thead><tr><th></th><th scope=col>출발시간</th><th scope=col>X1종.교통량</th><th scope=col>X2종.교통량</th><th scope=col>서울인구수</th><th scope=col>소요시간</th></tr></thead>\n",
       "<tbody>\n",
       "\t<tr><th scope=row>8</th><td> 7      </td><td>15984740</td><td>1349972 </td><td>10388055</td><td> 89     </td></tr>\n",
       "\t<tr><th scope=row>9</th><td> 8      </td><td>17462577</td><td>1624836 </td><td>10388055</td><td> 90     </td></tr>\n",
       "\t<tr><th scope=row>28</th><td> 3      </td><td> 1560879</td><td> 263359 </td><td>10369593</td><td> 83     </td></tr>\n",
       "\t<tr><th scope=row>32</th><td> 7      </td><td>15221692</td><td>1225733 </td><td>10369593</td><td> 84     </td></tr>\n",
       "\t<tr><th scope=row>38</th><td>13      </td><td>20755272</td><td>1433045 </td><td>10369593</td><td>113     </td></tr>\n",
       "\t<tr><th scope=row>40</th><td>15      </td><td>22353936</td><td>1379857 </td><td>10369593</td><td>139     </td></tr>\n",
       "</tbody>\n",
       "</table>\n"
      ],
      "text/latex": [
       "\\begin{tabular}{r|lllll}\n",
       "  & 출발시간 & X1종.교통량 & X2종.교통량 & 서울인구수 & 소요시간\\\\\n",
       "\\hline\n",
       "\t8 &  7       & 15984740 & 1349972  & 10388055 &  89     \\\\\n",
       "\t9 &  8       & 17462577 & 1624836  & 10388055 &  90     \\\\\n",
       "\t28 &  3       &  1560879 &  263359  & 10369593 &  83     \\\\\n",
       "\t32 &  7       & 15221692 & 1225733  & 10369593 &  84     \\\\\n",
       "\t38 & 13       & 20755272 & 1433045  & 10369593 & 113     \\\\\n",
       "\t40 & 15       & 22353936 & 1379857  & 10369593 & 139     \\\\\n",
       "\\end{tabular}\n"
      ],
      "text/markdown": [
       "\n",
       "| <!--/--> | 출발시간 | X1종.교통량 | X2종.교통량 | 서울인구수 | 소요시간 |\n",
       "|---|---|---|---|---|---|\n",
       "| 8 |  7       | 15984740 | 1349972  | 10388055 |  89      |\n",
       "| 9 |  8       | 17462577 | 1624836  | 10388055 |  90      |\n",
       "| 28 |  3       |  1560879 |  263359  | 10369593 |  83      |\n",
       "| 32 |  7       | 15221692 | 1225733  | 10369593 |  84      |\n",
       "| 38 | 13       | 20755272 | 1433045  | 10369593 | 113      |\n",
       "| 40 | 15       | 22353936 | 1379857  | 10369593 | 139      |\n",
       "\n"
      ],
      "text/plain": [
       "   출발시간 X1종.교통량 X2종.교통량 서울인구수 소요시간\n",
       "8   7       15984740    1349972     10388055    89     \n",
       "9   8       17462577    1624836     10388055    90     \n",
       "28  3        1560879     263359     10369593    83     \n",
       "32  7       15221692    1225733     10369593    84     \n",
       "38 13       20755272    1433045     10369593   113     \n",
       "40 15       22353936    1379857     10369593   139     "
      ]
     },
     "metadata": {},
     "output_type": "display_data"
    }
   ],
   "source": [
    "#---\n",
    "\n",
    "# 학습시키고 예측하기\n",
    "samp <- createDataPartition(day2amL$소요시간범위, p=0.7, list=F) # 컬럼 추린 데이터로 샘플링\n",
    "data.tr <- day2amL[samp,]\n",
    "data.tr<-data.tr[,-1]\n",
    "head(data.tr)\n",
    "data.test <- day2amL[-samp,]\n",
    "data.test<-data.test[,-1]\n",
    "head(data.test)"
   ]
  },
  {
   "cell_type": "code",
   "execution_count": 367,
   "metadata": {},
   "outputs": [
    {
     "data": {
      "text/html": [
       "<table>\n",
       "<thead><tr><th></th><th scope=col>predicted</th><th scope=col>y_test</th></tr></thead>\n",
       "<tbody>\n",
       "\t<tr><th scope=row>8</th><td> 88.31950</td><td> 89      </td></tr>\n",
       "\t<tr><th scope=row>9</th><td> 85.45914</td><td> 90      </td></tr>\n",
       "\t<tr><th scope=row>28</th><td> 92.53331</td><td> 83      </td></tr>\n",
       "\t<tr><th scope=row>32</th><td> 90.93312</td><td> 84      </td></tr>\n",
       "\t<tr><th scope=row>38</th><td>118.60190</td><td>113      </td></tr>\n",
       "\t<tr><th scope=row>40</th><td>131.65264</td><td>139      </td></tr>\n",
       "\t<tr><th scope=row>41</th><td>141.53326</td><td>142      </td></tr>\n",
       "\t<tr><th scope=row>53</th><td> 92.67134</td><td> 82      </td></tr>\n",
       "\t<tr><th scope=row>54</th><td> 91.26546</td><td> 83      </td></tr>\n",
       "\t<tr><th scope=row>56</th><td> 92.38019</td><td> 96      </td></tr>\n",
       "\t<tr><th scope=row>58</th><td> 92.28133</td><td> 86      </td></tr>\n",
       "\t<tr><th scope=row>64</th><td>134.60827</td><td>139      </td></tr>\n",
       "\t<tr><th scope=row>66</th><td>153.46567</td><td>167      </td></tr>\n",
       "\t<tr><th scope=row>68</th><td>172.96138</td><td>187      </td></tr>\n",
       "\t<tr><th scope=row>74</th><td> 76.87551</td><td> 89      </td></tr>\n",
       "\t<tr><th scope=row>75</th><td> 81.53418</td><td> 91      </td></tr>\n",
       "\t<tr><th scope=row>76</th><td> 85.91875</td><td> 94      </td></tr>\n",
       "\t<tr><th scope=row>77</th><td> 90.11983</td><td> 93      </td></tr>\n",
       "\t<tr><th scope=row>81</th><td>101.99233</td><td> 83      </td></tr>\n",
       "\t<tr><th scope=row>83</th><td>111.47897</td><td> 92      </td></tr>\n",
       "\t<tr><th scope=row>84</th><td>118.56698</td><td>104      </td></tr>\n",
       "\t<tr><th scope=row>86</th><td>130.16739</td><td>111      </td></tr>\n",
       "\t<tr><th scope=row>88</th><td>141.78974</td><td>139      </td></tr>\n",
       "\t<tr><th scope=row>89</th><td>148.88433</td><td>139      </td></tr>\n",
       "\t<tr><th scope=row>91</th><td>164.58104</td><td>183      </td></tr>\n",
       "\t<tr><th scope=row>93</th><td>175.96942</td><td>185      </td></tr>\n",
       "\t<tr><th scope=row>96</th><td>190.20050</td><td>207      </td></tr>\n",
       "\t<tr><th scope=row>104</th><td> 96.36765</td><td> 83      </td></tr>\n",
       "\t<tr><th scope=row>109</th><td>123.64724</td><td>103      </td></tr>\n",
       "\t<tr><th scope=row>116</th><td>167.19310</td><td>170      </td></tr>\n",
       "\t<tr><th scope=row>117</th><td>172.56388</td><td>160      </td></tr>\n",
       "\t<tr><th scope=row>121</th><td> 45.28768</td><td> 77      </td></tr>\n",
       "\t<tr><th scope=row>124</th><td> 60.51855</td><td> 87      </td></tr>\n",
       "\t<tr><th scope=row>125</th><td> 61.20748</td><td> 87      </td></tr>\n",
       "\t<tr><th scope=row>126</th><td> 61.60971</td><td> 89      </td></tr>\n",
       "\t<tr><th scope=row>131</th><td> 83.52113</td><td> 93      </td></tr>\n",
       "\t<tr><th scope=row>133</th><td>106.31074</td><td>104      </td></tr>\n",
       "\t<tr><th scope=row>140</th><td>164.05439</td><td>162      </td></tr>\n",
       "</tbody>\n",
       "</table>\n"
      ],
      "text/latex": [
       "\\begin{tabular}{r|ll}\n",
       "  & predicted & y\\_test\\\\\n",
       "\\hline\n",
       "\t8 &  88.31950 &  89      \\\\\n",
       "\t9 &  85.45914 &  90      \\\\\n",
       "\t28 &  92.53331 &  83      \\\\\n",
       "\t32 &  90.93312 &  84      \\\\\n",
       "\t38 & 118.60190 & 113      \\\\\n",
       "\t40 & 131.65264 & 139      \\\\\n",
       "\t41 & 141.53326 & 142      \\\\\n",
       "\t53 &  92.67134 &  82      \\\\\n",
       "\t54 &  91.26546 &  83      \\\\\n",
       "\t56 &  92.38019 &  96      \\\\\n",
       "\t58 &  92.28133 &  86      \\\\\n",
       "\t64 & 134.60827 & 139      \\\\\n",
       "\t66 & 153.46567 & 167      \\\\\n",
       "\t68 & 172.96138 & 187      \\\\\n",
       "\t74 &  76.87551 &  89      \\\\\n",
       "\t75 &  81.53418 &  91      \\\\\n",
       "\t76 &  85.91875 &  94      \\\\\n",
       "\t77 &  90.11983 &  93      \\\\\n",
       "\t81 & 101.99233 &  83      \\\\\n",
       "\t83 & 111.47897 &  92      \\\\\n",
       "\t84 & 118.56698 & 104      \\\\\n",
       "\t86 & 130.16739 & 111      \\\\\n",
       "\t88 & 141.78974 & 139      \\\\\n",
       "\t89 & 148.88433 & 139      \\\\\n",
       "\t91 & 164.58104 & 183      \\\\\n",
       "\t93 & 175.96942 & 185      \\\\\n",
       "\t96 & 190.20050 & 207      \\\\\n",
       "\t104 &  96.36765 &  83      \\\\\n",
       "\t109 & 123.64724 & 103      \\\\\n",
       "\t116 & 167.19310 & 170      \\\\\n",
       "\t117 & 172.56388 & 160      \\\\\n",
       "\t121 &  45.28768 &  77      \\\\\n",
       "\t124 &  60.51855 &  87      \\\\\n",
       "\t125 &  61.20748 &  87      \\\\\n",
       "\t126 &  61.60971 &  89      \\\\\n",
       "\t131 &  83.52113 &  93      \\\\\n",
       "\t133 & 106.31074 & 104      \\\\\n",
       "\t140 & 164.05439 & 162      \\\\\n",
       "\\end{tabular}\n"
      ],
      "text/markdown": [
       "\n",
       "| <!--/--> | predicted | y_test |\n",
       "|---|---|---|\n",
       "| 8 |  88.31950 |  89       |\n",
       "| 9 |  85.45914 |  90       |\n",
       "| 28 |  92.53331 |  83       |\n",
       "| 32 |  90.93312 |  84       |\n",
       "| 38 | 118.60190 | 113       |\n",
       "| 40 | 131.65264 | 139       |\n",
       "| 41 | 141.53326 | 142       |\n",
       "| 53 |  92.67134 |  82       |\n",
       "| 54 |  91.26546 |  83       |\n",
       "| 56 |  92.38019 |  96       |\n",
       "| 58 |  92.28133 |  86       |\n",
       "| 64 | 134.60827 | 139       |\n",
       "| 66 | 153.46567 | 167       |\n",
       "| 68 | 172.96138 | 187       |\n",
       "| 74 |  76.87551 |  89       |\n",
       "| 75 |  81.53418 |  91       |\n",
       "| 76 |  85.91875 |  94       |\n",
       "| 77 |  90.11983 |  93       |\n",
       "| 81 | 101.99233 |  83       |\n",
       "| 83 | 111.47897 |  92       |\n",
       "| 84 | 118.56698 | 104       |\n",
       "| 86 | 130.16739 | 111       |\n",
       "| 88 | 141.78974 | 139       |\n",
       "| 89 | 148.88433 | 139       |\n",
       "| 91 | 164.58104 | 183       |\n",
       "| 93 | 175.96942 | 185       |\n",
       "| 96 | 190.20050 | 207       |\n",
       "| 104 |  96.36765 |  83       |\n",
       "| 109 | 123.64724 | 103       |\n",
       "| 116 | 167.19310 | 170       |\n",
       "| 117 | 172.56388 | 160       |\n",
       "| 121 |  45.28768 |  77       |\n",
       "| 124 |  60.51855 |  87       |\n",
       "| 125 |  61.20748 |  87       |\n",
       "| 126 |  61.60971 |  89       |\n",
       "| 131 |  83.52113 |  93       |\n",
       "| 133 | 106.31074 | 104       |\n",
       "| 140 | 164.05439 | 162       |\n",
       "\n"
      ],
      "text/plain": [
       "    predicted y_test\n",
       "8    88.31950  89   \n",
       "9    85.45914  90   \n",
       "28   92.53331  83   \n",
       "32   90.93312  84   \n",
       "38  118.60190 113   \n",
       "40  131.65264 139   \n",
       "41  141.53326 142   \n",
       "53   92.67134  82   \n",
       "54   91.26546  83   \n",
       "56   92.38019  96   \n",
       "58   92.28133  86   \n",
       "64  134.60827 139   \n",
       "66  153.46567 167   \n",
       "68  172.96138 187   \n",
       "74   76.87551  89   \n",
       "75   81.53418  91   \n",
       "76   85.91875  94   \n",
       "77   90.11983  93   \n",
       "81  101.99233  83   \n",
       "83  111.47897  92   \n",
       "84  118.56698 104   \n",
       "86  130.16739 111   \n",
       "88  141.78974 139   \n",
       "89  148.88433 139   \n",
       "91  164.58104 183   \n",
       "93  175.96942 185   \n",
       "96  190.20050 207   \n",
       "104  96.36765  83   \n",
       "109 123.64724 103   \n",
       "116 167.19310 170   \n",
       "117 172.56388 160   \n",
       "121  45.28768  77   \n",
       "124  60.51855  87   \n",
       "125  61.20748  87   \n",
       "126  61.60971  89   \n",
       "131  83.52113  93   \n",
       "133 106.31074 104   \n",
       "140 164.05439 162   "
      ]
     },
     "metadata": {},
     "output_type": "display_data"
    },
    {
     "data": {
      "text/plain": [
       "\n",
       "Call:\n",
       "lm(formula = 소요시간 ~ ., data = data.tr)\n",
       "\n",
       "Residuals:\n",
       "    Min      1Q  Median      3Q     Max \n",
       "-26.010  -7.477  -2.061  10.078  26.941 \n",
       "\n",
       "Coefficients:\n",
       "                   Estimate      Std. Error t value             Pr(>|t|)    \n",
       "(Intercept) -432.0628635574  104.9263704815  -4.118      0.0000834184185 ***\n",
       "출발시간       5.1031280361    0.2223136415  22.955 < 0.0000000000000002 ***\n",
       "X1종.교통량    0.0000006916    0.0000001880   3.679             0.000394 ***\n",
       "X2종.교통량   -0.0000326912    0.0000042337  -7.722      0.0000000000136 ***\n",
       "서울인구수     0.0000498396    0.0000103309   4.824      0.0000055488520 ***\n",
       "---\n",
       "Signif. codes:  0 ‘***’ 0.001 ‘**’ 0.01 ‘*’ 0.05 ‘.’ 0.1 ‘ ’ 1\n",
       "\n",
       "Residual standard error: 13.41 on 92 degrees of freedom\n",
       "Multiple R-squared:  0.8922,\tAdjusted R-squared:  0.8875 \n",
       "F-statistic: 190.3 on 4 and 92 DF,  p-value: < 0.00000000000000022\n"
      ]
     },
     "metadata": {},
     "output_type": "display_data"
    }
   ],
   "source": [
    "\n",
    "\n",
    "# 모델만들기\n",
    "model_tr <- lm(소요시간 ~ . , data = data.tr) # 추린 컬럼으로 만든 학습용 모델\n",
    "\n",
    "# 트레이닝 데이터 훈련\n",
    "x_tr <- subset(data.tr, select = -소요시간)\n",
    "y_tr <- data.tr$소요시간\n",
    "    \n",
    "# 테스트 데이터 훈련  \n",
    "x_test <- subset(data.test, select = -소요시간)\n",
    "y_test <- data.test$소요시간\n",
    "\n",
    "# 문제 맞추기\n",
    "predicted <- predict(model_tr, x_test) # 정답 예측\n",
    "correct <- y_test # 정답\n",
    "\n",
    "cbind(predicted ,  y_test) # 예측값과 정답 한번에 보기\n",
    "\n",
    "summary(model_tr) # 학습용 모델의 정확도와 평균 표준 오차 확인"
   ]
  },
  {
   "cell_type": "code",
   "execution_count": 368,
   "metadata": {},
   "outputs": [],
   "source": [
    "# sum_rf <- 0\n",
    "# sum_nnet <- 0\n",
    "# sum_ctree <- 0\n",
    "# sum_multi <- 0\n",
    "# sum_svm <- 0\n",
    "\n",
    "# sum_rf_tr <- 0\n",
    "# sum_ctree_tr <- 0\n",
    "# sum_svm_tr <- 0\n",
    "# sum_multi_tr <- 0\n",
    "# sum_nnet_tr <- 0\n",
    "\n",
    "# # samp <- createDataPartition(day2amL$소요시간, p=0.7, list=F)\n",
    "# # data.tr <- day2amL[samp,]\n",
    "# # data.test <- day2amL[-samp,]\n",
    "\n",
    "# for (i in 1:100){\n",
    "# #    # 트레이닝 데이터 훈련\n",
    "# #   x_tr <- subset(data.tr, select = -소요시간)\n",
    "# #   y_tr <- data.tr$소요시간\n",
    "    \n",
    "# #   # 테스트 데이터 훈련  \n",
    "# #   x_test <- subset(data.test, select = -소요시간)\n",
    "# #   y_test <- data.test$소요시간 \n",
    "    \n",
    "#   # RF\n",
    "#   model_rf <- randomForest(소요시간 ~ . , data = data.tr, ntree = 100)\n",
    "#   pred_rf <- predict(model_rf, x_test)\n",
    "#   예측력_rf <- 1 - (sum((y_test - pred_rf)^2) / sum((y_test - mean(y_test))^2))\n",
    "#   # RF train\n",
    "#   model_rf_tr <- randomForest(소요시간 ~ . , data = data.tr, ntree = 100)\n",
    "#   pred_rf_tr <- predict(model_rf_tr, x_tr)\n",
    "#   예측력_rf_tr <- 1 - (sum((y_tr - pred_rf_tr)^2) / sum((y_tr - mean(y_tr))^2))\n",
    "  \n",
    "# #   인공신경망\n",
    "# #   model_nnet <- nnet(소요시간 ~ ., data=data.tr, size=3, trace=FALSE)\n",
    "# #   pred_nnet <- predict(model_nnet, x_test, type=\"class\")\n",
    "# #   예측력_nnet <- mean(pred_nnet == y_test)\n",
    "# #   인공신경망 train\n",
    "# #   model_nnet_tr <- nnet(소요시간 ~ ., data=data.tr, size=3, trace=FALSE)\n",
    "# #   pred_nnet_tr <- predict(model_nnet_tr, x_tr, type=\"class\")\n",
    "# #   예측력_nnet_tr <- mean(pred_nnet_tr == y_tr)\n",
    " \n",
    "#   # 의사결정나무\n",
    "#   model_ctree <- ctree(소요시간 ~ ., data=data.tr)\n",
    "#   pred_ctree <- predict(model_ctree, x_test)\n",
    "#   예측력_nnet <- 1 - (sum((y_test - pred_ctree)^2) / sum((y_test - mean(y_test))^2))\n",
    "#   # 의사결정나무 train\n",
    "#   model_ctree_tr <- ctree(소요시간 ~ ., data=data.tr)\n",
    "#   pred_ctree_tr <- predict(model_ctree_tr, x_tr)\n",
    "#   예측력_ctree_tr <- 1 - (sum((y_tr - pred_ctree_tr)^2) / sum((y_tr - mean(y_tr))^2))\n",
    "    \n",
    "#   # SVM test\n",
    "#   model_svm <- svm(소요시간 ~ ., data=data.tr)\n",
    "#   pred_svm <- predict(model_svm, x_test, type = \"raw\")\n",
    "#   예측력_svm <- 1 - (sum((y_test - pred_svm)^2) / sum((y_test - mean(y_test))^2))\n",
    "#   # SVM train\n",
    "#    model_svm_tr <- svm(소요시간 ~ ., data=data.tr)\n",
    "#    pred_svm_tr <- predict(model_svm_tr, x_tr, type = \"raw\")\n",
    "#    예측력_svm_tr <- 1 - (sum((y_tr - pred_svm_tr)^2) / sum((y_tr - mean(y_tr))^2))\n",
    "    \n",
    "# #   # 다항 로지스틱 회귀분석\n",
    "# #    model_multinom <- multinom(소요시간 ~ ., data=data.tr, trace=FALSE)\n",
    "# #    pred_multinom <- predict(model_multinom, x_test, type=\"class\")\n",
    "# #    예측력_multinom <- 1 - (sum((y_test - pred_multinom)^2) / sum((y_test - mean(y_test))^2))\n",
    "# #   # 다항 로지스틱 회귀분석 train\n",
    "# #     model_multinom_tr <- multinom(소요시간 ~ ., data=data.tr, trace=FALSE)\n",
    "# #     pred_multinom_tr <- predict(model_multinom_tr, x_tr, type=\"class\")\n",
    "# #     예측력_multinom_tr <- 1 - (sum((y_tr - pred_multinom_tr)^2) / sum((y_tr - mean(y_tr))^2))\n",
    "    \n",
    "#   sum_rf <- sum_rf + 예측력_rf\n",
    "#   sum_ctree <- sum_ctree + 예측력_nnet\n",
    "#   sum_svm <- sum_svm + 예측력_svm\n",
    "#   sum_multi <- sum_multi + 예측력_multinom\n",
    "#   sum_nnet <- sum_nnet + 예측력_nnet\n",
    "    \n",
    "#   sum_svm_tr <- sum_svm_tr + 예측력_svm_tr\n",
    "#   sum_rf_tr <- sum_rf_tr + 예측력_rf_tr\n",
    "#   sum_ctree_tr <- sum_ctree_tr + 예측력_ctree_tr\n",
    "#   sum_multi_tr <- sum_multi_tr + 예측력_multinom_tr\n",
    "#   sum_nnet_tr <- sum_nnet_tr + 예측력_nnet_tr\n",
    "# }\n",
    "# cat(\"Test Data \\n\")\n",
    "# cat(\"랜덤 포레스트 : \", sum_rf, \"\\n\")\n",
    "# cat(\"의사결정나무 : \", sum_ctree, \"\\n\")\n",
    "# cat(\"SVM :  \", sum_svm, \"\\n\")\n",
    "# # cat(\"다항 로지스틱 :  \", sum_multi, \"\\n\")\n",
    "# # cat(\"인공신경망 :  \", sum_nnet, \"\\n\")\n",
    "\n",
    "# cat(\"------------------------\", \"\\n\")\n",
    "# cat(\"Training Data \\n\")\n",
    "# cat(\"랜덤 포레스트 : \", sum_rf_tr, \"\\n\")\n",
    "# cat(\"의사결정나무 : \", sum_ctree_tr, \"\\n\")\n",
    "# cat(\"SVM :  \", sum_svm_tr, \"\\n\")\n",
    "# # cat(\"다항 로지스틱 :  \", sum_multi_tr, \"\\n\")\n",
    "# # cat(\"인공신경망 :  \", sum_nnet_tr, \"\\n\")"
   ]
  },
  {
   "cell_type": "code",
   "execution_count": null,
   "metadata": {},
   "outputs": [],
   "source": []
  },
  {
   "cell_type": "code",
   "execution_count": null,
   "metadata": {},
   "outputs": [],
   "source": []
  },
  {
   "cell_type": "code",
   "execution_count": null,
   "metadata": {},
   "outputs": [],
   "source": []
  },
  {
   "cell_type": "code",
   "execution_count": null,
   "metadata": {},
   "outputs": [],
   "source": []
  },
  {
   "cell_type": "code",
   "execution_count": null,
   "metadata": {},
   "outputs": [],
   "source": []
  },
  {
   "cell_type": "code",
   "execution_count": null,
   "metadata": {},
   "outputs": [],
   "source": []
  },
  {
   "cell_type": "code",
   "execution_count": null,
   "metadata": {},
   "outputs": [],
   "source": []
  },
  {
   "cell_type": "code",
   "execution_count": null,
   "metadata": {},
   "outputs": [],
   "source": []
  },
  {
   "cell_type": "code",
   "execution_count": null,
   "metadata": {},
   "outputs": [],
   "source": []
  },
  {
   "cell_type": "code",
   "execution_count": null,
   "metadata": {},
   "outputs": [],
   "source": []
  },
  {
   "cell_type": "code",
   "execution_count": null,
   "metadata": {},
   "outputs": [],
   "source": []
  },
  {
   "cell_type": "code",
   "execution_count": null,
   "metadata": {},
   "outputs": [],
   "source": []
  },
  {
   "cell_type": "code",
   "execution_count": null,
   "metadata": {},
   "outputs": [],
   "source": []
  }
 ],
 "metadata": {
  "kernelspec": {
   "display_name": "R",
   "language": "R",
   "name": "ir"
  },
  "language_info": {
   "codemirror_mode": "r",
   "file_extension": ".r",
   "mimetype": "text/x-r-source",
   "name": "R",
   "pygments_lexer": "r",
   "version": "3.6.1"
  }
 },
 "nbformat": 4,
 "nbformat_minor": 2
}
