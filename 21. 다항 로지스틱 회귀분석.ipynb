{
 "cells": [
  {
   "cell_type": "code",
   "execution_count": 1,
   "id": "0d1dc142",
   "metadata": {},
   "outputs": [],
   "source": [
    "library(nnet)"
   ]
  },
  {
   "cell_type": "code",
   "execution_count": 7,
   "id": "d61bab02",
   "metadata": {},
   "outputs": [
    {
     "data": {
      "text/html": [
       "<table>\n",
       "<thead><tr><th scope=col>Sepal.Length</th><th scope=col>Sepal.Width</th><th scope=col>Petal.Length</th><th scope=col>Petal.Width</th></tr></thead>\n",
       "<tbody>\n",
       "\t<tr><td>-0.8976739 </td><td> 1.01560199</td><td>-1.335752  </td><td>-1.311052  </td></tr>\n",
       "\t<tr><td>-1.1392005 </td><td>-0.13153881</td><td>-1.335752  </td><td>-1.311052  </td></tr>\n",
       "\t<tr><td>-1.3807271 </td><td> 0.32731751</td><td>-1.392399  </td><td>-1.311052  </td></tr>\n",
       "\t<tr><td>-1.5014904 </td><td> 0.09788935</td><td>-1.279104  </td><td>-1.311052  </td></tr>\n",
       "\t<tr><td>-1.0184372 </td><td> 1.24503015</td><td>-1.335752  </td><td>-1.311052  </td></tr>\n",
       "\t<tr><td>-0.5353840 </td><td> 1.93331463</td><td>-1.165809  </td><td>-1.048667  </td></tr>\n",
       "</tbody>\n",
       "</table>\n"
      ],
      "text/latex": [
       "\\begin{tabular}{llll}\n",
       " Sepal.Length & Sepal.Width & Petal.Length & Petal.Width\\\\\n",
       "\\hline\n",
       "\t -0.8976739  &  1.01560199 & -1.335752   & -1.311052  \\\\\n",
       "\t -1.1392005  & -0.13153881 & -1.335752   & -1.311052  \\\\\n",
       "\t -1.3807271  &  0.32731751 & -1.392399   & -1.311052  \\\\\n",
       "\t -1.5014904  &  0.09788935 & -1.279104   & -1.311052  \\\\\n",
       "\t -1.0184372  &  1.24503015 & -1.335752   & -1.311052  \\\\\n",
       "\t -0.5353840  &  1.93331463 & -1.165809   & -1.048667  \\\\\n",
       "\\end{tabular}\n"
      ],
      "text/markdown": [
       "\n",
       "| Sepal.Length | Sepal.Width | Petal.Length | Petal.Width |\n",
       "|---|---|---|---|\n",
       "| -0.8976739  |  1.01560199 | -1.335752   | -1.311052   |\n",
       "| -1.1392005  | -0.13153881 | -1.335752   | -1.311052   |\n",
       "| -1.3807271  |  0.32731751 | -1.392399   | -1.311052   |\n",
       "| -1.5014904  |  0.09788935 | -1.279104   | -1.311052   |\n",
       "| -1.0184372  |  1.24503015 | -1.335752   | -1.311052   |\n",
       "| -0.5353840  |  1.93331463 | -1.165809   | -1.048667   |\n",
       "\n"
      ],
      "text/plain": [
       "     Sepal.Length Sepal.Width Petal.Length Petal.Width\n",
       "[1,] -0.8976739    1.01560199 -1.335752    -1.311052  \n",
       "[2,] -1.1392005   -0.13153881 -1.335752    -1.311052  \n",
       "[3,] -1.3807271    0.32731751 -1.392399    -1.311052  \n",
       "[4,] -1.5014904    0.09788935 -1.279104    -1.311052  \n",
       "[5,] -1.0184372    1.24503015 -1.335752    -1.311052  \n",
       "[6,] -0.5353840    1.93331463 -1.165809    -1.048667  "
      ]
     },
     "metadata": {},
     "output_type": "display_data"
    },
    {
     "data": {
      "text/plain": [
       "  Sepal.Length    Sepal.Width     Petal.Length    Petal.Width         Species  \n",
       " Min.   :4.300   Min.   :2.200   Min.   :1.100   Min.   :0.10   setosa    :35  \n",
       " 1st Qu.:5.100   1st Qu.:2.800   1st Qu.:1.600   1st Qu.:0.30   versicolor:35  \n",
       " Median :5.800   Median :3.000   Median :4.300   Median :1.30   virginica :35  \n",
       " Mean   :5.847   Mean   :3.042   Mean   :3.749   Mean   :1.19                  \n",
       " 3rd Qu.:6.400   3rd Qu.:3.300   3rd Qu.:5.100   3rd Qu.:1.80                  \n",
       " Max.   :7.900   Max.   :4.400   Max.   :6.900   Max.   :2.50                  "
      ]
     },
     "metadata": {},
     "output_type": "display_data"
    },
    {
     "data": {
      "text/plain": [
       "  Sepal.Length    Sepal.Width     Petal.Length   Petal.Width          Species  \n",
       " Min.   :4.400   Min.   :2.000   Min.   :1.00   Min.   :0.100   setosa    :15  \n",
       " 1st Qu.:5.100   1st Qu.:2.800   1st Qu.:1.60   1st Qu.:0.300   versicolor:15  \n",
       " Median :5.800   Median :3.100   Median :4.70   Median :1.400   virginica :15  \n",
       " Mean   :5.836   Mean   :3.093   Mean   :3.78   Mean   :1.222                  \n",
       " 3rd Qu.:6.500   3rd Qu.:3.400   3rd Qu.:5.10   3rd Qu.:1.900                  \n",
       " Max.   :7.700   Max.   :4.100   Max.   :6.70   Max.   :2.500                  "
      ]
     },
     "metadata": {},
     "output_type": "display_data"
    }
   ],
   "source": [
    "library(caret)\n",
    "\n",
    "set.seed(1234)\n",
    "\n",
    "iris2 <- scale(iris[,-5])\n",
    "head(iris2)\n",
    "\n",
    "iris3 <- data.frame(Sepal.Length=iris2[,1], Sepal.Width=iris2[,2],\n",
    "                      Petal.Length=iris2[,3], Petal.Width=iris2[,4])\n",
    "\n",
    "iris3$Species <- iris$Species\n",
    "\n",
    "samp <- createDataPartition(iris$Species, p=0.7, list=F)\n",
    "\n",
    "data.tr <- iris[samp,]\n",
    "summary(data.tr)\n",
    "\n",
    "data.test <- iris[-samp,]\n",
    "summary(data.test)\n"
   ]
  },
  {
   "cell_type": "code",
   "execution_count": 8,
   "id": "c34bc5a9",
   "metadata": {},
   "outputs": [],
   "source": [
    "# 문제와 정답 만들기\n",
    "x <- subset(data.test, select = -Species)\n",
    "y <- data.test$Species"
   ]
  },
  {
   "cell_type": "code",
   "execution_count": 9,
   "id": "1b5126fb",
   "metadata": {},
   "outputs": [
    {
     "name": "stdout",
     "output_type": "stream",
     "text": [
      "# weights:  18 (10 variable)\n",
      "initial  value 115.354290 \n",
      "iter  10 value 10.451001\n",
      "iter  20 value 0.395906\n",
      "iter  30 value 0.063643\n",
      "iter  40 value 0.032814\n",
      "iter  50 value 0.023376\n",
      "iter  60 value 0.021200\n",
      "iter  70 value 0.019040\n",
      "iter  80 value 0.017101\n",
      "iter  90 value 0.012218\n",
      "iter 100 value 0.011383\n",
      "final  value 0.011383 \n",
      "stopped after 100 iterations\n"
     ]
    }
   ],
   "source": [
    "model <- multinom(Species ~., data=data.tr)"
   ]
  },
  {
   "cell_type": "code",
   "execution_count": 10,
   "id": "04e31a63",
   "metadata": {},
   "outputs": [
    {
     "data": {
      "text/html": [
       "<ol class=list-inline>\n",
       "\t<li>setosa</li>\n",
       "\t<li>setosa</li>\n",
       "\t<li>setosa</li>\n",
       "\t<li>setosa</li>\n",
       "\t<li>setosa</li>\n",
       "\t<li>setosa</li>\n",
       "</ol>\n",
       "\n",
       "<details>\n",
       "\t<summary style=display:list-item;cursor:pointer>\n",
       "\t\t<strong>Levels</strong>:\n",
       "\t</summary>\n",
       "\t<ol class=list-inline>\n",
       "\t\t<li>'setosa'</li>\n",
       "\t\t<li>'versicolor'</li>\n",
       "\t\t<li>'virginica'</li>\n",
       "\t</ol>\n",
       "</details>"
      ],
      "text/latex": [
       "\\begin{enumerate*}\n",
       "\\item setosa\n",
       "\\item setosa\n",
       "\\item setosa\n",
       "\\item setosa\n",
       "\\item setosa\n",
       "\\item setosa\n",
       "\\end{enumerate*}\n",
       "\n",
       "\\emph{Levels}: \\begin{enumerate*}\n",
       "\\item 'setosa'\n",
       "\\item 'versicolor'\n",
       "\\item 'virginica'\n",
       "\\end{enumerate*}\n"
      ],
      "text/markdown": [
       "1. setosa\n",
       "2. setosa\n",
       "3. setosa\n",
       "4. setosa\n",
       "5. setosa\n",
       "6. setosa\n",
       "\n",
       "\n",
       "\n",
       "**Levels**: 1. 'setosa'\n",
       "2. 'versicolor'\n",
       "3. 'virginica'\n",
       "\n",
       "\n"
      ],
      "text/plain": [
       "[1] setosa setosa setosa setosa setosa setosa\n",
       "Levels: setosa versicolor virginica"
      ]
     },
     "metadata": {},
     "output_type": "display_data"
    }
   ],
   "source": [
    "pred <- predict(model, x, type=\"class\")\n",
    "head(pred)"
   ]
  },
  {
   "cell_type": "code",
   "execution_count": 11,
   "id": "fe934f1e",
   "metadata": {},
   "outputs": [
    {
     "data": {
      "text/html": [
       "0.933333333333333"
      ],
      "text/latex": [
       "0.933333333333333"
      ],
      "text/markdown": [
       "0.933333333333333"
      ],
      "text/plain": [
       "[1] 0.9333333"
      ]
     },
     "metadata": {},
     "output_type": "display_data"
    },
    {
     "data": {
      "text/plain": [
       "            y\n",
       "pred         setosa versicolor virginica\n",
       "  setosa         15          0         0\n",
       "  versicolor      0         13         1\n",
       "  virginica       0          2        14"
      ]
     },
     "metadata": {},
     "output_type": "display_data"
    }
   ],
   "source": [
    "mean(pred == y)\n",
    "table(pred, y)"
   ]
  },
  {
   "cell_type": "code",
   "execution_count": null,
   "id": "f9c4731a",
   "metadata": {},
   "outputs": [],
   "source": [
    "# 정규화 작업을 했을 때와 안 했을 때 결과값이 같음"
   ]
  },
  {
   "cell_type": "code",
   "execution_count": null,
   "id": "6bc45f9b",
   "metadata": {},
   "outputs": [],
   "source": []
  },
  {
   "cell_type": "code",
   "execution_count": null,
   "id": "1089f7ad",
   "metadata": {},
   "outputs": [],
   "source": []
  }
 ],
 "metadata": {
  "kernelspec": {
   "display_name": "R",
   "language": "R",
   "name": "ir"
  },
  "language_info": {
   "codemirror_mode": "r",
   "file_extension": ".r",
   "mimetype": "text/x-r-source",
   "name": "R",
   "pygments_lexer": "r",
   "version": "3.6.1"
  }
 },
 "nbformat": 4,
 "nbformat_minor": 5
}
