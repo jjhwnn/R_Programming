{
 "cells": [
  {
   "cell_type": "markdown",
   "id": "4e209398",
   "metadata": {},
   "source": [
    "# 몬테카를로 시뮬레이션"
   ]
  },
  {
   "cell_type": "markdown",
   "id": "2a3d90d3",
   "metadata": {},
   "source": [
    "### 동전 앞면과 뒷면 시뮬레이션"
   ]
  },
  {
   "cell_type": "code",
   "execution_count": 14,
   "id": "59939fd8",
   "metadata": {},
   "outputs": [
    {
     "name": "stdout",
     "output_type": "stream",
     "text": [
      "[1] 1\n"
     ]
    }
   ],
   "source": [
    "x <- runif(1)\n",
    "if(x <= 1/2){\n",
    "    result = 0 # 앞면\n",
    "}else{\n",
    "    result = 1 # 뒷면\n",
    "}\n",
    "\n",
    "print(result)"
   ]
  },
  {
   "cell_type": "code",
   "execution_count": 19,
   "id": "1b07142c",
   "metadata": {},
   "outputs": [],
   "source": [
    "coin <- function(num){\n",
    "    count1 = 0 # 앞면\n",
    "    count2 = 0 # 뒷면\n",
    "    for(i in 1:num){\n",
    "        if(runif(1) <= 1/2){\n",
    "            count1 = count1 + 1\n",
    "        }else{\n",
    "            count2 = count2 + 1\n",
    "        }\n",
    "        \n",
    "    }\n",
    "    cat(\"앞면 :\", count1, \"\\n\")\n",
    "    cat(\"뒷면 :\", count2, \"\\n\")\n",
    "    cat(\"-------------------\\n\")\n",
    "}"
   ]
  },
  {
   "cell_type": "code",
   "execution_count": null,
   "id": "b243f154",
   "metadata": {},
   "outputs": [],
   "source": []
  },
  {
   "cell_type": "code",
   "execution_count": 22,
   "id": "014fc9c7",
   "metadata": {},
   "outputs": [
    {
     "name": "stdout",
     "output_type": "stream",
     "text": [
      "앞면 : 8 \n",
      "뒷면 : 2 \n",
      "-------------------\n",
      "앞면 : 42 \n",
      "뒷면 : 58 \n",
      "-------------------\n",
      "앞면 : 468 \n",
      "뒷면 : 532 \n",
      "-------------------\n",
      "앞면 : 4904 \n",
      "뒷면 : 5096 \n",
      "-------------------\n",
      "앞면 : 49968 \n",
      "뒷면 : 50032 \n",
      "-------------------\n",
      "앞면 : 500347 \n",
      "뒷면 : 499653 \n",
      "-------------------\n"
     ]
    }
   ],
   "source": [
    "coin(10)\n",
    "coin(100)\n",
    "coin(1000)\n",
    "coin(10000)\n",
    "coin(100000)\n",
    "coin(1000000)"
   ]
  },
  {
   "cell_type": "code",
   "execution_count": 60,
   "id": "3d818016",
   "metadata": {},
   "outputs": [],
   "source": [
    "### 가위, 바위, 보 시뮬레이션\n",
    "rock <- function(num){\n",
    "    rock <- 0\n",
    "    scis <- 0\n",
    "    paper <- 0\n",
    "    \n",
    "    for(i in 1:num){\n",
    "        \n",
    "        x <- runif(1)\n",
    "        \n",
    "        if(x <= 1/3){\n",
    "            rock = rock + 1\n",
    "        }else if(x <= 2/3){\n",
    "            scis = scis + 1\n",
    "        }else{\n",
    "            paper = paper + 1\n",
    "        }\n",
    "        \n",
    "    }\n",
    "    cat(\"가위 :\", rock, \"\\n\")\n",
    "    cat(\"바위 :\", scis, \"\\n\")\n",
    "    cat(\"보 :\", paper, \"\\n\")\n",
    "    cat(\"-------------------\\n\")\n",
    "}\n"
   ]
  },
  {
   "cell_type": "code",
   "execution_count": 61,
   "id": "ea6bc5e3",
   "metadata": {
    "scrolled": true
   },
   "outputs": [
    {
     "name": "stdout",
     "output_type": "stream",
     "text": [
      "가위 : 5 \n",
      "바위 : 1 \n",
      "보 : 4 \n",
      "-------------------\n",
      "가위 : 45 \n",
      "바위 : 25 \n",
      "보 : 30 \n",
      "-------------------\n",
      "가위 : 341 \n",
      "바위 : 328 \n",
      "보 : 331 \n",
      "-------------------\n",
      "가위 : 3278 \n",
      "바위 : 3280 \n",
      "보 : 3442 \n",
      "-------------------\n",
      "가위 : 33133 \n",
      "바위 : 33487 \n",
      "보 : 33380 \n",
      "-------------------\n",
      "가위 : 333240 \n",
      "바위 : 334300 \n",
      "보 : 332460 \n",
      "-------------------\n"
     ]
    }
   ],
   "source": [
    "rock(10)\n",
    "rock(100)\n",
    "rock(1000)\n",
    "rock(10000)\n",
    "rock(100000)\n",
    "rock(1000000)"
   ]
  },
  {
   "cell_type": "code",
   "execution_count": 64,
   "id": "e3e1c748",
   "metadata": {},
   "outputs": [],
   "source": [
    "### 가위, 바위, 보 시뮬레이션 2\n",
    "rock <- function(num){\n",
    "    rock <- 0\n",
    "    scis <- 0\n",
    "    paper <- 0\n",
    "    \n",
    "    for(i in 1:num){\n",
    "        \n",
    "        x <- trunc(runif(1)*3)+1\n",
    "        if(x == 1) rock = rock + 1\n",
    "        if(x == 2) scis = scis + 1\n",
    "        if(x == 3) paper = paper + 1\n",
    "        \n",
    "    }\n",
    "    cat(\"가위 :\", rock, \"\\n\")\n",
    "    cat(\"바위 :\", scis, \"\\n\")\n",
    "    cat(\"보 :\", paper, \"\\n\")\n",
    "    cat(\"-------------------\\n\")\n",
    "}"
   ]
  },
  {
   "cell_type": "code",
   "execution_count": 65,
   "id": "0c949ff4",
   "metadata": {},
   "outputs": [
    {
     "name": "stdout",
     "output_type": "stream",
     "text": [
      "가위 : 7 \n",
      "바위 : 1 \n",
      "보 : 2 \n",
      "-------------------\n",
      "가위 : 34 \n",
      "바위 : 34 \n",
      "보 : 32 \n",
      "-------------------\n",
      "가위 : 338 \n",
      "바위 : 339 \n",
      "보 : 323 \n",
      "-------------------\n",
      "가위 : 3396 \n",
      "바위 : 3261 \n",
      "보 : 3343 \n",
      "-------------------\n",
      "가위 : 33548 \n",
      "바위 : 33197 \n",
      "보 : 33255 \n",
      "-------------------\n",
      "가위 : 332932 \n",
      "바위 : 333387 \n",
      "보 : 333681 \n",
      "-------------------\n"
     ]
    }
   ],
   "source": [
    "rock(10)\n",
    "rock(100)\n",
    "rock(1000)\n",
    "rock(10000)\n",
    "rock(100000)\n",
    "rock(1000000)"
   ]
  },
  {
   "cell_type": "markdown",
   "id": "4781c69f",
   "metadata": {},
   "source": [
    "---\n",
    "### 주사위 시뮬레이션"
   ]
  },
  {
   "cell_type": "code",
   "execution_count": 10,
   "id": "8d06809d",
   "metadata": {},
   "outputs": [],
   "source": [
    "options(scipen=100) # 지수 제거 \n",
    "\n",
    "dice <- function(num){\n",
    "    \n",
    "    count <- rep(0,6)\n",
    "    \n",
    "    for(i in 1:num){\n",
    "        # 1-6 까지의 난수를 변수에 대입 \n",
    "        # 난수를 count인덱스에 대입하여 count인덱스에 1씩 증가\n",
    "        diceNum <- trunc(runif(1)*6)+1\n",
    "        count[diceNum] <- count[diceNum]+1\n",
    "    }\n",
    "    cat(\"Throw :\", num, \"\\n\")\n",
    "    for(i in 1:length(count)){\n",
    "       \n",
    "        cat(\"No \", i ,\" => \", count[i], \"\\n\")    \n",
    "    }\n",
    "    cat(\"---------------\\n\")\n",
    "    \n",
    "}"
   ]
  },
  {
   "cell_type": "code",
   "execution_count": 13,
   "id": "ca426cf2",
   "metadata": {},
   "outputs": [
    {
     "name": "stdout",
     "output_type": "stream",
     "text": [
      "Throw : 10 \n",
      "No  1  =>  1 \n",
      "No  2  =>  2 \n",
      "No  3  =>  0 \n",
      "No  4  =>  1 \n",
      "No  5  =>  2 \n",
      "No  6  =>  4 \n",
      "---------------\n",
      "Throw : 100 \n",
      "No  1  =>  15 \n",
      "No  2  =>  21 \n",
      "No  3  =>  17 \n",
      "No  4  =>  12 \n",
      "No  5  =>  20 \n",
      "No  6  =>  15 \n",
      "---------------\n",
      "Throw : 1000 \n",
      "No  1  =>  176 \n",
      "No  2  =>  175 \n",
      "No  3  =>  177 \n",
      "No  4  =>  141 \n",
      "No  5  =>  153 \n",
      "No  6  =>  178 \n",
      "---------------\n",
      "Throw : 10000 \n",
      "No  1  =>  1668 \n",
      "No  2  =>  1671 \n",
      "No  3  =>  1647 \n",
      "No  4  =>  1678 \n",
      "No  5  =>  1647 \n",
      "No  6  =>  1689 \n",
      "---------------\n",
      "Throw : 100000 \n",
      "No  1  =>  16697 \n",
      "No  2  =>  16477 \n",
      "No  3  =>  16710 \n",
      "No  4  =>  16667 \n",
      "No  5  =>  16624 \n",
      "No  6  =>  16825 \n",
      "---------------\n",
      "Throw : 1000000 \n",
      "No  1  =>  166721 \n",
      "No  2  =>  166290 \n",
      "No  3  =>  167183 \n",
      "No  4  =>  165960 \n",
      "No  5  =>  166651 \n",
      "No  6  =>  167195 \n",
      "---------------\n"
     ]
    }
   ],
   "source": [
    "dice(10)\n",
    "dice(100)\n",
    "dice(1000)\n",
    "dice(10000)\n",
    "dice(100000)\n",
    "dice(1000000)"
   ]
  },
  {
   "cell_type": "code",
   "execution_count": null,
   "id": "b1e28d2e",
   "metadata": {},
   "outputs": [],
   "source": []
  }
 ],
 "metadata": {
  "kernelspec": {
   "display_name": "R",
   "language": "R",
   "name": "ir"
  },
  "language_info": {
   "codemirror_mode": "r",
   "file_extension": ".r",
   "mimetype": "text/x-r-source",
   "name": "R",
   "pygments_lexer": "r",
   "version": "3.6.1"
  }
 },
 "nbformat": 4,
 "nbformat_minor": 5
}
