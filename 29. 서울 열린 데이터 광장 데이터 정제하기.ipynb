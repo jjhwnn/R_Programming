{
 "cells": [
  {
   "cell_type": "code",
   "execution_count": 1,
   "id": "fbff91e4",
   "metadata": {},
   "outputs": [
    {
     "data": {
      "text/html": [
       "<table>\n",
       "<thead><tr><th scope=col>V1</th><th scope=col>V2</th><th scope=col>V3</th><th scope=col>V4</th><th scope=col>V5</th><th scope=col>V6</th><th scope=col>V7</th><th scope=col>V8</th><th scope=col>V9</th><th scope=col>V10</th><th scope=col>V11</th><th scope=col>V12</th><th scope=col>V13</th><th scope=col>V14</th><th scope=col>V15</th><th scope=col>V16</th></tr></thead>\n",
       "<tbody>\n",
       "\t<tr><td>기간    </td><td>자치구별</td><td>구분    </td><td>합계    </td><td>1월     </td><td>2월     </td><td>3월     </td><td>4월     </td><td>5월     </td><td>6월     </td><td>7월     </td><td>8월     </td><td>9월     </td><td>10월    </td><td>11월    </td><td>12월    </td></tr>\n",
       "\t<tr><td>2011    </td><td>합계    </td><td>발생건수</td><td>40,451  </td><td>3,038   </td><td>2,573   </td><td>3,126   </td><td>3,450   </td><td>3,603   </td><td>3,390   </td><td>3,529   </td><td>3,360   </td><td>3,433   </td><td>3,734   </td><td>3,701   </td><td>3,514   </td></tr>\n",
       "\t<tr><td>2011    </td><td>합계    </td><td>사망자수</td><td>435     </td><td>36      </td><td>32      </td><td>20      </td><td>44      </td><td>36      </td><td>37      </td><td>36      </td><td>50      </td><td>37      </td><td>25      </td><td>40      </td><td>42      </td></tr>\n",
       "\t<tr><td>2011    </td><td>합계    </td><td>부상자수</td><td>57,625  </td><td>4,429   </td><td>3,734   </td><td>4,513   </td><td>4,905   </td><td>5,036   </td><td>4,831   </td><td>5,067   </td><td>4,823   </td><td>4,893   </td><td>5,244   </td><td>5,150   </td><td>5,000   </td></tr>\n",
       "\t<tr><td>2011    </td><td>종로구  </td><td>발생건수</td><td>1,421   </td><td>115     </td><td>99      </td><td>116     </td><td>110     </td><td>122     </td><td>116     </td><td>103     </td><td>122     </td><td>121     </td><td>135     </td><td>140     </td><td>122     </td></tr>\n",
       "\t<tr><td>2011    </td><td>종로구  </td><td>사망자수</td><td>14      </td><td>2       </td><td>-       </td><td>-       </td><td>1       </td><td>-       </td><td>3       </td><td>1       </td><td>1       </td><td>2       </td><td>2       </td><td>1       </td><td>1       </td></tr>\n",
       "</tbody>\n",
       "</table>\n"
      ],
      "text/latex": [
       "\\begin{tabular}{r|llllllllllllllll}\n",
       " V1 & V2 & V3 & V4 & V5 & V6 & V7 & V8 & V9 & V10 & V11 & V12 & V13 & V14 & V15 & V16\\\\\n",
       "\\hline\n",
       "\t 기간     & 자치구별 & 구분     & 합계     & 1월      & 2월      & 3월      & 4월      & 5월      & 6월      & 7월      & 8월      & 9월      & 10월     & 11월     & 12월    \\\\\n",
       "\t 2011     & 합계     & 발생건수 & 40,451   & 3,038    & 2,573    & 3,126    & 3,450    & 3,603    & 3,390    & 3,529    & 3,360    & 3,433    & 3,734    & 3,701    & 3,514   \\\\\n",
       "\t 2011     & 합계     & 사망자수 & 435      & 36       & 32       & 20       & 44       & 36       & 37       & 36       & 50       & 37       & 25       & 40       & 42      \\\\\n",
       "\t 2011     & 합계     & 부상자수 & 57,625   & 4,429    & 3,734    & 4,513    & 4,905    & 5,036    & 4,831    & 5,067    & 4,823    & 4,893    & 5,244    & 5,150    & 5,000   \\\\\n",
       "\t 2011     & 종로구   & 발생건수 & 1,421    & 115      & 99       & 116      & 110      & 122      & 116      & 103      & 122      & 121      & 135      & 140      & 122     \\\\\n",
       "\t 2011     & 종로구   & 사망자수 & 14       & 2        & -        & -        & 1        & -        & 3        & 1        & 1        & 2        & 2        & 1        & 1       \\\\\n",
       "\\end{tabular}\n"
      ],
      "text/markdown": [
       "\n",
       "| V1 | V2 | V3 | V4 | V5 | V6 | V7 | V8 | V9 | V10 | V11 | V12 | V13 | V14 | V15 | V16 |\n",
       "|---|---|---|---|---|---|---|---|---|---|---|---|---|---|---|---|\n",
       "| 기간     | 자치구별 | 구분     | 합계     | 1월      | 2월      | 3월      | 4월      | 5월      | 6월      | 7월      | 8월      | 9월      | 10월     | 11월     | 12월     |\n",
       "| 2011     | 합계     | 발생건수 | 40,451   | 3,038    | 2,573    | 3,126    | 3,450    | 3,603    | 3,390    | 3,529    | 3,360    | 3,433    | 3,734    | 3,701    | 3,514    |\n",
       "| 2011     | 합계     | 사망자수 | 435      | 36       | 32       | 20       | 44       | 36       | 37       | 36       | 50       | 37       | 25       | 40       | 42       |\n",
       "| 2011     | 합계     | 부상자수 | 57,625   | 4,429    | 3,734    | 4,513    | 4,905    | 5,036    | 4,831    | 5,067    | 4,823    | 4,893    | 5,244    | 5,150    | 5,000    |\n",
       "| 2011     | 종로구   | 발생건수 | 1,421    | 115      | 99       | 116      | 110      | 122      | 116      | 103      | 122      | 121      | 135      | 140      | 122      |\n",
       "| 2011     | 종로구   | 사망자수 | 14       | 2        | -        | -        | 1        | -        | 3        | 1        | 1        | 2        | 2        | 1        | 1        |\n",
       "\n"
      ],
      "text/plain": [
       "  V1   V2       V3       V4     V5    V6    V7    V8    V9    V10   V11   V12  \n",
       "1 기간 자치구별 구분     합계   1월   2월   3월   4월   5월   6월   7월   8월  \n",
       "2 2011 합계     발생건수 40,451 3,038 2,573 3,126 3,450 3,603 3,390 3,529 3,360\n",
       "3 2011 합계     사망자수 435    36    32    20    44    36    37    36    50   \n",
       "4 2011 합계     부상자수 57,625 4,429 3,734 4,513 4,905 5,036 4,831 5,067 4,823\n",
       "5 2011 종로구   발생건수 1,421  115   99    116   110   122   116   103   122  \n",
       "6 2011 종로구   사망자수 14     2     -     -     1     -     3     1     1    \n",
       "  V13   V14   V15   V16  \n",
       "1 9월   10월  11월  12월 \n",
       "2 3,433 3,734 3,701 3,514\n",
       "3 37    25    40    42   \n",
       "4 4,893 5,244 5,150 5,000\n",
       "5 121   135   140   122  \n",
       "6 2     2     1     1    "
      ]
     },
     "metadata": {},
     "output_type": "display_data"
    },
    {
     "data": {
      "text/html": [
       "<table>\n",
       "<thead><tr><th scope=col>년도</th><th scope=col>월</th><th scope=col>자치구명</th><th scope=col>발생건수</th><th scope=col>사망자수</th><th scope=col>부상자수</th></tr></thead>\n",
       "<tbody>\n",
       "\t<tr><td>2011  </td><td>1     </td><td>종로구</td><td>115   </td><td>2     </td><td>165   </td></tr>\n",
       "\t<tr><td>2011  </td><td>2     </td><td>종로구</td><td> 99   </td><td>0     </td><td>134   </td></tr>\n",
       "\t<tr><td>2011  </td><td>3     </td><td>종로구</td><td>116   </td><td>0     </td><td>162   </td></tr>\n",
       "\t<tr><td>2011  </td><td>4     </td><td>종로구</td><td>110   </td><td>1     </td><td>153   </td></tr>\n",
       "\t<tr><td>2011  </td><td>5     </td><td>종로구</td><td>122   </td><td>0     </td><td>157   </td></tr>\n",
       "\t<tr><td>2011  </td><td>6     </td><td>종로구</td><td>116   </td><td>3     </td><td>163   </td></tr>\n",
       "</tbody>\n",
       "</table>\n"
      ],
      "text/latex": [
       "\\begin{tabular}{r|llllll}\n",
       " 년도 & 월 & 자치구명 & 발생건수 & 사망자수 & 부상자수\\\\\n",
       "\\hline\n",
       "\t 2011   & 1      & 종로구 & 115    & 2      & 165   \\\\\n",
       "\t 2011   & 2      & 종로구 &  99    & 0      & 134   \\\\\n",
       "\t 2011   & 3      & 종로구 & 116    & 0      & 162   \\\\\n",
       "\t 2011   & 4      & 종로구 & 110    & 1      & 153   \\\\\n",
       "\t 2011   & 5      & 종로구 & 122    & 0      & 157   \\\\\n",
       "\t 2011   & 6      & 종로구 & 116    & 3      & 163   \\\\\n",
       "\\end{tabular}\n"
      ],
      "text/markdown": [
       "\n",
       "| 년도 | 월 | 자치구명 | 발생건수 | 사망자수 | 부상자수 |\n",
       "|---|---|---|---|---|---|\n",
       "| 2011   | 1      | 종로구 | 115    | 2      | 165    |\n",
       "| 2011   | 2      | 종로구 |  99    | 0      | 134    |\n",
       "| 2011   | 3      | 종로구 | 116    | 0      | 162    |\n",
       "| 2011   | 4      | 종로구 | 110    | 1      | 153    |\n",
       "| 2011   | 5      | 종로구 | 122    | 0      | 157    |\n",
       "| 2011   | 6      | 종로구 | 116    | 3      | 163    |\n",
       "\n"
      ],
      "text/plain": [
       "  년도 월 자치구명 발생건수 사망자수 부상자수\n",
       "1 2011 1  종로구   115      2        165     \n",
       "2 2011 2  종로구    99      0        134     \n",
       "3 2011 3  종로구   116      0        162     \n",
       "4 2011 4  종로구   110      1        153     \n",
       "5 2011 5  종로구   122      0        157     \n",
       "6 2011 6  종로구   116      3        163     "
      ]
     },
     "metadata": {},
     "output_type": "display_data"
    }
   ],
   "source": [
    "acc <- read.table(\"../Data/trafficAccident_2011_2019.txt\")\n",
    "seoul <- read.csv(\"../Data/newSeoul2019.csv\")\n",
    "head(acc)\n",
    "head(seoul)"
   ]
  },
  {
   "cell_type": "code",
   "execution_count": 2,
   "id": "5bd68d72",
   "metadata": {},
   "outputs": [
    {
     "data": {
      "text/html": [
       "<table>\n",
       "<thead><tr><th></th><th scope=col>V1</th><th scope=col>V2</th><th scope=col>V3</th><th scope=col>V4</th><th scope=col>V5</th><th scope=col>V6</th><th scope=col>V7</th><th scope=col>V8</th><th scope=col>V9</th><th scope=col>V10</th><th scope=col>V11</th><th scope=col>V12</th><th scope=col>V13</th><th scope=col>V14</th><th scope=col>V15</th><th scope=col>V16</th></tr></thead>\n",
       "<tbody>\n",
       "\t<tr><th scope=row>698</th><td>2019    </td><td>송파구  </td><td>발생건수</td><td>2,892   </td><td>212     </td><td>193     </td><td>243     </td><td>228     </td><td>277     </td><td>241     </td><td>227     </td><td>247     </td><td>245     </td><td>304     </td><td>260     </td><td>215     </td></tr>\n",
       "\t<tr><th scope=row>699</th><td>2019    </td><td>송파구  </td><td>사망자수</td><td>13      </td><td>-       </td><td>2       </td><td>-       </td><td>-       </td><td>3       </td><td>-       </td><td>1       </td><td>1       </td><td>-       </td><td>3       </td><td>3       </td><td>-       </td></tr>\n",
       "\t<tr><th scope=row>700</th><td>2019    </td><td>송파구  </td><td>부상자수</td><td>4,003   </td><td>319     </td><td>253     </td><td>336     </td><td>317     </td><td>398     </td><td>311     </td><td>312     </td><td>340     </td><td>341     </td><td>447     </td><td>330     </td><td>299     </td></tr>\n",
       "\t<tr><th scope=row>701</th><td>2019    </td><td>강동구  </td><td>발생건수</td><td>1,414   </td><td>98      </td><td>87      </td><td>122     </td><td>112     </td><td>139     </td><td>123     </td><td>146     </td><td>127     </td><td>98      </td><td>108     </td><td>146     </td><td>108     </td></tr>\n",
       "\t<tr><th scope=row>702</th><td>2019    </td><td>강동구  </td><td>사망자수</td><td>11      </td><td>1       </td><td>-       </td><td>-       </td><td>-       </td><td>1       </td><td>1       </td><td>2       </td><td>2       </td><td>2       </td><td>1       </td><td>-       </td><td>1       </td></tr>\n",
       "\t<tr><th scope=row>703</th><td>2019    </td><td>강동구  </td><td>부상자수</td><td>1,910   </td><td>115     </td><td>133     </td><td>163     </td><td>153     </td><td>192     </td><td>179     </td><td>189     </td><td>175     </td><td>137     </td><td>144     </td><td>199     </td><td>131     </td></tr>\n",
       "</tbody>\n",
       "</table>\n"
      ],
      "text/latex": [
       "\\begin{tabular}{r|llllllllllllllll}\n",
       "  & V1 & V2 & V3 & V4 & V5 & V6 & V7 & V8 & V9 & V10 & V11 & V12 & V13 & V14 & V15 & V16\\\\\n",
       "\\hline\n",
       "\t698 & 2019     & 송파구   & 발생건수 & 2,892    & 212      & 193      & 243      & 228      & 277      & 241      & 227      & 247      & 245      & 304      & 260      & 215     \\\\\n",
       "\t699 & 2019     & 송파구   & 사망자수 & 13       & -        & 2        & -        & -        & 3        & -        & 1        & 1        & -        & 3        & 3        & -       \\\\\n",
       "\t700 & 2019     & 송파구   & 부상자수 & 4,003    & 319      & 253      & 336      & 317      & 398      & 311      & 312      & 340      & 341      & 447      & 330      & 299     \\\\\n",
       "\t701 & 2019     & 강동구   & 발생건수 & 1,414    & 98       & 87       & 122      & 112      & 139      & 123      & 146      & 127      & 98       & 108      & 146      & 108     \\\\\n",
       "\t702 & 2019     & 강동구   & 사망자수 & 11       & 1        & -        & -        & -        & 1        & 1        & 2        & 2        & 2        & 1        & -        & 1       \\\\\n",
       "\t703 & 2019     & 강동구   & 부상자수 & 1,910    & 115      & 133      & 163      & 153      & 192      & 179      & 189      & 175      & 137      & 144      & 199      & 131     \\\\\n",
       "\\end{tabular}\n"
      ],
      "text/markdown": [
       "\n",
       "| <!--/--> | V1 | V2 | V3 | V4 | V5 | V6 | V7 | V8 | V9 | V10 | V11 | V12 | V13 | V14 | V15 | V16 |\n",
       "|---|---|---|---|---|---|---|---|---|---|---|---|---|---|---|---|---|\n",
       "| 698 | 2019     | 송파구   | 발생건수 | 2,892    | 212      | 193      | 243      | 228      | 277      | 241      | 227      | 247      | 245      | 304      | 260      | 215      |\n",
       "| 699 | 2019     | 송파구   | 사망자수 | 13       | -        | 2        | -        | -        | 3        | -        | 1        | 1        | -        | 3        | 3        | -        |\n",
       "| 700 | 2019     | 송파구   | 부상자수 | 4,003    | 319      | 253      | 336      | 317      | 398      | 311      | 312      | 340      | 341      | 447      | 330      | 299      |\n",
       "| 701 | 2019     | 강동구   | 발생건수 | 1,414    | 98       | 87       | 122      | 112      | 139      | 123      | 146      | 127      | 98       | 108      | 146      | 108      |\n",
       "| 702 | 2019     | 강동구   | 사망자수 | 11       | 1        | -        | -        | -        | 1        | 1        | 2        | 2        | 2        | 1        | -        | 1        |\n",
       "| 703 | 2019     | 강동구   | 부상자수 | 1,910    | 115      | 133      | 163      | 153      | 192      | 179      | 189      | 175      | 137      | 144      | 199      | 131      |\n",
       "\n"
      ],
      "text/plain": [
       "    V1   V2     V3       V4    V5  V6  V7  V8  V9  V10 V11 V12 V13 V14 V15 V16\n",
       "698 2019 송파구 발생건수 2,892 212 193 243 228 277 241 227 247 245 304 260 215\n",
       "699 2019 송파구 사망자수 13    -   2   -   -   3   -   1   1   -   3   3   -  \n",
       "700 2019 송파구 부상자수 4,003 319 253 336 317 398 311 312 340 341 447 330 299\n",
       "701 2019 강동구 발생건수 1,414 98  87  122 112 139 123 146 127 98  108 146 108\n",
       "702 2019 강동구 사망자수 11    1   -   -   -   1   1   2   2   2   1   -   1  \n",
       "703 2019 강동구 부상자수 1,910 115 133 163 153 192 179 189 175 137 144 199 131"
      ]
     },
     "metadata": {},
     "output_type": "display_data"
    },
    {
     "data": {
      "text/html": [
       "<table>\n",
       "<thead><tr><th></th><th scope=col>년도</th><th scope=col>월</th><th scope=col>자치구명</th><th scope=col>발생건수</th><th scope=col>사망자수</th><th scope=col>부상자수</th></tr></thead>\n",
       "<tbody>\n",
       "\t<tr><th scope=row>2695</th><td>2019  </td><td> 7    </td><td>강동구</td><td>146   </td><td>2     </td><td>189   </td></tr>\n",
       "\t<tr><th scope=row>2696</th><td>2019  </td><td> 8    </td><td>강동구</td><td>127   </td><td>2     </td><td>175   </td></tr>\n",
       "\t<tr><th scope=row>2697</th><td>2019  </td><td> 9    </td><td>강동구</td><td> 98   </td><td>2     </td><td>137   </td></tr>\n",
       "\t<tr><th scope=row>2698</th><td>2019  </td><td>10    </td><td>강동구</td><td>108   </td><td>1     </td><td>144   </td></tr>\n",
       "\t<tr><th scope=row>2699</th><td>2019  </td><td>11    </td><td>강동구</td><td>146   </td><td>0     </td><td>199   </td></tr>\n",
       "\t<tr><th scope=row>2700</th><td>2019  </td><td>12    </td><td>강동구</td><td>108   </td><td>1     </td><td>131   </td></tr>\n",
       "</tbody>\n",
       "</table>\n"
      ],
      "text/latex": [
       "\\begin{tabular}{r|llllll}\n",
       "  & 년도 & 월 & 자치구명 & 발생건수 & 사망자수 & 부상자수\\\\\n",
       "\\hline\n",
       "\t2695 & 2019   &  7     & 강동구 & 146    & 2      & 189   \\\\\n",
       "\t2696 & 2019   &  8     & 강동구 & 127    & 2      & 175   \\\\\n",
       "\t2697 & 2019   &  9     & 강동구 &  98    & 2      & 137   \\\\\n",
       "\t2698 & 2019   & 10     & 강동구 & 108    & 1      & 144   \\\\\n",
       "\t2699 & 2019   & 11     & 강동구 & 146    & 0      & 199   \\\\\n",
       "\t2700 & 2019   & 12     & 강동구 & 108    & 1      & 131   \\\\\n",
       "\\end{tabular}\n"
      ],
      "text/markdown": [
       "\n",
       "| <!--/--> | 년도 | 월 | 자치구명 | 발생건수 | 사망자수 | 부상자수 |\n",
       "|---|---|---|---|---|---|---|\n",
       "| 2695 | 2019   |  7     | 강동구 | 146    | 2      | 189    |\n",
       "| 2696 | 2019   |  8     | 강동구 | 127    | 2      | 175    |\n",
       "| 2697 | 2019   |  9     | 강동구 |  98    | 2      | 137    |\n",
       "| 2698 | 2019   | 10     | 강동구 | 108    | 1      | 144    |\n",
       "| 2699 | 2019   | 11     | 강동구 | 146    | 0      | 199    |\n",
       "| 2700 | 2019   | 12     | 강동구 | 108    | 1      | 131    |\n",
       "\n"
      ],
      "text/plain": [
       "     년도 월 자치구명 발생건수 사망자수 부상자수\n",
       "2695 2019  7 강동구   146      2        189     \n",
       "2696 2019  8 강동구   127      2        175     \n",
       "2697 2019  9 강동구    98      2        137     \n",
       "2698 2019 10 강동구   108      1        144     \n",
       "2699 2019 11 강동구   146      0        199     \n",
       "2700 2019 12 강동구   108      1        131     "
      ]
     },
     "metadata": {},
     "output_type": "display_data"
    }
   ],
   "source": [
    "# 합계 샘플 데이터 삭제\n",
    "# \n",
    "\n",
    "tail(acc)\n",
    "tail(seoul)"
   ]
  },
  {
   "cell_type": "code",
   "execution_count": 3,
   "id": "efafd412",
   "metadata": {},
   "outputs": [
    {
     "name": "stdout",
     "output_type": "stream",
     "text": [
      "'data.frame':\t703 obs. of  16 variables:\n",
      " $ V1 : Factor w/ 10 levels \"2011\",\"2012\",..: 10 1 1 1 1 1 1 1 1 1 ...\n",
      " $ V2 : Factor w/ 27 levels \"강남구\",\"강동구\",..: 23 27 27 27 24 24 24 25 25 25 ...\n",
      " $ V3 : Factor w/ 4 levels \"구분\",\"발생건수\",..: 1 2 4 3 2 4 3 2 4 3 ...\n",
      " $ V4 : Factor w/ 458 levels \"1,017\",\"1,029\",..: 458 415 421 436 93 240 235 116 239 253 ...\n",
      " $ V5 : Factor w/ 213 levels \"-\",\"1\",\"100\",..: 93 138 158 166 18 94 63 11 1 57 ...\n",
      " $ V6 : Factor w/ 209 levels \"-\",\"1\",\"100\",..: 138 96 149 143 209 1 38 196 1 15 ...\n",
      " $ V7 : Factor w/ 219 levels \"-\",\"1\",\"100\",..: 169 146 100 174 19 1 65 44 1 85 ...\n",
      " $ V8 : Factor w/ 221 levels \"-\",\"1\",\"100\",..: 194 150 189 182 12 2 56 30 144 77 ...\n",
      " $ V9 : Factor w/ 223 levels \"-\",\"1\",\"100\",..: 200 154 176 196 24 1 57 23 2 63 ...\n",
      " $ V10: Factor w/ 222 levels \"-\",\"1\",\"100\",..: 199 151 172 179 18 146 65 17 2 58 ...\n",
      " $ V11: Factor w/ 225 levels \"-\",\"1\",\"100\",..: 205 149 171 190 6 2 58 22 2 58 ...\n",
      " $ V12: Factor w/ 218 levels \"-\",\"1\",\"100\",..: 208 148 187 175 25 2 72 20 2 56 ...\n",
      " $ V13: Factor w/ 221 levels \"-\",\"1\",\"10\",\"100\",..: 221 154 175 186 25 99 69 43 2 82 ...\n",
      " $ V14: Factor w/ 223 levels \"-\",\"1\",\"100\",..: 12 154 129 198 33 90 85 45 90 94 ...\n",
      " $ V15: Factor w/ 234 levels \"-\",\"1\",\"100\",..: 21 158 191 203 43 2 101 34 150 74 ...\n",
      " $ V16: Factor w/ 230 levels \"-\",\"1\",\"100\",..: 33 152 189 195 25 2 72 46 1 107 ...\n",
      "'data.frame':\t2700 obs. of  6 variables:\n",
      " $ 년도    : int  2011 2011 2011 2011 2011 2011 2011 2011 2011 2011 ...\n",
      " $ 월      : int  1 2 3 4 5 6 7 8 9 10 ...\n",
      " $ 자치구명: Factor w/ 25 levels \"강남구\",\"강동구\",..: 23 23 23 23 23 23 23 23 23 23 ...\n",
      " $ 발생건수: int  115 99 116 110 122 116 103 122 121 135 ...\n",
      " $ 사망자수: int  2 0 0 1 0 3 1 1 2 2 ...\n",
      " $ 부상자수: int  165 134 162 153 157 163 154 171 166 193 ...\n"
     ]
    }
   ],
   "source": [
    "str(acc)\n",
    "str(seoul)"
   ]
  },
  {
   "cell_type": "code",
   "execution_count": 4,
   "id": "5db297e1",
   "metadata": {},
   "outputs": [
    {
     "data": {
      "text/plain": [
       "\n",
       "  강남구   강동구   강북구   강서구   관악구   광진구   구로구   금천구 \n",
       "      27       27       27       27       27       27       27       27 \n",
       "  노원구   도봉구 동대문구   동작구   마포구 서대문구   서초구   성동구 \n",
       "      27       27       27       27       27       27       27       27 \n",
       "  성북구   송파구   양천구 영등포구   용산구   은평구 자치구별   종로구 \n",
       "      27       27       27       27       27       27        1       27 \n",
       "    중구   중랑구     합계 \n",
       "      27       27       27 "
      ]
     },
     "metadata": {},
     "output_type": "display_data"
    }
   ],
   "source": [
    "table(acc$V2)"
   ]
  },
  {
   "cell_type": "code",
   "execution_count": 5,
   "id": "c6447990",
   "metadata": {},
   "outputs": [
    {
     "name": "stderr",
     "output_type": "stream",
     "text": [
      "\n",
      "Attaching package: ‘dplyr’\n",
      "\n",
      "The following objects are masked from ‘package:stats’:\n",
      "\n",
      "    filter, lag\n",
      "\n",
      "The following objects are masked from ‘package:base’:\n",
      "\n",
      "    intersect, setdiff, setequal, union\n",
      "\n"
     ]
    }
   ],
   "source": [
    "library(dplyr)\n"
   ]
  },
  {
   "cell_type": "code",
   "execution_count": 119,
   "id": "8179fb83",
   "metadata": {
    "scrolled": false
   },
   "outputs": [
    {
     "data": {
      "text/html": [
       "<table>\n",
       "<thead><tr><th scope=col>V5</th><th scope=col>V6</th><th scope=col>V7</th><th scope=col>V8</th><th scope=col>V9</th><th scope=col>V10</th><th scope=col>V11</th><th scope=col>V12</th><th scope=col>V13</th><th scope=col>V14</th><th scope=col>V15</th><th scope=col>V16</th></tr></thead>\n",
       "<tbody>\n",
       "\t<tr><td>1월 </td><td>2월 </td><td>3월 </td><td>4월 </td><td>5월 </td><td>6월 </td><td>7월 </td><td>8월 </td><td>9월 </td><td>10월</td><td>11월</td><td>12월</td></tr>\n",
       "</tbody>\n",
       "</table>\n"
      ],
      "text/latex": [
       "\\begin{tabular}{r|llllllllllll}\n",
       " V5 & V6 & V7 & V8 & V9 & V10 & V11 & V12 & V13 & V14 & V15 & V16\\\\\n",
       "\\hline\n",
       "\t 1월  & 2월  & 3월  & 4월  & 5월  & 6월  & 7월  & 8월  & 9월  & 10월 & 11월 & 12월\\\\\n",
       "\\end{tabular}\n"
      ],
      "text/markdown": [
       "\n",
       "| V5 | V6 | V7 | V8 | V9 | V10 | V11 | V12 | V13 | V14 | V15 | V16 |\n",
       "|---|---|---|---|---|---|---|---|---|---|---|---|\n",
       "| 1월  | 2월  | 3월  | 4월  | 5월  | 6월  | 7월  | 8월  | 9월  | 10월 | 11월 | 12월 |\n",
       "\n"
      ],
      "text/plain": [
       "  V5  V6  V7  V8  V9  V10 V11 V12 V13 V14  V15  V16 \n",
       "1 1월 2월 3월 4월 5월 6월 7월 8월 9월 10월 11월 12월"
      ]
     },
     "metadata": {},
     "output_type": "display_data"
    },
    {
     "data": {
      "text/html": [
       "<table>\n",
       "<thead><tr><th scope=col>V5</th><th scope=col>V6</th><th scope=col>V7</th><th scope=col>V8</th><th scope=col>V9</th><th scope=col>V10</th><th scope=col>V11</th><th scope=col>V12</th><th scope=col>V13</th><th scope=col>V14</th><th scope=col>V15</th><th scope=col>V16</th></tr></thead>\n",
       "<tbody>\n",
       "\t<tr><td>134</td><td>113</td><td>137</td><td>149</td><td>167</td><td>134</td><td>159</td><td>148</td><td>174</td><td>161</td><td>167</td><td>139</td></tr>\n",
       "\t<tr><td>-  </td><td>1  </td><td>-  </td><td>1  </td><td>2  </td><td>1  </td><td>4  </td><td>2  </td><td>-  </td><td>-  </td><td>-  </td><td>1  </td></tr>\n",
       "\t<tr><td>165</td><td>146</td><td>195</td><td>191</td><td>223</td><td>181</td><td>213</td><td>192</td><td>239</td><td>237</td><td>224</td><td>180</td></tr>\n",
       "\t<tr><td>120</td><td>110</td><td>168</td><td>133</td><td>178</td><td>148</td><td>165</td><td>154</td><td>124</td><td>164</td><td>156</td><td>133</td></tr>\n",
       "\t<tr><td>1  </td><td>2  </td><td>4  </td><td>1  </td><td>2  </td><td>-  </td><td>-  </td><td>-  </td><td>-  </td><td>-  </td><td>-  </td><td>1  </td></tr>\n",
       "\t<tr><td>168</td><td>138</td><td>237</td><td>173</td><td>225</td><td>176</td><td>233</td><td>217</td><td>169</td><td>242</td><td>224</td><td>199</td></tr>\n",
       "</tbody>\n",
       "</table>\n"
      ],
      "text/latex": [
       "\\begin{tabular}{r|llllllllllll}\n",
       " V5 & V6 & V7 & V8 & V9 & V10 & V11 & V12 & V13 & V14 & V15 & V16\\\\\n",
       "\\hline\n",
       "\t 134 & 113 & 137 & 149 & 167 & 134 & 159 & 148 & 174 & 161 & 167 & 139\\\\\n",
       "\t -   & 1   & -   & 1   & 2   & 1   & 4   & 2   & -   & -   & -   & 1  \\\\\n",
       "\t 165 & 146 & 195 & 191 & 223 & 181 & 213 & 192 & 239 & 237 & 224 & 180\\\\\n",
       "\t 120 & 110 & 168 & 133 & 178 & 148 & 165 & 154 & 124 & 164 & 156 & 133\\\\\n",
       "\t 1   & 2   & 4   & 1   & 2   & -   & -   & -   & -   & -   & -   & 1  \\\\\n",
       "\t 168 & 138 & 237 & 173 & 225 & 176 & 233 & 217 & 169 & 242 & 224 & 199\\\\\n",
       "\\end{tabular}\n"
      ],
      "text/markdown": [
       "\n",
       "| V5 | V6 | V7 | V8 | V9 | V10 | V11 | V12 | V13 | V14 | V15 | V16 |\n",
       "|---|---|---|---|---|---|---|---|---|---|---|---|\n",
       "| 134 | 113 | 137 | 149 | 167 | 134 | 159 | 148 | 174 | 161 | 167 | 139 |\n",
       "| -   | 1   | -   | 1   | 2   | 1   | 4   | 2   | -   | -   | -   | 1   |\n",
       "| 165 | 146 | 195 | 191 | 223 | 181 | 213 | 192 | 239 | 237 | 224 | 180 |\n",
       "| 120 | 110 | 168 | 133 | 178 | 148 | 165 | 154 | 124 | 164 | 156 | 133 |\n",
       "| 1   | 2   | 4   | 1   | 2   | -   | -   | -   | -   | -   | -   | 1   |\n",
       "| 168 | 138 | 237 | 173 | 225 | 176 | 233 | 217 | 169 | 242 | 224 | 199 |\n",
       "\n"
      ],
      "text/plain": [
       "  V5  V6  V7  V8  V9  V10 V11 V12 V13 V14 V15 V16\n",
       "1 134 113 137 149 167 134 159 148 174 161 167 139\n",
       "2 -   1   -   1   2   1   4   2   -   -   -   1  \n",
       "3 165 146 195 191 223 181 213 192 239 237 224 180\n",
       "4 120 110 168 133 178 148 165 154 124 164 156 133\n",
       "5 1   2   4   1   2   -   -   -   -   -   -   1  \n",
       "6 168 138 237 173 225 176 233 217 169 242 224 199"
      ]
     },
     "metadata": {},
     "output_type": "display_data"
    },
    {
     "data": {
      "text/html": [
       "<table>\n",
       "<thead><tr><th></th><th scope=col>1</th><th scope=col>2</th><th scope=col>3</th></tr></thead>\n",
       "<tbody>\n",
       "\t<tr><th scope=row>V5</th><td>134</td><td>-  </td><td>165</td></tr>\n",
       "\t<tr><th scope=row>V6</th><td>113</td><td>1  </td><td>146</td></tr>\n",
       "\t<tr><th scope=row>V7</th><td>137</td><td>-  </td><td>195</td></tr>\n",
       "\t<tr><th scope=row>V8</th><td>149</td><td>1  </td><td>191</td></tr>\n",
       "\t<tr><th scope=row>V9</th><td>167</td><td>2  </td><td>223</td></tr>\n",
       "\t<tr><th scope=row>V10</th><td>134</td><td>1  </td><td>181</td></tr>\n",
       "\t<tr><th scope=row>V11</th><td>159</td><td>4  </td><td>213</td></tr>\n",
       "\t<tr><th scope=row>V12</th><td>148</td><td>2  </td><td>192</td></tr>\n",
       "\t<tr><th scope=row>V13</th><td>174</td><td>-  </td><td>239</td></tr>\n",
       "\t<tr><th scope=row>V14</th><td>161</td><td>-  </td><td>237</td></tr>\n",
       "\t<tr><th scope=row>V15</th><td>167</td><td>-  </td><td>224</td></tr>\n",
       "\t<tr><th scope=row>V16</th><td>139</td><td>1  </td><td>180</td></tr>\n",
       "</tbody>\n",
       "</table>\n"
      ],
      "text/latex": [
       "\\begin{tabular}{r|lll}\n",
       "  & 1 & 2 & 3\\\\\n",
       "\\hline\n",
       "\tV5 & 134 & -   & 165\\\\\n",
       "\tV6 & 113 & 1   & 146\\\\\n",
       "\tV7 & 137 & -   & 195\\\\\n",
       "\tV8 & 149 & 1   & 191\\\\\n",
       "\tV9 & 167 & 2   & 223\\\\\n",
       "\tV10 & 134 & 1   & 181\\\\\n",
       "\tV11 & 159 & 4   & 213\\\\\n",
       "\tV12 & 148 & 2   & 192\\\\\n",
       "\tV13 & 174 & -   & 239\\\\\n",
       "\tV14 & 161 & -   & 237\\\\\n",
       "\tV15 & 167 & -   & 224\\\\\n",
       "\tV16 & 139 & 1   & 180\\\\\n",
       "\\end{tabular}\n"
      ],
      "text/markdown": [
       "\n",
       "| <!--/--> | 1 | 2 | 3 |\n",
       "|---|---|---|---|\n",
       "| V5 | 134 | -   | 165 |\n",
       "| V6 | 113 | 1   | 146 |\n",
       "| V7 | 137 | -   | 195 |\n",
       "| V8 | 149 | 1   | 191 |\n",
       "| V9 | 167 | 2   | 223 |\n",
       "| V10 | 134 | 1   | 181 |\n",
       "| V11 | 159 | 4   | 213 |\n",
       "| V12 | 148 | 2   | 192 |\n",
       "| V13 | 174 | -   | 239 |\n",
       "| V14 | 161 | -   | 237 |\n",
       "| V15 | 167 | -   | 224 |\n",
       "| V16 | 139 | 1   | 180 |\n",
       "\n"
      ],
      "text/plain": [
       "    1   2 3  \n",
       "V5  134 - 165\n",
       "V6  113 1 146\n",
       "V7  137 - 195\n",
       "V8  149 1 191\n",
       "V9  167 2 223\n",
       "V10 134 1 181\n",
       "V11 159 4 213\n",
       "V12 148 2 192\n",
       "V13 174 - 239\n",
       "V14 161 - 237\n",
       "V15 167 - 224\n",
       "V16 139 1 180"
      ]
     },
     "metadata": {},
     "output_type": "display_data"
    }
   ],
   "source": [
    "accMonth <- acc[1,]\n",
    "accMonth[5:ncol(accMonth)]\n",
    "\n",
    "\n",
    "# 발생건수, 사망자수, 부상자수\n",
    "acc2 <- arrange(subset(acc, V2 != '합계'& V2 != '자치구별'), desc(V2))[,c(5:ncol(acc))]\n",
    "\n",
    "head(acc2)\n",
    "t(acc2[c(1:3),])\n"
   ]
  },
  {
   "cell_type": "code",
   "execution_count": 15,
   "id": "83dc719e",
   "metadata": {},
   "outputs": [
    {
     "data": {
      "text/html": [
       "0"
      ],
      "text/latex": [
       "0"
      ],
      "text/markdown": [
       "0"
      ],
      "text/plain": [
       "[1] 0"
      ]
     },
     "metadata": {},
     "output_type": "display_data"
    },
    {
     "data": {
      "text/html": [
       "675"
      ],
      "text/latex": [
       "675"
      ],
      "text/markdown": [
       "675"
      ],
      "text/plain": [
       "[1] 675"
      ]
     },
     "metadata": {},
     "output_type": "display_data"
    }
   ],
   "source": [
    "sum(is.na(acc))\n",
    "nrow(acc2)"
   ]
  },
  {
   "cell_type": "code",
   "execution_count": 31,
   "id": "bbd335a6",
   "metadata": {},
   "outputs": [
    {
     "data": {
      "text/html": [
       "<table>\n",
       "<thead><tr><th></th><th scope=col>V1</th><th scope=col>V2</th><th scope=col>V3</th><th scope=col>V5</th><th scope=col>V6</th><th scope=col>V7</th><th scope=col>V8</th><th scope=col>V9</th><th scope=col>V10</th><th scope=col>V11</th><th scope=col>V12</th><th scope=col>V13</th><th scope=col>V14</th><th scope=col>V15</th><th scope=col>V16</th></tr></thead>\n",
       "<tbody>\n",
       "\t<tr><th scope=row>4</th><td>2011    </td><td>합계    </td><td>부상자수</td><td>4,429   </td><td>3,734   </td><td>4,513   </td><td>4,905   </td><td>5,036   </td><td>4,831   </td><td>5,067   </td><td>4,823   </td><td>4,893   </td><td>5,244   </td><td>5,150   </td><td>5,000   </td></tr>\n",
       "\t<tr><th scope=row>5</th><td>2011    </td><td>종로구  </td><td>발생건수</td><td>115     </td><td>99      </td><td>116     </td><td>110     </td><td>122     </td><td>116     </td><td>103     </td><td>122     </td><td>121     </td><td>135     </td><td>140     </td><td>122     </td></tr>\n",
       "\t<tr><th scope=row>6</th><td>2011    </td><td>종로구  </td><td>사망자수</td><td>2       </td><td>-       </td><td>-       </td><td>1       </td><td>-       </td><td>3       </td><td>1       </td><td>1       </td><td>2       </td><td>2       </td><td>1       </td><td>1       </td></tr>\n",
       "\t<tr><th scope=row>7</th><td>2011    </td><td>종로구  </td><td>부상자수</td><td>165     </td><td>134     </td><td>162     </td><td>153     </td><td>157     </td><td>163     </td><td>154     </td><td>171     </td><td>166     </td><td>193     </td><td>204     </td><td>172     </td></tr>\n",
       "\t<tr><th scope=row>8</th><td>2011    </td><td>중구    </td><td>발생건수</td><td>108     </td><td>86      </td><td>141     </td><td>128     </td><td>121     </td><td>115     </td><td>119     </td><td>117     </td><td>140     </td><td>147     </td><td>132     </td><td>143     </td></tr>\n",
       "\t<tr><th scope=row>9</th><td>2011    </td><td>중구    </td><td>사망자수</td><td>-       </td><td>-       </td><td>-       </td><td>3       </td><td>1       </td><td>1       </td><td>1       </td><td>1       </td><td>1       </td><td>2       </td><td>3       </td><td>-       </td></tr>\n",
       "</tbody>\n",
       "</table>\n"
      ],
      "text/latex": [
       "\\begin{tabular}{r|lllllllllllllll}\n",
       "  & V1 & V2 & V3 & V5 & V6 & V7 & V8 & V9 & V10 & V11 & V12 & V13 & V14 & V15 & V16\\\\\n",
       "\\hline\n",
       "\t4 & 2011     & 합계     & 부상자수 & 4,429    & 3,734    & 4,513    & 4,905    & 5,036    & 4,831    & 5,067    & 4,823    & 4,893    & 5,244    & 5,150    & 5,000   \\\\\n",
       "\t5 & 2011     & 종로구   & 발생건수 & 115      & 99       & 116      & 110      & 122      & 116      & 103      & 122      & 121      & 135      & 140      & 122     \\\\\n",
       "\t6 & 2011     & 종로구   & 사망자수 & 2        & -        & -        & 1        & -        & 3        & 1        & 1        & 2        & 2        & 1        & 1       \\\\\n",
       "\t7 & 2011     & 종로구   & 부상자수 & 165      & 134      & 162      & 153      & 157      & 163      & 154      & 171      & 166      & 193      & 204      & 172     \\\\\n",
       "\t8 & 2011     & 중구     & 발생건수 & 108      & 86       & 141      & 128      & 121      & 115      & 119      & 117      & 140      & 147      & 132      & 143     \\\\\n",
       "\t9 & 2011     & 중구     & 사망자수 & -        & -        & -        & 3        & 1        & 1        & 1        & 1        & 1        & 2        & 3        & -       \\\\\n",
       "\\end{tabular}\n"
      ],
      "text/markdown": [
       "\n",
       "| <!--/--> | V1 | V2 | V3 | V5 | V6 | V7 | V8 | V9 | V10 | V11 | V12 | V13 | V14 | V15 | V16 |\n",
       "|---|---|---|---|---|---|---|---|---|---|---|---|---|---|---|---|\n",
       "| 4 | 2011     | 합계     | 부상자수 | 4,429    | 3,734    | 4,513    | 4,905    | 5,036    | 4,831    | 5,067    | 4,823    | 4,893    | 5,244    | 5,150    | 5,000    |\n",
       "| 5 | 2011     | 종로구   | 발생건수 | 115      | 99       | 116      | 110      | 122      | 116      | 103      | 122      | 121      | 135      | 140      | 122      |\n",
       "| 6 | 2011     | 종로구   | 사망자수 | 2        | -        | -        | 1        | -        | 3        | 1        | 1        | 2        | 2        | 1        | 1        |\n",
       "| 7 | 2011     | 종로구   | 부상자수 | 165      | 134      | 162      | 153      | 157      | 163      | 154      | 171      | 166      | 193      | 204      | 172      |\n",
       "| 8 | 2011     | 중구     | 발생건수 | 108      | 86       | 141      | 128      | 121      | 115      | 119      | 117      | 140      | 147      | 132      | 143      |\n",
       "| 9 | 2011     | 중구     | 사망자수 | -        | -        | -        | 3        | 1        | 1        | 1        | 1        | 1        | 2        | 3        | -        |\n",
       "\n"
      ],
      "text/plain": [
       "  V1   V2     V3       V5    V6    V7    V8    V9    V10   V11   V12   V13  \n",
       "4 2011 합계   부상자수 4,429 3,734 4,513 4,905 5,036 4,831 5,067 4,823 4,893\n",
       "5 2011 종로구 발생건수 115   99    116   110   122   116   103   122   121  \n",
       "6 2011 종로구 사망자수 2     -     -     1     -     3     1     1     2    \n",
       "7 2011 종로구 부상자수 165   134   162   153   157   163   154   171   166  \n",
       "8 2011 중구   발생건수 108   86    141   128   121   115   119   117   140  \n",
       "9 2011 중구   사망자수 -     -     -     3     1     1     1     1     1    \n",
       "  V14   V15   V16  \n",
       "4 5,244 5,150 5,000\n",
       "5 135   140   122  \n",
       "6 2     1     1    \n",
       "7 193   204   172  \n",
       "8 147   132   143  \n",
       "9 2     3     -    "
      ]
     },
     "metadata": {},
     "output_type": "display_data"
    }
   ],
   "source": [
    "# 합계 샘플 데이터 삭제, 합계 컬럼 삭제\n",
    "head(acc[-c(1:3),-4])"
   ]
  },
  {
   "cell_type": "code",
   "execution_count": 122,
   "id": "dbec6072",
   "metadata": {},
   "outputs": [
    {
     "ename": "ERROR",
     "evalue": "Error in rbind(deparse.level, ...): numbers of columns of arguments do not match\n",
     "output_type": "error",
     "traceback": [
      "Error in rbind(deparse.level, ...): numbers of columns of arguments do not match\nTraceback:\n",
      "1. rbind(acc3, a)",
      "2. rbind(deparse.level, ...)",
      "3. stop(\"numbers of columns of arguments do not match\")"
     ]
    }
   ],
   "source": [
    "# 구분(사망자수, 발생건수, 부상자수) 컬럼화 / 1~12월 컬럼 로우데이터로 변경\n",
    "\n",
    "acc3 <- data.frame()\n",
    "\n",
    "for (i in 1:(nrow(acc2)/3)){\n",
    "    \n",
    "    a <- t(acc2[c((i-1)*3+1:(i-1)*3+3),])\n",
    "    \n",
    "    colnames(a) <- c()\n",
    "    \n",
    "    acc3 <- rbind(acc3 , a)\n",
    "    \n",
    "   \n",
    "}\n",
    "\n",
    "acc3"
   ]
  },
  {
   "cell_type": "code",
   "execution_count": 115,
   "id": "b6d78d95",
   "metadata": {},
   "outputs": [
    {
     "data": {
      "text/html": [
       "225"
      ],
      "text/latex": [
       "225"
      ],
      "text/markdown": [
       "225"
      ],
      "text/plain": [
       "[1] 225"
      ]
     },
     "metadata": {},
     "output_type": "display_data"
    }
   ],
   "source": [
    "nrow(acc2) / 3"
   ]
  },
  {
   "cell_type": "code",
   "execution_count": null,
   "id": "bd32ded9",
   "metadata": {},
   "outputs": [],
   "source": []
  },
  {
   "cell_type": "code",
   "execution_count": null,
   "id": "801fb314",
   "metadata": {},
   "outputs": [],
   "source": []
  },
  {
   "cell_type": "code",
   "execution_count": null,
   "id": "3239596a",
   "metadata": {},
   "outputs": [],
   "source": []
  },
  {
   "cell_type": "code",
   "execution_count": null,
   "id": "803e4f9d",
   "metadata": {},
   "outputs": [],
   "source": []
  },
  {
   "cell_type": "code",
   "execution_count": null,
   "id": "1fe79a07",
   "metadata": {},
   "outputs": [],
   "source": []
  },
  {
   "cell_type": "code",
   "execution_count": null,
   "id": "5273c788",
   "metadata": {},
   "outputs": [],
   "source": []
  },
  {
   "cell_type": "code",
   "execution_count": null,
   "id": "cb8260c5",
   "metadata": {},
   "outputs": [],
   "source": []
  },
  {
   "cell_type": "code",
   "execution_count": null,
   "id": "ec77f11b",
   "metadata": {},
   "outputs": [],
   "source": []
  }
 ],
 "metadata": {
  "kernelspec": {
   "display_name": "R",
   "language": "R",
   "name": "ir"
  },
  "language_info": {
   "codemirror_mode": "r",
   "file_extension": ".r",
   "mimetype": "text/x-r-source",
   "name": "R",
   "pygments_lexer": "r",
   "version": "3.6.1"
  }
 },
 "nbformat": 4,
 "nbformat_minor": 5
}
