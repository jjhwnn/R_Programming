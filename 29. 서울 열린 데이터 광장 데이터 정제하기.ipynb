{
 "cells": [
  {
   "cell_type": "code",
   "execution_count": 45,
   "id": "fbff91e4",
   "metadata": {},
   "outputs": [
    {
     "data": {
      "text/html": [
       "<table>\n",
       "<thead><tr><th scope=col>기간</th><th scope=col>자치구별</th><th scope=col>구분</th><th scope=col>합계</th><th scope=col>X1월</th><th scope=col>X2월</th><th scope=col>X3월</th><th scope=col>X4월</th><th scope=col>X5월</th><th scope=col>X6월</th><th scope=col>X7월</th><th scope=col>X8월</th><th scope=col>X9월</th><th scope=col>X10월</th><th scope=col>X11월</th><th scope=col>X12월</th></tr></thead>\n",
       "<tbody>\n",
       "\t<tr><td>2011    </td><td>합계    </td><td>발생건수</td><td>40,451  </td><td>3,038   </td><td>2,573   </td><td>3,126   </td><td>3,450   </td><td>3,603   </td><td>3,390   </td><td>3,529   </td><td>3,360   </td><td>3,433   </td><td>3,734   </td><td>3,701   </td><td>3,514   </td></tr>\n",
       "\t<tr><td>2011    </td><td>합계    </td><td>사망자수</td><td>435     </td><td>36      </td><td>32      </td><td>20      </td><td>44      </td><td>36      </td><td>37      </td><td>36      </td><td>50      </td><td>37      </td><td>25      </td><td>40      </td><td>42      </td></tr>\n",
       "\t<tr><td>2011    </td><td>합계    </td><td>부상자수</td><td>57,625  </td><td>4,429   </td><td>3,734   </td><td>4,513   </td><td>4,905   </td><td>5,036   </td><td>4,831   </td><td>5,067   </td><td>4,823   </td><td>4,893   </td><td>5,244   </td><td>5,150   </td><td>5,000   </td></tr>\n",
       "\t<tr><td>2011    </td><td>종로구  </td><td>발생건수</td><td>1,421   </td><td>115     </td><td>99      </td><td>116     </td><td>110     </td><td>122     </td><td>116     </td><td>103     </td><td>122     </td><td>121     </td><td>135     </td><td>140     </td><td>122     </td></tr>\n",
       "\t<tr><td>2011    </td><td>종로구  </td><td>사망자수</td><td>14      </td><td>2       </td><td>-       </td><td>-       </td><td>1       </td><td>-       </td><td>3       </td><td>1       </td><td>1       </td><td>2       </td><td>2       </td><td>1       </td><td>1       </td></tr>\n",
       "\t<tr><td>2011    </td><td>종로구  </td><td>부상자수</td><td>1,994   </td><td>165     </td><td>134     </td><td>162     </td><td>153     </td><td>157     </td><td>163     </td><td>154     </td><td>171     </td><td>166     </td><td>193     </td><td>204     </td><td>172     </td></tr>\n",
       "</tbody>\n",
       "</table>\n"
      ],
      "text/latex": [
       "\\begin{tabular}{r|llllllllllllllll}\n",
       " 기간 & 자치구별 & 구분 & 합계 & X1월 & X2월 & X3월 & X4월 & X5월 & X6월 & X7월 & X8월 & X9월 & X10월 & X11월 & X12월\\\\\n",
       "\\hline\n",
       "\t 2011     & 합계     & 발생건수 & 40,451   & 3,038    & 2,573    & 3,126    & 3,450    & 3,603    & 3,390    & 3,529    & 3,360    & 3,433    & 3,734    & 3,701    & 3,514   \\\\\n",
       "\t 2011     & 합계     & 사망자수 & 435      & 36       & 32       & 20       & 44       & 36       & 37       & 36       & 50       & 37       & 25       & 40       & 42      \\\\\n",
       "\t 2011     & 합계     & 부상자수 & 57,625   & 4,429    & 3,734    & 4,513    & 4,905    & 5,036    & 4,831    & 5,067    & 4,823    & 4,893    & 5,244    & 5,150    & 5,000   \\\\\n",
       "\t 2011     & 종로구   & 발생건수 & 1,421    & 115      & 99       & 116      & 110      & 122      & 116      & 103      & 122      & 121      & 135      & 140      & 122     \\\\\n",
       "\t 2011     & 종로구   & 사망자수 & 14       & 2        & -        & -        & 1        & -        & 3        & 1        & 1        & 2        & 2        & 1        & 1       \\\\\n",
       "\t 2011     & 종로구   & 부상자수 & 1,994    & 165      & 134      & 162      & 153      & 157      & 163      & 154      & 171      & 166      & 193      & 204      & 172     \\\\\n",
       "\\end{tabular}\n"
      ],
      "text/markdown": [
       "\n",
       "| 기간 | 자치구별 | 구분 | 합계 | X1월 | X2월 | X3월 | X4월 | X5월 | X6월 | X7월 | X8월 | X9월 | X10월 | X11월 | X12월 |\n",
       "|---|---|---|---|---|---|---|---|---|---|---|---|---|---|---|---|\n",
       "| 2011     | 합계     | 발생건수 | 40,451   | 3,038    | 2,573    | 3,126    | 3,450    | 3,603    | 3,390    | 3,529    | 3,360    | 3,433    | 3,734    | 3,701    | 3,514    |\n",
       "| 2011     | 합계     | 사망자수 | 435      | 36       | 32       | 20       | 44       | 36       | 37       | 36       | 50       | 37       | 25       | 40       | 42       |\n",
       "| 2011     | 합계     | 부상자수 | 57,625   | 4,429    | 3,734    | 4,513    | 4,905    | 5,036    | 4,831    | 5,067    | 4,823    | 4,893    | 5,244    | 5,150    | 5,000    |\n",
       "| 2011     | 종로구   | 발생건수 | 1,421    | 115      | 99       | 116      | 110      | 122      | 116      | 103      | 122      | 121      | 135      | 140      | 122      |\n",
       "| 2011     | 종로구   | 사망자수 | 14       | 2        | -        | -        | 1        | -        | 3        | 1        | 1        | 2        | 2        | 1        | 1        |\n",
       "| 2011     | 종로구   | 부상자수 | 1,994    | 165      | 134      | 162      | 153      | 157      | 163      | 154      | 171      | 166      | 193      | 204      | 172      |\n",
       "\n"
      ],
      "text/plain": [
       "  기간 자치구별 구분     합계   X1월  X2월  X3월  X4월  X5월  X6월  X7월  X8월 \n",
       "1 2011 합계     발생건수 40,451 3,038 2,573 3,126 3,450 3,603 3,390 3,529 3,360\n",
       "2 2011 합계     사망자수 435    36    32    20    44    36    37    36    50   \n",
       "3 2011 합계     부상자수 57,625 4,429 3,734 4,513 4,905 5,036 4,831 5,067 4,823\n",
       "4 2011 종로구   발생건수 1,421  115   99    116   110   122   116   103   122  \n",
       "5 2011 종로구   사망자수 14     2     -     -     1     -     3     1     1    \n",
       "6 2011 종로구   부상자수 1,994  165   134   162   153   157   163   154   171  \n",
       "  X9월  X10월 X11월 X12월\n",
       "1 3,433 3,734 3,701 3,514\n",
       "2 37    25    40    42   \n",
       "3 4,893 5,244 5,150 5,000\n",
       "4 121   135   140   122  \n",
       "5 2     2     1     1    \n",
       "6 166   193   204   172  "
      ]
     },
     "metadata": {},
     "output_type": "display_data"
    },
    {
     "data": {
      "text/html": [
       "<table>\n",
       "<thead><tr><th scope=col>년도</th><th scope=col>월</th><th scope=col>자치구명</th><th scope=col>발생건수</th><th scope=col>사망자수</th><th scope=col>부상자수</th></tr></thead>\n",
       "<tbody>\n",
       "\t<tr><td>2011  </td><td>1     </td><td>종로구</td><td>115   </td><td>2     </td><td>165   </td></tr>\n",
       "\t<tr><td>2011  </td><td>2     </td><td>종로구</td><td> 99   </td><td>0     </td><td>134   </td></tr>\n",
       "\t<tr><td>2011  </td><td>3     </td><td>종로구</td><td>116   </td><td>0     </td><td>162   </td></tr>\n",
       "\t<tr><td>2011  </td><td>4     </td><td>종로구</td><td>110   </td><td>1     </td><td>153   </td></tr>\n",
       "\t<tr><td>2011  </td><td>5     </td><td>종로구</td><td>122   </td><td>0     </td><td>157   </td></tr>\n",
       "\t<tr><td>2011  </td><td>6     </td><td>종로구</td><td>116   </td><td>3     </td><td>163   </td></tr>\n",
       "</tbody>\n",
       "</table>\n"
      ],
      "text/latex": [
       "\\begin{tabular}{r|llllll}\n",
       " 년도 & 월 & 자치구명 & 발생건수 & 사망자수 & 부상자수\\\\\n",
       "\\hline\n",
       "\t 2011   & 1      & 종로구 & 115    & 2      & 165   \\\\\n",
       "\t 2011   & 2      & 종로구 &  99    & 0      & 134   \\\\\n",
       "\t 2011   & 3      & 종로구 & 116    & 0      & 162   \\\\\n",
       "\t 2011   & 4      & 종로구 & 110    & 1      & 153   \\\\\n",
       "\t 2011   & 5      & 종로구 & 122    & 0      & 157   \\\\\n",
       "\t 2011   & 6      & 종로구 & 116    & 3      & 163   \\\\\n",
       "\\end{tabular}\n"
      ],
      "text/markdown": [
       "\n",
       "| 년도 | 월 | 자치구명 | 발생건수 | 사망자수 | 부상자수 |\n",
       "|---|---|---|---|---|---|\n",
       "| 2011   | 1      | 종로구 | 115    | 2      | 165    |\n",
       "| 2011   | 2      | 종로구 |  99    | 0      | 134    |\n",
       "| 2011   | 3      | 종로구 | 116    | 0      | 162    |\n",
       "| 2011   | 4      | 종로구 | 110    | 1      | 153    |\n",
       "| 2011   | 5      | 종로구 | 122    | 0      | 157    |\n",
       "| 2011   | 6      | 종로구 | 116    | 3      | 163    |\n",
       "\n"
      ],
      "text/plain": [
       "  년도 월 자치구명 발생건수 사망자수 부상자수\n",
       "1 2011 1  종로구   115      2        165     \n",
       "2 2011 2  종로구    99      0        134     \n",
       "3 2011 3  종로구   116      0        162     \n",
       "4 2011 4  종로구   110      1        153     \n",
       "5 2011 5  종로구   122      0        157     \n",
       "6 2011 6  종로구   116      3        163     "
      ]
     },
     "metadata": {},
     "output_type": "display_data"
    }
   ],
   "source": [
    "acc <- read.table(\"../Data/trafficAccident_2011_2019.txt\", fileEncoding = \"UTF-8\", header = T, stringsAsFactors =  F)\n",
    "seoul <- read.csv(\"../Data/newSeoul2019.csv\", fileEncoding = \"UTF-8\")\n",
    "head(acc)\n",
    "head(seoul)"
   ]
  },
  {
   "cell_type": "code",
   "execution_count": 46,
   "id": "efafd412",
   "metadata": {},
   "outputs": [
    {
     "name": "stdout",
     "output_type": "stream",
     "text": [
      "'data.frame':\t702 obs. of  16 variables:\n",
      " $ 기간    : int  2011 2011 2011 2011 2011 2011 2011 2011 2011 2011 ...\n",
      " $ 자치구별: chr  \"합계\" \"합계\" \"합계\" \"종로구\" ...\n",
      " $ 구분    : chr  \"발생건수\" \"사망자수\" \"부상자수\" \"발생건수\" ...\n",
      " $ 합계    : chr  \"40,451\" \"435\" \"57,625\" \"1,421\" ...\n",
      " $ X1월    : chr  \"3,038\" \"36\" \"4,429\" \"115\" ...\n",
      " $ X2월    : chr  \"2,573\" \"32\" \"3,734\" \"99\" ...\n",
      " $ X3월    : chr  \"3,126\" \"20\" \"4,513\" \"116\" ...\n",
      " $ X4월    : chr  \"3,450\" \"44\" \"4,905\" \"110\" ...\n",
      " $ X5월    : chr  \"3,603\" \"36\" \"5,036\" \"122\" ...\n",
      " $ X6월    : chr  \"3,390\" \"37\" \"4,831\" \"116\" ...\n",
      " $ X7월    : chr  \"3,529\" \"36\" \"5,067\" \"103\" ...\n",
      " $ X8월    : chr  \"3,360\" \"50\" \"4,823\" \"122\" ...\n",
      " $ X9월    : chr  \"3,433\" \"37\" \"4,893\" \"121\" ...\n",
      " $ X10월   : chr  \"3,734\" \"25\" \"5,244\" \"135\" ...\n",
      " $ X11월   : chr  \"3,701\" \"40\" \"5,150\" \"140\" ...\n",
      " $ X12월   : chr  \"3,514\" \"42\" \"5,000\" \"122\" ...\n",
      "'data.frame':\t2700 obs. of  6 variables:\n",
      " $ 년도    : int  2011 2011 2011 2011 2011 2011 2011 2011 2011 2011 ...\n",
      " $ 월      : int  1 2 3 4 5 6 7 8 9 10 ...\n",
      " $ 자치구명: Factor w/ 25 levels \"강남구\",\"강동구\",..: 23 23 23 23 23 23 23 23 23 23 ...\n",
      " $ 발생건수: int  115 99 116 110 122 116 103 122 121 135 ...\n",
      " $ 사망자수: int  2 0 0 1 0 3 1 1 2 2 ...\n",
      " $ 부상자수: int  165 134 162 153 157 163 154 171 166 193 ...\n"
     ]
    }
   ],
   "source": [
    "str(acc)\n",
    "str(seoul)"
   ]
  },
  {
   "cell_type": "code",
   "execution_count": 57,
   "id": "c6447990",
   "metadata": {},
   "outputs": [],
   "source": [
    "library(dplyr)\n",
    "library(stringr)"
   ]
  },
  {
   "cell_type": "code",
   "execution_count": 59,
   "id": "8179fb83",
   "metadata": {},
   "outputs": [
    {
     "data": {
      "text/html": [
       "<table>\n",
       "<thead><tr><th scope=col>년도</th><th scope=col>자치구명</th><th scope=col>구분</th><th scope=col>1</th><th scope=col>2</th><th scope=col>3</th><th scope=col>4</th><th scope=col>5</th><th scope=col>6</th><th scope=col>7</th><th scope=col>8</th><th scope=col>9</th><th scope=col>10</th><th scope=col>11</th><th scope=col>12</th></tr></thead>\n",
       "<tbody>\n",
       "\t<tr><td>2011    </td><td>종로구  </td><td>발생건수</td><td>115     </td><td>99      </td><td>116     </td><td>110     </td><td>122     </td><td>116     </td><td>103     </td><td>122     </td><td>121     </td><td>135     </td><td>140     </td><td>122     </td></tr>\n",
       "\t<tr><td>2011    </td><td>종로구  </td><td>사망자수</td><td>2       </td><td>0       </td><td>0       </td><td>1       </td><td>0       </td><td>3       </td><td>1       </td><td>1       </td><td>2       </td><td>2       </td><td>1       </td><td>1       </td></tr>\n",
       "\t<tr><td>2011    </td><td>종로구  </td><td>부상자수</td><td>165     </td><td>134     </td><td>162     </td><td>153     </td><td>157     </td><td>163     </td><td>154     </td><td>171     </td><td>166     </td><td>193     </td><td>204     </td><td>172     </td></tr>\n",
       "\t<tr><td>2011    </td><td>중구    </td><td>발생건수</td><td>108     </td><td>86      </td><td>141     </td><td>128     </td><td>121     </td><td>115     </td><td>119     </td><td>117     </td><td>140     </td><td>147     </td><td>132     </td><td>143     </td></tr>\n",
       "\t<tr><td>2011    </td><td>중구    </td><td>사망자수</td><td>0       </td><td>0       </td><td>0       </td><td>3       </td><td>1       </td><td>1       </td><td>1       </td><td>1       </td><td>1       </td><td>2       </td><td>3       </td><td>0       </td></tr>\n",
       "\t<tr><td>2011    </td><td>중구    </td><td>부상자수</td><td>159     </td><td>112     </td><td>183     </td><td>175     </td><td>165     </td><td>156     </td><td>154     </td><td>154     </td><td>181     </td><td>203     </td><td>172     </td><td>211     </td></tr>\n",
       "</tbody>\n",
       "</table>\n"
      ],
      "text/latex": [
       "\\begin{tabular}{r|lllllllllllllll}\n",
       " 년도 & 자치구명 & 구분 & 1 & 2 & 3 & 4 & 5 & 6 & 7 & 8 & 9 & 10 & 11 & 12\\\\\n",
       "\\hline\n",
       "\t 2011     & 종로구   & 발생건수 & 115      & 99       & 116      & 110      & 122      & 116      & 103      & 122      & 121      & 135      & 140      & 122     \\\\\n",
       "\t 2011     & 종로구   & 사망자수 & 2        & 0        & 0        & 1        & 0        & 3        & 1        & 1        & 2        & 2        & 1        & 1       \\\\\n",
       "\t 2011     & 종로구   & 부상자수 & 165      & 134      & 162      & 153      & 157      & 163      & 154      & 171      & 166      & 193      & 204      & 172     \\\\\n",
       "\t 2011     & 중구     & 발생건수 & 108      & 86       & 141      & 128      & 121      & 115      & 119      & 117      & 140      & 147      & 132      & 143     \\\\\n",
       "\t 2011     & 중구     & 사망자수 & 0        & 0        & 0        & 3        & 1        & 1        & 1        & 1        & 1        & 2        & 3        & 0       \\\\\n",
       "\t 2011     & 중구     & 부상자수 & 159      & 112      & 183      & 175      & 165      & 156      & 154      & 154      & 181      & 203      & 172      & 211     \\\\\n",
       "\\end{tabular}\n"
      ],
      "text/markdown": [
       "\n",
       "| 년도 | 자치구명 | 구분 | 1 | 2 | 3 | 4 | 5 | 6 | 7 | 8 | 9 | 10 | 11 | 12 |\n",
       "|---|---|---|---|---|---|---|---|---|---|---|---|---|---|---|\n",
       "| 2011     | 종로구   | 발생건수 | 115      | 99       | 116      | 110      | 122      | 116      | 103      | 122      | 121      | 135      | 140      | 122      |\n",
       "| 2011     | 종로구   | 사망자수 | 2        | 0        | 0        | 1        | 0        | 3        | 1        | 1        | 2        | 2        | 1        | 1        |\n",
       "| 2011     | 종로구   | 부상자수 | 165      | 134      | 162      | 153      | 157      | 163      | 154      | 171      | 166      | 193      | 204      | 172      |\n",
       "| 2011     | 중구     | 발생건수 | 108      | 86       | 141      | 128      | 121      | 115      | 119      | 117      | 140      | 147      | 132      | 143      |\n",
       "| 2011     | 중구     | 사망자수 | 0        | 0        | 0        | 3        | 1        | 1        | 1        | 1        | 1        | 2        | 3        | 0        |\n",
       "| 2011     | 중구     | 부상자수 | 159      | 112      | 183      | 175      | 165      | 156      | 154      | 154      | 181      | 203      | 172      | 211      |\n",
       "\n"
      ],
      "text/plain": [
       "  년도 자치구명 구분     1   2   3   4   5   6   7   8   9   10  11  12 \n",
       "1 2011 종로구   발생건수 115 99  116 110 122 116 103 122 121 135 140 122\n",
       "2 2011 종로구   사망자수 2   0   0   1   0   3   1   1   2   2   1   1  \n",
       "3 2011 종로구   부상자수 165 134 162 153 157 163 154 171 166 193 204 172\n",
       "4 2011 중구     발생건수 108 86  141 128 121 115 119 117 140 147 132 143\n",
       "5 2011 중구     사망자수 0   0   0   3   1   1   1   1   1   2   3   0  \n",
       "6 2011 중구     부상자수 159 112 183 175 165 156 154 154 181 203 172 211"
      ]
     },
     "metadata": {},
     "output_type": "display_data"
    }
   ],
   "source": [
    "# 발생건수, 사망자수, 부상자수\n",
    "acc2 <- subset(acc, 자치구별 != \"합계\") # 팔요없는 데이터 삭제\n",
    "acc2 <- acc2[,-4]\n",
    "\n",
    "rownames(acc2) <- c()\n",
    "colnames(acc2) <- c(\"년도\", \"자치구명\", \"구분\", 1:12)\n",
    "\n",
    "for(i in 4:15){\n",
    "    acc2[,i] <- ifelse(acc2[,i] == '-', 0, acc2[,i])\n",
    "}\n",
    "head(acc2)"
   ]
  },
  {
   "cell_type": "code",
   "execution_count": 82,
   "id": "dbec6072",
   "metadata": {
    "scrolled": false
   },
   "outputs": [
    {
     "data": {
      "text/html": [
       "<table>\n",
       "<thead><tr><th scope=col>년도</th><th scope=col>월</th><th scope=col>자치구명</th><th scope=col>발생건수</th><th scope=col>사망자수</th><th scope=col>부상자수</th></tr></thead>\n",
       "<tbody>\n",
       "\t<tr><td>2011  </td><td>1     </td><td>종로구</td><td>115   </td><td>2     </td><td>165   </td></tr>\n",
       "\t<tr><td>2011  </td><td>2     </td><td>종로구</td><td>99    </td><td>0     </td><td>134   </td></tr>\n",
       "\t<tr><td>2011  </td><td>3     </td><td>종로구</td><td>116   </td><td>0     </td><td>162   </td></tr>\n",
       "\t<tr><td>2011  </td><td>4     </td><td>종로구</td><td>110   </td><td>1     </td><td>153   </td></tr>\n",
       "\t<tr><td>2011  </td><td>5     </td><td>종로구</td><td>122   </td><td>0     </td><td>157   </td></tr>\n",
       "\t<tr><td>2011  </td><td>6     </td><td>종로구</td><td>116   </td><td>3     </td><td>163   </td></tr>\n",
       "</tbody>\n",
       "</table>\n"
      ],
      "text/latex": [
       "\\begin{tabular}{llllll}\n",
       " 년도 & 월 & 자치구명 & 발생건수 & 사망자수 & 부상자수\\\\\n",
       "\\hline\n",
       "\t 2011   & 1      & 종로구 & 115    & 2      & 165   \\\\\n",
       "\t 2011   & 2      & 종로구 & 99     & 0      & 134   \\\\\n",
       "\t 2011   & 3      & 종로구 & 116    & 0      & 162   \\\\\n",
       "\t 2011   & 4      & 종로구 & 110    & 1      & 153   \\\\\n",
       "\t 2011   & 5      & 종로구 & 122    & 0      & 157   \\\\\n",
       "\t 2011   & 6      & 종로구 & 116    & 3      & 163   \\\\\n",
       "\\end{tabular}\n"
      ],
      "text/markdown": [
       "\n",
       "| 년도 | 월 | 자치구명 | 발생건수 | 사망자수 | 부상자수 |\n",
       "|---|---|---|---|---|---|\n",
       "| 2011   | 1      | 종로구 | 115    | 2      | 165    |\n",
       "| 2011   | 2      | 종로구 | 99     | 0      | 134    |\n",
       "| 2011   | 3      | 종로구 | 116    | 0      | 162    |\n",
       "| 2011   | 4      | 종로구 | 110    | 1      | 153    |\n",
       "| 2011   | 5      | 종로구 | 122    | 0      | 157    |\n",
       "| 2011   | 6      | 종로구 | 116    | 3      | 163    |\n",
       "\n"
      ],
      "text/plain": [
       "     년도 월 자치구명 발생건수 사망자수 부상자수\n",
       "[1,] 2011 1  종로구   115      2        165     \n",
       "[2,] 2011 2  종로구   99       0        134     \n",
       "[3,] 2011 3  종로구   116      0        162     \n",
       "[4,] 2011 4  종로구   110      1        153     \n",
       "[5,] 2011 5  종로구   122      0        157     \n",
       "[6,] 2011 6  종로구   116      3        163     "
      ]
     },
     "metadata": {},
     "output_type": "display_data"
    },
    {
     "data": {
      "text/html": [
       "<table>\n",
       "<thead><tr><th scope=col>년도</th><th scope=col>월</th><th scope=col>자치구명</th><th scope=col>발생건수</th><th scope=col>사망자수</th><th scope=col>부상자수</th></tr></thead>\n",
       "<tbody>\n",
       "\t<tr><td>2011  </td><td>1     </td><td>종로구</td><td>115   </td><td>2     </td><td>165   </td></tr>\n",
       "\t<tr><td>2011  </td><td>2     </td><td>종로구</td><td> 99   </td><td>0     </td><td>134   </td></tr>\n",
       "\t<tr><td>2011  </td><td>3     </td><td>종로구</td><td>116   </td><td>0     </td><td>162   </td></tr>\n",
       "\t<tr><td>2011  </td><td>4     </td><td>종로구</td><td>110   </td><td>1     </td><td>153   </td></tr>\n",
       "\t<tr><td>2011  </td><td>5     </td><td>종로구</td><td>122   </td><td>0     </td><td>157   </td></tr>\n",
       "\t<tr><td>2011  </td><td>6     </td><td>종로구</td><td>116   </td><td>3     </td><td>163   </td></tr>\n",
       "</tbody>\n",
       "</table>\n"
      ],
      "text/latex": [
       "\\begin{tabular}{r|llllll}\n",
       " 년도 & 월 & 자치구명 & 발생건수 & 사망자수 & 부상자수\\\\\n",
       "\\hline\n",
       "\t 2011   & 1      & 종로구 & 115    & 2      & 165   \\\\\n",
       "\t 2011   & 2      & 종로구 &  99    & 0      & 134   \\\\\n",
       "\t 2011   & 3      & 종로구 & 116    & 0      & 162   \\\\\n",
       "\t 2011   & 4      & 종로구 & 110    & 1      & 153   \\\\\n",
       "\t 2011   & 5      & 종로구 & 122    & 0      & 157   \\\\\n",
       "\t 2011   & 6      & 종로구 & 116    & 3      & 163   \\\\\n",
       "\\end{tabular}\n"
      ],
      "text/markdown": [
       "\n",
       "| 년도 | 월 | 자치구명 | 발생건수 | 사망자수 | 부상자수 |\n",
       "|---|---|---|---|---|---|\n",
       "| 2011   | 1      | 종로구 | 115    | 2      | 165    |\n",
       "| 2011   | 2      | 종로구 |  99    | 0      | 134    |\n",
       "| 2011   | 3      | 종로구 | 116    | 0      | 162    |\n",
       "| 2011   | 4      | 종로구 | 110    | 1      | 153    |\n",
       "| 2011   | 5      | 종로구 | 122    | 0      | 157    |\n",
       "| 2011   | 6      | 종로구 | 116    | 3      | 163    |\n",
       "\n"
      ],
      "text/plain": [
       "  년도 월 자치구명 발생건수 사망자수 부상자수\n",
       "1 2011 1  종로구   115      2        165     \n",
       "2 2011 2  종로구    99      0        134     \n",
       "3 2011 3  종로구   116      0        162     \n",
       "4 2011 4  종로구   110      1        153     \n",
       "5 2011 5  종로구   122      0        157     \n",
       "6 2011 6  종로구   116      3        163     "
      ]
     },
     "metadata": {},
     "output_type": "display_data"
    },
    {
     "name": "stdout",
     "output_type": "stream",
     "text": [
      "'data.frame':\t2700 obs. of  6 variables:\n",
      " $ 년도    : Factor w/ 9 levels \"2011\",\"2012\",..: 1 1 1 1 1 1 1 1 1 1 ...\n",
      " $ 월      : Factor w/ 12 levels \"1\",\"10\",\"11\",..: 1 5 6 7 8 9 10 11 12 2 ...\n",
      " $ 자치구명: Factor w/ 25 levels \"강남구\",\"강동구\",..: 23 23 23 23 23 23 23 23 23 23 ...\n",
      " $ 발생건수: Factor w/ 268 levels \"100\",\"101\",\"102\",..: 16 268 17 11 23 17 4 23 22 36 ...\n",
      " $ 사망자수: Factor w/ 9 levels \"0\",\"1\",\"10\",\"2\",..: 4 1 1 2 1 5 2 2 4 4 ...\n",
      " $ 부상자수: Factor w/ 369 levels \"100\",\"101\",\"102\",..: 66 35 63 54 58 64 55 72 67 94 ...\n"
     ]
    },
    {
     "data": {
      "text/plain": [
       "      년도           월          자치구명       발생건수       사망자수  \n",
       " 2011   :300   1      : 225   강남구 : 108   121    :  39   1      :901  \n",
       " 2012   :300   10     : 225   강동구 : 108   111    :  38   0      :887  \n",
       " 2013   :300   11     : 225   강북구 : 108   124    :  38   2      :538  \n",
       " 2014   :300   12     : 225   강서구 : 108   103    :  37   3      :257  \n",
       " 2015   :300   2      : 225   관악구 : 108   122    :  36   4      : 86  \n",
       " 2016   :300   3      : 225   광진구 : 108   136    :  35   5      : 25  \n",
       " (Other):900   (Other):1350   (Other):2052   (Other):2477   (Other):  6  \n",
       "    부상자수   \n",
       " 159    :  31  \n",
       " 141    :  30  \n",
       " 175    :  29  \n",
       " 135    :  28  \n",
       " 161    :  28  \n",
       " 176    :  28  \n",
       " (Other):2526  "
      ]
     },
     "metadata": {},
     "output_type": "display_data"
    }
   ],
   "source": [
    "# 구분(사망자수, 발생건수, 부상자수) 컬럼화 / 1~12월 컬럼 로우데이터로 변경\n",
    "\n",
    "# b <- cbind(acc2[1,1], rownames(t(acc2[1,4:15])), acc2[1,2], t(acc2[1,4:15]))\n",
    "# b <- cbind(b, t(acc2[2,4:15]))\n",
    "# b <- cbind(b, t(acc2[3,4:15]))\n",
    "# rownames(b) <- c()\n",
    "# colnames(b) <- c()\n",
    "\n",
    "acc_s <- c()\n",
    "for (i in seq(1,nrow(acc2),3) ){ # 1, 4, 7, ....\n",
    "    b <- cbind(acc2[i,1], 1:12, acc2[i,2], t(acc2[i,4:15]))\n",
    "    b <- cbind(b, t(acc2[i+1,4:15]))\n",
    "    b <- cbind(b, t(acc2[i+2,4:15]))\n",
    "    rownames(b) <- c()\n",
    "    colnames(b) <- c(\"년도\", \"월\", \"자치구명\", \"발생건수\", \"사망자수\", \"부상자수\")\n",
    "    acc_s <- rbind(acc_s, b)\n",
    "}\n",
    "head(acc_s)\n",
    "head(seoul)\n",
    "\n",
    "acc_s <- as.data.frame(acc_s)\n"
   ]
  },
  {
   "cell_type": "code",
   "execution_count": null,
   "id": "b6d78d95",
   "metadata": {},
   "outputs": [],
   "source": []
  },
  {
   "cell_type": "code",
   "execution_count": null,
   "id": "bd32ded9",
   "metadata": {},
   "outputs": [],
   "source": []
  },
  {
   "cell_type": "code",
   "execution_count": null,
   "id": "801fb314",
   "metadata": {},
   "outputs": [],
   "source": []
  },
  {
   "cell_type": "code",
   "execution_count": null,
   "id": "3239596a",
   "metadata": {},
   "outputs": [],
   "source": []
  },
  {
   "cell_type": "code",
   "execution_count": null,
   "id": "803e4f9d",
   "metadata": {},
   "outputs": [],
   "source": []
  },
  {
   "cell_type": "code",
   "execution_count": null,
   "id": "1fe79a07",
   "metadata": {},
   "outputs": [],
   "source": []
  },
  {
   "cell_type": "code",
   "execution_count": null,
   "id": "5273c788",
   "metadata": {},
   "outputs": [],
   "source": []
  },
  {
   "cell_type": "code",
   "execution_count": null,
   "id": "cb8260c5",
   "metadata": {},
   "outputs": [],
   "source": []
  },
  {
   "cell_type": "code",
   "execution_count": null,
   "id": "ec77f11b",
   "metadata": {},
   "outputs": [],
   "source": []
  }
 ],
 "metadata": {
  "kernelspec": {
   "display_name": "R",
   "language": "R",
   "name": "ir"
  },
  "language_info": {
   "codemirror_mode": "r",
   "file_extension": ".r",
   "mimetype": "text/x-r-source",
   "name": "R",
   "pygments_lexer": "r",
   "version": "3.6.1"
  }
 },
 "nbformat": 4,
 "nbformat_minor": 5
}
