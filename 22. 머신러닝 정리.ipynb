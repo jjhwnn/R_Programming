{
 "cells": [
  {
   "cell_type": "code",
   "execution_count": 40,
   "id": "d7674d64",
   "metadata": {},
   "outputs": [],
   "source": [
    "# 인공신경망, 의사결정나무, RandomForest, SVM, 로지스틱회귀분석\n",
    "# iris\n",
    "\n",
    "# 인공신경망, 다항 로지스틱 회귀분석\n",
    "library(nnet)\n",
    "# 의사결정나무\n",
    "library(party)\n",
    "# 랜덤포레스트\n",
    "library(randomForest)\n",
    "# SVM\n",
    "library(e1071)\n",
    "\n",
    "samp <- createDataPartition(x[,5], p=0.7, list=F)\n",
    "\n",
    "data.tr <- x[samp, ]\n",
    "data.test <- x[-samp,]\n",
    "\n",
    "x <- subset(data.test, select = -Species)\n",
    "\n",
    "y <- data.test$Species"
   ]
  },
  {
   "cell_type": "code",
   "execution_count": 63,
   "id": "57a3e074",
   "metadata": {},
   "outputs": [
    {
     "name": "stdout",
     "output_type": "stream",
     "text": [
      "# weights:  27\n",
      "initial  value 113.652927 \n",
      "iter  10 value 8.726550\n",
      "iter  20 value 5.692091\n",
      "iter  30 value 4.953095\n",
      "iter  40 value 4.747043\n",
      "iter  50 value 4.739412\n",
      "iter  60 value 4.738712\n",
      "iter  70 value 4.733293\n",
      "iter  80 value 4.727524\n",
      "iter  90 value 4.719834\n",
      "iter 100 value 4.715637\n",
      "final  value 4.715637 \n",
      "stopped after 100 iterations\n"
     ]
    },
    {
     "name": "stderr",
     "output_type": "stream",
     "text": [
      "Warning message in `==.default`(pred, y):\n",
      "“두 객체의 길이가 서로 배수관계에 있지 않습니다”Warning message in is.na(e1) | is.na(e2):\n",
      "“두 객체의 길이가 서로 배수관계에 있지 않습니다”"
     ]
    },
    {
     "data": {
      "text/html": [
       "0.3"
      ],
      "text/latex": [
       "0.3"
      ],
      "text/markdown": [
       "0.3"
      ],
      "text/plain": [
       "[1] 0.3"
      ]
     },
     "metadata": {},
     "output_type": "display_data"
    }
   ],
   "source": [
    "# 인공신경망\n",
    "\n",
    "model.nnet <- function(x){\n",
    "\n",
    "    model.nnet <- nnet(Species ~ ., data=data.tr, size=3) \n",
    "\n",
    "    pred <- predict(model.nnet, x, type = \"class\")\n",
    "\n",
    "    per = mean(pred == y)\n",
    "    \n",
    "    return (per)\n",
    "}\n",
    "\n",
    "model.nnet(iris)"
   ]
  },
  {
   "cell_type": "code",
   "execution_count": 56,
   "id": "faa388aa",
   "metadata": {},
   "outputs": [
    {
     "data": {
      "text/html": [
       "0.977777777777778"
      ],
      "text/latex": [
       "0.977777777777778"
      ],
      "text/markdown": [
       "0.977777777777778"
      ],
      "text/plain": [
       "[1] 0.9777778"
      ]
     },
     "metadata": {},
     "output_type": "display_data"
    }
   ],
   "source": [
    "# 의사결정나무\n",
    "\n",
    "model.ctree <- function(x){\n",
    "    \n",
    "\n",
    "   \n",
    "    model.ctree <- ctree(Species ~ ., data=data.tr)\n",
    "   \n",
    "    pred2 <- predict(model.ctree, x)\n",
    "\n",
    "    mean(pred2 == y)\n",
    "\n",
    "}\n",
    "\n",
    "model.ctree(iris)"
   ]
  },
  {
   "cell_type": "code",
   "execution_count": 54,
   "id": "ee465a1a",
   "metadata": {},
   "outputs": [
    {
     "name": "stdout",
     "output_type": "stream",
     "text": [
      "# weights:  27\n",
      "initial  value 110.646031 \n",
      "iter  10 value 35.201970\n",
      "iter  20 value 4.441442\n",
      "iter  30 value 0.051977\n",
      "iter  40 value 0.000188\n",
      "final  value 0.000042 \n",
      "converged\n"
     ]
    },
    {
     "data": {
      "text/html": [
       "0.911111111111111"
      ],
      "text/latex": [
       "0.911111111111111"
      ],
      "text/markdown": [
       "0.911111111111111"
      ],
      "text/plain": [
       "[1] 0.9111111"
      ]
     },
     "metadata": {},
     "output_type": "display_data"
    }
   ],
   "source": [
    "# RandomForest\n",
    "\n",
    "rf <- function(x){\n",
    "    \n",
    "    samp <- createDataPartition(x[,5], p=0.7, list=F)\n",
    "\n",
    "    data.tr <- x[samp, ]\n",
    "    data.test <- x[-samp,]\n",
    "\n",
    "    model.nnet <- nnet(Species ~ ., data=data.tr, size=3) \n",
    "\n",
    "    x <- subset(data.test, select = -Species)\n",
    "\n",
    "    y <- data.test$Species\n",
    "    \n",
    "    model.rf <- randomForest(Species ~ ., data = data.tr, ntree = 100)\n",
    "    pred3 <- predict(model.rf, x)\n",
    "\n",
    "    mean(pred3 == y)\n",
    "    \n",
    "}\n",
    "\n",
    "rf(iris)"
   ]
  },
  {
   "cell_type": "code",
   "execution_count": 55,
   "id": "337e9ea1",
   "metadata": {
    "scrolled": false
   },
   "outputs": [
    {
     "ename": "ERROR",
     "evalue": "Error in svm(Species ~ ., data = data.tr): 사용되지 않은 인자 (data = data.tr)\n",
     "output_type": "error",
     "traceback": [
      "Error in svm(Species ~ ., data = data.tr): 사용되지 않은 인자 (data = data.tr)\nTraceback:\n",
      "1. ssvm(iris)"
     ]
    }
   ],
   "source": [
    "# SVM\n",
    "\n",
    "\n",
    "# 정규화\n",
    "ssvm <- function(x) {\n",
    "    \n",
    "    iris2 <- scale(x[,-5])\n",
    "\n",
    "    iris3 <- data.frame(Sepal.Length=iris2[,1], Sepal.Width=iris2[,2],\n",
    "                          Petal.Length=iris2[,3], Petal.Width=iris2[,4])\n",
    "\n",
    "    iris3$Species <- x[,5]\n",
    "\n",
    "    samp <- createDataPartition(x[,5], p=0.7, list=F)\n",
    "\n",
    "    data.tr <- iris3[samp,]\n",
    "\n",
    "    data.test <- iris3[-samp,]\n",
    "\n",
    "    x <- subset(data.test, select = -Species)\n",
    "    y <- data.test$Species\n",
    "\n",
    "    model.svm = svm(Species ~ ., data=data.tr)\n",
    "\n",
    "    pred4 <- predict(model.svm, x, type=\"class\")\n",
    "\n",
    "    mean(pred4 == y)\n",
    "    \n",
    "}\n",
    "\n",
    "ssvm(iris)"
   ]
  },
  {
   "cell_type": "code",
   "execution_count": 8,
   "id": "5b1d29d0",
   "metadata": {},
   "outputs": [
    {
     "name": "stdout",
     "output_type": "stream",
     "text": [
      "# weights:  18 (10 variable)\n",
      "initial  value 115.354290 \n",
      "iter  10 value 9.593672\n",
      "iter  20 value 4.655920\n",
      "iter  30 value 4.636414\n",
      "iter  40 value 4.627742\n",
      "iter  50 value 4.622815\n",
      "iter  60 value 4.621892\n",
      "iter  70 value 4.621689\n",
      "iter  80 value 4.621334\n",
      "iter  90 value 4.620912\n",
      "iter 100 value 4.620734\n",
      "final  value 4.620734 \n",
      "stopped after 100 iterations\n"
     ]
    },
    {
     "data": {
      "text/html": [
       "0.955555555555556"
      ],
      "text/latex": [
       "0.955555555555556"
      ],
      "text/markdown": [
       "0.955555555555556"
      ],
      "text/plain": [
       "[1] 0.9555556"
      ]
     },
     "metadata": {},
     "output_type": "display_data"
    },
    {
     "data": {
      "text/plain": [
       "            y\n",
       "pred5        setosa versicolor virginica\n",
       "  setosa         15          0         0\n",
       "  versicolor      0         14         1\n",
       "  virginica       0          1        14"
      ]
     },
     "metadata": {},
     "output_type": "display_data"
    }
   ],
   "source": [
    "# 다항 로지스틱 회귀분석\n",
    "\n",
    " <- function(x) {\n",
    "    \n",
    "    model <- multinom(Species ~., data=data.tr)\n",
    "                  \n",
    "    pred5 <- predict(model, x, type=\"class\")\n",
    "\n",
    "    mean(pred5 == y)\n",
    "     \n",
    "    table(pred5, y)\n",
    "}\n",
    "\n"
   ]
  },
  {
   "cell_type": "code",
   "execution_count": null,
   "id": "04df50b8",
   "metadata": {},
   "outputs": [],
   "source": []
  }
 ],
 "metadata": {
  "kernelspec": {
   "display_name": "R",
   "language": "R",
   "name": "ir"
  },
  "language_info": {
   "codemirror_mode": "r",
   "file_extension": ".r",
   "mimetype": "text/x-r-source",
   "name": "R",
   "pygments_lexer": "r",
   "version": "3.6.1"
  }
 },
 "nbformat": 4,
 "nbformat_minor": 5
}
