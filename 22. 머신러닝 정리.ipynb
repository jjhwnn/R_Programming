{
 "cells": [
  {
   "cell_type": "code",
   "execution_count": 1,
   "id": "e694fff2",
   "metadata": {},
   "outputs": [
    {
     "name": "stderr",
     "output_type": "stream",
     "text": [
      "Loading required package: lattice\n",
      "Loading required package: ggplot2\n",
      "Registered S3 methods overwritten by 'ggplot2':\n",
      "  method         from \n",
      "  [.quosures     rlang\n",
      "  c.quosures     rlang\n",
      "  print.quosures rlang\n",
      "Loading required package: grid\n",
      "Loading required package: mvtnorm\n",
      "Loading required package: modeltools\n",
      "Loading required package: stats4\n",
      "Loading required package: strucchange\n",
      "Loading required package: zoo\n",
      "\n",
      "Attaching package: ‘zoo’\n",
      "\n",
      "The following objects are masked from ‘package:base’:\n",
      "\n",
      "    as.Date, as.Date.numeric\n",
      "\n",
      "Loading required package: sandwich\n",
      "randomForest 4.6-14\n",
      "Type rfNews() to see new features/changes/bug fixes.\n",
      "\n",
      "Attaching package: ‘randomForest’\n",
      "\n",
      "The following object is masked from ‘package:ggplot2’:\n",
      "\n",
      "    margin\n",
      "\n"
     ]
    }
   ],
   "source": [
    "# 인공신경망, 의사결정나무, RandomForest, SVM, 로지스틱회귀분석\n",
    "# iris\n",
    "library(caret)\n",
    "\n",
    "# 인공신경망, 다항 로지스틱 회귀분석\n",
    "library(nnet)\n",
    "# 의사결정나무\n",
    "library(party)\n",
    "# 랜덤포레스트\n",
    "library(randomForest)\n",
    "# SVM\n",
    "library(e1071)\n",
    "\n",
    "samp <- createDataPartition(iris$Species, p=0.7, list=F)\n",
    "\n",
    "data.tr <- iris[samp, ]\n",
    "data.test <- iris[-samp,]\n",
    "\n",
    "x <- subset(data.test, select = -Species)\n",
    "\n",
    "y <- data.test$Species\n"
   ]
  },
  {
   "cell_type": "code",
   "execution_count": 2,
   "id": "dccff4e7",
   "metadata": {},
   "outputs": [
    {
     "name": "stdout",
     "output_type": "stream",
     "text": [
      "# weights:  27\n",
      "initial  value 128.623507 \n",
      "iter  10 value 23.856114\n",
      "iter  20 value 4.841802\n",
      "iter  30 value 4.570742\n",
      "iter  40 value 4.569666\n",
      "final  value 4.569500 \n",
      "converged\n"
     ]
    },
    {
     "data": {
      "text/html": [
       "0.977777777777778"
      ],
      "text/latex": [
       "0.977777777777778"
      ],
      "text/markdown": [
       "0.977777777777778"
      ],
      "text/plain": [
       "[1] 0.9777778"
      ]
     },
     "metadata": {},
     "output_type": "display_data"
    }
   ],
   "source": [
    "# 인공신경망\n",
    "\n",
    "model.nnet <- function(x){\n",
    "\n",
    "    model.nnet <- nnet(Species ~ ., data=data.tr, size=3) \n",
    "\n",
    "    pred <- predict(model.nnet, x, type = \"class\")\n",
    "\n",
    "    per = mean(pred == y)\n",
    "    \n",
    "    return (per)\n",
    "}\n",
    "\n",
    "model.nnet(x)"
   ]
  },
  {
   "cell_type": "code",
   "execution_count": 3,
   "id": "8fe033b8",
   "metadata": {},
   "outputs": [
    {
     "data": {
      "text/html": [
       "0.933333333333333"
      ],
      "text/latex": [
       "0.933333333333333"
      ],
      "text/markdown": [
       "0.933333333333333"
      ],
      "text/plain": [
       "[1] 0.9333333"
      ]
     },
     "metadata": {},
     "output_type": "display_data"
    }
   ],
   "source": [
    "# 의사결정나무\n",
    "\n",
    "model.ctree <- function(x){\n",
    "   \n",
    "    model.ctree <- ctree(Species ~ ., data=data.tr)\n",
    "   \n",
    "    pred2 <- predict(model.ctree, x)\n",
    "\n",
    "    mean(pred2 == y)\n",
    "\n",
    "}\n",
    "\n",
    "model.ctree(x)"
   ]
  },
  {
   "cell_type": "code",
   "execution_count": 4,
   "id": "0ab06210",
   "metadata": {},
   "outputs": [
    {
     "data": {
      "text/html": [
       "0.933333333333333"
      ],
      "text/latex": [
       "0.933333333333333"
      ],
      "text/markdown": [
       "0.933333333333333"
      ],
      "text/plain": [
       "[1] 0.9333333"
      ]
     },
     "metadata": {},
     "output_type": "display_data"
    }
   ],
   "source": [
    "# RandomForest\n",
    "\n",
    "rf <- function(x){\n",
    "\n",
    "    \n",
    "    model.rf <- randomForest(Species ~ ., data = data.tr, ntree = 100)\n",
    "    \n",
    "    pred3 <- predict(model.rf, x)\n",
    "\n",
    "    mean(pred3 == y)\n",
    "    \n",
    "}\n",
    "\n",
    "rf(x)"
   ]
  },
  {
   "cell_type": "code",
   "execution_count": 5,
   "id": "4a72fd90",
   "metadata": {
    "scrolled": false
   },
   "outputs": [
    {
     "data": {
      "text/html": [
       "0.933333333333333"
      ],
      "text/latex": [
       "0.933333333333333"
      ],
      "text/markdown": [
       "0.933333333333333"
      ],
      "text/plain": [
       "[1] 0.9333333"
      ]
     },
     "metadata": {},
     "output_type": "display_data"
    }
   ],
   "source": [
    "# SVM\n",
    "\n",
    "\n",
    "# 정규화\n",
    "ssvm <- function(x) {\n",
    "\n",
    "    model.svm <- svm(Species ~ ., data=data.tr)\n",
    "\n",
    "    pred4 <- predict(model.svm, x, type=\"class\")\n",
    "\n",
    "    mean(pred4 == y)\n",
    "}\n",
    "\n",
    "ssvm(x)"
   ]
  },
  {
   "cell_type": "code",
   "execution_count": 8,
   "id": "4425892b",
   "metadata": {},
   "outputs": [
    {
     "name": "stdout",
     "output_type": "stream",
     "text": [
      "# weights:  18 (10 variable)\n",
      "initial  value 115.354290 \n",
      "iter  10 value 13.238749\n",
      "iter  20 value 3.874645\n",
      "iter  30 value 3.179774\n",
      "iter  40 value 2.731742\n",
      "iter  50 value 2.528837\n",
      "iter  60 value 2.487763\n",
      "iter  70 value 2.356234\n",
      "iter  80 value 2.328948\n",
      "iter  90 value 2.283473\n",
      "iter 100 value 2.269791\n",
      "final  value 2.269791 \n",
      "stopped after 100 iterations\n"
     ]
    },
    {
     "data": {
      "text/html": [
       "0.977777777777778"
      ],
      "text/latex": [
       "0.977777777777778"
      ],
      "text/markdown": [
       "0.977777777777778"
      ],
      "text/plain": [
       "[1] 0.9777778"
      ]
     },
     "metadata": {},
     "output_type": "display_data"
    }
   ],
   "source": [
    "# 다항 로지스틱 회귀분석\n",
    "\n",
    "model <- function(x) {\n",
    "    \n",
    "    model <- multinom(Species ~., data=data.tr)\n",
    "                  \n",
    "    pred5 <- predict(model, x, type=\"class\")\n",
    "\n",
    "    mean(pred5 == y)\n",
    "}\n",
    "\n",
    "model(x)"
   ]
  },
  {
   "cell_type": "code",
   "execution_count": null,
   "id": "c4000a27",
   "metadata": {},
   "outputs": [],
   "source": [
    "\n",
    "# for문으로 5번씩 돌려서 결과값 출력 !\n",
    "\n",
    "num[1:5] <- 0;\n",
    "\n",
    "\n",
    "for(i in 1:5){\n",
    "    \n",
    "    num[i] <- num[i] + model.nnet(x)\n",
    "    \n",
    "}\n",
    "\n"
   ]
  }
 ],
 "metadata": {
  "kernelspec": {
   "display_name": "R",
   "language": "R",
   "name": "ir"
  },
  "language_info": {
   "codemirror_mode": "r",
   "file_extension": ".r",
   "mimetype": "text/x-r-source",
   "name": "R",
   "pygments_lexer": "r",
   "version": "3.6.1"
  }
 },
 "nbformat": 4,
 "nbformat_minor": 5
}
