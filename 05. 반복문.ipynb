{
 "cells": [
  {
   "cell_type": "markdown",
   "id": "7454b015",
   "metadata": {},
   "source": [
    "## for문"
   ]
  },
  {
   "cell_type": "code",
   "execution_count": 2,
   "id": "1ad0ccf7",
   "metadata": {},
   "outputs": [
    {
     "name": "stdout",
     "output_type": "stream",
     "text": [
      "[1] 1\n",
      "[1] 2\n",
      "[1] 3\n",
      "[1] 4\n",
      "[1] 5\n",
      "[1] 6\n",
      "[1] 7\n",
      "[1] 8\n",
      "[1] 9\n",
      "[1] 10\n"
     ]
    }
   ],
   "source": [
    "# 1~10까지의 숫자 출력\n",
    "\n",
    "for (i in 1:10){\n",
    "    print(i)\n",
    "}"
   ]
  },
  {
   "cell_type": "code",
   "execution_count": 4,
   "id": "d85b6241",
   "metadata": {},
   "outputs": [
    {
     "name": "stdout",
     "output_type": "stream",
     "text": [
      "[1] 1\n",
      "[1] 3\n",
      "[1] 5\n"
     ]
    }
   ],
   "source": [
    "for (i in c(1,3,5)){\n",
    "    print(i)\n",
    "}"
   ]
  },
  {
   "cell_type": "code",
   "execution_count": 5,
   "id": "4366467e",
   "metadata": {},
   "outputs": [
    {
     "name": "stdout",
     "output_type": "stream",
     "text": [
      "[1] 1\n",
      "[1] 3\n",
      "[1] 5\n",
      "[1] 7\n",
      "[1] 9\n"
     ]
    }
   ],
   "source": [
    "for (i in seq(1,10,2)){\n",
    "    print(i)\n",
    "}"
   ]
  },
  {
   "cell_type": "code",
   "execution_count": 8,
   "id": "ccbf2728",
   "metadata": {},
   "outputs": [
    {
     "name": "stdout",
     "output_type": "stream",
     "text": [
      "[1] 1\n"
     ]
    },
    {
     "data": {
      "text/html": [
       "1.4142135623731"
      ],
      "text/latex": [
       "1.4142135623731"
      ],
      "text/markdown": [
       "1.4142135623731"
      ],
      "text/plain": [
       "[1] 1.414214"
      ]
     },
     "metadata": {},
     "output_type": "display_data"
    }
   ],
   "source": [
    "# 1~10까지의 제곱근 구하기\n",
    "\n",
    "print(sqrt(1))\n",
    "sqrt(2)\n"
   ]
  },
  {
   "cell_type": "code",
   "execution_count": 17,
   "id": "a9d2e18d",
   "metadata": {},
   "outputs": [
    {
     "name": "stdout",
     "output_type": "stream",
     "text": [
      "1 => 1 \n",
      "2 => 1.414214 \n",
      "3 => 1.732051 \n",
      "4 => 2 \n",
      "5 => 2.236068 \n",
      "6 => 2.44949 \n",
      "7 => 2.645751 \n",
      "8 => 2.828427 \n",
      "9 => 3 \n",
      "10 => 3.162278 \n"
     ]
    }
   ],
   "source": [
    "for(i in 1:10){\n",
    "    cat(i,\"=>\", sqrt(i),\"\\n\")\n",
    "}"
   ]
  },
  {
   "cell_type": "code",
   "execution_count": 25,
   "id": "cb2cf711",
   "metadata": {},
   "outputs": [
    {
     "name": "stdout",
     "output_type": "stream",
     "text": [
      "1 => 1 \n",
      "2 => 1.4142135623731 \n",
      "3 => 1.73205080756888 \n",
      "4 => 2 \n",
      "5 => 2.23606797749979 \n",
      "6 => 2.44948974278318 \n",
      "7 => 2.64575131106459 \n",
      "8 => 2.82842712474619 \n",
      "9 => 3 \n",
      "10 => 3.16227766016838 \n"
     ]
    }
   ],
   "source": [
    "for(i in 1:10){\n",
    "    cat(paste(i,\"=>\", sqrt(i),\"\\n\"))\n",
    "}"
   ]
  },
  {
   "cell_type": "code",
   "execution_count": 50,
   "id": "10526576",
   "metadata": {},
   "outputs": [
    {
     "data": {
      "text/html": [
       "'홀수의 합은 604이고 짝수의 합은 852 입니다.'"
      ],
      "text/latex": [
       "'홀수의 합은 604이고 짝수의 합은 852 입니다.'"
      ],
      "text/markdown": [
       "'홀수의 합은 604이고 짝수의 합은 852 입니다.'"
      ],
      "text/plain": [
       "[1] \"홀수의 합은 604이고 짝수의 합은 852 입니다.\""
      ]
     },
     "metadata": {},
     "output_type": "display_data"
    }
   ],
   "source": [
    "# excel에서 q3 컬럼 데이터의 홀수의 합과 짝수의 합 구하기\n",
    "\n",
    "# 홀수의 합은 604이고 짝수의 합은 852 입니다.\n",
    "excel <- read.csv(\"../Data//excel.csv\")\n",
    "sum1 <- 0\n",
    "sum2 <- 0\n",
    "\n",
    "for(i in excel$q3){\n",
    "    if(i %% 2 == 0){\n",
    "       sum1 <- sum1+sum(i)\n",
    "    }\n",
    "    if(i %% 2 == 1){\n",
    "       sum2 <- sum2+sum(i)\n",
    "    }\n",
    "    \n",
    "}\n",
    "sprintf(\"홀수의 합은 %i이고 짝수의 합은 %i 입니다.\", sum2, sum1)"
   ]
  },
  {
   "cell_type": "code",
   "execution_count": 52,
   "id": "6d715c1f",
   "metadata": {},
   "outputs": [
    {
     "name": "stdout",
     "output_type": "stream",
     "text": [
      "[1] 216\n"
     ]
    }
   ],
   "source": [
    "# excel에서 q3 컬럼 데이터 중 3의 배수의 합계 구하기\n",
    "sum3 <- 0\n",
    "\n",
    "for(i in excel$q3){\n",
    "    \n",
    "    if(i %% 3 == 0){\n",
    "        sum3 <- sum3 + sum(i)\n",
    "    }\n",
    "    \n",
    "}\n",
    "\n",
    "print(sum3)"
   ]
  },
  {
   "cell_type": "code",
   "execution_count": 54,
   "id": "33581e19",
   "metadata": {},
   "outputs": [
    {
     "name": "stdout",
     "output_type": "stream",
     "text": [
      "합계는  0 입니다."
     ]
    }
   ],
   "source": [
    "# excel에서 q3 컬럼 데이터 중 3의 배수도 되고 4의 배수도 되는 수의 합계를 구하시오\n",
    "\n",
    "sum3 <- 0\n",
    "for(i in excel$q3){\n",
    "    \n",
    "    if(i %% 3 == 0 & i %% 4 == 0){\n",
    "        sum3 <- sum3 + sum(i)\n",
    "    }\n",
    "    \n",
    "}\n",
    "\n",
    "cat(\"합계는 \", sum3, \"입니다.\")\n"
   ]
  },
  {
   "cell_type": "code",
   "execution_count": 56,
   "id": "dd07c8e4",
   "metadata": {},
   "outputs": [
    {
     "name": "stdout",
     "output_type": "stream",
     "text": [
      "2  X  1 = 2 \n",
      "2  X  2 = 4 \n",
      "2  X  3 = 6 \n",
      "2  X  4 = 8 \n",
      "2  X  5 = 10 \n",
      "2  X  6 = 12 \n",
      "2  X  7 = 14 \n",
      "2  X  8 = 16 \n",
      "2  X  9 = 18 \n"
     ]
    }
   ],
   "source": [
    "# 구구단 출력하기 1\n",
    "\n",
    "for(i in 1:9){\n",
    "    cat(2, \" X \", i, \"=\", 2*i, \"\\n\")\n",
    "}"
   ]
  },
  {
   "cell_type": "code",
   "execution_count": 64,
   "id": "9722e8de",
   "metadata": {
    "scrolled": true
   },
   "outputs": [
    {
     "name": "stdout",
     "output_type": "stream",
     "text": [
      "단을 입력하세요!6\n",
      "6  X  1 = 6 \n",
      "6  X  2 = 12 \n",
      "6  X  3 = 18 \n",
      "6  X  4 = 24 \n",
      "6  X  5 = 30 \n",
      "6  X  6 = 36 \n",
      "6  X  7 = 42 \n",
      "6  X  8 = 48 \n",
      "6  X  9 = 54 \n"
     ]
    }
   ],
   "source": [
    "# 구구단 출력하기 2\n",
    "\n",
    "dan <- as.numeric(readline(\"단을 입력하세요!\"))\n",
    "\n",
    "for(i in 1:9){\n",
    "    cat(dan, \" X \", i, \"=\", dan*i, \"\\n\")\n",
    "}"
   ]
  },
  {
   "cell_type": "code",
   "execution_count": null,
   "id": "c0d8dd7c",
   "metadata": {},
   "outputs": [],
   "source": []
  },
  {
   "cell_type": "code",
   "execution_count": null,
   "id": "20366756",
   "metadata": {},
   "outputs": [],
   "source": []
  },
  {
   "cell_type": "code",
   "execution_count": null,
   "id": "d3667382",
   "metadata": {},
   "outputs": [],
   "source": []
  },
  {
   "cell_type": "code",
   "execution_count": null,
   "id": "6c295aac",
   "metadata": {},
   "outputs": [],
   "source": []
  }
 ],
 "metadata": {
  "kernelspec": {
   "display_name": "R",
   "language": "R",
   "name": "ir"
  },
  "language_info": {
   "codemirror_mode": "r",
   "file_extension": ".r",
   "mimetype": "text/x-r-source",
   "name": "R",
   "pygments_lexer": "r",
   "version": "3.6.1"
  }
 },
 "nbformat": 4,
 "nbformat_minor": 5
}
