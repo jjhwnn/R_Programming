{
 "cells": [
  {
   "cell_type": "markdown",
   "id": "795d1c88",
   "metadata": {},
   "source": [
    "# 카이제곱 검정\n",
    ": 두 범주형 변수가 서로 상관이 있는지 판단하는 통계적 검정 방법.\n",
    "예) 학력, 성별, 직업의 만족도.\n",
    "\n",
    "### 아동별 장난감 보유 현황 \n",
    "- 귀무가설 : child1과 child2의 장난감 보유수에 대한 만족도는 차이가 없다.\n",
    "- 대립가설 : child1과 child2의 장난감 보유수에 대한 만족도는 차이가 있다."
   ]
  },
  {
   "cell_type": "code",
   "execution_count": 1,
   "id": "4ca8b04d",
   "metadata": {},
   "outputs": [],
   "source": [
    "# child별 장난감 보유 현황\n",
    "child1 <- c(5, 11, 1)\n",
    "child2 <- c(4, 7, 3)"
   ]
  },
  {
   "cell_type": "code",
   "execution_count": 2,
   "id": "beb84a2c",
   "metadata": {},
   "outputs": [],
   "source": [
    "# 분석을 위해 데이터 합치기\n",
    "toy <- cbind(child1, child2)"
   ]
  },
  {
   "cell_type": "code",
   "execution_count": 3,
   "id": "db1209f0",
   "metadata": {},
   "outputs": [
    {
     "data": {
      "text/html": [
       "<table>\n",
       "<thead><tr><th></th><th scope=col>child1</th><th scope=col>child2</th></tr></thead>\n",
       "<tbody>\n",
       "\t<tr><th scope=row>car</th><td> 5</td><td>4 </td></tr>\n",
       "\t<tr><th scope=row>truck</th><td>11</td><td>7 </td></tr>\n",
       "\t<tr><th scope=row>doll</th><td> 1</td><td>3 </td></tr>\n",
       "</tbody>\n",
       "</table>\n"
      ],
      "text/latex": [
       "\\begin{tabular}{r|ll}\n",
       "  & child1 & child2\\\\\n",
       "\\hline\n",
       "\tcar &  5 & 4 \\\\\n",
       "\ttruck & 11 & 7 \\\\\n",
       "\tdoll &  1 & 3 \\\\\n",
       "\\end{tabular}\n"
      ],
      "text/markdown": [
       "\n",
       "| <!--/--> | child1 | child2 |\n",
       "|---|---|---|\n",
       "| car |  5 | 4  |\n",
       "| truck | 11 | 7  |\n",
       "| doll |  1 | 3  |\n",
       "\n"
      ],
      "text/plain": [
       "      child1 child2\n",
       "car    5     4     \n",
       "truck 11     7     \n",
       "doll   1     3     "
      ]
     },
     "metadata": {},
     "output_type": "display_data"
    }
   ],
   "source": [
    "# 장난감 종류\n",
    "rownames(toy) <- c('car','truck','doll')\n",
    "toy"
   ]
  },
  {
   "cell_type": "code",
   "execution_count": 4,
   "id": "b6dfd3d6",
   "metadata": {},
   "outputs": [
    {
     "name": "stderr",
     "output_type": "stream",
     "text": [
      "Warning message in chisq.test(toy):\n",
      "\"Chi-squared approximation may be incorrect\""
     ]
    },
    {
     "data": {
      "text/plain": [
       "\n",
       "\tPearson's Chi-squared test\n",
       "\n",
       "data:  toy\n",
       "X-squared = 1.7258, df = 2, p-value = 0.4219\n"
      ]
     },
     "metadata": {},
     "output_type": "display_data"
    }
   ],
   "source": [
    "# 카이제곱 검정 실시\n",
    "chisq.test(toy)\n",
    "\n",
    "# p-value : 유의수준"
   ]
  },
  {
   "cell_type": "markdown",
   "id": "dc6bd0a7",
   "metadata": {},
   "source": [
    "### 결론\n",
    "p-value = 0.4219 > 0.05(95% 신뢰구간) -> 귀무가설 채택\n",
    "> child1과 child2의 데이터는 통계적으로 큰 차이가 없다.\n",
    "\n",
    "p-value는 0에 가까울수록 좋다. 미리 정해진 유의수준(일반적으로 0.05) 보다 작으면 대립가설\n",
    "을 채택하고 유의수준보다 크면 귀무가설을 채택."
   ]
  },
  {
   "cell_type": "code",
   "execution_count": 5,
   "id": "60f9e082",
   "metadata": {},
   "outputs": [
    {
     "data": {
      "text/html": [
       "0.986241382612456"
      ],
      "text/latex": [
       "0.986241382612456"
      ],
      "text/markdown": [
       "0.986241382612456"
      ],
      "text/plain": [
       "[1] 0.9862414"
      ]
     },
     "metadata": {},
     "output_type": "display_data"
    }
   ],
   "source": [
    "cor(child1, child2)"
   ]
  },
  {
   "cell_type": "markdown",
   "id": "3262fd9e",
   "metadata": {},
   "source": [
    "### 메세지 : 카이제곱의 근사값이 정확하지 않을수도 있다.\n",
    "- 데이터량이 적은 경우 발생"
   ]
  },
  {
   "cell_type": "markdown",
   "id": "ed8e346e",
   "metadata": {},
   "source": [
    "# 피셔검정"
   ]
  },
  {
   "cell_type": "code",
   "execution_count": 6,
   "id": "9977e2c4",
   "metadata": {},
   "outputs": [
    {
     "data": {
      "text/plain": [
       "\n",
       "\tFisher's Exact Test for Count Data\n",
       "\n",
       "data:  toy\n",
       "p-value = 0.5165\n",
       "alternative hypothesis: two.sided\n"
      ]
     },
     "metadata": {},
     "output_type": "display_data"
    }
   ],
   "source": [
    "fisher.test(toy)\n",
    "# 데이터가 적을 때 사용**\n",
    "# alternative hypothesis: two.sided -> 95% 유의수준 양쪽에 각 2.5%씩 분포"
   ]
  },
  {
   "cell_type": "markdown",
   "id": "05468949",
   "metadata": {},
   "source": [
    "p-value = 0.5165 > 0.05 --> 귀무가설"
   ]
  },
  {
   "cell_type": "markdown",
   "id": "77868c98",
   "metadata": {},
   "source": [
    "---\n",
    "# t-검정\n"
   ]
  },
  {
   "cell_type": "code",
   "execution_count": 7,
   "id": "13de097f",
   "metadata": {},
   "outputs": [],
   "source": [
    "# 귀무가설 : 건전지의 수명은 1000시간이다. \n",
    "# 대립가설 : 건전지의 수명은 1000시간이 아니다."
   ]
  },
  {
   "cell_type": "code",
   "execution_count": 8,
   "id": "89ecc1ba",
   "metadata": {},
   "outputs": [],
   "source": [
    "bat <- c(980, 1008, 968, 1032, 1012, 1002, 996, 1017)"
   ]
  },
  {
   "cell_type": "code",
   "execution_count": 9,
   "id": "cacfd63b",
   "metadata": {},
   "outputs": [],
   "source": [
    "# 데이터의 분포가 정규분포인지 확인 --> Shapiro-Wilk 검정을 실시\n",
    "# 귀무가설 : 자료가 정규분포를 따른다.\n",
    "# 대립가설 : 자료가 정규분포를 따르지 않는다."
   ]
  },
  {
   "cell_type": "code",
   "execution_count": 10,
   "id": "12d97d37",
   "metadata": {
    "scrolled": false
   },
   "outputs": [
    {
     "data": {
      "text/plain": [
       "\n",
       "\tShapiro-Wilk normality test\n",
       "\n",
       "data:  bat\n",
       "W = 0.97706, p-value = 0.9469\n"
      ]
     },
     "metadata": {},
     "output_type": "display_data"
    }
   ],
   "source": [
    "shapiro.test(bat)"
   ]
  },
  {
   "cell_type": "markdown",
   "id": "86770b13",
   "metadata": {},
   "source": [
    "p-value = 0.9469 > 0.05 --> 귀무가설"
   ]
  },
  {
   "cell_type": "code",
   "execution_count": 11,
   "id": "709ea37b",
   "metadata": {},
   "outputs": [
    {
     "data": {
      "text/plain": [
       "\n",
       "\tOne Sample t-test\n",
       "\n",
       "data:  bat\n",
       "t = 0.25891, df = 7, p-value = 0.8032\n",
       "alternative hypothesis: true mean is not equal to 1000\n",
       "95 percent confidence interval:\n",
       "  984.7508 1018.9992\n",
       "sample estimates:\n",
       "mean of x \n",
       " 1001.875 \n"
      ]
     },
     "metadata": {},
     "output_type": "display_data"
    }
   ],
   "source": [
    "# t-검정 실시\n",
    "t.test(bat, mu=1000, alternative = \"two.sided\")\n",
    "\n",
    "# mu : 비교하는 대상의 평균\n",
    "# alternative\n",
    "# - two.sided : 데이터가 평균과 다르다\n",
    "# - greater : 데이터가 평균보다 크다\n",
    "# - less : 데이터가 평균보다 적다."
   ]
  },
  {
   "cell_type": "markdown",
   "id": "9286c7d7",
   "metadata": {},
   "source": [
    "p-value = 0.8032 > 0.05 --> 귀무가설 : 건전지의 수명은 1000시간이다."
   ]
  },
  {
   "cell_type": "code",
   "execution_count": 13,
   "id": "a771ad8b",
   "metadata": {
    "scrolled": false
   },
   "outputs": [
    {
     "data": {
      "text/html": [
       "<table>\n",
       "<thead><tr><th scope=col>no</th><th scope=col>score</th></tr></thead>\n",
       "<tbody>\n",
       "\t<tr><td> 1</td><td>58</td></tr>\n",
       "\t<tr><td> 2</td><td>49</td></tr>\n",
       "\t<tr><td> 3</td><td>39</td></tr>\n",
       "\t<tr><td> 4</td><td>99</td></tr>\n",
       "\t<tr><td> 5</td><td>32</td></tr>\n",
       "\t<tr><td> 6</td><td>88</td></tr>\n",
       "\t<tr><td> 7</td><td>62</td></tr>\n",
       "\t<tr><td> 8</td><td>30</td></tr>\n",
       "\t<tr><td> 9</td><td>55</td></tr>\n",
       "\t<tr><td>10</td><td>65</td></tr>\n",
       "\t<tr><td>11</td><td>44</td></tr>\n",
       "\t<tr><td>12</td><td>55</td></tr>\n",
       "\t<tr><td>13</td><td>57</td></tr>\n",
       "\t<tr><td>14</td><td>53</td></tr>\n",
       "\t<tr><td>15</td><td>88</td></tr>\n",
       "\t<tr><td>16</td><td>42</td></tr>\n",
       "\t<tr><td>17</td><td>39</td></tr>\n",
       "</tbody>\n",
       "</table>\n"
      ],
      "text/latex": [
       "\\begin{tabular}{r|ll}\n",
       " no & score\\\\\n",
       "\\hline\n",
       "\t  1 & 58\\\\\n",
       "\t  2 & 49\\\\\n",
       "\t  3 & 39\\\\\n",
       "\t  4 & 99\\\\\n",
       "\t  5 & 32\\\\\n",
       "\t  6 & 88\\\\\n",
       "\t  7 & 62\\\\\n",
       "\t  8 & 30\\\\\n",
       "\t  9 & 55\\\\\n",
       "\t 10 & 65\\\\\n",
       "\t 11 & 44\\\\\n",
       "\t 12 & 55\\\\\n",
       "\t 13 & 57\\\\\n",
       "\t 14 & 53\\\\\n",
       "\t 15 & 88\\\\\n",
       "\t 16 & 42\\\\\n",
       "\t 17 & 39\\\\\n",
       "\\end{tabular}\n"
      ],
      "text/markdown": [
       "\n",
       "| no | score |\n",
       "|---|---|\n",
       "|  1 | 58 |\n",
       "|  2 | 49 |\n",
       "|  3 | 39 |\n",
       "|  4 | 99 |\n",
       "|  5 | 32 |\n",
       "|  6 | 88 |\n",
       "|  7 | 62 |\n",
       "|  8 | 30 |\n",
       "|  9 | 55 |\n",
       "| 10 | 65 |\n",
       "| 11 | 44 |\n",
       "| 12 | 55 |\n",
       "| 13 | 57 |\n",
       "| 14 | 53 |\n",
       "| 15 | 88 |\n",
       "| 16 | 42 |\n",
       "| 17 | 39 |\n",
       "\n"
      ],
      "text/plain": [
       "   no score\n",
       "1   1 58   \n",
       "2   2 49   \n",
       "3   3 39   \n",
       "4   4 99   \n",
       "5   5 32   \n",
       "6   6 88   \n",
       "7   7 62   \n",
       "8   8 30   \n",
       "9   9 55   \n",
       "10 10 65   \n",
       "11 11 44   \n",
       "12 12 55   \n",
       "13 13 57   \n",
       "14 14 53   \n",
       "15 15 88   \n",
       "16 16 42   \n",
       "17 17 39   "
      ]
     },
     "metadata": {},
     "output_type": "display_data"
    }
   ],
   "source": [
    "exam <- read.csv(\"../Data//exam.csv\")\n",
    "exam"
   ]
  },
  {
   "cell_type": "code",
   "execution_count": null,
   "id": "02d2e4fe",
   "metadata": {},
   "outputs": [],
   "source": [
    "str(exam)"
   ]
  },
  {
   "cell_type": "code",
   "execution_count": null,
   "id": "0b50f617",
   "metadata": {},
   "outputs": [],
   "source": [
    "summary(exam)"
   ]
  },
  {
   "cell_type": "code",
   "execution_count": null,
   "id": "4fb2ce62",
   "metadata": {
    "scrolled": false
   },
   "outputs": [],
   "source": [
    "# 어떤 학급의 수학 점수 평균 : 55점\n",
    "# 0교시 수업을 한 후에 학생들의 성적이 올랐을까?\n",
    "# 귀무가설 : 성적은 오르지 않았다.\n",
    "# 대립가설 : 성적이 올랐다.\n",
    "\n",
    "# 정규 분포 확인\n",
    "shapiro.test(exam$score)\n",
    "\n",
    "# p-value = 0.1058 > 0.05 이므로 정규분포를 따른다."
   ]
  },
  {
   "cell_type": "code",
   "execution_count": null,
   "id": "fe87391f",
   "metadata": {},
   "outputs": [],
   "source": [
    "# t-test\n",
    "t.test(exam[,2], mu = 55, alternative = \"greater\")"
   ]
  },
  {
   "cell_type": "markdown",
   "id": "70eec14b",
   "metadata": {},
   "source": [
    "p-value = 0.4046 > 0.05 --> 귀무가설 성적은 오르지 않았다."
   ]
  },
  {
   "cell_type": "code",
   "execution_count": null,
   "id": "8c759280",
   "metadata": {},
   "outputs": [],
   "source": [
    "boxplot(exam$score)"
   ]
  },
  {
   "cell_type": "code",
   "execution_count": null,
   "id": "1f145247",
   "metadata": {},
   "outputs": [],
   "source": [
    "# 표본이 2개인 t검정\n",
    "# 귀무가설 : 복용 전후의 차이가 없다.\n",
    "# 대립가설 : 복용 전후의 차이가 있다.\n",
    "\n",
    "# 통계데이터는 순서를 바꾸면 안됨..\n",
    "\n",
    "postMedicine <- read.csv(\"../Data/postMedicine.csv\")\n",
    "preMedicine <- read.csv(\"../Data/preMedicine.csv\")"
   ]
  },
  {
   "cell_type": "code",
   "execution_count": null,
   "id": "4c36683b",
   "metadata": {},
   "outputs": [],
   "source": [
    "pre <- preMedicine$data\n",
    "post <- postMedicine$data"
   ]
  },
  {
   "cell_type": "code",
   "execution_count": null,
   "id": "09243dda",
   "metadata": {},
   "outputs": [],
   "source": [
    "t.test(pre, post, alternative = \"two.sided\")"
   ]
  },
  {
   "cell_type": "markdown",
   "id": "6669c1af",
   "metadata": {},
   "source": [
    "p-value = 0.7165 > 0.05 --> 귀무가설 "
   ]
  },
  {
   "cell_type": "markdown",
   "id": "f627b74c",
   "metadata": {},
   "source": [
    "---\n",
    "## 상관계수"
   ]
  },
  {
   "cell_type": "code",
   "execution_count": null,
   "id": "d1c80e00",
   "metadata": {},
   "outputs": [],
   "source": [
    "y <- c(1,2,3,4)\n",
    "z <- c(0,7,5,9)\n",
    "\n",
    "cor(y,z)"
   ]
  },
  {
   "cell_type": "code",
   "execution_count": null,
   "id": "8b4de4c2",
   "metadata": {},
   "outputs": [],
   "source": [
    "# 피어슨 상관계수\n",
    "cor(y,z,method = \"pearson\") # method의 디폴트 : pearson"
   ]
  },
  {
   "cell_type": "code",
   "execution_count": null,
   "id": "159944e0",
   "metadata": {},
   "outputs": [],
   "source": [
    "# 스피어맨 상관계수\n",
    "cor(y,z,method = \"spearman\") # 적합한 값 : 데이터가 5개가 넘지 않으면 spearman이 적합 "
   ]
  },
  {
   "cell_type": "markdown",
   "id": "9e786eb6",
   "metadata": {},
   "source": [
    "----"
   ]
  },
  {
   "cell_type": "markdown",
   "id": "a085dd24",
   "metadata": {},
   "source": [
    "## 콜모고로프-스미노프 검정(KS Test)\n",
    ": 주어진 2개의 데이터가 같은 분포를 이루는지 검정하는 것"
   ]
  },
  {
   "cell_type": "code",
   "execution_count": null,
   "id": "030c3477",
   "metadata": {},
   "outputs": [],
   "source": [
    "# 귀무가설 : 두개의 데이터의 분포가 다르다.\n",
    "# 대립가설 : 두개의 데이터의 분포가 같다."
   ]
  },
  {
   "cell_type": "code",
   "execution_count": null,
   "id": "237de2d5",
   "metadata": {},
   "outputs": [],
   "source": [
    "options(scipen = 100)\n",
    "\n",
    "x <- rnorm(50) # 정규분포 구하는 데이터 함수\n",
    "y <- runif(50)\n",
    "\n",
    "ks.test(x, y)"
   ]
  },
  {
   "cell_type": "markdown",
   "id": "cc5c65ac",
   "metadata": {},
   "source": [
    "p-value = 0.00000004048 < 0.05 --> 대립가설"
   ]
  },
  {
   "cell_type": "markdown",
   "id": "4254729a",
   "metadata": {},
   "source": [
    "## 부호검정\n",
    ": 2개의 데이터 사이에 차이가 있는지 검정하는 것"
   ]
  },
  {
   "cell_type": "code",
   "execution_count": null,
   "id": "4989fef2",
   "metadata": {},
   "outputs": [],
   "source": [
    "# 식사 전과 식사 후의 음료수 맛에 대한 평가\n",
    "x <- c(4, 1, 1, 4, 3, 3, 2, 5, 3, 3) # 식사전의 음료수 맛에 대한 평가 점수\n",
    "y <- c(1, 1, 3, 2, 5, 1, 4, 4, 3, 1) # 식사후의 음료수 맛에 대한 평가 점수"
   ]
  },
  {
   "cell_type": "code",
   "execution_count": null,
   "id": "67f5ea1a",
   "metadata": {},
   "outputs": [],
   "source": [
    "# 귀무가설 : 유의한 차이가 없다.\n",
    "# 대립가설 : 유의한 차이가 있다."
   ]
  },
  {
   "cell_type": "code",
   "execution_count": null,
   "id": "29da97e4",
   "metadata": {},
   "outputs": [],
   "source": [
    "binom.test(c(length(x[x>y]), length(x[x<y])))"
   ]
  },
  {
   "cell_type": "markdown",
   "id": "02a687e4",
   "metadata": {},
   "source": [
    "p-value = 0.7266 > 0.05 --> 귀무가설"
   ]
  },
  {
   "cell_type": "markdown",
   "id": "20471774",
   "metadata": {},
   "source": [
    "---\n",
    "## 비율 검정\n",
    ": 2개의 데이터 사이에 비율의 차이가 있는지에 대한 것을 검정"
   ]
  },
  {
   "cell_type": "code",
   "execution_count": null,
   "id": "8d5c3356",
   "metadata": {
    "scrolled": true
   },
   "outputs": [],
   "source": [
    "# 맥주를 좋아하시나요? 라는 질문에 서울에서는 400명 중에 360명, 부산에서는 200명중 136명 좋아한다고 답했다면\n",
    "# 둘의 비율 차이가 있다고 할 수 있는가?\n",
    "\n",
    "# 귀무가설 : 유의한 차이가 없다.\n",
    "# 대립가설 : 유의한 차이가 있다.\n",
    "\n",
    "hite <- c(360, 136)\n",
    "sample <- c(400, 200)\n",
    "\n",
    "prop.test(hite, sample)"
   ]
  },
  {
   "cell_type": "markdown",
   "id": "b8ffac46",
   "metadata": {},
   "source": [
    "p-value = 0.00000000004207 < 0.05 --> 대립가설 : 유의한 차이가 있다."
   ]
  },
  {
   "cell_type": "code",
   "execution_count": null,
   "id": "a941dffa",
   "metadata": {},
   "outputs": [],
   "source": []
  },
  {
   "cell_type": "code",
   "execution_count": null,
   "id": "b8baad86",
   "metadata": {},
   "outputs": [],
   "source": []
  },
  {
   "cell_type": "code",
   "execution_count": null,
   "id": "c15ee572",
   "metadata": {},
   "outputs": [],
   "source": []
  },
  {
   "cell_type": "code",
   "execution_count": null,
   "id": "6eee9a97",
   "metadata": {},
   "outputs": [],
   "source": []
  },
  {
   "cell_type": "code",
   "execution_count": null,
   "id": "80446242",
   "metadata": {},
   "outputs": [],
   "source": []
  },
  {
   "cell_type": "code",
   "execution_count": null,
   "id": "e35506cf",
   "metadata": {},
   "outputs": [],
   "source": []
  },
  {
   "cell_type": "code",
   "execution_count": null,
   "id": "0cdae2a1",
   "metadata": {},
   "outputs": [],
   "source": []
  },
  {
   "cell_type": "code",
   "execution_count": null,
   "id": "61d25bd1",
   "metadata": {},
   "outputs": [],
   "source": []
  }
 ],
 "metadata": {
  "kernelspec": {
   "display_name": "R",
   "language": "R",
   "name": "ir"
  },
  "language_info": {
   "codemirror_mode": "r",
   "file_extension": ".r",
   "mimetype": "text/x-r-source",
   "name": "R",
   "pygments_lexer": "r",
   "version": "3.6.1"
  }
 },
 "nbformat": 4,
 "nbformat_minor": 5
}
