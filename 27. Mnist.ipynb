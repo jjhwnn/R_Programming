{
 "cells": [
  {
   "cell_type": "code",
   "execution_count": 32,
   "id": "941daa42",
   "metadata": {},
   "outputs": [
    {
     "data": {
      "text/html": [
       "<table>\n",
       "<thead><tr><th scope=col>V1</th><th scope=col>V2</th><th scope=col>V3</th><th scope=col>V4</th><th scope=col>V5</th><th scope=col>V6</th><th scope=col>V7</th><th scope=col>V8</th><th scope=col>V9</th><th scope=col>V10</th><th scope=col>...</th><th scope=col>V776</th><th scope=col>V777</th><th scope=col>V778</th><th scope=col>V779</th><th scope=col>V780</th><th scope=col>V781</th><th scope=col>V782</th><th scope=col>V783</th><th scope=col>V784</th><th scope=col>V785</th></tr></thead>\n",
       "<tbody>\n",
       "\t<tr><td>5  </td><td>0  </td><td>0  </td><td>0  </td><td>0  </td><td>0  </td><td>0  </td><td>0  </td><td>0  </td><td>0  </td><td>...</td><td>0  </td><td>0  </td><td>0  </td><td>0  </td><td>0  </td><td>0  </td><td>0  </td><td>0  </td><td>0  </td><td>0  </td></tr>\n",
       "\t<tr><td>0  </td><td>0  </td><td>0  </td><td>0  </td><td>0  </td><td>0  </td><td>0  </td><td>0  </td><td>0  </td><td>0  </td><td>...</td><td>0  </td><td>0  </td><td>0  </td><td>0  </td><td>0  </td><td>0  </td><td>0  </td><td>0  </td><td>0  </td><td>0  </td></tr>\n",
       "\t<tr><td>4  </td><td>0  </td><td>0  </td><td>0  </td><td>0  </td><td>0  </td><td>0  </td><td>0  </td><td>0  </td><td>0  </td><td>...</td><td>0  </td><td>0  </td><td>0  </td><td>0  </td><td>0  </td><td>0  </td><td>0  </td><td>0  </td><td>0  </td><td>0  </td></tr>\n",
       "\t<tr><td>1  </td><td>0  </td><td>0  </td><td>0  </td><td>0  </td><td>0  </td><td>0  </td><td>0  </td><td>0  </td><td>0  </td><td>...</td><td>0  </td><td>0  </td><td>0  </td><td>0  </td><td>0  </td><td>0  </td><td>0  </td><td>0  </td><td>0  </td><td>0  </td></tr>\n",
       "\t<tr><td>9  </td><td>0  </td><td>0  </td><td>0  </td><td>0  </td><td>0  </td><td>0  </td><td>0  </td><td>0  </td><td>0  </td><td>...</td><td>0  </td><td>0  </td><td>0  </td><td>0  </td><td>0  </td><td>0  </td><td>0  </td><td>0  </td><td>0  </td><td>0  </td></tr>\n",
       "\t<tr><td>2  </td><td>0  </td><td>0  </td><td>0  </td><td>0  </td><td>0  </td><td>0  </td><td>0  </td><td>0  </td><td>0  </td><td>...</td><td>0  </td><td>0  </td><td>0  </td><td>0  </td><td>0  </td><td>0  </td><td>0  </td><td>0  </td><td>0  </td><td>0  </td></tr>\n",
       "</tbody>\n",
       "</table>\n"
      ],
      "text/latex": [
       "\\begin{tabular}{r|lllllllllllllllllllllllllllllllllllllllllllllllllllllllllllllllllllllllllllllllllllllllllllllllllllllllllllllllllllllllllllllllllllllllllllllllllllllllllllllllllllllllllllllllllllllllllllllllllllllllllllllllllllllllllllllllllllllllllllllllllllllllllllllllllllllllllllllllllllllllllllllllllllllllllllllllllllllllllllllllllllllllllllllllllllllllllllllllllllllllllllllllllllllllllllllllllllllllllllllllllllllllllllllllllllllllllllllllllllllllllllllllllllllllllllllllllllllllllllllllllllllllllllllllllllllllllllllllllllllllllllllllllllllllllllllllllllllllllllllllllllllllllllllllllllllllllllllllllllllllllllllllllllllllllllllllllllllllllllllllllllllllllllllllllllllllllllllllllllllllllllllllllllllllllllllllllllllllllllllllllllllllllllllllllllllllllllllllllllllllllllllllllllllllllllllllll}\n",
       " V1 & V2 & V3 & V4 & V5 & V6 & V7 & V8 & V9 & V10 & ... & V776 & V777 & V778 & V779 & V780 & V781 & V782 & V783 & V784 & V785\\\\\n",
       "\\hline\n",
       "\t 5   & 0   & 0   & 0   & 0   & 0   & 0   & 0   & 0   & 0   & ... & 0   & 0   & 0   & 0   & 0   & 0   & 0   & 0   & 0   & 0  \\\\\n",
       "\t 0   & 0   & 0   & 0   & 0   & 0   & 0   & 0   & 0   & 0   & ... & 0   & 0   & 0   & 0   & 0   & 0   & 0   & 0   & 0   & 0  \\\\\n",
       "\t 4   & 0   & 0   & 0   & 0   & 0   & 0   & 0   & 0   & 0   & ... & 0   & 0   & 0   & 0   & 0   & 0   & 0   & 0   & 0   & 0  \\\\\n",
       "\t 1   & 0   & 0   & 0   & 0   & 0   & 0   & 0   & 0   & 0   & ... & 0   & 0   & 0   & 0   & 0   & 0   & 0   & 0   & 0   & 0  \\\\\n",
       "\t 9   & 0   & 0   & 0   & 0   & 0   & 0   & 0   & 0   & 0   & ... & 0   & 0   & 0   & 0   & 0   & 0   & 0   & 0   & 0   & 0  \\\\\n",
       "\t 2   & 0   & 0   & 0   & 0   & 0   & 0   & 0   & 0   & 0   & ... & 0   & 0   & 0   & 0   & 0   & 0   & 0   & 0   & 0   & 0  \\\\\n",
       "\\end{tabular}\n"
      ],
      "text/markdown": [
       "\n",
       "| V1 | V2 | V3 | V4 | V5 | V6 | V7 | V8 | V9 | V10 | ... | V776 | V777 | V778 | V779 | V780 | V781 | V782 | V783 | V784 | V785 |\n",
       "|---|---|---|---|---|---|---|---|---|---|---|---|---|---|---|---|---|---|---|---|---|\n",
       "| 5   | 0   | 0   | 0   | 0   | 0   | 0   | 0   | 0   | 0   | ... | 0   | 0   | 0   | 0   | 0   | 0   | 0   | 0   | 0   | 0   |\n",
       "| 0   | 0   | 0   | 0   | 0   | 0   | 0   | 0   | 0   | 0   | ... | 0   | 0   | 0   | 0   | 0   | 0   | 0   | 0   | 0   | 0   |\n",
       "| 4   | 0   | 0   | 0   | 0   | 0   | 0   | 0   | 0   | 0   | ... | 0   | 0   | 0   | 0   | 0   | 0   | 0   | 0   | 0   | 0   |\n",
       "| 1   | 0   | 0   | 0   | 0   | 0   | 0   | 0   | 0   | 0   | ... | 0   | 0   | 0   | 0   | 0   | 0   | 0   | 0   | 0   | 0   |\n",
       "| 9   | 0   | 0   | 0   | 0   | 0   | 0   | 0   | 0   | 0   | ... | 0   | 0   | 0   | 0   | 0   | 0   | 0   | 0   | 0   | 0   |\n",
       "| 2   | 0   | 0   | 0   | 0   | 0   | 0   | 0   | 0   | 0   | ... | 0   | 0   | 0   | 0   | 0   | 0   | 0   | 0   | 0   | 0   |\n",
       "\n"
      ],
      "text/plain": [
       "  V1 V2 V3 V4 V5 V6 V7 V8 V9 V10 ... V776 V777 V778 V779 V780 V781 V782 V783\n",
       "1 5  0  0  0  0  0  0  0  0  0   ... 0    0    0    0    0    0    0    0   \n",
       "2 0  0  0  0  0  0  0  0  0  0   ... 0    0    0    0    0    0    0    0   \n",
       "3 4  0  0  0  0  0  0  0  0  0   ... 0    0    0    0    0    0    0    0   \n",
       "4 1  0  0  0  0  0  0  0  0  0   ... 0    0    0    0    0    0    0    0   \n",
       "5 9  0  0  0  0  0  0  0  0  0   ... 0    0    0    0    0    0    0    0   \n",
       "6 2  0  0  0  0  0  0  0  0  0   ... 0    0    0    0    0    0    0    0   \n",
       "  V784 V785\n",
       "1 0    0   \n",
       "2 0    0   \n",
       "3 0    0   \n",
       "4 0    0   \n",
       "5 0    0   \n",
       "6 0    0   "
      ]
     },
     "metadata": {},
     "output_type": "display_data"
    },
    {
     "data": {
      "text/html": [
       "<table>\n",
       "<thead><tr><th scope=col>X5</th><th scope=col>X0</th><th scope=col>X0.1</th><th scope=col>X0.2</th><th scope=col>X0.3</th><th scope=col>X0.4</th><th scope=col>X0.5</th><th scope=col>X0.6</th><th scope=col>X0.7</th><th scope=col>X0.8</th><th scope=col>...</th><th scope=col>X0.608</th><th scope=col>X0.609</th><th scope=col>X0.610</th><th scope=col>X0.611</th><th scope=col>X0.612</th><th scope=col>X0.613</th><th scope=col>X0.614</th><th scope=col>X0.615</th><th scope=col>X0.616</th><th scope=col>X0.617</th></tr></thead>\n",
       "<tbody>\n",
       "\t<tr><td>0  </td><td>0  </td><td>0  </td><td>0  </td><td>0  </td><td>0  </td><td>0  </td><td>0  </td><td>0  </td><td>0  </td><td>...</td><td>0  </td><td>0  </td><td>0  </td><td>0  </td><td>0  </td><td>0  </td><td>0  </td><td>0  </td><td>0  </td><td>0  </td></tr>\n",
       "\t<tr><td>4  </td><td>0  </td><td>0  </td><td>0  </td><td>0  </td><td>0  </td><td>0  </td><td>0  </td><td>0  </td><td>0  </td><td>...</td><td>0  </td><td>0  </td><td>0  </td><td>0  </td><td>0  </td><td>0  </td><td>0  </td><td>0  </td><td>0  </td><td>0  </td></tr>\n",
       "\t<tr><td>1  </td><td>0  </td><td>0  </td><td>0  </td><td>0  </td><td>0  </td><td>0  </td><td>0  </td><td>0  </td><td>0  </td><td>...</td><td>0  </td><td>0  </td><td>0  </td><td>0  </td><td>0  </td><td>0  </td><td>0  </td><td>0  </td><td>0  </td><td>0  </td></tr>\n",
       "\t<tr><td>9  </td><td>0  </td><td>0  </td><td>0  </td><td>0  </td><td>0  </td><td>0  </td><td>0  </td><td>0  </td><td>0  </td><td>...</td><td>0  </td><td>0  </td><td>0  </td><td>0  </td><td>0  </td><td>0  </td><td>0  </td><td>0  </td><td>0  </td><td>0  </td></tr>\n",
       "\t<tr><td>2  </td><td>0  </td><td>0  </td><td>0  </td><td>0  </td><td>0  </td><td>0  </td><td>0  </td><td>0  </td><td>0  </td><td>...</td><td>0  </td><td>0  </td><td>0  </td><td>0  </td><td>0  </td><td>0  </td><td>0  </td><td>0  </td><td>0  </td><td>0  </td></tr>\n",
       "\t<tr><td>1  </td><td>0  </td><td>0  </td><td>0  </td><td>0  </td><td>0  </td><td>0  </td><td>0  </td><td>0  </td><td>0  </td><td>...</td><td>0  </td><td>0  </td><td>0  </td><td>0  </td><td>0  </td><td>0  </td><td>0  </td><td>0  </td><td>0  </td><td>0  </td></tr>\n",
       "</tbody>\n",
       "</table>\n"
      ],
      "text/latex": [
       "\\begin{tabular}{r|lllllllllllllllllllllllllllllllllllllllllllllllllllllllllllllllllllllllllllllllllllllllllllllllllllllllllllllllllllllllllllllllllllllllllllllllllllllllllllllllllllllllllllllllllllllllllllllllllllllllllllllllllllllllllllllllllllllllllllllllllllllllllllllllllllllllllllllllllllllllllllllllllllllllllllllllllllllllllllllllllllllllllllllllllllllllllllllllllllllllllllllllllllllllllllllllllllllllllllllllllllllllllllllllllllllllllllllllllllllllllllllllllllllllllllllllllllllllllllllllllllllllllllllllllllllllllllllllllllllllllllllllllllllllllllllllllllllllllllllllllllllllllllllllllllllllllllllllllllllllllllllllllllllllllllllllllllllllllllllllllllllllllllllllllllllllllllllllllllllllllllllllllllllllllllllllllllllllllllllllllllllllllllllllllllllllllllllllllllllllllllllllllllllllllllllllll}\n",
       " X5 & X0 & X0.1 & X0.2 & X0.3 & X0.4 & X0.5 & X0.6 & X0.7 & X0.8 & ... & X0.608 & X0.609 & X0.610 & X0.611 & X0.612 & X0.613 & X0.614 & X0.615 & X0.616 & X0.617\\\\\n",
       "\\hline\n",
       "\t 0   & 0   & 0   & 0   & 0   & 0   & 0   & 0   & 0   & 0   & ... & 0   & 0   & 0   & 0   & 0   & 0   & 0   & 0   & 0   & 0  \\\\\n",
       "\t 4   & 0   & 0   & 0   & 0   & 0   & 0   & 0   & 0   & 0   & ... & 0   & 0   & 0   & 0   & 0   & 0   & 0   & 0   & 0   & 0  \\\\\n",
       "\t 1   & 0   & 0   & 0   & 0   & 0   & 0   & 0   & 0   & 0   & ... & 0   & 0   & 0   & 0   & 0   & 0   & 0   & 0   & 0   & 0  \\\\\n",
       "\t 9   & 0   & 0   & 0   & 0   & 0   & 0   & 0   & 0   & 0   & ... & 0   & 0   & 0   & 0   & 0   & 0   & 0   & 0   & 0   & 0  \\\\\n",
       "\t 2   & 0   & 0   & 0   & 0   & 0   & 0   & 0   & 0   & 0   & ... & 0   & 0   & 0   & 0   & 0   & 0   & 0   & 0   & 0   & 0  \\\\\n",
       "\t 1   & 0   & 0   & 0   & 0   & 0   & 0   & 0   & 0   & 0   & ... & 0   & 0   & 0   & 0   & 0   & 0   & 0   & 0   & 0   & 0  \\\\\n",
       "\\end{tabular}\n"
      ],
      "text/markdown": [
       "\n",
       "| X5 | X0 | X0.1 | X0.2 | X0.3 | X0.4 | X0.5 | X0.6 | X0.7 | X0.8 | ... | X0.608 | X0.609 | X0.610 | X0.611 | X0.612 | X0.613 | X0.614 | X0.615 | X0.616 | X0.617 |\n",
       "|---|---|---|---|---|---|---|---|---|---|---|---|---|---|---|---|---|---|---|---|---|\n",
       "| 0   | 0   | 0   | 0   | 0   | 0   | 0   | 0   | 0   | 0   | ... | 0   | 0   | 0   | 0   | 0   | 0   | 0   | 0   | 0   | 0   |\n",
       "| 4   | 0   | 0   | 0   | 0   | 0   | 0   | 0   | 0   | 0   | ... | 0   | 0   | 0   | 0   | 0   | 0   | 0   | 0   | 0   | 0   |\n",
       "| 1   | 0   | 0   | 0   | 0   | 0   | 0   | 0   | 0   | 0   | ... | 0   | 0   | 0   | 0   | 0   | 0   | 0   | 0   | 0   | 0   |\n",
       "| 9   | 0   | 0   | 0   | 0   | 0   | 0   | 0   | 0   | 0   | ... | 0   | 0   | 0   | 0   | 0   | 0   | 0   | 0   | 0   | 0   |\n",
       "| 2   | 0   | 0   | 0   | 0   | 0   | 0   | 0   | 0   | 0   | ... | 0   | 0   | 0   | 0   | 0   | 0   | 0   | 0   | 0   | 0   |\n",
       "| 1   | 0   | 0   | 0   | 0   | 0   | 0   | 0   | 0   | 0   | ... | 0   | 0   | 0   | 0   | 0   | 0   | 0   | 0   | 0   | 0   |\n",
       "\n"
      ],
      "text/plain": [
       "  X5 X0 X0.1 X0.2 X0.3 X0.4 X0.5 X0.6 X0.7 X0.8 ... X0.608 X0.609 X0.610 X0.611\n",
       "1 0  0  0    0    0    0    0    0    0    0    ... 0      0      0      0     \n",
       "2 4  0  0    0    0    0    0    0    0    0    ... 0      0      0      0     \n",
       "3 1  0  0    0    0    0    0    0    0    0    ... 0      0      0      0     \n",
       "4 9  0  0    0    0    0    0    0    0    0    ... 0      0      0      0     \n",
       "5 2  0  0    0    0    0    0    0    0    0    ... 0      0      0      0     \n",
       "6 1  0  0    0    0    0    0    0    0    0    ... 0      0      0      0     \n",
       "  X0.612 X0.613 X0.614 X0.615 X0.616 X0.617\n",
       "1 0      0      0      0      0      0     \n",
       "2 0      0      0      0      0      0     \n",
       "3 0      0      0      0      0      0     \n",
       "4 0      0      0      0      0      0     \n",
       "5 0      0      0      0      0      0     \n",
       "6 0      0      0      0      0      0     "
      ]
     },
     "metadata": {},
     "output_type": "display_data"
    }
   ],
   "source": [
    "# 28픽셀 크기의 정사각형 패드에서 쓰여진 숫자,문자\n",
    "# 한 샘플의 v1 : 정답 값 V2~ : 해당 값이 그려진 위치의 색깔코드\n",
    "# 지도학습 : 문제와 정답을 알려주고 학습시키는 것 (비지도학습, 강화학습)\n",
    "mnist <- read.csv(\"../Data/train_1k.csv\", header = F)\n",
    "head(mnist)\n",
    "\n",
    "mnist10 <- read.csv(\"../Data/train_10k.csv\")\n",
    "head(mnist10)"
   ]
  },
  {
   "cell_type": "code",
   "execution_count": 2,
   "id": "a6ac4bee",
   "metadata": {},
   "outputs": [
    {
     "name": "stdout",
     "output_type": "stream",
     "text": [
      "'data.frame':\t1001 obs. of  785 variables:\n",
      " $ V1  : int  5 0 4 1 9 2 1 3 1 4 ...\n",
      " $ V2  : int  0 0 0 0 0 0 0 0 0 0 ...\n",
      " $ V3  : int  0 0 0 0 0 0 0 0 0 0 ...\n",
      " $ V4  : int  0 0 0 0 0 0 0 0 0 0 ...\n",
      " $ V5  : int  0 0 0 0 0 0 0 0 0 0 ...\n",
      " $ V6  : int  0 0 0 0 0 0 0 0 0 0 ...\n",
      " $ V7  : int  0 0 0 0 0 0 0 0 0 0 ...\n",
      " $ V8  : int  0 0 0 0 0 0 0 0 0 0 ...\n",
      " $ V9  : int  0 0 0 0 0 0 0 0 0 0 ...\n",
      " $ V10 : int  0 0 0 0 0 0 0 0 0 0 ...\n",
      " $ V11 : int  0 0 0 0 0 0 0 0 0 0 ...\n",
      " $ V12 : int  0 0 0 0 0 0 0 0 0 0 ...\n",
      " $ V13 : int  0 0 0 0 0 0 0 0 0 0 ...\n",
      " $ V14 : int  0 0 0 0 0 0 0 0 0 0 ...\n",
      " $ V15 : int  0 0 0 0 0 0 0 0 0 0 ...\n",
      " $ V16 : int  0 0 0 0 0 0 0 0 0 0 ...\n",
      " $ V17 : int  0 0 0 0 0 0 0 0 0 0 ...\n",
      " $ V18 : int  0 0 0 0 0 0 0 0 0 0 ...\n",
      " $ V19 : int  0 0 0 0 0 0 0 0 0 0 ...\n",
      " $ V20 : int  0 0 0 0 0 0 0 0 0 0 ...\n",
      " $ V21 : int  0 0 0 0 0 0 0 0 0 0 ...\n",
      " $ V22 : int  0 0 0 0 0 0 0 0 0 0 ...\n",
      " $ V23 : int  0 0 0 0 0 0 0 0 0 0 ...\n",
      " $ V24 : int  0 0 0 0 0 0 0 0 0 0 ...\n",
      " $ V25 : int  0 0 0 0 0 0 0 0 0 0 ...\n",
      " $ V26 : int  0 0 0 0 0 0 0 0 0 0 ...\n",
      " $ V27 : int  0 0 0 0 0 0 0 0 0 0 ...\n",
      " $ V28 : int  0 0 0 0 0 0 0 0 0 0 ...\n",
      " $ V29 : int  0 0 0 0 0 0 0 0 0 0 ...\n",
      " $ V30 : int  0 0 0 0 0 0 0 0 0 0 ...\n",
      " $ V31 : int  0 0 0 0 0 0 0 0 0 0 ...\n",
      " $ V32 : int  0 0 0 0 0 0 0 0 0 0 ...\n",
      " $ V33 : int  0 0 0 0 0 0 0 0 0 0 ...\n",
      " $ V34 : int  0 0 0 0 0 0 0 0 0 0 ...\n",
      " $ V35 : int  0 0 0 0 0 0 0 0 0 0 ...\n",
      " $ V36 : int  0 0 0 0 0 0 0 0 0 0 ...\n",
      " $ V37 : int  0 0 0 0 0 0 0 0 0 0 ...\n",
      " $ V38 : int  0 0 0 0 0 0 0 0 0 0 ...\n",
      " $ V39 : int  0 0 0 0 0 0 0 0 0 0 ...\n",
      " $ V40 : int  0 0 0 0 0 0 0 0 0 0 ...\n",
      " $ V41 : int  0 0 0 0 0 0 0 0 0 0 ...\n",
      " $ V42 : int  0 0 0 0 0 0 0 0 0 0 ...\n",
      " $ V43 : int  0 0 0 0 0 0 0 0 0 0 ...\n",
      " $ V44 : int  0 0 0 0 0 0 0 0 0 0 ...\n",
      " $ V45 : int  0 0 0 0 0 0 0 0 0 0 ...\n",
      " $ V46 : int  0 0 0 0 0 0 0 0 0 0 ...\n",
      " $ V47 : int  0 0 0 0 0 0 0 0 0 0 ...\n",
      " $ V48 : int  0 0 0 0 0 0 0 0 0 0 ...\n",
      " $ V49 : int  0 0 0 0 0 0 0 0 0 0 ...\n",
      " $ V50 : int  0 0 0 0 0 0 0 0 0 0 ...\n",
      " $ V51 : int  0 0 0 0 0 0 0 0 0 0 ...\n",
      " $ V52 : int  0 0 0 0 0 0 0 0 0 0 ...\n",
      " $ V53 : int  0 0 0 0 0 0 0 0 0 0 ...\n",
      " $ V54 : int  0 0 0 0 0 0 0 0 0 0 ...\n",
      " $ V55 : int  0 0 0 0 0 0 0 0 0 0 ...\n",
      " $ V56 : int  0 0 0 0 0 0 0 0 0 0 ...\n",
      " $ V57 : int  0 0 0 0 0 0 0 0 0 0 ...\n",
      " $ V58 : int  0 0 0 0 0 0 0 0 0 0 ...\n",
      " $ V59 : int  0 0 0 0 0 0 0 0 0 0 ...\n",
      " $ V60 : int  0 0 0 0 0 0 0 0 0 0 ...\n",
      " $ V61 : int  0 0 0 0 0 0 0 0 0 0 ...\n",
      " $ V62 : int  0 0 0 0 0 0 0 0 0 0 ...\n",
      " $ V63 : int  0 0 0 0 0 0 0 0 0 0 ...\n",
      " $ V64 : int  0 0 0 0 0 0 0 0 0 0 ...\n",
      " $ V65 : int  0 0 0 0 0 0 0 0 0 0 ...\n",
      " $ V66 : int  0 0 0 0 0 0 0 0 0 0 ...\n",
      " $ V67 : int  0 0 0 0 0 0 0 0 0 0 ...\n",
      " $ V68 : int  0 0 0 0 0 0 0 0 0 0 ...\n",
      " $ V69 : int  0 0 0 0 0 0 0 0 0 0 ...\n",
      " $ V70 : int  0 0 0 0 0 0 0 0 0 0 ...\n",
      " $ V71 : int  0 0 0 0 0 0 0 0 0 0 ...\n",
      " $ V72 : int  0 0 0 0 0 0 0 0 0 0 ...\n",
      " $ V73 : int  0 0 0 0 0 0 0 0 0 0 ...\n",
      " $ V74 : int  0 0 0 0 0 0 0 0 0 0 ...\n",
      " $ V75 : int  0 0 0 0 0 0 0 0 0 0 ...\n",
      " $ V76 : int  0 0 0 0 0 0 0 0 0 0 ...\n",
      " $ V77 : int  0 0 0 0 0 0 0 0 0 0 ...\n",
      " $ V78 : int  0 0 0 0 0 0 0 0 0 0 ...\n",
      " $ V79 : int  0 0 0 0 0 0 0 0 0 0 ...\n",
      " $ V80 : int  0 0 0 0 0 0 0 0 0 0 ...\n",
      " $ V81 : int  0 0 0 0 0 0 0 0 0 0 ...\n",
      " $ V82 : int  0 0 0 0 0 0 0 0 0 0 ...\n",
      " $ V83 : int  0 0 0 0 0 0 0 0 0 0 ...\n",
      " $ V84 : int  0 0 0 0 0 0 0 0 0 0 ...\n",
      " $ V85 : int  0 0 0 0 0 0 0 0 0 0 ...\n",
      " $ V86 : int  0 0 0 0 0 0 0 0 0 0 ...\n",
      " $ V87 : int  0 0 0 0 0 0 0 0 0 0 ...\n",
      " $ V88 : int  0 0 0 0 0 0 0 0 0 0 ...\n",
      " $ V89 : int  0 0 0 0 0 0 0 0 0 0 ...\n",
      " $ V90 : int  0 0 0 0 0 0 0 0 0 0 ...\n",
      " $ V91 : int  0 0 0 0 0 0 0 0 0 0 ...\n",
      " $ V92 : int  0 0 0 0 0 0 0 0 0 0 ...\n",
      " $ V93 : int  0 0 0 0 0 0 0 0 0 0 ...\n",
      " $ V94 : int  0 0 0 0 0 0 0 0 0 0 ...\n",
      " $ V95 : int  0 0 0 0 0 0 0 0 0 0 ...\n",
      " $ V96 : int  0 0 0 0 0 0 0 0 0 0 ...\n",
      " $ V97 : int  0 0 0 0 0 0 0 0 0 0 ...\n",
      " $ V98 : int  0 0 0 0 0 0 0 0 0 0 ...\n",
      " $ V99 : int  0 0 0 0 0 0 0 0 0 0 ...\n",
      "  [list output truncated]\n"
     ]
    }
   ],
   "source": [
    "str(mnist)"
   ]
  },
  {
   "cell_type": "code",
   "execution_count": 3,
   "id": "3623f6cb",
   "metadata": {},
   "outputs": [
    {
     "name": "stdout",
     "output_type": "stream",
     "text": [
      "'data.frame':\t1001 obs. of  51 variables:\n",
      " $ V100: int  0 0 0 0 0 0 0 0 0 0 ...\n",
      " $ V101: int  0 0 0 0 0 0 0 0 0 0 ...\n",
      " $ V102: int  0 0 0 0 0 0 0 0 0 0 ...\n",
      " $ V103: int  0 0 0 0 0 0 0 0 0 0 ...\n",
      " $ V104: int  0 0 0 0 0 0 0 0 0 0 ...\n",
      " $ V105: int  0 0 0 0 0 0 0 0 0 0 ...\n",
      " $ V106: int  0 0 0 0 0 0 0 0 0 0 ...\n",
      " $ V107: int  0 0 0 0 0 0 0 0 0 0 ...\n",
      " $ V108: int  0 0 0 0 0 0 0 0 0 0 ...\n",
      " $ V109: int  0 0 0 0 0 0 0 0 0 0 ...\n",
      " $ V110: int  0 0 0 0 0 0 0 0 0 0 ...\n",
      " $ V111: int  0 0 0 0 0 0 0 0 0 0 ...\n",
      " $ V112: int  0 0 0 0 0 0 0 0 0 0 ...\n",
      " $ V113: int  0 0 0 0 0 0 0 0 0 0 ...\n",
      " $ V114: int  0 0 0 0 0 0 0 0 0 0 ...\n",
      " $ V115: int  0 0 0 0 0 0 0 0 0 0 ...\n",
      " $ V116: int  0 0 0 0 0 0 0 0 0 0 ...\n",
      " $ V117: int  0 0 0 0 0 0 0 0 0 0 ...\n",
      " $ V118: int  0 0 0 0 0 0 0 0 0 0 ...\n",
      " $ V119: int  0 0 0 0 0 0 0 0 0 0 ...\n",
      " $ V120: int  0 0 0 0 0 0 0 0 0 0 ...\n",
      " $ V121: int  0 0 0 0 0 0 0 0 0 0 ...\n",
      " $ V122: int  0 0 0 0 0 0 0 0 0 0 ...\n",
      " $ V123: int  0 0 0 0 0 0 0 0 0 0 ...\n",
      " $ V124: int  0 0 0 0 0 0 0 0 0 0 ...\n",
      " $ V125: int  0 0 0 0 0 0 0 0 0 0 ...\n",
      " $ V126: int  0 0 0 0 0 0 145 0 0 0 ...\n",
      " $ V127: int  0 0 0 0 0 0 255 0 0 0 ...\n",
      " $ V128: int  0 0 0 0 0 0 211 0 0 0 ...\n",
      " $ V129: int  0 51 0 0 0 0 31 0 0 0 ...\n",
      " $ V130: int  0 159 0 0 0 0 0 0 0 0 ...\n",
      " $ V131: int  0 253 0 0 0 0 0 0 0 0 ...\n",
      " $ V132: int  0 159 0 0 0 0 0 0 0 0 ...\n",
      " $ V133: int  0 50 0 0 0 0 0 0 0 0 ...\n",
      " $ V134: int  0 0 0 0 0 0 0 0 0 0 ...\n",
      " $ V135: int  0 0 0 0 0 0 0 0 0 0 ...\n",
      " $ V136: int  0 0 0 0 0 0 0 0 0 189 ...\n",
      " $ V137: int  0 0 0 0 0 0 0 0 0 190 ...\n",
      " $ V138: int  0 0 0 0 0 0 0 0 0 0 ...\n",
      " $ V139: int  0 0 0 0 0 0 0 0 0 0 ...\n",
      " $ V140: int  0 0 0 0 0 0 0 0 0 0 ...\n",
      " $ V141: int  0 0 0 0 0 0 0 0 0 0 ...\n",
      " $ V142: int  0 0 0 0 0 0 0 0 0 0 ...\n",
      " $ V143: int  0 0 0 0 0 0 0 0 0 0 ...\n",
      " $ V144: int  0 0 0 0 0 0 0 0 0 0 ...\n",
      " $ V145: int  0 0 0 0 0 0 0 0 0 0 ...\n",
      " $ V146: int  0 0 0 0 0 0 0 0 0 0 ...\n",
      " $ V147: int  0 0 0 0 0 0 0 0 0 0 ...\n",
      " $ V148: int  0 0 0 0 0 0 0 0 0 0 ...\n",
      " $ V149: int  0 0 0 0 0 0 0 0 0 0 ...\n",
      " $ V150: int  0 0 0 0 0 0 0 0 0 0 ...\n"
     ]
    }
   ],
   "source": [
    "str(mnist[,100:150])"
   ]
  },
  {
   "cell_type": "code",
   "execution_count": 4,
   "id": "2a0e2084",
   "metadata": {},
   "outputs": [
    {
     "data": {
      "text/html": [
       "28"
      ],
      "text/latex": [
       "28"
      ],
      "text/markdown": [
       "28"
      ],
      "text/plain": [
       "[1] 28"
      ]
     },
     "metadata": {},
     "output_type": "display_data"
    }
   ],
   "source": [
    "sqrt(784)"
   ]
  },
  {
   "cell_type": "code",
   "execution_count": 7,
   "id": "d1406300",
   "metadata": {},
   "outputs": [
    {
     "name": "stdout",
     "output_type": "stream",
     "text": [
      "                            \n",
      "                            \n",
      "                            \n",
      "                            \n",
      "                            \n",
      "                            \n",
      "                            \n",
      "            *********       \n",
      "           **********       \n",
      "         ************       \n",
      "         *****  *****       \n",
      "        *****   ****        \n",
      "       *****  *****         \n",
      "      ****   ******         \n",
      "      ************          \n",
      "      ***********           \n",
      "       **********           \n",
      "             ****           \n",
      "             ****           \n",
      "              ***           \n",
      "             ****           \n",
      "             ****           \n",
      "             ****           \n",
      "              ***           \n",
      "              ****          \n",
      "              *****         \n",
      "               ****         \n",
      "                            \n"
     ]
    }
   ],
   "source": [
    "# Data 내용 확인하기\n",
    "num1 <- seq(2, 785, 28)\n",
    "num2 <- seq(29, 785, 28)\n",
    "cnt <- 0 # 특정숫자가 되면 다음 값으로 넘어가주는 역할\n",
    "for(j in 1:28){\n",
    "    n1 = as.numeric(num1[j])\n",
    "    n2 <- as.numeric(num2[j])\n",
    "    for(i in seq(n1, n2, 1)){\n",
    "        if(mnist[5,i] != 0){\n",
    "            cat(\"*\")\n",
    "        }else{\n",
    "            cat(\" \")\n",
    "        }\n",
    "        cnt <- cnt+1\n",
    "        if(cnt>27){\n",
    "            cat(\"\\n\")\n",
    "            cnt <- 0\n",
    "        }\n",
    "    }\n",
    "}"
   ]
  },
  {
   "cell_type": "code",
   "execution_count": 12,
   "id": "e80ad6be",
   "metadata": {},
   "outputs": [],
   "source": [
    "# 숫자 순서대로 정렬하기\n",
    "\n",
    "library(dplyr)\n",
    "\n",
    "mnist2 <- arrange(mnist, V1)\n"
   ]
  },
  {
   "cell_type": "code",
   "execution_count": 13,
   "id": "d3a0c61d",
   "metadata": {},
   "outputs": [
    {
     "data": {
      "text/plain": [
       "\n",
       "  0   1   2   3   4   5   6   7   8   9 \n",
       " 98 116  99  93 105  92  94 117  87 100 "
      ]
     },
     "metadata": {},
     "output_type": "display_data"
    }
   ],
   "source": [
    "# 0~9가 몇개씩\n",
    "table(mnist2$V1)"
   ]
  },
  {
   "cell_type": "code",
   "execution_count": 15,
   "id": "37293327",
   "metadata": {
    "collapsed": true
   },
   "outputs": [
    {
     "name": "stdout",
     "output_type": "stream",
     "text": [
      "'data.frame':\t1001 obs. of  785 variables:\n",
      " $ V1  : Factor w/ 10 levels \"0\",\"1\",\"2\",\"3\",..: 1 1 1 1 1 1 1 1 1 1 ...\n",
      " $ V2  : int  0 0 0 0 0 0 0 0 0 0 ...\n",
      " $ V3  : int  0 0 0 0 0 0 0 0 0 0 ...\n",
      " $ V4  : int  0 0 0 0 0 0 0 0 0 0 ...\n",
      " $ V5  : int  0 0 0 0 0 0 0 0 0 0 ...\n",
      " $ V6  : int  0 0 0 0 0 0 0 0 0 0 ...\n",
      " $ V7  : int  0 0 0 0 0 0 0 0 0 0 ...\n",
      " $ V8  : int  0 0 0 0 0 0 0 0 0 0 ...\n",
      " $ V9  : int  0 0 0 0 0 0 0 0 0 0 ...\n",
      " $ V10 : int  0 0 0 0 0 0 0 0 0 0 ...\n",
      " $ V11 : int  0 0 0 0 0 0 0 0 0 0 ...\n",
      " $ V12 : int  0 0 0 0 0 0 0 0 0 0 ...\n",
      " $ V13 : int  0 0 0 0 0 0 0 0 0 0 ...\n",
      " $ V14 : int  0 0 0 0 0 0 0 0 0 0 ...\n",
      " $ V15 : int  0 0 0 0 0 0 0 0 0 0 ...\n",
      " $ V16 : int  0 0 0 0 0 0 0 0 0 0 ...\n",
      " $ V17 : int  0 0 0 0 0 0 0 0 0 0 ...\n",
      " $ V18 : int  0 0 0 0 0 0 0 0 0 0 ...\n",
      " $ V19 : int  0 0 0 0 0 0 0 0 0 0 ...\n",
      " $ V20 : int  0 0 0 0 0 0 0 0 0 0 ...\n",
      " $ V21 : int  0 0 0 0 0 0 0 0 0 0 ...\n",
      " $ V22 : int  0 0 0 0 0 0 0 0 0 0 ...\n",
      " $ V23 : int  0 0 0 0 0 0 0 0 0 0 ...\n",
      " $ V24 : int  0 0 0 0 0 0 0 0 0 0 ...\n",
      " $ V25 : int  0 0 0 0 0 0 0 0 0 0 ...\n",
      " $ V26 : int  0 0 0 0 0 0 0 0 0 0 ...\n",
      " $ V27 : int  0 0 0 0 0 0 0 0 0 0 ...\n",
      " $ V28 : int  0 0 0 0 0 0 0 0 0 0 ...\n",
      " $ V29 : int  0 0 0 0 0 0 0 0 0 0 ...\n",
      " $ V30 : int  0 0 0 0 0 0 0 0 0 0 ...\n",
      " $ V31 : int  0 0 0 0 0 0 0 0 0 0 ...\n",
      " $ V32 : int  0 0 0 0 0 0 0 0 0 0 ...\n",
      " $ V33 : int  0 0 0 0 0 0 0 0 0 0 ...\n",
      " $ V34 : int  0 0 0 0 0 0 0 0 0 0 ...\n",
      " $ V35 : int  0 0 0 0 0 0 0 0 0 0 ...\n",
      " $ V36 : int  0 0 0 0 0 0 0 0 0 0 ...\n",
      " $ V37 : int  0 0 0 0 0 0 0 0 0 0 ...\n",
      " $ V38 : int  0 0 0 0 0 0 0 0 0 0 ...\n",
      " $ V39 : int  0 0 0 0 0 0 0 0 0 0 ...\n",
      " $ V40 : int  0 0 0 0 0 0 0 0 0 0 ...\n",
      " $ V41 : int  0 0 0 0 0 0 0 0 0 0 ...\n",
      " $ V42 : int  0 0 0 0 0 0 0 0 0 0 ...\n",
      " $ V43 : int  0 0 0 0 0 0 0 0 0 0 ...\n",
      " $ V44 : int  0 0 0 0 0 0 0 0 0 0 ...\n",
      " $ V45 : int  0 0 0 0 0 0 0 0 0 0 ...\n",
      " $ V46 : int  0 0 0 0 0 0 0 0 0 0 ...\n",
      " $ V47 : int  0 0 0 0 0 0 0 0 0 0 ...\n",
      " $ V48 : int  0 0 0 0 0 0 0 0 0 0 ...\n",
      " $ V49 : int  0 0 0 0 0 0 0 0 0 0 ...\n",
      " $ V50 : int  0 0 0 0 0 0 0 0 0 0 ...\n",
      " $ V51 : int  0 0 0 0 0 0 0 0 0 0 ...\n",
      " $ V52 : int  0 0 0 0 0 0 0 0 0 0 ...\n",
      " $ V53 : int  0 0 0 0 0 0 0 0 0 0 ...\n",
      " $ V54 : int  0 0 0 0 0 0 0 0 0 0 ...\n",
      " $ V55 : int  0 0 0 0 0 0 0 0 0 0 ...\n",
      " $ V56 : int  0 0 0 0 0 0 0 0 0 0 ...\n",
      " $ V57 : int  0 0 0 0 0 0 0 0 0 0 ...\n",
      " $ V58 : int  0 0 0 0 0 0 0 0 0 0 ...\n",
      " $ V59 : int  0 0 0 0 0 0 0 0 0 0 ...\n",
      " $ V60 : int  0 0 0 0 0 0 0 0 0 0 ...\n",
      " $ V61 : int  0 0 0 0 0 0 0 0 0 0 ...\n",
      " $ V62 : int  0 0 0 0 0 0 0 0 0 0 ...\n",
      " $ V63 : int  0 0 0 0 0 0 0 0 0 0 ...\n",
      " $ V64 : int  0 0 0 0 0 0 0 0 0 0 ...\n",
      " $ V65 : int  0 0 0 0 0 0 0 0 0 0 ...\n",
      " $ V66 : int  0 0 0 0 0 0 0 0 0 0 ...\n",
      " $ V67 : int  0 0 0 0 0 0 0 0 0 0 ...\n",
      " $ V68 : int  0 0 0 0 0 0 0 0 0 0 ...\n",
      " $ V69 : int  0 0 0 0 0 0 0 0 0 0 ...\n",
      " $ V70 : int  0 0 0 0 0 0 0 0 0 0 ...\n",
      " $ V71 : int  0 0 0 0 0 0 0 0 0 0 ...\n",
      " $ V72 : int  0 0 0 0 0 0 0 0 0 0 ...\n",
      " $ V73 : int  0 0 0 0 0 0 0 0 0 0 ...\n",
      " $ V74 : int  0 0 0 0 0 0 0 0 0 0 ...\n",
      " $ V75 : int  0 0 0 0 0 0 0 0 0 0 ...\n",
      " $ V76 : int  0 0 0 0 0 0 0 0 0 0 ...\n",
      " $ V77 : int  0 0 0 0 0 0 0 0 0 0 ...\n",
      " $ V78 : int  0 0 0 0 0 0 0 0 0 0 ...\n",
      " $ V79 : int  0 0 0 0 0 0 0 0 0 0 ...\n",
      " $ V80 : int  0 0 0 0 0 0 0 0 0 0 ...\n",
      " $ V81 : int  0 0 0 0 0 0 0 0 0 0 ...\n",
      " $ V82 : int  0 0 0 0 0 0 0 0 0 0 ...\n",
      " $ V83 : int  0 0 0 0 0 0 0 0 0 0 ...\n",
      " $ V84 : int  0 0 0 0 0 0 0 0 0 0 ...\n",
      " $ V85 : int  0 0 0 0 0 0 0 0 0 0 ...\n",
      " $ V86 : int  0 0 0 0 0 0 0 0 0 0 ...\n",
      " $ V87 : int  0 0 0 0 0 0 0 0 0 0 ...\n",
      " $ V88 : int  0 0 0 0 0 0 0 0 0 0 ...\n",
      " $ V89 : int  0 0 0 0 0 0 0 0 0 0 ...\n",
      " $ V90 : int  0 0 0 0 0 0 0 0 0 0 ...\n",
      " $ V91 : int  0 0 0 0 0 0 0 0 0 0 ...\n",
      " $ V92 : int  0 0 0 0 0 0 0 0 0 0 ...\n",
      " $ V93 : int  0 0 0 0 0 0 0 0 0 0 ...\n",
      " $ V94 : int  0 0 0 0 0 0 0 0 0 0 ...\n",
      " $ V95 : int  0 0 0 0 0 0 0 0 0 0 ...\n",
      " $ V96 : int  0 0 0 0 0 0 0 0 0 0 ...\n",
      " $ V97 : int  0 0 0 0 0 0 0 0 0 0 ...\n",
      " $ V98 : int  0 0 0 0 0 0 0 0 0 0 ...\n",
      " $ V99 : int  0 0 0 0 0 0 0 0 0 0 ...\n",
      "  [list output truncated]\n"
     ]
    }
   ],
   "source": [
    "# V1을 factor로 변경\n",
    "\n",
    "mnist2$V1 <- factor(mnist2$V1)\n",
    "\n",
    "str(mnist2)"
   ]
  },
  {
   "cell_type": "code",
   "execution_count": 17,
   "id": "2d1d9a1f",
   "metadata": {},
   "outputs": [
    {
     "data": {
      "text/html": [
       "<table>\n",
       "<thead><tr><th scope=col>Resample1</th></tr></thead>\n",
       "<tbody>\n",
       "\t<tr><td> 1</td></tr>\n",
       "\t<tr><td> 6</td></tr>\n",
       "\t<tr><td> 7</td></tr>\n",
       "\t<tr><td> 8</td></tr>\n",
       "\t<tr><td>10</td></tr>\n",
       "\t<tr><td>11</td></tr>\n",
       "</tbody>\n",
       "</table>\n"
      ],
      "text/latex": [
       "\\begin{tabular}{l}\n",
       " Resample1\\\\\n",
       "\\hline\n",
       "\t  1\\\\\n",
       "\t  6\\\\\n",
       "\t  7\\\\\n",
       "\t  8\\\\\n",
       "\t 10\\\\\n",
       "\t 11\\\\\n",
       "\\end{tabular}\n"
      ],
      "text/markdown": [
       "\n",
       "| Resample1 |\n",
       "|---|\n",
       "|  1 |\n",
       "|  6 |\n",
       "|  7 |\n",
       "|  8 |\n",
       "| 10 |\n",
       "| 11 |\n",
       "\n"
      ],
      "text/plain": [
       "     Resample1\n",
       "[1,]  1       \n",
       "[2,]  6       \n",
       "[3,]  7       \n",
       "[4,]  8       \n",
       "[5,] 10       \n",
       "[6,] 11       "
      ]
     },
     "metadata": {},
     "output_type": "display_data"
    }
   ],
   "source": [
    "library(caret)\n",
    "\n",
    "set.seed(1234)\n",
    "\n",
    "samp <- createDataPartition(mnist$V1, p=0.7, list=F)\n",
    "\n",
    "data.train <- mnist2[samp,]\n",
    "data.test <- mnist2[-samp,]\n",
    "\n",
    "x <- subset(data.test, select = -V1)\n",
    "y <- data.test$V1\n",
    "head(samp)"
   ]
  },
  {
   "cell_type": "code",
   "execution_count": 28,
   "id": "6e1a7e69",
   "metadata": {},
   "outputs": [
    {
     "ename": "ERROR",
     "evalue": "Error in nnet.default(x, y, w, softmax = TRUE, ...): too many (636010) weights\n",
     "output_type": "error",
     "traceback": [
      "Error in nnet.default(x, y, w, softmax = TRUE, ...): too many (636010) weights\nTraceback:\n",
      "1. model.nnet(x)",
      "2. nnet(V1 ~ ., data = data.train, size = 800)   # at line 5 of file <text>",
      "3. nnet.formula(V1 ~ ., data = data.train, size = 800)",
      "4. nnet.default(x, y, w, softmax = TRUE, ...)",
      "5. stop(gettextf(\"too many (%d) weights\", nwts), domain = NA)"
     ]
    }
   ],
   "source": [
    "# 인공신경망\n",
    "library(nnet)\n",
    "\n",
    "model.nnet <- function(x){\n",
    "    model.nnet <- nnet(V1 ~ ., data=data.train, size=800) # size : 컬럼갯수\n",
    "\n",
    "    pred <- predict(model.nnet, x, type = \"class\")\n",
    "\n",
    "    per <- mean(pred == y)\n",
    "    \n",
    "    return (per)\n",
    "}\n",
    "\n",
    "model.nnet(x)"
   ]
  },
  {
   "cell_type": "code",
   "execution_count": 21,
   "id": "baefb595",
   "metadata": {},
   "outputs": [
    {
     "name": "stderr",
     "output_type": "stream",
     "text": [
      "Loading required package: grid\n",
      "Loading required package: mvtnorm\n",
      "Loading required package: modeltools\n",
      "Loading required package: stats4\n",
      "Loading required package: strucchange\n",
      "Loading required package: zoo\n",
      "\n",
      "Attaching package: ‘zoo’\n",
      "\n",
      "The following objects are masked from ‘package:base’:\n",
      "\n",
      "    as.Date, as.Date.numeric\n",
      "\n",
      "Loading required package: sandwich\n"
     ]
    },
    {
     "data": {
      "text/html": [
       "0.540268456375839"
      ],
      "text/latex": [
       "0.540268456375839"
      ],
      "text/markdown": [
       "0.540268456375839"
      ],
      "text/plain": [
       "[1] 0.5402685"
      ]
     },
     "metadata": {},
     "output_type": "display_data"
    }
   ],
   "source": [
    "# 의사결정나무\n",
    "library(party)\n",
    "\n",
    "model.ctree <- function(x){\n",
    "    model.ctree <- ctree(V1 ~ ., data=data.train) \n",
    "\n",
    "    pred <- predict(model.ctree, x)\n",
    "\n",
    "    per <- mean(pred == y)\n",
    "    \n",
    "    return (per)\n",
    "}\n",
    "\n",
    "model.ctree(x)"
   ]
  },
  {
   "cell_type": "code",
   "execution_count": 22,
   "id": "9c566371",
   "metadata": {},
   "outputs": [
    {
     "name": "stderr",
     "output_type": "stream",
     "text": [
      "Warning message in svm.default(x, y, scale = scale, ..., na.action = na.action):\n",
      "“Variable(s) ‘V2’ and ‘V3’ and ‘V4’ and ‘V5’ and ‘V6’ and ‘V7’ and ‘V8’ and ‘V9’ and ‘V10’ and ‘V11’ and ‘V12’ and ‘V13’ and ‘V14’ and ‘V15’ and ‘V16’ and ‘V17’ and ‘V18’ and ‘V19’ and ‘V20’ and ‘V21’ and ‘V22’ and ‘V23’ and ‘V24’ and ‘V25’ and ‘V26’ and ‘V27’ and ‘V28’ and ‘V29’ and ‘V30’ and ‘V31’ and ‘V32’ and ‘V33’ and ‘V34’ and ‘V35’ and ‘V36’ and ‘V37’ and ‘V38’ and ‘V39’ and ‘V40’ and ‘V41’ and ‘V42’ and ‘V43’ and ‘V48’ and ‘V49’ and ‘V50’ and ‘V51’ and ‘V52’ and ‘V53’ and ‘V54’ and ‘V55’ and ‘V56’ and ‘V57’ and ‘V58’ and ‘V59’ and ‘V60’ and ‘V61’ and ‘V62’ and ‘V63’ and ‘V64’ and ‘V65’ and ‘V66’ and ‘V67’ and ‘V82’ and ‘V83’ and ‘V84’ and ‘V85’ and ‘V86’ and ‘V87’ and ‘V88’ and ‘V89’ and ‘V90’ and ‘V91’ and ‘V110’ and ‘V111’ and ‘V112’ and ‘V113’ and ‘V114’ and ‘V115’ and ‘V116’ and ‘V117’ and ‘V118’ and ‘V139’ and ‘V140’ and ‘V141’ and ‘V142’ and ‘V143’ and ‘V144’ and ‘V169’ and ‘V170’ and ‘V171’ and ‘V172’ and ‘V198’ and ‘V199’ and ‘V226’ and ‘V227’ and ‘V253’ and ‘V254’ and ‘V281’ and ‘V282’ and ‘V308’ and ‘V309’ and ‘V310’ and ‘V311’ and ‘V337’ and ‘V338’ and ‘V339’ and ‘V365’ and ‘V366’ and ‘V367’ and ‘V393’ and ‘V394’ and ‘V395’ and ‘V396’ and ‘V420’ and ‘V421’ and ‘V422’ and ‘V423’ and ‘V424’ and ‘V449’ and ‘V450’ and ‘V451’ and ‘V476’ and ‘V477’ and ‘V478’ and ‘V479’ and ‘V480’ and ‘V504’ and ‘V505’ and ‘V506’ and ‘V507’ and ‘V532’ and ‘V533’ and ‘V534’ and ‘V535’ and ‘V560’ and ‘V561’ and ‘V562’ and ‘V563’ and ‘V589’ and ‘V590’ and ‘V591’ and ‘V617’ and ‘V618’ and ‘V619’ and ‘V645’ and ‘V646’ and ‘V647’ and ‘V671’ and ‘V672’ and ‘V673’ and ‘V674’ and ‘V675’ and ‘V676’ and ‘V698’ and ‘V699’ and ‘V700’ and ‘V701’ and ‘V702’ and ‘V703’ and ‘V704’ and ‘V725’ and ‘V726’ and ‘V727’ and ‘V728’ and ‘V729’ and ‘V730’ and ‘V731’ and ‘V732’ and ‘V733’ and ‘V752’ and ‘V753’ and ‘V754’ and ‘V755’ and ‘V756’ and ‘V757’ and ‘V758’ and ‘V759’ and ‘V760’ and ‘V761’ and ‘V762’ and ‘V776’ and ‘V777’ and ‘V778’ and ‘V779’ and ‘V780’ and ‘V781’ and ‘V782’ and ‘V783’ and ‘V784’ and ‘V785’ constant. Cannot scale data.”"
     ]
    },
    {
     "data": {
      "text/html": [
       "0.0973154362416107"
      ],
      "text/latex": [
       "0.0973154362416107"
      ],
      "text/markdown": [
       "0.0973154362416107"
      ],
      "text/plain": [
       "[1] 0.09731544"
      ]
     },
     "metadata": {},
     "output_type": "display_data"
    }
   ],
   "source": [
    "library(e1071)\n",
    "ssvm <- function(x) {\n",
    "\n",
    "    model.svm <- svm(V1 ~ ., data=data.train)\n",
    "\n",
    "    pred4 <- predict(model.svm, x, type=\"class\")\n",
    "\n",
    "    mean(pred4 == y)\n",
    "}\n",
    "\n",
    "ssvm(x)"
   ]
  },
  {
   "cell_type": "code",
   "execution_count": 23,
   "id": "ab3af82a",
   "metadata": {},
   "outputs": [
    {
     "name": "stderr",
     "output_type": "stream",
     "text": [
      "Warning message in svm.default(x, y, scale = scale, ..., na.action = na.action):\n",
      "“Variable(s) ‘V2’ and ‘V3’ and ‘V4’ and ‘V5’ and ‘V6’ and ‘V7’ and ‘V8’ and ‘V9’ and ‘V10’ and ‘V11’ and ‘V12’ and ‘V13’ and ‘V14’ and ‘V15’ and ‘V16’ and ‘V17’ and ‘V18’ and ‘V19’ and ‘V20’ and ‘V21’ and ‘V22’ and ‘V23’ and ‘V24’ and ‘V25’ and ‘V26’ and ‘V27’ and ‘V28’ and ‘V29’ and ‘V30’ and ‘V31’ and ‘V32’ and ‘V33’ and ‘V34’ and ‘V35’ and ‘V36’ and ‘V37’ and ‘V38’ and ‘V39’ and ‘V40’ and ‘V41’ and ‘V42’ and ‘V43’ and ‘V48’ and ‘V49’ and ‘V50’ and ‘V51’ and ‘V52’ and ‘V53’ and ‘V54’ and ‘V55’ and ‘V56’ and ‘V57’ and ‘V58’ and ‘V59’ and ‘V60’ and ‘V61’ and ‘V62’ and ‘V63’ and ‘V64’ and ‘V65’ and ‘V66’ and ‘V67’ and ‘V82’ and ‘V83’ and ‘V84’ and ‘V85’ and ‘V86’ and ‘V87’ and ‘V88’ and ‘V89’ and ‘V90’ and ‘V91’ and ‘V110’ and ‘V111’ and ‘V112’ and ‘V113’ and ‘V114’ and ‘V115’ and ‘V116’ and ‘V117’ and ‘V118’ and ‘V139’ and ‘V140’ and ‘V141’ and ‘V142’ and ‘V143’ and ‘V144’ and ‘V169’ and ‘V170’ and ‘V171’ and ‘V172’ and ‘V198’ and ‘V199’ and ‘V226’ and ‘V227’ and ‘V253’ and ‘V254’ and ‘V281’ and ‘V282’ and ‘V308’ and ‘V309’ and ‘V310’ and ‘V311’ and ‘V337’ and ‘V338’ and ‘V339’ and ‘V365’ and ‘V366’ and ‘V367’ and ‘V393’ and ‘V394’ and ‘V395’ and ‘V396’ and ‘V420’ and ‘V421’ and ‘V422’ and ‘V423’ and ‘V424’ and ‘V449’ and ‘V450’ and ‘V451’ and ‘V476’ and ‘V477’ and ‘V478’ and ‘V479’ and ‘V480’ and ‘V504’ and ‘V505’ and ‘V506’ and ‘V507’ and ‘V532’ and ‘V533’ and ‘V534’ and ‘V535’ and ‘V560’ and ‘V561’ and ‘V562’ and ‘V563’ and ‘V589’ and ‘V590’ and ‘V591’ and ‘V617’ and ‘V618’ and ‘V619’ and ‘V645’ and ‘V646’ and ‘V647’ and ‘V671’ and ‘V672’ and ‘V673’ and ‘V674’ and ‘V675’ and ‘V676’ and ‘V698’ and ‘V699’ and ‘V700’ and ‘V701’ and ‘V702’ and ‘V703’ and ‘V704’ and ‘V725’ and ‘V726’ and ‘V727’ and ‘V728’ and ‘V729’ and ‘V730’ and ‘V731’ and ‘V732’ and ‘V733’ and ‘V752’ and ‘V753’ and ‘V754’ and ‘V755’ and ‘V756’ and ‘V757’ and ‘V758’ and ‘V759’ and ‘V760’ and ‘V761’ and ‘V762’ and ‘V776’ and ‘V777’ and ‘V778’ and ‘V779’ and ‘V780’ and ‘V781’ and ‘V782’ and ‘V783’ and ‘V784’ and ‘V785’ constant. Cannot scale data.”"
     ]
    },
    {
     "data": {
      "text/html": [
       "0.0973154362416107"
      ],
      "text/latex": [
       "0.0973154362416107"
      ],
      "text/markdown": [
       "0.0973154362416107"
      ],
      "text/plain": [
       "[1] 0.09731544"
      ]
     },
     "metadata": {},
     "output_type": "display_data"
    }
   ],
   "source": [
    "# SVM\n",
    "\n",
    "library(e1071)\n",
    "ssvm <- function(x) {\n",
    "\n",
    "    model.svm <- svm(V1 ~ ., data=data.train)\n",
    "\n",
    "    pred4 <- predict(model.svm, x, type=\"class\")\n",
    "\n",
    "    mean(pred4 == y)\n",
    "}\n",
    "\n",
    "ssvm(x)"
   ]
  },
  {
   "cell_type": "code",
   "execution_count": 30,
   "id": "ac4e3c7c",
   "metadata": {},
   "outputs": [
    {
     "ename": "ERROR",
     "evalue": "Error in nnet.default(X, Y, w, mask = mask, size = 0, skip = TRUE, softmax = TRUE, : too many (7860) weights\n",
     "output_type": "error",
     "traceback": [
      "Error in nnet.default(X, Y, w, mask = mask, size = 0, skip = TRUE, softmax = TRUE, : too many (7860) weights\nTraceback:\n",
      "1. model(x)",
      "2. multinom(V1 ~ ., data = data.train)   # at line 5 of file <text>",
      "3. nnet.default(X, Y, w, mask = mask, size = 0, skip = TRUE, softmax = TRUE, \n .     censored = censored, rang = 0, ...)",
      "4. stop(gettextf(\"too many (%d) weights\", nwts), domain = NA)"
     ]
    }
   ],
   "source": [
    "# 다중 로지스틱 회귀분석\n",
    "\n",
    "model <- function(x) {\n",
    "    \n",
    "    model <- multinom(V1 ~., data=data.train)\n",
    "                  \n",
    "    pred5 <- predict(model, x, type=\"class\")\n",
    "\n",
    "    mean(pred5 == y)\n",
    "}\n",
    "\n",
    "model(x)"
   ]
  },
  {
   "cell_type": "code",
   "execution_count": 25,
   "id": "13e7cf26",
   "metadata": {},
   "outputs": [
    {
     "name": "stderr",
     "output_type": "stream",
     "text": [
      "randomForest 4.6-14\n",
      "Type rfNews() to see new features/changes/bug fixes.\n",
      "\n",
      "Attaching package: ‘randomForest’\n",
      "\n",
      "The following object is masked from ‘package:ggplot2’:\n",
      "\n",
      "    margin\n",
      "\n",
      "The following object is masked from ‘package:dplyr’:\n",
      "\n",
      "    combine\n",
      "\n"
     ]
    },
    {
     "data": {
      "text/html": [
       "0.88255033557047"
      ],
      "text/latex": [
       "0.88255033557047"
      ],
      "text/markdown": [
       "0.88255033557047"
      ],
      "text/plain": [
       "[1] 0.8825503"
      ]
     },
     "metadata": {},
     "output_type": "display_data"
    }
   ],
   "source": [
    "# randomForest\n",
    "library(randomForest)\n",
    "\n",
    "\n",
    "\n",
    "rf <- function(x){\n",
    "\n",
    "    \n",
    "    model.rf <- randomForest(V1 ~ ., data = data.train, ntree = 100)\n",
    "    \n",
    "    pred3 <- predict(model.rf, x)\n",
    "\n",
    "    mean(pred3 == y)\n",
    "    \n",
    "}\n",
    "\n",
    "rf(x)"
   ]
  },
  {
   "cell_type": "code",
   "execution_count": 33,
   "id": "93d4ac7d",
   "metadata": {},
   "outputs": [
    {
     "name": "stdout",
     "output_type": "stream",
     "text": [
      "'data.frame':\t9999 obs. of  785 variables:\n",
      " $ X5     : int  0 4 1 9 2 1 3 1 4 3 ...\n",
      " $ X0     : int  0 0 0 0 0 0 0 0 0 0 ...\n",
      " $ X0.1   : int  0 0 0 0 0 0 0 0 0 0 ...\n",
      " $ X0.2   : int  0 0 0 0 0 0 0 0 0 0 ...\n",
      " $ X0.3   : int  0 0 0 0 0 0 0 0 0 0 ...\n",
      " $ X0.4   : int  0 0 0 0 0 0 0 0 0 0 ...\n",
      " $ X0.5   : int  0 0 0 0 0 0 0 0 0 0 ...\n",
      " $ X0.6   : int  0 0 0 0 0 0 0 0 0 0 ...\n",
      " $ X0.7   : int  0 0 0 0 0 0 0 0 0 0 ...\n",
      " $ X0.8   : int  0 0 0 0 0 0 0 0 0 0 ...\n",
      " $ X0.9   : int  0 0 0 0 0 0 0 0 0 0 ...\n",
      " $ X0.10  : int  0 0 0 0 0 0 0 0 0 0 ...\n",
      " $ X0.11  : int  0 0 0 0 0 0 0 0 0 0 ...\n",
      " $ X0.12  : int  0 0 0 0 0 0 0 0 0 0 ...\n",
      " $ X0.13  : int  0 0 0 0 0 0 0 0 0 0 ...\n",
      " $ X0.14  : int  0 0 0 0 0 0 0 0 0 0 ...\n",
      " $ X0.15  : int  0 0 0 0 0 0 0 0 0 0 ...\n",
      " $ X0.16  : int  0 0 0 0 0 0 0 0 0 0 ...\n",
      " $ X0.17  : int  0 0 0 0 0 0 0 0 0 0 ...\n",
      " $ X0.18  : int  0 0 0 0 0 0 0 0 0 0 ...\n",
      " $ X0.19  : int  0 0 0 0 0 0 0 0 0 0 ...\n",
      " $ X0.20  : int  0 0 0 0 0 0 0 0 0 0 ...\n",
      " $ X0.21  : int  0 0 0 0 0 0 0 0 0 0 ...\n",
      " $ X0.22  : int  0 0 0 0 0 0 0 0 0 0 ...\n",
      " $ X0.23  : int  0 0 0 0 0 0 0 0 0 0 ...\n",
      " $ X0.24  : int  0 0 0 0 0 0 0 0 0 0 ...\n",
      " $ X0.25  : int  0 0 0 0 0 0 0 0 0 0 ...\n",
      " $ X0.26  : int  0 0 0 0 0 0 0 0 0 0 ...\n",
      " $ X0.27  : int  0 0 0 0 0 0 0 0 0 0 ...\n",
      " $ X0.28  : int  0 0 0 0 0 0 0 0 0 0 ...\n",
      " $ X0.29  : int  0 0 0 0 0 0 0 0 0 0 ...\n",
      " $ X0.30  : int  0 0 0 0 0 0 0 0 0 0 ...\n",
      " $ X0.31  : int  0 0 0 0 0 0 0 0 0 0 ...\n",
      " $ X0.32  : int  0 0 0 0 0 0 0 0 0 0 ...\n",
      " $ X0.33  : int  0 0 0 0 0 0 0 0 0 0 ...\n",
      " $ X0.34  : int  0 0 0 0 0 0 0 0 0 0 ...\n",
      " $ X0.35  : int  0 0 0 0 0 0 0 0 0 0 ...\n",
      " $ X0.36  : int  0 0 0 0 0 0 0 0 0 0 ...\n",
      " $ X0.37  : int  0 0 0 0 0 0 0 0 0 0 ...\n",
      " $ X0.38  : int  0 0 0 0 0 0 0 0 0 0 ...\n",
      " $ X0.39  : int  0 0 0 0 0 0 0 0 0 0 ...\n",
      " $ X0.40  : int  0 0 0 0 0 0 0 0 0 0 ...\n",
      " $ X0.41  : int  0 0 0 0 0 0 0 0 0 0 ...\n",
      " $ X0.42  : int  0 0 0 0 0 0 0 0 0 0 ...\n",
      " $ X0.43  : int  0 0 0 0 0 0 0 0 0 0 ...\n",
      " $ X0.44  : int  0 0 0 0 0 0 0 0 0 0 ...\n",
      " $ X0.45  : int  0 0 0 0 0 0 0 0 0 0 ...\n",
      " $ X0.46  : int  0 0 0 0 0 0 0 0 0 0 ...\n",
      " $ X0.47  : int  0 0 0 0 0 0 0 0 0 0 ...\n",
      " $ X0.48  : int  0 0 0 0 0 0 0 0 0 0 ...\n",
      " $ X0.49  : int  0 0 0 0 0 0 0 0 0 0 ...\n",
      " $ X0.50  : int  0 0 0 0 0 0 0 0 0 0 ...\n",
      " $ X0.51  : int  0 0 0 0 0 0 0 0 0 0 ...\n",
      " $ X0.52  : int  0 0 0 0 0 0 0 0 0 0 ...\n",
      " $ X0.53  : int  0 0 0 0 0 0 0 0 0 0 ...\n",
      " $ X0.54  : int  0 0 0 0 0 0 0 0 0 0 ...\n",
      " $ X0.55  : int  0 0 0 0 0 0 0 0 0 0 ...\n",
      " $ X0.56  : int  0 0 0 0 0 0 0 0 0 0 ...\n",
      " $ X0.57  : int  0 0 0 0 0 0 0 0 0 0 ...\n",
      " $ X0.58  : int  0 0 0 0 0 0 0 0 0 0 ...\n",
      " $ X0.59  : int  0 0 0 0 0 0 0 0 0 0 ...\n",
      " $ X0.60  : int  0 0 0 0 0 0 0 0 0 0 ...\n",
      " $ X0.61  : int  0 0 0 0 0 0 0 0 0 0 ...\n",
      " $ X0.62  : int  0 0 0 0 0 0 0 0 0 0 ...\n",
      " $ X0.63  : int  0 0 0 0 0 0 0 0 0 0 ...\n",
      " $ X0.64  : int  0 0 0 0 0 0 0 0 0 0 ...\n",
      " $ X0.65  : int  0 0 0 0 0 0 0 0 0 0 ...\n",
      " $ X0.66  : int  0 0 0 0 0 0 0 0 0 0 ...\n",
      " $ X0.67  : int  0 0 0 0 0 0 0 0 0 0 ...\n",
      " $ X0.68  : int  0 0 0 0 0 0 0 0 0 0 ...\n",
      " $ X0.69  : int  0 0 0 0 0 0 0 0 0 0 ...\n",
      " $ X0.70  : int  0 0 0 0 0 0 0 0 0 0 ...\n",
      " $ X0.71  : int  0 0 0 0 0 0 0 0 0 0 ...\n",
      " $ X0.72  : int  0 0 0 0 0 0 0 0 0 0 ...\n",
      " $ X0.73  : int  0 0 0 0 0 0 0 0 0 0 ...\n",
      " $ X0.74  : int  0 0 0 0 0 0 0 0 0 0 ...\n",
      " $ X0.75  : int  0 0 0 0 0 0 0 0 0 0 ...\n",
      " $ X0.76  : int  0 0 0 0 0 0 0 0 0 0 ...\n",
      " $ X0.77  : int  0 0 0 0 0 0 0 0 0 0 ...\n",
      " $ X0.78  : int  0 0 0 0 0 0 0 0 0 0 ...\n",
      " $ X0.79  : int  0 0 0 0 0 0 0 0 0 0 ...\n",
      " $ X0.80  : int  0 0 0 0 0 0 0 0 0 0 ...\n",
      " $ X0.81  : int  0 0 0 0 0 0 0 0 0 0 ...\n",
      " $ X0.82  : int  0 0 0 0 0 0 0 0 0 0 ...\n",
      " $ X0.83  : int  0 0 0 0 0 0 0 0 0 0 ...\n",
      " $ X0.84  : int  0 0 0 0 0 0 0 0 0 0 ...\n",
      " $ X0.85  : int  0 0 0 0 0 0 0 0 0 0 ...\n",
      " $ X0.86  : int  0 0 0 0 0 0 0 0 0 0 ...\n",
      " $ X0.87  : int  0 0 0 0 0 0 0 0 0 0 ...\n",
      " $ X0.88  : int  0 0 0 0 0 0 0 0 0 0 ...\n",
      " $ X0.89  : int  0 0 0 0 0 0 0 0 0 0 ...\n",
      " $ X0.90  : int  0 0 0 0 0 0 0 0 0 0 ...\n",
      " $ X0.91  : int  0 0 0 0 0 0 0 0 0 0 ...\n",
      " $ X0.92  : int  0 0 0 0 0 0 0 0 0 0 ...\n",
      " $ X0.93  : int  0 0 0 0 0 0 0 0 0 0 ...\n",
      " $ X0.94  : int  0 0 0 0 0 0 0 0 0 0 ...\n",
      " $ X0.95  : int  0 0 0 0 0 0 0 0 0 0 ...\n",
      " $ X0.96  : int  0 0 0 0 0 0 0 0 0 0 ...\n",
      " $ X0.97  : int  0 0 0 0 0 0 0 0 0 0 ...\n",
      "  [list output truncated]\n"
     ]
    }
   ],
   "source": [
    "str(mnist10)"
   ]
  },
  {
   "cell_type": "code",
   "execution_count": 35,
   "id": "6c1a64a5",
   "metadata": {},
   "outputs": [
    {
     "data": {
      "text/html": [
       "<table>\n",
       "<thead><tr><th scope=col>X5</th><th scope=col>X0</th><th scope=col>X0.1</th><th scope=col>X0.2</th><th scope=col>X0.3</th><th scope=col>X0.4</th><th scope=col>X0.5</th><th scope=col>X0.6</th><th scope=col>X0.7</th><th scope=col>X0.8</th><th scope=col>...</th><th scope=col>X0.608</th><th scope=col>X0.609</th><th scope=col>X0.610</th><th scope=col>X0.611</th><th scope=col>X0.612</th><th scope=col>X0.613</th><th scope=col>X0.614</th><th scope=col>X0.615</th><th scope=col>X0.616</th><th scope=col>X0.617</th></tr></thead>\n",
       "<tbody>\n",
       "\t<tr><td>0  </td><td>0  </td><td>0  </td><td>0  </td><td>0  </td><td>0  </td><td>0  </td><td>0  </td><td>0  </td><td>0  </td><td>...</td><td>0  </td><td>0  </td><td>0  </td><td>0  </td><td>0  </td><td>0  </td><td>0  </td><td>0  </td><td>0  </td><td>0  </td></tr>\n",
       "\t<tr><td>0  </td><td>0  </td><td>0  </td><td>0  </td><td>0  </td><td>0  </td><td>0  </td><td>0  </td><td>0  </td><td>0  </td><td>...</td><td>0  </td><td>0  </td><td>0  </td><td>0  </td><td>0  </td><td>0  </td><td>0  </td><td>0  </td><td>0  </td><td>0  </td></tr>\n",
       "\t<tr><td>0  </td><td>0  </td><td>0  </td><td>0  </td><td>0  </td><td>0  </td><td>0  </td><td>0  </td><td>0  </td><td>0  </td><td>...</td><td>0  </td><td>0  </td><td>0  </td><td>0  </td><td>0  </td><td>0  </td><td>0  </td><td>0  </td><td>0  </td><td>0  </td></tr>\n",
       "\t<tr><td>0  </td><td>0  </td><td>0  </td><td>0  </td><td>0  </td><td>0  </td><td>0  </td><td>0  </td><td>0  </td><td>0  </td><td>...</td><td>0  </td><td>0  </td><td>0  </td><td>0  </td><td>0  </td><td>0  </td><td>0  </td><td>0  </td><td>0  </td><td>0  </td></tr>\n",
       "\t<tr><td>0  </td><td>0  </td><td>0  </td><td>0  </td><td>0  </td><td>0  </td><td>0  </td><td>0  </td><td>0  </td><td>0  </td><td>...</td><td>0  </td><td>0  </td><td>0  </td><td>0  </td><td>0  </td><td>0  </td><td>0  </td><td>0  </td><td>0  </td><td>0  </td></tr>\n",
       "\t<tr><td>0  </td><td>0  </td><td>0  </td><td>0  </td><td>0  </td><td>0  </td><td>0  </td><td>0  </td><td>0  </td><td>0  </td><td>...</td><td>0  </td><td>0  </td><td>0  </td><td>0  </td><td>0  </td><td>0  </td><td>0  </td><td>0  </td><td>0  </td><td>0  </td></tr>\n",
       "</tbody>\n",
       "</table>\n"
      ],
      "text/latex": [
       "\\begin{tabular}{r|lllllllllllllllllllllllllllllllllllllllllllllllllllllllllllllllllllllllllllllllllllllllllllllllllllllllllllllllllllllllllllllllllllllllllllllllllllllllllllllllllllllllllllllllllllllllllllllllllllllllllllllllllllllllllllllllllllllllllllllllllllllllllllllllllllllllllllllllllllllllllllllllllllllllllllllllllllllllllllllllllllllllllllllllllllllllllllllllllllllllllllllllllllllllllllllllllllllllllllllllllllllllllllllllllllllllllllllllllllllllllllllllllllllllllllllllllllllllllllllllllllllllllllllllllllllllllllllllllllllllllllllllllllllllllllllllllllllllllllllllllllllllllllllllllllllllllllllllllllllllllllllllllllllllllllllllllllllllllllllllllllllllllllllllllllllllllllllllllllllllllllllllllllllllllllllllllllllllllllllllllllllllllllllllllllllllllllllllllllllllllllllllllllllllllllllllll}\n",
       " X5 & X0 & X0.1 & X0.2 & X0.3 & X0.4 & X0.5 & X0.6 & X0.7 & X0.8 & ... & X0.608 & X0.609 & X0.610 & X0.611 & X0.612 & X0.613 & X0.614 & X0.615 & X0.616 & X0.617\\\\\n",
       "\\hline\n",
       "\t 0   & 0   & 0   & 0   & 0   & 0   & 0   & 0   & 0   & 0   & ... & 0   & 0   & 0   & 0   & 0   & 0   & 0   & 0   & 0   & 0  \\\\\n",
       "\t 0   & 0   & 0   & 0   & 0   & 0   & 0   & 0   & 0   & 0   & ... & 0   & 0   & 0   & 0   & 0   & 0   & 0   & 0   & 0   & 0  \\\\\n",
       "\t 0   & 0   & 0   & 0   & 0   & 0   & 0   & 0   & 0   & 0   & ... & 0   & 0   & 0   & 0   & 0   & 0   & 0   & 0   & 0   & 0  \\\\\n",
       "\t 0   & 0   & 0   & 0   & 0   & 0   & 0   & 0   & 0   & 0   & ... & 0   & 0   & 0   & 0   & 0   & 0   & 0   & 0   & 0   & 0  \\\\\n",
       "\t 0   & 0   & 0   & 0   & 0   & 0   & 0   & 0   & 0   & 0   & ... & 0   & 0   & 0   & 0   & 0   & 0   & 0   & 0   & 0   & 0  \\\\\n",
       "\t 0   & 0   & 0   & 0   & 0   & 0   & 0   & 0   & 0   & 0   & ... & 0   & 0   & 0   & 0   & 0   & 0   & 0   & 0   & 0   & 0  \\\\\n",
       "\\end{tabular}\n"
      ],
      "text/markdown": [
       "\n",
       "| X5 | X0 | X0.1 | X0.2 | X0.3 | X0.4 | X0.5 | X0.6 | X0.7 | X0.8 | ... | X0.608 | X0.609 | X0.610 | X0.611 | X0.612 | X0.613 | X0.614 | X0.615 | X0.616 | X0.617 |\n",
       "|---|---|---|---|---|---|---|---|---|---|---|---|---|---|---|---|---|---|---|---|---|\n",
       "| 0   | 0   | 0   | 0   | 0   | 0   | 0   | 0   | 0   | 0   | ... | 0   | 0   | 0   | 0   | 0   | 0   | 0   | 0   | 0   | 0   |\n",
       "| 0   | 0   | 0   | 0   | 0   | 0   | 0   | 0   | 0   | 0   | ... | 0   | 0   | 0   | 0   | 0   | 0   | 0   | 0   | 0   | 0   |\n",
       "| 0   | 0   | 0   | 0   | 0   | 0   | 0   | 0   | 0   | 0   | ... | 0   | 0   | 0   | 0   | 0   | 0   | 0   | 0   | 0   | 0   |\n",
       "| 0   | 0   | 0   | 0   | 0   | 0   | 0   | 0   | 0   | 0   | ... | 0   | 0   | 0   | 0   | 0   | 0   | 0   | 0   | 0   | 0   |\n",
       "| 0   | 0   | 0   | 0   | 0   | 0   | 0   | 0   | 0   | 0   | ... | 0   | 0   | 0   | 0   | 0   | 0   | 0   | 0   | 0   | 0   |\n",
       "| 0   | 0   | 0   | 0   | 0   | 0   | 0   | 0   | 0   | 0   | ... | 0   | 0   | 0   | 0   | 0   | 0   | 0   | 0   | 0   | 0   |\n",
       "\n"
      ],
      "text/plain": [
       "  X5 X0 X0.1 X0.2 X0.3 X0.4 X0.5 X0.6 X0.7 X0.8 ... X0.608 X0.609 X0.610 X0.611\n",
       "1 0  0  0    0    0    0    0    0    0    0    ... 0      0      0      0     \n",
       "2 0  0  0    0    0    0    0    0    0    0    ... 0      0      0      0     \n",
       "3 0  0  0    0    0    0    0    0    0    0    ... 0      0      0      0     \n",
       "4 0  0  0    0    0    0    0    0    0    0    ... 0      0      0      0     \n",
       "5 0  0  0    0    0    0    0    0    0    0    ... 0      0      0      0     \n",
       "6 0  0  0    0    0    0    0    0    0    0    ... 0      0      0      0     \n",
       "  X0.612 X0.613 X0.614 X0.615 X0.616 X0.617\n",
       "1 0      0      0      0      0      0     \n",
       "2 0      0      0      0      0      0     \n",
       "3 0      0      0      0      0      0     \n",
       "4 0      0      0      0      0      0     \n",
       "5 0      0      0      0      0      0     \n",
       "6 0      0      0      0      0      0     "
      ]
     },
     "metadata": {},
     "output_type": "display_data"
    }
   ],
   "source": [
    "mnist10_02 <- arrange(mnist10, X5)\n",
    "\n",
    "head(mnist10_02)"
   ]
  },
  {
   "cell_type": "code",
   "execution_count": 36,
   "id": "040b77c7",
   "metadata": {},
   "outputs": [
    {
     "data": {
      "text/plain": [
       "\n",
       "   0    1    2    3    4    5    6    7    8    9 \n",
       "1001 1127  991 1032  980  862 1014 1070  944  978 "
      ]
     },
     "metadata": {},
     "output_type": "display_data"
    }
   ],
   "source": [
    "table(mnist10_02$X5)"
   ]
  },
  {
   "cell_type": "code",
   "execution_count": 37,
   "id": "d486a719",
   "metadata": {
    "collapsed": true
   },
   "outputs": [
    {
     "name": "stdout",
     "output_type": "stream",
     "text": [
      "'data.frame':\t9999 obs. of  785 variables:\n",
      " $ X5     : Factor w/ 10 levels \"0\",\"1\",\"2\",\"3\",..: 1 1 1 1 1 1 1 1 1 1 ...\n",
      " $ X0     : int  0 0 0 0 0 0 0 0 0 0 ...\n",
      " $ X0.1   : int  0 0 0 0 0 0 0 0 0 0 ...\n",
      " $ X0.2   : int  0 0 0 0 0 0 0 0 0 0 ...\n",
      " $ X0.3   : int  0 0 0 0 0 0 0 0 0 0 ...\n",
      " $ X0.4   : int  0 0 0 0 0 0 0 0 0 0 ...\n",
      " $ X0.5   : int  0 0 0 0 0 0 0 0 0 0 ...\n",
      " $ X0.6   : int  0 0 0 0 0 0 0 0 0 0 ...\n",
      " $ X0.7   : int  0 0 0 0 0 0 0 0 0 0 ...\n",
      " $ X0.8   : int  0 0 0 0 0 0 0 0 0 0 ...\n",
      " $ X0.9   : int  0 0 0 0 0 0 0 0 0 0 ...\n",
      " $ X0.10  : int  0 0 0 0 0 0 0 0 0 0 ...\n",
      " $ X0.11  : int  0 0 0 0 0 0 0 0 0 0 ...\n",
      " $ X0.12  : int  0 0 0 0 0 0 0 0 0 0 ...\n",
      " $ X0.13  : int  0 0 0 0 0 0 0 0 0 0 ...\n",
      " $ X0.14  : int  0 0 0 0 0 0 0 0 0 0 ...\n",
      " $ X0.15  : int  0 0 0 0 0 0 0 0 0 0 ...\n",
      " $ X0.16  : int  0 0 0 0 0 0 0 0 0 0 ...\n",
      " $ X0.17  : int  0 0 0 0 0 0 0 0 0 0 ...\n",
      " $ X0.18  : int  0 0 0 0 0 0 0 0 0 0 ...\n",
      " $ X0.19  : int  0 0 0 0 0 0 0 0 0 0 ...\n",
      " $ X0.20  : int  0 0 0 0 0 0 0 0 0 0 ...\n",
      " $ X0.21  : int  0 0 0 0 0 0 0 0 0 0 ...\n",
      " $ X0.22  : int  0 0 0 0 0 0 0 0 0 0 ...\n",
      " $ X0.23  : int  0 0 0 0 0 0 0 0 0 0 ...\n",
      " $ X0.24  : int  0 0 0 0 0 0 0 0 0 0 ...\n",
      " $ X0.25  : int  0 0 0 0 0 0 0 0 0 0 ...\n",
      " $ X0.26  : int  0 0 0 0 0 0 0 0 0 0 ...\n",
      " $ X0.27  : int  0 0 0 0 0 0 0 0 0 0 ...\n",
      " $ X0.28  : int  0 0 0 0 0 0 0 0 0 0 ...\n",
      " $ X0.29  : int  0 0 0 0 0 0 0 0 0 0 ...\n",
      " $ X0.30  : int  0 0 0 0 0 0 0 0 0 0 ...\n",
      " $ X0.31  : int  0 0 0 0 0 0 0 0 0 0 ...\n",
      " $ X0.32  : int  0 0 0 0 0 0 0 0 0 0 ...\n",
      " $ X0.33  : int  0 0 0 0 0 0 0 0 0 0 ...\n",
      " $ X0.34  : int  0 0 0 0 0 0 0 0 0 0 ...\n",
      " $ X0.35  : int  0 0 0 0 0 0 0 0 0 0 ...\n",
      " $ X0.36  : int  0 0 0 0 0 0 0 0 0 0 ...\n",
      " $ X0.37  : int  0 0 0 0 0 0 0 0 0 0 ...\n",
      " $ X0.38  : int  0 0 0 0 0 0 0 0 0 0 ...\n",
      " $ X0.39  : int  0 0 0 0 0 0 0 0 0 0 ...\n",
      " $ X0.40  : int  0 0 0 0 0 0 0 0 0 0 ...\n",
      " $ X0.41  : int  0 0 0 0 0 0 0 0 0 0 ...\n",
      " $ X0.42  : int  0 0 0 0 0 0 0 0 0 0 ...\n",
      " $ X0.43  : int  0 0 0 0 0 0 0 0 0 0 ...\n",
      " $ X0.44  : int  0 0 0 0 0 0 0 0 0 0 ...\n",
      " $ X0.45  : int  0 0 0 0 0 0 0 0 0 0 ...\n",
      " $ X0.46  : int  0 0 0 0 0 0 0 0 0 0 ...\n",
      " $ X0.47  : int  0 0 0 0 0 0 0 0 0 0 ...\n",
      " $ X0.48  : int  0 0 0 0 0 0 0 0 0 0 ...\n",
      " $ X0.49  : int  0 0 0 0 0 0 0 0 0 0 ...\n",
      " $ X0.50  : int  0 0 0 0 0 0 0 0 0 0 ...\n",
      " $ X0.51  : int  0 0 0 0 0 0 0 0 0 0 ...\n",
      " $ X0.52  : int  0 0 0 0 0 0 0 0 0 0 ...\n",
      " $ X0.53  : int  0 0 0 0 0 0 0 0 0 0 ...\n",
      " $ X0.54  : int  0 0 0 0 0 0 0 0 0 0 ...\n",
      " $ X0.55  : int  0 0 0 0 0 0 0 0 0 0 ...\n",
      " $ X0.56  : int  0 0 0 0 0 0 0 0 0 0 ...\n",
      " $ X0.57  : int  0 0 0 0 0 0 0 0 0 0 ...\n",
      " $ X0.58  : int  0 0 0 0 0 0 0 0 0 0 ...\n",
      " $ X0.59  : int  0 0 0 0 0 0 0 0 0 0 ...\n",
      " $ X0.60  : int  0 0 0 0 0 0 0 0 0 0 ...\n",
      " $ X0.61  : int  0 0 0 0 0 0 0 0 0 0 ...\n",
      " $ X0.62  : int  0 0 0 0 0 0 0 0 0 0 ...\n",
      " $ X0.63  : int  0 0 0 0 0 0 0 0 0 0 ...\n",
      " $ X0.64  : int  0 0 0 0 0 0 0 0 0 0 ...\n",
      " $ X0.65  : int  0 0 0 0 0 0 0 0 0 0 ...\n",
      " $ X0.66  : int  0 0 0 0 0 0 0 0 0 0 ...\n",
      " $ X0.67  : int  0 0 0 0 0 0 0 0 0 0 ...\n",
      " $ X0.68  : int  0 0 0 0 0 0 0 0 0 0 ...\n",
      " $ X0.69  : int  0 0 0 0 0 0 0 0 0 0 ...\n",
      " $ X0.70  : int  0 0 0 0 0 0 0 0 0 0 ...\n",
      " $ X0.71  : int  0 0 0 0 0 0 0 0 0 0 ...\n",
      " $ X0.72  : int  0 0 0 0 0 0 0 0 0 0 ...\n",
      " $ X0.73  : int  0 0 0 0 0 0 0 0 0 0 ...\n",
      " $ X0.74  : int  0 0 0 0 0 0 0 0 0 0 ...\n",
      " $ X0.75  : int  0 0 0 0 0 0 0 0 0 0 ...\n",
      " $ X0.76  : int  0 0 0 0 0 0 0 0 0 0 ...\n",
      " $ X0.77  : int  0 0 0 0 0 0 0 0 0 0 ...\n",
      " $ X0.78  : int  0 0 0 0 0 0 0 0 0 0 ...\n",
      " $ X0.79  : int  0 0 0 0 0 0 0 0 0 0 ...\n",
      " $ X0.80  : int  0 0 0 0 0 0 0 0 0 0 ...\n",
      " $ X0.81  : int  0 0 0 0 0 0 0 0 0 0 ...\n",
      " $ X0.82  : int  0 0 0 0 0 0 0 0 0 0 ...\n",
      " $ X0.83  : int  0 0 0 0 0 0 0 0 0 0 ...\n",
      " $ X0.84  : int  0 0 0 0 0 0 0 0 0 0 ...\n",
      " $ X0.85  : int  0 0 0 0 0 0 0 0 0 0 ...\n",
      " $ X0.86  : int  0 0 0 0 0 0 0 0 0 0 ...\n",
      " $ X0.87  : int  0 0 0 0 0 0 0 0 0 0 ...\n",
      " $ X0.88  : int  0 0 0 0 0 0 0 0 0 0 ...\n",
      " $ X0.89  : int  0 0 0 0 0 0 0 0 0 0 ...\n",
      " $ X0.90  : int  0 0 0 0 0 0 0 0 0 0 ...\n",
      " $ X0.91  : int  0 0 0 0 0 0 0 0 0 0 ...\n",
      " $ X0.92  : int  0 0 0 0 0 0 0 0 0 0 ...\n",
      " $ X0.93  : int  0 0 0 0 0 0 0 0 0 0 ...\n",
      " $ X0.94  : int  0 0 0 0 0 0 0 0 0 0 ...\n",
      " $ X0.95  : int  0 0 0 0 0 0 0 0 0 0 ...\n",
      " $ X0.96  : int  0 0 0 0 0 0 0 0 0 0 ...\n",
      " $ X0.97  : int  0 0 0 0 0 0 0 0 0 0 ...\n",
      "  [list output truncated]\n"
     ]
    }
   ],
   "source": [
    "mnist10_02$X5 <- factor(mnist10_02$X5)\n",
    "\n",
    "str(mnist10_02)"
   ]
  },
  {
   "cell_type": "code",
   "execution_count": 38,
   "id": "63943cb8",
   "metadata": {},
   "outputs": [
    {
     "data": {
      "text/html": [
       "<table>\n",
       "<thead><tr><th scope=col>Resample1</th></tr></thead>\n",
       "<tbody>\n",
       "\t<tr><td>1</td></tr>\n",
       "\t<tr><td>2</td></tr>\n",
       "\t<tr><td>3</td></tr>\n",
       "\t<tr><td>4</td></tr>\n",
       "\t<tr><td>6</td></tr>\n",
       "\t<tr><td>7</td></tr>\n",
       "</tbody>\n",
       "</table>\n"
      ],
      "text/latex": [
       "\\begin{tabular}{l}\n",
       " Resample1\\\\\n",
       "\\hline\n",
       "\t 1\\\\\n",
       "\t 2\\\\\n",
       "\t 3\\\\\n",
       "\t 4\\\\\n",
       "\t 6\\\\\n",
       "\t 7\\\\\n",
       "\\end{tabular}\n"
      ],
      "text/markdown": [
       "\n",
       "| Resample1 |\n",
       "|---|\n",
       "| 1 |\n",
       "| 2 |\n",
       "| 3 |\n",
       "| 4 |\n",
       "| 6 |\n",
       "| 7 |\n",
       "\n"
      ],
      "text/plain": [
       "     Resample1\n",
       "[1,] 1        \n",
       "[2,] 2        \n",
       "[3,] 3        \n",
       "[4,] 4        \n",
       "[5,] 6        \n",
       "[6,] 7        "
      ]
     },
     "metadata": {},
     "output_type": "display_data"
    }
   ],
   "source": [
    "set.seed(1234)\n",
    "\n",
    "samp_02 <- createDataPartition(mnist10_02$X5, p=0.7, list=F)\n",
    "\n",
    "data.train_02 <- mnist10_02[samp,]\n",
    "data.test_02 <- mnist10_02[-samp,]\n",
    "\n",
    "x <- subset(data.test_02, select = -X5)\n",
    "y <- data.test_02$X5\n",
    "head(samp_02)"
   ]
  },
  {
   "cell_type": "code",
   "execution_count": null,
   "id": "e96c9f8c",
   "metadata": {},
   "outputs": [],
   "source": [
    "# 인공신경망\n",
    "library(nnet)\n",
    "\n",
    "model.nnet <- function(x){\n",
    "    model.nnet <- nnet(X5 ~ ., data=data.train_02, size=800) # size : 컬럼갯수\n",
    "\n",
    "    pred <- predict(model.nnet, x, type = \"class\")\n",
    "\n",
    "    per <- mean(pred == y)\n",
    "    \n",
    "    return (per)\n",
    "}\n",
    "\n",
    "model.nnet(x)"
   ]
  },
  {
   "cell_type": "code",
   "execution_count": null,
   "id": "19dc09a1",
   "metadata": {},
   "outputs": [],
   "source": [
    "# 의사결정나무\n",
    "library(party)\n",
    "\n",
    "model.ctree <- function(x){\n",
    "    model.ctree <- ctree(V1 ~ ., data=data.train_02) \n",
    "\n",
    "    pred <- predict(model.ctree, x)\n",
    "\n",
    "    per <- mean(pred == y)\n",
    "    \n",
    "    return (per)\n",
    "}\n",
    "\n",
    "model.ctree(x)"
   ]
  }
 ],
 "metadata": {
  "kernelspec": {
   "display_name": "R",
   "language": "R",
   "name": "ir"
  },
  "language_info": {
   "codemirror_mode": "r",
   "file_extension": ".r",
   "mimetype": "text/x-r-source",
   "name": "R",
   "pygments_lexer": "r",
   "version": "3.6.1"
  }
 },
 "nbformat": 4,
 "nbformat_minor": 5
}
