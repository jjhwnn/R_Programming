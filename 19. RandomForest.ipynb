{
 "cells": [
  {
   "cell_type": "code",
   "execution_count": 1,
   "id": "0cb0d62b",
   "metadata": {},
   "outputs": [],
   "source": [
    "# Ensemble : Model들을 같이 엮어서 사용하는 방법 "
   ]
  },
  {
   "cell_type": "code",
   "execution_count": 2,
   "id": "043ab3ab",
   "metadata": {},
   "outputs": [
    {
     "name": "stderr",
     "output_type": "stream",
     "text": [
      "randomForest 4.6-14\n",
      "Type rfNews() to see new features/changes/bug fixes.\n"
     ]
    }
   ],
   "source": [
    "library(randomForest)"
   ]
  },
  {
   "cell_type": "code",
   "execution_count": 10,
   "id": "e205d3ad",
   "metadata": {},
   "outputs": [],
   "source": [
    "# Sampling p = 0.7, 0.75, 0.8 이 가장 많이 사용됨\n",
    "library(caret)\n",
    "set.seed(1234)\n",
    "samp <- createDataPartition(iris$Species, p=0.7, list=F)\n"
   ]
  },
  {
   "cell_type": "code",
   "execution_count": 11,
   "id": "a675a0c6",
   "metadata": {},
   "outputs": [],
   "source": [
    "# 학습용 데이터 만들기\n",
    "data.tr <- iris[samp,]\n",
    "\n",
    "# 검증용 데이터 만들기\n",
    "data.test <- iris[-samp,]\n",
    "\n",
    "# 문제 및 정답 만들기\n",
    "x <- subset(data.test, select = -Species)\n",
    "y <- data.test$Species"
   ]
  },
  {
   "cell_type": "code",
   "execution_count": 12,
   "id": "9ddc3a76",
   "metadata": {},
   "outputs": [],
   "source": [
    "# 학습 시키기                                            ctree 사용갯수\n",
    "model.rf <- randomForest(Species ~ ., data = data.tr, ntree = 100)"
   ]
  },
  {
   "cell_type": "code",
   "execution_count": 13,
   "id": "8ca83e50",
   "metadata": {},
   "outputs": [],
   "source": [
    "# 검증하기\n",
    "pred <- predict(model.rf, x)"
   ]
  },
  {
   "cell_type": "code",
   "execution_count": 14,
   "id": "95b96564",
   "metadata": {
    "scrolled": true
   },
   "outputs": [
    {
     "data": {
      "text/html": [
       "0.933333333333333"
      ],
      "text/latex": [
       "0.933333333333333"
      ],
      "text/markdown": [
       "0.933333333333333"
      ],
      "text/plain": [
       "[1] 0.9333333"
      ]
     },
     "metadata": {},
     "output_type": "display_data"
    },
    {
     "data": {
      "text/plain": [
       "            y\n",
       "pred         setosa versicolor virginica\n",
       "  setosa         15          0         0\n",
       "  versicolor      0         12         0\n",
       "  virginica       0          3        15"
      ]
     },
     "metadata": {},
     "output_type": "display_data"
    }
   ],
   "source": [
    "# 예측력과 오분류표\n",
    "mean(pred == y)\n",
    "table(pred, y)"
   ]
  },
  {
   "cell_type": "code",
   "execution_count": null,
   "id": "96a3aada",
   "metadata": {},
   "outputs": [],
   "source": []
  },
  {
   "cell_type": "code",
   "execution_count": null,
   "id": "9f7acc34",
   "metadata": {},
   "outputs": [],
   "source": []
  },
  {
   "cell_type": "markdown",
   "id": "d7631323",
   "metadata": {},
   "source": [
    "---\n",
    "### 교통사고 예측하기 (회귀식과 RandomForest 예측 비교)"
   ]
  },
  {
   "cell_type": "code",
   "execution_count": 15,
   "id": "c01f6643",
   "metadata": {},
   "outputs": [
    {
     "data": {
      "text/html": [
       "<table>\n",
       "<thead><tr><th scope=col>년도</th><th scope=col>월</th><th scope=col>자치구명</th><th scope=col>발생건수</th><th scope=col>사망자수</th><th scope=col>부상자수</th></tr></thead>\n",
       "<tbody>\n",
       "\t<tr><td>2011  </td><td>1     </td><td>종로구</td><td>115   </td><td>2     </td><td>165   </td></tr>\n",
       "\t<tr><td>2011  </td><td>2     </td><td>종로구</td><td> 99   </td><td>0     </td><td>134   </td></tr>\n",
       "\t<tr><td>2011  </td><td>3     </td><td>종로구</td><td>116   </td><td>0     </td><td>162   </td></tr>\n",
       "\t<tr><td>2011  </td><td>4     </td><td>종로구</td><td>110   </td><td>1     </td><td>153   </td></tr>\n",
       "\t<tr><td>2011  </td><td>5     </td><td>종로구</td><td>122   </td><td>0     </td><td>157   </td></tr>\n",
       "\t<tr><td>2011  </td><td>6     </td><td>종로구</td><td>116   </td><td>3     </td><td>163   </td></tr>\n",
       "</tbody>\n",
       "</table>\n"
      ],
      "text/latex": [
       "\\begin{tabular}{r|llllll}\n",
       " 년도 & 월 & 자치구명 & 발생건수 & 사망자수 & 부상자수\\\\\n",
       "\\hline\n",
       "\t 2011   & 1      & 종로구 & 115    & 2      & 165   \\\\\n",
       "\t 2011   & 2      & 종로구 &  99    & 0      & 134   \\\\\n",
       "\t 2011   & 3      & 종로구 & 116    & 0      & 162   \\\\\n",
       "\t 2011   & 4      & 종로구 & 110    & 1      & 153   \\\\\n",
       "\t 2011   & 5      & 종로구 & 122    & 0      & 157   \\\\\n",
       "\t 2011   & 6      & 종로구 & 116    & 3      & 163   \\\\\n",
       "\\end{tabular}\n"
      ],
      "text/markdown": [
       "\n",
       "| 년도 | 월 | 자치구명 | 발생건수 | 사망자수 | 부상자수 |\n",
       "|---|---|---|---|---|---|\n",
       "| 2011   | 1      | 종로구 | 115    | 2      | 165    |\n",
       "| 2011   | 2      | 종로구 |  99    | 0      | 134    |\n",
       "| 2011   | 3      | 종로구 | 116    | 0      | 162    |\n",
       "| 2011   | 4      | 종로구 | 110    | 1      | 153    |\n",
       "| 2011   | 5      | 종로구 | 122    | 0      | 157    |\n",
       "| 2011   | 6      | 종로구 | 116    | 3      | 163    |\n",
       "\n"
      ],
      "text/plain": [
       "  년도 월 자치구명 발생건수 사망자수 부상자수\n",
       "1 2011 1  종로구   115      2        165     \n",
       "2 2011 2  종로구    99      0        134     \n",
       "3 2011 3  종로구   116      0        162     \n",
       "4 2011 4  종로구   110      1        153     \n",
       "5 2011 5  종로구   122      0        157     \n",
       "6 2011 6  종로구   116      3        163     "
      ]
     },
     "metadata": {},
     "output_type": "display_data"
    }
   ],
   "source": [
    "seoul <- read.csv(\"../Data/newSeoul2019.csv\")\n",
    "head(seoul)"
   ]
  },
  {
   "cell_type": "code",
   "execution_count": 16,
   "id": "1408dbc1",
   "metadata": {},
   "outputs": [
    {
     "data": {
      "text/plain": [
       "      년도            월           자치구명       발생건수        사망자수     \n",
       " Min.   :2011   Min.   : 1.00   강남구 : 108   Min.   : 45.0   Min.   : 0.000  \n",
       " 1st Qu.:2013   1st Qu.: 3.75   강동구 : 108   1st Qu.:100.0   1st Qu.: 0.000  \n",
       " Median :2015   Median : 6.50   강북구 : 108   Median :122.0   Median : 1.000  \n",
       " Mean   :2015   Mean   : 6.50   강서구 : 108   Mean   :133.3   Mean   : 1.207  \n",
       " 3rd Qu.:2017   3rd Qu.: 9.25   관악구 : 108   3rd Qu.:149.0   3rd Qu.: 2.000  \n",
       " Max.   :2019   Max.   :12.00   광진구 : 108   Max.   :383.0   Max.   :10.000  \n",
       "                                (Other):2052                                   \n",
       "    부상자수    \n",
       " Min.   : 55.0  \n",
       " 1st Qu.:138.0  \n",
       " Median :168.0  \n",
       " Mean   :187.4  \n",
       " 3rd Qu.:208.0  \n",
       " Max.   :552.0  \n",
       "                "
      ]
     },
     "metadata": {},
     "output_type": "display_data"
    }
   ],
   "source": [
    "summary(seoul)"
   ]
  },
  {
   "cell_type": "code",
   "execution_count": 24,
   "id": "e31c6aa0",
   "metadata": {},
   "outputs": [
    {
     "data": {
      "text/html": [
       "<table>\n",
       "<thead><tr><th scope=col>년도</th><th scope=col>월</th><th scope=col>자치구명</th><th scope=col>발생건수</th><th scope=col>사망자수</th><th scope=col>부상자수</th></tr></thead>\n",
       "<tbody>\n",
       "\t<tr><td>2011  </td><td>1     </td><td>종로구</td><td>115   </td><td>2     </td><td>165   </td></tr>\n",
       "\t<tr><td>2011  </td><td>2     </td><td>종로구</td><td> 99   </td><td>0     </td><td>134   </td></tr>\n",
       "\t<tr><td>2011  </td><td>3     </td><td>종로구</td><td>116   </td><td>0     </td><td>162   </td></tr>\n",
       "\t<tr><td>2011  </td><td>4     </td><td>종로구</td><td>110   </td><td>1     </td><td>153   </td></tr>\n",
       "\t<tr><td>2011  </td><td>5     </td><td>종로구</td><td>122   </td><td>0     </td><td>157   </td></tr>\n",
       "\t<tr><td>2011  </td><td>6     </td><td>종로구</td><td>116   </td><td>3     </td><td>163   </td></tr>\n",
       "</tbody>\n",
       "</table>\n"
      ],
      "text/latex": [
       "\\begin{tabular}{r|llllll}\n",
       " 년도 & 월 & 자치구명 & 발생건수 & 사망자수 & 부상자수\\\\\n",
       "\\hline\n",
       "\t 2011   & 1      & 종로구 & 115    & 2      & 165   \\\\\n",
       "\t 2011   & 2      & 종로구 &  99    & 0      & 134   \\\\\n",
       "\t 2011   & 3      & 종로구 & 116    & 0      & 162   \\\\\n",
       "\t 2011   & 4      & 종로구 & 110    & 1      & 153   \\\\\n",
       "\t 2011   & 5      & 종로구 & 122    & 0      & 157   \\\\\n",
       "\t 2011   & 6      & 종로구 & 116    & 3      & 163   \\\\\n",
       "\\end{tabular}\n"
      ],
      "text/markdown": [
       "\n",
       "| 년도 | 월 | 자치구명 | 발생건수 | 사망자수 | 부상자수 |\n",
       "|---|---|---|---|---|---|\n",
       "| 2011   | 1      | 종로구 | 115    | 2      | 165    |\n",
       "| 2011   | 2      | 종로구 |  99    | 0      | 134    |\n",
       "| 2011   | 3      | 종로구 | 116    | 0      | 162    |\n",
       "| 2011   | 4      | 종로구 | 110    | 1      | 153    |\n",
       "| 2011   | 5      | 종로구 | 122    | 0      | 157    |\n",
       "| 2011   | 6      | 종로구 | 116    | 3      | 163    |\n",
       "\n"
      ],
      "text/plain": [
       "  년도 월 자치구명 발생건수 사망자수 부상자수\n",
       "1 2011 1  종로구   115      2        165     \n",
       "2 2011 2  종로구    99      0        134     \n",
       "3 2011 3  종로구   116      0        162     \n",
       "4 2011 4  종로구   110      1        153     \n",
       "5 2011 5  종로구   122      0        157     \n",
       "6 2011 6  종로구   116      3        163     "
      ]
     },
     "metadata": {},
     "output_type": "display_data"
    },
    {
     "data": {
      "text/html": [
       "<table>\n",
       "<thead><tr><th></th><th scope=col>년도</th><th scope=col>월</th><th scope=col>자치구명</th><th scope=col>발생건수</th><th scope=col>사망자수</th><th scope=col>부상자수</th></tr></thead>\n",
       "<tbody>\n",
       "\t<tr><th scope=row>2407</th><td>2019  </td><td> 7    </td><td>종로구</td><td> 83   </td><td>0     </td><td>109   </td></tr>\n",
       "\t<tr><th scope=row>2408</th><td>2019  </td><td> 8    </td><td>종로구</td><td>115   </td><td>0     </td><td>164   </td></tr>\n",
       "\t<tr><th scope=row>2409</th><td>2019  </td><td> 9    </td><td>종로구</td><td> 99   </td><td>0     </td><td>143   </td></tr>\n",
       "\t<tr><th scope=row>2410</th><td>2019  </td><td>10    </td><td>종로구</td><td>104   </td><td>0     </td><td>139   </td></tr>\n",
       "\t<tr><th scope=row>2411</th><td>2019  </td><td>11    </td><td>종로구</td><td>100   </td><td>0     </td><td>126   </td></tr>\n",
       "\t<tr><th scope=row>2412</th><td>2019  </td><td>12    </td><td>종로구</td><td>100   </td><td>0     </td><td>142   </td></tr>\n",
       "</tbody>\n",
       "</table>\n"
      ],
      "text/latex": [
       "\\begin{tabular}{r|llllll}\n",
       "  & 년도 & 월 & 자치구명 & 발생건수 & 사망자수 & 부상자수\\\\\n",
       "\\hline\n",
       "\t2407 & 2019   &  7     & 종로구 &  83    & 0      & 109   \\\\\n",
       "\t2408 & 2019   &  8     & 종로구 & 115    & 0      & 164   \\\\\n",
       "\t2409 & 2019   &  9     & 종로구 &  99    & 0      & 143   \\\\\n",
       "\t2410 & 2019   & 10     & 종로구 & 104    & 0      & 139   \\\\\n",
       "\t2411 & 2019   & 11     & 종로구 & 100    & 0      & 126   \\\\\n",
       "\t2412 & 2019   & 12     & 종로구 & 100    & 0      & 142   \\\\\n",
       "\\end{tabular}\n"
      ],
      "text/markdown": [
       "\n",
       "| <!--/--> | 년도 | 월 | 자치구명 | 발생건수 | 사망자수 | 부상자수 |\n",
       "|---|---|---|---|---|---|---|\n",
       "| 2407 | 2019   |  7     | 종로구 |  83    | 0      | 109    |\n",
       "| 2408 | 2019   |  8     | 종로구 | 115    | 0      | 164    |\n",
       "| 2409 | 2019   |  9     | 종로구 |  99    | 0      | 143    |\n",
       "| 2410 | 2019   | 10     | 종로구 | 104    | 0      | 139    |\n",
       "| 2411 | 2019   | 11     | 종로구 | 100    | 0      | 126    |\n",
       "| 2412 | 2019   | 12     | 종로구 | 100    | 0      | 142    |\n",
       "\n"
      ],
      "text/plain": [
       "     년도 월 자치구명 발생건수 사망자수 부상자수\n",
       "2407 2019  7 종로구    83      0        109     \n",
       "2408 2019  8 종로구   115      0        164     \n",
       "2409 2019  9 종로구    99      0        143     \n",
       "2410 2019 10 종로구   104      0        139     \n",
       "2411 2019 11 종로구   100      0        126     \n",
       "2412 2019 12 종로구   100      0        142     "
      ]
     },
     "metadata": {},
     "output_type": "display_data"
    },
    {
     "name": "stdout",
     "output_type": "stream",
     "text": [
      "'data.frame':\t108 obs. of  6 variables:\n",
      " $ 년도    : int  2011 2011 2011 2011 2011 2011 2011 2011 2011 2011 ...\n",
      " $ 월      : int  1 2 3 4 5 6 7 8 9 10 ...\n",
      " $ 자치구명: Factor w/ 1 level \"종로구\": 1 1 1 1 1 1 1 1 1 1 ...\n",
      " $ 발생건수: int  115 99 116 110 122 116 103 122 121 135 ...\n",
      " $ 사망자수: int  2 0 0 1 0 3 1 1 2 2 ...\n",
      " $ 부상자수: int  165 134 162 153 157 163 154 171 166 193 ...\n"
     ]
    }
   ],
   "source": [
    "# 종로구 데이터셋 만들기\n",
    "jongro <- seoul[seoul$자치구명 == '종로구',]\n",
    "\n",
    "head(jongro)\n",
    "tail(jongro)\n",
    "\n",
    "# factor 정리\n",
    "jongro$자치구명 <- factor(jongro$자치구명)\n",
    "\n",
    "str(jongro)"
   ]
  },
  {
   "cell_type": "code",
   "execution_count": 25,
   "id": "cc750226",
   "metadata": {},
   "outputs": [
    {
     "data": {
      "text/html": [
       "<table>\n",
       "<thead><tr><th></th><th scope=col>년도</th><th scope=col>월</th><th scope=col>자치구명</th><th scope=col>발생건수</th><th scope=col>사망자수</th><th scope=col>부상자수</th></tr></thead>\n",
       "<tbody>\n",
       "\t<tr><th scope=row>103</th><td>2019  </td><td> 7    </td><td>종로구</td><td> 83   </td><td>0     </td><td>109   </td></tr>\n",
       "\t<tr><th scope=row>104</th><td>2019  </td><td> 8    </td><td>종로구</td><td>115   </td><td>0     </td><td>164   </td></tr>\n",
       "\t<tr><th scope=row>105</th><td>2019  </td><td> 9    </td><td>종로구</td><td> 99   </td><td>0     </td><td>143   </td></tr>\n",
       "\t<tr><th scope=row>106</th><td>2019  </td><td>10    </td><td>종로구</td><td>104   </td><td>0     </td><td>139   </td></tr>\n",
       "\t<tr><th scope=row>107</th><td>2019  </td><td>11    </td><td>종로구</td><td>100   </td><td>0     </td><td>126   </td></tr>\n",
       "\t<tr><th scope=row>108</th><td>2019  </td><td>12    </td><td>종로구</td><td>100   </td><td>0     </td><td>142   </td></tr>\n",
       "</tbody>\n",
       "</table>\n"
      ],
      "text/latex": [
       "\\begin{tabular}{r|llllll}\n",
       "  & 년도 & 월 & 자치구명 & 발생건수 & 사망자수 & 부상자수\\\\\n",
       "\\hline\n",
       "\t103 & 2019   &  7     & 종로구 &  83    & 0      & 109   \\\\\n",
       "\t104 & 2019   &  8     & 종로구 & 115    & 0      & 164   \\\\\n",
       "\t105 & 2019   &  9     & 종로구 &  99    & 0      & 143   \\\\\n",
       "\t106 & 2019   & 10     & 종로구 & 104    & 0      & 139   \\\\\n",
       "\t107 & 2019   & 11     & 종로구 & 100    & 0      & 126   \\\\\n",
       "\t108 & 2019   & 12     & 종로구 & 100    & 0      & 142   \\\\\n",
       "\\end{tabular}\n"
      ],
      "text/markdown": [
       "\n",
       "| <!--/--> | 년도 | 월 | 자치구명 | 발생건수 | 사망자수 | 부상자수 |\n",
       "|---|---|---|---|---|---|---|\n",
       "| 103 | 2019   |  7     | 종로구 |  83    | 0      | 109    |\n",
       "| 104 | 2019   |  8     | 종로구 | 115    | 0      | 164    |\n",
       "| 105 | 2019   |  9     | 종로구 |  99    | 0      | 143    |\n",
       "| 106 | 2019   | 10     | 종로구 | 104    | 0      | 139    |\n",
       "| 107 | 2019   | 11     | 종로구 | 100    | 0      | 126    |\n",
       "| 108 | 2019   | 12     | 종로구 | 100    | 0      | 142    |\n",
       "\n"
      ],
      "text/plain": [
       "    년도 월 자치구명 발생건수 사망자수 부상자수\n",
       "103 2019  7 종로구    83      0        109     \n",
       "104 2019  8 종로구   115      0        164     \n",
       "105 2019  9 종로구    99      0        143     \n",
       "106 2019 10 종로구   104      0        139     \n",
       "107 2019 11 종로구   100      0        126     \n",
       "108 2019 12 종로구   100      0        142     "
      ]
     },
     "metadata": {},
     "output_type": "display_data"
    }
   ],
   "source": [
    "# row names 정리하기\n",
    "rownames(jongro) <- c()\n",
    "tail(jongro)"
   ]
  },
  {
   "cell_type": "code",
   "execution_count": 26,
   "id": "edd6c60b",
   "metadata": {},
   "outputs": [
    {
     "data": {
      "text/html": [
       "0.920891438840356"
      ],
      "text/latex": [
       "0.920891438840356"
      ],
      "text/markdown": [
       "0.920891438840356"
      ],
      "text/plain": [
       "[1] 0.9208914"
      ]
     },
     "metadata": {},
     "output_type": "display_data"
    }
   ],
   "source": [
    "# 종로의 발생건수와 부상자수 상관계수\n",
    "\n",
    "cor(jongro$발생건수, jongro$부상자수)"
   ]
  },
  {
   "cell_type": "code",
   "execution_count": 36,
   "id": "15e9c317",
   "metadata": {},
   "outputs": [
    {
     "data": {
      "image/png": "[encoded data removed]",
      "text/plain": [
       "plot without title"
      ]
     },
     "metadata": {},
     "output_type": "display_data"
    }
   ],
   "source": [
    "# 종로구의 발생건수와 부상자수의 산포도와 회귀선 그리기\n",
    "\n",
    "options(warn = -1)\n",
    "\n",
    "par(family = \"AppleGothic\")\n",
    "plot(jongro$부상자수 ~ jongro$발생건수)\n",
    "\n",
    "r <- lm(jongro$부상자수 ~ jongro$발생건수)\n",
    "abline(r, col = 'red')\n"
   ]
  },
  {
   "cell_type": "code",
   "execution_count": 37,
   "id": "803169b0",
   "metadata": {},
   "outputs": [
    {
     "data": {
      "text/plain": [
       "\n",
       "Call:\n",
       "lm(formula = jongro$부상자수 ~ jongro$발생건수)\n",
       "\n",
       "Residuals:\n",
       "    Min      1Q  Median      3Q     Max \n",
       "-21.637  -5.949  -0.019   5.301  33.961 \n",
       "\n",
       "Coefficients:\n",
       "                Estimate Std. Error t value            Pr(>|t|)    \n",
       "(Intercept)      2.88612    6.05535   0.477               0.635    \n",
       "jongro$발생건수  1.35993    0.05591  24.322 <0.0000000000000002 ***\n",
       "---\n",
       "Signif. codes:  0 ‘***’ 0.001 ‘**’ 0.01 ‘*’ 0.05 ‘.’ 0.1 ‘ ’ 1\n",
       "\n",
       "Residual standard error: 9.816 on 106 degrees of freedom\n",
       "Multiple R-squared:  0.848,\tAdjusted R-squared:  0.8466 \n",
       "F-statistic: 591.6 on 1 and 106 DF,  p-value: < 0.00000000000000022\n"
      ]
     },
     "metadata": {},
     "output_type": "display_data"
    },
    {
     "data": {
      "text/plain": [
       "\n",
       "Call:\n",
       "lm(formula = jongro$부상자수 ~ jongro$발생건수)\n",
       "\n",
       "Coefficients:\n",
       "    (Intercept)  jongro$발생건수  \n",
       "          2.886            1.360  \n"
      ]
     },
     "metadata": {},
     "output_type": "display_data"
    }
   ],
   "source": [
    "\n",
    "# 예측력\n",
    "\n",
    "options(scipen = 100)\n",
    "summary(r)\n",
    "r"
   ]
  },
  {
   "cell_type": "code",
   "execution_count": 132,
   "id": "5c562a82",
   "metadata": {},
   "outputs": [
    {
     "data": {
      "text/html": [
       "271.986"
      ],
      "text/latex": [
       "271.986"
      ],
      "text/markdown": [
       "271.986"
      ],
      "text/plain": [
       "[1] 271.986"
      ]
     },
     "metadata": {},
     "output_type": "display_data"
    },
    {
     "name": "stdout",
     "output_type": "stream",
     "text": [
      "262.17 ~ 281.802"
     ]
    }
   ],
   "source": [
    "# 회귀식\n",
    "\n",
    "\n",
    "\n",
    "# - 발생건수가 100건일 경우의 부상자수 예측\n",
    "y = 1.35993*200\n",
    "y\n",
    "cat(y-9.816, \"~\", y+9.816)"
   ]
  },
  {
   "cell_type": "code",
   "execution_count": 134,
   "id": "01ec688f",
   "metadata": {},
   "outputs": [
    {
     "name": "stdout",
     "output_type": "stream",
     "text": [
      "Start:  AIC=495.34\n",
      "jongro$부상자수 ~ jongro$발생건수\n",
      "\n",
      "                  Df Sum of Sq   RSS    AIC\n",
      "<none>                         10215 495.34\n",
      "- jongro$발생건수  1     57004 67219 696.83\n"
     ]
    },
    {
     "data": {
      "text/plain": [
       "\n",
       "Call:\n",
       "lm(formula = jongro$부상자수 ~ jongro$발생건수)\n",
       "\n",
       "Coefficients:\n",
       "    (Intercept)  jongro$발생건수  \n",
       "          2.886            1.360  \n"
      ]
     },
     "metadata": {},
     "output_type": "display_data"
    }
   ],
   "source": [
    "step(r, direction = \"backward\")"
   ]
  },
  {
   "cell_type": "code",
   "execution_count": 127,
   "id": "24e5c974",
   "metadata": {},
   "outputs": [],
   "source": [
    "# 랜덤 포레스트로 예측\n",
    "# - 발생건수가 100건일 경우의 부상자수 예측\n",
    "set.seed(1234)\n",
    "\n"
   ]
  },
  {
   "cell_type": "code",
   "execution_count": 128,
   "id": "7fe7a953",
   "metadata": {},
   "outputs": [],
   "source": [
    "\n",
    "model.rf <- randomForest(부상자수 ~ 발생건수, data = jongro, ntree = 100)\n",
    "\n",
    "발생건수 = 200\n",
    "x <- data.frame(발생건수)\n",
    "\n",
    "pred2 <- predict(model.rf, x)"
   ]
  },
  {
   "cell_type": "code",
   "execution_count": 129,
   "id": "7fb5ef66",
   "metadata": {},
   "outputs": [
    {
     "data": {
      "text/html": [
       "<strong>1:</strong> 184.418666666667"
      ],
      "text/latex": [
       "\\textbf{1:} 184.418666666667"
      ],
      "text/markdown": [
       "**1:** 184.418666666667"
      ],
      "text/plain": [
       "       1 \n",
       "184.4187 "
      ]
     },
     "metadata": {},
     "output_type": "display_data"
    }
   ],
   "source": [
    "pred2"
   ]
  },
  {
   "cell_type": "code",
   "execution_count": null,
   "id": "f953af68",
   "metadata": {},
   "outputs": [],
   "source": []
  },
  {
   "cell_type": "code",
   "execution_count": null,
   "id": "588c8b96",
   "metadata": {},
   "outputs": [],
   "source": []
  },
  {
   "cell_type": "code",
   "execution_count": null,
   "id": "6d475faf",
   "metadata": {},
   "outputs": [],
   "source": []
  },
  {
   "cell_type": "code",
   "execution_count": null,
   "id": "5bd82fc9",
   "metadata": {},
   "outputs": [],
   "source": []
  },
  {
   "cell_type": "code",
   "execution_count": null,
   "id": "ec5b6d47",
   "metadata": {},
   "outputs": [],
   "source": []
  },
  {
   "cell_type": "code",
   "execution_count": null,
   "id": "bf71c728",
   "metadata": {},
   "outputs": [],
   "source": []
  }
 ],
 "metadata": {
  "kernelspec": {
   "display_name": "R",
   "language": "R",
   "name": "ir"
  },
  "language_info": {
   "codemirror_mode": "r",
   "file_extension": ".r",
   "mimetype": "text/x-r-source",
   "name": "R",
   "pygments_lexer": "r",
   "version": "3.6.1"
  }
 },
 "nbformat": 4,
 "nbformat_minor": 5
}
