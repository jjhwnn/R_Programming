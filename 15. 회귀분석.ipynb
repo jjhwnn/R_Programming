{
 "cells": [
  {
   "cell_type": "markdown",
   "id": "99149785",
   "metadata": {},
   "source": [
    "# 회귀분석(Regression)\n",
    "- 데이터를 이용하여 함수식(Y=aX+b)를 구한다.\n",
    "- 기울기(DL:weight) 와 절편(DL:Bias)을 DataSet으로 최적값을 구한다.\n",
    "              (정답과 오차율의 차이가 제일 적은 것으로 선택 --> 인공신경망으로 발전)\n",
    "- 기울기와 절편으로 Y값을 예측할 수 있다."
   ]
  },
  {
   "cell_type": "markdown",
   "id": "874f1ddb",
   "metadata": {},
   "source": [
    "### 단순회귀 분석 : Y = aX+b"
   ]
  },
  {
   "cell_type": "code",
   "execution_count": 1,
   "id": "09166429",
   "metadata": {},
   "outputs": [
    {
     "data": {
      "text/html": [
       "<table>\n",
       "<thead><tr><th scope=col>X.U.FEFF.age</th><th scope=col>Height</th><th scope=col>Weight</th></tr></thead>\n",
       "<tbody>\n",
       "\t<tr><td>0~3Months  </td><td>59.1       </td><td> 5.9       </td></tr>\n",
       "\t<tr><td>3~6Months  </td><td>66.7       </td><td> 8.0       </td></tr>\n",
       "\t<tr><td>6~9Months  </td><td>71.4       </td><td> 8.9       </td></tr>\n",
       "\t<tr><td>9~12Months </td><td>75.0       </td><td>10.1       </td></tr>\n",
       "\t<tr><td>12~18Months</td><td>80.1       </td><td>10.9       </td></tr>\n",
       "\t<tr><td>2Year      </td><td>87.8       </td><td>13.2       </td></tr>\n",
       "</tbody>\n",
       "</table>\n"
      ],
      "text/latex": [
       "\\begin{tabular}{r|lll}\n",
       " X.U.FEFF.age & Height & Weight\\\\\n",
       "\\hline\n",
       "\t 0\\textasciitilde{}3Months   & 59.1                         &  5.9                        \\\\\n",
       "\t 3\\textasciitilde{}6Months   & 66.7                         &  8.0                        \\\\\n",
       "\t 6\\textasciitilde{}9Months   & 71.4                         &  8.9                        \\\\\n",
       "\t 9\\textasciitilde{}12Months  & 75.0                         & 10.1                        \\\\\n",
       "\t 12\\textasciitilde{}18Months & 80.1                         & 10.9                        \\\\\n",
       "\t 2Year       & 87.8        & 13.2       \\\\\n",
       "\\end{tabular}\n"
      ],
      "text/markdown": [
       "\n",
       "| X.U.FEFF.age | Height | Weight |\n",
       "|---|---|---|\n",
       "| 0~3Months   | 59.1        |  5.9        |\n",
       "| 3~6Months   | 66.7        |  8.0        |\n",
       "| 6~9Months   | 71.4        |  8.9        |\n",
       "| 9~12Months  | 75.0        | 10.1        |\n",
       "| 12~18Months | 80.1        | 10.9        |\n",
       "| 2Year       | 87.8        | 13.2        |\n",
       "\n"
      ],
      "text/plain": [
       "  X.U.FEFF.age Height Weight\n",
       "1 0~3Months    59.1    5.9  \n",
       "2 3~6Months    66.7    8.0  \n",
       "3 6~9Months    71.4    8.9  \n",
       "4 9~12Months   75.0   10.1  \n",
       "5 12~18Months  80.1   10.9  \n",
       "6 2Year        87.8   13.2  "
      ]
     },
     "metadata": {},
     "output_type": "display_data"
    }
   ],
   "source": [
    "regression <- read.csv(\"../Data//regression.csv\", encoding = 'UTF-8')\n",
    "\n",
    "head(regression)"
   ]
  },
  {
   "cell_type": "code",
   "execution_count": 2,
   "id": "2c9eb9d5",
   "metadata": {},
   "outputs": [
    {
     "data": {
      "text/html": [
       "<table>\n",
       "<thead><tr><th></th><th scope=col>X.U.FEFF.age</th><th scope=col>Height</th><th scope=col>Weight</th></tr></thead>\n",
       "<tbody>\n",
       "\t<tr><th scope=row>26</th><td>30~34Year </td><td>171.3     </td><td>71.5      </td></tr>\n",
       "\t<tr><th scope=row>27</th><td>35~39Year </td><td>170.7     </td><td>72.3      </td></tr>\n",
       "\t<tr><th scope=row>28</th><td>40~49Year </td><td>168.6     </td><td>70.6      </td></tr>\n",
       "\t<tr><th scope=row>29</th><td>50~59Year </td><td>166.1     </td><td>69.1      </td></tr>\n",
       "\t<tr><th scope=row>30</th><td>60~69Year </td><td>164.4     </td><td>65.9      </td></tr>\n",
       "\t<tr><th scope=row>31</th><td>70YearOver</td><td>162.4     </td><td>61.1      </td></tr>\n",
       "</tbody>\n",
       "</table>\n"
      ],
      "text/latex": [
       "\\begin{tabular}{r|lll}\n",
       "  & X.U.FEFF.age & Height & Weight\\\\\n",
       "\\hline\n",
       "\t26 & 30\\textasciitilde{}34Year  & 171.3                       & 71.5                       \\\\\n",
       "\t27 & 35\\textasciitilde{}39Year  & 170.7                       & 72.3                       \\\\\n",
       "\t28 & 40\\textasciitilde{}49Year  & 168.6                       & 70.6                       \\\\\n",
       "\t29 & 50\\textasciitilde{}59Year  & 166.1                       & 69.1                       \\\\\n",
       "\t30 & 60\\textasciitilde{}69Year  & 164.4                       & 65.9                       \\\\\n",
       "\t31 & 70YearOver & 162.4      & 61.1      \\\\\n",
       "\\end{tabular}\n"
      ],
      "text/markdown": [
       "\n",
       "| <!--/--> | X.U.FEFF.age | Height | Weight |\n",
       "|---|---|---|---|\n",
       "| 26 | 30~34Year  | 171.3      | 71.5       |\n",
       "| 27 | 35~39Year  | 170.7      | 72.3       |\n",
       "| 28 | 40~49Year  | 168.6      | 70.6       |\n",
       "| 29 | 50~59Year  | 166.1      | 69.1       |\n",
       "| 30 | 60~69Year  | 164.4      | 65.9       |\n",
       "| 31 | 70YearOver | 162.4      | 61.1       |\n",
       "\n"
      ],
      "text/plain": [
       "   X.U.FEFF.age Height Weight\n",
       "26 30~34Year    171.3  71.5  \n",
       "27 35~39Year    170.7  72.3  \n",
       "28 40~49Year    168.6  70.6  \n",
       "29 50~59Year    166.1  69.1  \n",
       "30 60~69Year    164.4  65.9  \n",
       "31 70YearOver   162.4  61.1  "
      ]
     },
     "metadata": {},
     "output_type": "display_data"
    }
   ],
   "source": [
    "tail(regression)"
   ]
  },
  {
   "cell_type": "code",
   "execution_count": 3,
   "id": "30ae5cbe",
   "metadata": {},
   "outputs": [
    {
     "name": "stdout",
     "output_type": "stream",
     "text": [
      "'data.frame':\t31 obs. of  3 variables:\n",
      " $ X.U.FEFF.age: Factor w/ 31 levels \"0~3Months\",\"10Year\",..: 1 16 24 30 4 15 19 21 23 26 ...\n",
      " $ Height      : num  59.1 66.7 71.4 75 80.1 ...\n",
      " $ Weight      : num  5.9 8 8.9 10.1 10.9 13.2 14.8 16.7 19.1 21.5 ...\n"
     ]
    }
   ],
   "source": [
    "str(regression)"
   ]
  },
  {
   "cell_type": "code",
   "execution_count": 4,
   "id": "2e872459",
   "metadata": {},
   "outputs": [
    {
     "data": {
      "text/plain": [
       "      X.U.FEFF.age     Height          Weight     \n",
       " 0~3Months  : 1    Min.   : 59.1   Min.   : 5.90  \n",
       " 10Year     : 1    1st Qu.:105.7   1st Qu.:17.90  \n",
       " 11Year     : 1    Median :150.7   Median :45.20  \n",
       " 12~18Months: 1    Mean   :135.8   Mean   :42.62  \n",
       " 12Year     : 1    3rd Qu.:169.8   3rd Qu.:66.65  \n",
       " 13Year     : 1    Max.   :173.8   Max.   :72.30  \n",
       " (Other)    :25                                   "
      ]
     },
     "metadata": {},
     "output_type": "display_data"
    }
   ],
   "source": [
    "# 기본통계량 확인\n",
    "\n",
    "summary(regression)"
   ]
  },
  {
   "cell_type": "code",
   "execution_count": 5,
   "id": "f83e5e8e",
   "metadata": {},
   "outputs": [
    {
     "data": {
      "image/png": "[encoded data removed]",
      "text/plain": [
       "Plot with title \"Histogram of regression$Height\""
      ]
     },
     "metadata": {},
     "output_type": "display_data"
    }
   ],
   "source": [
    "hist(regression$Height)"
   ]
  },
  {
   "cell_type": "code",
   "execution_count": 6,
   "id": "9b308d78",
   "metadata": {},
   "outputs": [
    {
     "data": {
      "image/png": "[encoded data removed]",
      "text/plain": [
       "Plot with title \"Histogram of regression$Weight\""
      ]
     },
     "metadata": {},
     "output_type": "display_data"
    }
   ],
   "source": [
    "hist(regression$Weight)"
   ]
  },
  {
   "cell_type": "code",
   "execution_count": 7,
   "id": "6d9f208f",
   "metadata": {},
   "outputs": [
    {
     "data": {
      "text/html": [
       "0.967210305922711"
      ],
      "text/latex": [
       "0.967210305922711"
      ],
      "text/markdown": [
       "0.967210305922711"
      ],
      "text/plain": [
       "[1] 0.9672103"
      ]
     },
     "metadata": {},
     "output_type": "display_data"
    }
   ],
   "source": [
    "cor(regression$Height, regression$Weight)"
   ]
  },
  {
   "cell_type": "code",
   "execution_count": 8,
   "id": "a649b407",
   "metadata": {},
   "outputs": [
    {
     "data": {
      "image/png": "[encoded data removed]",
      "text/plain": [
       "plot without title"
      ]
     },
     "metadata": {},
     "output_type": "display_data"
    }
   ],
   "source": [
    "boxplot(regression$Height, regression$Weight)"
   ]
  },
  {
   "cell_type": "code",
   "execution_count": 9,
   "id": "8f3c8c14",
   "metadata": {},
   "outputs": [
    {
     "data": {
      "image/png": "[encoded data removed]",
      "text/plain": [
       "plot without title"
      ]
     },
     "metadata": {},
     "output_type": "display_data"
    }
   ],
   "source": [
    "plot(regression$Height, regression$Weight)"
   ]
  },
  {
   "cell_type": "code",
   "execution_count": 10,
   "id": "99e58cfb",
   "metadata": {},
   "outputs": [
    {
     "data": {
      "image/png": "[encoded data removed]",
      "text/plain": [
       "plot without title"
      ]
     },
     "metadata": {},
     "output_type": "display_data"
    }
   ],
   "source": [
    "plot(regression$Weight ~ regression$Height)\n",
    "\n",
    "# 회귀선 (중심선, 평균선)\n",
    "r <- lm(regression$Weight ~ regression$Height)\n",
    "abline(r, col=\"red\") # 최적의 공식을 가지고 선을 만들어줌"
   ]
  },
  {
   "cell_type": "code",
   "execution_count": 11,
   "id": "27f6233a",
   "metadata": {},
   "outputs": [
    {
     "data": {
      "text/plain": [
       "\n",
       "Call:\n",
       "lm(formula = regression$Weight ~ regression$Height)\n",
       "\n",
       "Residuals:\n",
       "    Min      1Q  Median      3Q     Max \n",
       "-9.2327 -5.9811  0.0915  5.3125 10.4346 \n",
       "\n",
       "Coefficients:\n",
       "                   Estimate Std. Error t value             Pr(>|t|)    \n",
       "(Intercept)       -40.86594    4.22768  -9.666       0.000000000142 ***\n",
       "regression$Height   0.61474    0.02998  20.508 < 0.0000000000000002 ***\n",
       "---\n",
       "Signif. codes:  0 '***' 0.001 '**' 0.01 '*' 0.05 '.' 0.1 ' ' 1\n",
       "\n",
       "Residual standard error: 6.355 on 29 degrees of freedom\n",
       "Multiple R-squared:  0.9355,\tAdjusted R-squared:  0.9333 \n",
       "F-statistic: 420.6 on 1 and 29 DF,  p-value: < 0.00000000000000022\n"
      ]
     },
     "metadata": {},
     "output_type": "display_data"
    }
   ],
   "source": [
    "# 분석결과\n",
    "options(scipen = 100)\n",
    "summary(r)"
   ]
  },
  {
   "cell_type": "markdown",
   "id": "4d416bdf",
   "metadata": {},
   "source": [
    "p-value: < 2.2e-16 < 0.05 <br>\n",
    "Adjusted R-squared:  0.9333 <- 예측력 <br>\n",
    "Residual standard error: 6.355 <- RSE 표준오차*** <br>"
   ]
  },
  {
   "cell_type": "code",
   "execution_count": 12,
   "id": "1c6357cd",
   "metadata": {},
   "outputs": [],
   "source": [
    "# Coefficients*\n",
    "# *** : 절대표시 중요함"
   ]
  },
  {
   "cell_type": "code",
   "execution_count": 13,
   "id": "9a8c1f44",
   "metadata": {},
   "outputs": [
    {
     "data": {
      "text/plain": [
       "\n",
       "Call:\n",
       "lm(formula = regression$Weight ~ regression$Height)\n",
       "\n",
       "Coefficients:\n",
       "      (Intercept)  regression$Height  \n",
       "         -40.8659             0.6147  \n"
      ]
     },
     "metadata": {},
     "output_type": "display_data"
    }
   ],
   "source": [
    "# 회귀식\n",
    "\n",
    "r"
   ]
  },
  {
   "cell_type": "code",
   "execution_count": 14,
   "id": "e4dae224",
   "metadata": {},
   "outputs": [
    {
     "name": "stdout",
     "output_type": "stream",
     "text": [
      "57.2781 ~ 69.9881"
     ]
    }
   ],
   "source": [
    "# 키가 170인 사람의 몸무게\n",
    "hei <- 0.6147 * 170 + (-40.8659)\n",
    "\n",
    "# 표준 오차를 적용한 키가 170인 사람의 몸무게 \n",
    "cat(hei-6.355, \"~\", hei+6.355)\n"
   ]
  },
  {
   "cell_type": "markdown",
   "id": "587635ab",
   "metadata": {},
   "source": [
    "---\n",
    "# IQ"
   ]
  },
  {
   "cell_type": "code",
   "execution_count": 15,
   "id": "bc1dc1fc",
   "metadata": {},
   "outputs": [
    {
     "data": {
      "text/html": [
       "<table>\n",
       "<thead><tr><th scope=col>이름</th><th scope=col>성적</th><th scope=col>IQ</th><th scope=col>다니는.학원수</th><th scope=col>게임하는.시간</th><th scope=col>TV시청.시간</th></tr></thead>\n",
       "<tbody>\n",
       "\t<tr><td>A  </td><td>90 </td><td>140</td><td>2  </td><td>1  </td><td>0  </td></tr>\n",
       "\t<tr><td>B  </td><td>75 </td><td>125</td><td>1  </td><td>3  </td><td>3  </td></tr>\n",
       "\t<tr><td>C  </td><td>77 </td><td>120</td><td>1  </td><td>0  </td><td>4  </td></tr>\n",
       "\t<tr><td>D  </td><td>83 </td><td>135</td><td>2  </td><td>3  </td><td>2  </td></tr>\n",
       "\t<tr><td>E  </td><td>65 </td><td>105</td><td>0  </td><td>4  </td><td>4  </td></tr>\n",
       "\t<tr><td>F  </td><td>80 </td><td>123</td><td>3  </td><td>1  </td><td>1  </td></tr>\n",
       "\t<tr><td>G  </td><td>83 </td><td>132</td><td>3  </td><td>4  </td><td>1  </td></tr>\n",
       "\t<tr><td>H  </td><td>70 </td><td>115</td><td>1  </td><td>1  </td><td>3  </td></tr>\n",
       "\t<tr><td>I  </td><td>87 </td><td>128</td><td>4  </td><td>0  </td><td>0  </td></tr>\n",
       "\t<tr><td>J  </td><td>79 </td><td>131</td><td>2  </td><td>2  </td><td>3  </td></tr>\n",
       "</tbody>\n",
       "</table>\n"
      ],
      "text/latex": [
       "\\begin{tabular}{r|llllll}\n",
       " 이름 & 성적 & IQ & 다니는.학원수 & 게임하는.시간 & TV시청.시간\\\\\n",
       "\\hline\n",
       "\t A   & 90  & 140 & 2   & 1   & 0  \\\\\n",
       "\t B   & 75  & 125 & 1   & 3   & 3  \\\\\n",
       "\t C   & 77  & 120 & 1   & 0   & 4  \\\\\n",
       "\t D   & 83  & 135 & 2   & 3   & 2  \\\\\n",
       "\t E   & 65  & 105 & 0   & 4   & 4  \\\\\n",
       "\t F   & 80  & 123 & 3   & 1   & 1  \\\\\n",
       "\t G   & 83  & 132 & 3   & 4   & 1  \\\\\n",
       "\t H   & 70  & 115 & 1   & 1   & 3  \\\\\n",
       "\t I   & 87  & 128 & 4   & 0   & 0  \\\\\n",
       "\t J   & 79  & 131 & 2   & 2   & 3  \\\\\n",
       "\\end{tabular}\n"
      ],
      "text/markdown": [
       "\n",
       "| 이름 | 성적 | IQ | 다니는.학원수 | 게임하는.시간 | TV시청.시간 |\n",
       "|---|---|---|---|---|---|\n",
       "| A   | 90  | 140 | 2   | 1   | 0   |\n",
       "| B   | 75  | 125 | 1   | 3   | 3   |\n",
       "| C   | 77  | 120 | 1   | 0   | 4   |\n",
       "| D   | 83  | 135 | 2   | 3   | 2   |\n",
       "| E   | 65  | 105 | 0   | 4   | 4   |\n",
       "| F   | 80  | 123 | 3   | 1   | 1   |\n",
       "| G   | 83  | 132 | 3   | 4   | 1   |\n",
       "| H   | 70  | 115 | 1   | 1   | 3   |\n",
       "| I   | 87  | 128 | 4   | 0   | 0   |\n",
       "| J   | 79  | 131 | 2   | 2   | 3   |\n",
       "\n"
      ],
      "text/plain": [
       "   이름 성적 IQ  다니는.학원수 게임하는.시간 TV시청.시간\n",
       "1  A    90   140 2             1             0          \n",
       "2  B    75   125 1             3             3          \n",
       "3  C    77   120 1             0             4          \n",
       "4  D    83   135 2             3             2          \n",
       "5  E    65   105 0             4             4          \n",
       "6  F    80   123 3             1             1          \n",
       "7  G    83   132 3             4             1          \n",
       "8  H    70   115 1             1             3          \n",
       "9  I    87   128 4             0             0          \n",
       "10 J    79   131 2             2             3          "
      ]
     },
     "metadata": {},
     "output_type": "display_data"
    }
   ],
   "source": [
    "iq02 <- read.csv(\"../Data//IQ02.csv\", fileEncoding = 'utf-8')\n",
    "\n",
    "iq02"
   ]
  },
  {
   "cell_type": "code",
   "execution_count": 16,
   "id": "ecd816e9",
   "metadata": {},
   "outputs": [
    {
     "name": "stdout",
     "output_type": "stream",
     "text": [
      "'data.frame':\t10 obs. of  6 variables:\n",
      " $ 이름         : Factor w/ 10 levels \"A\",\"B\",\"C\",\"D\",..: 1 2 3 4 5 6 7 8 9 10\n",
      " $ 성적         : int  90 75 77 83 65 80 83 70 87 79\n",
      " $ IQ           : int  140 125 120 135 105 123 132 115 128 131\n",
      " $ 다니는.학원수: int  2 1 1 2 0 3 3 1 4 2\n",
      " $ 게임하는.시간: int  1 3 0 3 4 1 4 1 0 2\n",
      " $ TV시청.시간  : int  0 3 4 2 4 1 1 3 0 3\n"
     ]
    }
   ],
   "source": [
    "# iq가 126인 사람의 성적을 예측해 보시오\n",
    "\n",
    "str(iq02)"
   ]
  },
  {
   "cell_type": "code",
   "execution_count": 17,
   "id": "d01a74af",
   "metadata": {},
   "outputs": [
    {
     "data": {
      "text/plain": [
       "      이름        성적            IQ        다니는.학원수  게임하는.시간\n",
       " A      :1   Min.   :65.0   Min.   :105.0   Min.   :0.00   Min.   :0.0  \n",
       " B      :1   1st Qu.:75.5   1st Qu.:120.8   1st Qu.:1.00   1st Qu.:1.0  \n",
       " C      :1   Median :79.5   Median :126.5   Median :2.00   Median :1.5  \n",
       " D      :1   Mean   :78.9   Mean   :125.4   Mean   :1.90   Mean   :1.9  \n",
       " E      :1   3rd Qu.:83.0   3rd Qu.:131.8   3rd Qu.:2.75   3rd Qu.:3.0  \n",
       " F      :1   Max.   :90.0   Max.   :140.0   Max.   :4.00   Max.   :4.0  \n",
       " (Other):4                                                              \n",
       "  TV시청.시간 \n",
       " Min.   :0.0  \n",
       " 1st Qu.:1.0  \n",
       " Median :2.5  \n",
       " Mean   :2.1  \n",
       " 3rd Qu.:3.0  \n",
       " Max.   :4.0  \n",
       "              "
      ]
     },
     "metadata": {},
     "output_type": "display_data"
    }
   ],
   "source": [
    "summary(iq02)"
   ]
  },
  {
   "cell_type": "code",
   "execution_count": 18,
   "id": "d70a2a46",
   "metadata": {},
   "outputs": [
    {
     "data": {
      "image/png": "[encoded data removed]",
      "text/plain": [
       "plot without title"
      ]
     },
     "metadata": {},
     "output_type": "display_data"
    }
   ],
   "source": [
    "options(warn = -1)\n",
    "plot(iq02$IQ, iq02$성적)\n",
    "\n",
    "iq <- lm(iq02$성적 ~  iq02$IQ)\n",
    "abline(iq, col='red')\n"
   ]
  },
  {
   "cell_type": "code",
   "execution_count": 19,
   "id": "dceb0c35",
   "metadata": {},
   "outputs": [
    {
     "data": {
      "text/html": [
       "0.910224243842902"
      ],
      "text/latex": [
       "0.910224243842902"
      ],
      "text/markdown": [
       "0.910224243842902"
      ],
      "text/plain": [
       "[1] 0.9102242"
      ]
     },
     "metadata": {},
     "output_type": "display_data"
    }
   ],
   "source": [
    "cor(iq02$성적, iq02$IQ)"
   ]
  },
  {
   "cell_type": "code",
   "execution_count": 20,
   "id": "9697f5bd",
   "metadata": {},
   "outputs": [
    {
     "data": {
      "text/plain": [
       "\n",
       "Call:\n",
       "lm(formula = iq02$성적 ~ iq02$IQ)\n",
       "\n",
       "Residuals:\n",
       "    Min      1Q  Median      3Q     Max \n",
       "-3.6598 -2.2384 -0.2674  1.6186  6.3544 \n",
       "\n",
       "Coefficients:\n",
       "            Estimate Std. Error t value Pr(>|t|)    \n",
       "(Intercept)  -5.2918    13.5832  -0.390 0.707007    \n",
       "iq02$IQ       0.6714     0.1080   6.217 0.000255 ***\n",
       "---\n",
       "Signif. codes:  0 '***' 0.001 '**' 0.01 '*' 0.05 '.' 0.1 ' ' 1\n",
       "\n",
       "Residual standard error: 3.322 on 8 degrees of freedom\n",
       "Multiple R-squared:  0.8285,\tAdjusted R-squared:  0.8071 \n",
       "F-statistic: 38.65 on 1 and 8 DF,  p-value: 0.0002547\n"
      ]
     },
     "metadata": {},
     "output_type": "display_data"
    }
   ],
   "source": [
    "summary(iq)"
   ]
  },
  {
   "cell_type": "code",
   "execution_count": 21,
   "id": "88ca1db2",
   "metadata": {},
   "outputs": [
    {
     "data": {
      "text/plain": [
       "\n",
       "Call:\n",
       "lm(formula = iq02$성적 ~ iq02$IQ)\n",
       "\n",
       "Coefficients:\n",
       "(Intercept)      iq02$IQ  \n",
       "    -5.2918       0.6714  \n"
      ]
     },
     "metadata": {},
     "output_type": "display_data"
    }
   ],
   "source": [
    "iq"
   ]
  },
  {
   "cell_type": "code",
   "execution_count": 22,
   "id": "3877c7f4",
   "metadata": {
    "scrolled": true
   },
   "outputs": [
    {
     "name": "stdout",
     "output_type": "stream",
     "text": [
      "81.2744 ~ 87.9184"
     ]
    }
   ],
   "source": [
    "# Intercept가 ***을 가지지 않기 때문에 b값을 가지지 않는다.\n",
    "#\n",
    "\n",
    "iq126 <- 0.6714*126\n",
    "\n",
    "cat(iq126-3.322, \"~\", iq126+3.322)"
   ]
  },
  {
   "cell_type": "code",
   "execution_count": 23,
   "id": "ef699eee",
   "metadata": {
    "scrolled": true
   },
   "outputs": [
    {
     "data": {
      "text/html": [
       "0.910224243842902"
      ],
      "text/latex": [
       "0.910224243842902"
      ],
      "text/markdown": [
       "0.910224243842902"
      ],
      "text/plain": [
       "[1] 0.9102242"
      ]
     },
     "metadata": {},
     "output_type": "display_data"
    },
    {
     "data": {
      "text/html": [
       "0.78405144055891"
      ],
      "text/latex": [
       "0.78405144055891"
      ],
      "text/markdown": [
       "0.78405144055891"
      ],
      "text/plain": [
       "[1] 0.7840514"
      ]
     },
     "metadata": {},
     "output_type": "display_data"
    },
    {
     "data": {
      "text/html": [
       "-0.338354944603278"
      ],
      "text/latex": [
       "-0.338354944603278"
      ],
      "text/markdown": [
       "-0.338354944603278"
      ],
      "text/plain": [
       "[1] -0.3383549"
      ]
     },
     "metadata": {},
     "output_type": "display_data"
    },
    {
     "data": {
      "text/html": [
       "-0.847333322809918"
      ],
      "text/latex": [
       "-0.847333322809918"
      ],
      "text/markdown": [
       "-0.847333322809918"
      ],
      "text/plain": [
       "[1] -0.8473333"
      ]
     },
     "metadata": {},
     "output_type": "display_data"
    }
   ],
   "source": [
    "# 성적과 관련이 깊은 항목은 ? (상관계수)\n",
    "# iq..\n",
    "cor(iq02$성적, iq02$IQ)\n",
    "cor(iq02$성적, iq02$다니는.학원수)\n",
    "cor(iq02$성적, iq02$게임하는.시간)\n",
    "cor(iq02$성적, iq02$TV시청.시간)"
   ]
  },
  {
   "cell_type": "code",
   "execution_count": 24,
   "id": "37a942f1",
   "metadata": {},
   "outputs": [
    {
     "data": {
      "text/html": [
       "0.78405144055891"
      ],
      "text/latex": [
       "0.78405144055891"
      ],
      "text/markdown": [
       "0.78405144055891"
      ],
      "text/plain": [
       "[1] 0.7840514"
      ]
     },
     "metadata": {},
     "output_type": "display_data"
    },
    {
     "data": {
      "image/png": "[encoded data removed]",
      "text/plain": [
       "plot without title"
      ]
     },
     "metadata": {},
     "output_type": "display_data"
    }
   ],
   "source": [
    "# 학원을 몇군데 다녀야 성적이 90점 이상이 될까?\n",
    "\n",
    "par(family = \"AppleGothic\")\n",
    "cor(iq02$다니는.학원수, iq02$성적)\n",
    "\n",
    "plot(iq02$다니는.학원수 ~ iq02$성적)\n",
    "\n",
    "score <- lm(iq02$다니는.학원수 ~ iq02$성적)\n",
    "abline(score, col='red')"
   ]
  },
  {
   "cell_type": "code",
   "execution_count": 25,
   "id": "e6e0e952",
   "metadata": {},
   "outputs": [
    {
     "data": {
      "text/plain": [
       "\n",
       "Call:\n",
       "lm(formula = iq02$다니는.학원수 ~ iq02$성적)\n",
       "\n",
       "Residuals:\n",
       "    Min      1Q  Median      3Q     Max \n",
       "-1.2775 -0.4142 -0.0437  0.4945  1.0948 \n",
       "\n",
       "Coefficients:\n",
       "            Estimate Std. Error t value Pr(>|t|)   \n",
       "(Intercept) -7.89163    2.75190  -2.868  0.02090 * \n",
       "iq02$성적    0.12410    0.03473   3.573  0.00726 **\n",
       "---\n",
       "Signif. codes:  0 '***' 0.001 '**' 0.01 '*' 0.05 '.' 0.1 ' ' 1\n",
       "\n",
       "Residual standard error: 0.7882 on 8 degrees of freedom\n",
       "Multiple R-squared:  0.6147,\tAdjusted R-squared:  0.5666 \n",
       "F-statistic: 12.77 on 1 and 8 DF,  p-value: 0.007264\n"
      ]
     },
     "metadata": {},
     "output_type": "display_data"
    }
   ],
   "source": [
    "summary(score)"
   ]
  },
  {
   "cell_type": "code",
   "execution_count": 26,
   "id": "368fb560",
   "metadata": {},
   "outputs": [
    {
     "data": {
      "text/plain": [
       "\n",
       "Call:\n",
       "lm(formula = iq02$다니는.학원수 ~ iq02$성적)\n",
       "\n",
       "Coefficients:\n",
       "(Intercept)    iq02$성적  \n",
       "    -7.8916       0.1241  \n"
      ]
     },
     "metadata": {},
     "output_type": "display_data"
    }
   ],
   "source": [
    "score"
   ]
  },
  {
   "cell_type": "code",
   "execution_count": 27,
   "id": "28d8715e",
   "metadata": {},
   "outputs": [
    {
     "data": {
      "text/html": [
       "3.2774"
      ],
      "text/latex": [
       "3.2774"
      ],
      "text/markdown": [
       "3.2774"
      ],
      "text/plain": [
       "[1] 3.2774"
      ]
     },
     "metadata": {},
     "output_type": "display_data"
    }
   ],
   "source": [
    "y <- 90*(0.1241)+(-7.8916)\n",
    "y"
   ]
  },
  {
   "cell_type": "code",
   "execution_count": 28,
   "id": "2400a18a",
   "metadata": {
    "scrolled": true
   },
   "outputs": [
    {
     "name": "stdout",
     "output_type": "stream",
     "text": [
      "2.4892 ~ 4.0656"
     ]
    }
   ],
   "source": [
    "cat(y-0.7882, \"~\", y+0.7882)"
   ]
  },
  {
   "cell_type": "code",
   "execution_count": 29,
   "id": "fc419fb5",
   "metadata": {},
   "outputs": [
    {
     "data": {
      "image/png": "[encoded data removed]",
      "text/plain": [
       "plot without title"
      ]
     },
     "metadata": {},
     "output_type": "display_data"
    }
   ],
   "source": [
    "# 성적이 85점이라면 IQ는 얼마?\n",
    "par(family = \"AppleGothic\")\n",
    "\n",
    "plot(iq02$IQ ~ iq02$성적)\n",
    "iq85 <- lm(iq02$IQ ~ iq02$성적)\n",
    "abline(iq85, col='red')"
   ]
  },
  {
   "cell_type": "code",
   "execution_count": 30,
   "id": "6a74d2dd",
   "metadata": {},
   "outputs": [
    {
     "data": {
      "text/plain": [
       "\n",
       "Call:\n",
       "lm(formula = iq02$IQ ~ iq02$성적)\n",
       "\n",
       "Residuals:\n",
       "    Min      1Q  Median      3Q     Max \n",
       "-7.3956 -3.1991  0.7426  3.6946  5.4766 \n",
       "\n",
       "Coefficients:\n",
       "            Estimate Std. Error t value Pr(>|t|)    \n",
       "(Intercept)  28.0353    15.7260   1.783 0.112480    \n",
       "iq02$성적     1.2340     0.1985   6.217 0.000255 ***\n",
       "---\n",
       "Signif. codes:  0 '***' 0.001 '**' 0.01 '*' 0.05 '.' 0.1 ' ' 1\n",
       "\n",
       "Residual standard error: 4.504 on 8 degrees of freedom\n",
       "Multiple R-squared:  0.8285,\tAdjusted R-squared:  0.8071 \n",
       "F-statistic: 38.65 on 1 and 8 DF,  p-value: 0.0002547\n"
      ]
     },
     "metadata": {},
     "output_type": "display_data"
    }
   ],
   "source": [
    "summary(iq85)"
   ]
  },
  {
   "cell_type": "code",
   "execution_count": 31,
   "id": "10791ceb",
   "metadata": {},
   "outputs": [
    {
     "data": {
      "text/plain": [
       "\n",
       "Call:\n",
       "lm(formula = iq02$IQ ~ iq02$성적)\n",
       "\n",
       "Coefficients:\n",
       "(Intercept)    iq02$성적  \n",
       "     28.035        1.234  \n"
      ]
     },
     "metadata": {},
     "output_type": "display_data"
    }
   ],
   "source": [
    "iq85"
   ]
  },
  {
   "cell_type": "code",
   "execution_count": 32,
   "id": "daac4316",
   "metadata": {},
   "outputs": [],
   "source": [
    "resultIq <- 1.234*85 + 28.035"
   ]
  },
  {
   "cell_type": "code",
   "execution_count": 33,
   "id": "45e8d1de",
   "metadata": {
    "scrolled": true
   },
   "outputs": [
    {
     "name": "stdout",
     "output_type": "stream",
     "text": [
      "128.421 ~ 137.429"
     ]
    }
   ],
   "source": [
    "cat(resultIq-4.504, \"~\", resultIq+4.504)"
   ]
  },
  {
   "cell_type": "markdown",
   "id": "d294c196",
   "metadata": {},
   "source": [
    "---\n",
    "# 다중 회귀 분석\n",
    "- 여러개의 항목들로 구성된 식으로 에측하는 방법\n"
   ]
  },
  {
   "cell_type": "markdown",
   "id": "e15be212",
   "metadata": {},
   "source": [
    "### attitude\n",
    "- 대형 금융기관의 사무직 대상으로 진급의 요소에 대한 설문조사 30개부서(무작위) 약 35명을 대상으로 한 설문지 데이터\n",
    "- 각 수치는 부서의 7개 질문에 대한 점수를 나타낸다."
   ]
  },
  {
   "cell_type": "code",
   "execution_count": 34,
   "id": "f3f0481a",
   "metadata": {},
   "outputs": [],
   "source": [
    "help(attitude)"
   ]
  },
  {
   "cell_type": "code",
   "execution_count": 35,
   "id": "7cb108b0",
   "metadata": {},
   "outputs": [
    {
     "data": {
      "text/html": [
       "<table>\n",
       "<thead><tr><th scope=col>rating</th><th scope=col>complaints</th><th scope=col>privileges</th><th scope=col>learning</th><th scope=col>raises</th><th scope=col>critical</th><th scope=col>advance</th></tr></thead>\n",
       "<tbody>\n",
       "\t<tr><td>43</td><td>51</td><td>30</td><td>39</td><td>61</td><td>92</td><td>45</td></tr>\n",
       "\t<tr><td>63</td><td>64</td><td>51</td><td>54</td><td>63</td><td>73</td><td>47</td></tr>\n",
       "\t<tr><td>71</td><td>70</td><td>68</td><td>69</td><td>76</td><td>86</td><td>48</td></tr>\n",
       "\t<tr><td>61</td><td>63</td><td>45</td><td>47</td><td>54</td><td>84</td><td>35</td></tr>\n",
       "\t<tr><td>81</td><td>78</td><td>56</td><td>66</td><td>71</td><td>83</td><td>47</td></tr>\n",
       "\t<tr><td>43</td><td>55</td><td>49</td><td>44</td><td>54</td><td>49</td><td>34</td></tr>\n",
       "</tbody>\n",
       "</table>\n"
      ],
      "text/latex": [
       "\\begin{tabular}{r|lllllll}\n",
       " rating & complaints & privileges & learning & raises & critical & advance\\\\\n",
       "\\hline\n",
       "\t 43 & 51 & 30 & 39 & 61 & 92 & 45\\\\\n",
       "\t 63 & 64 & 51 & 54 & 63 & 73 & 47\\\\\n",
       "\t 71 & 70 & 68 & 69 & 76 & 86 & 48\\\\\n",
       "\t 61 & 63 & 45 & 47 & 54 & 84 & 35\\\\\n",
       "\t 81 & 78 & 56 & 66 & 71 & 83 & 47\\\\\n",
       "\t 43 & 55 & 49 & 44 & 54 & 49 & 34\\\\\n",
       "\\end{tabular}\n"
      ],
      "text/markdown": [
       "\n",
       "| rating | complaints | privileges | learning | raises | critical | advance |\n",
       "|---|---|---|---|---|---|---|\n",
       "| 43 | 51 | 30 | 39 | 61 | 92 | 45 |\n",
       "| 63 | 64 | 51 | 54 | 63 | 73 | 47 |\n",
       "| 71 | 70 | 68 | 69 | 76 | 86 | 48 |\n",
       "| 61 | 63 | 45 | 47 | 54 | 84 | 35 |\n",
       "| 81 | 78 | 56 | 66 | 71 | 83 | 47 |\n",
       "| 43 | 55 | 49 | 44 | 54 | 49 | 34 |\n",
       "\n"
      ],
      "text/plain": [
       "  rating complaints privileges learning raises critical advance\n",
       "1 43     51         30         39       61     92       45     \n",
       "2 63     64         51         54       63     73       47     \n",
       "3 71     70         68         69       76     86       48     \n",
       "4 61     63         45         47       54     84       35     \n",
       "5 81     78         56         66       71     83       47     \n",
       "6 43     55         49         44       54     49       34     "
      ]
     },
     "metadata": {},
     "output_type": "display_data"
    }
   ],
   "source": [
    "head(attitude)"
   ]
  },
  {
   "cell_type": "code",
   "execution_count": 36,
   "id": "f87bffab",
   "metadata": {},
   "outputs": [
    {
     "data": {
      "text/html": [
       "<table>\n",
       "<thead><tr><th></th><th scope=col>rating</th><th scope=col>complaints</th><th scope=col>privileges</th><th scope=col>learning</th><th scope=col>raises</th><th scope=col>critical</th><th scope=col>advance</th></tr></thead>\n",
       "<tbody>\n",
       "\t<tr><th scope=row>25</th><td>63</td><td>54</td><td>42</td><td>48</td><td>66</td><td>75</td><td>33</td></tr>\n",
       "\t<tr><th scope=row>26</th><td>66</td><td>77</td><td>66</td><td>63</td><td>88</td><td>76</td><td>72</td></tr>\n",
       "\t<tr><th scope=row>27</th><td>78</td><td>75</td><td>58</td><td>74</td><td>80</td><td>78</td><td>49</td></tr>\n",
       "\t<tr><th scope=row>28</th><td>48</td><td>57</td><td>44</td><td>45</td><td>51</td><td>83</td><td>38</td></tr>\n",
       "\t<tr><th scope=row>29</th><td>85</td><td>85</td><td>71</td><td>71</td><td>77</td><td>74</td><td>55</td></tr>\n",
       "\t<tr><th scope=row>30</th><td>82</td><td>82</td><td>39</td><td>59</td><td>64</td><td>78</td><td>39</td></tr>\n",
       "</tbody>\n",
       "</table>\n"
      ],
      "text/latex": [
       "\\begin{tabular}{r|lllllll}\n",
       "  & rating & complaints & privileges & learning & raises & critical & advance\\\\\n",
       "\\hline\n",
       "\t25 & 63 & 54 & 42 & 48 & 66 & 75 & 33\\\\\n",
       "\t26 & 66 & 77 & 66 & 63 & 88 & 76 & 72\\\\\n",
       "\t27 & 78 & 75 & 58 & 74 & 80 & 78 & 49\\\\\n",
       "\t28 & 48 & 57 & 44 & 45 & 51 & 83 & 38\\\\\n",
       "\t29 & 85 & 85 & 71 & 71 & 77 & 74 & 55\\\\\n",
       "\t30 & 82 & 82 & 39 & 59 & 64 & 78 & 39\\\\\n",
       "\\end{tabular}\n"
      ],
      "text/markdown": [
       "\n",
       "| <!--/--> | rating | complaints | privileges | learning | raises | critical | advance |\n",
       "|---|---|---|---|---|---|---|---|\n",
       "| 25 | 63 | 54 | 42 | 48 | 66 | 75 | 33 |\n",
       "| 26 | 66 | 77 | 66 | 63 | 88 | 76 | 72 |\n",
       "| 27 | 78 | 75 | 58 | 74 | 80 | 78 | 49 |\n",
       "| 28 | 48 | 57 | 44 | 45 | 51 | 83 | 38 |\n",
       "| 29 | 85 | 85 | 71 | 71 | 77 | 74 | 55 |\n",
       "| 30 | 82 | 82 | 39 | 59 | 64 | 78 | 39 |\n",
       "\n"
      ],
      "text/plain": [
       "   rating complaints privileges learning raises critical advance\n",
       "25 63     54         42         48       66     75       33     \n",
       "26 66     77         66         63       88     76       72     \n",
       "27 78     75         58         74       80     78       49     \n",
       "28 48     57         44         45       51     83       38     \n",
       "29 85     85         71         71       77     74       55     \n",
       "30 82     82         39         59       64     78       39     "
      ]
     },
     "metadata": {},
     "output_type": "display_data"
    }
   ],
   "source": [
    "tail(attitude)"
   ]
  },
  {
   "cell_type": "code",
   "execution_count": 37,
   "id": "e4de3fe2",
   "metadata": {},
   "outputs": [
    {
     "name": "stdout",
     "output_type": "stream",
     "text": [
      "'data.frame':\t30 obs. of  7 variables:\n",
      " $ rating    : num  43 63 71 61 81 43 58 71 72 67 ...\n",
      " $ complaints: num  51 64 70 63 78 55 67 75 82 61 ...\n",
      " $ privileges: num  30 51 68 45 56 49 42 50 72 45 ...\n",
      " $ learning  : num  39 54 69 47 66 44 56 55 67 47 ...\n",
      " $ raises    : num  61 63 76 54 71 54 66 70 71 62 ...\n",
      " $ critical  : num  92 73 86 84 83 49 68 66 83 80 ...\n",
      " $ advance   : num  45 47 48 35 47 34 35 41 31 41 ...\n"
     ]
    }
   ],
   "source": [
    "str(attitude)"
   ]
  },
  {
   "cell_type": "code",
   "execution_count": 38,
   "id": "8e1ccd99",
   "metadata": {},
   "outputs": [
    {
     "data": {
      "image/png": "[encoded data removed]",
      "text/plain": [
       "plot without title"
      ]
     },
     "metadata": {},
     "output_type": "display_data"
    }
   ],
   "source": [
    "plot(attitude)"
   ]
  },
  {
   "cell_type": "code",
   "execution_count": 39,
   "id": "c549d917",
   "metadata": {},
   "outputs": [
    {
     "data": {
      "text/plain": [
       "\n",
       "Call:\n",
       "lm(formula = rating ~ ., data = attitude)\n",
       "\n",
       "Coefficients:\n",
       "(Intercept)   complaints   privileges     learning       raises     critical  \n",
       "   10.78708      0.61319     -0.07305      0.32033      0.08173      0.03838  \n",
       "    advance  \n",
       "   -0.21706  \n"
      ]
     },
     "metadata": {},
     "output_type": "display_data"
    }
   ],
   "source": [
    "# 회귀분석 # . : 앞의 데이터를 제외한 전부*** \n",
    "model <- lm(rating ~ . , data = attitude)\n",
    "model"
   ]
  },
  {
   "cell_type": "markdown",
   "id": "fcac0c60",
   "metadata": {},
   "source": [
    "rating = 0.61319 * complaints + (-0.07305) * privileges + ... + 10.78708"
   ]
  },
  {
   "cell_type": "code",
   "execution_count": 40,
   "id": "dbe178d9",
   "metadata": {},
   "outputs": [
    {
     "data": {
      "text/plain": [
       "\n",
       "Call:\n",
       "lm(formula = rating ~ ., data = attitude)\n",
       "\n",
       "Residuals:\n",
       "     Min       1Q   Median       3Q      Max \n",
       "-10.9418  -4.3555   0.3158   5.5425  11.5990 \n",
       "\n",
       "Coefficients:\n",
       "            Estimate Std. Error t value Pr(>|t|)    \n",
       "(Intercept) 10.78708   11.58926   0.931 0.361634    \n",
       "complaints   0.61319    0.16098   3.809 0.000903 ***\n",
       "privileges  -0.07305    0.13572  -0.538 0.595594    \n",
       "learning     0.32033    0.16852   1.901 0.069925 .  \n",
       "raises       0.08173    0.22148   0.369 0.715480    \n",
       "critical     0.03838    0.14700   0.261 0.796334    \n",
       "advance     -0.21706    0.17821  -1.218 0.235577    \n",
       "---\n",
       "Signif. codes:  0 '***' 0.001 '**' 0.01 '*' 0.05 '.' 0.1 ' ' 1\n",
       "\n",
       "Residual standard error: 7.068 on 23 degrees of freedom\n",
       "Multiple R-squared:  0.7326,\tAdjusted R-squared:  0.6628 \n",
       "F-statistic:  10.5 on 6 and 23 DF,  p-value: 0.0000124\n"
      ]
     },
     "metadata": {},
     "output_type": "display_data"
    }
   ],
   "source": [
    "# Model 검토\n",
    "summary(model)"
   ]
  },
  {
   "cell_type": "markdown",
   "id": "582e03b2",
   "metadata": {},
   "source": [
    "> Adjusted R-squared:  0.6628"
   ]
  },
  {
   "cell_type": "code",
   "execution_count": 41,
   "id": "f323fe1d",
   "metadata": {},
   "outputs": [
    {
     "data": {
      "text/html": [
       "<table>\n",
       "<thead><tr><th></th><th scope=col>rating</th><th scope=col>complaints</th><th scope=col>privileges</th><th scope=col>learning</th><th scope=col>raises</th><th scope=col>critical</th><th scope=col>advance</th></tr></thead>\n",
       "<tbody>\n",
       "\t<tr><th scope=row>rating</th><td>1.0000000</td><td>0.8254176</td><td>0.4261169</td><td>0.6236782</td><td>0.5901390</td><td>0.1564392</td><td>0.1550863</td></tr>\n",
       "\t<tr><th scope=row>complaints</th><td>0.8254176</td><td>1.0000000</td><td>0.5582882</td><td>0.5967358</td><td>0.6691975</td><td>0.1877143</td><td>0.2245796</td></tr>\n",
       "\t<tr><th scope=row>privileges</th><td>0.4261169</td><td>0.5582882</td><td>1.0000000</td><td>0.4933310</td><td>0.4454779</td><td>0.1472331</td><td>0.3432934</td></tr>\n",
       "\t<tr><th scope=row>learning</th><td>0.6236782</td><td>0.5967358</td><td>0.4933310</td><td>1.0000000</td><td>0.6403144</td><td>0.1159652</td><td>0.5316198</td></tr>\n",
       "\t<tr><th scope=row>raises</th><td>0.5901390</td><td>0.6691975</td><td>0.4454779</td><td>0.6403144</td><td>1.0000000</td><td>0.3768830</td><td>0.5741862</td></tr>\n",
       "\t<tr><th scope=row>critical</th><td>0.1564392</td><td>0.1877143</td><td>0.1472331</td><td>0.1159652</td><td>0.3768830</td><td>1.0000000</td><td>0.2833432</td></tr>\n",
       "\t<tr><th scope=row>advance</th><td>0.1550863</td><td>0.2245796</td><td>0.3432934</td><td>0.5316198</td><td>0.5741862</td><td>0.2833432</td><td>1.0000000</td></tr>\n",
       "</tbody>\n",
       "</table>\n"
      ],
      "text/latex": [
       "\\begin{tabular}{r|lllllll}\n",
       "  & rating & complaints & privileges & learning & raises & critical & advance\\\\\n",
       "\\hline\n",
       "\trating & 1.0000000 & 0.8254176 & 0.4261169 & 0.6236782 & 0.5901390 & 0.1564392 & 0.1550863\\\\\n",
       "\tcomplaints & 0.8254176 & 1.0000000 & 0.5582882 & 0.5967358 & 0.6691975 & 0.1877143 & 0.2245796\\\\\n",
       "\tprivileges & 0.4261169 & 0.5582882 & 1.0000000 & 0.4933310 & 0.4454779 & 0.1472331 & 0.3432934\\\\\n",
       "\tlearning & 0.6236782 & 0.5967358 & 0.4933310 & 1.0000000 & 0.6403144 & 0.1159652 & 0.5316198\\\\\n",
       "\traises & 0.5901390 & 0.6691975 & 0.4454779 & 0.6403144 & 1.0000000 & 0.3768830 & 0.5741862\\\\\n",
       "\tcritical & 0.1564392 & 0.1877143 & 0.1472331 & 0.1159652 & 0.3768830 & 1.0000000 & 0.2833432\\\\\n",
       "\tadvance & 0.1550863 & 0.2245796 & 0.3432934 & 0.5316198 & 0.5741862 & 0.2833432 & 1.0000000\\\\\n",
       "\\end{tabular}\n"
      ],
      "text/markdown": [
       "\n",
       "| <!--/--> | rating | complaints | privileges | learning | raises | critical | advance |\n",
       "|---|---|---|---|---|---|---|---|\n",
       "| rating | 1.0000000 | 0.8254176 | 0.4261169 | 0.6236782 | 0.5901390 | 0.1564392 | 0.1550863 |\n",
       "| complaints | 0.8254176 | 1.0000000 | 0.5582882 | 0.5967358 | 0.6691975 | 0.1877143 | 0.2245796 |\n",
       "| privileges | 0.4261169 | 0.5582882 | 1.0000000 | 0.4933310 | 0.4454779 | 0.1472331 | 0.3432934 |\n",
       "| learning | 0.6236782 | 0.5967358 | 0.4933310 | 1.0000000 | 0.6403144 | 0.1159652 | 0.5316198 |\n",
       "| raises | 0.5901390 | 0.6691975 | 0.4454779 | 0.6403144 | 1.0000000 | 0.3768830 | 0.5741862 |\n",
       "| critical | 0.1564392 | 0.1877143 | 0.1472331 | 0.1159652 | 0.3768830 | 1.0000000 | 0.2833432 |\n",
       "| advance | 0.1550863 | 0.2245796 | 0.3432934 | 0.5316198 | 0.5741862 | 0.2833432 | 1.0000000 |\n",
       "\n"
      ],
      "text/plain": [
       "           rating    complaints privileges learning  raises    critical \n",
       "rating     1.0000000 0.8254176  0.4261169  0.6236782 0.5901390 0.1564392\n",
       "complaints 0.8254176 1.0000000  0.5582882  0.5967358 0.6691975 0.1877143\n",
       "privileges 0.4261169 0.5582882  1.0000000  0.4933310 0.4454779 0.1472331\n",
       "learning   0.6236782 0.5967358  0.4933310  1.0000000 0.6403144 0.1159652\n",
       "raises     0.5901390 0.6691975  0.4454779  0.6403144 1.0000000 0.3768830\n",
       "critical   0.1564392 0.1877143  0.1472331  0.1159652 0.3768830 1.0000000\n",
       "advance    0.1550863 0.2245796  0.3432934  0.5316198 0.5741862 0.2833432\n",
       "           advance  \n",
       "rating     0.1550863\n",
       "complaints 0.2245796\n",
       "privileges 0.3432934\n",
       "learning   0.5316198\n",
       "raises     0.5741862\n",
       "critical   0.2833432\n",
       "advance    1.0000000"
      ]
     },
     "metadata": {},
     "output_type": "display_data"
    }
   ],
   "source": [
    "cor(attitude)"
   ]
  },
  {
   "cell_type": "code",
   "execution_count": 42,
   "id": "aa06e4ef",
   "metadata": {},
   "outputs": [
    {
     "name": "stdout",
     "output_type": "stream",
     "text": [
      "Start:  AIC=123.36\n",
      "rating ~ complaints + privileges + learning + raises + critical + \n",
      "    advance\n",
      "\n",
      "             Df Sum of Sq    RSS    AIC\n",
      "- critical    1      3.41 1152.4 121.45\n",
      "- raises      1      6.80 1155.8 121.54\n",
      "- privileges  1     14.47 1163.5 121.74\n",
      "- advance     1     74.11 1223.1 123.24\n",
      "<none>                    1149.0 123.36\n",
      "- learning    1    180.50 1329.5 125.74\n",
      "- complaints  1    724.80 1873.8 136.04\n",
      "\n",
      "Step:  AIC=121.45\n",
      "rating ~ complaints + privileges + learning + raises + advance\n",
      "\n",
      "             Df Sum of Sq    RSS    AIC\n",
      "- raises      1     10.61 1163.0 119.73\n",
      "- privileges  1     14.16 1166.6 119.82\n",
      "- advance     1     71.27 1223.7 121.25\n",
      "<none>                    1152.4 121.45\n",
      "- learning    1    177.74 1330.1 123.75\n",
      "- complaints  1    724.70 1877.1 134.09\n",
      "\n",
      "Step:  AIC=119.73\n",
      "rating ~ complaints + privileges + learning + advance\n",
      "\n",
      "             Df Sum of Sq    RSS    AIC\n",
      "- privileges  1     16.10 1179.1 118.14\n",
      "- advance     1     61.60 1224.6 119.28\n",
      "<none>                    1163.0 119.73\n",
      "- learning    1    197.03 1360.0 122.42\n",
      "- complaints  1   1165.94 2328.9 138.56\n",
      "\n",
      "Step:  AIC=118.14\n",
      "rating ~ complaints + learning + advance\n",
      "\n",
      "             Df Sum of Sq    RSS    AIC\n",
      "- advance     1     75.54 1254.7 118.00\n",
      "<none>                    1179.1 118.14\n",
      "- learning    1    186.12 1365.2 120.54\n",
      "- complaints  1   1259.91 2439.0 137.94\n",
      "\n",
      "Step:  AIC=118\n",
      "rating ~ complaints + learning\n",
      "\n",
      "             Df Sum of Sq    RSS    AIC\n",
      "<none>                    1254.7 118.00\n",
      "- learning    1    114.73 1369.4 118.63\n",
      "- complaints  1   1370.91 2625.6 138.16\n"
     ]
    }
   ],
   "source": [
    "# 예측력을 높이기 위해 상대적으로 기여도가 낮은 변수를 제거\n",
    "\n",
    "reduced <- step(model, direction = \"backward\")"
   ]
  },
  {
   "cell_type": "code",
   "execution_count": 43,
   "id": "b65beb3b",
   "metadata": {},
   "outputs": [
    {
     "data": {
      "text/plain": [
       "\n",
       "Call:\n",
       "lm(formula = rating ~ complaints + learning, data = attitude)\n",
       "\n",
       "Residuals:\n",
       "     Min       1Q   Median       3Q      Max \n",
       "-11.5568  -5.7331   0.6701   6.5341  10.3610 \n",
       "\n",
       "Coefficients:\n",
       "            Estimate Std. Error t value   Pr(>|t|)    \n",
       "(Intercept)   9.8709     7.0612   1.398      0.174    \n",
       "complaints    0.6435     0.1185   5.432 0.00000957 ***\n",
       "learning      0.2112     0.1344   1.571      0.128    \n",
       "---\n",
       "Signif. codes:  0 '***' 0.001 '**' 0.01 '*' 0.05 '.' 0.1 ' ' 1\n",
       "\n",
       "Residual standard error: 6.817 on 27 degrees of freedom\n",
       "Multiple R-squared:  0.708,\tAdjusted R-squared:  0.6864 \n",
       "F-statistic: 32.74 on 2 and 27 DF,  p-value: 0.00000006058\n"
      ]
     },
     "metadata": {},
     "output_type": "display_data"
    }
   ],
   "source": [
    "summary(reduced)"
   ]
  },
  {
   "cell_type": "markdown",
   "id": "d8a1faf2",
   "metadata": {},
   "source": [
    "> Adjusted R-squared:  0.6864 "
   ]
  },
  {
   "cell_type": "code",
   "execution_count": 44,
   "id": "000f1092",
   "metadata": {},
   "outputs": [
    {
     "data": {
      "text/plain": [
       "\n",
       "Call:\n",
       "lm(formula = rating ~ complaints + learning, data = attitude)\n",
       "\n",
       "Coefficients:\n",
       "(Intercept)   complaints     learning  \n",
       "     9.8709       0.6435       0.2112  \n"
      ]
     },
     "metadata": {},
     "output_type": "display_data"
    }
   ],
   "source": [
    "# 관련없는 데이터 삭제 후 예측력 수치가 0.66에서 0.68로 상승함\n",
    "\n",
    "reduced"
   ]
  },
  {
   "cell_type": "markdown",
   "id": "9055aa79",
   "metadata": {},
   "source": [
    "---\n",
    "# iris에 대한 다중 회귀분석"
   ]
  },
  {
   "cell_type": "code",
   "execution_count": 45,
   "id": "1a2dac40",
   "metadata": {
    "scrolled": true
   },
   "outputs": [
    {
     "data": {
      "text/plain": [
       "\n",
       "Call:\n",
       "lm(formula = as.numeric(Species) ~ ., data = iris)\n",
       "\n",
       "Coefficients:\n",
       " (Intercept)  Sepal.Length   Sepal.Width  Petal.Length   Petal.Width  \n",
       "     1.18650      -0.11191      -0.04008       0.22865       0.60925  \n"
      ]
     },
     "metadata": {},
     "output_type": "display_data"
    },
    {
     "name": "stdout",
     "output_type": "stream",
     "text": [
      "'data.frame':\t150 obs. of  5 variables:\n",
      " $ Sepal.Length: num  5.1 4.9 4.7 4.6 5 5.4 4.6 5 4.4 4.9 ...\n",
      " $ Sepal.Width : num  3.5 3 3.2 3.1 3.6 3.9 3.4 3.4 2.9 3.1 ...\n",
      " $ Petal.Length: num  1.4 1.4 1.3 1.5 1.4 1.7 1.4 1.5 1.4 1.5 ...\n",
      " $ Petal.Width : num  0.2 0.2 0.2 0.2 0.2 0.4 0.3 0.2 0.2 0.1 ...\n",
      " $ Species     : Factor w/ 3 levels \"setosa\",\"versicolor\",..: 1 1 1 1 1 1 1 1 1 1 ...\n"
     ]
    }
   ],
   "source": [
    "Species <- lm(as.numeric(Species) ~ . , data = iris)\n",
    "Species\n",
    "\n",
    "str(iris)"
   ]
  },
  {
   "cell_type": "code",
   "execution_count": 46,
   "id": "79ee57df",
   "metadata": {},
   "outputs": [
    {
     "data": {
      "text/plain": [
       "  Sepal.Length    Sepal.Width     Petal.Length    Petal.Width   \n",
       " Min.   :4.300   Min.   :2.000   Min.   :1.000   Min.   :0.100  \n",
       " 1st Qu.:5.100   1st Qu.:2.800   1st Qu.:1.600   1st Qu.:0.300  \n",
       " Median :5.800   Median :3.000   Median :4.350   Median :1.300  \n",
       " Mean   :5.843   Mean   :3.057   Mean   :3.758   Mean   :1.199  \n",
       " 3rd Qu.:6.400   3rd Qu.:3.300   3rd Qu.:5.100   3rd Qu.:1.800  \n",
       " Max.   :7.900   Max.   :4.400   Max.   :6.900   Max.   :2.500  \n",
       "       Species  \n",
       " setosa    :50  \n",
       " versicolor:50  \n",
       " virginica :50  \n",
       "                \n",
       "                \n",
       "                "
      ]
     },
     "metadata": {},
     "output_type": "display_data"
    },
    {
     "data": {
      "text/plain": [
       "\n",
       "Call:\n",
       "lm(formula = as.numeric(Species) ~ ., data = iris)\n",
       "\n",
       "Residuals:\n",
       "     Min       1Q   Median       3Q      Max \n",
       "-0.59215 -0.15368  0.01268  0.11089  0.55077 \n",
       "\n",
       "Coefficients:\n",
       "             Estimate Std. Error t value      Pr(>|t|)    \n",
       "(Intercept)   1.18650    0.20484   5.792 0.00000004150 ***\n",
       "Sepal.Length -0.11191    0.05765  -1.941        0.0542 .  \n",
       "Sepal.Width  -0.04008    0.05969  -0.671        0.5030    \n",
       "Petal.Length  0.22865    0.05685   4.022 0.00009255215 ***\n",
       "Petal.Width   0.60925    0.09446   6.450 0.00000000156 ***\n",
       "---\n",
       "Signif. codes:  0 '***' 0.001 '**' 0.01 '*' 0.05 '.' 0.1 ' ' 1\n",
       "\n",
       "Residual standard error: 0.2191 on 145 degrees of freedom\n",
       "Multiple R-squared:  0.9304,\tAdjusted R-squared:  0.9285 \n",
       "F-statistic: 484.5 on 4 and 145 DF,  p-value: < 0.00000000000000022\n"
      ]
     },
     "metadata": {},
     "output_type": "display_data"
    }
   ],
   "source": [
    "summary(iris)\n",
    "summary(Species)"
   ]
  },
  {
   "cell_type": "code",
   "execution_count": 47,
   "id": "1bc91404",
   "metadata": {},
   "outputs": [
    {
     "ename": "ERROR",
     "evalue": "Error in cor(iris): 'x' must be numeric\n",
     "output_type": "error",
     "traceback": [
      "Error in cor(iris): 'x' must be numeric\nTraceback:\n",
      "1. cor(iris)",
      "2. stop(\"'x' must be numeric\")"
     ]
    }
   ],
   "source": [
    "cor(iris)"
   ]
  },
  {
   "cell_type": "code",
   "execution_count": null,
   "id": "d437bc92",
   "metadata": {},
   "outputs": [],
   "source": [
    "reduced <- step(Species, direction = \"backward\")"
   ]
  },
  {
   "cell_type": "code",
   "execution_count": null,
   "id": "24e20403",
   "metadata": {},
   "outputs": [],
   "source": [
    "summary(reduced)"
   ]
  },
  {
   "cell_type": "markdown",
   "id": "e6e2817c",
   "metadata": {},
   "source": []
  },
  {
   "cell_type": "code",
   "execution_count": null,
   "id": "df71abe4",
   "metadata": {},
   "outputs": [],
   "source": []
  }
 ],
 "metadata": {
  "kernelspec": {
   "display_name": "R",
   "language": "R",
   "name": "ir"
  },
  "language_info": {
   "codemirror_mode": "r",
   "file_extension": ".r",
   "mimetype": "text/x-r-source",
   "name": "R",
   "pygments_lexer": "r",
   "version": "3.6.1"
  }
 },
 "nbformat": 4,
 "nbformat_minor": 5
}
