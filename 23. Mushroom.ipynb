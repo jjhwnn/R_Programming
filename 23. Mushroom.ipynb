{
 "cells": [
  {
   "cell_type": "markdown",
   "id": "188364c0",
   "metadata": {},
   "source": [
    "#### Mushroom\n",
    "# https://archive.ics.uci.edu/ml/datasets/Mushroom\n",
    " - 8124종류의 버섯의 특징과 독의 유무를 정리해논 데이터셋\n",
    " - 버섯 모양의 특징을 기반으로 독의 유무를 판단\n",
    "\n",
    "한 줄(row)이 버섯 한 종류.\n",
    "1번째 컬럼은 독의 유무 : 독(p), 식용(e)\n",
    "2번째 컬럼은 버섯의 머리모양 : b(벨형태), c(원뿔), s(블록), f(평평), k(혹), s(오목)\n",
    "4번째 컬럼은 버섯의 머리 색 : n(갈색), b(황갈색), c(연한갈색), g(회색)\n",
    "\n",
    "* 자세한 내용은 위의 사이트에서 확인"
   ]
  },
  {
   "cell_type": "code",
   "execution_count": 68,
   "id": "9416ca9f",
   "metadata": {
    "scrolled": true
   },
   "outputs": [
    {
     "data": {
      "text/html": [
       "<ol class=list-inline>\n",
       "\t<li>4</li>\n",
       "\t<li>3</li>\n",
       "\t<li>3</li>\n",
       "\t<li>4</li>\n",
       "\t<li>4</li>\n",
       "\t<li>3</li>\n",
       "</ol>\n"
      ],
      "text/latex": [
       "\\begin{enumerate*}\n",
       "\\item 4\n",
       "\\item 3\n",
       "\\item 3\n",
       "\\item 4\n",
       "\\item 4\n",
       "\\item 3\n",
       "\\end{enumerate*}\n"
      ],
      "text/markdown": [
       "1. 4\n",
       "2. 3\n",
       "3. 3\n",
       "4. 4\n",
       "5. 4\n",
       "6. 3\n",
       "\n",
       "\n"
      ],
      "text/plain": [
       "[1] 4 3 3 4 4 3"
      ]
     },
     "metadata": {},
     "output_type": "display_data"
    }
   ],
   "source": [
    "mushroom <- read.csv(\"../Data/mushroom.csv\", header = F)[,-17]\n",
    "\n",
    "\n",
    "for(i in 1:ncol(mushroom)){\n",
    "    \n",
    "    mushroom[,i] <- as.numeric(mushroom[,i])\n",
    "}\n",
    "head(mushroom)\n",
    "\n"
   ]
  },
  {
   "cell_type": "code",
   "execution_count": 89,
   "id": "bb06babb",
   "metadata": {},
   "outputs": [
    {
     "data": {
      "text/html": [
       "<table>\n",
       "<thead><tr><th scope=col>V1</th><th scope=col>V2</th><th scope=col>V3</th><th scope=col>V4</th><th scope=col>V5</th><th scope=col>V6</th><th scope=col>V7</th><th scope=col>V8</th><th scope=col>V9</th><th scope=col>V10</th><th scope=col>...</th><th scope=col>V13</th><th scope=col>V14</th><th scope=col>V15</th><th scope=col>V16</th><th scope=col>V18</th><th scope=col>V19</th><th scope=col>V20</th><th scope=col>V21</th><th scope=col>V22</th><th scope=col>V23</th></tr></thead>\n",
       "<tbody>\n",
       "\t<tr><td>2  </td><td>6  </td><td>3  </td><td> 5 </td><td>2  </td><td>7  </td><td>2  </td><td>1  </td><td>2  </td><td>5  </td><td>...</td><td>3  </td><td>3  </td><td>8  </td><td>8  </td><td>3  </td><td>2  </td><td>5  </td><td>3  </td><td>4  </td><td>6  </td></tr>\n",
       "\t<tr><td>1  </td><td>6  </td><td>3  </td><td>10 </td><td>2  </td><td>1  </td><td>2  </td><td>1  </td><td>1  </td><td>5  </td><td>...</td><td>3  </td><td>3  </td><td>8  </td><td>8  </td><td>3  </td><td>2  </td><td>5  </td><td>4  </td><td>3  </td><td>2  </td></tr>\n",
       "\t<tr><td>1  </td><td>1  </td><td>3  </td><td> 9 </td><td>2  </td><td>4  </td><td>2  </td><td>1  </td><td>1  </td><td>6  </td><td>...</td><td>3  </td><td>3  </td><td>8  </td><td>8  </td><td>3  </td><td>2  </td><td>5  </td><td>4  </td><td>3  </td><td>4  </td></tr>\n",
       "\t<tr><td>2  </td><td>6  </td><td>4  </td><td> 9 </td><td>2  </td><td>7  </td><td>2  </td><td>1  </td><td>2  </td><td>6  </td><td>...</td><td>3  </td><td>3  </td><td>8  </td><td>8  </td><td>3  </td><td>2  </td><td>5  </td><td>3  </td><td>4  </td><td>6  </td></tr>\n",
       "\t<tr><td>1  </td><td>6  </td><td>3  </td><td> 4 </td><td>1  </td><td>6  </td><td>2  </td><td>2  </td><td>1  </td><td>5  </td><td>...</td><td>3  </td><td>3  </td><td>8  </td><td>8  </td><td>3  </td><td>2  </td><td>1  </td><td>4  </td><td>1  </td><td>2  </td></tr>\n",
       "\t<tr><td>1  </td><td>6  </td><td>4  </td><td>10 </td><td>2  </td><td>1  </td><td>2  </td><td>1  </td><td>1  </td><td>6  </td><td>...</td><td>3  </td><td>3  </td><td>8  </td><td>8  </td><td>3  </td><td>2  </td><td>5  </td><td>3  </td><td>3  </td><td>2  </td></tr>\n",
       "</tbody>\n",
       "</table>\n"
      ],
      "text/latex": [
       "\\begin{tabular}{r|llllllllllllllllllllll}\n",
       " V1 & V2 & V3 & V4 & V5 & V6 & V7 & V8 & V9 & V10 & ... & V13 & V14 & V15 & V16 & V18 & V19 & V20 & V21 & V22 & V23\\\\\n",
       "\\hline\n",
       "\t 2   & 6   & 3   &  5  & 2   & 7   & 2   & 1   & 2   & 5   & ... & 3   & 3   & 8   & 8   & 3   & 2   & 5   & 3   & 4   & 6  \\\\\n",
       "\t 1   & 6   & 3   & 10  & 2   & 1   & 2   & 1   & 1   & 5   & ... & 3   & 3   & 8   & 8   & 3   & 2   & 5   & 4   & 3   & 2  \\\\\n",
       "\t 1   & 1   & 3   &  9  & 2   & 4   & 2   & 1   & 1   & 6   & ... & 3   & 3   & 8   & 8   & 3   & 2   & 5   & 4   & 3   & 4  \\\\\n",
       "\t 2   & 6   & 4   &  9  & 2   & 7   & 2   & 1   & 2   & 6   & ... & 3   & 3   & 8   & 8   & 3   & 2   & 5   & 3   & 4   & 6  \\\\\n",
       "\t 1   & 6   & 3   &  4  & 1   & 6   & 2   & 2   & 1   & 5   & ... & 3   & 3   & 8   & 8   & 3   & 2   & 1   & 4   & 1   & 2  \\\\\n",
       "\t 1   & 6   & 4   & 10  & 2   & 1   & 2   & 1   & 1   & 6   & ... & 3   & 3   & 8   & 8   & 3   & 2   & 5   & 3   & 3   & 2  \\\\\n",
       "\\end{tabular}\n"
      ],
      "text/markdown": [
       "\n",
       "| V1 | V2 | V3 | V4 | V5 | V6 | V7 | V8 | V9 | V10 | ... | V13 | V14 | V15 | V16 | V18 | V19 | V20 | V21 | V22 | V23 |\n",
       "|---|---|---|---|---|---|---|---|---|---|---|---|---|---|---|---|---|---|---|---|---|\n",
       "| 2   | 6   | 3   |  5  | 2   | 7   | 2   | 1   | 2   | 5   | ... | 3   | 3   | 8   | 8   | 3   | 2   | 5   | 3   | 4   | 6   |\n",
       "| 1   | 6   | 3   | 10  | 2   | 1   | 2   | 1   | 1   | 5   | ... | 3   | 3   | 8   | 8   | 3   | 2   | 5   | 4   | 3   | 2   |\n",
       "| 1   | 1   | 3   |  9  | 2   | 4   | 2   | 1   | 1   | 6   | ... | 3   | 3   | 8   | 8   | 3   | 2   | 5   | 4   | 3   | 4   |\n",
       "| 2   | 6   | 4   |  9  | 2   | 7   | 2   | 1   | 2   | 6   | ... | 3   | 3   | 8   | 8   | 3   | 2   | 5   | 3   | 4   | 6   |\n",
       "| 1   | 6   | 3   |  4  | 1   | 6   | 2   | 2   | 1   | 5   | ... | 3   | 3   | 8   | 8   | 3   | 2   | 1   | 4   | 1   | 2   |\n",
       "| 1   | 6   | 4   | 10  | 2   | 1   | 2   | 1   | 1   | 6   | ... | 3   | 3   | 8   | 8   | 3   | 2   | 5   | 3   | 3   | 2   |\n",
       "\n"
      ],
      "text/plain": [
       "  V1 V2 V3 V4 V5 V6 V7 V8 V9 V10 ... V13 V14 V15 V16 V18 V19 V20 V21 V22 V23\n",
       "1 2  6  3   5 2  7  2  1  2  5   ... 3   3   8   8   3   2   5   3   4   6  \n",
       "2 1  6  3  10 2  1  2  1  1  5   ... 3   3   8   8   3   2   5   4   3   2  \n",
       "3 1  1  3   9 2  4  2  1  1  6   ... 3   3   8   8   3   2   5   4   3   4  \n",
       "4 2  6  4   9 2  7  2  1  2  6   ... 3   3   8   8   3   2   5   3   4   6  \n",
       "5 1  6  3   4 1  6  2  2  1  5   ... 3   3   8   8   3   2   1   4   1   2  \n",
       "6 1  6  4  10 2  1  2  1  1  6   ... 3   3   8   8   3   2   5   3   3   2  "
      ]
     },
     "metadata": {},
     "output_type": "display_data"
    },
    {
     "data": {
      "text/html": [
       "<table>\n",
       "<thead><tr><th></th><th scope=col>V1</th><th scope=col>V2</th><th scope=col>V3</th><th scope=col>V4</th><th scope=col>V5</th><th scope=col>V6</th><th scope=col>V7</th><th scope=col>V8</th><th scope=col>V9</th><th scope=col>V10</th><th scope=col>...</th><th scope=col>V13</th><th scope=col>V14</th><th scope=col>V15</th><th scope=col>V16</th><th scope=col>V18</th><th scope=col>V19</th><th scope=col>V20</th><th scope=col>V21</th><th scope=col>V22</th><th scope=col>V23</th></tr></thead>\n",
       "<tbody>\n",
       "\t<tr><th scope=row>8119</th><td>2  </td><td>4  </td><td>4  </td><td>5  </td><td>1  </td><td>3  </td><td>2  </td><td>1  </td><td>2  </td><td> 1 </td><td>...</td><td>2  </td><td>3  </td><td>7  </td><td>8  </td><td>3  </td><td>2  </td><td>1  </td><td>8  </td><td>5  </td><td>1  </td></tr>\n",
       "\t<tr><th scope=row>8120</th><td>1  </td><td>4  </td><td>3  </td><td>5  </td><td>1  </td><td>6  </td><td>1  </td><td>1  </td><td>1  </td><td>12 </td><td>...</td><td>3  </td><td>3  </td><td>6  </td><td>6  </td><td>2  </td><td>2  </td><td>5  </td><td>1  </td><td>2  </td><td>3  </td></tr>\n",
       "\t<tr><th scope=row>8121</th><td>1  </td><td>6  </td><td>3  </td><td>5  </td><td>1  </td><td>6  </td><td>1  </td><td>1  </td><td>1  </td><td>12 </td><td>...</td><td>3  </td><td>3  </td><td>6  </td><td>6  </td><td>1  </td><td>2  </td><td>5  </td><td>1  </td><td>5  </td><td>3  </td></tr>\n",
       "\t<tr><th scope=row>8122</th><td>1  </td><td>3  </td><td>3  </td><td>5  </td><td>1  </td><td>6  </td><td>1  </td><td>1  </td><td>1  </td><td> 6 </td><td>...</td><td>3  </td><td>3  </td><td>6  </td><td>6  </td><td>2  </td><td>2  </td><td>5  </td><td>1  </td><td>2  </td><td>3  </td></tr>\n",
       "\t<tr><th scope=row>8123</th><td>2  </td><td>4  </td><td>4  </td><td>5  </td><td>1  </td><td>9  </td><td>2  </td><td>1  </td><td>2  </td><td> 1 </td><td>...</td><td>3  </td><td>2  </td><td>8  </td><td>8  </td><td>3  </td><td>2  </td><td>1  </td><td>8  </td><td>5  </td><td>3  </td></tr>\n",
       "\t<tr><th scope=row>8124</th><td>1  </td><td>6  </td><td>3  </td><td>5  </td><td>1  </td><td>6  </td><td>1  </td><td>1  </td><td>1  </td><td>12 </td><td>...</td><td>3  </td><td>3  </td><td>6  </td><td>6  </td><td>2  </td><td>2  </td><td>5  </td><td>5  </td><td>2  </td><td>3  </td></tr>\n",
       "</tbody>\n",
       "</table>\n"
      ],
      "text/latex": [
       "\\begin{tabular}{r|llllllllllllllllllllll}\n",
       "  & V1 & V2 & V3 & V4 & V5 & V6 & V7 & V8 & V9 & V10 & ... & V13 & V14 & V15 & V16 & V18 & V19 & V20 & V21 & V22 & V23\\\\\n",
       "\\hline\n",
       "\t8119 & 2   & 4   & 4   & 5   & 1   & 3   & 2   & 1   & 2   &  1  & ... & 2   & 3   & 7   & 8   & 3   & 2   & 1   & 8   & 5   & 1  \\\\\n",
       "\t8120 & 1   & 4   & 3   & 5   & 1   & 6   & 1   & 1   & 1   & 12  & ... & 3   & 3   & 6   & 6   & 2   & 2   & 5   & 1   & 2   & 3  \\\\\n",
       "\t8121 & 1   & 6   & 3   & 5   & 1   & 6   & 1   & 1   & 1   & 12  & ... & 3   & 3   & 6   & 6   & 1   & 2   & 5   & 1   & 5   & 3  \\\\\n",
       "\t8122 & 1   & 3   & 3   & 5   & 1   & 6   & 1   & 1   & 1   &  6  & ... & 3   & 3   & 6   & 6   & 2   & 2   & 5   & 1   & 2   & 3  \\\\\n",
       "\t8123 & 2   & 4   & 4   & 5   & 1   & 9   & 2   & 1   & 2   &  1  & ... & 3   & 2   & 8   & 8   & 3   & 2   & 1   & 8   & 5   & 3  \\\\\n",
       "\t8124 & 1   & 6   & 3   & 5   & 1   & 6   & 1   & 1   & 1   & 12  & ... & 3   & 3   & 6   & 6   & 2   & 2   & 5   & 5   & 2   & 3  \\\\\n",
       "\\end{tabular}\n"
      ],
      "text/markdown": [
       "\n",
       "| <!--/--> | V1 | V2 | V3 | V4 | V5 | V6 | V7 | V8 | V9 | V10 | ... | V13 | V14 | V15 | V16 | V18 | V19 | V20 | V21 | V22 | V23 |\n",
       "|---|---|---|---|---|---|---|---|---|---|---|---|---|---|---|---|---|---|---|---|---|---|\n",
       "| 8119 | 2   | 4   | 4   | 5   | 1   | 3   | 2   | 1   | 2   |  1  | ... | 2   | 3   | 7   | 8   | 3   | 2   | 1   | 8   | 5   | 1   |\n",
       "| 8120 | 1   | 4   | 3   | 5   | 1   | 6   | 1   | 1   | 1   | 12  | ... | 3   | 3   | 6   | 6   | 2   | 2   | 5   | 1   | 2   | 3   |\n",
       "| 8121 | 1   | 6   | 3   | 5   | 1   | 6   | 1   | 1   | 1   | 12  | ... | 3   | 3   | 6   | 6   | 1   | 2   | 5   | 1   | 5   | 3   |\n",
       "| 8122 | 1   | 3   | 3   | 5   | 1   | 6   | 1   | 1   | 1   |  6  | ... | 3   | 3   | 6   | 6   | 2   | 2   | 5   | 1   | 2   | 3   |\n",
       "| 8123 | 2   | 4   | 4   | 5   | 1   | 9   | 2   | 1   | 2   |  1  | ... | 3   | 2   | 8   | 8   | 3   | 2   | 1   | 8   | 5   | 3   |\n",
       "| 8124 | 1   | 6   | 3   | 5   | 1   | 6   | 1   | 1   | 1   | 12  | ... | 3   | 3   | 6   | 6   | 2   | 2   | 5   | 5   | 2   | 3   |\n",
       "\n"
      ],
      "text/plain": [
       "     V1 V2 V3 V4 V5 V6 V7 V8 V9 V10 ... V13 V14 V15 V16 V18 V19 V20 V21 V22 V23\n",
       "8119 2  4  4  5  1  3  2  1  2   1  ... 2   3   7   8   3   2   1   8   5   1  \n",
       "8120 1  4  3  5  1  6  1  1  1  12  ... 3   3   6   6   2   2   5   1   2   3  \n",
       "8121 1  6  3  5  1  6  1  1  1  12  ... 3   3   6   6   1   2   5   1   5   3  \n",
       "8122 1  3  3  5  1  6  1  1  1   6  ... 3   3   6   6   2   2   5   1   2   3  \n",
       "8123 2  4  4  5  1  9  2  1  2   1  ... 3   2   8   8   3   2   1   8   5   3  \n",
       "8124 1  6  3  5  1  6  1  1  1  12  ... 3   3   6   6   2   2   5   5   2   3  "
      ]
     },
     "metadata": {},
     "output_type": "display_data"
    },
    {
     "name": "stdout",
     "output_type": "stream",
     "text": [
      "'data.frame':\t8124 obs. of  22 variables:\n",
      " $ V1 : num  2 1 1 2 1 1 1 1 2 1 ...\n",
      " $ V2 : num  6 6 1 6 6 6 1 1 6 1 ...\n",
      " $ V3 : num  3 3 3 4 3 4 3 4 4 3 ...\n",
      " $ V4 : num  5 10 9 9 4 10 9 9 9 10 ...\n",
      " $ V5 : num  2 2 2 2 1 2 2 2 2 2 ...\n",
      " $ V6 : num  7 1 4 7 6 1 1 4 7 1 ...\n",
      " $ V7 : num  2 2 2 2 2 2 2 2 2 2 ...\n",
      " $ V8 : num  1 1 1 1 2 1 1 1 1 1 ...\n",
      " $ V9 : num  2 1 1 2 1 1 1 1 2 1 ...\n",
      " $ V10: num  5 5 6 6 5 6 3 6 8 3 ...\n",
      " $ V11: num  1 1 1 1 2 1 1 1 1 1 ...\n",
      " $ V12: num  4 3 3 4 4 3 3 3 4 3 ...\n",
      " $ V13: num  3 3 3 3 3 3 3 3 3 3 ...\n",
      " $ V14: num  3 3 3 3 3 3 3 3 3 3 ...\n",
      " $ V15: num  8 8 8 8 8 8 8 8 8 8 ...\n",
      " $ V16: num  8 8 8 8 8 8 8 8 8 8 ...\n",
      " $ V18: num  3 3 3 3 3 3 3 3 3 3 ...\n",
      " $ V19: num  2 2 2 2 2 2 2 2 2 2 ...\n",
      " $ V20: num  5 5 5 5 1 5 5 5 5 5 ...\n",
      " $ V21: num  3 4 4 3 4 3 3 4 3 3 ...\n",
      " $ V22: num  4 3 3 4 1 3 3 4 5 4 ...\n",
      " $ V23: num  6 2 4 6 2 2 4 4 2 4 ...\n"
     ]
    },
    {
     "data": {
      "text/plain": [
       "       V1              V2              V3              V4        \n",
       " Min.   :1.000   Min.   :1.000   Min.   :1.000   Min.   : 1.000  \n",
       " 1st Qu.:1.000   1st Qu.:3.000   1st Qu.:1.000   1st Qu.: 4.000  \n",
       " Median :1.000   Median :4.000   Median :3.000   Median : 5.000  \n",
       " Mean   :1.482   Mean   :4.348   Mean   :2.828   Mean   : 5.505  \n",
       " 3rd Qu.:2.000   3rd Qu.:6.000   3rd Qu.:4.000   3rd Qu.: 9.000  \n",
       " Max.   :2.000   Max.   :6.000   Max.   :4.000   Max.   :10.000  \n",
       "       V5              V6              V7              V8       \n",
       " Min.   :1.000   Min.   :1.000   Min.   :1.000   Min.   :1.000  \n",
       " 1st Qu.:1.000   1st Qu.:3.000   1st Qu.:2.000   1st Qu.:1.000  \n",
       " Median :1.000   Median :6.000   Median :2.000   Median :1.000  \n",
       " Mean   :1.416   Mean   :5.145   Mean   :1.974   Mean   :1.161  \n",
       " 3rd Qu.:2.000   3rd Qu.:6.000   3rd Qu.:2.000   3rd Qu.:1.000  \n",
       " Max.   :2.000   Max.   :9.000   Max.   :2.000   Max.   :2.000  \n",
       "       V9             V10              V11             V12      \n",
       " Min.   :1.000   Min.   : 1.000   Min.   :1.000   Min.   :1.00  \n",
       " 1st Qu.:1.000   1st Qu.: 3.000   1st Qu.:1.000   1st Qu.:1.00  \n",
       " Median :1.000   Median : 6.000   Median :2.000   Median :2.00  \n",
       " Mean   :1.309   Mean   : 5.811   Mean   :1.567   Mean   :2.11  \n",
       " 3rd Qu.:2.000   3rd Qu.: 8.000   3rd Qu.:2.000   3rd Qu.:2.00  \n",
       " Max.   :2.000   Max.   :12.000   Max.   :2.000   Max.   :5.00  \n",
       "      V13             V14             V15             V16       \n",
       " Min.   :1.000   Min.   :1.000   Min.   :1.000   Min.   :1.000  \n",
       " 1st Qu.:2.000   1st Qu.:2.000   1st Qu.:7.000   1st Qu.:7.000  \n",
       " Median :3.000   Median :3.000   Median :8.000   Median :8.000  \n",
       " Mean   :2.575   Mean   :2.604   Mean   :6.816   Mean   :6.795  \n",
       " 3rd Qu.:3.000   3rd Qu.:3.000   3rd Qu.:8.000   3rd Qu.:8.000  \n",
       " Max.   :4.000   Max.   :4.000   Max.   :9.000   Max.   :9.000  \n",
       "      V18             V19             V20             V21       \n",
       " Min.   :1.000   Min.   :1.000   Min.   :1.000   Min.   :1.000  \n",
       " 1st Qu.:3.000   1st Qu.:2.000   1st Qu.:1.000   1st Qu.:3.000  \n",
       " Median :3.000   Median :2.000   Median :3.000   Median :4.000  \n",
       " Mean   :2.966   Mean   :2.069   Mean   :3.292   Mean   :4.597  \n",
       " 3rd Qu.:3.000   3rd Qu.:2.000   3rd Qu.:5.000   3rd Qu.:8.000  \n",
       " Max.   :4.000   Max.   :3.000   Max.   :5.000   Max.   :9.000  \n",
       "      V22             V23       \n",
       " Min.   :1.000   Min.   :1.000  \n",
       " 1st Qu.:4.000   1st Qu.:1.000  \n",
       " Median :5.000   Median :2.000  \n",
       " Mean   :4.644   Mean   :2.509  \n",
       " 3rd Qu.:5.000   3rd Qu.:3.000  \n",
       " Max.   :6.000   Max.   :7.000  "
      ]
     },
     "metadata": {},
     "output_type": "display_data"
    },
    {
     "data": {
      "text/plain": [
       "\n",
       "   1    2 \n",
       "4208 3916 "
      ]
     },
     "metadata": {},
     "output_type": "display_data"
    }
   ],
   "source": [
    "head(mushroom)\n",
    "tail(mushroom)\n",
    "str(mushroom)\n",
    "summary(mushroom)\n",
    "table(mushroom$V1)"
   ]
  },
  {
   "cell_type": "code",
   "execution_count": 48,
   "id": "4665443e",
   "metadata": {},
   "outputs": [],
   "source": [
    "# 인공신경망, 의사결정나무, RandomForest, SVM, 로지스틱 회귀분석\n",
    "library(caret)\n",
    "library(nnet)\n",
    "library(party)\n",
    "library(randomForest)\n",
    "library(e1071)\n"
   ]
  },
  {
   "cell_type": "code",
   "execution_count": 70,
   "id": "4daae840",
   "metadata": {},
   "outputs": [
    {
     "name": "stdout",
     "output_type": "stream",
     "text": [
      "# weights:  70\n",
      "initial  value 4361.749717 \n",
      "final  value 1935.000000 \n",
      "converged\n"
     ]
    },
    {
     "ename": "ERROR",
     "evalue": "Error in predict.nnet(model.nnet, x, type = \"class\"): inappropriate fit for class\n",
     "output_type": "error",
     "traceback": [
      "Error in predict.nnet(model.nnet, x, type = \"class\"): inappropriate fit for class\nTraceback:\n",
      "1. predict(model.nnet, x, type = \"class\")",
      "2. predict.nnet(model.nnet, x, type = \"class\")",
      "3. stop(\"inappropriate fit for class\")"
     ]
    }
   ],
   "source": [
    "# 인공신경망\n",
    "\n",
    "samp <- createDataPartition(mushroom$V1, p=0.5, list=F)\n",
    "\n",
    "data.tr <- mushroom[samp, ]\n",
    "data.test <- mushroom[-samp,]\n",
    "\n",
    "x <- subset(data.test, select = -V1)\n",
    "\n",
    "y <- data.test$V1\n",
    "\n",
    "model.nnet <- nnet(V1 ~ ., data=data.tr, size=3)\n",
    "\n",
    "pred <- predict(model.nnet, x, type = \"class\")\n",
    "\n",
    "mean(pred == y)\n"
   ]
  },
  {
   "cell_type": "code",
   "execution_count": 87,
   "id": "2bac7365",
   "metadata": {},
   "outputs": [
    {
     "data": {
      "text/html": [
       "1"
      ],
      "text/latex": [
       "1"
      ],
      "text/markdown": [
       "1"
      ],
      "text/plain": [
       "[1] 1"
      ]
     },
     "metadata": {},
     "output_type": "display_data"
    }
   ],
   "source": [
    "# 의사결정나무\n",
    "\n",
    "model.ctree <- ctree(V1 ~ ., data=data.tr)\n",
    "pred2 <- predict(model.ctree, x)\n",
    "mean(pred2 == y)"
   ]
  },
  {
   "cell_type": "code",
   "execution_count": 85,
   "id": "fd8c9018",
   "metadata": {},
   "outputs": [
    {
     "name": "stderr",
     "output_type": "stream",
     "text": [
      "Warning message in randomForest.default(m, y, ...):\n",
      "“The response has five or fewer unique values.  Are you sure you want to do regression?”"
     ]
    },
    {
     "data": {
      "text/html": [
       "0.209502708025603"
      ],
      "text/latex": [
       "0.209502708025603"
      ],
      "text/markdown": [
       "0.209502708025603"
      ],
      "text/plain": [
       "[1] 0.2095027"
      ]
     },
     "metadata": {},
     "output_type": "display_data"
    }
   ],
   "source": [
    "# RandomForest\n",
    "\n",
    "model.rf <- randomForest(V1 ~ ., data = data.tr, ntree=100)\n",
    "pred3 <- predict(model.rf, x)\n",
    "\n",
    "mean(pred3 == y)"
   ]
  },
  {
   "cell_type": "code",
   "execution_count": 90,
   "id": "9e45241c",
   "metadata": {},
   "outputs": [
    {
     "data": {
      "text/html": [
       "0"
      ],
      "text/latex": [
       "0"
      ],
      "text/markdown": [
       "0"
      ],
      "text/plain": [
       "[1] 0"
      ]
     },
     "metadata": {},
     "output_type": "display_data"
    }
   ],
   "source": [
    "# SVM\n",
    "\n",
    "\n",
    "\n",
    "model.svm = svm(V1 ~ ., data=data.tr)\n",
    "\n",
    "pred4 <- predict(model.svm, x, type=\"class\")\n",
    "\n",
    "mean(pred4 == y)"
   ]
  },
  {
   "cell_type": "code",
   "execution_count": 84,
   "id": "e12bb3b3",
   "metadata": {},
   "outputs": [
    {
     "name": "stdout",
     "output_type": "stream",
     "text": [
      "# weights:  23 (22 variable)\n",
      "initial  value 2815.563847 \n",
      "iter  10 value 1072.569922\n",
      "iter  20 value 779.884400\n",
      "iter  30 value 580.605132\n",
      "iter  40 value 513.163957\n",
      "iter  50 value 511.414193\n",
      "iter  60 value 511.413727\n",
      "final  value 511.413471 \n",
      "converged\n"
     ]
    },
    {
     "data": {
      "text/html": [
       "0.970211718365337"
      ],
      "text/latex": [
       "0.970211718365337"
      ],
      "text/markdown": [
       "0.970211718365337"
      ],
      "text/plain": [
       "[1] 0.9702117"
      ]
     },
     "metadata": {},
     "output_type": "display_data"
    }
   ],
   "source": [
    "# 로지스틱 회귀분석\n",
    "\n",
    "    model <- multinom(V1 ~., data=data.tr)\n",
    "                  \n",
    "    pred5 <- predict(model, x, type=\"class\")\n",
    "\n",
    "    mean(pred5 == y)"
   ]
  },
  {
   "cell_type": "code",
   "execution_count": null,
   "id": "29933a93",
   "metadata": {},
   "outputs": [],
   "source": [
    "# 그래프 한눈에 보기\n",
    "\n"
   ]
  },
  {
   "cell_type": "code",
   "execution_count": null,
   "id": "eea820ce",
   "metadata": {},
   "outputs": [],
   "source": []
  },
  {
   "cell_type": "code",
   "execution_count": null,
   "id": "0e91c5b1",
   "metadata": {},
   "outputs": [],
   "source": []
  },
  {
   "cell_type": "code",
   "execution_count": null,
   "id": "6e9ede14",
   "metadata": {},
   "outputs": [],
   "source": []
  },
  {
   "cell_type": "code",
   "execution_count": null,
   "id": "43da8212",
   "metadata": {},
   "outputs": [],
   "source": []
  }
 ],
 "metadata": {
  "kernelspec": {
   "display_name": "R",
   "language": "R",
   "name": "ir"
  },
  "language_info": {
   "codemirror_mode": "r",
   "file_extension": ".r",
   "mimetype": "text/x-r-source",
   "name": "R",
   "pygments_lexer": "r",
   "version": "3.6.1"
  }
 },
 "nbformat": 4,
 "nbformat_minor": 5
}
