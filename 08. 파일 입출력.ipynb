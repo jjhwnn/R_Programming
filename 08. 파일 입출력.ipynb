{
 "cells": [
  {
   "cell_type": "code",
   "execution_count": 1,
   "id": "151d3795",
   "metadata": {
    "vscode": {
     "languageId": "r"
    }
   },
   "outputs": [],
   "source": [
    "no <- 1:4\n",
    "name <- c(\"Apple\", \"Banana\", \"Peach\", \"Berry\")\n",
    "price <- c(500, 200, 200, 50)\n",
    "qty <- c(5,4,3,2)"
   ]
  },
  {
   "cell_type": "code",
   "execution_count": 2,
   "id": "08b53681",
   "metadata": {
    "vscode": {
     "languageId": "r"
    }
   },
   "outputs": [
    {
     "data": {
      "text/html": [
       "<table>\n",
       "<thead><tr><th scope=col>번호</th><th scope=col>제품</th><th scope=col>금액</th><th scope=col>수량</th></tr></thead>\n",
       "<tbody>\n",
       "\t<tr><td>1     </td><td>Apple </td><td>500   </td><td>5     </td></tr>\n",
       "\t<tr><td>2     </td><td>Banana</td><td>200   </td><td>4     </td></tr>\n",
       "\t<tr><td>3     </td><td>Peach </td><td>200   </td><td>3     </td></tr>\n",
       "\t<tr><td>4     </td><td>Berry </td><td> 50   </td><td>2     </td></tr>\n",
       "</tbody>\n",
       "</table>\n"
      ],
      "text/latex": [
       "\\begin{tabular}{r|llll}\n",
       " 번호 & 제품 & 금액 & 수량\\\\\n",
       "\\hline\n",
       "\t 1      & Apple  & 500    & 5     \\\\\n",
       "\t 2      & Banana & 200    & 4     \\\\\n",
       "\t 3      & Peach  & 200    & 3     \\\\\n",
       "\t 4      & Berry  &  50    & 2     \\\\\n",
       "\\end{tabular}\n"
      ],
      "text/markdown": [
       "\n",
       "| 번호 | 제품 | 금액 | 수량 |\n",
       "|---|---|---|---|\n",
       "| 1      | Apple  | 500    | 5      |\n",
       "| 2      | Banana | 200    | 4      |\n",
       "| 3      | Peach  | 200    | 3      |\n",
       "| 4      | Berry  |  50    | 2      |\n",
       "\n"
      ],
      "text/plain": [
       "  번호 제품   금액 수량\n",
       "1 1    Apple  500  5   \n",
       "2 2    Banana 200  4   \n",
       "3 3    Peach  200  3   \n",
       "4 4    Berry   50  2   "
      ]
     },
     "metadata": {},
     "output_type": "display_data"
    }
   ],
   "source": [
    "# 벡터를 이용하여 데이터 프레임 만들기\n",
    "fruit <- data.frame(번호=no, 제품=name, 금액=price, 수량=qty)\n",
    "fruit"
   ]
  },
  {
   "cell_type": "code",
   "execution_count": 3,
   "id": "68e09650",
   "metadata": {
    "vscode": {
     "languageId": "r"
    }
   },
   "outputs": [
    {
     "data": {
      "text/html": [
       "<ol class=list-inline>\n",
       "\t<li>'fruit'</li>\n",
       "\t<li>'name'</li>\n",
       "\t<li>'no'</li>\n",
       "\t<li>'price'</li>\n",
       "\t<li>'qty'</li>\n",
       "</ol>\n"
      ],
      "text/latex": [
       "\\begin{enumerate*}\n",
       "\\item 'fruit'\n",
       "\\item 'name'\n",
       "\\item 'no'\n",
       "\\item 'price'\n",
       "\\item 'qty'\n",
       "\\end{enumerate*}\n"
      ],
      "text/markdown": [
       "1. 'fruit'\n",
       "2. 'name'\n",
       "3. 'no'\n",
       "4. 'price'\n",
       "5. 'qty'\n",
       "\n",
       "\n"
      ],
      "text/plain": [
       "[1] \"fruit\" \"name\"  \"no\"    \"price\" \"qty\"  "
      ]
     },
     "metadata": {},
     "output_type": "display_data"
    }
   ],
   "source": [
    "# 현재 메모리에 있는 변수 보기\n",
    "\n",
    "ls()"
   ]
  },
  {
   "cell_type": "code",
   "execution_count": 4,
   "id": "5fc3e363",
   "metadata": {
    "vscode": {
     "languageId": "r"
    }
   },
   "outputs": [],
   "source": [
    "# 메모리 형태로 파일 보관\n",
    "\n",
    "save(no, fruit, name, file = \"../Data/testFruit.txt\")"
   ]
  },
  {
   "cell_type": "code",
   "execution_count": 5,
   "id": "c86b9d4d",
   "metadata": {
    "vscode": {
     "languageId": "r"
    }
   },
   "outputs": [],
   "source": [
    "# fruit"
   ]
  },
  {
   "cell_type": "code",
   "execution_count": 6,
   "id": "a5d4d117",
   "metadata": {
    "vscode": {
     "languageId": "r"
    }
   },
   "outputs": [],
   "source": [
    "# 메모리로 불러오기 \n",
    "load(\"../Data//testFruit.txt\")"
   ]
  },
  {
   "cell_type": "code",
   "execution_count": 7,
   "id": "658f5f09",
   "metadata": {
    "vscode": {
     "languageId": "r"
    }
   },
   "outputs": [
    {
     "data": {
      "text/html": [
       "<table>\n",
       "<thead><tr><th scope=col>번호</th><th scope=col>제품</th><th scope=col>금액</th><th scope=col>수량</th></tr></thead>\n",
       "<tbody>\n",
       "\t<tr><td>1     </td><td>Apple </td><td>500   </td><td>5     </td></tr>\n",
       "\t<tr><td>2     </td><td>Banana</td><td>200   </td><td>4     </td></tr>\n",
       "\t<tr><td>3     </td><td>Peach </td><td>200   </td><td>3     </td></tr>\n",
       "\t<tr><td>4     </td><td>Berry </td><td> 50   </td><td>2     </td></tr>\n",
       "</tbody>\n",
       "</table>\n"
      ],
      "text/latex": [
       "\\begin{tabular}{r|llll}\n",
       " 번호 & 제품 & 금액 & 수량\\\\\n",
       "\\hline\n",
       "\t 1      & Apple  & 500    & 5     \\\\\n",
       "\t 2      & Banana & 200    & 4     \\\\\n",
       "\t 3      & Peach  & 200    & 3     \\\\\n",
       "\t 4      & Berry  &  50    & 2     \\\\\n",
       "\\end{tabular}\n"
      ],
      "text/markdown": [
       "\n",
       "| 번호 | 제품 | 금액 | 수량 |\n",
       "|---|---|---|---|\n",
       "| 1      | Apple  | 500    | 5      |\n",
       "| 2      | Banana | 200    | 4      |\n",
       "| 3      | Peach  | 200    | 3      |\n",
       "| 4      | Berry  |  50    | 2      |\n",
       "\n"
      ],
      "text/plain": [
       "  번호 제품   금액 수량\n",
       "1 1    Apple  500  5   \n",
       "2 2    Banana 200  4   \n",
       "3 3    Peach  200  3   \n",
       "4 4    Berry   50  2   "
      ]
     },
     "metadata": {},
     "output_type": "display_data"
    }
   ],
   "source": [
    "fruit"
   ]
  },
  {
   "cell_type": "code",
   "execution_count": 8,
   "id": "6bd78e84",
   "metadata": {
    "vscode": {
     "languageId": "r"
    }
   },
   "outputs": [],
   "source": [
    "# fruit를 csv로 저장하기\n",
    "\n",
    "write.csv(fruit, \"../Data/fruit.csv\")"
   ]
  },
  {
   "cell_type": "code",
   "execution_count": 9,
   "id": "b41e187c",
   "metadata": {
    "vscode": {
     "languageId": "r"
    }
   },
   "outputs": [],
   "source": [
    "fruit2 <- read.csv(\"../Data//fruit.csv\")\n",
    "# x : rownames"
   ]
  },
  {
   "cell_type": "code",
   "execution_count": 10,
   "id": "58d9a704",
   "metadata": {
    "vscode": {
     "languageId": "r"
    }
   },
   "outputs": [],
   "source": [
    "write.csv(fruit2, \"../Data/fruit2.csv\")"
   ]
  },
  {
   "cell_type": "code",
   "execution_count": 11,
   "id": "b9ce8a4e",
   "metadata": {
    "vscode": {
     "languageId": "r"
    }
   },
   "outputs": [
    {
     "data": {
      "text/html": [
       "<table>\n",
       "<thead><tr><th scope=col>X.1</th><th scope=col>X</th><th scope=col>번호</th><th scope=col>제품</th><th scope=col>금액</th><th scope=col>수량</th></tr></thead>\n",
       "<tbody>\n",
       "\t<tr><td>1     </td><td>1     </td><td>1     </td><td>Apple </td><td>500   </td><td>5     </td></tr>\n",
       "\t<tr><td>2     </td><td>2     </td><td>2     </td><td>Banana</td><td>200   </td><td>4     </td></tr>\n",
       "\t<tr><td>3     </td><td>3     </td><td>3     </td><td>Peach </td><td>200   </td><td>3     </td></tr>\n",
       "\t<tr><td>4     </td><td>4     </td><td>4     </td><td>Berry </td><td> 50   </td><td>2     </td></tr>\n",
       "</tbody>\n",
       "</table>\n"
      ],
      "text/latex": [
       "\\begin{tabular}{r|llllll}\n",
       " X.1 & X & 번호 & 제품 & 금액 & 수량\\\\\n",
       "\\hline\n",
       "\t 1      & 1      & 1      & Apple  & 500    & 5     \\\\\n",
       "\t 2      & 2      & 2      & Banana & 200    & 4     \\\\\n",
       "\t 3      & 3      & 3      & Peach  & 200    & 3     \\\\\n",
       "\t 4      & 4      & 4      & Berry  &  50    & 2     \\\\\n",
       "\\end{tabular}\n"
      ],
      "text/markdown": [
       "\n",
       "| X.1 | X | 번호 | 제품 | 금액 | 수량 |\n",
       "|---|---|---|---|---|---|\n",
       "| 1      | 1      | 1      | Apple  | 500    | 5      |\n",
       "| 2      | 2      | 2      | Banana | 200    | 4      |\n",
       "| 3      | 3      | 3      | Peach  | 200    | 3      |\n",
       "| 4      | 4      | 4      | Berry  |  50    | 2      |\n",
       "\n"
      ],
      "text/plain": [
       "  X.1 X 번호 제품   금액 수량\n",
       "1 1   1 1    Apple  500  5   \n",
       "2 2   2 2    Banana 200  4   \n",
       "3 3   3 3    Peach  200  3   \n",
       "4 4   4 4    Berry   50  2   "
      ]
     },
     "metadata": {},
     "output_type": "display_data"
    }
   ],
   "source": [
    "read.csv(\"../Data//fruit2.csv\")"
   ]
  },
  {
   "cell_type": "code",
   "execution_count": 12,
   "id": "0959c568",
   "metadata": {
    "vscode": {
     "languageId": "r"
    }
   },
   "outputs": [],
   "source": [
    "# 저장시 주의 사항 : row names가 필요치 않으면 저장하지 말아야 한다.\n",
    "# row.names=F**\n",
    "\n",
    "write.csv(fruit, \"../Data/fruit.csv\", row.names=F)"
   ]
  },
  {
   "cell_type": "code",
   "execution_count": 13,
   "id": "1aa57b79",
   "metadata": {
    "vscode": {
     "languageId": "r"
    }
   },
   "outputs": [
    {
     "data": {
      "text/html": [
       "<table>\n",
       "<thead><tr><th scope=col>번호</th><th scope=col>제품</th><th scope=col>금액</th><th scope=col>수량</th></tr></thead>\n",
       "<tbody>\n",
       "\t<tr><td>1     </td><td>Apple </td><td>500   </td><td>5     </td></tr>\n",
       "\t<tr><td>2     </td><td>Banana</td><td>200   </td><td>4     </td></tr>\n",
       "\t<tr><td>3     </td><td>Peach </td><td>200   </td><td>3     </td></tr>\n",
       "\t<tr><td>4     </td><td>Berry </td><td> 50   </td><td>2     </td></tr>\n",
       "</tbody>\n",
       "</table>\n"
      ],
      "text/latex": [
       "\\begin{tabular}{r|llll}\n",
       " 번호 & 제품 & 금액 & 수량\\\\\n",
       "\\hline\n",
       "\t 1      & Apple  & 500    & 5     \\\\\n",
       "\t 2      & Banana & 200    & 4     \\\\\n",
       "\t 3      & Peach  & 200    & 3     \\\\\n",
       "\t 4      & Berry  &  50    & 2     \\\\\n",
       "\\end{tabular}\n"
      ],
      "text/markdown": [
       "\n",
       "| 번호 | 제품 | 금액 | 수량 |\n",
       "|---|---|---|---|\n",
       "| 1      | Apple  | 500    | 5      |\n",
       "| 2      | Banana | 200    | 4      |\n",
       "| 3      | Peach  | 200    | 3      |\n",
       "| 4      | Berry  |  50    | 2      |\n",
       "\n"
      ],
      "text/plain": [
       "  번호 제품   금액 수량\n",
       "1 1    Apple  500  5   \n",
       "2 2    Banana 200  4   \n",
       "3 3    Peach  200  3   \n",
       "4 4    Berry   50  2   "
      ]
     },
     "metadata": {},
     "output_type": "display_data"
    }
   ],
   "source": [
    "read.csv(\"../Data//fruit.csv\")"
   ]
  },
  {
   "cell_type": "markdown",
   "id": "352b9d58",
   "metadata": {},
   "source": [
    "---\n",
    "# 세계 GDP 순위 데이터 정제 및 차트 만들기"
   ]
  },
  {
   "cell_type": "code",
   "execution_count": 14,
   "id": "c5926a3c",
   "metadata": {
    "vscode": {
     "languageId": "r"
    }
   },
   "outputs": [
    {
     "data": {
      "text/html": [
       "<table>\n",
       "<thead><tr><th scope=col>X</th><th scope=col>Gross.domestic.product.2018</th><th scope=col>X.1</th><th scope=col>X.2</th><th scope=col>X.3</th><th scope=col>X.4</th></tr></thead>\n",
       "<tbody>\n",
       "\t<tr><td>                  </td><td>                  </td><td>NA                </td><td>                  </td><td>                  </td><td>                  </td></tr>\n",
       "\t<tr><td>                  </td><td>                  </td><td>NA                </td><td>                  </td><td>(millions of      </td><td>                  </td></tr>\n",
       "\t<tr><td>                  </td><td>Ranking           </td><td>NA                </td><td>Economy           </td><td>US dollars)       </td><td>                  </td></tr>\n",
       "\t<tr><td>                  </td><td>                  </td><td>NA                </td><td>                  </td><td>                  </td><td>                  </td></tr>\n",
       "\t<tr><td>USA               </td><td>1                 </td><td>NA                </td><td>United States     </td><td> 20,494,100       </td><td>                  </td></tr>\n",
       "\t<tr><td>CHN               </td><td>2                 </td><td>NA                </td><td>China             </td><td> 13,608,152       </td><td>                  </td></tr>\n",
       "\t<tr><td>JPN               </td><td>3                 </td><td>NA                </td><td>Japan             </td><td> 4,970,916        </td><td>                  </td></tr>\n",
       "\t<tr><td>DEU               </td><td>4                 </td><td>NA                </td><td>Germany           </td><td> 3,996,759        </td><td>                  </td></tr>\n",
       "\t<tr><td>GBR               </td><td>5                 </td><td>NA                </td><td>United Kingdom    </td><td> 2,825,208        </td><td>                  </td></tr>\n",
       "\t<tr><td>FRA               </td><td>6                 </td><td>NA                </td><td>France            </td><td> 2,777,535        </td><td>                  </td></tr>\n",
       "\t<tr><td>IND               </td><td>7                 </td><td>NA                </td><td>India             </td><td> 2,726,323        </td><td>                  </td></tr>\n",
       "\t<tr><td>ITA               </td><td>8                 </td><td>NA                </td><td>Italy             </td><td> 2,073,902        </td><td>                  </td></tr>\n",
       "\t<tr><td>BRA               </td><td>9                 </td><td>NA                </td><td>Brazil            </td><td> 1,868,626        </td><td>                  </td></tr>\n",
       "\t<tr><td>CAN               </td><td>10                </td><td>NA                </td><td>Canada            </td><td> 1,712,510        </td><td>                  </td></tr>\n",
       "\t<tr><td>RUS               </td><td>11                </td><td>NA                </td><td>Russian Federation</td><td> 1,657,554        </td><td>a                 </td></tr>\n",
       "\t<tr><td>KOR               </td><td>12                </td><td>NA                </td><td>Korea, Rep.       </td><td> 1,619,424        </td><td>                  </td></tr>\n",
       "\t<tr><td>AUS               </td><td>13                </td><td>NA                </td><td>Australia         </td><td> 1,432,195        </td><td>                  </td></tr>\n",
       "\t<tr><td>ESP               </td><td>14                </td><td>NA                </td><td>Spain             </td><td> 1,426,189        </td><td>                  </td></tr>\n",
       "\t<tr><td>MEX               </td><td>15                </td><td>NA                </td><td>Mexico            </td><td> 1,223,809        </td><td>                  </td></tr>\n",
       "\t<tr><td>IDN               </td><td>16                </td><td>NA                </td><td>Indonesia         </td><td> 1,042,173        </td><td>                  </td></tr>\n",
       "\t<tr><td>NLD               </td><td>17                </td><td>NA                </td><td>Netherlands       </td><td> 913,658          </td><td>                  </td></tr>\n",
       "\t<tr><td>SAU               </td><td>18                </td><td>NA                </td><td>Saudi Arabia      </td><td> 782,483          </td><td>                  </td></tr>\n",
       "\t<tr><td>TUR               </td><td>19                </td><td>NA                </td><td>Turkey            </td><td> 766,509          </td><td>                  </td></tr>\n",
       "\t<tr><td>CHE               </td><td>20                </td><td>NA                </td><td>Switzerland       </td><td> 705,501          </td><td>                  </td></tr>\n",
       "\t<tr><td>POL               </td><td>21                </td><td>NA                </td><td>Poland            </td><td> 585,783          </td><td>                  </td></tr>\n",
       "\t<tr><td>SWE               </td><td>22                </td><td>NA                </td><td>Sweden            </td><td> 551,032          </td><td>                  </td></tr>\n",
       "\t<tr><td>BEL               </td><td>23                </td><td>NA                </td><td>Belgium           </td><td> 531,767          </td><td>                  </td></tr>\n",
       "\t<tr><td>ARG               </td><td>24                </td><td>NA                </td><td>Argentina         </td><td> 518,475          </td><td>b                 </td></tr>\n",
       "\t<tr><td>THA               </td><td>25                </td><td>NA                </td><td>Thailand          </td><td> 504,993          </td><td>                  </td></tr>\n",
       "\t<tr><td>AUT               </td><td>26                </td><td>NA                </td><td>Austria           </td><td> 455,737          </td><td>                  </td></tr>\n",
       "\t<tr><td>...</td><td>...</td><td>...</td><td>...</td><td>...</td><td>...</td></tr>\n",
       "\t<tr><td>  </td><td>  </td><td>NA</td><td>  </td><td>  </td><td>  </td></tr>\n",
       "\t<tr><td>  </td><td>  </td><td>NA</td><td>  </td><td>  </td><td>  </td></tr>\n",
       "\t<tr><td>  </td><td>  </td><td>NA</td><td>  </td><td>  </td><td>  </td></tr>\n",
       "\t<tr><td>  </td><td>  </td><td>NA</td><td>  </td><td>  </td><td>  </td></tr>\n",
       "\t<tr><td>  </td><td>  </td><td>NA</td><td>  </td><td>  </td><td>  </td></tr>\n",
       "\t<tr><td>  </td><td>  </td><td>NA</td><td>  </td><td>  </td><td>  </td></tr>\n",
       "\t<tr><td>  </td><td>  </td><td>NA</td><td>  </td><td>  </td><td>  </td></tr>\n",
       "\t<tr><td>  </td><td>  </td><td>NA</td><td>  </td><td>  </td><td>  </td></tr>\n",
       "\t<tr><td>  </td><td>  </td><td>NA</td><td>  </td><td>  </td><td>  </td></tr>\n",
       "\t<tr><td>  </td><td>  </td><td>NA</td><td>  </td><td>  </td><td>  </td></tr>\n",
       "\t<tr><td>  </td><td>  </td><td>NA</td><td>  </td><td>  </td><td>  </td></tr>\n",
       "\t<tr><td>  </td><td>  </td><td>NA</td><td>  </td><td>  </td><td>  </td></tr>\n",
       "\t<tr><td>  </td><td>  </td><td>NA</td><td>  </td><td>  </td><td>  </td></tr>\n",
       "\t<tr><td>  </td><td>  </td><td>NA</td><td>  </td><td>  </td><td>  </td></tr>\n",
       "\t<tr><td>  </td><td>  </td><td>NA</td><td>  </td><td>  </td><td>  </td></tr>\n",
       "\t<tr><td>  </td><td>  </td><td>NA</td><td>  </td><td>  </td><td>  </td></tr>\n",
       "\t<tr><td>  </td><td>  </td><td>NA</td><td>  </td><td>  </td><td>  </td></tr>\n",
       "\t<tr><td>  </td><td>  </td><td>NA</td><td>  </td><td>  </td><td>  </td></tr>\n",
       "\t<tr><td>  </td><td>  </td><td>NA</td><td>  </td><td>  </td><td>  </td></tr>\n",
       "\t<tr><td>  </td><td>  </td><td>NA</td><td>  </td><td>  </td><td>  </td></tr>\n",
       "\t<tr><td>  </td><td>  </td><td>NA</td><td>  </td><td>  </td><td>  </td></tr>\n",
       "\t<tr><td>  </td><td>  </td><td>NA</td><td>  </td><td>  </td><td>  </td></tr>\n",
       "\t<tr><td>  </td><td>  </td><td>NA</td><td>  </td><td>  </td><td>  </td></tr>\n",
       "\t<tr><td>  </td><td>  </td><td>NA</td><td>  </td><td>  </td><td>  </td></tr>\n",
       "\t<tr><td>  </td><td>  </td><td>NA</td><td>  </td><td>  </td><td>  </td></tr>\n",
       "\t<tr><td>  </td><td>  </td><td>NA</td><td>  </td><td>  </td><td>  </td></tr>\n",
       "\t<tr><td>  </td><td>  </td><td>NA</td><td>  </td><td>  </td><td>  </td></tr>\n",
       "\t<tr><td>  </td><td>  </td><td>NA</td><td>  </td><td>  </td><td>  </td></tr>\n",
       "\t<tr><td>  </td><td>  </td><td>NA</td><td>  </td><td>  </td><td>  </td></tr>\n",
       "\t<tr><td>  </td><td>  </td><td>NA</td><td>  </td><td>  </td><td>  </td></tr>\n",
       "</tbody>\n",
       "</table>\n"
      ],
      "text/latex": [
       "\\begin{tabular}{r|llllll}\n",
       " X & Gross.domestic.product.2018 & X.1 & X.2 & X.3 & X.4\\\\\n",
       "\\hline\n",
       "\t                    &                    & NA                 &                    &                    &                   \\\\\n",
       "\t                    &                    & NA                 &                    & (millions of       &                   \\\\\n",
       "\t                    & Ranking            & NA                 & Economy            & US dollars)        &                   \\\\\n",
       "\t                    &                    & NA                 &                    &                    &                   \\\\\n",
       "\t USA                & 1                  & NA                 & United States      &  20,494,100        &                   \\\\\n",
       "\t CHN                & 2                  & NA                 & China              &  13,608,152        &                   \\\\\n",
       "\t JPN                & 3                  & NA                 & Japan              &  4,970,916         &                   \\\\\n",
       "\t DEU                & 4                  & NA                 & Germany            &  3,996,759         &                   \\\\\n",
       "\t GBR                & 5                  & NA                 & United Kingdom     &  2,825,208         &                   \\\\\n",
       "\t FRA                & 6                  & NA                 & France             &  2,777,535         &                   \\\\\n",
       "\t IND                & 7                  & NA                 & India              &  2,726,323         &                   \\\\\n",
       "\t ITA                & 8                  & NA                 & Italy              &  2,073,902         &                   \\\\\n",
       "\t BRA                & 9                  & NA                 & Brazil             &  1,868,626         &                   \\\\\n",
       "\t CAN                & 10                 & NA                 & Canada             &  1,712,510         &                   \\\\\n",
       "\t RUS                & 11                 & NA                 & Russian Federation &  1,657,554         & a                 \\\\\n",
       "\t KOR                & 12                 & NA                 & Korea, Rep.        &  1,619,424         &                   \\\\\n",
       "\t AUS                & 13                 & NA                 & Australia          &  1,432,195         &                   \\\\\n",
       "\t ESP                & 14                 & NA                 & Spain              &  1,426,189         &                   \\\\\n",
       "\t MEX                & 15                 & NA                 & Mexico             &  1,223,809         &                   \\\\\n",
       "\t IDN                & 16                 & NA                 & Indonesia          &  1,042,173         &                   \\\\\n",
       "\t NLD                & 17                 & NA                 & Netherlands        &  913,658           &                   \\\\\n",
       "\t SAU                & 18                 & NA                 & Saudi Arabia       &  782,483           &                   \\\\\n",
       "\t TUR                & 19                 & NA                 & Turkey             &  766,509           &                   \\\\\n",
       "\t CHE                & 20                 & NA                 & Switzerland        &  705,501           &                   \\\\\n",
       "\t POL                & 21                 & NA                 & Poland             &  585,783           &                   \\\\\n",
       "\t SWE                & 22                 & NA                 & Sweden             &  551,032           &                   \\\\\n",
       "\t BEL                & 23                 & NA                 & Belgium            &  531,767           &                   \\\\\n",
       "\t ARG                & 24                 & NA                 & Argentina          &  518,475           & b                 \\\\\n",
       "\t THA                & 25                 & NA                 & Thailand           &  504,993           &                   \\\\\n",
       "\t AUT                & 26                 & NA                 & Austria            &  455,737           &                   \\\\\n",
       "\t ... & ... & ... & ... & ... & ...\\\\\n",
       "\t    &    & NA &    &    &   \\\\\n",
       "\t    &    & NA &    &    &   \\\\\n",
       "\t    &    & NA &    &    &   \\\\\n",
       "\t    &    & NA &    &    &   \\\\\n",
       "\t    &    & NA &    &    &   \\\\\n",
       "\t    &    & NA &    &    &   \\\\\n",
       "\t    &    & NA &    &    &   \\\\\n",
       "\t    &    & NA &    &    &   \\\\\n",
       "\t    &    & NA &    &    &   \\\\\n",
       "\t    &    & NA &    &    &   \\\\\n",
       "\t    &    & NA &    &    &   \\\\\n",
       "\t    &    & NA &    &    &   \\\\\n",
       "\t    &    & NA &    &    &   \\\\\n",
       "\t    &    & NA &    &    &   \\\\\n",
       "\t    &    & NA &    &    &   \\\\\n",
       "\t    &    & NA &    &    &   \\\\\n",
       "\t    &    & NA &    &    &   \\\\\n",
       "\t    &    & NA &    &    &   \\\\\n",
       "\t    &    & NA &    &    &   \\\\\n",
       "\t    &    & NA &    &    &   \\\\\n",
       "\t    &    & NA &    &    &   \\\\\n",
       "\t    &    & NA &    &    &   \\\\\n",
       "\t    &    & NA &    &    &   \\\\\n",
       "\t    &    & NA &    &    &   \\\\\n",
       "\t    &    & NA &    &    &   \\\\\n",
       "\t    &    & NA &    &    &   \\\\\n",
       "\t    &    & NA &    &    &   \\\\\n",
       "\t    &    & NA &    &    &   \\\\\n",
       "\t    &    & NA &    &    &   \\\\\n",
       "\t    &    & NA &    &    &   \\\\\n",
       "\\end{tabular}\n"
      ],
      "text/markdown": [
       "\n",
       "| X | Gross.domestic.product.2018 | X.1 | X.2 | X.3 | X.4 |\n",
       "|---|---|---|---|---|---|\n",
       "|                    |                    | NA                 |                    |                    |                    |\n",
       "|                    |                    | NA                 |                    | (millions of       |                    |\n",
       "|                    | Ranking            | NA                 | Economy            | US dollars)        |                    |\n",
       "|                    |                    | NA                 |                    |                    |                    |\n",
       "| USA                | 1                  | NA                 | United States      |  20,494,100        |                    |\n",
       "| CHN                | 2                  | NA                 | China              |  13,608,152        |                    |\n",
       "| JPN                | 3                  | NA                 | Japan              |  4,970,916         |                    |\n",
       "| DEU                | 4                  | NA                 | Germany            |  3,996,759         |                    |\n",
       "| GBR                | 5                  | NA                 | United Kingdom     |  2,825,208         |                    |\n",
       "| FRA                | 6                  | NA                 | France             |  2,777,535         |                    |\n",
       "| IND                | 7                  | NA                 | India              |  2,726,323         |                    |\n",
       "| ITA                | 8                  | NA                 | Italy              |  2,073,902         |                    |\n",
       "| BRA                | 9                  | NA                 | Brazil             |  1,868,626         |                    |\n",
       "| CAN                | 10                 | NA                 | Canada             |  1,712,510         |                    |\n",
       "| RUS                | 11                 | NA                 | Russian Federation |  1,657,554         | a                  |\n",
       "| KOR                | 12                 | NA                 | Korea, Rep.        |  1,619,424         |                    |\n",
       "| AUS                | 13                 | NA                 | Australia          |  1,432,195         |                    |\n",
       "| ESP                | 14                 | NA                 | Spain              |  1,426,189         |                    |\n",
       "| MEX                | 15                 | NA                 | Mexico             |  1,223,809         |                    |\n",
       "| IDN                | 16                 | NA                 | Indonesia          |  1,042,173         |                    |\n",
       "| NLD                | 17                 | NA                 | Netherlands        |  913,658           |                    |\n",
       "| SAU                | 18                 | NA                 | Saudi Arabia       |  782,483           |                    |\n",
       "| TUR                | 19                 | NA                 | Turkey             |  766,509           |                    |\n",
       "| CHE                | 20                 | NA                 | Switzerland        |  705,501           |                    |\n",
       "| POL                | 21                 | NA                 | Poland             |  585,783           |                    |\n",
       "| SWE                | 22                 | NA                 | Sweden             |  551,032           |                    |\n",
       "| BEL                | 23                 | NA                 | Belgium            |  531,767           |                    |\n",
       "| ARG                | 24                 | NA                 | Argentina          |  518,475           | b                  |\n",
       "| THA                | 25                 | NA                 | Thailand           |  504,993           |                    |\n",
       "| AUT                | 26                 | NA                 | Austria            |  455,737           |                    |\n",
       "| ... | ... | ... | ... | ... | ... |\n",
       "|    |    | NA |    |    |    |\n",
       "|    |    | NA |    |    |    |\n",
       "|    |    | NA |    |    |    |\n",
       "|    |    | NA |    |    |    |\n",
       "|    |    | NA |    |    |    |\n",
       "|    |    | NA |    |    |    |\n",
       "|    |    | NA |    |    |    |\n",
       "|    |    | NA |    |    |    |\n",
       "|    |    | NA |    |    |    |\n",
       "|    |    | NA |    |    |    |\n",
       "|    |    | NA |    |    |    |\n",
       "|    |    | NA |    |    |    |\n",
       "|    |    | NA |    |    |    |\n",
       "|    |    | NA |    |    |    |\n",
       "|    |    | NA |    |    |    |\n",
       "|    |    | NA |    |    |    |\n",
       "|    |    | NA |    |    |    |\n",
       "|    |    | NA |    |    |    |\n",
       "|    |    | NA |    |    |    |\n",
       "|    |    | NA |    |    |    |\n",
       "|    |    | NA |    |    |    |\n",
       "|    |    | NA |    |    |    |\n",
       "|    |    | NA |    |    |    |\n",
       "|    |    | NA |    |    |    |\n",
       "|    |    | NA |    |    |    |\n",
       "|    |    | NA |    |    |    |\n",
       "|    |    | NA |    |    |    |\n",
       "|    |    | NA |    |    |    |\n",
       "|    |    | NA |    |    |    |\n",
       "|    |    | NA |    |    |    |\n",
       "\n"
      ],
      "text/plain": [
       "    X   Gross.domestic.product.2018 X.1 X.2                X.3          X.4\n",
       "1                                   NA                                     \n",
       "2                                   NA                     (millions of    \n",
       "3       Ranking                     NA  Economy            US dollars)     \n",
       "4                                   NA                                     \n",
       "5   USA 1                           NA  United States       20,494,100     \n",
       "6   CHN 2                           NA  China               13,608,152     \n",
       "7   JPN 3                           NA  Japan               4,970,916      \n",
       "8   DEU 4                           NA  Germany             3,996,759      \n",
       "9   GBR 5                           NA  United Kingdom      2,825,208      \n",
       "10  FRA 6                           NA  France              2,777,535      \n",
       "11  IND 7                           NA  India               2,726,323      \n",
       "12  ITA 8                           NA  Italy               2,073,902      \n",
       "13  BRA 9                           NA  Brazil              1,868,626      \n",
       "14  CAN 10                          NA  Canada              1,712,510      \n",
       "15  RUS 11                          NA  Russian Federation  1,657,554   a  \n",
       "16  KOR 12                          NA  Korea, Rep.         1,619,424      \n",
       "17  AUS 13                          NA  Australia           1,432,195      \n",
       "18  ESP 14                          NA  Spain               1,426,189      \n",
       "19  MEX 15                          NA  Mexico              1,223,809      \n",
       "20  IDN 16                          NA  Indonesia           1,042,173      \n",
       "21  NLD 17                          NA  Netherlands         913,658        \n",
       "22  SAU 18                          NA  Saudi Arabia        782,483        \n",
       "23  TUR 19                          NA  Turkey              766,509        \n",
       "24  CHE 20                          NA  Switzerland         705,501        \n",
       "25  POL 21                          NA  Poland              585,783        \n",
       "26  SWE 22                          NA  Sweden              551,032        \n",
       "27  BEL 23                          NA  Belgium             531,767        \n",
       "28  ARG 24                          NA  Argentina           518,475     b  \n",
       "29  THA 25                          NA  Thailand            504,993        \n",
       "30  AUT 26                          NA  Austria             455,737        \n",
       "... ... ...                         ... ...                ...          ...\n",
       "299                                 NA                                     \n",
       "300                                 NA                                     \n",
       "301                                 NA                                     \n",
       "302                                 NA                                     \n",
       "303                                 NA                                     \n",
       "304                                 NA                                     \n",
       "305                                 NA                                     \n",
       "306                                 NA                                     \n",
       "307                                 NA                                     \n",
       "308                                 NA                                     \n",
       "309                                 NA                                     \n",
       "310                                 NA                                     \n",
       "311                                 NA                                     \n",
       "312                                 NA                                     \n",
       "313                                 NA                                     \n",
       "314                                 NA                                     \n",
       "315                                 NA                                     \n",
       "316                                 NA                                     \n",
       "317                                 NA                                     \n",
       "318                                 NA                                     \n",
       "319                                 NA                                     \n",
       "320                                 NA                                     \n",
       "321                                 NA                                     \n",
       "322                                 NA                                     \n",
       "323                                 NA                                     \n",
       "324                                 NA                                     \n",
       "325                                 NA                                     \n",
       "326                                 NA                                     \n",
       "327                                 NA                                     \n",
       "328                                 NA                                     "
      ]
     },
     "metadata": {},
     "output_type": "display_data"
    },
    {
     "name": "stdout",
     "output_type": "stream",
     "text": [
      "'data.frame':\t328 obs. of  6 variables:\n",
      " $ X                          : Factor w/ 230 levels \"\",\"ABW\",\"AFG\",..: 1 1 1 1 216 38 103 52 72 68 ...\n",
      " $ Gross.domestic.product.2018: Factor w/ 212 levels \"\",\".. Not available.  \",..: 1 1 212 1 3 114 131 142 153 164 ...\n",
      " $ X.1                        : logi  NA NA NA NA NA NA ...\n",
      " $ X.2                        : Factor w/ 231 levels \"\",\"Afghanistan\",..: 1 1 60 1 219 43 104 78 218 73 ...\n",
      " $ X.3                        : Factor w/ 220 levels \"\",\" .. \",\" 1,022 \",..: 1 207 220 1 78 44 137 113 77 75 ...\n",
      " $ X.4                        : Factor w/ 8 levels \"\",\"a\",\"b\",\"c\",..: 1 1 1 1 1 1 1 1 1 1 ...\n"
     ]
    },
    {
     "data": {
      "text/plain": [
       "       X            Gross.domestic.product.2018   X.1         \n",
       "        : 99                      :117          Mode:logical  \n",
       " ABW    :  1   .. Not available.  :  1          NA's:328      \n",
       " AFG    :  1   1                  :  1                        \n",
       " AGO    :  1   10                 :  1                        \n",
       " ALB    :  1   100                :  1                        \n",
       " AND    :  1   101                :  1                        \n",
       " (Other):224   (Other)            :206                        \n",
       "             X.2               X.3           X.4     \n",
       "               : 98              : 97          :320  \n",
       " Afghanistan   :  1    ..        : 12   a      :  2  \n",
       " Albania       :  1    1,624     :  2   b      :  1  \n",
       " Algeria       :  1    1,022     :  1   c      :  1  \n",
       " American Samoa:  1    1,040     :  1   d      :  1  \n",
       " Andorra       :  1    1,042,173 :  1   e      :  1  \n",
       " (Other)       :225   (Other)    :214   (Other):  2  "
      ]
     },
     "metadata": {},
     "output_type": "display_data"
    }
   ],
   "source": [
    "GDP_ranking <- read.csv(\"../Data//GDP.csv\")\n",
    "GDP_ranking\n",
    "str(GDP_ranking)\n",
    "summary(GDP_ranking)"
   ]
  },
  {
   "cell_type": "code",
   "execution_count": 15,
   "id": "a3dbb3d6",
   "metadata": {
    "vscode": {
     "languageId": "r"
    }
   },
   "outputs": [
    {
     "data": {
      "text/html": [
       "<table>\n",
       "<thead><tr><th></th><th scope=col>X</th><th scope=col>Gross.domestic.product.2018</th><th scope=col>X.2</th><th scope=col>X.3</th></tr></thead>\n",
       "<tbody>\n",
       "\t<tr><th scope=row>5</th><td>USA           </td><td>1             </td><td>United States </td><td> 20,494,100   </td></tr>\n",
       "\t<tr><th scope=row>6</th><td>CHN           </td><td>2             </td><td>China         </td><td> 13,608,152   </td></tr>\n",
       "\t<tr><th scope=row>7</th><td>JPN           </td><td>3             </td><td>Japan         </td><td> 4,970,916    </td></tr>\n",
       "\t<tr><th scope=row>8</th><td>DEU           </td><td>4             </td><td>Germany       </td><td> 3,996,759    </td></tr>\n",
       "\t<tr><th scope=row>9</th><td>GBR           </td><td>5             </td><td>United Kingdom</td><td> 2,825,208    </td></tr>\n",
       "\t<tr><th scope=row>10</th><td>FRA           </td><td>6             </td><td>France        </td><td> 2,777,535    </td></tr>\n",
       "</tbody>\n",
       "</table>\n"
      ],
      "text/latex": [
       "\\begin{tabular}{r|llll}\n",
       "  & X & Gross.domestic.product.2018 & X.2 & X.3\\\\\n",
       "\\hline\n",
       "\t5 & USA            & 1              & United States  &  20,494,100   \\\\\n",
       "\t6 & CHN            & 2              & China          &  13,608,152   \\\\\n",
       "\t7 & JPN            & 3              & Japan          &  4,970,916    \\\\\n",
       "\t8 & DEU            & 4              & Germany        &  3,996,759    \\\\\n",
       "\t9 & GBR            & 5              & United Kingdom &  2,825,208    \\\\\n",
       "\t10 & FRA            & 6              & France         &  2,777,535    \\\\\n",
       "\\end{tabular}\n"
      ],
      "text/markdown": [
       "\n",
       "| <!--/--> | X | Gross.domestic.product.2018 | X.2 | X.3 |\n",
       "|---|---|---|---|---|\n",
       "| 5 | USA            | 1              | United States  |  20,494,100    |\n",
       "| 6 | CHN            | 2              | China          |  13,608,152    |\n",
       "| 7 | JPN            | 3              | Japan          |  4,970,916     |\n",
       "| 8 | DEU            | 4              | Germany        |  3,996,759     |\n",
       "| 9 | GBR            | 5              | United Kingdom |  2,825,208     |\n",
       "| 10 | FRA            | 6              | France         |  2,777,535     |\n",
       "\n"
      ],
      "text/plain": [
       "   X   Gross.domestic.product.2018 X.2            X.3         \n",
       "5  USA 1                           United States   20,494,100 \n",
       "6  CHN 2                           China           13,608,152 \n",
       "7  JPN 3                           Japan           4,970,916  \n",
       "8  DEU 4                           Germany         3,996,759  \n",
       "9  GBR 5                           United Kingdom  2,825,208  \n",
       "10 FRA 6                           France          2,777,535  "
      ]
     },
     "metadata": {},
     "output_type": "display_data"
    }
   ],
   "source": [
    "# 1~4줄 삭제, (1,2,4,5) 컬럼만 발췌\n",
    "GDP_ranking2 <- GDP_ranking[-c(1:4),-c(3,6)]\n",
    "head(GDP_ranking2)"
   ]
  },
  {
   "cell_type": "code",
   "execution_count": 16,
   "id": "5487b002",
   "metadata": {
    "vscode": {
     "languageId": "r"
    }
   },
   "outputs": [
    {
     "data": {
      "text/html": [
       "<table>\n",
       "<thead><tr><th></th><th scope=col>X</th><th scope=col>Gross.domestic.product.2018</th><th scope=col>X.2</th><th scope=col>X.3</th></tr></thead>\n",
       "<tbody>\n",
       "\t<tr><th scope=row>5</th><td>USA           </td><td>1             </td><td>United States </td><td> 20,494,100   </td></tr>\n",
       "\t<tr><th scope=row>6</th><td>CHN           </td><td>2             </td><td>China         </td><td> 13,608,152   </td></tr>\n",
       "\t<tr><th scope=row>7</th><td>JPN           </td><td>3             </td><td>Japan         </td><td> 4,970,916    </td></tr>\n",
       "\t<tr><th scope=row>8</th><td>DEU           </td><td>4             </td><td>Germany       </td><td> 3,996,759    </td></tr>\n",
       "\t<tr><th scope=row>9</th><td>GBR           </td><td>5             </td><td>United Kingdom</td><td> 2,825,208    </td></tr>\n",
       "\t<tr><th scope=row>10</th><td>FRA           </td><td>6             </td><td>France        </td><td> 2,777,535    </td></tr>\n",
       "</tbody>\n",
       "</table>\n"
      ],
      "text/latex": [
       "\\begin{tabular}{r|llll}\n",
       "  & X & Gross.domestic.product.2018 & X.2 & X.3\\\\\n",
       "\\hline\n",
       "\t5 & USA            & 1              & United States  &  20,494,100   \\\\\n",
       "\t6 & CHN            & 2              & China          &  13,608,152   \\\\\n",
       "\t7 & JPN            & 3              & Japan          &  4,970,916    \\\\\n",
       "\t8 & DEU            & 4              & Germany        &  3,996,759    \\\\\n",
       "\t9 & GBR            & 5              & United Kingdom &  2,825,208    \\\\\n",
       "\t10 & FRA            & 6              & France         &  2,777,535    \\\\\n",
       "\\end{tabular}\n"
      ],
      "text/markdown": [
       "\n",
       "| <!--/--> | X | Gross.domestic.product.2018 | X.2 | X.3 |\n",
       "|---|---|---|---|---|\n",
       "| 5 | USA            | 1              | United States  |  20,494,100    |\n",
       "| 6 | CHN            | 2              | China          |  13,608,152    |\n",
       "| 7 | JPN            | 3              | Japan          |  4,970,916     |\n",
       "| 8 | DEU            | 4              | Germany        |  3,996,759     |\n",
       "| 9 | GBR            | 5              | United Kingdom |  2,825,208     |\n",
       "| 10 | FRA            | 6              | France         |  2,777,535     |\n",
       "\n"
      ],
      "text/plain": [
       "   X   Gross.domestic.product.2018 X.2            X.3         \n",
       "5  USA 1                           United States   20,494,100 \n",
       "6  CHN 2                           China           13,608,152 \n",
       "7  JPN 3                           Japan           4,970,916  \n",
       "8  DEU 4                           Germany         3,996,759  \n",
       "9  GBR 5                           United Kingdom  2,825,208  \n",
       "10 FRA 6                           France          2,777,535  "
      ]
     },
     "metadata": {},
     "output_type": "display_data"
    }
   ],
   "source": [
    "# 상위 15개국만 선별한다.\n",
    "\n",
    "GDP_ranking15 <- GDP_ranking2[1:15,]\n",
    "# GDP_ranking15 <- head(GDP_ranking2, 15) 도 가능\n",
    "head(GDP_ranking15)"
   ]
  },
  {
   "cell_type": "code",
   "execution_count": 17,
   "id": "55c801b8",
   "metadata": {
    "vscode": {
     "languageId": "r"
    }
   },
   "outputs": [
    {
     "data": {
      "text/html": [
       "<table>\n",
       "<thead><tr><th></th><th scope=col>Code</th><th scope=col>Ranking</th><th scope=col>Nation</th><th scope=col>GDP</th></tr></thead>\n",
       "<tbody>\n",
       "\t<tr><th scope=row>5</th><td>USA               </td><td>1                 </td><td>United States     </td><td> 20,494,100       </td></tr>\n",
       "\t<tr><th scope=row>6</th><td>CHN               </td><td>2                 </td><td>China             </td><td> 13,608,152       </td></tr>\n",
       "\t<tr><th scope=row>7</th><td>JPN               </td><td>3                 </td><td>Japan             </td><td> 4,970,916        </td></tr>\n",
       "\t<tr><th scope=row>8</th><td>DEU               </td><td>4                 </td><td>Germany           </td><td> 3,996,759        </td></tr>\n",
       "\t<tr><th scope=row>9</th><td>GBR               </td><td>5                 </td><td>United Kingdom    </td><td> 2,825,208        </td></tr>\n",
       "\t<tr><th scope=row>10</th><td>FRA               </td><td>6                 </td><td>France            </td><td> 2,777,535        </td></tr>\n",
       "\t<tr><th scope=row>11</th><td>IND               </td><td>7                 </td><td>India             </td><td> 2,726,323        </td></tr>\n",
       "\t<tr><th scope=row>12</th><td>ITA               </td><td>8                 </td><td>Italy             </td><td> 2,073,902        </td></tr>\n",
       "\t<tr><th scope=row>13</th><td>BRA               </td><td>9                 </td><td>Brazil            </td><td> 1,868,626        </td></tr>\n",
       "\t<tr><th scope=row>14</th><td>CAN               </td><td>10                </td><td>Canada            </td><td> 1,712,510        </td></tr>\n",
       "\t<tr><th scope=row>15</th><td>RUS               </td><td>11                </td><td>Russian Federation</td><td> 1,657,554        </td></tr>\n",
       "\t<tr><th scope=row>16</th><td>KOR               </td><td>12                </td><td>Korea, Rep.       </td><td> 1,619,424        </td></tr>\n",
       "\t<tr><th scope=row>17</th><td>AUS               </td><td>13                </td><td>Australia         </td><td> 1,432,195        </td></tr>\n",
       "\t<tr><th scope=row>18</th><td>ESP               </td><td>14                </td><td>Spain             </td><td> 1,426,189        </td></tr>\n",
       "\t<tr><th scope=row>19</th><td>MEX               </td><td>15                </td><td>Mexico            </td><td> 1,223,809        </td></tr>\n",
       "</tbody>\n",
       "</table>\n"
      ],
      "text/latex": [
       "\\begin{tabular}{r|llll}\n",
       "  & Code & Ranking & Nation & GDP\\\\\n",
       "\\hline\n",
       "\t5 & USA                & 1                  & United States      &  20,494,100       \\\\\n",
       "\t6 & CHN                & 2                  & China              &  13,608,152       \\\\\n",
       "\t7 & JPN                & 3                  & Japan              &  4,970,916        \\\\\n",
       "\t8 & DEU                & 4                  & Germany            &  3,996,759        \\\\\n",
       "\t9 & GBR                & 5                  & United Kingdom     &  2,825,208        \\\\\n",
       "\t10 & FRA                & 6                  & France             &  2,777,535        \\\\\n",
       "\t11 & IND                & 7                  & India              &  2,726,323        \\\\\n",
       "\t12 & ITA                & 8                  & Italy              &  2,073,902        \\\\\n",
       "\t13 & BRA                & 9                  & Brazil             &  1,868,626        \\\\\n",
       "\t14 & CAN                & 10                 & Canada             &  1,712,510        \\\\\n",
       "\t15 & RUS                & 11                 & Russian Federation &  1,657,554        \\\\\n",
       "\t16 & KOR                & 12                 & Korea, Rep.        &  1,619,424        \\\\\n",
       "\t17 & AUS                & 13                 & Australia          &  1,432,195        \\\\\n",
       "\t18 & ESP                & 14                 & Spain              &  1,426,189        \\\\\n",
       "\t19 & MEX                & 15                 & Mexico             &  1,223,809        \\\\\n",
       "\\end{tabular}\n"
      ],
      "text/markdown": [
       "\n",
       "| <!--/--> | Code | Ranking | Nation | GDP |\n",
       "|---|---|---|---|---|\n",
       "| 5 | USA                | 1                  | United States      |  20,494,100        |\n",
       "| 6 | CHN                | 2                  | China              |  13,608,152        |\n",
       "| 7 | JPN                | 3                  | Japan              |  4,970,916         |\n",
       "| 8 | DEU                | 4                  | Germany            |  3,996,759         |\n",
       "| 9 | GBR                | 5                  | United Kingdom     |  2,825,208         |\n",
       "| 10 | FRA                | 6                  | France             |  2,777,535         |\n",
       "| 11 | IND                | 7                  | India              |  2,726,323         |\n",
       "| 12 | ITA                | 8                  | Italy              |  2,073,902         |\n",
       "| 13 | BRA                | 9                  | Brazil             |  1,868,626         |\n",
       "| 14 | CAN                | 10                 | Canada             |  1,712,510         |\n",
       "| 15 | RUS                | 11                 | Russian Federation |  1,657,554         |\n",
       "| 16 | KOR                | 12                 | Korea, Rep.        |  1,619,424         |\n",
       "| 17 | AUS                | 13                 | Australia          |  1,432,195         |\n",
       "| 18 | ESP                | 14                 | Spain              |  1,426,189         |\n",
       "| 19 | MEX                | 15                 | Mexico             |  1,223,809         |\n",
       "\n"
      ],
      "text/plain": [
       "   Code Ranking Nation             GDP         \n",
       "5  USA  1       United States       20,494,100 \n",
       "6  CHN  2       China               13,608,152 \n",
       "7  JPN  3       Japan               4,970,916  \n",
       "8  DEU  4       Germany             3,996,759  \n",
       "9  GBR  5       United Kingdom      2,825,208  \n",
       "10 FRA  6       France              2,777,535  \n",
       "11 IND  7       India               2,726,323  \n",
       "12 ITA  8       Italy               2,073,902  \n",
       "13 BRA  9       Brazil              1,868,626  \n",
       "14 CAN  10      Canada              1,712,510  \n",
       "15 RUS  11      Russian Federation  1,657,554  \n",
       "16 KOR  12      Korea, Rep.         1,619,424  \n",
       "17 AUS  13      Australia           1,432,195  \n",
       "18 ESP  14      Spain               1,426,189  \n",
       "19 MEX  15      Mexico              1,223,809  "
      ]
     },
     "metadata": {},
     "output_type": "display_data"
    }
   ],
   "source": [
    "# 컬럼 이름 정의 : Code, Ranking, Nation, GDP\n",
    "\n",
    "colnames(GDP_ranking15) <- c(\"Code\", \"Ranking\", \"Nation\", \"GDP\")\n",
    "\n",
    "GDP_ranking15"
   ]
  },
  {
   "cell_type": "code",
   "execution_count": 18,
   "id": "1b4b44c7",
   "metadata": {
    "vscode": {
     "languageId": "r"
    }
   },
   "outputs": [
    {
     "name": "stdout",
     "output_type": "stream",
     "text": [
      "   Code Ranking             Nation          GDP\n",
      "1   USA       1      United States  20,494,100 \n",
      "2   CHN       2              China  13,608,152 \n",
      "3   JPN       3              Japan   4,970,916 \n",
      "4   DEU       4            Germany   3,996,759 \n",
      "5   GBR       5     United Kingdom   2,825,208 \n",
      "6   FRA       6             France   2,777,535 \n",
      "7   IND       7              India   2,726,323 \n",
      "8   ITA       8              Italy   2,073,902 \n",
      "9   BRA       9             Brazil   1,868,626 \n",
      "10  CAN      10             Canada   1,712,510 \n",
      "11  RUS      11 Russian Federation   1,657,554 \n",
      "12  KOR      12        Korea, Rep.   1,619,424 \n",
      "13  AUS      13          Australia   1,432,195 \n",
      "14  ESP      14              Spain   1,426,189 \n",
      "15  MEX      15             Mexico   1,223,809 \n"
     ]
    }
   ],
   "source": [
    "# rownames 새로 구성하기\n",
    "\n",
    "rownames(GDP_ranking15) <- c()\n",
    "print(GDP_ranking15)"
   ]
  },
  {
   "cell_type": "code",
   "execution_count": 19,
   "id": "d0fee5f9",
   "metadata": {
    "vscode": {
     "languageId": "r"
    }
   },
   "outputs": [
    {
     "name": "stdout",
     "output_type": "stream",
     "text": [
      "'data.frame':\t15 obs. of  4 variables:\n",
      " $ Code   : Factor w/ 230 levels \"\",\"ABW\",\"AFG\",..: 216 38 103 52 72 68 94 100 28 34 ...\n",
      " $ Ranking: Factor w/ 212 levels \"\",\".. Not available.  \",..: 3 114 131 142 153 164 175 186 197 4 ...\n",
      " $ Nation : Factor w/ 231 levels \"\",\"Afghanistan\",..: 219 43 104 78 218 73 95 102 28 37 ...\n",
      " $ GDP    : Factor w/ 220 levels \"\",\" .. \",\" 1,022 \",..: 78 44 137 113 77 75 74 67 20 19 ...\n"
     ]
    }
   ],
   "source": [
    "# 구조 확인하기\n",
    "# 초기 데이터값을 그대로 가지고 있음\n",
    "str(GDP_ranking15)"
   ]
  },
  {
   "cell_type": "code",
   "execution_count": 20,
   "id": "7ef2c24f",
   "metadata": {
    "vscode": {
     "languageId": "r"
    }
   },
   "outputs": [],
   "source": [
    "# Factor의 갯수가 15개가 정상일텐데 이상하다 <- 재구성\n",
    "\n",
    "GDP_ranking15$Code <- factor(GDP_ranking15$Code)"
   ]
  },
  {
   "cell_type": "code",
   "execution_count": 21,
   "id": "5fc83259",
   "metadata": {
    "vscode": {
     "languageId": "r"
    }
   },
   "outputs": [
    {
     "name": "stdout",
     "output_type": "stream",
     "text": [
      "'data.frame':\t15 obs. of  4 variables:\n",
      " $ Code   : Factor w/ 15 levels \"AUS\",\"BRA\",\"CAN\",..: 15 4 11 5 8 7 9 10 2 3 ...\n",
      " $ Ranking: Factor w/ 15 levels \"1\",\"10\",\"11\",..: 1 8 9 10 11 12 13 14 15 2 ...\n",
      " $ Nation : Factor w/ 15 levels \"Australia\",\"Brazil\",..: 15 4 9 6 14 5 7 8 2 3 ...\n",
      " $ GDP    : Factor w/ 15 levels \" 1,223,809 \",..: 13 8 15 14 12 11 10 9 7 6 ...\n"
     ]
    }
   ],
   "source": [
    "# for문을 이용한 factor 조정\n",
    "\n",
    "for(i in 1:ncol(GDP_ranking15)){\n",
    "    \n",
    "    GDP_ranking15[,i] <- factor(GDP_ranking15[,i])\n",
    "}\n",
    "str(GDP_ranking15)"
   ]
  },
  {
   "cell_type": "code",
   "execution_count": 22,
   "id": "e12927b3",
   "metadata": {
    "vscode": {
     "languageId": "r"
    }
   },
   "outputs": [
    {
     "name": "stderr",
     "output_type": "stream",
     "text": [
      "\n",
      "Attaching package: 'stringr'\n",
      "\n",
      "The following object is masked _by_ '.GlobalEnv':\n",
      "\n",
      "    fruit\n",
      "\n"
     ]
    },
    {
     "name": "stdout",
     "output_type": "stream",
     "text": [
      "'data.frame':\t15 obs. of  4 variables:\n",
      " $ Code   : Factor w/ 15 levels \"AUS\",\"BRA\",\"CAN\",..: 15 4 11 5 8 7 9 10 2 3 ...\n",
      " $ Ranking: Factor w/ 15 levels \"1\",\"10\",\"11\",..: 1 8 9 10 11 12 13 14 15 2 ...\n",
      " $ Nation : Factor w/ 15 levels \"Australia\",\"Brazil\",..: 15 4 9 6 14 5 7 8 2 3 ...\n",
      " $ GDP    : num  20494100 13608152 4970916 3996759 2825208 ...\n"
     ]
    }
   ],
   "source": [
    "library(stringr)\n",
    "\n",
    "GDP_ranking15$GDP <- as.numeric(str_remove_all(GDP_ranking15$GDP, \",\"))\n",
    "str(GDP_ranking15)"
   ]
  },
  {
   "cell_type": "code",
   "execution_count": 23,
   "id": "04cfb6e6",
   "metadata": {
    "vscode": {
     "languageId": "r"
    }
   },
   "outputs": [
    {
     "data": {
      "image/png": "[encoded data removed]",
      "text/plain": [
       "Plot with title \"2018년 GDP 세계 15위 국가\""
      ]
     },
     "metadata": {},
     "output_type": "display_data"
    }
   ],
   "source": [
    "# 막대그래프\n",
    "\n",
    "options(scipen=100)\n",
    "options(warn=-1)\n",
    "par(family = \"AppleGothic\")\n",
    "\n",
    "barplot(GDP_ranking15$GDP/1000, # GDP 상위 15개국 Data\n",
    "        main = \"2018년 GDP 세계 15위 국가\",\n",
    "        xlab = \"국가(Nation)\",\n",
    "        ylab = \"단위(달러)\",\n",
    "        names = GDP_ranking15$Code,\n",
    "        cex.names = 0.7,\n",
    "        #col = c(rep('red',2), rep('blue',9),'red',rep('blue',3)),\n",
    "        col = ifelse(GDP_ranking15$GDP/1000 >=3000, 'red', 'blue'),\n",
    "        ylim = c(0, 25000)\n",
    "       )"
   ]
  },
  {
   "cell_type": "code",
   "execution_count": 24,
   "id": "d8f2d306",
   "metadata": {
    "vscode": {
     "languageId": "r"
    }
   },
   "outputs": [],
   "source": [
    "# GDP가 3000 이상인 국가만 빨간색으로 표시하기"
   ]
  },
  {
   "cell_type": "markdown",
   "id": "16bc15a5",
   "metadata": {},
   "source": [
    "---\n",
    "# 데이터 처리"
   ]
  },
  {
   "cell_type": "code",
   "execution_count": 25,
   "id": "9579a387",
   "metadata": {
    "vscode": {
     "languageId": "r"
    }
   },
   "outputs": [
    {
     "name": "stderr",
     "output_type": "stream",
     "text": [
      "\n",
      "Attaching package: 'dplyr'\n",
      "\n",
      "The following objects are masked from 'package:stats':\n",
      "\n",
      "    filter, lag\n",
      "\n",
      "The following objects are masked from 'package:base':\n",
      "\n",
      "    intersect, setdiff, setequal, union\n",
      "\n"
     ]
    }
   ],
   "source": [
    "# 데이터 정렬\n",
    "\n",
    "library(dplyr)"
   ]
  },
  {
   "cell_type": "code",
   "execution_count": 26,
   "id": "2c2d5515",
   "metadata": {
    "vscode": {
     "languageId": "r"
    }
   },
   "outputs": [
    {
     "data": {
      "text/html": [
       "<table>\n",
       "<thead><tr><th scope=col>Sepal.Length</th><th scope=col>Sepal.Width</th><th scope=col>Petal.Length</th><th scope=col>Petal.Width</th><th scope=col>Species</th></tr></thead>\n",
       "<tbody>\n",
       "\t<tr><td>4.3   </td><td>3.0   </td><td>1.1   </td><td>0.1   </td><td>setosa</td></tr>\n",
       "\t<tr><td>4.4   </td><td>2.9   </td><td>1.4   </td><td>0.2   </td><td>setosa</td></tr>\n",
       "\t<tr><td>4.4   </td><td>3.0   </td><td>1.3   </td><td>0.2   </td><td>setosa</td></tr>\n",
       "\t<tr><td>4.4   </td><td>3.2   </td><td>1.3   </td><td>0.2   </td><td>setosa</td></tr>\n",
       "\t<tr><td>4.5   </td><td>2.3   </td><td>1.3   </td><td>0.3   </td><td>setosa</td></tr>\n",
       "\t<tr><td>4.6   </td><td>3.1   </td><td>1.5   </td><td>0.2   </td><td>setosa</td></tr>\n",
       "</tbody>\n",
       "</table>\n"
      ],
      "text/latex": [
       "\\begin{tabular}{r|lllll}\n",
       " Sepal.Length & Sepal.Width & Petal.Length & Petal.Width & Species\\\\\n",
       "\\hline\n",
       "\t 4.3    & 3.0    & 1.1    & 0.1    & setosa\\\\\n",
       "\t 4.4    & 2.9    & 1.4    & 0.2    & setosa\\\\\n",
       "\t 4.4    & 3.0    & 1.3    & 0.2    & setosa\\\\\n",
       "\t 4.4    & 3.2    & 1.3    & 0.2    & setosa\\\\\n",
       "\t 4.5    & 2.3    & 1.3    & 0.3    & setosa\\\\\n",
       "\t 4.6    & 3.1    & 1.5    & 0.2    & setosa\\\\\n",
       "\\end{tabular}\n"
      ],
      "text/markdown": [
       "\n",
       "| Sepal.Length | Sepal.Width | Petal.Length | Petal.Width | Species |\n",
       "|---|---|---|---|---|\n",
       "| 4.3    | 3.0    | 1.1    | 0.1    | setosa |\n",
       "| 4.4    | 2.9    | 1.4    | 0.2    | setosa |\n",
       "| 4.4    | 3.0    | 1.3    | 0.2    | setosa |\n",
       "| 4.4    | 3.2    | 1.3    | 0.2    | setosa |\n",
       "| 4.5    | 2.3    | 1.3    | 0.3    | setosa |\n",
       "| 4.6    | 3.1    | 1.5    | 0.2    | setosa |\n",
       "\n"
      ],
      "text/plain": [
       "  Sepal.Length Sepal.Width Petal.Length Petal.Width Species\n",
       "1 4.3          3.0         1.1          0.1         setosa \n",
       "2 4.4          2.9         1.4          0.2         setosa \n",
       "3 4.4          3.0         1.3          0.2         setosa \n",
       "4 4.4          3.2         1.3          0.2         setosa \n",
       "5 4.5          2.3         1.3          0.3         setosa \n",
       "6 4.6          3.1         1.5          0.2         setosa "
      ]
     },
     "metadata": {},
     "output_type": "display_data"
    }
   ],
   "source": [
    "# Sepal.Length 기준으로 오름차순 정렬하기\n",
    "\n",
    "head(arrange(iris, Sepal.Length))"
   ]
  },
  {
   "cell_type": "code",
   "execution_count": 27,
   "id": "1b3fa95a",
   "metadata": {
    "vscode": {
     "languageId": "r"
    }
   },
   "outputs": [
    {
     "data": {
      "text/html": [
       "<table>\n",
       "<thead><tr><th scope=col>Sepal.Length</th><th scope=col>Sepal.Width</th><th scope=col>Petal.Length</th><th scope=col>Petal.Width</th><th scope=col>Species</th></tr></thead>\n",
       "<tbody>\n",
       "\t<tr><td>4.3   </td><td>3.0   </td><td>1.1   </td><td>0.1   </td><td>setosa</td></tr>\n",
       "\t<tr><td>4.4   </td><td>3.0   </td><td>1.3   </td><td>0.2   </td><td>setosa</td></tr>\n",
       "\t<tr><td>4.4   </td><td>3.2   </td><td>1.3   </td><td>0.2   </td><td>setosa</td></tr>\n",
       "\t<tr><td>4.4   </td><td>2.9   </td><td>1.4   </td><td>0.2   </td><td>setosa</td></tr>\n",
       "\t<tr><td>4.5   </td><td>2.3   </td><td>1.3   </td><td>0.3   </td><td>setosa</td></tr>\n",
       "\t<tr><td>4.6   </td><td>3.6   </td><td>1.0   </td><td>0.2   </td><td>setosa</td></tr>\n",
       "</tbody>\n",
       "</table>\n"
      ],
      "text/latex": [
       "\\begin{tabular}{r|lllll}\n",
       " Sepal.Length & Sepal.Width & Petal.Length & Petal.Width & Species\\\\\n",
       "\\hline\n",
       "\t 4.3    & 3.0    & 1.1    & 0.1    & setosa\\\\\n",
       "\t 4.4    & 3.0    & 1.3    & 0.2    & setosa\\\\\n",
       "\t 4.4    & 3.2    & 1.3    & 0.2    & setosa\\\\\n",
       "\t 4.4    & 2.9    & 1.4    & 0.2    & setosa\\\\\n",
       "\t 4.5    & 2.3    & 1.3    & 0.3    & setosa\\\\\n",
       "\t 4.6    & 3.6    & 1.0    & 0.2    & setosa\\\\\n",
       "\\end{tabular}\n"
      ],
      "text/markdown": [
       "\n",
       "| Sepal.Length | Sepal.Width | Petal.Length | Petal.Width | Species |\n",
       "|---|---|---|---|---|\n",
       "| 4.3    | 3.0    | 1.1    | 0.1    | setosa |\n",
       "| 4.4    | 3.0    | 1.3    | 0.2    | setosa |\n",
       "| 4.4    | 3.2    | 1.3    | 0.2    | setosa |\n",
       "| 4.4    | 2.9    | 1.4    | 0.2    | setosa |\n",
       "| 4.5    | 2.3    | 1.3    | 0.3    | setosa |\n",
       "| 4.6    | 3.6    | 1.0    | 0.2    | setosa |\n",
       "\n"
      ],
      "text/plain": [
       "  Sepal.Length Sepal.Width Petal.Length Petal.Width Species\n",
       "1 4.3          3.0         1.1          0.1         setosa \n",
       "2 4.4          3.0         1.3          0.2         setosa \n",
       "3 4.4          3.2         1.3          0.2         setosa \n",
       "4 4.4          2.9         1.4          0.2         setosa \n",
       "5 4.5          2.3         1.3          0.3         setosa \n",
       "6 4.6          3.6         1.0          0.2         setosa "
      ]
     },
     "metadata": {},
     "output_type": "display_data"
    }
   ],
   "source": [
    "# Sepal.Length기준으로 정렬후 동일한 크기를 가진 데이터 발생시 Petal.Length기준으로 오름차순으로 정렬\n",
    "# default : 오름차순\n",
    "head(arrange(iris, Sepal.Length, Petal.Length))"
   ]
  },
  {
   "cell_type": "code",
   "execution_count": 28,
   "id": "d27dc6f0",
   "metadata": {
    "vscode": {
     "languageId": "r"
    }
   },
   "outputs": [
    {
     "data": {
      "text/html": [
       "<table>\n",
       "<thead><tr><th scope=col>Sepal.Length</th><th scope=col>Sepal.Width</th><th scope=col>Petal.Length</th><th scope=col>Petal.Width</th><th scope=col>Species</th></tr></thead>\n",
       "<tbody>\n",
       "\t<tr><td>7.9      </td><td>3.8      </td><td>6.4      </td><td>2.0      </td><td>virginica</td></tr>\n",
       "\t<tr><td>7.7      </td><td>3.8      </td><td>6.7      </td><td>2.2      </td><td>virginica</td></tr>\n",
       "\t<tr><td>7.7      </td><td>2.6      </td><td>6.9      </td><td>2.3      </td><td>virginica</td></tr>\n",
       "\t<tr><td>7.7      </td><td>2.8      </td><td>6.7      </td><td>2.0      </td><td>virginica</td></tr>\n",
       "\t<tr><td>7.7      </td><td>3.0      </td><td>6.1      </td><td>2.3      </td><td>virginica</td></tr>\n",
       "\t<tr><td>7.6      </td><td>3.0      </td><td>6.6      </td><td>2.1      </td><td>virginica</td></tr>\n",
       "</tbody>\n",
       "</table>\n"
      ],
      "text/latex": [
       "\\begin{tabular}{r|lllll}\n",
       " Sepal.Length & Sepal.Width & Petal.Length & Petal.Width & Species\\\\\n",
       "\\hline\n",
       "\t 7.9       & 3.8       & 6.4       & 2.0       & virginica\\\\\n",
       "\t 7.7       & 3.8       & 6.7       & 2.2       & virginica\\\\\n",
       "\t 7.7       & 2.6       & 6.9       & 2.3       & virginica\\\\\n",
       "\t 7.7       & 2.8       & 6.7       & 2.0       & virginica\\\\\n",
       "\t 7.7       & 3.0       & 6.1       & 2.3       & virginica\\\\\n",
       "\t 7.6       & 3.0       & 6.6       & 2.1       & virginica\\\\\n",
       "\\end{tabular}\n"
      ],
      "text/markdown": [
       "\n",
       "| Sepal.Length | Sepal.Width | Petal.Length | Petal.Width | Species |\n",
       "|---|---|---|---|---|\n",
       "| 7.9       | 3.8       | 6.4       | 2.0       | virginica |\n",
       "| 7.7       | 3.8       | 6.7       | 2.2       | virginica |\n",
       "| 7.7       | 2.6       | 6.9       | 2.3       | virginica |\n",
       "| 7.7       | 2.8       | 6.7       | 2.0       | virginica |\n",
       "| 7.7       | 3.0       | 6.1       | 2.3       | virginica |\n",
       "| 7.6       | 3.0       | 6.6       | 2.1       | virginica |\n",
       "\n"
      ],
      "text/plain": [
       "  Sepal.Length Sepal.Width Petal.Length Petal.Width Species  \n",
       "1 7.9          3.8         6.4          2.0         virginica\n",
       "2 7.7          3.8         6.7          2.2         virginica\n",
       "3 7.7          2.6         6.9          2.3         virginica\n",
       "4 7.7          2.8         6.7          2.0         virginica\n",
       "5 7.7          3.0         6.1          2.3         virginica\n",
       "6 7.6          3.0         6.6          2.1         virginica"
      ]
     },
     "metadata": {},
     "output_type": "display_data"
    }
   ],
   "source": [
    "# Sepal.Length 기준으로 내림차순 정렬 desc()\n",
    "\n",
    "head(arrange(iris, desc(Sepal.Length)))"
   ]
  },
  {
   "cell_type": "code",
   "execution_count": 29,
   "id": "1d774a2e",
   "metadata": {
    "scrolled": true,
    "vscode": {
     "languageId": "r"
    }
   },
   "outputs": [
    {
     "data": {
      "text/html": [
       "<table>\n",
       "<thead><tr><th scope=col>Sepal.Length</th><th scope=col>Sepal.Width</th></tr></thead>\n",
       "<tbody>\n",
       "\t<tr><td>7.9</td><td>3.8</td></tr>\n",
       "\t<tr><td>7.7</td><td>3.8</td></tr>\n",
       "\t<tr><td>7.7</td><td>2.6</td></tr>\n",
       "\t<tr><td>7.7</td><td>2.8</td></tr>\n",
       "\t<tr><td>7.7</td><td>3.0</td></tr>\n",
       "\t<tr><td>7.6</td><td>3.0</td></tr>\n",
       "</tbody>\n",
       "</table>\n"
      ],
      "text/latex": [
       "\\begin{tabular}{r|ll}\n",
       " Sepal.Length & Sepal.Width\\\\\n",
       "\\hline\n",
       "\t 7.9 & 3.8\\\\\n",
       "\t 7.7 & 3.8\\\\\n",
       "\t 7.7 & 2.6\\\\\n",
       "\t 7.7 & 2.8\\\\\n",
       "\t 7.7 & 3.0\\\\\n",
       "\t 7.6 & 3.0\\\\\n",
       "\\end{tabular}\n"
      ],
      "text/markdown": [
       "\n",
       "| Sepal.Length | Sepal.Width |\n",
       "|---|---|\n",
       "| 7.9 | 3.8 |\n",
       "| 7.7 | 3.8 |\n",
       "| 7.7 | 2.6 |\n",
       "| 7.7 | 2.8 |\n",
       "| 7.7 | 3.0 |\n",
       "| 7.6 | 3.0 |\n",
       "\n"
      ],
      "text/plain": [
       "  Sepal.Length Sepal.Width\n",
       "1 7.9          3.8        \n",
       "2 7.7          3.8        \n",
       "3 7.7          2.6        \n",
       "4 7.7          2.8        \n",
       "5 7.7          3.0        \n",
       "6 7.6          3.0        "
      ]
     },
     "metadata": {},
     "output_type": "display_data"
    }
   ],
   "source": [
    "# Sepal.Length 기준으로 내림차순 정렬 후 Sepal.Length와 Sepal.Width만 보기\n",
    "# arrange(데이터범위, 정렬할 컬럼)\n",
    "head(arrange(iris[,1:2], desc(Sepal.Length)))"
   ]
  },
  {
   "cell_type": "markdown",
   "id": "5ba69b18",
   "metadata": {},
   "source": [
    "---\n",
    "# 샘플링"
   ]
  },
  {
   "cell_type": "code",
   "execution_count": 30,
   "id": "502cca1d",
   "metadata": {
    "vscode": {
     "languageId": "r"
    }
   },
   "outputs": [
    {
     "data": {
      "text/html": [
       "<ol class=list-inline>\n",
       "\t<li>38</li>\n",
       "\t<li>41</li>\n",
       "\t<li>29</li>\n",
       "\t<li>23</li>\n",
       "\t<li>15</li>\n",
       "\t<li>40</li>\n",
       "</ol>\n"
      ],
      "text/latex": [
       "\\begin{enumerate*}\n",
       "\\item 38\n",
       "\\item 41\n",
       "\\item 29\n",
       "\\item 23\n",
       "\\item 15\n",
       "\\item 40\n",
       "\\end{enumerate*}\n"
      ],
      "text/markdown": [
       "1. 38\n",
       "2. 41\n",
       "3. 29\n",
       "4. 23\n",
       "5. 15\n",
       "6. 40\n",
       "\n",
       "\n"
      ],
      "text/plain": [
       "[1] 38 41 29 23 15 40"
      ]
     },
     "metadata": {},
     "output_type": "display_data"
    }
   ],
   "source": [
    "# 랜덤 샘플링(중복값 허용하지 않음)\n",
    "sample(1:45, 6)"
   ]
  },
  {
   "cell_type": "code",
   "execution_count": 31,
   "id": "2eead87f",
   "metadata": {
    "vscode": {
     "languageId": "r"
    }
   },
   "outputs": [
    {
     "data": {
      "text/html": [
       "150"
      ],
      "text/latex": [
       "150"
      ],
      "text/markdown": [
       "150"
      ],
      "text/plain": [
       "[1] 150"
      ]
     },
     "metadata": {},
     "output_type": "display_data"
    },
    {
     "data": {
      "text/html": [
       "5"
      ],
      "text/latex": [
       "5"
      ],
      "text/markdown": [
       "5"
      ],
      "text/plain": [
       "[1] 5"
      ]
     },
     "metadata": {},
     "output_type": "display_data"
    }
   ],
   "source": [
    "nrow(iris)\n",
    "ncol(iris)"
   ]
  },
  {
   "cell_type": "code",
   "execution_count": 32,
   "id": "a8c18372",
   "metadata": {
    "vscode": {
     "languageId": "r"
    }
   },
   "outputs": [
    {
     "data": {
      "text/html": [
       "<ol class=list-inline>\n",
       "\t<li>142</li>\n",
       "\t<li>68</li>\n",
       "\t<li>8</li>\n",
       "\t<li>103</li>\n",
       "\t<li>75</li>\n",
       "\t<li>18</li>\n",
       "\t<li>145</li>\n",
       "\t<li>26</li>\n",
       "\t<li>148</li>\n",
       "\t<li>95</li>\n",
       "\t<li>106</li>\n",
       "\t<li>138</li>\n",
       "\t<li>129</li>\n",
       "\t<li>51</li>\n",
       "\t<li>17</li>\n",
       "\t<li>86</li>\n",
       "\t<li>57</li>\n",
       "\t<li>6</li>\n",
       "\t<li>128</li>\n",
       "\t<li>27</li>\n",
       "\t<li>130</li>\n",
       "\t<li>137</li>\n",
       "\t<li>62</li>\n",
       "\t<li>21</li>\n",
       "\t<li>60</li>\n",
       "\t<li>118</li>\n",
       "\t<li>36</li>\n",
       "\t<li>87</li>\n",
       "\t<li>114</li>\n",
       "\t<li>117</li>\n",
       "\t<li>97</li>\n",
       "\t<li>20</li>\n",
       "\t<li>46</li>\n",
       "\t<li>47</li>\n",
       "\t<li>30</li>\n",
       "\t<li>49</li>\n",
       "\t<li>41</li>\n",
       "\t<li>32</li>\n",
       "\t<li>33</li>\n",
       "\t<li>119</li>\n",
       "\t<li>135</li>\n",
       "\t<li>79</li>\n",
       "\t<li>83</li>\n",
       "\t<li>107</li>\n",
       "\t<li>52</li>\n",
       "\t<li>11</li>\n",
       "\t<li>42</li>\n",
       "\t<li>55</li>\n",
       "\t<li>28</li>\n",
       "\t<li>40</li>\n",
       "\t<li>34</li>\n",
       "\t<li>132</li>\n",
       "\t<li>58</li>\n",
       "\t<li>78</li>\n",
       "\t<li>113</li>\n",
       "\t<li>81</li>\n",
       "\t<li>93</li>\n",
       "\t<li>61</li>\n",
       "\t<li>7</li>\n",
       "\t<li>53</li>\n",
       "\t<li>10</li>\n",
       "\t<li>9</li>\n",
       "\t<li>149</li>\n",
       "\t<li>80</li>\n",
       "\t<li>63</li>\n",
       "\t<li>121</li>\n",
       "\t<li>126</li>\n",
       "\t<li>110</li>\n",
       "\t<li>108</li>\n",
       "\t<li>120</li>\n",
       "\t<li>116</li>\n",
       "\t<li>76</li>\n",
       "\t<li>77</li>\n",
       "\t<li>13</li>\n",
       "\t<li>67</li>\n",
       "\t<li>124</li>\n",
       "\t<li>22</li>\n",
       "\t<li>1</li>\n",
       "\t<li>74</li>\n",
       "\t<li>64</li>\n",
       "\t<li>89</li>\n",
       "\t<li>133</li>\n",
       "\t<li>35</li>\n",
       "\t<li>72</li>\n",
       "\t<li>101</li>\n",
       "\t<li>38</li>\n",
       "\t<li>69</li>\n",
       "\t<li>56</li>\n",
       "\t<li>99</li>\n",
       "\t<li>59</li>\n",
       "\t<li>122</li>\n",
       "\t<li>144</li>\n",
       "\t<li>96</li>\n",
       "\t<li>104</li>\n",
       "\t<li>105</li>\n",
       "\t<li>91</li>\n",
       "\t<li>50</li>\n",
       "\t<li>82</li>\n",
       "\t<li>31</li>\n",
       "\t<li>85</li>\n",
       "\t<li>15</li>\n",
       "\t<li>125</li>\n",
       "\t<li>16</li>\n",
       "\t<li>66</li>\n",
       "\t<li>115</li>\n",
       "</ol>\n"
      ],
      "text/latex": [
       "\\begin{enumerate*}\n",
       "\\item 142\n",
       "\\item 68\n",
       "\\item 8\n",
       "\\item 103\n",
       "\\item 75\n",
       "\\item 18\n",
       "\\item 145\n",
       "\\item 26\n",
       "\\item 148\n",
       "\\item 95\n",
       "\\item 106\n",
       "\\item 138\n",
       "\\item 129\n",
       "\\item 51\n",
       "\\item 17\n",
       "\\item 86\n",
       "\\item 57\n",
       "\\item 6\n",
       "\\item 128\n",
       "\\item 27\n",
       "\\item 130\n",
       "\\item 137\n",
       "\\item 62\n",
       "\\item 21\n",
       "\\item 60\n",
       "\\item 118\n",
       "\\item 36\n",
       "\\item 87\n",
       "\\item 114\n",
       "\\item 117\n",
       "\\item 97\n",
       "\\item 20\n",
       "\\item 46\n",
       "\\item 47\n",
       "\\item 30\n",
       "\\item 49\n",
       "\\item 41\n",
       "\\item 32\n",
       "\\item 33\n",
       "\\item 119\n",
       "\\item 135\n",
       "\\item 79\n",
       "\\item 83\n",
       "\\item 107\n",
       "\\item 52\n",
       "\\item 11\n",
       "\\item 42\n",
       "\\item 55\n",
       "\\item 28\n",
       "\\item 40\n",
       "\\item 34\n",
       "\\item 132\n",
       "\\item 58\n",
       "\\item 78\n",
       "\\item 113\n",
       "\\item 81\n",
       "\\item 93\n",
       "\\item 61\n",
       "\\item 7\n",
       "\\item 53\n",
       "\\item 10\n",
       "\\item 9\n",
       "\\item 149\n",
       "\\item 80\n",
       "\\item 63\n",
       "\\item 121\n",
       "\\item 126\n",
       "\\item 110\n",
       "\\item 108\n",
       "\\item 120\n",
       "\\item 116\n",
       "\\item 76\n",
       "\\item 77\n",
       "\\item 13\n",
       "\\item 67\n",
       "\\item 124\n",
       "\\item 22\n",
       "\\item 1\n",
       "\\item 74\n",
       "\\item 64\n",
       "\\item 89\n",
       "\\item 133\n",
       "\\item 35\n",
       "\\item 72\n",
       "\\item 101\n",
       "\\item 38\n",
       "\\item 69\n",
       "\\item 56\n",
       "\\item 99\n",
       "\\item 59\n",
       "\\item 122\n",
       "\\item 144\n",
       "\\item 96\n",
       "\\item 104\n",
       "\\item 105\n",
       "\\item 91\n",
       "\\item 50\n",
       "\\item 82\n",
       "\\item 31\n",
       "\\item 85\n",
       "\\item 15\n",
       "\\item 125\n",
       "\\item 16\n",
       "\\item 66\n",
       "\\item 115\n",
       "\\end{enumerate*}\n"
      ],
      "text/markdown": [
       "1. 142\n",
       "2. 68\n",
       "3. 8\n",
       "4. 103\n",
       "5. 75\n",
       "6. 18\n",
       "7. 145\n",
       "8. 26\n",
       "9. 148\n",
       "10. 95\n",
       "11. 106\n",
       "12. 138\n",
       "13. 129\n",
       "14. 51\n",
       "15. 17\n",
       "16. 86\n",
       "17. 57\n",
       "18. 6\n",
       "19. 128\n",
       "20. 27\n",
       "21. 130\n",
       "22. 137\n",
       "23. 62\n",
       "24. 21\n",
       "25. 60\n",
       "26. 118\n",
       "27. 36\n",
       "28. 87\n",
       "29. 114\n",
       "30. 117\n",
       "31. 97\n",
       "32. 20\n",
       "33. 46\n",
       "34. 47\n",
       "35. 30\n",
       "36. 49\n",
       "37. 41\n",
       "38. 32\n",
       "39. 33\n",
       "40. 119\n",
       "41. 135\n",
       "42. 79\n",
       "43. 83\n",
       "44. 107\n",
       "45. 52\n",
       "46. 11\n",
       "47. 42\n",
       "48. 55\n",
       "49. 28\n",
       "50. 40\n",
       "51. 34\n",
       "52. 132\n",
       "53. 58\n",
       "54. 78\n",
       "55. 113\n",
       "56. 81\n",
       "57. 93\n",
       "58. 61\n",
       "59. 7\n",
       "60. 53\n",
       "61. 10\n",
       "62. 9\n",
       "63. 149\n",
       "64. 80\n",
       "65. 63\n",
       "66. 121\n",
       "67. 126\n",
       "68. 110\n",
       "69. 108\n",
       "70. 120\n",
       "71. 116\n",
       "72. 76\n",
       "73. 77\n",
       "74. 13\n",
       "75. 67\n",
       "76. 124\n",
       "77. 22\n",
       "78. 1\n",
       "79. 74\n",
       "80. 64\n",
       "81. 89\n",
       "82. 133\n",
       "83. 35\n",
       "84. 72\n",
       "85. 101\n",
       "86. 38\n",
       "87. 69\n",
       "88. 56\n",
       "89. 99\n",
       "90. 59\n",
       "91. 122\n",
       "92. 144\n",
       "93. 96\n",
       "94. 104\n",
       "95. 105\n",
       "96. 91\n",
       "97. 50\n",
       "98. 82\n",
       "99. 31\n",
       "100. 85\n",
       "101. 15\n",
       "102. 125\n",
       "103. 16\n",
       "104. 66\n",
       "105. 115\n",
       "\n",
       "\n"
      ],
      "text/plain": [
       "  [1] 142  68   8 103  75  18 145  26 148  95 106 138 129  51  17  86  57   6\n",
       " [19] 128  27 130 137  62  21  60 118  36  87 114 117  97  20  46  47  30  49\n",
       " [37]  41  32  33 119 135  79  83 107  52  11  42  55  28  40  34 132  58  78\n",
       " [55] 113  81  93  61   7  53  10   9 149  80  63 121 126 110 108 120 116  76\n",
       " [73]  77  13  67 124  22   1  74  64  89 133  35  72 101  38  69  56  99  59\n",
       " [91] 122 144  96 104 105  91  50  82  31  85  15 125  16  66 115"
      ]
     },
     "metadata": {},
     "output_type": "display_data"
    }
   ],
   "source": [
    "samp <- sample(1:nrow(iris), nrow(iris)*0.7)\n",
    "samp"
   ]
  },
  {
   "cell_type": "code",
   "execution_count": 33,
   "id": "a05e7d23",
   "metadata": {
    "vscode": {
     "languageId": "r"
    }
   },
   "outputs": [
    {
     "data": {
      "text/html": [
       "<table>\n",
       "<thead><tr><th></th><th scope=col>Sepal.Length</th><th scope=col>Sepal.Width</th><th scope=col>Petal.Length</th><th scope=col>Petal.Width</th><th scope=col>Species</th></tr></thead>\n",
       "<tbody>\n",
       "\t<tr><th scope=row>142</th><td>6.9       </td><td>3.1       </td><td>5.1       </td><td>2.3       </td><td>virginica </td></tr>\n",
       "\t<tr><th scope=row>68</th><td>5.8       </td><td>2.7       </td><td>4.1       </td><td>1.0       </td><td>versicolor</td></tr>\n",
       "\t<tr><th scope=row>8</th><td>5.0       </td><td>3.4       </td><td>1.5       </td><td>0.2       </td><td>setosa    </td></tr>\n",
       "\t<tr><th scope=row>103</th><td>7.1       </td><td>3.0       </td><td>5.9       </td><td>2.1       </td><td>virginica </td></tr>\n",
       "\t<tr><th scope=row>75</th><td>6.4       </td><td>2.9       </td><td>4.3       </td><td>1.3       </td><td>versicolor</td></tr>\n",
       "\t<tr><th scope=row>18</th><td>5.1       </td><td>3.5       </td><td>1.4       </td><td>0.3       </td><td>setosa    </td></tr>\n",
       "</tbody>\n",
       "</table>\n"
      ],
      "text/latex": [
       "\\begin{tabular}{r|lllll}\n",
       "  & Sepal.Length & Sepal.Width & Petal.Length & Petal.Width & Species\\\\\n",
       "\\hline\n",
       "\t142 & 6.9        & 3.1        & 5.1        & 2.3        & virginica \\\\\n",
       "\t68 & 5.8        & 2.7        & 4.1        & 1.0        & versicolor\\\\\n",
       "\t8 & 5.0        & 3.4        & 1.5        & 0.2        & setosa    \\\\\n",
       "\t103 & 7.1        & 3.0        & 5.9        & 2.1        & virginica \\\\\n",
       "\t75 & 6.4        & 2.9        & 4.3        & 1.3        & versicolor\\\\\n",
       "\t18 & 5.1        & 3.5        & 1.4        & 0.3        & setosa    \\\\\n",
       "\\end{tabular}\n"
      ],
      "text/markdown": [
       "\n",
       "| <!--/--> | Sepal.Length | Sepal.Width | Petal.Length | Petal.Width | Species |\n",
       "|---|---|---|---|---|---|\n",
       "| 142 | 6.9        | 3.1        | 5.1        | 2.3        | virginica  |\n",
       "| 68 | 5.8        | 2.7        | 4.1        | 1.0        | versicolor |\n",
       "| 8 | 5.0        | 3.4        | 1.5        | 0.2        | setosa     |\n",
       "| 103 | 7.1        | 3.0        | 5.9        | 2.1        | virginica  |\n",
       "| 75 | 6.4        | 2.9        | 4.3        | 1.3        | versicolor |\n",
       "| 18 | 5.1        | 3.5        | 1.4        | 0.3        | setosa     |\n",
       "\n"
      ],
      "text/plain": [
       "    Sepal.Length Sepal.Width Petal.Length Petal.Width Species   \n",
       "142 6.9          3.1         5.1          2.3         virginica \n",
       "68  5.8          2.7         4.1          1.0         versicolor\n",
       "8   5.0          3.4         1.5          0.2         setosa    \n",
       "103 7.1          3.0         5.9          2.1         virginica \n",
       "75  6.4          2.9         4.3          1.3         versicolor\n",
       "18  5.1          3.5         1.4          0.3         setosa    "
      ]
     },
     "metadata": {},
     "output_type": "display_data"
    }
   ],
   "source": [
    "irisSamp <- iris[samp,]\n",
    "head(irisSamp)"
   ]
  },
  {
   "cell_type": "code",
   "execution_count": 34,
   "id": "1dddbb23",
   "metadata": {
    "scrolled": true,
    "vscode": {
     "languageId": "r"
    }
   },
   "outputs": [
    {
     "data": {
      "text/plain": [
       "  Sepal.Length    Sepal.Width     Petal.Length    Petal.Width         Species  \n",
       " Min.   :4.400   Min.   :2.000   Min.   :1.200   Min.   :0.10   setosa    :33  \n",
       " 1st Qu.:5.200   1st Qu.:2.800   1st Qu.:1.600   1st Qu.:0.30   versicolor:38  \n",
       " Median :5.800   Median :3.000   Median :4.400   Median :1.30   virginica :34  \n",
       " Mean   :5.896   Mean   :3.086   Mean   :3.825   Mean   :1.22                  \n",
       " 3rd Qu.:6.500   3rd Qu.:3.400   3rd Qu.:5.100   3rd Qu.:1.80                  \n",
       " Max.   :7.900   Max.   :4.400   Max.   :6.900   Max.   :2.50                  "
      ]
     },
     "metadata": {},
     "output_type": "display_data"
    },
    {
     "data": {
      "text/plain": [
       "  Sepal.Length    Sepal.Width     Petal.Length    Petal.Width   \n",
       " Min.   :4.300   Min.   :2.000   Min.   :1.000   Min.   :0.100  \n",
       " 1st Qu.:5.100   1st Qu.:2.800   1st Qu.:1.600   1st Qu.:0.300  \n",
       " Median :5.800   Median :3.000   Median :4.350   Median :1.300  \n",
       " Mean   :5.843   Mean   :3.057   Mean   :3.758   Mean   :1.199  \n",
       " 3rd Qu.:6.400   3rd Qu.:3.300   3rd Qu.:5.100   3rd Qu.:1.800  \n",
       " Max.   :7.900   Max.   :4.400   Max.   :6.900   Max.   :2.500  \n",
       "       Species  \n",
       " setosa    :50  \n",
       " versicolor:50  \n",
       " virginica :50  \n",
       "                \n",
       "                \n",
       "                "
      ]
     },
     "metadata": {},
     "output_type": "display_data"
    }
   ],
   "source": [
    "summary(irisSamp)\n",
    "summary(iris)"
   ]
  },
  {
   "cell_type": "code",
   "execution_count": 35,
   "id": "6fe425a5",
   "metadata": {
    "vscode": {
     "languageId": "r"
    }
   },
   "outputs": [
    {
     "data": {
      "text/plain": [
       "\n",
       "    setosa versicolor  virginica \n",
       "        33         38         34 "
      ]
     },
     "metadata": {},
     "output_type": "display_data"
    }
   ],
   "source": [
    "table(irisSamp$Species)"
   ]
  },
  {
   "cell_type": "code",
   "execution_count": 36,
   "id": "4df84575",
   "metadata": {
    "vscode": {
     "languageId": "r"
    }
   },
   "outputs": [],
   "source": [
    "# 샘플링은 그룹별로 샘플링 해주는 것이 좋다\n",
    "# iris Sampling시 Species별로 Sampling\n",
    "\n",
    "samp <- c(sample(1:50, 35),sample(51:100, 35),sample(101:150, 35))"
   ]
  },
  {
   "cell_type": "code",
   "execution_count": 37,
   "id": "cd84aee2",
   "metadata": {
    "vscode": {
     "languageId": "r"
    }
   },
   "outputs": [
    {
     "data": {
      "text/plain": [
       "\n",
       "    setosa versicolor  virginica \n",
       "        35         35         35 "
      ]
     },
     "metadata": {},
     "output_type": "display_data"
    }
   ],
   "source": [
    "irisSamp <- iris[samp,]\n",
    "table(irisSamp$Species)"
   ]
  },
  {
   "cell_type": "code",
   "execution_count": 38,
   "id": "7c6f5031",
   "metadata": {
    "vscode": {
     "languageId": "r"
    }
   },
   "outputs": [],
   "source": [
    "# Traning Data와 Test Data분리하기\n",
    "\n",
    "iris.train <- iris[samp,]\n",
    "iris.test <- iris[-samp,]"
   ]
  },
  {
   "cell_type": "code",
   "execution_count": 39,
   "id": "91df4b91",
   "metadata": {
    "vscode": {
     "languageId": "r"
    }
   },
   "outputs": [
    {
     "data": {
      "text/plain": [
       "  Sepal.Length   Sepal.Width     Petal.Length    Petal.Width          Species  \n",
       " Min.   :4.40   Min.   :2.000   Min.   :1.000   Min.   :0.100   setosa    :35  \n",
       " 1st Qu.:5.10   1st Qu.:2.800   1st Qu.:1.500   1st Qu.:0.300   versicolor:35  \n",
       " Median :5.80   Median :3.000   Median :4.300   Median :1.300   virginica :35  \n",
       " Mean   :5.83   Mean   :3.073   Mean   :3.738   Mean   :1.198                  \n",
       " 3rd Qu.:6.40   3rd Qu.:3.400   3rd Qu.:5.100   3rd Qu.:1.800                  \n",
       " Max.   :7.90   Max.   :4.400   Max.   :6.700   Max.   :2.500                  "
      ]
     },
     "metadata": {},
     "output_type": "display_data"
    }
   ],
   "source": [
    "summary(iris.train)"
   ]
  },
  {
   "cell_type": "code",
   "execution_count": 40,
   "id": "96391c2c",
   "metadata": {
    "vscode": {
     "languageId": "r"
    }
   },
   "outputs": [
    {
     "data": {
      "text/plain": [
       "  Sepal.Length    Sepal.Width    Petal.Length    Petal.Width          Species  \n",
       " Min.   :4.300   Min.   :2.20   Min.   :1.100   Min.   :0.100   setosa    :15  \n",
       " 1st Qu.:5.100   1st Qu.:2.80   1st Qu.:1.700   1st Qu.:0.300   versicolor:15  \n",
       " Median :5.900   Median :3.00   Median :4.400   Median :1.300   virginica :15  \n",
       " Mean   :5.876   Mean   :3.02   Mean   :3.804   Mean   :1.202                  \n",
       " 3rd Qu.:6.500   3rd Qu.:3.20   3rd Qu.:5.100   3rd Qu.:1.800                  \n",
       " Max.   :7.700   Max.   :3.90   Max.   :6.900   Max.   :2.500                  "
      ]
     },
     "metadata": {},
     "output_type": "display_data"
    }
   ],
   "source": [
    "summary(iris.test)"
   ]
  },
  {
   "cell_type": "markdown",
   "id": "68804341",
   "metadata": {},
   "source": [
    "---\n",
    "# 부분집합"
   ]
  },
  {
   "cell_type": "code",
   "execution_count": 41,
   "id": "b54fd1e6",
   "metadata": {
    "vscode": {
     "languageId": "r"
    }
   },
   "outputs": [
    {
     "data": {
      "text/html": [
       "<table>\n",
       "<thead><tr><th scope=col>Sepal.Length</th><th scope=col>Sepal.Width</th><th scope=col>Petal.Length</th><th scope=col>Petal.Width</th><th scope=col>Species</th></tr></thead>\n",
       "<tbody>\n",
       "\t<tr><td>5.1   </td><td>3.5   </td><td>1.4   </td><td>0.2   </td><td>setosa</td></tr>\n",
       "\t<tr><td>4.9   </td><td>3.0   </td><td>1.4   </td><td>0.2   </td><td>setosa</td></tr>\n",
       "\t<tr><td>4.7   </td><td>3.2   </td><td>1.3   </td><td>0.2   </td><td>setosa</td></tr>\n",
       "\t<tr><td>4.6   </td><td>3.1   </td><td>1.5   </td><td>0.2   </td><td>setosa</td></tr>\n",
       "\t<tr><td>5.0   </td><td>3.6   </td><td>1.4   </td><td>0.2   </td><td>setosa</td></tr>\n",
       "\t<tr><td>5.4   </td><td>3.9   </td><td>1.7   </td><td>0.4   </td><td>setosa</td></tr>\n",
       "</tbody>\n",
       "</table>\n"
      ],
      "text/latex": [
       "\\begin{tabular}{r|lllll}\n",
       " Sepal.Length & Sepal.Width & Petal.Length & Petal.Width & Species\\\\\n",
       "\\hline\n",
       "\t 5.1    & 3.5    & 1.4    & 0.2    & setosa\\\\\n",
       "\t 4.9    & 3.0    & 1.4    & 0.2    & setosa\\\\\n",
       "\t 4.7    & 3.2    & 1.3    & 0.2    & setosa\\\\\n",
       "\t 4.6    & 3.1    & 1.5    & 0.2    & setosa\\\\\n",
       "\t 5.0    & 3.6    & 1.4    & 0.2    & setosa\\\\\n",
       "\t 5.4    & 3.9    & 1.7    & 0.4    & setosa\\\\\n",
       "\\end{tabular}\n"
      ],
      "text/markdown": [
       "\n",
       "| Sepal.Length | Sepal.Width | Petal.Length | Petal.Width | Species |\n",
       "|---|---|---|---|---|\n",
       "| 5.1    | 3.5    | 1.4    | 0.2    | setosa |\n",
       "| 4.9    | 3.0    | 1.4    | 0.2    | setosa |\n",
       "| 4.7    | 3.2    | 1.3    | 0.2    | setosa |\n",
       "| 4.6    | 3.1    | 1.5    | 0.2    | setosa |\n",
       "| 5.0    | 3.6    | 1.4    | 0.2    | setosa |\n",
       "| 5.4    | 3.9    | 1.7    | 0.4    | setosa |\n",
       "\n"
      ],
      "text/plain": [
       "  Sepal.Length Sepal.Width Petal.Length Petal.Width Species\n",
       "1 5.1          3.5         1.4          0.2         setosa \n",
       "2 4.9          3.0         1.4          0.2         setosa \n",
       "3 4.7          3.2         1.3          0.2         setosa \n",
       "4 4.6          3.1         1.5          0.2         setosa \n",
       "5 5.0          3.6         1.4          0.2         setosa \n",
       "6 5.4          3.9         1.7          0.4         setosa "
      ]
     },
     "metadata": {},
     "output_type": "display_data"
    },
    {
     "data": {
      "text/html": [
       "<table>\n",
       "<thead><tr><th></th><th scope=col>Sepal.Length</th><th scope=col>Sepal.Width</th><th scope=col>Petal.Length</th><th scope=col>Petal.Width</th><th scope=col>Species</th></tr></thead>\n",
       "<tbody>\n",
       "\t<tr><th scope=row>45</th><td>5.1   </td><td>3.8   </td><td>1.9   </td><td>0.4   </td><td>setosa</td></tr>\n",
       "\t<tr><th scope=row>46</th><td>4.8   </td><td>3.0   </td><td>1.4   </td><td>0.3   </td><td>setosa</td></tr>\n",
       "\t<tr><th scope=row>47</th><td>5.1   </td><td>3.8   </td><td>1.6   </td><td>0.2   </td><td>setosa</td></tr>\n",
       "\t<tr><th scope=row>48</th><td>4.6   </td><td>3.2   </td><td>1.4   </td><td>0.2   </td><td>setosa</td></tr>\n",
       "\t<tr><th scope=row>49</th><td>5.3   </td><td>3.7   </td><td>1.5   </td><td>0.2   </td><td>setosa</td></tr>\n",
       "\t<tr><th scope=row>50</th><td>5.0   </td><td>3.3   </td><td>1.4   </td><td>0.2   </td><td>setosa</td></tr>\n",
       "</tbody>\n",
       "</table>\n"
      ],
      "text/latex": [
       "\\begin{tabular}{r|lllll}\n",
       "  & Sepal.Length & Sepal.Width & Petal.Length & Petal.Width & Species\\\\\n",
       "\\hline\n",
       "\t45 & 5.1    & 3.8    & 1.9    & 0.4    & setosa\\\\\n",
       "\t46 & 4.8    & 3.0    & 1.4    & 0.3    & setosa\\\\\n",
       "\t47 & 5.1    & 3.8    & 1.6    & 0.2    & setosa\\\\\n",
       "\t48 & 4.6    & 3.2    & 1.4    & 0.2    & setosa\\\\\n",
       "\t49 & 5.3    & 3.7    & 1.5    & 0.2    & setosa\\\\\n",
       "\t50 & 5.0    & 3.3    & 1.4    & 0.2    & setosa\\\\\n",
       "\\end{tabular}\n"
      ],
      "text/markdown": [
       "\n",
       "| <!--/--> | Sepal.Length | Sepal.Width | Petal.Length | Petal.Width | Species |\n",
       "|---|---|---|---|---|---|\n",
       "| 45 | 5.1    | 3.8    | 1.9    | 0.4    | setosa |\n",
       "| 46 | 4.8    | 3.0    | 1.4    | 0.3    | setosa |\n",
       "| 47 | 5.1    | 3.8    | 1.6    | 0.2    | setosa |\n",
       "| 48 | 4.6    | 3.2    | 1.4    | 0.2    | setosa |\n",
       "| 49 | 5.3    | 3.7    | 1.5    | 0.2    | setosa |\n",
       "| 50 | 5.0    | 3.3    | 1.4    | 0.2    | setosa |\n",
       "\n"
      ],
      "text/plain": [
       "   Sepal.Length Sepal.Width Petal.Length Petal.Width Species\n",
       "45 5.1          3.8         1.9          0.4         setosa \n",
       "46 4.8          3.0         1.4          0.3         setosa \n",
       "47 5.1          3.8         1.6          0.2         setosa \n",
       "48 4.6          3.2         1.4          0.2         setosa \n",
       "49 5.3          3.7         1.5          0.2         setosa \n",
       "50 5.0          3.3         1.4          0.2         setosa "
      ]
     },
     "metadata": {},
     "output_type": "display_data"
    },
    {
     "name": "stdout",
     "output_type": "stream",
     "text": [
      "'data.frame':\t50 obs. of  5 variables:\n",
      " $ Sepal.Length: num  5.1 4.9 4.7 4.6 5 5.4 4.6 5 4.4 4.9 ...\n",
      " $ Sepal.Width : num  3.5 3 3.2 3.1 3.6 3.9 3.4 3.4 2.9 3.1 ...\n",
      " $ Petal.Length: num  1.4 1.4 1.3 1.5 1.4 1.7 1.4 1.5 1.4 1.5 ...\n",
      " $ Petal.Width : num  0.2 0.2 0.2 0.2 0.2 0.4 0.3 0.2 0.2 0.1 ...\n",
      " $ Species     : Factor w/ 1 level \"setosa\": 1 1 1 1 1 1 1 1 1 1 ...\n"
     ]
    }
   ],
   "source": [
    "# iris에서 Species가 setosa인것만 추출하여 iris_setosa라는 데이터 프레임 만들기\n",
    "# 데이터를 정제해도 본래의 데이터형태는 변하지않음\n",
    "# factor()를 통해 변경시켜주어야함\n",
    "\n",
    "iris_setosa <- subset(iris, Species == 'setosa')\n",
    "head(iris_setosa)\n",
    "tail(iris_setosa)\n",
    "iris_setosa$Species = factor(iris_setosa$Species)\n",
    "str(iris_setosa)"
   ]
  },
  {
   "cell_type": "code",
   "execution_count": 42,
   "id": "c9a0011a",
   "metadata": {
    "vscode": {
     "languageId": "r"
    }
   },
   "outputs": [
    {
     "data": {
      "text/html": [
       "<table>\n",
       "<thead><tr><th></th><th scope=col>Sepal.Length</th><th scope=col>Sepal.Width</th><th scope=col>Petal.Length</th><th scope=col>Petal.Width</th><th scope=col>Species</th></tr></thead>\n",
       "<tbody>\n",
       "\t<tr><th scope=row>51</th><td>7.0       </td><td>3.2       </td><td>4.7       </td><td>1.4       </td><td>versicolor</td></tr>\n",
       "\t<tr><th scope=row>52</th><td>6.4       </td><td>3.2       </td><td>4.5       </td><td>1.5       </td><td>versicolor</td></tr>\n",
       "\t<tr><th scope=row>53</th><td>6.9       </td><td>3.1       </td><td>4.9       </td><td>1.5       </td><td>versicolor</td></tr>\n",
       "\t<tr><th scope=row>54</th><td>5.5       </td><td>2.3       </td><td>4.0       </td><td>1.3       </td><td>versicolor</td></tr>\n",
       "\t<tr><th scope=row>55</th><td>6.5       </td><td>2.8       </td><td>4.6       </td><td>1.5       </td><td>versicolor</td></tr>\n",
       "\t<tr><th scope=row>56</th><td>5.7       </td><td>2.8       </td><td>4.5       </td><td>1.3       </td><td>versicolor</td></tr>\n",
       "</tbody>\n",
       "</table>\n"
      ],
      "text/latex": [
       "\\begin{tabular}{r|lllll}\n",
       "  & Sepal.Length & Sepal.Width & Petal.Length & Petal.Width & Species\\\\\n",
       "\\hline\n",
       "\t51 & 7.0        & 3.2        & 4.7        & 1.4        & versicolor\\\\\n",
       "\t52 & 6.4        & 3.2        & 4.5        & 1.5        & versicolor\\\\\n",
       "\t53 & 6.9        & 3.1        & 4.9        & 1.5        & versicolor\\\\\n",
       "\t54 & 5.5        & 2.3        & 4.0        & 1.3        & versicolor\\\\\n",
       "\t55 & 6.5        & 2.8        & 4.6        & 1.5        & versicolor\\\\\n",
       "\t56 & 5.7        & 2.8        & 4.5        & 1.3        & versicolor\\\\\n",
       "\\end{tabular}\n"
      ],
      "text/markdown": [
       "\n",
       "| <!--/--> | Sepal.Length | Sepal.Width | Petal.Length | Petal.Width | Species |\n",
       "|---|---|---|---|---|---|\n",
       "| 51 | 7.0        | 3.2        | 4.7        | 1.4        | versicolor |\n",
       "| 52 | 6.4        | 3.2        | 4.5        | 1.5        | versicolor |\n",
       "| 53 | 6.9        | 3.1        | 4.9        | 1.5        | versicolor |\n",
       "| 54 | 5.5        | 2.3        | 4.0        | 1.3        | versicolor |\n",
       "| 55 | 6.5        | 2.8        | 4.6        | 1.5        | versicolor |\n",
       "| 56 | 5.7        | 2.8        | 4.5        | 1.3        | versicolor |\n",
       "\n"
      ],
      "text/plain": [
       "   Sepal.Length Sepal.Width Petal.Length Petal.Width Species   \n",
       "51 7.0          3.2         4.7          1.4         versicolor\n",
       "52 6.4          3.2         4.5          1.5         versicolor\n",
       "53 6.9          3.1         4.9          1.5         versicolor\n",
       "54 5.5          2.3         4.0          1.3         versicolor\n",
       "55 6.5          2.8         4.6          1.5         versicolor\n",
       "56 5.7          2.8         4.5          1.3         versicolor"
      ]
     },
     "metadata": {},
     "output_type": "display_data"
    },
    {
     "name": "stdout",
     "output_type": "stream",
     "text": [
      "'data.frame':\t50 obs. of  5 variables:\n",
      " $ Sepal.Length: num  7 6.4 6.9 5.5 6.5 5.7 6.3 4.9 6.6 5.2 ...\n",
      " $ Sepal.Width : num  3.2 3.2 3.1 2.3 2.8 2.8 3.3 2.4 2.9 2.7 ...\n",
      " $ Petal.Length: num  4.7 4.5 4.9 4 4.6 4.5 4.7 3.3 4.6 3.9 ...\n",
      " $ Petal.Width : num  1.4 1.5 1.5 1.3 1.5 1.3 1.6 1 1.3 1.4 ...\n",
      " $ Species     : Factor w/ 3 levels \"setosa\",\"versicolor\",..: 2 2 2 2 2 2 2 2 2 2 ...\n"
     ]
    }
   ],
   "source": [
    "# iris에서 Species가 versicolor인것만 추출하여 iris_versicolor라는 데이터프레임 만들기\n",
    "\n",
    "iris_versicolor <- subset(iris, Species == \"versicolor\")\n",
    "head(iris_versicolor)\n",
    "str(iris_versicolor)\n",
    "iris_versicolor$Species = factor(iris_versicolor$Species)"
   ]
  },
  {
   "cell_type": "code",
   "execution_count": 43,
   "id": "30d909ad",
   "metadata": {
    "vscode": {
     "languageId": "r"
    }
   },
   "outputs": [
    {
     "name": "stdout",
     "output_type": "stream",
     "text": [
      "'data.frame':\t50 obs. of  5 variables:\n",
      " $ Sepal.Length: num  7 6.4 6.9 5.5 6.5 5.7 6.3 4.9 6.6 5.2 ...\n",
      " $ Sepal.Width : num  3.2 3.2 3.1 2.3 2.8 2.8 3.3 2.4 2.9 2.7 ...\n",
      " $ Petal.Length: num  4.7 4.5 4.9 4 4.6 4.5 4.7 3.3 4.6 3.9 ...\n",
      " $ Petal.Width : num  1.4 1.5 1.5 1.3 1.5 1.3 1.6 1 1.3 1.4 ...\n",
      " $ Species     : Factor w/ 1 level \"versicolor\": 1 1 1 1 1 1 1 1 1 1 ...\n"
     ]
    }
   ],
   "source": [
    "str(iris_versicolor)"
   ]
  },
  {
   "cell_type": "code",
   "execution_count": 44,
   "id": "75ff0c81",
   "metadata": {
    "vscode": {
     "languageId": "r"
    }
   },
   "outputs": [
    {
     "data": {
      "text/html": [
       "<table>\n",
       "<thead><tr><th scope=col>Sepal.Length</th><th scope=col>Sepal.Width</th><th scope=col>Petal.Length</th><th scope=col>Petal.Width</th><th scope=col>Species</th></tr></thead>\n",
       "<tbody>\n",
       "\t<tr><td>5.1   </td><td>3.5   </td><td>1.4   </td><td>0.2   </td><td>setosa</td></tr>\n",
       "\t<tr><td>4.9   </td><td>3.0   </td><td>1.4   </td><td>0.2   </td><td>setosa</td></tr>\n",
       "\t<tr><td>4.7   </td><td>3.2   </td><td>1.3   </td><td>0.2   </td><td>setosa</td></tr>\n",
       "\t<tr><td>4.6   </td><td>3.1   </td><td>1.5   </td><td>0.2   </td><td>setosa</td></tr>\n",
       "\t<tr><td>5.0   </td><td>3.6   </td><td>1.4   </td><td>0.2   </td><td>setosa</td></tr>\n",
       "\t<tr><td>5.4   </td><td>3.9   </td><td>1.7   </td><td>0.4   </td><td>setosa</td></tr>\n",
       "</tbody>\n",
       "</table>\n"
      ],
      "text/latex": [
       "\\begin{tabular}{r|lllll}\n",
       " Sepal.Length & Sepal.Width & Petal.Length & Petal.Width & Species\\\\\n",
       "\\hline\n",
       "\t 5.1    & 3.5    & 1.4    & 0.2    & setosa\\\\\n",
       "\t 4.9    & 3.0    & 1.4    & 0.2    & setosa\\\\\n",
       "\t 4.7    & 3.2    & 1.3    & 0.2    & setosa\\\\\n",
       "\t 4.6    & 3.1    & 1.5    & 0.2    & setosa\\\\\n",
       "\t 5.0    & 3.6    & 1.4    & 0.2    & setosa\\\\\n",
       "\t 5.4    & 3.9    & 1.7    & 0.4    & setosa\\\\\n",
       "\\end{tabular}\n"
      ],
      "text/markdown": [
       "\n",
       "| Sepal.Length | Sepal.Width | Petal.Length | Petal.Width | Species |\n",
       "|---|---|---|---|---|\n",
       "| 5.1    | 3.5    | 1.4    | 0.2    | setosa |\n",
       "| 4.9    | 3.0    | 1.4    | 0.2    | setosa |\n",
       "| 4.7    | 3.2    | 1.3    | 0.2    | setosa |\n",
       "| 4.6    | 3.1    | 1.5    | 0.2    | setosa |\n",
       "| 5.0    | 3.6    | 1.4    | 0.2    | setosa |\n",
       "| 5.4    | 3.9    | 1.7    | 0.4    | setosa |\n",
       "\n"
      ],
      "text/plain": [
       "  Sepal.Length Sepal.Width Petal.Length Petal.Width Species\n",
       "1 5.1          3.5         1.4          0.2         setosa \n",
       "2 4.9          3.0         1.4          0.2         setosa \n",
       "3 4.7          3.2         1.3          0.2         setosa \n",
       "4 4.6          3.1         1.5          0.2         setosa \n",
       "5 5.0          3.6         1.4          0.2         setosa \n",
       "6 5.4          3.9         1.7          0.4         setosa "
      ]
     },
     "metadata": {},
     "output_type": "display_data"
    },
    {
     "data": {
      "text/html": [
       "22"
      ],
      "text/latex": [
       "22"
      ],
      "text/markdown": [
       "22"
      ],
      "text/plain": [
       "[1] 22"
      ]
     },
     "metadata": {},
     "output_type": "display_data"
    }
   ],
   "source": [
    "# iris Species가 setosa이고 Sepal.Length가 5보다 큰 sample의 갯수는?\n",
    "# data.frame은 subset과 nrow(ncol)을 많이 사용함\n",
    "head(iris)\n",
    "\n",
    "nrow(subset(iris, Species==\"setosa\" & Sepal.Length > 5))"
   ]
  },
  {
   "cell_type": "code",
   "execution_count": 45,
   "id": "e48e8a4d",
   "metadata": {
    "vscode": {
     "languageId": "r"
    }
   },
   "outputs": [
    {
     "data": {
      "text/html": [
       "<table>\n",
       "<thead><tr><th scope=col>Sepal.Length</th><th scope=col>Sepal.Width</th><th scope=col>Petal.Length</th><th scope=col>Petal.Width</th></tr></thead>\n",
       "<tbody>\n",
       "\t<tr><td>5.1</td><td>3.5</td><td>1.4</td><td>0.2</td></tr>\n",
       "\t<tr><td>4.9</td><td>3.0</td><td>1.4</td><td>0.2</td></tr>\n",
       "\t<tr><td>4.7</td><td>3.2</td><td>1.3</td><td>0.2</td></tr>\n",
       "\t<tr><td>4.6</td><td>3.1</td><td>1.5</td><td>0.2</td></tr>\n",
       "\t<tr><td>5.0</td><td>3.6</td><td>1.4</td><td>0.2</td></tr>\n",
       "\t<tr><td>5.4</td><td>3.9</td><td>1.7</td><td>0.4</td></tr>\n",
       "</tbody>\n",
       "</table>\n"
      ],
      "text/latex": [
       "\\begin{tabular}{r|llll}\n",
       " Sepal.Length & Sepal.Width & Petal.Length & Petal.Width\\\\\n",
       "\\hline\n",
       "\t 5.1 & 3.5 & 1.4 & 0.2\\\\\n",
       "\t 4.9 & 3.0 & 1.4 & 0.2\\\\\n",
       "\t 4.7 & 3.2 & 1.3 & 0.2\\\\\n",
       "\t 4.6 & 3.1 & 1.5 & 0.2\\\\\n",
       "\t 5.0 & 3.6 & 1.4 & 0.2\\\\\n",
       "\t 5.4 & 3.9 & 1.7 & 0.4\\\\\n",
       "\\end{tabular}\n"
      ],
      "text/markdown": [
       "\n",
       "| Sepal.Length | Sepal.Width | Petal.Length | Petal.Width |\n",
       "|---|---|---|---|\n",
       "| 5.1 | 3.5 | 1.4 | 0.2 |\n",
       "| 4.9 | 3.0 | 1.4 | 0.2 |\n",
       "| 4.7 | 3.2 | 1.3 | 0.2 |\n",
       "| 4.6 | 3.1 | 1.5 | 0.2 |\n",
       "| 5.0 | 3.6 | 1.4 | 0.2 |\n",
       "| 5.4 | 3.9 | 1.7 | 0.4 |\n",
       "\n"
      ],
      "text/plain": [
       "  Sepal.Length Sepal.Width Petal.Length Petal.Width\n",
       "1 5.1          3.5         1.4          0.2        \n",
       "2 4.9          3.0         1.4          0.2        \n",
       "3 4.7          3.2         1.3          0.2        \n",
       "4 4.6          3.1         1.5          0.2        \n",
       "5 5.0          3.6         1.4          0.2        \n",
       "6 5.4          3.9         1.7          0.4        "
      ]
     },
     "metadata": {},
     "output_type": "display_data"
    }
   ],
   "source": [
    "# subset으로 컬럼 지우기\n",
    "head(subset(iris, select = -Species))"
   ]
  },
  {
   "cell_type": "markdown",
   "id": "499d30e9",
   "metadata": {},
   "source": [
    "---\n",
    "# 그룹연산 함수"
   ]
  },
  {
   "cell_type": "code",
   "execution_count": 46,
   "id": "2d7c02b2",
   "metadata": {
    "vscode": {
     "languageId": "r"
    }
   },
   "outputs": [
    {
     "data": {
      "text/html": [
       "<table>\n",
       "<thead><tr><th scope=col>Species</th><th scope=col>Sepal.Width</th></tr></thead>\n",
       "<tbody>\n",
       "\t<tr><td>setosa    </td><td>3.428     </td></tr>\n",
       "\t<tr><td>versicolor</td><td>2.770     </td></tr>\n",
       "\t<tr><td>virginica </td><td>2.974     </td></tr>\n",
       "</tbody>\n",
       "</table>\n"
      ],
      "text/latex": [
       "\\begin{tabular}{r|ll}\n",
       " Species & Sepal.Width\\\\\n",
       "\\hline\n",
       "\t setosa     & 3.428     \\\\\n",
       "\t versicolor & 2.770     \\\\\n",
       "\t virginica  & 2.974     \\\\\n",
       "\\end{tabular}\n"
      ],
      "text/markdown": [
       "\n",
       "| Species | Sepal.Width |\n",
       "|---|---|\n",
       "| setosa     | 3.428      |\n",
       "| versicolor | 2.770      |\n",
       "| virginica  | 2.974      |\n",
       "\n"
      ],
      "text/plain": [
       "  Species    Sepal.Width\n",
       "1 setosa     3.428      \n",
       "2 versicolor 2.770      \n",
       "3 virginica  2.974      "
      ]
     },
     "metadata": {},
     "output_type": "display_data"
    }
   ],
   "source": [
    "# == group by와 비슷\n",
    "# ~ 연산자\n",
    "# iris에서 Species 기준으로 Sepal.Width의 평균 구하기\n",
    "\n",
    "aggregate(Sepal.Width ~ Species, iris, mean)"
   ]
  },
  {
   "cell_type": "markdown",
   "id": "b2229842",
   "metadata": {},
   "source": [
    "---\n",
    "# 서울시 교통사고 조사 데이터셋"
   ]
  },
  {
   "cell_type": "code",
   "execution_count": 47,
   "id": "85cfe04e",
   "metadata": {
    "vscode": {
     "languageId": "r"
    }
   },
   "outputs": [
    {
     "ename": "ERROR",
     "evalue": "Error in read.table(file = file, header = header, sep = sep, quote = quote, : more columns than column names\n",
     "output_type": "error",
     "traceback": [
      "Error in read.table(file = file, header = header, sep = sep, quote = quote, : more columns than column names\nTraceback:\n",
      "1. read.csv(\"../Data//newSeoul2019.csv\")",
      "2. read.table(file = file, header = header, sep = sep, quote = quote, \n .     dec = dec, fill = fill, comment.char = comment.char, ...)",
      "3. stop(\"more columns than column names\")"
     ]
    }
   ],
   "source": [
    "# 데이터셋을 불러와서 seoul이라는 변수에 넣기\n",
    "\n",
    "seoul <- read.csv(\"../Data//newSeoul2019.csv\")\n",
    "head(seoul)\n"
   ]
  },
  {
   "cell_type": "code",
   "execution_count": 48,
   "id": "f695b07a",
   "metadata": {
    "vscode": {
     "languageId": "r"
    }
   },
   "outputs": [
    {
     "ename": "ERROR",
     "evalue": "Error in tail(seoul): 객체 'seoul'를 찾을 수 없습니다\n",
     "output_type": "error",
     "traceback": [
      "Error in tail(seoul): 객체 'seoul'를 찾을 수 없습니다\nTraceback:\n",
      "1. tail(seoul)"
     ]
    }
   ],
   "source": [
    "tail(seoul)\n"
   ]
  },
  {
   "cell_type": "code",
   "execution_count": null,
   "id": "3da98791",
   "metadata": {
    "vscode": {
     "languageId": "r"
    }
   },
   "outputs": [
    {
     "data": {
      "text/plain": [
       "      년도            월           자치구명       발생건수        사망자수     \n",
       " Min.   :2011   Min.   : 1.00   강남구 : 108   Min.   : 45.0   Min.   : 0.000  \n",
       " 1st Qu.:2013   1st Qu.: 3.75   강동구 : 108   1st Qu.:100.0   1st Qu.: 0.000  \n",
       " Median :2015   Median : 6.50   강북구 : 108   Median :122.0   Median : 1.000  \n",
       " Mean   :2015   Mean   : 6.50   강서구 : 108   Mean   :133.3   Mean   : 1.207  \n",
       " 3rd Qu.:2017   3rd Qu.: 9.25   관악구 : 108   3rd Qu.:149.0   3rd Qu.: 2.000  \n",
       " Max.   :2019   Max.   :12.00   광진구 : 108   Max.   :383.0   Max.   :10.000  \n",
       "                                (Other):2052                                   \n",
       "    부상자수    \n",
       " Min.   : 55.0  \n",
       " 1st Qu.:138.0  \n",
       " Median :168.0  \n",
       " Mean   :187.4  \n",
       " 3rd Qu.:208.0  \n",
       " Max.   :552.0  \n",
       "                "
      ]
     },
     "metadata": {},
     "output_type": "display_data"
    }
   ],
   "source": [
    "summary(seoul)\n"
   ]
  },
  {
   "cell_type": "code",
   "execution_count": null,
   "id": "da4be90c",
   "metadata": {
    "vscode": {
     "languageId": "r"
    }
   },
   "outputs": [
    {
     "name": "stdout",
     "output_type": "stream",
     "text": [
      "'data.frame':\t2700 obs. of  6 variables:\n",
      " $ 년도    : int  2011 2011 2011 2011 2011 2011 2011 2011 2011 2011 ...\n",
      " $ 월      : int  1 2 3 4 5 6 7 8 9 10 ...\n",
      " $ 자치구명: Factor w/ 25 levels \"강남구\",\"강동구\",..: 23 23 23 23 23 23 23 23 23 23 ...\n",
      " $ 발생건수: int  115 99 116 110 122 116 103 122 121 135 ...\n",
      " $ 사망자수: int  2 0 0 1 0 3 1 1 2 2 ...\n",
      " $ 부상자수: int  165 134 162 153 157 163 154 171 166 193 ...\n"
     ]
    }
   ],
   "source": [
    "str(seoul)"
   ]
  },
  {
   "cell_type": "code",
   "execution_count": null,
   "id": "f026cbc5",
   "metadata": {
    "vscode": {
     "languageId": "r"
    }
   },
   "outputs": [
    {
     "data": {
      "text/html": [
       "0"
      ],
      "text/latex": [
       "0"
      ],
      "text/markdown": [
       "0"
      ],
      "text/plain": [
       "[1] 0"
      ]
     },
     "metadata": {},
     "output_type": "display_data"
    },
    {
     "name": "stdout",
     "output_type": "stream",
     "text": [
      "년도 0 \n",
      "월 0 \n",
      "자치구명 0 \n",
      "발생건수 0 \n",
      "사망자수 0 \n",
      "부상자수 0 \n"
     ]
    }
   ],
   "source": [
    "# NA 확인\n",
    "sum(is.na(seoul))\n",
    "\n",
    "for(i in 1:ncol(seoul)){\n",
    "   naCount <- sum(is.na(seoul[,i]))\n",
    "    \n",
    "    cat(colnames(seoul)[i], naCount, \"\\n\")\n",
    "}"
   ]
  },
  {
   "cell_type": "markdown",
   "id": "89373821",
   "metadata": {},
   "source": [
    "---\n",
    "# 컬럼별 데이터 확인\n",
    "\n"
   ]
  },
  {
   "cell_type": "code",
   "execution_count": null,
   "id": "c1453ca7",
   "metadata": {
    "vscode": {
     "languageId": "r"
    }
   },
   "outputs": [
    {
     "data": {
      "text/plain": [
       "\n",
       "2011 2012 2013 2014 2015 2016 2017 2018 2019 \n",
       " 300  300  300  300  300  300  300  300  300 "
      ]
     },
     "metadata": {},
     "output_type": "display_data"
    }
   ],
   "source": [
    "table(seoul$년도)"
   ]
  },
  {
   "cell_type": "code",
   "execution_count": null,
   "id": "a77915ca",
   "metadata": {
    "vscode": {
     "languageId": "r"
    }
   },
   "outputs": [
    {
     "data": {
      "text/plain": [
       "\n",
       "  1   2   3   4   5   6   7   8   9  10  11  12 \n",
       "225 225 225 225 225 225 225 225 225 225 225 225 "
      ]
     },
     "metadata": {},
     "output_type": "display_data"
    }
   ],
   "source": [
    "# 월\n",
    "table(seoul$월)"
   ]
  },
  {
   "cell_type": "code",
   "execution_count": null,
   "id": "355d7101",
   "metadata": {
    "vscode": {
     "languageId": "r"
    }
   },
   "outputs": [
    {
     "data": {
      "text/plain": [
       "\n",
       "  강남구   강동구   강북구   강서구   관악구   광진구   구로구   금천구 \n",
       "     108      108      108      108      108      108      108      108 \n",
       "  노원구   도봉구 동대문구   동작구   마포구 서대문구   서초구   성동구 \n",
       "     108      108      108      108      108      108      108      108 \n",
       "  성북구   송파구   양천구 영등포구   용산구   은평구   종로구     중구 \n",
       "     108      108      108      108      108      108      108      108 \n",
       "  중랑구 \n",
       "     108 "
      ]
     },
     "metadata": {},
     "output_type": "display_data"
    }
   ],
   "source": [
    "# 자치구\n",
    "\n",
    "table(seoul$자치구)"
   ]
  },
  {
   "cell_type": "code",
   "execution_count": null,
   "id": "7c99c021",
   "metadata": {
    "vscode": {
     "languageId": "r"
    }
   },
   "outputs": [
    {
     "data": {
      "text/html": [
       "<table>\n",
       "<thead><tr><th scope=col>자치구명</th><th scope=col>발생건수</th></tr></thead>\n",
       "<tbody>\n",
       "\t<tr><td>강남구  </td><td>306.3611</td></tr>\n",
       "\t<tr><td>강동구  </td><td>118.5370</td></tr>\n",
       "\t<tr><td>강북구  </td><td>101.7870</td></tr>\n",
       "\t<tr><td>강서구  </td><td>145.4722</td></tr>\n",
       "\t<tr><td>관악구  </td><td>128.3889</td></tr>\n",
       "\t<tr><td>광진구  </td><td>103.0741</td></tr>\n",
       "</tbody>\n",
       "</table>\n"
      ],
      "text/latex": [
       "\\begin{tabular}{r|ll}\n",
       " 자치구명 & 발생건수\\\\\n",
       "\\hline\n",
       "\t 강남구   & 306.3611\\\\\n",
       "\t 강동구   & 118.5370\\\\\n",
       "\t 강북구   & 101.7870\\\\\n",
       "\t 강서구   & 145.4722\\\\\n",
       "\t 관악구   & 128.3889\\\\\n",
       "\t 광진구   & 103.0741\\\\\n",
       "\\end{tabular}\n"
      ],
      "text/markdown": [
       "\n",
       "| 자치구명 | 발생건수 |\n",
       "|---|---|\n",
       "| 강남구   | 306.3611 |\n",
       "| 강동구   | 118.5370 |\n",
       "| 강북구   | 101.7870 |\n",
       "| 강서구   | 145.4722 |\n",
       "| 관악구   | 128.3889 |\n",
       "| 광진구   | 103.0741 |\n",
       "\n"
      ],
      "text/plain": [
       "  자치구명 발생건수\n",
       "1 강남구   306.3611\n",
       "2 강동구   118.5370\n",
       "3 강북구   101.7870\n",
       "4 강서구   145.4722\n",
       "5 관악구   128.3889\n",
       "6 광진구   103.0741"
      ]
     },
     "metadata": {},
     "output_type": "display_data"
    }
   ],
   "source": [
    "# 자치구별 발생건수의 평균\n",
    "\n",
    "regionAcc.mean <- aggregate(발생건수 ~ 자치구명, seoul, mean)\n",
    "head(regionAcc.mean)"
   ]
  },
  {
   "cell_type": "code",
   "execution_count": null,
   "id": "baac6b00",
   "metadata": {
    "vscode": {
     "languageId": "r"
    }
   },
   "outputs": [
    {
     "data": {
      "text/html": [
       "<table>\n",
       "<thead><tr><th scope=col>자치구명</th><th scope=col>발생건수</th></tr></thead>\n",
       "<tbody>\n",
       "\t<tr><td>강남구   </td><td>306.36111</td></tr>\n",
       "\t<tr><td>송파구   </td><td>224.75926</td></tr>\n",
       "\t<tr><td>영등포구 </td><td>194.64815</td></tr>\n",
       "\t<tr><td>서초구   </td><td>186.48148</td></tr>\n",
       "\t<tr><td>동대문구 </td><td>153.64815</td></tr>\n",
       "\t<tr><td>강서구   </td><td>145.47222</td></tr>\n",
       "\t<tr><td>마포구   </td><td>141.51852</td></tr>\n",
       "\t<tr><td>중랑구   </td><td>138.46296</td></tr>\n",
       "\t<tr><td>성북구   </td><td>130.85185</td></tr>\n",
       "\t<tr><td>노원구   </td><td>129.21296</td></tr>\n",
       "\t<tr><td>관악구   </td><td>128.38889</td></tr>\n",
       "\t<tr><td>구로구   </td><td>126.09259</td></tr>\n",
       "\t<tr><td>양천구   </td><td>120.68519</td></tr>\n",
       "\t<tr><td>강동구   </td><td>118.53704</td></tr>\n",
       "\t<tr><td>동작구   </td><td>112.64815</td></tr>\n",
       "\t<tr><td>용산구   </td><td>110.29630</td></tr>\n",
       "\t<tr><td>중구     </td><td>110.11111</td></tr>\n",
       "\t<tr><td>종로구   </td><td>106.97222</td></tr>\n",
       "\t<tr><td>은평구   </td><td>104.32407</td></tr>\n",
       "\t<tr><td>광진구   </td><td>103.07407</td></tr>\n",
       "\t<tr><td>강북구   </td><td>101.78704</td></tr>\n",
       "\t<tr><td>성동구   </td><td> 93.19444</td></tr>\n",
       "\t<tr><td>서대문구 </td><td> 89.71296</td></tr>\n",
       "\t<tr><td>금천구   </td><td> 78.69444</td></tr>\n",
       "\t<tr><td>도봉구   </td><td> 76.40741</td></tr>\n",
       "</tbody>\n",
       "</table>\n"
      ],
      "text/latex": [
       "\\begin{tabular}{r|ll}\n",
       " 자치구명 & 발생건수\\\\\n",
       "\\hline\n",
       "\t 강남구    & 306.36111\\\\\n",
       "\t 송파구    & 224.75926\\\\\n",
       "\t 영등포구  & 194.64815\\\\\n",
       "\t 서초구    & 186.48148\\\\\n",
       "\t 동대문구  & 153.64815\\\\\n",
       "\t 강서구    & 145.47222\\\\\n",
       "\t 마포구    & 141.51852\\\\\n",
       "\t 중랑구    & 138.46296\\\\\n",
       "\t 성북구    & 130.85185\\\\\n",
       "\t 노원구    & 129.21296\\\\\n",
       "\t 관악구    & 128.38889\\\\\n",
       "\t 구로구    & 126.09259\\\\\n",
       "\t 양천구    & 120.68519\\\\\n",
       "\t 강동구    & 118.53704\\\\\n",
       "\t 동작구    & 112.64815\\\\\n",
       "\t 용산구    & 110.29630\\\\\n",
       "\t 중구      & 110.11111\\\\\n",
       "\t 종로구    & 106.97222\\\\\n",
       "\t 은평구    & 104.32407\\\\\n",
       "\t 광진구    & 103.07407\\\\\n",
       "\t 강북구    & 101.78704\\\\\n",
       "\t 성동구    &  93.19444\\\\\n",
       "\t 서대문구  &  89.71296\\\\\n",
       "\t 금천구    &  78.69444\\\\\n",
       "\t 도봉구    &  76.40741\\\\\n",
       "\\end{tabular}\n"
      ],
      "text/markdown": [
       "\n",
       "| 자치구명 | 발생건수 |\n",
       "|---|---|\n",
       "| 강남구    | 306.36111 |\n",
       "| 송파구    | 224.75926 |\n",
       "| 영등포구  | 194.64815 |\n",
       "| 서초구    | 186.48148 |\n",
       "| 동대문구  | 153.64815 |\n",
       "| 강서구    | 145.47222 |\n",
       "| 마포구    | 141.51852 |\n",
       "| 중랑구    | 138.46296 |\n",
       "| 성북구    | 130.85185 |\n",
       "| 노원구    | 129.21296 |\n",
       "| 관악구    | 128.38889 |\n",
       "| 구로구    | 126.09259 |\n",
       "| 양천구    | 120.68519 |\n",
       "| 강동구    | 118.53704 |\n",
       "| 동작구    | 112.64815 |\n",
       "| 용산구    | 110.29630 |\n",
       "| 중구      | 110.11111 |\n",
       "| 종로구    | 106.97222 |\n",
       "| 은평구    | 104.32407 |\n",
       "| 광진구    | 103.07407 |\n",
       "| 강북구    | 101.78704 |\n",
       "| 성동구    |  93.19444 |\n",
       "| 서대문구  |  89.71296 |\n",
       "| 금천구    |  78.69444 |\n",
       "| 도봉구    |  76.40741 |\n",
       "\n"
      ],
      "text/plain": [
       "   자치구명 발생건수 \n",
       "1  강남구   306.36111\n",
       "2  송파구   224.75926\n",
       "3  영등포구 194.64815\n",
       "4  서초구   186.48148\n",
       "5  동대문구 153.64815\n",
       "6  강서구   145.47222\n",
       "7  마포구   141.51852\n",
       "8  중랑구   138.46296\n",
       "9  성북구   130.85185\n",
       "10 노원구   129.21296\n",
       "11 관악구   128.38889\n",
       "12 구로구   126.09259\n",
       "13 양천구   120.68519\n",
       "14 강동구   118.53704\n",
       "15 동작구   112.64815\n",
       "16 용산구   110.29630\n",
       "17 중구     110.11111\n",
       "18 종로구   106.97222\n",
       "19 은평구   104.32407\n",
       "20 광진구   103.07407\n",
       "21 강북구   101.78704\n",
       "22 성동구    93.19444\n",
       "23 서대문구  89.71296\n",
       "24 금천구    78.69444\n",
       "25 도봉구    76.40741"
      ]
     },
     "metadata": {},
     "output_type": "display_data"
    }
   ],
   "source": [
    "# regionAcc.mean을 발생건수 기준으로 내림차순 정렬하기\n",
    "\n",
    "arrange(regionAcc.mean, )\n",
    "\n",
    "arrange(regionAcc.mean, desc(발생건수))"
   ]
  },
  {
   "cell_type": "code",
   "execution_count": null,
   "id": "6bca0840",
   "metadata": {
    "vscode": {
     "languageId": "r"
    }
   },
   "outputs": [],
   "source": []
  }
 ],
 "metadata": {
  "kernelspec": {
   "display_name": "R",
   "language": "R",
   "name": "ir"
  },
  "language_info": {
   "codemirror_mode": "r",
   "file_extension": ".r",
   "mimetype": "text/x-r-source",
   "name": "R",
   "pygments_lexer": "r",
   "version": "3.6.1"
  }
 },
 "nbformat": 4,
 "nbformat_minor": 5
}
