{
 "cells": [
  {
   "cell_type": "code",
   "execution_count": 1,
   "id": "151d3795",
   "metadata": {
    "vscode": {
     "languageId": "r"
    }
   },
   "outputs": [],
   "source": [
    "no <- 1:4\n",
    "name <- c(\"Apple\", \"Banana\", \"Peach\", \"Berry\")\n",
    "price <- c(500, 200, 200, 50)\n",
    "qty <- c(5,4,3,2)"
   ]
  },
  {
   "cell_type": "code",
   "execution_count": 2,
   "id": "08b53681",
   "metadata": {
    "vscode": {
     "languageId": "r"
    }
   },
   "outputs": [
    {
     "data": {
      "text/html": [
       "<table>\n",
       "<thead><tr><th scope=col>번호</th><th scope=col>제품</th><th scope=col>금액</th><th scope=col>수량</th></tr></thead>\n",
       "<tbody>\n",
       "\t<tr><td>1     </td><td>Apple </td><td>500   </td><td>5     </td></tr>\n",
       "\t<tr><td>2     </td><td>Banana</td><td>200   </td><td>4     </td></tr>\n",
       "\t<tr><td>3     </td><td>Peach </td><td>200   </td><td>3     </td></tr>\n",
       "\t<tr><td>4     </td><td>Berry </td><td> 50   </td><td>2     </td></tr>\n",
       "</tbody>\n",
       "</table>\n"
      ],
      "text/latex": [
       "\\begin{tabular}{r|llll}\n",
       " 번호 & 제품 & 금액 & 수량\\\\\n",
       "\\hline\n",
       "\t 1      & Apple  & 500    & 5     \\\\\n",
       "\t 2      & Banana & 200    & 4     \\\\\n",
       "\t 3      & Peach  & 200    & 3     \\\\\n",
       "\t 4      & Berry  &  50    & 2     \\\\\n",
       "\\end{tabular}\n"
      ],
      "text/markdown": [
       "\n",
       "| 번호 | 제품 | 금액 | 수량 |\n",
       "|---|---|---|---|\n",
       "| 1      | Apple  | 500    | 5      |\n",
       "| 2      | Banana | 200    | 4      |\n",
       "| 3      | Peach  | 200    | 3      |\n",
       "| 4      | Berry  |  50    | 2      |\n",
       "\n"
      ],
      "text/plain": [
       "  번호 제품   금액 수량\n",
       "1 1    Apple  500  5   \n",
       "2 2    Banana 200  4   \n",
       "3 3    Peach  200  3   \n",
       "4 4    Berry   50  2   "
      ]
     },
     "metadata": {},
     "output_type": "display_data"
    }
   ],
   "source": [
    "# 벡터를 이용하여 데이터 프레임 만들기\n",
    "fruit <- data.frame(번호=no, 제품=name, 금액=price, 수량=qty)\n",
    "fruit"
   ]
  },
  {
   "cell_type": "code",
   "execution_count": 3,
   "id": "68e09650",
   "metadata": {
    "vscode": {
     "languageId": "r"
    }
   },
   "outputs": [
    {
     "data": {
      "text/html": [
       "<ol class=list-inline>\n",
       "\t<li>'fruit'</li>\n",
       "\t<li>'name'</li>\n",
       "\t<li>'no'</li>\n",
       "\t<li>'price'</li>\n",
       "\t<li>'qty'</li>\n",
       "</ol>\n"
      ],
      "text/latex": [
       "\\begin{enumerate*}\n",
       "\\item 'fruit'\n",
       "\\item 'name'\n",
       "\\item 'no'\n",
       "\\item 'price'\n",
       "\\item 'qty'\n",
       "\\end{enumerate*}\n"
      ],
      "text/markdown": [
       "1. 'fruit'\n",
       "2. 'name'\n",
       "3. 'no'\n",
       "4. 'price'\n",
       "5. 'qty'\n",
       "\n",
       "\n"
      ],
      "text/plain": [
       "[1] \"fruit\" \"name\"  \"no\"    \"price\" \"qty\"  "
      ]
     },
     "metadata": {},
     "output_type": "display_data"
    }
   ],
   "source": [
    "# 현재 메모리에 있는 변수 보기\n",
    "\n",
    "ls()"
   ]
  },
  {
   "cell_type": "code",
   "execution_count": 4,
   "id": "5fc3e363",
   "metadata": {
    "vscode": {
     "languageId": "r"
    }
   },
   "outputs": [],
   "source": [
    "# 메모리 형태로 파일 보관\n",
    "\n",
    "save(no, fruit, name, file = \"../Data/testFruit.txt\")"
   ]
  },
  {
   "cell_type": "code",
   "execution_count": 5,
   "id": "c86b9d4d",
   "metadata": {
    "vscode": {
     "languageId": "r"
    }
   },
   "outputs": [],
   "source": [
    "# fruit"
   ]
  },
  {
   "cell_type": "code",
   "execution_count": 6,
   "id": "a5d4d117",
   "metadata": {
    "vscode": {
     "languageId": "r"
    }
   },
   "outputs": [],
   "source": [
    "# 메모리로 불러오기 \n",
    "load(\"../Data//testFruit.txt\")"
   ]
  },
  {
   "cell_type": "code",
   "execution_count": 7,
   "id": "658f5f09",
   "metadata": {
    "vscode": {
     "languageId": "r"
    }
   },
   "outputs": [
    {
     "data": {
      "text/html": [
       "<table>\n",
       "<thead><tr><th scope=col>번호</th><th scope=col>제품</th><th scope=col>금액</th><th scope=col>수량</th></tr></thead>\n",
       "<tbody>\n",
       "\t<tr><td>1     </td><td>Apple </td><td>500   </td><td>5     </td></tr>\n",
       "\t<tr><td>2     </td><td>Banana</td><td>200   </td><td>4     </td></tr>\n",
       "\t<tr><td>3     </td><td>Peach </td><td>200   </td><td>3     </td></tr>\n",
       "\t<tr><td>4     </td><td>Berry </td><td> 50   </td><td>2     </td></tr>\n",
       "</tbody>\n",
       "</table>\n"
      ],
      "text/latex": [
       "\\begin{tabular}{r|llll}\n",
       " 번호 & 제품 & 금액 & 수량\\\\\n",
       "\\hline\n",
       "\t 1      & Apple  & 500    & 5     \\\\\n",
       "\t 2      & Banana & 200    & 4     \\\\\n",
       "\t 3      & Peach  & 200    & 3     \\\\\n",
       "\t 4      & Berry  &  50    & 2     \\\\\n",
       "\\end{tabular}\n"
      ],
      "text/markdown": [
       "\n",
       "| 번호 | 제품 | 금액 | 수량 |\n",
       "|---|---|---|---|\n",
       "| 1      | Apple  | 500    | 5      |\n",
       "| 2      | Banana | 200    | 4      |\n",
       "| 3      | Peach  | 200    | 3      |\n",
       "| 4      | Berry  |  50    | 2      |\n",
       "\n"
      ],
      "text/plain": [
       "  번호 제품   금액 수량\n",
       "1 1    Apple  500  5   \n",
       "2 2    Banana 200  4   \n",
       "3 3    Peach  200  3   \n",
       "4 4    Berry   50  2   "
      ]
     },
     "metadata": {},
     "output_type": "display_data"
    }
   ],
   "source": [
    "fruit"
   ]
  },
  {
   "cell_type": "code",
   "execution_count": 8,
   "id": "6bd78e84",
   "metadata": {
    "vscode": {
     "languageId": "r"
    }
   },
   "outputs": [],
   "source": [
    "# fruit를 csv로 저장하기\n",
    "\n",
    "write.csv(fruit, \"../Data/fruit.csv\")"
   ]
  },
  {
   "cell_type": "code",
   "execution_count": 9,
   "id": "b41e187c",
   "metadata": {
    "vscode": {
     "languageId": "r"
    }
   },
   "outputs": [],
   "source": [
    "fruit2 <- read.csv(\"../Data//fruit.csv\")\n",
    "# x : rownames"
   ]
  },
  {
   "cell_type": "code",
   "execution_count": 10,
   "id": "58d9a704",
   "metadata": {
    "vscode": {
     "languageId": "r"
    }
   },
   "outputs": [],
   "source": [
    "write.csv(fruit2, \"../Data/fruit2.csv\")"
   ]
  },
  {
   "cell_type": "code",
   "execution_count": 11,
   "id": "b9ce8a4e",
   "metadata": {
    "vscode": {
     "languageId": "r"
    }
   },
   "outputs": [
    {
     "data": {
      "text/html": [
       "<table>\n",
       "<thead><tr><th scope=col>X.1</th><th scope=col>X</th><th scope=col>번호</th><th scope=col>제품</th><th scope=col>금액</th><th scope=col>수량</th></tr></thead>\n",
       "<tbody>\n",
       "\t<tr><td>1     </td><td>1     </td><td>1     </td><td>Apple </td><td>500   </td><td>5     </td></tr>\n",
       "\t<tr><td>2     </td><td>2     </td><td>2     </td><td>Banana</td><td>200   </td><td>4     </td></tr>\n",
       "\t<tr><td>3     </td><td>3     </td><td>3     </td><td>Peach </td><td>200   </td><td>3     </td></tr>\n",
       "\t<tr><td>4     </td><td>4     </td><td>4     </td><td>Berry </td><td> 50   </td><td>2     </td></tr>\n",
       "</tbody>\n",
       "</table>\n"
      ],
      "text/latex": [
       "\\begin{tabular}{r|llllll}\n",
       " X.1 & X & 번호 & 제품 & 금액 & 수량\\\\\n",
       "\\hline\n",
       "\t 1      & 1      & 1      & Apple  & 500    & 5     \\\\\n",
       "\t 2      & 2      & 2      & Banana & 200    & 4     \\\\\n",
       "\t 3      & 3      & 3      & Peach  & 200    & 3     \\\\\n",
       "\t 4      & 4      & 4      & Berry  &  50    & 2     \\\\\n",
       "\\end{tabular}\n"
      ],
      "text/markdown": [
       "\n",
       "| X.1 | X | 번호 | 제품 | 금액 | 수량 |\n",
       "|---|---|---|---|---|---|\n",
       "| 1      | 1      | 1      | Apple  | 500    | 5      |\n",
       "| 2      | 2      | 2      | Banana | 200    | 4      |\n",
       "| 3      | 3      | 3      | Peach  | 200    | 3      |\n",
       "| 4      | 4      | 4      | Berry  |  50    | 2      |\n",
       "\n"
      ],
      "text/plain": [
       "  X.1 X 번호 제품   금액 수량\n",
       "1 1   1 1    Apple  500  5   \n",
       "2 2   2 2    Banana 200  4   \n",
       "3 3   3 3    Peach  200  3   \n",
       "4 4   4 4    Berry   50  2   "
      ]
     },
     "metadata": {},
     "output_type": "display_data"
    }
   ],
   "source": [
    "read.csv(\"../Data//fruit2.csv\")"
   ]
  },
  {
   "cell_type": "code",
   "execution_count": 12,
   "id": "0959c568",
   "metadata": {
    "vscode": {
     "languageId": "r"
    }
   },
   "outputs": [],
   "source": [
    "# 저장시 주의 사항 : row names가 필요치 않으면 저장하지 말아야 한다.\n",
    "# row.names=F**\n",
    "\n",
    "write.csv(fruit, \"../Data/fruit.csv\", row.names=F)"
   ]
  },
  {
   "cell_type": "code",
   "execution_count": 13,
   "id": "1aa57b79",
   "metadata": {
    "vscode": {
     "languageId": "r"
    }
   },
   "outputs": [
    {
     "data": {
      "text/html": [
       "<table>\n",
       "<thead><tr><th scope=col>번호</th><th scope=col>제품</th><th scope=col>금액</th><th scope=col>수량</th></tr></thead>\n",
       "<tbody>\n",
       "\t<tr><td>1     </td><td>Apple </td><td>500   </td><td>5     </td></tr>\n",
       "\t<tr><td>2     </td><td>Banana</td><td>200   </td><td>4     </td></tr>\n",
       "\t<tr><td>3     </td><td>Peach </td><td>200   </td><td>3     </td></tr>\n",
       "\t<tr><td>4     </td><td>Berry </td><td> 50   </td><td>2     </td></tr>\n",
       "</tbody>\n",
       "</table>\n"
      ],
      "text/latex": [
       "\\begin{tabular}{r|llll}\n",
       " 번호 & 제품 & 금액 & 수량\\\\\n",
       "\\hline\n",
       "\t 1      & Apple  & 500    & 5     \\\\\n",
       "\t 2      & Banana & 200    & 4     \\\\\n",
       "\t 3      & Peach  & 200    & 3     \\\\\n",
       "\t 4      & Berry  &  50    & 2     \\\\\n",
       "\\end{tabular}\n"
      ],
      "text/markdown": [
       "\n",
       "| 번호 | 제품 | 금액 | 수량 |\n",
       "|---|---|---|---|\n",
       "| 1      | Apple  | 500    | 5      |\n",
       "| 2      | Banana | 200    | 4      |\n",
       "| 3      | Peach  | 200    | 3      |\n",
       "| 4      | Berry  |  50    | 2      |\n",
       "\n"
      ],
      "text/plain": [
       "  번호 제품   금액 수량\n",
       "1 1    Apple  500  5   \n",
       "2 2    Banana 200  4   \n",
       "3 3    Peach  200  3   \n",
       "4 4    Berry   50  2   "
      ]
     },
     "metadata": {},
     "output_type": "display_data"
    }
   ],
   "source": [
    "read.csv(\"../Data//fruit.csv\")"
   ]
  },
  {
   "cell_type": "markdown",
   "id": "352b9d58",
   "metadata": {},
   "source": [
    "---\n",
    "# 세계 GDP 순위 데이터 정제 및 차트 만들기"
   ]
  },
  {
   "cell_type": "code",
   "execution_count": 14,
   "id": "c5926a3c",
   "metadata": {
    "vscode": {
     "languageId": "r"
    }
   },
   "outputs": [
    {
     "data": {
      "text/html": [
       "<table>\n",
       "<thead><tr><th scope=col>X</th><th scope=col>Gross.domestic.product.2018</th><th scope=col>X.1</th><th scope=col>X.2</th><th scope=col>X.3</th><th scope=col>X.4</th></tr></thead>\n",
       "<tbody>\n",
       "\t<tr><td>                  </td><td>                  </td><td>NA                </td><td>                  </td><td>                  </td><td>                  </td></tr>\n",
       "\t<tr><td>                  </td><td>                  </td><td>NA                </td><td>                  </td><td>(millions of      </td><td>                  </td></tr>\n",
       "\t<tr><td>                  </td><td>Ranking           </td><td>NA                </td><td>Economy           </td><td>US dollars)       </td><td>                  </td></tr>\n",
       "\t<tr><td>                  </td><td>                  </td><td>NA                </td><td>                  </td><td>                  </td><td>                  </td></tr>\n",
       "\t<tr><td>USA               </td><td>1                 </td><td>NA                </td><td>United States     </td><td> 20,494,100       </td><td>                  </td></tr>\n",
       "\t<tr><td>CHN               </td><td>2                 </td><td>NA                </td><td>China             </td><td> 13,608,152       </td><td>                  </td></tr>\n",
       "\t<tr><td>JPN               </td><td>3                 </td><td>NA                </td><td>Japan             </td><td> 4,970,916        </td><td>                  </td></tr>\n",
       "\t<tr><td>DEU               </td><td>4                 </td><td>NA                </td><td>Germany           </td><td> 3,996,759        </td><td>                  </td></tr>\n",
       "\t<tr><td>GBR               </td><td>5                 </td><td>NA                </td><td>United Kingdom    </td><td> 2,825,208        </td><td>                  </td></tr>\n",
       "\t<tr><td>FRA               </td><td>6                 </td><td>NA                </td><td>France            </td><td> 2,777,535        </td><td>                  </td></tr>\n",
       "\t<tr><td>IND               </td><td>7                 </td><td>NA                </td><td>India             </td><td> 2,726,323        </td><td>                  </td></tr>\n",
       "\t<tr><td>ITA               </td><td>8                 </td><td>NA                </td><td>Italy             </td><td> 2,073,902        </td><td>                  </td></tr>\n",
       "\t<tr><td>BRA               </td><td>9                 </td><td>NA                </td><td>Brazil            </td><td> 1,868,626        </td><td>                  </td></tr>\n",
       "\t<tr><td>CAN               </td><td>10                </td><td>NA                </td><td>Canada            </td><td> 1,712,510        </td><td>                  </td></tr>\n",
       "\t<tr><td>RUS               </td><td>11                </td><td>NA                </td><td>Russian Federation</td><td> 1,657,554        </td><td>a                 </td></tr>\n",
       "\t<tr><td>KOR               </td><td>12                </td><td>NA                </td><td>Korea, Rep.       </td><td> 1,619,424        </td><td>                  </td></tr>\n",
       "\t<tr><td>AUS               </td><td>13                </td><td>NA                </td><td>Australia         </td><td> 1,432,195        </td><td>                  </td></tr>\n",
       "\t<tr><td>ESP               </td><td>14                </td><td>NA                </td><td>Spain             </td><td> 1,426,189        </td><td>                  </td></tr>\n",
       "\t<tr><td>MEX               </td><td>15                </td><td>NA                </td><td>Mexico            </td><td> 1,223,809        </td><td>                  </td></tr>\n",
       "\t<tr><td>IDN               </td><td>16                </td><td>NA                </td><td>Indonesia         </td><td> 1,042,173        </td><td>                  </td></tr>\n",
       "\t<tr><td>NLD               </td><td>17                </td><td>NA                </td><td>Netherlands       </td><td> 913,658          </td><td>                  </td></tr>\n",
       "\t<tr><td>SAU               </td><td>18                </td><td>NA                </td><td>Saudi Arabia      </td><td> 782,483          </td><td>                  </td></tr>\n",
       "\t<tr><td>TUR               </td><td>19                </td><td>NA                </td><td>Turkey            </td><td> 766,509          </td><td>                  </td></tr>\n",
       "\t<tr><td>CHE               </td><td>20                </td><td>NA                </td><td>Switzerland       </td><td> 705,501          </td><td>                  </td></tr>\n",
       "\t<tr><td>POL               </td><td>21                </td><td>NA                </td><td>Poland            </td><td> 585,783          </td><td>                  </td></tr>\n",
       "\t<tr><td>SWE               </td><td>22                </td><td>NA                </td><td>Sweden            </td><td> 551,032          </td><td>                  </td></tr>\n",
       "\t<tr><td>BEL               </td><td>23                </td><td>NA                </td><td>Belgium           </td><td> 531,767          </td><td>                  </td></tr>\n",
       "\t<tr><td>ARG               </td><td>24                </td><td>NA                </td><td>Argentina         </td><td> 518,475          </td><td>b                 </td></tr>\n",
       "\t<tr><td>THA               </td><td>25                </td><td>NA                </td><td>Thailand          </td><td> 504,993          </td><td>                  </td></tr>\n",
       "\t<tr><td>AUT               </td><td>26                </td><td>NA                </td><td>Austria           </td><td> 455,737          </td><td>                  </td></tr>\n",
       "\t<tr><td>...</td><td>...</td><td>...</td><td>...</td><td>...</td><td>...</td></tr>\n",
       "\t<tr><td>  </td><td>  </td><td>NA</td><td>  </td><td>  </td><td>  </td></tr>\n",
       "\t<tr><td>  </td><td>  </td><td>NA</td><td>  </td><td>  </td><td>  </td></tr>\n",
       "\t<tr><td>  </td><td>  </td><td>NA</td><td>  </td><td>  </td><td>  </td></tr>\n",
       "\t<tr><td>  </td><td>  </td><td>NA</td><td>  </td><td>  </td><td>  </td></tr>\n",
       "\t<tr><td>  </td><td>  </td><td>NA</td><td>  </td><td>  </td><td>  </td></tr>\n",
       "\t<tr><td>  </td><td>  </td><td>NA</td><td>  </td><td>  </td><td>  </td></tr>\n",
       "\t<tr><td>  </td><td>  </td><td>NA</td><td>  </td><td>  </td><td>  </td></tr>\n",
       "\t<tr><td>  </td><td>  </td><td>NA</td><td>  </td><td>  </td><td>  </td></tr>\n",
       "\t<tr><td>  </td><td>  </td><td>NA</td><td>  </td><td>  </td><td>  </td></tr>\n",
       "\t<tr><td>  </td><td>  </td><td>NA</td><td>  </td><td>  </td><td>  </td></tr>\n",
       "\t<tr><td>  </td><td>  </td><td>NA</td><td>  </td><td>  </td><td>  </td></tr>\n",
       "\t<tr><td>  </td><td>  </td><td>NA</td><td>  </td><td>  </td><td>  </td></tr>\n",
       "\t<tr><td>  </td><td>  </td><td>NA</td><td>  </td><td>  </td><td>  </td></tr>\n",
       "\t<tr><td>  </td><td>  </td><td>NA</td><td>  </td><td>  </td><td>  </td></tr>\n",
       "\t<tr><td>  </td><td>  </td><td>NA</td><td>  </td><td>  </td><td>  </td></tr>\n",
       "\t<tr><td>  </td><td>  </td><td>NA</td><td>  </td><td>  </td><td>  </td></tr>\n",
       "\t<tr><td>  </td><td>  </td><td>NA</td><td>  </td><td>  </td><td>  </td></tr>\n",
       "\t<tr><td>  </td><td>  </td><td>NA</td><td>  </td><td>  </td><td>  </td></tr>\n",
       "\t<tr><td>  </td><td>  </td><td>NA</td><td>  </td><td>  </td><td>  </td></tr>\n",
       "\t<tr><td>  </td><td>  </td><td>NA</td><td>  </td><td>  </td><td>  </td></tr>\n",
       "\t<tr><td>  </td><td>  </td><td>NA</td><td>  </td><td>  </td><td>  </td></tr>\n",
       "\t<tr><td>  </td><td>  </td><td>NA</td><td>  </td><td>  </td><td>  </td></tr>\n",
       "\t<tr><td>  </td><td>  </td><td>NA</td><td>  </td><td>  </td><td>  </td></tr>\n",
       "\t<tr><td>  </td><td>  </td><td>NA</td><td>  </td><td>  </td><td>  </td></tr>\n",
       "\t<tr><td>  </td><td>  </td><td>NA</td><td>  </td><td>  </td><td>  </td></tr>\n",
       "\t<tr><td>  </td><td>  </td><td>NA</td><td>  </td><td>  </td><td>  </td></tr>\n",
       "\t<tr><td>  </td><td>  </td><td>NA</td><td>  </td><td>  </td><td>  </td></tr>\n",
       "\t<tr><td>  </td><td>  </td><td>NA</td><td>  </td><td>  </td><td>  </td></tr>\n",
       "\t<tr><td>  </td><td>  </td><td>NA</td><td>  </td><td>  </td><td>  </td></tr>\n",
       "\t<tr><td>  </td><td>  </td><td>NA</td><td>  </td><td>  </td><td>  </td></tr>\n",
       "</tbody>\n",
       "</table>\n"
      ],
      "text/latex": [
       "\\begin{tabular}{r|llllll}\n",
       " X & Gross.domestic.product.2018 & X.1 & X.2 & X.3 & X.4\\\\\n",
       "\\hline\n",
       "\t                    &                    & NA                 &                    &                    &                   \\\\\n",
       "\t                    &                    & NA                 &                    & (millions of       &                   \\\\\n",
       "\t                    & Ranking            & NA                 & Economy            & US dollars)        &                   \\\\\n",
       "\t                    &                    & NA                 &                    &                    &                   \\\\\n",
       "\t USA                & 1                  & NA                 & United States      &  20,494,100        &                   \\\\\n",
       "\t CHN                & 2                  & NA                 & China              &  13,608,152        &                   \\\\\n",
       "\t JPN                & 3                  & NA                 & Japan              &  4,970,916         &                   \\\\\n",
       "\t DEU                & 4                  & NA                 & Germany            &  3,996,759         &                   \\\\\n",
       "\t GBR                & 5                  & NA                 & United Kingdom     &  2,825,208         &                   \\\\\n",
       "\t FRA                & 6                  & NA                 & France             &  2,777,535         &                   \\\\\n",
       "\t IND                & 7                  & NA                 & India              &  2,726,323         &                   \\\\\n",
       "\t ITA                & 8                  & NA                 & Italy              &  2,073,902         &                   \\\\\n",
       "\t BRA                & 9                  & NA                 & Brazil             &  1,868,626         &                   \\\\\n",
       "\t CAN                & 10                 & NA                 & Canada             &  1,712,510         &                   \\\\\n",
       "\t RUS                & 11                 & NA                 & Russian Federation &  1,657,554         & a                 \\\\\n",
       "\t KOR                & 12                 & NA                 & Korea, Rep.        &  1,619,424         &                   \\\\\n",
       "\t AUS                & 13                 & NA                 & Australia          &  1,432,195         &                   \\\\\n",
       "\t ESP                & 14                 & NA                 & Spain              &  1,426,189         &                   \\\\\n",
       "\t MEX                & 15                 & NA                 & Mexico             &  1,223,809         &                   \\\\\n",
       "\t IDN                & 16                 & NA                 & Indonesia          &  1,042,173         &                   \\\\\n",
       "\t NLD                & 17                 & NA                 & Netherlands        &  913,658           &                   \\\\\n",
       "\t SAU                & 18                 & NA                 & Saudi Arabia       &  782,483           &                   \\\\\n",
       "\t TUR                & 19                 & NA                 & Turkey             &  766,509           &                   \\\\\n",
       "\t CHE                & 20                 & NA                 & Switzerland        &  705,501           &                   \\\\\n",
       "\t POL                & 21                 & NA                 & Poland             &  585,783           &                   \\\\\n",
       "\t SWE                & 22                 & NA                 & Sweden             &  551,032           &                   \\\\\n",
       "\t BEL                & 23                 & NA                 & Belgium            &  531,767           &                   \\\\\n",
       "\t ARG                & 24                 & NA                 & Argentina          &  518,475           & b                 \\\\\n",
       "\t THA                & 25                 & NA                 & Thailand           &  504,993           &                   \\\\\n",
       "\t AUT                & 26                 & NA                 & Austria            &  455,737           &                   \\\\\n",
       "\t ... & ... & ... & ... & ... & ...\\\\\n",
       "\t    &    & NA &    &    &   \\\\\n",
       "\t    &    & NA &    &    &   \\\\\n",
       "\t    &    & NA &    &    &   \\\\\n",
       "\t    &    & NA &    &    &   \\\\\n",
       "\t    &    & NA &    &    &   \\\\\n",
       "\t    &    & NA &    &    &   \\\\\n",
       "\t    &    & NA &    &    &   \\\\\n",
       "\t    &    & NA &    &    &   \\\\\n",
       "\t    &    & NA &    &    &   \\\\\n",
       "\t    &    & NA &    &    &   \\\\\n",
       "\t    &    & NA &    &    &   \\\\\n",
       "\t    &    & NA &    &    &   \\\\\n",
       "\t    &    & NA &    &    &   \\\\\n",
       "\t    &    & NA &    &    &   \\\\\n",
       "\t    &    & NA &    &    &   \\\\\n",
       "\t    &    & NA &    &    &   \\\\\n",
       "\t    &    & NA &    &    &   \\\\\n",
       "\t    &    & NA &    &    &   \\\\\n",
       "\t    &    & NA &    &    &   \\\\\n",
       "\t    &    & NA &    &    &   \\\\\n",
       "\t    &    & NA &    &    &   \\\\\n",
       "\t    &    & NA &    &    &   \\\\\n",
       "\t    &    & NA &    &    &   \\\\\n",
       "\t    &    & NA &    &    &   \\\\\n",
       "\t    &    & NA &    &    &   \\\\\n",
       "\t    &    & NA &    &    &   \\\\\n",
       "\t    &    & NA &    &    &   \\\\\n",
       "\t    &    & NA &    &    &   \\\\\n",
       "\t    &    & NA &    &    &   \\\\\n",
       "\t    &    & NA &    &    &   \\\\\n",
       "\\end{tabular}\n"
      ],
      "text/markdown": [
       "\n",
       "| X | Gross.domestic.product.2018 | X.1 | X.2 | X.3 | X.4 |\n",
       "|---|---|---|---|---|---|\n",
       "|                    |                    | NA                 |                    |                    |                    |\n",
       "|                    |                    | NA                 |                    | (millions of       |                    |\n",
       "|                    | Ranking            | NA                 | Economy            | US dollars)        |                    |\n",
       "|                    |                    | NA                 |                    |                    |                    |\n",
       "| USA                | 1                  | NA                 | United States      |  20,494,100        |                    |\n",
       "| CHN                | 2                  | NA                 | China              |  13,608,152        |                    |\n",
       "| JPN                | 3                  | NA                 | Japan              |  4,970,916         |                    |\n",
       "| DEU                | 4                  | NA                 | Germany            |  3,996,759         |                    |\n",
       "| GBR                | 5                  | NA                 | United Kingdom     |  2,825,208         |                    |\n",
       "| FRA                | 6                  | NA                 | France             |  2,777,535         |                    |\n",
       "| IND                | 7                  | NA                 | India              |  2,726,323         |                    |\n",
       "| ITA                | 8                  | NA                 | Italy              |  2,073,902         |                    |\n",
       "| BRA                | 9                  | NA                 | Brazil             |  1,868,626         |                    |\n",
       "| CAN                | 10                 | NA                 | Canada             |  1,712,510         |                    |\n",
       "| RUS                | 11                 | NA                 | Russian Federation |  1,657,554         | a                  |\n",
       "| KOR                | 12                 | NA                 | Korea, Rep.        |  1,619,424         |                    |\n",
       "| AUS                | 13                 | NA                 | Australia          |  1,432,195         |                    |\n",
       "| ESP                | 14                 | NA                 | Spain              |  1,426,189         |                    |\n",
       "| MEX                | 15                 | NA                 | Mexico             |  1,223,809         |                    |\n",
       "| IDN                | 16                 | NA                 | Indonesia          |  1,042,173         |                    |\n",
       "| NLD                | 17                 | NA                 | Netherlands        |  913,658           |                    |\n",
       "| SAU                | 18                 | NA                 | Saudi Arabia       |  782,483           |                    |\n",
       "| TUR                | 19                 | NA                 | Turkey             |  766,509           |                    |\n",
       "| CHE                | 20                 | NA                 | Switzerland        |  705,501           |                    |\n",
       "| POL                | 21                 | NA                 | Poland             |  585,783           |                    |\n",
       "| SWE                | 22                 | NA                 | Sweden             |  551,032           |                    |\n",
       "| BEL                | 23                 | NA                 | Belgium            |  531,767           |                    |\n",
       "| ARG                | 24                 | NA                 | Argentina          |  518,475           | b                  |\n",
       "| THA                | 25                 | NA                 | Thailand           |  504,993           |                    |\n",
       "| AUT                | 26                 | NA                 | Austria            |  455,737           |                    |\n",
       "| ... | ... | ... | ... | ... | ... |\n",
       "|    |    | NA |    |    |    |\n",
       "|    |    | NA |    |    |    |\n",
       "|    |    | NA |    |    |    |\n",
       "|    |    | NA |    |    |    |\n",
       "|    |    | NA |    |    |    |\n",
       "|    |    | NA |    |    |    |\n",
       "|    |    | NA |    |    |    |\n",
       "|    |    | NA |    |    |    |\n",
       "|    |    | NA |    |    |    |\n",
       "|    |    | NA |    |    |    |\n",
       "|    |    | NA |    |    |    |\n",
       "|    |    | NA |    |    |    |\n",
       "|    |    | NA |    |    |    |\n",
       "|    |    | NA |    |    |    |\n",
       "|    |    | NA |    |    |    |\n",
       "|    |    | NA |    |    |    |\n",
       "|    |    | NA |    |    |    |\n",
       "|    |    | NA |    |    |    |\n",
       "|    |    | NA |    |    |    |\n",
       "|    |    | NA |    |    |    |\n",
       "|    |    | NA |    |    |    |\n",
       "|    |    | NA |    |    |    |\n",
       "|    |    | NA |    |    |    |\n",
       "|    |    | NA |    |    |    |\n",
       "|    |    | NA |    |    |    |\n",
       "|    |    | NA |    |    |    |\n",
       "|    |    | NA |    |    |    |\n",
       "|    |    | NA |    |    |    |\n",
       "|    |    | NA |    |    |    |\n",
       "|    |    | NA |    |    |    |\n",
       "\n"
      ],
      "text/plain": [
       "    X   Gross.domestic.product.2018 X.1 X.2                X.3          X.4\n",
       "1                                   NA                                     \n",
       "2                                   NA                     (millions of    \n",
       "3       Ranking                     NA  Economy            US dollars)     \n",
       "4                                   NA                                     \n",
       "5   USA 1                           NA  United States       20,494,100     \n",
       "6   CHN 2                           NA  China               13,608,152     \n",
       "7   JPN 3                           NA  Japan               4,970,916      \n",
       "8   DEU 4                           NA  Germany             3,996,759      \n",
       "9   GBR 5                           NA  United Kingdom      2,825,208      \n",
       "10  FRA 6                           NA  France              2,777,535      \n",
       "11  IND 7                           NA  India               2,726,323      \n",
       "12  ITA 8                           NA  Italy               2,073,902      \n",
       "13  BRA 9                           NA  Brazil              1,868,626      \n",
       "14  CAN 10                          NA  Canada              1,712,510      \n",
       "15  RUS 11                          NA  Russian Federation  1,657,554   a  \n",
       "16  KOR 12                          NA  Korea, Rep.         1,619,424      \n",
       "17  AUS 13                          NA  Australia           1,432,195      \n",
       "18  ESP 14                          NA  Spain               1,426,189      \n",
       "19  MEX 15                          NA  Mexico              1,223,809      \n",
       "20  IDN 16                          NA  Indonesia           1,042,173      \n",
       "21  NLD 17                          NA  Netherlands         913,658        \n",
       "22  SAU 18                          NA  Saudi Arabia        782,483        \n",
       "23  TUR 19                          NA  Turkey              766,509        \n",
       "24  CHE 20                          NA  Switzerland         705,501        \n",
       "25  POL 21                          NA  Poland              585,783        \n",
       "26  SWE 22                          NA  Sweden              551,032        \n",
       "27  BEL 23                          NA  Belgium             531,767        \n",
       "28  ARG 24                          NA  Argentina           518,475     b  \n",
       "29  THA 25                          NA  Thailand            504,993        \n",
       "30  AUT 26                          NA  Austria             455,737        \n",
       "... ... ...                         ... ...                ...          ...\n",
       "299                                 NA                                     \n",
       "300                                 NA                                     \n",
       "301                                 NA                                     \n",
       "302                                 NA                                     \n",
       "303                                 NA                                     \n",
       "304                                 NA                                     \n",
       "305                                 NA                                     \n",
       "306                                 NA                                     \n",
       "307                                 NA                                     \n",
       "308                                 NA                                     \n",
       "309                                 NA                                     \n",
       "310                                 NA                                     \n",
       "311                                 NA                                     \n",
       "312                                 NA                                     \n",
       "313                                 NA                                     \n",
       "314                                 NA                                     \n",
       "315                                 NA                                     \n",
       "316                                 NA                                     \n",
       "317                                 NA                                     \n",
       "318                                 NA                                     \n",
       "319                                 NA                                     \n",
       "320                                 NA                                     \n",
       "321                                 NA                                     \n",
       "322                                 NA                                     \n",
       "323                                 NA                                     \n",
       "324                                 NA                                     \n",
       "325                                 NA                                     \n",
       "326                                 NA                                     \n",
       "327                                 NA                                     \n",
       "328                                 NA                                     "
      ]
     },
     "metadata": {},
     "output_type": "display_data"
    },
    {
     "name": "stdout",
     "output_type": "stream",
     "text": [
      "'data.frame':\t328 obs. of  6 variables:\n",
      " $ X                          : Factor w/ 230 levels \"\",\"ABW\",\"AFG\",..: 1 1 1 1 216 38 103 52 72 68 ...\n",
      " $ Gross.domestic.product.2018: Factor w/ 212 levels \"\",\".. Not available.  \",..: 1 1 212 1 3 114 131 142 153 164 ...\n",
      " $ X.1                        : logi  NA NA NA NA NA NA ...\n",
      " $ X.2                        : Factor w/ 231 levels \"\",\"Afghanistan\",..: 1 1 60 1 219 43 104 78 218 73 ...\n",
      " $ X.3                        : Factor w/ 220 levels \"\",\" .. \",\" 1,022 \",..: 1 207 220 1 78 44 137 113 77 75 ...\n",
      " $ X.4                        : Factor w/ 8 levels \"\",\"a\",\"b\",\"c\",..: 1 1 1 1 1 1 1 1 1 1 ...\n"
     ]
    },
    {
     "data": {
      "text/plain": [
       "       X            Gross.domestic.product.2018   X.1         \n",
       "        : 99                      :117          Mode:logical  \n",
       " ABW    :  1   .. Not available.  :  1          NA's:328      \n",
       " AFG    :  1   1                  :  1                        \n",
       " AGO    :  1   10                 :  1                        \n",
       " ALB    :  1   100                :  1                        \n",
       " AND    :  1   101                :  1                        \n",
       " (Other):224   (Other)            :206                        \n",
       "             X.2               X.3           X.4     \n",
       "               : 98              : 97          :320  \n",
       " Afghanistan   :  1    ..        : 12   a      :  2  \n",
       " Albania       :  1    1,624     :  2   b      :  1  \n",
       " Algeria       :  1    1,022     :  1   c      :  1  \n",
       " American Samoa:  1    1,040     :  1   d      :  1  \n",
       " Andorra       :  1    1,042,173 :  1   e      :  1  \n",
       " (Other)       :225   (Other)    :214   (Other):  2  "
      ]
     },
     "metadata": {},
     "output_type": "display_data"
    }
   ],
   "source": [
    "GDP_ranking <- read.csv(\"../Data//GDP.csv\")\n",
    "GDP_ranking\n",
    "str(GDP_ranking)\n",
    "summary(GDP_ranking)"
   ]
  },
  {
   "cell_type": "code",
   "execution_count": 15,
   "id": "a3dbb3d6",
   "metadata": {
    "vscode": {
     "languageId": "r"
    }
   },
   "outputs": [
    {
     "data": {
      "text/html": [
       "<table>\n",
       "<thead><tr><th></th><th scope=col>X</th><th scope=col>Gross.domestic.product.2018</th><th scope=col>X.2</th><th scope=col>X.3</th></tr></thead>\n",
       "<tbody>\n",
       "\t<tr><th scope=row>5</th><td>USA           </td><td>1             </td><td>United States </td><td> 20,494,100   </td></tr>\n",
       "\t<tr><th scope=row>6</th><td>CHN           </td><td>2             </td><td>China         </td><td> 13,608,152   </td></tr>\n",
       "\t<tr><th scope=row>7</th><td>JPN           </td><td>3             </td><td>Japan         </td><td> 4,970,916    </td></tr>\n",
       "\t<tr><th scope=row>8</th><td>DEU           </td><td>4             </td><td>Germany       </td><td> 3,996,759    </td></tr>\n",
       "\t<tr><th scope=row>9</th><td>GBR           </td><td>5             </td><td>United Kingdom</td><td> 2,825,208    </td></tr>\n",
       "\t<tr><th scope=row>10</th><td>FRA           </td><td>6             </td><td>France        </td><td> 2,777,535    </td></tr>\n",
       "</tbody>\n",
       "</table>\n"
      ],
      "text/latex": [
       "\\begin{tabular}{r|llll}\n",
       "  & X & Gross.domestic.product.2018 & X.2 & X.3\\\\\n",
       "\\hline\n",
       "\t5 & USA            & 1              & United States  &  20,494,100   \\\\\n",
       "\t6 & CHN            & 2              & China          &  13,608,152   \\\\\n",
       "\t7 & JPN            & 3              & Japan          &  4,970,916    \\\\\n",
       "\t8 & DEU            & 4              & Germany        &  3,996,759    \\\\\n",
       "\t9 & GBR            & 5              & United Kingdom &  2,825,208    \\\\\n",
       "\t10 & FRA            & 6              & France         &  2,777,535    \\\\\n",
       "\\end{tabular}\n"
      ],
      "text/markdown": [
       "\n",
       "| <!--/--> | X | Gross.domestic.product.2018 | X.2 | X.3 |\n",
       "|---|---|---|---|---|\n",
       "| 5 | USA            | 1              | United States  |  20,494,100    |\n",
       "| 6 | CHN            | 2              | China          |  13,608,152    |\n",
       "| 7 | JPN            | 3              | Japan          |  4,970,916     |\n",
       "| 8 | DEU            | 4              | Germany        |  3,996,759     |\n",
       "| 9 | GBR            | 5              | United Kingdom |  2,825,208     |\n",
       "| 10 | FRA            | 6              | France         |  2,777,535     |\n",
       "\n"
      ],
      "text/plain": [
       "   X   Gross.domestic.product.2018 X.2            X.3         \n",
       "5  USA 1                           United States   20,494,100 \n",
       "6  CHN 2                           China           13,608,152 \n",
       "7  JPN 3                           Japan           4,970,916  \n",
       "8  DEU 4                           Germany         3,996,759  \n",
       "9  GBR 5                           United Kingdom  2,825,208  \n",
       "10 FRA 6                           France          2,777,535  "
      ]
     },
     "metadata": {},
     "output_type": "display_data"
    }
   ],
   "source": [
    "# 1~4줄 삭제, (1,2,4,5) 컬럼만 발췌\n",
    "GDP_ranking2 <- GDP_ranking[-c(1:4),-c(3,6)]\n",
    "head(GDP_ranking2)"
   ]
  },
  {
   "cell_type": "code",
   "execution_count": 16,
   "id": "5487b002",
   "metadata": {
    "vscode": {
     "languageId": "r"
    }
   },
   "outputs": [
    {
     "data": {
      "text/html": [
       "<table>\n",
       "<thead><tr><th></th><th scope=col>X</th><th scope=col>Gross.domestic.product.2018</th><th scope=col>X.2</th><th scope=col>X.3</th></tr></thead>\n",
       "<tbody>\n",
       "\t<tr><th scope=row>5</th><td>USA           </td><td>1             </td><td>United States </td><td> 20,494,100   </td></tr>\n",
       "\t<tr><th scope=row>6</th><td>CHN           </td><td>2             </td><td>China         </td><td> 13,608,152   </td></tr>\n",
       "\t<tr><th scope=row>7</th><td>JPN           </td><td>3             </td><td>Japan         </td><td> 4,970,916    </td></tr>\n",
       "\t<tr><th scope=row>8</th><td>DEU           </td><td>4             </td><td>Germany       </td><td> 3,996,759    </td></tr>\n",
       "\t<tr><th scope=row>9</th><td>GBR           </td><td>5             </td><td>United Kingdom</td><td> 2,825,208    </td></tr>\n",
       "\t<tr><th scope=row>10</th><td>FRA           </td><td>6             </td><td>France        </td><td> 2,777,535    </td></tr>\n",
       "</tbody>\n",
       "</table>\n"
      ],
      "text/latex": [
       "\\begin{tabular}{r|llll}\n",
       "  & X & Gross.domestic.product.2018 & X.2 & X.3\\\\\n",
       "\\hline\n",
       "\t5 & USA            & 1              & United States  &  20,494,100   \\\\\n",
       "\t6 & CHN            & 2              & China          &  13,608,152   \\\\\n",
       "\t7 & JPN            & 3              & Japan          &  4,970,916    \\\\\n",
       "\t8 & DEU            & 4              & Germany        &  3,996,759    \\\\\n",
       "\t9 & GBR            & 5              & United Kingdom &  2,825,208    \\\\\n",
       "\t10 & FRA            & 6              & France         &  2,777,535    \\\\\n",
       "\\end{tabular}\n"
      ],
      "text/markdown": [
       "\n",
       "| <!--/--> | X | Gross.domestic.product.2018 | X.2 | X.3 |\n",
       "|---|---|---|---|---|\n",
       "| 5 | USA            | 1              | United States  |  20,494,100    |\n",
       "| 6 | CHN            | 2              | China          |  13,608,152    |\n",
       "| 7 | JPN            | 3              | Japan          |  4,970,916     |\n",
       "| 8 | DEU            | 4              | Germany        |  3,996,759     |\n",
       "| 9 | GBR            | 5              | United Kingdom |  2,825,208     |\n",
       "| 10 | FRA            | 6              | France         |  2,777,535     |\n",
       "\n"
      ],
      "text/plain": [
       "   X   Gross.domestic.product.2018 X.2            X.3         \n",
       "5  USA 1                           United States   20,494,100 \n",
       "6  CHN 2                           China           13,608,152 \n",
       "7  JPN 3                           Japan           4,970,916  \n",
       "8  DEU 4                           Germany         3,996,759  \n",
       "9  GBR 5                           United Kingdom  2,825,208  \n",
       "10 FRA 6                           France          2,777,535  "
      ]
     },
     "metadata": {},
     "output_type": "display_data"
    }
   ],
   "source": [
    "# 상위 15개국만 선별한다.\n",
    "\n",
    "GDP_ranking15 <- GDP_ranking2[1:15,]\n",
    "# GDP_ranking15 <- head(GDP_ranking2, 15) 도 가능\n",
    "head(GDP_ranking15)"
   ]
  },
  {
   "cell_type": "code",
   "execution_count": 17,
   "id": "55c801b8",
   "metadata": {
    "vscode": {
     "languageId": "r"
    }
   },
   "outputs": [
    {
     "data": {
      "text/html": [
       "<table>\n",
       "<thead><tr><th></th><th scope=col>Code</th><th scope=col>Ranking</th><th scope=col>Nation</th><th scope=col>GDP</th></tr></thead>\n",
       "<tbody>\n",
       "\t<tr><th scope=row>5</th><td>USA               </td><td>1                 </td><td>United States     </td><td> 20,494,100       </td></tr>\n",
       "\t<tr><th scope=row>6</th><td>CHN               </td><td>2                 </td><td>China             </td><td> 13,608,152       </td></tr>\n",
       "\t<tr><th scope=row>7</th><td>JPN               </td><td>3                 </td><td>Japan             </td><td> 4,970,916        </td></tr>\n",
       "\t<tr><th scope=row>8</th><td>DEU               </td><td>4                 </td><td>Germany           </td><td> 3,996,759        </td></tr>\n",
       "\t<tr><th scope=row>9</th><td>GBR               </td><td>5                 </td><td>United Kingdom    </td><td> 2,825,208        </td></tr>\n",
       "\t<tr><th scope=row>10</th><td>FRA               </td><td>6                 </td><td>France            </td><td> 2,777,535        </td></tr>\n",
       "\t<tr><th scope=row>11</th><td>IND               </td><td>7                 </td><td>India             </td><td> 2,726,323        </td></tr>\n",
       "\t<tr><th scope=row>12</th><td>ITA               </td><td>8                 </td><td>Italy             </td><td> 2,073,902        </td></tr>\n",
       "\t<tr><th scope=row>13</th><td>BRA               </td><td>9                 </td><td>Brazil            </td><td> 1,868,626        </td></tr>\n",
       "\t<tr><th scope=row>14</th><td>CAN               </td><td>10                </td><td>Canada            </td><td> 1,712,510        </td></tr>\n",
       "\t<tr><th scope=row>15</th><td>RUS               </td><td>11                </td><td>Russian Federation</td><td> 1,657,554        </td></tr>\n",
       "\t<tr><th scope=row>16</th><td>KOR               </td><td>12                </td><td>Korea, Rep.       </td><td> 1,619,424        </td></tr>\n",
       "\t<tr><th scope=row>17</th><td>AUS               </td><td>13                </td><td>Australia         </td><td> 1,432,195        </td></tr>\n",
       "\t<tr><th scope=row>18</th><td>ESP               </td><td>14                </td><td>Spain             </td><td> 1,426,189        </td></tr>\n",
       "\t<tr><th scope=row>19</th><td>MEX               </td><td>15                </td><td>Mexico            </td><td> 1,223,809        </td></tr>\n",
       "</tbody>\n",
       "</table>\n"
      ],
      "text/latex": [
       "\\begin{tabular}{r|llll}\n",
       "  & Code & Ranking & Nation & GDP\\\\\n",
       "\\hline\n",
       "\t5 & USA                & 1                  & United States      &  20,494,100       \\\\\n",
       "\t6 & CHN                & 2                  & China              &  13,608,152       \\\\\n",
       "\t7 & JPN                & 3                  & Japan              &  4,970,916        \\\\\n",
       "\t8 & DEU                & 4                  & Germany            &  3,996,759        \\\\\n",
       "\t9 & GBR                & 5                  & United Kingdom     &  2,825,208        \\\\\n",
       "\t10 & FRA                & 6                  & France             &  2,777,535        \\\\\n",
       "\t11 & IND                & 7                  & India              &  2,726,323        \\\\\n",
       "\t12 & ITA                & 8                  & Italy              &  2,073,902        \\\\\n",
       "\t13 & BRA                & 9                  & Brazil             &  1,868,626        \\\\\n",
       "\t14 & CAN                & 10                 & Canada             &  1,712,510        \\\\\n",
       "\t15 & RUS                & 11                 & Russian Federation &  1,657,554        \\\\\n",
       "\t16 & KOR                & 12                 & Korea, Rep.        &  1,619,424        \\\\\n",
       "\t17 & AUS                & 13                 & Australia          &  1,432,195        \\\\\n",
       "\t18 & ESP                & 14                 & Spain              &  1,426,189        \\\\\n",
       "\t19 & MEX                & 15                 & Mexico             &  1,223,809        \\\\\n",
       "\\end{tabular}\n"
      ],
      "text/markdown": [
       "\n",
       "| <!--/--> | Code | Ranking | Nation | GDP |\n",
       "|---|---|---|---|---|\n",
       "| 5 | USA                | 1                  | United States      |  20,494,100        |\n",
       "| 6 | CHN                | 2                  | China              |  13,608,152        |\n",
       "| 7 | JPN                | 3                  | Japan              |  4,970,916         |\n",
       "| 8 | DEU                | 4                  | Germany            |  3,996,759         |\n",
       "| 9 | GBR                | 5                  | United Kingdom     |  2,825,208         |\n",
       "| 10 | FRA                | 6                  | France             |  2,777,535         |\n",
       "| 11 | IND                | 7                  | India              |  2,726,323         |\n",
       "| 12 | ITA                | 8                  | Italy              |  2,073,902         |\n",
       "| 13 | BRA                | 9                  | Brazil             |  1,868,626         |\n",
       "| 14 | CAN                | 10                 | Canada             |  1,712,510         |\n",
       "| 15 | RUS                | 11                 | Russian Federation |  1,657,554         |\n",
       "| 16 | KOR                | 12                 | Korea, Rep.        |  1,619,424         |\n",
       "| 17 | AUS                | 13                 | Australia          |  1,432,195         |\n",
       "| 18 | ESP                | 14                 | Spain              |  1,426,189         |\n",
       "| 19 | MEX                | 15                 | Mexico             |  1,223,809         |\n",
       "\n"
      ],
      "text/plain": [
       "   Code Ranking Nation             GDP         \n",
       "5  USA  1       United States       20,494,100 \n",
       "6  CHN  2       China               13,608,152 \n",
       "7  JPN  3       Japan               4,970,916  \n",
       "8  DEU  4       Germany             3,996,759  \n",
       "9  GBR  5       United Kingdom      2,825,208  \n",
       "10 FRA  6       France              2,777,535  \n",
       "11 IND  7       India               2,726,323  \n",
       "12 ITA  8       Italy               2,073,902  \n",
       "13 BRA  9       Brazil              1,868,626  \n",
       "14 CAN  10      Canada              1,712,510  \n",
       "15 RUS  11      Russian Federation  1,657,554  \n",
       "16 KOR  12      Korea, Rep.         1,619,424  \n",
       "17 AUS  13      Australia           1,432,195  \n",
       "18 ESP  14      Spain               1,426,189  \n",
       "19 MEX  15      Mexico              1,223,809  "
      ]
     },
     "metadata": {},
     "output_type": "display_data"
    }
   ],
   "source": [
    "# 컬럼 이름 정의 : Code, Ranking, Nation, GDP\n",
    "\n",
    "colnames(GDP_ranking15) <- c(\"Code\", \"Ranking\", \"Nation\", \"GDP\")\n",
    "\n",
    "GDP_ranking15"
   ]
  },
  {
   "cell_type": "code",
   "execution_count": 18,
   "id": "1b4b44c7",
   "metadata": {
    "vscode": {
     "languageId": "r"
    }
   },
   "outputs": [
    {
     "name": "stdout",
     "output_type": "stream",
     "text": [
      "   Code Ranking             Nation          GDP\n",
      "1   USA       1      United States  20,494,100 \n",
      "2   CHN       2              China  13,608,152 \n",
      "3   JPN       3              Japan   4,970,916 \n",
      "4   DEU       4            Germany   3,996,759 \n",
      "5   GBR       5     United Kingdom   2,825,208 \n",
      "6   FRA       6             France   2,777,535 \n",
      "7   IND       7              India   2,726,323 \n",
      "8   ITA       8              Italy   2,073,902 \n",
      "9   BRA       9             Brazil   1,868,626 \n",
      "10  CAN      10             Canada   1,712,510 \n",
      "11  RUS      11 Russian Federation   1,657,554 \n",
      "12  KOR      12        Korea, Rep.   1,619,424 \n",
      "13  AUS      13          Australia   1,432,195 \n",
      "14  ESP      14              Spain   1,426,189 \n",
      "15  MEX      15             Mexico   1,223,809 \n"
     ]
    }
   ],
   "source": [
    "# rownames 새로 구성하기\n",
    "\n",
    "rownames(GDP_ranking15) <- c()\n",
    "print(GDP_ranking15)"
   ]
  },
  {
   "cell_type": "code",
   "execution_count": 19,
   "id": "d0fee5f9",
   "metadata": {
    "vscode": {
     "languageId": "r"
    }
   },
   "outputs": [
    {
     "name": "stdout",
     "output_type": "stream",
     "text": [
      "'data.frame':\t15 obs. of  4 variables:\n",
      " $ Code   : Factor w/ 230 levels \"\",\"ABW\",\"AFG\",..: 216 38 103 52 72 68 94 100 28 34 ...\n",
      " $ Ranking: Factor w/ 212 levels \"\",\".. Not available.  \",..: 3 114 131 142 153 164 175 186 197 4 ...\n",
      " $ Nation : Factor w/ 231 levels \"\",\"Afghanistan\",..: 219 43 104 78 218 73 95 102 28 37 ...\n",
      " $ GDP    : Factor w/ 220 levels \"\",\" .. \",\" 1,022 \",..: 78 44 137 113 77 75 74 67 20 19 ...\n"
     ]
    }
   ],
   "source": [
    "# 구조 확인하기\n",
    "# 초기 데이터값을 그대로 가지고 있음\n",
    "str(GDP_ranking15)"
   ]
  },
  {
   "cell_type": "code",
   "execution_count": 20,
   "id": "7ef2c24f",
   "metadata": {
    "vscode": {
     "languageId": "r"
    }
   },
   "outputs": [],
   "source": [
    "# Factor의 갯수가 15개가 정상일텐데 이상하다 <- 재구성\n",
    "\n",
    "GDP_ranking15$Code <- factor(GDP_ranking15$Code)"
   ]
  },
  {
   "cell_type": "code",
   "execution_count": 21,
   "id": "5fc83259",
   "metadata": {
    "vscode": {
     "languageId": "r"
    }
   },
   "outputs": [
    {
     "name": "stdout",
     "output_type": "stream",
     "text": [
      "'data.frame':\t15 obs. of  4 variables:\n",
      " $ Code   : Factor w/ 15 levels \"AUS\",\"BRA\",\"CAN\",..: 15 4 11 5 8 7 9 10 2 3 ...\n",
      " $ Ranking: Factor w/ 15 levels \"1\",\"10\",\"11\",..: 1 8 9 10 11 12 13 14 15 2 ...\n",
      " $ Nation : Factor w/ 15 levels \"Australia\",\"Brazil\",..: 15 4 9 6 14 5 7 8 2 3 ...\n",
      " $ GDP    : Factor w/ 15 levels \" 1,223,809 \",..: 13 8 15 14 12 11 10 9 7 6 ...\n"
     ]
    }
   ],
   "source": [
    "# for문을 이용한 factor 조정\n",
    "\n",
    "for(i in 1:ncol(GDP_ranking15)){\n",
    "    \n",
    "    GDP_ranking15[,i] <- factor(GDP_ranking15[,i])\n",
    "}\n",
    "str(GDP_ranking15)"
   ]
  },
  {
   "cell_type": "code",
   "execution_count": 22,
   "id": "e12927b3",
   "metadata": {
    "vscode": {
     "languageId": "r"
    }
   },
   "outputs": [
    {
     "name": "stderr",
     "output_type": "stream",
     "text": [
      "\n",
      "Attaching package: 'stringr'\n",
      "\n",
      "The following object is masked _by_ '.GlobalEnv':\n",
      "\n",
      "    fruit\n",
      "\n"
     ]
    },
    {
     "name": "stdout",
     "output_type": "stream",
     "text": [
      "'data.frame':\t15 obs. of  4 variables:\n",
      " $ Code   : Factor w/ 15 levels \"AUS\",\"BRA\",\"CAN\",..: 15 4 11 5 8 7 9 10 2 3 ...\n",
      " $ Ranking: Factor w/ 15 levels \"1\",\"10\",\"11\",..: 1 8 9 10 11 12 13 14 15 2 ...\n",
      " $ Nation : Factor w/ 15 levels \"Australia\",\"Brazil\",..: 15 4 9 6 14 5 7 8 2 3 ...\n",
      " $ GDP    : num  20494100 13608152 4970916 3996759 2825208 ...\n"
     ]
    }
   ],
   "source": [
    "library(stringr)\n",
    "\n",
    "GDP_ranking15$GDP <- as.numeric(str_remove_all(GDP_ranking15$GDP, \",\"))\n",
    "str(GDP_ranking15)"
   ]
  },
  {
   "cell_type": "code",
   "execution_count": 23,
   "id": "04cfb6e6",
   "metadata": {
    "vscode": {
     "languageId": "r"
    }
   },
   "outputs": [
    {
     "data": {
      "image/png": "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",
      "text/plain": [
       "Plot with title \"2018년 GDP 세계 15위 국가\""
      ]
     },
     "metadata": {},
     "output_type": "display_data"
    }
   ],
   "source": [
    "# 막대그래프\n",
    "\n",
    "options(scipen=100)\n",
    "options(warn=-1)\n",
    "par(family = \"AppleGothic\")\n",
    "\n",
    "barplot(GDP_ranking15$GDP/1000, # GDP 상위 15개국 Data\n",
    "        main = \"2018년 GDP 세계 15위 국가\",\n",
    "        xlab = \"국가(Nation)\",\n",
    "        ylab = \"단위(달러)\",\n",
    "        names = GDP_ranking15$Code,\n",
    "        cex.names = 0.7,\n",
    "        #col = c(rep('red',2), rep('blue',9),'red',rep('blue',3)),\n",
    "        col = ifelse(GDP_ranking15$GDP/1000 >=3000, 'red', 'blue'),\n",
    "        ylim = c(0, 25000)\n",
    "       )"
   ]
  },
  {
   "cell_type": "code",
   "execution_count": 24,
   "id": "d8f2d306",
   "metadata": {
    "vscode": {
     "languageId": "r"
    }
   },
   "outputs": [],
   "source": [
    "# GDP가 3000 이상인 국가만 빨간색으로 표시하기"
   ]
  },
  {
   "cell_type": "markdown",
   "id": "16bc15a5",
   "metadata": {},
   "source": [
    "---\n",
    "# 데이터 처리"
   ]
  },
  {
   "cell_type": "code",
   "execution_count": 25,
   "id": "9579a387",
   "metadata": {
    "vscode": {
     "languageId": "r"
    }
   },
   "outputs": [
    {
     "name": "stderr",
     "output_type": "stream",
     "text": [
      "\n",
      "Attaching package: 'dplyr'\n",
      "\n",
      "The following objects are masked from 'package:stats':\n",
      "\n",
      "    filter, lag\n",
      "\n",
      "The following objects are masked from 'package:base':\n",
      "\n",
      "    intersect, setdiff, setequal, union\n",
      "\n"
     ]
    }
   ],
   "source": [
    "# 데이터 정렬\n",
    "\n",
    "library(dplyr)"
   ]
  },
  {
   "cell_type": "code",
   "execution_count": 26,
   "id": "2c2d5515",
   "metadata": {
    "vscode": {
     "languageId": "r"
    }
   },
   "outputs": [
    {
     "data": {
      "text/html": [
       "<table>\n",
       "<thead><tr><th scope=col>Sepal.Length</th><th scope=col>Sepal.Width</th><th scope=col>Petal.Length</th><th scope=col>Petal.Width</th><th scope=col>Species</th></tr></thead>\n",
       "<tbody>\n",
       "\t<tr><td>4.3   </td><td>3.0   </td><td>1.1   </td><td>0.1   </td><td>setosa</td></tr>\n",
       "\t<tr><td>4.4   </td><td>2.9   </td><td>1.4   </td><td>0.2   </td><td>setosa</td></tr>\n",
       "\t<tr><td>4.4   </td><td>3.0   </td><td>1.3   </td><td>0.2   </td><td>setosa</td></tr>\n",
       "\t<tr><td>4.4   </td><td>3.2   </td><td>1.3   </td><td>0.2   </td><td>setosa</td></tr>\n",
       "\t<tr><td>4.5   </td><td>2.3   </td><td>1.3   </td><td>0.3   </td><td>setosa</td></tr>\n",
       "\t<tr><td>4.6   </td><td>3.1   </td><td>1.5   </td><td>0.2   </td><td>setosa</td></tr>\n",
       "</tbody>\n",
       "</table>\n"
      ],
      "text/latex": [
       "\\begin{tabular}{r|lllll}\n",
       " Sepal.Length & Sepal.Width & Petal.Length & Petal.Width & Species\\\\\n",
       "\\hline\n",
       "\t 4.3    & 3.0    & 1.1    & 0.1    & setosa\\\\\n",
       "\t 4.4    & 2.9    & 1.4    & 0.2    & setosa\\\\\n",
       "\t 4.4    & 3.0    & 1.3    & 0.2    & setosa\\\\\n",
       "\t 4.4    & 3.2    & 1.3    & 0.2    & setosa\\\\\n",
       "\t 4.5    & 2.3    & 1.3    & 0.3    & setosa\\\\\n",
       "\t 4.6    & 3.1    & 1.5    & 0.2    & setosa\\\\\n",
       "\\end{tabular}\n"
      ],
      "text/markdown": [
       "\n",
       "| Sepal.Length | Sepal.Width | Petal.Length | Petal.Width | Species |\n",
       "|---|---|---|---|---|\n",
       "| 4.3    | 3.0    | 1.1    | 0.1    | setosa |\n",
       "| 4.4    | 2.9    | 1.4    | 0.2    | setosa |\n",
       "| 4.4    | 3.0    | 1.3    | 0.2    | setosa |\n",
       "| 4.4    | 3.2    | 1.3    | 0.2    | setosa |\n",
       "| 4.5    | 2.3    | 1.3    | 0.3    | setosa |\n",
       "| 4.6    | 3.1    | 1.5    | 0.2    | setosa |\n",
       "\n"
      ],
      "text/plain": [
       "  Sepal.Length Sepal.Width Petal.Length Petal.Width Species\n",
       "1 4.3          3.0         1.1          0.1         setosa \n",
       "2 4.4          2.9         1.4          0.2         setosa \n",
       "3 4.4          3.0         1.3          0.2         setosa \n",
       "4 4.4          3.2         1.3          0.2         setosa \n",
       "5 4.5          2.3         1.3          0.3         setosa \n",
       "6 4.6          3.1         1.5          0.2         setosa "
      ]
     },
     "metadata": {},
     "output_type": "display_data"
    }
   ],
   "source": [
    "# Sepal.Length 기준으로 오름차순 정렬하기\n",
    "\n",
    "head(arrange(iris, Sepal.Length))"
   ]
  },
  {
   "cell_type": "code",
   "execution_count": 27,
   "id": "1b3fa95a",
   "metadata": {
    "vscode": {
     "languageId": "r"
    }
   },
   "outputs": [
    {
     "data": {
      "text/html": [
       "<table>\n",
       "<thead><tr><th scope=col>Sepal.Length</th><th scope=col>Sepal.Width</th><th scope=col>Petal.Length</th><th scope=col>Petal.Width</th><th scope=col>Species</th></tr></thead>\n",
       "<tbody>\n",
       "\t<tr><td>4.3   </td><td>3.0   </td><td>1.1   </td><td>0.1   </td><td>setosa</td></tr>\n",
       "\t<tr><td>4.4   </td><td>3.0   </td><td>1.3   </td><td>0.2   </td><td>setosa</td></tr>\n",
       "\t<tr><td>4.4   </td><td>3.2   </td><td>1.3   </td><td>0.2   </td><td>setosa</td></tr>\n",
       "\t<tr><td>4.4   </td><td>2.9   </td><td>1.4   </td><td>0.2   </td><td>setosa</td></tr>\n",
       "\t<tr><td>4.5   </td><td>2.3   </td><td>1.3   </td><td>0.3   </td><td>setosa</td></tr>\n",
       "\t<tr><td>4.6   </td><td>3.6   </td><td>1.0   </td><td>0.2   </td><td>setosa</td></tr>\n",
       "</tbody>\n",
       "</table>\n"
      ],
      "text/latex": [
       "\\begin{tabular}{r|lllll}\n",
       " Sepal.Length & Sepal.Width & Petal.Length & Petal.Width & Species\\\\\n",
       "\\hline\n",
       "\t 4.3    & 3.0    & 1.1    & 0.1    & setosa\\\\\n",
       "\t 4.4    & 3.0    & 1.3    & 0.2    & setosa\\\\\n",
       "\t 4.4    & 3.2    & 1.3    & 0.2    & setosa\\\\\n",
       "\t 4.4    & 2.9    & 1.4    & 0.2    & setosa\\\\\n",
       "\t 4.5    & 2.3    & 1.3    & 0.3    & setosa\\\\\n",
       "\t 4.6    & 3.6    & 1.0    & 0.2    & setosa\\\\\n",
       "\\end{tabular}\n"
      ],
      "text/markdown": [
       "\n",
       "| Sepal.Length | Sepal.Width | Petal.Length | Petal.Width | Species |\n",
       "|---|---|---|---|---|\n",
       "| 4.3    | 3.0    | 1.1    | 0.1    | setosa |\n",
       "| 4.4    | 3.0    | 1.3    | 0.2    | setosa |\n",
       "| 4.4    | 3.2    | 1.3    | 0.2    | setosa |\n",
       "| 4.4    | 2.9    | 1.4    | 0.2    | setosa |\n",
       "| 4.5    | 2.3    | 1.3    | 0.3    | setosa |\n",
       "| 4.6    | 3.6    | 1.0    | 0.2    | setosa |\n",
       "\n"
      ],
      "text/plain": [
       "  Sepal.Length Sepal.Width Petal.Length Petal.Width Species\n",
       "1 4.3          3.0         1.1          0.1         setosa \n",
       "2 4.4          3.0         1.3          0.2         setosa \n",
       "3 4.4          3.2         1.3          0.2         setosa \n",
       "4 4.4          2.9         1.4          0.2         setosa \n",
       "5 4.5          2.3         1.3          0.3         setosa \n",
       "6 4.6          3.6         1.0          0.2         setosa "
      ]
     },
     "metadata": {},
     "output_type": "display_data"
    }
   ],
   "source": [
    "# Sepal.Length기준으로 정렬후 동일한 크기를 가진 데이터 발생시 Petal.Length기준으로 오름차순으로 정렬\n",
    "# default : 오름차순\n",
    "head(arrange(iris, Sepal.Length, Petal.Length))"
   ]
  },
  {
   "cell_type": "code",
   "execution_count": 28,
   "id": "d27dc6f0",
   "metadata": {
    "vscode": {
     "languageId": "r"
    }
   },
   "outputs": [
    {
     "data": {
      "text/html": [
       "<table>\n",
       "<thead><tr><th scope=col>Sepal.Length</th><th scope=col>Sepal.Width</th><th scope=col>Petal.Length</th><th scope=col>Petal.Width</th><th scope=col>Species</th></tr></thead>\n",
       "<tbody>\n",
       "\t<tr><td>7.9      </td><td>3.8      </td><td>6.4      </td><td>2.0      </td><td>virginica</td></tr>\n",
       "\t<tr><td>7.7      </td><td>3.8      </td><td>6.7      </td><td>2.2      </td><td>virginica</td></tr>\n",
       "\t<tr><td>7.7      </td><td>2.6      </td><td>6.9      </td><td>2.3      </td><td>virginica</td></tr>\n",
       "\t<tr><td>7.7      </td><td>2.8      </td><td>6.7      </td><td>2.0      </td><td>virginica</td></tr>\n",
       "\t<tr><td>7.7      </td><td>3.0      </td><td>6.1      </td><td>2.3      </td><td>virginica</td></tr>\n",
       "\t<tr><td>7.6      </td><td>3.0      </td><td>6.6      </td><td>2.1      </td><td>virginica</td></tr>\n",
       "</tbody>\n",
       "</table>\n"
      ],
      "text/latex": [
       "\\begin{tabular}{r|lllll}\n",
       " Sepal.Length & Sepal.Width & Petal.Length & Petal.Width & Species\\\\\n",
       "\\hline\n",
       "\t 7.9       & 3.8       & 6.4       & 2.0       & virginica\\\\\n",
       "\t 7.7       & 3.8       & 6.7       & 2.2       & virginica\\\\\n",
       "\t 7.7       & 2.6       & 6.9       & 2.3       & virginica\\\\\n",
       "\t 7.7       & 2.8       & 6.7       & 2.0       & virginica\\\\\n",
       "\t 7.7       & 3.0       & 6.1       & 2.3       & virginica\\\\\n",
       "\t 7.6       & 3.0       & 6.6       & 2.1       & virginica\\\\\n",
       "\\end{tabular}\n"
      ],
      "text/markdown": [
       "\n",
       "| Sepal.Length | Sepal.Width | Petal.Length | Petal.Width | Species |\n",
       "|---|---|---|---|---|\n",
       "| 7.9       | 3.8       | 6.4       | 2.0       | virginica |\n",
       "| 7.7       | 3.8       | 6.7       | 2.2       | virginica |\n",
       "| 7.7       | 2.6       | 6.9       | 2.3       | virginica |\n",
       "| 7.7       | 2.8       | 6.7       | 2.0       | virginica |\n",
       "| 7.7       | 3.0       | 6.1       | 2.3       | virginica |\n",
       "| 7.6       | 3.0       | 6.6       | 2.1       | virginica |\n",
       "\n"
      ],
      "text/plain": [
       "  Sepal.Length Sepal.Width Petal.Length Petal.Width Species  \n",
       "1 7.9          3.8         6.4          2.0         virginica\n",
       "2 7.7          3.8         6.7          2.2         virginica\n",
       "3 7.7          2.6         6.9          2.3         virginica\n",
       "4 7.7          2.8         6.7          2.0         virginica\n",
       "5 7.7          3.0         6.1          2.3         virginica\n",
       "6 7.6          3.0         6.6          2.1         virginica"
      ]
     },
     "metadata": {},
     "output_type": "display_data"
    }
   ],
   "source": [
    "# Sepal.Length 기준으로 내림차순 정렬 desc()\n",
    "\n",
    "head(arrange(iris, desc(Sepal.Length)))"
   ]
  },
  {
   "cell_type": "code",
   "execution_count": 29,
   "id": "1d774a2e",
   "metadata": {
    "scrolled": true,
    "vscode": {
     "languageId": "r"
    }
   },
   "outputs": [
    {
     "data": {
      "text/html": [
       "<table>\n",
       "<thead><tr><th scope=col>Sepal.Length</th><th scope=col>Sepal.Width</th></tr></thead>\n",
       "<tbody>\n",
       "\t<tr><td>7.9</td><td>3.8</td></tr>\n",
       "\t<tr><td>7.7</td><td>3.8</td></tr>\n",
       "\t<tr><td>7.7</td><td>2.6</td></tr>\n",
       "\t<tr><td>7.7</td><td>2.8</td></tr>\n",
       "\t<tr><td>7.7</td><td>3.0</td></tr>\n",
       "\t<tr><td>7.6</td><td>3.0</td></tr>\n",
       "</tbody>\n",
       "</table>\n"
      ],
      "text/latex": [
       "\\begin{tabular}{r|ll}\n",
       " Sepal.Length & Sepal.Width\\\\\n",
       "\\hline\n",
       "\t 7.9 & 3.8\\\\\n",
       "\t 7.7 & 3.8\\\\\n",
       "\t 7.7 & 2.6\\\\\n",
       "\t 7.7 & 2.8\\\\\n",
       "\t 7.7 & 3.0\\\\\n",
       "\t 7.6 & 3.0\\\\\n",
       "\\end{tabular}\n"
      ],
      "text/markdown": [
       "\n",
       "| Sepal.Length | Sepal.Width |\n",
       "|---|---|\n",
       "| 7.9 | 3.8 |\n",
       "| 7.7 | 3.8 |\n",
       "| 7.7 | 2.6 |\n",
       "| 7.7 | 2.8 |\n",
       "| 7.7 | 3.0 |\n",
       "| 7.6 | 3.0 |\n",
       "\n"
      ],
      "text/plain": [
       "  Sepal.Length Sepal.Width\n",
       "1 7.9          3.8        \n",
       "2 7.7          3.8        \n",
       "3 7.7          2.6        \n",
       "4 7.7          2.8        \n",
       "5 7.7          3.0        \n",
       "6 7.6          3.0        "
      ]
     },
     "metadata": {},
     "output_type": "display_data"
    }
   ],
   "source": [
    "# Sepal.Length 기준으로 내림차순 정렬 후 Sepal.Length와 Sepal.Width만 보기\n",
    "# arrange(데이터범위, 정렬할 컬럼)\n",
    "head(arrange(iris[,1:2], desc(Sepal.Length)))"
   ]
  },
  {
   "cell_type": "markdown",
   "id": "5ba69b18",
   "metadata": {},
   "source": [
    "---\n",
    "# 샘플링"
   ]
  },
  {
   "cell_type": "code",
   "execution_count": 30,
   "id": "502cca1d",
   "metadata": {
    "vscode": {
     "languageId": "r"
    }
   },
   "outputs": [
    {
     "data": {
      "text/html": [
       "<ol class=list-inline>\n",
<<<<<<< HEAD
       "\t<li>38</li>\n",
       "\t<li>41</li>\n",
       "\t<li>29</li>\n",
       "\t<li>23</li>\n",
       "\t<li>15</li>\n",
       "\t<li>40</li>\n",
=======
       "\t<li>19</li>\n",
       "\t<li>5</li>\n",
       "\t<li>9</li>\n",
       "\t<li>23</li>\n",
       "\t<li>43</li>\n",
       "\t<li>32</li>\n",
>>>>>>> d1386cba2df793d0b05db45d076424384bad3982
       "</ol>\n"
      ],
      "text/latex": [
       "\\begin{enumerate*}\n",
<<<<<<< HEAD
       "\\item 38\n",
       "\\item 41\n",
       "\\item 29\n",
       "\\item 23\n",
       "\\item 15\n",
       "\\item 40\n",
       "\\end{enumerate*}\n"
      ],
      "text/markdown": [
       "1. 38\n",
       "2. 41\n",
       "3. 29\n",
       "4. 23\n",
       "5. 15\n",
       "6. 40\n",
=======
       "\\item 19\n",
       "\\item 5\n",
       "\\item 9\n",
       "\\item 23\n",
       "\\item 43\n",
       "\\item 32\n",
       "\\end{enumerate*}\n"
      ],
      "text/markdown": [
       "1. 19\n",
       "2. 5\n",
       "3. 9\n",
       "4. 23\n",
       "5. 43\n",
       "6. 32\n",
>>>>>>> d1386cba2df793d0b05db45d076424384bad3982
       "\n",
       "\n"
      ],
      "text/plain": [
<<<<<<< HEAD
       "[1] 38 41 29 23 15 40"
=======
       "[1] 19  5  9 23 43 32"
>>>>>>> d1386cba2df793d0b05db45d076424384bad3982
      ]
     },
     "metadata": {},
     "output_type": "display_data"
    }
   ],
   "source": [
    "# 랜덤 샘플링(중복값 허용하지 않음)\n",
    "sample(1:45, 6)"
   ]
  },
  {
   "cell_type": "code",
   "execution_count": 31,
   "id": "2eead87f",
   "metadata": {
    "vscode": {
     "languageId": "r"
    }
   },
   "outputs": [
    {
     "data": {
      "text/html": [
       "150"
      ],
      "text/latex": [
       "150"
      ],
      "text/markdown": [
       "150"
      ],
      "text/plain": [
       "[1] 150"
      ]
     },
     "metadata": {},
     "output_type": "display_data"
    },
    {
     "data": {
      "text/html": [
       "5"
      ],
      "text/latex": [
       "5"
      ],
      "text/markdown": [
       "5"
      ],
      "text/plain": [
       "[1] 5"
      ]
     },
     "metadata": {},
     "output_type": "display_data"
    }
   ],
   "source": [
    "nrow(iris)\n",
    "ncol(iris)"
   ]
  },
  {
   "cell_type": "code",
   "execution_count": 32,
   "id": "a8c18372",
   "metadata": {
    "vscode": {
     "languageId": "r"
    }
   },
   "outputs": [
    {
     "data": {
      "text/html": [
       "<ol class=list-inline>\n",
<<<<<<< HEAD
       "\t<li>142</li>\n",
       "\t<li>68</li>\n",
       "\t<li>8</li>\n",
       "\t<li>103</li>\n",
       "\t<li>75</li>\n",
       "\t<li>18</li>\n",
       "\t<li>145</li>\n",
       "\t<li>26</li>\n",
       "\t<li>148</li>\n",
       "\t<li>95</li>\n",
       "\t<li>106</li>\n",
       "\t<li>138</li>\n",
       "\t<li>129</li>\n",
       "\t<li>51</li>\n",
       "\t<li>17</li>\n",
       "\t<li>86</li>\n",
       "\t<li>57</li>\n",
       "\t<li>6</li>\n",
       "\t<li>128</li>\n",
       "\t<li>27</li>\n",
       "\t<li>130</li>\n",
       "\t<li>137</li>\n",
       "\t<li>62</li>\n",
       "\t<li>21</li>\n",
       "\t<li>60</li>\n",
       "\t<li>118</li>\n",
       "\t<li>36</li>\n",
       "\t<li>87</li>\n",
       "\t<li>114</li>\n",
       "\t<li>117</li>\n",
       "\t<li>97</li>\n",
       "\t<li>20</li>\n",
       "\t<li>46</li>\n",
       "\t<li>47</li>\n",
       "\t<li>30</li>\n",
       "\t<li>49</li>\n",
       "\t<li>41</li>\n",
       "\t<li>32</li>\n",
       "\t<li>33</li>\n",
       "\t<li>119</li>\n",
       "\t<li>135</li>\n",
       "\t<li>79</li>\n",
       "\t<li>83</li>\n",
       "\t<li>107</li>\n",
       "\t<li>52</li>\n",
       "\t<li>11</li>\n",
       "\t<li>42</li>\n",
       "\t<li>55</li>\n",
       "\t<li>28</li>\n",
       "\t<li>40</li>\n",
       "\t<li>34</li>\n",
       "\t<li>132</li>\n",
       "\t<li>58</li>\n",
       "\t<li>78</li>\n",
       "\t<li>113</li>\n",
       "\t<li>81</li>\n",
       "\t<li>93</li>\n",
       "\t<li>61</li>\n",
       "\t<li>7</li>\n",
       "\t<li>53</li>\n",
       "\t<li>10</li>\n",
       "\t<li>9</li>\n",
       "\t<li>149</li>\n",
       "\t<li>80</li>\n",
       "\t<li>63</li>\n",
       "\t<li>121</li>\n",
       "\t<li>126</li>\n",
       "\t<li>110</li>\n",
       "\t<li>108</li>\n",
       "\t<li>120</li>\n",
       "\t<li>116</li>\n",
       "\t<li>76</li>\n",
       "\t<li>77</li>\n",
       "\t<li>13</li>\n",
       "\t<li>67</li>\n",
       "\t<li>124</li>\n",
       "\t<li>22</li>\n",
       "\t<li>1</li>\n",
       "\t<li>74</li>\n",
       "\t<li>64</li>\n",
       "\t<li>89</li>\n",
       "\t<li>133</li>\n",
       "\t<li>35</li>\n",
       "\t<li>72</li>\n",
       "\t<li>101</li>\n",
       "\t<li>38</li>\n",
       "\t<li>69</li>\n",
       "\t<li>56</li>\n",
       "\t<li>99</li>\n",
       "\t<li>59</li>\n",
       "\t<li>122</li>\n",
       "\t<li>144</li>\n",
       "\t<li>96</li>\n",
       "\t<li>104</li>\n",
       "\t<li>105</li>\n",
       "\t<li>91</li>\n",
       "\t<li>50</li>\n",
       "\t<li>82</li>\n",
       "\t<li>31</li>\n",
       "\t<li>85</li>\n",
       "\t<li>15</li>\n",
       "\t<li>125</li>\n",
       "\t<li>16</li>\n",
       "\t<li>66</li>\n",
       "\t<li>115</li>\n",
=======
       "\t<li>72</li>\n",
       "\t<li>130</li>\n",
       "\t<li>35</li>\n",
       "\t<li>37</li>\n",
       "\t<li>71</li>\n",
       "\t<li>148</li>\n",
       "\t<li>93</li>\n",
       "\t<li>149</li>\n",
       "\t<li>40</li>\n",
       "\t<li>31</li>\n",
       "\t<li>115</li>\n",
       "\t<li>48</li>\n",
       "\t<li>42</li>\n",
       "\t<li>131</li>\n",
       "\t<li>5</li>\n",
       "\t<li>30</li>\n",
       "\t<li>85</li>\n",
       "\t<li>134</li>\n",
       "\t<li>50</li>\n",
       "\t<li>32</li>\n",
       "\t<li>91</li>\n",
       "\t<li>10</li>\n",
       "\t<li>118</li>\n",
       "\t<li>137</li>\n",
       "\t<li>61</li>\n",
       "\t<li>117</li>\n",
       "\t<li>57</li>\n",
       "\t<li>17</li>\n",
       "\t<li>1</li>\n",
       "\t<li>106</li>\n",
       "\t<li>66</li>\n",
       "\t<li>107</li>\n",
       "\t<li>47</li>\n",
       "\t<li>147</li>\n",
       "\t<li>97</li>\n",
       "\t<li>19</li>\n",
       "\t<li>120</li>\n",
       "\t<li>38</li>\n",
       "\t<li>22</li>\n",
       "\t<li>150</li>\n",
       "\t<li>142</li>\n",
       "\t<li>89</li>\n",
       "\t<li>23</li>\n",
       "\t<li>100</li>\n",
       "\t<li>114</li>\n",
       "\t<li>53</li>\n",
       "\t<li>109</li>\n",
       "\t<li>11</li>\n",
       "\t<li>132</li>\n",
       "\t<li>12</li>\n",
       "\t<li>104</li>\n",
       "\t<li>129</li>\n",
       "\t<li>27</li>\n",
       "\t<li>94</li>\n",
       "\t<li>135</li>\n",
       "\t<li>101</li>\n",
       "\t<li>139</li>\n",
       "\t<li>24</li>\n",
       "\t<li>4</li>\n",
       "\t<li>46</li>\n",
       "\t<li>77</li>\n",
       "\t<li>79</li>\n",
       "\t<li>13</li>\n",
       "\t<li>103</li>\n",
       "\t<li>111</li>\n",
       "\t<li>52</li>\n",
       "\t<li>81</li>\n",
       "\t<li>18</li>\n",
       "\t<li>87</li>\n",
       "\t<li>124</li>\n",
       "\t<li>136</li>\n",
       "\t<li>143</li>\n",
       "\t<li>29</li>\n",
       "\t<li>75</li>\n",
       "\t<li>41</li>\n",
       "\t<li>99</li>\n",
       "\t<li>126</li>\n",
       "\t<li>123</li>\n",
       "\t<li>55</li>\n",
       "\t<li>86</li>\n",
       "\t<li>138</li>\n",
       "\t<li>14</li>\n",
       "\t<li>146</li>\n",
       "\t<li>60</li>\n",
       "\t<li>8</li>\n",
       "\t<li>145</li>\n",
       "\t<li>28</li>\n",
       "\t<li>44</li>\n",
       "\t<li>98</li>\n",
       "\t<li>144</li>\n",
       "\t<li>102</li>\n",
       "\t<li>59</li>\n",
       "\t<li>92</li>\n",
       "\t<li>15</li>\n",
       "\t<li>43</li>\n",
       "\t<li>122</li>\n",
       "\t<li>90</li>\n",
       "\t<li>121</li>\n",
       "\t<li>62</li>\n",
       "\t<li>110</li>\n",
       "\t<li>64</li>\n",
       "\t<li>20</li>\n",
       "\t<li>95</li>\n",
       "\t<li>76</li>\n",
       "\t<li>88</li>\n",
>>>>>>> d1386cba2df793d0b05db45d076424384bad3982
       "</ol>\n"
      ],
      "text/latex": [
       "\\begin{enumerate*}\n",
<<<<<<< HEAD
       "\\item 142\n",
       "\\item 68\n",
       "\\item 8\n",
       "\\item 103\n",
       "\\item 75\n",
       "\\item 18\n",
       "\\item 145\n",
       "\\item 26\n",
       "\\item 148\n",
       "\\item 95\n",
       "\\item 106\n",
       "\\item 138\n",
       "\\item 129\n",
       "\\item 51\n",
       "\\item 17\n",
       "\\item 86\n",
       "\\item 57\n",
       "\\item 6\n",
       "\\item 128\n",
       "\\item 27\n",
       "\\item 130\n",
       "\\item 137\n",
       "\\item 62\n",
       "\\item 21\n",
       "\\item 60\n",
       "\\item 118\n",
       "\\item 36\n",
       "\\item 87\n",
       "\\item 114\n",
       "\\item 117\n",
       "\\item 97\n",
       "\\item 20\n",
       "\\item 46\n",
       "\\item 47\n",
       "\\item 30\n",
       "\\item 49\n",
       "\\item 41\n",
       "\\item 32\n",
       "\\item 33\n",
       "\\item 119\n",
       "\\item 135\n",
       "\\item 79\n",
       "\\item 83\n",
       "\\item 107\n",
       "\\item 52\n",
       "\\item 11\n",
       "\\item 42\n",
       "\\item 55\n",
       "\\item 28\n",
       "\\item 40\n",
       "\\item 34\n",
       "\\item 132\n",
       "\\item 58\n",
       "\\item 78\n",
       "\\item 113\n",
       "\\item 81\n",
       "\\item 93\n",
       "\\item 61\n",
       "\\item 7\n",
       "\\item 53\n",
       "\\item 10\n",
       "\\item 9\n",
       "\\item 149\n",
       "\\item 80\n",
       "\\item 63\n",
       "\\item 121\n",
       "\\item 126\n",
       "\\item 110\n",
       "\\item 108\n",
       "\\item 120\n",
       "\\item 116\n",
       "\\item 76\n",
       "\\item 77\n",
       "\\item 13\n",
       "\\item 67\n",
       "\\item 124\n",
       "\\item 22\n",
       "\\item 1\n",
       "\\item 74\n",
       "\\item 64\n",
       "\\item 89\n",
       "\\item 133\n",
       "\\item 35\n",
       "\\item 72\n",
       "\\item 101\n",
       "\\item 38\n",
       "\\item 69\n",
       "\\item 56\n",
       "\\item 99\n",
       "\\item 59\n",
       "\\item 122\n",
       "\\item 144\n",
       "\\item 96\n",
       "\\item 104\n",
       "\\item 105\n",
       "\\item 91\n",
       "\\item 50\n",
       "\\item 82\n",
       "\\item 31\n",
       "\\item 85\n",
       "\\item 15\n",
       "\\item 125\n",
       "\\item 16\n",
       "\\item 66\n",
       "\\item 115\n",
       "\\end{enumerate*}\n"
      ],
      "text/markdown": [
       "1. 142\n",
       "2. 68\n",
       "3. 8\n",
       "4. 103\n",
       "5. 75\n",
       "6. 18\n",
       "7. 145\n",
       "8. 26\n",
       "9. 148\n",
       "10. 95\n",
       "11. 106\n",
       "12. 138\n",
       "13. 129\n",
       "14. 51\n",
       "15. 17\n",
       "16. 86\n",
       "17. 57\n",
       "18. 6\n",
       "19. 128\n",
       "20. 27\n",
       "21. 130\n",
       "22. 137\n",
       "23. 62\n",
       "24. 21\n",
       "25. 60\n",
       "26. 118\n",
       "27. 36\n",
       "28. 87\n",
       "29. 114\n",
       "30. 117\n",
       "31. 97\n",
       "32. 20\n",
       "33. 46\n",
       "34. 47\n",
       "35. 30\n",
       "36. 49\n",
       "37. 41\n",
       "38. 32\n",
       "39. 33\n",
       "40. 119\n",
       "41. 135\n",
       "42. 79\n",
       "43. 83\n",
       "44. 107\n",
       "45. 52\n",
       "46. 11\n",
       "47. 42\n",
       "48. 55\n",
       "49. 28\n",
       "50. 40\n",
       "51. 34\n",
       "52. 132\n",
       "53. 58\n",
       "54. 78\n",
       "55. 113\n",
       "56. 81\n",
       "57. 93\n",
       "58. 61\n",
       "59. 7\n",
       "60. 53\n",
       "61. 10\n",
       "62. 9\n",
       "63. 149\n",
       "64. 80\n",
       "65. 63\n",
       "66. 121\n",
       "67. 126\n",
       "68. 110\n",
       "69. 108\n",
       "70. 120\n",
       "71. 116\n",
       "72. 76\n",
       "73. 77\n",
       "74. 13\n",
       "75. 67\n",
       "76. 124\n",
       "77. 22\n",
       "78. 1\n",
       "79. 74\n",
       "80. 64\n",
       "81. 89\n",
       "82. 133\n",
       "83. 35\n",
       "84. 72\n",
       "85. 101\n",
       "86. 38\n",
       "87. 69\n",
       "88. 56\n",
       "89. 99\n",
       "90. 59\n",
       "91. 122\n",
       "92. 144\n",
       "93. 96\n",
       "94. 104\n",
       "95. 105\n",
       "96. 91\n",
       "97. 50\n",
       "98. 82\n",
       "99. 31\n",
       "100. 85\n",
       "101. 15\n",
       "102. 125\n",
       "103. 16\n",
       "104. 66\n",
       "105. 115\n",
=======
       "\\item 72\n",
       "\\item 130\n",
       "\\item 35\n",
       "\\item 37\n",
       "\\item 71\n",
       "\\item 148\n",
       "\\item 93\n",
       "\\item 149\n",
       "\\item 40\n",
       "\\item 31\n",
       "\\item 115\n",
       "\\item 48\n",
       "\\item 42\n",
       "\\item 131\n",
       "\\item 5\n",
       "\\item 30\n",
       "\\item 85\n",
       "\\item 134\n",
       "\\item 50\n",
       "\\item 32\n",
       "\\item 91\n",
       "\\item 10\n",
       "\\item 118\n",
       "\\item 137\n",
       "\\item 61\n",
       "\\item 117\n",
       "\\item 57\n",
       "\\item 17\n",
       "\\item 1\n",
       "\\item 106\n",
       "\\item 66\n",
       "\\item 107\n",
       "\\item 47\n",
       "\\item 147\n",
       "\\item 97\n",
       "\\item 19\n",
       "\\item 120\n",
       "\\item 38\n",
       "\\item 22\n",
       "\\item 150\n",
       "\\item 142\n",
       "\\item 89\n",
       "\\item 23\n",
       "\\item 100\n",
       "\\item 114\n",
       "\\item 53\n",
       "\\item 109\n",
       "\\item 11\n",
       "\\item 132\n",
       "\\item 12\n",
       "\\item 104\n",
       "\\item 129\n",
       "\\item 27\n",
       "\\item 94\n",
       "\\item 135\n",
       "\\item 101\n",
       "\\item 139\n",
       "\\item 24\n",
       "\\item 4\n",
       "\\item 46\n",
       "\\item 77\n",
       "\\item 79\n",
       "\\item 13\n",
       "\\item 103\n",
       "\\item 111\n",
       "\\item 52\n",
       "\\item 81\n",
       "\\item 18\n",
       "\\item 87\n",
       "\\item 124\n",
       "\\item 136\n",
       "\\item 143\n",
       "\\item 29\n",
       "\\item 75\n",
       "\\item 41\n",
       "\\item 99\n",
       "\\item 126\n",
       "\\item 123\n",
       "\\item 55\n",
       "\\item 86\n",
       "\\item 138\n",
       "\\item 14\n",
       "\\item 146\n",
       "\\item 60\n",
       "\\item 8\n",
       "\\item 145\n",
       "\\item 28\n",
       "\\item 44\n",
       "\\item 98\n",
       "\\item 144\n",
       "\\item 102\n",
       "\\item 59\n",
       "\\item 92\n",
       "\\item 15\n",
       "\\item 43\n",
       "\\item 122\n",
       "\\item 90\n",
       "\\item 121\n",
       "\\item 62\n",
       "\\item 110\n",
       "\\item 64\n",
       "\\item 20\n",
       "\\item 95\n",
       "\\item 76\n",
       "\\item 88\n",
       "\\end{enumerate*}\n"
      ],
      "text/markdown": [
       "1. 72\n",
       "2. 130\n",
       "3. 35\n",
       "4. 37\n",
       "5. 71\n",
       "6. 148\n",
       "7. 93\n",
       "8. 149\n",
       "9. 40\n",
       "10. 31\n",
       "11. 115\n",
       "12. 48\n",
       "13. 42\n",
       "14. 131\n",
       "15. 5\n",
       "16. 30\n",
       "17. 85\n",
       "18. 134\n",
       "19. 50\n",
       "20. 32\n",
       "21. 91\n",
       "22. 10\n",
       "23. 118\n",
       "24. 137\n",
       "25. 61\n",
       "26. 117\n",
       "27. 57\n",
       "28. 17\n",
       "29. 1\n",
       "30. 106\n",
       "31. 66\n",
       "32. 107\n",
       "33. 47\n",
       "34. 147\n",
       "35. 97\n",
       "36. 19\n",
       "37. 120\n",
       "38. 38\n",
       "39. 22\n",
       "40. 150\n",
       "41. 142\n",
       "42. 89\n",
       "43. 23\n",
       "44. 100\n",
       "45. 114\n",
       "46. 53\n",
       "47. 109\n",
       "48. 11\n",
       "49. 132\n",
       "50. 12\n",
       "51. 104\n",
       "52. 129\n",
       "53. 27\n",
       "54. 94\n",
       "55. 135\n",
       "56. 101\n",
       "57. 139\n",
       "58. 24\n",
       "59. 4\n",
       "60. 46\n",
       "61. 77\n",
       "62. 79\n",
       "63. 13\n",
       "64. 103\n",
       "65. 111\n",
       "66. 52\n",
       "67. 81\n",
       "68. 18\n",
       "69. 87\n",
       "70. 124\n",
       "71. 136\n",
       "72. 143\n",
       "73. 29\n",
       "74. 75\n",
       "75. 41\n",
       "76. 99\n",
       "77. 126\n",
       "78. 123\n",
       "79. 55\n",
       "80. 86\n",
       "81. 138\n",
       "82. 14\n",
       "83. 146\n",
       "84. 60\n",
       "85. 8\n",
       "86. 145\n",
       "87. 28\n",
       "88. 44\n",
       "89. 98\n",
       "90. 144\n",
       "91. 102\n",
       "92. 59\n",
       "93. 92\n",
       "94. 15\n",
       "95. 43\n",
       "96. 122\n",
       "97. 90\n",
       "98. 121\n",
       "99. 62\n",
       "100. 110\n",
       "101. 64\n",
       "102. 20\n",
       "103. 95\n",
       "104. 76\n",
       "105. 88\n",
>>>>>>> d1386cba2df793d0b05db45d076424384bad3982
       "\n",
       "\n"
      ],
      "text/plain": [
<<<<<<< HEAD
       "  [1] 142  68   8 103  75  18 145  26 148  95 106 138 129  51  17  86  57   6\n",
       " [19] 128  27 130 137  62  21  60 118  36  87 114 117  97  20  46  47  30  49\n",
       " [37]  41  32  33 119 135  79  83 107  52  11  42  55  28  40  34 132  58  78\n",
       " [55] 113  81  93  61   7  53  10   9 149  80  63 121 126 110 108 120 116  76\n",
       " [73]  77  13  67 124  22   1  74  64  89 133  35  72 101  38  69  56  99  59\n",
       " [91] 122 144  96 104 105  91  50  82  31  85  15 125  16  66 115"
=======
       "  [1]  72 130  35  37  71 148  93 149  40  31 115  48  42 131   5  30  85 134\n",
       " [19]  50  32  91  10 118 137  61 117  57  17   1 106  66 107  47 147  97  19\n",
       " [37] 120  38  22 150 142  89  23 100 114  53 109  11 132  12 104 129  27  94\n",
       " [55] 135 101 139  24   4  46  77  79  13 103 111  52  81  18  87 124 136 143\n",
       " [73]  29  75  41  99 126 123  55  86 138  14 146  60   8 145  28  44  98 144\n",
       " [91] 102  59  92  15  43 122  90 121  62 110  64  20  95  76  88"
>>>>>>> d1386cba2df793d0b05db45d076424384bad3982
      ]
     },
     "metadata": {},
     "output_type": "display_data"
    }
   ],
   "source": [
    "samp <- sample(1:nrow(iris), nrow(iris)*0.7)\n",
    "samp"
   ]
  },
  {
   "cell_type": "code",
   "execution_count": 33,
   "id": "a05e7d23",
   "metadata": {
    "vscode": {
     "languageId": "r"
    }
   },
   "outputs": [
    {
     "data": {
      "text/html": [
       "<table>\n",
       "<thead><tr><th></th><th scope=col>Sepal.Length</th><th scope=col>Sepal.Width</th><th scope=col>Petal.Length</th><th scope=col>Petal.Width</th><th scope=col>Species</th></tr></thead>\n",
       "<tbody>\n",
<<<<<<< HEAD
       "\t<tr><th scope=row>142</th><td>6.9       </td><td>3.1       </td><td>5.1       </td><td>2.3       </td><td>virginica </td></tr>\n",
       "\t<tr><th scope=row>68</th><td>5.8       </td><td>2.7       </td><td>4.1       </td><td>1.0       </td><td>versicolor</td></tr>\n",
       "\t<tr><th scope=row>8</th><td>5.0       </td><td>3.4       </td><td>1.5       </td><td>0.2       </td><td>setosa    </td></tr>\n",
       "\t<tr><th scope=row>103</th><td>7.1       </td><td>3.0       </td><td>5.9       </td><td>2.1       </td><td>virginica </td></tr>\n",
       "\t<tr><th scope=row>75</th><td>6.4       </td><td>2.9       </td><td>4.3       </td><td>1.3       </td><td>versicolor</td></tr>\n",
       "\t<tr><th scope=row>18</th><td>5.1       </td><td>3.5       </td><td>1.4       </td><td>0.3       </td><td>setosa    </td></tr>\n",
=======
       "\t<tr><th scope=row>72</th><td>6.1       </td><td>2.8       </td><td>4.0       </td><td>1.3       </td><td>versicolor</td></tr>\n",
       "\t<tr><th scope=row>130</th><td>7.2       </td><td>3.0       </td><td>5.8       </td><td>1.6       </td><td>virginica </td></tr>\n",
       "\t<tr><th scope=row>35</th><td>4.9       </td><td>3.1       </td><td>1.5       </td><td>0.2       </td><td>setosa    </td></tr>\n",
       "\t<tr><th scope=row>37</th><td>5.5       </td><td>3.5       </td><td>1.3       </td><td>0.2       </td><td>setosa    </td></tr>\n",
       "\t<tr><th scope=row>71</th><td>5.9       </td><td>3.2       </td><td>4.8       </td><td>1.8       </td><td>versicolor</td></tr>\n",
       "\t<tr><th scope=row>148</th><td>6.5       </td><td>3.0       </td><td>5.2       </td><td>2.0       </td><td>virginica </td></tr>\n",
>>>>>>> d1386cba2df793d0b05db45d076424384bad3982
       "</tbody>\n",
       "</table>\n"
      ],
      "text/latex": [
       "\\begin{tabular}{r|lllll}\n",
       "  & Sepal.Length & Sepal.Width & Petal.Length & Petal.Width & Species\\\\\n",
       "\\hline\n",
<<<<<<< HEAD
       "\t142 & 6.9        & 3.1        & 5.1        & 2.3        & virginica \\\\\n",
       "\t68 & 5.8        & 2.7        & 4.1        & 1.0        & versicolor\\\\\n",
       "\t8 & 5.0        & 3.4        & 1.5        & 0.2        & setosa    \\\\\n",
       "\t103 & 7.1        & 3.0        & 5.9        & 2.1        & virginica \\\\\n",
       "\t75 & 6.4        & 2.9        & 4.3        & 1.3        & versicolor\\\\\n",
       "\t18 & 5.1        & 3.5        & 1.4        & 0.3        & setosa    \\\\\n",
=======
       "\t72 & 6.1        & 2.8        & 4.0        & 1.3        & versicolor\\\\\n",
       "\t130 & 7.2        & 3.0        & 5.8        & 1.6        & virginica \\\\\n",
       "\t35 & 4.9        & 3.1        & 1.5        & 0.2        & setosa    \\\\\n",
       "\t37 & 5.5        & 3.5        & 1.3        & 0.2        & setosa    \\\\\n",
       "\t71 & 5.9        & 3.2        & 4.8        & 1.8        & versicolor\\\\\n",
       "\t148 & 6.5        & 3.0        & 5.2        & 2.0        & virginica \\\\\n",
>>>>>>> d1386cba2df793d0b05db45d076424384bad3982
       "\\end{tabular}\n"
      ],
      "text/markdown": [
       "\n",
       "| <!--/--> | Sepal.Length | Sepal.Width | Petal.Length | Petal.Width | Species |\n",
       "|---|---|---|---|---|---|\n",
<<<<<<< HEAD
       "| 142 | 6.9        | 3.1        | 5.1        | 2.3        | virginica  |\n",
       "| 68 | 5.8        | 2.7        | 4.1        | 1.0        | versicolor |\n",
       "| 8 | 5.0        | 3.4        | 1.5        | 0.2        | setosa     |\n",
       "| 103 | 7.1        | 3.0        | 5.9        | 2.1        | virginica  |\n",
       "| 75 | 6.4        | 2.9        | 4.3        | 1.3        | versicolor |\n",
       "| 18 | 5.1        | 3.5        | 1.4        | 0.3        | setosa     |\n",
=======
       "| 72 | 6.1        | 2.8        | 4.0        | 1.3        | versicolor |\n",
       "| 130 | 7.2        | 3.0        | 5.8        | 1.6        | virginica  |\n",
       "| 35 | 4.9        | 3.1        | 1.5        | 0.2        | setosa     |\n",
       "| 37 | 5.5        | 3.5        | 1.3        | 0.2        | setosa     |\n",
       "| 71 | 5.9        | 3.2        | 4.8        | 1.8        | versicolor |\n",
       "| 148 | 6.5        | 3.0        | 5.2        | 2.0        | virginica  |\n",
>>>>>>> d1386cba2df793d0b05db45d076424384bad3982
       "\n"
      ],
      "text/plain": [
       "    Sepal.Length Sepal.Width Petal.Length Petal.Width Species   \n",
<<<<<<< HEAD
       "142 6.9          3.1         5.1          2.3         virginica \n",
       "68  5.8          2.7         4.1          1.0         versicolor\n",
       "8   5.0          3.4         1.5          0.2         setosa    \n",
       "103 7.1          3.0         5.9          2.1         virginica \n",
       "75  6.4          2.9         4.3          1.3         versicolor\n",
       "18  5.1          3.5         1.4          0.3         setosa    "
=======
       "72  6.1          2.8         4.0          1.3         versicolor\n",
       "130 7.2          3.0         5.8          1.6         virginica \n",
       "35  4.9          3.1         1.5          0.2         setosa    \n",
       "37  5.5          3.5         1.3          0.2         setosa    \n",
       "71  5.9          3.2         4.8          1.8         versicolor\n",
       "148 6.5          3.0         5.2          2.0         virginica "
>>>>>>> d1386cba2df793d0b05db45d076424384bad3982
      ]
     },
     "metadata": {},
     "output_type": "display_data"
    }
   ],
   "source": [
    "irisSamp <- iris[samp,]\n",
    "head(irisSamp)"
   ]
  },
  {
   "cell_type": "code",
   "execution_count": 34,
   "id": "1dddbb23",
   "metadata": {
    "scrolled": true,
    "vscode": {
     "languageId": "r"
    }
   },
   "outputs": [
    {
     "data": {
      "text/plain": [
<<<<<<< HEAD
       "  Sepal.Length    Sepal.Width     Petal.Length    Petal.Width         Species  \n",
       " Min.   :4.400   Min.   :2.000   Min.   :1.200   Min.   :0.10   setosa    :33  \n",
       " 1st Qu.:5.200   1st Qu.:2.800   1st Qu.:1.600   1st Qu.:0.30   versicolor:38  \n",
       " Median :5.800   Median :3.000   Median :4.400   Median :1.30   virginica :34  \n",
       " Mean   :5.896   Mean   :3.086   Mean   :3.825   Mean   :1.22                  \n",
       " 3rd Qu.:6.500   3rd Qu.:3.400   3rd Qu.:5.100   3rd Qu.:1.80                  \n",
       " Max.   :7.900   Max.   :4.400   Max.   :6.900   Max.   :2.50                  "
=======
       "  Sepal.Length   Sepal.Width     Petal.Length    Petal.Width          Species  \n",
       " Min.   :4.30   Min.   :2.000   Min.   :1.000   Min.   :0.100   setosa    :35  \n",
       " 1st Qu.:5.10   1st Qu.:2.800   1st Qu.:1.500   1st Qu.:0.300   versicolor:32  \n",
       " Median :5.80   Median :3.000   Median :4.400   Median :1.400   virginica :38  \n",
       " Mean   :5.86   Mean   :3.072   Mean   :3.789   Mean   :1.224                  \n",
       " 3rd Qu.:6.40   3rd Qu.:3.400   3rd Qu.:5.100   3rd Qu.:1.800                  \n",
       " Max.   :7.90   Max.   :4.000   Max.   :6.700   Max.   :2.500                  "
>>>>>>> d1386cba2df793d0b05db45d076424384bad3982
      ]
     },
     "metadata": {},
     "output_type": "display_data"
    },
    {
     "data": {
      "text/plain": [
       "  Sepal.Length    Sepal.Width     Petal.Length    Petal.Width   \n",
       " Min.   :4.300   Min.   :2.000   Min.   :1.000   Min.   :0.100  \n",
       " 1st Qu.:5.100   1st Qu.:2.800   1st Qu.:1.600   1st Qu.:0.300  \n",
       " Median :5.800   Median :3.000   Median :4.350   Median :1.300  \n",
       " Mean   :5.843   Mean   :3.057   Mean   :3.758   Mean   :1.199  \n",
       " 3rd Qu.:6.400   3rd Qu.:3.300   3rd Qu.:5.100   3rd Qu.:1.800  \n",
       " Max.   :7.900   Max.   :4.400   Max.   :6.900   Max.   :2.500  \n",
       "       Species  \n",
       " setosa    :50  \n",
       " versicolor:50  \n",
       " virginica :50  \n",
       "                \n",
       "                \n",
       "                "
      ]
     },
     "metadata": {},
     "output_type": "display_data"
    }
   ],
   "source": [
    "summary(irisSamp)\n",
    "summary(iris)"
   ]
  },
  {
   "cell_type": "code",
   "execution_count": 35,
   "id": "6fe425a5",
   "metadata": {
    "vscode": {
     "languageId": "r"
    }
   },
   "outputs": [
    {
     "data": {
      "text/plain": [
       "\n",
       "    setosa versicolor  virginica \n",
<<<<<<< HEAD
       "        33         38         34 "
=======
       "        35         32         38 "
>>>>>>> d1386cba2df793d0b05db45d076424384bad3982
      ]
     },
     "metadata": {},
     "output_type": "display_data"
    }
   ],
   "source": [
    "table(irisSamp$Species)"
   ]
  },
  {
   "cell_type": "code",
   "execution_count": 36,
   "id": "4df84575",
   "metadata": {
    "vscode": {
     "languageId": "r"
    }
   },
   "outputs": [],
   "source": [
    "# 샘플링은 그룹별로 샘플링 해주는 것이 좋다\n",
    "# iris Sampling시 Species별로 Sampling\n",
    "\n",
    "samp <- c(sample(1:50, 35),sample(51:100, 35),sample(101:150, 35))"
   ]
  },
  {
   "cell_type": "code",
   "execution_count": 37,
   "id": "cd84aee2",
   "metadata": {
    "vscode": {
     "languageId": "r"
    }
   },
   "outputs": [
    {
     "data": {
      "text/plain": [
       "\n",
       "    setosa versicolor  virginica \n",
       "        35         35         35 "
      ]
     },
     "metadata": {},
     "output_type": "display_data"
    }
   ],
   "source": [
    "irisSamp <- iris[samp,]\n",
    "table(irisSamp$Species)"
   ]
  },
  {
   "cell_type": "code",
   "execution_count": 38,
   "id": "7c6f5031",
   "metadata": {
    "vscode": {
     "languageId": "r"
    }
   },
   "outputs": [],
   "source": [
    "# Traning Data와 Test Data분리하기\n",
    "\n",
    "iris.train <- iris[samp,]\n",
    "iris.test <- iris[-samp,]"
   ]
  },
  {
   "cell_type": "code",
   "execution_count": 39,
   "id": "91df4b91",
   "metadata": {
    "vscode": {
     "languageId": "r"
    }
   },
   "outputs": [
    {
     "data": {
      "text/plain": [
<<<<<<< HEAD
       "  Sepal.Length   Sepal.Width     Petal.Length    Petal.Width          Species  \n",
       " Min.   :4.40   Min.   :2.000   Min.   :1.000   Min.   :0.100   setosa    :35  \n",
       " 1st Qu.:5.10   1st Qu.:2.800   1st Qu.:1.500   1st Qu.:0.300   versicolor:35  \n",
       " Median :5.80   Median :3.000   Median :4.300   Median :1.300   virginica :35  \n",
       " Mean   :5.83   Mean   :3.073   Mean   :3.738   Mean   :1.198                  \n",
       " 3rd Qu.:6.40   3rd Qu.:3.400   3rd Qu.:5.100   3rd Qu.:1.800                  \n",
       " Max.   :7.90   Max.   :4.400   Max.   :6.700   Max.   :2.500                  "
=======
       "  Sepal.Length    Sepal.Width     Petal.Length   Petal.Width          Species  \n",
       " Min.   :4.300   Min.   :2.000   Min.   :1.00   Min.   :0.100   setosa    :35  \n",
       " 1st Qu.:5.100   1st Qu.:2.800   1st Qu.:1.60   1st Qu.:0.300   versicolor:35  \n",
       " Median :5.700   Median :3.000   Median :4.20   Median :1.300   virginica :35  \n",
       " Mean   :5.825   Mean   :3.052   Mean   :3.73   Mean   :1.196                  \n",
       " 3rd Qu.:6.400   3rd Qu.:3.300   3rd Qu.:5.10   3rd Qu.:1.800                  \n",
       " Max.   :7.700   Max.   :4.400   Max.   :6.90   Max.   :2.500                  "
>>>>>>> d1386cba2df793d0b05db45d076424384bad3982
      ]
     },
     "metadata": {},
     "output_type": "display_data"
    }
   ],
   "source": [
    "summary(iris.train)"
   ]
  },
  {
   "cell_type": "code",
   "execution_count": 40,
   "id": "96391c2c",
   "metadata": {
    "vscode": {
     "languageId": "r"
    }
   },
   "outputs": [
    {
     "data": {
      "text/plain": [
<<<<<<< HEAD
       "  Sepal.Length    Sepal.Width    Petal.Length    Petal.Width          Species  \n",
       " Min.   :4.300   Min.   :2.20   Min.   :1.100   Min.   :0.100   setosa    :15  \n",
       " 1st Qu.:5.100   1st Qu.:2.80   1st Qu.:1.700   1st Qu.:0.300   versicolor:15  \n",
       " Median :5.900   Median :3.00   Median :4.400   Median :1.300   virginica :15  \n",
       " Mean   :5.876   Mean   :3.02   Mean   :3.804   Mean   :1.202                  \n",
       " 3rd Qu.:6.500   3rd Qu.:3.20   3rd Qu.:5.100   3rd Qu.:1.800                  \n",
       " Max.   :7.700   Max.   :3.90   Max.   :6.900   Max.   :2.500                  "
=======
       "  Sepal.Length    Sepal.Width     Petal.Length    Petal.Width   \n",
       " Min.   :4.400   Min.   :2.200   Min.   :1.300   Min.   :0.200  \n",
       " 1st Qu.:5.400   1st Qu.:2.800   1st Qu.:1.600   1st Qu.:0.300  \n",
       " Median :6.000   Median :3.000   Median :4.500   Median :1.400  \n",
       " Mean   :5.887   Mean   :3.069   Mean   :3.822   Mean   :1.207  \n",
       " 3rd Qu.:6.400   3rd Qu.:3.400   3rd Qu.:5.100   3rd Qu.:1.900  \n",
       " Max.   :7.900   Max.   :4.200   Max.   :6.600   Max.   :2.500  \n",
       "       Species  \n",
       " setosa    :15  \n",
       " versicolor:15  \n",
       " virginica :15  \n",
       "                \n",
       "                \n",
       "                "
>>>>>>> d1386cba2df793d0b05db45d076424384bad3982
      ]
     },
     "metadata": {},
     "output_type": "display_data"
    }
   ],
   "source": [
    "summary(iris.test)"
   ]
  },
  {
   "cell_type": "markdown",
   "id": "68804341",
   "metadata": {},
   "source": [
    "---\n",
    "# 부분집합"
   ]
  },
  {
   "cell_type": "code",
   "execution_count": 41,
   "id": "b54fd1e6",
   "metadata": {
    "vscode": {
     "languageId": "r"
    }
   },
   "outputs": [
    {
     "data": {
      "text/html": [
       "<table>\n",
       "<thead><tr><th scope=col>Sepal.Length</th><th scope=col>Sepal.Width</th><th scope=col>Petal.Length</th><th scope=col>Petal.Width</th><th scope=col>Species</th></tr></thead>\n",
       "<tbody>\n",
       "\t<tr><td>5.1   </td><td>3.5   </td><td>1.4   </td><td>0.2   </td><td>setosa</td></tr>\n",
       "\t<tr><td>4.9   </td><td>3.0   </td><td>1.4   </td><td>0.2   </td><td>setosa</td></tr>\n",
       "\t<tr><td>4.7   </td><td>3.2   </td><td>1.3   </td><td>0.2   </td><td>setosa</td></tr>\n",
       "\t<tr><td>4.6   </td><td>3.1   </td><td>1.5   </td><td>0.2   </td><td>setosa</td></tr>\n",
       "\t<tr><td>5.0   </td><td>3.6   </td><td>1.4   </td><td>0.2   </td><td>setosa</td></tr>\n",
       "\t<tr><td>5.4   </td><td>3.9   </td><td>1.7   </td><td>0.4   </td><td>setosa</td></tr>\n",
       "</tbody>\n",
       "</table>\n"
      ],
      "text/latex": [
       "\\begin{tabular}{r|lllll}\n",
       " Sepal.Length & Sepal.Width & Petal.Length & Petal.Width & Species\\\\\n",
       "\\hline\n",
       "\t 5.1    & 3.5    & 1.4    & 0.2    & setosa\\\\\n",
       "\t 4.9    & 3.0    & 1.4    & 0.2    & setosa\\\\\n",
       "\t 4.7    & 3.2    & 1.3    & 0.2    & setosa\\\\\n",
       "\t 4.6    & 3.1    & 1.5    & 0.2    & setosa\\\\\n",
       "\t 5.0    & 3.6    & 1.4    & 0.2    & setosa\\\\\n",
       "\t 5.4    & 3.9    & 1.7    & 0.4    & setosa\\\\\n",
       "\\end{tabular}\n"
      ],
      "text/markdown": [
       "\n",
       "| Sepal.Length | Sepal.Width | Petal.Length | Petal.Width | Species |\n",
       "|---|---|---|---|---|\n",
       "| 5.1    | 3.5    | 1.4    | 0.2    | setosa |\n",
       "| 4.9    | 3.0    | 1.4    | 0.2    | setosa |\n",
       "| 4.7    | 3.2    | 1.3    | 0.2    | setosa |\n",
       "| 4.6    | 3.1    | 1.5    | 0.2    | setosa |\n",
       "| 5.0    | 3.6    | 1.4    | 0.2    | setosa |\n",
       "| 5.4    | 3.9    | 1.7    | 0.4    | setosa |\n",
       "\n"
      ],
      "text/plain": [
       "  Sepal.Length Sepal.Width Petal.Length Petal.Width Species\n",
       "1 5.1          3.5         1.4          0.2         setosa \n",
       "2 4.9          3.0         1.4          0.2         setosa \n",
       "3 4.7          3.2         1.3          0.2         setosa \n",
       "4 4.6          3.1         1.5          0.2         setosa \n",
       "5 5.0          3.6         1.4          0.2         setosa \n",
       "6 5.4          3.9         1.7          0.4         setosa "
      ]
     },
     "metadata": {},
     "output_type": "display_data"
    },
    {
     "data": {
      "text/html": [
       "<table>\n",
       "<thead><tr><th></th><th scope=col>Sepal.Length</th><th scope=col>Sepal.Width</th><th scope=col>Petal.Length</th><th scope=col>Petal.Width</th><th scope=col>Species</th></tr></thead>\n",
       "<tbody>\n",
       "\t<tr><th scope=row>45</th><td>5.1   </td><td>3.8   </td><td>1.9   </td><td>0.4   </td><td>setosa</td></tr>\n",
       "\t<tr><th scope=row>46</th><td>4.8   </td><td>3.0   </td><td>1.4   </td><td>0.3   </td><td>setosa</td></tr>\n",
       "\t<tr><th scope=row>47</th><td>5.1   </td><td>3.8   </td><td>1.6   </td><td>0.2   </td><td>setosa</td></tr>\n",
       "\t<tr><th scope=row>48</th><td>4.6   </td><td>3.2   </td><td>1.4   </td><td>0.2   </td><td>setosa</td></tr>\n",
       "\t<tr><th scope=row>49</th><td>5.3   </td><td>3.7   </td><td>1.5   </td><td>0.2   </td><td>setosa</td></tr>\n",
       "\t<tr><th scope=row>50</th><td>5.0   </td><td>3.3   </td><td>1.4   </td><td>0.2   </td><td>setosa</td></tr>\n",
       "</tbody>\n",
       "</table>\n"
      ],
      "text/latex": [
       "\\begin{tabular}{r|lllll}\n",
       "  & Sepal.Length & Sepal.Width & Petal.Length & Petal.Width & Species\\\\\n",
       "\\hline\n",
       "\t45 & 5.1    & 3.8    & 1.9    & 0.4    & setosa\\\\\n",
       "\t46 & 4.8    & 3.0    & 1.4    & 0.3    & setosa\\\\\n",
       "\t47 & 5.1    & 3.8    & 1.6    & 0.2    & setosa\\\\\n",
       "\t48 & 4.6    & 3.2    & 1.4    & 0.2    & setosa\\\\\n",
       "\t49 & 5.3    & 3.7    & 1.5    & 0.2    & setosa\\\\\n",
       "\t50 & 5.0    & 3.3    & 1.4    & 0.2    & setosa\\\\\n",
       "\\end{tabular}\n"
      ],
      "text/markdown": [
       "\n",
       "| <!--/--> | Sepal.Length | Sepal.Width | Petal.Length | Petal.Width | Species |\n",
       "|---|---|---|---|---|---|\n",
       "| 45 | 5.1    | 3.8    | 1.9    | 0.4    | setosa |\n",
       "| 46 | 4.8    | 3.0    | 1.4    | 0.3    | setosa |\n",
       "| 47 | 5.1    | 3.8    | 1.6    | 0.2    | setosa |\n",
       "| 48 | 4.6    | 3.2    | 1.4    | 0.2    | setosa |\n",
       "| 49 | 5.3    | 3.7    | 1.5    | 0.2    | setosa |\n",
       "| 50 | 5.0    | 3.3    | 1.4    | 0.2    | setosa |\n",
       "\n"
      ],
      "text/plain": [
       "   Sepal.Length Sepal.Width Petal.Length Petal.Width Species\n",
       "45 5.1          3.8         1.9          0.4         setosa \n",
       "46 4.8          3.0         1.4          0.3         setosa \n",
       "47 5.1          3.8         1.6          0.2         setosa \n",
       "48 4.6          3.2         1.4          0.2         setosa \n",
       "49 5.3          3.7         1.5          0.2         setosa \n",
       "50 5.0          3.3         1.4          0.2         setosa "
      ]
     },
     "metadata": {},
     "output_type": "display_data"
    },
    {
     "name": "stdout",
     "output_type": "stream",
     "text": [
      "'data.frame':\t50 obs. of  5 variables:\n",
      " $ Sepal.Length: num  5.1 4.9 4.7 4.6 5 5.4 4.6 5 4.4 4.9 ...\n",
      " $ Sepal.Width : num  3.5 3 3.2 3.1 3.6 3.9 3.4 3.4 2.9 3.1 ...\n",
      " $ Petal.Length: num  1.4 1.4 1.3 1.5 1.4 1.7 1.4 1.5 1.4 1.5 ...\n",
      " $ Petal.Width : num  0.2 0.2 0.2 0.2 0.2 0.4 0.3 0.2 0.2 0.1 ...\n",
      " $ Species     : Factor w/ 1 level \"setosa\": 1 1 1 1 1 1 1 1 1 1 ...\n"
     ]
    }
   ],
   "source": [
    "# iris에서 Species가 setosa인것만 추출하여 iris_setosa라는 데이터 프레임 만들기\n",
    "# 데이터를 정제해도 본래의 데이터형태는 변하지않음\n",
    "# factor()를 통해 변경시켜주어야함\n",
    "\n",
    "iris_setosa <- subset(iris, Species == 'setosa')\n",
    "head(iris_setosa)\n",
    "tail(iris_setosa)\n",
    "iris_setosa$Species = factor(iris_setosa$Species)\n",
    "str(iris_setosa)"
   ]
  },
  {
   "cell_type": "code",
   "execution_count": 42,
   "id": "c9a0011a",
   "metadata": {
    "vscode": {
     "languageId": "r"
    }
   },
   "outputs": [
    {
     "data": {
      "text/html": [
       "<table>\n",
       "<thead><tr><th></th><th scope=col>Sepal.Length</th><th scope=col>Sepal.Width</th><th scope=col>Petal.Length</th><th scope=col>Petal.Width</th><th scope=col>Species</th></tr></thead>\n",
       "<tbody>\n",
       "\t<tr><th scope=row>51</th><td>7.0       </td><td>3.2       </td><td>4.7       </td><td>1.4       </td><td>versicolor</td></tr>\n",
       "\t<tr><th scope=row>52</th><td>6.4       </td><td>3.2       </td><td>4.5       </td><td>1.5       </td><td>versicolor</td></tr>\n",
       "\t<tr><th scope=row>53</th><td>6.9       </td><td>3.1       </td><td>4.9       </td><td>1.5       </td><td>versicolor</td></tr>\n",
       "\t<tr><th scope=row>54</th><td>5.5       </td><td>2.3       </td><td>4.0       </td><td>1.3       </td><td>versicolor</td></tr>\n",
       "\t<tr><th scope=row>55</th><td>6.5       </td><td>2.8       </td><td>4.6       </td><td>1.5       </td><td>versicolor</td></tr>\n",
       "\t<tr><th scope=row>56</th><td>5.7       </td><td>2.8       </td><td>4.5       </td><td>1.3       </td><td>versicolor</td></tr>\n",
       "</tbody>\n",
       "</table>\n"
      ],
      "text/latex": [
       "\\begin{tabular}{r|lllll}\n",
       "  & Sepal.Length & Sepal.Width & Petal.Length & Petal.Width & Species\\\\\n",
       "\\hline\n",
       "\t51 & 7.0        & 3.2        & 4.7        & 1.4        & versicolor\\\\\n",
       "\t52 & 6.4        & 3.2        & 4.5        & 1.5        & versicolor\\\\\n",
       "\t53 & 6.9        & 3.1        & 4.9        & 1.5        & versicolor\\\\\n",
       "\t54 & 5.5        & 2.3        & 4.0        & 1.3        & versicolor\\\\\n",
       "\t55 & 6.5        & 2.8        & 4.6        & 1.5        & versicolor\\\\\n",
       "\t56 & 5.7        & 2.8        & 4.5        & 1.3        & versicolor\\\\\n",
       "\\end{tabular}\n"
      ],
      "text/markdown": [
       "\n",
       "| <!--/--> | Sepal.Length | Sepal.Width | Petal.Length | Petal.Width | Species |\n",
       "|---|---|---|---|---|---|\n",
       "| 51 | 7.0        | 3.2        | 4.7        | 1.4        | versicolor |\n",
       "| 52 | 6.4        | 3.2        | 4.5        | 1.5        | versicolor |\n",
       "| 53 | 6.9        | 3.1        | 4.9        | 1.5        | versicolor |\n",
       "| 54 | 5.5        | 2.3        | 4.0        | 1.3        | versicolor |\n",
       "| 55 | 6.5        | 2.8        | 4.6        | 1.5        | versicolor |\n",
       "| 56 | 5.7        | 2.8        | 4.5        | 1.3        | versicolor |\n",
       "\n"
      ],
      "text/plain": [
       "   Sepal.Length Sepal.Width Petal.Length Petal.Width Species   \n",
       "51 7.0          3.2         4.7          1.4         versicolor\n",
       "52 6.4          3.2         4.5          1.5         versicolor\n",
       "53 6.9          3.1         4.9          1.5         versicolor\n",
       "54 5.5          2.3         4.0          1.3         versicolor\n",
       "55 6.5          2.8         4.6          1.5         versicolor\n",
       "56 5.7          2.8         4.5          1.3         versicolor"
      ]
     },
     "metadata": {},
     "output_type": "display_data"
    },
    {
     "name": "stdout",
     "output_type": "stream",
     "text": [
      "'data.frame':\t50 obs. of  5 variables:\n",
      " $ Sepal.Length: num  7 6.4 6.9 5.5 6.5 5.7 6.3 4.9 6.6 5.2 ...\n",
      " $ Sepal.Width : num  3.2 3.2 3.1 2.3 2.8 2.8 3.3 2.4 2.9 2.7 ...\n",
      " $ Petal.Length: num  4.7 4.5 4.9 4 4.6 4.5 4.7 3.3 4.6 3.9 ...\n",
      " $ Petal.Width : num  1.4 1.5 1.5 1.3 1.5 1.3 1.6 1 1.3 1.4 ...\n",
      " $ Species     : Factor w/ 3 levels \"setosa\",\"versicolor\",..: 2 2 2 2 2 2 2 2 2 2 ...\n"
     ]
    }
   ],
   "source": [
    "# iris에서 Species가 versicolor인것만 추출하여 iris_versicolor라는 데이터프레임 만들기\n",
    "\n",
    "iris_versicolor <- subset(iris, Species == \"versicolor\")\n",
    "head(iris_versicolor)\n",
    "str(iris_versicolor)\n",
    "iris_versicolor$Species = factor(iris_versicolor$Species)"
   ]
  },
  {
   "cell_type": "code",
   "execution_count": 43,
   "id": "30d909ad",
   "metadata": {
    "vscode": {
     "languageId": "r"
    }
   },
   "outputs": [
    {
     "name": "stdout",
     "output_type": "stream",
     "text": [
      "'data.frame':\t50 obs. of  5 variables:\n",
      " $ Sepal.Length: num  7 6.4 6.9 5.5 6.5 5.7 6.3 4.9 6.6 5.2 ...\n",
      " $ Sepal.Width : num  3.2 3.2 3.1 2.3 2.8 2.8 3.3 2.4 2.9 2.7 ...\n",
      " $ Petal.Length: num  4.7 4.5 4.9 4 4.6 4.5 4.7 3.3 4.6 3.9 ...\n",
      " $ Petal.Width : num  1.4 1.5 1.5 1.3 1.5 1.3 1.6 1 1.3 1.4 ...\n",
      " $ Species     : Factor w/ 1 level \"versicolor\": 1 1 1 1 1 1 1 1 1 1 ...\n"
     ]
    }
   ],
   "source": [
    "str(iris_versicolor)"
   ]
  },
  {
   "cell_type": "code",
   "execution_count": 44,
   "id": "75ff0c81",
   "metadata": {
    "vscode": {
     "languageId": "r"
    }
   },
   "outputs": [
    {
     "data": {
      "text/html": [
       "<table>\n",
       "<thead><tr><th scope=col>Sepal.Length</th><th scope=col>Sepal.Width</th><th scope=col>Petal.Length</th><th scope=col>Petal.Width</th><th scope=col>Species</th></tr></thead>\n",
       "<tbody>\n",
       "\t<tr><td>5.1   </td><td>3.5   </td><td>1.4   </td><td>0.2   </td><td>setosa</td></tr>\n",
       "\t<tr><td>4.9   </td><td>3.0   </td><td>1.4   </td><td>0.2   </td><td>setosa</td></tr>\n",
       "\t<tr><td>4.7   </td><td>3.2   </td><td>1.3   </td><td>0.2   </td><td>setosa</td></tr>\n",
       "\t<tr><td>4.6   </td><td>3.1   </td><td>1.5   </td><td>0.2   </td><td>setosa</td></tr>\n",
       "\t<tr><td>5.0   </td><td>3.6   </td><td>1.4   </td><td>0.2   </td><td>setosa</td></tr>\n",
       "\t<tr><td>5.4   </td><td>3.9   </td><td>1.7   </td><td>0.4   </td><td>setosa</td></tr>\n",
       "</tbody>\n",
       "</table>\n"
      ],
      "text/latex": [
       "\\begin{tabular}{r|lllll}\n",
       " Sepal.Length & Sepal.Width & Petal.Length & Petal.Width & Species\\\\\n",
       "\\hline\n",
       "\t 5.1    & 3.5    & 1.4    & 0.2    & setosa\\\\\n",
       "\t 4.9    & 3.0    & 1.4    & 0.2    & setosa\\\\\n",
       "\t 4.7    & 3.2    & 1.3    & 0.2    & setosa\\\\\n",
       "\t 4.6    & 3.1    & 1.5    & 0.2    & setosa\\\\\n",
       "\t 5.0    & 3.6    & 1.4    & 0.2    & setosa\\\\\n",
       "\t 5.4    & 3.9    & 1.7    & 0.4    & setosa\\\\\n",
       "\\end{tabular}\n"
      ],
      "text/markdown": [
       "\n",
       "| Sepal.Length | Sepal.Width | Petal.Length | Petal.Width | Species |\n",
       "|---|---|---|---|---|\n",
       "| 5.1    | 3.5    | 1.4    | 0.2    | setosa |\n",
       "| 4.9    | 3.0    | 1.4    | 0.2    | setosa |\n",
       "| 4.7    | 3.2    | 1.3    | 0.2    | setosa |\n",
       "| 4.6    | 3.1    | 1.5    | 0.2    | setosa |\n",
       "| 5.0    | 3.6    | 1.4    | 0.2    | setosa |\n",
       "| 5.4    | 3.9    | 1.7    | 0.4    | setosa |\n",
       "\n"
      ],
      "text/plain": [
       "  Sepal.Length Sepal.Width Petal.Length Petal.Width Species\n",
       "1 5.1          3.5         1.4          0.2         setosa \n",
       "2 4.9          3.0         1.4          0.2         setosa \n",
       "3 4.7          3.2         1.3          0.2         setosa \n",
       "4 4.6          3.1         1.5          0.2         setosa \n",
       "5 5.0          3.6         1.4          0.2         setosa \n",
       "6 5.4          3.9         1.7          0.4         setosa "
      ]
     },
     "metadata": {},
     "output_type": "display_data"
    },
    {
     "data": {
      "text/html": [
       "22"
      ],
      "text/latex": [
       "22"
      ],
      "text/markdown": [
       "22"
      ],
      "text/plain": [
       "[1] 22"
      ]
     },
     "metadata": {},
     "output_type": "display_data"
    }
   ],
   "source": [
    "# iris Species가 setosa이고 Sepal.Length가 5보다 큰 sample의 갯수는?\n",
    "# data.frame은 subset과 nrow(ncol)을 많이 사용함\n",
    "head(iris)\n",
    "\n",
    "nrow(subset(iris, Species==\"setosa\" & Sepal.Length > 5))"
   ]
  },
  {
   "cell_type": "code",
   "execution_count": 45,
   "id": "e48e8a4d",
   "metadata": {
    "vscode": {
     "languageId": "r"
    }
   },
   "outputs": [
    {
     "data": {
      "text/html": [
       "<table>\n",
       "<thead><tr><th scope=col>Sepal.Length</th><th scope=col>Sepal.Width</th><th scope=col>Petal.Length</th><th scope=col>Petal.Width</th></tr></thead>\n",
       "<tbody>\n",
       "\t<tr><td>5.1</td><td>3.5</td><td>1.4</td><td>0.2</td></tr>\n",
       "\t<tr><td>4.9</td><td>3.0</td><td>1.4</td><td>0.2</td></tr>\n",
       "\t<tr><td>4.7</td><td>3.2</td><td>1.3</td><td>0.2</td></tr>\n",
       "\t<tr><td>4.6</td><td>3.1</td><td>1.5</td><td>0.2</td></tr>\n",
       "\t<tr><td>5.0</td><td>3.6</td><td>1.4</td><td>0.2</td></tr>\n",
       "\t<tr><td>5.4</td><td>3.9</td><td>1.7</td><td>0.4</td></tr>\n",
       "</tbody>\n",
       "</table>\n"
      ],
      "text/latex": [
       "\\begin{tabular}{r|llll}\n",
       " Sepal.Length & Sepal.Width & Petal.Length & Petal.Width\\\\\n",
       "\\hline\n",
       "\t 5.1 & 3.5 & 1.4 & 0.2\\\\\n",
       "\t 4.9 & 3.0 & 1.4 & 0.2\\\\\n",
       "\t 4.7 & 3.2 & 1.3 & 0.2\\\\\n",
       "\t 4.6 & 3.1 & 1.5 & 0.2\\\\\n",
       "\t 5.0 & 3.6 & 1.4 & 0.2\\\\\n",
       "\t 5.4 & 3.9 & 1.7 & 0.4\\\\\n",
       "\\end{tabular}\n"
      ],
      "text/markdown": [
       "\n",
       "| Sepal.Length | Sepal.Width | Petal.Length | Petal.Width |\n",
       "|---|---|---|---|\n",
       "| 5.1 | 3.5 | 1.4 | 0.2 |\n",
       "| 4.9 | 3.0 | 1.4 | 0.2 |\n",
       "| 4.7 | 3.2 | 1.3 | 0.2 |\n",
       "| 4.6 | 3.1 | 1.5 | 0.2 |\n",
       "| 5.0 | 3.6 | 1.4 | 0.2 |\n",
       "| 5.4 | 3.9 | 1.7 | 0.4 |\n",
       "\n"
      ],
      "text/plain": [
       "  Sepal.Length Sepal.Width Petal.Length Petal.Width\n",
       "1 5.1          3.5         1.4          0.2        \n",
       "2 4.9          3.0         1.4          0.2        \n",
       "3 4.7          3.2         1.3          0.2        \n",
       "4 4.6          3.1         1.5          0.2        \n",
       "5 5.0          3.6         1.4          0.2        \n",
       "6 5.4          3.9         1.7          0.4        "
      ]
     },
     "metadata": {},
     "output_type": "display_data"
    }
   ],
   "source": [
    "# subset으로 컬럼 지우기\n",
    "head(subset(iris, select = -Species))"
   ]
  },
  {
   "cell_type": "markdown",
   "id": "499d30e9",
   "metadata": {},
   "source": [
    "---\n",
    "# 그룹연산 함수"
   ]
  },
  {
   "cell_type": "code",
   "execution_count": 46,
   "id": "2d7c02b2",
   "metadata": {
    "vscode": {
     "languageId": "r"
    }
   },
   "outputs": [
    {
     "data": {
      "text/html": [
       "<table>\n",
       "<thead><tr><th scope=col>Species</th><th scope=col>Sepal.Width</th></tr></thead>\n",
       "<tbody>\n",
       "\t<tr><td>setosa    </td><td>3.428     </td></tr>\n",
       "\t<tr><td>versicolor</td><td>2.770     </td></tr>\n",
       "\t<tr><td>virginica </td><td>2.974     </td></tr>\n",
       "</tbody>\n",
       "</table>\n"
      ],
      "text/latex": [
       "\\begin{tabular}{r|ll}\n",
       " Species & Sepal.Width\\\\\n",
       "\\hline\n",
       "\t setosa     & 3.428     \\\\\n",
       "\t versicolor & 2.770     \\\\\n",
       "\t virginica  & 2.974     \\\\\n",
       "\\end{tabular}\n"
      ],
      "text/markdown": [
       "\n",
       "| Species | Sepal.Width |\n",
       "|---|---|\n",
       "| setosa     | 3.428      |\n",
       "| versicolor | 2.770      |\n",
       "| virginica  | 2.974      |\n",
       "\n"
      ],
      "text/plain": [
       "  Species    Sepal.Width\n",
       "1 setosa     3.428      \n",
       "2 versicolor 2.770      \n",
       "3 virginica  2.974      "
      ]
     },
     "metadata": {},
     "output_type": "display_data"
    }
   ],
   "source": [
    "# == group by와 비슷\n",
    "# ~ 연산자\n",
    "# iris에서 Species 기준으로 Sepal.Width의 평균 구하기\n",
    "\n",
    "aggregate(Sepal.Width ~ Species, iris, mean)"
   ]
  },
  {
   "cell_type": "markdown",
   "id": "b2229842",
   "metadata": {},
   "source": [
    "---\n",
    "# 서울시 교통사고 조사 데이터셋"
   ]
  },
  {
   "cell_type": "code",
   "execution_count": 47,
   "id": "85cfe04e",
   "metadata": {
    "vscode": {
     "languageId": "r"
    }
   },
   "outputs": [
    {
     "ename": "ERROR",
     "evalue": "Error in read.table(file = file, header = header, sep = sep, quote = quote, : more columns than column names\n",
     "output_type": "error",
     "traceback": [
      "Error in read.table(file = file, header = header, sep = sep, quote = quote, : more columns than column names\nTraceback:\n",
      "1. read.csv(\"../Data//newSeoul2019.csv\")",
      "2. read.table(file = file, header = header, sep = sep, quote = quote, \n .     dec = dec, fill = fill, comment.char = comment.char, ...)",
      "3. stop(\"more columns than column names\")"
     ]
    }
   ],
   "source": [
    "# 데이터셋을 불러와서 seoul이라는 변수에 넣기\n",
    "\n",
    "seoul <- read.csv(\"../Data//newSeoul2019.csv\")\n",
    "head(seoul)\n"
   ]
  },
  {
   "cell_type": "code",
   "execution_count": 48,
   "id": "f695b07a",
   "metadata": {
    "vscode": {
     "languageId": "r"
    }
   },
   "outputs": [
    {
     "ename": "ERROR",
     "evalue": "Error in tail(seoul): 객체 'seoul'를 찾을 수 없습니다\n",
     "output_type": "error",
     "traceback": [
      "Error in tail(seoul): 객체 'seoul'를 찾을 수 없습니다\nTraceback:\n",
      "1. tail(seoul)"
     ]
    }
   ],
   "source": [
    "tail(seoul)\n"
   ]
  },
  {
   "cell_type": "code",
<<<<<<< HEAD
   "execution_count": null,
=======
   "execution_count": 49,
>>>>>>> d1386cba2df793d0b05db45d076424384bad3982
   "id": "3da98791",
   "metadata": {
    "vscode": {
     "languageId": "r"
    }
   },
   "outputs": [
    {
     "data": {
      "text/plain": [
       "      년도            월           자치구명       발생건수        사망자수     \n",
       " Min.   :2011   Min.   : 1.00   강남구 : 108   Min.   : 45.0   Min.   : 0.000  \n",
       " 1st Qu.:2013   1st Qu.: 3.75   강동구 : 108   1st Qu.:100.0   1st Qu.: 0.000  \n",
       " Median :2015   Median : 6.50   강북구 : 108   Median :122.0   Median : 1.000  \n",
       " Mean   :2015   Mean   : 6.50   강서구 : 108   Mean   :133.3   Mean   : 1.207  \n",
       " 3rd Qu.:2017   3rd Qu.: 9.25   관악구 : 108   3rd Qu.:149.0   3rd Qu.: 2.000  \n",
       " Max.   :2019   Max.   :12.00   광진구 : 108   Max.   :383.0   Max.   :10.000  \n",
       "                                (Other):2052                                   \n",
       "    부상자수    \n",
       " Min.   : 55.0  \n",
       " 1st Qu.:138.0  \n",
       " Median :168.0  \n",
       " Mean   :187.4  \n",
       " 3rd Qu.:208.0  \n",
       " Max.   :552.0  \n",
       "                "
      ]
     },
     "metadata": {},
     "output_type": "display_data"
    }
   ],
   "source": [
    "summary(seoul)\n"
   ]
  },
  {
   "cell_type": "code",
<<<<<<< HEAD
   "execution_count": null,
=======
   "execution_count": 50,
>>>>>>> d1386cba2df793d0b05db45d076424384bad3982
   "id": "da4be90c",
   "metadata": {
    "vscode": {
     "languageId": "r"
    }
   },
   "outputs": [
    {
     "name": "stdout",
     "output_type": "stream",
     "text": [
      "'data.frame':\t2700 obs. of  6 variables:\n",
      " $ 년도    : int  2011 2011 2011 2011 2011 2011 2011 2011 2011 2011 ...\n",
      " $ 월      : int  1 2 3 4 5 6 7 8 9 10 ...\n",
      " $ 자치구명: Factor w/ 25 levels \"강남구\",\"강동구\",..: 23 23 23 23 23 23 23 23 23 23 ...\n",
      " $ 발생건수: int  115 99 116 110 122 116 103 122 121 135 ...\n",
      " $ 사망자수: int  2 0 0 1 0 3 1 1 2 2 ...\n",
      " $ 부상자수: int  165 134 162 153 157 163 154 171 166 193 ...\n"
     ]
    }
   ],
   "source": [
    "str(seoul)"
   ]
  },
  {
   "cell_type": "code",
<<<<<<< HEAD
   "execution_count": null,
=======
   "execution_count": 51,
>>>>>>> d1386cba2df793d0b05db45d076424384bad3982
   "id": "f026cbc5",
   "metadata": {
    "vscode": {
     "languageId": "r"
    }
   },
   "outputs": [
    {
     "data": {
      "text/html": [
       "0"
      ],
      "text/latex": [
       "0"
      ],
      "text/markdown": [
       "0"
      ],
      "text/plain": [
       "[1] 0"
      ]
     },
     "metadata": {},
     "output_type": "display_data"
    },
    {
     "name": "stdout",
     "output_type": "stream",
     "text": [
      "년도 0 \n",
      "월 0 \n",
      "자치구명 0 \n",
      "발생건수 0 \n",
      "사망자수 0 \n",
      "부상자수 0 \n"
     ]
    }
   ],
   "source": [
    "# NA 확인\n",
    "sum(is.na(seoul))\n",
    "\n",
    "for(i in 1:ncol(seoul)){\n",
    "   naCount <- sum(is.na(seoul[,i]))\n",
    "    \n",
    "    cat(colnames(seoul)[i], naCount, \"\\n\")\n",
    "}"
   ]
  },
  {
   "cell_type": "markdown",
   "id": "89373821",
   "metadata": {},
   "source": [
    "---\n",
    "# 컬럼별 데이터 확인\n",
    "\n"
   ]
  },
  {
   "cell_type": "code",
<<<<<<< HEAD
   "execution_count": null,
=======
   "execution_count": 52,
>>>>>>> d1386cba2df793d0b05db45d076424384bad3982
   "id": "c1453ca7",
   "metadata": {
    "vscode": {
     "languageId": "r"
    }
   },
   "outputs": [
    {
     "data": {
      "text/plain": [
       "\n",
       "2011 2012 2013 2014 2015 2016 2017 2018 2019 \n",
       " 300  300  300  300  300  300  300  300  300 "
      ]
     },
     "metadata": {},
     "output_type": "display_data"
    }
   ],
   "source": [
    "table(seoul$년도)"
   ]
  },
  {
   "cell_type": "code",
<<<<<<< HEAD
   "execution_count": null,
=======
   "execution_count": 53,
>>>>>>> d1386cba2df793d0b05db45d076424384bad3982
   "id": "a77915ca",
   "metadata": {
    "vscode": {
     "languageId": "r"
    }
   },
   "outputs": [
    {
     "data": {
      "text/plain": [
       "\n",
       "  1   2   3   4   5   6   7   8   9  10  11  12 \n",
       "225 225 225 225 225 225 225 225 225 225 225 225 "
      ]
     },
     "metadata": {},
     "output_type": "display_data"
    }
   ],
   "source": [
    "# 월\n",
    "table(seoul$월)"
   ]
  },
  {
   "cell_type": "code",
<<<<<<< HEAD
   "execution_count": null,
=======
   "execution_count": 54,
>>>>>>> d1386cba2df793d0b05db45d076424384bad3982
   "id": "355d7101",
   "metadata": {
    "vscode": {
     "languageId": "r"
    }
   },
   "outputs": [
    {
     "data": {
      "text/plain": [
       "\n",
       "  강남구   강동구   강북구   강서구   관악구   광진구   구로구   금천구 \n",
       "     108      108      108      108      108      108      108      108 \n",
       "  노원구   도봉구 동대문구   동작구   마포구 서대문구   서초구   성동구 \n",
       "     108      108      108      108      108      108      108      108 \n",
       "  성북구   송파구   양천구 영등포구   용산구   은평구   종로구     중구 \n",
       "     108      108      108      108      108      108      108      108 \n",
       "  중랑구 \n",
       "     108 "
      ]
     },
     "metadata": {},
     "output_type": "display_data"
    }
   ],
   "source": [
    "# 자치구\n",
    "\n",
    "table(seoul$자치구)"
   ]
  },
  {
   "cell_type": "code",
<<<<<<< HEAD
   "execution_count": null,
=======
   "execution_count": 55,
>>>>>>> d1386cba2df793d0b05db45d076424384bad3982
   "id": "7c99c021",
   "metadata": {
    "vscode": {
     "languageId": "r"
    }
   },
   "outputs": [
    {
     "data": {
      "text/html": [
       "<table>\n",
       "<thead><tr><th scope=col>자치구명</th><th scope=col>발생건수</th></tr></thead>\n",
       "<tbody>\n",
       "\t<tr><td>강남구  </td><td>306.3611</td></tr>\n",
       "\t<tr><td>강동구  </td><td>118.5370</td></tr>\n",
       "\t<tr><td>강북구  </td><td>101.7870</td></tr>\n",
       "\t<tr><td>강서구  </td><td>145.4722</td></tr>\n",
       "\t<tr><td>관악구  </td><td>128.3889</td></tr>\n",
       "\t<tr><td>광진구  </td><td>103.0741</td></tr>\n",
       "</tbody>\n",
       "</table>\n"
      ],
      "text/latex": [
       "\\begin{tabular}{r|ll}\n",
       " 자치구명 & 발생건수\\\\\n",
       "\\hline\n",
       "\t 강남구   & 306.3611\\\\\n",
       "\t 강동구   & 118.5370\\\\\n",
       "\t 강북구   & 101.7870\\\\\n",
       "\t 강서구   & 145.4722\\\\\n",
       "\t 관악구   & 128.3889\\\\\n",
       "\t 광진구   & 103.0741\\\\\n",
       "\\end{tabular}\n"
      ],
      "text/markdown": [
       "\n",
       "| 자치구명 | 발생건수 |\n",
       "|---|---|\n",
       "| 강남구   | 306.3611 |\n",
       "| 강동구   | 118.5370 |\n",
       "| 강북구   | 101.7870 |\n",
       "| 강서구   | 145.4722 |\n",
       "| 관악구   | 128.3889 |\n",
       "| 광진구   | 103.0741 |\n",
       "\n"
      ],
      "text/plain": [
       "  자치구명 발생건수\n",
       "1 강남구   306.3611\n",
       "2 강동구   118.5370\n",
       "3 강북구   101.7870\n",
       "4 강서구   145.4722\n",
       "5 관악구   128.3889\n",
       "6 광진구   103.0741"
      ]
     },
     "metadata": {},
     "output_type": "display_data"
    }
   ],
   "source": [
    "# 자치구별 발생건수의 평균\n",
    "\n",
    "regionAcc.mean <- aggregate(발생건수 ~ 자치구명, seoul, mean)\n",
    "head(regionAcc.mean)"
   ]
  },
  {
   "cell_type": "code",
<<<<<<< HEAD
   "execution_count": null,
=======
   "execution_count": 56,
>>>>>>> d1386cba2df793d0b05db45d076424384bad3982
   "id": "baac6b00",
   "metadata": {
    "vscode": {
     "languageId": "r"
    }
   },
   "outputs": [
    {
     "data": {
      "text/html": [
       "<table>\n",
       "<thead><tr><th scope=col>자치구명</th><th scope=col>발생건수</th></tr></thead>\n",
       "<tbody>\n",
       "\t<tr><td>강남구   </td><td>306.36111</td></tr>\n",
       "\t<tr><td>송파구   </td><td>224.75926</td></tr>\n",
       "\t<tr><td>영등포구 </td><td>194.64815</td></tr>\n",
       "\t<tr><td>서초구   </td><td>186.48148</td></tr>\n",
       "\t<tr><td>동대문구 </td><td>153.64815</td></tr>\n",
       "\t<tr><td>강서구   </td><td>145.47222</td></tr>\n",
       "\t<tr><td>마포구   </td><td>141.51852</td></tr>\n",
       "\t<tr><td>중랑구   </td><td>138.46296</td></tr>\n",
       "\t<tr><td>성북구   </td><td>130.85185</td></tr>\n",
       "\t<tr><td>노원구   </td><td>129.21296</td></tr>\n",
       "\t<tr><td>관악구   </td><td>128.38889</td></tr>\n",
       "\t<tr><td>구로구   </td><td>126.09259</td></tr>\n",
       "\t<tr><td>양천구   </td><td>120.68519</td></tr>\n",
       "\t<tr><td>강동구   </td><td>118.53704</td></tr>\n",
       "\t<tr><td>동작구   </td><td>112.64815</td></tr>\n",
       "\t<tr><td>용산구   </td><td>110.29630</td></tr>\n",
       "\t<tr><td>중구     </td><td>110.11111</td></tr>\n",
       "\t<tr><td>종로구   </td><td>106.97222</td></tr>\n",
       "\t<tr><td>은평구   </td><td>104.32407</td></tr>\n",
       "\t<tr><td>광진구   </td><td>103.07407</td></tr>\n",
       "\t<tr><td>강북구   </td><td>101.78704</td></tr>\n",
       "\t<tr><td>성동구   </td><td> 93.19444</td></tr>\n",
       "\t<tr><td>서대문구 </td><td> 89.71296</td></tr>\n",
       "\t<tr><td>금천구   </td><td> 78.69444</td></tr>\n",
       "\t<tr><td>도봉구   </td><td> 76.40741</td></tr>\n",
       "</tbody>\n",
       "</table>\n"
      ],
      "text/latex": [
       "\\begin{tabular}{r|ll}\n",
       " 자치구명 & 발생건수\\\\\n",
       "\\hline\n",
       "\t 강남구    & 306.36111\\\\\n",
       "\t 송파구    & 224.75926\\\\\n",
       "\t 영등포구  & 194.64815\\\\\n",
       "\t 서초구    & 186.48148\\\\\n",
       "\t 동대문구  & 153.64815\\\\\n",
       "\t 강서구    & 145.47222\\\\\n",
       "\t 마포구    & 141.51852\\\\\n",
       "\t 중랑구    & 138.46296\\\\\n",
       "\t 성북구    & 130.85185\\\\\n",
       "\t 노원구    & 129.21296\\\\\n",
       "\t 관악구    & 128.38889\\\\\n",
       "\t 구로구    & 126.09259\\\\\n",
       "\t 양천구    & 120.68519\\\\\n",
       "\t 강동구    & 118.53704\\\\\n",
       "\t 동작구    & 112.64815\\\\\n",
       "\t 용산구    & 110.29630\\\\\n",
       "\t 중구      & 110.11111\\\\\n",
       "\t 종로구    & 106.97222\\\\\n",
       "\t 은평구    & 104.32407\\\\\n",
       "\t 광진구    & 103.07407\\\\\n",
       "\t 강북구    & 101.78704\\\\\n",
       "\t 성동구    &  93.19444\\\\\n",
       "\t 서대문구  &  89.71296\\\\\n",
       "\t 금천구    &  78.69444\\\\\n",
       "\t 도봉구    &  76.40741\\\\\n",
       "\\end{tabular}\n"
      ],
      "text/markdown": [
       "\n",
       "| 자치구명 | 발생건수 |\n",
       "|---|---|\n",
       "| 강남구    | 306.36111 |\n",
       "| 송파구    | 224.75926 |\n",
       "| 영등포구  | 194.64815 |\n",
       "| 서초구    | 186.48148 |\n",
       "| 동대문구  | 153.64815 |\n",
       "| 강서구    | 145.47222 |\n",
       "| 마포구    | 141.51852 |\n",
       "| 중랑구    | 138.46296 |\n",
       "| 성북구    | 130.85185 |\n",
       "| 노원구    | 129.21296 |\n",
       "| 관악구    | 128.38889 |\n",
       "| 구로구    | 126.09259 |\n",
       "| 양천구    | 120.68519 |\n",
       "| 강동구    | 118.53704 |\n",
       "| 동작구    | 112.64815 |\n",
       "| 용산구    | 110.29630 |\n",
       "| 중구      | 110.11111 |\n",
       "| 종로구    | 106.97222 |\n",
       "| 은평구    | 104.32407 |\n",
       "| 광진구    | 103.07407 |\n",
       "| 강북구    | 101.78704 |\n",
       "| 성동구    |  93.19444 |\n",
       "| 서대문구  |  89.71296 |\n",
       "| 금천구    |  78.69444 |\n",
       "| 도봉구    |  76.40741 |\n",
       "\n"
      ],
      "text/plain": [
       "   자치구명 발생건수 \n",
       "1  강남구   306.36111\n",
       "2  송파구   224.75926\n",
       "3  영등포구 194.64815\n",
       "4  서초구   186.48148\n",
       "5  동대문구 153.64815\n",
       "6  강서구   145.47222\n",
       "7  마포구   141.51852\n",
       "8  중랑구   138.46296\n",
       "9  성북구   130.85185\n",
       "10 노원구   129.21296\n",
       "11 관악구   128.38889\n",
       "12 구로구   126.09259\n",
       "13 양천구   120.68519\n",
       "14 강동구   118.53704\n",
       "15 동작구   112.64815\n",
       "16 용산구   110.29630\n",
       "17 중구     110.11111\n",
       "18 종로구   106.97222\n",
       "19 은평구   104.32407\n",
       "20 광진구   103.07407\n",
       "21 강북구   101.78704\n",
       "22 성동구    93.19444\n",
       "23 서대문구  89.71296\n",
       "24 금천구    78.69444\n",
       "25 도봉구    76.40741"
      ]
     },
     "metadata": {},
     "output_type": "display_data"
    }
   ],
   "source": [
    "# regionAcc.mean을 발생건수 기준으로 내림차순 정렬하기\n",
    "\n",
<<<<<<< HEAD
    "arrange(regionAcc.mean, )\n",
    "\n",
=======
>>>>>>> d1386cba2df793d0b05db45d076424384bad3982
    "arrange(regionAcc.mean, desc(발생건수))"
   ]
  },
  {
   "cell_type": "code",
   "execution_count": 57,
   "id": "6bca0840",
<<<<<<< HEAD
   "metadata": {
    "vscode": {
     "languageId": "r"
    }
   },
=======
   "metadata": {},
   "outputs": [
    {
     "data": {
      "text/html": [
       "<table>\n",
       "<thead><tr><th scope=col>자치구명</th><th scope=col>발생건수</th></tr></thead>\n",
       "<tbody>\n",
       "\t<tr><td>강남구  </td><td>32.92968</td></tr>\n",
       "\t<tr><td>강동구  </td><td>15.24836</td></tr>\n",
       "\t<tr><td>강북구  </td><td>14.80784</td></tr>\n",
       "\t<tr><td>강서구  </td><td>19.66659</td></tr>\n",
       "\t<tr><td>관악구  </td><td>22.62611</td></tr>\n",
       "\t<tr><td>광진구  </td><td>21.85582</td></tr>\n",
       "</tbody>\n",
       "</table>\n"
      ],
      "text/latex": [
       "\\begin{tabular}{r|ll}\n",
       " 자치구명 & 발생건수\\\\\n",
       "\\hline\n",
       "\t 강남구   & 32.92968\\\\\n",
       "\t 강동구   & 15.24836\\\\\n",
       "\t 강북구   & 14.80784\\\\\n",
       "\t 강서구   & 19.66659\\\\\n",
       "\t 관악구   & 22.62611\\\\\n",
       "\t 광진구   & 21.85582\\\\\n",
       "\\end{tabular}\n"
      ],
      "text/markdown": [
       "\n",
       "| 자치구명 | 발생건수 |\n",
       "|---|---|\n",
       "| 강남구   | 32.92968 |\n",
       "| 강동구   | 15.24836 |\n",
       "| 강북구   | 14.80784 |\n",
       "| 강서구   | 19.66659 |\n",
       "| 관악구   | 22.62611 |\n",
       "| 광진구   | 21.85582 |\n",
       "\n"
      ],
      "text/plain": [
       "  자치구명 발생건수\n",
       "1 강남구   32.92968\n",
       "2 강동구   15.24836\n",
       "3 강북구   14.80784\n",
       "4 강서구   19.66659\n",
       "5 관악구   22.62611\n",
       "6 광진구   21.85582"
      ]
     },
     "metadata": {},
     "output_type": "display_data"
    }
   ],
   "source": [
    "# 자치구별 표준편차\n",
    "regionAcc.sd <- aggregate(발생건수 ~ 자치구명, seoul, sd)\n",
    "head(regionAcc.sd)"
   ]
  },
  {
   "cell_type": "code",
   "execution_count": 58,
   "id": "2548d3da",
   "metadata": {},
   "outputs": [
    {
     "data": {
      "text/html": [
       "<ol class=list-inline>\n",
       "\t<li>0.107486482513602</li>\n",
       "\t<li>0.128637979714391</li>\n",
       "\t<li>0.145478594491982</li>\n",
       "\t<li>0.135191404686044</li>\n",
       "\t<li>0.176231052614568</li>\n",
       "\t<li>0.212039899114969</li>\n",
       "\t<li>0.124749016022975</li>\n",
       "\t<li>0.17928452073239</li>\n",
       "\t<li>0.126995840433658</li>\n",
       "\t<li>0.157419730514435</li>\n",
       "\t<li>0.147834704654914</li>\n",
       "\t<li>0.142874348737122</li>\n",
       "\t<li>0.127987255262908</li>\n",
       "\t<li>0.13321233953876</li>\n",
       "\t<li>0.126787757202217</li>\n",
       "\t<li>0.149968744010714</li>\n",
       "\t<li>0.140177159138654</li>\n",
       "\t<li>0.134134103472243</li>\n",
       "\t<li>0.141131538089865</li>\n",
       "\t<li>0.11770976181152</li>\n",
       "\t<li>0.150124463527667</li>\n",
       "\t<li>0.184994008930331</li>\n",
       "\t<li>0.15866237808939</li>\n",
       "\t<li>0.158113260829509</li>\n",
       "\t<li>0.128571242262573</li>\n",
       "</ol>\n"
      ],
      "text/latex": [
       "\\begin{enumerate*}\n",
       "\\item 0.107486482513602\n",
       "\\item 0.128637979714391\n",
       "\\item 0.145478594491982\n",
       "\\item 0.135191404686044\n",
       "\\item 0.176231052614568\n",
       "\\item 0.212039899114969\n",
       "\\item 0.124749016022975\n",
       "\\item 0.17928452073239\n",
       "\\item 0.126995840433658\n",
       "\\item 0.157419730514435\n",
       "\\item 0.147834704654914\n",
       "\\item 0.142874348737122\n",
       "\\item 0.127987255262908\n",
       "\\item 0.13321233953876\n",
       "\\item 0.126787757202217\n",
       "\\item 0.149968744010714\n",
       "\\item 0.140177159138654\n",
       "\\item 0.134134103472243\n",
       "\\item 0.141131538089865\n",
       "\\item 0.11770976181152\n",
       "\\item 0.150124463527667\n",
       "\\item 0.184994008930331\n",
       "\\item 0.15866237808939\n",
       "\\item 0.158113260829509\n",
       "\\item 0.128571242262573\n",
       "\\end{enumerate*}\n"
      ],
      "text/markdown": [
       "1. 0.107486482513602\n",
       "2. 0.128637979714391\n",
       "3. 0.145478594491982\n",
       "4. 0.135191404686044\n",
       "5. 0.176231052614568\n",
       "6. 0.212039899114969\n",
       "7. 0.124749016022975\n",
       "8. 0.17928452073239\n",
       "9. 0.126995840433658\n",
       "10. 0.157419730514435\n",
       "11. 0.147834704654914\n",
       "12. 0.142874348737122\n",
       "13. 0.127987255262908\n",
       "14. 0.13321233953876\n",
       "15. 0.126787757202217\n",
       "16. 0.149968744010714\n",
       "17. 0.140177159138654\n",
       "18. 0.134134103472243\n",
       "19. 0.141131538089865\n",
       "20. 0.11770976181152\n",
       "21. 0.150124463527667\n",
       "22. 0.184994008930331\n",
       "23. 0.15866237808939\n",
       "24. 0.158113260829509\n",
       "25. 0.128571242262573\n",
       "\n",
       "\n"
      ],
      "text/plain": [
       " [1] 0.1074865 0.1286380 0.1454786 0.1351914 0.1762311 0.2120399 0.1247490\n",
       " [8] 0.1792845 0.1269958 0.1574197 0.1478347 0.1428743 0.1279873 0.1332123\n",
       "[15] 0.1267878 0.1499687 0.1401772 0.1341341 0.1411315 0.1177098 0.1501245\n",
       "[22] 0.1849940 0.1586624 0.1581133 0.1285712"
      ]
     },
     "metadata": {},
     "output_type": "display_data"
    }
   ],
   "source": [
    "# 자치구별 발생건수의 변동계수\n",
    "# 변동계수 = 표준편차 / 평균\n",
    "\n",
    "regionAcc.cv <- regionAcc.sd$발생건수 / regionAcc.mean$발생건수\n",
    "\n",
    "regionAcc.cv"
   ]
  },
  {
   "cell_type": "code",
   "execution_count": 59,
   "id": "e44e6cac",
   "metadata": {
    "scrolled": false
   },
   "outputs": [
    {
     "data": {
      "text/html": [
       "<table>\n",
       "<thead><tr><th scope=col>자치구명</th><th scope=col>변동계수</th></tr></thead>\n",
       "<tbody>\n",
       "\t<tr><td>강남구   </td><td>0.1074865</td></tr>\n",
       "\t<tr><td>영등포구 </td><td>0.1177098</td></tr>\n",
       "\t<tr><td>구로구   </td><td>0.1247490</td></tr>\n",
       "\t<tr><td>서초구   </td><td>0.1267878</td></tr>\n",
       "\t<tr><td>노원구   </td><td>0.1269958</td></tr>\n",
       "\t<tr><td>마포구   </td><td>0.1279873</td></tr>\n",
       "</tbody>\n",
       "</table>\n"
      ],
      "text/latex": [
       "\\begin{tabular}{r|ll}\n",
       " 자치구명 & 변동계수\\\\\n",
       "\\hline\n",
       "\t 강남구    & 0.1074865\\\\\n",
       "\t 영등포구  & 0.1177098\\\\\n",
       "\t 구로구    & 0.1247490\\\\\n",
       "\t 서초구    & 0.1267878\\\\\n",
       "\t 노원구    & 0.1269958\\\\\n",
       "\t 마포구    & 0.1279873\\\\\n",
       "\\end{tabular}\n"
      ],
      "text/markdown": [
       "\n",
       "| 자치구명 | 변동계수 |\n",
       "|---|---|\n",
       "| 강남구    | 0.1074865 |\n",
       "| 영등포구  | 0.1177098 |\n",
       "| 구로구    | 0.1247490 |\n",
       "| 서초구    | 0.1267878 |\n",
       "| 노원구    | 0.1269958 |\n",
       "| 마포구    | 0.1279873 |\n",
       "\n"
      ],
      "text/plain": [
       "  자치구명 변동계수 \n",
       "1 강남구   0.1074865\n",
       "2 영등포구 0.1177098\n",
       "3 구로구   0.1247490\n",
       "4 서초구   0.1267878\n",
       "5 노원구   0.1269958\n",
       "6 마포구   0.1279873"
      ]
     },
     "metadata": {},
     "output_type": "display_data"
    },
    {
     "data": {
      "text/html": [
       "<table>\n",
       "<thead><tr><th></th><th scope=col>자치구명</th><th scope=col>변동계수</th></tr></thead>\n",
       "<tbody>\n",
       "\t<tr><th scope=row>20</th><td>중구     </td><td>0.1581133</td></tr>\n",
       "\t<tr><th scope=row>21</th><td>종로구   </td><td>0.1586624</td></tr>\n",
       "\t<tr><th scope=row>22</th><td>관악구   </td><td>0.1762311</td></tr>\n",
       "\t<tr><th scope=row>23</th><td>금천구   </td><td>0.1792845</td></tr>\n",
       "\t<tr><th scope=row>24</th><td>은평구   </td><td>0.1849940</td></tr>\n",
       "\t<tr><th scope=row>25</th><td>광진구   </td><td>0.2120399</td></tr>\n",
       "</tbody>\n",
       "</table>\n"
      ],
      "text/latex": [
       "\\begin{tabular}{r|ll}\n",
       "  & 자치구명 & 변동계수\\\\\n",
       "\\hline\n",
       "\t20 & 중구      & 0.1581133\\\\\n",
       "\t21 & 종로구    & 0.1586624\\\\\n",
       "\t22 & 관악구    & 0.1762311\\\\\n",
       "\t23 & 금천구    & 0.1792845\\\\\n",
       "\t24 & 은평구    & 0.1849940\\\\\n",
       "\t25 & 광진구    & 0.2120399\\\\\n",
       "\\end{tabular}\n"
      ],
      "text/markdown": [
       "\n",
       "| <!--/--> | 자치구명 | 변동계수 |\n",
       "|---|---|---|\n",
       "| 20 | 중구      | 0.1581133 |\n",
       "| 21 | 종로구    | 0.1586624 |\n",
       "| 22 | 관악구    | 0.1762311 |\n",
       "| 23 | 금천구    | 0.1792845 |\n",
       "| 24 | 은평구    | 0.1849940 |\n",
       "| 25 | 광진구    | 0.2120399 |\n",
       "\n"
      ],
      "text/plain": [
       "   자치구명 변동계수 \n",
       "20 중구     0.1581133\n",
       "21 종로구   0.1586624\n",
       "22 관악구   0.1762311\n",
       "23 금천구   0.1792845\n",
       "24 은평구   0.1849940\n",
       "25 광진구   0.2120399"
      ]
     },
     "metadata": {},
     "output_type": "display_data"
    }
   ],
   "source": [
    "# 자치구명과 변동계수를 가진 DataFrame 만들기\n",
    "\n",
    "regionAcc <- data.frame(자치구명 = regionAcc.sd$자치구명, 변동계수 = regionAcc.cv)\n",
    "\n",
    "# 정렬\n",
    "head(arrange(regionAcc, 변동계수))\n",
    "tail(arrange(regionAcc, 변동계수))"
   ]
  },
  {
   "cell_type": "code",
   "execution_count": 60,
   "id": "dd74fe35",
   "metadata": {},
   "outputs": [
    {
     "data": {
      "text/html": [
       "<table>\n",
       "<thead><tr><th scope=col>년도</th><th scope=col>월</th><th scope=col>자치구명</th><th scope=col>발생건수</th><th scope=col>사망자수</th><th scope=col>부상자수</th></tr></thead>\n",
       "<tbody>\n",
       "\t<tr><td>2011  </td><td>1     </td><td>종로구</td><td>115   </td><td>2     </td><td>165   </td></tr>\n",
       "\t<tr><td>2011  </td><td>2     </td><td>종로구</td><td> 99   </td><td>0     </td><td>134   </td></tr>\n",
       "\t<tr><td>2011  </td><td>3     </td><td>종로구</td><td>116   </td><td>0     </td><td>162   </td></tr>\n",
       "\t<tr><td>2011  </td><td>4     </td><td>종로구</td><td>110   </td><td>1     </td><td>153   </td></tr>\n",
       "\t<tr><td>2011  </td><td>5     </td><td>종로구</td><td>122   </td><td>0     </td><td>157   </td></tr>\n",
       "\t<tr><td>2011  </td><td>6     </td><td>종로구</td><td>116   </td><td>3     </td><td>163   </td></tr>\n",
       "</tbody>\n",
       "</table>\n"
      ],
      "text/latex": [
       "\\begin{tabular}{r|llllll}\n",
       " 년도 & 월 & 자치구명 & 발생건수 & 사망자수 & 부상자수\\\\\n",
       "\\hline\n",
       "\t 2011   & 1      & 종로구 & 115    & 2      & 165   \\\\\n",
       "\t 2011   & 2      & 종로구 &  99    & 0      & 134   \\\\\n",
       "\t 2011   & 3      & 종로구 & 116    & 0      & 162   \\\\\n",
       "\t 2011   & 4      & 종로구 & 110    & 1      & 153   \\\\\n",
       "\t 2011   & 5      & 종로구 & 122    & 0      & 157   \\\\\n",
       "\t 2011   & 6      & 종로구 & 116    & 3      & 163   \\\\\n",
       "\\end{tabular}\n"
      ],
      "text/markdown": [
       "\n",
       "| 년도 | 월 | 자치구명 | 발생건수 | 사망자수 | 부상자수 |\n",
       "|---|---|---|---|---|---|\n",
       "| 2011   | 1      | 종로구 | 115    | 2      | 165    |\n",
       "| 2011   | 2      | 종로구 |  99    | 0      | 134    |\n",
       "| 2011   | 3      | 종로구 | 116    | 0      | 162    |\n",
       "| 2011   | 4      | 종로구 | 110    | 1      | 153    |\n",
       "| 2011   | 5      | 종로구 | 122    | 0      | 157    |\n",
       "| 2011   | 6      | 종로구 | 116    | 3      | 163    |\n",
       "\n"
      ],
      "text/plain": [
       "  년도 월 자치구명 발생건수 사망자수 부상자수\n",
       "1 2011 1  종로구   115      2        165     \n",
       "2 2011 2  종로구    99      0        134     \n",
       "3 2011 3  종로구   116      0        162     \n",
       "4 2011 4  종로구   110      1        153     \n",
       "5 2011 5  종로구   122      0        157     \n",
       "6 2011 6  종로구   116      3        163     "
      ]
     },
     "metadata": {},
     "output_type": "display_data"
    },
    {
     "data": {
      "text/html": [
       "<table>\n",
       "<thead><tr><th scope=col>자치구명</th><th scope=col>변동계수</th></tr></thead>\n",
       "<tbody>\n",
       "\t<tr><td>강남구   </td><td>0.1125485</td></tr>\n",
       "\t<tr><td>강동구   </td><td>0.1427554</td></tr>\n",
       "\t<tr><td>강북구   </td><td>0.1356240</td></tr>\n",
       "\t<tr><td>강서구   </td><td>0.1565859</td></tr>\n",
       "\t<tr><td>관악구   </td><td>0.1903978</td></tr>\n",
       "\t<tr><td>광진구   </td><td>0.2353976</td></tr>\n",
       "</tbody>\n",
       "</table>\n"
      ],
      "text/latex": [
       "\\begin{tabular}{r|ll}\n",
       " 자치구명 & 변동계수\\\\\n",
       "\\hline\n",
       "\t 강남구    & 0.1125485\\\\\n",
       "\t 강동구    & 0.1427554\\\\\n",
       "\t 강북구    & 0.1356240\\\\\n",
       "\t 강서구    & 0.1565859\\\\\n",
       "\t 관악구    & 0.1903978\\\\\n",
       "\t 광진구    & 0.2353976\\\\\n",
       "\\end{tabular}\n"
      ],
      "text/markdown": [
       "\n",
       "| 자치구명 | 변동계수 |\n",
       "|---|---|\n",
       "| 강남구    | 0.1125485 |\n",
       "| 강동구    | 0.1427554 |\n",
       "| 강북구    | 0.1356240 |\n",
       "| 강서구    | 0.1565859 |\n",
       "| 관악구    | 0.1903978 |\n",
       "| 광진구    | 0.2353976 |\n",
       "\n"
      ],
      "text/plain": [
       "  자치구명 변동계수 \n",
       "1 강남구   0.1125485\n",
       "2 강동구   0.1427554\n",
       "3 강북구   0.1356240\n",
       "4 강서구   0.1565859\n",
       "5 관악구   0.1903978\n",
       "6 광진구   0.2353976"
      ]
     },
     "metadata": {},
     "output_type": "display_data"
    }
   ],
   "source": [
    "# 서울시 교통사고 부상자수에 대한 변동계수 구하기\n",
    "head(seoul)\n",
    "regionInjure.mean <- aggregate(부상자수 ~ 자치구명, seoul, mean) # 평균\n",
    "regionInjure.sd <- aggregate(부상자수 ~ 자치구명, seoul, sd) # 표준편차\n",
    "regionInjure.cv <- regionInjure.sd$부상자수 / regionInjure.mean$부상자수 # 변동계수\n",
    "\n",
    "regionInjure <- data.frame(자치구명 = regionInjure.mean$자치구명, 변동계수=regionInjure.cv)\n",
    "head(regionInjure)\n"
   ]
  },
  {
   "cell_type": "code",
   "execution_count": 61,
   "id": "1c6ae5fc",
   "metadata": {},
   "outputs": [
    {
     "data": {
      "text/html": [
       "<table>\n",
       "<thead><tr><th scope=col>자치구명</th><th scope=col>변동계수</th></tr></thead>\n",
       "<tbody>\n",
       "\t<tr><td>강남구   </td><td>0.7864080</td></tr>\n",
       "\t<tr><td>강동구   </td><td>0.7663838</td></tr>\n",
       "\t<tr><td>강북구   </td><td>0.9826626</td></tr>\n",
       "\t<tr><td>강서구   </td><td>0.8635127</td></tr>\n",
       "\t<tr><td>관악구   </td><td>0.9202590</td></tr>\n",
       "\t<tr><td>광진구   </td><td>1.0026785</td></tr>\n",
       "\t<tr><td>구로구   </td><td>0.9565578</td></tr>\n",
       "\t<tr><td>금천구   </td><td>1.1968557</td></tr>\n",
       "\t<tr><td>노원구   </td><td>0.8443981</td></tr>\n",
       "\t<tr><td>도봉구   </td><td>1.1260506</td></tr>\n",
       "\t<tr><td>동대문구 </td><td>0.9432929</td></tr>\n",
       "\t<tr><td>동작구   </td><td>1.0596641</td></tr>\n",
       "\t<tr><td>마포구   </td><td>1.0556714</td></tr>\n",
       "\t<tr><td>서대문구 </td><td>0.9634543</td></tr>\n",
       "\t<tr><td>서초구   </td><td>0.8277334</td></tr>\n",
       "\t<tr><td>성동구   </td><td>1.0422291</td></tr>\n",
       "\t<tr><td>성북구   </td><td>0.9886017</td></tr>\n",
       "\t<tr><td>송파구   </td><td>0.8062102</td></tr>\n",
       "\t<tr><td>양천구   </td><td>1.0473578</td></tr>\n",
       "\t<tr><td>영등포구 </td><td>0.6293361</td></tr>\n",
       "\t<tr><td>용산구   </td><td>0.9609775</td></tr>\n",
       "\t<tr><td>은평구   </td><td>0.8527234</td></tr>\n",
       "\t<tr><td>종로구   </td><td>0.9332813</td></tr>\n",
       "\t<tr><td>중구     </td><td>1.3235261</td></tr>\n",
       "\t<tr><td>중랑구   </td><td>1.1019842</td></tr>\n",
       "</tbody>\n",
       "</table>\n"
      ],
      "text/latex": [
       "\\begin{tabular}{r|ll}\n",
       " 자치구명 & 변동계수\\\\\n",
       "\\hline\n",
       "\t 강남구    & 0.7864080\\\\\n",
       "\t 강동구    & 0.7663838\\\\\n",
       "\t 강북구    & 0.9826626\\\\\n",
       "\t 강서구    & 0.8635127\\\\\n",
       "\t 관악구    & 0.9202590\\\\\n",
       "\t 광진구    & 1.0026785\\\\\n",
       "\t 구로구    & 0.9565578\\\\\n",
       "\t 금천구    & 1.1968557\\\\\n",
       "\t 노원구    & 0.8443981\\\\\n",
       "\t 도봉구    & 1.1260506\\\\\n",
       "\t 동대문구  & 0.9432929\\\\\n",
       "\t 동작구    & 1.0596641\\\\\n",
       "\t 마포구    & 1.0556714\\\\\n",
       "\t 서대문구  & 0.9634543\\\\\n",
       "\t 서초구    & 0.8277334\\\\\n",
       "\t 성동구    & 1.0422291\\\\\n",
       "\t 성북구    & 0.9886017\\\\\n",
       "\t 송파구    & 0.8062102\\\\\n",
       "\t 양천구    & 1.0473578\\\\\n",
       "\t 영등포구  & 0.6293361\\\\\n",
       "\t 용산구    & 0.9609775\\\\\n",
       "\t 은평구    & 0.8527234\\\\\n",
       "\t 종로구    & 0.9332813\\\\\n",
       "\t 중구      & 1.3235261\\\\\n",
       "\t 중랑구    & 1.1019842\\\\\n",
       "\\end{tabular}\n"
      ],
      "text/markdown": [
       "\n",
       "| 자치구명 | 변동계수 |\n",
       "|---|---|\n",
       "| 강남구    | 0.7864080 |\n",
       "| 강동구    | 0.7663838 |\n",
       "| 강북구    | 0.9826626 |\n",
       "| 강서구    | 0.8635127 |\n",
       "| 관악구    | 0.9202590 |\n",
       "| 광진구    | 1.0026785 |\n",
       "| 구로구    | 0.9565578 |\n",
       "| 금천구    | 1.1968557 |\n",
       "| 노원구    | 0.8443981 |\n",
       "| 도봉구    | 1.1260506 |\n",
       "| 동대문구  | 0.9432929 |\n",
       "| 동작구    | 1.0596641 |\n",
       "| 마포구    | 1.0556714 |\n",
       "| 서대문구  | 0.9634543 |\n",
       "| 서초구    | 0.8277334 |\n",
       "| 성동구    | 1.0422291 |\n",
       "| 성북구    | 0.9886017 |\n",
       "| 송파구    | 0.8062102 |\n",
       "| 양천구    | 1.0473578 |\n",
       "| 영등포구  | 0.6293361 |\n",
       "| 용산구    | 0.9609775 |\n",
       "| 은평구    | 0.8527234 |\n",
       "| 종로구    | 0.9332813 |\n",
       "| 중구      | 1.3235261 |\n",
       "| 중랑구    | 1.1019842 |\n",
       "\n"
      ],
      "text/plain": [
       "   자치구명 변동계수 \n",
       "1  강남구   0.7864080\n",
       "2  강동구   0.7663838\n",
       "3  강북구   0.9826626\n",
       "4  강서구   0.8635127\n",
       "5  관악구   0.9202590\n",
       "6  광진구   1.0026785\n",
       "7  구로구   0.9565578\n",
       "8  금천구   1.1968557\n",
       "9  노원구   0.8443981\n",
       "10 도봉구   1.1260506\n",
       "11 동대문구 0.9432929\n",
       "12 동작구   1.0596641\n",
       "13 마포구   1.0556714\n",
       "14 서대문구 0.9634543\n",
       "15 서초구   0.8277334\n",
       "16 성동구   1.0422291\n",
       "17 성북구   0.9886017\n",
       "18 송파구   0.8062102\n",
       "19 양천구   1.0473578\n",
       "20 영등포구 0.6293361\n",
       "21 용산구   0.9609775\n",
       "22 은평구   0.8527234\n",
       "23 종로구   0.9332813\n",
       "24 중구     1.3235261\n",
       "25 중랑구   1.1019842"
      ]
     },
     "metadata": {},
     "output_type": "display_data"
    }
   ],
   "source": [
    "# 서울시 교통사고 사망자수에 대한 변동계수 구하기\n",
    "regionDeath.mean <- aggregate(사망자수 ~ 자치구명, seoul, mean)\n",
    "regionDeath.sd <- aggregate(사망자수 ~ 자치구명, seoul, sd)\n",
    "\n",
    "regionDeath.cv <- regionDeath.sd$사망자수 / regionDeath.mean$사망자수\n",
    "\n",
    "regionDeath <- data.frame(자치구명=regionDeath.mean$자치구명, 변동계수=regionDeath.cv)\n",
    "\n",
    "regionDeath"
   ]
  },
  {
   "cell_type": "code",
   "execution_count": 62,
   "id": "128dd560",
   "metadata": {
    "scrolled": true
   },
   "outputs": [
    {
     "data": {
      "text/html": [
       "0.98089324110604"
      ],
      "text/latex": [
       "0.98089324110604"
      ],
      "text/markdown": [
       "0.98089324110604"
      ],
      "text/plain": [
       "[1] 0.9808932"
      ]
     },
     "metadata": {},
     "output_type": "display_data"
    }
   ],
   "source": [
    "# 교통사고 발생건수와 부상자수의 관계 : 상관계수\n",
    "\n",
    "cor(seoul$발생건수, seoul$부상자수 )"
   ]
  },
  {
   "cell_type": "markdown",
   "id": "5c2c7910",
   "metadata": {},
   "source": [
    "0 ~ 0.3 : 상관없음 <br>\n",
    "0.3 ~ 0.5 : 약한 관계  <br>\n",
    "0.5 ~ 0.7 : 관계 있음  <br>\n",
    "0.7 ~ : 강한관계   <br>"
   ]
  },
  {
   "cell_type": "code",
   "execution_count": 63,
   "id": "e02b92b8",
   "metadata": {},
   "outputs": [
    {
     "data": {
      "image/png": "iVBORw0KGgoAAAANSUhEUgAAA0gAAANICAYAAAD958/bAAAEDmlDQ1BrQ0dDb2xvclNwYWNl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\nAAAAAElFTkSuQmCC",
      "text/plain": [
       "plot without title"
      ]
     },
     "metadata": {},
     "output_type": "display_data"
    },
    {
     "data": {
      "image/png": "iVBORw0KGgoAAAANSUhEUgAAA0gAAANICAYAAAD958/bAAAEDmlDQ1BrQ0dDb2xvclNwYWNl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\nJCABCUhAAhKQwNgj8P8BofcNYjb0dE4AAAAASUVORK5CYII=",
      "text/plain": [
       "plot without title"
      ]
     },
     "metadata": {},
     "output_type": "display_data"
    }
   ],
   "source": [
    "par(family = \"AppleGothic\")\n",
    "plot(seoul$발생건수, seoul$부상자수) # plot(x축, y축)\n",
    "plot(seoul$발생건수, seoul$사망자수)"
   ]
  },
  {
   "cell_type": "code",
   "execution_count": 64,
   "id": "00cf726e",
   "metadata": {},
   "outputs": [
    {
     "data": {
      "text/html": [
       "0.238714776834864"
      ],
      "text/latex": [
       "0.238714776834864"
      ],
      "text/markdown": [
       "0.238714776834864"
      ],
      "text/plain": [
       "[1] 0.2387148"
      ]
     },
     "metadata": {},
     "output_type": "display_data"
    }
   ],
   "source": [
    "# 교통사고 발생건수와 사망자수의 관계 : 상관계수\n",
    "cor(seoul$발생건수, seoul$사망자수)"
   ]
  },
  {
   "cell_type": "code",
   "execution_count": 65,
   "id": "4b8a606e",
   "metadata": {},
   "outputs": [
    {
     "data": {
      "text/html": [
       "0.237301918677241"
      ],
      "text/latex": [
       "0.237301918677241"
      ],
      "text/markdown": [
       "0.237301918677241"
      ],
      "text/plain": [
       "[1] 0.2373019"
      ]
     },
     "metadata": {},
     "output_type": "display_data"
    }
   ],
   "source": [
    "# 교통사고 부상자수와 사망자수의 관계\n",
    "\n",
    "cor(seoul$부상자수, seoul$사망자수)"
   ]
  },
  {
   "cell_type": "code",
   "execution_count": 66,
   "id": "a5bc7268",
   "metadata": {},
   "outputs": [
    {
     "data": {
      "text/html": [
       "<table>\n",
       "<thead><tr><th scope=col>년도</th><th scope=col>월</th><th scope=col>자치구명</th><th scope=col>발생건수</th><th scope=col>사망자수</th><th scope=col>부상자수</th></tr></thead>\n",
       "<tbody>\n",
       "\t<tr><td>2011  </td><td>1     </td><td>종로구</td><td>115   </td><td>2     </td><td>165   </td></tr>\n",
       "\t<tr><td>2011  </td><td>2     </td><td>종로구</td><td> 99   </td><td>0     </td><td>134   </td></tr>\n",
       "\t<tr><td>2011  </td><td>3     </td><td>종로구</td><td>116   </td><td>0     </td><td>162   </td></tr>\n",
       "\t<tr><td>2011  </td><td>4     </td><td>종로구</td><td>110   </td><td>1     </td><td>153   </td></tr>\n",
       "\t<tr><td>2011  </td><td>5     </td><td>종로구</td><td>122   </td><td>0     </td><td>157   </td></tr>\n",
       "\t<tr><td>2011  </td><td>6     </td><td>종로구</td><td>116   </td><td>3     </td><td>163   </td></tr>\n",
       "</tbody>\n",
       "</table>\n"
      ],
      "text/latex": [
       "\\begin{tabular}{r|llllll}\n",
       " 년도 & 월 & 자치구명 & 발생건수 & 사망자수 & 부상자수\\\\\n",
       "\\hline\n",
       "\t 2011   & 1      & 종로구 & 115    & 2      & 165   \\\\\n",
       "\t 2011   & 2      & 종로구 &  99    & 0      & 134   \\\\\n",
       "\t 2011   & 3      & 종로구 & 116    & 0      & 162   \\\\\n",
       "\t 2011   & 4      & 종로구 & 110    & 1      & 153   \\\\\n",
       "\t 2011   & 5      & 종로구 & 122    & 0      & 157   \\\\\n",
       "\t 2011   & 6      & 종로구 & 116    & 3      & 163   \\\\\n",
       "\\end{tabular}\n"
      ],
      "text/markdown": [
       "\n",
       "| 년도 | 월 | 자치구명 | 발생건수 | 사망자수 | 부상자수 |\n",
       "|---|---|---|---|---|---|\n",
       "| 2011   | 1      | 종로구 | 115    | 2      | 165    |\n",
       "| 2011   | 2      | 종로구 |  99    | 0      | 134    |\n",
       "| 2011   | 3      | 종로구 | 116    | 0      | 162    |\n",
       "| 2011   | 4      | 종로구 | 110    | 1      | 153    |\n",
       "| 2011   | 5      | 종로구 | 122    | 0      | 157    |\n",
       "| 2011   | 6      | 종로구 | 116    | 3      | 163    |\n",
       "\n"
      ],
      "text/plain": [
       "  년도 월 자치구명 발생건수 사망자수 부상자수\n",
       "1 2011 1  종로구   115      2        165     \n",
       "2 2011 2  종로구    99      0        134     \n",
       "3 2011 3  종로구   116      0        162     \n",
       "4 2011 4  종로구   110      1        153     \n",
       "5 2011 5  종로구   122      0        157     \n",
       "6 2011 6  종로구   116      3        163     "
      ]
     },
     "metadata": {},
     "output_type": "display_data"
    }
   ],
   "source": [
    "head(seoul)"
   ]
  },
  {
   "cell_type": "code",
   "execution_count": 67,
   "id": "24198d69",
   "metadata": {},
   "outputs": [],
   "source": [
    "# 강북권, 강남권 별 발생, 부상, 사망자수에 대한 분석\n",
    "\n",
    "# 강북, 강남 나누기\n",
    "\n",
    "# 발생 "
   ]
  },
  {
   "cell_type": "code",
   "execution_count": 105,
   "id": "003975c1",
   "metadata": {
    "scrolled": true
   },
   "outputs": [
    {
     "data": {
      "text/plain": [
       "\n",
       "강남 강북 \n",
       "1188 1512 "
      ]
     },
     "metadata": {},
     "output_type": "display_data"
    },
    {
     "data": {
      "text/html": [
       "<table>\n",
       "<thead><tr><th scope=col>년도</th><th scope=col>월</th><th scope=col>자치구명</th><th scope=col>발생건수</th><th scope=col>사망자수</th><th scope=col>부상자수</th><th scope=col>권역</th></tr></thead>\n",
       "<tbody>\n",
       "\t<tr><td>2011  </td><td>1     </td><td>종로구</td><td>115   </td><td>2     </td><td>165   </td><td>강북  </td></tr>\n",
       "\t<tr><td>2011  </td><td>2     </td><td>종로구</td><td> 99   </td><td>0     </td><td>134   </td><td>강북  </td></tr>\n",
       "\t<tr><td>2011  </td><td>3     </td><td>종로구</td><td>116   </td><td>0     </td><td>162   </td><td>강북  </td></tr>\n",
       "\t<tr><td>2011  </td><td>4     </td><td>종로구</td><td>110   </td><td>1     </td><td>153   </td><td>강북  </td></tr>\n",
       "\t<tr><td>2011  </td><td>5     </td><td>종로구</td><td>122   </td><td>0     </td><td>157   </td><td>강북  </td></tr>\n",
       "\t<tr><td>2011  </td><td>6     </td><td>종로구</td><td>116   </td><td>3     </td><td>163   </td><td>강북  </td></tr>\n",
       "</tbody>\n",
       "</table>\n"
      ],
      "text/latex": [
       "\\begin{tabular}{r|lllllll}\n",
       " 년도 & 월 & 자치구명 & 발생건수 & 사망자수 & 부상자수 & 권역\\\\\n",
       "\\hline\n",
       "\t 2011   & 1      & 종로구 & 115    & 2      & 165    & 강북  \\\\\n",
       "\t 2011   & 2      & 종로구 &  99    & 0      & 134    & 강북  \\\\\n",
       "\t 2011   & 3      & 종로구 & 116    & 0      & 162    & 강북  \\\\\n",
       "\t 2011   & 4      & 종로구 & 110    & 1      & 153    & 강북  \\\\\n",
       "\t 2011   & 5      & 종로구 & 122    & 0      & 157    & 강북  \\\\\n",
       "\t 2011   & 6      & 종로구 & 116    & 3      & 163    & 강북  \\\\\n",
       "\\end{tabular}\n"
      ],
      "text/markdown": [
       "\n",
       "| 년도 | 월 | 자치구명 | 발생건수 | 사망자수 | 부상자수 | 권역 |\n",
       "|---|---|---|---|---|---|---|\n",
       "| 2011   | 1      | 종로구 | 115    | 2      | 165    | 강북   |\n",
       "| 2011   | 2      | 종로구 |  99    | 0      | 134    | 강북   |\n",
       "| 2011   | 3      | 종로구 | 116    | 0      | 162    | 강북   |\n",
       "| 2011   | 4      | 종로구 | 110    | 1      | 153    | 강북   |\n",
       "| 2011   | 5      | 종로구 | 122    | 0      | 157    | 강북   |\n",
       "| 2011   | 6      | 종로구 | 116    | 3      | 163    | 강북   |\n",
       "\n"
      ],
      "text/plain": [
       "  년도 월 자치구명 발생건수 사망자수 부상자수 권역\n",
       "1 2011 1  종로구   115      2        165      강북\n",
       "2 2011 2  종로구    99      0        134      강북\n",
       "3 2011 3  종로구   116      0        162      강북\n",
       "4 2011 4  종로구   110      1        153      강북\n",
       "5 2011 5  종로구   122      0        157      강북\n",
       "6 2011 6  종로구   116      3        163      강북"
      ]
     },
     "metadata": {},
     "output_type": "display_data"
    },
    {
     "data": {
      "text/html": [
       "<table>\n",
       "<thead><tr><th></th><th scope=col>년도</th><th scope=col>월</th><th scope=col>자치구명</th><th scope=col>발생건수</th><th scope=col>사망자수</th><th scope=col>부상자수</th><th scope=col>권역</th></tr></thead>\n",
       "<tbody>\n",
       "\t<tr><th scope=row>2695</th><td>2019  </td><td> 7    </td><td>강동구</td><td>146   </td><td>2     </td><td>189   </td><td>강남  </td></tr>\n",
       "\t<tr><th scope=row>2696</th><td>2019  </td><td> 8    </td><td>강동구</td><td>127   </td><td>2     </td><td>175   </td><td>강남  </td></tr>\n",
       "\t<tr><th scope=row>2697</th><td>2019  </td><td> 9    </td><td>강동구</td><td> 98   </td><td>2     </td><td>137   </td><td>강남  </td></tr>\n",
       "\t<tr><th scope=row>2698</th><td>2019  </td><td>10    </td><td>강동구</td><td>108   </td><td>1     </td><td>144   </td><td>강남  </td></tr>\n",
       "\t<tr><th scope=row>2699</th><td>2019  </td><td>11    </td><td>강동구</td><td>146   </td><td>0     </td><td>199   </td><td>강남  </td></tr>\n",
       "\t<tr><th scope=row>2700</th><td>2019  </td><td>12    </td><td>강동구</td><td>108   </td><td>1     </td><td>131   </td><td>강남  </td></tr>\n",
       "</tbody>\n",
       "</table>\n"
      ],
      "text/latex": [
       "\\begin{tabular}{r|lllllll}\n",
       "  & 년도 & 월 & 자치구명 & 발생건수 & 사망자수 & 부상자수 & 권역\\\\\n",
       "\\hline\n",
       "\t2695 & 2019   &  7     & 강동구 & 146    & 2      & 189    & 강남  \\\\\n",
       "\t2696 & 2019   &  8     & 강동구 & 127    & 2      & 175    & 강남  \\\\\n",
       "\t2697 & 2019   &  9     & 강동구 &  98    & 2      & 137    & 강남  \\\\\n",
       "\t2698 & 2019   & 10     & 강동구 & 108    & 1      & 144    & 강남  \\\\\n",
       "\t2699 & 2019   & 11     & 강동구 & 146    & 0      & 199    & 강남  \\\\\n",
       "\t2700 & 2019   & 12     & 강동구 & 108    & 1      & 131    & 강남  \\\\\n",
       "\\end{tabular}\n"
      ],
      "text/markdown": [
       "\n",
       "| <!--/--> | 년도 | 월 | 자치구명 | 발생건수 | 사망자수 | 부상자수 | 권역 |\n",
       "|---|---|---|---|---|---|---|---|\n",
       "| 2695 | 2019   |  7     | 강동구 | 146    | 2      | 189    | 강남   |\n",
       "| 2696 | 2019   |  8     | 강동구 | 127    | 2      | 175    | 강남   |\n",
       "| 2697 | 2019   |  9     | 강동구 |  98    | 2      | 137    | 강남   |\n",
       "| 2698 | 2019   | 10     | 강동구 | 108    | 1      | 144    | 강남   |\n",
       "| 2699 | 2019   | 11     | 강동구 | 146    | 0      | 199    | 강남   |\n",
       "| 2700 | 2019   | 12     | 강동구 | 108    | 1      | 131    | 강남   |\n",
       "\n"
      ],
      "text/plain": [
       "     년도 월 자치구명 발생건수 사망자수 부상자수 권역\n",
       "2695 2019  7 강동구   146      2        189      강남\n",
       "2696 2019  8 강동구   127      2        175      강남\n",
       "2697 2019  9 강동구    98      2        137      강남\n",
       "2698 2019 10 강동구   108      1        144      강남\n",
       "2699 2019 11 강동구   146      0        199      강남\n",
       "2700 2019 12 강동구   108      1        131      강남"
      ]
     },
     "metadata": {},
     "output_type": "display_data"
    }
   ],
   "source": [
    "for (i in 1:nrow(seoul)){\n",
    "    \n",
    "    ifelse(seoul[i,3] == \"성북구\" | seoul[i,3] == \"종로구\" |seoul[i,3] == \"동대문구\" |\n",
    "          seoul[i,3] == \"용산구\" |seoul[i,3] == \"중구\" |seoul[i,3] == \"서대문구\" |\n",
    "          seoul[i,3] == \"마포구\" |seoul[i,3] == \"은평구\" |seoul[i,3] == \"광진구\" |\n",
    "          seoul[i,3] == \"중랑구\" | seoul[i,3] == \"노원구\" | seoul[i,3] == \"강북구\" |\n",
    "          seoul[i,3] == \"도봉구\" | seoul[i,3] == \"성동구\" , result <- '강북', result <- '강남')\n",
    "   \n",
    "    seoul$권역[i] = result\n",
    "    \n",
    "}\n",
    "southNorth <- seoul\n",
    "\n",
    "table(southNorth$권역)\n",
    "\n",
    "head(southNorth)\n",
    "tail(southNorth)"
   ]
  },
  {
   "cell_type": "code",
   "execution_count": 125,
   "id": "5b4bfcd1",
   "metadata": {
    "scrolled": false
   },
   "outputs": [
    {
     "data": {
      "text/html": [
       "<table>\n",
       "<thead><tr><th scope=col>권역</th><th scope=col>발생건수총계</th><th scope=col>발생건수평균</th><th scope=col>발생건수표준편차</th><th scope=col>변동계수</th></tr></thead>\n",
       "<tbody>\n",
       "\t<tr><td>강남     </td><td>188219   </td><td>158.4335 </td><td>65.47960 </td><td>0.4132939</td></tr>\n",
       "\t<tr><td>강북     </td><td>171674   </td><td>113.5410 </td><td>27.34554 </td><td>0.2408429</td></tr>\n",
       "</tbody>\n",
       "</table>\n"
      ],
      "text/latex": [
       "\\begin{tabular}{r|lllll}\n",
       " 권역 & 발생건수총계 & 발생건수평균 & 발생건수표준편차 & 변동계수\\\\\n",
       "\\hline\n",
       "\t 강남      & 188219    & 158.4335  & 65.47960  & 0.4132939\\\\\n",
       "\t 강북      & 171674    & 113.5410  & 27.34554  & 0.2408429\\\\\n",
       "\\end{tabular}\n"
      ],
      "text/markdown": [
       "\n",
       "| 권역 | 발생건수총계 | 발생건수평균 | 발생건수표준편차 | 변동계수 |\n",
       "|---|---|---|---|---|\n",
       "| 강남      | 188219    | 158.4335  | 65.47960  | 0.4132939 |\n",
       "| 강북      | 171674    | 113.5410  | 27.34554  | 0.2408429 |\n",
       "\n"
      ],
      "text/plain": [
       "  권역 발생건수총계 발생건수평균 발생건수표준편차 변동계수 \n",
       "1 강남 188219       158.4335     65.47960         0.4132939\n",
       "2 강북 171674       113.5410     27.34554         0.2408429"
      ]
     },
     "metadata": {},
     "output_type": "display_data"
    }
   ],
   "source": [
    "# 강북강남별 발생건수\n",
    "\n",
    "# 총 발생건수\n",
    "snAccident.sum <- aggregate(발생건수 ~ 권역, southNorth, sum)\n",
    "\n",
    "# 평균\n",
    "snAccident.mean <- aggregate(발생건수 ~ 권역, southNorth, mean)\n",
    "\n",
    "# 표준편차\n",
    "snAccident.sd <- aggregate(발생건수 ~ 권역, southNorth, sd)\n",
    "\n",
    "# 변동계수\n",
    "snAccident.cv <- snAccident.sd$발생건수 / snAccident.mean$발생건수\n",
    "\n",
    "snAccident <- data.frame(권역 = snAccident.mean$권역, 발생건수총계 = snAccident.sum$발생건수, 발생건수평균 = snAccident.mean$발생건수, 발생건수표준편차 = snAccident.sd$발생건수, 변동계수 = snAccident.cv )\n",
    "\n",
    "snAccident"
   ]
  },
  {
   "cell_type": "code",
   "execution_count": 126,
   "id": "f9bce52c",
   "metadata": {
    "scrolled": true
   },
   "outputs": [
    {
     "data": {
      "text/html": [
       "<table>\n",
       "<thead><tr><th scope=col>권역</th><th scope=col>부상자수총계</th><th scope=col>부상자수평균</th><th scope=col>부상자수표준편차</th><th scope=col>변동계수</th></tr></thead>\n",
       "<tbody>\n",
       "\t<tr><td>강남     </td><td>268673   </td><td>226.1557 </td><td>96.32832 </td><td>0.4259380</td></tr>\n",
       "\t<tr><td>강북     </td><td>237431   </td><td>157.0311 </td><td>39.33827 </td><td>0.2505126</td></tr>\n",
       "</tbody>\n",
       "</table>\n"
      ],
      "text/latex": [
       "\\begin{tabular}{r|lllll}\n",
       " 권역 & 부상자수총계 & 부상자수평균 & 부상자수표준편차 & 변동계수\\\\\n",
       "\\hline\n",
       "\t 강남      & 268673    & 226.1557  & 96.32832  & 0.4259380\\\\\n",
       "\t 강북      & 237431    & 157.0311  & 39.33827  & 0.2505126\\\\\n",
       "\\end{tabular}\n"
      ],
      "text/markdown": [
       "\n",
       "| 권역 | 부상자수총계 | 부상자수평균 | 부상자수표준편차 | 변동계수 |\n",
       "|---|---|---|---|---|\n",
       "| 강남      | 268673    | 226.1557  | 96.32832  | 0.4259380 |\n",
       "| 강북      | 237431    | 157.0311  | 39.33827  | 0.2505126 |\n",
       "\n"
      ],
      "text/plain": [
       "  권역 부상자수총계 부상자수평균 부상자수표준편차 변동계수 \n",
       "1 강남 268673       226.1557     96.32832         0.4259380\n",
       "2 강북 237431       157.0311     39.33827         0.2505126"
      ]
     },
     "metadata": {},
     "output_type": "display_data"
    }
   ],
   "source": [
    "# 강북강남별 부상자수\n",
    "\n",
    "# 총계\n",
    "snInjure.sum <- aggregate(부상자수 ~ 권역, southNorth, sum)\n",
    "\n",
    "# 평균\n",
    "snInjure.mean <- aggregate(부상자수 ~ 권역, southNorth, mean)\n",
    "# 표준편차\n",
    "snInjure.sd <- aggregate(부상자수 ~ 권역, southNorth, sd)\n",
    "# 변동계수\n",
    "snInjure.cv <- snInjure.sd$부상자수 / snInjure.mean$부상자수\n",
    "\n",
    "snInjure <- data.frame(권역=snInjure.sum$권역, 부상자수총계 = snInjure.sum$부상자수,\n",
    "                       부상자수평균=snInjure.mean$부상자수, 부상자수표준편차=snInjure.sd$부상자수,\n",
    "                      변동계수=snInjure.cv)\n",
    "snInjure"
   ]
  },
  {
   "cell_type": "code",
   "execution_count": 127,
   "id": "dfdc3865",
   "metadata": {
    "scrolled": true
   },
   "outputs": [
    {
     "data": {
      "text/html": [
       "<table>\n",
       "<thead><tr><th scope=col>권역</th><th scope=col>사망자총계</th><th scope=col>사망자평균</th><th scope=col>사망자표준편차</th><th scope=col>변동계수</th></tr></thead>\n",
       "<tbody>\n",
       "\t<tr><td>강남     </td><td>1677     </td><td>1.411616 </td><td>1.265750 </td><td>0.8966672</td></tr>\n",
       "\t<tr><td>강북     </td><td>1581     </td><td>1.045635 </td><td>1.072443 </td><td>1.0256377</td></tr>\n",
       "</tbody>\n",
       "</table>\n"
      ],
      "text/latex": [
       "\\begin{tabular}{r|lllll}\n",
       " 권역 & 사망자총계 & 사망자평균 & 사망자표준편차 & 변동계수\\\\\n",
       "\\hline\n",
       "\t 강남      & 1677      & 1.411616  & 1.265750  & 0.8966672\\\\\n",
       "\t 강북      & 1581      & 1.045635  & 1.072443  & 1.0256377\\\\\n",
       "\\end{tabular}\n"
      ],
      "text/markdown": [
       "\n",
       "| 권역 | 사망자총계 | 사망자평균 | 사망자표준편차 | 변동계수 |\n",
       "|---|---|---|---|---|\n",
       "| 강남      | 1677      | 1.411616  | 1.265750  | 0.8966672 |\n",
       "| 강북      | 1581      | 1.045635  | 1.072443  | 1.0256377 |\n",
       "\n"
      ],
      "text/plain": [
       "  권역 사망자총계 사망자평균 사망자표준편차 변동계수 \n",
       "1 강남 1677       1.411616   1.265750       0.8966672\n",
       "2 강북 1581       1.045635   1.072443       1.0256377"
      ]
     },
     "metadata": {},
     "output_type": "display_data"
    }
   ],
   "source": [
    "# 강북강남별 사망자수\n",
    "\n",
    "# 총계\n",
    "snDeath.sum <- aggregate(사망자수 ~ 권역, southNorth, sum)\n",
    "\n",
    "# 평균\n",
    "snDeath.mean <- aggregate(사망자수 ~ 권역, southNorth, mean)\n",
    "\n",
    "# 표준편차\n",
    "snDeath.sd <- aggregate(사망자수 ~ 권역, southNorth, sd)\n",
    "\n",
    "# 변동계수\n",
    "snDeath.cv <- snDeath.sd$사망자수 / snDeath.mean$사망자수\n",
    "\n",
    "snDeath <- data.frame(권역 = snDeath.mean$권역, 사망자총계=snDeath.sum$사망자수,\n",
    "                      사망자평균=snDeath.mean$사망자수, 사망자표준편차=snDeath.sd$사망자수,\n",
    "                      변동계수 = snDeath.cv )\n",
    "snDeath"
   ]
  },
  {
   "cell_type": "code",
   "execution_count": 167,
   "id": "887e62ae",
   "metadata": {
    "scrolled": true
   },
   "outputs": [
    {
     "data": {
      "image/png": "iVBORw0KGgoAAAANSUhEUgAAA0gAAANICAYAAAD958/bAAAEDmlDQ1BrQ0dDb2xvclNwYWNl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\nUwLfAmMNUJ65YL9SAAAAAElFTkSuQmCC",
      "text/plain": [
       "Plot with title “서울 권역별 사고 발생건수”"
      ]
     },
     "metadata": {},
     "output_type": "display_data"
    }
   ],
   "source": [
    "# head(southNorth)\n",
    "# tail(southNorth)\n",
    "\n",
    "# 사고 발생건수 그래프\n",
    "\n",
    "options(scipen=100)\n",
    "options(warn=-1)\n",
    "par(family = \"AppleGothic\")\n",
    "my_col=rainbow(3,s=0.2)\n",
    "\n",
    "barplot(\n",
    "    snAccident$발생건수총계,\n",
    "    main = \"서울 권역별 사고 발생건수\",\n",
    "    xlab = \"권역\",\n",
    "    ylab = \"건수\",\n",
    "    names = snAccident$권역,\n",
    "    col = my_col\n",
    "\n",
    ")"
   ]
  },
  {
   "cell_type": "code",
   "execution_count": 165,
   "id": "feab4193",
   "metadata": {},
   "outputs": [
    {
     "data": {
      "image/png": "iVBORw0KGgoAAAANSUhEUgAAA0gAAANICAYAAAD958/bAAAEDmlDQ1BrQ0dDb2xvclNwYWNl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\nq/gAAAAASUVORK5CYII=",
      "text/plain": [
       "Plot with title “서울 권역별 사고 사망자 평균”"
      ]
     },
     "metadata": {},
     "output_type": "display_data"
    }
   ],
   "source": [
    "# 사망자그래프\n",
    "\n",
    "options(scipen=100)\n",
    "options(warn=-1)\n",
    "par(family = \"AppleGothic\")\n",
    "my_col=rainbow(3,s=0.2)\n",
    "\n",
    "barplot(\n",
    "    snDeath$사망자평균,\n",
    "    main = \"서울 권역별 사고 사망자 평균\",\n",
    "    xlab = \"권역\",\n",
    "    ylab = \"사망자 수(명)\",\n",
    "    names = snDeath$권역,\n",
    "    col = my_col\n",
    "\n",
    ")"
   ]
  },
  {
   "cell_type": "code",
   "execution_count": 139,
   "id": "1a654c97",
   "metadata": {},
   "outputs": [
    {
     "data": {
      "image/png": "iVBORw0KGgoAAAANSUhEUgAAA0gAAANICAYAAAD958/bAAAEDmlDQ1BrQ0dDb2xvclNwYWNl\nR2VuZXJpY1JHQgAAOI2NVV1oHFUUPpu5syskzoPUpqaSDv41lLRsUtGE2uj+ZbNt3CyTbLRB\nkMns3Z1pJjPj/KRpKT4UQRDBqOCT4P9bwSchaqvtiy2itFCiBIMo+ND6R6HSFwnruTOzu5O4\na73L3PnmnO9+595z7t4LkLgsW5beJQIsGq4t5dPis8fmxMQ6dMF90A190C0rjpUqlSYBG+PC\nv9rt7yDG3tf2t/f/Z+uuUEcBiN2F2Kw4yiLiZQD+FcWyXYAEQfvICddi+AnEO2ycIOISw7UA\nVxieD/Cyz5mRMohfRSwoqoz+xNuIB+cj9loEB3Pw2448NaitKSLLRck2q5pOI9O9g/t/tkXd\na8Tbg0+PszB9FN8DuPaXKnKW4YcQn1Xk3HSIry5ps8UQ/2W5aQnxIwBdu7yFcgrxPsRjVXu8\nHOh0qao30cArp9SZZxDfg3h1wTzKxu5E/LUxX5wKdX5SnAzmDx4A4OIqLbB69yMesE1pKojL\njVdoNsfyiPi45hZmAn3uLWdpOtfQOaVmikEs7ovj8hFWpz7EV6mel0L9Xy23FMYlPYZenAx0\nyDB1/PX6dledmQjikjkXCxqMJS9WtfFCyH9XtSekEF+2dH+P4tzITduTygGfv58a5VCTH5Pt\nXD7EFZiNyUDBhHnsFTBgE0SQIA9pfFtgo6cKGuhooeilaKH41eDs38Ip+f4At1Rq/sjr6NEw\nQqb/I/DQqsLvaFUjvAx+eWirddAJZnAj1DFJL0mSg/gcIpPkMBkhoyCSJ8lTZIxk0TpKDjXH\nliJzZPO50dR5ASNSnzeLvIvod0HG/mdkmOC0z8VKnzcQ2M/Yz2vKldduXjp9bleLu0ZWn7vW\nc+l0JGcaai10yNrUnXLP/8Jf59ewX+c3Wgz+B34Df+vbVrc16zTMVgp9um9bxEfzPU5kPqUt\nVWxhs6OiWTVW+gIfywB9uXi7CGcGW/zk98k/kmvJ95IfJn/j3uQ+4c5zn3Kfcd+AyF3gLnJf\ncl9xH3OfR2rUee80a+6vo7EK5mmXUdyfQlrYLTwoZIU9wsPCZEtP6BWGhAlhL3p2N6sTjRdd\nuwbHsG9kq32sgBepc+xurLPW4T9URpYGJ3ym4+8zA05u44QjST8ZIoVtu3qE7fWmdn5LPdqv\ngcZz8Ww8BWJ8X3w0PhQ/wnCDGd+LvlHs8dRy6bLLDuKMaZ20tZrqisPJ5ONiCq8yKhYM5cCg\nKOu66Lsc0aYOtZdo5QCwezI4wm9J/v0X23mlZXOfBjj8Jzv3WrY5D+CsA9D7aMs2gGfjve8A\nrD6mePZSeCfEYt8CONWDw8FXTxrPqx/r9Vt4biXeANh8vV7/+/16ffMD1N8AuKD/A/8leAvF\nY9bLAAAAOGVYSWZNTQAqAAAACAABh2kABAAAAAEAAAAaAAAAAAACoAIABAAAAAEAAANIoAMA\nBAAAAAEAAANIAAAAAN/ryxkAAEAASURBVHgB7N0NvGV1WS9wJoRBREfJhkpkUDOZyxBFSCEO\nd4YGDcEyG25J114tjUuXIky4lWmpcSG75eXemjI1FYrsBaZspLdxNOHiS8o0vESogxij+DLM\nqOMLqPf3wF5+Nufsvc8+Z2YzZ6/1fT6f36y911p7nbW+/zOwnll7r33AAYoAAQIECBAgQIAA\nAQIECBAgQIAAAQIECBAgQIAAAQIECBAgQIAAAQIECBAgQIAAAQIECBAgQIAAAQIECBAgQIAA\nAQIECBAgQIAAAQIECBAgQIAAAQIECBAgQIAAAQIECBAgQIAAAQIECBAgQIAAAQIECBAgQIAA\nAQIECBAgQIAAAQIECBAgQIAAAQIECBAgQIAAAQIECBAgQIAAAQIECBAgQIAAAQIECBAgQIAA\nAQIECBAgQIAAAQIECBAgQIAAAQIECBAgQIAAAQIECBAgQIAAAQIECBAgQIAAAQIECBAgQIAA\nAQIECBAgQIAAAQIECBAgQIAAAQIECBAgQIAAAQIECBAgQIAAAQIECBAgQIAAAQIECBAgQIAA\nAQIECBAgQIAAAQIECBAgQIAAAQIECBAgQIAAAQIECBAgQIAAAQIECBAgQIAAAQIECBAgQIAA\nAQIECBAgQIAAAQIECBAgQIAAAQIECBAgQIAAAQIECBAgQIAAAQIECBAgQIAAAQIECBAgQIAA\nAQIECBAgQIAAAQIECBAgQIAAAQIECBAgQIAAAQIECBAgQIAAAQIECBAgQIAAAQIECBAgQIAA\nAQIECBAgQIAAAQIECBAgQIAAAQIECBAgQIAAAQIECBAgQIAAAQIECBAgQIAAAQIECBAgQIAA\nAQIECBAgQIAAAQIECBAgQIAAAQIECBAgQIAAAQIECBAgQIAAAQIECBAgQIAAAQIECBAgQIAA\nAQIECBAgQIAAAQIECBAgQIAAAQIPEjjwQc88IUCAAIFBAqdm5urktuS+QSsMmbck8x+frEie\nnDwpeUzy8GRP8uVkMdRp2YnvTz6Y1H7t61qbDZ6e/HvypX298WxvTXJGUvv/hWShtTwvXJp8\nfswNHNRbfz6/E2Nu+v7Vvi5//kJSvzNlt6+r9v8lyeOSm/b1xrO9RyY/kqxKjk2+Izk5+XAy\nrnFW3es6LFv4b0l53rnXW7MBAgQIECBAgACBA14eg68mdRI+Tj0zK/1tsjOp1w1KnSC+M7kw\nOTjZn3VJfnjt41MmtBO/0dv+00Zs/9ey7JUjltcYvD6pk/qZ9auZUft/1swF83z+W1n/K8kT\nxnzdi7Je/dxnjbl+s9pj8+D5yYpmxpDpksyv7dfvyaSqjvdfJ7Txo7LdW3vbf3+mN/YePzHT\nSVU1Q69I6h81mvrGPCjHNzYzTAkQIDBK4GGjFlpGgACBFgssy7HVv27/Y/JvcxxnnURW3fPA\nZOSfr83Sn0remrww2ZZUo/S5pP4Fu/5V/fDk25LvTao5+enkh5IPJAut788Lq8Gpfa18uTfN\n5P6qk+3+/F6eN1dbmn/N//QDq47887lZuiapKwL1upuT1ye3JMPq3t6CzwxbIfPL4puTXx6y\nzqrMr5/9ggHLmys4/zFg2Xxm1XbKqHGZ67XN78Wn5lpxxvJvyfM6Wa+G7MUzlvU/rZP6+hmf\n7J854/HSPK/f4y/20ox/s2/1//kmh+Zx5X3Ju5Kq+j2p389J1Eey0WMmseER2zwwy+p36NHJ\nO3rr1TFW1f4oAgQIzClQ/9FUBAgQ6KLA0Tno/5P8TfLsZJxqTjqHrVsng9Uc/Vry60NWqibr\nzqT+Nf1NyauT9yS/mvxgstB6Zl5YqZP7OtFvTpS/Lo8rdZXqkKSakGoCXpM01TQYdUI+rOrt\nZ9UI1dWSf0yqmat/rf+B5OeTVyTDjjmL7q9RftVEjWpM6iS39q852b1/g70/mv2uJmFvqlyq\nqln7RFI/q2xqWvteJ9/1/82aVo5Pqgbt0wNLBv/5pN7sDw1e/KC59XNHvS2xxuCPHvSKuZ+8\nLKs0DVId83z3f9BPqKa/GvQagxrL2ufabqUZn/o9bOxqWpbV4NXv5Z3Jh5NB9VeZWduubdW2\nKzUuTV6fx29Oqpqf1d+0Nsc3yvGBV/uTAAECEaj/OCkCBAh0UeBxvYP+5zEOvjlxbk60hr3k\npN6CLcNWGDD/XzKvrmCdOmDZfGadO+bKN2W9OonsP5bmcXNyOWhTdRJa+7g2eXvSVDVedSXk\n5Ult+y+SuiJWJ711Alv/n2mObdT266S3TpaPS+pEtp7X+gcl9TMelVSzUPWbyUuS2u9KnWxX\n7e0JcDPOF2Vbte/N85r2P87T+58vqwepZr8eeDb3n6t6q3x3pr83x+p1fKPcdmV5+TZXkMqt\nGpFfTf5Lsj6pt9DV8tpOLavXNFXHVce6t/W0bOCvx9hI7UNzTE3DVC97afIb9WBA1d+PuvpY\n41up/a3XHpHU8V2dNNWMU79ZMz774jibn2NKgAABAgQIEGidwC/miOok6pljHNnLe+ueMMe6\nj83yOoGrK0LN1YU5XnLAD2eF2o/Xz7XiPlr+uWznyhnbenGe1z7UVYBBtSYza/mLBi3MvGpQ\n6phv6y1/b6Z3JB9KPprUlaF6/THJsPqHLKh1RqVO8qu+PSm3s5PnJm9K6nVPTPamLsuLazvf\nNOZGfqq3/lPHXL9WqxP47Un9nM8m1fiNqhqvt4xaYciyP8z8+hlHDVnezK7m4e+aJ3sxreb2\nG5L6HarGsa5s1bHV34n63ah92Z7U8/6q351621811POtH8wLartr+1746N68X+ub98jevIv7\n5nlIgACBoQKuIA2lsYAAgZYLNP+KXw3NXFUntVXNv0Q/8Gz2n5/MrHoL2obk/UldHaqTwzuT\n+hfw+tf9RyR18lgn89+VPCXZmNS/+E+6jswPqJPR2rf+ao6rTjYH1Ym9mbWfg6quCLw1eWlS\nJ8XN+nl4f9X8lyfNz3lg7uw/78is5yT1L/3NVYb6/1SdRF+SrEmqPtDL/U/yx7f2HtRr9kfN\n5/+l52QHVyS/lVyYXJa8MBlWNSZ1/POtY3sv6L9aNGgb9btdV2P2tqp5/cSMjdR2fyepq4LP\nTl6WvD2pprZppmvM9iQLqW/rvah+H5pq/q72/y43vxf985r1TQkQIDBLYD7/UZ/1YjMIECAw\nxQLrevteb3PaPMdxNCddzYnWqNXrSkg1X89ITk7qRLVSjUP9K3tdEfhsUs3Um5N39JLJxKuO\ntep9D0y+9mdzgjzsBPIRvTVrv4dVHVc5VQO2e8hKoxqkeitdnWT3n+z2b+bT/U+GPB5nfIa8\n9P7ZzTiPWmfQsnH/X/rYvPiy5JbkoqSe/0zyt8k1ybDamwZp2Jj2/6xm/Pvn7e3j+l27PKnm\ntZqjv0/q70Zd2aoxvip5XfLOZKFVDdLtyXcmj0xq/Ov3b2Y1Bnv7+zFzu54TINBSgXH/o97S\nw3dYBAh0VKA+K3Rk79hPz/Q3+xyqsfnmvuf18Nt7z0ed4Pe/5PN5Uie8o056+9d/KB7Xyf9/\n7v2gOpn8sWRF8jtJ8/+CYQ3Ce7NO1XOSN97/aPYf5fiR5GNJvcWqf1vVHFY1J6oPPHvwn9Ug\nzVVNo/CzWfGXkzrhrTTbz8O9qmafq3Ftriw28/qnzePH9X5as1+jfvjBWfiXSX1upt4aVvv9\nc8kpyWuTf00+lAyq78nMbcl9STUA1Rh8IRlWNa6NybPy+E+HrNg0Rs10yGpzzq63x9Xfkfp7\nU9P6PTkuuTY5O/lwUlX7/Pzk+uSlyY8n/578RVJXlK5Odibj1GOy0tqkGs6XJ09L+mvQ79q4\nf3/7t+MxAQIdFGj+p9jBQ3fIBAh0WOCCHHudQNWJ8POSOmn9eFJ1YVIn+4Nq0AnW12fFJyf1\nNqFqjCp1JeTevtTrmtfWyXWdkNZ0WOpEsk6Gx6knZqX/k9T267/plWo26oS8TqYrdQXo8KTm\nVdWJaJ2g35m8Lmmak9qfQfUPmVlN0v9KPpW8NWmqXvsryelJNS5VdyX1c+dTtd/1mrVJ2VWD\nUmNU+1w/45uSphGptwjW1Ylar5xOS74vGbb/WTRWVUP7kaR+bnnWtEn/88y+f19qfyofrBkj\nqo6tnFcnv5RUg1D12aSapWokrkt+KNmS9Ff9rlTTuSmpq3Q1ljV2o+r5fQt/LI+HNUh1bFX1\nM/am6vX1O3hC8h9J/X69IHl3UvW45B+TK5LfSP5vUh61n9VMnZ/8S/KmZNx6cVZ8ePLapH5e\n/e7U78IjkzJsji0PFQECBAgQIECAwCiBb83COsF8Q7IyqROplyZNnZIHZybrktVJXW36/aTW\n+0/JzPqBzKhl+zK1zXGrTpg/mPxT8rZkY/JnyRuTv0xqv/48+fHkWcmJyeOTajqaquOv9b6h\nmTFgemTmfSCp9Wr65uQtyfakTkzrxLepMvvO5NuTOmn+g6Re9y3JsHpfFtQ6c2XQ6y/qve4J\ngxbu53ll+vakjuvVyaAq22r66veymtA6yW+qmuWrmidjTGtsP5fUWzj/MKltPjUZVNXY1H5t\nS56R1O/Hs5OFNExH5HVPTAZVNUj1c6oxGlT1u1jNzri1PCtWc3nlgBfUP1jUz/rlvmX1d6Tm\n/WLfPA8JECAwVOBhQ5dYQIAAgfYJ1BWGOmnck1yc7Ejelfx8UidvdVJZz2dWNUxVg04cN2f+\nU5JdSV31qGahTviW9uXAPK6m5eCkTkDrv72Vmt887p/emPnjVp0MP2nIyidlfjVb1Ti9IZmr\nBh1f85qP5sF3JD+cfE/y5KSulv1VsiG5NWnq3c2D3vQTvWkd77B6ThaU2UKqeV35LqY6PTtT\nV0rq6teLk99KBlXZrk4uTarRuDdpqsy+0jwZY1o/49DkwqQa5Bqv+p3/ruSLSX/V34eqY5Nr\n73/0wB/1+hrbcaqa0mrC6u/U3Um93a6e17Zr3+t5NYBVNU7L7380+49a/xuSw5KbZy9+0Jxf\nybNqqKqZHFbVEDXV/F7XfikCBAjMKVD/Q1YECBDoikD9C/KpSZ1g7egddJ2UXpPU9Cd782ZO\nmhOs5oSyf/k9eVKZq+pfvOtfsv9trhX34fJq1Kr6T7jreb0drU66a36dwK5KqkY1MLW8Tjr/\npJd6Pm59Miten8w8Qe9//Z39T+b5+G+z/n8kdYI+n6rxfFNSzUA1t7V/NW0a3TqhLqdK/wl3\nva5+J8qr/j/aTMu7mrT6PSvb9yZ/lvx5Usc/qur349wZK9S2K83v34zFs55+f+b8l+SGZENS\n+/2qXurq1XlJfzW/z9sys3/ZqHHqf3093pQ8ZebMIc/r71dlVJX5qHOT52X5zyW/lrwnqarx\nr2Op422uRPWPV+NXyxUBAgTmFBj1H6E5X2wFAgQITJHAj2Zf/2dS/zpdJ4tN1VvS/i75ieT/\nJX+QzKzmBKs5oZy5vP/5b+RJneR9IamT5DopqxyV1H9z/1tSV5kq/SdxW/L8g8m+rKZB6v85\ntf0/Th494AfVif4kqv6lf9S/9vf/zDPy5MSk7JqGpd+xxqLGoX9aj3cnO5P5VG3nuKT5OTVu\nlRqv/p9xZJ4/Kakre3uSGsdqhCpL+6Y1vwx/Kal9rv3Zm7d11T5ckmxN5qrnZoU/TT6V1FWj\nOoaqy5LTk/q925G8Mmmqtl/16WTL/Y/m/8f5eUkdc13JrDQNZh1/M26NafN7WONVrymvxrJ+\nVys1f1idnAWvT/4xeUXfSjX29bpKNfwzq36eIkCAwNgC9R8mRYAAgbYLnJMDrBOrusLw7KSa\nl/76iTz5l+TypNa5Oumv5gSrmfYvm/n4uzOjTprrBLVSJ4U1/dfe4+/PtE7kaluVelvRyqT+\nZfyDyb6sOoGvqmasv56YJ83Jcc2vE/qXJKNOTmu9JyQbkjqeOultTnxrW5XmmJrjq2l/np/n\ntyej6qQsrPXKbdzUFYwPJ29M5lN1HMeP8YL/nnV+N3lR8v/GWH+uVR6fFf5zUr8ry5NH9lKN\nWtPoVTNWP+viZK76sazwR0m9vhql7UlTNfY177qkmopq9i5I6qpZ8zvw5TxeaF270BfO83U1\nxnWlt5rOH0lq7JqqhrCpx+bBJ5L63WmqOc5m2sw3JUCAwEABDdJAFjMJEGiRwC/kWF6dfDSp\nqxMfSmbWXZlRbzv72+Qvkqcn1ydNNY3DOCdY9a/186lqmKohq39t39dVx/BNycdmbLhOMvtr\nT+9Jc5z9y/of18n2p3oz+pukml8n2TWt1LHUtNapE9WnJWuThydz1cuzQmU+VW8Rm4Rfsw/9\nJ9vNvIVM6/enrijVVZxqhN6d/Hvy2aTGoK6gHJocldRb3n4nqbew1eNBv7fVAP92UleHakzr\nd+mdycy6JzNWJ3+WVJP3zOQ/J/WPAVV70yA9sIUH/1kN35rk6ckRyaN7qatLtZ+fTt6f/GPy\nwWRUlcmLk19Jan/PTD6eDKsyruofs2rcq+b6/X5gLX8SINB5AQ1S538FABBovcAf5Qi/Pqmr\nQzMbhf6Df3ee1In8yUl/c1TrNCdYzbTmDaufzIJDkqaBaKbNSWhtoz8n9Da0tDfd28nfZQN1\nRerxyWd6yWSsmusE8s5s5XljbenBK12Up2uT/pPWB6+xuJ/tq/1+YQ7zsqR+F+uk/wvJqPqB\nLPy95B1JNU31u9RfNV7VaFWTVQ3+rcmwqsa2GqNqPusKS41l8zu3r46vfu8vSaph25G8J/lw\nckdSx1oN8qOS+t38tWRD8vbkp5Pbk5n12MzYkvynpLb17GRUc5TFX7sq1n9M9fetaq7f7wfW\n8icBAp0X0CB1/lcAAIHWC9QJZP3r8zh1W1aqzKzmBGvJzAUDnv9W5tW/7NcJX3MlpWmOBqx+\n/6x35c/6V/59UfUv7vO9mlJXKerEc66Tz73dv5kn+IO2V1f8XpTUupU60e1/XCe5dYz1/69m\nWlcp/i2ZVPWfbO/Nz3hOXrwrqatIXxpjQ3+Vdb41qabj1OTtSX99Pk/+R/LS5L7+BUMe1zq/\n3Les+X1ufr/7Fi3o4Zvzqmrqavxel8z1e78m61QDeGOyIvlk0l/1/GeT1cmrk7kayqzyteof\ns6YxaqZfW8kDAgQIDBLQIA1SMY8AAQIPFmhOIJvpg5c++FmddP5z8r0Pnv2QPat97D85HOcH\n17/OVyZd4+zXsuxENQW/kXwiaZqjZlq+daJbx9k/rbduTarG2e9xfnbdxODhSV1B+eA4L8g6\n1QTOVeM0R4O2sS8bpEfkB9RVrHckfzjohw2Y9/bMq4btL5LnJn+QzKzaXmXcao6pmdbr6nel\nahzLB9b0JwECnRbQIHV6+B08AQJjCjQnWP0nXcNeWuvUiXu9famu5NSJ/cyq5XWyVleaalqp\nk/B9cQWntr3YqvEbp9FoTvbrCsT2xXYge7k//yuv/57kvUldaXxb8oFk5pWW+n9zNYn/Jbkw\nuTN5Z7Kvq/l9bsZnb7Zfzd8tyXcmJyX1ltW56tCsUFecqsphX1RzTIOaofr7pggQIDCngAZp\nTiIrECBA4Gv/At2cfI0iqcZoXdK8Haiagjrpr2m9vv67O2g778v8E5O9rWqQvjF5a29D9XP7\nU7PreVXtR61f+1T7XW/Zelayr6v5f82g4575s5oT2wuy4FNJ7Ws1mmVYzWazz3VSX/te+93k\nLXn8z8m+rn3RQNQ+1b6tSi5N6jNIr0jqmOptd/VW0Po51TTU53TKoY75T5JfSGY2UZm119WM\nx746vhdkj+rq0Q1JNYHvT+pKWR1bNVA1Xoclj0m+PVmdPDJ5ZfLuZF9U/ayfSGofZlbzuzVz\nvucECBB4kMDDHvTMEwIECBAYJFAnkE2TM2h5/7yV/U8GPK6TxKYp6Z82DdWAl8xr1tuz9oeT\naioqdWJdJ+FNk5SH91edHM9MnVxOoj6Zjb4rGeckv+7mVp8De2YyqGqfG7c64a2rAk3+NY+r\nCdnXVU3LvqqPZkPnJHUMT02ekBzeS/2O1Y01PpuUQTUY1bROqsqyfjf2VdXbNOsKUn3W6unJ\ndyXPSJYl1QjV72D9jlVDeHPyu8mVyYeSfVX1+/OGGRsr05cnm2fM95QAAQIECBAgQGCBAnUy\nq7or8M059Gpm6nM2igABAgQIECBAgAABAgQIECBAgAABAgQIECBAgAABAgQIECBAgAABAgQI\nECBAgAABAgQIECBAgAABAgQIECBAgAABAgQIECBAgAABAgQIECBAgAABAgQIECBAgAABAgQI\nECBAgAABAgQIECBAgAABAgQIECBAgAABAgQIECBAgAABAgQIECBAgAABAgQIECBAgAABAgQI\nECBAgAABAgQIECBAgAABAgQIECBAgAABAgQIECBAgAABAgQIECBAgAABAgQIECBAgAABAgQI\nECBAgAABAgQIECBAgAABAgQIECBAgAABAgQIECBAgAABAgQIECBAgAABAgQIECBAgAABAgQI\nECBAgAABAgQIECBAgAABAgQIECBAgAABAgQIECBAgAABAgQIECBAgAABAgQIECBAgAABAgQI\nECBAgAABAgQIECBAgAABAgQIECBAgAABAgQIECBAgAABAgQIECBAgAABAgQIECBAgAABAgQI\nECBAgAABAgQIECBAgAABAgQIECBAgAABAgQIECBAgAABAgQIECBAgAABAgQIECBAgAABAgQI\nECBAgAABAgQIECBAgAABAgQIECBAgAABAgQIECBAgAABAgQIECBAgAABAgQIECBAgAABAgQI\nECBAgAABAgQIECBAgAABAgQIECBAgAABAgQIECBAgAABAgQIECBAgAABAgTaJ7CkfYfkiEYI\nHJ5lTxmx3CICBAg8VALb8oM+81D9MD+HAAECBAiMK6BBGleqHev9QQ7jp9txKI6CAIEpF3hF\n9v9Xp/wY7D4BAgQItFDgYS08Joc0XODgHzng6w74gwMM+3AiSwgQmLTAmQfc+8W3H/DVgyb9\nc2yfAAECBAgsRMCZ8kLUpvg1X5d9P/gAFw6neAjtOoGpF6j/DikCBAgQILBYBbrWIC3LQByV\nrEiqS7ijl12ZKgIECBAgQIAAAQIEOi7QhQapjvHs5MLkhCHjfUvmX5pckdw7ZB2zCRAgQIAA\nAQIECBBouUDbG6S6a9vmZFWyJTk/uTP5WPLVZHlSV5TOTDYkFydrkh2JIkCAAAECBAgQIECg\nYwJtbpAOzVi+Lakm6bjk5mRYXZ4FxySbejk1092JIkCAAAECBAgQIECgQwJt/qzsuozjicna\nZFRz1Az3rXlwSnJssr6ZaUqAAAECBAgQIECAQHcE2twgrc4wbk1un8dw3pV1b0jqCpIiQIAA\nAQIECBAgQKBjAm1ukA7JWO5ZwHjW55OWLuB1XkKAAAECBAgQIECAwJQLtLlBui5jc1JSn0Ea\nt+qLC09Lrh/3BdYjQIAAAQIECBAgQKA9Am1ukOoGDfU9R9cmy8cYssOyzsak7m53zRjrW4UA\nAQIECBAgQIAAgZYJtPkudjszVmckdTVoW3JVcnWyPbk7uS85IjkyOSs5J6lG6vSkGitFgAAB\nAgQIECBAgEDHBNrcINVQ3pasTC5Izk3OSwZVfTnslcllyU2DVjCPAAECBAgQIECAAIH2C7S9\nQaoRrKtFFyWXJMcnK5KjkwOT+tLYyo1J3ZxBESBAgAABAgQIECDQYYEuNEjN8N6TB1uaJ6YE\nCBAgQIAAAQIECBCYKdDmmzTMPFbPCRAgQIAAAQIECBAgMFKgS1eQCmJZclRSb7NbktTNGCq7\nEkWAAAECBAgQIECAQMcFutAg1TGenVyYnDBkvG/J/EuTK5K6YYMiQIAAAQIECBAgQKCDAm1v\nkOpLYjcnq5L6/NH5Sd2UoW7IUN93VLf1ritKZyYbkouTNcmORBEgQIAAAQIECBAg0DGBNjdI\nh2Ys68tiq0k6Lrk5GVaXZ8ExyaZeTs10d6IIECBAgAABAgQIEOiQQJtv0rAu43hisjYZ1Rw1\nw31rHpySHJusb2aaEiBAgAABAgQIECDQHYE2N0irM4xbk9vnMZx3Zd0bkrqCpAgQIECAAAEC\nBAgQ6JhAmxukQzKWexYwnvX5pKULeJ2XECBAgAABAgQIECAw5QJtbpCuy9iclNRnkMatg7Li\nacn1477AegQIECBAgAABAgQItEegzQ1S3aChvuPo2mT5GEN2WNbZmNTd7a4ZY32rECBAgAAB\nAgQIECDQMoE238VuZ8bqjKSuBm1LrkquTrYndyf3JUckRyZnJeck1UidnlRjpQgQIECAAAEC\nBAgQ6JhAmxukGsrbkpXJBcm5yXnJoKovh70yuSy5adAK5hEgQIAAAQIECBAg0H6BtjdINYJ1\nteii5JLk+GRFcnRyYFJfGlu5MambMygCBAgQIECAAAECBDos0IUGqRnee/JgS/PElAABAgQI\nECBAgAABAjMF2nyThpnH6jkBAgQIECBAgAABAgRGCnTpClJBLEuOSuptdkuSuhlDZVeiCBAg\nQIAAAQIECBDouEAXGqQ6xrOTC5MThoz3LZl/aXJFUjdsUAQIECBAgAABAgQIdFCg7Q1SfUns\n5mRVUp8/Oj+pmzLUDRnq+47qtt51RenMZENycbIm2ZEoAgQIECBAgAABAgQ6JtDmBunQjGV9\nWWw1ScclNyfD6vIsOCbZ1Mupme5OFAECBAgQIECAAAECHRJo800a1mUcT0zWJqOao2a4b82D\nU5Jjk/XNTFMCBAgQIECAAAECBLoj0OYGaXWGcWty+zyG866se0NSV5AUAQIECBAgQIAAAQId\nE2hzg3RIxnLPAsazPp+0dAGv8xICBAgQIECAAAECBKZcoM0N0nUZm5OS+gzSuHVQVjwtuX7c\nF1iPAAECBAgQIECAAIH2CLS5QaobNNR3HF2bLB9jyA7LOhuTurvdNWOsbxUCBAgQIECAAAEC\nBFom0Oa72O3MWJ2R1NWgbclVydXJ9uTu5L7kiOTI5KzknKQaqdOTaqwUAQIECBAgQIAAAQId\nE2hzg1RDeVuyMrkgOTc5LxlU9eWwVyaXJTcNWsE8AgQIECBAgAABAgTaL9D2BqlGsK4WXZRc\nkhyfrEiOTg5M6ktjKzcmdXOGfVWPyYZ+M6nPNI1TB2elJyVPG2dl6xAgQIAAAQIECBAgMBmB\nLjRIjdw9ebCleTLh6ZJsv2zHbZC+PuuenFSj9KVEESBAgAABAgQIECCwHwS61CAV77LkqKSu\nIlUTc0cvuzLdl/XpbOwF89hgNUf1eSlFgAABAgQIECBAgMB+FOhCg1THeHZyYXLCEOtbMv/S\n5IqkPo+kCBAgQIAAAQIECBDooEDbG6T6DqTNyaqk3l53flKfOarPG9XtvOuudXVF6cxkQ3Jx\nsibZkSgCBAgQIECAAAECBDom0OYG6dCMZX0XUjVJxyU3J8Pq8iw4JtnUy6mZ7k4UAQIECBAg\nQIAAAQIdEmjzF8WuyziemKxNRjVHzXDfmgenJMcm65uZpgQIECBAgAABAgQIdEegzQ3S6gzj\n1uT2eQznXVn3hqSuICkCBAgQIECAAAECBDom0OYG6ZCM5Z4FjGd9PmnpAl7nJQQIECBAgAAB\nAgQITLlAmxuk6zI2JyX1GaRxq7636LTk+nFfYD0CBAgQIECAAAECBNoj0OYGqW7QUN9zdG2y\nfIwhOyzrbEzq7nbXjLG+VQgQIECAAAECBAgQaJlAm+9itzNjVV++WleDtiVXJVcn25O7k/uS\nI5Ijk7OSc5JqpE5PqrFSBAgQIECAAAECBAh0TKDNDVIN5W3JyuSC5NzkvGRQ1ZfDXplcltw0\naAXzCBAgQIAAAQIECBBov0DbG6QawbpadFFySXJ8siI5OjkwqS+NrdyY1M0ZFAECBAgQIECA\nAAECHRboQoPUDO89ebCleWJKgAABAgQIECBAgACBmQJtvknDzGP1nAABAgQIECBAgAABAiMF\nNEgjeSwkQIAAAQIECBAgQKBLAl1tkOq4fyF5V/Lx5J+TVyaHJooAAQIECBAgQIAAgY4KtLlB\n+q8Z01sHjOuSzNuU/Hbyjck7k6XJLyXvTp6QKAIECBAgQIAAAQIEOijQ5gaprgZVAzSzXpgZ\nz0henjw5WZ88NTkleXTyukQRIECAAAECBAgQINBBgTY3SMOGs74Q9h3Jy5KvJE3V1aNatiZ5\nTqIIECBAgAABAgQIEOiYQBcbpGMzxvUWu0FVjdN7kqcPWmgeAQIECBAgQIAAAQLtFuhig/Sl\nDOndI4b15ixbOWK5RQQIECBAgAABAgQItFSgiw3Stozlk0aM5yOy7BMjlltEgAABAgQIECBA\ngEBLBbrYINVd674vGXTsdYe7k5ObEkWAAAECBAgQIECAQMcEHtby4z04x/czM47x3jxflZyV\nbJyx7Hvz/HHJ22fM95QAAQIECBAgQIAAgQ4ItL1BenjGcMOQcZx5C/C6evSq5H1J3ahBESBA\ngAABAgQIECDQMYE2N0hvyFheNWI8Pz9g2ZrM++KA+WYRIECAAAECBAgQINABgTY3SHW3usq4\n9dWsuGvcla1HgAABAgQIECBAgED7BNrcIC10tNblhR9Nbl3oBryOAAECBAhE4EUHHPCwy0gQ\nIEBg/wvcV/8t+vX9vx/TsQdtb5Dq+OpzRT+QHJb8ffI/k1F3qXtNltdb816eKAIECBAgsFCB\no/O1ektzTnLQQjfgdQQIENh7gTq13fzEvd9Od7bQ9gbpygzl2Und2vuTyfqkbvFdDdPmRBEg\nQIAAgQkKLP/KAQc8Z4Lbt2kCBAjMJXD1XCtYPkNg0HcBzVhlap9+V/a8mqOXJKcmz02+Kakv\nit2UfFuiCBAgQIAAAQIECBAg8DWBNjdIZ+QoP5K8+mtH+8BNGJ6V59UkvSk5uG+ZhwQIECBA\ngAABAgQIdFygzQ3SEzO2W5Mvzxjj3Xleb7Vbkfz6jGWeEiBAgAABAgQIECDQYYE2N0g7M67L\nhozt9sx/YfLi5JREESBAgAABAgQIECBA4IA2N0i3ZHyfkgy7EUXdqa7eZvdnybckigABAgQI\nECBAgACBjgu0uUGqW3Y8JvnREWP8c1n22aTuaLdyxHoWESBAgAABAgQIECDQAYE2N0gfy/hV\nk/TSZNjNGD6TZScnH0jqxg1vTR6bKAIECBAgQIAAAQIEOijQ5gaphvP85PlJvqhvaH06S+q7\nkX4qqRs47EnuTRQBAgQIECBAgAABAh0TGPb5nLYw7MiBVOaqr2aFN/Qy17qWEyBAgAABAgQI\nECDQUoG2X0Fq6bA5LAIECBAgQIAAAQIEJiGgQZqEqm0SIECAAAECBAgQIDCVAhqkqRw2O02A\nAAECBAgQIECAwCQENEiTULVNAgQIECBAgAABAgSmUkCDNJXDZqcJECBAgAABAgQIEJiEgAZp\nEqq2SYAAAQIECBAgQIDAVApokKZy2Ow0AQIECBAgQIAAAQKTENAgTULVNgkQIECAAAECBAgQ\nmEoBDdJUDpudJkCAAAECBAgQIEBgEgIapEmo2iYBAgQIECBAgAABAlMpoEGaymGz0wQIECBA\ngAABAgQITEJAgzQJVdskQIAAAQIECBAgQGAqBTRIUzlsdpoAAQIECBAgQIAAgUkIaJAmoWqb\nBAgQIECAAAECBAhMpYAGaSqHzU4TIECAAAECBAgQIDAJAQ3SJFRtkwABAgQIECBAgACBqRTQ\nIE3lsNlpAgQIECBAgAABAgQmIaBBmoSqbRIgQIAAAQIECBAgMJUCGqSpHDY7TYAAAQIECBAg\nQIDAJAQ0SJNQtU0CBAgQIECAAAECBKZSQIM0lcNmpwkQIECAAAECBAgQmISABmkSqrZJgAAB\nAgQIECBAgMBUCmiQpnLY7DQBAgQIECBAgAABApMQ0CBNQtU2CRAgQIAAAQIECBCYSgEN0lQO\nm50mQIAAAQIECBAgQGASAhqkSajaJgECBAgQIECAAAECUymgQZrKYbPTBAgQIECAAAECBAhM\nQkCDNAlV2yRAgAABAgQIECBAYCoFNEhTOWx2mgABAgQIECBAgACBSQhokCahapsECBAgQIAA\nAQIECEylgAZpKofNThMgQIAAAQIECBAgMAkBDdIkVG2TAAECBAgQIECAAIGpFNAgTeWw2WkC\nBAgQIECAAAECBCYhoEGahKptEiBAgAABAgQIECAwlQIPm8q9XvhOL8tLj0pWJEuSO3rZlaki\nQIAAAQIECBAgQKDjAl1okOoYz04uTE4YMt63ZP6lyRXJvUPWMZsAAQIECBAgQIAAgZYLtL1B\nOjzjtzlZlWxJzk/uTD6WfDVZntQVpTOTDcnFyZpkR6IIECBAgAABAgQIEOiYQJsbpEMzlm9L\nqkk6Lrk5GVaXZ8ExyaZeTs10d6IIECBAgAABAgQIEOiQQJtv0rAu43hisjYZ1Rw1w31rHpyS\nHJusb2aaEiBAgAABAgQIECDQHYE2N0irM4xbk9vnMZx3Zd0bkrqCpAgQIECAAAECBAgQ6JhA\nmxukQzKWexYwnvX5pKULeJ2XECBAgAABAgQIECAw5QJtbpCuy9iclNRnkMatg7Liacn1477A\negQIECBAgAABAgQItEegzQ1S3aChvufo2mT5GEN2WNbZmNTd7a4ZY32rECBAgAABAgQIECDQ\nMoE238VuZ8bqjKSuBm1LrkquTrYndyf3JUckRyZnJeck1UidnlRjpQgQIECAAAECBAgQ6JhA\nmxukGsrbkpXJBcm5yXnJoKovh70yuSy5adAK5hEgQIAAAQIECBAg0H6BtjdINYJ1teii5JLk\n+GRFcnRyYFJfGlu5MambMygCBAgQIECAAAECBDos0IUGqRnee/JgS/PElAABAgQIECBAgAAB\nAjMF2nyThpnH6jkBAgQIECBAgAABAgRGCnTpClJBLEuOSuptdkuSuhlDZVeiCBAgQIAAAQIE\nCBDouEAXGqQ6xrOTC5MThoz3LZl/aXJFUjdsUAQIECBAgAABAgQIdFCg7Q1SfUns5mRVUp8/\nOj+pmzLUDRnq+47qtt51RenMZENycbIm2ZEoAgQIECBAgAABAgQ6JtDmBunQjGV9WWw1Sccl\nNyfD6vIsOCbZ1Mupme5OFAECBAgQIECAAAECHRJo800a1mUcT0zWJqOao2a4b82DU5Jjk/XN\nTFMCBAgQIECAAAECBLoj0OYGaXWGcWty+zyG866se0NSV5AUAQIECBAgQIAAAQIdE2hzg3RI\nxnLPAsazPp+0dAGv8xICBAgQIECAAAECBKZcoM0N0nUZm5OS+gzSuHVQVjwtuX7cF1iPAAEC\nBAgQIECAAIH2CLS5QaobNNR3HF2bLB9jyA7LOhuTurvdNWOsbxUCBAgQIECAAAECBFom0Oa7\n2O3MWJ2R1NWgbclVydXJ9uTu5L7kiOTI5KzknKQaqdOTaqwUAQIECBAgQIAAAQIdE2hzg1RD\neVuyMrkgOTc5LxlU9eWwVyaXJTcNWsE8AgQIECBAgAABAgTaL9D2BqlGsK4WXZRckhyfrEiO\nTg5M6ktjKzcmdXMGRYAAAQIECBAgQIBAhwW60CA1w3tPHmxpnpgSIECAAAECBAgQIEBgpkCb\nb9Iw81g9J0CAAAECBAgQIECAwEiBLl1BKohlyVFJvc1uSVI3Y6jsShQBAgQIECBAgAABAh0X\n6EKDVMd4dnJhcsKQ8b4l8y9Nrkjqhg2KAAECBAgQIECAAIEOCrS9Qaovid2crErq80fnJ3VT\nhrohQ33fUd3Wu64onZlsSC5O1iQ7EkWAAAECBAgQIECAQMcE2twgHZqxrC+LrSbpuOTmZFhd\nngXHJJt6OTXT3YkiQIAAAQIECBAgQKBDAm2+ScO6jOOJydpkVHPUDPeteXBKcmyyvplpSoAA\nAQIECBAgQIBAdwTa3CCtzjBuTW6fx3DelXVvSOoKkiJAgAABAgQIECBAoGMCbW6QDslY7lnA\neNbnk5Yu4HVeQoAAAQIECBAgQIDAlAu0uUG6LmNzUlKfQRq3DsqKpyXXj/sC6xEgQIAAAQIE\nCBAg0B6BNjdIdYOG+o6ja5PlYwzZYVlnY1J3t7tmjPWtQoAAAQIECBAgQIBAywTafBe7nRmr\nM5K6GrQtuSq5Otme3J3clxyRHJmclZyTVCN1elKNlSJAgAABAgQIECBAoGMCbW6QaihvS1Ym\nFyTnJuclg6q+HPbK5LLkpkErmEeAAAECBAgQIECAQPsF2t4g1QjW1aKLkkuS45MVydHJgUl9\naWzlxqRuzrCvqt6ud2Fy8JgbfNyY61mNAAECBAgQIECAAIEJCnShQWr47smDLc2TCU8fke3X\ndzDVTR/GqWXjrGQdAgQIECBAgAABAgQmK9ClBqkkqxE5KqmrSEuS+qxRZVeyL+vj2Vh9rmnc\nOjkr1l33FAECBAgQIECAAAEC+1GgCw1SHePZSb3l7YQh1rdk/qXJFUl9HkkRIECAAAECBAgQ\nINBBgbY3SPUdSJuTVUm9ve78pD5zVJ83qtt5113r6orSmcmG5OJkTbIjUQQIECBAgAABAgQI\ndEygzQ3SoRnL+i6kapKOS25OhtXlWXBMsqmXUzPdnSgCBAgQIECAAAECBDok0OYvil2Xcawb\nJaxNRjVHzXDfmgenJMcm65uZpgQIECBAgAABAgQIdEegzQ3S6gzj1uT2eQznXVn3hqSuICkC\nBAgQIECAAAECBDom0OYG6ZCM5Z4FjGd9PmnpAl7nJQQIECBAgAABAgQITLlAmxukum32SUl9\nBmncqu8tOi25ftwXWI8AAQIECBAgQIAAgfYItLlBqhs01HccXZssH2PIDss6G5O6u901Y6xv\nFQIECBAgQIAAAQIEWibQ5rvY7cxYnZHU1aBtyVXJ1cn25O7kvuSI5MikvtT1nKQaqdOTaqwU\nAQIECBAgQIAAAQIdE2hzg1RDeVuyMrkgOTc5LxlU9eWwVyaXJTcNWsE8AgQIECBAgAABAgTa\nL9D2BqlGsK4WXZRckhyfrEiOTg5M6ktjKzcmdXMGRYAAAQIECBAgQIBAhwW60CA1w3tPHmxp\nnpgSIECAAAECBAgQIEBgpkCbb9Iw81g9J0CAAAECBAgQIECAwEiBLl1BKohlyVFJvc1uSVI3\nY6jsShQBAgQIECBAgAABAh0X6EKDVMd4dnJhcsKQ8b4l8y9Nrkjqhg2KAAECBAgQIECAAIEO\nCrS9Qaovid2crErq80fnJ3VThrohQ33fUd3Wu64onZlsSC5O1iQ7EkWAAAECBAgQIECAQMcE\n2twgHZqxrC+LrSbpuOTmZFhdngXHJJt6OTXT3YkiQIAAAQIECBAgQKBDAm2+ScO6jOOJydpk\nVHPUDPeteXBKcmyyvplpSoAAAQIECBAgQIBAdwTa3CCtzjBuTW6fx3DelXVvSOoKkiJAgAAB\nAgQIECBAoGMCbW6QDslY7lnAeNbnk5Yu4HVeQoAAAQIECBAgQIDAlAu0uUG6LmNzUlKfQRq3\nDsqKpyXXj/sC6xEgQIAAAQIECBAg0B6BNjdIdYOG+o6ja5PlYwzZYVlnY1J3t7tmjPWtQoAA\nAQIECBAgQIBAywTafBe7nRmrM5K6GrQtuSq5Otme3J3clxyRHJmclZyTVCN1elKNlSJAgAAB\nAgQIECBAoGMCbW6QaihvS1YmFyTnJuclg6q+HPbK5LLkpkErmEeAAAECBAgQIECAQPsF2t4g\n1QjW1aKLkkuS45MVydHJgUl9aWzlxqRuzqAIECBAgAABAgQIEOiwQBcapGZ478mDLc0TUwIE\nCBAgQIAAAQIECMwUaPNNGmYe67jP12XFY8Zd2XoECBAgQIAAAQIECLRHoO0NUl0huzT592RH\n8sbk2GRUvSYLf2jUCpYRIECAAAECBAgQINBOgbY3SHXjhRcn1RzV3ezWJ+9K1iaKAAECBAgQ\nIECAAAECDxJoc4P0XTnSs5OXJKcmz02+Kalbfm9Kvi1RBAgQIECAAAECBAgQ+JpAmxuk+g6k\njySv/trRHnDArjx+VlJN0puSgxNFgAABAgQIECBAgACB+wXa3CA9MUe4NfnyjLHenef1Vru6\n3fevz1jmKQECBAgQIECAAAECHRZoc4O0M+O6bMjYbs/8Fyb1+aRTEkWAAAECBAgQIECAAIED\n2twg3ZLxfUoy7LuersqyepvdnyXfkigCBAgQIECAAAECBDou0OYG6eqM7WOSHx0xxj+XZZ9N\nNicrR6xnEQECBAgQIECAAAECHRBoc4P0sYxfNUkvTYbdjOEzWXZy8oGkbtzw1uSxiSJAgAAB\nAgQIECBAoIMCbW6QajjPT56fLK0nQ+rTmf99yU8ldQOHPcm9iSJAgAABAgQIECBAoGMCwz6f\n0xaGHTmQylz11azwhl7mWtdyAgQIECBAgAABAgRaKtD2K0gtHTaHRYAAAQIECBAgQIDAJAQ0\nSJNQtU0CBAgQIECAAAECBKZSQIM0lcNmpwkQIECAAAECBAgQmISABmkSqrZJgAABAgQIECBA\ngMBUCmiQpnLY7DQBAgQIECBAgAABApMQ0CBNQtU2CRAgQIAAAQIECBCYSgEN0lQOm50mQIAA\nAQIECBAgQGASAhqkSajaJgECBAgQIECAAAECUymgQZrKYbPTBAgQIECAAAECBAhMQkCDNAlV\n2yRAgAABAgQIECBAYCoFNEhTOWx2mgABAgQIECBAgACBSQhokCahapsECBAgQIAAAQIECEyl\ngAZpKofNThMgQIAAAQIECBAgMAkBDdIkVG2TAAECBAgQIECAAIGpFNAgTeWw2WkCBAgQIECA\nAAECBCYhoEGahKptEiBAgAABAgQIECAwlQIapKkcNjtNgAABAgQIECBAgMAkBDRIk1C1TQIE\nCBAgQIAAAQIEplJAgzSVw2anCRAgQIAAAQIECBCYhIAGaRKqtkmAAAECBAgQIECAwFQKaJCm\nctjsNAECBAgQIECAAAECkxDQIE1C1TYJECBAgAABAgQIEJhKAQ3SVA6bnSZAgAABAgQIECBA\nYBICGqRJqNomAQIECBAgQIAAAQJTKaBBmsphs9MECBAgQIAAAQIECExCQIM0CVXbJECAAAEC\nBAgQIEBgKgU0SFM5bHaaAAECBAgQIECAAIFJCGiQJqFqmwQIECBAgAABAgQITKWABmkqh81O\nEyBAgAABAgQIECAwCQEN0iRUbZMAAQIECBAgQIAAgakU0CBN5bDZaQIECBAgQIAAAQIEJiGg\nQZqEqm0SIECAAAECBAgQIDCVAhqkqRw2O02AAAECBAgQIECAwCQENEiTULVNAgQIECBAgAAB\nAgSmUuBhU7nXC9/pZXnpUcmKZElyRy+7MlUECBAgQIAAAQIECHRcoAsNUh3j2cmFyQlDxvuW\nzL80uSK5d8g6ZhMgQIAAAQIECBAg0HKBtjdIh2f8Nierki3J+cmdyceSrybLk7qidGayIbk4\nWZPsSBQBAgQIECBAgAABAh0TaHODdGjG8m1JNUnHJTcnw+ryLDgm2dTLqZnuThQBAgQIECBA\ngAABAh0SaPNNGtZlHE9M1iajmqNmuG/Ng1OSY5P1zUxTAgQIECBAgAABAgS6I9DmBml1hnFr\ncvs8hvOurHtDUleQFAECBAgQIECAAAECHRNoc4N0SMZyzwLGsz6ftHQBr/MSAgQIECBAgAAB\nAgSmXKDNDdJ1GZuTkvoM0rh1UFY8Lbl+3BdYjwABAgQIECBAgACB9gi0uUGqGzTU9xxdmywf\nY8gOyzobk7q73TVjrG8VAgQIECBAgAABAgRaJtDmu9jtzFidkdTVoG3JVcnVyfbk7uS+5Ijk\nyOSs5JykGqnTk2qsFAECBAgQIECAAAECHRNoc4NUQ3lbsjK5IDk3OS8ZVPXlsFcmlyU3DVrB\nPAIECBAgQIAAAQIE2i/Q9gapRrCuFl2UXJIcn6xIjk4OTOpLYys3JnVzBkWAAAECBAgQIECA\nQIcFutAgNcN7Tx5saZ6YEiBAgAABAgQIECBAYKZAm2/SMPNYPSdAgAABAgQIECBAgMBIgS5d\nQSqIZclRSb3NbklSN2Oo7EoUAQIECBAgQIAAAQIdF+hCg1THeHZyYXLCkPG+JfMvTa5I6oYN\nigABAgQIECBAgACBDgq0vUGqL4ndnKxK6vNH5yd1U4a6IUN931Hd1ruuKJ2ZbEguTtYkOxJF\ngAABAgQIECBAgEDHBNrcIB2asawvi60m6bjk5mRYXZ4FxySbejk1092JIkCAAAECBAgQIECg\nQwJtvknDuozjicnaZFRz1Az3rXlwSnJssr6ZaUqAAAECBAgQIECAQHcExr2C9PCQPCup5uEp\nSV1t+abkQ0k1FpV/Sf4pWSy1OjuyNbl9Hjt0V9a9IakrSK+bx+usSoAAAQIECBAgQIBACwTm\napAekWN8cVKf3Xl0cl+yPanvFKrm6HHJdyXNduoLV1+Z/EXylWR/1iH54XsWsAP1+aSlC3id\nlxAgQIAAAQIECBAgMOUCo95i9705troy9N+SP0qeljwyeXLy1OTpyROSakSOSs5I3pe8Mamr\nSd+W7M+6Lj/8pKQ+gzRuHZQVT0uuH/cF1iNAgAABAgQIECBAoD0Cwxqk38sh/mXy+0k1QXWL\n7GoavpDMrC9nRt0Z7m3JTyW1fjUn9Va1aq72V9X+3JFcmywfYycOyzobk7q73TVjrG8VAgQI\nECBAgAABAgRaJtC8NW7mYT02M+oK0Hw+v9Nso96idm5Sn+HZnzc72JmfX1e1qrHbllyVXJ1s\nT+5O6u2CRyRHJmcl5yTVSJ2eVGOlCBAgQIAAAQIECBDomMCwBqm+WHVv673ZQGV/1m354SuT\nC5Jq2s5LBlV9OeyVyWXJTYNWMI8AAQIECBAgQIAAgfYLDGuQ2nTkdbXoouSS5PhkRXJ0cmBS\nbw2s1M0l6sqXIkCAAAECBAgQIECgwwJdaJCa4a07721pnpgSIECAAAECBAgQIEBgpsCwmzTM\nXM9zAgQIECBAgAABAgQItF6gS1eQajCXJXVL8nqb3ZKkbsZQ2ZUoAgQIECBAgAABAgQ6LjCs\nQXptXOr7gOpOb/1pvvy1mov6DM/S5I+T+nzPDyQvT77Um/51pouh6hjrphN1q/IThuzQLZl/\naXJFUjdsUAQIECBAgAABAgQIdFBgWIO0NRafS+o7gR6fPCOpRqjq6Ul9oermpBql25MnJ29M\n/iSp11Sj8e3Jh5L9WYfnh9d+rkq2JOcndVOGuiFD7Wfd1ruuKJ2ZbEguTtYkOxJFgAABAgQI\nECBAgEDHBIY1SK/pc3haHp+SNLfIrlthP6rveR7efwXp7Zn+TD1J1fcLvSD5H/VkP9Wh+bn1\nZbHVJB2X3JwMq8uz4JhkUy+nZro7UQQIECBAgAABAgQIdEhgnJs01FWiQ/pM6jX19rr+emae\nvKlvxpvz+Hv6nu+Ph+vyQ09M1iajmqNm327Ng2oEj03WNzNNCRAgQIAAAQIECBDojsA4DdLB\n4ajPGjVVzVH/85r/pKS/CakvW31KLdiPtTo/e2tSbwEct+7KijckdQVJESBAgAABAgQIECDQ\nMYFhb7HrZ6gG4xf7ZvxFHj+i73l9HumRyaf75tVd4epteNWAfaVv/kP5sK567VnAD6zPJ81s\nABewGS8hQIAAAQIECBAgQGDaBEY1SNVgvDK5r5dfz7RubFBNT73umcmvJnVFqaq/GflCntdb\n86px2l+30L4uP/tnk/oMUn/zlqdDq5q905KXDV3DAgIECBAgQIAAAQIEWiswqkGqZuGC5BNJ\nNUn9VU3R8uRVSTUf1Tj1X3V5eJ5X9TdND8x56P6sGzTckVybnJncnYyqw7LwLUkdyzWjVrSM\nAAECBAgQIECAAIF2CoxqkL7cO+R1mdZnefrryDy5M6mrSbXeZ5J6S93Hk6rHJJ9N9ud3Cu3M\nzz8juT7ZllyVXJ1sT6pZqqav7rZXx3JWck5STd/pSTVWigABAgQIECBAgACBjgmMapBGfXao\nuaJUb6Orqi9afUry7/Uk9R3JB+9/tH//uC0/fmVSV8LOTZpblefhg6oauSuTy5KySd/EAABA\nAElEQVS6wYQiQIAAAQIECBAgQKCDAgttkJqrS02DtDl2dWvsv+kZ/kSm/9B7vL8ndbXoouSS\n5PhkRXJ0Um8TrKtglRuTujnDvqr6/FYZ1NsUx6mjx1nJOgQIECBAgAABAgQITFZgVIM06idX\nc1FVb7Grem1STcbnk29IvjupKzaLqe7Jzmx5iHbosfk5P5kcPObPO3TM9axGgAABAgQIECBA\ngMAEBUY1SE0TNOjHN69b0ltYb6c7P3ll8sXkp5Nbk8VWy7JDRyV1Fan2/Y5edmW6L+uj2dhT\n57HBk7Nu3XVPESBAgAABAgQIECCwHwWaRmfQLjQNUr1trj6jUw1Fk+Z19bypP8qDNyT12aW6\nE9xiqdrXs5MLkxOG7FR9hurS5Ipkf95YYsjumU2AAAECBAgQIECAwEMh0DQ6g35W3YihblpQ\nb5urx9X41Fvq6jXVPNW07l7XX81nk/rn7c/Hh+eH1+ejViVbkrrKdWdSnzeqJq7uWldXlOo2\n4BuSi5M1yY5EESBAgAABAgQIECDQMYFRDdIXYvFLU+xRn+t5W1JN0nHJzcmwujwLjkk29XJq\nprsTRYAAAQIECBAgQIBAhwSamyy08ZDX5aBOTNYmo5qj5tjrM1OnJMcm65uZpgQIECBAgAAB\nAgQIdEegzQ3S6gzj1uT2eQznXVn3hqSuICkCBAgQIECAAAECBDomMKxBevQ+ctift6+u7yLa\ns4DjqM8nLV3A67yEAAECBAgQIECAAIEpFxjWIP1Ljutnkv671M3nUA/Kyi9J/nQ+L9rH69Zt\ns09K6jNI41bt92nJ9eO+wHoECBAgQIAAAQIECLRHYFiDVM3NK5N6u1l9hmfcqitGL0i2JT+Z\n1Db2V9UNGu5Irk2Wj7ETh2WdjUnd3e6aMda3CgECBAgQIECAAAECLRMYdhe7t+Q4tyT/O/mn\n5CNJNQ9/l3w0+XiyO/nmpG6TXTk++dGkGo26K9wvJwt5i1tetk9qZ7ZyRlJXg6phuyq5Otme\n3J3UrcuPSI5MzkrOSaqROj2pxkoRIECAAAECBAgQINAxgWENUjFUE/FDyWuSi5Jzk/OSYfX5\nLPiT5H8mtw1b6SGeX/uxMrkgGbX/9eWwVyb1vU83JYoAAQIECBAgQIAAgQ4KjGqQGo535cGz\nk8ck1Wx8ay/fmOmHk7o9duXfky8ki62q0bsouSSpq1wrkqOT+rLb+tLYyo1J3ZxBESBAgAAB\nAgQIECDQYYFxGqSGp96yVjc+qExj3ZOdrrcNKgIECBAgQIAAAQIECAwUGHaThoErm0mAAAEC\nBAgQIECAAIE2C2iQ2jy6jo0AAQIECBAgQIAAgXkJdLVBquP+haQ+X/Xx5J+TuiX5oYkiQIAA\nAQIECBAgQKCjAvNpkOqmBv31tjxZ3z9jkT3+r9mfunnEzFqSGZuS306+MXlnsjT5peTdyRMS\nRYAAAQIECBAgQIBABwXm0yD9Snxe0GdU3310eN/zxfawrgZVAzSzXpgZz0henjw5qSbvqckp\nyaOT1yWKAAECBAgQIECAAIEOCsynQTouPmv6jD7X93iaHtYXwr4jeVnylaSpunpUy9Ykz0kU\nAQIECBAgQIAAAQIdExi3QaorK89K3tzn84W+x9P08NjsbL3FblBV4/Se5OmDFppHgAABAgQI\nECBAgEC7BcZtkH4kDJ9I/q6P40t9j6fpYe333SN2+OYsqy/EVQQIECBAgAABAgQIdExgnAap\nbmrw08nrk/63pE1rg7Qtx/GkZFg9IguqGVQECBAgQIAAAQIECHRMYJwG6VUxqabh/8yw+fKM\n59PytO5a933JoGOvZvDk5KZEESBAgAABAgQIECDQMYGHjTjeaoouTaqZqM/kzLyqMg0N0sHZ\n759J+uvePFmVnJVs7F+Qx9+bPC55e6IIECBAgAABAgQIEOiYwLAG6cI4vCSpz+OcltyRzKx6\nu101H89I6juSKgcn9Z1CzbS+W+ifkv1VD88P3jDkh8+8BXhdPXpV8r7kPUNeYzYBAgQIECBA\ngAABAi0WGNYgLcsxPyap5cOuFH01y6opqreq1eP7etmTaVP781bgb8hOXNXsyIDp5wfMW5N5\nXxww3ywCBAgQIECAAAECBDogMKxB+tUc++8nf5z8ffK05OPJzPrDzPi/M2cukud1E4n53Eii\nmrxdi2Tf7QYBAgQIECBAgAABAvtBYNCNCprd+I88qM/k1Fvk6nuDHpn0V70lrd5KpwgQIECA\nAAECBAgQINAKgVENUh1gvW3uRb3p79aMvqoG6aC+5x4SIECAAAECBAgQIEBgqgXmapDq4Ooz\nSC9I/muyIumvYW/R61/HYwIECBAgQIAAAQIECEyFwDgNUh3I1qTu7vb8etIrb7FrJEwJECBA\ngAABAgQIEGiFwHyuAP1tjnhd8oq+I1/Mn0Fak/18Xt++zufhX2flv5nPC6xLgAABAgQIECBA\ngMD0C8ynQXpvDre++6ipuoJU33m0WOtR2bEzksf3dvDTme7sPZ5rctNcK1hOgAABAgQIECBA\ngED7BObTIL0th193s2tqex58onmyCKcbs0+V9clbklcn9UWwigABAgQIECBAgAABAgMF5tMg\n1fcE9dd/73+yiB//efatPkOlCBAgQIAAAQIECBAgMFJg3Js0jNzIFCz8tynYR7tIgAABAgQI\nECBAgMB+FpjPFaT9vKt79eMvz6vv2asteDEBAgQIECBAgAABAq0X6EqD9I7Wj6QDJECAAAEC\nBAgQIEBgrwW68ha7vYayAQIECBAgQIAAAQIE2i+gQWr/GDtCAgQIECBAgAABAgTGFNAgjQll\nNQIECBAgQIAAAQIE2i+gQWr/GDtCAgQIECBAgAABAgTGFNAgjQllNQIECBAgQIAAAQIE2i+w\n0AbphNBcnxzSfiJHSIAAAQIECBAgQIBAVwQW2iA9IkDfnSz09V3xdZwECBAgQIAAAQIECEyR\nwLDvQVqeY/hSL1/O9KtJNUNNmitHj8y8qmadJXncrFPTzyVfSRQBAgQIECBAgAABAgQWvcCw\nBum12fNnj7H3H5tjnZVZfusc61hMgAABAgQIECBAgACBRSEwrEF6ffburX17WFeGFpK7+7bh\nIQECBAgQIECAAAECBBa1wLAG6a/mudf1lrt6S563080TzuoECBAgQIAAAQIECCwegfqc0LA6\nOAteljxp2Ap98387j1/R99xDAgQIECBAgAABAgQITJ3AqAaprgb9WvLEOY6qPqv0oqRuyKAI\nECBAgAABAgQIECAwtQKjGqT7clT3JqPeNvesLP/T5JrkVYkiQIAAAQIECBAgQIDA1AqMapDq\noL6YHDTg6Ortd7+ebEz+PvmRpG4FrggQIECAAAECBAgQIDC1AsNu0tAcUH2/0dcnBybN4x/O\n459LjkrqLXi/mYy6ypTFigABAgQIECBAgAABAotfYK4Gqd5m9+Ze9mRaV47qNX+drEs+migC\nBAgQIECAAAECBAi0QmCut9jV2+Z+P/n55IrkvUk1St+b/PfkEYkiQIAAAQIECBAgQIBAKwTq\natCoqgZqU1KfNWqq3nL3yuQXkx/oZVumigABAgQIECBAgAABAlMtMNcVpPrs0ZIZR/ipPK/b\nep+YfD65LnlaoggQIECAAAECBAgQIDDVAnM1SHUHu6VDjvD9mX9acmfy1uQ/JYoAAQIECBAg\nQIAAAQJTKzBXg1TLB93muzngT+ZB3axhd/JXSV1xUgQIECBAgAABAgQIEJhKgbk+g/TwMY5q\nR9Y5O/mepG4FrggQIECAAAECBAgQIDCVAnM1SOMe1LuzYkURIECAAAECBAgQIEBgagXmeovd\n1B6YHSdAgAABAgQIECBAgMB8BebTID0uG78n+Y75/hDrEyBAgAABAgQIECBAYBoE5tMgfSUH\ntCzxOaNpGFn7SIAAAQIECBAgQIDAvAWGfQbpiGypmqcvJtUQVXPU3O67vhfpkcnBSd3h7rO9\nfFumz0s+lvxxUlebFAECBAgQIECAAAECBKZGYFiD9Ds5gh8echQfmDH/3Dz/x+QdySOS2ub3\nJ89I7ksUAQIECBAgQIAAAQIEpkJgWIN0Zfb+75PPJ/cmdQWprhzV9xz1p15fd6+7OHlv8tzk\nSUk1S/X4zxJFgAABAgQIECBAgACBqRAY1iD99Tz2vhqnM5L6LqT6wtj3J7+baJCCoAgQIECA\nAAECBAgQmB6B+dykYdhRfUMWVN7Tt8I/5PFT+557SIAAAQIECBAgQIAAgUUvsC8apMNzlHWj\nhi/0He1H8vixfc89JECAAAECBAgQIECAwKIXGPYWu9rxJyY/n9SNFupOdk2qqarPIdVd7F6a\nPDqpBqm/duXJo5Lavhs19Mt4TIAAAQIECBAgQIDAohUY1SDVrb5/Lrk9mdnkPDzzViSXJHUr\n8OYW4Hl4f1UDVfNnvu6Bpf4kQIAAAQIECBAgQIDAIhQY1SDVFaOqNcl/1IO+OjmPr0vq7naf\nSepqUX8dmSef7J/hMQECBAgQIECAAAECBBa7wDgN0pcGHETd+rvqq0nTPD0lj/+tZqbOSrbe\n/2hx/bEsu3NUUle/6u57d/RSbwlUBAgQIECAAAECBAh0XKA+TzSsmitI1UjMrKZBqvn1XUn/\nkvxoPUnV1aTnJ39TTxZBVRP4vOR9yT1JNW51G/ONyY1Jzbs5+fHkoEQRIECAAAECBAgQINBR\ngVFXkOrtc1X1eaKZ1TRWzfQ3skI1HCclJySfSv442d91eHZgc7Iq2ZKcn9yZfCypq1/Lk7qi\ndGayIbk4WZPsSBQBAgQIECBAgAABAh0TGNUgNY1RM+2naV7XNEhvzcLzkrqKVA3Jy5LPJfuz\nDs0Pf1tSTdJxSV0lGlaXZ8ExyaZeTs10d6IIECBAgAABAgQIEOiQQNPoDDrkuo131R8m9Ta6\n/npM70l/8/R7mVdZLLUuO3Ji8q1J3Ylvrro1K5yS1OeS1ievSxQBAgQIECBAgAABAh0SaK4A\nDTrkuoJyTbInqc8c1RfBVqNUN22ot9DVsv4vh83TRVWrszdbk3Gao2bH78qDG5K6gqQIECBA\ngAABAgQIEOiYwKgrSLfE4jlT7HFI9r2au/lWfT5p5vc6zXcb1idAgAABAgQIECBAYAoFRl1B\nmsLDedAu1/c0nZTUZ5DGrbqL3WnJ9eO+wHoECBAgQIAAAQIECLRHYKENUr2uboKwmKtu0FCf\nJ7o2WT7Gjh6WdTYmdXe7evugIkCAAAECBAgQIECgYwKj3mI3iqJuZvCO5NHJrlEr7sdlO/Oz\nz0jqatC25Krk6mR7cndyX3JEcmRSX2x7TlKN1OlJNVaKAAECBAgQIECAAIGOCSy0QZoWptuy\noyuTC5Jzk7oV+aCqm1BcmVyW3DRoBfMIECBAgAABAgQIEGi/wLAG6Rty6PV5nC8mdde6LydL\n+vKIPK56VPKVXuqtafXWu8rBSd3ooO4KV/P3Z9XVoouSS5LjkxXJ0UndovzOXm7MtG7OoAgQ\nIECAAAECBAgQ6LDAsAbp0pj8+BguH5ljnW/O8h1zrPNQLb4nP2jLQ/XD/BwCBAgQIECAAAEC\nBKZPYFiD9Oc5lM1JfU6nrh7VVaJmWleEmjRXlepqTKW5glTTWraQ22znZROrZdnyUUldRar9\nu6OXxfo5quyeIkCAAAECBAgQIEDgoRIY1iC99aHagYfg59Qxnp1cmJww5OfVdz7VVbMrkvo8\nkiJAgAABAgQIECBAoIMCwxqk+VI8Ni/45Hxf9BCsX9+BVFfCViVbkvOT+txRfd6oroLVXevq\nitKZyYbk4mRNsljeFphdUQQIECBAgAABAgQIPFQC+6JBemZ29o+T70z+46Ha8TF+zqFZp74L\nqZqk45Kbk2F1eRYck2zq5dRMdyeKAAECBAgQIECAAIEOCdRnhfamfigvrs8rvT/5xN5saAKv\nXZdtnpisTUY1R82PvjUP6vudjk3WNzNNCRAgQIAAAQIECBDojsBCG6S6jfdrkj9NNibfl9Tt\nwBdTrc7ObE1un8dO1W3Jb0jqCpIiQIAAAQIECBAgQKBjAvN9i13dtvtHkp9MvjW5LHlJUp/n\nWWx1SHZoIXfRq88n1Xc4KQIECBAgQIAAAQIEOiYwV4P0T/F4ePKhpG6NfXLyueQtSb0N7aZk\nsdZ12bGfTQ5PPj3mTtaX456WvGzM9a1GgAABAgQIECBAgECLBOZ6i129Pe3u5ElJfZ6n1q+7\nwP1r8uFkMVfdoKG+5+japO5WN1cdlhXq7YJ1NeyauVa2nAABAgQIECBAgACB9gnM1SD9TA75\n+5PvTupLVp+e1M0M/ldyY1I3NVistTM7dkbyxGRb8r+T70mq2XtkUlfGjk7qmC5J6kYOdUOH\n5yTVWCkCBAgQIECAAAECBDomMFeD1M/xxTx5V/KDSTUS9Va7dyQ/mSzWui07tjJ5XfJjyT8k\ndVVsd1KfT6qrYO9MLkjq7YR1q/J6rggQIECAAAECBAgQ6KDAXJ9BGkby9iw4Ifmt5LVJbecP\nksVY9RbBi5K6SnR8siI5OjkwubOXuhpWN2dQBAgQIECAAAECBAh0WGChDVKRfSX5xeTwpN6+\n9v+SrclirXuyY1sW687ZLwIECBAgQIAAAQIE9r/AfN5iN2hv64YGL0jenzx70ArmESBAgAAB\nAgQIECBAYFoE9uYKUnOM9+XBc5NpeIvasuznUUm9zW5JckcvuzJVBAgQIECAAAECBAh0XGBf\nNEhFeNcidqxjPDu5MKnPTQ2qWzLz0uSK5N5BK5hHgAABAgQIECBAgED7BfZVg7RYperzUZuT\nVUl9/uj8pG7MUFe76u2B9f1IdUXpzGRDcnGyJtmRKAIECBAgQIAAAQIEOibQ5gbp0IxlfVls\nNUnHJfU9R8Pq8iw4JtnUy6mZ7k4UAQIECBAgQIAAAQIdEtjbmzQsZqp12bkTk7XJqOaoOYb6\nAtz64ttjk/XNTFMCBAgQIECAAAECBLoj0OYGaXWGcWtSXww7btVnqW5I6gqSIkCAAAECBAgQ\nIECgYwJtbpAOyVjuWcB41ueTli7gdV5CgAABAgQIECBAgMCUC7S5QbouY3NSUp9BGrcOyoqn\nJdeP+wLrESBAgAABAgQIECDQHoE2N0h1g4b6nqNrk+VjDNlhWWdjUne3u2aM9a1CgAABAgQI\nECBAgEDLBNp8F7udGaszkroatC25Krk62Z7cndQX3B6RHJmclZyTVCN1elKNlSJAgAABAgQI\nECBAoGMCbW6QaihvS1YmFyTnJuclg6q+HPbK5LLkpkErmEeAAAECBAgQIECAQPsF2t4g1QjW\n1aKLkkuS45MVydHJgUl9aWzlxqRuzrCvqlyfnRw85gafPOZ6ViNAgAABAgQIECBAYIICXWiQ\nGr578mBL82TC03rb3muScRukLo3DhOltngABAgQIECBAgMDCBbp2Yr4sVEcldRVpSVKfNars\nSvZlbc/GHj+PDZ6cdeuue4oAAQIECBAgQIAAgf0o0IUGqY7x7OTC5IQh1rdk/qXJFUl9HkkR\nIECAAAECBAgQINBBgbY3SIdnTDcnq5J6e935SX3mqD5vVLfzrrvW1RWlM5MNycXJmmRHoggQ\nIECAAAECBAgQ6JhAmxukQzOW9V1I1SQdl9ycDKvLs+CYZFMvp2a6O1EECBAgQIAAAQIECHRI\noM1fFLsu43hisjYZ1Rw1w31rHpySHJusb2aaEiBAgAABAgQIECDQHYE2N0irM4xbk9vnMZx3\nZd0bkrqCpAgQIECAAAECBAgQ6JhAmxukQzKWexYwnvX5pKULeJ2XECBAgAABAgQIECAw5QJt\nbpDqttknJfUZpHHroKx4WnL9uC+wHgECBAgQIECAAAEC7RFoc4NUN2io7zi6Nlk+xpAdlnU2\nJnV3u2vGWN8qBAgQIECAAAECBAi0TKDNd7HbmbE6I6mrQduSq5Krk+3J3cl9yRHJkclZyTlJ\nNVKnJ9VYKQIECBAgQIAAAQIEOibQ5gaphvK2ZGVyQXJucl4yqOrLYa9MLktuGrSCeQQIECBA\ngAABAgQItF+g7Q1SjWBdLboouSQ5PlmRHJ0cmNSXxlZuTOrmDIoAAQIECBAgQIAAgQ4LdKFB\naob3njzY0jwxJUCAAAECBAgQIECAwEyBNt+kYeaxek6AAAECBAgQIECAAIGRAl26glQQy5Kj\nknqb3ZKkbsZQ2ZUoAgQIECBAgAABAgQ6LtCFBqmO8ezkwuSEIeN9S+ZfmlyR1A0bFAECBAgQ\nIECAAAECHRRoe4NUXxK7OVmV1OePzk/qpgx1Q4b6vqO6rXddUToz2ZBcnKxJdiSKAAECBAgQ\nIECAAIGOCbS5QTo0Y1lfFltN0nHJzcmwujwLjkk29XJqprsTRYAAAQIECBAgQIBAhwTafJOG\ndRnHE5O1yajmqBnuW/PglOTYZH0z05QAAQIECBAgQIAAge4ItLlBWp1h3JrcPo/hvCvr3pDU\nFSRFgAABAgQIECBAgEDHBNrcIB2SsdyzgPGszyctXcDrvIQAAQIECBAgQIAAgSkXaHODdF3G\n5qSkPoM0bh2UFU9Lrh/3BdYjQIAAAQIECBAgQKA9Am1ukOoGDfUdR9cmy8cYssOyzsak7m53\nzRjrW4UAAQIECBAgQIAAgZYJtPkudjszVmckdTVoW3JVcnWyPbk7uS85IjkyOSs5J6lG6vSk\nGitFgAABAgQIECBAgEDHBNrcINVQ3pasTC5Izk3OSwZVfTnslcllyU2DVjCPAAECBAgQIECA\nAIH2C7S9QaoRrKtFFyWXJMcnK5KjkwOT+tLYyo1J3ZxBESBAgAABAgQIECDQYYEuNEjN8N6T\nB1uaJ6YECBAgQIAAAQIECBCYKdDmmzTMPFbPCRAgQIAAAQIECBAgMFJAgzSSx0ICBAgQIECA\nAAECBLokoEHq0mg7VgIECBAgQIAAAQIERgpokEbyWEiAAAECBAgQIECAQJcENEhdGm3HSoAA\nAQIECBAgQIDASIE238VuTY78eSOPfvjCv86ivxm+2BICBAgQIECAAAECBNoo0OYG6VEZsDOS\nx/cG7tOZ7uw9nmviy2LnErKcAAECBAgQIECAQAsF2twgbcx4VdYnb0lenbwqUQQIECBAgAAB\nAgQIEBgo0IXPIP15jnzrwKM3kwABAgQIECBAgAABAn0CXWiQ6nD/re+YPSRAgAABAgQIECBA\ngMBAgTa/xa7/gC/Pk3v6Z3hMgAABAgQIECBAgACBmQJdaZDeMfPAPSdAgAABAgQIECBAgMBM\nga68xW7mcXtOgAABAgQIECBAgACBWQIapFkkZhAgQIAAAQIECBAg0FUBDVJXR95xEyBAgAAB\nAgQIECAwS0CDNIvEDAIECBAgQIAAAQIEuiqgQerqyDtuAgQIECBAgAABAgRmCWiQZpGYQYAA\nAQIECBAgQIBAVwU0SF0decdNgAABAgQIECBAgMAsAQ3SLBIzCBAgQIAAAQIECBDoqoAGqasj\n77gJECBAgAABAgQIEJgloEGaRWIGAQIECBAgQIAAAQJdFdAgdXXkHTcBAgQIECBAgAABArME\nNEizSMwgQIAAAQIECBAgQKCrAhqkro684yZAgAABAgQIECBAYJaABmkWiRkECBAgQIAAAQIE\nCHRVQIPU1ZF33AQIECBAgAABAgQIzBLQIM0iMYMAAQIECBAgQIAAga4KaJC6OvKOmwABAgQI\nECBAgACBWQIapFkkZhAgQIAAAQIECBAg0FUBDVJXR95xEyBAgAABAgQIECAwS0CDNIvEDAIE\nCBAgQIAAAQIEuiqgQerqyDtuAgQIECBAgAABAgRmCWiQZpGYQYAAAQIECBAgQIBAVwU0SF0d\necdNgAABAgQIECBAgMAsAQ3SLBIzCBAgQIAAAQIECBDoqoAGqasj77gJECBAgAABAgQIEJgl\noEGaRWIGAQIECBAgQIAAAQJdFdAgdXXkHTcBAgQIECBAgAABArMENEizSMwgQIAAAQIECBAg\nQKCrAhqkro684yZAgAABAgQIECBAYJaABmkWiRkECBAgQIAAAQIECHRVQIPU1ZF33AQIECBA\ngAABAgQIzBLQIM0iMYMAAQIECBAgQIAAga4KaJC6OvKOmwABAgQIECBAgACBWQIapFkkZhAg\nQIAAAQIECBAg0FUBDVJXR95xEyBAgAABAgQIECAwS0CDNIvEDAIECBAgQIAAAQIEuiqgQerq\nyDtuAgQIECBAgAABAgRmCWiQZpGYQYAAAQIECBAgQIBAVwU0SF0decdNgAABAgQIECBAgMAs\nAQ3SLBIzCBAgQIAAAQIECBDoqoAGqasj77gJECBAgAABAgQIEJgl8LBZc9o9Y1kO76hkRbIk\nuaOXXZkqAgQIECBAgAABAgQ6LtCFBqmO8ezkwuSEIeN9S+ZfmlyR3DtkHbMJECBAgAABAgQI\nEGi5QNsbpMMzfpuTVcmW5PzkzuRjyVeT5UldUTrz/7d3L8B2VeUdwI0hJLzKQwQfSBCVBglS\nEamKYEBQGKhWB7Sljo+2oxVRRkodmOlYrVURBu0MTDXTytgWcOgTmLZArYNB5FF8QAoBES2+\nAAMKCfIO0P8Hd9szd869d9+QQLLXb838c87Ze51z7/ot2Od+Zz9OsjQ5KVmS3JZoBAgQIECA\nAAECBAg0JjDkAmnzzOVFSRVJeyYrkqnaGVmxKLlwIgfkdnWiESBAgAABAgQIECDQkMCQL9Jw\ncOZxn+TAZLriqJvuG3Nnv2SP5MhuoVsCBAgQIECAAAECBNoRGHKBtH+mcXly8yym89b0vSqp\nPUgaAQIECBAgQIAAAQKNCQy5QFqQubxvLeazzk+avxbP8xQCBAgQIECAAAECBDZygSEXSJdn\nbvZN6hykvm1eOh6UXNH3CfoRIECAAAECBAgQIDAcgSEXSHWBhvqeo4uTHXpM2Zbpc0FSV7c7\nv0d/XQgQIECAAAECBAgQGJjAkK9id1fm6rCk9gZdl5ybnJfckqxM1iQ7JjslRyRHJ1VIHZJU\nYaURIECAAAECBAgQINCYwJALpJrKm5Ldk+OTY5Jjk3Gtvhz2nOTU5PpxHSwjQIAAAQIECBAg\nQGD4AkMvkGoGa2/RicnJyV7JwmSXZG5SXxpbuTapizNoBAgQIECAAAECBAg0LNBCgdRN7925\ns6x74JYAAQIECBAgQIAAAQKTBYZ8kYbJY/WYAAECBAgQIECAAAEC0wq0tAepILZOdk7qMLs5\nSV2MobIq0QgQIECAAAECBAgQaFyghQKpxnhUckKy9xTzfUOWn5KcndQFGzQCBAgQIECAAAEC\nBBoUGHqBVF8Se0myOKnzj45L6qIMdUGG+r6juqx37VE6PFmanJQsSW5LNAIECBAgQIAAAQIE\nGhMYcoG0eeayviy2iqQ9kxXJVO2MrFiUXDiRA3K7OtEIECBAgAABAgQIEGhIYMgXaTg487hP\ncmAyXXHUTfeNubNfskdyZLfQLQECBAgQIECAAAEC7QgMuUDaP9O4PLl5FtN5a/peldQeJI0A\nAQIECBAgQIAAgcYEhlwgLchc3rcW81nnJ81fi+d5CgECBAgQIECAAAECG7nAkAukyzM3+yZ1\nDlLfNi8dD0qu6PsE/QgQIECAAAECBAgQGI7AkAukukBDfcfRxckOPaZsy/S5IKmr253fo78u\nBAgQIECAAAECBAgMTGDIV7G7K3N1WFJ7g65Lzk3OS25JViZrkh2TnZIjkqOTKqQOSaqw0ggQ\nIECAAAECBAgQaExgyAVSTeVNye7J8ckxybHJuFZfDntOcmpy/bgOlhEgQIAAAQIECBAgMHyB\noRdINYO1t+jE5ORkr2RhsksyN6kvja1cm9TFGTQCBAgQIECAAAECBBoWaKFA6qb37txZ1j1w\nS4AAAQIECBAgQIAAgckCQ75Iw+SxekyAAAECBAgQIECAAIFpBVrag1QQWyc7J3WY3ZykLsZQ\nWZVoBAgQIECAAAECBAg0LtBCgVRjPCo5Idl7ivm+IctPSc5O6oINGgECBAgQIECAAAECDQoM\nvUCqL4m9JFmc1PlHxyV1UYa6IEN931Fd1rv2KB2eLE1OSpYktyUaAQIECBAgQIAAAQKNCQy5\nQNo8c1lfFltF0p7JimSqdkZWLEounMgBuV2daAQIECBAgAABAgQINCQw5ALp4MzjPsluyc09\n5vTG9NkvqXOSjkzOTNa2zckTX5Vs2vMFXtqzn24ECBAgQIAAAQIECKxHgSEXSPvHbXnSpzjq\niG/NnauS2oP0ZAqkXfP8OqRvXqIRIECAAAECBAgQILCRCAz5Mt8LMgf3rcU81PlJ89fieaNP\n+X4e1N6j2pPUJ68ZfbL7BAgQIECAAAECBAg8PQJDLpAuD+m+SZ2D1LfVHp+Dkiv6PkE/AgQI\nECBAgAABAgSGIzDkAqku0PDD5OKkrlY3U9syHS5I6up258/U2XoCBAgQIECAAAECBIYnMORz\nkO7KdB2W1N6g65Jzk/OSW5KVyZpkx2Sn5Ijk6KQKqUOSKqw0AgQIECBAgAABAgQaExhygVRT\neVOye3J8ckxybDKu1ZfDnpOcmlw/roNlBAgQIECAAAECBAgMX2DoBVLNYO0tOjE5OdkrWZjs\nksxN6ktjK9cmdXEGjQABAgQIECBAgACBhgVaKJC66b07d5Z1D9wSIECAAAECBAgQIEBgskBL\nBVKNfetk56T2Is1J6lyjyqpEI0CAAAECBAgQIECgcYEWCqQa41HJCcneU8z3DVl+SnJ2Uucj\naQQIECBAgAABAgQINCgw9AKpvgPpkmRxUofXHZfUOUd1vlFdzruuWld7lA5PliYnJUuS2xKN\nAAECBAgQIECAAIHGBIZcIG2euazvQqoiac9kRTJVOyMrFiUXTuSA3K5ONAIECBAgQIAAAQIE\nGhIY8hfFHpx53Cc5MJmuOOqm+8bc2S/ZIzmyW+iWAAECBAgQIECAAIF2BIZcIO2faVye3DyL\n6bw1fa9Kag+SRoAAAQIECBAgQIBAYwJDLpAWZC7vW4v5rPOT5q/F8zyFAAECBAgQIECAAIGN\nXGDIBdLlmZt9kzoHqW+bl44HJVf0fYJ+BAgQIECAAAECBAgMR2DIBVJdoKG+4+jiZIceU7Zl\n+lyQ1NXtzu/RXxcCBAgQIECAAAECBAYmMOSr2N2VuTosqb1B1yXnJucltyQrkzXJjslOyRHJ\n0UkVUockVVhpBAgQIECAAAECBAg0JjDkAqmm8qZk9+T45Jjk2GRcqy+HPSc5Nbl+XAfLCBAg\nQIAAAQIECBAYvsDQC6SawdpbdGJycrJXsjDZJZmb1JfGVq5N6uIMGgECBAgQIECAAAECDQu0\nUCB103t37izrHrglQIAAAQIECBAgQIDAZIEhX6Rh8lg9JkCAAAECBAgQIECAwLQCCqRpeawk\nQIAAAQIECBAgQKAlgVYLpBr3h5NvJD9LLks+mWyeaAQIECBAgAABAgQINCow5ALpHZnTG8fM\n65wsuzD5bPKc5OvJ/OQjyX8nL0w0AgQIECBAgAABAgQaFBhygVR7g6oAmtzelwVvSD6evCQ5\nMnllsl+yTXJmohEgQIAAAQIECBAg0KDAkAukqaazvhD20uRjyaNJ12rvUa1bkvx2ohEgQIAA\nAQIECBAg0JhAiwXSHpnjOsRuXKvC6erkteNWWkaAAAECBAgQIECAwLAFWiyQHsqUrpxmWldk\n3e7TrLeKAAECBAgQIECAAIGBCrRYIF2XuXzRNPO5RdbdMc16qwgQIECAAAECBAgQGKhAiwVS\nXbXuTcm4sdcV7l6dXJ9oBAgQIECAAAECBAg0JrDJwMe7acb33kljfDiPFydHJBdMWndoHj8/\n+dqk5R4SIECAAAECBAgQINCAwNALpM0yh0unmMfJlwCvvUefSr6V1IUaNAIECBAgQIAAAQIE\nGhMYcoH0pczludPM5/1j1i3JsgfHLLeIAAECBAgQIECAAIEGBIZcINXV6ip922PpuKpvZ/0I\nECBAgAABAgQIEBiewLgLFQxvlEZEgAABAgQIECBAgACBHgIKpB5IuhAgQIAAAQIECBAg0IaA\nAqmNeTZKAgQIECBAgAABAgR6CCiQeiDpQoAAAQIECBAgQIBAGwIKpDbm2SgJECBAgAABAgQI\nEOghoEDqgaQLAQIECBAgQIAAAQJtCCiQ2phnoyRAgAABAgQIECBAoIeAAqkHki4ECBAgQIAA\nAQIECLQhoEBqY56NkgABAgQIECBAgACBHgIKpB5IuhAgQIAAAQIECBAg0IaAAqmNeTZKAgQI\nECBAgAABAgR6CCiQeiDpQoAAAQIECBAgQIBAGwIKpDbm2SgJECBAgAABAgQIEOghoEDqgaQL\nAQIECBAgQIAAAQJtCCiQ2phnoyRAgAABAgQIECBAoIeAAqkHki4ECBAgQIAAAQIECLQhoEBq\nY56NkgABAgQIECBAgACBHgIKpB5IuhAgQIAAAQIECBAg0IaAAqmNeTZKAgQIECBAgAABAgR6\nCCiQeiDpQoAAAQIECBAgQIBAGwIKpDbm2SgJECBAgAABAgQIEOghoEDqgaQLAQIECBAgQIAA\nAQJtCCiQ2phnoyRAgAABAgQIECBAoIeAAqkHki4ECBAgQIAAAQIECLQhoEBqY56NkgABAgQI\nECBAgACBHgIKpB5IuhAgQIAAAQIECBAg0IaAAqmNeTZKAgQIECBAgAABAgR6CCiQeiDpQoAA\nAQIECBAgQIBAGwIKpDbm2SgJECBAgAABAgQIEOghoEDqgaQLAQIECBAgQIAAAQJtCCiQ2phn\noyRAgAABAgQIECBAoIeAAqkHki4ECBAgQIAAAQIECLQhoEBqY56NkgABAgQIECBAgACBHgIK\npB5IuhAgQIAAAQIECBAg0IaAAqmNeTZKAgQIECBAgAABAgR6CCiQeiDpQoAAAQIECBAgQIBA\nGwIKpDbm2SgJECBAgAABAgQIEOghoEDqgaQLAQIECBAgQIAAAQJtCCiQ2phnoyRAgAABAgQI\nECBAoIeAAqkHki4ECBAgQIAAAQIECLQhoEBqY56NkgABAgQIECBAgACBHgIKpB5IuhAgQIAA\nAQIECBAg0IaAAqmNeTZKAgQIECBAgAABAgR6CCiQeiDpQoAAAQIECBAgQIBAGwIKpDbm2SgJ\nECBAgAABAgQIEOghoEDqgaQLAQIECBAgQIAAAQJtCCiQ2phnoyRAgAABAgQIECBAoIeAAqkH\nki4ECBAgQIAAAQIECLQhoEBqY56NkgABAgQIECBAgACBHgIKpB5IuhAgQIAAAQIECBAg0IaA\nAqmNeTZKAgQIECBAgAABAgR6CCiQeiDpQoAAAQIECBAgQIBAGwIKpDbm2SgJECBAgAABAgQI\nEOghoEDqgaQLAQIECBAgQIAAAQJtCCiQ2phnoyRAgAABAgQIECBAoIeAAqkHki4ECBAgQIAA\nAQIECLQhoEBqY56NkgABAgQIECBAgACBHgIKpB5IuhAgQIAAAQIECBAg0IaAAqmNeTZKAgQI\nECBAgAABAgR6CCiQeiDpQoAAAQIECBAgQIBAGwIKpDbm2SgJECBAgAABAgQIEOghoEDqgaQL\nAQIECBAgQIAAAQJtCCiQ2phnoyRAgAABAgQIECBAoIeAAqkHki4ECBAgQIAAAQIECLQhoEBq\nY56NkgABAgQIECBAgACBHgIKpB5IuhAgQIAAAQIECBAg0IaAAqmNeTZKAgQIECBAgAABAgR6\nCCiQeiDpQoAAAQIECBAgQIBAGwIKpDbm2SgJECBAgAABAgQIEOghoEDqgaQLAQIECBAgQIAA\nAQJtCCiQ2phnoyRAgAABAgQIECBAoIeAAqkHki4ECBAgQIAAAQIECLQhoEBqY56NkgABAgQI\nECBAgACBHgIKpB5IuhAgQIAAAQIECBAg0IbAJm0M81ej3Dr3dk4WJnOSH05kVW41AgQIECBA\ngAABAgQaF2ihQKoxHpWckOw9xXzfkOWnJGcnD0/Rx2ICBAgQIECAAAECBAYuMPQCabvM3yXJ\n4mRZclzy4+T25LFkh6T2KB2eLE1OSpYktyUaAQIECBAgQIAAAQKNCQy5QNo8c3lRUkXSnsmK\nZKp2RlYsSi6cyAG5XZ1oBAgQIECAAAECBAg0JDDkAungzOM+yW7JzT3m9Mb02S+p85KOTM5M\nnkzbNU+e1/MFai/WU9Kq6vvuMx59Sn6WH0KAAIFxAvc+cQ7ouFUDXHZvznf97gDHZUgECGw8\nAk61n+1cDblA2j8Yy5M+xVHndmvuXJXUHqQnUyC9OM//XjKbVof8PTKbJ6xF33vOT3FU0QgQ\nIPA0Cmyan33P0/jzn6ofnTFembHWAQoaAQIEnlYBR0bNgj+fbA22nZ6RvSJ5zSxH+E/pXxdq\n+N1ZPm9y92dlQd89SPXcqlpW1p312Kog3n49vr6XJkCAQB+B+kDojmTon9bUV2k8Oxnye22G\npxEgsBEI3Jnfcc1G8Hv6FdezQBU49R/CdrP4OVXQ/CL50CyeoysBAgQIECBAgAABAgQ2eIFt\n8xt+P7k6qavVzdS2TIe6SMPPk4UzdbaeAAECBAgQIECAAAECG5tAXaChCp46dK0OuXt98qJk\nq2SzZJfktcnJyY+SB5I6d0kjQIAAAQIECBAgQIDAIAVq71EVQHVyWh33Pi4PZfmXkj0SjQAB\nAgQIECBAgACBRgVaOnF0m8zxXkkdPrdLMjepL42tXJvcnmgECBAgQIAAAQIECBAgQIAAAQIE\nCBAgQIAAAQIECBAgQIAAAQIECBAgQIAAAQIECBAgQIAAAQIECBAgQIAAAQIECBAgQIAAAQIE\nCBAgQIAAAQIECBAgQIAAAQIECBAgQIAAAQIECBAgQIAAAQIECBAgQIAAAQIECBAgQIAAAQIE\nCBAgQIAAAQIECBAgQIAAAQIECBAgQIAAAQIECBAgQIAAAQIECBAgQIAAAQIECBAgQIAAAQIE\nCBAgQIAAAQIECBAgQIAAAQIECBAgQIAAAQIECBAgQIAAAQIECBAgQIAAAQIECBAgQIAAAQIE\nCBAgQIAAAQIECBAgQIAAAQIECBAgQIAAAQIECBAgQIAAAQIECBAgQIAAAQIECBAgQIAAAQIE\nCBAgQIAAAQIECBAgQIAAAQIECBAgQIAAAQIECBAgQIAAAQIECBAgQIAAAQIECBAgQIAAAQIE\nCBAgQIAAAQIECBAgQIAAAQIECBAgQIAAAQIECBAgQIAAAQIECBAgQIAAAQIECBAgQIAAAQIE\nBiKwY8axxzocy3PyWovW4et5KQIECAxN4OUZ0LYzDGqTrN90hj61uvps36OfLgQIECBAgEBP\ngXen30PJgp79Z+r2gXR4LNl6po7WEyBAoFGBWzLuT8ww9ndl/cPJTNvm16RPbXMPTTQCBGYh\nUJ9CaAQIDF/gnRnix5JHkjXJuHZSFp43sqL63Zk8MLKsuzs/d85MPpd8s1s4w229Tr1Zr5qh\nn9UECBAYgsC3Moj6QKi2u4+OGdBPsuyQSctru/vjScsmP6ziqLal47bNo327bf3q0YXuEyAw\ns4ACaWYjPQgMQeCrGUS96dabdL2xVqv//yu7Jacn9WY92p6ZB1O9AdfrHJ38S9K3QHowfcf9\nkZDFGgECBAYncFxGVNvY2uZWapvabXf/LPdrmzi5Tbfd7fpWwTUv+d+kiqDug69u+zo3y+rw\nuq2Sal2h9MQj/xIgMKNA/Y+qESAwfIGfZoiVce1VWfiDZHKhU2+y497A6zXqE8xq3RvyE4+m\n/3eq15r+WdYSIEBg4xS4bIpfe4ssX5wcM2b9dNvd0e5V9Lw1qW1wpYqkrgirIqtep84hPSuZ\nzXY63TUCBBRI/hsg0LZAHcP+ruTsMQz1BltvtOuq1Zt0vaZGgACBlgVq7/uc5PwxCH22u/Xc\nKoa+M+b5o4u67e263I6Pvr77BAYroEAa7NQaGIFeAnVo3b3Jp8f0rjfVeiNeV63e0Kv9XlJ7\nk+q1/zHRCBAg0IrAogz0tOSPknHnBvXZ7tbhdVX8fCKZfIhd/V1X6yo7JdX8rfeEg38J9Bbw\nP01vKh0JDE7g3RnR25N9kvuTya3eqF+QfGNixS9z+8aJ+30Kp+pTlwp/YVKH73UFUr2pV1FW\nr6dACoJGgEATAnVo3T8nX07OmmLEtd39ePL+pM4jOiWp54y2m/LgL5M6AqC2q91hdnW/K7Dq\n9u7ks8ltiUaAwCwEFEizwNKVwIAE6tj3+hTzXUm92Y5r9QZb5xrVG3F9SllFTdfq08lqS5Ln\nJc9Knp3skDw3qU8un5/UG/zPk/rUtGsvy50qjjQCBAi0IrBzBlqFUV34pi7eMFWr7e6lyX8k\ntd29JpncrsqCikaAwHoSUCCtJ1gvS2ADFdg1v1cVRm9I3plMtwen9gDVnqVxfepNfHlSJxpX\nQXTnRG7O7R3Jyonbn+X29mS0dRd4GF3mPgECBIYoUH9n1TlH9UFT7Uk/PJnq6qBZ9fihx9Vv\n8l6jV2TZe5J6bpeHcr9ShVSl9iTVtnk09WFWfVA1f+K2irTrE40AgWkEFEjT4FhFYCACW2Qc\nr0v+MHlz8rVkr6SKmZlaHbIxrtWbcr3G2rRu79PaPNdzCBAgsDEI1F7z2t5+IPm15KNJnfM5\n1TY1q37VxvWpAme7pIqjKoQq1eqDrErtwX9TckFSH1LVa1SqWKpzlqpI2izZOtEIECBAgEDz\nAvXGemZyVnLALDTqYgr1ZjtTq0PpFiZ1W+ccbT+ROtyuHtcepucldT7Trkm9mWsECBAYssD+\nGdzlyR8n285ioMvS94hZ9O+61h6mKojqViNA4EkK+EPlSQJ6OoGNVOC1+b0PTvZJ6pPHbZJ7\nkhUjqYsz1PlDM7U6HKR7U65PNbtDPerNurYxXWrPUaU+wVydaAQIEGhFoIqktyavTl6S1Da3\nLrLwg6Tb7i7P/auTmVo9tw5VrtR2ttreyZXJK5PvJHWEULfNvTf3a9usESBAgAABAmMEai9O\nnfxb5wV9Kqk37N9M6sIJeyW1h+l9SfW5M3l7MlOrAun0ZKZD596SPvVmvlWiESBAoBWB92ag\ntT29KKn7ByZV0OyR7Jv8VvLJpPr8a1IfWk3XrsjK2pb2zcunezHrCBAgQIBA6wJfCMA1SR12\nN1P7cDrUuUbPmqFjFUifm6FPre4KpC169NWFAAECQxDYKYOoveq/02Mw26bPLclnZ+j761n/\nG0l9qLVnUoXW7hN56cTjxbn9g6SKqOqjESAwC4HaBasRINCOQL2RXpY82GPI56VPvVHXJ51f\nmab/bLcj9YatESBAoAWBKmbqQglf7THYu9JnWVJ7laZr351u5ci67sOtR0aWuUuAQA+B2f5h\n0+MldSFAYAMWOCu/22lJ7fX5h+S+ZFzbLgs/ndyTfH1ch5FltR2pc5pOTuqNuI51r3SFUB16\nt2nSfYpZ5yRpBAgQaEGgCp6fJrXt/WByUzKu1Xbx0OTNyanjOqzFsu68o+52LV7CUwi0KaBA\nanPejbpdgaUZ+t1J7Rmqw+2qULojqWV1wu/WSR0SUuclXZ/snzyQTNfmZeX8ZIfk/qT2TnWf\nWNY2pgqkylZJtbqvESBAoAWBOryu9sJ/PlmR/CipPUC1zV2dLEjq0Lrugjl1LtJnknXR/I23\nLhS9RpMCPsltctoNmsDjV5arCzPUoRx1We7aY1R7fOpNu77k9cqkCqRuL1DuTtlqz1AdGvKT\nKXs8seK5udkt+UZSfzRoBAgQaEmgPoA6MFmY1OFvWya/TGq7W0XTZcmqZF21g/JC5ySvT2p7\nrhEgQIAAAQIECBAgQIAAAQIECBAgQIAAAQIECBAgQIAAAQIECBAgQIAAAQIECBAgQIAAAQIE\nCBAgQIAAAQIECBAgQIAAAQIECBAgQIAAAQIECBAgQIAAAQIECBAgQIAAAQIECBAgQIAAAQIE\nCBAgQIAAAQIECBAgQIAAAQIECBAgQIAAAQIECBAgQIAAAQIECBAgQIAAAQIECBAgQIAAAQIE\nCBAgQIAAAQIECBAgQIAAAQIECBAgQIAAAQIECBAgQIAAAQIECBAgQIAAAQIECBAgQIAAAQIE\nCBAgQIAAAQIECBAgQIAAAQIECBAgQIAAAQIECBAgQIAAAQIECBAgQIAAAQIECBAgQIAAAQIE\nCBAgQIAAAQIECBAgQIAAAQIECBAgQIAAAQIECBAgQIAAAQIECBAgQIAAAQIECBAgQIAAAQIE\nCBAgQIAAAQIECBAgQIAAAQIECBAgQIAAAQIECBAgQIAAAQIECBAgQIAAAQIECBAgQIAAAQIE\nCBAgQIAAAQIECBAgQIAAAQIECBAgQIAAAQIECBAgQIAAAQIECBAgQIAAAQIECBAgQKA9gbnt\nDdmICRAgQKABgRdljM9Ofr6OxrprXmfz5J519HpehgABAgQIECBAgAABAk+ZwBfzk76zDn/a\n0rzW99bh63kpAgQIENhABTbZQH8vvxYBAgQIEOgEFubOh5JHJ2VOHo/m63n8b0m1+5Pp9h7V\n834/OSR5cfLj5CtJFUKPJJPbw1lw7+SFHhMgQIDA8ASeObwhGREBAgQIDEygipl6v6rC5aGJ\nrJl4nJtnLEj+JFlUDyZarX+sezDpdn4efzX5aHJ58qfJfyUfmXhcrzeuVYGmESBAgAABAgQI\nECBAYIMW2D6/XRVDh478lqfl/n+OPB69+xd58MNkm9GFE49r+cnJ3skPkhuSm5JfJt9KNAIE\nCBAYuIBD7AY+wYZHgACBBgTqggzVrnni5vF/a2/PVHuQ3pJ1f5Xc/XjP//+nHtfydyRVJL0n\nqT1W85LaQ/WcRCNAgACBgQsokAY+wYZHgACBBgRemTHeltw+MtY6LG+qAmmHrLtvpO/o3Z/l\nwY5JFUvLRla8LffreRoBAgQIDFxAgTTwCTY8AgQIDFRgs4yrLru9bVKH1t2RfDBZmPxNUu9v\nVSSNa9/Owncmp49ZWa/1zWSbZNHI+ufn/lQF10g3dwkQIECAAAECBAgQILD+BOrqdXcmv0jq\nO4jq6nR1sYYqVip1dbnae3RtclHyheQlyRnJVOcgvTzrag/S3yW7J1VoHZ6ck9TPeFlyYFLn\nH/1Pcl1SP//KRCNAgACBgQvYgzTwCTY8AgQIbOQCF+b3vzVZldT5QA8mDySfSarIeWsy1Z6d\nuVk3rtX3I70uOSWp4qeukFevUYfULUmWJ9WqeOra53PnFd0DtwQIECAwXAEF0nDn1sgIECAw\nBIHvZRCVya32JFW64mhB7tdhcVVA1UUVtkymKpCy6hlXJ7WXqC75/YKkirAquKZq9Zou8z2V\njuUECBAgQIAAAQIECDytAv+en/73I7/BG3O/iqXRXDqy/snerb1MGgECBAg0IGAPUgOTbIgE\nCBAYoMCajKnOPepaffFr7UHq2qm5s7h7MMVtFVB1IYfaM1TnNVWrx1UMVWoPVHdb929O3pZo\nBAgQIDBgAQXSgCfX0AgQIDAwgb0ynrqgwhXJmyeNrQqmOk+pa3W+0nSH2FW/LyajBVIVSfU6\nk1N7pd6f7JZoBAgQIDBwAQXSwCfY8AgQIDAggeMzll2S1/UY08r0uWWGfn87w/rR1Ufkwa6j\nC9wnQIAAgWEKKJCGOa9GRYAAgSEK1J6cujBDn/bnfTrNsk/9fI0AAQIEBi5Qx1ZrBAgQIEBg\nYxCY6ZC59TmGOhRPgbQ+hb02AQIENhABe5A2kInwaxAgQIDAjAJVIO2bXJpUsTKaPPxVAVP9\n6rLc85PTki8nT7bV+2UVSRoBAgQIDFxAgTTwCTY8AgQIDEjgrzOWi5OHk7qQQl1UoSuScvfx\nAqaKmNF8u1asg3ZRXuOadfA6XoIAAQIECBAgQIAAAQIECBAgQIAAAQIECBAgQIAAAQIECBAg\nQIAAAQIECBAgQIAAAQIECBAgQIAAAQIECBAgQIAAAQIECBAgQIAAAQIECBAgQIAAAQIECBAg\nQIAAAQIECBAgQIAAAQIECBAgQIAAAQIECBAgdodFqgAAAUNJREFUQIAAAQIECBAgQIAAAQIE\nCBAgQIAAAQIECBAgQIAAAQIECBAgQIAAAQIECBAgQIAAAQIECBAgQIAAAQIECBAgQIAAAQIE\nCBAgQIAAAQIECBAgQIAAAQIECBAgQIAAAQIECBAgQIAAAQIECBAgQIAAAQIECBAgQIAAAQIE\nCBAgQIAAAQIECBAgQIAAAQIECBAgQIAAAQIECBAgQIAAAQIECBAgQIAAAQIECBAgQIAAAQIE\nCBAgQIAAAQIECBAgQIAAAQIECBAgQIAAAQIECBAgQIAAAQIECBAgQIAAAQIECBAgQIAAAQIE\nCBAgQIAAAQIECBAgQIAAAQIECBAgQIAAAQIECBAgQIAAAQIECBAgQIAAAQIECBAgQIAAAQIE\nCBAgQIAAAQIECBAgQIAAAQIECBAgQIAAAQIECBB4qgT+D155yDEhzL5yAAAAAElFTkSuQmCC\n",
      "text/plain": [
       "Plot with title “서울 권역별 부상자 총계”"
      ]
     },
     "metadata": {},
     "output_type": "display_data"
    }
   ],
   "source": [
    "# 부상자그래프\n",
    "\n",
    "options(scipen=100)\n",
    "options(warn=-1)\n",
    "par(family = \"AppleGothic\")\n",
    "\n",
    "\n",
    "barplot(\n",
    "    snInjure$부상자수총계,\n",
    "    main = \"서울 권역별 부상자 총계\",\n",
    "    xlab = \"권역\",\n",
    "    ylab = \"사망자 수(명)\",\n",
    "    names = snInjure$권역,\n",
    "    col = my_col=rainbow(3,s=0.2)\n",
    "\n",
    "\n",
    ")"
   ]
  },
  {
   "cell_type": "code",
   "execution_count": 176,
   "id": "d62e0da7",
   "metadata": {},
   "outputs": [
    {
     "data": {
      "text/html": [
       "<table>\n",
       "<thead><tr><th scope=col>지역</th><th scope=col>인구</th></tr></thead>\n",
       "<tbody>\n",
       "\t<tr><td>강남구    </td><td>  567579.1</td></tr>\n",
       "\t<tr><td>강동구    </td><td>  465222.9</td></tr>\n",
       "\t<tr><td>강북구    </td><td>  334367.3</td></tr>\n",
       "\t<tr><td>강서구    </td><td>  591607.0</td></tr>\n",
       "\t<tr><td>관악구    </td><td>  529655.4</td></tr>\n",
       "\t<tr><td>광진구    </td><td>  376374.8</td></tr>\n",
       "\t<tr><td>구로구    </td><td>  449589.4</td></tr>\n",
       "\t<tr><td>금천구    </td><td>  256825.2</td></tr>\n",
       "\t<tr><td>노원구    </td><td>  575771.7</td></tr>\n",
       "\t<tr><td>도봉구    </td><td>  352861.2</td></tr>\n",
       "\t<tr><td>동대문구  </td><td>  371609.9</td></tr>\n",
       "\t<tr><td>동작구    </td><td>  413720.6</td></tr>\n",
       "\t<tr><td>마포구    </td><td>  391826.2</td></tr>\n",
       "\t<tr><td>서대문구  </td><td>  323827.2</td></tr>\n",
       "\t<tr><td>서초구    </td><td>  444582.8</td></tr>\n",
       "\t<tr><td>성동구    </td><td>  308497.3</td></tr>\n",
       "\t<tr><td>성북구    </td><td>  470598.2</td></tr>\n",
       "\t<tr><td>송파구    </td><td>  675245.8</td></tr>\n",
       "\t<tr><td>양천구    </td><td>  485564.8</td></tr>\n",
       "\t<tr><td>영등포구  </td><td>  415627.1</td></tr>\n",
       "\t<tr><td>용산구    </td><td>  249350.1</td></tr>\n",
       "\t<tr><td>은평구    </td><td>  497503.9</td></tr>\n",
       "\t<tr><td>종로구    </td><td>  166519.3</td></tr>\n",
       "\t<tr><td>중구      </td><td>  136893.7</td></tr>\n",
       "\t<tr><td>중랑구    </td><td>  417135.9</td></tr>\n",
       "\t<tr><td>합계      </td><td>10268356.9</td></tr>\n",
       "</tbody>\n",
       "</table>\n"
      ],
      "text/latex": [
       "\\begin{tabular}{r|ll}\n",
       " 지역 & 인구\\\\\n",
       "\\hline\n",
       "\t 강남구     &   567579.1\\\\\n",
       "\t 강동구     &   465222.9\\\\\n",
       "\t 강북구     &   334367.3\\\\\n",
       "\t 강서구     &   591607.0\\\\\n",
       "\t 관악구     &   529655.4\\\\\n",
       "\t 광진구     &   376374.8\\\\\n",
       "\t 구로구     &   449589.4\\\\\n",
       "\t 금천구     &   256825.2\\\\\n",
       "\t 노원구     &   575771.7\\\\\n",
       "\t 도봉구     &   352861.2\\\\\n",
       "\t 동대문구   &   371609.9\\\\\n",
       "\t 동작구     &   413720.6\\\\\n",
       "\t 마포구     &   391826.2\\\\\n",
       "\t 서대문구   &   323827.2\\\\\n",
       "\t 서초구     &   444582.8\\\\\n",
       "\t 성동구     &   308497.3\\\\\n",
       "\t 성북구     &   470598.2\\\\\n",
       "\t 송파구     &   675245.8\\\\\n",
       "\t 양천구     &   485564.8\\\\\n",
       "\t 영등포구   &   415627.1\\\\\n",
       "\t 용산구     &   249350.1\\\\\n",
       "\t 은평구     &   497503.9\\\\\n",
       "\t 종로구     &   166519.3\\\\\n",
       "\t 중구       &   136893.7\\\\\n",
       "\t 중랑구     &   417135.9\\\\\n",
       "\t 합계       & 10268356.9\\\\\n",
       "\\end{tabular}\n"
      ],
      "text/markdown": [
       "\n",
       "| 지역 | 인구 |\n",
       "|---|---|\n",
       "| 강남구     |   567579.1 |\n",
       "| 강동구     |   465222.9 |\n",
       "| 강북구     |   334367.3 |\n",
       "| 강서구     |   591607.0 |\n",
       "| 관악구     |   529655.4 |\n",
       "| 광진구     |   376374.8 |\n",
       "| 구로구     |   449589.4 |\n",
       "| 금천구     |   256825.2 |\n",
       "| 노원구     |   575771.7 |\n",
       "| 도봉구     |   352861.2 |\n",
       "| 동대문구   |   371609.9 |\n",
       "| 동작구     |   413720.6 |\n",
       "| 마포구     |   391826.2 |\n",
       "| 서대문구   |   323827.2 |\n",
       "| 서초구     |   444582.8 |\n",
       "| 성동구     |   308497.3 |\n",
       "| 성북구     |   470598.2 |\n",
       "| 송파구     |   675245.8 |\n",
       "| 양천구     |   485564.8 |\n",
       "| 영등포구   |   415627.1 |\n",
       "| 용산구     |   249350.1 |\n",
       "| 은평구     |   497503.9 |\n",
       "| 종로구     |   166519.3 |\n",
       "| 중구       |   136893.7 |\n",
       "| 중랑구     |   417135.9 |\n",
       "| 합계       | 10268356.9 |\n",
       "\n"
      ],
      "text/plain": [
       "   지역     인구      \n",
       "1  강남구     567579.1\n",
       "2  강동구     465222.9\n",
       "3  강북구     334367.3\n",
       "4  강서구     591607.0\n",
       "5  관악구     529655.4\n",
       "6  광진구     376374.8\n",
       "7  구로구     449589.4\n",
       "8  금천구     256825.2\n",
       "9  노원구     575771.7\n",
       "10 도봉구     352861.2\n",
       "11 동대문구   371609.9\n",
       "12 동작구     413720.6\n",
       "13 마포구     391826.2\n",
       "14 서대문구   323827.2\n",
       "15 서초구     444582.8\n",
       "16 성동구     308497.3\n",
       "17 성북구     470598.2\n",
       "18 송파구     675245.8\n",
       "19 양천구     485564.8\n",
       "20 영등포구   415627.1\n",
       "21 용산구     249350.1\n",
       "22 은평구     497503.9\n",
       "23 종로구     166519.3\n",
       "24 중구       136893.7\n",
       "25 중랑구     417135.9\n",
       "26 합계     10268356.9"
      ]
     },
     "metadata": {},
     "output_type": "display_data"
    },
    {
     "data": {
      "text/html": [],
      "text/latex": [],
      "text/markdown": [],
      "text/plain": [
       "character(0)"
      ]
     },
     "metadata": {},
     "output_type": "display_data"
    },
    {
     "data": {
      "text/html": [
       "<table>\n",
       "<thead><tr><th scope=col>지역</th><th scope=col>인구</th></tr></thead>\n",
       "<tbody>\n",
       "\t<tr><td>강남구    </td><td>  567579.1</td></tr>\n",
       "\t<tr><td>강동구    </td><td>  465222.9</td></tr>\n",
       "\t<tr><td>강북구    </td><td>  334367.3</td></tr>\n",
       "\t<tr><td>강서구    </td><td>  591607.0</td></tr>\n",
       "\t<tr><td>관악구    </td><td>  529655.4</td></tr>\n",
       "\t<tr><td>광진구    </td><td>  376374.8</td></tr>\n",
       "\t<tr><td>구로구    </td><td>  449589.4</td></tr>\n",
       "\t<tr><td>금천구    </td><td>  256825.2</td></tr>\n",
       "\t<tr><td>노원구    </td><td>  575771.7</td></tr>\n",
       "\t<tr><td>도봉구    </td><td>  352861.2</td></tr>\n",
       "\t<tr><td>동대문구  </td><td>  371609.9</td></tr>\n",
       "\t<tr><td>동작구    </td><td>  413720.6</td></tr>\n",
       "\t<tr><td>마포구    </td><td>  391826.2</td></tr>\n",
       "\t<tr><td>서대문구  </td><td>  323827.2</td></tr>\n",
       "\t<tr><td>서초구    </td><td>  444582.8</td></tr>\n",
       "\t<tr><td>성동구    </td><td>  308497.3</td></tr>\n",
       "\t<tr><td>성북구    </td><td>  470598.2</td></tr>\n",
       "\t<tr><td>송파구    </td><td>  675245.8</td></tr>\n",
       "\t<tr><td>양천구    </td><td>  485564.8</td></tr>\n",
       "\t<tr><td>영등포구  </td><td>  415627.1</td></tr>\n",
       "\t<tr><td>용산구    </td><td>  249350.1</td></tr>\n",
       "\t<tr><td>은평구    </td><td>  497503.9</td></tr>\n",
       "\t<tr><td>종로구    </td><td>  166519.3</td></tr>\n",
       "\t<tr><td>중구      </td><td>  136893.7</td></tr>\n",
       "\t<tr><td>중랑구    </td><td>  417135.9</td></tr>\n",
       "\t<tr><td>합계      </td><td>10268356.9</td></tr>\n",
       "</tbody>\n",
       "</table>\n"
      ],
      "text/latex": [
       "\\begin{tabular}{r|ll}\n",
       " 지역 & 인구\\\\\n",
       "\\hline\n",
       "\t 강남구     &   567579.1\\\\\n",
       "\t 강동구     &   465222.9\\\\\n",
       "\t 강북구     &   334367.3\\\\\n",
       "\t 강서구     &   591607.0\\\\\n",
       "\t 관악구     &   529655.4\\\\\n",
       "\t 광진구     &   376374.8\\\\\n",
       "\t 구로구     &   449589.4\\\\\n",
       "\t 금천구     &   256825.2\\\\\n",
       "\t 노원구     &   575771.7\\\\\n",
       "\t 도봉구     &   352861.2\\\\\n",
       "\t 동대문구   &   371609.9\\\\\n",
       "\t 동작구     &   413720.6\\\\\n",
       "\t 마포구     &   391826.2\\\\\n",
       "\t 서대문구   &   323827.2\\\\\n",
       "\t 서초구     &   444582.8\\\\\n",
       "\t 성동구     &   308497.3\\\\\n",
       "\t 성북구     &   470598.2\\\\\n",
       "\t 송파구     &   675245.8\\\\\n",
       "\t 양천구     &   485564.8\\\\\n",
       "\t 영등포구   &   415627.1\\\\\n",
       "\t 용산구     &   249350.1\\\\\n",
       "\t 은평구     &   497503.9\\\\\n",
       "\t 종로구     &   166519.3\\\\\n",
       "\t 중구       &   136893.7\\\\\n",
       "\t 중랑구     &   417135.9\\\\\n",
       "\t 합계       & 10268356.9\\\\\n",
       "\\end{tabular}\n"
      ],
      "text/markdown": [
       "\n",
       "| 지역 | 인구 |\n",
       "|---|---|\n",
       "| 강남구     |   567579.1 |\n",
       "| 강동구     |   465222.9 |\n",
       "| 강북구     |   334367.3 |\n",
       "| 강서구     |   591607.0 |\n",
       "| 관악구     |   529655.4 |\n",
       "| 광진구     |   376374.8 |\n",
       "| 구로구     |   449589.4 |\n",
       "| 금천구     |   256825.2 |\n",
       "| 노원구     |   575771.7 |\n",
       "| 도봉구     |   352861.2 |\n",
       "| 동대문구   |   371609.9 |\n",
       "| 동작구     |   413720.6 |\n",
       "| 마포구     |   391826.2 |\n",
       "| 서대문구   |   323827.2 |\n",
       "| 서초구     |   444582.8 |\n",
       "| 성동구     |   308497.3 |\n",
       "| 성북구     |   470598.2 |\n",
       "| 송파구     |   675245.8 |\n",
       "| 양천구     |   485564.8 |\n",
       "| 영등포구   |   415627.1 |\n",
       "| 용산구     |   249350.1 |\n",
       "| 은평구     |   497503.9 |\n",
       "| 종로구     |   166519.3 |\n",
       "| 중구       |   136893.7 |\n",
       "| 중랑구     |   417135.9 |\n",
       "| 합계       | 10268356.9 |\n",
       "\n"
      ],
      "text/plain": [
       "   지역     인구      \n",
       "1  강남구     567579.1\n",
       "2  강동구     465222.9\n",
       "3  강북구     334367.3\n",
       "4  강서구     591607.0\n",
       "5  관악구     529655.4\n",
       "6  광진구     376374.8\n",
       "7  구로구     449589.4\n",
       "8  금천구     256825.2\n",
       "9  노원구     575771.7\n",
       "10 도봉구     352861.2\n",
       "11 동대문구   371609.9\n",
       "12 동작구     413720.6\n",
       "13 마포구     391826.2\n",
       "14 서대문구   323827.2\n",
       "15 서초구     444582.8\n",
       "16 성동구     308497.3\n",
       "17 성북구     470598.2\n",
       "18 송파구     675245.8\n",
       "19 양천구     485564.8\n",
       "20 영등포구   415627.1\n",
       "21 용산구     249350.1\n",
       "22 은평구     497503.9\n",
       "23 종로구     166519.3\n",
       "24 중구       136893.7\n",
       "25 중랑구     417135.9\n",
       "26 합계     10268356.9"
      ]
     },
     "metadata": {},
     "output_type": "display_data"
    },
    {
     "data": {
      "text/html": [
       "<table>\n",
       "<thead><tr><th scope=col>기간</th><th scope=col>지역</th><th scope=col>인구</th><th scope=col>권역</th></tr></thead>\n",
       "<tbody>\n",
       "\t<tr><td>2011    </td><td>합계    </td><td>10528774</td><td>강남    </td></tr>\n",
       "\t<tr><td>2012    </td><td>합계    </td><td>10442426</td><td>강남    </td></tr>\n",
       "\t<tr><td>2013    </td><td>합계    </td><td>10388055</td><td>강남    </td></tr>\n",
       "\t<tr><td>2014    </td><td>합계    </td><td>10369593</td><td>강남    </td></tr>\n",
       "\t<tr><td>2015    </td><td>합계    </td><td>10297138</td><td>강남    </td></tr>\n",
       "\t<tr><td>2016    </td><td>합계    </td><td>10204057</td><td>강남    </td></tr>\n",
       "\t<tr><td>2017    </td><td>합계    </td><td>10124579</td><td>강남    </td></tr>\n",
       "\t<tr><td>2018    </td><td>합계    </td><td>10049607</td><td>강남    </td></tr>\n",
       "\t<tr><td>2019    </td><td>합계    </td><td>10010983</td><td>강남    </td></tr>\n",
       "\t<tr><td>2011    </td><td>송파구  </td><td>  690466</td><td>강남    </td></tr>\n",
       "\t<tr><td>2019    </td><td>송파구  </td><td>  682741</td><td>강남    </td></tr>\n",
       "\t<tr><td>2012    </td><td>송파구  </td><td>  680150</td><td>강남    </td></tr>\n",
       "\t<tr><td>2013    </td><td>송파구  </td><td>  674955</td><td>강남    </td></tr>\n",
       "\t<tr><td>2018    </td><td>송파구  </td><td>  673507</td><td>강남    </td></tr>\n",
       "\t<tr><td>2014    </td><td>송파구  </td><td>  671794</td><td>강남    </td></tr>\n",
       "\t<tr><td>2017    </td><td>송파구  </td><td>  671173</td><td>강남    </td></tr>\n",
       "\t<tr><td>2015    </td><td>송파구  </td><td>  667480</td><td>강남    </td></tr>\n",
       "\t<tr><td>2016    </td><td>송파구  </td><td>  664946</td><td>강남    </td></tr>\n",
       "\t<tr><td>2017    </td><td>강서구  </td><td>  608255</td><td>강남    </td></tr>\n",
       "\t<tr><td>2011    </td><td>노원구  </td><td>  608062</td><td>강북    </td></tr>\n",
       "\t<tr><td>2018    </td><td>강서구  </td><td>  603611</td><td>강남    </td></tr>\n",
       "\t<tr><td>2016    </td><td>강서구  </td><td>  602104</td><td>강남    </td></tr>\n",
       "\t<tr><td>2012    </td><td>노원구  </td><td>  600829</td><td>강북    </td></tr>\n",
       "\t<tr><td>2019    </td><td>강서구  </td><td>  598273</td><td>강남    </td></tr>\n",
       "\t<tr><td>2015    </td><td>강서구  </td><td>  595691</td><td>강남    </td></tr>\n",
       "\t<tr><td>2013    </td><td>노원구  </td><td>  594027</td><td>강북    </td></tr>\n",
       "\t<tr><td>2014    </td><td>강서구  </td><td>  591653</td><td>강남    </td></tr>\n",
       "\t<tr><td>2014    </td><td>노원구  </td><td>  586056</td><td>강북    </td></tr>\n",
       "\t<tr><td>2014    </td><td>강남구  </td><td>  583446</td><td>강남    </td></tr>\n",
       "\t<tr><td>2015    </td><td>강남구  </td><td>  581760</td><td>강남    </td></tr>\n",
       "\t<tr><td>...</td><td>...</td><td>...</td><td>...</td></tr>\n",
       "\t<tr><td>2012  </td><td>용산구</td><td>255294</td><td>강북  </td></tr>\n",
       "\t<tr><td>2016  </td><td>금천구</td><td>254654</td><td>강남  </td></tr>\n",
       "\t<tr><td>2018  </td><td>금천구</td><td>254021</td><td>강남  </td></tr>\n",
       "\t<tr><td>2017  </td><td>금천구</td><td>253491</td><td>강남  </td></tr>\n",
       "\t<tr><td>2013  </td><td>용산구</td><td>251925</td><td>강북  </td></tr>\n",
       "\t<tr><td>2019  </td><td>금천구</td><td>251820</td><td>강남  </td></tr>\n",
       "\t<tr><td>2014  </td><td>용산구</td><td>249914</td><td>강북  </td></tr>\n",
       "\t<tr><td>2015  </td><td>용산구</td><td>247909</td><td>강북  </td></tr>\n",
       "\t<tr><td>2019  </td><td>용산구</td><td>245185</td><td>강북  </td></tr>\n",
       "\t<tr><td>2016  </td><td>용산구</td><td>245102</td><td>강북  </td></tr>\n",
       "\t<tr><td>2018  </td><td>용산구</td><td>245090</td><td>강북  </td></tr>\n",
       "\t<tr><td>2017  </td><td>용산구</td><td>244444</td><td>강북  </td></tr>\n",
       "\t<tr><td>2011  </td><td>종로구</td><td>177419</td><td>강북  </td></tr>\n",
       "\t<tr><td>2012  </td><td>종로구</td><td>173148</td><td>강북  </td></tr>\n",
       "\t<tr><td>2013  </td><td>종로구</td><td>167867</td><td>강북  </td></tr>\n",
       "\t<tr><td>2014  </td><td>종로구</td><td>165344</td><td>강북  </td></tr>\n",
       "\t<tr><td>2017  </td><td>종로구</td><td>164257</td><td>강북  </td></tr>\n",
       "\t<tr><td>2015  </td><td>종로구</td><td>163822</td><td>강북  </td></tr>\n",
       "\t<tr><td>2018  </td><td>종로구</td><td>163026</td><td>강북  </td></tr>\n",
       "\t<tr><td>2016  </td><td>종로구</td><td>161922</td><td>강북  </td></tr>\n",
       "\t<tr><td>2019  </td><td>종로구</td><td>161869</td><td>강북  </td></tr>\n",
       "\t<tr><td>2011  </td><td>중구  </td><td>141567</td><td>강북  </td></tr>\n",
       "\t<tr><td>2012  </td><td>중구  </td><td>140807</td><td>강북  </td></tr>\n",
       "\t<tr><td>2013  </td><td>중구  </td><td>137990</td><td>강북  </td></tr>\n",
       "\t<tr><td>2019  </td><td>중구  </td><td>136488</td><td>강북  </td></tr>\n",
       "\t<tr><td>2014  </td><td>중구  </td><td>136227</td><td>강북  </td></tr>\n",
       "\t<tr><td>2018  </td><td>중구  </td><td>135633</td><td>강북  </td></tr>\n",
       "\t<tr><td>2017  </td><td>중구  </td><td>134593</td><td>강북  </td></tr>\n",
       "\t<tr><td>2016  </td><td>중구  </td><td>134409</td><td>강북  </td></tr>\n",
       "\t<tr><td>2015  </td><td>중구  </td><td>134329</td><td>강북  </td></tr>\n",
       "</tbody>\n",
       "</table>\n"
      ],
      "text/latex": [
       "\\begin{tabular}{r|llll}\n",
       " 기간 & 지역 & 인구 & 권역\\\\\n",
       "\\hline\n",
       "\t 2011     & 합계     & 10528774 & 강남    \\\\\n",
       "\t 2012     & 합계     & 10442426 & 강남    \\\\\n",
       "\t 2013     & 합계     & 10388055 & 강남    \\\\\n",
       "\t 2014     & 합계     & 10369593 & 강남    \\\\\n",
       "\t 2015     & 합계     & 10297138 & 강남    \\\\\n",
       "\t 2016     & 합계     & 10204057 & 강남    \\\\\n",
       "\t 2017     & 합계     & 10124579 & 강남    \\\\\n",
       "\t 2018     & 합계     & 10049607 & 강남    \\\\\n",
       "\t 2019     & 합계     & 10010983 & 강남    \\\\\n",
       "\t 2011     & 송파구   &   690466 & 강남    \\\\\n",
       "\t 2019     & 송파구   &   682741 & 강남    \\\\\n",
       "\t 2012     & 송파구   &   680150 & 강남    \\\\\n",
       "\t 2013     & 송파구   &   674955 & 강남    \\\\\n",
       "\t 2018     & 송파구   &   673507 & 강남    \\\\\n",
       "\t 2014     & 송파구   &   671794 & 강남    \\\\\n",
       "\t 2017     & 송파구   &   671173 & 강남    \\\\\n",
       "\t 2015     & 송파구   &   667480 & 강남    \\\\\n",
       "\t 2016     & 송파구   &   664946 & 강남    \\\\\n",
       "\t 2017     & 강서구   &   608255 & 강남    \\\\\n",
       "\t 2011     & 노원구   &   608062 & 강북    \\\\\n",
       "\t 2018     & 강서구   &   603611 & 강남    \\\\\n",
       "\t 2016     & 강서구   &   602104 & 강남    \\\\\n",
       "\t 2012     & 노원구   &   600829 & 강북    \\\\\n",
       "\t 2019     & 강서구   &   598273 & 강남    \\\\\n",
       "\t 2015     & 강서구   &   595691 & 강남    \\\\\n",
       "\t 2013     & 노원구   &   594027 & 강북    \\\\\n",
       "\t 2014     & 강서구   &   591653 & 강남    \\\\\n",
       "\t 2014     & 노원구   &   586056 & 강북    \\\\\n",
       "\t 2014     & 강남구   &   583446 & 강남    \\\\\n",
       "\t 2015     & 강남구   &   581760 & 강남    \\\\\n",
       "\t ... & ... & ... & ...\\\\\n",
       "\t 2012   & 용산구 & 255294 & 강북  \\\\\n",
       "\t 2016   & 금천구 & 254654 & 강남  \\\\\n",
       "\t 2018   & 금천구 & 254021 & 강남  \\\\\n",
       "\t 2017   & 금천구 & 253491 & 강남  \\\\\n",
       "\t 2013   & 용산구 & 251925 & 강북  \\\\\n",
       "\t 2019   & 금천구 & 251820 & 강남  \\\\\n",
       "\t 2014   & 용산구 & 249914 & 강북  \\\\\n",
       "\t 2015   & 용산구 & 247909 & 강북  \\\\\n",
       "\t 2019   & 용산구 & 245185 & 강북  \\\\\n",
       "\t 2016   & 용산구 & 245102 & 강북  \\\\\n",
       "\t 2018   & 용산구 & 245090 & 강북  \\\\\n",
       "\t 2017   & 용산구 & 244444 & 강북  \\\\\n",
       "\t 2011   & 종로구 & 177419 & 강북  \\\\\n",
       "\t 2012   & 종로구 & 173148 & 강북  \\\\\n",
       "\t 2013   & 종로구 & 167867 & 강북  \\\\\n",
       "\t 2014   & 종로구 & 165344 & 강북  \\\\\n",
       "\t 2017   & 종로구 & 164257 & 강북  \\\\\n",
       "\t 2015   & 종로구 & 163822 & 강북  \\\\\n",
       "\t 2018   & 종로구 & 163026 & 강북  \\\\\n",
       "\t 2016   & 종로구 & 161922 & 강북  \\\\\n",
       "\t 2019   & 종로구 & 161869 & 강북  \\\\\n",
       "\t 2011   & 중구   & 141567 & 강북  \\\\\n",
       "\t 2012   & 중구   & 140807 & 강북  \\\\\n",
       "\t 2013   & 중구   & 137990 & 강북  \\\\\n",
       "\t 2019   & 중구   & 136488 & 강북  \\\\\n",
       "\t 2014   & 중구   & 136227 & 강북  \\\\\n",
       "\t 2018   & 중구   & 135633 & 강북  \\\\\n",
       "\t 2017   & 중구   & 134593 & 강북  \\\\\n",
       "\t 2016   & 중구   & 134409 & 강북  \\\\\n",
       "\t 2015   & 중구   & 134329 & 강북  \\\\\n",
       "\\end{tabular}\n"
      ],
      "text/markdown": [
       "\n",
       "| 기간 | 지역 | 인구 | 권역 |\n",
       "|---|---|---|---|\n",
       "| 2011     | 합계     | 10528774 | 강남     |\n",
       "| 2012     | 합계     | 10442426 | 강남     |\n",
       "| 2013     | 합계     | 10388055 | 강남     |\n",
       "| 2014     | 합계     | 10369593 | 강남     |\n",
       "| 2015     | 합계     | 10297138 | 강남     |\n",
       "| 2016     | 합계     | 10204057 | 강남     |\n",
       "| 2017     | 합계     | 10124579 | 강남     |\n",
       "| 2018     | 합계     | 10049607 | 강남     |\n",
       "| 2019     | 합계     | 10010983 | 강남     |\n",
       "| 2011     | 송파구   |   690466 | 강남     |\n",
       "| 2019     | 송파구   |   682741 | 강남     |\n",
       "| 2012     | 송파구   |   680150 | 강남     |\n",
       "| 2013     | 송파구   |   674955 | 강남     |\n",
       "| 2018     | 송파구   |   673507 | 강남     |\n",
       "| 2014     | 송파구   |   671794 | 강남     |\n",
       "| 2017     | 송파구   |   671173 | 강남     |\n",
       "| 2015     | 송파구   |   667480 | 강남     |\n",
       "| 2016     | 송파구   |   664946 | 강남     |\n",
       "| 2017     | 강서구   |   608255 | 강남     |\n",
       "| 2011     | 노원구   |   608062 | 강북     |\n",
       "| 2018     | 강서구   |   603611 | 강남     |\n",
       "| 2016     | 강서구   |   602104 | 강남     |\n",
       "| 2012     | 노원구   |   600829 | 강북     |\n",
       "| 2019     | 강서구   |   598273 | 강남     |\n",
       "| 2015     | 강서구   |   595691 | 강남     |\n",
       "| 2013     | 노원구   |   594027 | 강북     |\n",
       "| 2014     | 강서구   |   591653 | 강남     |\n",
       "| 2014     | 노원구   |   586056 | 강북     |\n",
       "| 2014     | 강남구   |   583446 | 강남     |\n",
       "| 2015     | 강남구   |   581760 | 강남     |\n",
       "| ... | ... | ... | ... |\n",
       "| 2012   | 용산구 | 255294 | 강북   |\n",
       "| 2016   | 금천구 | 254654 | 강남   |\n",
       "| 2018   | 금천구 | 254021 | 강남   |\n",
       "| 2017   | 금천구 | 253491 | 강남   |\n",
       "| 2013   | 용산구 | 251925 | 강북   |\n",
       "| 2019   | 금천구 | 251820 | 강남   |\n",
       "| 2014   | 용산구 | 249914 | 강북   |\n",
       "| 2015   | 용산구 | 247909 | 강북   |\n",
       "| 2019   | 용산구 | 245185 | 강북   |\n",
       "| 2016   | 용산구 | 245102 | 강북   |\n",
       "| 2018   | 용산구 | 245090 | 강북   |\n",
       "| 2017   | 용산구 | 244444 | 강북   |\n",
       "| 2011   | 종로구 | 177419 | 강북   |\n",
       "| 2012   | 종로구 | 173148 | 강북   |\n",
       "| 2013   | 종로구 | 167867 | 강북   |\n",
       "| 2014   | 종로구 | 165344 | 강북   |\n",
       "| 2017   | 종로구 | 164257 | 강북   |\n",
       "| 2015   | 종로구 | 163822 | 강북   |\n",
       "| 2018   | 종로구 | 163026 | 강북   |\n",
       "| 2016   | 종로구 | 161922 | 강북   |\n",
       "| 2019   | 종로구 | 161869 | 강북   |\n",
       "| 2011   | 중구   | 141567 | 강북   |\n",
       "| 2012   | 중구   | 140807 | 강북   |\n",
       "| 2013   | 중구   | 137990 | 강북   |\n",
       "| 2019   | 중구   | 136488 | 강북   |\n",
       "| 2014   | 중구   | 136227 | 강북   |\n",
       "| 2018   | 중구   | 135633 | 강북   |\n",
       "| 2017   | 중구   | 134593 | 강북   |\n",
       "| 2016   | 중구   | 134409 | 강북   |\n",
       "| 2015   | 중구   | 134329 | 강북   |\n",
       "\n"
      ],
      "text/plain": [
       "    기간 지역   인구     권역\n",
       "1   2011 합계   10528774 강남\n",
       "2   2012 합계   10442426 강남\n",
       "3   2013 합계   10388055 강남\n",
       "4   2014 합계   10369593 강남\n",
       "5   2015 합계   10297138 강남\n",
       "6   2016 합계   10204057 강남\n",
       "7   2017 합계   10124579 강남\n",
       "8   2018 합계   10049607 강남\n",
       "9   2019 합계   10010983 강남\n",
       "10  2011 송파구   690466 강남\n",
       "11  2019 송파구   682741 강남\n",
       "12  2012 송파구   680150 강남\n",
       "13  2013 송파구   674955 강남\n",
       "14  2018 송파구   673507 강남\n",
       "15  2014 송파구   671794 강남\n",
       "16  2017 송파구   671173 강남\n",
       "17  2015 송파구   667480 강남\n",
       "18  2016 송파구   664946 강남\n",
       "19  2017 강서구   608255 강남\n",
       "20  2011 노원구   608062 강북\n",
       "21  2018 강서구   603611 강남\n",
       "22  2016 강서구   602104 강남\n",
       "23  2012 노원구   600829 강북\n",
       "24  2019 강서구   598273 강남\n",
       "25  2015 강서구   595691 강남\n",
       "26  2013 노원구   594027 강북\n",
       "27  2014 강서구   591653 강남\n",
       "28  2014 노원구   586056 강북\n",
       "29  2014 강남구   583446 강남\n",
       "30  2015 강남구   581760 강남\n",
       "... ...  ...    ...      ... \n",
       "205 2012 용산구 255294   강북\n",
       "206 2016 금천구 254654   강남\n",
       "207 2018 금천구 254021   강남\n",
       "208 2017 금천구 253491   강남\n",
       "209 2013 용산구 251925   강북\n",
       "210 2019 금천구 251820   강남\n",
       "211 2014 용산구 249914   강북\n",
       "212 2015 용산구 247909   강북\n",
       "213 2019 용산구 245185   강북\n",
       "214 2016 용산구 245102   강북\n",
       "215 2018 용산구 245090   강북\n",
       "216 2017 용산구 244444   강북\n",
       "217 2011 종로구 177419   강북\n",
       "218 2012 종로구 173148   강북\n",
       "219 2013 종로구 167867   강북\n",
       "220 2014 종로구 165344   강북\n",
       "221 2017 종로구 164257   강북\n",
       "222 2015 종로구 163822   강북\n",
       "223 2018 종로구 163026   강북\n",
       "224 2016 종로구 161922   강북\n",
       "225 2019 종로구 161869   강북\n",
       "226 2011 중구   141567   강북\n",
       "227 2012 중구   140807   강북\n",
       "228 2013 중구   137990   강북\n",
       "229 2019 중구   136488   강북\n",
       "230 2014 중구   136227   강북\n",
       "231 2018 중구   135633   강북\n",
       "232 2017 중구   134593   강북\n",
       "233 2016 중구   134409   강북\n",
       "234 2015 중구   134329   강북"
      ]
     },
     "metadata": {},
     "output_type": "display_data"
    }
   ],
   "source": [
    "library(stringr)\n",
    "\n",
    "population <- read.table(\"../Data//report.txt\", header = T)\n",
    "\n",
    "population <- data.frame(기간=population$기간, 지역=population$지역, 인구=population$인구)\n",
    "\n",
    "population$인구 <- as.numeric(str_remove_all(population$인구, \",\"))\n",
    "aggregate(인구 ~ 지역 ,population, mean)\n",
    "\n",
    "str_remove_all(population$GDP, \",\")\n",
    "\n",
    "for (i in 1:nrow(population)){\n",
    "    \n",
    "    ifelse(population[i,2] == \"성북구\" | population[i,2] == \"종로구\" |population[i,2] == \"동대문구\" |\n",
    "          population[i,2] == \"용산구\" |population[i,2] == \"중구\" |population[i,2] == \"서대문구\" |\n",
    "          population[i,2] == \"마포구\" |population[i,2] == \"은평구\" |population[i,2] == \"광진구\" |\n",
    "          population[i,2] == \"중랑구\" | population[i,2] == \"노원구\" | population[i,2] == \"강북구\" |\n",
    "          population[i,2] == \"도봉구\" | population[i,2] == \"성동구\" , result <- '강북', result <- '강남')\n",
    "   \n",
    "    population$권역[i] = result\n",
    "    \n",
    "}\n",
    "\n",
    "aggregate(인구 ~ 지역, population, mean)\n",
    "arrange(population, desc(인구))\n",
    "\n"
   ]
  },
  {
   "cell_type": "code",
   "execution_count": null,
   "id": "3f49f8ce",
   "metadata": {},
>>>>>>> d1386cba2df793d0b05db45d076424384bad3982
   "outputs": [],
   "source": []
  }
 ],
 "metadata": {
  "kernelspec": {
   "display_name": "R",
   "language": "R",
   "name": "ir"
  },
  "language_info": {
   "codemirror_mode": "r",
   "file_extension": ".r",
   "mimetype": "text/x-r-source",
   "name": "R",
   "pygments_lexer": "r",
   "version": "3.6.1"
  }
 },
 "nbformat": 4,
 "nbformat_minor": 5
}
