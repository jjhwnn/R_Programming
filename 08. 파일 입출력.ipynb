{
 "cells": [
  {
   "cell_type": "code",
   "execution_count": 10,
   "id": "7ee57790",
   "metadata": {},
   "outputs": [],
   "source": [
    "no <- 1:4\n",
    "name <- c(\"Apple\", \"Banana\", \"Peach\", \"Berry\")\n",
    "price <- c(500, 200, 200, 50)\n",
    "qty <- c(5,4,3,2)"
   ]
  },
  {
   "cell_type": "code",
   "execution_count": 11,
   "id": "f1517365",
   "metadata": {},
   "outputs": [
    {
     "data": {
      "text/html": [
       "<table>\n",
       "<thead><tr><th scope=col>번호</th><th scope=col>제품</th><th scope=col>금액</th><th scope=col>수량</th></tr></thead>\n",
       "<tbody>\n",
       "\t<tr><td>1     </td><td>Apple </td><td>500   </td><td>5     </td></tr>\n",
       "\t<tr><td>2     </td><td>Banana</td><td>200   </td><td>4     </td></tr>\n",
       "\t<tr><td>3     </td><td>Peach </td><td>200   </td><td>3     </td></tr>\n",
       "\t<tr><td>4     </td><td>Berry </td><td> 50   </td><td>2     </td></tr>\n",
       "</tbody>\n",
       "</table>\n"
      ],
      "text/latex": [
       "\\begin{tabular}{r|llll}\n",
       " 번호 & 제품 & 금액 & 수량\\\\\n",
       "\\hline\n",
       "\t 1      & Apple  & 500    & 5     \\\\\n",
       "\t 2      & Banana & 200    & 4     \\\\\n",
       "\t 3      & Peach  & 200    & 3     \\\\\n",
       "\t 4      & Berry  &  50    & 2     \\\\\n",
       "\\end{tabular}\n"
      ],
      "text/markdown": [
       "\n",
       "| 번호 | 제품 | 금액 | 수량 |\n",
       "|---|---|---|---|\n",
       "| 1      | Apple  | 500    | 5      |\n",
       "| 2      | Banana | 200    | 4      |\n",
       "| 3      | Peach  | 200    | 3      |\n",
       "| 4      | Berry  |  50    | 2      |\n",
       "\n"
      ],
      "text/plain": [
       "  번호 제품   금액 수량\n",
       "1 1    Apple  500  5   \n",
       "2 2    Banana 200  4   \n",
       "3 3    Peach  200  3   \n",
       "4 4    Berry   50  2   "
      ]
     },
     "metadata": {},
     "output_type": "display_data"
    }
   ],
   "source": [
    "# 벡터를 이용하여 데이터 프레임 만들기\n",
    "fruit <- data.frame(번호=no, 제품=name, 금액=price, 수량=qty)\n",
    "fruit"
   ]
  },
  {
   "cell_type": "code",
   "execution_count": 15,
   "id": "3b4b8328",
   "metadata": {},
   "outputs": [
    {
     "data": {
      "text/html": [
       "<ol class=list-inline>\n",
       "\t<li>'gty'</li>\n",
       "\t<li>'price'</li>\n",
       "\t<li>'qty'</li>\n",
       "</ol>\n"
      ],
      "text/latex": [
       "\\begin{enumerate*}\n",
       "\\item 'gty'\n",
       "\\item 'price'\n",
       "\\item 'qty'\n",
       "\\end{enumerate*}\n"
      ],
      "text/markdown": [
       "1. 'gty'\n",
       "2. 'price'\n",
       "3. 'qty'\n",
       "\n",
       "\n"
      ],
      "text/plain": [
       "[1] \"gty\"   \"price\" \"qty\"  "
      ]
     },
     "metadata": {},
     "output_type": "display_data"
    }
   ],
   "source": [
    "# 현재 메모리에 있는 변수 보기\n",
    "\n",
    "ls()"
   ]
  },
  {
   "cell_type": "code",
   "execution_count": 13,
   "id": "c0dd7e9a",
   "metadata": {},
   "outputs": [],
   "source": [
    "# 메모리 형태로 파일 보관\n",
    "\n",
    "save(no, fruit, name, file = \"../Data/testFruit.txt\")"
   ]
  },
  {
   "cell_type": "code",
   "execution_count": 18,
   "id": "c9a51bb5",
   "metadata": {},
   "outputs": [
    {
     "ename": "ERROR",
     "evalue": "Error in eval(expr, envir, enclos): 객체 'fruit'를 찾을 수 없습니다\n",
     "output_type": "error",
     "traceback": [
      "Error in eval(expr, envir, enclos): 객체 'fruit'를 찾을 수 없습니다\nTraceback:\n"
     ]
    }
   ],
   "source": [
    "# fruit"
   ]
  },
  {
   "cell_type": "code",
   "execution_count": 20,
   "id": "3c35b854",
   "metadata": {},
   "outputs": [],
   "source": [
    "# 메모리로 불러오기 \n",
    "load(\"../Data//testFruit.txt\")"
   ]
  },
  {
   "cell_type": "code",
   "execution_count": 21,
   "id": "89e0de42",
   "metadata": {},
   "outputs": [
    {
     "data": {
      "text/html": [
       "<table>\n",
       "<thead><tr><th scope=col>번호</th><th scope=col>제품</th><th scope=col>금액</th><th scope=col>수량</th></tr></thead>\n",
       "<tbody>\n",
       "\t<tr><td>1     </td><td>Apple </td><td>500   </td><td>5     </td></tr>\n",
       "\t<tr><td>2     </td><td>Banana</td><td>200   </td><td>4     </td></tr>\n",
       "\t<tr><td>3     </td><td>Peach </td><td>200   </td><td>3     </td></tr>\n",
       "\t<tr><td>4     </td><td>Berry </td><td> 50   </td><td>2     </td></tr>\n",
       "</tbody>\n",
       "</table>\n"
      ],
      "text/latex": [
       "\\begin{tabular}{r|llll}\n",
       " 번호 & 제품 & 금액 & 수량\\\\\n",
       "\\hline\n",
       "\t 1      & Apple  & 500    & 5     \\\\\n",
       "\t 2      & Banana & 200    & 4     \\\\\n",
       "\t 3      & Peach  & 200    & 3     \\\\\n",
       "\t 4      & Berry  &  50    & 2     \\\\\n",
       "\\end{tabular}\n"
      ],
      "text/markdown": [
       "\n",
       "| 번호 | 제품 | 금액 | 수량 |\n",
       "|---|---|---|---|\n",
       "| 1      | Apple  | 500    | 5      |\n",
       "| 2      | Banana | 200    | 4      |\n",
       "| 3      | Peach  | 200    | 3      |\n",
       "| 4      | Berry  |  50    | 2      |\n",
       "\n"
      ],
      "text/plain": [
       "  번호 제품   금액 수량\n",
       "1 1    Apple  500  5   \n",
       "2 2    Banana 200  4   \n",
       "3 3    Peach  200  3   \n",
       "4 4    Berry   50  2   "
      ]
     },
     "metadata": {},
     "output_type": "display_data"
    }
   ],
   "source": [
    "fruit"
   ]
  },
  {
   "cell_type": "code",
   "execution_count": 23,
   "id": "0094813d",
   "metadata": {},
   "outputs": [],
   "source": [
    "# fruit를 csv로 저장하기\n",
    "\n",
    "write.csv(fruit, \"../Data/fruit.csv\")"
   ]
  },
  {
   "cell_type": "code",
   "execution_count": 32,
   "id": "ec5d9806",
   "metadata": {},
   "outputs": [],
   "source": [
    "fruit2 <- read.csv(\"../Data//fruit.csv\")\n",
    "# x : rownames"
   ]
  },
  {
   "cell_type": "code",
   "execution_count": 28,
   "id": "f443dedb",
   "metadata": {},
   "outputs": [],
   "source": [
    "write.csv(fruit2, \"../Data/fruit2.csv\")"
   ]
  },
  {
   "cell_type": "code",
   "execution_count": 29,
   "id": "68caa7c9",
   "metadata": {},
   "outputs": [
    {
     "data": {
      "text/html": [
       "<table>\n",
       "<thead><tr><th scope=col>X.1</th><th scope=col>X</th><th scope=col>번호</th><th scope=col>제품</th><th scope=col>금액</th><th scope=col>수량</th></tr></thead>\n",
       "<tbody>\n",
       "\t<tr><td>1     </td><td>1     </td><td>1     </td><td>Apple </td><td>500   </td><td>5     </td></tr>\n",
       "\t<tr><td>2     </td><td>2     </td><td>2     </td><td>Banana</td><td>200   </td><td>4     </td></tr>\n",
       "\t<tr><td>3     </td><td>3     </td><td>3     </td><td>Peach </td><td>200   </td><td>3     </td></tr>\n",
       "\t<tr><td>4     </td><td>4     </td><td>4     </td><td>Berry </td><td> 50   </td><td>2     </td></tr>\n",
       "</tbody>\n",
       "</table>\n"
      ],
      "text/latex": [
       "\\begin{tabular}{r|llllll}\n",
       " X.1 & X & 번호 & 제품 & 금액 & 수량\\\\\n",
       "\\hline\n",
       "\t 1      & 1      & 1      & Apple  & 500    & 5     \\\\\n",
       "\t 2      & 2      & 2      & Banana & 200    & 4     \\\\\n",
       "\t 3      & 3      & 3      & Peach  & 200    & 3     \\\\\n",
       "\t 4      & 4      & 4      & Berry  &  50    & 2     \\\\\n",
       "\\end{tabular}\n"
      ],
      "text/markdown": [
       "\n",
       "| X.1 | X | 번호 | 제품 | 금액 | 수량 |\n",
       "|---|---|---|---|---|---|\n",
       "| 1      | 1      | 1      | Apple  | 500    | 5      |\n",
       "| 2      | 2      | 2      | Banana | 200    | 4      |\n",
       "| 3      | 3      | 3      | Peach  | 200    | 3      |\n",
       "| 4      | 4      | 4      | Berry  |  50    | 2      |\n",
       "\n"
      ],
      "text/plain": [
       "  X.1 X 번호 제품   금액 수량\n",
       "1 1   1 1    Apple  500  5   \n",
       "2 2   2 2    Banana 200  4   \n",
       "3 3   3 3    Peach  200  3   \n",
       "4 4   4 4    Berry   50  2   "
      ]
     },
     "metadata": {},
     "output_type": "display_data"
    }
   ],
   "source": [
    "read.csv(\"../Data//fruit2.csv\")"
   ]
  },
  {
   "cell_type": "code",
   "execution_count": 30,
   "id": "7c843645",
   "metadata": {},
   "outputs": [],
   "source": [
    "# 저장시 주의 사항 : row names가 필요치 않으면 저장하지 말아야 한다.\n",
    "# row.names=F**\n",
    "\n",
    "write.csv(fruit, \"../Data/fruit.csv\", row.names=F)"
   ]
  },
  {
   "cell_type": "code",
   "execution_count": 31,
   "id": "294230bf",
   "metadata": {},
   "outputs": [
    {
     "data": {
      "text/html": [
       "<table>\n",
       "<thead><tr><th scope=col>번호</th><th scope=col>제품</th><th scope=col>금액</th><th scope=col>수량</th></tr></thead>\n",
       "<tbody>\n",
       "\t<tr><td>1     </td><td>Apple </td><td>500   </td><td>5     </td></tr>\n",
       "\t<tr><td>2     </td><td>Banana</td><td>200   </td><td>4     </td></tr>\n",
       "\t<tr><td>3     </td><td>Peach </td><td>200   </td><td>3     </td></tr>\n",
       "\t<tr><td>4     </td><td>Berry </td><td> 50   </td><td>2     </td></tr>\n",
       "</tbody>\n",
       "</table>\n"
      ],
      "text/latex": [
       "\\begin{tabular}{r|llll}\n",
       " 번호 & 제품 & 금액 & 수량\\\\\n",
       "\\hline\n",
       "\t 1      & Apple  & 500    & 5     \\\\\n",
       "\t 2      & Banana & 200    & 4     \\\\\n",
       "\t 3      & Peach  & 200    & 3     \\\\\n",
       "\t 4      & Berry  &  50    & 2     \\\\\n",
       "\\end{tabular}\n"
      ],
      "text/markdown": [
       "\n",
       "| 번호 | 제품 | 금액 | 수량 |\n",
       "|---|---|---|---|\n",
       "| 1      | Apple  | 500    | 5      |\n",
       "| 2      | Banana | 200    | 4      |\n",
       "| 3      | Peach  | 200    | 3      |\n",
       "| 4      | Berry  |  50    | 2      |\n",
       "\n"
      ],
      "text/plain": [
       "  번호 제품   금액 수량\n",
       "1 1    Apple  500  5   \n",
       "2 2    Banana 200  4   \n",
       "3 3    Peach  200  3   \n",
       "4 4    Berry   50  2   "
      ]
     },
     "metadata": {},
     "output_type": "display_data"
    }
   ],
   "source": [
    "read.csv(\"../Data//fruit.csv\")"
   ]
  },
  {
   "cell_type": "code",
   "execution_count": null,
   "id": "d0b02f22",
   "metadata": {},
   "outputs": [],
   "source": []
  }
 ],
 "metadata": {
  "kernelspec": {
   "display_name": "R",
   "language": "R",
   "name": "ir"
  },
  "language_info": {
   "codemirror_mode": "r",
   "file_extension": ".r",
   "mimetype": "text/x-r-source",
   "name": "R",
   "pygments_lexer": "r",
   "version": "3.6.1"
  }
 },
 "nbformat": 4,
 "nbformat_minor": 5
}
