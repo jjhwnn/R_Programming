{
 "cells": [
  {
   "cell_type": "code",
   "execution_count": 4,
   "metadata": {
    "vscode": {
     "languageId": "r"
    }
   },
   "outputs": [
    {
     "name": "stdout",
     "output_type": "stream",
     "text": [
      " [1] \"red\"  \"blue\" \"red\"  \"blue\" \"red\"  \"blue\" \"red\"  \"blue\" \"red\"  \"blue\"\n",
      "[11] \"red\"  \"blue\" \"red\"  \"blue\" \"red\"  \"blue\" \"red\"  \"blue\" \"red\"  \"blue\"\n",
      "[21] \"red\"  \"blue\" \"red\"  \"blue\" \"red\"  \"blue\" \"red\"  \"blue\" \"red\"  \"blue\"\n",
      "[31] \"red\"  \"blue\" \"red\"  \"blue\" \"red\"  \"blue\" \"red\"  \"blue\" \"red\"  \"blue\"\n"
     ]
    }
   ],
   "source": [
    "# red라는 글자와 blue라는 글자를 20개 만들기\n",
    "# red, blue, red, blue\n",
    "\n",
    "print(rep(c(\"red\",\"blue\"), 20))"
   ]
  },
  {
   "cell_type": "code",
   "execution_count": 9,
   "metadata": {
    "vscode": {
     "languageId": "r"
    }
   },
   "outputs": [
    {
     "name": "stdout",
     "output_type": "stream",
     "text": [
      " [1]  1  3  5  1  2  3  4  5  6  7  8  9 10  1  3  5  7  9  1  2  3  1  2  3\n"
     ]
    }
   ],
   "source": [
    "print(c(seq(1,5,2), 1:10, seq(1,10,2), rep(1:3,2)))"
   ]
  },
  {
   "cell_type": "code",
   "execution_count": 16,
   "metadata": {
    "vscode": {
     "languageId": "r"
    }
   },
   "outputs": [
    {
     "data": {
      "text/html": [
       "<table>\n",
       "<thead><tr><th scope=col>Sepal.Length</th><th scope=col>Sepal.Width</th><th scope=col>Petal.Length</th><th scope=col>Petal.Width</th><th scope=col>Species</th></tr></thead>\n",
       "<tbody>\n",
       "\t<tr><td>5.1   </td><td>3.5   </td><td>1.4   </td><td>0.2   </td><td>setosa</td></tr>\n",
       "\t<tr><td>4.9   </td><td>3.0   </td><td>1.4   </td><td>0.2   </td><td>setosa</td></tr>\n",
       "\t<tr><td>4.7   </td><td>3.2   </td><td>1.3   </td><td>0.2   </td><td>setosa</td></tr>\n",
       "\t<tr><td>4.6   </td><td>3.1   </td><td>1.5   </td><td>0.2   </td><td>setosa</td></tr>\n",
       "\t<tr><td>5.0   </td><td>3.6   </td><td>1.4   </td><td>0.2   </td><td>setosa</td></tr>\n",
       "</tbody>\n",
       "</table>\n"
      ],
      "text/latex": [
       "\\begin{tabular}{r|lllll}\n",
       " Sepal.Length & Sepal.Width & Petal.Length & Petal.Width & Species\\\\\n",
       "\\hline\n",
       "\t 5.1    & 3.5    & 1.4    & 0.2    & setosa\\\\\n",
       "\t 4.9    & 3.0    & 1.4    & 0.2    & setosa\\\\\n",
       "\t 4.7    & 3.2    & 1.3    & 0.2    & setosa\\\\\n",
       "\t 4.6    & 3.1    & 1.5    & 0.2    & setosa\\\\\n",
       "\t 5.0    & 3.6    & 1.4    & 0.2    & setosa\\\\\n",
       "\\end{tabular}\n"
      ],
      "text/markdown": [
       "\n",
       "| Sepal.Length | Sepal.Width | Petal.Length | Petal.Width | Species |\n",
       "|---|---|---|---|---|\n",
       "| 5.1    | 3.5    | 1.4    | 0.2    | setosa |\n",
       "| 4.9    | 3.0    | 1.4    | 0.2    | setosa |\n",
       "| 4.7    | 3.2    | 1.3    | 0.2    | setosa |\n",
       "| 4.6    | 3.1    | 1.5    | 0.2    | setosa |\n",
       "| 5.0    | 3.6    | 1.4    | 0.2    | setosa |\n",
       "\n"
      ],
      "text/plain": [
       "  Sepal.Length Sepal.Width Petal.Length Petal.Width Species\n",
       "1 5.1          3.5         1.4          0.2         setosa \n",
       "2 4.9          3.0         1.4          0.2         setosa \n",
       "3 4.7          3.2         1.3          0.2         setosa \n",
       "4 4.6          3.1         1.5          0.2         setosa \n",
       "5 5.0          3.6         1.4          0.2         setosa "
      ]
     },
     "metadata": {},
     "output_type": "display_data"
    }
   ],
   "source": [
    "# iris의 1~5번째 줄의 데이터만 추출해서 변수 만들기\n",
    "# iris[행,열]\n",
    "\n",
    "head(iris, 5)\n",
    "\n",
    "irisHead <- iris[1:5,]\n",
    "\n",
    "\n"
   ]
  },
  {
   "cell_type": "code",
   "execution_count": 25,
   "metadata": {
    "vscode": {
     "languageId": "r"
    }
   },
   "outputs": [
    {
     "data": {
      "text/html": [
       "<table>\n",
       "<thead><tr><th></th><th scope=col>1</th><th scope=col>2</th><th scope=col>3</th><th scope=col>4</th><th scope=col>5</th></tr></thead>\n",
       "<tbody>\n",
       "\t<tr><th scope=row>Sepal.Length</th><td>5.1   </td><td>4.9   </td><td>4.7   </td><td>4.6   </td><td>5.0   </td></tr>\n",
       "\t<tr><th scope=row>Sepal.Width</th><td>3.5   </td><td>3.0   </td><td>3.2   </td><td>3.1   </td><td>3.6   </td></tr>\n",
       "\t<tr><th scope=row>Petal.Length</th><td>1.4   </td><td>1.4   </td><td>1.3   </td><td>1.5   </td><td>1.4   </td></tr>\n",
       "\t<tr><th scope=row>Petal.Width</th><td>0.2   </td><td>0.2   </td><td>0.2   </td><td>0.2   </td><td>0.2   </td></tr>\n",
       "\t<tr><th scope=row>Species</th><td>setosa</td><td>setosa</td><td>setosa</td><td>setosa</td><td>setosa</td></tr>\n",
       "</tbody>\n",
       "</table>\n"
      ],
      "text/latex": [
       "\\begin{tabular}{r|lllll}\n",
       "  & 1 & 2 & 3 & 4 & 5\\\\\n",
       "\\hline\n",
       "\tSepal.Length & 5.1    & 4.9    & 4.7    & 4.6    & 5.0   \\\\\n",
       "\tSepal.Width & 3.5    & 3.0    & 3.2    & 3.1    & 3.6   \\\\\n",
       "\tPetal.Length & 1.4    & 1.4    & 1.3    & 1.5    & 1.4   \\\\\n",
       "\tPetal.Width & 0.2    & 0.2    & 0.2    & 0.2    & 0.2   \\\\\n",
       "\tSpecies & setosa & setosa & setosa & setosa & setosa\\\\\n",
       "\\end{tabular}\n"
      ],
      "text/markdown": [
       "\n",
       "| <!--/--> | 1 | 2 | 3 | 4 | 5 |\n",
       "|---|---|---|---|---|---|\n",
       "| Sepal.Length | 5.1    | 4.9    | 4.7    | 4.6    | 5.0    |\n",
       "| Sepal.Width | 3.5    | 3.0    | 3.2    | 3.1    | 3.6    |\n",
       "| Petal.Length | 1.4    | 1.4    | 1.3    | 1.5    | 1.4    |\n",
       "| Petal.Width | 0.2    | 0.2    | 0.2    | 0.2    | 0.2    |\n",
       "| Species | setosa | setosa | setosa | setosa | setosa |\n",
       "\n"
      ],
      "text/plain": [
       "             1      2      3      4      5     \n",
       "Sepal.Length 5.1    4.9    4.7    4.6    5.0   \n",
       "Sepal.Width  3.5    3.0    3.2    3.1    3.6   \n",
       "Petal.Length 1.4    1.4    1.3    1.5    1.4   \n",
       "Petal.Width  0.2    0.2    0.2    0.2    0.2   \n",
       "Species      setosa setosa setosa setosa setosa"
      ]
     },
     "metadata": {},
     "output_type": "display_data"
    }
   ],
   "source": [
    "# 행과 열을 뒤집는다. (transmission)\n",
    "\n",
    "t(irisHead)\n"
   ]
  },
  {
   "cell_type": "code",
   "execution_count": 40,
   "metadata": {
    "vscode": {
     "languageId": "r"
    }
   },
   "outputs": [
    {
     "data": {
      "text/html": [
       "<table>\n",
       "<thead><tr><th></th><th scope=col>Sepal.Length</th><th scope=col>Sepal.Width</th><th scope=col>Petal.Length</th><th scope=col>Petal.Width</th><th scope=col>Species</th></tr></thead>\n",
       "<tbody>\n",
       "\t<tr><th scope=row>10</th><td>4.9       </td><td>3.1       </td><td>1.5       </td><td>0.1       </td><td>setosa    </td></tr>\n",
       "\t<tr><th scope=row>20</th><td>5.1       </td><td>3.8       </td><td>1.5       </td><td>0.3       </td><td>setosa    </td></tr>\n",
       "\t<tr><th scope=row>30</th><td>4.7       </td><td>3.2       </td><td>1.6       </td><td>0.2       </td><td>setosa    </td></tr>\n",
       "\t<tr><th scope=row>40</th><td>5.1       </td><td>3.4       </td><td>1.5       </td><td>0.2       </td><td>setosa    </td></tr>\n",
       "\t<tr><th scope=row>50</th><td>5.0       </td><td>3.3       </td><td>1.4       </td><td>0.2       </td><td>setosa    </td></tr>\n",
       "\t<tr><th scope=row>60</th><td>5.2       </td><td>2.7       </td><td>3.9       </td><td>1.4       </td><td>versicolor</td></tr>\n",
       "\t<tr><th scope=row>70</th><td>5.6       </td><td>2.5       </td><td>3.9       </td><td>1.1       </td><td>versicolor</td></tr>\n",
       "\t<tr><th scope=row>80</th><td>5.7       </td><td>2.6       </td><td>3.5       </td><td>1.0       </td><td>versicolor</td></tr>\n",
       "\t<tr><th scope=row>90</th><td>5.5       </td><td>2.5       </td><td>4.0       </td><td>1.3       </td><td>versicolor</td></tr>\n",
       "\t<tr><th scope=row>100</th><td>5.7       </td><td>2.8       </td><td>4.1       </td><td>1.3       </td><td>versicolor</td></tr>\n",
       "\t<tr><th scope=row>110</th><td>7.2       </td><td>3.6       </td><td>6.1       </td><td>2.5       </td><td>virginica </td></tr>\n",
       "\t<tr><th scope=row>120</th><td>6.0       </td><td>2.2       </td><td>5.0       </td><td>1.5       </td><td>virginica </td></tr>\n",
       "\t<tr><th scope=row>130</th><td>7.2       </td><td>3.0       </td><td>5.8       </td><td>1.6       </td><td>virginica </td></tr>\n",
       "\t<tr><th scope=row>140</th><td>6.9       </td><td>3.1       </td><td>5.4       </td><td>2.1       </td><td>virginica </td></tr>\n",
       "\t<tr><th scope=row>150</th><td>5.9       </td><td>3.0       </td><td>5.1       </td><td>1.8       </td><td>virginica </td></tr>\n",
       "</tbody>\n",
       "</table>\n"
      ],
      "text/latex": [
       "\\begin{tabular}{r|lllll}\n",
       "  & Sepal.Length & Sepal.Width & Petal.Length & Petal.Width & Species\\\\\n",
       "\\hline\n",
       "\t10 & 4.9        & 3.1        & 1.5        & 0.1        & setosa    \\\\\n",
       "\t20 & 5.1        & 3.8        & 1.5        & 0.3        & setosa    \\\\\n",
       "\t30 & 4.7        & 3.2        & 1.6        & 0.2        & setosa    \\\\\n",
       "\t40 & 5.1        & 3.4        & 1.5        & 0.2        & setosa    \\\\\n",
       "\t50 & 5.0        & 3.3        & 1.4        & 0.2        & setosa    \\\\\n",
       "\t60 & 5.2        & 2.7        & 3.9        & 1.4        & versicolor\\\\\n",
       "\t70 & 5.6        & 2.5        & 3.9        & 1.1        & versicolor\\\\\n",
       "\t80 & 5.7        & 2.6        & 3.5        & 1.0        & versicolor\\\\\n",
       "\t90 & 5.5        & 2.5        & 4.0        & 1.3        & versicolor\\\\\n",
       "\t100 & 5.7        & 2.8        & 4.1        & 1.3        & versicolor\\\\\n",
       "\t110 & 7.2        & 3.6        & 6.1        & 2.5        & virginica \\\\\n",
       "\t120 & 6.0        & 2.2        & 5.0        & 1.5        & virginica \\\\\n",
       "\t130 & 7.2        & 3.0        & 5.8        & 1.6        & virginica \\\\\n",
       "\t140 & 6.9        & 3.1        & 5.4        & 2.1        & virginica \\\\\n",
       "\t150 & 5.9        & 3.0        & 5.1        & 1.8        & virginica \\\\\n",
       "\\end{tabular}\n"
      ],
      "text/markdown": [
       "\n",
       "| <!--/--> | Sepal.Length | Sepal.Width | Petal.Length | Petal.Width | Species |\n",
       "|---|---|---|---|---|---|\n",
       "| 10 | 4.9        | 3.1        | 1.5        | 0.1        | setosa     |\n",
       "| 20 | 5.1        | 3.8        | 1.5        | 0.3        | setosa     |\n",
       "| 30 | 4.7        | 3.2        | 1.6        | 0.2        | setosa     |\n",
       "| 40 | 5.1        | 3.4        | 1.5        | 0.2        | setosa     |\n",
       "| 50 | 5.0        | 3.3        | 1.4        | 0.2        | setosa     |\n",
       "| 60 | 5.2        | 2.7        | 3.9        | 1.4        | versicolor |\n",
       "| 70 | 5.6        | 2.5        | 3.9        | 1.1        | versicolor |\n",
       "| 80 | 5.7        | 2.6        | 3.5        | 1.0        | versicolor |\n",
       "| 90 | 5.5        | 2.5        | 4.0        | 1.3        | versicolor |\n",
       "| 100 | 5.7        | 2.8        | 4.1        | 1.3        | versicolor |\n",
       "| 110 | 7.2        | 3.6        | 6.1        | 2.5        | virginica  |\n",
       "| 120 | 6.0        | 2.2        | 5.0        | 1.5        | virginica  |\n",
       "| 130 | 7.2        | 3.0        | 5.8        | 1.6        | virginica  |\n",
       "| 140 | 6.9        | 3.1        | 5.4        | 2.1        | virginica  |\n",
       "| 150 | 5.9        | 3.0        | 5.1        | 1.8        | virginica  |\n",
       "\n"
      ],
      "text/plain": [
       "    Sepal.Length Sepal.Width Petal.Length Petal.Width Species   \n",
       "10  4.9          3.1         1.5          0.1         setosa    \n",
       "20  5.1          3.8         1.5          0.3         setosa    \n",
       "30  4.7          3.2         1.6          0.2         setosa    \n",
       "40  5.1          3.4         1.5          0.2         setosa    \n",
       "50  5.0          3.3         1.4          0.2         setosa    \n",
       "60  5.2          2.7         3.9          1.4         versicolor\n",
       "70  5.6          2.5         3.9          1.1         versicolor\n",
       "80  5.7          2.6         3.5          1.0         versicolor\n",
       "90  5.5          2.5         4.0          1.3         versicolor\n",
       "100 5.7          2.8         4.1          1.3         versicolor\n",
       "110 7.2          3.6         6.1          2.5         virginica \n",
       "120 6.0          2.2         5.0          1.5         virginica \n",
       "130 7.2          3.0         5.8          1.6         virginica \n",
       "140 6.9          3.1         5.4          2.1         virginica \n",
       "150 5.9          3.0         5.1          1.8         virginica "
      ]
     },
     "metadata": {},
     "output_type": "display_data"
    }
   ],
   "source": [
    "# iris에서 150개 데이터 중 10번 부터 10씩 증가하여 15개만 sampling 하기\n",
    "# iris는 이차원배열***\n",
    "\n",
    "iris[seq(10, 150, 10),]\n"
   ]
  },
  {
   "cell_type": "code",
   "execution_count": 41,
   "metadata": {
    "vscode": {
     "languageId": "r"
    }
   },
   "outputs": [
    {
     "data": {
      "text/html": [
       "150"
      ],
      "text/latex": [
       "150"
      ],
      "text/markdown": [
       "150"
      ],
      "text/plain": [
       "[1] 150"
      ]
     },
     "metadata": {},
     "output_type": "display_data"
    }
   ],
   "source": [
    "length(iris$Sepal.Length)"
   ]
  },
  {
   "cell_type": "code",
   "execution_count": 42,
   "metadata": {
    "vscode": {
     "languageId": "r"
    }
   },
   "outputs": [
    {
     "data": {
      "text/html": [
       "5"
      ],
      "text/latex": [
       "5"
      ],
      "text/markdown": [
       "5"
      ],
      "text/plain": [
       "[1] 5"
      ]
     },
     "metadata": {},
     "output_type": "display_data"
    }
   ],
   "source": [
    "length(iris) # 컬럼수"
   ]
  },
  {
   "cell_type": "code",
   "execution_count": 44,
   "metadata": {
    "vscode": {
     "languageId": "r"
    }
   },
   "outputs": [
    {
     "data": {
      "text/html": [
       "150"
      ],
      "text/latex": [
       "150"
      ],
      "text/markdown": [
       "150"
      ],
      "text/plain": [
       "[1] 150"
      ]
     },
     "metadata": {},
     "output_type": "display_data"
    },
    {
     "data": {
      "text/html": [
       "5"
      ],
      "text/latex": [
       "5"
      ],
      "text/markdown": [
       "5"
      ],
      "text/plain": [
       "[1] 5"
      ]
     },
     "metadata": {},
     "output_type": "display_data"
    }
   ],
   "source": [
    "nrow(iris) # row수\n",
    "ncol(iris) # column수"
   ]
  },
  {
   "cell_type": "code",
   "execution_count": 53,
   "metadata": {
    "vscode": {
     "languageId": "r"
    }
   },
   "outputs": [
    {
     "data": {
      "text/html": [
       "3.6"
      ],
      "text/latex": [
       "3.6"
      ],
      "text/markdown": [
       "3.6"
      ],
      "text/plain": [
       "[1] 3.6"
      ]
     },
     "metadata": {},
     "output_type": "display_data"
    },
    {
     "data": {
      "text/html": [
       "5.84333333333333"
      ],
      "text/latex": [
       "5.84333333333333"
      ],
      "text/markdown": [
       "5.84333333333333"
      ],
      "text/plain": [
       "[1] 5.843333"
      ]
     },
     "metadata": {},
     "output_type": "display_data"
    },
    {
     "data": {
      "text/html": [
       "FALSE"
      ],
      "text/latex": [
       "FALSE"
      ],
      "text/markdown": [
       "FALSE"
      ],
      "text/plain": [
       "[1] FALSE"
      ]
     },
     "metadata": {},
     "output_type": "display_data"
    }
   ],
   "source": [
    "# iris의 Sepal.Length의 최대값과 최소값의 차이가 평균보다 큰지 확인\n",
    "\n",
    "max(iris$Sepal.Length)-min(iris$Sepal.Length)\n",
    "mean(iris$Sepal.Length)\n",
    "\n",
    "max(iris$Sepal.Length)-min(iris$Sepal.Length) > mean(iris$Sepal.Length)\n",
    "\n"
   ]
  },
  {
   "cell_type": "code",
   "execution_count": 57,
   "metadata": {
    "vscode": {
     "languageId": "r"
    }
   },
   "outputs": [
    {
     "data": {
      "text/html": [
       "<table>\n",
       "<thead><tr><th scope=col>Sepal.Length</th><th scope=col>Sepal.Width</th></tr></thead>\n",
       "<tbody>\n",
       "\t<tr><td>5.1</td><td>3.5</td></tr>\n",
       "\t<tr><td>4.9</td><td>3.0</td></tr>\n",
       "\t<tr><td>4.7</td><td>3.2</td></tr>\n",
       "\t<tr><td>4.6</td><td>3.1</td></tr>\n",
       "\t<tr><td>5.0</td><td>3.6</td></tr>\n",
       "\t<tr><td>5.4</td><td>3.9</td></tr>\n",
       "\t<tr><td>4.6</td><td>3.4</td></tr>\n",
       "\t<tr><td>5.0</td><td>3.4</td></tr>\n",
       "\t<tr><td>4.4</td><td>2.9</td></tr>\n",
       "\t<tr><td>4.9</td><td>3.1</td></tr>\n",
       "</tbody>\n",
       "</table>\n"
      ],
      "text/latex": [
       "\\begin{tabular}{r|ll}\n",
       " Sepal.Length & Sepal.Width\\\\\n",
       "\\hline\n",
       "\t 5.1 & 3.5\\\\\n",
       "\t 4.9 & 3.0\\\\\n",
       "\t 4.7 & 3.2\\\\\n",
       "\t 4.6 & 3.1\\\\\n",
       "\t 5.0 & 3.6\\\\\n",
       "\t 5.4 & 3.9\\\\\n",
       "\t 4.6 & 3.4\\\\\n",
       "\t 5.0 & 3.4\\\\\n",
       "\t 4.4 & 2.9\\\\\n",
       "\t 4.9 & 3.1\\\\\n",
       "\\end{tabular}\n"
      ],
      "text/markdown": [
       "\n",
       "| Sepal.Length | Sepal.Width |\n",
       "|---|---|\n",
       "| 5.1 | 3.5 |\n",
       "| 4.9 | 3.0 |\n",
       "| 4.7 | 3.2 |\n",
       "| 4.6 | 3.1 |\n",
       "| 5.0 | 3.6 |\n",
       "| 5.4 | 3.9 |\n",
       "| 4.6 | 3.4 |\n",
       "| 5.0 | 3.4 |\n",
       "| 4.4 | 2.9 |\n",
       "| 4.9 | 3.1 |\n",
       "\n"
      ],
      "text/plain": [
       "   Sepal.Length Sepal.Width\n",
       "1  5.1          3.5        \n",
       "2  4.9          3.0        \n",
       "3  4.7          3.2        \n",
       "4  4.6          3.1        \n",
       "5  5.0          3.6        \n",
       "6  5.4          3.9        \n",
       "7  4.6          3.4        \n",
       "8  5.0          3.4        \n",
       "9  4.4          2.9        \n",
       "10 4.9          3.1        "
      ]
     },
     "metadata": {},
     "output_type": "display_data"
    },
    {
     "data": {
      "text/html": [
       "<table>\n",
       "<thead><tr><th scope=col>Sepal.Length</th><th scope=col>Sepal.Width</th></tr></thead>\n",
       "<tbody>\n",
       "\t<tr><td>5.1</td><td>3.5</td></tr>\n",
       "\t<tr><td>4.9</td><td>3.0</td></tr>\n",
       "\t<tr><td>4.7</td><td>3.2</td></tr>\n",
       "\t<tr><td>4.6</td><td>3.1</td></tr>\n",
       "\t<tr><td>5.0</td><td>3.6</td></tr>\n",
       "\t<tr><td>5.4</td><td>3.9</td></tr>\n",
       "\t<tr><td>4.6</td><td>3.4</td></tr>\n",
       "\t<tr><td>5.0</td><td>3.4</td></tr>\n",
       "\t<tr><td>4.4</td><td>2.9</td></tr>\n",
       "\t<tr><td>4.9</td><td>3.1</td></tr>\n",
       "</tbody>\n",
       "</table>\n"
      ],
      "text/latex": [
       "\\begin{tabular}{r|ll}\n",
       " Sepal.Length & Sepal.Width\\\\\n",
       "\\hline\n",
       "\t 5.1 & 3.5\\\\\n",
       "\t 4.9 & 3.0\\\\\n",
       "\t 4.7 & 3.2\\\\\n",
       "\t 4.6 & 3.1\\\\\n",
       "\t 5.0 & 3.6\\\\\n",
       "\t 5.4 & 3.9\\\\\n",
       "\t 4.6 & 3.4\\\\\n",
       "\t 5.0 & 3.4\\\\\n",
       "\t 4.4 & 2.9\\\\\n",
       "\t 4.9 & 3.1\\\\\n",
       "\\end{tabular}\n"
      ],
      "text/markdown": [
       "\n",
       "| Sepal.Length | Sepal.Width |\n",
       "|---|---|\n",
       "| 5.1 | 3.5 |\n",
       "| 4.9 | 3.0 |\n",
       "| 4.7 | 3.2 |\n",
       "| 4.6 | 3.1 |\n",
       "| 5.0 | 3.6 |\n",
       "| 5.4 | 3.9 |\n",
       "| 4.6 | 3.4 |\n",
       "| 5.0 | 3.4 |\n",
       "| 4.4 | 2.9 |\n",
       "| 4.9 | 3.1 |\n",
       "\n"
      ],
      "text/plain": [
       "   Sepal.Length Sepal.Width\n",
       "1  5.1          3.5        \n",
       "2  4.9          3.0        \n",
       "3  4.7          3.2        \n",
       "4  4.6          3.1        \n",
       "5  5.0          3.6        \n",
       "6  5.4          3.9        \n",
       "7  4.6          3.4        \n",
       "8  5.0          3.4        \n",
       "9  4.4          2.9        \n",
       "10 4.9          3.1        "
      ]
     },
     "metadata": {},
     "output_type": "display_data"
    }
   ],
   "source": [
    "# iris에서 1~10까지의 데이터중 Sepal.Lengthdhk Sepal.WIdth만 출력\n",
    "\n",
    "iris[1:10, 1:2]\n",
    "iris[1:10, c(\"Sepal.Length\", \"Sepal.Width\")]    # 데이터 컬럼 수가 매우 많아서 인덱스로 지정하기 힘들때"
   ]
  },
  {
   "cell_type": "code",
   "execution_count": 60,
   "metadata": {
    "vscode": {
     "languageId": "r"
    }
   },
   "outputs": [
    {
     "name": "stdout",
     "output_type": "stream",
     "text": [
      "  Sepal.Length Sepal.Width Petal.Length Petal.Width Species\n",
      "1          5.1         3.5          1.4         0.2  setosa\n",
      "2          4.9         3.0          1.4         0.2  setosa\n",
      "3          4.7         3.2          1.3         0.2  setosa\n",
      "4          4.6         3.1          1.5         0.2  setosa\n",
      "5          5.0         3.6          1.4         0.2  setosa\n",
      "6          5.4         3.9          1.7         0.4  setosa\n"
     ]
    }
   ],
   "source": [
    "print(head(iris))"
   ]
  },
  {
   "cell_type": "code",
   "execution_count": 59,
   "metadata": {
    "vscode": {
     "languageId": "r"
    }
   },
   "outputs": [
    {
     "data": {
      "text/html": [
       "<table>\n",
       "<thead><tr><th></th><th scope=col>Sepal.Length</th><th scope=col>Sepal.Width</th><th scope=col>Petal.Length</th><th scope=col>Petal.Width</th><th scope=col>Species</th></tr></thead>\n",
       "<tbody>\n",
       "\t<tr><th scope=row>145</th><td>6.7      </td><td>3.3      </td><td>5.7      </td><td>2.5      </td><td>virginica</td></tr>\n",
       "\t<tr><th scope=row>146</th><td>6.7      </td><td>3.0      </td><td>5.2      </td><td>2.3      </td><td>virginica</td></tr>\n",
       "\t<tr><th scope=row>147</th><td>6.3      </td><td>2.5      </td><td>5.0      </td><td>1.9      </td><td>virginica</td></tr>\n",
       "\t<tr><th scope=row>148</th><td>6.5      </td><td>3.0      </td><td>5.2      </td><td>2.0      </td><td>virginica</td></tr>\n",
       "\t<tr><th scope=row>149</th><td>6.2      </td><td>3.4      </td><td>5.4      </td><td>2.3      </td><td>virginica</td></tr>\n",
       "\t<tr><th scope=row>150</th><td>5.9      </td><td>3.0      </td><td>5.1      </td><td>1.8      </td><td>virginica</td></tr>\n",
       "</tbody>\n",
       "</table>\n"
      ],
      "text/latex": [
       "\\begin{tabular}{r|lllll}\n",
       "  & Sepal.Length & Sepal.Width & Petal.Length & Petal.Width & Species\\\\\n",
       "\\hline\n",
       "\t145 & 6.7       & 3.3       & 5.7       & 2.5       & virginica\\\\\n",
       "\t146 & 6.7       & 3.0       & 5.2       & 2.3       & virginica\\\\\n",
       "\t147 & 6.3       & 2.5       & 5.0       & 1.9       & virginica\\\\\n",
       "\t148 & 6.5       & 3.0       & 5.2       & 2.0       & virginica\\\\\n",
       "\t149 & 6.2       & 3.4       & 5.4       & 2.3       & virginica\\\\\n",
       "\t150 & 5.9       & 3.0       & 5.1       & 1.8       & virginica\\\\\n",
       "\\end{tabular}\n"
      ],
      "text/markdown": [
       "\n",
       "| <!--/--> | Sepal.Length | Sepal.Width | Petal.Length | Petal.Width | Species |\n",
       "|---|---|---|---|---|---|\n",
       "| 145 | 6.7       | 3.3       | 5.7       | 2.5       | virginica |\n",
       "| 146 | 6.7       | 3.0       | 5.2       | 2.3       | virginica |\n",
       "| 147 | 6.3       | 2.5       | 5.0       | 1.9       | virginica |\n",
       "| 148 | 6.5       | 3.0       | 5.2       | 2.0       | virginica |\n",
       "| 149 | 6.2       | 3.4       | 5.4       | 2.3       | virginica |\n",
       "| 150 | 5.9       | 3.0       | 5.1       | 1.8       | virginica |\n",
       "\n"
      ],
      "text/plain": [
       "    Sepal.Length Sepal.Width Petal.Length Petal.Width Species  \n",
       "145 6.7          3.3         5.7          2.5         virginica\n",
       "146 6.7          3.0         5.2          2.3         virginica\n",
       "147 6.3          2.5         5.0          1.9         virginica\n",
       "148 6.5          3.0         5.2          2.0         virginica\n",
       "149 6.2          3.4         5.4          2.3         virginica\n",
       "150 5.9          3.0         5.1          1.8         virginica"
      ]
     },
     "metadata": {},
     "output_type": "display_data"
    }
   ],
   "source": [
    "tail(iris)"
   ]
  },
  {
   "cell_type": "code",
   "execution_count": 61,
   "metadata": {
    "vscode": {
     "languageId": "r"
    }
   },
   "outputs": [
    {
     "name": "stdout",
     "output_type": "stream",
     "text": [
      "'data.frame':\t150 obs. of  5 variables:\n",
      " $ Sepal.Length: num  5.1 4.9 4.7 4.6 5 5.4 4.6 5 4.4 4.9 ...\n",
      " $ Sepal.Width : num  3.5 3 3.2 3.1 3.6 3.9 3.4 3.4 2.9 3.1 ...\n",
      " $ Petal.Length: num  1.4 1.4 1.3 1.5 1.4 1.7 1.4 1.5 1.4 1.5 ...\n",
      " $ Petal.Width : num  0.2 0.2 0.2 0.2 0.2 0.4 0.3 0.2 0.2 0.1 ...\n",
      " $ Species     : Factor w/ 3 levels \"setosa\",\"versicolor\",..: 1 1 1 1 1 1 1 1 1 1 ...\n"
     ]
    }
   ],
   "source": [
    "str(iris) # Factor **"
   ]
  },
  {
   "cell_type": "code",
   "execution_count": 62,
   "metadata": {
    "vscode": {
     "languageId": "r"
    }
   },
   "outputs": [
    {
     "data": {
      "text/plain": [
       "  Sepal.Length    Sepal.Width     Petal.Length    Petal.Width   \n",
       " Min.   :4.300   Min.   :2.000   Min.   :1.000   Min.   :0.100  \n",
       " 1st Qu.:5.100   1st Qu.:2.800   1st Qu.:1.600   1st Qu.:0.300  \n",
       " Median :5.800   Median :3.000   Median :4.350   Median :1.300  \n",
       " Mean   :5.843   Mean   :3.057   Mean   :3.758   Mean   :1.199  \n",
       " 3rd Qu.:6.400   3rd Qu.:3.300   3rd Qu.:5.100   3rd Qu.:1.800  \n",
       " Max.   :7.900   Max.   :4.400   Max.   :6.900   Max.   :2.500  \n",
       "       Species  \n",
       " setosa    :50  \n",
       " versicolor:50  \n",
       " virginica :50  \n",
       "                \n",
       "                \n",
       "                "
      ]
     },
     "metadata": {},
     "output_type": "display_data"
    }
   ],
   "source": [
    "summary(iris)"
   ]
  },
  {
   "cell_type": "code",
   "execution_count": 64,
   "metadata": {
    "vscode": {
     "languageId": "r"
    }
   },
   "outputs": [
    {
     "name": "stdout",
     "output_type": "stream",
     "text": [
      "  [1] \"setosa\"     \"setosa\"     \"setosa\"     \"setosa\"     \"setosa\"    \n",
      "  [6] \"setosa\"     \"setosa\"     \"setosa\"     \"setosa\"     \"setosa\"    \n",
      " [11] \"setosa\"     \"setosa\"     \"setosa\"     \"setosa\"     \"setosa\"    \n",
      " [16] \"setosa\"     \"setosa\"     \"setosa\"     \"setosa\"     \"setosa\"    \n",
      " [21] \"setosa\"     \"setosa\"     \"setosa\"     \"setosa\"     \"setosa\"    \n",
      " [26] \"setosa\"     \"setosa\"     \"setosa\"     \"setosa\"     \"setosa\"    \n",
      " [31] \"setosa\"     \"setosa\"     \"setosa\"     \"setosa\"     \"setosa\"    \n",
      " [36] \"setosa\"     \"setosa\"     \"setosa\"     \"setosa\"     \"setosa\"    \n",
      " [41] \"setosa\"     \"setosa\"     \"setosa\"     \"setosa\"     \"setosa\"    \n",
      " [46] \"setosa\"     \"setosa\"     \"setosa\"     \"setosa\"     \"setosa\"    \n",
      " [51] \"versicolor\" \"versicolor\" \"versicolor\" \"versicolor\" \"versicolor\"\n",
      " [56] \"versicolor\" \"versicolor\" \"versicolor\" \"versicolor\" \"versicolor\"\n",
      " [61] \"versicolor\" \"versicolor\" \"versicolor\" \"versicolor\" \"versicolor\"\n",
      " [66] \"versicolor\" \"versicolor\" \"versicolor\" \"versicolor\" \"versicolor\"\n",
      " [71] \"versicolor\" \"versicolor\" \"versicolor\" \"versicolor\" \"versicolor\"\n",
      " [76] \"versicolor\" \"versicolor\" \"versicolor\" \"versicolor\" \"versicolor\"\n",
      " [81] \"versicolor\" \"versicolor\" \"versicolor\" \"versicolor\" \"versicolor\"\n",
      " [86] \"versicolor\" \"versicolor\" \"versicolor\" \"versicolor\" \"versicolor\"\n",
      " [91] \"versicolor\" \"versicolor\" \"versicolor\" \"versicolor\" \"versicolor\"\n",
      " [96] \"versicolor\" \"versicolor\" \"versicolor\" \"versicolor\" \"versicolor\"\n",
      "[101] \"virginica\"  \"virginica\"  \"virginica\"  \"virginica\"  \"virginica\" \n",
      "[106] \"virginica\"  \"virginica\"  \"virginica\"  \"virginica\"  \"virginica\" \n",
      "[111] \"virginica\"  \"virginica\"  \"virginica\"  \"virginica\"  \"virginica\" \n",
      "[116] \"virginica\"  \"virginica\"  \"virginica\"  \"virginica\"  \"virginica\" \n",
      "[121] \"virginica\"  \"virginica\"  \"virginica\"  \"virginica\"  \"virginica\" \n",
      "[126] \"virginica\"  \"virginica\"  \"virginica\"  \"virginica\"  \"virginica\" \n",
      "[131] \"virginica\"  \"virginica\"  \"virginica\"  \"virginica\"  \"virginica\" \n",
      "[136] \"virginica\"  \"virginica\"  \"virginica\"  \"virginica\"  \"virginica\" \n",
      "[141] \"virginica\"  \"virginica\"  \"virginica\"  \"virginica\"  \"virginica\" \n",
      "[146] \"virginica\"  \"virginica\"  \"virginica\"  \"virginica\"  \"virginica\" \n",
      "  [1] 1 1 1 1 1 1 1 1 1 1 1 1 1 1 1 1 1 1 1 1 1 1 1 1 1 1 1 1 1 1 1 1 1 1 1 1 1\n",
      " [38] 1 1 1 1 1 1 1 1 1 1 1 1 1 2 2 2 2 2 2 2 2 2 2 2 2 2 2 2 2 2 2 2 2 2 2 2 2\n",
      " [75] 2 2 2 2 2 2 2 2 2 2 2 2 2 2 2 2 2 2 2 2 2 2 2 2 2 2 3 3 3 3 3 3 3 3 3 3 3\n",
      "[112] 3 3 3 3 3 3 3 3 3 3 3 3 3 3 3 3 3 3 3 3 3 3 3 3 3 3 3 3 3 3 3 3 3 3 3 3 3\n",
      "[149] 3 3\n"
     ]
    }
   ],
   "source": [
    "# factor Type인 Species에서 문자와 숫자로 각각 가져오기 (as.)\n",
    "print(as.character(iris$Species))\n",
    "print(as.numeric(iris$Species))"
   ]
  },
  {
   "cell_type": "markdown",
   "metadata": {},
   "source": [
    "---\n",
    "# 벡터 계산"
   ]
  },
  {
   "cell_type": "code",
   "execution_count": 65,
   "metadata": {
    "vscode": {
     "languageId": "r"
    }
   },
   "outputs": [
    {
     "name": "stdout",
     "output_type": "stream",
     "text": [
      "[1]  4  7 10 13 16\n"
     ]
    }
   ],
   "source": [
    "x <- c(3, 6, 9, 12, 15)\n",
    "print(x + 1)"
   ]
  },
  {
   "cell_type": "code",
   "execution_count": 66,
   "metadata": {
    "vscode": {
     "languageId": "r"
    }
   },
   "outputs": [
    {
     "name": "stdout",
     "output_type": "stream",
     "text": [
      "[1]  4  8 12 16 20\n"
     ]
    }
   ],
   "source": [
    "print(x + 1:5)  # 각 번지수마다 1에서 5까지 순서대로 더해줌"
   ]
  },
  {
   "cell_type": "code",
   "execution_count": 67,
   "metadata": {
    "vscode": {
     "languageId": "r"
    }
   },
   "outputs": [
    {
     "name": "stderr",
     "output_type": "stream",
     "text": [
      "Warning message in x + 1:2:\n",
      "“두 객체의 길이가 서로 배수관계에 있지 않습니다”"
     ]
    },
    {
     "name": "stdout",
     "output_type": "stream",
     "text": [
      "[1]  4  8 10 14 16\n"
     ]
    }
   ],
   "source": [
    "print(x + 1:2)  # 계산은 가능하나 데이터가 엉망이 된다"
   ]
  },
  {
   "cell_type": "code",
   "execution_count": 69,
   "metadata": {
    "vscode": {
     "languageId": "r"
    }
   },
   "outputs": [
    {
     "data": {
      "text/html": [
       "<ol class=list-inline>\n",
       "\t<li>3</li>\n",
       "\t<li>5</li>\n",
       "\t<li>6</li>\n",
       "\t<li>12</li>\n",
       "\t<li>15</li>\n",
       "\t<li>1</li>\n",
       "\t<li>2</li>\n",
       "\t<li>3</li>\n",
       "\t<li>4</li>\n",
       "\t<li>5</li>\n",
       "</ol>\n"
      ],
      "text/latex": [
       "\\begin{enumerate*}\n",
       "\\item 3\n",
       "\\item 5\n",
       "\\item 6\n",
       "\\item 12\n",
       "\\item 15\n",
       "\\item 1\n",
       "\\item 2\n",
       "\\item 3\n",
       "\\item 4\n",
       "\\item 5\n",
       "\\end{enumerate*}\n"
      ],
      "text/markdown": [
       "1. 3\n",
       "2. 5\n",
       "3. 6\n",
       "4. 12\n",
       "5. 15\n",
       "6. 1\n",
       "7. 2\n",
       "8. 3\n",
       "9. 4\n",
       "10. 5\n",
       "\n",
       "\n"
      ],
      "text/plain": [
       " [1]  3  5  6 12 15  1  2  3  4  5"
      ]
     },
     "metadata": {},
     "output_type": "display_data"
    }
   ],
   "source": [
    "# 벡터 합치기\n",
    "x <- c(3,5,6,12,15)\n",
    "y <- 1:5\n",
    "append(x,y) # == union all"
   ]
  },
  {
   "cell_type": "code",
   "execution_count": 71,
   "metadata": {
    "vscode": {
     "languageId": "r"
    }
   },
   "outputs": [
    {
     "data": {
      "text/html": [
       "300"
      ],
      "text/latex": [
       "300"
      ],
      "text/markdown": [
       "300"
      ],
      "text/plain": [
       "[1] 300"
      ]
     },
     "metadata": {},
     "output_type": "display_data"
    }
   ],
   "source": [
    "length(append(iris$Sepal.Length, iris$Sepal.Width))"
   ]
  },
  {
   "cell_type": "code",
   "execution_count": 73,
   "metadata": {
    "vscode": {
     "languageId": "r"
    }
   },
   "outputs": [
    {
     "data": {
      "text/html": [
       "300"
      ],
      "text/latex": [
       "300"
      ],
      "text/markdown": [
       "300"
      ],
      "text/plain": [
       "[1] 300"
      ]
     },
     "metadata": {},
     "output_type": "display_data"
    }
   ],
   "source": [
    "length(c(iris$Sepal.Length, iris$Sepal.Width))"
   ]
  },
  {
   "cell_type": "code",
   "execution_count": 79,
   "metadata": {
    "vscode": {
     "languageId": "r"
    }
   },
   "outputs": [
    {
     "name": "stdout",
     "output_type": "stream",
     "text": [
      " [1] 5.1 4.9 4.7 4.6 5.0 5.4 4.4 4.8 4.3 5.8 5.7 5.2 5.5 4.5 5.3 7.0 6.4 6.9 6.5\n",
      "[20] 6.3 6.6 5.9 6.0 6.1 5.6 6.7 6.2 6.8 7.1 7.6 7.3 7.2 7.7 7.4 7.9\n"
     ]
    },
    {
     "data": {
      "text/html": [
       "23.33"
      ],
      "text/latex": [
       "23.33"
      ],
      "text/markdown": [
       "23.33"
      ],
      "text/plain": [
       "[1] 23.33"
      ]
     },
     "metadata": {},
     "output_type": "display_data"
    }
   ],
   "source": [
    "# iris의 Sepal.Length의 중복되지 않은 갯수의 percent 구하기\n",
    "print(unique(iris$Sepal.Length))\n",
    "round((length(unique(iris$Sepal.Length))/length(iris$Sepal.Length))*100, 2)"
   ]
  },
  {
   "cell_type": "code",
   "execution_count": 86,
   "metadata": {
    "vscode": {
     "languageId": "r"
    }
   },
   "outputs": [
    {
     "data": {
      "text/html": [
       "76.67"
      ],
      "text/latex": [
       "76.67"
      ],
      "text/markdown": [
       "76.67"
      ],
      "text/plain": [
       "[1] 76.67"
      ]
     },
     "metadata": {},
     "output_type": "display_data"
    }
   ],
   "source": [
    "# iris 의 Sepal.Length의 중복된 갯수의 Persent 구하기\n",
    "round((length(iris$Sepal.Length)-length(unique(iris$Sepal.Length)))/length(iris$Sepal.Length)*100,2)"
   ]
  },
  {
   "cell_type": "markdown",
   "metadata": {},
   "source": [
    "\n",
    "# 문자열 관련 함수"
   ]
  },
  {
   "cell_type": "code",
   "execution_count": 90,
   "metadata": {
    "vscode": {
     "languageId": "r"
    }
   },
   "outputs": [
    {
     "name": "stdout",
     "output_type": "stream",
     "text": [
      "[1] \"a\" \"b\" \"c\" \"d\" \"e\"\n",
      "[1] \"a\" \"b\"\n"
     ]
    },
    {
     "data": {
      "text/html": [
       "'a b'"
      ],
      "text/latex": [
       "'a b'"
      ],
      "text/markdown": [
       "'a b'"
      ],
      "text/plain": [
       "[1] \"a b\""
      ]
     },
     "metadata": {},
     "output_type": "display_data"
    }
   ],
   "source": [
    "x <- c('a', 'b', 'c', 'd', 'e')\n",
    "print(x)\n",
    "print(x[1:2])\n",
    "\n",
    "# 문자열 합치는 함수 : 한 칸씩 띄워서 이어줌\n",
    "paste(x[1], x[2])"
   ]
  },
  {
   "cell_type": "code",
   "execution_count": 91,
   "metadata": {
    "vscode": {
     "languageId": "r"
    }
   },
   "outputs": [
    {
     "data": {
      "text/html": [
       "'Hello World!'"
      ],
      "text/latex": [
       "'Hello World!'"
      ],
      "text/markdown": [
       "'Hello World!'"
      ],
      "text/plain": [
       "[1] \"Hello World!\""
      ]
     },
     "metadata": {},
     "output_type": "display_data"
    }
   ],
   "source": [
    "paste(\"Hello\", \"World!\")"
   ]
  },
  {
   "cell_type": "code",
   "execution_count": 109,
   "metadata": {
    "vscode": {
     "languageId": "r"
    }
   },
   "outputs": [
    {
     "data": {
      "text/html": [
       "'setosa : versicolor : virginica'"
      ],
      "text/latex": [
       "'setosa : versicolor : virginica'"
      ],
      "text/markdown": [
       "'setosa : versicolor : virginica'"
      ],
      "text/plain": [
       "[1] \"setosa : versicolor : virginica\""
      ]
     },
     "metadata": {},
     "output_type": "display_data"
    }
   ],
   "source": [
    "# iris의 1, 51, 101번의 Species만 한꺼번에 출력하기\n",
    "\n",
    "paste(iris$Species[1], \":\", iris$Species[51], \":\",iris$Species[101])"
   ]
  },
  {
   "cell_type": "code",
   "execution_count": 113,
   "metadata": {
    "vscode": {
     "languageId": "r"
    }
   },
   "outputs": [
    {
     "name": "stdout",
     "output_type": "stream",
     "text": [
      "Hello \n",
      "World!"
     ]
    }
   ],
   "source": [
    "# 문자열 출력\n",
    "cat(\"Hello \\nWorld!\")   # \\n \\t 존재"
   ]
  },
  {
   "cell_type": "code",
   "execution_count": 114,
   "metadata": {
    "vscode": {
     "languageId": "r"
    }
   },
   "outputs": [
    {
     "name": "stdout",
     "output_type": "stream",
     "text": [
      "90\t80\t70"
     ]
    }
   ],
   "source": [
    "cat(\"90\\t80\\t70\")"
   ]
  },
  {
   "cell_type": "code",
   "execution_count": 118,
   "metadata": {
    "vscode": {
     "languageId": "r"
    }
   },
   "outputs": [
    {
     "data": {
      "text/html": [
       "'01011112222'"
      ],
      "text/latex": [
       "'01011112222'"
      ],
      "text/markdown": [
       "'01011112222'"
      ],
      "text/plain": [
       "[1] \"01011112222\""
      ]
     },
     "metadata": {},
     "output_type": "display_data"
    }
   ],
   "source": [
    "paste(\"010\",\"1111\",\"2222\", sep=\"\")  # sep : 구분"
   ]
  },
  {
   "cell_type": "code",
   "execution_count": null,
   "metadata": {
    "vscode": {
     "languageId": "r"
    }
   },
   "outputs": [],
   "source": []
  }
 ],
 "metadata": {
  "kernelspec": {
   "display_name": "R",
   "language": "R",
   "name": "ir"
  },
  "language_info": {
   "codemirror_mode": "r",
   "file_extension": ".r",
   "mimetype": "text/x-r-source",
   "name": "R",
   "pygments_lexer": "r",
   "version": "3.6.1"
  },
  "orig_nbformat": 4
 },
 "nbformat": 4,
 "nbformat_minor": 2
}
