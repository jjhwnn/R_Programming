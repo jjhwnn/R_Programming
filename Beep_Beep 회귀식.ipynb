{
 "cells": [
  {
   "cell_type": "code",
   "execution_count": null,
   "id": "8e474ea8",
   "metadata": {},
   "outputs": [],
   "source": [
    "## 결국쓸것!!!\n",
    "# Coefficients:\n",
    "#                  Estimate    Std. Error t value             Pr(>|t|)    \n",
    "# (Intercept) 47.1182014327 12.0937658225   3.896             0.000213 ***\n",
    "# 출발시간     4.0947305058  0.2461894344  16.632 < 0.0000000000000002 ***\n",
    "# 연휴길이     6.7492103116  2.8277394174   2.387             0.019553 *  \n",
    "# 눈비TRUE    15.0803763701  5.0709612761   2.974             0.003968 ** \n",
    "# X1종.교통량  0.0000003768  0.0000001139   3.309             0.001449 ** \n",
    "# X2종.교통량 -0.0000184675  0.0000027828  -6.636        0.00000000465 ***\n",
    "# —\n",
    "# Signif. codes:  0 ‘***’ 0.001 ‘**’ 0.01 ‘*’ 0.05 ‘.’ 0.1 ‘ ’ 1\n",
    "\n",
    "# Residual standard error: 9.175 on 74 degrees of freedom\n",
    "# Multiple R-squared:  0.851,\tAdjusted R-squared:  0.8409 \n",
    "# F-statistic: 84.51 on 5 and 74 DF,  p-value: < 0.00000000000000022"
   ]
  },
  {
   "cell_type": "code",
   "execution_count": null,
   "id": "0472e50b",
   "metadata": {},
   "outputs": [],
   "source": [
    "4.0947305058 + 6.7492103116 + 15.0803763701 + 0.0000003768 + (-0.0000184675) + 47.1182014327"
   ]
  },
  {
   "cell_type": "code",
   "execution_count": null,
   "id": "e96f1544",
   "metadata": {},
   "outputs": [],
   "source": [
    "list('hstart'=4.0947305058)"
   ]
  },
  {
   "cell_type": "code",
   "execution_count": 12,
   "id": "1239f5cf",
   "metadata": {},
   "outputs": [
    {
     "data": {
      "text/html": [
       "<table>\n",
       "<thead><tr><th scope=col>X</th><th scope=col>출발시간</th><th scope=col>연휴길이</th><th scope=col>눈비</th><th scope=col>X1종</th><th scope=col>X2종</th><th scope=col>b</th></tr></thead>\n",
       "<tbody>\n",
       "\t<tr><td>dday         </td><td>4.094731     </td><td>6.74921      </td><td>15.08038     </td><td>0.0000003768 </td><td>-0.0000184675</td><td>47.1182      </td></tr>\n",
       "</tbody>\n",
       "</table>\n"
      ],
      "text/latex": [
       "\\begin{tabular}{r|lllllll}\n",
       " X & 출발시간 & 연휴길이 & 눈비 & X1종 & X2종 & b\\\\\n",
       "\\hline\n",
       "\t dday          & 4.094731      & 6.74921       & 15.08038      & 0.0000003768  & -0.0000184675 & 47.1182      \\\\\n",
       "\\end{tabular}\n"
      ],
      "text/markdown": [
       "\n",
       "| X | 출발시간 | 연휴길이 | 눈비 | X1종 | X2종 | b |\n",
       "|---|---|---|---|---|---|---|\n",
       "| dday          | 4.094731      | 6.74921       | 15.08038      | 0.0000003768  | -0.0000184675 | 47.1182       |\n",
       "\n"
      ],
      "text/plain": [
       "  X    출발시간 연휴길이 눈비     X1종         X2종          b      \n",
       "1 dday 4.094731 6.74921  15.08038 0.0000003768 -0.0000184675 47.1182"
      ]
     },
     "metadata": {},
     "output_type": "display_data"
    }
   ],
   "source": [
    "options(scipen= 100)\n",
    "ddayb19 <- read.csv(\"/usr/local/Tomcat/webapps/ROOT/Flutter/ddaybefore19.csv\", fileEncoding=\"utf-8\")\n",
    "head(ddayb19)"
   ]
  },
  {
   "cell_type": "code",
   "execution_count": 15,
   "id": "0ee8dd7a",
   "metadata": {},
   "outputs": [],
   "source": [
    "result <- as.character(ddayb19$출발시간*0 + ddayb19$연휴길이*3 + ddayb19$눈비*1 +\n",
    "                      ddayb19$X1종*3793419 + ddayb19$X2종*229419 + ddayb19$b\n",
    "                      )"
   ]
  },
  {
   "cell_type": "code",
   "execution_count": 16,
   "id": "aa35ea47",
   "metadata": {},
   "outputs": [
    {
     "data": {
      "text/html": [
       "'79.6387736342'"
      ],
      "text/latex": [
       "'79.6387736342'"
      ],
      "text/markdown": [
       "'79.6387736342'"
      ],
      "text/plain": [
       "[1] \"79.6387736342\""
      ]
     },
     "metadata": {},
     "output_type": "display_data"
    }
   ],
   "source": []
  },
  {
   "cell_type": "code",
   "execution_count": 18,
   "id": "8197cae6",
   "metadata": {},
   "outputs": [
    {
     "data": {
      "text/html": [
       "70.4637736342"
      ],
      "text/latex": [
       "70.4637736342"
      ],
      "text/markdown": [
       "70.4637736342"
      ],
      "text/plain": [
       "[1] 70.46377"
      ]
     },
     "metadata": {},
     "output_type": "display_data"
    },
    {
     "data": {
      "text/html": [
       "88.8137736342"
      ],
      "text/latex": [
       "88.8137736342"
      ],
      "text/markdown": [
       "88.8137736342"
      ],
      "text/plain": [
       "[1] 88.81377"
      ]
     },
     "metadata": {},
     "output_type": "display_data"
    }
   ],
   "source": [
    "as.numeric(result)-9.175\n",
    "as.numeric(result)+9.175"
   ]
  },
  {
   "cell_type": "code",
   "execution_count": null,
   "id": "0dabe6fa",
   "metadata": {},
   "outputs": [],
   "source": []
  }
 ],
 "metadata": {
  "kernelspec": {
   "display_name": "R",
   "language": "R",
   "name": "ir"
  },
  "language_info": {
   "codemirror_mode": "r",
   "file_extension": ".r",
   "mimetype": "text/x-r-source",
   "name": "R",
   "pygments_lexer": "r",
   "version": "3.6.1"
  }
 },
 "nbformat": 4,
 "nbformat_minor": 5
}
