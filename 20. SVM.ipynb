{
 "cells": [
  {
   "cell_type": "code",
   "execution_count": 1,
   "id": "3aea9ba0",
   "metadata": {},
   "outputs": [],
   "source": [
    "# Anaconda Navigator에서 e1071 설치"
   ]
  },
  {
   "cell_type": "code",
   "execution_count": 26,
   "id": "010077db",
   "metadata": {},
   "outputs": [],
   "source": [
    "library(e1071)"
   ]
  },
  {
   "cell_type": "code",
   "execution_count": 42,
   "id": "038e4d7c",
   "metadata": {
    "collapsed": true
   },
   "outputs": [
    {
     "data": {
      "text/html": [
       "<table>\n",
       "<thead><tr><th scope=col>Sepal.Length</th><th scope=col>Sepal.Width</th><th scope=col>Petal.Length</th><th scope=col>Petal.Width</th></tr></thead>\n",
       "<tbody>\n",
       "\t<tr><td>-0.8976739 </td><td> 1.01560199</td><td>-1.335752  </td><td>-1.311052  </td></tr>\n",
       "\t<tr><td>-1.1392005 </td><td>-0.13153881</td><td>-1.335752  </td><td>-1.311052  </td></tr>\n",
       "\t<tr><td>-1.3807271 </td><td> 0.32731751</td><td>-1.392399  </td><td>-1.311052  </td></tr>\n",
       "\t<tr><td>-1.5014904 </td><td> 0.09788935</td><td>-1.279104  </td><td>-1.311052  </td></tr>\n",
       "\t<tr><td>-1.0184372 </td><td> 1.24503015</td><td>-1.335752  </td><td>-1.311052  </td></tr>\n",
       "\t<tr><td>-0.5353840 </td><td> 1.93331463</td><td>-1.165809  </td><td>-1.048667  </td></tr>\n",
       "</tbody>\n",
       "</table>\n"
      ],
      "text/latex": [
       "\\begin{tabular}{llll}\n",
       " Sepal.Length & Sepal.Width & Petal.Length & Petal.Width\\\\\n",
       "\\hline\n",
       "\t -0.8976739  &  1.01560199 & -1.335752   & -1.311052  \\\\\n",
       "\t -1.1392005  & -0.13153881 & -1.335752   & -1.311052  \\\\\n",
       "\t -1.3807271  &  0.32731751 & -1.392399   & -1.311052  \\\\\n",
       "\t -1.5014904  &  0.09788935 & -1.279104   & -1.311052  \\\\\n",
       "\t -1.0184372  &  1.24503015 & -1.335752   & -1.311052  \\\\\n",
       "\t -0.5353840  &  1.93331463 & -1.165809   & -1.048667  \\\\\n",
       "\\end{tabular}\n"
      ],
      "text/markdown": [
       "\n",
       "| Sepal.Length | Sepal.Width | Petal.Length | Petal.Width |\n",
       "|---|---|---|---|\n",
       "| -0.8976739  |  1.01560199 | -1.335752   | -1.311052   |\n",
       "| -1.1392005  | -0.13153881 | -1.335752   | -1.311052   |\n",
       "| -1.3807271  |  0.32731751 | -1.392399   | -1.311052   |\n",
       "| -1.5014904  |  0.09788935 | -1.279104   | -1.311052   |\n",
       "| -1.0184372  |  1.24503015 | -1.335752   | -1.311052   |\n",
       "| -0.5353840  |  1.93331463 | -1.165809   | -1.048667   |\n",
       "\n"
      ],
      "text/plain": [
       "     Sepal.Length Sepal.Width Petal.Length Petal.Width\n",
       "[1,] -0.8976739    1.01560199 -1.335752    -1.311052  \n",
       "[2,] -1.1392005   -0.13153881 -1.335752    -1.311052  \n",
       "[3,] -1.3807271    0.32731751 -1.392399    -1.311052  \n",
       "[4,] -1.5014904    0.09788935 -1.279104    -1.311052  \n",
       "[5,] -1.0184372    1.24503015 -1.335752    -1.311052  \n",
       "[6,] -0.5353840    1.93331463 -1.165809    -1.048667  "
      ]
     },
     "metadata": {},
     "output_type": "display_data"
    },
    {
     "data": {
      "text/plain": [
       "  Sepal.Length        Sepal.Width       Petal.Length        Petal.Width      \n",
       " Min.   :-1.863780   Min.   :-1.9670   Min.   :-1.505695   Min.   :-1.44224  \n",
       " 1st Qu.:-0.897674   1st Qu.:-0.5904   1st Qu.:-1.222456   1st Qu.:-1.17986  \n",
       " Median :-0.052331   Median :-0.1315   Median : 0.307030   Median : 0.13207  \n",
       " Mean   : 0.004025   Mean   :-0.0354   Mean   :-0.005341   Mean   :-0.01287  \n",
       " 3rd Qu.: 0.672249   3rd Qu.: 0.5567   3rd Qu.: 0.760212   3rd Qu.: 0.78803  \n",
       " Max.   : 2.483699   Max.   : 3.0805   Max.   : 1.779869   Max.   : 1.70638  \n",
       "       Species  \n",
       " setosa    :35  \n",
       " versicolor:35  \n",
       " virginica :35  \n",
       "                \n",
       "                \n",
       "                "
      ]
     },
     "metadata": {},
     "output_type": "display_data"
    },
    {
     "data": {
      "text/plain": [
       "  Sepal.Length        Sepal.Width        Petal.Length       Petal.Width      \n",
       " Min.   :-1.743017   Min.   :-2.42582   Min.   :-1.56234   Min.   :-1.44224  \n",
       " 1st Qu.:-0.897674   1st Qu.:-0.59040   1st Qu.:-1.22246   1st Qu.:-1.17986  \n",
       " Median :-0.052331   Median : 0.09789   Median : 0.53362   Median : 0.26326  \n",
       " Mean   :-0.009393   Mean   : 0.08259   Mean   : 0.01246   Mean   : 0.03003  \n",
       " 3rd Qu.: 0.793012   3rd Qu.: 0.78617   3rd Qu.: 0.76021   3rd Qu.: 0.91922  \n",
       " Max.   : 2.242172   Max.   : 2.39217   Max.   : 1.66657   Max.   : 1.70638  \n",
       "       Species  \n",
       " setosa    :15  \n",
       " versicolor:15  \n",
       " virginica :15  \n",
       "                \n",
       "                \n",
       "                "
      ]
     },
     "metadata": {},
     "output_type": "display_data"
    }
   ],
   "source": [
    "# sampling, 학습용, 검증용 만들기\n",
    "library(caret)\n",
    "\n",
    "set.seed(1234)\n",
    "\n",
    "# 정규화\n",
    "iris2 <- scale(iris[,-5])\n",
    "head(iris2)\n",
    "\n",
    "# 정규화된 iris데이터프레임 작업\n",
    "iris3 <- data.frame(Sepal.Length=iris2[,1], Sepal.Width=iris2[,2],\n",
    "                      Petal.Length=iris2[,3], Petal.Width=iris2[,4])\n",
    "\n",
    "# iris Species 추가\n",
    "iris3$Species <- iris$Species\n",
    "\n",
    "# 샘플링\n",
    "samp <- createDataPartition(iris3$Species, p=0.7, list=F)\n",
    "\n",
    "# 훈련 데이타\n",
    "data.tr <- iris3[samp,]\n",
    "summary(data.tr)\n",
    "\n",
    "# 테스트 데이터\n",
    "data.test <- iris3[-samp,]\n",
    "summary(data.test)"
   ]
  },
  {
   "cell_type": "code",
   "execution_count": 35,
   "id": "6c31954f",
   "metadata": {},
   "outputs": [],
   "source": [
    "# 문제와 정답 만들기\n",
    "x <- subset(data.test, select = -Species)\n",
    "y <- data.test$Species"
   ]
  },
  {
   "cell_type": "code",
   "execution_count": 36,
   "id": "6944f35f",
   "metadata": {},
   "outputs": [],
   "source": [
    "#학습시키기\n",
    "model.svm = svm(Species ~ ., data=data.tr)"
   ]
  },
  {
   "cell_type": "code",
   "execution_count": 37,
   "id": "da76b0f9",
   "metadata": {},
   "outputs": [
    {
     "data": {
      "text/html": [
       "<dl class=dl-horizontal>\n",
       "\t<dt>1</dt>\n",
       "\t\t<dd>setosa</dd>\n",
       "\t<dt>7</dt>\n",
       "\t\t<dd>setosa</dd>\n",
       "\t<dt>10</dt>\n",
       "\t\t<dd>setosa</dd>\n",
       "\t<dt>11</dt>\n",
       "\t\t<dd>setosa</dd>\n",
       "\t<dt>13</dt>\n",
       "\t\t<dd>setosa</dd>\n",
       "\t<dt>17</dt>\n",
       "\t\t<dd>setosa</dd>\n",
       "</dl>\n",
       "\n",
       "<details>\n",
       "\t<summary style=display:list-item;cursor:pointer>\n",
       "\t\t<strong>Levels</strong>:\n",
       "\t</summary>\n",
       "\t<ol class=list-inline>\n",
       "\t\t<li>'setosa'</li>\n",
       "\t\t<li>'versicolor'</li>\n",
       "\t\t<li>'virginica'</li>\n",
       "\t</ol>\n",
       "</details>"
      ],
      "text/latex": [
       "\\begin{description*}\n",
       "\\item[1] setosa\n",
       "\\item[7] setosa\n",
       "\\item[10] setosa\n",
       "\\item[11] setosa\n",
       "\\item[13] setosa\n",
       "\\item[17] setosa\n",
       "\\end{description*}\n",
       "\n",
       "\\emph{Levels}: \\begin{enumerate*}\n",
       "\\item 'setosa'\n",
       "\\item 'versicolor'\n",
       "\\item 'virginica'\n",
       "\\end{enumerate*}\n"
      ],
      "text/markdown": [
       "1\n",
       ":   setosa7\n",
       ":   setosa10\n",
       ":   setosa11\n",
       ":   setosa13\n",
       ":   setosa17\n",
       ":   setosa\n",
       "\n",
       "\n",
       "**Levels**: 1. 'setosa'\n",
       "2. 'versicolor'\n",
       "3. 'virginica'\n",
       "\n",
       "\n"
      ],
      "text/plain": [
       "     1      7     10     11     13     17 \n",
       "setosa setosa setosa setosa setosa setosa \n",
       "Levels: setosa versicolor virginica"
      ]
     },
     "metadata": {},
     "output_type": "display_data"
    }
   ],
   "source": [
    "# 검증하기\n",
    "pred <- predict(model.svm, x, type=\"class\")\n",
    "head(pred)\n"
   ]
  },
  {
   "cell_type": "code",
   "execution_count": 39,
   "id": "552fcb36",
   "metadata": {},
   "outputs": [
    {
     "data": {
      "text/html": [
       "0.933333333333333"
      ],
      "text/latex": [
       "0.933333333333333"
      ],
      "text/markdown": [
       "0.933333333333333"
      ],
      "text/plain": [
       "[1] 0.9333333"
      ]
     },
     "metadata": {},
     "output_type": "display_data"
    },
    {
     "data": {
      "text/plain": [
       "            y\n",
       "pred         setosa versicolor virginica\n",
       "  setosa         15          0         0\n",
       "  versicolor      0         13         1\n",
       "  virginica       0          2        14"
      ]
     },
     "metadata": {},
     "output_type": "display_data"
    }
   ],
   "source": [
    "# 예측율 및 오분류표\n",
    "mean(pred == y)\n",
    "table(pred, y)"
   ]
  },
  {
   "cell_type": "code",
   "execution_count": null,
   "id": "f052cc15",
   "metadata": {},
   "outputs": [],
   "source": []
  },
  {
   "cell_type": "code",
   "execution_count": null,
   "id": "6a791819",
   "metadata": {},
   "outputs": [],
   "source": []
  },
  {
   "cell_type": "code",
   "execution_count": null,
   "id": "566f8dff",
   "metadata": {},
   "outputs": [],
   "source": []
  },
  {
   "cell_type": "code",
   "execution_count": null,
   "id": "34be1861",
   "metadata": {},
   "outputs": [],
   "source": []
  }
 ],
 "metadata": {
  "kernelspec": {
   "display_name": "R",
   "language": "R",
   "name": "ir"
  },
  "language_info": {
   "codemirror_mode": "r",
   "file_extension": ".r",
   "mimetype": "text/x-r-source",
   "name": "R",
   "pygments_lexer": "r",
   "version": "3.6.1"
  }
 },
 "nbformat": 4,
 "nbformat_minor": 5
}
